{
 "cells": [
  {
   "cell_type": "markdown",
   "metadata": {},
   "source": [
    "# Our world in data Dataset"
   ]
  },
  {
   "cell_type": "code",
   "execution_count": 1,
   "metadata": {},
   "outputs": [],
   "source": [
    "import pandas as pd"
   ]
  },
  {
   "cell_type": "code",
   "execution_count": 2,
   "metadata": {},
   "outputs": [
    {
     "data": {
      "text/html": [
       "<div>\n",
       "<style scoped>\n",
       "    .dataframe tbody tr th:only-of-type {\n",
       "        vertical-align: middle;\n",
       "    }\n",
       "\n",
       "    .dataframe tbody tr th {\n",
       "        vertical-align: top;\n",
       "    }\n",
       "\n",
       "    .dataframe thead th {\n",
       "        text-align: right;\n",
       "    }\n",
       "</style>\n",
       "<table border=\"1\" class=\"dataframe\">\n",
       "  <thead>\n",
       "    <tr style=\"text-align: right;\">\n",
       "      <th></th>\n",
       "      <th>HPI Rank</th>\n",
       "      <th>Country</th>\n",
       "      <th>Region</th>\n",
       "      <th>Life Expectancy (years)</th>\n",
       "      <th>Wellbeing (0-10)</th>\n",
       "      <th>Inequality of outcomes</th>\n",
       "      <th>Ecological Footprint (gha/capita)</th>\n",
       "      <th>Happy Planet Index</th>\n",
       "    </tr>\n",
       "  </thead>\n",
       "  <tbody>\n",
       "    <tr>\n",
       "      <th>0</th>\n",
       "      <td>1</td>\n",
       "      <td>Costa Rica</td>\n",
       "      <td>Americas</td>\n",
       "      <td>79.1</td>\n",
       "      <td>7.3</td>\n",
       "      <td>15%</td>\n",
       "      <td>2.8</td>\n",
       "      <td>44.7</td>\n",
       "    </tr>\n",
       "    <tr>\n",
       "      <th>1</th>\n",
       "      <td>2</td>\n",
       "      <td>Mexico</td>\n",
       "      <td>Americas</td>\n",
       "      <td>76.4</td>\n",
       "      <td>7.3</td>\n",
       "      <td>19%</td>\n",
       "      <td>2.9</td>\n",
       "      <td>40.7</td>\n",
       "    </tr>\n",
       "    <tr>\n",
       "      <th>2</th>\n",
       "      <td>3</td>\n",
       "      <td>Colombia</td>\n",
       "      <td>Americas</td>\n",
       "      <td>73.7</td>\n",
       "      <td>6.4</td>\n",
       "      <td>24%</td>\n",
       "      <td>1.9</td>\n",
       "      <td>40.7</td>\n",
       "    </tr>\n",
       "    <tr>\n",
       "      <th>3</th>\n",
       "      <td>4</td>\n",
       "      <td>Vanuatu</td>\n",
       "      <td>Asia Pacific</td>\n",
       "      <td>71.3</td>\n",
       "      <td>6.5</td>\n",
       "      <td>22%</td>\n",
       "      <td>1.9</td>\n",
       "      <td>40.6</td>\n",
       "    </tr>\n",
       "    <tr>\n",
       "      <th>4</th>\n",
       "      <td>5</td>\n",
       "      <td>Vietnam</td>\n",
       "      <td>Asia Pacific</td>\n",
       "      <td>75.5</td>\n",
       "      <td>5.5</td>\n",
       "      <td>19%</td>\n",
       "      <td>1.7</td>\n",
       "      <td>40.3</td>\n",
       "    </tr>\n",
       "  </tbody>\n",
       "</table>\n",
       "</div>"
      ],
      "text/plain": [
       "   HPI Rank     Country        Region  Life Expectancy (years)  \\\n",
       "0         1  Costa Rica      Americas                     79.1   \n",
       "1         2      Mexico      Americas                     76.4   \n",
       "2         3    Colombia      Americas                     73.7   \n",
       "3         4     Vanuatu  Asia Pacific                     71.3   \n",
       "4         5     Vietnam  Asia Pacific                     75.5   \n",
       "\n",
       "   Wellbeing (0-10) Inequality of outcomes  Ecological Footprint (gha/capita)  \\\n",
       "0               7.3                    15%                                2.8   \n",
       "1               7.3                    19%                                2.9   \n",
       "2               6.4                    24%                                1.9   \n",
       "3               6.5                    22%                                1.9   \n",
       "4               5.5                    19%                                1.7   \n",
       "\n",
       "   Happy Planet Index  \n",
       "0                44.7  \n",
       "1                40.7  \n",
       "2                40.7  \n",
       "3                40.6  \n",
       "4                40.3  "
      ]
     },
     "execution_count": 2,
     "metadata": {},
     "output_type": "execute_result"
    }
   ],
   "source": [
    "#Download the data from Github repo \n",
    "hpi_url = \"https://raw.githubusercontent.com/TrainingByPackt/Interactive-Data-Visualization-with-Python/master/datasets/hpi_data_countries.tsv\"\n",
    "\n",
    "# Once downloaded, read it into a dataframe using pandas\n",
    "hpi_df = pd.read_csv(hpi_url, sep='\\t')\n",
    "hpi_df.head()\n"
   ]
  },
  {
   "cell_type": "code",
   "execution_count": null,
   "metadata": {},
   "outputs": [],
   "source": []
  }
 ],
 "metadata": {
  "kernelspec": {
   "display_name": "Python 3",
   "language": "python",
   "name": "python3"
  },
  "language_info": {
   "codemirror_mode": {
    "name": "ipython",
    "version": 3
   },
   "file_extension": ".py",
   "mimetype": "text/x-python",
   "name": "python",
   "nbconvert_exporter": "python",
   "pygments_lexer": "ipython3",
   "version": "3.7.3"
  }
 },
 "nbformat": 4,
 "nbformat_minor": 2
}

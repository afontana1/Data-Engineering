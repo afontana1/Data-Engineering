{
 "cells": [
  {
   "cell_type": "code",
   "execution_count": 3,
   "metadata": {},
   "outputs": [],
   "source": [
    "import altair as alt\n",
    "import pandas as pd"
   ]
  },
  {
   "cell_type": "code",
   "execution_count": 4,
   "metadata": {},
   "outputs": [],
   "source": [
    "hpi_url = \"https://raw.githubusercontent.com/TrainingByPackt/Interactive-Data-Visualization-with-Python/master/datasets/hpi_data_countries.tsv\"\n",
    "#read it into a DataFrame using pandas\n",
    "hpi_df = pd.read_csv(hpi_url, sep='\\t')"
   ]
  },
  {
   "cell_type": "code",
   "execution_count": 5,
   "metadata": {},
   "outputs": [
    {
     "data": {
      "application/vnd.vegalite.v3+json": {
       "$schema": "https://vega.github.io/schema/vega-lite/v3.4.0.json",
       "config": {
        "mark": {
         "tooltip": null
        },
        "view": {
         "height": 300,
         "width": 400
        }
       },
       "data": {
        "name": "data-06c1dbec64553b487ce4599ce4c93c9b"
       },
       "datasets": {
        "data-06c1dbec64553b487ce4599ce4c93c9b": [
         {
          "Country": "Costa Rica",
          "Ecological Footprint (gha/capita)": 2.8,
          "HPI Rank": 1,
          "Happy Planet Index": 44.7,
          "Inequality of outcomes": "15%",
          "Life Expectancy (years)": 79.1,
          "Region": "Americas",
          "Wellbeing (0-10)": 7.3
         },
         {
          "Country": "Mexico",
          "Ecological Footprint (gha/capita)": 2.9,
          "HPI Rank": 2,
          "Happy Planet Index": 40.7,
          "Inequality of outcomes": "19%",
          "Life Expectancy (years)": 76.4,
          "Region": "Americas",
          "Wellbeing (0-10)": 7.3
         },
         {
          "Country": "Colombia",
          "Ecological Footprint (gha/capita)": 1.9,
          "HPI Rank": 3,
          "Happy Planet Index": 40.7,
          "Inequality of outcomes": "24%",
          "Life Expectancy (years)": 73.7,
          "Region": "Americas",
          "Wellbeing (0-10)": 6.4
         },
         {
          "Country": "Vanuatu",
          "Ecological Footprint (gha/capita)": 1.9,
          "HPI Rank": 4,
          "Happy Planet Index": 40.6,
          "Inequality of outcomes": "22%",
          "Life Expectancy (years)": 71.3,
          "Region": "Asia Pacific",
          "Wellbeing (0-10)": 6.5
         },
         {
          "Country": "Vietnam",
          "Ecological Footprint (gha/capita)": 1.7,
          "HPI Rank": 5,
          "Happy Planet Index": 40.3,
          "Inequality of outcomes": "19%",
          "Life Expectancy (years)": 75.5,
          "Region": "Asia Pacific",
          "Wellbeing (0-10)": 5.5
         },
         {
          "Country": "Panama",
          "Ecological Footprint (gha/capita)": 2.8,
          "HPI Rank": 6,
          "Happy Planet Index": 39.5,
          "Inequality of outcomes": "19%",
          "Life Expectancy (years)": 77.2,
          "Region": "Americas",
          "Wellbeing (0-10)": 6.9
         },
         {
          "Country": "Nicaragua",
          "Ecological Footprint (gha/capita)": 1.4,
          "HPI Rank": 7,
          "Happy Planet Index": 38.7,
          "Inequality of outcomes": "25%",
          "Life Expectancy (years)": 74.3,
          "Region": "Americas",
          "Wellbeing (0-10)": 5.4
         },
         {
          "Country": "Bangladesh",
          "Ecological Footprint (gha/capita)": 0.7,
          "HPI Rank": 8,
          "Happy Planet Index": 38.4,
          "Inequality of outcomes": "27%",
          "Life Expectancy (years)": 70.8,
          "Region": "Asia Pacific",
          "Wellbeing (0-10)": 4.7
         },
         {
          "Country": "Thailand",
          "Ecological Footprint (gha/capita)": 2.7,
          "HPI Rank": 9,
          "Happy Planet Index": 37.3,
          "Inequality of outcomes": "15%",
          "Life Expectancy (years)": 74.1,
          "Region": "Asia Pacific",
          "Wellbeing (0-10)": 6.3
         },
         {
          "Country": "Ecuador",
          "Ecological Footprint (gha/capita)": 2.2,
          "HPI Rank": 10,
          "Happy Planet Index": 37,
          "Inequality of outcomes": "22%",
          "Life Expectancy (years)": 75.4,
          "Region": "Americas",
          "Wellbeing (0-10)": 6
         },
         {
          "Country": "Jamaica",
          "Ecological Footprint (gha/capita)": 1.9,
          "HPI Rank": 11,
          "Happy Planet Index": 36.9,
          "Inequality of outcomes": "21%",
          "Life Expectancy (years)": 75.3,
          "Region": "Americas",
          "Wellbeing (0-10)": 5.6
         },
         {
          "Country": "Norway",
          "Ecological Footprint (gha/capita)": 5,
          "HPI Rank": 12,
          "Happy Planet Index": 36.8,
          "Inequality of outcomes": "7%",
          "Life Expectancy (years)": 81.3,
          "Region": "Europe",
          "Wellbeing (0-10)": 7.7
         },
         {
          "Country": "Albania",
          "Ecological Footprint (gha/capita)": 2.2,
          "HPI Rank": 13,
          "Happy Planet Index": 36.8,
          "Inequality of outcomes": "17%",
          "Life Expectancy (years)": 77.3,
          "Region": "Post-communist",
          "Wellbeing (0-10)": 5.5
         },
         {
          "Country": "Uruguay",
          "Ecological Footprint (gha/capita)": 2.9,
          "HPI Rank": 14,
          "Happy Planet Index": 36.1,
          "Inequality of outcomes": "18%",
          "Life Expectancy (years)": 76.9,
          "Region": "Americas",
          "Wellbeing (0-10)": 6.4
         },
         {
          "Country": "Spain",
          "Ecological Footprint (gha/capita)": 3.7,
          "HPI Rank": 15,
          "Happy Planet Index": 36,
          "Inequality of outcomes": "10%",
          "Life Expectancy (years)": 82.2,
          "Region": "Europe",
          "Wellbeing (0-10)": 6.3
         },
         {
          "Country": "Indonesia",
          "Ecological Footprint (gha/capita)": 1.6,
          "HPI Rank": 16,
          "Happy Planet Index": 35.7,
          "Inequality of outcomes": "21%",
          "Life Expectancy (years)": 68.5,
          "Region": "Asia Pacific",
          "Wellbeing (0-10)": 5.4
         },
         {
          "Country": "El Salvador",
          "Ecological Footprint (gha/capita)": 2.1,
          "HPI Rank": 17,
          "Happy Planet Index": 35.6,
          "Inequality of outcomes": "22%",
          "Life Expectancy (years)": 72.5,
          "Region": "Americas",
          "Wellbeing (0-10)": 5.9
         },
         {
          "Country": "Netherlands",
          "Ecological Footprint (gha/capita)": 5.3,
          "HPI Rank": 18,
          "Happy Planet Index": 35.3,
          "Inequality of outcomes": "4%",
          "Life Expectancy (years)": 81.2,
          "Region": "Europe",
          "Wellbeing (0-10)": 7.5
         },
         {
          "Country": "Argentina",
          "Ecological Footprint (gha/capita)": 3.1,
          "HPI Rank": 19,
          "Happy Planet Index": 35.2,
          "Inequality of outcomes": "16%",
          "Life Expectancy (years)": 75.9,
          "Region": "Americas",
          "Wellbeing (0-10)": 6.5
         },
         {
          "Country": "Philippines",
          "Ecological Footprint (gha/capita)": 1.1,
          "HPI Rank": 20,
          "Happy Planet Index": 35,
          "Inequality of outcomes": "26%",
          "Life Expectancy (years)": 67.9,
          "Region": "Asia Pacific",
          "Wellbeing (0-10)": 5
         },
         {
          "Country": "Peru",
          "Ecological Footprint (gha/capita)": 2.3,
          "HPI Rank": 21,
          "Happy Planet Index": 34.6,
          "Inequality of outcomes": "21%",
          "Life Expectancy (years)": 74.1,
          "Region": "Americas",
          "Wellbeing (0-10)": 5.8
         },
         {
          "Country": "Palestine",
          "Ecological Footprint (gha/capita)": 1.2,
          "HPI Rank": 22,
          "Happy Planet Index": 34.5,
          "Inequality of outcomes": "24%",
          "Life Expectancy (years)": 72.6,
          "Region": "Middle East and North Africa",
          "Wellbeing (0-10)": 4.6
         },
         {
          "Country": "Brazil",
          "Ecological Footprint (gha/capita)": 3.1,
          "HPI Rank": 23,
          "Happy Planet Index": 34.3,
          "Inequality of outcomes": "22%",
          "Life Expectancy (years)": 73.9,
          "Region": "Americas",
          "Wellbeing (0-10)": 6.9
         },
         {
          "Country": "Switzerland",
          "Ecological Footprint (gha/capita)": 5.8,
          "HPI Rank": 24,
          "Happy Planet Index": 34.3,
          "Inequality of outcomes": "6%",
          "Life Expectancy (years)": 82.6,
          "Region": "Europe",
          "Wellbeing (0-10)": 7.8
         },
         {
          "Country": "Tajikistan",
          "Ecological Footprint (gha/capita)": 0.9,
          "HPI Rank": 25,
          "Happy Planet Index": 34.2,
          "Inequality of outcomes": "26%",
          "Life Expectancy (years)": 69,
          "Region": "Post-communist",
          "Wellbeing (0-10)": 4.5
         },
         {
          "Country": "Guatemala",
          "Ecological Footprint (gha/capita)": 1.9,
          "HPI Rank": 26,
          "Happy Planet Index": 34.2,
          "Inequality of outcomes": "27%",
          "Life Expectancy (years)": 71.4,
          "Region": "Americas",
          "Wellbeing (0-10)": 5.9
         },
         {
          "Country": "Belize",
          "Ecological Footprint (gha/capita)": 2.5,
          "HPI Rank": 27,
          "Happy Planet Index": 33.8,
          "Inequality of outcomes": "18%",
          "Life Expectancy (years)": 69.8,
          "Region": "Americas",
          "Wellbeing (0-10)": 6.1
         },
         {
          "Country": "Sri Lanka",
          "Ecological Footprint (gha/capita)": 1.3,
          "HPI Rank": 28,
          "Happy Planet Index": 33.8,
          "Inequality of outcomes": "17%",
          "Life Expectancy (years)": 74.6,
          "Region": "Asia Pacific",
          "Wellbeing (0-10)": 4.2
         },
         {
          "Country": "Venezuela",
          "Ecological Footprint (gha/capita)": 3.6,
          "HPI Rank": 29,
          "Happy Planet Index": 33.6,
          "Inequality of outcomes": "19%",
          "Life Expectancy (years)": 73.9,
          "Region": "Americas",
          "Wellbeing (0-10)": 7.1
         },
         {
          "Country": "Algeria",
          "Ecological Footprint (gha/capita)": 2.1,
          "HPI Rank": 30,
          "Happy Planet Index": 33.3,
          "Inequality of outcomes": "24%",
          "Life Expectancy (years)": 74.3,
          "Region": "Middle East and North Africa",
          "Wellbeing (0-10)": 5.6
         },
         {
          "Country": "Kyrgyzstan",
          "Ecological Footprint (gha/capita)": 1.9,
          "HPI Rank": 31,
          "Happy Planet Index": 33.1,
          "Inequality of outcomes": "18%",
          "Life Expectancy (years)": 69.7,
          "Region": "Post-communist",
          "Wellbeing (0-10)": 5.2
         },
         {
          "Country": "Denmark",
          "Ecological Footprint (gha/capita)": 5.5,
          "HPI Rank": 32,
          "Happy Planet Index": 32.7,
          "Inequality of outcomes": "7%",
          "Life Expectancy (years)": 79.8,
          "Region": "Europe",
          "Wellbeing (0-10)": 7.5
         },
         {
          "Country": "Morocco",
          "Ecological Footprint (gha/capita)": 1.7,
          "HPI Rank": 33,
          "Happy Planet Index": 32.7,
          "Inequality of outcomes": "25%",
          "Life Expectancy (years)": 73.4,
          "Region": "Middle East and North Africa",
          "Wellbeing (0-10)": 5
         },
         {
          "Country": "United Kingdom",
          "Ecological Footprint (gha/capita)": 4.9,
          "HPI Rank": 34,
          "Happy Planet Index": 31.9,
          "Inequality of outcomes": "9%",
          "Life Expectancy (years)": 80.4,
          "Region": "Europe",
          "Wellbeing (0-10)": 6.9
         },
         {
          "Country": "Chile",
          "Ecological Footprint (gha/capita)": 4.4,
          "HPI Rank": 35,
          "Happy Planet Index": 31.7,
          "Inequality of outcomes": "14%",
          "Life Expectancy (years)": 81.1,
          "Region": "Americas",
          "Wellbeing (0-10)": 6.6
         },
         {
          "Country": "Pakistan",
          "Ecological Footprint (gha/capita)": 0.8,
          "HPI Rank": 36,
          "Happy Planet Index": 31.5,
          "Inequality of outcomes": "40%",
          "Life Expectancy (years)": 65.7,
          "Region": "Asia Pacific",
          "Wellbeing (0-10)": 5.1
         },
         {
          "Country": "Finland",
          "Ecological Footprint (gha/capita)": 5.9,
          "HPI Rank": 37,
          "Happy Planet Index": 31.3,
          "Inequality of outcomes": "6%",
          "Life Expectancy (years)": 80.4,
          "Region": "Europe",
          "Wellbeing (0-10)": 7.4
         },
         {
          "Country": "New Zealand",
          "Ecological Footprint (gha/capita)": 5.6,
          "HPI Rank": 38,
          "Happy Planet Index": 31.3,
          "Inequality of outcomes": "8%",
          "Life Expectancy (years)": 81.4,
          "Region": "Asia Pacific",
          "Wellbeing (0-10)": 7.2
         },
         {
          "Country": "Iceland",
          "Ecological Footprint (gha/capita)": 6.4,
          "HPI Rank": 39,
          "Happy Planet Index": 31.1,
          "Inequality of outcomes": "5%",
          "Life Expectancy (years)": 82.2,
          "Region": "Europe",
          "Wellbeing (0-10)": 7.6
         },
         {
          "Country": "Georgia",
          "Ecological Footprint (gha/capita)": 1.6,
          "HPI Rank": 40,
          "Happy Planet Index": 31.1,
          "Inequality of outcomes": "20%",
          "Life Expectancy (years)": 74.6,
          "Region": "Post-communist",
          "Wellbeing (0-10)": 4.3
         },
         {
          "Country": "Cyprus",
          "Ecological Footprint (gha/capita)": 4.2,
          "HPI Rank": 41,
          "Happy Planet Index": 30.7,
          "Inequality of outcomes": "12%",
          "Life Expectancy (years)": 79.8,
          "Region": "Europe",
          "Wellbeing (0-10)": 6.2
         },
         {
          "Country": "Nepal",
          "Ecological Footprint (gha/capita)": 1,
          "HPI Rank": 42,
          "Happy Planet Index": 30.5,
          "Inequality of outcomes": "27%",
          "Life Expectancy (years)": 68.8,
          "Region": "Asia Pacific",
          "Wellbeing (0-10)": 4.2
         },
         {
          "Country": "Austria",
          "Ecological Footprint (gha/capita)": 6.1,
          "HPI Rank": 43,
          "Happy Planet Index": 30.5,
          "Inequality of outcomes": "7%",
          "Life Expectancy (years)": 81,
          "Region": "Europe",
          "Wellbeing (0-10)": 7.4
         },
         {
          "Country": "France",
          "Ecological Footprint (gha/capita)": 5.1,
          "HPI Rank": 44,
          "Happy Planet Index": 30.4,
          "Inequality of outcomes": "9%",
          "Life Expectancy (years)": 81.8,
          "Region": "Europe",
          "Wellbeing (0-10)": 6.6
         },
         {
          "Country": "Dominican Republic",
          "Ecological Footprint (gha/capita)": 1.5,
          "HPI Rank": 45,
          "Happy Planet Index": 30.3,
          "Inequality of outcomes": "30%",
          "Life Expectancy (years)": 73.1,
          "Region": "Americas",
          "Wellbeing (0-10)": 4.8
         },
         {
          "Country": "Malaysia",
          "Ecological Footprint (gha/capita)": 3.7,
          "HPI Rank": 46,
          "Happy Planet Index": 30.3,
          "Inequality of outcomes": "10%",
          "Life Expectancy (years)": 74.4,
          "Region": "Asia Pacific",
          "Wellbeing (0-10)": 5.9
         },
         {
          "Country": "Croatia",
          "Ecological Footprint (gha/capita)": 3.9,
          "HPI Rank": 47,
          "Happy Planet Index": 30.2,
          "Inequality of outcomes": "12%",
          "Life Expectancy (years)": 77,
          "Region": "Post-communist",
          "Wellbeing (0-10)": 6
         },
         {
          "Country": "Ireland",
          "Ecological Footprint (gha/capita)": 5.6,
          "HPI Rank": 48,
          "Happy Planet Index": 30,
          "Inequality of outcomes": "8%",
          "Life Expectancy (years)": 80.5,
          "Region": "Europe",
          "Wellbeing (0-10)": 7
         },
         {
          "Country": "Germany",
          "Ecological Footprint (gha/capita)": 5.3,
          "HPI Rank": 49,
          "Happy Planet Index": 29.8,
          "Inequality of outcomes": "8%",
          "Life Expectancy (years)": 80.6,
          "Region": "Europe",
          "Wellbeing (0-10)": 6.7
         },
         {
          "Country": "India",
          "Ecological Footprint (gha/capita)": 1.2,
          "HPI Rank": 50,
          "Happy Planet Index": 29.2,
          "Inequality of outcomes": "31%",
          "Life Expectancy (years)": 67.3,
          "Region": "Asia Pacific",
          "Wellbeing (0-10)": 4.6
         },
         {
          "Country": "Uzbekistan",
          "Ecological Footprint (gha/capita)": 2.3,
          "HPI Rank": 51,
          "Happy Planet Index": 29.1,
          "Inequality of outcomes": "30%",
          "Life Expectancy (years)": 68.2,
          "Region": "Post-communist",
          "Wellbeing (0-10)": 6
         },
         {
          "Country": "Serbia",
          "Ecological Footprint (gha/capita)": 2.7,
          "HPI Rank": 52,
          "Happy Planet Index": 29,
          "Inequality of outcomes": "19%",
          "Life Expectancy (years)": 74.5,
          "Region": "Post-communist",
          "Wellbeing (0-10)": 5.2
         },
         {
          "Country": "Malta",
          "Ecological Footprint (gha/capita)": 4.4,
          "HPI Rank": 53,
          "Happy Planet Index": 29,
          "Inequality of outcomes": "13%",
          "Life Expectancy (years)": 80.2,
          "Region": "Europe",
          "Wellbeing (0-10)": 6
         },
         {
          "Country": "Israel",
          "Ecological Footprint (gha/capita)": 6.2,
          "HPI Rank": 54,
          "Happy Planet Index": 28.8,
          "Inequality of outcomes": "8%",
          "Life Expectancy (years)": 81.9,
          "Region": "Middle East and North Africa",
          "Wellbeing (0-10)": 7.1
         },
         {
          "Country": "Romania",
          "Ecological Footprint (gha/capita)": 2.7,
          "HPI Rank": 55,
          "Happy Planet Index": 28.8,
          "Inequality of outcomes": "19%",
          "Life Expectancy (years)": 74.3,
          "Region": "Post-communist",
          "Wellbeing (0-10)": 5.2
         },
         {
          "Country": "Bhutan",
          "Ecological Footprint (gha/capita)": 2.3,
          "HPI Rank": 56,
          "Happy Planet Index": 28.6,
          "Inequality of outcomes": "27%",
          "Life Expectancy (years)": 68.7,
          "Region": "Asia Pacific",
          "Wellbeing (0-10)": 5.6
         },
         {
          "Country": "Haiti",
          "Ecological Footprint (gha/capita)": 0.6,
          "HPI Rank": 57,
          "Happy Planet Index": 28.6,
          "Inequality of outcomes": "37%",
          "Life Expectancy (years)": 62.1,
          "Region": "Americas",
          "Wellbeing (0-10)": 4.4
         },
         {
          "Country": "Japan",
          "Ecological Footprint (gha/capita)": 5,
          "HPI Rank": 58,
          "Happy Planet Index": 28.3,
          "Inequality of outcomes": "9%",
          "Life Expectancy (years)": 83.2,
          "Region": "Asia Pacific",
          "Wellbeing (0-10)": 6
         },
         {
          "Country": "Slovakia",
          "Ecological Footprint (gha/capita)": 4.1,
          "HPI Rank": 59,
          "Happy Planet Index": 28.2,
          "Inequality of outcomes": "13%",
          "Life Expectancy (years)": 75.9,
          "Region": "Post-communist",
          "Wellbeing (0-10)": 5.9
         },
         {
          "Country": "Italy",
          "Ecological Footprint (gha/capita)": 4.6,
          "HPI Rank": 60,
          "Happy Planet Index": 28.1,
          "Inequality of outcomes": "12%",
          "Life Expectancy (years)": 82.7,
          "Region": "Europe",
          "Wellbeing (0-10)": 5.8
         },
         {
          "Country": "Sweden",
          "Ecological Footprint (gha/capita)": 7.3,
          "HPI Rank": 61,
          "Happy Planet Index": 28,
          "Inequality of outcomes": "6%",
          "Life Expectancy (years)": 81.8,
          "Region": "Europe",
          "Wellbeing (0-10)": 7.6
         },
         {
          "Country": "Poland",
          "Ecological Footprint (gha/capita)": 4.4,
          "HPI Rank": 62,
          "Happy Planet Index": 27.5,
          "Inequality of outcomes": "11%",
          "Life Expectancy (years)": 76.9,
          "Region": "Post-communist",
          "Wellbeing (0-10)": 5.9
         },
         {
          "Country": "Mauritius",
          "Ecological Footprint (gha/capita)": 3.5,
          "HPI Rank": 63,
          "Happy Planet Index": 27.4,
          "Inequality of outcomes": "17%",
          "Life Expectancy (years)": 74,
          "Region": "Sub Saharan Africa",
          "Wellbeing (0-10)": 5.5
         },
         {
          "Country": "Czech Republic",
          "Ecological Footprint (gha/capita)": 5.2,
          "HPI Rank": 64,
          "Happy Planet Index": 27.3,
          "Inequality of outcomes": "9%",
          "Life Expectancy (years)": 78.2,
          "Region": "Post-communist",
          "Wellbeing (0-10)": 6.3
         },
         {
          "Country": "Honduras",
          "Ecological Footprint (gha/capita)": 1.7,
          "HPI Rank": 65,
          "Happy Planet Index": 27.2,
          "Inequality of outcomes": "31%",
          "Life Expectancy (years)": 72.8,
          "Region": "Americas",
          "Wellbeing (0-10)": 4.6
         },
         {
          "Country": "Ethiopia",
          "Ecological Footprint (gha/capita)": 1,
          "HPI Rank": 66,
          "Happy Planet Index": 26.7,
          "Inequality of outcomes": "36%",
          "Life Expectancy (years)": 62.8,
          "Region": "Sub Saharan Africa",
          "Wellbeing (0-10)": 4.6
         },
         {
          "Country": "Iraq",
          "Ecological Footprint (gha/capita)": 1.9,
          "HPI Rank": 67,
          "Happy Planet Index": 26.5,
          "Inequality of outcomes": "27%",
          "Life Expectancy (years)": 69,
          "Region": "Middle East and North Africa",
          "Wellbeing (0-10)": 4.7
         },
         {
          "Country": "Turkey",
          "Ecological Footprint (gha/capita)": 3.3,
          "HPI Rank": 68,
          "Happy Planet Index": 26.4,
          "Inequality of outcomes": "19%",
          "Life Expectancy (years)": 74.7,
          "Region": "Middle East and North Africa",
          "Wellbeing (0-10)": 5.3
         },
         {
          "Country": "Hungary",
          "Ecological Footprint (gha/capita)": 2.9,
          "HPI Rank": 69,
          "Happy Planet Index": 26.4,
          "Inequality of outcomes": "15%",
          "Life Expectancy (years)": 74.9,
          "Region": "Post-communist",
          "Wellbeing (0-10)": 4.7
         },
         {
          "Country": "Ukraine",
          "Ecological Footprint (gha/capita)": 2.8,
          "HPI Rank": 70,
          "Happy Planet Index": 26.4,
          "Inequality of outcomes": "17%",
          "Life Expectancy (years)": 70.3,
          "Region": "Post-communist",
          "Wellbeing (0-10)": 5
         },
         {
          "Country": "Tunisia",
          "Ecological Footprint (gha/capita)": 2.3,
          "HPI Rank": 71,
          "Happy Planet Index": 26.2,
          "Inequality of outcomes": "22%",
          "Life Expectancy (years)": 74.6,
          "Region": "Middle East and North Africa",
          "Wellbeing (0-10)": 4.5
         },
         {
          "Country": "China",
          "Ecological Footprint (gha/capita)": 3.4,
          "HPI Rank": 72,
          "Happy Planet Index": 25.7,
          "Inequality of outcomes": "17%",
          "Life Expectancy (years)": 75.4,
          "Region": "Asia Pacific",
          "Wellbeing (0-10)": 5.1
         },
         {
          "Country": "Armenia",
          "Ecological Footprint (gha/capita)": 2.2,
          "HPI Rank": 73,
          "Happy Planet Index": 25.7,
          "Inequality of outcomes": "22%",
          "Life Expectancy (years)": 74.4,
          "Region": "Post-communist",
          "Wellbeing (0-10)": 4.3
         },
         {
          "Country": "Cambodia",
          "Ecological Footprint (gha/capita)": 1.2,
          "HPI Rank": 74,
          "Happy Planet Index": 25.6,
          "Inequality of outcomes": "28%",
          "Life Expectancy (years)": 67.5,
          "Region": "Asia Pacific",
          "Wellbeing (0-10)": 3.9
         },
         {
          "Country": "Suriname",
          "Ecological Footprint (gha/capita)": 4.3,
          "HPI Rank": 75,
          "Happy Planet Index": 25.4,
          "Inequality of outcomes": "19%",
          "Life Expectancy (years)": 70.8,
          "Region": "Americas",
          "Wellbeing (0-10)": 6.3
         },
         {
          "Country": "Bosnia and Herzegovina",
          "Ecological Footprint (gha/capita)": 3.1,
          "HPI Rank": 76,
          "Happy Planet Index": 25.3,
          "Inequality of outcomes": "19%",
          "Life Expectancy (years)": 76.2,
          "Region": "Post-communist",
          "Wellbeing (0-10)": 4.8
         },
         {
          "Country": "Zambia",
          "Ecological Footprint (gha/capita)": 1,
          "HPI Rank": 77,
          "Happy Planet Index": 25.2,
          "Inequality of outcomes": "41%",
          "Life Expectancy (years)": 58.4,
          "Region": "Sub Saharan Africa",
          "Wellbeing (0-10)": 5
         },
         {
          "Country": "Montenegro",
          "Ecological Footprint (gha/capita)": 3.8,
          "HPI Rank": 78,
          "Happy Planet Index": 25.1,
          "Inequality of outcomes": "16%",
          "Life Expectancy (years)": 75.8,
          "Region": "Post-communist",
          "Wellbeing (0-10)": 5.2
         },
         {
          "Country": "Portugal",
          "Ecological Footprint (gha/capita)": 3.9,
          "HPI Rank": 79,
          "Happy Planet Index": 24.8,
          "Inequality of outcomes": "16%",
          "Life Expectancy (years)": 80.3,
          "Region": "Europe",
          "Wellbeing (0-10)": 5
         },
         {
          "Country": "South Korea",
          "Ecological Footprint (gha/capita)": 5.7,
          "HPI Rank": 80,
          "Happy Planet Index": 24.8,
          "Inequality of outcomes": "11%",
          "Life Expectancy (years)": 81.3,
          "Region": "Asia Pacific",
          "Wellbeing (0-10)": 6
         },
         {
          "Country": "Myanmar",
          "Ecological Footprint (gha/capita)": 1.4,
          "HPI Rank": 81,
          "Happy Planet Index": 24.7,
          "Inequality of outcomes": "32%",
          "Life Expectancy (years)": 65.5,
          "Region": "Asia Pacific",
          "Wellbeing (0-10)": 4.4
         },
         {
          "Country": "Slovenia",
          "Ecological Footprint (gha/capita)": 5.8,
          "HPI Rank": 82,
          "Happy Planet Index": 24.6,
          "Inequality of outcomes": "10%",
          "Life Expectancy (years)": 80,
          "Region": "Post-communist",
          "Wellbeing (0-10)": 6.1
         },
         {
          "Country": "Kenya",
          "Ecological Footprint (gha/capita)": 1,
          "HPI Rank": 83,
          "Happy Planet Index": 24.2,
          "Inequality of outcomes": "38%",
          "Life Expectancy (years)": 60.3,
          "Region": "Sub Saharan Africa",
          "Wellbeing (0-10)": 4.5
         },
         {
          "Country": "Iran",
          "Ecological Footprint (gha/capita)": 2.8,
          "HPI Rank": 84,
          "Happy Planet Index": 24,
          "Inequality of outcomes": "23%",
          "Life Expectancy (years)": 74.8,
          "Region": "Middle East and North Africa",
          "Wellbeing (0-10)": 4.6
         },
         {
          "Country": "Canada",
          "Ecological Footprint (gha/capita)": 8.2,
          "HPI Rank": 85,
          "Happy Planet Index": 23.9,
          "Inequality of outcomes": "9%",
          "Life Expectancy (years)": 81.7,
          "Region": "Americas",
          "Wellbeing (0-10)": 7.4
         },
         {
          "Country": "Egypt",
          "Ecological Footprint (gha/capita)": 2.2,
          "HPI Rank": 86,
          "Happy Planet Index": 23.8,
          "Inequality of outcomes": "23%",
          "Life Expectancy (years)": 70.7,
          "Region": "Middle East and North Africa",
          "Wellbeing (0-10)": 4.2
         },
         {
          "Country": "Belgium",
          "Ecological Footprint (gha/capita)": 7.4,
          "HPI Rank": 87,
          "Happy Planet Index": 23.7,
          "Inequality of outcomes": "9%",
          "Life Expectancy (years)": 80.4,
          "Region": "Europe",
          "Wellbeing (0-10)": 6.9
         },
         {
          "Country": "Mozambique",
          "Ecological Footprint (gha/capita)": 0.9,
          "HPI Rank": 88,
          "Happy Planet Index": 23.7,
          "Inequality of outcomes": "43%",
          "Life Expectancy (years)": 54.3,
          "Region": "Sub Saharan Africa",
          "Wellbeing (0-10)": 5
         },
         {
          "Country": "Greece",
          "Ecological Footprint (gha/capita)": 4.4,
          "HPI Rank": 89,
          "Happy Planet Index": 23.6,
          "Inequality of outcomes": "16%",
          "Life Expectancy (years)": 80.5,
          "Region": "Europe",
          "Wellbeing (0-10)": 5.1
         },
         {
          "Country": "Macedonia",
          "Ecological Footprint (gha/capita)": 3.3,
          "HPI Rank": 90,
          "Happy Planet Index": 23.4,
          "Inequality of outcomes": "18%",
          "Life Expectancy (years)": 75.1,
          "Region": "Post-communist",
          "Wellbeing (0-10)": 4.6
         },
         {
          "Country": "Paraguay",
          "Ecological Footprint (gha/capita)": 4.2,
          "HPI Rank": 91,
          "Happy Planet Index": 23.3,
          "Inequality of outcomes": "22%",
          "Life Expectancy (years)": 72.6,
          "Region": "Americas",
          "Wellbeing (0-10)": 5.8
         },
         {
          "Country": "Bolivia",
          "Ecological Footprint (gha/capita)": 3,
          "HPI Rank": 92,
          "Happy Planet Index": 23.3,
          "Inequality of outcomes": "35%",
          "Life Expectancy (years)": 67.5,
          "Region": "Americas",
          "Wellbeing (0-10)": 6
         },
         {
          "Country": "Comoros",
          "Ecological Footprint (gha/capita)": 1,
          "HPI Rank": 93,
          "Happy Planet Index": 23.1,
          "Inequality of outcomes": "36%",
          "Life Expectancy (years)": 62.6,
          "Region": "Sub Saharan Africa",
          "Wellbeing (0-10)": 4
         },
         {
          "Country": "Yemen",
          "Ecological Footprint (gha/capita)": 1,
          "HPI Rank": 94,
          "Happy Planet Index": 22.8,
          "Inequality of outcomes": "39%",
          "Life Expectancy (years)": 63.3,
          "Region": "Middle East and North Africa",
          "Wellbeing (0-10)": 4.1
         },
         {
          "Country": "Nigeria",
          "Ecological Footprint (gha/capita)": 1.2,
          "HPI Rank": 95,
          "Happy Planet Index": 22.2,
          "Inequality of outcomes": "44%",
          "Life Expectancy (years)": 52.1,
          "Region": "Sub Saharan Africa",
          "Wellbeing (0-10)": 5.5
         },
         {
          "Country": "Liberia",
          "Ecological Footprint (gha/capita)": 1.2,
          "HPI Rank": 96,
          "Happy Planet Index": 22.2,
          "Inequality of outcomes": "38%",
          "Life Expectancy (years)": 60.2,
          "Region": "Sub Saharan Africa",
          "Wellbeing (0-10)": 4.4
         },
         {
          "Country": "Tanzania",
          "Ecological Footprint (gha/capita)": 1.3,
          "HPI Rank": 97,
          "Happy Planet Index": 22.1,
          "Inequality of outcomes": "33%",
          "Life Expectancy (years)": 63.5,
          "Region": "Sub Saharan Africa",
          "Wellbeing (0-10)": 4
         },
         {
          "Country": "Malawi",
          "Ecological Footprint (gha/capita)": 0.8,
          "HPI Rank": 98,
          "Happy Planet Index": 22.1,
          "Inequality of outcomes": "45%",
          "Life Expectancy (years)": 60.1,
          "Region": "Sub Saharan Africa",
          "Wellbeing (0-10)": 4.3
         },
         {
          "Country": "Zimbabwe",
          "Ecological Footprint (gha/capita)": 1.4,
          "HPI Rank": 99,
          "Happy Planet Index": 22.1,
          "Inequality of outcomes": "37%",
          "Life Expectancy (years)": 53.7,
          "Region": "Sub Saharan Africa",
          "Wellbeing (0-10)": 5
         },
         {
          "Country": "Lebanon",
          "Ecological Footprint (gha/capita)": 3.8,
          "HPI Rank": 100,
          "Happy Planet Index": 21.9,
          "Inequality of outcomes": "19%",
          "Life Expectancy (years)": 78.8,
          "Region": "Middle East and North Africa",
          "Wellbeing (0-10)": 4.6
         },
         {
          "Country": "Senegal",
          "Ecological Footprint (gha/capita)": 1.2,
          "HPI Rank": 101,
          "Happy Planet Index": 21.9,
          "Inequality of outcomes": "33%",
          "Life Expectancy (years)": 65.4,
          "Region": "Sub Saharan Africa",
          "Wellbeing (0-10)": 3.7
         },
         {
          "Country": "Belarus",
          "Ecological Footprint (gha/capita)": 5.1,
          "HPI Rank": 102,
          "Happy Planet Index": 21.7,
          "Inequality of outcomes": "13%",
          "Life Expectancy (years)": 70.9,
          "Region": "Post-communist",
          "Wellbeing (0-10)": 5.7
         },
         {
          "Country": "Namibia",
          "Ecological Footprint (gha/capita)": 2.5,
          "HPI Rank": 103,
          "Happy Planet Index": 21.6,
          "Inequality of outcomes": "26%",
          "Life Expectancy (years)": 64,
          "Region": "Sub Saharan Africa",
          "Wellbeing (0-10)": 4.7
         },
         {
          "Country": "Ghana",
          "Ecological Footprint (gha/capita)": 2,
          "HPI Rank": 104,
          "Happy Planet Index": 21.4,
          "Inequality of outcomes": "38%",
          "Life Expectancy (years)": 61,
          "Region": "Sub Saharan Africa",
          "Wellbeing (0-10)": 5.1
         },
         {
          "Country": "Australia",
          "Ecological Footprint (gha/capita)": 9.3,
          "HPI Rank": 105,
          "Happy Planet Index": 21.2,
          "Inequality of outcomes": "8%",
          "Life Expectancy (years)": 82.1,
          "Region": "Asia Pacific",
          "Wellbeing (0-10)": 7.2
         },
         {
          "Country": "Oman",
          "Ecological Footprint (gha/capita)": 7.5,
          "HPI Rank": 106,
          "Happy Planet Index": 21.1,
          "Inequality of outcomes": "13%",
          "Life Expectancy (years)": 76.3,
          "Region": "Middle East and North Africa",
          "Wellbeing (0-10)": 6.9
         },
         {
          "Country": "Lithuania",
          "Ecological Footprint (gha/capita)": 5.8,
          "HPI Rank": 107,
          "Happy Planet Index": 21,
          "Inequality of outcomes": "11%",
          "Life Expectancy (years)": 72.8,
          "Region": "Post-communist",
          "Wellbeing (0-10)": 5.8
         },
         {
          "Country": "United States of America",
          "Ecological Footprint (gha/capita)": 8.2,
          "HPI Rank": 108,
          "Happy Planet Index": 20.7,
          "Inequality of outcomes": "13%",
          "Life Expectancy (years)": 78.8,
          "Region": "Americas",
          "Wellbeing (0-10)": 7
         },
         {
          "Country": "Bulgaria",
          "Ecological Footprint (gha/capita)": 3.3,
          "HPI Rank": 109,
          "Happy Planet Index": 20.4,
          "Inequality of outcomes": "19%",
          "Life Expectancy (years)": 73.9,
          "Region": "Post-communist",
          "Wellbeing (0-10)": 4.2
         },
         {
          "Country": "Afghanistan",
          "Ecological Footprint (gha/capita)": 0.8,
          "HPI Rank": 110,
          "Happy Planet Index": 20.2,
          "Inequality of outcomes": "43%",
          "Life Expectancy (years)": 59.7,
          "Region": "Middle East and North Africa",
          "Wellbeing (0-10)": 3.8
         },
         {
          "Country": "Rwanda",
          "Ecological Footprint (gha/capita)": 0.9,
          "HPI Rank": 111,
          "Happy Planet Index": 19.6,
          "Inequality of outcomes": "37%",
          "Life Expectancy (years)": 63.1,
          "Region": "Sub Saharan Africa",
          "Wellbeing (0-10)": 3.3
         },
         {
          "Country": "Uganda",
          "Ecological Footprint (gha/capita)": 1.2,
          "HPI Rank": 112,
          "Happy Planet Index": 19.4,
          "Inequality of outcomes": "41%",
          "Life Expectancy (years)": 57.1,
          "Region": "Sub Saharan Africa",
          "Wellbeing (0-10)": 4.3
         },
         {
          "Country": "Syria",
          "Ecological Footprint (gha/capita)": 1.5,
          "HPI Rank": 113,
          "Happy Planet Index": 19.1,
          "Inequality of outcomes": "30%",
          "Life Expectancy (years)": 70.4,
          "Region": "Middle East and North Africa",
          "Wellbeing (0-10)": 3.2
         },
         {
          "Country": "Kazakhstan",
          "Ecological Footprint (gha/capita)": 5.6,
          "HPI Rank": 114,
          "Happy Planet Index": 19.1,
          "Inequality of outcomes": "18%",
          "Life Expectancy (years)": 68.6,
          "Region": "Post-communist",
          "Wellbeing (0-10)": 5.8
         },
         {
          "Country": "Republic of Congo",
          "Ecological Footprint (gha/capita)": 1.3,
          "HPI Rank": 115,
          "Happy Planet Index": 18.8,
          "Inequality of outcomes": "40%",
          "Life Expectancy (years)": 61,
          "Region": "Sub Saharan Africa",
          "Wellbeing (0-10)": 3.9
         },
         {
          "Country": "Russia",
          "Ecological Footprint (gha/capita)": 5.7,
          "HPI Rank": 116,
          "Happy Planet Index": 18.7,
          "Inequality of outcomes": "16%",
          "Life Expectancy (years)": 69.5,
          "Region": "Post-communist",
          "Wellbeing (0-10)": 5.6
         },
         {
          "Country": "Mauritania",
          "Ecological Footprint (gha/capita)": 2.5,
          "HPI Rank": 117,
          "Happy Planet Index": 18,
          "Inequality of outcomes": "37%",
          "Life Expectancy (years)": 62.6,
          "Region": "Sub Saharan Africa",
          "Wellbeing (0-10)": 4.7
         },
         {
          "Country": "Estonia",
          "Ecological Footprint (gha/capita)": 6.9,
          "HPI Rank": 118,
          "Happy Planet Index": 17.9,
          "Inequality of outcomes": "12%",
          "Life Expectancy (years)": 76.2,
          "Region": "Post-communist",
          "Wellbeing (0-10)": 5.4
         },
         {
          "Country": "Burkina Faso",
          "Ecological Footprint (gha/capita)": 1.2,
          "HPI Rank": 119,
          "Happy Planet Index": 17.9,
          "Inequality of outcomes": "43%",
          "Life Expectancy (years)": 58,
          "Region": "Sub Saharan Africa",
          "Wellbeing (0-10)": 4
         },
         {
          "Country": "Gabon",
          "Ecological Footprint (gha/capita)": 2,
          "HPI Rank": 120,
          "Happy Planet Index": 17.5,
          "Inequality of outcomes": "36%",
          "Life Expectancy (years)": 63.3,
          "Region": "Sub Saharan Africa",
          "Wellbeing (0-10)": 4
         },
         {
          "Country": "Latvia",
          "Ecological Footprint (gha/capita)": 6.3,
          "HPI Rank": 121,
          "Happy Planet Index": 17.1,
          "Inequality of outcomes": "14%",
          "Life Expectancy (years)": 73.6,
          "Region": "Post-communist",
          "Wellbeing (0-10)": 5.1
         },
         {
          "Country": "Niger",
          "Ecological Footprint (gha/capita)": 1.6,
          "HPI Rank": 122,
          "Happy Planet Index": 16.8,
          "Inequality of outcomes": "40%",
          "Life Expectancy (years)": 60,
          "Region": "Sub Saharan Africa",
          "Wellbeing (0-10)": 3.8
         },
         {
          "Country": "Hong Kong",
          "Ecological Footprint (gha/capita)": 8.8,
          "HPI Rank": 123,
          "Happy Planet Index": 16.8,
          "Inequality of outcomes": "10%",
          "Life Expectancy (years)": 83.6,
          "Region": "Asia Pacific",
          "Wellbeing (0-10)": 5.5
         },
         {
          "Country": "Cameroon",
          "Ecological Footprint (gha/capita)": 1.2,
          "HPI Rank": 124,
          "Happy Planet Index": 16.7,
          "Inequality of outcomes": "47%",
          "Life Expectancy (years)": 54.6,
          "Region": "Sub Saharan Africa",
          "Wellbeing (0-10)": 4.2
         },
         {
          "Country": "Lesotho",
          "Ecological Footprint (gha/capita)": 1.7,
          "HPI Rank": 125,
          "Happy Planet Index": 16.7,
          "Inequality of outcomes": "42%",
          "Life Expectancy (years)": 48.9,
          "Region": "Sub Saharan Africa",
          "Wellbeing (0-10)": 4.9
         },
         {
          "Country": "Botswana",
          "Ecological Footprint (gha/capita)": 3.8,
          "HPI Rank": 126,
          "Happy Planet Index": 16.6,
          "Inequality of outcomes": "28%",
          "Life Expectancy (years)": 64.2,
          "Region": "Sub Saharan Africa",
          "Wellbeing (0-10)": 4.8
         },
         {
          "Country": "Djibouti",
          "Ecological Footprint (gha/capita)": 2.2,
          "HPI Rank": 127,
          "Happy Planet Index": 16.4,
          "Inequality of outcomes": "42%",
          "Life Expectancy (years)": 61.3,
          "Region": "Sub Saharan Africa",
          "Wellbeing (0-10)": 4.4
         },
         {
          "Country": "South Africa",
          "Ecological Footprint (gha/capita)": 3.3,
          "HPI Rank": 128,
          "Happy Planet Index": 15.9,
          "Inequality of outcomes": "33%",
          "Life Expectancy (years)": 56.3,
          "Region": "Sub Saharan Africa",
          "Wellbeing (0-10)": 5.1
         },
         {
          "Country": "Guinea",
          "Ecological Footprint (gha/capita)": 1.4,
          "HPI Rank": 129,
          "Happy Planet Index": 15.9,
          "Inequality of outcomes": "42%",
          "Life Expectancy (years)": 57.7,
          "Region": "Sub Saharan Africa",
          "Wellbeing (0-10)": 3.7
         },
         {
          "Country": "Trinidad and Tobago",
          "Ecological Footprint (gha/capita)": 7.9,
          "HPI Rank": 130,
          "Happy Planet Index": 15.7,
          "Inequality of outcomes": "21%",
          "Life Expectancy (years)": 70.1,
          "Region": "Americas",
          "Wellbeing (0-10)": 6.4
         },
         {
          "Country": "Burundi",
          "Ecological Footprint (gha/capita)": 0.8,
          "HPI Rank": 131,
          "Happy Planet Index": 15.6,
          "Inequality of outcomes": "48%",
          "Life Expectancy (years)": 55.8,
          "Region": "Sub Saharan Africa",
          "Wellbeing (0-10)": 3.4
         },
         {
          "Country": "Swaziland",
          "Ecological Footprint (gha/capita)": 2,
          "HPI Rank": 132,
          "Happy Planet Index": 15.5,
          "Inequality of outcomes": "41%",
          "Life Expectancy (years)": 48.9,
          "Region": "Sub Saharan Africa",
          "Wellbeing (0-10)": 4.9
         },
         {
          "Country": "Sierra Leone",
          "Ecological Footprint (gha/capita)": 1.2,
          "HPI Rank": 133,
          "Happy Planet Index": 15.3,
          "Inequality of outcomes": "50%",
          "Life Expectancy (years)": 49.8,
          "Region": "Sub Saharan Africa",
          "Wellbeing (0-10)": 4.5
         },
         {
          "Country": "Turkmenistan",
          "Ecological Footprint (gha/capita)": 5.5,
          "HPI Rank": 134,
          "Happy Planet Index": 14.6,
          "Inequality of outcomes": "31%",
          "Life Expectancy (years)": 65.3,
          "Region": "Post-communist",
          "Wellbeing (0-10)": 5.5
         },
         {
          "Country": "Cote d'Ivoire",
          "Ecological Footprint (gha/capita)": 1.3,
          "HPI Rank": 135,
          "Happy Planet Index": 14.4,
          "Inequality of outcomes": "45%",
          "Life Expectancy (years)": 50.8,
          "Region": "Sub Saharan Africa",
          "Wellbeing (0-10)": 3.8
         },
         {
          "Country": "Mongolia",
          "Ecological Footprint (gha/capita)": 6.1,
          "HPI Rank": 136,
          "Happy Planet Index": 14.3,
          "Inequality of outcomes": "22%",
          "Life Expectancy (years)": 68.6,
          "Region": "Asia Pacific",
          "Wellbeing (0-10)": 4.9
         },
         {
          "Country": "Benin",
          "Ecological Footprint (gha/capita)": 1.4,
          "HPI Rank": 137,
          "Happy Planet Index": 13.4,
          "Inequality of outcomes": "44%",
          "Life Expectancy (years)": 59.2,
          "Region": "Sub Saharan Africa",
          "Wellbeing (0-10)": 3.2
         },
         {
          "Country": "Togo",
          "Ecological Footprint (gha/capita)": 1.1,
          "HPI Rank": 138,
          "Happy Planet Index": 13.2,
          "Inequality of outcomes": "43%",
          "Life Expectancy (years)": 58.6,
          "Region": "Sub Saharan Africa",
          "Wellbeing (0-10)": 2.9
         },
         {
          "Country": "Luxembourg",
          "Ecological Footprint (gha/capita)": 15.8,
          "HPI Rank": 139,
          "Happy Planet Index": 13.2,
          "Inequality of outcomes": "7%",
          "Life Expectancy (years)": 81.1,
          "Region": "Europe",
          "Wellbeing (0-10)": 7
         },
         {
          "Country": "Chad",
          "Ecological Footprint (gha/capita)": 1.5,
          "HPI Rank": 140,
          "Happy Planet Index": 12.8,
          "Inequality of outcomes": "51%",
          "Life Expectancy (years)": 50.8,
          "Region": "Sub Saharan Africa",
          "Wellbeing (0-10)": 4
         }
        ]
       },
       "encoding": {
        "x": {
         "field": "Region",
         "type": "nominal"
        },
        "y": {
         "aggregate": "mean",
         "field": "Happy Planet Index",
         "type": "quantitative"
        }
       },
       "mark": "bar"
      },
      "text/plain": [
       "<VegaLite 3 object>\n",
       "\n",
       "If you see this message, it means the renderer has not been properly enabled\n",
       "for the frontend that you are using. For more information, see\n",
       "https://altair-viz.github.io/user_guide/troubleshooting.html\n"
      ]
     },
     "execution_count": 5,
     "metadata": {},
     "output_type": "execute_result"
    }
   ],
   "source": [
    "alt.Chart(hpi_df).mark_bar().encode(\n",
    "x='Region:N',\n",
    "y='mean(Happy Planet Index):Q',\n",
    ")"
   ]
  },
  {
   "cell_type": "code",
   "execution_count": 6,
   "metadata": {},
   "outputs": [
    {
     "data": {
      "application/vnd.vegalite.v3+json": {
       "$schema": "https://vega.github.io/schema/vega-lite/v3.4.0.json",
       "config": {
        "mark": {
         "tooltip": null
        },
        "view": {
         "height": 300,
         "width": 400
        }
       },
       "data": {
        "name": "data-06c1dbec64553b487ce4599ce4c93c9b"
       },
       "datasets": {
        "data-06c1dbec64553b487ce4599ce4c93c9b": [
         {
          "Country": "Costa Rica",
          "Ecological Footprint (gha/capita)": 2.8,
          "HPI Rank": 1,
          "Happy Planet Index": 44.7,
          "Inequality of outcomes": "15%",
          "Life Expectancy (years)": 79.1,
          "Region": "Americas",
          "Wellbeing (0-10)": 7.3
         },
         {
          "Country": "Mexico",
          "Ecological Footprint (gha/capita)": 2.9,
          "HPI Rank": 2,
          "Happy Planet Index": 40.7,
          "Inequality of outcomes": "19%",
          "Life Expectancy (years)": 76.4,
          "Region": "Americas",
          "Wellbeing (0-10)": 7.3
         },
         {
          "Country": "Colombia",
          "Ecological Footprint (gha/capita)": 1.9,
          "HPI Rank": 3,
          "Happy Planet Index": 40.7,
          "Inequality of outcomes": "24%",
          "Life Expectancy (years)": 73.7,
          "Region": "Americas",
          "Wellbeing (0-10)": 6.4
         },
         {
          "Country": "Vanuatu",
          "Ecological Footprint (gha/capita)": 1.9,
          "HPI Rank": 4,
          "Happy Planet Index": 40.6,
          "Inequality of outcomes": "22%",
          "Life Expectancy (years)": 71.3,
          "Region": "Asia Pacific",
          "Wellbeing (0-10)": 6.5
         },
         {
          "Country": "Vietnam",
          "Ecological Footprint (gha/capita)": 1.7,
          "HPI Rank": 5,
          "Happy Planet Index": 40.3,
          "Inequality of outcomes": "19%",
          "Life Expectancy (years)": 75.5,
          "Region": "Asia Pacific",
          "Wellbeing (0-10)": 5.5
         },
         {
          "Country": "Panama",
          "Ecological Footprint (gha/capita)": 2.8,
          "HPI Rank": 6,
          "Happy Planet Index": 39.5,
          "Inequality of outcomes": "19%",
          "Life Expectancy (years)": 77.2,
          "Region": "Americas",
          "Wellbeing (0-10)": 6.9
         },
         {
          "Country": "Nicaragua",
          "Ecological Footprint (gha/capita)": 1.4,
          "HPI Rank": 7,
          "Happy Planet Index": 38.7,
          "Inequality of outcomes": "25%",
          "Life Expectancy (years)": 74.3,
          "Region": "Americas",
          "Wellbeing (0-10)": 5.4
         },
         {
          "Country": "Bangladesh",
          "Ecological Footprint (gha/capita)": 0.7,
          "HPI Rank": 8,
          "Happy Planet Index": 38.4,
          "Inequality of outcomes": "27%",
          "Life Expectancy (years)": 70.8,
          "Region": "Asia Pacific",
          "Wellbeing (0-10)": 4.7
         },
         {
          "Country": "Thailand",
          "Ecological Footprint (gha/capita)": 2.7,
          "HPI Rank": 9,
          "Happy Planet Index": 37.3,
          "Inequality of outcomes": "15%",
          "Life Expectancy (years)": 74.1,
          "Region": "Asia Pacific",
          "Wellbeing (0-10)": 6.3
         },
         {
          "Country": "Ecuador",
          "Ecological Footprint (gha/capita)": 2.2,
          "HPI Rank": 10,
          "Happy Planet Index": 37,
          "Inequality of outcomes": "22%",
          "Life Expectancy (years)": 75.4,
          "Region": "Americas",
          "Wellbeing (0-10)": 6
         },
         {
          "Country": "Jamaica",
          "Ecological Footprint (gha/capita)": 1.9,
          "HPI Rank": 11,
          "Happy Planet Index": 36.9,
          "Inequality of outcomes": "21%",
          "Life Expectancy (years)": 75.3,
          "Region": "Americas",
          "Wellbeing (0-10)": 5.6
         },
         {
          "Country": "Norway",
          "Ecological Footprint (gha/capita)": 5,
          "HPI Rank": 12,
          "Happy Planet Index": 36.8,
          "Inequality of outcomes": "7%",
          "Life Expectancy (years)": 81.3,
          "Region": "Europe",
          "Wellbeing (0-10)": 7.7
         },
         {
          "Country": "Albania",
          "Ecological Footprint (gha/capita)": 2.2,
          "HPI Rank": 13,
          "Happy Planet Index": 36.8,
          "Inequality of outcomes": "17%",
          "Life Expectancy (years)": 77.3,
          "Region": "Post-communist",
          "Wellbeing (0-10)": 5.5
         },
         {
          "Country": "Uruguay",
          "Ecological Footprint (gha/capita)": 2.9,
          "HPI Rank": 14,
          "Happy Planet Index": 36.1,
          "Inequality of outcomes": "18%",
          "Life Expectancy (years)": 76.9,
          "Region": "Americas",
          "Wellbeing (0-10)": 6.4
         },
         {
          "Country": "Spain",
          "Ecological Footprint (gha/capita)": 3.7,
          "HPI Rank": 15,
          "Happy Planet Index": 36,
          "Inequality of outcomes": "10%",
          "Life Expectancy (years)": 82.2,
          "Region": "Europe",
          "Wellbeing (0-10)": 6.3
         },
         {
          "Country": "Indonesia",
          "Ecological Footprint (gha/capita)": 1.6,
          "HPI Rank": 16,
          "Happy Planet Index": 35.7,
          "Inequality of outcomes": "21%",
          "Life Expectancy (years)": 68.5,
          "Region": "Asia Pacific",
          "Wellbeing (0-10)": 5.4
         },
         {
          "Country": "El Salvador",
          "Ecological Footprint (gha/capita)": 2.1,
          "HPI Rank": 17,
          "Happy Planet Index": 35.6,
          "Inequality of outcomes": "22%",
          "Life Expectancy (years)": 72.5,
          "Region": "Americas",
          "Wellbeing (0-10)": 5.9
         },
         {
          "Country": "Netherlands",
          "Ecological Footprint (gha/capita)": 5.3,
          "HPI Rank": 18,
          "Happy Planet Index": 35.3,
          "Inequality of outcomes": "4%",
          "Life Expectancy (years)": 81.2,
          "Region": "Europe",
          "Wellbeing (0-10)": 7.5
         },
         {
          "Country": "Argentina",
          "Ecological Footprint (gha/capita)": 3.1,
          "HPI Rank": 19,
          "Happy Planet Index": 35.2,
          "Inequality of outcomes": "16%",
          "Life Expectancy (years)": 75.9,
          "Region": "Americas",
          "Wellbeing (0-10)": 6.5
         },
         {
          "Country": "Philippines",
          "Ecological Footprint (gha/capita)": 1.1,
          "HPI Rank": 20,
          "Happy Planet Index": 35,
          "Inequality of outcomes": "26%",
          "Life Expectancy (years)": 67.9,
          "Region": "Asia Pacific",
          "Wellbeing (0-10)": 5
         },
         {
          "Country": "Peru",
          "Ecological Footprint (gha/capita)": 2.3,
          "HPI Rank": 21,
          "Happy Planet Index": 34.6,
          "Inequality of outcomes": "21%",
          "Life Expectancy (years)": 74.1,
          "Region": "Americas",
          "Wellbeing (0-10)": 5.8
         },
         {
          "Country": "Palestine",
          "Ecological Footprint (gha/capita)": 1.2,
          "HPI Rank": 22,
          "Happy Planet Index": 34.5,
          "Inequality of outcomes": "24%",
          "Life Expectancy (years)": 72.6,
          "Region": "Middle East and North Africa",
          "Wellbeing (0-10)": 4.6
         },
         {
          "Country": "Brazil",
          "Ecological Footprint (gha/capita)": 3.1,
          "HPI Rank": 23,
          "Happy Planet Index": 34.3,
          "Inequality of outcomes": "22%",
          "Life Expectancy (years)": 73.9,
          "Region": "Americas",
          "Wellbeing (0-10)": 6.9
         },
         {
          "Country": "Switzerland",
          "Ecological Footprint (gha/capita)": 5.8,
          "HPI Rank": 24,
          "Happy Planet Index": 34.3,
          "Inequality of outcomes": "6%",
          "Life Expectancy (years)": 82.6,
          "Region": "Europe",
          "Wellbeing (0-10)": 7.8
         },
         {
          "Country": "Tajikistan",
          "Ecological Footprint (gha/capita)": 0.9,
          "HPI Rank": 25,
          "Happy Planet Index": 34.2,
          "Inequality of outcomes": "26%",
          "Life Expectancy (years)": 69,
          "Region": "Post-communist",
          "Wellbeing (0-10)": 4.5
         },
         {
          "Country": "Guatemala",
          "Ecological Footprint (gha/capita)": 1.9,
          "HPI Rank": 26,
          "Happy Planet Index": 34.2,
          "Inequality of outcomes": "27%",
          "Life Expectancy (years)": 71.4,
          "Region": "Americas",
          "Wellbeing (0-10)": 5.9
         },
         {
          "Country": "Belize",
          "Ecological Footprint (gha/capita)": 2.5,
          "HPI Rank": 27,
          "Happy Planet Index": 33.8,
          "Inequality of outcomes": "18%",
          "Life Expectancy (years)": 69.8,
          "Region": "Americas",
          "Wellbeing (0-10)": 6.1
         },
         {
          "Country": "Sri Lanka",
          "Ecological Footprint (gha/capita)": 1.3,
          "HPI Rank": 28,
          "Happy Planet Index": 33.8,
          "Inequality of outcomes": "17%",
          "Life Expectancy (years)": 74.6,
          "Region": "Asia Pacific",
          "Wellbeing (0-10)": 4.2
         },
         {
          "Country": "Venezuela",
          "Ecological Footprint (gha/capita)": 3.6,
          "HPI Rank": 29,
          "Happy Planet Index": 33.6,
          "Inequality of outcomes": "19%",
          "Life Expectancy (years)": 73.9,
          "Region": "Americas",
          "Wellbeing (0-10)": 7.1
         },
         {
          "Country": "Algeria",
          "Ecological Footprint (gha/capita)": 2.1,
          "HPI Rank": 30,
          "Happy Planet Index": 33.3,
          "Inequality of outcomes": "24%",
          "Life Expectancy (years)": 74.3,
          "Region": "Middle East and North Africa",
          "Wellbeing (0-10)": 5.6
         },
         {
          "Country": "Kyrgyzstan",
          "Ecological Footprint (gha/capita)": 1.9,
          "HPI Rank": 31,
          "Happy Planet Index": 33.1,
          "Inequality of outcomes": "18%",
          "Life Expectancy (years)": 69.7,
          "Region": "Post-communist",
          "Wellbeing (0-10)": 5.2
         },
         {
          "Country": "Denmark",
          "Ecological Footprint (gha/capita)": 5.5,
          "HPI Rank": 32,
          "Happy Planet Index": 32.7,
          "Inequality of outcomes": "7%",
          "Life Expectancy (years)": 79.8,
          "Region": "Europe",
          "Wellbeing (0-10)": 7.5
         },
         {
          "Country": "Morocco",
          "Ecological Footprint (gha/capita)": 1.7,
          "HPI Rank": 33,
          "Happy Planet Index": 32.7,
          "Inequality of outcomes": "25%",
          "Life Expectancy (years)": 73.4,
          "Region": "Middle East and North Africa",
          "Wellbeing (0-10)": 5
         },
         {
          "Country": "United Kingdom",
          "Ecological Footprint (gha/capita)": 4.9,
          "HPI Rank": 34,
          "Happy Planet Index": 31.9,
          "Inequality of outcomes": "9%",
          "Life Expectancy (years)": 80.4,
          "Region": "Europe",
          "Wellbeing (0-10)": 6.9
         },
         {
          "Country": "Chile",
          "Ecological Footprint (gha/capita)": 4.4,
          "HPI Rank": 35,
          "Happy Planet Index": 31.7,
          "Inequality of outcomes": "14%",
          "Life Expectancy (years)": 81.1,
          "Region": "Americas",
          "Wellbeing (0-10)": 6.6
         },
         {
          "Country": "Pakistan",
          "Ecological Footprint (gha/capita)": 0.8,
          "HPI Rank": 36,
          "Happy Planet Index": 31.5,
          "Inequality of outcomes": "40%",
          "Life Expectancy (years)": 65.7,
          "Region": "Asia Pacific",
          "Wellbeing (0-10)": 5.1
         },
         {
          "Country": "Finland",
          "Ecological Footprint (gha/capita)": 5.9,
          "HPI Rank": 37,
          "Happy Planet Index": 31.3,
          "Inequality of outcomes": "6%",
          "Life Expectancy (years)": 80.4,
          "Region": "Europe",
          "Wellbeing (0-10)": 7.4
         },
         {
          "Country": "New Zealand",
          "Ecological Footprint (gha/capita)": 5.6,
          "HPI Rank": 38,
          "Happy Planet Index": 31.3,
          "Inequality of outcomes": "8%",
          "Life Expectancy (years)": 81.4,
          "Region": "Asia Pacific",
          "Wellbeing (0-10)": 7.2
         },
         {
          "Country": "Iceland",
          "Ecological Footprint (gha/capita)": 6.4,
          "HPI Rank": 39,
          "Happy Planet Index": 31.1,
          "Inequality of outcomes": "5%",
          "Life Expectancy (years)": 82.2,
          "Region": "Europe",
          "Wellbeing (0-10)": 7.6
         },
         {
          "Country": "Georgia",
          "Ecological Footprint (gha/capita)": 1.6,
          "HPI Rank": 40,
          "Happy Planet Index": 31.1,
          "Inequality of outcomes": "20%",
          "Life Expectancy (years)": 74.6,
          "Region": "Post-communist",
          "Wellbeing (0-10)": 4.3
         },
         {
          "Country": "Cyprus",
          "Ecological Footprint (gha/capita)": 4.2,
          "HPI Rank": 41,
          "Happy Planet Index": 30.7,
          "Inequality of outcomes": "12%",
          "Life Expectancy (years)": 79.8,
          "Region": "Europe",
          "Wellbeing (0-10)": 6.2
         },
         {
          "Country": "Nepal",
          "Ecological Footprint (gha/capita)": 1,
          "HPI Rank": 42,
          "Happy Planet Index": 30.5,
          "Inequality of outcomes": "27%",
          "Life Expectancy (years)": 68.8,
          "Region": "Asia Pacific",
          "Wellbeing (0-10)": 4.2
         },
         {
          "Country": "Austria",
          "Ecological Footprint (gha/capita)": 6.1,
          "HPI Rank": 43,
          "Happy Planet Index": 30.5,
          "Inequality of outcomes": "7%",
          "Life Expectancy (years)": 81,
          "Region": "Europe",
          "Wellbeing (0-10)": 7.4
         },
         {
          "Country": "France",
          "Ecological Footprint (gha/capita)": 5.1,
          "HPI Rank": 44,
          "Happy Planet Index": 30.4,
          "Inequality of outcomes": "9%",
          "Life Expectancy (years)": 81.8,
          "Region": "Europe",
          "Wellbeing (0-10)": 6.6
         },
         {
          "Country": "Dominican Republic",
          "Ecological Footprint (gha/capita)": 1.5,
          "HPI Rank": 45,
          "Happy Planet Index": 30.3,
          "Inequality of outcomes": "30%",
          "Life Expectancy (years)": 73.1,
          "Region": "Americas",
          "Wellbeing (0-10)": 4.8
         },
         {
          "Country": "Malaysia",
          "Ecological Footprint (gha/capita)": 3.7,
          "HPI Rank": 46,
          "Happy Planet Index": 30.3,
          "Inequality of outcomes": "10%",
          "Life Expectancy (years)": 74.4,
          "Region": "Asia Pacific",
          "Wellbeing (0-10)": 5.9
         },
         {
          "Country": "Croatia",
          "Ecological Footprint (gha/capita)": 3.9,
          "HPI Rank": 47,
          "Happy Planet Index": 30.2,
          "Inequality of outcomes": "12%",
          "Life Expectancy (years)": 77,
          "Region": "Post-communist",
          "Wellbeing (0-10)": 6
         },
         {
          "Country": "Ireland",
          "Ecological Footprint (gha/capita)": 5.6,
          "HPI Rank": 48,
          "Happy Planet Index": 30,
          "Inequality of outcomes": "8%",
          "Life Expectancy (years)": 80.5,
          "Region": "Europe",
          "Wellbeing (0-10)": 7
         },
         {
          "Country": "Germany",
          "Ecological Footprint (gha/capita)": 5.3,
          "HPI Rank": 49,
          "Happy Planet Index": 29.8,
          "Inequality of outcomes": "8%",
          "Life Expectancy (years)": 80.6,
          "Region": "Europe",
          "Wellbeing (0-10)": 6.7
         },
         {
          "Country": "India",
          "Ecological Footprint (gha/capita)": 1.2,
          "HPI Rank": 50,
          "Happy Planet Index": 29.2,
          "Inequality of outcomes": "31%",
          "Life Expectancy (years)": 67.3,
          "Region": "Asia Pacific",
          "Wellbeing (0-10)": 4.6
         },
         {
          "Country": "Uzbekistan",
          "Ecological Footprint (gha/capita)": 2.3,
          "HPI Rank": 51,
          "Happy Planet Index": 29.1,
          "Inequality of outcomes": "30%",
          "Life Expectancy (years)": 68.2,
          "Region": "Post-communist",
          "Wellbeing (0-10)": 6
         },
         {
          "Country": "Serbia",
          "Ecological Footprint (gha/capita)": 2.7,
          "HPI Rank": 52,
          "Happy Planet Index": 29,
          "Inequality of outcomes": "19%",
          "Life Expectancy (years)": 74.5,
          "Region": "Post-communist",
          "Wellbeing (0-10)": 5.2
         },
         {
          "Country": "Malta",
          "Ecological Footprint (gha/capita)": 4.4,
          "HPI Rank": 53,
          "Happy Planet Index": 29,
          "Inequality of outcomes": "13%",
          "Life Expectancy (years)": 80.2,
          "Region": "Europe",
          "Wellbeing (0-10)": 6
         },
         {
          "Country": "Israel",
          "Ecological Footprint (gha/capita)": 6.2,
          "HPI Rank": 54,
          "Happy Planet Index": 28.8,
          "Inequality of outcomes": "8%",
          "Life Expectancy (years)": 81.9,
          "Region": "Middle East and North Africa",
          "Wellbeing (0-10)": 7.1
         },
         {
          "Country": "Romania",
          "Ecological Footprint (gha/capita)": 2.7,
          "HPI Rank": 55,
          "Happy Planet Index": 28.8,
          "Inequality of outcomes": "19%",
          "Life Expectancy (years)": 74.3,
          "Region": "Post-communist",
          "Wellbeing (0-10)": 5.2
         },
         {
          "Country": "Bhutan",
          "Ecological Footprint (gha/capita)": 2.3,
          "HPI Rank": 56,
          "Happy Planet Index": 28.6,
          "Inequality of outcomes": "27%",
          "Life Expectancy (years)": 68.7,
          "Region": "Asia Pacific",
          "Wellbeing (0-10)": 5.6
         },
         {
          "Country": "Haiti",
          "Ecological Footprint (gha/capita)": 0.6,
          "HPI Rank": 57,
          "Happy Planet Index": 28.6,
          "Inequality of outcomes": "37%",
          "Life Expectancy (years)": 62.1,
          "Region": "Americas",
          "Wellbeing (0-10)": 4.4
         },
         {
          "Country": "Japan",
          "Ecological Footprint (gha/capita)": 5,
          "HPI Rank": 58,
          "Happy Planet Index": 28.3,
          "Inequality of outcomes": "9%",
          "Life Expectancy (years)": 83.2,
          "Region": "Asia Pacific",
          "Wellbeing (0-10)": 6
         },
         {
          "Country": "Slovakia",
          "Ecological Footprint (gha/capita)": 4.1,
          "HPI Rank": 59,
          "Happy Planet Index": 28.2,
          "Inequality of outcomes": "13%",
          "Life Expectancy (years)": 75.9,
          "Region": "Post-communist",
          "Wellbeing (0-10)": 5.9
         },
         {
          "Country": "Italy",
          "Ecological Footprint (gha/capita)": 4.6,
          "HPI Rank": 60,
          "Happy Planet Index": 28.1,
          "Inequality of outcomes": "12%",
          "Life Expectancy (years)": 82.7,
          "Region": "Europe",
          "Wellbeing (0-10)": 5.8
         },
         {
          "Country": "Sweden",
          "Ecological Footprint (gha/capita)": 7.3,
          "HPI Rank": 61,
          "Happy Planet Index": 28,
          "Inequality of outcomes": "6%",
          "Life Expectancy (years)": 81.8,
          "Region": "Europe",
          "Wellbeing (0-10)": 7.6
         },
         {
          "Country": "Poland",
          "Ecological Footprint (gha/capita)": 4.4,
          "HPI Rank": 62,
          "Happy Planet Index": 27.5,
          "Inequality of outcomes": "11%",
          "Life Expectancy (years)": 76.9,
          "Region": "Post-communist",
          "Wellbeing (0-10)": 5.9
         },
         {
          "Country": "Mauritius",
          "Ecological Footprint (gha/capita)": 3.5,
          "HPI Rank": 63,
          "Happy Planet Index": 27.4,
          "Inequality of outcomes": "17%",
          "Life Expectancy (years)": 74,
          "Region": "Sub Saharan Africa",
          "Wellbeing (0-10)": 5.5
         },
         {
          "Country": "Czech Republic",
          "Ecological Footprint (gha/capita)": 5.2,
          "HPI Rank": 64,
          "Happy Planet Index": 27.3,
          "Inequality of outcomes": "9%",
          "Life Expectancy (years)": 78.2,
          "Region": "Post-communist",
          "Wellbeing (0-10)": 6.3
         },
         {
          "Country": "Honduras",
          "Ecological Footprint (gha/capita)": 1.7,
          "HPI Rank": 65,
          "Happy Planet Index": 27.2,
          "Inequality of outcomes": "31%",
          "Life Expectancy (years)": 72.8,
          "Region": "Americas",
          "Wellbeing (0-10)": 4.6
         },
         {
          "Country": "Ethiopia",
          "Ecological Footprint (gha/capita)": 1,
          "HPI Rank": 66,
          "Happy Planet Index": 26.7,
          "Inequality of outcomes": "36%",
          "Life Expectancy (years)": 62.8,
          "Region": "Sub Saharan Africa",
          "Wellbeing (0-10)": 4.6
         },
         {
          "Country": "Iraq",
          "Ecological Footprint (gha/capita)": 1.9,
          "HPI Rank": 67,
          "Happy Planet Index": 26.5,
          "Inequality of outcomes": "27%",
          "Life Expectancy (years)": 69,
          "Region": "Middle East and North Africa",
          "Wellbeing (0-10)": 4.7
         },
         {
          "Country": "Turkey",
          "Ecological Footprint (gha/capita)": 3.3,
          "HPI Rank": 68,
          "Happy Planet Index": 26.4,
          "Inequality of outcomes": "19%",
          "Life Expectancy (years)": 74.7,
          "Region": "Middle East and North Africa",
          "Wellbeing (0-10)": 5.3
         },
         {
          "Country": "Hungary",
          "Ecological Footprint (gha/capita)": 2.9,
          "HPI Rank": 69,
          "Happy Planet Index": 26.4,
          "Inequality of outcomes": "15%",
          "Life Expectancy (years)": 74.9,
          "Region": "Post-communist",
          "Wellbeing (0-10)": 4.7
         },
         {
          "Country": "Ukraine",
          "Ecological Footprint (gha/capita)": 2.8,
          "HPI Rank": 70,
          "Happy Planet Index": 26.4,
          "Inequality of outcomes": "17%",
          "Life Expectancy (years)": 70.3,
          "Region": "Post-communist",
          "Wellbeing (0-10)": 5
         },
         {
          "Country": "Tunisia",
          "Ecological Footprint (gha/capita)": 2.3,
          "HPI Rank": 71,
          "Happy Planet Index": 26.2,
          "Inequality of outcomes": "22%",
          "Life Expectancy (years)": 74.6,
          "Region": "Middle East and North Africa",
          "Wellbeing (0-10)": 4.5
         },
         {
          "Country": "China",
          "Ecological Footprint (gha/capita)": 3.4,
          "HPI Rank": 72,
          "Happy Planet Index": 25.7,
          "Inequality of outcomes": "17%",
          "Life Expectancy (years)": 75.4,
          "Region": "Asia Pacific",
          "Wellbeing (0-10)": 5.1
         },
         {
          "Country": "Armenia",
          "Ecological Footprint (gha/capita)": 2.2,
          "HPI Rank": 73,
          "Happy Planet Index": 25.7,
          "Inequality of outcomes": "22%",
          "Life Expectancy (years)": 74.4,
          "Region": "Post-communist",
          "Wellbeing (0-10)": 4.3
         },
         {
          "Country": "Cambodia",
          "Ecological Footprint (gha/capita)": 1.2,
          "HPI Rank": 74,
          "Happy Planet Index": 25.6,
          "Inequality of outcomes": "28%",
          "Life Expectancy (years)": 67.5,
          "Region": "Asia Pacific",
          "Wellbeing (0-10)": 3.9
         },
         {
          "Country": "Suriname",
          "Ecological Footprint (gha/capita)": 4.3,
          "HPI Rank": 75,
          "Happy Planet Index": 25.4,
          "Inequality of outcomes": "19%",
          "Life Expectancy (years)": 70.8,
          "Region": "Americas",
          "Wellbeing (0-10)": 6.3
         },
         {
          "Country": "Bosnia and Herzegovina",
          "Ecological Footprint (gha/capita)": 3.1,
          "HPI Rank": 76,
          "Happy Planet Index": 25.3,
          "Inequality of outcomes": "19%",
          "Life Expectancy (years)": 76.2,
          "Region": "Post-communist",
          "Wellbeing (0-10)": 4.8
         },
         {
          "Country": "Zambia",
          "Ecological Footprint (gha/capita)": 1,
          "HPI Rank": 77,
          "Happy Planet Index": 25.2,
          "Inequality of outcomes": "41%",
          "Life Expectancy (years)": 58.4,
          "Region": "Sub Saharan Africa",
          "Wellbeing (0-10)": 5
         },
         {
          "Country": "Montenegro",
          "Ecological Footprint (gha/capita)": 3.8,
          "HPI Rank": 78,
          "Happy Planet Index": 25.1,
          "Inequality of outcomes": "16%",
          "Life Expectancy (years)": 75.8,
          "Region": "Post-communist",
          "Wellbeing (0-10)": 5.2
         },
         {
          "Country": "Portugal",
          "Ecological Footprint (gha/capita)": 3.9,
          "HPI Rank": 79,
          "Happy Planet Index": 24.8,
          "Inequality of outcomes": "16%",
          "Life Expectancy (years)": 80.3,
          "Region": "Europe",
          "Wellbeing (0-10)": 5
         },
         {
          "Country": "South Korea",
          "Ecological Footprint (gha/capita)": 5.7,
          "HPI Rank": 80,
          "Happy Planet Index": 24.8,
          "Inequality of outcomes": "11%",
          "Life Expectancy (years)": 81.3,
          "Region": "Asia Pacific",
          "Wellbeing (0-10)": 6
         },
         {
          "Country": "Myanmar",
          "Ecological Footprint (gha/capita)": 1.4,
          "HPI Rank": 81,
          "Happy Planet Index": 24.7,
          "Inequality of outcomes": "32%",
          "Life Expectancy (years)": 65.5,
          "Region": "Asia Pacific",
          "Wellbeing (0-10)": 4.4
         },
         {
          "Country": "Slovenia",
          "Ecological Footprint (gha/capita)": 5.8,
          "HPI Rank": 82,
          "Happy Planet Index": 24.6,
          "Inequality of outcomes": "10%",
          "Life Expectancy (years)": 80,
          "Region": "Post-communist",
          "Wellbeing (0-10)": 6.1
         },
         {
          "Country": "Kenya",
          "Ecological Footprint (gha/capita)": 1,
          "HPI Rank": 83,
          "Happy Planet Index": 24.2,
          "Inequality of outcomes": "38%",
          "Life Expectancy (years)": 60.3,
          "Region": "Sub Saharan Africa",
          "Wellbeing (0-10)": 4.5
         },
         {
          "Country": "Iran",
          "Ecological Footprint (gha/capita)": 2.8,
          "HPI Rank": 84,
          "Happy Planet Index": 24,
          "Inequality of outcomes": "23%",
          "Life Expectancy (years)": 74.8,
          "Region": "Middle East and North Africa",
          "Wellbeing (0-10)": 4.6
         },
         {
          "Country": "Canada",
          "Ecological Footprint (gha/capita)": 8.2,
          "HPI Rank": 85,
          "Happy Planet Index": 23.9,
          "Inequality of outcomes": "9%",
          "Life Expectancy (years)": 81.7,
          "Region": "Americas",
          "Wellbeing (0-10)": 7.4
         },
         {
          "Country": "Egypt",
          "Ecological Footprint (gha/capita)": 2.2,
          "HPI Rank": 86,
          "Happy Planet Index": 23.8,
          "Inequality of outcomes": "23%",
          "Life Expectancy (years)": 70.7,
          "Region": "Middle East and North Africa",
          "Wellbeing (0-10)": 4.2
         },
         {
          "Country": "Belgium",
          "Ecological Footprint (gha/capita)": 7.4,
          "HPI Rank": 87,
          "Happy Planet Index": 23.7,
          "Inequality of outcomes": "9%",
          "Life Expectancy (years)": 80.4,
          "Region": "Europe",
          "Wellbeing (0-10)": 6.9
         },
         {
          "Country": "Mozambique",
          "Ecological Footprint (gha/capita)": 0.9,
          "HPI Rank": 88,
          "Happy Planet Index": 23.7,
          "Inequality of outcomes": "43%",
          "Life Expectancy (years)": 54.3,
          "Region": "Sub Saharan Africa",
          "Wellbeing (0-10)": 5
         },
         {
          "Country": "Greece",
          "Ecological Footprint (gha/capita)": 4.4,
          "HPI Rank": 89,
          "Happy Planet Index": 23.6,
          "Inequality of outcomes": "16%",
          "Life Expectancy (years)": 80.5,
          "Region": "Europe",
          "Wellbeing (0-10)": 5.1
         },
         {
          "Country": "Macedonia",
          "Ecological Footprint (gha/capita)": 3.3,
          "HPI Rank": 90,
          "Happy Planet Index": 23.4,
          "Inequality of outcomes": "18%",
          "Life Expectancy (years)": 75.1,
          "Region": "Post-communist",
          "Wellbeing (0-10)": 4.6
         },
         {
          "Country": "Paraguay",
          "Ecological Footprint (gha/capita)": 4.2,
          "HPI Rank": 91,
          "Happy Planet Index": 23.3,
          "Inequality of outcomes": "22%",
          "Life Expectancy (years)": 72.6,
          "Region": "Americas",
          "Wellbeing (0-10)": 5.8
         },
         {
          "Country": "Bolivia",
          "Ecological Footprint (gha/capita)": 3,
          "HPI Rank": 92,
          "Happy Planet Index": 23.3,
          "Inequality of outcomes": "35%",
          "Life Expectancy (years)": 67.5,
          "Region": "Americas",
          "Wellbeing (0-10)": 6
         },
         {
          "Country": "Comoros",
          "Ecological Footprint (gha/capita)": 1,
          "HPI Rank": 93,
          "Happy Planet Index": 23.1,
          "Inequality of outcomes": "36%",
          "Life Expectancy (years)": 62.6,
          "Region": "Sub Saharan Africa",
          "Wellbeing (0-10)": 4
         },
         {
          "Country": "Yemen",
          "Ecological Footprint (gha/capita)": 1,
          "HPI Rank": 94,
          "Happy Planet Index": 22.8,
          "Inequality of outcomes": "39%",
          "Life Expectancy (years)": 63.3,
          "Region": "Middle East and North Africa",
          "Wellbeing (0-10)": 4.1
         },
         {
          "Country": "Nigeria",
          "Ecological Footprint (gha/capita)": 1.2,
          "HPI Rank": 95,
          "Happy Planet Index": 22.2,
          "Inequality of outcomes": "44%",
          "Life Expectancy (years)": 52.1,
          "Region": "Sub Saharan Africa",
          "Wellbeing (0-10)": 5.5
         },
         {
          "Country": "Liberia",
          "Ecological Footprint (gha/capita)": 1.2,
          "HPI Rank": 96,
          "Happy Planet Index": 22.2,
          "Inequality of outcomes": "38%",
          "Life Expectancy (years)": 60.2,
          "Region": "Sub Saharan Africa",
          "Wellbeing (0-10)": 4.4
         },
         {
          "Country": "Tanzania",
          "Ecological Footprint (gha/capita)": 1.3,
          "HPI Rank": 97,
          "Happy Planet Index": 22.1,
          "Inequality of outcomes": "33%",
          "Life Expectancy (years)": 63.5,
          "Region": "Sub Saharan Africa",
          "Wellbeing (0-10)": 4
         },
         {
          "Country": "Malawi",
          "Ecological Footprint (gha/capita)": 0.8,
          "HPI Rank": 98,
          "Happy Planet Index": 22.1,
          "Inequality of outcomes": "45%",
          "Life Expectancy (years)": 60.1,
          "Region": "Sub Saharan Africa",
          "Wellbeing (0-10)": 4.3
         },
         {
          "Country": "Zimbabwe",
          "Ecological Footprint (gha/capita)": 1.4,
          "HPI Rank": 99,
          "Happy Planet Index": 22.1,
          "Inequality of outcomes": "37%",
          "Life Expectancy (years)": 53.7,
          "Region": "Sub Saharan Africa",
          "Wellbeing (0-10)": 5
         },
         {
          "Country": "Lebanon",
          "Ecological Footprint (gha/capita)": 3.8,
          "HPI Rank": 100,
          "Happy Planet Index": 21.9,
          "Inequality of outcomes": "19%",
          "Life Expectancy (years)": 78.8,
          "Region": "Middle East and North Africa",
          "Wellbeing (0-10)": 4.6
         },
         {
          "Country": "Senegal",
          "Ecological Footprint (gha/capita)": 1.2,
          "HPI Rank": 101,
          "Happy Planet Index": 21.9,
          "Inequality of outcomes": "33%",
          "Life Expectancy (years)": 65.4,
          "Region": "Sub Saharan Africa",
          "Wellbeing (0-10)": 3.7
         },
         {
          "Country": "Belarus",
          "Ecological Footprint (gha/capita)": 5.1,
          "HPI Rank": 102,
          "Happy Planet Index": 21.7,
          "Inequality of outcomes": "13%",
          "Life Expectancy (years)": 70.9,
          "Region": "Post-communist",
          "Wellbeing (0-10)": 5.7
         },
         {
          "Country": "Namibia",
          "Ecological Footprint (gha/capita)": 2.5,
          "HPI Rank": 103,
          "Happy Planet Index": 21.6,
          "Inequality of outcomes": "26%",
          "Life Expectancy (years)": 64,
          "Region": "Sub Saharan Africa",
          "Wellbeing (0-10)": 4.7
         },
         {
          "Country": "Ghana",
          "Ecological Footprint (gha/capita)": 2,
          "HPI Rank": 104,
          "Happy Planet Index": 21.4,
          "Inequality of outcomes": "38%",
          "Life Expectancy (years)": 61,
          "Region": "Sub Saharan Africa",
          "Wellbeing (0-10)": 5.1
         },
         {
          "Country": "Australia",
          "Ecological Footprint (gha/capita)": 9.3,
          "HPI Rank": 105,
          "Happy Planet Index": 21.2,
          "Inequality of outcomes": "8%",
          "Life Expectancy (years)": 82.1,
          "Region": "Asia Pacific",
          "Wellbeing (0-10)": 7.2
         },
         {
          "Country": "Oman",
          "Ecological Footprint (gha/capita)": 7.5,
          "HPI Rank": 106,
          "Happy Planet Index": 21.1,
          "Inequality of outcomes": "13%",
          "Life Expectancy (years)": 76.3,
          "Region": "Middle East and North Africa",
          "Wellbeing (0-10)": 6.9
         },
         {
          "Country": "Lithuania",
          "Ecological Footprint (gha/capita)": 5.8,
          "HPI Rank": 107,
          "Happy Planet Index": 21,
          "Inequality of outcomes": "11%",
          "Life Expectancy (years)": 72.8,
          "Region": "Post-communist",
          "Wellbeing (0-10)": 5.8
         },
         {
          "Country": "United States of America",
          "Ecological Footprint (gha/capita)": 8.2,
          "HPI Rank": 108,
          "Happy Planet Index": 20.7,
          "Inequality of outcomes": "13%",
          "Life Expectancy (years)": 78.8,
          "Region": "Americas",
          "Wellbeing (0-10)": 7
         },
         {
          "Country": "Bulgaria",
          "Ecological Footprint (gha/capita)": 3.3,
          "HPI Rank": 109,
          "Happy Planet Index": 20.4,
          "Inequality of outcomes": "19%",
          "Life Expectancy (years)": 73.9,
          "Region": "Post-communist",
          "Wellbeing (0-10)": 4.2
         },
         {
          "Country": "Afghanistan",
          "Ecological Footprint (gha/capita)": 0.8,
          "HPI Rank": 110,
          "Happy Planet Index": 20.2,
          "Inequality of outcomes": "43%",
          "Life Expectancy (years)": 59.7,
          "Region": "Middle East and North Africa",
          "Wellbeing (0-10)": 3.8
         },
         {
          "Country": "Rwanda",
          "Ecological Footprint (gha/capita)": 0.9,
          "HPI Rank": 111,
          "Happy Planet Index": 19.6,
          "Inequality of outcomes": "37%",
          "Life Expectancy (years)": 63.1,
          "Region": "Sub Saharan Africa",
          "Wellbeing (0-10)": 3.3
         },
         {
          "Country": "Uganda",
          "Ecological Footprint (gha/capita)": 1.2,
          "HPI Rank": 112,
          "Happy Planet Index": 19.4,
          "Inequality of outcomes": "41%",
          "Life Expectancy (years)": 57.1,
          "Region": "Sub Saharan Africa",
          "Wellbeing (0-10)": 4.3
         },
         {
          "Country": "Syria",
          "Ecological Footprint (gha/capita)": 1.5,
          "HPI Rank": 113,
          "Happy Planet Index": 19.1,
          "Inequality of outcomes": "30%",
          "Life Expectancy (years)": 70.4,
          "Region": "Middle East and North Africa",
          "Wellbeing (0-10)": 3.2
         },
         {
          "Country": "Kazakhstan",
          "Ecological Footprint (gha/capita)": 5.6,
          "HPI Rank": 114,
          "Happy Planet Index": 19.1,
          "Inequality of outcomes": "18%",
          "Life Expectancy (years)": 68.6,
          "Region": "Post-communist",
          "Wellbeing (0-10)": 5.8
         },
         {
          "Country": "Republic of Congo",
          "Ecological Footprint (gha/capita)": 1.3,
          "HPI Rank": 115,
          "Happy Planet Index": 18.8,
          "Inequality of outcomes": "40%",
          "Life Expectancy (years)": 61,
          "Region": "Sub Saharan Africa",
          "Wellbeing (0-10)": 3.9
         },
         {
          "Country": "Russia",
          "Ecological Footprint (gha/capita)": 5.7,
          "HPI Rank": 116,
          "Happy Planet Index": 18.7,
          "Inequality of outcomes": "16%",
          "Life Expectancy (years)": 69.5,
          "Region": "Post-communist",
          "Wellbeing (0-10)": 5.6
         },
         {
          "Country": "Mauritania",
          "Ecological Footprint (gha/capita)": 2.5,
          "HPI Rank": 117,
          "Happy Planet Index": 18,
          "Inequality of outcomes": "37%",
          "Life Expectancy (years)": 62.6,
          "Region": "Sub Saharan Africa",
          "Wellbeing (0-10)": 4.7
         },
         {
          "Country": "Estonia",
          "Ecological Footprint (gha/capita)": 6.9,
          "HPI Rank": 118,
          "Happy Planet Index": 17.9,
          "Inequality of outcomes": "12%",
          "Life Expectancy (years)": 76.2,
          "Region": "Post-communist",
          "Wellbeing (0-10)": 5.4
         },
         {
          "Country": "Burkina Faso",
          "Ecological Footprint (gha/capita)": 1.2,
          "HPI Rank": 119,
          "Happy Planet Index": 17.9,
          "Inequality of outcomes": "43%",
          "Life Expectancy (years)": 58,
          "Region": "Sub Saharan Africa",
          "Wellbeing (0-10)": 4
         },
         {
          "Country": "Gabon",
          "Ecological Footprint (gha/capita)": 2,
          "HPI Rank": 120,
          "Happy Planet Index": 17.5,
          "Inequality of outcomes": "36%",
          "Life Expectancy (years)": 63.3,
          "Region": "Sub Saharan Africa",
          "Wellbeing (0-10)": 4
         },
         {
          "Country": "Latvia",
          "Ecological Footprint (gha/capita)": 6.3,
          "HPI Rank": 121,
          "Happy Planet Index": 17.1,
          "Inequality of outcomes": "14%",
          "Life Expectancy (years)": 73.6,
          "Region": "Post-communist",
          "Wellbeing (0-10)": 5.1
         },
         {
          "Country": "Niger",
          "Ecological Footprint (gha/capita)": 1.6,
          "HPI Rank": 122,
          "Happy Planet Index": 16.8,
          "Inequality of outcomes": "40%",
          "Life Expectancy (years)": 60,
          "Region": "Sub Saharan Africa",
          "Wellbeing (0-10)": 3.8
         },
         {
          "Country": "Hong Kong",
          "Ecological Footprint (gha/capita)": 8.8,
          "HPI Rank": 123,
          "Happy Planet Index": 16.8,
          "Inequality of outcomes": "10%",
          "Life Expectancy (years)": 83.6,
          "Region": "Asia Pacific",
          "Wellbeing (0-10)": 5.5
         },
         {
          "Country": "Cameroon",
          "Ecological Footprint (gha/capita)": 1.2,
          "HPI Rank": 124,
          "Happy Planet Index": 16.7,
          "Inequality of outcomes": "47%",
          "Life Expectancy (years)": 54.6,
          "Region": "Sub Saharan Africa",
          "Wellbeing (0-10)": 4.2
         },
         {
          "Country": "Lesotho",
          "Ecological Footprint (gha/capita)": 1.7,
          "HPI Rank": 125,
          "Happy Planet Index": 16.7,
          "Inequality of outcomes": "42%",
          "Life Expectancy (years)": 48.9,
          "Region": "Sub Saharan Africa",
          "Wellbeing (0-10)": 4.9
         },
         {
          "Country": "Botswana",
          "Ecological Footprint (gha/capita)": 3.8,
          "HPI Rank": 126,
          "Happy Planet Index": 16.6,
          "Inequality of outcomes": "28%",
          "Life Expectancy (years)": 64.2,
          "Region": "Sub Saharan Africa",
          "Wellbeing (0-10)": 4.8
         },
         {
          "Country": "Djibouti",
          "Ecological Footprint (gha/capita)": 2.2,
          "HPI Rank": 127,
          "Happy Planet Index": 16.4,
          "Inequality of outcomes": "42%",
          "Life Expectancy (years)": 61.3,
          "Region": "Sub Saharan Africa",
          "Wellbeing (0-10)": 4.4
         },
         {
          "Country": "South Africa",
          "Ecological Footprint (gha/capita)": 3.3,
          "HPI Rank": 128,
          "Happy Planet Index": 15.9,
          "Inequality of outcomes": "33%",
          "Life Expectancy (years)": 56.3,
          "Region": "Sub Saharan Africa",
          "Wellbeing (0-10)": 5.1
         },
         {
          "Country": "Guinea",
          "Ecological Footprint (gha/capita)": 1.4,
          "HPI Rank": 129,
          "Happy Planet Index": 15.9,
          "Inequality of outcomes": "42%",
          "Life Expectancy (years)": 57.7,
          "Region": "Sub Saharan Africa",
          "Wellbeing (0-10)": 3.7
         },
         {
          "Country": "Trinidad and Tobago",
          "Ecological Footprint (gha/capita)": 7.9,
          "HPI Rank": 130,
          "Happy Planet Index": 15.7,
          "Inequality of outcomes": "21%",
          "Life Expectancy (years)": 70.1,
          "Region": "Americas",
          "Wellbeing (0-10)": 6.4
         },
         {
          "Country": "Burundi",
          "Ecological Footprint (gha/capita)": 0.8,
          "HPI Rank": 131,
          "Happy Planet Index": 15.6,
          "Inequality of outcomes": "48%",
          "Life Expectancy (years)": 55.8,
          "Region": "Sub Saharan Africa",
          "Wellbeing (0-10)": 3.4
         },
         {
          "Country": "Swaziland",
          "Ecological Footprint (gha/capita)": 2,
          "HPI Rank": 132,
          "Happy Planet Index": 15.5,
          "Inequality of outcomes": "41%",
          "Life Expectancy (years)": 48.9,
          "Region": "Sub Saharan Africa",
          "Wellbeing (0-10)": 4.9
         },
         {
          "Country": "Sierra Leone",
          "Ecological Footprint (gha/capita)": 1.2,
          "HPI Rank": 133,
          "Happy Planet Index": 15.3,
          "Inequality of outcomes": "50%",
          "Life Expectancy (years)": 49.8,
          "Region": "Sub Saharan Africa",
          "Wellbeing (0-10)": 4.5
         },
         {
          "Country": "Turkmenistan",
          "Ecological Footprint (gha/capita)": 5.5,
          "HPI Rank": 134,
          "Happy Planet Index": 14.6,
          "Inequality of outcomes": "31%",
          "Life Expectancy (years)": 65.3,
          "Region": "Post-communist",
          "Wellbeing (0-10)": 5.5
         },
         {
          "Country": "Cote d'Ivoire",
          "Ecological Footprint (gha/capita)": 1.3,
          "HPI Rank": 135,
          "Happy Planet Index": 14.4,
          "Inequality of outcomes": "45%",
          "Life Expectancy (years)": 50.8,
          "Region": "Sub Saharan Africa",
          "Wellbeing (0-10)": 3.8
         },
         {
          "Country": "Mongolia",
          "Ecological Footprint (gha/capita)": 6.1,
          "HPI Rank": 136,
          "Happy Planet Index": 14.3,
          "Inequality of outcomes": "22%",
          "Life Expectancy (years)": 68.6,
          "Region": "Asia Pacific",
          "Wellbeing (0-10)": 4.9
         },
         {
          "Country": "Benin",
          "Ecological Footprint (gha/capita)": 1.4,
          "HPI Rank": 137,
          "Happy Planet Index": 13.4,
          "Inequality of outcomes": "44%",
          "Life Expectancy (years)": 59.2,
          "Region": "Sub Saharan Africa",
          "Wellbeing (0-10)": 3.2
         },
         {
          "Country": "Togo",
          "Ecological Footprint (gha/capita)": 1.1,
          "HPI Rank": 138,
          "Happy Planet Index": 13.2,
          "Inequality of outcomes": "43%",
          "Life Expectancy (years)": 58.6,
          "Region": "Sub Saharan Africa",
          "Wellbeing (0-10)": 2.9
         },
         {
          "Country": "Luxembourg",
          "Ecological Footprint (gha/capita)": 15.8,
          "HPI Rank": 139,
          "Happy Planet Index": 13.2,
          "Inequality of outcomes": "7%",
          "Life Expectancy (years)": 81.1,
          "Region": "Europe",
          "Wellbeing (0-10)": 7
         },
         {
          "Country": "Chad",
          "Ecological Footprint (gha/capita)": 1.5,
          "HPI Rank": 140,
          "Happy Planet Index": 12.8,
          "Inequality of outcomes": "51%",
          "Life Expectancy (years)": 50.8,
          "Region": "Sub Saharan Africa",
          "Wellbeing (0-10)": 4
         }
        ]
       },
       "encoding": {
        "x": {
         "field": "Region",
         "type": "nominal"
        },
        "y": {
         "aggregate": "mean",
         "field": "Happy Planet Index",
         "type": "quantitative"
        }
       },
       "mark": "bar",
       "width": 400
      },
      "text/plain": [
       "<VegaLite 3 object>\n",
       "\n",
       "If you see this message, it means the renderer has not been properly enabled\n",
       "for the frontend that you are using. For more information, see\n",
       "https://altair-viz.github.io/user_guide/troubleshooting.html\n"
      ]
     },
     "execution_count": 6,
     "metadata": {},
     "output_type": "execute_result"
    }
   ],
   "source": [
    "alt.Chart(hpi_df).mark_bar().encode(\n",
    "x='Region:N',\n",
    "y='mean(Happy Planet Index):Q',\n",
    ").properties(width=400)"
   ]
  },
  {
   "cell_type": "code",
   "execution_count": 7,
   "metadata": {},
   "outputs": [
    {
     "data": {
      "application/vnd.vegalite.v3+json": {
       "$schema": "https://vega.github.io/schema/vega-lite/v3.4.0.json",
       "config": {
        "mark": {
         "tooltip": null
        },
        "view": {
         "height": 300,
         "width": 400
        }
       },
       "data": {
        "name": "data-06c1dbec64553b487ce4599ce4c93c9b"
       },
       "datasets": {
        "data-06c1dbec64553b487ce4599ce4c93c9b": [
         {
          "Country": "Costa Rica",
          "Ecological Footprint (gha/capita)": 2.8,
          "HPI Rank": 1,
          "Happy Planet Index": 44.7,
          "Inequality of outcomes": "15%",
          "Life Expectancy (years)": 79.1,
          "Region": "Americas",
          "Wellbeing (0-10)": 7.3
         },
         {
          "Country": "Mexico",
          "Ecological Footprint (gha/capita)": 2.9,
          "HPI Rank": 2,
          "Happy Planet Index": 40.7,
          "Inequality of outcomes": "19%",
          "Life Expectancy (years)": 76.4,
          "Region": "Americas",
          "Wellbeing (0-10)": 7.3
         },
         {
          "Country": "Colombia",
          "Ecological Footprint (gha/capita)": 1.9,
          "HPI Rank": 3,
          "Happy Planet Index": 40.7,
          "Inequality of outcomes": "24%",
          "Life Expectancy (years)": 73.7,
          "Region": "Americas",
          "Wellbeing (0-10)": 6.4
         },
         {
          "Country": "Vanuatu",
          "Ecological Footprint (gha/capita)": 1.9,
          "HPI Rank": 4,
          "Happy Planet Index": 40.6,
          "Inequality of outcomes": "22%",
          "Life Expectancy (years)": 71.3,
          "Region": "Asia Pacific",
          "Wellbeing (0-10)": 6.5
         },
         {
          "Country": "Vietnam",
          "Ecological Footprint (gha/capita)": 1.7,
          "HPI Rank": 5,
          "Happy Planet Index": 40.3,
          "Inequality of outcomes": "19%",
          "Life Expectancy (years)": 75.5,
          "Region": "Asia Pacific",
          "Wellbeing (0-10)": 5.5
         },
         {
          "Country": "Panama",
          "Ecological Footprint (gha/capita)": 2.8,
          "HPI Rank": 6,
          "Happy Planet Index": 39.5,
          "Inequality of outcomes": "19%",
          "Life Expectancy (years)": 77.2,
          "Region": "Americas",
          "Wellbeing (0-10)": 6.9
         },
         {
          "Country": "Nicaragua",
          "Ecological Footprint (gha/capita)": 1.4,
          "HPI Rank": 7,
          "Happy Planet Index": 38.7,
          "Inequality of outcomes": "25%",
          "Life Expectancy (years)": 74.3,
          "Region": "Americas",
          "Wellbeing (0-10)": 5.4
         },
         {
          "Country": "Bangladesh",
          "Ecological Footprint (gha/capita)": 0.7,
          "HPI Rank": 8,
          "Happy Planet Index": 38.4,
          "Inequality of outcomes": "27%",
          "Life Expectancy (years)": 70.8,
          "Region": "Asia Pacific",
          "Wellbeing (0-10)": 4.7
         },
         {
          "Country": "Thailand",
          "Ecological Footprint (gha/capita)": 2.7,
          "HPI Rank": 9,
          "Happy Planet Index": 37.3,
          "Inequality of outcomes": "15%",
          "Life Expectancy (years)": 74.1,
          "Region": "Asia Pacific",
          "Wellbeing (0-10)": 6.3
         },
         {
          "Country": "Ecuador",
          "Ecological Footprint (gha/capita)": 2.2,
          "HPI Rank": 10,
          "Happy Planet Index": 37,
          "Inequality of outcomes": "22%",
          "Life Expectancy (years)": 75.4,
          "Region": "Americas",
          "Wellbeing (0-10)": 6
         },
         {
          "Country": "Jamaica",
          "Ecological Footprint (gha/capita)": 1.9,
          "HPI Rank": 11,
          "Happy Planet Index": 36.9,
          "Inequality of outcomes": "21%",
          "Life Expectancy (years)": 75.3,
          "Region": "Americas",
          "Wellbeing (0-10)": 5.6
         },
         {
          "Country": "Norway",
          "Ecological Footprint (gha/capita)": 5,
          "HPI Rank": 12,
          "Happy Planet Index": 36.8,
          "Inequality of outcomes": "7%",
          "Life Expectancy (years)": 81.3,
          "Region": "Europe",
          "Wellbeing (0-10)": 7.7
         },
         {
          "Country": "Albania",
          "Ecological Footprint (gha/capita)": 2.2,
          "HPI Rank": 13,
          "Happy Planet Index": 36.8,
          "Inequality of outcomes": "17%",
          "Life Expectancy (years)": 77.3,
          "Region": "Post-communist",
          "Wellbeing (0-10)": 5.5
         },
         {
          "Country": "Uruguay",
          "Ecological Footprint (gha/capita)": 2.9,
          "HPI Rank": 14,
          "Happy Planet Index": 36.1,
          "Inequality of outcomes": "18%",
          "Life Expectancy (years)": 76.9,
          "Region": "Americas",
          "Wellbeing (0-10)": 6.4
         },
         {
          "Country": "Spain",
          "Ecological Footprint (gha/capita)": 3.7,
          "HPI Rank": 15,
          "Happy Planet Index": 36,
          "Inequality of outcomes": "10%",
          "Life Expectancy (years)": 82.2,
          "Region": "Europe",
          "Wellbeing (0-10)": 6.3
         },
         {
          "Country": "Indonesia",
          "Ecological Footprint (gha/capita)": 1.6,
          "HPI Rank": 16,
          "Happy Planet Index": 35.7,
          "Inequality of outcomes": "21%",
          "Life Expectancy (years)": 68.5,
          "Region": "Asia Pacific",
          "Wellbeing (0-10)": 5.4
         },
         {
          "Country": "El Salvador",
          "Ecological Footprint (gha/capita)": 2.1,
          "HPI Rank": 17,
          "Happy Planet Index": 35.6,
          "Inequality of outcomes": "22%",
          "Life Expectancy (years)": 72.5,
          "Region": "Americas",
          "Wellbeing (0-10)": 5.9
         },
         {
          "Country": "Netherlands",
          "Ecological Footprint (gha/capita)": 5.3,
          "HPI Rank": 18,
          "Happy Planet Index": 35.3,
          "Inequality of outcomes": "4%",
          "Life Expectancy (years)": 81.2,
          "Region": "Europe",
          "Wellbeing (0-10)": 7.5
         },
         {
          "Country": "Argentina",
          "Ecological Footprint (gha/capita)": 3.1,
          "HPI Rank": 19,
          "Happy Planet Index": 35.2,
          "Inequality of outcomes": "16%",
          "Life Expectancy (years)": 75.9,
          "Region": "Americas",
          "Wellbeing (0-10)": 6.5
         },
         {
          "Country": "Philippines",
          "Ecological Footprint (gha/capita)": 1.1,
          "HPI Rank": 20,
          "Happy Planet Index": 35,
          "Inequality of outcomes": "26%",
          "Life Expectancy (years)": 67.9,
          "Region": "Asia Pacific",
          "Wellbeing (0-10)": 5
         },
         {
          "Country": "Peru",
          "Ecological Footprint (gha/capita)": 2.3,
          "HPI Rank": 21,
          "Happy Planet Index": 34.6,
          "Inequality of outcomes": "21%",
          "Life Expectancy (years)": 74.1,
          "Region": "Americas",
          "Wellbeing (0-10)": 5.8
         },
         {
          "Country": "Palestine",
          "Ecological Footprint (gha/capita)": 1.2,
          "HPI Rank": 22,
          "Happy Planet Index": 34.5,
          "Inequality of outcomes": "24%",
          "Life Expectancy (years)": 72.6,
          "Region": "Middle East and North Africa",
          "Wellbeing (0-10)": 4.6
         },
         {
          "Country": "Brazil",
          "Ecological Footprint (gha/capita)": 3.1,
          "HPI Rank": 23,
          "Happy Planet Index": 34.3,
          "Inequality of outcomes": "22%",
          "Life Expectancy (years)": 73.9,
          "Region": "Americas",
          "Wellbeing (0-10)": 6.9
         },
         {
          "Country": "Switzerland",
          "Ecological Footprint (gha/capita)": 5.8,
          "HPI Rank": 24,
          "Happy Planet Index": 34.3,
          "Inequality of outcomes": "6%",
          "Life Expectancy (years)": 82.6,
          "Region": "Europe",
          "Wellbeing (0-10)": 7.8
         },
         {
          "Country": "Tajikistan",
          "Ecological Footprint (gha/capita)": 0.9,
          "HPI Rank": 25,
          "Happy Planet Index": 34.2,
          "Inequality of outcomes": "26%",
          "Life Expectancy (years)": 69,
          "Region": "Post-communist",
          "Wellbeing (0-10)": 4.5
         },
         {
          "Country": "Guatemala",
          "Ecological Footprint (gha/capita)": 1.9,
          "HPI Rank": 26,
          "Happy Planet Index": 34.2,
          "Inequality of outcomes": "27%",
          "Life Expectancy (years)": 71.4,
          "Region": "Americas",
          "Wellbeing (0-10)": 5.9
         },
         {
          "Country": "Belize",
          "Ecological Footprint (gha/capita)": 2.5,
          "HPI Rank": 27,
          "Happy Planet Index": 33.8,
          "Inequality of outcomes": "18%",
          "Life Expectancy (years)": 69.8,
          "Region": "Americas",
          "Wellbeing (0-10)": 6.1
         },
         {
          "Country": "Sri Lanka",
          "Ecological Footprint (gha/capita)": 1.3,
          "HPI Rank": 28,
          "Happy Planet Index": 33.8,
          "Inequality of outcomes": "17%",
          "Life Expectancy (years)": 74.6,
          "Region": "Asia Pacific",
          "Wellbeing (0-10)": 4.2
         },
         {
          "Country": "Venezuela",
          "Ecological Footprint (gha/capita)": 3.6,
          "HPI Rank": 29,
          "Happy Planet Index": 33.6,
          "Inequality of outcomes": "19%",
          "Life Expectancy (years)": 73.9,
          "Region": "Americas",
          "Wellbeing (0-10)": 7.1
         },
         {
          "Country": "Algeria",
          "Ecological Footprint (gha/capita)": 2.1,
          "HPI Rank": 30,
          "Happy Planet Index": 33.3,
          "Inequality of outcomes": "24%",
          "Life Expectancy (years)": 74.3,
          "Region": "Middle East and North Africa",
          "Wellbeing (0-10)": 5.6
         },
         {
          "Country": "Kyrgyzstan",
          "Ecological Footprint (gha/capita)": 1.9,
          "HPI Rank": 31,
          "Happy Planet Index": 33.1,
          "Inequality of outcomes": "18%",
          "Life Expectancy (years)": 69.7,
          "Region": "Post-communist",
          "Wellbeing (0-10)": 5.2
         },
         {
          "Country": "Denmark",
          "Ecological Footprint (gha/capita)": 5.5,
          "HPI Rank": 32,
          "Happy Planet Index": 32.7,
          "Inequality of outcomes": "7%",
          "Life Expectancy (years)": 79.8,
          "Region": "Europe",
          "Wellbeing (0-10)": 7.5
         },
         {
          "Country": "Morocco",
          "Ecological Footprint (gha/capita)": 1.7,
          "HPI Rank": 33,
          "Happy Planet Index": 32.7,
          "Inequality of outcomes": "25%",
          "Life Expectancy (years)": 73.4,
          "Region": "Middle East and North Africa",
          "Wellbeing (0-10)": 5
         },
         {
          "Country": "United Kingdom",
          "Ecological Footprint (gha/capita)": 4.9,
          "HPI Rank": 34,
          "Happy Planet Index": 31.9,
          "Inequality of outcomes": "9%",
          "Life Expectancy (years)": 80.4,
          "Region": "Europe",
          "Wellbeing (0-10)": 6.9
         },
         {
          "Country": "Chile",
          "Ecological Footprint (gha/capita)": 4.4,
          "HPI Rank": 35,
          "Happy Planet Index": 31.7,
          "Inequality of outcomes": "14%",
          "Life Expectancy (years)": 81.1,
          "Region": "Americas",
          "Wellbeing (0-10)": 6.6
         },
         {
          "Country": "Pakistan",
          "Ecological Footprint (gha/capita)": 0.8,
          "HPI Rank": 36,
          "Happy Planet Index": 31.5,
          "Inequality of outcomes": "40%",
          "Life Expectancy (years)": 65.7,
          "Region": "Asia Pacific",
          "Wellbeing (0-10)": 5.1
         },
         {
          "Country": "Finland",
          "Ecological Footprint (gha/capita)": 5.9,
          "HPI Rank": 37,
          "Happy Planet Index": 31.3,
          "Inequality of outcomes": "6%",
          "Life Expectancy (years)": 80.4,
          "Region": "Europe",
          "Wellbeing (0-10)": 7.4
         },
         {
          "Country": "New Zealand",
          "Ecological Footprint (gha/capita)": 5.6,
          "HPI Rank": 38,
          "Happy Planet Index": 31.3,
          "Inequality of outcomes": "8%",
          "Life Expectancy (years)": 81.4,
          "Region": "Asia Pacific",
          "Wellbeing (0-10)": 7.2
         },
         {
          "Country": "Iceland",
          "Ecological Footprint (gha/capita)": 6.4,
          "HPI Rank": 39,
          "Happy Planet Index": 31.1,
          "Inequality of outcomes": "5%",
          "Life Expectancy (years)": 82.2,
          "Region": "Europe",
          "Wellbeing (0-10)": 7.6
         },
         {
          "Country": "Georgia",
          "Ecological Footprint (gha/capita)": 1.6,
          "HPI Rank": 40,
          "Happy Planet Index": 31.1,
          "Inequality of outcomes": "20%",
          "Life Expectancy (years)": 74.6,
          "Region": "Post-communist",
          "Wellbeing (0-10)": 4.3
         },
         {
          "Country": "Cyprus",
          "Ecological Footprint (gha/capita)": 4.2,
          "HPI Rank": 41,
          "Happy Planet Index": 30.7,
          "Inequality of outcomes": "12%",
          "Life Expectancy (years)": 79.8,
          "Region": "Europe",
          "Wellbeing (0-10)": 6.2
         },
         {
          "Country": "Nepal",
          "Ecological Footprint (gha/capita)": 1,
          "HPI Rank": 42,
          "Happy Planet Index": 30.5,
          "Inequality of outcomes": "27%",
          "Life Expectancy (years)": 68.8,
          "Region": "Asia Pacific",
          "Wellbeing (0-10)": 4.2
         },
         {
          "Country": "Austria",
          "Ecological Footprint (gha/capita)": 6.1,
          "HPI Rank": 43,
          "Happy Planet Index": 30.5,
          "Inequality of outcomes": "7%",
          "Life Expectancy (years)": 81,
          "Region": "Europe",
          "Wellbeing (0-10)": 7.4
         },
         {
          "Country": "France",
          "Ecological Footprint (gha/capita)": 5.1,
          "HPI Rank": 44,
          "Happy Planet Index": 30.4,
          "Inequality of outcomes": "9%",
          "Life Expectancy (years)": 81.8,
          "Region": "Europe",
          "Wellbeing (0-10)": 6.6
         },
         {
          "Country": "Dominican Republic",
          "Ecological Footprint (gha/capita)": 1.5,
          "HPI Rank": 45,
          "Happy Planet Index": 30.3,
          "Inequality of outcomes": "30%",
          "Life Expectancy (years)": 73.1,
          "Region": "Americas",
          "Wellbeing (0-10)": 4.8
         },
         {
          "Country": "Malaysia",
          "Ecological Footprint (gha/capita)": 3.7,
          "HPI Rank": 46,
          "Happy Planet Index": 30.3,
          "Inequality of outcomes": "10%",
          "Life Expectancy (years)": 74.4,
          "Region": "Asia Pacific",
          "Wellbeing (0-10)": 5.9
         },
         {
          "Country": "Croatia",
          "Ecological Footprint (gha/capita)": 3.9,
          "HPI Rank": 47,
          "Happy Planet Index": 30.2,
          "Inequality of outcomes": "12%",
          "Life Expectancy (years)": 77,
          "Region": "Post-communist",
          "Wellbeing (0-10)": 6
         },
         {
          "Country": "Ireland",
          "Ecological Footprint (gha/capita)": 5.6,
          "HPI Rank": 48,
          "Happy Planet Index": 30,
          "Inequality of outcomes": "8%",
          "Life Expectancy (years)": 80.5,
          "Region": "Europe",
          "Wellbeing (0-10)": 7
         },
         {
          "Country": "Germany",
          "Ecological Footprint (gha/capita)": 5.3,
          "HPI Rank": 49,
          "Happy Planet Index": 29.8,
          "Inequality of outcomes": "8%",
          "Life Expectancy (years)": 80.6,
          "Region": "Europe",
          "Wellbeing (0-10)": 6.7
         },
         {
          "Country": "India",
          "Ecological Footprint (gha/capita)": 1.2,
          "HPI Rank": 50,
          "Happy Planet Index": 29.2,
          "Inequality of outcomes": "31%",
          "Life Expectancy (years)": 67.3,
          "Region": "Asia Pacific",
          "Wellbeing (0-10)": 4.6
         },
         {
          "Country": "Uzbekistan",
          "Ecological Footprint (gha/capita)": 2.3,
          "HPI Rank": 51,
          "Happy Planet Index": 29.1,
          "Inequality of outcomes": "30%",
          "Life Expectancy (years)": 68.2,
          "Region": "Post-communist",
          "Wellbeing (0-10)": 6
         },
         {
          "Country": "Serbia",
          "Ecological Footprint (gha/capita)": 2.7,
          "HPI Rank": 52,
          "Happy Planet Index": 29,
          "Inequality of outcomes": "19%",
          "Life Expectancy (years)": 74.5,
          "Region": "Post-communist",
          "Wellbeing (0-10)": 5.2
         },
         {
          "Country": "Malta",
          "Ecological Footprint (gha/capita)": 4.4,
          "HPI Rank": 53,
          "Happy Planet Index": 29,
          "Inequality of outcomes": "13%",
          "Life Expectancy (years)": 80.2,
          "Region": "Europe",
          "Wellbeing (0-10)": 6
         },
         {
          "Country": "Israel",
          "Ecological Footprint (gha/capita)": 6.2,
          "HPI Rank": 54,
          "Happy Planet Index": 28.8,
          "Inequality of outcomes": "8%",
          "Life Expectancy (years)": 81.9,
          "Region": "Middle East and North Africa",
          "Wellbeing (0-10)": 7.1
         },
         {
          "Country": "Romania",
          "Ecological Footprint (gha/capita)": 2.7,
          "HPI Rank": 55,
          "Happy Planet Index": 28.8,
          "Inequality of outcomes": "19%",
          "Life Expectancy (years)": 74.3,
          "Region": "Post-communist",
          "Wellbeing (0-10)": 5.2
         },
         {
          "Country": "Bhutan",
          "Ecological Footprint (gha/capita)": 2.3,
          "HPI Rank": 56,
          "Happy Planet Index": 28.6,
          "Inequality of outcomes": "27%",
          "Life Expectancy (years)": 68.7,
          "Region": "Asia Pacific",
          "Wellbeing (0-10)": 5.6
         },
         {
          "Country": "Haiti",
          "Ecological Footprint (gha/capita)": 0.6,
          "HPI Rank": 57,
          "Happy Planet Index": 28.6,
          "Inequality of outcomes": "37%",
          "Life Expectancy (years)": 62.1,
          "Region": "Americas",
          "Wellbeing (0-10)": 4.4
         },
         {
          "Country": "Japan",
          "Ecological Footprint (gha/capita)": 5,
          "HPI Rank": 58,
          "Happy Planet Index": 28.3,
          "Inequality of outcomes": "9%",
          "Life Expectancy (years)": 83.2,
          "Region": "Asia Pacific",
          "Wellbeing (0-10)": 6
         },
         {
          "Country": "Slovakia",
          "Ecological Footprint (gha/capita)": 4.1,
          "HPI Rank": 59,
          "Happy Planet Index": 28.2,
          "Inequality of outcomes": "13%",
          "Life Expectancy (years)": 75.9,
          "Region": "Post-communist",
          "Wellbeing (0-10)": 5.9
         },
         {
          "Country": "Italy",
          "Ecological Footprint (gha/capita)": 4.6,
          "HPI Rank": 60,
          "Happy Planet Index": 28.1,
          "Inequality of outcomes": "12%",
          "Life Expectancy (years)": 82.7,
          "Region": "Europe",
          "Wellbeing (0-10)": 5.8
         },
         {
          "Country": "Sweden",
          "Ecological Footprint (gha/capita)": 7.3,
          "HPI Rank": 61,
          "Happy Planet Index": 28,
          "Inequality of outcomes": "6%",
          "Life Expectancy (years)": 81.8,
          "Region": "Europe",
          "Wellbeing (0-10)": 7.6
         },
         {
          "Country": "Poland",
          "Ecological Footprint (gha/capita)": 4.4,
          "HPI Rank": 62,
          "Happy Planet Index": 27.5,
          "Inequality of outcomes": "11%",
          "Life Expectancy (years)": 76.9,
          "Region": "Post-communist",
          "Wellbeing (0-10)": 5.9
         },
         {
          "Country": "Mauritius",
          "Ecological Footprint (gha/capita)": 3.5,
          "HPI Rank": 63,
          "Happy Planet Index": 27.4,
          "Inequality of outcomes": "17%",
          "Life Expectancy (years)": 74,
          "Region": "Sub Saharan Africa",
          "Wellbeing (0-10)": 5.5
         },
         {
          "Country": "Czech Republic",
          "Ecological Footprint (gha/capita)": 5.2,
          "HPI Rank": 64,
          "Happy Planet Index": 27.3,
          "Inequality of outcomes": "9%",
          "Life Expectancy (years)": 78.2,
          "Region": "Post-communist",
          "Wellbeing (0-10)": 6.3
         },
         {
          "Country": "Honduras",
          "Ecological Footprint (gha/capita)": 1.7,
          "HPI Rank": 65,
          "Happy Planet Index": 27.2,
          "Inequality of outcomes": "31%",
          "Life Expectancy (years)": 72.8,
          "Region": "Americas",
          "Wellbeing (0-10)": 4.6
         },
         {
          "Country": "Ethiopia",
          "Ecological Footprint (gha/capita)": 1,
          "HPI Rank": 66,
          "Happy Planet Index": 26.7,
          "Inequality of outcomes": "36%",
          "Life Expectancy (years)": 62.8,
          "Region": "Sub Saharan Africa",
          "Wellbeing (0-10)": 4.6
         },
         {
          "Country": "Iraq",
          "Ecological Footprint (gha/capita)": 1.9,
          "HPI Rank": 67,
          "Happy Planet Index": 26.5,
          "Inequality of outcomes": "27%",
          "Life Expectancy (years)": 69,
          "Region": "Middle East and North Africa",
          "Wellbeing (0-10)": 4.7
         },
         {
          "Country": "Turkey",
          "Ecological Footprint (gha/capita)": 3.3,
          "HPI Rank": 68,
          "Happy Planet Index": 26.4,
          "Inequality of outcomes": "19%",
          "Life Expectancy (years)": 74.7,
          "Region": "Middle East and North Africa",
          "Wellbeing (0-10)": 5.3
         },
         {
          "Country": "Hungary",
          "Ecological Footprint (gha/capita)": 2.9,
          "HPI Rank": 69,
          "Happy Planet Index": 26.4,
          "Inequality of outcomes": "15%",
          "Life Expectancy (years)": 74.9,
          "Region": "Post-communist",
          "Wellbeing (0-10)": 4.7
         },
         {
          "Country": "Ukraine",
          "Ecological Footprint (gha/capita)": 2.8,
          "HPI Rank": 70,
          "Happy Planet Index": 26.4,
          "Inequality of outcomes": "17%",
          "Life Expectancy (years)": 70.3,
          "Region": "Post-communist",
          "Wellbeing (0-10)": 5
         },
         {
          "Country": "Tunisia",
          "Ecological Footprint (gha/capita)": 2.3,
          "HPI Rank": 71,
          "Happy Planet Index": 26.2,
          "Inequality of outcomes": "22%",
          "Life Expectancy (years)": 74.6,
          "Region": "Middle East and North Africa",
          "Wellbeing (0-10)": 4.5
         },
         {
          "Country": "China",
          "Ecological Footprint (gha/capita)": 3.4,
          "HPI Rank": 72,
          "Happy Planet Index": 25.7,
          "Inequality of outcomes": "17%",
          "Life Expectancy (years)": 75.4,
          "Region": "Asia Pacific",
          "Wellbeing (0-10)": 5.1
         },
         {
          "Country": "Armenia",
          "Ecological Footprint (gha/capita)": 2.2,
          "HPI Rank": 73,
          "Happy Planet Index": 25.7,
          "Inequality of outcomes": "22%",
          "Life Expectancy (years)": 74.4,
          "Region": "Post-communist",
          "Wellbeing (0-10)": 4.3
         },
         {
          "Country": "Cambodia",
          "Ecological Footprint (gha/capita)": 1.2,
          "HPI Rank": 74,
          "Happy Planet Index": 25.6,
          "Inequality of outcomes": "28%",
          "Life Expectancy (years)": 67.5,
          "Region": "Asia Pacific",
          "Wellbeing (0-10)": 3.9
         },
         {
          "Country": "Suriname",
          "Ecological Footprint (gha/capita)": 4.3,
          "HPI Rank": 75,
          "Happy Planet Index": 25.4,
          "Inequality of outcomes": "19%",
          "Life Expectancy (years)": 70.8,
          "Region": "Americas",
          "Wellbeing (0-10)": 6.3
         },
         {
          "Country": "Bosnia and Herzegovina",
          "Ecological Footprint (gha/capita)": 3.1,
          "HPI Rank": 76,
          "Happy Planet Index": 25.3,
          "Inequality of outcomes": "19%",
          "Life Expectancy (years)": 76.2,
          "Region": "Post-communist",
          "Wellbeing (0-10)": 4.8
         },
         {
          "Country": "Zambia",
          "Ecological Footprint (gha/capita)": 1,
          "HPI Rank": 77,
          "Happy Planet Index": 25.2,
          "Inequality of outcomes": "41%",
          "Life Expectancy (years)": 58.4,
          "Region": "Sub Saharan Africa",
          "Wellbeing (0-10)": 5
         },
         {
          "Country": "Montenegro",
          "Ecological Footprint (gha/capita)": 3.8,
          "HPI Rank": 78,
          "Happy Planet Index": 25.1,
          "Inequality of outcomes": "16%",
          "Life Expectancy (years)": 75.8,
          "Region": "Post-communist",
          "Wellbeing (0-10)": 5.2
         },
         {
          "Country": "Portugal",
          "Ecological Footprint (gha/capita)": 3.9,
          "HPI Rank": 79,
          "Happy Planet Index": 24.8,
          "Inequality of outcomes": "16%",
          "Life Expectancy (years)": 80.3,
          "Region": "Europe",
          "Wellbeing (0-10)": 5
         },
         {
          "Country": "South Korea",
          "Ecological Footprint (gha/capita)": 5.7,
          "HPI Rank": 80,
          "Happy Planet Index": 24.8,
          "Inequality of outcomes": "11%",
          "Life Expectancy (years)": 81.3,
          "Region": "Asia Pacific",
          "Wellbeing (0-10)": 6
         },
         {
          "Country": "Myanmar",
          "Ecological Footprint (gha/capita)": 1.4,
          "HPI Rank": 81,
          "Happy Planet Index": 24.7,
          "Inequality of outcomes": "32%",
          "Life Expectancy (years)": 65.5,
          "Region": "Asia Pacific",
          "Wellbeing (0-10)": 4.4
         },
         {
          "Country": "Slovenia",
          "Ecological Footprint (gha/capita)": 5.8,
          "HPI Rank": 82,
          "Happy Planet Index": 24.6,
          "Inequality of outcomes": "10%",
          "Life Expectancy (years)": 80,
          "Region": "Post-communist",
          "Wellbeing (0-10)": 6.1
         },
         {
          "Country": "Kenya",
          "Ecological Footprint (gha/capita)": 1,
          "HPI Rank": 83,
          "Happy Planet Index": 24.2,
          "Inequality of outcomes": "38%",
          "Life Expectancy (years)": 60.3,
          "Region": "Sub Saharan Africa",
          "Wellbeing (0-10)": 4.5
         },
         {
          "Country": "Iran",
          "Ecological Footprint (gha/capita)": 2.8,
          "HPI Rank": 84,
          "Happy Planet Index": 24,
          "Inequality of outcomes": "23%",
          "Life Expectancy (years)": 74.8,
          "Region": "Middle East and North Africa",
          "Wellbeing (0-10)": 4.6
         },
         {
          "Country": "Canada",
          "Ecological Footprint (gha/capita)": 8.2,
          "HPI Rank": 85,
          "Happy Planet Index": 23.9,
          "Inequality of outcomes": "9%",
          "Life Expectancy (years)": 81.7,
          "Region": "Americas",
          "Wellbeing (0-10)": 7.4
         },
         {
          "Country": "Egypt",
          "Ecological Footprint (gha/capita)": 2.2,
          "HPI Rank": 86,
          "Happy Planet Index": 23.8,
          "Inequality of outcomes": "23%",
          "Life Expectancy (years)": 70.7,
          "Region": "Middle East and North Africa",
          "Wellbeing (0-10)": 4.2
         },
         {
          "Country": "Belgium",
          "Ecological Footprint (gha/capita)": 7.4,
          "HPI Rank": 87,
          "Happy Planet Index": 23.7,
          "Inequality of outcomes": "9%",
          "Life Expectancy (years)": 80.4,
          "Region": "Europe",
          "Wellbeing (0-10)": 6.9
         },
         {
          "Country": "Mozambique",
          "Ecological Footprint (gha/capita)": 0.9,
          "HPI Rank": 88,
          "Happy Planet Index": 23.7,
          "Inequality of outcomes": "43%",
          "Life Expectancy (years)": 54.3,
          "Region": "Sub Saharan Africa",
          "Wellbeing (0-10)": 5
         },
         {
          "Country": "Greece",
          "Ecological Footprint (gha/capita)": 4.4,
          "HPI Rank": 89,
          "Happy Planet Index": 23.6,
          "Inequality of outcomes": "16%",
          "Life Expectancy (years)": 80.5,
          "Region": "Europe",
          "Wellbeing (0-10)": 5.1
         },
         {
          "Country": "Macedonia",
          "Ecological Footprint (gha/capita)": 3.3,
          "HPI Rank": 90,
          "Happy Planet Index": 23.4,
          "Inequality of outcomes": "18%",
          "Life Expectancy (years)": 75.1,
          "Region": "Post-communist",
          "Wellbeing (0-10)": 4.6
         },
         {
          "Country": "Paraguay",
          "Ecological Footprint (gha/capita)": 4.2,
          "HPI Rank": 91,
          "Happy Planet Index": 23.3,
          "Inequality of outcomes": "22%",
          "Life Expectancy (years)": 72.6,
          "Region": "Americas",
          "Wellbeing (0-10)": 5.8
         },
         {
          "Country": "Bolivia",
          "Ecological Footprint (gha/capita)": 3,
          "HPI Rank": 92,
          "Happy Planet Index": 23.3,
          "Inequality of outcomes": "35%",
          "Life Expectancy (years)": 67.5,
          "Region": "Americas",
          "Wellbeing (0-10)": 6
         },
         {
          "Country": "Comoros",
          "Ecological Footprint (gha/capita)": 1,
          "HPI Rank": 93,
          "Happy Planet Index": 23.1,
          "Inequality of outcomes": "36%",
          "Life Expectancy (years)": 62.6,
          "Region": "Sub Saharan Africa",
          "Wellbeing (0-10)": 4
         },
         {
          "Country": "Yemen",
          "Ecological Footprint (gha/capita)": 1,
          "HPI Rank": 94,
          "Happy Planet Index": 22.8,
          "Inequality of outcomes": "39%",
          "Life Expectancy (years)": 63.3,
          "Region": "Middle East and North Africa",
          "Wellbeing (0-10)": 4.1
         },
         {
          "Country": "Nigeria",
          "Ecological Footprint (gha/capita)": 1.2,
          "HPI Rank": 95,
          "Happy Planet Index": 22.2,
          "Inequality of outcomes": "44%",
          "Life Expectancy (years)": 52.1,
          "Region": "Sub Saharan Africa",
          "Wellbeing (0-10)": 5.5
         },
         {
          "Country": "Liberia",
          "Ecological Footprint (gha/capita)": 1.2,
          "HPI Rank": 96,
          "Happy Planet Index": 22.2,
          "Inequality of outcomes": "38%",
          "Life Expectancy (years)": 60.2,
          "Region": "Sub Saharan Africa",
          "Wellbeing (0-10)": 4.4
         },
         {
          "Country": "Tanzania",
          "Ecological Footprint (gha/capita)": 1.3,
          "HPI Rank": 97,
          "Happy Planet Index": 22.1,
          "Inequality of outcomes": "33%",
          "Life Expectancy (years)": 63.5,
          "Region": "Sub Saharan Africa",
          "Wellbeing (0-10)": 4
         },
         {
          "Country": "Malawi",
          "Ecological Footprint (gha/capita)": 0.8,
          "HPI Rank": 98,
          "Happy Planet Index": 22.1,
          "Inequality of outcomes": "45%",
          "Life Expectancy (years)": 60.1,
          "Region": "Sub Saharan Africa",
          "Wellbeing (0-10)": 4.3
         },
         {
          "Country": "Zimbabwe",
          "Ecological Footprint (gha/capita)": 1.4,
          "HPI Rank": 99,
          "Happy Planet Index": 22.1,
          "Inequality of outcomes": "37%",
          "Life Expectancy (years)": 53.7,
          "Region": "Sub Saharan Africa",
          "Wellbeing (0-10)": 5
         },
         {
          "Country": "Lebanon",
          "Ecological Footprint (gha/capita)": 3.8,
          "HPI Rank": 100,
          "Happy Planet Index": 21.9,
          "Inequality of outcomes": "19%",
          "Life Expectancy (years)": 78.8,
          "Region": "Middle East and North Africa",
          "Wellbeing (0-10)": 4.6
         },
         {
          "Country": "Senegal",
          "Ecological Footprint (gha/capita)": 1.2,
          "HPI Rank": 101,
          "Happy Planet Index": 21.9,
          "Inequality of outcomes": "33%",
          "Life Expectancy (years)": 65.4,
          "Region": "Sub Saharan Africa",
          "Wellbeing (0-10)": 3.7
         },
         {
          "Country": "Belarus",
          "Ecological Footprint (gha/capita)": 5.1,
          "HPI Rank": 102,
          "Happy Planet Index": 21.7,
          "Inequality of outcomes": "13%",
          "Life Expectancy (years)": 70.9,
          "Region": "Post-communist",
          "Wellbeing (0-10)": 5.7
         },
         {
          "Country": "Namibia",
          "Ecological Footprint (gha/capita)": 2.5,
          "HPI Rank": 103,
          "Happy Planet Index": 21.6,
          "Inequality of outcomes": "26%",
          "Life Expectancy (years)": 64,
          "Region": "Sub Saharan Africa",
          "Wellbeing (0-10)": 4.7
         },
         {
          "Country": "Ghana",
          "Ecological Footprint (gha/capita)": 2,
          "HPI Rank": 104,
          "Happy Planet Index": 21.4,
          "Inequality of outcomes": "38%",
          "Life Expectancy (years)": 61,
          "Region": "Sub Saharan Africa",
          "Wellbeing (0-10)": 5.1
         },
         {
          "Country": "Australia",
          "Ecological Footprint (gha/capita)": 9.3,
          "HPI Rank": 105,
          "Happy Planet Index": 21.2,
          "Inequality of outcomes": "8%",
          "Life Expectancy (years)": 82.1,
          "Region": "Asia Pacific",
          "Wellbeing (0-10)": 7.2
         },
         {
          "Country": "Oman",
          "Ecological Footprint (gha/capita)": 7.5,
          "HPI Rank": 106,
          "Happy Planet Index": 21.1,
          "Inequality of outcomes": "13%",
          "Life Expectancy (years)": 76.3,
          "Region": "Middle East and North Africa",
          "Wellbeing (0-10)": 6.9
         },
         {
          "Country": "Lithuania",
          "Ecological Footprint (gha/capita)": 5.8,
          "HPI Rank": 107,
          "Happy Planet Index": 21,
          "Inequality of outcomes": "11%",
          "Life Expectancy (years)": 72.8,
          "Region": "Post-communist",
          "Wellbeing (0-10)": 5.8
         },
         {
          "Country": "United States of America",
          "Ecological Footprint (gha/capita)": 8.2,
          "HPI Rank": 108,
          "Happy Planet Index": 20.7,
          "Inequality of outcomes": "13%",
          "Life Expectancy (years)": 78.8,
          "Region": "Americas",
          "Wellbeing (0-10)": 7
         },
         {
          "Country": "Bulgaria",
          "Ecological Footprint (gha/capita)": 3.3,
          "HPI Rank": 109,
          "Happy Planet Index": 20.4,
          "Inequality of outcomes": "19%",
          "Life Expectancy (years)": 73.9,
          "Region": "Post-communist",
          "Wellbeing (0-10)": 4.2
         },
         {
          "Country": "Afghanistan",
          "Ecological Footprint (gha/capita)": 0.8,
          "HPI Rank": 110,
          "Happy Planet Index": 20.2,
          "Inequality of outcomes": "43%",
          "Life Expectancy (years)": 59.7,
          "Region": "Middle East and North Africa",
          "Wellbeing (0-10)": 3.8
         },
         {
          "Country": "Rwanda",
          "Ecological Footprint (gha/capita)": 0.9,
          "HPI Rank": 111,
          "Happy Planet Index": 19.6,
          "Inequality of outcomes": "37%",
          "Life Expectancy (years)": 63.1,
          "Region": "Sub Saharan Africa",
          "Wellbeing (0-10)": 3.3
         },
         {
          "Country": "Uganda",
          "Ecological Footprint (gha/capita)": 1.2,
          "HPI Rank": 112,
          "Happy Planet Index": 19.4,
          "Inequality of outcomes": "41%",
          "Life Expectancy (years)": 57.1,
          "Region": "Sub Saharan Africa",
          "Wellbeing (0-10)": 4.3
         },
         {
          "Country": "Syria",
          "Ecological Footprint (gha/capita)": 1.5,
          "HPI Rank": 113,
          "Happy Planet Index": 19.1,
          "Inequality of outcomes": "30%",
          "Life Expectancy (years)": 70.4,
          "Region": "Middle East and North Africa",
          "Wellbeing (0-10)": 3.2
         },
         {
          "Country": "Kazakhstan",
          "Ecological Footprint (gha/capita)": 5.6,
          "HPI Rank": 114,
          "Happy Planet Index": 19.1,
          "Inequality of outcomes": "18%",
          "Life Expectancy (years)": 68.6,
          "Region": "Post-communist",
          "Wellbeing (0-10)": 5.8
         },
         {
          "Country": "Republic of Congo",
          "Ecological Footprint (gha/capita)": 1.3,
          "HPI Rank": 115,
          "Happy Planet Index": 18.8,
          "Inequality of outcomes": "40%",
          "Life Expectancy (years)": 61,
          "Region": "Sub Saharan Africa",
          "Wellbeing (0-10)": 3.9
         },
         {
          "Country": "Russia",
          "Ecological Footprint (gha/capita)": 5.7,
          "HPI Rank": 116,
          "Happy Planet Index": 18.7,
          "Inequality of outcomes": "16%",
          "Life Expectancy (years)": 69.5,
          "Region": "Post-communist",
          "Wellbeing (0-10)": 5.6
         },
         {
          "Country": "Mauritania",
          "Ecological Footprint (gha/capita)": 2.5,
          "HPI Rank": 117,
          "Happy Planet Index": 18,
          "Inequality of outcomes": "37%",
          "Life Expectancy (years)": 62.6,
          "Region": "Sub Saharan Africa",
          "Wellbeing (0-10)": 4.7
         },
         {
          "Country": "Estonia",
          "Ecological Footprint (gha/capita)": 6.9,
          "HPI Rank": 118,
          "Happy Planet Index": 17.9,
          "Inequality of outcomes": "12%",
          "Life Expectancy (years)": 76.2,
          "Region": "Post-communist",
          "Wellbeing (0-10)": 5.4
         },
         {
          "Country": "Burkina Faso",
          "Ecological Footprint (gha/capita)": 1.2,
          "HPI Rank": 119,
          "Happy Planet Index": 17.9,
          "Inequality of outcomes": "43%",
          "Life Expectancy (years)": 58,
          "Region": "Sub Saharan Africa",
          "Wellbeing (0-10)": 4
         },
         {
          "Country": "Gabon",
          "Ecological Footprint (gha/capita)": 2,
          "HPI Rank": 120,
          "Happy Planet Index": 17.5,
          "Inequality of outcomes": "36%",
          "Life Expectancy (years)": 63.3,
          "Region": "Sub Saharan Africa",
          "Wellbeing (0-10)": 4
         },
         {
          "Country": "Latvia",
          "Ecological Footprint (gha/capita)": 6.3,
          "HPI Rank": 121,
          "Happy Planet Index": 17.1,
          "Inequality of outcomes": "14%",
          "Life Expectancy (years)": 73.6,
          "Region": "Post-communist",
          "Wellbeing (0-10)": 5.1
         },
         {
          "Country": "Niger",
          "Ecological Footprint (gha/capita)": 1.6,
          "HPI Rank": 122,
          "Happy Planet Index": 16.8,
          "Inequality of outcomes": "40%",
          "Life Expectancy (years)": 60,
          "Region": "Sub Saharan Africa",
          "Wellbeing (0-10)": 3.8
         },
         {
          "Country": "Hong Kong",
          "Ecological Footprint (gha/capita)": 8.8,
          "HPI Rank": 123,
          "Happy Planet Index": 16.8,
          "Inequality of outcomes": "10%",
          "Life Expectancy (years)": 83.6,
          "Region": "Asia Pacific",
          "Wellbeing (0-10)": 5.5
         },
         {
          "Country": "Cameroon",
          "Ecological Footprint (gha/capita)": 1.2,
          "HPI Rank": 124,
          "Happy Planet Index": 16.7,
          "Inequality of outcomes": "47%",
          "Life Expectancy (years)": 54.6,
          "Region": "Sub Saharan Africa",
          "Wellbeing (0-10)": 4.2
         },
         {
          "Country": "Lesotho",
          "Ecological Footprint (gha/capita)": 1.7,
          "HPI Rank": 125,
          "Happy Planet Index": 16.7,
          "Inequality of outcomes": "42%",
          "Life Expectancy (years)": 48.9,
          "Region": "Sub Saharan Africa",
          "Wellbeing (0-10)": 4.9
         },
         {
          "Country": "Botswana",
          "Ecological Footprint (gha/capita)": 3.8,
          "HPI Rank": 126,
          "Happy Planet Index": 16.6,
          "Inequality of outcomes": "28%",
          "Life Expectancy (years)": 64.2,
          "Region": "Sub Saharan Africa",
          "Wellbeing (0-10)": 4.8
         },
         {
          "Country": "Djibouti",
          "Ecological Footprint (gha/capita)": 2.2,
          "HPI Rank": 127,
          "Happy Planet Index": 16.4,
          "Inequality of outcomes": "42%",
          "Life Expectancy (years)": 61.3,
          "Region": "Sub Saharan Africa",
          "Wellbeing (0-10)": 4.4
         },
         {
          "Country": "South Africa",
          "Ecological Footprint (gha/capita)": 3.3,
          "HPI Rank": 128,
          "Happy Planet Index": 15.9,
          "Inequality of outcomes": "33%",
          "Life Expectancy (years)": 56.3,
          "Region": "Sub Saharan Africa",
          "Wellbeing (0-10)": 5.1
         },
         {
          "Country": "Guinea",
          "Ecological Footprint (gha/capita)": 1.4,
          "HPI Rank": 129,
          "Happy Planet Index": 15.9,
          "Inequality of outcomes": "42%",
          "Life Expectancy (years)": 57.7,
          "Region": "Sub Saharan Africa",
          "Wellbeing (0-10)": 3.7
         },
         {
          "Country": "Trinidad and Tobago",
          "Ecological Footprint (gha/capita)": 7.9,
          "HPI Rank": 130,
          "Happy Planet Index": 15.7,
          "Inequality of outcomes": "21%",
          "Life Expectancy (years)": 70.1,
          "Region": "Americas",
          "Wellbeing (0-10)": 6.4
         },
         {
          "Country": "Burundi",
          "Ecological Footprint (gha/capita)": 0.8,
          "HPI Rank": 131,
          "Happy Planet Index": 15.6,
          "Inequality of outcomes": "48%",
          "Life Expectancy (years)": 55.8,
          "Region": "Sub Saharan Africa",
          "Wellbeing (0-10)": 3.4
         },
         {
          "Country": "Swaziland",
          "Ecological Footprint (gha/capita)": 2,
          "HPI Rank": 132,
          "Happy Planet Index": 15.5,
          "Inequality of outcomes": "41%",
          "Life Expectancy (years)": 48.9,
          "Region": "Sub Saharan Africa",
          "Wellbeing (0-10)": 4.9
         },
         {
          "Country": "Sierra Leone",
          "Ecological Footprint (gha/capita)": 1.2,
          "HPI Rank": 133,
          "Happy Planet Index": 15.3,
          "Inequality of outcomes": "50%",
          "Life Expectancy (years)": 49.8,
          "Region": "Sub Saharan Africa",
          "Wellbeing (0-10)": 4.5
         },
         {
          "Country": "Turkmenistan",
          "Ecological Footprint (gha/capita)": 5.5,
          "HPI Rank": 134,
          "Happy Planet Index": 14.6,
          "Inequality of outcomes": "31%",
          "Life Expectancy (years)": 65.3,
          "Region": "Post-communist",
          "Wellbeing (0-10)": 5.5
         },
         {
          "Country": "Cote d'Ivoire",
          "Ecological Footprint (gha/capita)": 1.3,
          "HPI Rank": 135,
          "Happy Planet Index": 14.4,
          "Inequality of outcomes": "45%",
          "Life Expectancy (years)": 50.8,
          "Region": "Sub Saharan Africa",
          "Wellbeing (0-10)": 3.8
         },
         {
          "Country": "Mongolia",
          "Ecological Footprint (gha/capita)": 6.1,
          "HPI Rank": 136,
          "Happy Planet Index": 14.3,
          "Inequality of outcomes": "22%",
          "Life Expectancy (years)": 68.6,
          "Region": "Asia Pacific",
          "Wellbeing (0-10)": 4.9
         },
         {
          "Country": "Benin",
          "Ecological Footprint (gha/capita)": 1.4,
          "HPI Rank": 137,
          "Happy Planet Index": 13.4,
          "Inequality of outcomes": "44%",
          "Life Expectancy (years)": 59.2,
          "Region": "Sub Saharan Africa",
          "Wellbeing (0-10)": 3.2
         },
         {
          "Country": "Togo",
          "Ecological Footprint (gha/capita)": 1.1,
          "HPI Rank": 138,
          "Happy Planet Index": 13.2,
          "Inequality of outcomes": "43%",
          "Life Expectancy (years)": 58.6,
          "Region": "Sub Saharan Africa",
          "Wellbeing (0-10)": 2.9
         },
         {
          "Country": "Luxembourg",
          "Ecological Footprint (gha/capita)": 15.8,
          "HPI Rank": 139,
          "Happy Planet Index": 13.2,
          "Inequality of outcomes": "7%",
          "Life Expectancy (years)": 81.1,
          "Region": "Europe",
          "Wellbeing (0-10)": 7
         },
         {
          "Country": "Chad",
          "Ecological Footprint (gha/capita)": 1.5,
          "HPI Rank": 140,
          "Happy Planet Index": 12.8,
          "Inequality of outcomes": "51%",
          "Life Expectancy (years)": 50.8,
          "Region": "Sub Saharan Africa",
          "Wellbeing (0-10)": 4
         }
        ]
       },
       "encoding": {
        "x": {
         "field": "Region",
         "type": "nominal"
        },
        "y": {
         "aggregate": "mean",
         "field": "Happy Planet Index",
         "type": "quantitative"
        }
       },
       "mark": "bar",
       "selection": {
        "selector001": {
         "bind": "scales",
         "encodings": [
          "x",
          "y"
         ],
         "type": "interval"
        }
       },
       "width": 400
      },
      "text/plain": [
       "<VegaLite 3 object>\n",
       "\n",
       "If you see this message, it means the renderer has not been properly enabled\n",
       "for the frontend that you are using. For more information, see\n",
       "https://altair-viz.github.io/user_guide/troubleshooting.html\n"
      ]
     },
     "execution_count": 7,
     "metadata": {},
     "output_type": "execute_result"
    }
   ],
   "source": [
    "import altair as alt\n",
    "alt.Chart(hpi_df).mark_bar().encode(\n",
    "x='Region:N',\n",
    "y='mean(Happy Planet Index):Q',\n",
    ").properties(width=400).interactive()"
   ]
  },
  {
   "cell_type": "code",
   "execution_count": 8,
   "metadata": {},
   "outputs": [
    {
     "data": {
      "application/vnd.vegalite.v3+json": {
       "$schema": "https://vega.github.io/schema/vega-lite/v3.4.0.json",
       "config": {
        "mark": {
         "tooltip": null
        },
        "view": {
         "height": 300,
         "width": 400
        }
       },
       "data": {
        "name": "data-06c1dbec64553b487ce4599ce4c93c9b"
       },
       "datasets": {
        "data-06c1dbec64553b487ce4599ce4c93c9b": [
         {
          "Country": "Costa Rica",
          "Ecological Footprint (gha/capita)": 2.8,
          "HPI Rank": 1,
          "Happy Planet Index": 44.7,
          "Inequality of outcomes": "15%",
          "Life Expectancy (years)": 79.1,
          "Region": "Americas",
          "Wellbeing (0-10)": 7.3
         },
         {
          "Country": "Mexico",
          "Ecological Footprint (gha/capita)": 2.9,
          "HPI Rank": 2,
          "Happy Planet Index": 40.7,
          "Inequality of outcomes": "19%",
          "Life Expectancy (years)": 76.4,
          "Region": "Americas",
          "Wellbeing (0-10)": 7.3
         },
         {
          "Country": "Colombia",
          "Ecological Footprint (gha/capita)": 1.9,
          "HPI Rank": 3,
          "Happy Planet Index": 40.7,
          "Inequality of outcomes": "24%",
          "Life Expectancy (years)": 73.7,
          "Region": "Americas",
          "Wellbeing (0-10)": 6.4
         },
         {
          "Country": "Vanuatu",
          "Ecological Footprint (gha/capita)": 1.9,
          "HPI Rank": 4,
          "Happy Planet Index": 40.6,
          "Inequality of outcomes": "22%",
          "Life Expectancy (years)": 71.3,
          "Region": "Asia Pacific",
          "Wellbeing (0-10)": 6.5
         },
         {
          "Country": "Vietnam",
          "Ecological Footprint (gha/capita)": 1.7,
          "HPI Rank": 5,
          "Happy Planet Index": 40.3,
          "Inequality of outcomes": "19%",
          "Life Expectancy (years)": 75.5,
          "Region": "Asia Pacific",
          "Wellbeing (0-10)": 5.5
         },
         {
          "Country": "Panama",
          "Ecological Footprint (gha/capita)": 2.8,
          "HPI Rank": 6,
          "Happy Planet Index": 39.5,
          "Inequality of outcomes": "19%",
          "Life Expectancy (years)": 77.2,
          "Region": "Americas",
          "Wellbeing (0-10)": 6.9
         },
         {
          "Country": "Nicaragua",
          "Ecological Footprint (gha/capita)": 1.4,
          "HPI Rank": 7,
          "Happy Planet Index": 38.7,
          "Inequality of outcomes": "25%",
          "Life Expectancy (years)": 74.3,
          "Region": "Americas",
          "Wellbeing (0-10)": 5.4
         },
         {
          "Country": "Bangladesh",
          "Ecological Footprint (gha/capita)": 0.7,
          "HPI Rank": 8,
          "Happy Planet Index": 38.4,
          "Inequality of outcomes": "27%",
          "Life Expectancy (years)": 70.8,
          "Region": "Asia Pacific",
          "Wellbeing (0-10)": 4.7
         },
         {
          "Country": "Thailand",
          "Ecological Footprint (gha/capita)": 2.7,
          "HPI Rank": 9,
          "Happy Planet Index": 37.3,
          "Inequality of outcomes": "15%",
          "Life Expectancy (years)": 74.1,
          "Region": "Asia Pacific",
          "Wellbeing (0-10)": 6.3
         },
         {
          "Country": "Ecuador",
          "Ecological Footprint (gha/capita)": 2.2,
          "HPI Rank": 10,
          "Happy Planet Index": 37,
          "Inequality of outcomes": "22%",
          "Life Expectancy (years)": 75.4,
          "Region": "Americas",
          "Wellbeing (0-10)": 6
         },
         {
          "Country": "Jamaica",
          "Ecological Footprint (gha/capita)": 1.9,
          "HPI Rank": 11,
          "Happy Planet Index": 36.9,
          "Inequality of outcomes": "21%",
          "Life Expectancy (years)": 75.3,
          "Region": "Americas",
          "Wellbeing (0-10)": 5.6
         },
         {
          "Country": "Norway",
          "Ecological Footprint (gha/capita)": 5,
          "HPI Rank": 12,
          "Happy Planet Index": 36.8,
          "Inequality of outcomes": "7%",
          "Life Expectancy (years)": 81.3,
          "Region": "Europe",
          "Wellbeing (0-10)": 7.7
         },
         {
          "Country": "Albania",
          "Ecological Footprint (gha/capita)": 2.2,
          "HPI Rank": 13,
          "Happy Planet Index": 36.8,
          "Inequality of outcomes": "17%",
          "Life Expectancy (years)": 77.3,
          "Region": "Post-communist",
          "Wellbeing (0-10)": 5.5
         },
         {
          "Country": "Uruguay",
          "Ecological Footprint (gha/capita)": 2.9,
          "HPI Rank": 14,
          "Happy Planet Index": 36.1,
          "Inequality of outcomes": "18%",
          "Life Expectancy (years)": 76.9,
          "Region": "Americas",
          "Wellbeing (0-10)": 6.4
         },
         {
          "Country": "Spain",
          "Ecological Footprint (gha/capita)": 3.7,
          "HPI Rank": 15,
          "Happy Planet Index": 36,
          "Inequality of outcomes": "10%",
          "Life Expectancy (years)": 82.2,
          "Region": "Europe",
          "Wellbeing (0-10)": 6.3
         },
         {
          "Country": "Indonesia",
          "Ecological Footprint (gha/capita)": 1.6,
          "HPI Rank": 16,
          "Happy Planet Index": 35.7,
          "Inequality of outcomes": "21%",
          "Life Expectancy (years)": 68.5,
          "Region": "Asia Pacific",
          "Wellbeing (0-10)": 5.4
         },
         {
          "Country": "El Salvador",
          "Ecological Footprint (gha/capita)": 2.1,
          "HPI Rank": 17,
          "Happy Planet Index": 35.6,
          "Inequality of outcomes": "22%",
          "Life Expectancy (years)": 72.5,
          "Region": "Americas",
          "Wellbeing (0-10)": 5.9
         },
         {
          "Country": "Netherlands",
          "Ecological Footprint (gha/capita)": 5.3,
          "HPI Rank": 18,
          "Happy Planet Index": 35.3,
          "Inequality of outcomes": "4%",
          "Life Expectancy (years)": 81.2,
          "Region": "Europe",
          "Wellbeing (0-10)": 7.5
         },
         {
          "Country": "Argentina",
          "Ecological Footprint (gha/capita)": 3.1,
          "HPI Rank": 19,
          "Happy Planet Index": 35.2,
          "Inequality of outcomes": "16%",
          "Life Expectancy (years)": 75.9,
          "Region": "Americas",
          "Wellbeing (0-10)": 6.5
         },
         {
          "Country": "Philippines",
          "Ecological Footprint (gha/capita)": 1.1,
          "HPI Rank": 20,
          "Happy Planet Index": 35,
          "Inequality of outcomes": "26%",
          "Life Expectancy (years)": 67.9,
          "Region": "Asia Pacific",
          "Wellbeing (0-10)": 5
         },
         {
          "Country": "Peru",
          "Ecological Footprint (gha/capita)": 2.3,
          "HPI Rank": 21,
          "Happy Planet Index": 34.6,
          "Inequality of outcomes": "21%",
          "Life Expectancy (years)": 74.1,
          "Region": "Americas",
          "Wellbeing (0-10)": 5.8
         },
         {
          "Country": "Palestine",
          "Ecological Footprint (gha/capita)": 1.2,
          "HPI Rank": 22,
          "Happy Planet Index": 34.5,
          "Inequality of outcomes": "24%",
          "Life Expectancy (years)": 72.6,
          "Region": "Middle East and North Africa",
          "Wellbeing (0-10)": 4.6
         },
         {
          "Country": "Brazil",
          "Ecological Footprint (gha/capita)": 3.1,
          "HPI Rank": 23,
          "Happy Planet Index": 34.3,
          "Inequality of outcomes": "22%",
          "Life Expectancy (years)": 73.9,
          "Region": "Americas",
          "Wellbeing (0-10)": 6.9
         },
         {
          "Country": "Switzerland",
          "Ecological Footprint (gha/capita)": 5.8,
          "HPI Rank": 24,
          "Happy Planet Index": 34.3,
          "Inequality of outcomes": "6%",
          "Life Expectancy (years)": 82.6,
          "Region": "Europe",
          "Wellbeing (0-10)": 7.8
         },
         {
          "Country": "Tajikistan",
          "Ecological Footprint (gha/capita)": 0.9,
          "HPI Rank": 25,
          "Happy Planet Index": 34.2,
          "Inequality of outcomes": "26%",
          "Life Expectancy (years)": 69,
          "Region": "Post-communist",
          "Wellbeing (0-10)": 4.5
         },
         {
          "Country": "Guatemala",
          "Ecological Footprint (gha/capita)": 1.9,
          "HPI Rank": 26,
          "Happy Planet Index": 34.2,
          "Inequality of outcomes": "27%",
          "Life Expectancy (years)": 71.4,
          "Region": "Americas",
          "Wellbeing (0-10)": 5.9
         },
         {
          "Country": "Belize",
          "Ecological Footprint (gha/capita)": 2.5,
          "HPI Rank": 27,
          "Happy Planet Index": 33.8,
          "Inequality of outcomes": "18%",
          "Life Expectancy (years)": 69.8,
          "Region": "Americas",
          "Wellbeing (0-10)": 6.1
         },
         {
          "Country": "Sri Lanka",
          "Ecological Footprint (gha/capita)": 1.3,
          "HPI Rank": 28,
          "Happy Planet Index": 33.8,
          "Inequality of outcomes": "17%",
          "Life Expectancy (years)": 74.6,
          "Region": "Asia Pacific",
          "Wellbeing (0-10)": 4.2
         },
         {
          "Country": "Venezuela",
          "Ecological Footprint (gha/capita)": 3.6,
          "HPI Rank": 29,
          "Happy Planet Index": 33.6,
          "Inequality of outcomes": "19%",
          "Life Expectancy (years)": 73.9,
          "Region": "Americas",
          "Wellbeing (0-10)": 7.1
         },
         {
          "Country": "Algeria",
          "Ecological Footprint (gha/capita)": 2.1,
          "HPI Rank": 30,
          "Happy Planet Index": 33.3,
          "Inequality of outcomes": "24%",
          "Life Expectancy (years)": 74.3,
          "Region": "Middle East and North Africa",
          "Wellbeing (0-10)": 5.6
         },
         {
          "Country": "Kyrgyzstan",
          "Ecological Footprint (gha/capita)": 1.9,
          "HPI Rank": 31,
          "Happy Planet Index": 33.1,
          "Inequality of outcomes": "18%",
          "Life Expectancy (years)": 69.7,
          "Region": "Post-communist",
          "Wellbeing (0-10)": 5.2
         },
         {
          "Country": "Denmark",
          "Ecological Footprint (gha/capita)": 5.5,
          "HPI Rank": 32,
          "Happy Planet Index": 32.7,
          "Inequality of outcomes": "7%",
          "Life Expectancy (years)": 79.8,
          "Region": "Europe",
          "Wellbeing (0-10)": 7.5
         },
         {
          "Country": "Morocco",
          "Ecological Footprint (gha/capita)": 1.7,
          "HPI Rank": 33,
          "Happy Planet Index": 32.7,
          "Inequality of outcomes": "25%",
          "Life Expectancy (years)": 73.4,
          "Region": "Middle East and North Africa",
          "Wellbeing (0-10)": 5
         },
         {
          "Country": "United Kingdom",
          "Ecological Footprint (gha/capita)": 4.9,
          "HPI Rank": 34,
          "Happy Planet Index": 31.9,
          "Inequality of outcomes": "9%",
          "Life Expectancy (years)": 80.4,
          "Region": "Europe",
          "Wellbeing (0-10)": 6.9
         },
         {
          "Country": "Chile",
          "Ecological Footprint (gha/capita)": 4.4,
          "HPI Rank": 35,
          "Happy Planet Index": 31.7,
          "Inequality of outcomes": "14%",
          "Life Expectancy (years)": 81.1,
          "Region": "Americas",
          "Wellbeing (0-10)": 6.6
         },
         {
          "Country": "Pakistan",
          "Ecological Footprint (gha/capita)": 0.8,
          "HPI Rank": 36,
          "Happy Planet Index": 31.5,
          "Inequality of outcomes": "40%",
          "Life Expectancy (years)": 65.7,
          "Region": "Asia Pacific",
          "Wellbeing (0-10)": 5.1
         },
         {
          "Country": "Finland",
          "Ecological Footprint (gha/capita)": 5.9,
          "HPI Rank": 37,
          "Happy Planet Index": 31.3,
          "Inequality of outcomes": "6%",
          "Life Expectancy (years)": 80.4,
          "Region": "Europe",
          "Wellbeing (0-10)": 7.4
         },
         {
          "Country": "New Zealand",
          "Ecological Footprint (gha/capita)": 5.6,
          "HPI Rank": 38,
          "Happy Planet Index": 31.3,
          "Inequality of outcomes": "8%",
          "Life Expectancy (years)": 81.4,
          "Region": "Asia Pacific",
          "Wellbeing (0-10)": 7.2
         },
         {
          "Country": "Iceland",
          "Ecological Footprint (gha/capita)": 6.4,
          "HPI Rank": 39,
          "Happy Planet Index": 31.1,
          "Inequality of outcomes": "5%",
          "Life Expectancy (years)": 82.2,
          "Region": "Europe",
          "Wellbeing (0-10)": 7.6
         },
         {
          "Country": "Georgia",
          "Ecological Footprint (gha/capita)": 1.6,
          "HPI Rank": 40,
          "Happy Planet Index": 31.1,
          "Inequality of outcomes": "20%",
          "Life Expectancy (years)": 74.6,
          "Region": "Post-communist",
          "Wellbeing (0-10)": 4.3
         },
         {
          "Country": "Cyprus",
          "Ecological Footprint (gha/capita)": 4.2,
          "HPI Rank": 41,
          "Happy Planet Index": 30.7,
          "Inequality of outcomes": "12%",
          "Life Expectancy (years)": 79.8,
          "Region": "Europe",
          "Wellbeing (0-10)": 6.2
         },
         {
          "Country": "Nepal",
          "Ecological Footprint (gha/capita)": 1,
          "HPI Rank": 42,
          "Happy Planet Index": 30.5,
          "Inequality of outcomes": "27%",
          "Life Expectancy (years)": 68.8,
          "Region": "Asia Pacific",
          "Wellbeing (0-10)": 4.2
         },
         {
          "Country": "Austria",
          "Ecological Footprint (gha/capita)": 6.1,
          "HPI Rank": 43,
          "Happy Planet Index": 30.5,
          "Inequality of outcomes": "7%",
          "Life Expectancy (years)": 81,
          "Region": "Europe",
          "Wellbeing (0-10)": 7.4
         },
         {
          "Country": "France",
          "Ecological Footprint (gha/capita)": 5.1,
          "HPI Rank": 44,
          "Happy Planet Index": 30.4,
          "Inequality of outcomes": "9%",
          "Life Expectancy (years)": 81.8,
          "Region": "Europe",
          "Wellbeing (0-10)": 6.6
         },
         {
          "Country": "Dominican Republic",
          "Ecological Footprint (gha/capita)": 1.5,
          "HPI Rank": 45,
          "Happy Planet Index": 30.3,
          "Inequality of outcomes": "30%",
          "Life Expectancy (years)": 73.1,
          "Region": "Americas",
          "Wellbeing (0-10)": 4.8
         },
         {
          "Country": "Malaysia",
          "Ecological Footprint (gha/capita)": 3.7,
          "HPI Rank": 46,
          "Happy Planet Index": 30.3,
          "Inequality of outcomes": "10%",
          "Life Expectancy (years)": 74.4,
          "Region": "Asia Pacific",
          "Wellbeing (0-10)": 5.9
         },
         {
          "Country": "Croatia",
          "Ecological Footprint (gha/capita)": 3.9,
          "HPI Rank": 47,
          "Happy Planet Index": 30.2,
          "Inequality of outcomes": "12%",
          "Life Expectancy (years)": 77,
          "Region": "Post-communist",
          "Wellbeing (0-10)": 6
         },
         {
          "Country": "Ireland",
          "Ecological Footprint (gha/capita)": 5.6,
          "HPI Rank": 48,
          "Happy Planet Index": 30,
          "Inequality of outcomes": "8%",
          "Life Expectancy (years)": 80.5,
          "Region": "Europe",
          "Wellbeing (0-10)": 7
         },
         {
          "Country": "Germany",
          "Ecological Footprint (gha/capita)": 5.3,
          "HPI Rank": 49,
          "Happy Planet Index": 29.8,
          "Inequality of outcomes": "8%",
          "Life Expectancy (years)": 80.6,
          "Region": "Europe",
          "Wellbeing (0-10)": 6.7
         },
         {
          "Country": "India",
          "Ecological Footprint (gha/capita)": 1.2,
          "HPI Rank": 50,
          "Happy Planet Index": 29.2,
          "Inequality of outcomes": "31%",
          "Life Expectancy (years)": 67.3,
          "Region": "Asia Pacific",
          "Wellbeing (0-10)": 4.6
         },
         {
          "Country": "Uzbekistan",
          "Ecological Footprint (gha/capita)": 2.3,
          "HPI Rank": 51,
          "Happy Planet Index": 29.1,
          "Inequality of outcomes": "30%",
          "Life Expectancy (years)": 68.2,
          "Region": "Post-communist",
          "Wellbeing (0-10)": 6
         },
         {
          "Country": "Serbia",
          "Ecological Footprint (gha/capita)": 2.7,
          "HPI Rank": 52,
          "Happy Planet Index": 29,
          "Inequality of outcomes": "19%",
          "Life Expectancy (years)": 74.5,
          "Region": "Post-communist",
          "Wellbeing (0-10)": 5.2
         },
         {
          "Country": "Malta",
          "Ecological Footprint (gha/capita)": 4.4,
          "HPI Rank": 53,
          "Happy Planet Index": 29,
          "Inequality of outcomes": "13%",
          "Life Expectancy (years)": 80.2,
          "Region": "Europe",
          "Wellbeing (0-10)": 6
         },
         {
          "Country": "Israel",
          "Ecological Footprint (gha/capita)": 6.2,
          "HPI Rank": 54,
          "Happy Planet Index": 28.8,
          "Inequality of outcomes": "8%",
          "Life Expectancy (years)": 81.9,
          "Region": "Middle East and North Africa",
          "Wellbeing (0-10)": 7.1
         },
         {
          "Country": "Romania",
          "Ecological Footprint (gha/capita)": 2.7,
          "HPI Rank": 55,
          "Happy Planet Index": 28.8,
          "Inequality of outcomes": "19%",
          "Life Expectancy (years)": 74.3,
          "Region": "Post-communist",
          "Wellbeing (0-10)": 5.2
         },
         {
          "Country": "Bhutan",
          "Ecological Footprint (gha/capita)": 2.3,
          "HPI Rank": 56,
          "Happy Planet Index": 28.6,
          "Inequality of outcomes": "27%",
          "Life Expectancy (years)": 68.7,
          "Region": "Asia Pacific",
          "Wellbeing (0-10)": 5.6
         },
         {
          "Country": "Haiti",
          "Ecological Footprint (gha/capita)": 0.6,
          "HPI Rank": 57,
          "Happy Planet Index": 28.6,
          "Inequality of outcomes": "37%",
          "Life Expectancy (years)": 62.1,
          "Region": "Americas",
          "Wellbeing (0-10)": 4.4
         },
         {
          "Country": "Japan",
          "Ecological Footprint (gha/capita)": 5,
          "HPI Rank": 58,
          "Happy Planet Index": 28.3,
          "Inequality of outcomes": "9%",
          "Life Expectancy (years)": 83.2,
          "Region": "Asia Pacific",
          "Wellbeing (0-10)": 6
         },
         {
          "Country": "Slovakia",
          "Ecological Footprint (gha/capita)": 4.1,
          "HPI Rank": 59,
          "Happy Planet Index": 28.2,
          "Inequality of outcomes": "13%",
          "Life Expectancy (years)": 75.9,
          "Region": "Post-communist",
          "Wellbeing (0-10)": 5.9
         },
         {
          "Country": "Italy",
          "Ecological Footprint (gha/capita)": 4.6,
          "HPI Rank": 60,
          "Happy Planet Index": 28.1,
          "Inequality of outcomes": "12%",
          "Life Expectancy (years)": 82.7,
          "Region": "Europe",
          "Wellbeing (0-10)": 5.8
         },
         {
          "Country": "Sweden",
          "Ecological Footprint (gha/capita)": 7.3,
          "HPI Rank": 61,
          "Happy Planet Index": 28,
          "Inequality of outcomes": "6%",
          "Life Expectancy (years)": 81.8,
          "Region": "Europe",
          "Wellbeing (0-10)": 7.6
         },
         {
          "Country": "Poland",
          "Ecological Footprint (gha/capita)": 4.4,
          "HPI Rank": 62,
          "Happy Planet Index": 27.5,
          "Inequality of outcomes": "11%",
          "Life Expectancy (years)": 76.9,
          "Region": "Post-communist",
          "Wellbeing (0-10)": 5.9
         },
         {
          "Country": "Mauritius",
          "Ecological Footprint (gha/capita)": 3.5,
          "HPI Rank": 63,
          "Happy Planet Index": 27.4,
          "Inequality of outcomes": "17%",
          "Life Expectancy (years)": 74,
          "Region": "Sub Saharan Africa",
          "Wellbeing (0-10)": 5.5
         },
         {
          "Country": "Czech Republic",
          "Ecological Footprint (gha/capita)": 5.2,
          "HPI Rank": 64,
          "Happy Planet Index": 27.3,
          "Inequality of outcomes": "9%",
          "Life Expectancy (years)": 78.2,
          "Region": "Post-communist",
          "Wellbeing (0-10)": 6.3
         },
         {
          "Country": "Honduras",
          "Ecological Footprint (gha/capita)": 1.7,
          "HPI Rank": 65,
          "Happy Planet Index": 27.2,
          "Inequality of outcomes": "31%",
          "Life Expectancy (years)": 72.8,
          "Region": "Americas",
          "Wellbeing (0-10)": 4.6
         },
         {
          "Country": "Ethiopia",
          "Ecological Footprint (gha/capita)": 1,
          "HPI Rank": 66,
          "Happy Planet Index": 26.7,
          "Inequality of outcomes": "36%",
          "Life Expectancy (years)": 62.8,
          "Region": "Sub Saharan Africa",
          "Wellbeing (0-10)": 4.6
         },
         {
          "Country": "Iraq",
          "Ecological Footprint (gha/capita)": 1.9,
          "HPI Rank": 67,
          "Happy Planet Index": 26.5,
          "Inequality of outcomes": "27%",
          "Life Expectancy (years)": 69,
          "Region": "Middle East and North Africa",
          "Wellbeing (0-10)": 4.7
         },
         {
          "Country": "Turkey",
          "Ecological Footprint (gha/capita)": 3.3,
          "HPI Rank": 68,
          "Happy Planet Index": 26.4,
          "Inequality of outcomes": "19%",
          "Life Expectancy (years)": 74.7,
          "Region": "Middle East and North Africa",
          "Wellbeing (0-10)": 5.3
         },
         {
          "Country": "Hungary",
          "Ecological Footprint (gha/capita)": 2.9,
          "HPI Rank": 69,
          "Happy Planet Index": 26.4,
          "Inequality of outcomes": "15%",
          "Life Expectancy (years)": 74.9,
          "Region": "Post-communist",
          "Wellbeing (0-10)": 4.7
         },
         {
          "Country": "Ukraine",
          "Ecological Footprint (gha/capita)": 2.8,
          "HPI Rank": 70,
          "Happy Planet Index": 26.4,
          "Inequality of outcomes": "17%",
          "Life Expectancy (years)": 70.3,
          "Region": "Post-communist",
          "Wellbeing (0-10)": 5
         },
         {
          "Country": "Tunisia",
          "Ecological Footprint (gha/capita)": 2.3,
          "HPI Rank": 71,
          "Happy Planet Index": 26.2,
          "Inequality of outcomes": "22%",
          "Life Expectancy (years)": 74.6,
          "Region": "Middle East and North Africa",
          "Wellbeing (0-10)": 4.5
         },
         {
          "Country": "China",
          "Ecological Footprint (gha/capita)": 3.4,
          "HPI Rank": 72,
          "Happy Planet Index": 25.7,
          "Inequality of outcomes": "17%",
          "Life Expectancy (years)": 75.4,
          "Region": "Asia Pacific",
          "Wellbeing (0-10)": 5.1
         },
         {
          "Country": "Armenia",
          "Ecological Footprint (gha/capita)": 2.2,
          "HPI Rank": 73,
          "Happy Planet Index": 25.7,
          "Inequality of outcomes": "22%",
          "Life Expectancy (years)": 74.4,
          "Region": "Post-communist",
          "Wellbeing (0-10)": 4.3
         },
         {
          "Country": "Cambodia",
          "Ecological Footprint (gha/capita)": 1.2,
          "HPI Rank": 74,
          "Happy Planet Index": 25.6,
          "Inequality of outcomes": "28%",
          "Life Expectancy (years)": 67.5,
          "Region": "Asia Pacific",
          "Wellbeing (0-10)": 3.9
         },
         {
          "Country": "Suriname",
          "Ecological Footprint (gha/capita)": 4.3,
          "HPI Rank": 75,
          "Happy Planet Index": 25.4,
          "Inequality of outcomes": "19%",
          "Life Expectancy (years)": 70.8,
          "Region": "Americas",
          "Wellbeing (0-10)": 6.3
         },
         {
          "Country": "Bosnia and Herzegovina",
          "Ecological Footprint (gha/capita)": 3.1,
          "HPI Rank": 76,
          "Happy Planet Index": 25.3,
          "Inequality of outcomes": "19%",
          "Life Expectancy (years)": 76.2,
          "Region": "Post-communist",
          "Wellbeing (0-10)": 4.8
         },
         {
          "Country": "Zambia",
          "Ecological Footprint (gha/capita)": 1,
          "HPI Rank": 77,
          "Happy Planet Index": 25.2,
          "Inequality of outcomes": "41%",
          "Life Expectancy (years)": 58.4,
          "Region": "Sub Saharan Africa",
          "Wellbeing (0-10)": 5
         },
         {
          "Country": "Montenegro",
          "Ecological Footprint (gha/capita)": 3.8,
          "HPI Rank": 78,
          "Happy Planet Index": 25.1,
          "Inequality of outcomes": "16%",
          "Life Expectancy (years)": 75.8,
          "Region": "Post-communist",
          "Wellbeing (0-10)": 5.2
         },
         {
          "Country": "Portugal",
          "Ecological Footprint (gha/capita)": 3.9,
          "HPI Rank": 79,
          "Happy Planet Index": 24.8,
          "Inequality of outcomes": "16%",
          "Life Expectancy (years)": 80.3,
          "Region": "Europe",
          "Wellbeing (0-10)": 5
         },
         {
          "Country": "South Korea",
          "Ecological Footprint (gha/capita)": 5.7,
          "HPI Rank": 80,
          "Happy Planet Index": 24.8,
          "Inequality of outcomes": "11%",
          "Life Expectancy (years)": 81.3,
          "Region": "Asia Pacific",
          "Wellbeing (0-10)": 6
         },
         {
          "Country": "Myanmar",
          "Ecological Footprint (gha/capita)": 1.4,
          "HPI Rank": 81,
          "Happy Planet Index": 24.7,
          "Inequality of outcomes": "32%",
          "Life Expectancy (years)": 65.5,
          "Region": "Asia Pacific",
          "Wellbeing (0-10)": 4.4
         },
         {
          "Country": "Slovenia",
          "Ecological Footprint (gha/capita)": 5.8,
          "HPI Rank": 82,
          "Happy Planet Index": 24.6,
          "Inequality of outcomes": "10%",
          "Life Expectancy (years)": 80,
          "Region": "Post-communist",
          "Wellbeing (0-10)": 6.1
         },
         {
          "Country": "Kenya",
          "Ecological Footprint (gha/capita)": 1,
          "HPI Rank": 83,
          "Happy Planet Index": 24.2,
          "Inequality of outcomes": "38%",
          "Life Expectancy (years)": 60.3,
          "Region": "Sub Saharan Africa",
          "Wellbeing (0-10)": 4.5
         },
         {
          "Country": "Iran",
          "Ecological Footprint (gha/capita)": 2.8,
          "HPI Rank": 84,
          "Happy Planet Index": 24,
          "Inequality of outcomes": "23%",
          "Life Expectancy (years)": 74.8,
          "Region": "Middle East and North Africa",
          "Wellbeing (0-10)": 4.6
         },
         {
          "Country": "Canada",
          "Ecological Footprint (gha/capita)": 8.2,
          "HPI Rank": 85,
          "Happy Planet Index": 23.9,
          "Inequality of outcomes": "9%",
          "Life Expectancy (years)": 81.7,
          "Region": "Americas",
          "Wellbeing (0-10)": 7.4
         },
         {
          "Country": "Egypt",
          "Ecological Footprint (gha/capita)": 2.2,
          "HPI Rank": 86,
          "Happy Planet Index": 23.8,
          "Inequality of outcomes": "23%",
          "Life Expectancy (years)": 70.7,
          "Region": "Middle East and North Africa",
          "Wellbeing (0-10)": 4.2
         },
         {
          "Country": "Belgium",
          "Ecological Footprint (gha/capita)": 7.4,
          "HPI Rank": 87,
          "Happy Planet Index": 23.7,
          "Inequality of outcomes": "9%",
          "Life Expectancy (years)": 80.4,
          "Region": "Europe",
          "Wellbeing (0-10)": 6.9
         },
         {
          "Country": "Mozambique",
          "Ecological Footprint (gha/capita)": 0.9,
          "HPI Rank": 88,
          "Happy Planet Index": 23.7,
          "Inequality of outcomes": "43%",
          "Life Expectancy (years)": 54.3,
          "Region": "Sub Saharan Africa",
          "Wellbeing (0-10)": 5
         },
         {
          "Country": "Greece",
          "Ecological Footprint (gha/capita)": 4.4,
          "HPI Rank": 89,
          "Happy Planet Index": 23.6,
          "Inequality of outcomes": "16%",
          "Life Expectancy (years)": 80.5,
          "Region": "Europe",
          "Wellbeing (0-10)": 5.1
         },
         {
          "Country": "Macedonia",
          "Ecological Footprint (gha/capita)": 3.3,
          "HPI Rank": 90,
          "Happy Planet Index": 23.4,
          "Inequality of outcomes": "18%",
          "Life Expectancy (years)": 75.1,
          "Region": "Post-communist",
          "Wellbeing (0-10)": 4.6
         },
         {
          "Country": "Paraguay",
          "Ecological Footprint (gha/capita)": 4.2,
          "HPI Rank": 91,
          "Happy Planet Index": 23.3,
          "Inequality of outcomes": "22%",
          "Life Expectancy (years)": 72.6,
          "Region": "Americas",
          "Wellbeing (0-10)": 5.8
         },
         {
          "Country": "Bolivia",
          "Ecological Footprint (gha/capita)": 3,
          "HPI Rank": 92,
          "Happy Planet Index": 23.3,
          "Inequality of outcomes": "35%",
          "Life Expectancy (years)": 67.5,
          "Region": "Americas",
          "Wellbeing (0-10)": 6
         },
         {
          "Country": "Comoros",
          "Ecological Footprint (gha/capita)": 1,
          "HPI Rank": 93,
          "Happy Planet Index": 23.1,
          "Inequality of outcomes": "36%",
          "Life Expectancy (years)": 62.6,
          "Region": "Sub Saharan Africa",
          "Wellbeing (0-10)": 4
         },
         {
          "Country": "Yemen",
          "Ecological Footprint (gha/capita)": 1,
          "HPI Rank": 94,
          "Happy Planet Index": 22.8,
          "Inequality of outcomes": "39%",
          "Life Expectancy (years)": 63.3,
          "Region": "Middle East and North Africa",
          "Wellbeing (0-10)": 4.1
         },
         {
          "Country": "Nigeria",
          "Ecological Footprint (gha/capita)": 1.2,
          "HPI Rank": 95,
          "Happy Planet Index": 22.2,
          "Inequality of outcomes": "44%",
          "Life Expectancy (years)": 52.1,
          "Region": "Sub Saharan Africa",
          "Wellbeing (0-10)": 5.5
         },
         {
          "Country": "Liberia",
          "Ecological Footprint (gha/capita)": 1.2,
          "HPI Rank": 96,
          "Happy Planet Index": 22.2,
          "Inequality of outcomes": "38%",
          "Life Expectancy (years)": 60.2,
          "Region": "Sub Saharan Africa",
          "Wellbeing (0-10)": 4.4
         },
         {
          "Country": "Tanzania",
          "Ecological Footprint (gha/capita)": 1.3,
          "HPI Rank": 97,
          "Happy Planet Index": 22.1,
          "Inequality of outcomes": "33%",
          "Life Expectancy (years)": 63.5,
          "Region": "Sub Saharan Africa",
          "Wellbeing (0-10)": 4
         },
         {
          "Country": "Malawi",
          "Ecological Footprint (gha/capita)": 0.8,
          "HPI Rank": 98,
          "Happy Planet Index": 22.1,
          "Inequality of outcomes": "45%",
          "Life Expectancy (years)": 60.1,
          "Region": "Sub Saharan Africa",
          "Wellbeing (0-10)": 4.3
         },
         {
          "Country": "Zimbabwe",
          "Ecological Footprint (gha/capita)": 1.4,
          "HPI Rank": 99,
          "Happy Planet Index": 22.1,
          "Inequality of outcomes": "37%",
          "Life Expectancy (years)": 53.7,
          "Region": "Sub Saharan Africa",
          "Wellbeing (0-10)": 5
         },
         {
          "Country": "Lebanon",
          "Ecological Footprint (gha/capita)": 3.8,
          "HPI Rank": 100,
          "Happy Planet Index": 21.9,
          "Inequality of outcomes": "19%",
          "Life Expectancy (years)": 78.8,
          "Region": "Middle East and North Africa",
          "Wellbeing (0-10)": 4.6
         },
         {
          "Country": "Senegal",
          "Ecological Footprint (gha/capita)": 1.2,
          "HPI Rank": 101,
          "Happy Planet Index": 21.9,
          "Inequality of outcomes": "33%",
          "Life Expectancy (years)": 65.4,
          "Region": "Sub Saharan Africa",
          "Wellbeing (0-10)": 3.7
         },
         {
          "Country": "Belarus",
          "Ecological Footprint (gha/capita)": 5.1,
          "HPI Rank": 102,
          "Happy Planet Index": 21.7,
          "Inequality of outcomes": "13%",
          "Life Expectancy (years)": 70.9,
          "Region": "Post-communist",
          "Wellbeing (0-10)": 5.7
         },
         {
          "Country": "Namibia",
          "Ecological Footprint (gha/capita)": 2.5,
          "HPI Rank": 103,
          "Happy Planet Index": 21.6,
          "Inequality of outcomes": "26%",
          "Life Expectancy (years)": 64,
          "Region": "Sub Saharan Africa",
          "Wellbeing (0-10)": 4.7
         },
         {
          "Country": "Ghana",
          "Ecological Footprint (gha/capita)": 2,
          "HPI Rank": 104,
          "Happy Planet Index": 21.4,
          "Inequality of outcomes": "38%",
          "Life Expectancy (years)": 61,
          "Region": "Sub Saharan Africa",
          "Wellbeing (0-10)": 5.1
         },
         {
          "Country": "Australia",
          "Ecological Footprint (gha/capita)": 9.3,
          "HPI Rank": 105,
          "Happy Planet Index": 21.2,
          "Inequality of outcomes": "8%",
          "Life Expectancy (years)": 82.1,
          "Region": "Asia Pacific",
          "Wellbeing (0-10)": 7.2
         },
         {
          "Country": "Oman",
          "Ecological Footprint (gha/capita)": 7.5,
          "HPI Rank": 106,
          "Happy Planet Index": 21.1,
          "Inequality of outcomes": "13%",
          "Life Expectancy (years)": 76.3,
          "Region": "Middle East and North Africa",
          "Wellbeing (0-10)": 6.9
         },
         {
          "Country": "Lithuania",
          "Ecological Footprint (gha/capita)": 5.8,
          "HPI Rank": 107,
          "Happy Planet Index": 21,
          "Inequality of outcomes": "11%",
          "Life Expectancy (years)": 72.8,
          "Region": "Post-communist",
          "Wellbeing (0-10)": 5.8
         },
         {
          "Country": "United States of America",
          "Ecological Footprint (gha/capita)": 8.2,
          "HPI Rank": 108,
          "Happy Planet Index": 20.7,
          "Inequality of outcomes": "13%",
          "Life Expectancy (years)": 78.8,
          "Region": "Americas",
          "Wellbeing (0-10)": 7
         },
         {
          "Country": "Bulgaria",
          "Ecological Footprint (gha/capita)": 3.3,
          "HPI Rank": 109,
          "Happy Planet Index": 20.4,
          "Inequality of outcomes": "19%",
          "Life Expectancy (years)": 73.9,
          "Region": "Post-communist",
          "Wellbeing (0-10)": 4.2
         },
         {
          "Country": "Afghanistan",
          "Ecological Footprint (gha/capita)": 0.8,
          "HPI Rank": 110,
          "Happy Planet Index": 20.2,
          "Inequality of outcomes": "43%",
          "Life Expectancy (years)": 59.7,
          "Region": "Middle East and North Africa",
          "Wellbeing (0-10)": 3.8
         },
         {
          "Country": "Rwanda",
          "Ecological Footprint (gha/capita)": 0.9,
          "HPI Rank": 111,
          "Happy Planet Index": 19.6,
          "Inequality of outcomes": "37%",
          "Life Expectancy (years)": 63.1,
          "Region": "Sub Saharan Africa",
          "Wellbeing (0-10)": 3.3
         },
         {
          "Country": "Uganda",
          "Ecological Footprint (gha/capita)": 1.2,
          "HPI Rank": 112,
          "Happy Planet Index": 19.4,
          "Inequality of outcomes": "41%",
          "Life Expectancy (years)": 57.1,
          "Region": "Sub Saharan Africa",
          "Wellbeing (0-10)": 4.3
         },
         {
          "Country": "Syria",
          "Ecological Footprint (gha/capita)": 1.5,
          "HPI Rank": 113,
          "Happy Planet Index": 19.1,
          "Inequality of outcomes": "30%",
          "Life Expectancy (years)": 70.4,
          "Region": "Middle East and North Africa",
          "Wellbeing (0-10)": 3.2
         },
         {
          "Country": "Kazakhstan",
          "Ecological Footprint (gha/capita)": 5.6,
          "HPI Rank": 114,
          "Happy Planet Index": 19.1,
          "Inequality of outcomes": "18%",
          "Life Expectancy (years)": 68.6,
          "Region": "Post-communist",
          "Wellbeing (0-10)": 5.8
         },
         {
          "Country": "Republic of Congo",
          "Ecological Footprint (gha/capita)": 1.3,
          "HPI Rank": 115,
          "Happy Planet Index": 18.8,
          "Inequality of outcomes": "40%",
          "Life Expectancy (years)": 61,
          "Region": "Sub Saharan Africa",
          "Wellbeing (0-10)": 3.9
         },
         {
          "Country": "Russia",
          "Ecological Footprint (gha/capita)": 5.7,
          "HPI Rank": 116,
          "Happy Planet Index": 18.7,
          "Inequality of outcomes": "16%",
          "Life Expectancy (years)": 69.5,
          "Region": "Post-communist",
          "Wellbeing (0-10)": 5.6
         },
         {
          "Country": "Mauritania",
          "Ecological Footprint (gha/capita)": 2.5,
          "HPI Rank": 117,
          "Happy Planet Index": 18,
          "Inequality of outcomes": "37%",
          "Life Expectancy (years)": 62.6,
          "Region": "Sub Saharan Africa",
          "Wellbeing (0-10)": 4.7
         },
         {
          "Country": "Estonia",
          "Ecological Footprint (gha/capita)": 6.9,
          "HPI Rank": 118,
          "Happy Planet Index": 17.9,
          "Inequality of outcomes": "12%",
          "Life Expectancy (years)": 76.2,
          "Region": "Post-communist",
          "Wellbeing (0-10)": 5.4
         },
         {
          "Country": "Burkina Faso",
          "Ecological Footprint (gha/capita)": 1.2,
          "HPI Rank": 119,
          "Happy Planet Index": 17.9,
          "Inequality of outcomes": "43%",
          "Life Expectancy (years)": 58,
          "Region": "Sub Saharan Africa",
          "Wellbeing (0-10)": 4
         },
         {
          "Country": "Gabon",
          "Ecological Footprint (gha/capita)": 2,
          "HPI Rank": 120,
          "Happy Planet Index": 17.5,
          "Inequality of outcomes": "36%",
          "Life Expectancy (years)": 63.3,
          "Region": "Sub Saharan Africa",
          "Wellbeing (0-10)": 4
         },
         {
          "Country": "Latvia",
          "Ecological Footprint (gha/capita)": 6.3,
          "HPI Rank": 121,
          "Happy Planet Index": 17.1,
          "Inequality of outcomes": "14%",
          "Life Expectancy (years)": 73.6,
          "Region": "Post-communist",
          "Wellbeing (0-10)": 5.1
         },
         {
          "Country": "Niger",
          "Ecological Footprint (gha/capita)": 1.6,
          "HPI Rank": 122,
          "Happy Planet Index": 16.8,
          "Inequality of outcomes": "40%",
          "Life Expectancy (years)": 60,
          "Region": "Sub Saharan Africa",
          "Wellbeing (0-10)": 3.8
         },
         {
          "Country": "Hong Kong",
          "Ecological Footprint (gha/capita)": 8.8,
          "HPI Rank": 123,
          "Happy Planet Index": 16.8,
          "Inequality of outcomes": "10%",
          "Life Expectancy (years)": 83.6,
          "Region": "Asia Pacific",
          "Wellbeing (0-10)": 5.5
         },
         {
          "Country": "Cameroon",
          "Ecological Footprint (gha/capita)": 1.2,
          "HPI Rank": 124,
          "Happy Planet Index": 16.7,
          "Inequality of outcomes": "47%",
          "Life Expectancy (years)": 54.6,
          "Region": "Sub Saharan Africa",
          "Wellbeing (0-10)": 4.2
         },
         {
          "Country": "Lesotho",
          "Ecological Footprint (gha/capita)": 1.7,
          "HPI Rank": 125,
          "Happy Planet Index": 16.7,
          "Inequality of outcomes": "42%",
          "Life Expectancy (years)": 48.9,
          "Region": "Sub Saharan Africa",
          "Wellbeing (0-10)": 4.9
         },
         {
          "Country": "Botswana",
          "Ecological Footprint (gha/capita)": 3.8,
          "HPI Rank": 126,
          "Happy Planet Index": 16.6,
          "Inequality of outcomes": "28%",
          "Life Expectancy (years)": 64.2,
          "Region": "Sub Saharan Africa",
          "Wellbeing (0-10)": 4.8
         },
         {
          "Country": "Djibouti",
          "Ecological Footprint (gha/capita)": 2.2,
          "HPI Rank": 127,
          "Happy Planet Index": 16.4,
          "Inequality of outcomes": "42%",
          "Life Expectancy (years)": 61.3,
          "Region": "Sub Saharan Africa",
          "Wellbeing (0-10)": 4.4
         },
         {
          "Country": "South Africa",
          "Ecological Footprint (gha/capita)": 3.3,
          "HPI Rank": 128,
          "Happy Planet Index": 15.9,
          "Inequality of outcomes": "33%",
          "Life Expectancy (years)": 56.3,
          "Region": "Sub Saharan Africa",
          "Wellbeing (0-10)": 5.1
         },
         {
          "Country": "Guinea",
          "Ecological Footprint (gha/capita)": 1.4,
          "HPI Rank": 129,
          "Happy Planet Index": 15.9,
          "Inequality of outcomes": "42%",
          "Life Expectancy (years)": 57.7,
          "Region": "Sub Saharan Africa",
          "Wellbeing (0-10)": 3.7
         },
         {
          "Country": "Trinidad and Tobago",
          "Ecological Footprint (gha/capita)": 7.9,
          "HPI Rank": 130,
          "Happy Planet Index": 15.7,
          "Inequality of outcomes": "21%",
          "Life Expectancy (years)": 70.1,
          "Region": "Americas",
          "Wellbeing (0-10)": 6.4
         },
         {
          "Country": "Burundi",
          "Ecological Footprint (gha/capita)": 0.8,
          "HPI Rank": 131,
          "Happy Planet Index": 15.6,
          "Inequality of outcomes": "48%",
          "Life Expectancy (years)": 55.8,
          "Region": "Sub Saharan Africa",
          "Wellbeing (0-10)": 3.4
         },
         {
          "Country": "Swaziland",
          "Ecological Footprint (gha/capita)": 2,
          "HPI Rank": 132,
          "Happy Planet Index": 15.5,
          "Inequality of outcomes": "41%",
          "Life Expectancy (years)": 48.9,
          "Region": "Sub Saharan Africa",
          "Wellbeing (0-10)": 4.9
         },
         {
          "Country": "Sierra Leone",
          "Ecological Footprint (gha/capita)": 1.2,
          "HPI Rank": 133,
          "Happy Planet Index": 15.3,
          "Inequality of outcomes": "50%",
          "Life Expectancy (years)": 49.8,
          "Region": "Sub Saharan Africa",
          "Wellbeing (0-10)": 4.5
         },
         {
          "Country": "Turkmenistan",
          "Ecological Footprint (gha/capita)": 5.5,
          "HPI Rank": 134,
          "Happy Planet Index": 14.6,
          "Inequality of outcomes": "31%",
          "Life Expectancy (years)": 65.3,
          "Region": "Post-communist",
          "Wellbeing (0-10)": 5.5
         },
         {
          "Country": "Cote d'Ivoire",
          "Ecological Footprint (gha/capita)": 1.3,
          "HPI Rank": 135,
          "Happy Planet Index": 14.4,
          "Inequality of outcomes": "45%",
          "Life Expectancy (years)": 50.8,
          "Region": "Sub Saharan Africa",
          "Wellbeing (0-10)": 3.8
         },
         {
          "Country": "Mongolia",
          "Ecological Footprint (gha/capita)": 6.1,
          "HPI Rank": 136,
          "Happy Planet Index": 14.3,
          "Inequality of outcomes": "22%",
          "Life Expectancy (years)": 68.6,
          "Region": "Asia Pacific",
          "Wellbeing (0-10)": 4.9
         },
         {
          "Country": "Benin",
          "Ecological Footprint (gha/capita)": 1.4,
          "HPI Rank": 137,
          "Happy Planet Index": 13.4,
          "Inequality of outcomes": "44%",
          "Life Expectancy (years)": 59.2,
          "Region": "Sub Saharan Africa",
          "Wellbeing (0-10)": 3.2
         },
         {
          "Country": "Togo",
          "Ecological Footprint (gha/capita)": 1.1,
          "HPI Rank": 138,
          "Happy Planet Index": 13.2,
          "Inequality of outcomes": "43%",
          "Life Expectancy (years)": 58.6,
          "Region": "Sub Saharan Africa",
          "Wellbeing (0-10)": 2.9
         },
         {
          "Country": "Luxembourg",
          "Ecological Footprint (gha/capita)": 15.8,
          "HPI Rank": 139,
          "Happy Planet Index": 13.2,
          "Inequality of outcomes": "7%",
          "Life Expectancy (years)": 81.1,
          "Region": "Europe",
          "Wellbeing (0-10)": 7
         },
         {
          "Country": "Chad",
          "Ecological Footprint (gha/capita)": 1.5,
          "HPI Rank": 140,
          "Happy Planet Index": 12.8,
          "Inequality of outcomes": "51%",
          "Life Expectancy (years)": 50.8,
          "Region": "Sub Saharan Africa",
          "Wellbeing (0-10)": 4
         }
        ]
       },
       "hconcat": [
        {
         "encoding": {
          "x": {
           "field": "Region",
           "type": "nominal"
          },
          "y": {
           "aggregate": "mean",
           "field": "Happy Planet Index",
           "type": "quantitative"
          }
         },
         "mark": "bar",
         "width": 400
        },
        {
         "encoding": {
          "size": {
           "value": 3
          },
          "y": {
           "aggregate": "mean",
           "field": "Happy Planet Index",
           "type": "quantitative"
          }
         },
         "mark": {
          "color": "firebrick",
          "type": "rule"
         }
        }
       ]
      },
      "text/plain": [
       "<VegaLite 3 object>\n",
       "\n",
       "If you see this message, it means the renderer has not been properly enabled\n",
       "for the frontend that you are using. For more information, see\n",
       "https://altair-viz.github.io/user_guide/troubleshooting.html\n"
      ]
     },
     "execution_count": 8,
     "metadata": {},
     "output_type": "execute_result"
    }
   ],
   "source": [
    "import altair as alt\n",
    "bars = alt.Chart(hpi_df).mark_bar().encode(\n",
    "x='Region:N',\n",
    "y='mean(Happy Planet Index):Q',\n",
    ").properties(width=400)\n",
    "line = alt.Chart(hpi_df).mark_rule(color='firebrick').encode(\n",
    "y='mean(Happy Planet Index):Q',\n",
    "size=alt.SizeValue(3)\n",
    ")\n",
    "bars | line"
   ]
  },
  {
   "cell_type": "code",
   "execution_count": 9,
   "metadata": {},
   "outputs": [
    {
     "data": {
      "application/vnd.vegalite.v3+json": {
       "$schema": "https://vega.github.io/schema/vega-lite/v3.4.0.json",
       "config": {
        "mark": {
         "tooltip": null
        },
        "view": {
         "height": 300,
         "width": 400
        }
       },
       "data": {
        "name": "data-06c1dbec64553b487ce4599ce4c93c9b"
       },
       "datasets": {
        "data-06c1dbec64553b487ce4599ce4c93c9b": [
         {
          "Country": "Costa Rica",
          "Ecological Footprint (gha/capita)": 2.8,
          "HPI Rank": 1,
          "Happy Planet Index": 44.7,
          "Inequality of outcomes": "15%",
          "Life Expectancy (years)": 79.1,
          "Region": "Americas",
          "Wellbeing (0-10)": 7.3
         },
         {
          "Country": "Mexico",
          "Ecological Footprint (gha/capita)": 2.9,
          "HPI Rank": 2,
          "Happy Planet Index": 40.7,
          "Inequality of outcomes": "19%",
          "Life Expectancy (years)": 76.4,
          "Region": "Americas",
          "Wellbeing (0-10)": 7.3
         },
         {
          "Country": "Colombia",
          "Ecological Footprint (gha/capita)": 1.9,
          "HPI Rank": 3,
          "Happy Planet Index": 40.7,
          "Inequality of outcomes": "24%",
          "Life Expectancy (years)": 73.7,
          "Region": "Americas",
          "Wellbeing (0-10)": 6.4
         },
         {
          "Country": "Vanuatu",
          "Ecological Footprint (gha/capita)": 1.9,
          "HPI Rank": 4,
          "Happy Planet Index": 40.6,
          "Inequality of outcomes": "22%",
          "Life Expectancy (years)": 71.3,
          "Region": "Asia Pacific",
          "Wellbeing (0-10)": 6.5
         },
         {
          "Country": "Vietnam",
          "Ecological Footprint (gha/capita)": 1.7,
          "HPI Rank": 5,
          "Happy Planet Index": 40.3,
          "Inequality of outcomes": "19%",
          "Life Expectancy (years)": 75.5,
          "Region": "Asia Pacific",
          "Wellbeing (0-10)": 5.5
         },
         {
          "Country": "Panama",
          "Ecological Footprint (gha/capita)": 2.8,
          "HPI Rank": 6,
          "Happy Planet Index": 39.5,
          "Inequality of outcomes": "19%",
          "Life Expectancy (years)": 77.2,
          "Region": "Americas",
          "Wellbeing (0-10)": 6.9
         },
         {
          "Country": "Nicaragua",
          "Ecological Footprint (gha/capita)": 1.4,
          "HPI Rank": 7,
          "Happy Planet Index": 38.7,
          "Inequality of outcomes": "25%",
          "Life Expectancy (years)": 74.3,
          "Region": "Americas",
          "Wellbeing (0-10)": 5.4
         },
         {
          "Country": "Bangladesh",
          "Ecological Footprint (gha/capita)": 0.7,
          "HPI Rank": 8,
          "Happy Planet Index": 38.4,
          "Inequality of outcomes": "27%",
          "Life Expectancy (years)": 70.8,
          "Region": "Asia Pacific",
          "Wellbeing (0-10)": 4.7
         },
         {
          "Country": "Thailand",
          "Ecological Footprint (gha/capita)": 2.7,
          "HPI Rank": 9,
          "Happy Planet Index": 37.3,
          "Inequality of outcomes": "15%",
          "Life Expectancy (years)": 74.1,
          "Region": "Asia Pacific",
          "Wellbeing (0-10)": 6.3
         },
         {
          "Country": "Ecuador",
          "Ecological Footprint (gha/capita)": 2.2,
          "HPI Rank": 10,
          "Happy Planet Index": 37,
          "Inequality of outcomes": "22%",
          "Life Expectancy (years)": 75.4,
          "Region": "Americas",
          "Wellbeing (0-10)": 6
         },
         {
          "Country": "Jamaica",
          "Ecological Footprint (gha/capita)": 1.9,
          "HPI Rank": 11,
          "Happy Planet Index": 36.9,
          "Inequality of outcomes": "21%",
          "Life Expectancy (years)": 75.3,
          "Region": "Americas",
          "Wellbeing (0-10)": 5.6
         },
         {
          "Country": "Norway",
          "Ecological Footprint (gha/capita)": 5,
          "HPI Rank": 12,
          "Happy Planet Index": 36.8,
          "Inequality of outcomes": "7%",
          "Life Expectancy (years)": 81.3,
          "Region": "Europe",
          "Wellbeing (0-10)": 7.7
         },
         {
          "Country": "Albania",
          "Ecological Footprint (gha/capita)": 2.2,
          "HPI Rank": 13,
          "Happy Planet Index": 36.8,
          "Inequality of outcomes": "17%",
          "Life Expectancy (years)": 77.3,
          "Region": "Post-communist",
          "Wellbeing (0-10)": 5.5
         },
         {
          "Country": "Uruguay",
          "Ecological Footprint (gha/capita)": 2.9,
          "HPI Rank": 14,
          "Happy Planet Index": 36.1,
          "Inequality of outcomes": "18%",
          "Life Expectancy (years)": 76.9,
          "Region": "Americas",
          "Wellbeing (0-10)": 6.4
         },
         {
          "Country": "Spain",
          "Ecological Footprint (gha/capita)": 3.7,
          "HPI Rank": 15,
          "Happy Planet Index": 36,
          "Inequality of outcomes": "10%",
          "Life Expectancy (years)": 82.2,
          "Region": "Europe",
          "Wellbeing (0-10)": 6.3
         },
         {
          "Country": "Indonesia",
          "Ecological Footprint (gha/capita)": 1.6,
          "HPI Rank": 16,
          "Happy Planet Index": 35.7,
          "Inequality of outcomes": "21%",
          "Life Expectancy (years)": 68.5,
          "Region": "Asia Pacific",
          "Wellbeing (0-10)": 5.4
         },
         {
          "Country": "El Salvador",
          "Ecological Footprint (gha/capita)": 2.1,
          "HPI Rank": 17,
          "Happy Planet Index": 35.6,
          "Inequality of outcomes": "22%",
          "Life Expectancy (years)": 72.5,
          "Region": "Americas",
          "Wellbeing (0-10)": 5.9
         },
         {
          "Country": "Netherlands",
          "Ecological Footprint (gha/capita)": 5.3,
          "HPI Rank": 18,
          "Happy Planet Index": 35.3,
          "Inequality of outcomes": "4%",
          "Life Expectancy (years)": 81.2,
          "Region": "Europe",
          "Wellbeing (0-10)": 7.5
         },
         {
          "Country": "Argentina",
          "Ecological Footprint (gha/capita)": 3.1,
          "HPI Rank": 19,
          "Happy Planet Index": 35.2,
          "Inequality of outcomes": "16%",
          "Life Expectancy (years)": 75.9,
          "Region": "Americas",
          "Wellbeing (0-10)": 6.5
         },
         {
          "Country": "Philippines",
          "Ecological Footprint (gha/capita)": 1.1,
          "HPI Rank": 20,
          "Happy Planet Index": 35,
          "Inequality of outcomes": "26%",
          "Life Expectancy (years)": 67.9,
          "Region": "Asia Pacific",
          "Wellbeing (0-10)": 5
         },
         {
          "Country": "Peru",
          "Ecological Footprint (gha/capita)": 2.3,
          "HPI Rank": 21,
          "Happy Planet Index": 34.6,
          "Inequality of outcomes": "21%",
          "Life Expectancy (years)": 74.1,
          "Region": "Americas",
          "Wellbeing (0-10)": 5.8
         },
         {
          "Country": "Palestine",
          "Ecological Footprint (gha/capita)": 1.2,
          "HPI Rank": 22,
          "Happy Planet Index": 34.5,
          "Inequality of outcomes": "24%",
          "Life Expectancy (years)": 72.6,
          "Region": "Middle East and North Africa",
          "Wellbeing (0-10)": 4.6
         },
         {
          "Country": "Brazil",
          "Ecological Footprint (gha/capita)": 3.1,
          "HPI Rank": 23,
          "Happy Planet Index": 34.3,
          "Inequality of outcomes": "22%",
          "Life Expectancy (years)": 73.9,
          "Region": "Americas",
          "Wellbeing (0-10)": 6.9
         },
         {
          "Country": "Switzerland",
          "Ecological Footprint (gha/capita)": 5.8,
          "HPI Rank": 24,
          "Happy Planet Index": 34.3,
          "Inequality of outcomes": "6%",
          "Life Expectancy (years)": 82.6,
          "Region": "Europe",
          "Wellbeing (0-10)": 7.8
         },
         {
          "Country": "Tajikistan",
          "Ecological Footprint (gha/capita)": 0.9,
          "HPI Rank": 25,
          "Happy Planet Index": 34.2,
          "Inequality of outcomes": "26%",
          "Life Expectancy (years)": 69,
          "Region": "Post-communist",
          "Wellbeing (0-10)": 4.5
         },
         {
          "Country": "Guatemala",
          "Ecological Footprint (gha/capita)": 1.9,
          "HPI Rank": 26,
          "Happy Planet Index": 34.2,
          "Inequality of outcomes": "27%",
          "Life Expectancy (years)": 71.4,
          "Region": "Americas",
          "Wellbeing (0-10)": 5.9
         },
         {
          "Country": "Belize",
          "Ecological Footprint (gha/capita)": 2.5,
          "HPI Rank": 27,
          "Happy Planet Index": 33.8,
          "Inequality of outcomes": "18%",
          "Life Expectancy (years)": 69.8,
          "Region": "Americas",
          "Wellbeing (0-10)": 6.1
         },
         {
          "Country": "Sri Lanka",
          "Ecological Footprint (gha/capita)": 1.3,
          "HPI Rank": 28,
          "Happy Planet Index": 33.8,
          "Inequality of outcomes": "17%",
          "Life Expectancy (years)": 74.6,
          "Region": "Asia Pacific",
          "Wellbeing (0-10)": 4.2
         },
         {
          "Country": "Venezuela",
          "Ecological Footprint (gha/capita)": 3.6,
          "HPI Rank": 29,
          "Happy Planet Index": 33.6,
          "Inequality of outcomes": "19%",
          "Life Expectancy (years)": 73.9,
          "Region": "Americas",
          "Wellbeing (0-10)": 7.1
         },
         {
          "Country": "Algeria",
          "Ecological Footprint (gha/capita)": 2.1,
          "HPI Rank": 30,
          "Happy Planet Index": 33.3,
          "Inequality of outcomes": "24%",
          "Life Expectancy (years)": 74.3,
          "Region": "Middle East and North Africa",
          "Wellbeing (0-10)": 5.6
         },
         {
          "Country": "Kyrgyzstan",
          "Ecological Footprint (gha/capita)": 1.9,
          "HPI Rank": 31,
          "Happy Planet Index": 33.1,
          "Inequality of outcomes": "18%",
          "Life Expectancy (years)": 69.7,
          "Region": "Post-communist",
          "Wellbeing (0-10)": 5.2
         },
         {
          "Country": "Denmark",
          "Ecological Footprint (gha/capita)": 5.5,
          "HPI Rank": 32,
          "Happy Planet Index": 32.7,
          "Inequality of outcomes": "7%",
          "Life Expectancy (years)": 79.8,
          "Region": "Europe",
          "Wellbeing (0-10)": 7.5
         },
         {
          "Country": "Morocco",
          "Ecological Footprint (gha/capita)": 1.7,
          "HPI Rank": 33,
          "Happy Planet Index": 32.7,
          "Inequality of outcomes": "25%",
          "Life Expectancy (years)": 73.4,
          "Region": "Middle East and North Africa",
          "Wellbeing (0-10)": 5
         },
         {
          "Country": "United Kingdom",
          "Ecological Footprint (gha/capita)": 4.9,
          "HPI Rank": 34,
          "Happy Planet Index": 31.9,
          "Inequality of outcomes": "9%",
          "Life Expectancy (years)": 80.4,
          "Region": "Europe",
          "Wellbeing (0-10)": 6.9
         },
         {
          "Country": "Chile",
          "Ecological Footprint (gha/capita)": 4.4,
          "HPI Rank": 35,
          "Happy Planet Index": 31.7,
          "Inequality of outcomes": "14%",
          "Life Expectancy (years)": 81.1,
          "Region": "Americas",
          "Wellbeing (0-10)": 6.6
         },
         {
          "Country": "Pakistan",
          "Ecological Footprint (gha/capita)": 0.8,
          "HPI Rank": 36,
          "Happy Planet Index": 31.5,
          "Inequality of outcomes": "40%",
          "Life Expectancy (years)": 65.7,
          "Region": "Asia Pacific",
          "Wellbeing (0-10)": 5.1
         },
         {
          "Country": "Finland",
          "Ecological Footprint (gha/capita)": 5.9,
          "HPI Rank": 37,
          "Happy Planet Index": 31.3,
          "Inequality of outcomes": "6%",
          "Life Expectancy (years)": 80.4,
          "Region": "Europe",
          "Wellbeing (0-10)": 7.4
         },
         {
          "Country": "New Zealand",
          "Ecological Footprint (gha/capita)": 5.6,
          "HPI Rank": 38,
          "Happy Planet Index": 31.3,
          "Inequality of outcomes": "8%",
          "Life Expectancy (years)": 81.4,
          "Region": "Asia Pacific",
          "Wellbeing (0-10)": 7.2
         },
         {
          "Country": "Iceland",
          "Ecological Footprint (gha/capita)": 6.4,
          "HPI Rank": 39,
          "Happy Planet Index": 31.1,
          "Inequality of outcomes": "5%",
          "Life Expectancy (years)": 82.2,
          "Region": "Europe",
          "Wellbeing (0-10)": 7.6
         },
         {
          "Country": "Georgia",
          "Ecological Footprint (gha/capita)": 1.6,
          "HPI Rank": 40,
          "Happy Planet Index": 31.1,
          "Inequality of outcomes": "20%",
          "Life Expectancy (years)": 74.6,
          "Region": "Post-communist",
          "Wellbeing (0-10)": 4.3
         },
         {
          "Country": "Cyprus",
          "Ecological Footprint (gha/capita)": 4.2,
          "HPI Rank": 41,
          "Happy Planet Index": 30.7,
          "Inequality of outcomes": "12%",
          "Life Expectancy (years)": 79.8,
          "Region": "Europe",
          "Wellbeing (0-10)": 6.2
         },
         {
          "Country": "Nepal",
          "Ecological Footprint (gha/capita)": 1,
          "HPI Rank": 42,
          "Happy Planet Index": 30.5,
          "Inequality of outcomes": "27%",
          "Life Expectancy (years)": 68.8,
          "Region": "Asia Pacific",
          "Wellbeing (0-10)": 4.2
         },
         {
          "Country": "Austria",
          "Ecological Footprint (gha/capita)": 6.1,
          "HPI Rank": 43,
          "Happy Planet Index": 30.5,
          "Inequality of outcomes": "7%",
          "Life Expectancy (years)": 81,
          "Region": "Europe",
          "Wellbeing (0-10)": 7.4
         },
         {
          "Country": "France",
          "Ecological Footprint (gha/capita)": 5.1,
          "HPI Rank": 44,
          "Happy Planet Index": 30.4,
          "Inequality of outcomes": "9%",
          "Life Expectancy (years)": 81.8,
          "Region": "Europe",
          "Wellbeing (0-10)": 6.6
         },
         {
          "Country": "Dominican Republic",
          "Ecological Footprint (gha/capita)": 1.5,
          "HPI Rank": 45,
          "Happy Planet Index": 30.3,
          "Inequality of outcomes": "30%",
          "Life Expectancy (years)": 73.1,
          "Region": "Americas",
          "Wellbeing (0-10)": 4.8
         },
         {
          "Country": "Malaysia",
          "Ecological Footprint (gha/capita)": 3.7,
          "HPI Rank": 46,
          "Happy Planet Index": 30.3,
          "Inequality of outcomes": "10%",
          "Life Expectancy (years)": 74.4,
          "Region": "Asia Pacific",
          "Wellbeing (0-10)": 5.9
         },
         {
          "Country": "Croatia",
          "Ecological Footprint (gha/capita)": 3.9,
          "HPI Rank": 47,
          "Happy Planet Index": 30.2,
          "Inequality of outcomes": "12%",
          "Life Expectancy (years)": 77,
          "Region": "Post-communist",
          "Wellbeing (0-10)": 6
         },
         {
          "Country": "Ireland",
          "Ecological Footprint (gha/capita)": 5.6,
          "HPI Rank": 48,
          "Happy Planet Index": 30,
          "Inequality of outcomes": "8%",
          "Life Expectancy (years)": 80.5,
          "Region": "Europe",
          "Wellbeing (0-10)": 7
         },
         {
          "Country": "Germany",
          "Ecological Footprint (gha/capita)": 5.3,
          "HPI Rank": 49,
          "Happy Planet Index": 29.8,
          "Inequality of outcomes": "8%",
          "Life Expectancy (years)": 80.6,
          "Region": "Europe",
          "Wellbeing (0-10)": 6.7
         },
         {
          "Country": "India",
          "Ecological Footprint (gha/capita)": 1.2,
          "HPI Rank": 50,
          "Happy Planet Index": 29.2,
          "Inequality of outcomes": "31%",
          "Life Expectancy (years)": 67.3,
          "Region": "Asia Pacific",
          "Wellbeing (0-10)": 4.6
         },
         {
          "Country": "Uzbekistan",
          "Ecological Footprint (gha/capita)": 2.3,
          "HPI Rank": 51,
          "Happy Planet Index": 29.1,
          "Inequality of outcomes": "30%",
          "Life Expectancy (years)": 68.2,
          "Region": "Post-communist",
          "Wellbeing (0-10)": 6
         },
         {
          "Country": "Serbia",
          "Ecological Footprint (gha/capita)": 2.7,
          "HPI Rank": 52,
          "Happy Planet Index": 29,
          "Inequality of outcomes": "19%",
          "Life Expectancy (years)": 74.5,
          "Region": "Post-communist",
          "Wellbeing (0-10)": 5.2
         },
         {
          "Country": "Malta",
          "Ecological Footprint (gha/capita)": 4.4,
          "HPI Rank": 53,
          "Happy Planet Index": 29,
          "Inequality of outcomes": "13%",
          "Life Expectancy (years)": 80.2,
          "Region": "Europe",
          "Wellbeing (0-10)": 6
         },
         {
          "Country": "Israel",
          "Ecological Footprint (gha/capita)": 6.2,
          "HPI Rank": 54,
          "Happy Planet Index": 28.8,
          "Inequality of outcomes": "8%",
          "Life Expectancy (years)": 81.9,
          "Region": "Middle East and North Africa",
          "Wellbeing (0-10)": 7.1
         },
         {
          "Country": "Romania",
          "Ecological Footprint (gha/capita)": 2.7,
          "HPI Rank": 55,
          "Happy Planet Index": 28.8,
          "Inequality of outcomes": "19%",
          "Life Expectancy (years)": 74.3,
          "Region": "Post-communist",
          "Wellbeing (0-10)": 5.2
         },
         {
          "Country": "Bhutan",
          "Ecological Footprint (gha/capita)": 2.3,
          "HPI Rank": 56,
          "Happy Planet Index": 28.6,
          "Inequality of outcomes": "27%",
          "Life Expectancy (years)": 68.7,
          "Region": "Asia Pacific",
          "Wellbeing (0-10)": 5.6
         },
         {
          "Country": "Haiti",
          "Ecological Footprint (gha/capita)": 0.6,
          "HPI Rank": 57,
          "Happy Planet Index": 28.6,
          "Inequality of outcomes": "37%",
          "Life Expectancy (years)": 62.1,
          "Region": "Americas",
          "Wellbeing (0-10)": 4.4
         },
         {
          "Country": "Japan",
          "Ecological Footprint (gha/capita)": 5,
          "HPI Rank": 58,
          "Happy Planet Index": 28.3,
          "Inequality of outcomes": "9%",
          "Life Expectancy (years)": 83.2,
          "Region": "Asia Pacific",
          "Wellbeing (0-10)": 6
         },
         {
          "Country": "Slovakia",
          "Ecological Footprint (gha/capita)": 4.1,
          "HPI Rank": 59,
          "Happy Planet Index": 28.2,
          "Inequality of outcomes": "13%",
          "Life Expectancy (years)": 75.9,
          "Region": "Post-communist",
          "Wellbeing (0-10)": 5.9
         },
         {
          "Country": "Italy",
          "Ecological Footprint (gha/capita)": 4.6,
          "HPI Rank": 60,
          "Happy Planet Index": 28.1,
          "Inequality of outcomes": "12%",
          "Life Expectancy (years)": 82.7,
          "Region": "Europe",
          "Wellbeing (0-10)": 5.8
         },
         {
          "Country": "Sweden",
          "Ecological Footprint (gha/capita)": 7.3,
          "HPI Rank": 61,
          "Happy Planet Index": 28,
          "Inequality of outcomes": "6%",
          "Life Expectancy (years)": 81.8,
          "Region": "Europe",
          "Wellbeing (0-10)": 7.6
         },
         {
          "Country": "Poland",
          "Ecological Footprint (gha/capita)": 4.4,
          "HPI Rank": 62,
          "Happy Planet Index": 27.5,
          "Inequality of outcomes": "11%",
          "Life Expectancy (years)": 76.9,
          "Region": "Post-communist",
          "Wellbeing (0-10)": 5.9
         },
         {
          "Country": "Mauritius",
          "Ecological Footprint (gha/capita)": 3.5,
          "HPI Rank": 63,
          "Happy Planet Index": 27.4,
          "Inequality of outcomes": "17%",
          "Life Expectancy (years)": 74,
          "Region": "Sub Saharan Africa",
          "Wellbeing (0-10)": 5.5
         },
         {
          "Country": "Czech Republic",
          "Ecological Footprint (gha/capita)": 5.2,
          "HPI Rank": 64,
          "Happy Planet Index": 27.3,
          "Inequality of outcomes": "9%",
          "Life Expectancy (years)": 78.2,
          "Region": "Post-communist",
          "Wellbeing (0-10)": 6.3
         },
         {
          "Country": "Honduras",
          "Ecological Footprint (gha/capita)": 1.7,
          "HPI Rank": 65,
          "Happy Planet Index": 27.2,
          "Inequality of outcomes": "31%",
          "Life Expectancy (years)": 72.8,
          "Region": "Americas",
          "Wellbeing (0-10)": 4.6
         },
         {
          "Country": "Ethiopia",
          "Ecological Footprint (gha/capita)": 1,
          "HPI Rank": 66,
          "Happy Planet Index": 26.7,
          "Inequality of outcomes": "36%",
          "Life Expectancy (years)": 62.8,
          "Region": "Sub Saharan Africa",
          "Wellbeing (0-10)": 4.6
         },
         {
          "Country": "Iraq",
          "Ecological Footprint (gha/capita)": 1.9,
          "HPI Rank": 67,
          "Happy Planet Index": 26.5,
          "Inequality of outcomes": "27%",
          "Life Expectancy (years)": 69,
          "Region": "Middle East and North Africa",
          "Wellbeing (0-10)": 4.7
         },
         {
          "Country": "Turkey",
          "Ecological Footprint (gha/capita)": 3.3,
          "HPI Rank": 68,
          "Happy Planet Index": 26.4,
          "Inequality of outcomes": "19%",
          "Life Expectancy (years)": 74.7,
          "Region": "Middle East and North Africa",
          "Wellbeing (0-10)": 5.3
         },
         {
          "Country": "Hungary",
          "Ecological Footprint (gha/capita)": 2.9,
          "HPI Rank": 69,
          "Happy Planet Index": 26.4,
          "Inequality of outcomes": "15%",
          "Life Expectancy (years)": 74.9,
          "Region": "Post-communist",
          "Wellbeing (0-10)": 4.7
         },
         {
          "Country": "Ukraine",
          "Ecological Footprint (gha/capita)": 2.8,
          "HPI Rank": 70,
          "Happy Planet Index": 26.4,
          "Inequality of outcomes": "17%",
          "Life Expectancy (years)": 70.3,
          "Region": "Post-communist",
          "Wellbeing (0-10)": 5
         },
         {
          "Country": "Tunisia",
          "Ecological Footprint (gha/capita)": 2.3,
          "HPI Rank": 71,
          "Happy Planet Index": 26.2,
          "Inequality of outcomes": "22%",
          "Life Expectancy (years)": 74.6,
          "Region": "Middle East and North Africa",
          "Wellbeing (0-10)": 4.5
         },
         {
          "Country": "China",
          "Ecological Footprint (gha/capita)": 3.4,
          "HPI Rank": 72,
          "Happy Planet Index": 25.7,
          "Inequality of outcomes": "17%",
          "Life Expectancy (years)": 75.4,
          "Region": "Asia Pacific",
          "Wellbeing (0-10)": 5.1
         },
         {
          "Country": "Armenia",
          "Ecological Footprint (gha/capita)": 2.2,
          "HPI Rank": 73,
          "Happy Planet Index": 25.7,
          "Inequality of outcomes": "22%",
          "Life Expectancy (years)": 74.4,
          "Region": "Post-communist",
          "Wellbeing (0-10)": 4.3
         },
         {
          "Country": "Cambodia",
          "Ecological Footprint (gha/capita)": 1.2,
          "HPI Rank": 74,
          "Happy Planet Index": 25.6,
          "Inequality of outcomes": "28%",
          "Life Expectancy (years)": 67.5,
          "Region": "Asia Pacific",
          "Wellbeing (0-10)": 3.9
         },
         {
          "Country": "Suriname",
          "Ecological Footprint (gha/capita)": 4.3,
          "HPI Rank": 75,
          "Happy Planet Index": 25.4,
          "Inequality of outcomes": "19%",
          "Life Expectancy (years)": 70.8,
          "Region": "Americas",
          "Wellbeing (0-10)": 6.3
         },
         {
          "Country": "Bosnia and Herzegovina",
          "Ecological Footprint (gha/capita)": 3.1,
          "HPI Rank": 76,
          "Happy Planet Index": 25.3,
          "Inequality of outcomes": "19%",
          "Life Expectancy (years)": 76.2,
          "Region": "Post-communist",
          "Wellbeing (0-10)": 4.8
         },
         {
          "Country": "Zambia",
          "Ecological Footprint (gha/capita)": 1,
          "HPI Rank": 77,
          "Happy Planet Index": 25.2,
          "Inequality of outcomes": "41%",
          "Life Expectancy (years)": 58.4,
          "Region": "Sub Saharan Africa",
          "Wellbeing (0-10)": 5
         },
         {
          "Country": "Montenegro",
          "Ecological Footprint (gha/capita)": 3.8,
          "HPI Rank": 78,
          "Happy Planet Index": 25.1,
          "Inequality of outcomes": "16%",
          "Life Expectancy (years)": 75.8,
          "Region": "Post-communist",
          "Wellbeing (0-10)": 5.2
         },
         {
          "Country": "Portugal",
          "Ecological Footprint (gha/capita)": 3.9,
          "HPI Rank": 79,
          "Happy Planet Index": 24.8,
          "Inequality of outcomes": "16%",
          "Life Expectancy (years)": 80.3,
          "Region": "Europe",
          "Wellbeing (0-10)": 5
         },
         {
          "Country": "South Korea",
          "Ecological Footprint (gha/capita)": 5.7,
          "HPI Rank": 80,
          "Happy Planet Index": 24.8,
          "Inequality of outcomes": "11%",
          "Life Expectancy (years)": 81.3,
          "Region": "Asia Pacific",
          "Wellbeing (0-10)": 6
         },
         {
          "Country": "Myanmar",
          "Ecological Footprint (gha/capita)": 1.4,
          "HPI Rank": 81,
          "Happy Planet Index": 24.7,
          "Inequality of outcomes": "32%",
          "Life Expectancy (years)": 65.5,
          "Region": "Asia Pacific",
          "Wellbeing (0-10)": 4.4
         },
         {
          "Country": "Slovenia",
          "Ecological Footprint (gha/capita)": 5.8,
          "HPI Rank": 82,
          "Happy Planet Index": 24.6,
          "Inequality of outcomes": "10%",
          "Life Expectancy (years)": 80,
          "Region": "Post-communist",
          "Wellbeing (0-10)": 6.1
         },
         {
          "Country": "Kenya",
          "Ecological Footprint (gha/capita)": 1,
          "HPI Rank": 83,
          "Happy Planet Index": 24.2,
          "Inequality of outcomes": "38%",
          "Life Expectancy (years)": 60.3,
          "Region": "Sub Saharan Africa",
          "Wellbeing (0-10)": 4.5
         },
         {
          "Country": "Iran",
          "Ecological Footprint (gha/capita)": 2.8,
          "HPI Rank": 84,
          "Happy Planet Index": 24,
          "Inequality of outcomes": "23%",
          "Life Expectancy (years)": 74.8,
          "Region": "Middle East and North Africa",
          "Wellbeing (0-10)": 4.6
         },
         {
          "Country": "Canada",
          "Ecological Footprint (gha/capita)": 8.2,
          "HPI Rank": 85,
          "Happy Planet Index": 23.9,
          "Inequality of outcomes": "9%",
          "Life Expectancy (years)": 81.7,
          "Region": "Americas",
          "Wellbeing (0-10)": 7.4
         },
         {
          "Country": "Egypt",
          "Ecological Footprint (gha/capita)": 2.2,
          "HPI Rank": 86,
          "Happy Planet Index": 23.8,
          "Inequality of outcomes": "23%",
          "Life Expectancy (years)": 70.7,
          "Region": "Middle East and North Africa",
          "Wellbeing (0-10)": 4.2
         },
         {
          "Country": "Belgium",
          "Ecological Footprint (gha/capita)": 7.4,
          "HPI Rank": 87,
          "Happy Planet Index": 23.7,
          "Inequality of outcomes": "9%",
          "Life Expectancy (years)": 80.4,
          "Region": "Europe",
          "Wellbeing (0-10)": 6.9
         },
         {
          "Country": "Mozambique",
          "Ecological Footprint (gha/capita)": 0.9,
          "HPI Rank": 88,
          "Happy Planet Index": 23.7,
          "Inequality of outcomes": "43%",
          "Life Expectancy (years)": 54.3,
          "Region": "Sub Saharan Africa",
          "Wellbeing (0-10)": 5
         },
         {
          "Country": "Greece",
          "Ecological Footprint (gha/capita)": 4.4,
          "HPI Rank": 89,
          "Happy Planet Index": 23.6,
          "Inequality of outcomes": "16%",
          "Life Expectancy (years)": 80.5,
          "Region": "Europe",
          "Wellbeing (0-10)": 5.1
         },
         {
          "Country": "Macedonia",
          "Ecological Footprint (gha/capita)": 3.3,
          "HPI Rank": 90,
          "Happy Planet Index": 23.4,
          "Inequality of outcomes": "18%",
          "Life Expectancy (years)": 75.1,
          "Region": "Post-communist",
          "Wellbeing (0-10)": 4.6
         },
         {
          "Country": "Paraguay",
          "Ecological Footprint (gha/capita)": 4.2,
          "HPI Rank": 91,
          "Happy Planet Index": 23.3,
          "Inequality of outcomes": "22%",
          "Life Expectancy (years)": 72.6,
          "Region": "Americas",
          "Wellbeing (0-10)": 5.8
         },
         {
          "Country": "Bolivia",
          "Ecological Footprint (gha/capita)": 3,
          "HPI Rank": 92,
          "Happy Planet Index": 23.3,
          "Inequality of outcomes": "35%",
          "Life Expectancy (years)": 67.5,
          "Region": "Americas",
          "Wellbeing (0-10)": 6
         },
         {
          "Country": "Comoros",
          "Ecological Footprint (gha/capita)": 1,
          "HPI Rank": 93,
          "Happy Planet Index": 23.1,
          "Inequality of outcomes": "36%",
          "Life Expectancy (years)": 62.6,
          "Region": "Sub Saharan Africa",
          "Wellbeing (0-10)": 4
         },
         {
          "Country": "Yemen",
          "Ecological Footprint (gha/capita)": 1,
          "HPI Rank": 94,
          "Happy Planet Index": 22.8,
          "Inequality of outcomes": "39%",
          "Life Expectancy (years)": 63.3,
          "Region": "Middle East and North Africa",
          "Wellbeing (0-10)": 4.1
         },
         {
          "Country": "Nigeria",
          "Ecological Footprint (gha/capita)": 1.2,
          "HPI Rank": 95,
          "Happy Planet Index": 22.2,
          "Inequality of outcomes": "44%",
          "Life Expectancy (years)": 52.1,
          "Region": "Sub Saharan Africa",
          "Wellbeing (0-10)": 5.5
         },
         {
          "Country": "Liberia",
          "Ecological Footprint (gha/capita)": 1.2,
          "HPI Rank": 96,
          "Happy Planet Index": 22.2,
          "Inequality of outcomes": "38%",
          "Life Expectancy (years)": 60.2,
          "Region": "Sub Saharan Africa",
          "Wellbeing (0-10)": 4.4
         },
         {
          "Country": "Tanzania",
          "Ecological Footprint (gha/capita)": 1.3,
          "HPI Rank": 97,
          "Happy Planet Index": 22.1,
          "Inequality of outcomes": "33%",
          "Life Expectancy (years)": 63.5,
          "Region": "Sub Saharan Africa",
          "Wellbeing (0-10)": 4
         },
         {
          "Country": "Malawi",
          "Ecological Footprint (gha/capita)": 0.8,
          "HPI Rank": 98,
          "Happy Planet Index": 22.1,
          "Inequality of outcomes": "45%",
          "Life Expectancy (years)": 60.1,
          "Region": "Sub Saharan Africa",
          "Wellbeing (0-10)": 4.3
         },
         {
          "Country": "Zimbabwe",
          "Ecological Footprint (gha/capita)": 1.4,
          "HPI Rank": 99,
          "Happy Planet Index": 22.1,
          "Inequality of outcomes": "37%",
          "Life Expectancy (years)": 53.7,
          "Region": "Sub Saharan Africa",
          "Wellbeing (0-10)": 5
         },
         {
          "Country": "Lebanon",
          "Ecological Footprint (gha/capita)": 3.8,
          "HPI Rank": 100,
          "Happy Planet Index": 21.9,
          "Inequality of outcomes": "19%",
          "Life Expectancy (years)": 78.8,
          "Region": "Middle East and North Africa",
          "Wellbeing (0-10)": 4.6
         },
         {
          "Country": "Senegal",
          "Ecological Footprint (gha/capita)": 1.2,
          "HPI Rank": 101,
          "Happy Planet Index": 21.9,
          "Inequality of outcomes": "33%",
          "Life Expectancy (years)": 65.4,
          "Region": "Sub Saharan Africa",
          "Wellbeing (0-10)": 3.7
         },
         {
          "Country": "Belarus",
          "Ecological Footprint (gha/capita)": 5.1,
          "HPI Rank": 102,
          "Happy Planet Index": 21.7,
          "Inequality of outcomes": "13%",
          "Life Expectancy (years)": 70.9,
          "Region": "Post-communist",
          "Wellbeing (0-10)": 5.7
         },
         {
          "Country": "Namibia",
          "Ecological Footprint (gha/capita)": 2.5,
          "HPI Rank": 103,
          "Happy Planet Index": 21.6,
          "Inequality of outcomes": "26%",
          "Life Expectancy (years)": 64,
          "Region": "Sub Saharan Africa",
          "Wellbeing (0-10)": 4.7
         },
         {
          "Country": "Ghana",
          "Ecological Footprint (gha/capita)": 2,
          "HPI Rank": 104,
          "Happy Planet Index": 21.4,
          "Inequality of outcomes": "38%",
          "Life Expectancy (years)": 61,
          "Region": "Sub Saharan Africa",
          "Wellbeing (0-10)": 5.1
         },
         {
          "Country": "Australia",
          "Ecological Footprint (gha/capita)": 9.3,
          "HPI Rank": 105,
          "Happy Planet Index": 21.2,
          "Inequality of outcomes": "8%",
          "Life Expectancy (years)": 82.1,
          "Region": "Asia Pacific",
          "Wellbeing (0-10)": 7.2
         },
         {
          "Country": "Oman",
          "Ecological Footprint (gha/capita)": 7.5,
          "HPI Rank": 106,
          "Happy Planet Index": 21.1,
          "Inequality of outcomes": "13%",
          "Life Expectancy (years)": 76.3,
          "Region": "Middle East and North Africa",
          "Wellbeing (0-10)": 6.9
         },
         {
          "Country": "Lithuania",
          "Ecological Footprint (gha/capita)": 5.8,
          "HPI Rank": 107,
          "Happy Planet Index": 21,
          "Inequality of outcomes": "11%",
          "Life Expectancy (years)": 72.8,
          "Region": "Post-communist",
          "Wellbeing (0-10)": 5.8
         },
         {
          "Country": "United States of America",
          "Ecological Footprint (gha/capita)": 8.2,
          "HPI Rank": 108,
          "Happy Planet Index": 20.7,
          "Inequality of outcomes": "13%",
          "Life Expectancy (years)": 78.8,
          "Region": "Americas",
          "Wellbeing (0-10)": 7
         },
         {
          "Country": "Bulgaria",
          "Ecological Footprint (gha/capita)": 3.3,
          "HPI Rank": 109,
          "Happy Planet Index": 20.4,
          "Inequality of outcomes": "19%",
          "Life Expectancy (years)": 73.9,
          "Region": "Post-communist",
          "Wellbeing (0-10)": 4.2
         },
         {
          "Country": "Afghanistan",
          "Ecological Footprint (gha/capita)": 0.8,
          "HPI Rank": 110,
          "Happy Planet Index": 20.2,
          "Inequality of outcomes": "43%",
          "Life Expectancy (years)": 59.7,
          "Region": "Middle East and North Africa",
          "Wellbeing (0-10)": 3.8
         },
         {
          "Country": "Rwanda",
          "Ecological Footprint (gha/capita)": 0.9,
          "HPI Rank": 111,
          "Happy Planet Index": 19.6,
          "Inequality of outcomes": "37%",
          "Life Expectancy (years)": 63.1,
          "Region": "Sub Saharan Africa",
          "Wellbeing (0-10)": 3.3
         },
         {
          "Country": "Uganda",
          "Ecological Footprint (gha/capita)": 1.2,
          "HPI Rank": 112,
          "Happy Planet Index": 19.4,
          "Inequality of outcomes": "41%",
          "Life Expectancy (years)": 57.1,
          "Region": "Sub Saharan Africa",
          "Wellbeing (0-10)": 4.3
         },
         {
          "Country": "Syria",
          "Ecological Footprint (gha/capita)": 1.5,
          "HPI Rank": 113,
          "Happy Planet Index": 19.1,
          "Inequality of outcomes": "30%",
          "Life Expectancy (years)": 70.4,
          "Region": "Middle East and North Africa",
          "Wellbeing (0-10)": 3.2
         },
         {
          "Country": "Kazakhstan",
          "Ecological Footprint (gha/capita)": 5.6,
          "HPI Rank": 114,
          "Happy Planet Index": 19.1,
          "Inequality of outcomes": "18%",
          "Life Expectancy (years)": 68.6,
          "Region": "Post-communist",
          "Wellbeing (0-10)": 5.8
         },
         {
          "Country": "Republic of Congo",
          "Ecological Footprint (gha/capita)": 1.3,
          "HPI Rank": 115,
          "Happy Planet Index": 18.8,
          "Inequality of outcomes": "40%",
          "Life Expectancy (years)": 61,
          "Region": "Sub Saharan Africa",
          "Wellbeing (0-10)": 3.9
         },
         {
          "Country": "Russia",
          "Ecological Footprint (gha/capita)": 5.7,
          "HPI Rank": 116,
          "Happy Planet Index": 18.7,
          "Inequality of outcomes": "16%",
          "Life Expectancy (years)": 69.5,
          "Region": "Post-communist",
          "Wellbeing (0-10)": 5.6
         },
         {
          "Country": "Mauritania",
          "Ecological Footprint (gha/capita)": 2.5,
          "HPI Rank": 117,
          "Happy Planet Index": 18,
          "Inequality of outcomes": "37%",
          "Life Expectancy (years)": 62.6,
          "Region": "Sub Saharan Africa",
          "Wellbeing (0-10)": 4.7
         },
         {
          "Country": "Estonia",
          "Ecological Footprint (gha/capita)": 6.9,
          "HPI Rank": 118,
          "Happy Planet Index": 17.9,
          "Inequality of outcomes": "12%",
          "Life Expectancy (years)": 76.2,
          "Region": "Post-communist",
          "Wellbeing (0-10)": 5.4
         },
         {
          "Country": "Burkina Faso",
          "Ecological Footprint (gha/capita)": 1.2,
          "HPI Rank": 119,
          "Happy Planet Index": 17.9,
          "Inequality of outcomes": "43%",
          "Life Expectancy (years)": 58,
          "Region": "Sub Saharan Africa",
          "Wellbeing (0-10)": 4
         },
         {
          "Country": "Gabon",
          "Ecological Footprint (gha/capita)": 2,
          "HPI Rank": 120,
          "Happy Planet Index": 17.5,
          "Inequality of outcomes": "36%",
          "Life Expectancy (years)": 63.3,
          "Region": "Sub Saharan Africa",
          "Wellbeing (0-10)": 4
         },
         {
          "Country": "Latvia",
          "Ecological Footprint (gha/capita)": 6.3,
          "HPI Rank": 121,
          "Happy Planet Index": 17.1,
          "Inequality of outcomes": "14%",
          "Life Expectancy (years)": 73.6,
          "Region": "Post-communist",
          "Wellbeing (0-10)": 5.1
         },
         {
          "Country": "Niger",
          "Ecological Footprint (gha/capita)": 1.6,
          "HPI Rank": 122,
          "Happy Planet Index": 16.8,
          "Inequality of outcomes": "40%",
          "Life Expectancy (years)": 60,
          "Region": "Sub Saharan Africa",
          "Wellbeing (0-10)": 3.8
         },
         {
          "Country": "Hong Kong",
          "Ecological Footprint (gha/capita)": 8.8,
          "HPI Rank": 123,
          "Happy Planet Index": 16.8,
          "Inequality of outcomes": "10%",
          "Life Expectancy (years)": 83.6,
          "Region": "Asia Pacific",
          "Wellbeing (0-10)": 5.5
         },
         {
          "Country": "Cameroon",
          "Ecological Footprint (gha/capita)": 1.2,
          "HPI Rank": 124,
          "Happy Planet Index": 16.7,
          "Inequality of outcomes": "47%",
          "Life Expectancy (years)": 54.6,
          "Region": "Sub Saharan Africa",
          "Wellbeing (0-10)": 4.2
         },
         {
          "Country": "Lesotho",
          "Ecological Footprint (gha/capita)": 1.7,
          "HPI Rank": 125,
          "Happy Planet Index": 16.7,
          "Inequality of outcomes": "42%",
          "Life Expectancy (years)": 48.9,
          "Region": "Sub Saharan Africa",
          "Wellbeing (0-10)": 4.9
         },
         {
          "Country": "Botswana",
          "Ecological Footprint (gha/capita)": 3.8,
          "HPI Rank": 126,
          "Happy Planet Index": 16.6,
          "Inequality of outcomes": "28%",
          "Life Expectancy (years)": 64.2,
          "Region": "Sub Saharan Africa",
          "Wellbeing (0-10)": 4.8
         },
         {
          "Country": "Djibouti",
          "Ecological Footprint (gha/capita)": 2.2,
          "HPI Rank": 127,
          "Happy Planet Index": 16.4,
          "Inequality of outcomes": "42%",
          "Life Expectancy (years)": 61.3,
          "Region": "Sub Saharan Africa",
          "Wellbeing (0-10)": 4.4
         },
         {
          "Country": "South Africa",
          "Ecological Footprint (gha/capita)": 3.3,
          "HPI Rank": 128,
          "Happy Planet Index": 15.9,
          "Inequality of outcomes": "33%",
          "Life Expectancy (years)": 56.3,
          "Region": "Sub Saharan Africa",
          "Wellbeing (0-10)": 5.1
         },
         {
          "Country": "Guinea",
          "Ecological Footprint (gha/capita)": 1.4,
          "HPI Rank": 129,
          "Happy Planet Index": 15.9,
          "Inequality of outcomes": "42%",
          "Life Expectancy (years)": 57.7,
          "Region": "Sub Saharan Africa",
          "Wellbeing (0-10)": 3.7
         },
         {
          "Country": "Trinidad and Tobago",
          "Ecological Footprint (gha/capita)": 7.9,
          "HPI Rank": 130,
          "Happy Planet Index": 15.7,
          "Inequality of outcomes": "21%",
          "Life Expectancy (years)": 70.1,
          "Region": "Americas",
          "Wellbeing (0-10)": 6.4
         },
         {
          "Country": "Burundi",
          "Ecological Footprint (gha/capita)": 0.8,
          "HPI Rank": 131,
          "Happy Planet Index": 15.6,
          "Inequality of outcomes": "48%",
          "Life Expectancy (years)": 55.8,
          "Region": "Sub Saharan Africa",
          "Wellbeing (0-10)": 3.4
         },
         {
          "Country": "Swaziland",
          "Ecological Footprint (gha/capita)": 2,
          "HPI Rank": 132,
          "Happy Planet Index": 15.5,
          "Inequality of outcomes": "41%",
          "Life Expectancy (years)": 48.9,
          "Region": "Sub Saharan Africa",
          "Wellbeing (0-10)": 4.9
         },
         {
          "Country": "Sierra Leone",
          "Ecological Footprint (gha/capita)": 1.2,
          "HPI Rank": 133,
          "Happy Planet Index": 15.3,
          "Inequality of outcomes": "50%",
          "Life Expectancy (years)": 49.8,
          "Region": "Sub Saharan Africa",
          "Wellbeing (0-10)": 4.5
         },
         {
          "Country": "Turkmenistan",
          "Ecological Footprint (gha/capita)": 5.5,
          "HPI Rank": 134,
          "Happy Planet Index": 14.6,
          "Inequality of outcomes": "31%",
          "Life Expectancy (years)": 65.3,
          "Region": "Post-communist",
          "Wellbeing (0-10)": 5.5
         },
         {
          "Country": "Cote d'Ivoire",
          "Ecological Footprint (gha/capita)": 1.3,
          "HPI Rank": 135,
          "Happy Planet Index": 14.4,
          "Inequality of outcomes": "45%",
          "Life Expectancy (years)": 50.8,
          "Region": "Sub Saharan Africa",
          "Wellbeing (0-10)": 3.8
         },
         {
          "Country": "Mongolia",
          "Ecological Footprint (gha/capita)": 6.1,
          "HPI Rank": 136,
          "Happy Planet Index": 14.3,
          "Inequality of outcomes": "22%",
          "Life Expectancy (years)": 68.6,
          "Region": "Asia Pacific",
          "Wellbeing (0-10)": 4.9
         },
         {
          "Country": "Benin",
          "Ecological Footprint (gha/capita)": 1.4,
          "HPI Rank": 137,
          "Happy Planet Index": 13.4,
          "Inequality of outcomes": "44%",
          "Life Expectancy (years)": 59.2,
          "Region": "Sub Saharan Africa",
          "Wellbeing (0-10)": 3.2
         },
         {
          "Country": "Togo",
          "Ecological Footprint (gha/capita)": 1.1,
          "HPI Rank": 138,
          "Happy Planet Index": 13.2,
          "Inequality of outcomes": "43%",
          "Life Expectancy (years)": 58.6,
          "Region": "Sub Saharan Africa",
          "Wellbeing (0-10)": 2.9
         },
         {
          "Country": "Luxembourg",
          "Ecological Footprint (gha/capita)": 15.8,
          "HPI Rank": 139,
          "Happy Planet Index": 13.2,
          "Inequality of outcomes": "7%",
          "Life Expectancy (years)": 81.1,
          "Region": "Europe",
          "Wellbeing (0-10)": 7
         },
         {
          "Country": "Chad",
          "Ecological Footprint (gha/capita)": 1.5,
          "HPI Rank": 140,
          "Happy Planet Index": 12.8,
          "Inequality of outcomes": "51%",
          "Life Expectancy (years)": 50.8,
          "Region": "Sub Saharan Africa",
          "Wellbeing (0-10)": 4
         }
        ]
       },
       "layer": [
        {
         "encoding": {
          "x": {
           "field": "Region",
           "type": "nominal"
          },
          "y": {
           "aggregate": "mean",
           "field": "Happy Planet Index",
           "type": "quantitative"
          }
         },
         "mark": "bar",
         "width": 400
        },
        {
         "encoding": {
          "size": {
           "value": 3
          },
          "y": {
           "aggregate": "mean",
           "field": "Happy Planet Index",
           "type": "quantitative"
          }
         },
         "mark": {
          "color": "firebrick",
          "type": "rule"
         }
        }
       ]
      },
      "text/plain": [
       "<VegaLite 3 object>\n",
       "\n",
       "If you see this message, it means the renderer has not been properly enabled\n",
       "for the frontend that you are using. For more information, see\n",
       "https://altair-viz.github.io/user_guide/troubleshooting.html\n"
      ]
     },
     "execution_count": 9,
     "metadata": {},
     "output_type": "execute_result"
    }
   ],
   "source": [
    "import altair as alt\n",
    "bars = alt.Chart().mark_bar().encode(\n",
    "x='Region:N',\n",
    "y='mean(Happy Planet Index):Q',\n",
    ").properties(width=400)\n",
    "line = alt.Chart().mark_rule(color='firebrick').encode(\n",
    "y='mean(Happy Planet Index):Q',\n",
    "size=alt.SizeValue(3)\n",
    ")\n",
    "alt.layer(bars, line, data=hpi_df)"
   ]
  },
  {
   "cell_type": "code",
   "execution_count": null,
   "metadata": {},
   "outputs": [],
   "source": []
  }
 ],
 "metadata": {
  "kernelspec": {
   "display_name": "Python 3",
   "language": "python",
   "name": "python3"
  },
  "language_info": {
   "codemirror_mode": {
    "name": "ipython",
    "version": 3
   },
   "file_extension": ".py",
   "mimetype": "text/x-python",
   "name": "python",
   "nbconvert_exporter": "python",
   "pygments_lexer": "ipython3",
   "version": "3.7.3"
  }
 },
 "nbformat": 4,
 "nbformat_minor": 2
}

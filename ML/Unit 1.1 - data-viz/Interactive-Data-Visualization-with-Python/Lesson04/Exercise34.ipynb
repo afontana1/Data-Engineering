{
 "cells": [
  {
   "cell_type": "code",
   "execution_count": 2,
   "metadata": {},
   "outputs": [
    {
     "data": {
      "application/vnd.vegalite.v3+json": {
       "$schema": "https://vega.github.io/schema/vega-lite/v3.4.0.json",
       "config": {
        "mark": {
         "tooltip": null
        },
        "view": {
         "height": 300,
         "width": 400
        }
       },
       "data": {
        "name": "data-22244da73078f87a5cac738ccc9634ea"
       },
       "datasets": {
        "data-22244da73078f87a5cac738ccc9634ea": [
         {
          "HPI Rank\tCountry\tRegion\tLife Expectancy (years)\tWellbeing (0-10)\tInequality of outcomes\tEcological Footprint (gha/capita)\tHappy Planet Index": "1\tCosta Rica\tAmericas\t79.1\t7.3\t15%\t2.8\t44.7"
         },
         {
          "HPI Rank\tCountry\tRegion\tLife Expectancy (years)\tWellbeing (0-10)\tInequality of outcomes\tEcological Footprint (gha/capita)\tHappy Planet Index": "2\tMexico\tAmericas\t76.4\t7.3\t19%\t2.9\t40.7"
         },
         {
          "HPI Rank\tCountry\tRegion\tLife Expectancy (years)\tWellbeing (0-10)\tInequality of outcomes\tEcological Footprint (gha/capita)\tHappy Planet Index": "3\tColombia\tAmericas\t73.7\t6.4\t24%\t1.9\t40.7"
         },
         {
          "HPI Rank\tCountry\tRegion\tLife Expectancy (years)\tWellbeing (0-10)\tInequality of outcomes\tEcological Footprint (gha/capita)\tHappy Planet Index": "4\tVanuatu\tAsia Pacific\t71.3\t6.5\t22%\t1.9\t40.6"
         },
         {
          "HPI Rank\tCountry\tRegion\tLife Expectancy (years)\tWellbeing (0-10)\tInequality of outcomes\tEcological Footprint (gha/capita)\tHappy Planet Index": "5\tVietnam\tAsia Pacific\t75.5\t5.5\t19%\t1.7\t40.3"
         },
         {
          "HPI Rank\tCountry\tRegion\tLife Expectancy (years)\tWellbeing (0-10)\tInequality of outcomes\tEcological Footprint (gha/capita)\tHappy Planet Index": "6\tPanama\tAmericas\t77.2\t6.9\t19%\t2.8\t39.5"
         },
         {
          "HPI Rank\tCountry\tRegion\tLife Expectancy (years)\tWellbeing (0-10)\tInequality of outcomes\tEcological Footprint (gha/capita)\tHappy Planet Index": "7\tNicaragua\tAmericas\t74.3\t5.4\t25%\t1.4\t38.7"
         },
         {
          "HPI Rank\tCountry\tRegion\tLife Expectancy (years)\tWellbeing (0-10)\tInequality of outcomes\tEcological Footprint (gha/capita)\tHappy Planet Index": "8\tBangladesh\tAsia Pacific\t70.8\t4.7\t27%\t0.7\t38.4"
         },
         {
          "HPI Rank\tCountry\tRegion\tLife Expectancy (years)\tWellbeing (0-10)\tInequality of outcomes\tEcological Footprint (gha/capita)\tHappy Planet Index": "9\tThailand\tAsia Pacific\t74.1\t6.3\t15%\t2.7\t37.3"
         },
         {
          "HPI Rank\tCountry\tRegion\tLife Expectancy (years)\tWellbeing (0-10)\tInequality of outcomes\tEcological Footprint (gha/capita)\tHappy Planet Index": "10\tEcuador\tAmericas\t75.4\t6\t22%\t2.2\t37"
         },
         {
          "HPI Rank\tCountry\tRegion\tLife Expectancy (years)\tWellbeing (0-10)\tInequality of outcomes\tEcological Footprint (gha/capita)\tHappy Planet Index": "11\tJamaica\tAmericas\t75.3\t5.6\t21%\t1.9\t36.9"
         },
         {
          "HPI Rank\tCountry\tRegion\tLife Expectancy (years)\tWellbeing (0-10)\tInequality of outcomes\tEcological Footprint (gha/capita)\tHappy Planet Index": "12\tNorway\tEurope\t81.3\t7.7\t7%\t5\t36.8"
         },
         {
          "HPI Rank\tCountry\tRegion\tLife Expectancy (years)\tWellbeing (0-10)\tInequality of outcomes\tEcological Footprint (gha/capita)\tHappy Planet Index": "13\tAlbania\tPost-communist\t77.3\t5.5\t17%\t2.2\t36.8"
         },
         {
          "HPI Rank\tCountry\tRegion\tLife Expectancy (years)\tWellbeing (0-10)\tInequality of outcomes\tEcological Footprint (gha/capita)\tHappy Planet Index": "14\tUruguay\tAmericas\t76.9\t6.4\t18%\t2.9\t36.1"
         },
         {
          "HPI Rank\tCountry\tRegion\tLife Expectancy (years)\tWellbeing (0-10)\tInequality of outcomes\tEcological Footprint (gha/capita)\tHappy Planet Index": "15\tSpain\tEurope\t82.2\t6.3\t10%\t3.7\t36"
         },
         {
          "HPI Rank\tCountry\tRegion\tLife Expectancy (years)\tWellbeing (0-10)\tInequality of outcomes\tEcological Footprint (gha/capita)\tHappy Planet Index": "16\tIndonesia\tAsia Pacific\t68.5\t5.4\t21%\t1.6\t35.7"
         },
         {
          "HPI Rank\tCountry\tRegion\tLife Expectancy (years)\tWellbeing (0-10)\tInequality of outcomes\tEcological Footprint (gha/capita)\tHappy Planet Index": "17\tEl Salvador\tAmericas\t72.5\t5.9\t22%\t2.1\t35.6"
         },
         {
          "HPI Rank\tCountry\tRegion\tLife Expectancy (years)\tWellbeing (0-10)\tInequality of outcomes\tEcological Footprint (gha/capita)\tHappy Planet Index": "18\tNetherlands\tEurope\t81.2\t7.5\t4%\t5.3\t35.3"
         },
         {
          "HPI Rank\tCountry\tRegion\tLife Expectancy (years)\tWellbeing (0-10)\tInequality of outcomes\tEcological Footprint (gha/capita)\tHappy Planet Index": "19\tArgentina\tAmericas\t75.9\t6.5\t16%\t3.1\t35.2"
         },
         {
          "HPI Rank\tCountry\tRegion\tLife Expectancy (years)\tWellbeing (0-10)\tInequality of outcomes\tEcological Footprint (gha/capita)\tHappy Planet Index": "20\tPhilippines\tAsia Pacific\t67.9\t5\t26%\t1.1\t35"
         },
         {
          "HPI Rank\tCountry\tRegion\tLife Expectancy (years)\tWellbeing (0-10)\tInequality of outcomes\tEcological Footprint (gha/capita)\tHappy Planet Index": "21\tPeru\tAmericas\t74.1\t5.8\t21%\t2.3\t34.6"
         },
         {
          "HPI Rank\tCountry\tRegion\tLife Expectancy (years)\tWellbeing (0-10)\tInequality of outcomes\tEcological Footprint (gha/capita)\tHappy Planet Index": "22\tPalestine\tMiddle East and North Africa\t72.6\t4.6\t24%\t1.2\t34.5"
         },
         {
          "HPI Rank\tCountry\tRegion\tLife Expectancy (years)\tWellbeing (0-10)\tInequality of outcomes\tEcological Footprint (gha/capita)\tHappy Planet Index": "23\tBrazil\tAmericas\t73.9\t6.9\t22%\t3.1\t34.3"
         },
         {
          "HPI Rank\tCountry\tRegion\tLife Expectancy (years)\tWellbeing (0-10)\tInequality of outcomes\tEcological Footprint (gha/capita)\tHappy Planet Index": "24\tSwitzerland\tEurope\t82.6\t7.8\t6%\t5.8\t34.3"
         },
         {
          "HPI Rank\tCountry\tRegion\tLife Expectancy (years)\tWellbeing (0-10)\tInequality of outcomes\tEcological Footprint (gha/capita)\tHappy Planet Index": "25\tTajikistan\tPost-communist\t69\t4.5\t26%\t0.9\t34.2"
         },
         {
          "HPI Rank\tCountry\tRegion\tLife Expectancy (years)\tWellbeing (0-10)\tInequality of outcomes\tEcological Footprint (gha/capita)\tHappy Planet Index": "26\tGuatemala\tAmericas\t71.4\t5.9\t27%\t1.9\t34.2"
         },
         {
          "HPI Rank\tCountry\tRegion\tLife Expectancy (years)\tWellbeing (0-10)\tInequality of outcomes\tEcological Footprint (gha/capita)\tHappy Planet Index": "27\tBelize\tAmericas\t69.8\t6.1\t18%\t2.5\t33.8"
         },
         {
          "HPI Rank\tCountry\tRegion\tLife Expectancy (years)\tWellbeing (0-10)\tInequality of outcomes\tEcological Footprint (gha/capita)\tHappy Planet Index": "28\tSri Lanka\tAsia Pacific\t74.6\t4.2\t17%\t1.3\t33.8"
         },
         {
          "HPI Rank\tCountry\tRegion\tLife Expectancy (years)\tWellbeing (0-10)\tInequality of outcomes\tEcological Footprint (gha/capita)\tHappy Planet Index": "29\tVenezuela\tAmericas\t73.9\t7.1\t19%\t3.6\t33.6"
         },
         {
          "HPI Rank\tCountry\tRegion\tLife Expectancy (years)\tWellbeing (0-10)\tInequality of outcomes\tEcological Footprint (gha/capita)\tHappy Planet Index": "30\tAlgeria\tMiddle East and North Africa\t74.3\t5.6\t24%\t2.1\t33.3"
         },
         {
          "HPI Rank\tCountry\tRegion\tLife Expectancy (years)\tWellbeing (0-10)\tInequality of outcomes\tEcological Footprint (gha/capita)\tHappy Planet Index": "31\tKyrgyzstan\tPost-communist\t69.7\t5.2\t18%\t1.9\t33.1"
         },
         {
          "HPI Rank\tCountry\tRegion\tLife Expectancy (years)\tWellbeing (0-10)\tInequality of outcomes\tEcological Footprint (gha/capita)\tHappy Planet Index": "32\tDenmark\tEurope\t79.8\t7.5\t7%\t5.5\t32.7"
         },
         {
          "HPI Rank\tCountry\tRegion\tLife Expectancy (years)\tWellbeing (0-10)\tInequality of outcomes\tEcological Footprint (gha/capita)\tHappy Planet Index": "33\tMorocco\tMiddle East and North Africa\t73.4\t5\t25%\t1.7\t32.7"
         },
         {
          "HPI Rank\tCountry\tRegion\tLife Expectancy (years)\tWellbeing (0-10)\tInequality of outcomes\tEcological Footprint (gha/capita)\tHappy Planet Index": "34\tUnited Kingdom\tEurope\t80.4\t6.9\t9%\t4.9\t31.9"
         },
         {
          "HPI Rank\tCountry\tRegion\tLife Expectancy (years)\tWellbeing (0-10)\tInequality of outcomes\tEcological Footprint (gha/capita)\tHappy Planet Index": "35\tChile\tAmericas\t81.1\t6.6\t14%\t4.4\t31.7"
         },
         {
          "HPI Rank\tCountry\tRegion\tLife Expectancy (years)\tWellbeing (0-10)\tInequality of outcomes\tEcological Footprint (gha/capita)\tHappy Planet Index": "36\tPakistan\tAsia Pacific\t65.7\t5.1\t40%\t0.8\t31.5"
         },
         {
          "HPI Rank\tCountry\tRegion\tLife Expectancy (years)\tWellbeing (0-10)\tInequality of outcomes\tEcological Footprint (gha/capita)\tHappy Planet Index": "37\tFinland\tEurope\t80.4\t7.4\t6%\t5.9\t31.3"
         },
         {
          "HPI Rank\tCountry\tRegion\tLife Expectancy (years)\tWellbeing (0-10)\tInequality of outcomes\tEcological Footprint (gha/capita)\tHappy Planet Index": "38\tNew Zealand\tAsia Pacific\t81.4\t7.2\t8%\t5.6\t31.3"
         },
         {
          "HPI Rank\tCountry\tRegion\tLife Expectancy (years)\tWellbeing (0-10)\tInequality of outcomes\tEcological Footprint (gha/capita)\tHappy Planet Index": "39\tIceland\tEurope\t82.2\t7.6\t5%\t6.4\t31.1"
         },
         {
          "HPI Rank\tCountry\tRegion\tLife Expectancy (years)\tWellbeing (0-10)\tInequality of outcomes\tEcological Footprint (gha/capita)\tHappy Planet Index": "40\tGeorgia\tPost-communist\t74.6\t4.3\t20%\t1.6\t31.1"
         },
         {
          "HPI Rank\tCountry\tRegion\tLife Expectancy (years)\tWellbeing (0-10)\tInequality of outcomes\tEcological Footprint (gha/capita)\tHappy Planet Index": "41\tCyprus\tEurope\t79.8\t6.2\t12%\t4.2\t30.7"
         },
         {
          "HPI Rank\tCountry\tRegion\tLife Expectancy (years)\tWellbeing (0-10)\tInequality of outcomes\tEcological Footprint (gha/capita)\tHappy Planet Index": "42\tNepal\tAsia Pacific\t68.8\t4.2\t27%\t1\t30.5"
         },
         {
          "HPI Rank\tCountry\tRegion\tLife Expectancy (years)\tWellbeing (0-10)\tInequality of outcomes\tEcological Footprint (gha/capita)\tHappy Planet Index": "43\tAustria\tEurope\t81\t7.4\t7%\t6.1\t30.5"
         },
         {
          "HPI Rank\tCountry\tRegion\tLife Expectancy (years)\tWellbeing (0-10)\tInequality of outcomes\tEcological Footprint (gha/capita)\tHappy Planet Index": "44\tFrance\tEurope\t81.8\t6.6\t9%\t5.1\t30.4"
         },
         {
          "HPI Rank\tCountry\tRegion\tLife Expectancy (years)\tWellbeing (0-10)\tInequality of outcomes\tEcological Footprint (gha/capita)\tHappy Planet Index": "45\tDominican Republic\tAmericas\t73.1\t4.8\t30%\t1.5\t30.3"
         },
         {
          "HPI Rank\tCountry\tRegion\tLife Expectancy (years)\tWellbeing (0-10)\tInequality of outcomes\tEcological Footprint (gha/capita)\tHappy Planet Index": "46\tMalaysia\tAsia Pacific\t74.4\t5.9\t10%\t3.7\t30.3"
         },
         {
          "HPI Rank\tCountry\tRegion\tLife Expectancy (years)\tWellbeing (0-10)\tInequality of outcomes\tEcological Footprint (gha/capita)\tHappy Planet Index": "47\tCroatia\tPost-communist\t77\t6\t12%\t3.9\t30.2"
         },
         {
          "HPI Rank\tCountry\tRegion\tLife Expectancy (years)\tWellbeing (0-10)\tInequality of outcomes\tEcological Footprint (gha/capita)\tHappy Planet Index": "48\tIreland\tEurope\t80.5\t7\t8%\t5.6\t30"
         },
         {
          "HPI Rank\tCountry\tRegion\tLife Expectancy (years)\tWellbeing (0-10)\tInequality of outcomes\tEcological Footprint (gha/capita)\tHappy Planet Index": "49\tGermany\tEurope\t80.6\t6.7\t8%\t5.3\t29.8"
         },
         {
          "HPI Rank\tCountry\tRegion\tLife Expectancy (years)\tWellbeing (0-10)\tInequality of outcomes\tEcological Footprint (gha/capita)\tHappy Planet Index": "50\tIndia\tAsia Pacific\t67.3\t4.6\t31%\t1.2\t29.2"
         },
         {
          "HPI Rank\tCountry\tRegion\tLife Expectancy (years)\tWellbeing (0-10)\tInequality of outcomes\tEcological Footprint (gha/capita)\tHappy Planet Index": "51\tUzbekistan\tPost-communist\t68.2\t6\t30%\t2.3\t29.1"
         },
         {
          "HPI Rank\tCountry\tRegion\tLife Expectancy (years)\tWellbeing (0-10)\tInequality of outcomes\tEcological Footprint (gha/capita)\tHappy Planet Index": "52\tSerbia\tPost-communist\t74.5\t5.2\t19%\t2.7\t29"
         },
         {
          "HPI Rank\tCountry\tRegion\tLife Expectancy (years)\tWellbeing (0-10)\tInequality of outcomes\tEcological Footprint (gha/capita)\tHappy Planet Index": "53\tMalta\tEurope\t80.2\t6\t13%\t4.4\t29"
         },
         {
          "HPI Rank\tCountry\tRegion\tLife Expectancy (years)\tWellbeing (0-10)\tInequality of outcomes\tEcological Footprint (gha/capita)\tHappy Planet Index": "54\tIsrael\tMiddle East and North Africa\t81.9\t7.1\t8%\t6.2\t28.8"
         },
         {
          "HPI Rank\tCountry\tRegion\tLife Expectancy (years)\tWellbeing (0-10)\tInequality of outcomes\tEcological Footprint (gha/capita)\tHappy Planet Index": "55\tRomania\tPost-communist\t74.3\t5.2\t19%\t2.7\t28.8"
         },
         {
          "HPI Rank\tCountry\tRegion\tLife Expectancy (years)\tWellbeing (0-10)\tInequality of outcomes\tEcological Footprint (gha/capita)\tHappy Planet Index": "56\tBhutan\tAsia Pacific\t68.7\t5.6\t27%\t2.3\t28.6"
         },
         {
          "HPI Rank\tCountry\tRegion\tLife Expectancy (years)\tWellbeing (0-10)\tInequality of outcomes\tEcological Footprint (gha/capita)\tHappy Planet Index": "57\tHaiti\tAmericas\t62.1\t4.4\t37%\t0.6\t28.6"
         },
         {
          "HPI Rank\tCountry\tRegion\tLife Expectancy (years)\tWellbeing (0-10)\tInequality of outcomes\tEcological Footprint (gha/capita)\tHappy Planet Index": "58\tJapan\tAsia Pacific\t83.2\t6\t9%\t5\t28.3"
         },
         {
          "HPI Rank\tCountry\tRegion\tLife Expectancy (years)\tWellbeing (0-10)\tInequality of outcomes\tEcological Footprint (gha/capita)\tHappy Planet Index": "59\tSlovakia\tPost-communist\t75.9\t5.9\t13%\t4.1\t28.2"
         },
         {
          "HPI Rank\tCountry\tRegion\tLife Expectancy (years)\tWellbeing (0-10)\tInequality of outcomes\tEcological Footprint (gha/capita)\tHappy Planet Index": "60\tItaly\tEurope\t82.7\t5.8\t12%\t4.6\t28.1"
         },
         {
          "HPI Rank\tCountry\tRegion\tLife Expectancy (years)\tWellbeing (0-10)\tInequality of outcomes\tEcological Footprint (gha/capita)\tHappy Planet Index": "61\tSweden\tEurope\t81.8\t7.6\t6%\t7.3\t28"
         },
         {
          "HPI Rank\tCountry\tRegion\tLife Expectancy (years)\tWellbeing (0-10)\tInequality of outcomes\tEcological Footprint (gha/capita)\tHappy Planet Index": "62\tPoland\tPost-communist\t76.9\t5.9\t11%\t4.4\t27.5"
         },
         {
          "HPI Rank\tCountry\tRegion\tLife Expectancy (years)\tWellbeing (0-10)\tInequality of outcomes\tEcological Footprint (gha/capita)\tHappy Planet Index": "63\tMauritius\tSub Saharan Africa\t74\t5.5\t17%\t3.5\t27.4"
         },
         {
          "HPI Rank\tCountry\tRegion\tLife Expectancy (years)\tWellbeing (0-10)\tInequality of outcomes\tEcological Footprint (gha/capita)\tHappy Planet Index": "64\tCzech Republic\tPost-communist\t78.2\t6.3\t9%\t5.2\t27.3"
         },
         {
          "HPI Rank\tCountry\tRegion\tLife Expectancy (years)\tWellbeing (0-10)\tInequality of outcomes\tEcological Footprint (gha/capita)\tHappy Planet Index": "65\tHonduras\tAmericas\t72.8\t4.6\t31%\t1.7\t27.2"
         },
         {
          "HPI Rank\tCountry\tRegion\tLife Expectancy (years)\tWellbeing (0-10)\tInequality of outcomes\tEcological Footprint (gha/capita)\tHappy Planet Index": "66\tEthiopia\tSub Saharan Africa\t62.8\t4.6\t36%\t1\t26.7"
         },
         {
          "HPI Rank\tCountry\tRegion\tLife Expectancy (years)\tWellbeing (0-10)\tInequality of outcomes\tEcological Footprint (gha/capita)\tHappy Planet Index": "67\tIraq\tMiddle East and North Africa\t69\t4.7\t27%\t1.9\t26.5"
         },
         {
          "HPI Rank\tCountry\tRegion\tLife Expectancy (years)\tWellbeing (0-10)\tInequality of outcomes\tEcological Footprint (gha/capita)\tHappy Planet Index": "68\tTurkey\tMiddle East and North Africa\t74.7\t5.3\t19%\t3.3\t26.4"
         },
         {
          "HPI Rank\tCountry\tRegion\tLife Expectancy (years)\tWellbeing (0-10)\tInequality of outcomes\tEcological Footprint (gha/capita)\tHappy Planet Index": "69\tHungary\tPost-communist\t74.9\t4.7\t15%\t2.9\t26.4"
         },
         {
          "HPI Rank\tCountry\tRegion\tLife Expectancy (years)\tWellbeing (0-10)\tInequality of outcomes\tEcological Footprint (gha/capita)\tHappy Planet Index": "70\tUkraine\tPost-communist\t70.3\t5\t17%\t2.8\t26.4"
         },
         {
          "HPI Rank\tCountry\tRegion\tLife Expectancy (years)\tWellbeing (0-10)\tInequality of outcomes\tEcological Footprint (gha/capita)\tHappy Planet Index": "71\tTunisia\tMiddle East and North Africa\t74.6\t4.5\t22%\t2.3\t26.2"
         },
         {
          "HPI Rank\tCountry\tRegion\tLife Expectancy (years)\tWellbeing (0-10)\tInequality of outcomes\tEcological Footprint (gha/capita)\tHappy Planet Index": "72\tChina\tAsia Pacific\t75.4\t5.1\t17%\t3.4\t25.7"
         },
         {
          "HPI Rank\tCountry\tRegion\tLife Expectancy (years)\tWellbeing (0-10)\tInequality of outcomes\tEcological Footprint (gha/capita)\tHappy Planet Index": "73\tArmenia\tPost-communist\t74.4\t4.3\t22%\t2.2\t25.7"
         },
         {
          "HPI Rank\tCountry\tRegion\tLife Expectancy (years)\tWellbeing (0-10)\tInequality of outcomes\tEcological Footprint (gha/capita)\tHappy Planet Index": "74\tCambodia\tAsia Pacific\t67.5\t3.9\t28%\t1.2\t25.6"
         },
         {
          "HPI Rank\tCountry\tRegion\tLife Expectancy (years)\tWellbeing (0-10)\tInequality of outcomes\tEcological Footprint (gha/capita)\tHappy Planet Index": "75\tSuriname\tAmericas\t70.8\t6.3\t19%\t4.3\t25.4"
         },
         {
          "HPI Rank\tCountry\tRegion\tLife Expectancy (years)\tWellbeing (0-10)\tInequality of outcomes\tEcological Footprint (gha/capita)\tHappy Planet Index": "76\tBosnia and Herzegovina\tPost-communist\t76.2\t4.8\t19%\t3.1\t25.3"
         },
         {
          "HPI Rank\tCountry\tRegion\tLife Expectancy (years)\tWellbeing (0-10)\tInequality of outcomes\tEcological Footprint (gha/capita)\tHappy Planet Index": "77\tZambia\tSub Saharan Africa\t58.4\t5\t41%\t1\t25.2"
         },
         {
          "HPI Rank\tCountry\tRegion\tLife Expectancy (years)\tWellbeing (0-10)\tInequality of outcomes\tEcological Footprint (gha/capita)\tHappy Planet Index": "78\tMontenegro\tPost-communist\t75.8\t5.2\t16%\t3.8\t25.1"
         },
         {
          "HPI Rank\tCountry\tRegion\tLife Expectancy (years)\tWellbeing (0-10)\tInequality of outcomes\tEcological Footprint (gha/capita)\tHappy Planet Index": "79\tPortugal\tEurope\t80.3\t5\t16%\t3.9\t24.8"
         },
         {
          "HPI Rank\tCountry\tRegion\tLife Expectancy (years)\tWellbeing (0-10)\tInequality of outcomes\tEcological Footprint (gha/capita)\tHappy Planet Index": "80\tSouth Korea\tAsia Pacific\t81.3\t6\t11%\t5.7\t24.8"
         },
         {
          "HPI Rank\tCountry\tRegion\tLife Expectancy (years)\tWellbeing (0-10)\tInequality of outcomes\tEcological Footprint (gha/capita)\tHappy Planet Index": "81\tMyanmar\tAsia Pacific\t65.5\t4.4\t32%\t1.4\t24.7"
         },
         {
          "HPI Rank\tCountry\tRegion\tLife Expectancy (years)\tWellbeing (0-10)\tInequality of outcomes\tEcological Footprint (gha/capita)\tHappy Planet Index": "82\tSlovenia\tPost-communist\t80\t6.1\t10%\t5.8\t24.6"
         },
         {
          "HPI Rank\tCountry\tRegion\tLife Expectancy (years)\tWellbeing (0-10)\tInequality of outcomes\tEcological Footprint (gha/capita)\tHappy Planet Index": "83\tKenya\tSub Saharan Africa\t60.3\t4.5\t38%\t1\t24.2"
         },
         {
          "HPI Rank\tCountry\tRegion\tLife Expectancy (years)\tWellbeing (0-10)\tInequality of outcomes\tEcological Footprint (gha/capita)\tHappy Planet Index": "84\tIran\tMiddle East and North Africa\t74.8\t4.6\t23%\t2.8\t24"
         },
         {
          "HPI Rank\tCountry\tRegion\tLife Expectancy (years)\tWellbeing (0-10)\tInequality of outcomes\tEcological Footprint (gha/capita)\tHappy Planet Index": "85\tCanada\tAmericas\t81.7\t7.4\t9%\t8.2\t23.9"
         },
         {
          "HPI Rank\tCountry\tRegion\tLife Expectancy (years)\tWellbeing (0-10)\tInequality of outcomes\tEcological Footprint (gha/capita)\tHappy Planet Index": "86\tEgypt\tMiddle East and North Africa\t70.7\t4.2\t23%\t2.2\t23.8"
         },
         {
          "HPI Rank\tCountry\tRegion\tLife Expectancy (years)\tWellbeing (0-10)\tInequality of outcomes\tEcological Footprint (gha/capita)\tHappy Planet Index": "87\tBelgium\tEurope\t80.4\t6.9\t9%\t7.4\t23.7"
         },
         {
          "HPI Rank\tCountry\tRegion\tLife Expectancy (years)\tWellbeing (0-10)\tInequality of outcomes\tEcological Footprint (gha/capita)\tHappy Planet Index": "88\tMozambique\tSub Saharan Africa\t54.3\t5\t43%\t0.9\t23.7"
         },
         {
          "HPI Rank\tCountry\tRegion\tLife Expectancy (years)\tWellbeing (0-10)\tInequality of outcomes\tEcological Footprint (gha/capita)\tHappy Planet Index": "89\tGreece\tEurope\t80.5\t5.1\t16%\t4.4\t23.6"
         },
         {
          "HPI Rank\tCountry\tRegion\tLife Expectancy (years)\tWellbeing (0-10)\tInequality of outcomes\tEcological Footprint (gha/capita)\tHappy Planet Index": "90\tMacedonia\tPost-communist\t75.1\t4.6\t18%\t3.3\t23.4"
         },
         {
          "HPI Rank\tCountry\tRegion\tLife Expectancy (years)\tWellbeing (0-10)\tInequality of outcomes\tEcological Footprint (gha/capita)\tHappy Planet Index": "91\tParaguay\tAmericas\t72.6\t5.8\t22%\t4.2\t23.3"
         },
         {
          "HPI Rank\tCountry\tRegion\tLife Expectancy (years)\tWellbeing (0-10)\tInequality of outcomes\tEcological Footprint (gha/capita)\tHappy Planet Index": "92\tBolivia\tAmericas\t67.5\t6\t35%\t3\t23.3"
         },
         {
          "HPI Rank\tCountry\tRegion\tLife Expectancy (years)\tWellbeing (0-10)\tInequality of outcomes\tEcological Footprint (gha/capita)\tHappy Planet Index": "93\tComoros\tSub Saharan Africa\t62.6\t4\t36%\t1\t23.1"
         },
         {
          "HPI Rank\tCountry\tRegion\tLife Expectancy (years)\tWellbeing (0-10)\tInequality of outcomes\tEcological Footprint (gha/capita)\tHappy Planet Index": "94\tYemen\tMiddle East and North Africa\t63.3\t4.1\t39%\t1\t22.8"
         },
         {
          "HPI Rank\tCountry\tRegion\tLife Expectancy (years)\tWellbeing (0-10)\tInequality of outcomes\tEcological Footprint (gha/capita)\tHappy Planet Index": "95\tNigeria\tSub Saharan Africa\t52.1\t5.5\t44%\t1.2\t22.2"
         },
         {
          "HPI Rank\tCountry\tRegion\tLife Expectancy (years)\tWellbeing (0-10)\tInequality of outcomes\tEcological Footprint (gha/capita)\tHappy Planet Index": "96\tLiberia\tSub Saharan Africa\t60.2\t4.4\t38%\t1.2\t22.2"
         },
         {
          "HPI Rank\tCountry\tRegion\tLife Expectancy (years)\tWellbeing (0-10)\tInequality of outcomes\tEcological Footprint (gha/capita)\tHappy Planet Index": "97\tTanzania\tSub Saharan Africa\t63.5\t4\t33%\t1.3\t22.1"
         },
         {
          "HPI Rank\tCountry\tRegion\tLife Expectancy (years)\tWellbeing (0-10)\tInequality of outcomes\tEcological Footprint (gha/capita)\tHappy Planet Index": "98\tMalawi\tSub Saharan Africa\t60.1\t4.3\t45%\t0.8\t22.1"
         },
         {
          "HPI Rank\tCountry\tRegion\tLife Expectancy (years)\tWellbeing (0-10)\tInequality of outcomes\tEcological Footprint (gha/capita)\tHappy Planet Index": "99\tZimbabwe\tSub Saharan Africa\t53.7\t5\t37%\t1.4\t22.1"
         },
         {
          "HPI Rank\tCountry\tRegion\tLife Expectancy (years)\tWellbeing (0-10)\tInequality of outcomes\tEcological Footprint (gha/capita)\tHappy Planet Index": "100\tLebanon\tMiddle East and North Africa\t78.8\t4.6\t19%\t3.8\t21.9"
         },
         {
          "HPI Rank\tCountry\tRegion\tLife Expectancy (years)\tWellbeing (0-10)\tInequality of outcomes\tEcological Footprint (gha/capita)\tHappy Planet Index": "101\tSenegal\tSub Saharan Africa\t65.4\t3.7\t33%\t1.2\t21.9"
         },
         {
          "HPI Rank\tCountry\tRegion\tLife Expectancy (years)\tWellbeing (0-10)\tInequality of outcomes\tEcological Footprint (gha/capita)\tHappy Planet Index": "102\tBelarus\tPost-communist\t70.9\t5.7\t13%\t5.1\t21.7"
         },
         {
          "HPI Rank\tCountry\tRegion\tLife Expectancy (years)\tWellbeing (0-10)\tInequality of outcomes\tEcological Footprint (gha/capita)\tHappy Planet Index": "103\tNamibia\tSub Saharan Africa\t64\t4.7\t26%\t2.5\t21.6"
         },
         {
          "HPI Rank\tCountry\tRegion\tLife Expectancy (years)\tWellbeing (0-10)\tInequality of outcomes\tEcological Footprint (gha/capita)\tHappy Planet Index": "104\tGhana\tSub Saharan Africa\t61\t5.1\t38%\t2\t21.4"
         },
         {
          "HPI Rank\tCountry\tRegion\tLife Expectancy (years)\tWellbeing (0-10)\tInequality of outcomes\tEcological Footprint (gha/capita)\tHappy Planet Index": "105\tAustralia\tAsia Pacific\t82.1\t7.2\t8%\t9.3\t21.2"
         },
         {
          "HPI Rank\tCountry\tRegion\tLife Expectancy (years)\tWellbeing (0-10)\tInequality of outcomes\tEcological Footprint (gha/capita)\tHappy Planet Index": "106\tOman\tMiddle East and North Africa\t76.3\t6.9\t13%\t7.5\t21.1"
         },
         {
          "HPI Rank\tCountry\tRegion\tLife Expectancy (years)\tWellbeing (0-10)\tInequality of outcomes\tEcological Footprint (gha/capita)\tHappy Planet Index": "107\tLithuania\tPost-communist\t72.8\t5.8\t11%\t5.8\t21"
         },
         {
          "HPI Rank\tCountry\tRegion\tLife Expectancy (years)\tWellbeing (0-10)\tInequality of outcomes\tEcological Footprint (gha/capita)\tHappy Planet Index": "108\tUnited States of America\tAmericas\t78.8\t7\t13%\t8.2\t20.7"
         },
         {
          "HPI Rank\tCountry\tRegion\tLife Expectancy (years)\tWellbeing (0-10)\tInequality of outcomes\tEcological Footprint (gha/capita)\tHappy Planet Index": "109\tBulgaria\tPost-communist\t73.9\t4.2\t19%\t3.3\t20.4"
         },
         {
          "HPI Rank\tCountry\tRegion\tLife Expectancy (years)\tWellbeing (0-10)\tInequality of outcomes\tEcological Footprint (gha/capita)\tHappy Planet Index": "110\tAfghanistan\tMiddle East and North Africa\t59.7\t3.8\t43%\t0.8\t20.2"
         },
         {
          "HPI Rank\tCountry\tRegion\tLife Expectancy (years)\tWellbeing (0-10)\tInequality of outcomes\tEcological Footprint (gha/capita)\tHappy Planet Index": "111\tRwanda\tSub Saharan Africa\t63.1\t3.3\t37%\t0.9\t19.6"
         },
         {
          "HPI Rank\tCountry\tRegion\tLife Expectancy (years)\tWellbeing (0-10)\tInequality of outcomes\tEcological Footprint (gha/capita)\tHappy Planet Index": "112\tUganda\tSub Saharan Africa\t57.1\t4.3\t41%\t1.2\t19.4"
         },
         {
          "HPI Rank\tCountry\tRegion\tLife Expectancy (years)\tWellbeing (0-10)\tInequality of outcomes\tEcological Footprint (gha/capita)\tHappy Planet Index": "113\tSyria\tMiddle East and North Africa\t70.4\t3.2\t30%\t1.5\t19.1"
         },
         {
          "HPI Rank\tCountry\tRegion\tLife Expectancy (years)\tWellbeing (0-10)\tInequality of outcomes\tEcological Footprint (gha/capita)\tHappy Planet Index": "114\tKazakhstan\tPost-communist\t68.6\t5.8\t18%\t5.6\t19.1"
         },
         {
          "HPI Rank\tCountry\tRegion\tLife Expectancy (years)\tWellbeing (0-10)\tInequality of outcomes\tEcological Footprint (gha/capita)\tHappy Planet Index": "115\tRepublic of Congo\tSub Saharan Africa\t61\t3.9\t40%\t1.3\t18.8"
         },
         {
          "HPI Rank\tCountry\tRegion\tLife Expectancy (years)\tWellbeing (0-10)\tInequality of outcomes\tEcological Footprint (gha/capita)\tHappy Planet Index": "116\tRussia\tPost-communist\t69.5\t5.6\t16%\t5.7\t18.7"
         },
         {
          "HPI Rank\tCountry\tRegion\tLife Expectancy (years)\tWellbeing (0-10)\tInequality of outcomes\tEcological Footprint (gha/capita)\tHappy Planet Index": "117\tMauritania\tSub Saharan Africa\t62.6\t4.7\t37%\t2.5\t18"
         },
         {
          "HPI Rank\tCountry\tRegion\tLife Expectancy (years)\tWellbeing (0-10)\tInequality of outcomes\tEcological Footprint (gha/capita)\tHappy Planet Index": "118\tEstonia\tPost-communist\t76.2\t5.4\t12%\t6.9\t17.9"
         },
         {
          "HPI Rank\tCountry\tRegion\tLife Expectancy (years)\tWellbeing (0-10)\tInequality of outcomes\tEcological Footprint (gha/capita)\tHappy Planet Index": "119\tBurkina Faso\tSub Saharan Africa\t58\t4\t43%\t1.2\t17.9"
         },
         {
          "HPI Rank\tCountry\tRegion\tLife Expectancy (years)\tWellbeing (0-10)\tInequality of outcomes\tEcological Footprint (gha/capita)\tHappy Planet Index": "120\tGabon\tSub Saharan Africa\t63.3\t4\t36%\t2\t17.5"
         },
         {
          "HPI Rank\tCountry\tRegion\tLife Expectancy (years)\tWellbeing (0-10)\tInequality of outcomes\tEcological Footprint (gha/capita)\tHappy Planet Index": "121\tLatvia\tPost-communist\t73.6\t5.1\t14%\t6.3\t17.1"
         },
         {
          "HPI Rank\tCountry\tRegion\tLife Expectancy (years)\tWellbeing (0-10)\tInequality of outcomes\tEcological Footprint (gha/capita)\tHappy Planet Index": "122\tNiger\tSub Saharan Africa\t60\t3.8\t40%\t1.6\t16.8"
         },
         {
          "HPI Rank\tCountry\tRegion\tLife Expectancy (years)\tWellbeing (0-10)\tInequality of outcomes\tEcological Footprint (gha/capita)\tHappy Planet Index": "123\tHong Kong\tAsia Pacific\t83.6\t5.5\t10%\t8.8\t16.8"
         },
         {
          "HPI Rank\tCountry\tRegion\tLife Expectancy (years)\tWellbeing (0-10)\tInequality of outcomes\tEcological Footprint (gha/capita)\tHappy Planet Index": "124\tCameroon\tSub Saharan Africa\t54.6\t4.2\t47%\t1.2\t16.7"
         },
         {
          "HPI Rank\tCountry\tRegion\tLife Expectancy (years)\tWellbeing (0-10)\tInequality of outcomes\tEcological Footprint (gha/capita)\tHappy Planet Index": "125\tLesotho\tSub Saharan Africa\t48.9\t4.9\t42%\t1.7\t16.7"
         },
         {
          "HPI Rank\tCountry\tRegion\tLife Expectancy (years)\tWellbeing (0-10)\tInequality of outcomes\tEcological Footprint (gha/capita)\tHappy Planet Index": "126\tBotswana\tSub Saharan Africa\t64.2\t4.8\t28%\t3.8\t16.6"
         },
         {
          "HPI Rank\tCountry\tRegion\tLife Expectancy (years)\tWellbeing (0-10)\tInequality of outcomes\tEcological Footprint (gha/capita)\tHappy Planet Index": "127\tDjibouti\tSub Saharan Africa\t61.3\t4.4\t42%\t2.2\t16.4"
         },
         {
          "HPI Rank\tCountry\tRegion\tLife Expectancy (years)\tWellbeing (0-10)\tInequality of outcomes\tEcological Footprint (gha/capita)\tHappy Planet Index": "128\tSouth Africa\tSub Saharan Africa\t56.3\t5.1\t33%\t3.3\t15.9"
         },
         {
          "HPI Rank\tCountry\tRegion\tLife Expectancy (years)\tWellbeing (0-10)\tInequality of outcomes\tEcological Footprint (gha/capita)\tHappy Planet Index": "129\tGuinea\tSub Saharan Africa\t57.7\t3.7\t42%\t1.4\t15.9"
         },
         {
          "HPI Rank\tCountry\tRegion\tLife Expectancy (years)\tWellbeing (0-10)\tInequality of outcomes\tEcological Footprint (gha/capita)\tHappy Planet Index": "130\tTrinidad and Tobago\tAmericas\t70.1\t6.4\t21%\t7.9\t15.7"
         },
         {
          "HPI Rank\tCountry\tRegion\tLife Expectancy (years)\tWellbeing (0-10)\tInequality of outcomes\tEcological Footprint (gha/capita)\tHappy Planet Index": "131\tBurundi\tSub Saharan Africa\t55.8\t3.4\t48%\t0.8\t15.6"
         },
         {
          "HPI Rank\tCountry\tRegion\tLife Expectancy (years)\tWellbeing (0-10)\tInequality of outcomes\tEcological Footprint (gha/capita)\tHappy Planet Index": "132\tSwaziland\tSub Saharan Africa\t48.9\t4.9\t41%\t2\t15.5"
         },
         {
          "HPI Rank\tCountry\tRegion\tLife Expectancy (years)\tWellbeing (0-10)\tInequality of outcomes\tEcological Footprint (gha/capita)\tHappy Planet Index": "133\tSierra Leone\tSub Saharan Africa\t49.8\t4.5\t50%\t1.2\t15.3"
         },
         {
          "HPI Rank\tCountry\tRegion\tLife Expectancy (years)\tWellbeing (0-10)\tInequality of outcomes\tEcological Footprint (gha/capita)\tHappy Planet Index": "134\tTurkmenistan\tPost-communist\t65.3\t5.5\t31%\t5.5\t14.6"
         },
         {
          "HPI Rank\tCountry\tRegion\tLife Expectancy (years)\tWellbeing (0-10)\tInequality of outcomes\tEcological Footprint (gha/capita)\tHappy Planet Index": "135\tCote d'Ivoire\tSub Saharan Africa\t50.8\t3.8\t45%\t1.3\t14.4"
         },
         {
          "HPI Rank\tCountry\tRegion\tLife Expectancy (years)\tWellbeing (0-10)\tInequality of outcomes\tEcological Footprint (gha/capita)\tHappy Planet Index": "136\tMongolia\tAsia Pacific\t68.6\t4.9\t22%\t6.1\t14.3"
         },
         {
          "HPI Rank\tCountry\tRegion\tLife Expectancy (years)\tWellbeing (0-10)\tInequality of outcomes\tEcological Footprint (gha/capita)\tHappy Planet Index": "137\tBenin\tSub Saharan Africa\t59.2\t3.2\t44%\t1.4\t13.4"
         },
         {
          "HPI Rank\tCountry\tRegion\tLife Expectancy (years)\tWellbeing (0-10)\tInequality of outcomes\tEcological Footprint (gha/capita)\tHappy Planet Index": "138\tTogo\tSub Saharan Africa\t58.6\t2.9\t43%\t1.1\t13.2"
         },
         {
          "HPI Rank\tCountry\tRegion\tLife Expectancy (years)\tWellbeing (0-10)\tInequality of outcomes\tEcological Footprint (gha/capita)\tHappy Planet Index": "139\tLuxembourg\tEurope\t81.1\t7\t7%\t15.8\t13.2"
         },
         {
          "HPI Rank\tCountry\tRegion\tLife Expectancy (years)\tWellbeing (0-10)\tInequality of outcomes\tEcological Footprint (gha/capita)\tHappy Planet Index": "140\tChad\tSub Saharan Africa\t50.8\t4\t51%\t1.5\t12.8"
         }
        ]
       },
       "layer": [
        {
         "encoding": {
          "x": {
           "field": "Region",
           "type": "nominal"
          },
          "y": {
           "aggregate": "mean",
           "field": "Happy Planet Index",
           "type": "quantitative"
          }
         },
         "mark": "bar",
         "width": 400
        },
        {
         "encoding": {
          "size": {
           "value": 3
          },
          "y": {
           "aggregate": "mean",
           "field": "Happy Planet Index",
           "type": "quantitative"
          }
         },
         "mark": {
          "color": "firebrick",
          "type": "rule"
         },
         "selection": {
          "selector001": {
           "bind": "scales",
           "encodings": [
            "x",
            "y"
           ],
           "type": "interval"
          }
         }
        }
       ]
      },
      "text/plain": [
       "<VegaLite 3 object>\n",
       "\n",
       "If you see this message, it means the renderer has not been properly enabled\n",
       "for the frontend that you are using. For more information, see\n",
       "https://altair-viz.github.io/user_guide/troubleshooting.html\n"
      ]
     },
     "execution_count": 2,
     "metadata": {},
     "output_type": "execute_result"
    }
   ],
   "source": [
    "import altair as alt\n",
    "import pandas as pd\n",
    "hpi_url = \"https://raw.githubusercontent.com/TrainingByPackt/Interactive-Data-Visualization-with-Python/master/datasets/hpi_data_countries.tsv\"\n",
    "#read it into a DataFrame using pandas\n",
    "hpi_df = pd.read_csv(hpi_url)\n",
    "bars = alt.Chart(hpi_df).mark_bar().encode(\n",
    "x='Region:N',\n",
    "y='mean(Happy Planet Index):Q',\n",
    ").properties(width=400)\n",
    "line = alt.Chart(hpi_df).mark_rule(color='firebrick').encode(\n",
    "y='mean(Happy Planet Index):Q',\n",
    "size=alt.SizeValue(3)\n",
    ").interactive()\n",
    "bars + line"
   ]
  },
  {
   "cell_type": "code",
   "execution_count": 3,
   "metadata": {},
   "outputs": [
    {
     "data": {
      "application/vnd.vegalite.v3+json": {
       "$schema": "https://vega.github.io/schema/vega-lite/v3.4.0.json",
       "config": {
        "mark": {
         "tooltip": null
        },
        "view": {
         "height": 300,
         "width": 400
        }
       },
       "data": {
        "name": "data-22244da73078f87a5cac738ccc9634ea"
       },
       "datasets": {
        "data-22244da73078f87a5cac738ccc9634ea": [
         {
          "HPI Rank\tCountry\tRegion\tLife Expectancy (years)\tWellbeing (0-10)\tInequality of outcomes\tEcological Footprint (gha/capita)\tHappy Planet Index": "1\tCosta Rica\tAmericas\t79.1\t7.3\t15%\t2.8\t44.7"
         },
         {
          "HPI Rank\tCountry\tRegion\tLife Expectancy (years)\tWellbeing (0-10)\tInequality of outcomes\tEcological Footprint (gha/capita)\tHappy Planet Index": "2\tMexico\tAmericas\t76.4\t7.3\t19%\t2.9\t40.7"
         },
         {
          "HPI Rank\tCountry\tRegion\tLife Expectancy (years)\tWellbeing (0-10)\tInequality of outcomes\tEcological Footprint (gha/capita)\tHappy Planet Index": "3\tColombia\tAmericas\t73.7\t6.4\t24%\t1.9\t40.7"
         },
         {
          "HPI Rank\tCountry\tRegion\tLife Expectancy (years)\tWellbeing (0-10)\tInequality of outcomes\tEcological Footprint (gha/capita)\tHappy Planet Index": "4\tVanuatu\tAsia Pacific\t71.3\t6.5\t22%\t1.9\t40.6"
         },
         {
          "HPI Rank\tCountry\tRegion\tLife Expectancy (years)\tWellbeing (0-10)\tInequality of outcomes\tEcological Footprint (gha/capita)\tHappy Planet Index": "5\tVietnam\tAsia Pacific\t75.5\t5.5\t19%\t1.7\t40.3"
         },
         {
          "HPI Rank\tCountry\tRegion\tLife Expectancy (years)\tWellbeing (0-10)\tInequality of outcomes\tEcological Footprint (gha/capita)\tHappy Planet Index": "6\tPanama\tAmericas\t77.2\t6.9\t19%\t2.8\t39.5"
         },
         {
          "HPI Rank\tCountry\tRegion\tLife Expectancy (years)\tWellbeing (0-10)\tInequality of outcomes\tEcological Footprint (gha/capita)\tHappy Planet Index": "7\tNicaragua\tAmericas\t74.3\t5.4\t25%\t1.4\t38.7"
         },
         {
          "HPI Rank\tCountry\tRegion\tLife Expectancy (years)\tWellbeing (0-10)\tInequality of outcomes\tEcological Footprint (gha/capita)\tHappy Planet Index": "8\tBangladesh\tAsia Pacific\t70.8\t4.7\t27%\t0.7\t38.4"
         },
         {
          "HPI Rank\tCountry\tRegion\tLife Expectancy (years)\tWellbeing (0-10)\tInequality of outcomes\tEcological Footprint (gha/capita)\tHappy Planet Index": "9\tThailand\tAsia Pacific\t74.1\t6.3\t15%\t2.7\t37.3"
         },
         {
          "HPI Rank\tCountry\tRegion\tLife Expectancy (years)\tWellbeing (0-10)\tInequality of outcomes\tEcological Footprint (gha/capita)\tHappy Planet Index": "10\tEcuador\tAmericas\t75.4\t6\t22%\t2.2\t37"
         },
         {
          "HPI Rank\tCountry\tRegion\tLife Expectancy (years)\tWellbeing (0-10)\tInequality of outcomes\tEcological Footprint (gha/capita)\tHappy Planet Index": "11\tJamaica\tAmericas\t75.3\t5.6\t21%\t1.9\t36.9"
         },
         {
          "HPI Rank\tCountry\tRegion\tLife Expectancy (years)\tWellbeing (0-10)\tInequality of outcomes\tEcological Footprint (gha/capita)\tHappy Planet Index": "12\tNorway\tEurope\t81.3\t7.7\t7%\t5\t36.8"
         },
         {
          "HPI Rank\tCountry\tRegion\tLife Expectancy (years)\tWellbeing (0-10)\tInequality of outcomes\tEcological Footprint (gha/capita)\tHappy Planet Index": "13\tAlbania\tPost-communist\t77.3\t5.5\t17%\t2.2\t36.8"
         },
         {
          "HPI Rank\tCountry\tRegion\tLife Expectancy (years)\tWellbeing (0-10)\tInequality of outcomes\tEcological Footprint (gha/capita)\tHappy Planet Index": "14\tUruguay\tAmericas\t76.9\t6.4\t18%\t2.9\t36.1"
         },
         {
          "HPI Rank\tCountry\tRegion\tLife Expectancy (years)\tWellbeing (0-10)\tInequality of outcomes\tEcological Footprint (gha/capita)\tHappy Planet Index": "15\tSpain\tEurope\t82.2\t6.3\t10%\t3.7\t36"
         },
         {
          "HPI Rank\tCountry\tRegion\tLife Expectancy (years)\tWellbeing (0-10)\tInequality of outcomes\tEcological Footprint (gha/capita)\tHappy Planet Index": "16\tIndonesia\tAsia Pacific\t68.5\t5.4\t21%\t1.6\t35.7"
         },
         {
          "HPI Rank\tCountry\tRegion\tLife Expectancy (years)\tWellbeing (0-10)\tInequality of outcomes\tEcological Footprint (gha/capita)\tHappy Planet Index": "17\tEl Salvador\tAmericas\t72.5\t5.9\t22%\t2.1\t35.6"
         },
         {
          "HPI Rank\tCountry\tRegion\tLife Expectancy (years)\tWellbeing (0-10)\tInequality of outcomes\tEcological Footprint (gha/capita)\tHappy Planet Index": "18\tNetherlands\tEurope\t81.2\t7.5\t4%\t5.3\t35.3"
         },
         {
          "HPI Rank\tCountry\tRegion\tLife Expectancy (years)\tWellbeing (0-10)\tInequality of outcomes\tEcological Footprint (gha/capita)\tHappy Planet Index": "19\tArgentina\tAmericas\t75.9\t6.5\t16%\t3.1\t35.2"
         },
         {
          "HPI Rank\tCountry\tRegion\tLife Expectancy (years)\tWellbeing (0-10)\tInequality of outcomes\tEcological Footprint (gha/capita)\tHappy Planet Index": "20\tPhilippines\tAsia Pacific\t67.9\t5\t26%\t1.1\t35"
         },
         {
          "HPI Rank\tCountry\tRegion\tLife Expectancy (years)\tWellbeing (0-10)\tInequality of outcomes\tEcological Footprint (gha/capita)\tHappy Planet Index": "21\tPeru\tAmericas\t74.1\t5.8\t21%\t2.3\t34.6"
         },
         {
          "HPI Rank\tCountry\tRegion\tLife Expectancy (years)\tWellbeing (0-10)\tInequality of outcomes\tEcological Footprint (gha/capita)\tHappy Planet Index": "22\tPalestine\tMiddle East and North Africa\t72.6\t4.6\t24%\t1.2\t34.5"
         },
         {
          "HPI Rank\tCountry\tRegion\tLife Expectancy (years)\tWellbeing (0-10)\tInequality of outcomes\tEcological Footprint (gha/capita)\tHappy Planet Index": "23\tBrazil\tAmericas\t73.9\t6.9\t22%\t3.1\t34.3"
         },
         {
          "HPI Rank\tCountry\tRegion\tLife Expectancy (years)\tWellbeing (0-10)\tInequality of outcomes\tEcological Footprint (gha/capita)\tHappy Planet Index": "24\tSwitzerland\tEurope\t82.6\t7.8\t6%\t5.8\t34.3"
         },
         {
          "HPI Rank\tCountry\tRegion\tLife Expectancy (years)\tWellbeing (0-10)\tInequality of outcomes\tEcological Footprint (gha/capita)\tHappy Planet Index": "25\tTajikistan\tPost-communist\t69\t4.5\t26%\t0.9\t34.2"
         },
         {
          "HPI Rank\tCountry\tRegion\tLife Expectancy (years)\tWellbeing (0-10)\tInequality of outcomes\tEcological Footprint (gha/capita)\tHappy Planet Index": "26\tGuatemala\tAmericas\t71.4\t5.9\t27%\t1.9\t34.2"
         },
         {
          "HPI Rank\tCountry\tRegion\tLife Expectancy (years)\tWellbeing (0-10)\tInequality of outcomes\tEcological Footprint (gha/capita)\tHappy Planet Index": "27\tBelize\tAmericas\t69.8\t6.1\t18%\t2.5\t33.8"
         },
         {
          "HPI Rank\tCountry\tRegion\tLife Expectancy (years)\tWellbeing (0-10)\tInequality of outcomes\tEcological Footprint (gha/capita)\tHappy Planet Index": "28\tSri Lanka\tAsia Pacific\t74.6\t4.2\t17%\t1.3\t33.8"
         },
         {
          "HPI Rank\tCountry\tRegion\tLife Expectancy (years)\tWellbeing (0-10)\tInequality of outcomes\tEcological Footprint (gha/capita)\tHappy Planet Index": "29\tVenezuela\tAmericas\t73.9\t7.1\t19%\t3.6\t33.6"
         },
         {
          "HPI Rank\tCountry\tRegion\tLife Expectancy (years)\tWellbeing (0-10)\tInequality of outcomes\tEcological Footprint (gha/capita)\tHappy Planet Index": "30\tAlgeria\tMiddle East and North Africa\t74.3\t5.6\t24%\t2.1\t33.3"
         },
         {
          "HPI Rank\tCountry\tRegion\tLife Expectancy (years)\tWellbeing (0-10)\tInequality of outcomes\tEcological Footprint (gha/capita)\tHappy Planet Index": "31\tKyrgyzstan\tPost-communist\t69.7\t5.2\t18%\t1.9\t33.1"
         },
         {
          "HPI Rank\tCountry\tRegion\tLife Expectancy (years)\tWellbeing (0-10)\tInequality of outcomes\tEcological Footprint (gha/capita)\tHappy Planet Index": "32\tDenmark\tEurope\t79.8\t7.5\t7%\t5.5\t32.7"
         },
         {
          "HPI Rank\tCountry\tRegion\tLife Expectancy (years)\tWellbeing (0-10)\tInequality of outcomes\tEcological Footprint (gha/capita)\tHappy Planet Index": "33\tMorocco\tMiddle East and North Africa\t73.4\t5\t25%\t1.7\t32.7"
         },
         {
          "HPI Rank\tCountry\tRegion\tLife Expectancy (years)\tWellbeing (0-10)\tInequality of outcomes\tEcological Footprint (gha/capita)\tHappy Planet Index": "34\tUnited Kingdom\tEurope\t80.4\t6.9\t9%\t4.9\t31.9"
         },
         {
          "HPI Rank\tCountry\tRegion\tLife Expectancy (years)\tWellbeing (0-10)\tInequality of outcomes\tEcological Footprint (gha/capita)\tHappy Planet Index": "35\tChile\tAmericas\t81.1\t6.6\t14%\t4.4\t31.7"
         },
         {
          "HPI Rank\tCountry\tRegion\tLife Expectancy (years)\tWellbeing (0-10)\tInequality of outcomes\tEcological Footprint (gha/capita)\tHappy Planet Index": "36\tPakistan\tAsia Pacific\t65.7\t5.1\t40%\t0.8\t31.5"
         },
         {
          "HPI Rank\tCountry\tRegion\tLife Expectancy (years)\tWellbeing (0-10)\tInequality of outcomes\tEcological Footprint (gha/capita)\tHappy Planet Index": "37\tFinland\tEurope\t80.4\t7.4\t6%\t5.9\t31.3"
         },
         {
          "HPI Rank\tCountry\tRegion\tLife Expectancy (years)\tWellbeing (0-10)\tInequality of outcomes\tEcological Footprint (gha/capita)\tHappy Planet Index": "38\tNew Zealand\tAsia Pacific\t81.4\t7.2\t8%\t5.6\t31.3"
         },
         {
          "HPI Rank\tCountry\tRegion\tLife Expectancy (years)\tWellbeing (0-10)\tInequality of outcomes\tEcological Footprint (gha/capita)\tHappy Planet Index": "39\tIceland\tEurope\t82.2\t7.6\t5%\t6.4\t31.1"
         },
         {
          "HPI Rank\tCountry\tRegion\tLife Expectancy (years)\tWellbeing (0-10)\tInequality of outcomes\tEcological Footprint (gha/capita)\tHappy Planet Index": "40\tGeorgia\tPost-communist\t74.6\t4.3\t20%\t1.6\t31.1"
         },
         {
          "HPI Rank\tCountry\tRegion\tLife Expectancy (years)\tWellbeing (0-10)\tInequality of outcomes\tEcological Footprint (gha/capita)\tHappy Planet Index": "41\tCyprus\tEurope\t79.8\t6.2\t12%\t4.2\t30.7"
         },
         {
          "HPI Rank\tCountry\tRegion\tLife Expectancy (years)\tWellbeing (0-10)\tInequality of outcomes\tEcological Footprint (gha/capita)\tHappy Planet Index": "42\tNepal\tAsia Pacific\t68.8\t4.2\t27%\t1\t30.5"
         },
         {
          "HPI Rank\tCountry\tRegion\tLife Expectancy (years)\tWellbeing (0-10)\tInequality of outcomes\tEcological Footprint (gha/capita)\tHappy Planet Index": "43\tAustria\tEurope\t81\t7.4\t7%\t6.1\t30.5"
         },
         {
          "HPI Rank\tCountry\tRegion\tLife Expectancy (years)\tWellbeing (0-10)\tInequality of outcomes\tEcological Footprint (gha/capita)\tHappy Planet Index": "44\tFrance\tEurope\t81.8\t6.6\t9%\t5.1\t30.4"
         },
         {
          "HPI Rank\tCountry\tRegion\tLife Expectancy (years)\tWellbeing (0-10)\tInequality of outcomes\tEcological Footprint (gha/capita)\tHappy Planet Index": "45\tDominican Republic\tAmericas\t73.1\t4.8\t30%\t1.5\t30.3"
         },
         {
          "HPI Rank\tCountry\tRegion\tLife Expectancy (years)\tWellbeing (0-10)\tInequality of outcomes\tEcological Footprint (gha/capita)\tHappy Planet Index": "46\tMalaysia\tAsia Pacific\t74.4\t5.9\t10%\t3.7\t30.3"
         },
         {
          "HPI Rank\tCountry\tRegion\tLife Expectancy (years)\tWellbeing (0-10)\tInequality of outcomes\tEcological Footprint (gha/capita)\tHappy Planet Index": "47\tCroatia\tPost-communist\t77\t6\t12%\t3.9\t30.2"
         },
         {
          "HPI Rank\tCountry\tRegion\tLife Expectancy (years)\tWellbeing (0-10)\tInequality of outcomes\tEcological Footprint (gha/capita)\tHappy Planet Index": "48\tIreland\tEurope\t80.5\t7\t8%\t5.6\t30"
         },
         {
          "HPI Rank\tCountry\tRegion\tLife Expectancy (years)\tWellbeing (0-10)\tInequality of outcomes\tEcological Footprint (gha/capita)\tHappy Planet Index": "49\tGermany\tEurope\t80.6\t6.7\t8%\t5.3\t29.8"
         },
         {
          "HPI Rank\tCountry\tRegion\tLife Expectancy (years)\tWellbeing (0-10)\tInequality of outcomes\tEcological Footprint (gha/capita)\tHappy Planet Index": "50\tIndia\tAsia Pacific\t67.3\t4.6\t31%\t1.2\t29.2"
         },
         {
          "HPI Rank\tCountry\tRegion\tLife Expectancy (years)\tWellbeing (0-10)\tInequality of outcomes\tEcological Footprint (gha/capita)\tHappy Planet Index": "51\tUzbekistan\tPost-communist\t68.2\t6\t30%\t2.3\t29.1"
         },
         {
          "HPI Rank\tCountry\tRegion\tLife Expectancy (years)\tWellbeing (0-10)\tInequality of outcomes\tEcological Footprint (gha/capita)\tHappy Planet Index": "52\tSerbia\tPost-communist\t74.5\t5.2\t19%\t2.7\t29"
         },
         {
          "HPI Rank\tCountry\tRegion\tLife Expectancy (years)\tWellbeing (0-10)\tInequality of outcomes\tEcological Footprint (gha/capita)\tHappy Planet Index": "53\tMalta\tEurope\t80.2\t6\t13%\t4.4\t29"
         },
         {
          "HPI Rank\tCountry\tRegion\tLife Expectancy (years)\tWellbeing (0-10)\tInequality of outcomes\tEcological Footprint (gha/capita)\tHappy Planet Index": "54\tIsrael\tMiddle East and North Africa\t81.9\t7.1\t8%\t6.2\t28.8"
         },
         {
          "HPI Rank\tCountry\tRegion\tLife Expectancy (years)\tWellbeing (0-10)\tInequality of outcomes\tEcological Footprint (gha/capita)\tHappy Planet Index": "55\tRomania\tPost-communist\t74.3\t5.2\t19%\t2.7\t28.8"
         },
         {
          "HPI Rank\tCountry\tRegion\tLife Expectancy (years)\tWellbeing (0-10)\tInequality of outcomes\tEcological Footprint (gha/capita)\tHappy Planet Index": "56\tBhutan\tAsia Pacific\t68.7\t5.6\t27%\t2.3\t28.6"
         },
         {
          "HPI Rank\tCountry\tRegion\tLife Expectancy (years)\tWellbeing (0-10)\tInequality of outcomes\tEcological Footprint (gha/capita)\tHappy Planet Index": "57\tHaiti\tAmericas\t62.1\t4.4\t37%\t0.6\t28.6"
         },
         {
          "HPI Rank\tCountry\tRegion\tLife Expectancy (years)\tWellbeing (0-10)\tInequality of outcomes\tEcological Footprint (gha/capita)\tHappy Planet Index": "58\tJapan\tAsia Pacific\t83.2\t6\t9%\t5\t28.3"
         },
         {
          "HPI Rank\tCountry\tRegion\tLife Expectancy (years)\tWellbeing (0-10)\tInequality of outcomes\tEcological Footprint (gha/capita)\tHappy Planet Index": "59\tSlovakia\tPost-communist\t75.9\t5.9\t13%\t4.1\t28.2"
         },
         {
          "HPI Rank\tCountry\tRegion\tLife Expectancy (years)\tWellbeing (0-10)\tInequality of outcomes\tEcological Footprint (gha/capita)\tHappy Planet Index": "60\tItaly\tEurope\t82.7\t5.8\t12%\t4.6\t28.1"
         },
         {
          "HPI Rank\tCountry\tRegion\tLife Expectancy (years)\tWellbeing (0-10)\tInequality of outcomes\tEcological Footprint (gha/capita)\tHappy Planet Index": "61\tSweden\tEurope\t81.8\t7.6\t6%\t7.3\t28"
         },
         {
          "HPI Rank\tCountry\tRegion\tLife Expectancy (years)\tWellbeing (0-10)\tInequality of outcomes\tEcological Footprint (gha/capita)\tHappy Planet Index": "62\tPoland\tPost-communist\t76.9\t5.9\t11%\t4.4\t27.5"
         },
         {
          "HPI Rank\tCountry\tRegion\tLife Expectancy (years)\tWellbeing (0-10)\tInequality of outcomes\tEcological Footprint (gha/capita)\tHappy Planet Index": "63\tMauritius\tSub Saharan Africa\t74\t5.5\t17%\t3.5\t27.4"
         },
         {
          "HPI Rank\tCountry\tRegion\tLife Expectancy (years)\tWellbeing (0-10)\tInequality of outcomes\tEcological Footprint (gha/capita)\tHappy Planet Index": "64\tCzech Republic\tPost-communist\t78.2\t6.3\t9%\t5.2\t27.3"
         },
         {
          "HPI Rank\tCountry\tRegion\tLife Expectancy (years)\tWellbeing (0-10)\tInequality of outcomes\tEcological Footprint (gha/capita)\tHappy Planet Index": "65\tHonduras\tAmericas\t72.8\t4.6\t31%\t1.7\t27.2"
         },
         {
          "HPI Rank\tCountry\tRegion\tLife Expectancy (years)\tWellbeing (0-10)\tInequality of outcomes\tEcological Footprint (gha/capita)\tHappy Planet Index": "66\tEthiopia\tSub Saharan Africa\t62.8\t4.6\t36%\t1\t26.7"
         },
         {
          "HPI Rank\tCountry\tRegion\tLife Expectancy (years)\tWellbeing (0-10)\tInequality of outcomes\tEcological Footprint (gha/capita)\tHappy Planet Index": "67\tIraq\tMiddle East and North Africa\t69\t4.7\t27%\t1.9\t26.5"
         },
         {
          "HPI Rank\tCountry\tRegion\tLife Expectancy (years)\tWellbeing (0-10)\tInequality of outcomes\tEcological Footprint (gha/capita)\tHappy Planet Index": "68\tTurkey\tMiddle East and North Africa\t74.7\t5.3\t19%\t3.3\t26.4"
         },
         {
          "HPI Rank\tCountry\tRegion\tLife Expectancy (years)\tWellbeing (0-10)\tInequality of outcomes\tEcological Footprint (gha/capita)\tHappy Planet Index": "69\tHungary\tPost-communist\t74.9\t4.7\t15%\t2.9\t26.4"
         },
         {
          "HPI Rank\tCountry\tRegion\tLife Expectancy (years)\tWellbeing (0-10)\tInequality of outcomes\tEcological Footprint (gha/capita)\tHappy Planet Index": "70\tUkraine\tPost-communist\t70.3\t5\t17%\t2.8\t26.4"
         },
         {
          "HPI Rank\tCountry\tRegion\tLife Expectancy (years)\tWellbeing (0-10)\tInequality of outcomes\tEcological Footprint (gha/capita)\tHappy Planet Index": "71\tTunisia\tMiddle East and North Africa\t74.6\t4.5\t22%\t2.3\t26.2"
         },
         {
          "HPI Rank\tCountry\tRegion\tLife Expectancy (years)\tWellbeing (0-10)\tInequality of outcomes\tEcological Footprint (gha/capita)\tHappy Planet Index": "72\tChina\tAsia Pacific\t75.4\t5.1\t17%\t3.4\t25.7"
         },
         {
          "HPI Rank\tCountry\tRegion\tLife Expectancy (years)\tWellbeing (0-10)\tInequality of outcomes\tEcological Footprint (gha/capita)\tHappy Planet Index": "73\tArmenia\tPost-communist\t74.4\t4.3\t22%\t2.2\t25.7"
         },
         {
          "HPI Rank\tCountry\tRegion\tLife Expectancy (years)\tWellbeing (0-10)\tInequality of outcomes\tEcological Footprint (gha/capita)\tHappy Planet Index": "74\tCambodia\tAsia Pacific\t67.5\t3.9\t28%\t1.2\t25.6"
         },
         {
          "HPI Rank\tCountry\tRegion\tLife Expectancy (years)\tWellbeing (0-10)\tInequality of outcomes\tEcological Footprint (gha/capita)\tHappy Planet Index": "75\tSuriname\tAmericas\t70.8\t6.3\t19%\t4.3\t25.4"
         },
         {
          "HPI Rank\tCountry\tRegion\tLife Expectancy (years)\tWellbeing (0-10)\tInequality of outcomes\tEcological Footprint (gha/capita)\tHappy Planet Index": "76\tBosnia and Herzegovina\tPost-communist\t76.2\t4.8\t19%\t3.1\t25.3"
         },
         {
          "HPI Rank\tCountry\tRegion\tLife Expectancy (years)\tWellbeing (0-10)\tInequality of outcomes\tEcological Footprint (gha/capita)\tHappy Planet Index": "77\tZambia\tSub Saharan Africa\t58.4\t5\t41%\t1\t25.2"
         },
         {
          "HPI Rank\tCountry\tRegion\tLife Expectancy (years)\tWellbeing (0-10)\tInequality of outcomes\tEcological Footprint (gha/capita)\tHappy Planet Index": "78\tMontenegro\tPost-communist\t75.8\t5.2\t16%\t3.8\t25.1"
         },
         {
          "HPI Rank\tCountry\tRegion\tLife Expectancy (years)\tWellbeing (0-10)\tInequality of outcomes\tEcological Footprint (gha/capita)\tHappy Planet Index": "79\tPortugal\tEurope\t80.3\t5\t16%\t3.9\t24.8"
         },
         {
          "HPI Rank\tCountry\tRegion\tLife Expectancy (years)\tWellbeing (0-10)\tInequality of outcomes\tEcological Footprint (gha/capita)\tHappy Planet Index": "80\tSouth Korea\tAsia Pacific\t81.3\t6\t11%\t5.7\t24.8"
         },
         {
          "HPI Rank\tCountry\tRegion\tLife Expectancy (years)\tWellbeing (0-10)\tInequality of outcomes\tEcological Footprint (gha/capita)\tHappy Planet Index": "81\tMyanmar\tAsia Pacific\t65.5\t4.4\t32%\t1.4\t24.7"
         },
         {
          "HPI Rank\tCountry\tRegion\tLife Expectancy (years)\tWellbeing (0-10)\tInequality of outcomes\tEcological Footprint (gha/capita)\tHappy Planet Index": "82\tSlovenia\tPost-communist\t80\t6.1\t10%\t5.8\t24.6"
         },
         {
          "HPI Rank\tCountry\tRegion\tLife Expectancy (years)\tWellbeing (0-10)\tInequality of outcomes\tEcological Footprint (gha/capita)\tHappy Planet Index": "83\tKenya\tSub Saharan Africa\t60.3\t4.5\t38%\t1\t24.2"
         },
         {
          "HPI Rank\tCountry\tRegion\tLife Expectancy (years)\tWellbeing (0-10)\tInequality of outcomes\tEcological Footprint (gha/capita)\tHappy Planet Index": "84\tIran\tMiddle East and North Africa\t74.8\t4.6\t23%\t2.8\t24"
         },
         {
          "HPI Rank\tCountry\tRegion\tLife Expectancy (years)\tWellbeing (0-10)\tInequality of outcomes\tEcological Footprint (gha/capita)\tHappy Planet Index": "85\tCanada\tAmericas\t81.7\t7.4\t9%\t8.2\t23.9"
         },
         {
          "HPI Rank\tCountry\tRegion\tLife Expectancy (years)\tWellbeing (0-10)\tInequality of outcomes\tEcological Footprint (gha/capita)\tHappy Planet Index": "86\tEgypt\tMiddle East and North Africa\t70.7\t4.2\t23%\t2.2\t23.8"
         },
         {
          "HPI Rank\tCountry\tRegion\tLife Expectancy (years)\tWellbeing (0-10)\tInequality of outcomes\tEcological Footprint (gha/capita)\tHappy Planet Index": "87\tBelgium\tEurope\t80.4\t6.9\t9%\t7.4\t23.7"
         },
         {
          "HPI Rank\tCountry\tRegion\tLife Expectancy (years)\tWellbeing (0-10)\tInequality of outcomes\tEcological Footprint (gha/capita)\tHappy Planet Index": "88\tMozambique\tSub Saharan Africa\t54.3\t5\t43%\t0.9\t23.7"
         },
         {
          "HPI Rank\tCountry\tRegion\tLife Expectancy (years)\tWellbeing (0-10)\tInequality of outcomes\tEcological Footprint (gha/capita)\tHappy Planet Index": "89\tGreece\tEurope\t80.5\t5.1\t16%\t4.4\t23.6"
         },
         {
          "HPI Rank\tCountry\tRegion\tLife Expectancy (years)\tWellbeing (0-10)\tInequality of outcomes\tEcological Footprint (gha/capita)\tHappy Planet Index": "90\tMacedonia\tPost-communist\t75.1\t4.6\t18%\t3.3\t23.4"
         },
         {
          "HPI Rank\tCountry\tRegion\tLife Expectancy (years)\tWellbeing (0-10)\tInequality of outcomes\tEcological Footprint (gha/capita)\tHappy Planet Index": "91\tParaguay\tAmericas\t72.6\t5.8\t22%\t4.2\t23.3"
         },
         {
          "HPI Rank\tCountry\tRegion\tLife Expectancy (years)\tWellbeing (0-10)\tInequality of outcomes\tEcological Footprint (gha/capita)\tHappy Planet Index": "92\tBolivia\tAmericas\t67.5\t6\t35%\t3\t23.3"
         },
         {
          "HPI Rank\tCountry\tRegion\tLife Expectancy (years)\tWellbeing (0-10)\tInequality of outcomes\tEcological Footprint (gha/capita)\tHappy Planet Index": "93\tComoros\tSub Saharan Africa\t62.6\t4\t36%\t1\t23.1"
         },
         {
          "HPI Rank\tCountry\tRegion\tLife Expectancy (years)\tWellbeing (0-10)\tInequality of outcomes\tEcological Footprint (gha/capita)\tHappy Planet Index": "94\tYemen\tMiddle East and North Africa\t63.3\t4.1\t39%\t1\t22.8"
         },
         {
          "HPI Rank\tCountry\tRegion\tLife Expectancy (years)\tWellbeing (0-10)\tInequality of outcomes\tEcological Footprint (gha/capita)\tHappy Planet Index": "95\tNigeria\tSub Saharan Africa\t52.1\t5.5\t44%\t1.2\t22.2"
         },
         {
          "HPI Rank\tCountry\tRegion\tLife Expectancy (years)\tWellbeing (0-10)\tInequality of outcomes\tEcological Footprint (gha/capita)\tHappy Planet Index": "96\tLiberia\tSub Saharan Africa\t60.2\t4.4\t38%\t1.2\t22.2"
         },
         {
          "HPI Rank\tCountry\tRegion\tLife Expectancy (years)\tWellbeing (0-10)\tInequality of outcomes\tEcological Footprint (gha/capita)\tHappy Planet Index": "97\tTanzania\tSub Saharan Africa\t63.5\t4\t33%\t1.3\t22.1"
         },
         {
          "HPI Rank\tCountry\tRegion\tLife Expectancy (years)\tWellbeing (0-10)\tInequality of outcomes\tEcological Footprint (gha/capita)\tHappy Planet Index": "98\tMalawi\tSub Saharan Africa\t60.1\t4.3\t45%\t0.8\t22.1"
         },
         {
          "HPI Rank\tCountry\tRegion\tLife Expectancy (years)\tWellbeing (0-10)\tInequality of outcomes\tEcological Footprint (gha/capita)\tHappy Planet Index": "99\tZimbabwe\tSub Saharan Africa\t53.7\t5\t37%\t1.4\t22.1"
         },
         {
          "HPI Rank\tCountry\tRegion\tLife Expectancy (years)\tWellbeing (0-10)\tInequality of outcomes\tEcological Footprint (gha/capita)\tHappy Planet Index": "100\tLebanon\tMiddle East and North Africa\t78.8\t4.6\t19%\t3.8\t21.9"
         },
         {
          "HPI Rank\tCountry\tRegion\tLife Expectancy (years)\tWellbeing (0-10)\tInequality of outcomes\tEcological Footprint (gha/capita)\tHappy Planet Index": "101\tSenegal\tSub Saharan Africa\t65.4\t3.7\t33%\t1.2\t21.9"
         },
         {
          "HPI Rank\tCountry\tRegion\tLife Expectancy (years)\tWellbeing (0-10)\tInequality of outcomes\tEcological Footprint (gha/capita)\tHappy Planet Index": "102\tBelarus\tPost-communist\t70.9\t5.7\t13%\t5.1\t21.7"
         },
         {
          "HPI Rank\tCountry\tRegion\tLife Expectancy (years)\tWellbeing (0-10)\tInequality of outcomes\tEcological Footprint (gha/capita)\tHappy Planet Index": "103\tNamibia\tSub Saharan Africa\t64\t4.7\t26%\t2.5\t21.6"
         },
         {
          "HPI Rank\tCountry\tRegion\tLife Expectancy (years)\tWellbeing (0-10)\tInequality of outcomes\tEcological Footprint (gha/capita)\tHappy Planet Index": "104\tGhana\tSub Saharan Africa\t61\t5.1\t38%\t2\t21.4"
         },
         {
          "HPI Rank\tCountry\tRegion\tLife Expectancy (years)\tWellbeing (0-10)\tInequality of outcomes\tEcological Footprint (gha/capita)\tHappy Planet Index": "105\tAustralia\tAsia Pacific\t82.1\t7.2\t8%\t9.3\t21.2"
         },
         {
          "HPI Rank\tCountry\tRegion\tLife Expectancy (years)\tWellbeing (0-10)\tInequality of outcomes\tEcological Footprint (gha/capita)\tHappy Planet Index": "106\tOman\tMiddle East and North Africa\t76.3\t6.9\t13%\t7.5\t21.1"
         },
         {
          "HPI Rank\tCountry\tRegion\tLife Expectancy (years)\tWellbeing (0-10)\tInequality of outcomes\tEcological Footprint (gha/capita)\tHappy Planet Index": "107\tLithuania\tPost-communist\t72.8\t5.8\t11%\t5.8\t21"
         },
         {
          "HPI Rank\tCountry\tRegion\tLife Expectancy (years)\tWellbeing (0-10)\tInequality of outcomes\tEcological Footprint (gha/capita)\tHappy Planet Index": "108\tUnited States of America\tAmericas\t78.8\t7\t13%\t8.2\t20.7"
         },
         {
          "HPI Rank\tCountry\tRegion\tLife Expectancy (years)\tWellbeing (0-10)\tInequality of outcomes\tEcological Footprint (gha/capita)\tHappy Planet Index": "109\tBulgaria\tPost-communist\t73.9\t4.2\t19%\t3.3\t20.4"
         },
         {
          "HPI Rank\tCountry\tRegion\tLife Expectancy (years)\tWellbeing (0-10)\tInequality of outcomes\tEcological Footprint (gha/capita)\tHappy Planet Index": "110\tAfghanistan\tMiddle East and North Africa\t59.7\t3.8\t43%\t0.8\t20.2"
         },
         {
          "HPI Rank\tCountry\tRegion\tLife Expectancy (years)\tWellbeing (0-10)\tInequality of outcomes\tEcological Footprint (gha/capita)\tHappy Planet Index": "111\tRwanda\tSub Saharan Africa\t63.1\t3.3\t37%\t0.9\t19.6"
         },
         {
          "HPI Rank\tCountry\tRegion\tLife Expectancy (years)\tWellbeing (0-10)\tInequality of outcomes\tEcological Footprint (gha/capita)\tHappy Planet Index": "112\tUganda\tSub Saharan Africa\t57.1\t4.3\t41%\t1.2\t19.4"
         },
         {
          "HPI Rank\tCountry\tRegion\tLife Expectancy (years)\tWellbeing (0-10)\tInequality of outcomes\tEcological Footprint (gha/capita)\tHappy Planet Index": "113\tSyria\tMiddle East and North Africa\t70.4\t3.2\t30%\t1.5\t19.1"
         },
         {
          "HPI Rank\tCountry\tRegion\tLife Expectancy (years)\tWellbeing (0-10)\tInequality of outcomes\tEcological Footprint (gha/capita)\tHappy Planet Index": "114\tKazakhstan\tPost-communist\t68.6\t5.8\t18%\t5.6\t19.1"
         },
         {
          "HPI Rank\tCountry\tRegion\tLife Expectancy (years)\tWellbeing (0-10)\tInequality of outcomes\tEcological Footprint (gha/capita)\tHappy Planet Index": "115\tRepublic of Congo\tSub Saharan Africa\t61\t3.9\t40%\t1.3\t18.8"
         },
         {
          "HPI Rank\tCountry\tRegion\tLife Expectancy (years)\tWellbeing (0-10)\tInequality of outcomes\tEcological Footprint (gha/capita)\tHappy Planet Index": "116\tRussia\tPost-communist\t69.5\t5.6\t16%\t5.7\t18.7"
         },
         {
          "HPI Rank\tCountry\tRegion\tLife Expectancy (years)\tWellbeing (0-10)\tInequality of outcomes\tEcological Footprint (gha/capita)\tHappy Planet Index": "117\tMauritania\tSub Saharan Africa\t62.6\t4.7\t37%\t2.5\t18"
         },
         {
          "HPI Rank\tCountry\tRegion\tLife Expectancy (years)\tWellbeing (0-10)\tInequality of outcomes\tEcological Footprint (gha/capita)\tHappy Planet Index": "118\tEstonia\tPost-communist\t76.2\t5.4\t12%\t6.9\t17.9"
         },
         {
          "HPI Rank\tCountry\tRegion\tLife Expectancy (years)\tWellbeing (0-10)\tInequality of outcomes\tEcological Footprint (gha/capita)\tHappy Planet Index": "119\tBurkina Faso\tSub Saharan Africa\t58\t4\t43%\t1.2\t17.9"
         },
         {
          "HPI Rank\tCountry\tRegion\tLife Expectancy (years)\tWellbeing (0-10)\tInequality of outcomes\tEcological Footprint (gha/capita)\tHappy Planet Index": "120\tGabon\tSub Saharan Africa\t63.3\t4\t36%\t2\t17.5"
         },
         {
          "HPI Rank\tCountry\tRegion\tLife Expectancy (years)\tWellbeing (0-10)\tInequality of outcomes\tEcological Footprint (gha/capita)\tHappy Planet Index": "121\tLatvia\tPost-communist\t73.6\t5.1\t14%\t6.3\t17.1"
         },
         {
          "HPI Rank\tCountry\tRegion\tLife Expectancy (years)\tWellbeing (0-10)\tInequality of outcomes\tEcological Footprint (gha/capita)\tHappy Planet Index": "122\tNiger\tSub Saharan Africa\t60\t3.8\t40%\t1.6\t16.8"
         },
         {
          "HPI Rank\tCountry\tRegion\tLife Expectancy (years)\tWellbeing (0-10)\tInequality of outcomes\tEcological Footprint (gha/capita)\tHappy Planet Index": "123\tHong Kong\tAsia Pacific\t83.6\t5.5\t10%\t8.8\t16.8"
         },
         {
          "HPI Rank\tCountry\tRegion\tLife Expectancy (years)\tWellbeing (0-10)\tInequality of outcomes\tEcological Footprint (gha/capita)\tHappy Planet Index": "124\tCameroon\tSub Saharan Africa\t54.6\t4.2\t47%\t1.2\t16.7"
         },
         {
          "HPI Rank\tCountry\tRegion\tLife Expectancy (years)\tWellbeing (0-10)\tInequality of outcomes\tEcological Footprint (gha/capita)\tHappy Planet Index": "125\tLesotho\tSub Saharan Africa\t48.9\t4.9\t42%\t1.7\t16.7"
         },
         {
          "HPI Rank\tCountry\tRegion\tLife Expectancy (years)\tWellbeing (0-10)\tInequality of outcomes\tEcological Footprint (gha/capita)\tHappy Planet Index": "126\tBotswana\tSub Saharan Africa\t64.2\t4.8\t28%\t3.8\t16.6"
         },
         {
          "HPI Rank\tCountry\tRegion\tLife Expectancy (years)\tWellbeing (0-10)\tInequality of outcomes\tEcological Footprint (gha/capita)\tHappy Planet Index": "127\tDjibouti\tSub Saharan Africa\t61.3\t4.4\t42%\t2.2\t16.4"
         },
         {
          "HPI Rank\tCountry\tRegion\tLife Expectancy (years)\tWellbeing (0-10)\tInequality of outcomes\tEcological Footprint (gha/capita)\tHappy Planet Index": "128\tSouth Africa\tSub Saharan Africa\t56.3\t5.1\t33%\t3.3\t15.9"
         },
         {
          "HPI Rank\tCountry\tRegion\tLife Expectancy (years)\tWellbeing (0-10)\tInequality of outcomes\tEcological Footprint (gha/capita)\tHappy Planet Index": "129\tGuinea\tSub Saharan Africa\t57.7\t3.7\t42%\t1.4\t15.9"
         },
         {
          "HPI Rank\tCountry\tRegion\tLife Expectancy (years)\tWellbeing (0-10)\tInequality of outcomes\tEcological Footprint (gha/capita)\tHappy Planet Index": "130\tTrinidad and Tobago\tAmericas\t70.1\t6.4\t21%\t7.9\t15.7"
         },
         {
          "HPI Rank\tCountry\tRegion\tLife Expectancy (years)\tWellbeing (0-10)\tInequality of outcomes\tEcological Footprint (gha/capita)\tHappy Planet Index": "131\tBurundi\tSub Saharan Africa\t55.8\t3.4\t48%\t0.8\t15.6"
         },
         {
          "HPI Rank\tCountry\tRegion\tLife Expectancy (years)\tWellbeing (0-10)\tInequality of outcomes\tEcological Footprint (gha/capita)\tHappy Planet Index": "132\tSwaziland\tSub Saharan Africa\t48.9\t4.9\t41%\t2\t15.5"
         },
         {
          "HPI Rank\tCountry\tRegion\tLife Expectancy (years)\tWellbeing (0-10)\tInequality of outcomes\tEcological Footprint (gha/capita)\tHappy Planet Index": "133\tSierra Leone\tSub Saharan Africa\t49.8\t4.5\t50%\t1.2\t15.3"
         },
         {
          "HPI Rank\tCountry\tRegion\tLife Expectancy (years)\tWellbeing (0-10)\tInequality of outcomes\tEcological Footprint (gha/capita)\tHappy Planet Index": "134\tTurkmenistan\tPost-communist\t65.3\t5.5\t31%\t5.5\t14.6"
         },
         {
          "HPI Rank\tCountry\tRegion\tLife Expectancy (years)\tWellbeing (0-10)\tInequality of outcomes\tEcological Footprint (gha/capita)\tHappy Planet Index": "135\tCote d'Ivoire\tSub Saharan Africa\t50.8\t3.8\t45%\t1.3\t14.4"
         },
         {
          "HPI Rank\tCountry\tRegion\tLife Expectancy (years)\tWellbeing (0-10)\tInequality of outcomes\tEcological Footprint (gha/capita)\tHappy Planet Index": "136\tMongolia\tAsia Pacific\t68.6\t4.9\t22%\t6.1\t14.3"
         },
         {
          "HPI Rank\tCountry\tRegion\tLife Expectancy (years)\tWellbeing (0-10)\tInequality of outcomes\tEcological Footprint (gha/capita)\tHappy Planet Index": "137\tBenin\tSub Saharan Africa\t59.2\t3.2\t44%\t1.4\t13.4"
         },
         {
          "HPI Rank\tCountry\tRegion\tLife Expectancy (years)\tWellbeing (0-10)\tInequality of outcomes\tEcological Footprint (gha/capita)\tHappy Planet Index": "138\tTogo\tSub Saharan Africa\t58.6\t2.9\t43%\t1.1\t13.2"
         },
         {
          "HPI Rank\tCountry\tRegion\tLife Expectancy (years)\tWellbeing (0-10)\tInequality of outcomes\tEcological Footprint (gha/capita)\tHappy Planet Index": "139\tLuxembourg\tEurope\t81.1\t7\t7%\t15.8\t13.2"
         },
         {
          "HPI Rank\tCountry\tRegion\tLife Expectancy (years)\tWellbeing (0-10)\tInequality of outcomes\tEcological Footprint (gha/capita)\tHappy Planet Index": "140\tChad\tSub Saharan Africa\t50.8\t4\t51%\t1.5\t12.8"
         }
        ]
       },
       "layer": [
        {
         "encoding": {
          "opacity": {
           "condition": {
            "selection": "selector002",
            "value": 1
           },
           "value": 0.7
          },
          "x": {
           "field": "Region",
           "type": "nominal"
          },
          "y": {
           "aggregate": "mean",
           "field": "Happy Planet Index",
           "type": "quantitative"
          }
         },
         "mark": "bar",
         "selection": {
          "selector002": {
           "encodings": [
            "x"
           ],
           "type": "interval"
          }
         },
         "width": 400
        },
        {
         "encoding": {
          "size": {
           "value": 3
          },
          "y": {
           "aggregate": "mean",
           "field": "Happy Planet Index",
           "type": "quantitative"
          }
         },
         "mark": {
          "color": "firebrick",
          "type": "rule"
         },
         "transform": [
          {
           "filter": {
            "selection": "selector002"
           }
          }
         ]
        }
       ]
      },
      "text/plain": [
       "<VegaLite 3 object>\n",
       "\n",
       "If you see this message, it means the renderer has not been properly enabled\n",
       "for the frontend that you are using. For more information, see\n",
       "https://altair-viz.github.io/user_guide/troubleshooting.html\n"
      ]
     },
     "execution_count": 3,
     "metadata": {},
     "output_type": "execute_result"
    }
   ],
   "source": [
    "import altair as alt\n",
    "selected_bars = alt.selection(type='interval', encodings=['x'])\n",
    "bars = alt.Chart(hpi_df).mark_bar().encode(\n",
    "x='Region:N',\n",
    "y='mean(Happy Planet Index):Q',\n",
    "opacity=alt.condition(selected_bars, alt.OpacityValue(1), alt.\n",
    "OpacityValue(0.7)),\n",
    ").properties(width=400).add_selection(\n",
    "selected_bars\n",
    ")\n",
    "line = alt.Chart(hpi_df).mark_rule(color='firebrick').encode(\n",
    "y='mean(Happy Planet Index):Q',\n",
    "size=alt.SizeValue(3)\n",
    ").transform_filter(\n",
    "selected_bars\n",
    ")\n",
    "bars + line"
   ]
  },
  {
   "cell_type": "code",
   "execution_count": null,
   "metadata": {},
   "outputs": [],
   "source": []
  }
 ],
 "metadata": {
  "kernelspec": {
   "display_name": "Python 3",
   "language": "python",
   "name": "python3"
  },
  "language_info": {
   "codemirror_mode": {
    "name": "ipython",
    "version": 3
   },
   "file_extension": ".py",
   "mimetype": "text/x-python",
   "name": "python",
   "nbconvert_exporter": "python",
   "pygments_lexer": "ipython3",
   "version": "3.7.3"
  }
 },
 "nbformat": 4,
 "nbformat_minor": 2
}

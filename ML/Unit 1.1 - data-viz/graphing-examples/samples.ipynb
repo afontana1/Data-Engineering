{
 "cells": [
  {
   "cell_type": "code",
   "execution_count": 9,
   "id": "8caeefaf-0422-4997-862a-f9c46ae28464",
   "metadata": {},
   "outputs": [],
   "source": [
    "import ipywidgets as widgets\n",
    "import pandas as pd\n",
    "import numpy as np\n",
    "from IPython.display import display\n",
    "import matplotlib.pyplot as plt\n",
    "\n",
    "## See docstrings for examples\n",
    "from plotters.data_generators import (\n",
    "    create_prog_data, \n",
    "    create_site_data,\n",
    "    data_for_3d\n",
    ")\n",
    "from plotters.three_dimensional import (\n",
    "    ThreeDPlotter,\n",
    "    SubPlot3DPlotter,\n",
    "    Interactive3DLinePlotter,\n",
    "    Interactive3DPlot,\n",
    "    Interactive3DStemPlotter,\n",
    "    InteractiveLinePlot\n",
    ")\n",
    "from plotters.donut import SubplotDonutPlotter, InteractiveDonutPlotter\n",
    "from plotters.time_series_plotters import (\n",
    "    TimeSeriesPlotter,\n",
    "    TimeSeriesVisualizer,\n",
    "    TimeSeriesPlotterWithDistribution,\n",
    "    InteractivePlotter,\n",
    "    InteractiveTimeSeriesPlot,\n",
    "    InteractiveTimeSeriesPlotter\n",
    ")\n",
    "from plotters.interactive_analyzer import DataFrameAnalyzer, InteractiveDataFrameAnalyzer"
   ]
  },
  {
   "cell_type": "code",
   "execution_count": 4,
   "id": "4a2e6bd6-be56-45ec-a4e9-9e4e171486a7",
   "metadata": {},
   "outputs": [],
   "source": [
    "# 3d data\n",
    "df = data_for_3d()\n",
    "scale_factor_df = pd.DataFrame({\n",
    "    'scale': [\"scale1\", \"scale2\", \"scale3\", \"scale4\",\"\"],\n",
    "    'factor': [0.5, 1.0, 1.5, 2.0,0.0]\n",
    "})\n",
    "scale_factor_df = scale_factor_df.set_index(\"scale\")"
   ]
  },
  {
   "cell_type": "code",
   "execution_count": 5,
   "id": "53148983-a271-4ae0-969c-ea81ad67e88b",
   "metadata": {},
   "outputs": [],
   "source": [
    "# donut data\n",
    "\n",
    "dataframes = {f\"df_{i}\":data_for_3d() for i in range(3)}\n",
    "scale_factor_df = pd.DataFrame({\n",
    "    'scale': [\"scale1\", \"scale2\", \"scale3\", \"scale4\",\"\"],\n",
    "    'factor': [0.5, 1.0, 1.5, 2.0,0.0]\n",
    "})\n",
    "scale_factor_df = scale_factor_df.set_index(\"scale\")"
   ]
  },
  {
   "cell_type": "code",
   "execution_count": 6,
   "id": "b43f4213-0772-4f0e-9ac4-62229a663b81",
   "metadata": {},
   "outputs": [],
   "source": [
    "# time series data\n",
    "\n",
    "df = data_for_3d()\n",
    "scale_factor_df = pd.DataFrame({\n",
    "    'scale': [\"scale1\", \"scale2\", \"scale3\", \"scale4\",\"\"],\n",
    "    'factor': [0.5, 1.0, 1.5, 2.0,0.0]\n",
    "})\n",
    "scale_factor_df = scale_factor_df.set_index(\"scale\")"
   ]
  },
  {
   "cell_type": "code",
   "execution_count": 8,
   "id": "6133c886-7a64-40ad-b75a-b583966d530f",
   "metadata": {},
   "outputs": [],
   "source": [
    "# For interactive Analyzer\n",
    "\n",
    "years = list(range(2020, 2051))\n",
    "\n",
    "df_prog = create_prog_data()\n",
    "df_site = create_site_data(years=years)"
   ]
  },
  {
   "cell_type": "code",
   "execution_count": null,
   "id": "5e11e51d-a55c-4d2f-bc0c-84b0ab86f0bf",
   "metadata": {},
   "outputs": [],
   "source": []
  },
  {
   "cell_type": "code",
   "execution_count": null,
   "id": "9e2c4e32-825a-4d2c-9212-3515aa3d5d4f",
   "metadata": {},
   "outputs": [],
   "source": [
    "\n"
   ]
  },
  {
   "cell_type": "code",
   "execution_count": null,
   "id": "bc4323bd-553a-4331-9200-17b9c1855310",
   "metadata": {},
   "outputs": [],
   "source": []
  },
  {
   "cell_type": "code",
   "execution_count": null,
   "id": "dc849077-fd58-4c18-9423-c13c75055d84",
   "metadata": {},
   "outputs": [],
   "source": []
  },
  {
   "cell_type": "code",
   "execution_count": null,
   "id": "9f4c91a3-846c-47ce-bbba-12756b240094",
   "metadata": {},
   "outputs": [],
   "source": []
  }
 ],
 "metadata": {
  "kernelspec": {
   "display_name": "Python 3 (ipykernel)",
   "language": "python",
   "name": "python3"
  },
  "language_info": {
   "codemirror_mode": {
    "name": "ipython",
    "version": 3
   },
   "file_extension": ".py",
   "mimetype": "text/x-python",
   "name": "python",
   "nbconvert_exporter": "python",
   "pygments_lexer": "ipython3",
   "version": "3.11.3"
  }
 },
 "nbformat": 4,
 "nbformat_minor": 5
}

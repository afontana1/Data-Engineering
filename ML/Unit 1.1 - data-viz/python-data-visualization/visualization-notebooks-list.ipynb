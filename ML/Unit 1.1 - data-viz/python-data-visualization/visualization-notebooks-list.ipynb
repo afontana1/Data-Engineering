{
 "cells": [
  {
   "cell_type": "markdown",
   "metadata": {
    "papermill": {
     "duration": 0.004235,
     "end_time": "2021-10-04T05:12:45.121328",
     "exception": false,
     "start_time": "2021-10-04T05:12:45.117093",
     "status": "completed"
    },
    "tags": []
   },
   "source": [
    "# Visualization is All You Need!\n",
    "\n",
    "## Visualization Tips\n",
    "\n",
    "|Titles|Link|Description|\n",
    "|-|-|-|\n",
    "|[Matplotlib] Conceptual Figure - Basic Viz|[link](https://www.kaggle.com/subinium/matplotlib-conceptual-figure-basic-viz)|Chart for Lecture|\n",
    "|Simple Matplotlib & Visualization Tips|[link](https://www.kaggle.com/subinium/simple-matplotlib-visualization-tips)|Matplotlib Techniques|\n",
    "|Tips for making the Informative Visualization|[link](https://www.kaggle.com/subinium/tips-for-making-the-informative-visualization)|Informative Visualization|\n",
    "|⚫ Dark Mode Visualization (Apple Version)|[link](https://www.kaggle.com/subinium/dark-mode-visualization-apple-version)|Apple Dark Mode Color Palette in Matplotlib|\n",
    "|Analysis of EDA Notebooks|[link](https://www.kaggle.com/subinium/analysis-of-eda-notebooks)|Brief analysis of EDA notebooks with many Upvote|\n",
    "|[All About Vis] How to Make the Right Barplot?|[link](https://www.kaggle.com/subinium/all-about-vis-how-to-make-the-right-barplot)|Barplot tips|\n",
    "|[All About Vis] How to Make the Right Lineplot?|[link](https://www.kaggle.com/subinium/all-about-vis-how-to-make-the-right-lineplot)|Lineplot tips|\n",
    "|All you need is Pandas📊(Benchmark Viz)|[link](https://www.kaggle.com/subinium/all-you-need-is-pandas-benchmark-viz)|Pandas Dataframe Style Example|\n",
    "|[CommonLit] How to Visualize Text Dataset? 📜|[link](https://www.kaggle.com/subinium/commonlit-how-to-visualize-text-dataset)|Text Visualization in Notebook|"
   ]
  },
  {
   "cell_type": "markdown",
   "metadata": {
    "papermill": {
     "duration": 0.002929,
     "end_time": "2021-10-04T05:12:45.127856",
     "exception": false,
     "start_time": "2021-10-04T05:12:45.124927",
     "status": "completed"
    },
    "tags": []
   },
   "source": [
    "## EDA & Viz Skills (for Competitions)\n",
    "\n",
    "|Titles|Link|Description|\n",
    "|-|-|-|\n",
    "|[Kaggle 2020] Visualization & Analysis| [link](https://www.kaggle.com/subinium/kaggle-2020-visualization-analysis)| 2020 Kaggle Machine Learning & Data Science Survey |\n",
    "|⚜️ The Hitchhiker's Guide to the Kaggle|[link](https://www.kaggle.com/subinium/the-hitchhiker-s-guide-to-the-kaggle)| 2019 Kaggle Machine Learning & Data Science Survey |\n",
    "|T-SNE & Viz on Kannada MNIST|[link](https://www.kaggle.com/subinium/t-sne-viz-on-kannada-mnist)|Dimension Reduction|\n",
    "|Weather Dashboard : EDA & Visualization ⛅🌡️|[link](https://www.kaggle.com/subinium/weather-dashboard-eda-visualization)|Dark Mode EDA+Viz|\n",
    "|Categorical Data EDA & Visualization|[link](https://www.kaggle.com/subinium/categorical-data-eda-visualization)|Categorical EDA|\n",
    "|I Want to See All Features 🏈 (eda&visualization)|[link](https://www.kaggle.com/subinium/i-want-to-see-all-features-eda-visualization)|Normal EDA|\n",
    "|3D Interactive Car🚗 with Plotly|[link](https://www.kaggle.com/subinium/3d-interactive-car-with-plotly)|Interactive 3D Car Viz|\n",
    "|Mask visualization, managing with buttons!|[link](https://www.kaggle.com/subinium/mask-visualization-managing-with-buttons)|Plotly Button|\n",
    "|[Bengali.AI] Interactive Heatmap|[link](https://www.kaggle.com/subinium/bengali-ai-interactive-heatmap)|Interactive Heatmap with Bokeh|\n",
    "|[TabularPlayground-Feb] EDA & Visualization|[link](https://www.kaggle.com/subinium/tabularplayground-feb-eda-visualization)|Categorical EDA|\n",
    "|[TPS-March] EDA + Dimension Reduction|[link](https://www.kaggle.com/subinium/tps-march-eda-dimension-reduction)|EDA|\n",
    "|[TPS-Apr] Highlighting the Data ✨✨✨|[link](https://www.kaggle.com/subinium/tps-apr-highlighting-the-data)|Visualization EDA|\n",
    "|[TPS-May] Categorical EDA|[link](https://www.kaggle.com/subinium/tps-may-categorical-eda)||\n",
    "|[TPS-Jun] This is Original EDA & VIZ 😉|[link](https://www.kaggle.com/subinium/tps-jun-this-is-original-eda-viz)||\n",
    "|[TPS-Aug] Simple EDA|[link](https://www.kaggle.com/subinium/tps-aug-simple-eda)||\n",
    "|[TPS-Oct] Simple EDA|[link](https://www.kaggle.com/subinium/tps-oct-simple-eda)||"
   ]
  },
  {
   "cell_type": "markdown",
   "metadata": {
    "papermill": {
     "duration": 0.002979,
     "end_time": "2021-10-04T05:12:45.134087",
     "exception": false,
     "start_time": "2021-10-04T05:12:45.131108",
     "status": "completed"
    },
    "tags": []
   },
   "source": [
    "## Storytelling & Art Project\n",
    "\n",
    "|Titles|Link|Description|\n",
    "|-|-|-|\n",
    "|🎅 Merry Christmas!! 🎅|[link](https://www.kaggle.com/subinium/merry-christmas)|Christmas Tree 3D Viz|\n",
    "|🕶 Awesome Visualization with Titanic Dataset📊|[link](https://www.kaggle.com/subinium/awesome-visualization-with-titanic-dataset)|Art + InfoVis with Titanic|\n",
    "|🎬 Storytelling with Data - Netflix ver.|[link](https://www.kaggle.com/subinium/storytelling-with-data-netflix-ver)|Netflix EDA|\n",
    "|🕶 Pokemon Visualization with Matplotlib|[link](https://www.kaggle.com/subinium/pokemon-visualization-with-matplotlib)|Radar Chart with Matplotlib|\n",
    "|Easy way to make Color Palette with ML|[link](https://www.kaggle.com/subinium/easy-way-to-make-color-palette-with-ml)|Color Palette ML|\n",
    "|[KaKr] Final Score Board Analysis|[link](https://www.kaggle.com/subinium/kakr-final-score-board-analysis)|Facebook Community Kaggle Korea 4th Competition Scoreboard Viz|\n",
    "|Simple Trick \\| Image + Word Cloud Masking|[link](https://www.kaggle.com/subinium/simple-trick-image-word-cloud-masking)|Image Masking with WordCloud|\n",
    "|[Data Art with Python] Circular Chart|[link](https://www.kaggle.com/subinium/data-art-with-python-circular-chart)|Data Art Practice|\n",
    "|How to Use Matplotlib Animations in Kaggle?|[link](https://www.kaggle.com/subinium/how-to-use-matplotlib-animations-in-kaggle)|Matplotlib Animation Practice|\n",
    "|Character Visualization...Bazinga!!|[link](https://www.kaggle.com/subinium/character-visualization-bazinga)|Simpson Character with Bar Chart|"
   ]
  },
  {
   "cell_type": "markdown",
   "metadata": {
    "papermill": {
     "duration": 0.004802,
     "end_time": "2021-10-04T05:12:45.142231",
     "exception": false,
     "start_time": "2021-10-04T05:12:45.137429",
     "status": "completed"
    },
    "tags": []
   },
   "source": [
    "## Library\n",
    "\n",
    "|Titles|Link|Description|\n",
    "|-|-|-|\n",
    "|💡 Awesome New in Matplotlib 3.4.0|[link](https://www.kaggle.com/subinium/awesome-new-in-matplotlib-3-4-0)|matplotlib 3.4.0|\n",
    "|Basic of Statistical Viz : Plotly & Seaborn|[link](https://www.kaggle.com/subinium/basic-of-statistical-viz-plotly-seaborn)|Plotly <-> Seaborn |\n",
    "|🛣️ Road to Viz Expert (1) - Unusual tools|[link](https://www.kaggle.com/subinium/road-to-viz-expert-1-unusual-tools)|Missingno, WordCloud, Pywaffle, Squarify, etc|\n",
    "|Basic of Statistical Viz : Plotly & Seaborn|[link](https://www.kaggle.com/subinium/basic-of-statistical-viz-plotly-seaborn)|Plotly <-> Seaborn |\n",
    "|Storytelling with Data - UFC ver.|[link](https://www.kaggle.com/subinium/storytelling-with-data-ufc-ver)|Altair|\n",
    "|Road to Viz Expert (3) - Geo with Plotly Express|[link](https://www.kaggle.com/subinium/road-to-viz-expert-3-geo-with-plotly-express)|Geospatial with Plotly Express|\n",
    "|🗺️ How to Use Folium? : Geospatial Data|[link](https://www.kaggle.com/subinium/how-to-use-folium-geospatial-data)|Folium|\n",
    "|Road to Viz Expert (4) - Unusual Tools II|[link](https://www.kaggle.com/subinium/road-to-viz-expert-4-unusual-tools-ii)|Advanced pywaffle + Venn Diagram|"
   ]
  }
 ],
 "metadata": {
  "kernelspec": {
   "display_name": "Python 3",
   "language": "python",
   "name": "python3"
  },
  "language_info": {
   "codemirror_mode": {
    "name": "ipython",
    "version": 3
   },
   "file_extension": ".py",
   "mimetype": "text/x-python",
   "name": "python",
   "nbconvert_exporter": "python",
   "pygments_lexer": "ipython3",
   "version": "3.7.6"
  },
  "papermill": {
   "duration": 4.595917,
   "end_time": "2021-10-04T05:12:45.254296",
   "environment_variables": {},
   "exception": null,
   "input_path": "__notebook__.ipynb",
   "output_path": "__notebook__.ipynb",
   "parameters": {},
   "start_time": "2021-10-04T05:12:40.658379",
   "version": "2.1.0"
  }
 },
 "nbformat": 4,
 "nbformat_minor": 4
}

{
 "cells": [
  {
   "cell_type": "markdown",
   "id": "8b7dfb40-1ef0-4621-89c3-87c5b226c023",
   "metadata": {
    "slideshow": {
     "slide_type": "slide"
    },
    "tags": []
   },
   "source": [
    "# Beyond the Basics: Data Visualization in Python\n",
    "\n",
    "### Stefanie Molin"
   ]
  },
  {
   "cell_type": "markdown",
   "id": "d4e1f7fe-9777-477f-b361-08e448f03af7",
   "metadata": {
    "slideshow": {
     "slide_type": "subslide"
    },
    "tags": []
   },
   "source": [
    "## Bio\n",
    "\n",
    "- Software engineer and data scientist at Bloomberg in New York City\n",
    "- Working in information security\n",
    "- Author of [Hands-On Data Analysis with Pandas](https://www.amazon.com/Hands-Data-Analysis-Pandas-visualization-dp-1800563450/dp/1800563450/) (currently in its second edition)\n",
    "- BS in operations research from Columbia University\n",
    "- Currently pursuing MS in computer science (ML specialization) from Georgia Tech"
   ]
  },
  {
   "cell_type": "markdown",
   "id": "0345e6e4-5c39-4c57-96d5-4b3980fe2e67",
   "metadata": {
    "slideshow": {
     "slide_type": "slide"
    },
    "tags": []
   },
   "source": [
    "### Prerequisites\n",
    "Consult the [README](https://github.com/stefmolin/python-data-viz-workshop) for environment setup instructions or use [this](https://mybinder.org/v2/gh/stefmolin/python-data-viz-workshop/main?urlpath=lab) Binder environment."
   ]
  },
  {
   "cell_type": "markdown",
   "id": "6134e4a8-f4c8-4698-b970-d2e83ea9d922",
   "metadata": {
    "slideshow": {
     "slide_type": "slide"
    },
    "tags": []
   },
   "source": [
    "### Session Outline\n",
    "1. Getting Started With Matplotlib\n",
    "2. Moving Beyond Static Visualizations\n",
    "3. Building Interactive Visualizations for Data Exploration"
   ]
  },
  {
   "cell_type": "markdown",
   "id": "def73df3-56b3-45a1-a157-2bb3488abef9",
   "metadata": {
    "slideshow": {
     "slide_type": "slide"
    },
    "tags": []
   },
   "source": [
    "## Let's get started\n",
    "\n",
    "*Be sure to follow along in the [notebooks](https://github.com/stefmolin/python-data-viz-workshop/tree/main/notebooks).*\n",
    "\n",
    "<img width=\"30%\" src=\"https://images.unsplash.com/photo-1496147956370-9486a6fc2208?ixid=MnwxMjA3fDB8MHxwaG90by1wYWdlfHx8fGVufDB8fHx8&ixlib=rb-1.2.1&auto=format&fit=crop&w=1974&q=80\" alt=\"Swan and cygnets\" style=\"min-width: 300px\">"
   ]
  }
 ],
 "metadata": {
  "kernelspec": {
   "display_name": "Python 3 (ipykernel)",
   "language": "python",
   "name": "python3"
  },
  "language_info": {
   "codemirror_mode": {
    "name": "ipython",
    "version": 3
   },
   "file_extension": ".py",
   "mimetype": "text/x-python",
   "name": "python",
   "nbconvert_exporter": "python",
   "pygments_lexer": "ipython3",
   "version": "3.9.12"
  }
 },
 "nbformat": 4,
 "nbformat_minor": 5
}

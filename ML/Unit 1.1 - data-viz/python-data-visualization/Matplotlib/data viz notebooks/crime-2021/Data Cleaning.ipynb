{
 "cells": [
  {
   "cell_type": "markdown",
   "metadata": {
    "cell_id": "00001-a55accee-d07a-4d20-8925-6f853885968e",
    "deepnote_cell_type": "markdown",
    "tags": []
   },
   "source": [
    "# Crime Data Data Cleaning"
   ]
  },
  {
   "cell_type": "markdown",
   "metadata": {
    "cell_id": "00002-fcf3cd14-6353-431b-919d-321425e30b9c",
    "deepnote_cell_type": "markdown",
    "tags": []
   },
   "source": [
    "We downloaded data from two tables on 1212.mn, DT_NSO_2300_010V1 and DT_NSO_2300_046V1. Both are crime types by soum for all of Mongolia, however the times are different. I'm guessing a bit for now, but I believe the crime classification changed a bit. \n",
    "\n",
    "- DT_NSO_2300_010V1 is from 2010-2017\n",
    "- DT_NSO_2300_046V1 is from 2018-2019\n",
    "\n"
   ]
  },
  {
   "cell_type": "code",
   "execution_count": 4,
   "metadata": {},
   "outputs": [],
   "source": [
    "import pandas as pd"
   ]
  },
  {
   "cell_type": "code",
   "execution_count": 6,
   "metadata": {},
   "outputs": [],
   "source": [
    "import requests"
   ]
  },
  {
   "cell_type": "markdown",
   "metadata": {
    "cell_id": "00004-e05c2c8b-a708-475d-81fe-d920fc2c4a2c",
    "deepnote_cell_type": "markdown",
    "tags": []
   },
   "source": [
    "This notebook does the following:\n",
    "\n",
    "- Clean the location column to be aimag and soum"
   ]
  }
 ],
 "metadata": {
  "deepnote": {
   "is_reactive": false
  },
  "deepnote_execution_queue": [],
  "deepnote_notebook_id": "aa19bfea-d357-4e1e-bcf0-017e1ef5c29f",
  "kernelspec": {
   "display_name": "Python 3 (ipykernel)",
   "language": "python",
   "name": "python3"
  },
  "language_info": {
   "codemirror_mode": {
    "name": "ipython",
    "version": 3
   },
   "file_extension": ".py",
   "mimetype": "text/x-python",
   "name": "python",
   "nbconvert_exporter": "python",
   "pygments_lexer": "ipython3",
   "version": "3.8.12"
  }
 },
 "nbformat": 4,
 "nbformat_minor": 4
}

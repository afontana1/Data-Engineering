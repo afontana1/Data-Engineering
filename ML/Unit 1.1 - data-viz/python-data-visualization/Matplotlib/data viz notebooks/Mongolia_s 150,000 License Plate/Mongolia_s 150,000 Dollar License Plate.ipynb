{
 "cells": [
  {
   "cell_type": "markdown",
   "id": "61a5d537",
   "metadata": {},
   "source": [
    "# Mongolia's $150,000 License Plate"
   ]
  },
  {
   "cell_type": "code",
   "execution_count": 1,
   "id": "cf80fe74",
   "metadata": {},
   "outputs": [],
   "source": [
    "import pandas as pd\n",
    "import matplotlib.pyplot as plt\n",
    "import numpy as np\n",
    "\n",
    "plt.style.use('mds.mplstyle')"
   ]
  },
  {
   "cell_type": "code",
   "execution_count": 2,
   "id": "b1c8ed96",
   "metadata": {},
   "outputs": [],
   "source": [
    "df = pd.read_csv('AuctionRecords.csv')"
   ]
  },
  {
   "cell_type": "code",
   "execution_count": 3,
   "id": "a279944c",
   "metadata": {},
   "outputs": [
    {
     "data": {
      "text/html": [
       "<div>\n",
       "<style scoped>\n",
       "    .dataframe tbody tr th:only-of-type {\n",
       "        vertical-align: middle;\n",
       "    }\n",
       "\n",
       "    .dataframe tbody tr th {\n",
       "        vertical-align: top;\n",
       "    }\n",
       "\n",
       "    .dataframe thead th {\n",
       "        text-align: right;\n",
       "    }\n",
       "</style>\n",
       "<table border=\"1\" class=\"dataframe\">\n",
       "  <thead>\n",
       "    <tr style=\"text-align: right;\">\n",
       "      <th></th>\n",
       "      <th>Auction Number</th>\n",
       "      <th>Price</th>\n",
       "      <th>Bid</th>\n",
       "      <th>Name</th>\n",
       "      <th>Time</th>\n",
       "      <th>Plate</th>\n",
       "    </tr>\n",
       "  </thead>\n",
       "  <tbody>\n",
       "    <tr>\n",
       "      <th>315</th>\n",
       "      <td>642</td>\n",
       "      <td>340,550,000 ₮</td>\n",
       "      <td>1,000,000 ₮</td>\n",
       "      <td>С. С***Н</td>\n",
       "      <td>09:31:36</td>\n",
       "      <td>0001 УАР</td>\n",
       "    </tr>\n",
       "    <tr>\n",
       "      <th>670</th>\n",
       "      <td>287</td>\n",
       "      <td>161,900,000 ₮</td>\n",
       "      <td>500,000 ₮</td>\n",
       "      <td>Г. Э***Г</td>\n",
       "      <td>09:08:23</td>\n",
       "      <td>0001 УАР</td>\n",
       "    </tr>\n",
       "    <tr>\n",
       "      <th>27</th>\n",
       "      <td>930</td>\n",
       "      <td>422,900,000 ₮</td>\n",
       "      <td>50,000 ₮</td>\n",
       "      <td>Б. Б***А</td>\n",
       "      <td>11:05:42</td>\n",
       "      <td>0001 УАР</td>\n",
       "    </tr>\n",
       "    <tr>\n",
       "      <th>1174</th>\n",
       "      <td>96</td>\n",
       "      <td>23,800,000 ₮</td>\n",
       "      <td>50,000 ₮</td>\n",
       "      <td>Д. О***Р</td>\n",
       "      <td>09:10:15</td>\n",
       "      <td>0101 УАР</td>\n",
       "    </tr>\n",
       "    <tr>\n",
       "      <th>791</th>\n",
       "      <td>166</td>\n",
       "      <td>110,150,000 ₮</td>\n",
       "      <td>1,000,000 ₮</td>\n",
       "      <td>Д. Э***Л</td>\n",
       "      <td>09:02:43</td>\n",
       "      <td>0001 УАР</td>\n",
       "    </tr>\n",
       "    <tr>\n",
       "      <th>98</th>\n",
       "      <td>859</td>\n",
       "      <td>416,450,000 ₮</td>\n",
       "      <td>50,000 ₮</td>\n",
       "      <td>С. Г***Р</td>\n",
       "      <td>10:32:45</td>\n",
       "      <td>0001 УАР</td>\n",
       "    </tr>\n",
       "    <tr>\n",
       "      <th>734</th>\n",
       "      <td>223</td>\n",
       "      <td>135,150,000 ₮</td>\n",
       "      <td>50,000 ₮</td>\n",
       "      <td>Д. О***Р</td>\n",
       "      <td>09:04:35</td>\n",
       "      <td>0001 УАР</td>\n",
       "    </tr>\n",
       "    <tr>\n",
       "      <th>1098</th>\n",
       "      <td>172</td>\n",
       "      <td>58,000,000 ₮</td>\n",
       "      <td>1,000,000 ₮</td>\n",
       "      <td>С. Л***Л</td>\n",
       "      <td>09:25:25</td>\n",
       "      <td>0101 УАР</td>\n",
       "    </tr>\n",
       "    <tr>\n",
       "      <th>516</th>\n",
       "      <td>441</td>\n",
       "      <td>235,000,000 ₮</td>\n",
       "      <td>1,000,000 ₮</td>\n",
       "      <td>Х. Б***Р</td>\n",
       "      <td>09:15:44</td>\n",
       "      <td>0001 УАР</td>\n",
       "    </tr>\n",
       "    <tr>\n",
       "      <th>598</th>\n",
       "      <td>359</td>\n",
       "      <td>192,000,000 ₮</td>\n",
       "      <td>50,000 ₮</td>\n",
       "      <td>Ц. Б***Ж</td>\n",
       "      <td>09:13:21</td>\n",
       "      <td>0001 УАР</td>\n",
       "    </tr>\n",
       "  </tbody>\n",
       "</table>\n",
       "</div>"
      ],
      "text/plain": [
       "      Auction Number          Price          Bid      Name      Time     Plate\n",
       "315              642  340,550,000 ₮  1,000,000 ₮  С. С***Н  09:31:36  0001 УАР\n",
       "670              287  161,900,000 ₮    500,000 ₮  Г. Э***Г  09:08:23  0001 УАР\n",
       "27               930  422,900,000 ₮     50,000 ₮  Б. Б***А  11:05:42  0001 УАР\n",
       "1174              96   23,800,000 ₮     50,000 ₮  Д. О***Р  09:10:15  0101 УАР\n",
       "791              166  110,150,000 ₮  1,000,000 ₮  Д. Э***Л  09:02:43  0001 УАР\n",
       "98               859  416,450,000 ₮     50,000 ₮  С. Г***Р  10:32:45  0001 УАР\n",
       "734              223  135,150,000 ₮     50,000 ₮  Д. О***Р  09:04:35  0001 УАР\n",
       "1098             172   58,000,000 ₮  1,000,000 ₮  С. Л***Л  09:25:25  0101 УАР\n",
       "516              441  235,000,000 ₮  1,000,000 ₮  Х. Б***Р  09:15:44  0001 УАР\n",
       "598              359  192,000,000 ₮     50,000 ₮  Ц. Б***Ж  09:13:21  0001 УАР"
      ]
     },
     "execution_count": 3,
     "metadata": {},
     "output_type": "execute_result"
    }
   ],
   "source": [
    "df.sample(10)"
   ]
  },
  {
   "cell_type": "code",
   "execution_count": 4,
   "id": "b29a56e3",
   "metadata": {},
   "outputs": [],
   "source": [
    "df['Time'] = pd.to_datetime(df['Time'])"
   ]
  },
  {
   "cell_type": "code",
   "execution_count": 5,
   "id": "a552be47",
   "metadata": {},
   "outputs": [],
   "source": [
    "df['Price'] = df['Price'].str.split().str.get(0).str.replace(',', '').astype('int')"
   ]
  },
  {
   "cell_type": "code",
   "execution_count": 6,
   "id": "272918e4",
   "metadata": {},
   "outputs": [
    {
     "data": {
      "text/plain": [
       "array(['0001 УАР', '0011 УАР', '0101 УАР', '1001 УАР'], dtype=object)"
      ]
     },
     "execution_count": 6,
     "metadata": {},
     "output_type": "execute_result"
    }
   ],
   "source": [
    "df['Plate'].unique()"
   ]
  },
  {
   "cell_type": "code",
   "execution_count": 7,
   "id": "f52d84b9",
   "metadata": {},
   "outputs": [
    {
     "data": {
      "text/plain": [
       "0      2021-09-21 11:26:31\n",
       "1      2021-09-21 11:24:37\n",
       "2      2021-09-21 11:24:21\n",
       "3      2021-09-21 11:24:11\n",
       "4      2021-09-21 11:22:16\n",
       "               ...        \n",
       "1308   2021-09-21 09:00:47\n",
       "1309   2021-09-21 09:00:35\n",
       "1310   2021-09-21 09:00:25\n",
       "1311   2021-09-21 09:00:19\n",
       "1312   2021-09-21 09:00:13\n",
       "Name: Time, Length: 1313, dtype: datetime64[ns]"
      ]
     },
     "execution_count": 7,
     "metadata": {},
     "output_type": "execute_result"
    }
   ],
   "source": [
    "df['Time']"
   ]
  },
  {
   "cell_type": "code",
   "execution_count": 8,
   "id": "85c57c5e",
   "metadata": {},
   "outputs": [
    {
     "data": {
      "text/html": [
       "<div>\n",
       "<style scoped>\n",
       "    .dataframe tbody tr th:only-of-type {\n",
       "        vertical-align: middle;\n",
       "    }\n",
       "\n",
       "    .dataframe tbody tr th {\n",
       "        vertical-align: top;\n",
       "    }\n",
       "\n",
       "    .dataframe thead th {\n",
       "        text-align: right;\n",
       "    }\n",
       "</style>\n",
       "<table border=\"1\" class=\"dataframe\">\n",
       "  <thead>\n",
       "    <tr style=\"text-align: right;\">\n",
       "      <th></th>\n",
       "      <th>Auction Number</th>\n",
       "      <th>Price</th>\n",
       "      <th>Bid</th>\n",
       "      <th>Name</th>\n",
       "      <th>Time</th>\n",
       "      <th>Plate</th>\n",
       "    </tr>\n",
       "  </thead>\n",
       "  <tbody>\n",
       "    <tr>\n",
       "      <th>0</th>\n",
       "      <td>957</td>\n",
       "      <td>427450000</td>\n",
       "      <td>1,000,000 ₮</td>\n",
       "      <td>С. Г***Р</td>\n",
       "      <td>2021-09-21 11:26:31</td>\n",
       "      <td>0001 УАР</td>\n",
       "    </tr>\n",
       "    <tr>\n",
       "      <th>1</th>\n",
       "      <td>956</td>\n",
       "      <td>426450000</td>\n",
       "      <td>50,000 ₮</td>\n",
       "      <td>Б. Б***А</td>\n",
       "      <td>2021-09-21 11:24:37</td>\n",
       "      <td>0001 УАР</td>\n",
       "    </tr>\n",
       "    <tr>\n",
       "      <th>2</th>\n",
       "      <td>955</td>\n",
       "      <td>426400000</td>\n",
       "      <td>50,000 ₮</td>\n",
       "      <td>Н. Э***С</td>\n",
       "      <td>2021-09-21 11:24:21</td>\n",
       "      <td>0001 УАР</td>\n",
       "    </tr>\n",
       "    <tr>\n",
       "      <th>3</th>\n",
       "      <td>954</td>\n",
       "      <td>426350000</td>\n",
       "      <td>50,000 ₮</td>\n",
       "      <td>С. Г***Р</td>\n",
       "      <td>2021-09-21 11:24:11</td>\n",
       "      <td>0001 УАР</td>\n",
       "    </tr>\n",
       "    <tr>\n",
       "      <th>4</th>\n",
       "      <td>953</td>\n",
       "      <td>426300000</td>\n",
       "      <td>50,000 ₮</td>\n",
       "      <td>Б. Б***А</td>\n",
       "      <td>2021-09-21 11:22:16</td>\n",
       "      <td>0001 УАР</td>\n",
       "    </tr>\n",
       "    <tr>\n",
       "      <th>...</th>\n",
       "      <td>...</td>\n",
       "      <td>...</td>\n",
       "      <td>...</td>\n",
       "      <td>...</td>\n",
       "      <td>...</td>\n",
       "      <td>...</td>\n",
       "    </tr>\n",
       "    <tr>\n",
       "      <th>1308</th>\n",
       "      <td>5</td>\n",
       "      <td>1900000</td>\n",
       "      <td>300,000 ₮</td>\n",
       "      <td>Б. Б***Н</td>\n",
       "      <td>2021-09-21 09:00:47</td>\n",
       "      <td>1001 УАР</td>\n",
       "    </tr>\n",
       "    <tr>\n",
       "      <th>1309</th>\n",
       "      <td>4</td>\n",
       "      <td>1600000</td>\n",
       "      <td>50,000 ₮</td>\n",
       "      <td>Д. Г***Р</td>\n",
       "      <td>2021-09-21 09:00:35</td>\n",
       "      <td>1001 УАР</td>\n",
       "    </tr>\n",
       "    <tr>\n",
       "      <th>1310</th>\n",
       "      <td>3</td>\n",
       "      <td>1550000</td>\n",
       "      <td>500,000 ₮</td>\n",
       "      <td>Б. Б***Н</td>\n",
       "      <td>2021-09-21 09:00:25</td>\n",
       "      <td>1001 УАР</td>\n",
       "    </tr>\n",
       "    <tr>\n",
       "      <th>1311</th>\n",
       "      <td>2</td>\n",
       "      <td>1050000</td>\n",
       "      <td>50,000 ₮</td>\n",
       "      <td>Д. Г***Р</td>\n",
       "      <td>2021-09-21 09:00:19</td>\n",
       "      <td>1001 УАР</td>\n",
       "    </tr>\n",
       "    <tr>\n",
       "      <th>1312</th>\n",
       "      <td>1</td>\n",
       "      <td>1000000</td>\n",
       "      <td>1,000,000 ₮</td>\n",
       "      <td>П. Ц***Х</td>\n",
       "      <td>2021-09-21 09:00:13</td>\n",
       "      <td>1001 УАР</td>\n",
       "    </tr>\n",
       "  </tbody>\n",
       "</table>\n",
       "<p>1313 rows × 6 columns</p>\n",
       "</div>"
      ],
      "text/plain": [
       "      Auction Number      Price          Bid      Name                Time  \\\n",
       "0                957  427450000  1,000,000 ₮  С. Г***Р 2021-09-21 11:26:31   \n",
       "1                956  426450000     50,000 ₮  Б. Б***А 2021-09-21 11:24:37   \n",
       "2                955  426400000     50,000 ₮  Н. Э***С 2021-09-21 11:24:21   \n",
       "3                954  426350000     50,000 ₮  С. Г***Р 2021-09-21 11:24:11   \n",
       "4                953  426300000     50,000 ₮  Б. Б***А 2021-09-21 11:22:16   \n",
       "...              ...        ...          ...       ...                 ...   \n",
       "1308               5    1900000    300,000 ₮  Б. Б***Н 2021-09-21 09:00:47   \n",
       "1309               4    1600000     50,000 ₮  Д. Г***Р 2021-09-21 09:00:35   \n",
       "1310               3    1550000    500,000 ₮  Б. Б***Н 2021-09-21 09:00:25   \n",
       "1311               2    1050000     50,000 ₮  Д. Г***Р 2021-09-21 09:00:19   \n",
       "1312               1    1000000  1,000,000 ₮  П. Ц***Х 2021-09-21 09:00:13   \n",
       "\n",
       "         Plate  \n",
       "0     0001 УАР  \n",
       "1     0001 УАР  \n",
       "2     0001 УАР  \n",
       "3     0001 УАР  \n",
       "4     0001 УАР  \n",
       "...        ...  \n",
       "1308  1001 УАР  \n",
       "1309  1001 УАР  \n",
       "1310  1001 УАР  \n",
       "1311  1001 УАР  \n",
       "1312  1001 УАР  \n",
       "\n",
       "[1313 rows x 6 columns]"
      ]
     },
     "execution_count": 8,
     "metadata": {},
     "output_type": "execute_result"
    }
   ],
   "source": [
    "df"
   ]
  },
  {
   "cell_type": "code",
   "execution_count": 9,
   "id": "5fd6bcea",
   "metadata": {},
   "outputs": [],
   "source": [
    "ticks = [18673.375     , 18673.39583333, 18673.41666667, 18673.4375    ,\n",
    "       18673.45833333, 18673.47916667]"
   ]
  },
  {
   "cell_type": "code",
   "execution_count": 10,
   "id": "486da2d1",
   "metadata": {},
   "outputs": [
    {
     "data": {
      "text/plain": [
       "18673.375"
      ]
     },
     "execution_count": 10,
     "metadata": {},
     "output_type": "execute_result"
    }
   ],
   "source": [
    "ticks[0]"
   ]
  },
  {
   "cell_type": "code",
   "execution_count": 11,
   "id": "e09e92c7",
   "metadata": {},
   "outputs": [
    {
     "data": {
      "text/plain": [
       "70900000"
      ]
     },
     "execution_count": 11,
     "metadata": {},
     "output_type": "execute_result"
    }
   ],
   "source": [
    "df[df['Plate'] == '0011 УАР']['Price'].max()"
   ]
  },
  {
   "cell_type": "code",
   "execution_count": 284,
   "id": "318483cb",
   "metadata": {},
   "outputs": [
    {
     "data": {
      "image/png": "[encoded data removed]",
      "text/plain": [
       "<Figure size 864x576 with 1 Axes>"
      ]
     },
     "metadata": {},
     "output_type": "display_data"
    }
   ],
   "source": [
    "fig, ax = plt.subplots()\n",
    "ax.plot(df[df['Plate'] == '0001 УАР']['Time'], df[df['Plate'] == '0001 УАР']['Price'] / 1000000, linewidth=3)\n",
    "ax.plot(df[df['Plate'] == '0011 УАР']['Time'], df[df['Plate'] == '0011 УАР']['Price'] / 1000000, linewidth=3)\n",
    "ax.plot(df[df['Plate'] == '0101 УАР']['Time'], df[df['Plate'] == '0101 УАР']['Price'] / 1000000, linewidth=3)\n",
    "ax.plot(df[df['Plate'] == '1001 УАР']['Time'], df[df['Plate'] == '1001 УАР']['Price'] / 1000000, linewidth=3)\n",
    "\n",
    "ax.set_xlabel('Time on Feburary 15, 2021')\n",
    "ax.set_ylabel('Price in Millions of MNT')\n",
    "\n",
    "ax.set_xticks(ticks)\n",
    "ax.set_xticklabels(['9:00AM','9:30AM','10:00AM','10:30AM','11:00AM','11:30AM'])\n",
    "\n",
    "ax.set_yticks(np.arange(50,500, 50))\n",
    "ax.set_yticklabels(['50M','100M','150M','200M','250M','300M','350M','400M','450M'])\n",
    "\n",
    "ax.spines['bottom'].set_position('zero')\n",
    "ax.spines['left'].set_position(('data', ticks[0]))\n",
    "\n",
    "ax.set_xlim(18673.375)\n",
    "ax.set_ylim(0)\n",
    "\n",
    "ax.axhline(427350000 / 1000000, linewidth = 1, color='#000000', linestyle='--')\n",
    "ax.text(x = 18673.38, y=427350000 / 1000000 - 15, s='$150,000 Equivalent', fontsize = 12, color='#000000')\n",
    "\n",
    "ax.text(x = 18673.46, y=400, s='0001 УАР', fontsize = 20, color='#008fd5')\n",
    "ax.text(x = 18673.4035, y=65, s='0011 УАР', fontsize = 20, color='#fc4f30')\n",
    "ax.text(x = 18673.39, y=30, s='0101 УАР', fontsize = 14, color='#e5ae38')\n",
    "ax.text(x = 18673.382, y=5, s='1001 УАР', fontsize = 14, color='#6d904f')\n",
    "\n",
    "ax.text(x = 18673.368, y = 500, s = \"Mongolia's $150,000 License Plate\", fontsize=30, weight='bold', alpha=.8)\n",
    "ax.text(x = 18673.368, y = 470, s= 'Online bids for various license plates on Feburary 15, 2021', fontsize=18)\n",
    "ax.text(x = 18673.368, y = -60, s = '  ©Mongolian Data Stories                                                                                      Data Source: auction.transdep.mn  ', fontsize = 14, )\n",
    "\n",
    "plt.savefig('license_plate.png', dpi = 400, bbox_inches=\"tight\")"
   ]
  },
  {
   "cell_type": "code",
   "execution_count": 203,
   "id": "95d426f9",
   "metadata": {},
   "outputs": [
    {
     "data": {
      "text/plain": [
       "0      2021-02-15 11:26:31\n",
       "1      2021-02-15 11:24:37\n",
       "2      2021-02-15 11:24:21\n",
       "3      2021-02-15 11:24:11\n",
       "4      2021-02-15 11:22:16\n",
       "               ...        \n",
       "1308   2021-02-15 09:00:47\n",
       "1309   2021-02-15 09:00:35\n",
       "1310   2021-02-15 09:00:25\n",
       "1311   2021-02-15 09:00:19\n",
       "1312   2021-02-15 09:00:13\n",
       "Name: Time, Length: 1313, dtype: datetime64[ns]"
      ]
     },
     "execution_count": 203,
     "metadata": {},
     "output_type": "execute_result"
    }
   ],
   "source": [
    "df['Time']"
   ]
  },
  {
   "cell_type": "code",
   "execution_count": null,
   "id": "5d8f5a60",
   "metadata": {},
   "outputs": [],
   "source": []
  }
 ],
 "metadata": {
  "kernelspec": {
   "display_name": "Python 3 (ipykernel)",
   "language": "python",
   "name": "python3"
  },
  "language_info": {
   "codemirror_mode": {
    "name": "ipython",
    "version": 3
   },
   "file_extension": ".py",
   "mimetype": "text/x-python",
   "name": "python",
   "nbconvert_exporter": "python",
   "pygments_lexer": "ipython3",
   "version": "3.9.7"
  }
 },
 "nbformat": 4,
 "nbformat_minor": 5
}

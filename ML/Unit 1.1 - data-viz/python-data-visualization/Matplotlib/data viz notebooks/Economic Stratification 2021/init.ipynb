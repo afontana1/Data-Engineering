{
 "cells": [
  {
   "cell_type": "markdown",
   "metadata": {
    "cell_id": "00000-43f9c58f-2a8d-4366-934e-6cf84b17f4fe",
    "deepnote_cell_type": "markdown",
    "tags": []
   },
   "source": [
    "## Initialization Notebook\n",
    "This is your initialization notebook.\n",
    "\n",
    "**What's this for?**\n",
    "\n",
    "You can put custom code you want us to run every time we setup your environment in here. \n",
    "\n",
    "**Awesome! Anything I should not put in here?**\n",
    "\n",
    "Please don't install `jupyter` or `jedi` packages, they would break your Deepnote environment. Also, no need to put `!pip install`s here, we already save those automatically!\n",
    "\n",
    "**I want to learn more!**\n",
    "\n",
    "Great! Just [head over to our docs](https://docs.deepnote.com/environment/custom-initialization)."
   ]
  },
  {
   "cell_type": "code",
   "execution_count": null,
   "metadata": {
    "cell_id": "00001-eda26d06-457a-465e-a7b5-565584b94815",
    "deepnote_cell_type": "code",
    "deepnote_to_be_reexecuted": false,
    "execution_millis": 38,
    "execution_start": 1639648038461,
    "source_hash": "60b37886",
    "tags": []
   },
   "outputs": [
    {
     "name": "stdout",
     "output_type": "stream",
     "text": [
      "There's no requirements.txt, so nothing to install. This is the case with most projects.\n"
     ]
    }
   ],
   "source": [
    "%%bash\n",
    "# If your project has a 'requirements.txt' file, we'll install it here apart from blacklisted packages that interfere with Deepnote (see above).\n",
    "if test -f requirements.txt\n",
    "  then\n",
    "    sed -i '/jedi/d;/jupyter/d;' ./requirements.txt\n",
    "    pip install -r ./requirements.txt\n",
    "  else echo \"There's no requirements.txt, so nothing to install. This is the case with most projects.\"\n",
    "fi"
   ]
  }
 ],
 "metadata": {
  "deepnote": {
   "is_reactive": false
  },
  "deepnote_execution_queue": [],
  "deepnote_notebook_id": "05c92de1-2f80-445f-a01e-d8479a791e62",
  "language_info": {
   "name": "python"
  },
  "orig_nbformat": 2
 },
 "nbformat": 4,
 "nbformat_minor": 2
}

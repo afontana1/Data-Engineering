{
 "cells": [
  {
   "cell_type": "markdown",
   "metadata": {
    "cell_id": "00001-91e9551e-f350-40be-9a6e-8dcda3c2b695",
    "deepnote_cell_type": "markdown",
    "tags": []
   },
   "source": [
    "# Mongolia's Economic Stratification"
   ]
  },
  {
   "cell_type": "markdown",
   "metadata": {
    "cell_id": "00001-20b00b00-2f65-47b4-9285-4d1dd57040f3",
    "deepnote_cell_type": "markdown",
    "tags": []
   },
   "source": [
    "This notebook will seek to understand how income stratification has changed over time. At the core of this idea is the question, have Mongolians gotten richer since 2010?\n",
    "\n",
    "Link to data sources used in this notebook: \n",
    "\n",
    "- Monetary Income Grouping - [1212.mn](http://www.1212.mn/tables.aspx?tbl_id=DT_NSO_1900_032V1&Location_select_all=1&LocationSingleSelect=&Revenue_select_all=1&RevenueSingleSelect=&YearY_select_all=1&YearYSingleSelect=&viewtype=table)\n",
    "    - Gives the percent of Mongolian households making within specific income buckets\n",
    "- Inflation Rate - [1212.mn](http://www.1212.mn/tables.aspx?tbl_id=DT_NSO_0600_013V1&RATIO_select_all=1&RATIOSingleSelect=&YearY_select_all=1&YearYSingleSelect=&viewtype=linechart)\n",
    "    - The annual average CPI inflation\n",
    "- Monthly Average Wages - [1212.mn](http://www.1212.mn/tables.aspx?tbl_id=DT_NSO_0400_021V1&SOUM_select_all=0&SOUMSingleSelect=_0&Gender_select_all=0&GenderSingleSelect=_1&YearQ_select_all=0&YearQSingleSelect=&YearY_select_all=1&YearYSingleSelect=&viewtype=linechart)\n",
    "    - Monthly average wages (not median!)\n",
    "\n"
   ]
  },
  {
   "cell_type": "code",
   "execution_count": null,
   "metadata": {
    "cell_id": "00002-93ba7e30-3f8f-4863-86e1-316cafd0a1c0",
    "deepnote_cell_type": "code",
    "deepnote_to_be_reexecuted": false,
    "execution_millis": 2623,
    "execution_start": 1639648041733,
    "source_hash": "9f484c4c",
    "tags": []
   },
   "outputs": [],
   "source": [
    "import pandas as pd\n",
    "import matplotlib.pyplot as plt\n",
    "from textwrap import wrap"
   ]
  },
  {
   "cell_type": "code",
   "execution_count": null,
   "metadata": {
    "cell_id": "00003-c0a68dc6-dc02-432f-85cd-c02276104311",
    "deepnote_cell_type": "code",
    "deepnote_to_be_reexecuted": false,
    "execution_millis": 6,
    "execution_start": 1639648044368,
    "source_hash": "eea94f96",
    "tags": []
   },
   "outputs": [],
   "source": [
    "plt.style.use('mds.mplstyle')"
   ]
  },
  {
   "cell_type": "markdown",
   "metadata": {
    "cell_id": "00002-fd57e0cd-91f7-4246-a343-70fee547d39e",
    "deepnote_cell_type": "markdown",
    "tags": []
   },
   "source": [
    "## Importing Data and Cleaning"
   ]
  },
  {
   "cell_type": "code",
   "execution_count": null,
   "metadata": {
    "cell_id": "00004-d92ee6fc-0ed1-4ac9-8654-4318a8ae44d3",
    "deepnote_cell_type": "code",
    "deepnote_to_be_reexecuted": false,
    "execution_millis": 27,
    "execution_start": 1639648044375,
    "source_hash": "2fd0379a",
    "tags": []
   },
   "outputs": [],
   "source": [
    "income_groups = pd.read_csv('data/DT_NSO_1900_032V1_-_2021-12-15_-_www.1212.mn.csv')\n",
    "inflation = pd.read_csv('data/DT_NSO_0600_013V1_-_2021-12-15_-_www.1212.mn.csv')\n",
    "wages = pd.read_csv('data/DT_NSO_0400_021V1_-_2021-12-15_-_www.1212.mn.csv', thousands=',')"
   ]
  },
  {
   "cell_type": "code",
   "execution_count": null,
   "metadata": {
    "cell_id": "00005-20ff9a45-14f3-4c49-ab10-9ebd5fca426c",
    "deepnote_cell_type": "code",
    "deepnote_to_be_reexecuted": false,
    "execution_millis": 124,
    "execution_start": 1639648044425,
    "source_hash": "dfabf56f",
    "tags": []
   },
   "outputs": [
    {
     "data": {
      "application/vnd.deepnote.dataframe.v3+json": {
       "column_count": 12,
       "columns": [
        {
         "dtype": "object",
         "name": "Location",
         "stats": {
          "categories": [
           {
            "count": 5,
            "name": "National average"
           }
          ],
          "nan_count": 0,
          "unique_count": 1
         }
        },
        {
         "dtype": "object",
         "name": "Revenue",
         "stats": {
          "categories": [
           {
            "count": 1,
            "name": "under 300 000"
           },
           {
            "count": 1,
            "name": "300 001 - 500 000"
           },
           {
            "count": 3,
            "name": "3 others"
           }
          ],
          "nan_count": 0,
          "unique_count": 5
         }
        },
        {
         "dtype": "float64",
         "name": "2011",
         "stats": {
          "histogram": [
           {
            "bin_end": 8.69,
            "bin_start": 5.8,
            "count": 1
           },
           {
            "bin_end": 11.58,
            "bin_start": 8.69,
            "count": 1
           },
           {
            "bin_end": 14.469999999999999,
            "bin_start": 11.58,
            "count": 0
           },
           {
            "bin_end": 17.36,
            "bin_start": 14.469999999999999,
            "count": 1
           },
           {
            "bin_end": 20.25,
            "bin_start": 17.36,
            "count": 0
           },
           {
            "bin_end": 23.14,
            "bin_start": 20.25,
            "count": 0
           },
           {
            "bin_end": 26.03,
            "bin_start": 23.14,
            "count": 1
           },
           {
            "bin_end": 28.92,
            "bin_start": 26.03,
            "count": 0
           },
           {
            "bin_end": 31.810000000000002,
            "bin_start": 28.92,
            "count": 0
           },
           {
            "bin_end": 34.7,
            "bin_start": 31.810000000000002,
            "count": 1
           }
          ],
          "max": "34.7",
          "min": "5.8",
          "nan_count": 0,
          "unique_count": 5
         }
        },
        {
         "dtype": "float64",
         "name": "2012",
         "stats": {
          "histogram": [
           {
            "bin_end": 10.13,
            "bin_start": 8.5,
            "count": 1
           },
           {
            "bin_end": 11.76,
            "bin_start": 10.13,
            "count": 0
           },
           {
            "bin_end": 13.39,
            "bin_start": 11.76,
            "count": 1
           },
           {
            "bin_end": 15.02,
            "bin_start": 13.39,
            "count": 0
           },
           {
            "bin_end": 16.65,
            "bin_start": 15.02,
            "count": 1
           },
           {
            "bin_end": 18.28,
            "bin_start": 16.65,
            "count": 0
           },
           {
            "bin_end": 19.91,
            "bin_start": 18.28,
            "count": 0
           },
           {
            "bin_end": 21.54,
            "bin_start": 19.91,
            "count": 1
           },
           {
            "bin_end": 23.17,
            "bin_start": 21.54,
            "count": 0
           },
           {
            "bin_end": 24.8,
            "bin_start": 23.17,
            "count": 1
           }
          ],
          "max": "24.8",
          "min": "8.5",
          "nan_count": 0,
          "unique_count": 5
         }
        },
        {
         "dtype": "float64",
         "name": "2013",
         "stats": {
          "histogram": [
           {
            "bin_end": 11.35,
            "bin_start": 10.6,
            "count": 1
           },
           {
            "bin_end": 12.1,
            "bin_start": 11.35,
            "count": 0
           },
           {
            "bin_end": 12.850000000000001,
            "bin_start": 12.1,
            "count": 0
           },
           {
            "bin_end": 13.600000000000001,
            "bin_start": 12.850000000000001,
            "count": 0
           },
           {
            "bin_end": 14.350000000000001,
            "bin_start": 13.600000000000001,
            "count": 1
           },
           {
            "bin_end": 15.100000000000001,
            "bin_start": 14.350000000000001,
            "count": 1
           },
           {
            "bin_end": 15.850000000000001,
            "bin_start": 15.100000000000001,
            "count": 0
           },
           {
            "bin_end": 16.6,
            "bin_start": 15.850000000000001,
            "count": 0
           },
           {
            "bin_end": 17.35,
            "bin_start": 16.6,
            "count": 0
           },
           {
            "bin_end": 18.1,
            "bin_start": 17.35,
            "count": 2
           }
          ],
          "max": "18.1",
          "min": "10.6",
          "nan_count": 0,
          "unique_count": 5
         }
        },
        {
         "dtype": "float64",
         "name": "2014",
         "stats": {
          "histogram": [
           {
            "bin_end": 11.6,
            "bin_start": 11,
            "count": 2
           },
           {
            "bin_end": 12.2,
            "bin_start": 11.6,
            "count": 0
           },
           {
            "bin_end": 12.8,
            "bin_start": 12.2,
            "count": 0
           },
           {
            "bin_end": 13.4,
            "bin_start": 12.8,
            "count": 0
           },
           {
            "bin_end": 14,
            "bin_start": 13.4,
            "count": 0
           },
           {
            "bin_end": 14.6,
            "bin_start": 14,
            "count": 1
           },
           {
            "bin_end": 15.2,
            "bin_start": 14.6,
            "count": 0
           },
           {
            "bin_end": 15.8,
            "bin_start": 15.2,
            "count": 0
           },
           {
            "bin_end": 16.4,
            "bin_start": 15.8,
            "count": 0
           },
           {
            "bin_end": 17,
            "bin_start": 16.4,
            "count": 2
           }
          ],
          "max": "17.0",
          "min": "11.0",
          "nan_count": 0,
          "unique_count": 5
         }
        },
        {
         "dtype": "float64",
         "name": "2015",
         "stats": {
          "histogram": [
           {
            "bin_end": 11.69,
            "bin_start": 11.1,
            "count": 1
           },
           {
            "bin_end": 12.28,
            "bin_start": 11.69,
            "count": 0
           },
           {
            "bin_end": 12.87,
            "bin_start": 12.28,
            "count": 1
           },
           {
            "bin_end": 13.46,
            "bin_start": 12.87,
            "count": 0
           },
           {
            "bin_end": 14.05,
            "bin_start": 13.46,
            "count": 1
           },
           {
            "bin_end": 14.64,
            "bin_start": 14.05,
            "count": 0
           },
           {
            "bin_end": 15.23,
            "bin_start": 14.64,
            "count": 0
           },
           {
            "bin_end": 15.82,
            "bin_start": 15.23,
            "count": 0
           },
           {
            "bin_end": 16.41,
            "bin_start": 15.82,
            "count": 0
           },
           {
            "bin_end": 17,
            "bin_start": 16.41,
            "count": 2
           }
          ],
          "max": "17.0",
          "min": "11.1",
          "nan_count": 0,
          "unique_count": 5
         }
        },
        {
         "dtype": "float64",
         "name": "2016",
         "stats": {
          "histogram": [
           {
            "bin_end": 11.479999999999999,
            "bin_start": 10.7,
            "count": 1
           },
           {
            "bin_end": 12.26,
            "bin_start": 11.479999999999999,
            "count": 0
           },
           {
            "bin_end": 13.04,
            "bin_start": 12.26,
            "count": 0
           },
           {
            "bin_end": 13.82,
            "bin_start": 13.04,
            "count": 0
           },
           {
            "bin_end": 14.6,
            "bin_start": 13.82,
            "count": 2
           },
           {
            "bin_end": 15.379999999999999,
            "bin_start": 14.6,
            "count": 0
           },
           {
            "bin_end": 16.16,
            "bin_start": 15.379999999999999,
            "count": 0
           },
           {
            "bin_end": 16.939999999999998,
            "bin_start": 16.16,
            "count": 0
           },
           {
            "bin_end": 17.72,
            "bin_start": 16.939999999999998,
            "count": 0
           },
           {
            "bin_end": 18.5,
            "bin_start": 17.72,
            "count": 2
           }
          ],
          "max": "18.5",
          "min": "10.7",
          "nan_count": 0,
          "unique_count": 5
         }
        },
        {
         "dtype": "float64",
         "name": "2017",
         "stats": {
          "histogram": [
           {
            "bin_end": 11.13,
            "bin_start": 10.4,
            "count": 1
           },
           {
            "bin_end": 11.86,
            "bin_start": 11.13,
            "count": 0
           },
           {
            "bin_end": 12.59,
            "bin_start": 11.86,
            "count": 0
           },
           {
            "bin_end": 13.32,
            "bin_start": 12.59,
            "count": 1
           },
           {
            "bin_end": 14.05,
            "bin_start": 13.32,
            "count": 0
           },
           {
            "bin_end": 14.78,
            "bin_start": 14.05,
            "count": 1
           },
           {
            "bin_end": 15.51,
            "bin_start": 14.78,
            "count": 0
           },
           {
            "bin_end": 16.24,
            "bin_start": 15.51,
            "count": 0
           },
           {
            "bin_end": 16.97,
            "bin_start": 16.24,
            "count": 1
           },
           {
            "bin_end": 17.7,
            "bin_start": 16.97,
            "count": 1
           }
          ],
          "max": "17.7",
          "min": "10.4",
          "nan_count": 0,
          "unique_count": 5
         }
        },
        {
         "dtype": "float64",
         "name": "2018",
         "stats": {
          "histogram": [
           {
            "bin_end": 9.51,
            "bin_start": 8.9,
            "count": 1
           },
           {
            "bin_end": 10.120000000000001,
            "bin_start": 9.51,
            "count": 0
           },
           {
            "bin_end": 10.73,
            "bin_start": 10.120000000000001,
            "count": 0
           },
           {
            "bin_end": 11.34,
            "bin_start": 10.73,
            "count": 0
           },
           {
            "bin_end": 11.95,
            "bin_start": 11.34,
            "count": 1
           },
           {
            "bin_end": 12.56,
            "bin_start": 11.95,
            "count": 0
           },
           {
            "bin_end": 13.17,
            "bin_start": 12.56,
            "count": 0
           },
           {
            "bin_end": 13.780000000000001,
            "bin_start": 13.17,
            "count": 1
           },
           {
            "bin_end": 14.39,
            "bin_start": 13.780000000000001,
            "count": 1
           },
           {
            "bin_end": 15,
            "bin_start": 14.39,
            "count": 1
           }
          ],
          "max": "15.0",
          "min": "8.9",
          "nan_count": 0,
          "unique_count": 5
         }
        },
        {
         "dtype": "float64",
         "name": "2019",
         "stats": {
          "histogram": [
           {
            "bin_end": 5.61,
            "bin_start": 4.7,
            "count": 1
           },
           {
            "bin_end": 6.5200000000000005,
            "bin_start": 5.61,
            "count": 0
           },
           {
            "bin_end": 7.430000000000001,
            "bin_start": 6.5200000000000005,
            "count": 0
           },
           {
            "bin_end": 8.34,
            "bin_start": 7.430000000000001,
            "count": 0
           },
           {
            "bin_end": 9.25,
            "bin_start": 8.34,
            "count": 0
           },
           {
            "bin_end": 10.16,
            "bin_start": 9.25,
            "count": 0
           },
           {
            "bin_end": 11.07,
            "bin_start": 10.16,
            "count": 0
           },
           {
            "bin_end": 11.98,
            "bin_start": 11.07,
            "count": 1
           },
           {
            "bin_end": 12.89,
            "bin_start": 11.98,
            "count": 1
           },
           {
            "bin_end": 13.8,
            "bin_start": 12.89,
            "count": 2
           }
          ],
          "max": "13.8",
          "min": "4.7",
          "nan_count": 0,
          "unique_count": 5
         }
        },
        {
         "dtype": "float64",
         "name": "2020",
         "stats": {
          "histogram": [
           {
            "bin_end": 4.6899999999999995,
            "bin_start": 3.9,
            "count": 1
           },
           {
            "bin_end": 5.48,
            "bin_start": 4.6899999999999995,
            "count": 0
           },
           {
            "bin_end": 6.27,
            "bin_start": 5.48,
            "count": 0
           },
           {
            "bin_end": 7.0600000000000005,
            "bin_start": 6.27,
            "count": 0
           },
           {
            "bin_end": 7.85,
            "bin_start": 7.0600000000000005,
            "count": 0
           },
           {
            "bin_end": 8.64,
            "bin_start": 7.85,
            "count": 0
           },
           {
            "bin_end": 9.43,
            "bin_start": 8.64,
            "count": 0
           },
           {
            "bin_end": 10.22,
            "bin_start": 9.43,
            "count": 0
           },
           {
            "bin_end": 11.01,
            "bin_start": 10.22,
            "count": 2
           },
           {
            "bin_end": 11.8,
            "bin_start": 11.01,
            "count": 2
           }
          ],
          "max": "11.8",
          "min": "3.9",
          "nan_count": 0,
          "unique_count": 5
         }
        },
        {
         "dtype": "int64",
         "name": "_deepnote_index_column"
        }
       ],
       "row_count": 5,
       "rows": [
        {
         "2011": 34.7,
         "2012": 24.8,
         "2013": 14.9,
         "2014": 11.2,
         "2015": 12.4,
         "2016": 13.9,
         "2017": 12.8,
         "2018": 8.9,
         "2019": 4.7,
         "2020": 3.9,
         "Location": "National average",
         "Revenue": "under 300 000",
         "_deepnote_index_column": 0
        },
        {
         "2011": 24.7,
         "2012": 20.8,
         "2013": 17.6,
         "2014": 16.8,
         "2015": 16.6,
         "2016": 18.1,
         "2017": 16.5,
         "2018": 14.2,
         "2019": 12.5,
         "2020": 10.5,
         "Location": "National average",
         "Revenue": "300 001 - 500 000",
         "_deepnote_index_column": 1
        },
        {
         "2011": 16.1,
         "2012": 16.2,
         "2013": 18.1,
         "2014": 17,
         "2015": 17,
         "2016": 18.5,
         "2017": 17.7,
         "2018": 15,
         "2019": 13.3,
         "2020": 10.4,
         "Location": "National average",
         "Revenue": "500 001 - 700 000",
         "_deepnote_index_column": 2
        },
        {
         "2011": 9.6,
         "2012": 12.2,
         "2013": 14.3,
         "2014": 14.3,
         "2015": 14,
         "2016": 14.3,
         "2017": 14.3,
         "2018": 13.7,
         "2019": 13.8,
         "2020": 11.8,
         "Location": "National average",
         "Revenue": "700 001 - 900 000",
         "_deepnote_index_column": 3
        },
        {
         "2011": 5.8,
         "2012": 8.5,
         "2013": 10.6,
         "2014": 11,
         "2015": 11.1,
         "2016": 10.7,
         "2017": 10.4,
         "2018": 11.7,
         "2019": 11.3,
         "2020": 11.3,
         "Location": "National average",
         "Revenue": "900 001 - 1 100 000",
         "_deepnote_index_column": 4
        }
       ]
      },
      "text/html": [
       "<div>\n",
       "<style scoped>\n",
       "    .dataframe tbody tr th:only-of-type {\n",
       "        vertical-align: middle;\n",
       "    }\n",
       "\n",
       "    .dataframe tbody tr th {\n",
       "        vertical-align: top;\n",
       "    }\n",
       "\n",
       "    .dataframe thead th {\n",
       "        text-align: right;\n",
       "    }\n",
       "</style>\n",
       "<table border=\"1\" class=\"dataframe\">\n",
       "  <thead>\n",
       "    <tr style=\"text-align: right;\">\n",
       "      <th></th>\n",
       "      <th>Location</th>\n",
       "      <th>Revenue</th>\n",
       "      <th>2011</th>\n",
       "      <th>2012</th>\n",
       "      <th>2013</th>\n",
       "      <th>2014</th>\n",
       "      <th>2015</th>\n",
       "      <th>2016</th>\n",
       "      <th>2017</th>\n",
       "      <th>2018</th>\n",
       "      <th>2019</th>\n",
       "      <th>2020</th>\n",
       "    </tr>\n",
       "  </thead>\n",
       "  <tbody>\n",
       "    <tr>\n",
       "      <th>0</th>\n",
       "      <td>National average</td>\n",
       "      <td>under 300 000</td>\n",
       "      <td>34.7</td>\n",
       "      <td>24.8</td>\n",
       "      <td>14.9</td>\n",
       "      <td>11.2</td>\n",
       "      <td>12.4</td>\n",
       "      <td>13.9</td>\n",
       "      <td>12.8</td>\n",
       "      <td>8.9</td>\n",
       "      <td>4.7</td>\n",
       "      <td>3.9</td>\n",
       "    </tr>\n",
       "    <tr>\n",
       "      <th>1</th>\n",
       "      <td>National average</td>\n",
       "      <td>300 001 - 500 000</td>\n",
       "      <td>24.7</td>\n",
       "      <td>20.8</td>\n",
       "      <td>17.6</td>\n",
       "      <td>16.8</td>\n",
       "      <td>16.6</td>\n",
       "      <td>18.1</td>\n",
       "      <td>16.5</td>\n",
       "      <td>14.2</td>\n",
       "      <td>12.5</td>\n",
       "      <td>10.5</td>\n",
       "    </tr>\n",
       "    <tr>\n",
       "      <th>2</th>\n",
       "      <td>National average</td>\n",
       "      <td>500 001 - 700 000</td>\n",
       "      <td>16.1</td>\n",
       "      <td>16.2</td>\n",
       "      <td>18.1</td>\n",
       "      <td>17.0</td>\n",
       "      <td>17.0</td>\n",
       "      <td>18.5</td>\n",
       "      <td>17.7</td>\n",
       "      <td>15.0</td>\n",
       "      <td>13.3</td>\n",
       "      <td>10.4</td>\n",
       "    </tr>\n",
       "    <tr>\n",
       "      <th>3</th>\n",
       "      <td>National average</td>\n",
       "      <td>700 001 - 900 000</td>\n",
       "      <td>9.6</td>\n",
       "      <td>12.2</td>\n",
       "      <td>14.3</td>\n",
       "      <td>14.3</td>\n",
       "      <td>14.0</td>\n",
       "      <td>14.3</td>\n",
       "      <td>14.3</td>\n",
       "      <td>13.7</td>\n",
       "      <td>13.8</td>\n",
       "      <td>11.8</td>\n",
       "    </tr>\n",
       "    <tr>\n",
       "      <th>4</th>\n",
       "      <td>National average</td>\n",
       "      <td>900 001 - 1 100 000</td>\n",
       "      <td>5.8</td>\n",
       "      <td>8.5</td>\n",
       "      <td>10.6</td>\n",
       "      <td>11.0</td>\n",
       "      <td>11.1</td>\n",
       "      <td>10.7</td>\n",
       "      <td>10.4</td>\n",
       "      <td>11.7</td>\n",
       "      <td>11.3</td>\n",
       "      <td>11.3</td>\n",
       "    </tr>\n",
       "  </tbody>\n",
       "</table>\n",
       "</div>"
      ],
      "text/plain": [
       "           Location              Revenue  2011  2012  2013  2014  2015  2016  \\\n",
       "0  National average        under 300 000  34.7  24.8  14.9  11.2  12.4  13.9   \n",
       "1  National average    300 001 - 500 000  24.7  20.8  17.6  16.8  16.6  18.1   \n",
       "2  National average    500 001 - 700 000  16.1  16.2  18.1  17.0  17.0  18.5   \n",
       "3  National average    700 001 - 900 000   9.6  12.2  14.3  14.3  14.0  14.3   \n",
       "4  National average  900 001 - 1 100 000   5.8   8.5  10.6  11.0  11.1  10.7   \n",
       "\n",
       "   2017  2018  2019  2020  \n",
       "0  12.8   8.9   4.7   3.9  \n",
       "1  16.5  14.2  12.5  10.5  \n",
       "2  17.7  15.0  13.3  10.4  \n",
       "3  14.3  13.7  13.8  11.8  \n",
       "4  10.4  11.7  11.3  11.3  "
      ]
     },
     "execution_count": 4,
     "metadata": {},
     "output_type": "execute_result"
    }
   ],
   "source": [
    "income_groups.head()"
   ]
  },
  {
   "cell_type": "code",
   "execution_count": null,
   "metadata": {
    "cell_id": "00005-266751d3-cbba-4cf9-868a-b62982ba97b0",
    "deepnote_cell_type": "code",
    "deepnote_to_be_reexecuted": false,
    "execution_millis": 152,
    "execution_start": 1639648044705,
    "source_hash": "6f9bbf2e",
    "tags": []
   },
   "outputs": [
    {
     "data": {
      "application/vnd.deepnote.dataframe.v3+json": {
       "column_count": 31,
       "columns": [
        {
         "dtype": "object",
         "name": "INDICATOR",
         "stats": {
          "categories": [
           {
            "count": 1,
            "name": "Inflation rate"
           }
          ],
          "nan_count": 0,
          "unique_count": 1
         }
        },
        {
         "dtype": "float64",
         "name": "1991",
         "stats": {
          "histogram": [
           {
            "bin_end": 52.300000000000004,
            "bin_start": 52.2,
            "count": 0
           },
           {
            "bin_end": 52.400000000000006,
            "bin_start": 52.300000000000004,
            "count": 0
           },
           {
            "bin_end": 52.5,
            "bin_start": 52.400000000000006,
            "count": 0
           },
           {
            "bin_end": 52.6,
            "bin_start": 52.5,
            "count": 0
           },
           {
            "bin_end": 52.7,
            "bin_start": 52.6,
            "count": 0
           },
           {
            "bin_end": 52.800000000000004,
            "bin_start": 52.7,
            "count": 1
           },
           {
            "bin_end": 52.900000000000006,
            "bin_start": 52.800000000000004,
            "count": 0
           },
           {
            "bin_end": 53,
            "bin_start": 52.900000000000006,
            "count": 0
           },
           {
            "bin_end": 53.1,
            "bin_start": 53,
            "count": 0
           },
           {
            "bin_end": 53.2,
            "bin_start": 53.1,
            "count": 0
           }
          ],
          "max": "52.7",
          "min": "52.7",
          "nan_count": 0,
          "unique_count": 1
         }
        },
        {
         "dtype": "float64",
         "name": "1992",
         "stats": {
          "histogram": [
           {
            "bin_end": 325.1,
            "bin_start": 325,
            "count": 0
           },
           {
            "bin_end": 325.2,
            "bin_start": 325.1,
            "count": 0
           },
           {
            "bin_end": 325.3,
            "bin_start": 325.2,
            "count": 0
           },
           {
            "bin_end": 325.4,
            "bin_start": 325.3,
            "count": 0
           },
           {
            "bin_end": 325.5,
            "bin_start": 325.4,
            "count": 0
           },
           {
            "bin_end": 325.6,
            "bin_start": 325.5,
            "count": 1
           },
           {
            "bin_end": 325.7,
            "bin_start": 325.6,
            "count": 0
           },
           {
            "bin_end": 325.8,
            "bin_start": 325.7,
            "count": 0
           },
           {
            "bin_end": 325.9,
            "bin_start": 325.8,
            "count": 0
           },
           {
            "bin_end": 326,
            "bin_start": 325.9,
            "count": 0
           }
          ],
          "max": "325.5",
          "min": "325.5",
          "nan_count": 0,
          "unique_count": 1
         }
        },
        {
         "dtype": "int64",
         "name": "1993",
         "stats": {
          "histogram": [
           {
            "bin_end": 182.6,
            "bin_start": 182.5,
            "count": 0
           },
           {
            "bin_end": 182.7,
            "bin_start": 182.6,
            "count": 0
           },
           {
            "bin_end": 182.8,
            "bin_start": 182.7,
            "count": 0
           },
           {
            "bin_end": 182.9,
            "bin_start": 182.8,
            "count": 0
           },
           {
            "bin_end": 183,
            "bin_start": 182.9,
            "count": 0
           },
           {
            "bin_end": 183.1,
            "bin_start": 183,
            "count": 1
           },
           {
            "bin_end": 183.2,
            "bin_start": 183.1,
            "count": 0
           },
           {
            "bin_end": 183.3,
            "bin_start": 183.2,
            "count": 0
           },
           {
            "bin_end": 183.4,
            "bin_start": 183.3,
            "count": 0
           },
           {
            "bin_end": 183.5,
            "bin_start": 183.4,
            "count": 0
           }
          ],
          "max": "183",
          "min": "183",
          "nan_count": 0,
          "unique_count": 1
         }
        },
        {
         "dtype": "float64",
         "name": "1994",
         "stats": {
          "histogram": [
           {
            "bin_end": 65.89999999999999,
            "bin_start": 65.8,
            "count": 0
           },
           {
            "bin_end": 66,
            "bin_start": 65.89999999999999,
            "count": 0
           },
           {
            "bin_end": 66.1,
            "bin_start": 66,
            "count": 0
           },
           {
            "bin_end": 66.2,
            "bin_start": 66.1,
            "count": 0
           },
           {
            "bin_end": 66.3,
            "bin_start": 66.2,
            "count": 0
           },
           {
            "bin_end": 66.39999999999999,
            "bin_start": 66.3,
            "count": 1
           },
           {
            "bin_end": 66.5,
            "bin_start": 66.39999999999999,
            "count": 0
           },
           {
            "bin_end": 66.6,
            "bin_start": 66.5,
            "count": 0
           },
           {
            "bin_end": 66.7,
            "bin_start": 66.6,
            "count": 0
           },
           {
            "bin_end": 66.8,
            "bin_start": 66.7,
            "count": 0
           }
          ],
          "max": "66.3",
          "min": "66.3",
          "nan_count": 0,
          "unique_count": 1
         }
        },
        {
         "dtype": "float64",
         "name": "1995",
         "stats": {
          "histogram": [
           {
            "bin_end": 52.7,
            "bin_start": 52.6,
            "count": 0
           },
           {
            "bin_end": 52.800000000000004,
            "bin_start": 52.7,
            "count": 0
           },
           {
            "bin_end": 52.9,
            "bin_start": 52.800000000000004,
            "count": 0
           },
           {
            "bin_end": 53,
            "bin_start": 52.9,
            "count": 0
           },
           {
            "bin_end": 53.1,
            "bin_start": 53,
            "count": 0
           },
           {
            "bin_end": 53.2,
            "bin_start": 53.1,
            "count": 1
           },
           {
            "bin_end": 53.300000000000004,
            "bin_start": 53.2,
            "count": 0
           },
           {
            "bin_end": 53.4,
            "bin_start": 53.300000000000004,
            "count": 0
           },
           {
            "bin_end": 53.5,
            "bin_start": 53.4,
            "count": 0
           },
           {
            "bin_end": 53.6,
            "bin_start": 53.5,
            "count": 0
           }
          ],
          "max": "53.1",
          "min": "53.1",
          "nan_count": 0,
          "unique_count": 1
         }
        },
        {
         "dtype": "float64",
         "name": "1996",
         "stats": {
          "histogram": [
           {
            "bin_end": 44.2,
            "bin_start": 44.1,
            "count": 0
           },
           {
            "bin_end": 44.300000000000004,
            "bin_start": 44.2,
            "count": 0
           },
           {
            "bin_end": 44.4,
            "bin_start": 44.300000000000004,
            "count": 0
           },
           {
            "bin_end": 44.5,
            "bin_start": 44.4,
            "count": 0
           },
           {
            "bin_end": 44.6,
            "bin_start": 44.5,
            "count": 0
           },
           {
            "bin_end": 44.7,
            "bin_start": 44.6,
            "count": 1
           },
           {
            "bin_end": 44.800000000000004,
            "bin_start": 44.7,
            "count": 0
           },
           {
            "bin_end": 44.9,
            "bin_start": 44.800000000000004,
            "count": 0
           },
           {
            "bin_end": 45,
            "bin_start": 44.9,
            "count": 0
           },
           {
            "bin_end": 45.1,
            "bin_start": 45,
            "count": 0
           }
          ],
          "max": "44.6",
          "min": "44.6",
          "nan_count": 0,
          "unique_count": 1
         }
        },
        {
         "dtype": "float64",
         "name": "1997",
         "stats": {
          "histogram": [
           {
            "bin_end": 20.1,
            "bin_start": 20,
            "count": 0
           },
           {
            "bin_end": 20.2,
            "bin_start": 20.1,
            "count": 0
           },
           {
            "bin_end": 20.3,
            "bin_start": 20.2,
            "count": 0
           },
           {
            "bin_end": 20.4,
            "bin_start": 20.3,
            "count": 0
           },
           {
            "bin_end": 20.5,
            "bin_start": 20.4,
            "count": 0
           },
           {
            "bin_end": 20.6,
            "bin_start": 20.5,
            "count": 1
           },
           {
            "bin_end": 20.7,
            "bin_start": 20.6,
            "count": 0
           },
           {
            "bin_end": 20.8,
            "bin_start": 20.7,
            "count": 0
           },
           {
            "bin_end": 20.9,
            "bin_start": 20.8,
            "count": 0
           },
           {
            "bin_end": 21,
            "bin_start": 20.9,
            "count": 0
           }
          ],
          "max": "20.5",
          "min": "20.5",
          "nan_count": 0,
          "unique_count": 1
         }
        },
        {
         "dtype": "int64",
         "name": "1998",
         "stats": {
          "histogram": [
           {
            "bin_end": 5.6,
            "bin_start": 5.5,
            "count": 0
           },
           {
            "bin_end": 5.7,
            "bin_start": 5.6,
            "count": 0
           },
           {
            "bin_end": 5.8,
            "bin_start": 5.7,
            "count": 0
           },
           {
            "bin_end": 5.9,
            "bin_start": 5.8,
            "count": 0
           },
           {
            "bin_end": 6,
            "bin_start": 5.9,
            "count": 0
           },
           {
            "bin_end": 6.1,
            "bin_start": 6,
            "count": 1
           },
           {
            "bin_end": 6.2,
            "bin_start": 6.1,
            "count": 0
           },
           {
            "bin_end": 6.3,
            "bin_start": 6.2,
            "count": 0
           },
           {
            "bin_end": 6.4,
            "bin_start": 6.3,
            "count": 0
           },
           {
            "bin_end": 6.5,
            "bin_start": 6.4,
            "count": 0
           }
          ],
          "max": "6",
          "min": "6",
          "nan_count": 0,
          "unique_count": 1
         }
        },
        {
         "dtype": "int64",
         "name": "1999",
         "stats": {
          "histogram": [
           {
            "bin_end": 9.6,
            "bin_start": 9.5,
            "count": 0
           },
           {
            "bin_end": 9.7,
            "bin_start": 9.6,
            "count": 0
           },
           {
            "bin_end": 9.8,
            "bin_start": 9.7,
            "count": 0
           },
           {
            "bin_end": 9.9,
            "bin_start": 9.8,
            "count": 0
           },
           {
            "bin_end": 10,
            "bin_start": 9.9,
            "count": 0
           },
           {
            "bin_end": 10.1,
            "bin_start": 10,
            "count": 1
           },
           {
            "bin_end": 10.2,
            "bin_start": 10.1,
            "count": 0
           },
           {
            "bin_end": 10.3,
            "bin_start": 10.2,
            "count": 0
           },
           {
            "bin_end": 10.4,
            "bin_start": 10.3,
            "count": 0
           },
           {
            "bin_end": 10.5,
            "bin_start": 10.4,
            "count": 0
           }
          ],
          "max": "10",
          "min": "10",
          "nan_count": 0,
          "unique_count": 1
         }
        },
        {
         "dtype": "float64",
         "name": "2000",
         "stats": {
          "histogram": [
           {
            "bin_end": 7.699999999999999,
            "bin_start": 7.6,
            "count": 0
           },
           {
            "bin_end": 7.8,
            "bin_start": 7.699999999999999,
            "count": 0
           },
           {
            "bin_end": 7.8999999999999995,
            "bin_start": 7.8,
            "count": 0
           },
           {
            "bin_end": 8,
            "bin_start": 7.8999999999999995,
            "count": 0
           },
           {
            "bin_end": 8.1,
            "bin_start": 8,
            "count": 0
           },
           {
            "bin_end": 8.2,
            "bin_start": 8.1,
            "count": 1
           },
           {
            "bin_end": 8.299999999999999,
            "bin_start": 8.2,
            "count": 0
           },
           {
            "bin_end": 8.4,
            "bin_start": 8.299999999999999,
            "count": 0
           },
           {
            "bin_end": 8.5,
            "bin_start": 8.4,
            "count": 0
           },
           {
            "bin_end": 8.6,
            "bin_start": 8.5,
            "count": 0
           }
          ],
          "max": "8.1",
          "min": "8.1",
          "nan_count": 0,
          "unique_count": 1
         }
        },
        {
         "dtype": "int64",
         "name": "2001",
         "stats": {
          "histogram": [
           {
            "bin_end": 7.6,
            "bin_start": 7.5,
            "count": 0
           },
           {
            "bin_end": 7.7,
            "bin_start": 7.6,
            "count": 0
           },
           {
            "bin_end": 7.8,
            "bin_start": 7.7,
            "count": 0
           },
           {
            "bin_end": 7.9,
            "bin_start": 7.8,
            "count": 0
           },
           {
            "bin_end": 8,
            "bin_start": 7.9,
            "count": 0
           },
           {
            "bin_end": 8.1,
            "bin_start": 8,
            "count": 1
           },
           {
            "bin_end": 8.2,
            "bin_start": 8.1,
            "count": 0
           },
           {
            "bin_end": 8.3,
            "bin_start": 8.2,
            "count": 0
           },
           {
            "bin_end": 8.4,
            "bin_start": 8.3,
            "count": 0
           },
           {
            "bin_end": 8.5,
            "bin_start": 8.4,
            "count": 0
           }
          ],
          "max": "8",
          "min": "8",
          "nan_count": 0,
          "unique_count": 1
         }
        },
        {
         "dtype": "float64",
         "name": "2002",
         "stats": {
          "histogram": [
           {
            "bin_end": 1.2000000000000002,
            "bin_start": 1.1,
            "count": 0
           },
           {
            "bin_end": 1.3,
            "bin_start": 1.2000000000000002,
            "count": 0
           },
           {
            "bin_end": 1.4000000000000001,
            "bin_start": 1.3,
            "count": 0
           },
           {
            "bin_end": 1.5,
            "bin_start": 1.4000000000000001,
            "count": 0
           },
           {
            "bin_end": 1.6,
            "bin_start": 1.5,
            "count": 0
           },
           {
            "bin_end": 1.7000000000000002,
            "bin_start": 1.6,
            "count": 1
           },
           {
            "bin_end": 1.8000000000000003,
            "bin_start": 1.7000000000000002,
            "count": 0
           },
           {
            "bin_end": 1.9000000000000001,
            "bin_start": 1.8000000000000003,
            "count": 0
           },
           {
            "bin_end": 2,
            "bin_start": 1.9000000000000001,
            "count": 0
           },
           {
            "bin_end": 2.1,
            "bin_start": 2,
            "count": 0
           }
          ],
          "max": "1.6",
          "min": "1.6",
          "nan_count": 0,
          "unique_count": 1
         }
        },
        {
         "dtype": "float64",
         "name": "2003",
         "stats": {
          "histogram": [
           {
            "bin_end": 4.3,
            "bin_start": 4.2,
            "count": 0
           },
           {
            "bin_end": 4.4,
            "bin_start": 4.3,
            "count": 0
           },
           {
            "bin_end": 4.5,
            "bin_start": 4.4,
            "count": 0
           },
           {
            "bin_end": 4.6000000000000005,
            "bin_start": 4.5,
            "count": 0
           },
           {
            "bin_end": 4.7,
            "bin_start": 4.6000000000000005,
            "count": 0
           },
           {
            "bin_end": 4.800000000000001,
            "bin_start": 4.7,
            "count": 1
           },
           {
            "bin_end": 4.9,
            "bin_start": 4.800000000000001,
            "count": 0
           },
           {
            "bin_end": 5,
            "bin_start": 4.9,
            "count": 0
           },
           {
            "bin_end": 5.1000000000000005,
            "bin_start": 5,
            "count": 0
           },
           {
            "bin_end": 5.2,
            "bin_start": 5.1000000000000005,
            "count": 0
           }
          ],
          "max": "4.7",
          "min": "4.7",
          "nan_count": 0,
          "unique_count": 1
         }
        },
        {
         "dtype": "int64",
         "name": "2004",
         "stats": {
          "histogram": [
           {
            "bin_end": 10.6,
            "bin_start": 10.5,
            "count": 0
           },
           {
            "bin_end": 10.7,
            "bin_start": 10.6,
            "count": 0
           },
           {
            "bin_end": 10.8,
            "bin_start": 10.7,
            "count": 0
           },
           {
            "bin_end": 10.9,
            "bin_start": 10.8,
            "count": 0
           },
           {
            "bin_end": 11,
            "bin_start": 10.9,
            "count": 0
           },
           {
            "bin_end": 11.1,
            "bin_start": 11,
            "count": 1
           },
           {
            "bin_end": 11.2,
            "bin_start": 11.1,
            "count": 0
           },
           {
            "bin_end": 11.3,
            "bin_start": 11.2,
            "count": 0
           },
           {
            "bin_end": 11.4,
            "bin_start": 11.3,
            "count": 0
           },
           {
            "bin_end": 11.5,
            "bin_start": 11.4,
            "count": 0
           }
          ],
          "max": "11",
          "min": "11",
          "nan_count": 0,
          "unique_count": 1
         }
        },
        {
         "dtype": "float64",
         "name": "2005",
         "stats": {
          "histogram": [
           {
            "bin_end": 9.1,
            "bin_start": 9,
            "count": 0
           },
           {
            "bin_end": 9.2,
            "bin_start": 9.1,
            "count": 0
           },
           {
            "bin_end": 9.3,
            "bin_start": 9.2,
            "count": 0
           },
           {
            "bin_end": 9.4,
            "bin_start": 9.3,
            "count": 0
           },
           {
            "bin_end": 9.5,
            "bin_start": 9.4,
            "count": 0
           },
           {
            "bin_end": 9.6,
            "bin_start": 9.5,
            "count": 1
           },
           {
            "bin_end": 9.7,
            "bin_start": 9.6,
            "count": 0
           },
           {
            "bin_end": 9.8,
            "bin_start": 9.7,
            "count": 0
           },
           {
            "bin_end": 9.9,
            "bin_start": 9.8,
            "count": 0
           },
           {
            "bin_end": 10,
            "bin_start": 9.9,
            "count": 0
           }
          ],
          "max": "9.5",
          "min": "9.5",
          "nan_count": 0,
          "unique_count": 1
         }
        },
        {
         "dtype": "float64",
         "name": "2006",
         "stats": {
          "histogram": [
           {
            "bin_end": 5.8,
            "bin_start": 5.7,
            "count": 0
           },
           {
            "bin_end": 5.9,
            "bin_start": 5.8,
            "count": 0
           },
           {
            "bin_end": 6,
            "bin_start": 5.9,
            "count": 0
           },
           {
            "bin_end": 6.1000000000000005,
            "bin_start": 6,
            "count": 0
           },
           {
            "bin_end": 6.2,
            "bin_start": 6.1000000000000005,
            "count": 0
           },
           {
            "bin_end": 6.300000000000001,
            "bin_start": 6.2,
            "count": 1
           },
           {
            "bin_end": 6.4,
            "bin_start": 6.300000000000001,
            "count": 0
           },
           {
            "bin_end": 6.5,
            "bin_start": 6.4,
            "count": 0
           },
           {
            "bin_end": 6.6000000000000005,
            "bin_start": 6.5,
            "count": 0
           },
           {
            "bin_end": 6.7,
            "bin_start": 6.6000000000000005,
            "count": 0
           }
          ],
          "max": "6.2",
          "min": "6.2",
          "nan_count": 0,
          "unique_count": 1
         }
        },
        {
         "dtype": "float64",
         "name": "2007",
         "stats": {
          "histogram": [
           {
            "bin_end": 17.400000000000002,
            "bin_start": 17.3,
            "count": 0
           },
           {
            "bin_end": 17.5,
            "bin_start": 17.400000000000002,
            "count": 0
           },
           {
            "bin_end": 17.6,
            "bin_start": 17.5,
            "count": 0
           },
           {
            "bin_end": 17.7,
            "bin_start": 17.6,
            "count": 0
           },
           {
            "bin_end": 17.8,
            "bin_start": 17.7,
            "count": 0
           },
           {
            "bin_end": 17.900000000000002,
            "bin_start": 17.8,
            "count": 1
           },
           {
            "bin_end": 18,
            "bin_start": 17.900000000000002,
            "count": 0
           },
           {
            "bin_end": 18.1,
            "bin_start": 18,
            "count": 0
           },
           {
            "bin_end": 18.2,
            "bin_start": 18.1,
            "count": 0
           },
           {
            "bin_end": 18.3,
            "bin_start": 18.2,
            "count": 0
           }
          ],
          "max": "17.8",
          "min": "17.8",
          "nan_count": 0,
          "unique_count": 1
         }
        },
        {
         "dtype": "float64",
         "name": "2008",
         "stats": {
          "histogram": [
           {
            "bin_end": 21.700000000000003,
            "bin_start": 21.6,
            "count": 0
           },
           {
            "bin_end": 21.8,
            "bin_start": 21.700000000000003,
            "count": 0
           },
           {
            "bin_end": 21.900000000000002,
            "bin_start": 21.8,
            "count": 0
           },
           {
            "bin_end": 22,
            "bin_start": 21.900000000000002,
            "count": 0
           },
           {
            "bin_end": 22.1,
            "bin_start": 22,
            "count": 0
           },
           {
            "bin_end": 22.200000000000003,
            "bin_start": 22.1,
            "count": 1
           },
           {
            "bin_end": 22.3,
            "bin_start": 22.200000000000003,
            "count": 0
           },
           {
            "bin_end": 22.400000000000002,
            "bin_start": 22.3,
            "count": 0
           },
           {
            "bin_end": 22.5,
            "bin_start": 22.400000000000002,
            "count": 0
           },
           {
            "bin_end": 22.6,
            "bin_start": 22.5,
            "count": 0
           }
          ],
          "max": "22.1",
          "min": "22.1",
          "nan_count": 0,
          "unique_count": 1
         }
        },
        {
         "dtype": "float64",
         "name": "2009",
         "stats": {
          "histogram": [
           {
            "bin_end": 3.8000000000000003,
            "bin_start": 3.7,
            "count": 0
           },
           {
            "bin_end": 3.9000000000000004,
            "bin_start": 3.8000000000000003,
            "count": 0
           },
           {
            "bin_end": 4,
            "bin_start": 3.9000000000000004,
            "count": 0
           },
           {
            "bin_end": 4.1000000000000005,
            "bin_start": 4,
            "count": 0
           },
           {
            "bin_end": 4.2,
            "bin_start": 4.1000000000000005,
            "count": 0
           },
           {
            "bin_end": 4.300000000000001,
            "bin_start": 4.2,
            "count": 1
           },
           {
            "bin_end": 4.4,
            "bin_start": 4.300000000000001,
            "count": 0
           },
           {
            "bin_end": 4.5,
            "bin_start": 4.4,
            "count": 0
           },
           {
            "bin_end": 4.6000000000000005,
            "bin_start": 4.5,
            "count": 0
           },
           {
            "bin_end": 4.7,
            "bin_start": 4.6000000000000005,
            "count": 0
           }
          ],
          "max": "4.2",
          "min": "4.2",
          "nan_count": 0,
          "unique_count": 1
         }
        },
        {
         "dtype": "int64",
         "name": "2010",
         "stats": {
          "histogram": [
           {
            "bin_end": 12.6,
            "bin_start": 12.5,
            "count": 0
           },
           {
            "bin_end": 12.7,
            "bin_start": 12.6,
            "count": 0
           },
           {
            "bin_end": 12.8,
            "bin_start": 12.7,
            "count": 0
           },
           {
            "bin_end": 12.9,
            "bin_start": 12.8,
            "count": 0
           },
           {
            "bin_end": 13,
            "bin_start": 12.9,
            "count": 0
           },
           {
            "bin_end": 13.1,
            "bin_start": 13,
            "count": 1
           },
           {
            "bin_end": 13.2,
            "bin_start": 13.1,
            "count": 0
           },
           {
            "bin_end": 13.3,
            "bin_start": 13.2,
            "count": 0
           },
           {
            "bin_end": 13.4,
            "bin_start": 13.3,
            "count": 0
           },
           {
            "bin_end": 13.5,
            "bin_start": 13.4,
            "count": 0
           }
          ],
          "max": "13",
          "min": "13",
          "nan_count": 0,
          "unique_count": 1
         }
        },
        {
         "dtype": "float64",
         "name": "2011",
         "stats": {
          "histogram": [
           {
            "bin_end": 8.5,
            "bin_start": 8.4,
            "count": 0
           },
           {
            "bin_end": 8.6,
            "bin_start": 8.5,
            "count": 0
           },
           {
            "bin_end": 8.700000000000001,
            "bin_start": 8.6,
            "count": 0
           },
           {
            "bin_end": 8.8,
            "bin_start": 8.700000000000001,
            "count": 0
           },
           {
            "bin_end": 8.9,
            "bin_start": 8.8,
            "count": 0
           },
           {
            "bin_end": 9,
            "bin_start": 8.9,
            "count": 1
           },
           {
            "bin_end": 9.1,
            "bin_start": 9,
            "count": 0
           },
           {
            "bin_end": 9.200000000000001,
            "bin_start": 9.1,
            "count": 0
           },
           {
            "bin_end": 9.3,
            "bin_start": 9.200000000000001,
            "count": 0
           },
           {
            "bin_end": 9.4,
            "bin_start": 9.3,
            "count": 0
           }
          ],
          "max": "8.9",
          "min": "8.9",
          "nan_count": 0,
          "unique_count": 1
         }
        },
        {
         "dtype": "int64",
         "name": "2012",
         "stats": {
          "histogram": [
           {
            "bin_end": 13.6,
            "bin_start": 13.5,
            "count": 0
           },
           {
            "bin_end": 13.7,
            "bin_start": 13.6,
            "count": 0
           },
           {
            "bin_end": 13.8,
            "bin_start": 13.7,
            "count": 0
           },
           {
            "bin_end": 13.9,
            "bin_start": 13.8,
            "count": 0
           },
           {
            "bin_end": 14,
            "bin_start": 13.9,
            "count": 0
           },
           {
            "bin_end": 14.1,
            "bin_start": 14,
            "count": 1
           },
           {
            "bin_end": 14.2,
            "bin_start": 14.1,
            "count": 0
           },
           {
            "bin_end": 14.3,
            "bin_start": 14.2,
            "count": 0
           },
           {
            "bin_end": 14.4,
            "bin_start": 14.3,
            "count": 0
           },
           {
            "bin_end": 14.5,
            "bin_start": 14.4,
            "count": 0
           }
          ],
          "max": "14",
          "min": "14",
          "nan_count": 0,
          "unique_count": 1
         }
        },
        {
         "dtype": "float64",
         "name": "2013",
         "stats": {
          "histogram": [
           {
            "bin_end": 12.1,
            "bin_start": 12,
            "count": 0
           },
           {
            "bin_end": 12.2,
            "bin_start": 12.1,
            "count": 0
           },
           {
            "bin_end": 12.3,
            "bin_start": 12.2,
            "count": 0
           },
           {
            "bin_end": 12.4,
            "bin_start": 12.3,
            "count": 0
           },
           {
            "bin_end": 12.5,
            "bin_start": 12.4,
            "count": 0
           },
           {
            "bin_end": 12.6,
            "bin_start": 12.5,
            "count": 1
           },
           {
            "bin_end": 12.7,
            "bin_start": 12.6,
            "count": 0
           },
           {
            "bin_end": 12.8,
            "bin_start": 12.7,
            "count": 0
           },
           {
            "bin_end": 12.9,
            "bin_start": 12.8,
            "count": 0
           },
           {
            "bin_end": 13,
            "bin_start": 12.9,
            "count": 0
           }
          ],
          "max": "12.5",
          "min": "12.5",
          "nan_count": 0,
          "unique_count": 1
         }
        },
        {
         "dtype": "float64",
         "name": "2014",
         "stats": {
          "histogram": [
           {
            "bin_end": 10,
            "bin_start": 9.9,
            "count": 0
           },
           {
            "bin_end": 10.1,
            "bin_start": 10,
            "count": 0
           },
           {
            "bin_end": 10.200000000000001,
            "bin_start": 10.1,
            "count": 0
           },
           {
            "bin_end": 10.3,
            "bin_start": 10.200000000000001,
            "count": 0
           },
           {
            "bin_end": 10.4,
            "bin_start": 10.3,
            "count": 0
           },
           {
            "bin_end": 10.5,
            "bin_start": 10.4,
            "count": 1
           },
           {
            "bin_end": 10.6,
            "bin_start": 10.5,
            "count": 0
           },
           {
            "bin_end": 10.700000000000001,
            "bin_start": 10.6,
            "count": 0
           },
           {
            "bin_end": 10.8,
            "bin_start": 10.700000000000001,
            "count": 0
           },
           {
            "bin_end": 10.9,
            "bin_start": 10.8,
            "count": 0
           }
          ],
          "max": "10.4",
          "min": "10.4",
          "nan_count": 0,
          "unique_count": 1
         }
        },
        {
         "dtype": "float64",
         "name": "2015",
         "stats": {
          "histogram": [
           {
            "bin_end": 1.5,
            "bin_start": 1.4,
            "count": 0
           },
           {
            "bin_end": 1.5999999999999999,
            "bin_start": 1.5,
            "count": 0
           },
           {
            "bin_end": 1.7,
            "bin_start": 1.5999999999999999,
            "count": 0
           },
           {
            "bin_end": 1.7999999999999998,
            "bin_start": 1.7,
            "count": 0
           },
           {
            "bin_end": 1.9,
            "bin_start": 1.7999999999999998,
            "count": 0
           },
           {
            "bin_end": 2,
            "bin_start": 1.9,
            "count": 1
           },
           {
            "bin_end": 2.1,
            "bin_start": 2,
            "count": 0
           },
           {
            "bin_end": 2.2,
            "bin_start": 2.1,
            "count": 0
           },
           {
            "bin_end": 2.3,
            "bin_start": 2.2,
            "count": 0
           },
           {
            "bin_end": 2.4,
            "bin_start": 2.3,
            "count": 0
           }
          ],
          "max": "1.9",
          "min": "1.9",
          "nan_count": 0,
          "unique_count": 1
         }
        },
        {
         "dtype": "float64",
         "name": "2016",
         "stats": {
          "histogram": [
           {
            "bin_end": 0.9,
            "bin_start": 0.8,
            "count": 0
           },
           {
            "bin_end": 1,
            "bin_start": 0.9,
            "count": 0
           },
           {
            "bin_end": 1.1,
            "bin_start": 1,
            "count": 0
           },
           {
            "bin_end": 1.2000000000000002,
            "bin_start": 1.1,
            "count": 0
           },
           {
            "bin_end": 1.3,
            "bin_start": 1.2000000000000002,
            "count": 0
           },
           {
            "bin_end": 1.4000000000000001,
            "bin_start": 1.3,
            "count": 1
           },
           {
            "bin_end": 1.5,
            "bin_start": 1.4000000000000001,
            "count": 0
           },
           {
            "bin_end": 1.6,
            "bin_start": 1.5,
            "count": 0
           },
           {
            "bin_end": 1.7000000000000002,
            "bin_start": 1.6,
            "count": 0
           },
           {
            "bin_end": 1.8,
            "bin_start": 1.7000000000000002,
            "count": 0
           }
          ],
          "max": "1.3",
          "min": "1.3",
          "nan_count": 0,
          "unique_count": 1
         }
        },
        {
         "dtype": "float64",
         "name": "2017",
         "stats": {
          "histogram": [
           {
            "bin_end": 6,
            "bin_start": 5.9,
            "count": 0
           },
           {
            "bin_end": 6.1000000000000005,
            "bin_start": 6,
            "count": 0
           },
           {
            "bin_end": 6.2,
            "bin_start": 6.1000000000000005,
            "count": 0
           },
           {
            "bin_end": 6.300000000000001,
            "bin_start": 6.2,
            "count": 0
           },
           {
            "bin_end": 6.4,
            "bin_start": 6.300000000000001,
            "count": 0
           },
           {
            "bin_end": 6.5,
            "bin_start": 6.4,
            "count": 1
           },
           {
            "bin_end": 6.6000000000000005,
            "bin_start": 6.5,
            "count": 0
           },
           {
            "bin_end": 6.7,
            "bin_start": 6.6000000000000005,
            "count": 0
           },
           {
            "bin_end": 6.800000000000001,
            "bin_start": 6.7,
            "count": 0
           },
           {
            "bin_end": 6.9,
            "bin_start": 6.800000000000001,
            "count": 0
           }
          ],
          "max": "6.4",
          "min": "6.4",
          "nan_count": 0,
          "unique_count": 1
         }
        },
        {
         "dtype": "float64",
         "name": "2018",
         "stats": {
          "histogram": [
           {
            "bin_end": 7.699999999999999,
            "bin_start": 7.6,
            "count": 0
           },
           {
            "bin_end": 7.8,
            "bin_start": 7.699999999999999,
            "count": 0
           },
           {
            "bin_end": 7.8999999999999995,
            "bin_start": 7.8,
            "count": 0
           },
           {
            "bin_end": 8,
            "bin_start": 7.8999999999999995,
            "count": 0
           },
           {
            "bin_end": 8.1,
            "bin_start": 8,
            "count": 0
           },
           {
            "bin_end": 8.2,
            "bin_start": 8.1,
            "count": 1
           },
           {
            "bin_end": 8.299999999999999,
            "bin_start": 8.2,
            "count": 0
           },
           {
            "bin_end": 8.4,
            "bin_start": 8.299999999999999,
            "count": 0
           },
           {
            "bin_end": 8.5,
            "bin_start": 8.4,
            "count": 0
           },
           {
            "bin_end": 8.6,
            "bin_start": 8.5,
            "count": 0
           }
          ],
          "max": "8.1",
          "min": "8.1",
          "nan_count": 0,
          "unique_count": 1
         }
        },
        {
         "dtype": "float64",
         "name": "2019",
         "stats": {
          "histogram": [
           {
            "bin_end": 4.8,
            "bin_start": 4.7,
            "count": 0
           },
           {
            "bin_end": 4.9,
            "bin_start": 4.8,
            "count": 0
           },
           {
            "bin_end": 5,
            "bin_start": 4.9,
            "count": 0
           },
           {
            "bin_end": 5.1000000000000005,
            "bin_start": 5,
            "count": 0
           },
           {
            "bin_end": 5.2,
            "bin_start": 5.1000000000000005,
            "count": 0
           },
           {
            "bin_end": 5.300000000000001,
            "bin_start": 5.2,
            "count": 1
           },
           {
            "bin_end": 5.4,
            "bin_start": 5.300000000000001,
            "count": 0
           },
           {
            "bin_end": 5.5,
            "bin_start": 5.4,
            "count": 0
           },
           {
            "bin_end": 5.6000000000000005,
            "bin_start": 5.5,
            "count": 0
           },
           {
            "bin_end": 5.7,
            "bin_start": 5.6000000000000005,
            "count": 0
           }
          ],
          "max": "5.2",
          "min": "5.2",
          "nan_count": 0,
          "unique_count": 1
         }
        },
        {
         "dtype": "float64",
         "name": "2020",
         "stats": {
          "histogram": [
           {
            "bin_end": 1.9,
            "bin_start": 1.7999999999999998,
            "count": 0
           },
           {
            "bin_end": 1.9999999999999998,
            "bin_start": 1.9,
            "count": 0
           },
           {
            "bin_end": 2.0999999999999996,
            "bin_start": 1.9999999999999998,
            "count": 0
           },
           {
            "bin_end": 2.1999999999999997,
            "bin_start": 2.0999999999999996,
            "count": 0
           },
           {
            "bin_end": 2.3,
            "bin_start": 2.1999999999999997,
            "count": 0
           },
           {
            "bin_end": 2.4,
            "bin_start": 2.3,
            "count": 1
           },
           {
            "bin_end": 2.5,
            "bin_start": 2.4,
            "count": 0
           },
           {
            "bin_end": 2.5999999999999996,
            "bin_start": 2.5,
            "count": 0
           },
           {
            "bin_end": 2.6999999999999997,
            "bin_start": 2.5999999999999996,
            "count": 0
           },
           {
            "bin_end": 2.8,
            "bin_start": 2.6999999999999997,
            "count": 0
           }
          ],
          "max": "2.3",
          "min": "2.3",
          "nan_count": 0,
          "unique_count": 1
         }
        },
        {
         "dtype": "int64",
         "name": "_deepnote_index_column"
        }
       ],
       "row_count": 1,
       "rows": [
        {
         "1991": 52.7,
         "1992": 325.5,
         "1993": 183,
         "1994": 66.3,
         "1995": 53.1,
         "1996": 44.6,
         "1997": 20.5,
         "1998": 6,
         "1999": 10,
         "2000": 8.1,
         "2001": 8,
         "2002": 1.6,
         "2003": 4.7,
         "2004": 11,
         "2005": 9.5,
         "2006": 6.2,
         "2007": 17.8,
         "2008": 22.1,
         "2009": 4.2,
         "2010": 13,
         "2011": 8.9,
         "2012": 14,
         "2013": 12.5,
         "2014": 10.4,
         "2015": 1.9,
         "2016": 1.3,
         "2017": 6.4,
         "2018": 8.1,
         "2019": 5.2,
         "2020": 2.3,
         "INDICATOR": "Inflation rate",
         "_deepnote_index_column": 0
        }
       ]
      },
      "text/html": [
       "<div>\n",
       "<style scoped>\n",
       "    .dataframe tbody tr th:only-of-type {\n",
       "        vertical-align: middle;\n",
       "    }\n",
       "\n",
       "    .dataframe tbody tr th {\n",
       "        vertical-align: top;\n",
       "    }\n",
       "\n",
       "    .dataframe thead th {\n",
       "        text-align: right;\n",
       "    }\n",
       "</style>\n",
       "<table border=\"1\" class=\"dataframe\">\n",
       "  <thead>\n",
       "    <tr style=\"text-align: right;\">\n",
       "      <th></th>\n",
       "      <th>INDICATOR</th>\n",
       "      <th>1991</th>\n",
       "      <th>1992</th>\n",
       "      <th>1993</th>\n",
       "      <th>1994</th>\n",
       "      <th>1995</th>\n",
       "      <th>1996</th>\n",
       "      <th>1997</th>\n",
       "      <th>1998</th>\n",
       "      <th>1999</th>\n",
       "      <th>...</th>\n",
       "      <th>2011</th>\n",
       "      <th>2012</th>\n",
       "      <th>2013</th>\n",
       "      <th>2014</th>\n",
       "      <th>2015</th>\n",
       "      <th>2016</th>\n",
       "      <th>2017</th>\n",
       "      <th>2018</th>\n",
       "      <th>2019</th>\n",
       "      <th>2020</th>\n",
       "    </tr>\n",
       "  </thead>\n",
       "  <tbody>\n",
       "    <tr>\n",
       "      <th>0</th>\n",
       "      <td>Inflation rate</td>\n",
       "      <td>52.7</td>\n",
       "      <td>325.5</td>\n",
       "      <td>183</td>\n",
       "      <td>66.3</td>\n",
       "      <td>53.1</td>\n",
       "      <td>44.6</td>\n",
       "      <td>20.5</td>\n",
       "      <td>6</td>\n",
       "      <td>10</td>\n",
       "      <td>...</td>\n",
       "      <td>8.9</td>\n",
       "      <td>14</td>\n",
       "      <td>12.5</td>\n",
       "      <td>10.4</td>\n",
       "      <td>1.9</td>\n",
       "      <td>1.3</td>\n",
       "      <td>6.4</td>\n",
       "      <td>8.1</td>\n",
       "      <td>5.2</td>\n",
       "      <td>2.3</td>\n",
       "    </tr>\n",
       "  </tbody>\n",
       "</table>\n",
       "<p>1 rows × 31 columns</p>\n",
       "</div>"
      ],
      "text/plain": [
       "        INDICATOR  1991   1992  1993  1994  1995  1996  1997  1998  1999  ...  \\\n",
       "0  Inflation rate  52.7  325.5   183  66.3  53.1  44.6  20.5     6    10  ...   \n",
       "\n",
       "   2011  2012  2013  2014  2015  2016  2017  2018  2019  2020  \n",
       "0   8.9    14  12.5  10.4   1.9   1.3   6.4   8.1   5.2   2.3  \n",
       "\n",
       "[1 rows x 31 columns]"
      ]
     },
     "execution_count": 5,
     "metadata": {},
     "output_type": "execute_result"
    }
   ],
   "source": [
    "inflation.head()"
   ]
  },
  {
   "cell_type": "code",
   "execution_count": null,
   "metadata": {
    "cell_id": "00007-8a46f39f-a42c-4439-b8b6-24a5e855edd8",
    "deepnote_cell_type": "code",
    "deepnote_to_be_reexecuted": false,
    "execution_millis": 140,
    "execution_start": 1639648044996,
    "source_hash": "56ebe6e2",
    "tags": []
   },
   "outputs": [
    {
     "data": {
      "application/vnd.deepnote.dataframe.v3+json": {
       "column_count": 27,
       "columns": [
        {
         "dtype": "object",
         "name": "Aimag",
         "stats": {
          "categories": [
           {
            "count": 1,
            "name": "Total"
           }
          ],
          "nan_count": 0,
          "unique_count": 1
         }
        },
        {
         "dtype": "object",
         "name": "Sex",
         "stats": {
          "categories": [
           {
            "count": 1,
            "name": "Total"
           }
          ],
          "nan_count": 0,
          "unique_count": 1
         }
        },
        {
         "dtype": "float64",
         "name": "1995",
         "stats": {
          "histogram": [
           {
            "bin_end": 24,
            "bin_start": 23.9,
            "count": 0
           },
           {
            "bin_end": 24.099999999999998,
            "bin_start": 24,
            "count": 0
           },
           {
            "bin_end": 24.2,
            "bin_start": 24.099999999999998,
            "count": 0
           },
           {
            "bin_end": 24.299999999999997,
            "bin_start": 24.2,
            "count": 0
           },
           {
            "bin_end": 24.4,
            "bin_start": 24.299999999999997,
            "count": 0
           },
           {
            "bin_end": 24.5,
            "bin_start": 24.4,
            "count": 1
           },
           {
            "bin_end": 24.599999999999998,
            "bin_start": 24.5,
            "count": 0
           },
           {
            "bin_end": 24.7,
            "bin_start": 24.599999999999998,
            "count": 0
           },
           {
            "bin_end": 24.799999999999997,
            "bin_start": 24.7,
            "count": 0
           },
           {
            "bin_end": 24.9,
            "bin_start": 24.799999999999997,
            "count": 0
           }
          ],
          "max": "24.4",
          "min": "24.4",
          "nan_count": 0,
          "unique_count": 1
         }
        },
        {
         "dtype": "float64",
         "name": "1996",
         "stats": {
          "histogram": [
           {
            "bin_end": 31.5,
            "bin_start": 31.4,
            "count": 0
           },
           {
            "bin_end": 31.599999999999998,
            "bin_start": 31.5,
            "count": 0
           },
           {
            "bin_end": 31.7,
            "bin_start": 31.599999999999998,
            "count": 0
           },
           {
            "bin_end": 31.799999999999997,
            "bin_start": 31.7,
            "count": 0
           },
           {
            "bin_end": 31.9,
            "bin_start": 31.799999999999997,
            "count": 0
           },
           {
            "bin_end": 32,
            "bin_start": 31.9,
            "count": 1
           },
           {
            "bin_end": 32.1,
            "bin_start": 32,
            "count": 0
           },
           {
            "bin_end": 32.199999999999996,
            "bin_start": 32.1,
            "count": 0
           },
           {
            "bin_end": 32.3,
            "bin_start": 32.199999999999996,
            "count": 0
           },
           {
            "bin_end": 32.4,
            "bin_start": 32.3,
            "count": 0
           }
          ],
          "max": "31.9",
          "min": "31.9",
          "nan_count": 0,
          "unique_count": 1
         }
        },
        {
         "dtype": "float64",
         "name": "1997",
         "stats": {
          "histogram": [
           {
            "bin_end": 37.4,
            "bin_start": 37.3,
            "count": 0
           },
           {
            "bin_end": 37.5,
            "bin_start": 37.4,
            "count": 0
           },
           {
            "bin_end": 37.599999999999994,
            "bin_start": 37.5,
            "count": 0
           },
           {
            "bin_end": 37.699999999999996,
            "bin_start": 37.599999999999994,
            "count": 0
           },
           {
            "bin_end": 37.8,
            "bin_start": 37.699999999999996,
            "count": 0
           },
           {
            "bin_end": 37.9,
            "bin_start": 37.8,
            "count": 1
           },
           {
            "bin_end": 38,
            "bin_start": 37.9,
            "count": 0
           },
           {
            "bin_end": 38.099999999999994,
            "bin_start": 38,
            "count": 0
           },
           {
            "bin_end": 38.199999999999996,
            "bin_start": 38.099999999999994,
            "count": 0
           },
           {
            "bin_end": 38.3,
            "bin_start": 38.199999999999996,
            "count": 0
           }
          ],
          "max": "37.8",
          "min": "37.8",
          "nan_count": 0,
          "unique_count": 1
         }
        },
        {
         "dtype": "float64",
         "name": "1998",
         "stats": {
          "histogram": [
           {
            "bin_end": 47.7,
            "bin_start": 47.6,
            "count": 0
           },
           {
            "bin_end": 47.800000000000004,
            "bin_start": 47.7,
            "count": 0
           },
           {
            "bin_end": 47.9,
            "bin_start": 47.800000000000004,
            "count": 0
           },
           {
            "bin_end": 48,
            "bin_start": 47.9,
            "count": 0
           },
           {
            "bin_end": 48.1,
            "bin_start": 48,
            "count": 0
           },
           {
            "bin_end": 48.2,
            "bin_start": 48.1,
            "count": 1
           },
           {
            "bin_end": 48.300000000000004,
            "bin_start": 48.2,
            "count": 0
           },
           {
            "bin_end": 48.4,
            "bin_start": 48.300000000000004,
            "count": 0
           },
           {
            "bin_end": 48.5,
            "bin_start": 48.4,
            "count": 0
           },
           {
            "bin_end": 48.6,
            "bin_start": 48.5,
            "count": 0
           }
          ],
          "max": "48.1",
          "min": "48.1",
          "nan_count": 0,
          "unique_count": 1
         }
        },
        {
         "dtype": "float64",
         "name": "1999",
         "stats": {
          "histogram": [
           {
            "bin_end": 55,
            "bin_start": 54.9,
            "count": 0
           },
           {
            "bin_end": 55.1,
            "bin_start": 55,
            "count": 0
           },
           {
            "bin_end": 55.199999999999996,
            "bin_start": 55.1,
            "count": 0
           },
           {
            "bin_end": 55.3,
            "bin_start": 55.199999999999996,
            "count": 0
           },
           {
            "bin_end": 55.4,
            "bin_start": 55.3,
            "count": 0
           },
           {
            "bin_end": 55.5,
            "bin_start": 55.4,
            "count": 1
           },
           {
            "bin_end": 55.6,
            "bin_start": 55.5,
            "count": 0
           },
           {
            "bin_end": 55.699999999999996,
            "bin_start": 55.6,
            "count": 0
           },
           {
            "bin_end": 55.8,
            "bin_start": 55.699999999999996,
            "count": 0
           },
           {
            "bin_end": 55.9,
            "bin_start": 55.8,
            "count": 0
           }
          ],
          "max": "55.4",
          "min": "55.4",
          "nan_count": 0,
          "unique_count": 1
         }
        },
        {
         "dtype": "float64",
         "name": "2000",
         "stats": {
          "histogram": [
           {
            "bin_end": 61.9,
            "bin_start": 61.8,
            "count": 0
           },
           {
            "bin_end": 62,
            "bin_start": 61.9,
            "count": 0
           },
           {
            "bin_end": 62.099999999999994,
            "bin_start": 62,
            "count": 0
           },
           {
            "bin_end": 62.199999999999996,
            "bin_start": 62.099999999999994,
            "count": 0
           },
           {
            "bin_end": 62.3,
            "bin_start": 62.199999999999996,
            "count": 0
           },
           {
            "bin_end": 62.4,
            "bin_start": 62.3,
            "count": 1
           },
           {
            "bin_end": 62.5,
            "bin_start": 62.4,
            "count": 0
           },
           {
            "bin_end": 62.599999999999994,
            "bin_start": 62.5,
            "count": 0
           },
           {
            "bin_end": 62.699999999999996,
            "bin_start": 62.599999999999994,
            "count": 0
           },
           {
            "bin_end": 62.8,
            "bin_start": 62.699999999999996,
            "count": 0
           }
          ],
          "max": "62.3",
          "min": "62.3",
          "nan_count": 0,
          "unique_count": 1
         }
        },
        {
         "dtype": "float64",
         "name": "2001",
         "stats": {
          "histogram": [
           {
            "bin_end": 64.8,
            "bin_start": 64.7,
            "count": 0
           },
           {
            "bin_end": 64.9,
            "bin_start": 64.8,
            "count": 0
           },
           {
            "bin_end": 65,
            "bin_start": 64.9,
            "count": 0
           },
           {
            "bin_end": 65.10000000000001,
            "bin_start": 65,
            "count": 0
           },
           {
            "bin_end": 65.2,
            "bin_start": 65.10000000000001,
            "count": 0
           },
           {
            "bin_end": 65.3,
            "bin_start": 65.2,
            "count": 1
           },
           {
            "bin_end": 65.4,
            "bin_start": 65.3,
            "count": 0
           },
           {
            "bin_end": 65.5,
            "bin_start": 65.4,
            "count": 0
           },
           {
            "bin_end": 65.60000000000001,
            "bin_start": 65.5,
            "count": 0
           },
           {
            "bin_end": 65.7,
            "bin_start": 65.60000000000001,
            "count": 0
           }
          ],
          "max": "65.2",
          "min": "65.2",
          "nan_count": 0,
          "unique_count": 1
         }
        },
        {
         "dtype": "float64",
         "name": "2002",
         "stats": {
          "histogram": [
           {
            "bin_end": 70.89999999999999,
            "bin_start": 70.8,
            "count": 0
           },
           {
            "bin_end": 71,
            "bin_start": 70.89999999999999,
            "count": 0
           },
           {
            "bin_end": 71.1,
            "bin_start": 71,
            "count": 0
           },
           {
            "bin_end": 71.2,
            "bin_start": 71.1,
            "count": 0
           },
           {
            "bin_end": 71.3,
            "bin_start": 71.2,
            "count": 0
           },
           {
            "bin_end": 71.39999999999999,
            "bin_start": 71.3,
            "count": 1
           },
           {
            "bin_end": 71.5,
            "bin_start": 71.39999999999999,
            "count": 0
           },
           {
            "bin_end": 71.6,
            "bin_start": 71.5,
            "count": 0
           },
           {
            "bin_end": 71.7,
            "bin_start": 71.6,
            "count": 0
           },
           {
            "bin_end": 71.8,
            "bin_start": 71.7,
            "count": 0
           }
          ],
          "max": "71.3",
          "min": "71.3",
          "nan_count": 0,
          "unique_count": 1
         }
        },
        {
         "dtype": "float64",
         "name": "2003",
         "stats": {
          "histogram": [
           {
            "bin_end": 81.1,
            "bin_start": 81,
            "count": 0
           },
           {
            "bin_end": 81.2,
            "bin_start": 81.1,
            "count": 0
           },
           {
            "bin_end": 81.3,
            "bin_start": 81.2,
            "count": 0
           },
           {
            "bin_end": 81.4,
            "bin_start": 81.3,
            "count": 0
           },
           {
            "bin_end": 81.5,
            "bin_start": 81.4,
            "count": 0
           },
           {
            "bin_end": 81.6,
            "bin_start": 81.5,
            "count": 1
           },
           {
            "bin_end": 81.7,
            "bin_start": 81.6,
            "count": 0
           },
           {
            "bin_end": 81.8,
            "bin_start": 81.7,
            "count": 0
           },
           {
            "bin_end": 81.9,
            "bin_start": 81.8,
            "count": 0
           },
           {
            "bin_end": 82,
            "bin_start": 81.9,
            "count": 0
           }
          ],
          "max": "81.5",
          "min": "81.5",
          "nan_count": 0,
          "unique_count": 1
         }
        },
        {
         "dtype": "float64",
         "name": "2004",
         "stats": {
          "histogram": [
           {
            "bin_end": 92.6,
            "bin_start": 92.5,
            "count": 0
           },
           {
            "bin_end": 92.7,
            "bin_start": 92.6,
            "count": 0
           },
           {
            "bin_end": 92.8,
            "bin_start": 92.7,
            "count": 0
           },
           {
            "bin_end": 92.9,
            "bin_start": 92.8,
            "count": 0
           },
           {
            "bin_end": 93,
            "bin_start": 92.9,
            "count": 0
           },
           {
            "bin_end": 93.1,
            "bin_start": 93,
            "count": 1
           },
           {
            "bin_end": 93.2,
            "bin_start": 93.1,
            "count": 0
           },
           {
            "bin_end": 93.3,
            "bin_start": 93.2,
            "count": 0
           },
           {
            "bin_end": 93.4,
            "bin_start": 93.3,
            "count": 0
           },
           {
            "bin_end": 93.5,
            "bin_start": 93.4,
            "count": 0
           }
          ],
          "max": "93.0",
          "min": "93.0",
          "nan_count": 0,
          "unique_count": 1
         }
        },
        {
         "dtype": "float64",
         "name": "2005",
         "stats": {
          "histogram": [
           {
            "bin_end": 100.8,
            "bin_start": 100.7,
            "count": 0
           },
           {
            "bin_end": 100.9,
            "bin_start": 100.8,
            "count": 0
           },
           {
            "bin_end": 101,
            "bin_start": 100.9,
            "count": 0
           },
           {
            "bin_end": 101.10000000000001,
            "bin_start": 101,
            "count": 0
           },
           {
            "bin_end": 101.2,
            "bin_start": 101.10000000000001,
            "count": 0
           },
           {
            "bin_end": 101.3,
            "bin_start": 101.2,
            "count": 1
           },
           {
            "bin_end": 101.4,
            "bin_start": 101.3,
            "count": 0
           },
           {
            "bin_end": 101.5,
            "bin_start": 101.4,
            "count": 0
           },
           {
            "bin_end": 101.60000000000001,
            "bin_start": 101.5,
            "count": 0
           },
           {
            "bin_end": 101.7,
            "bin_start": 101.60000000000001,
            "count": 0
           }
          ],
          "max": "101.2",
          "min": "101.2",
          "nan_count": 0,
          "unique_count": 1
         }
        },
        {
         "dtype": "float64",
         "name": "2006",
         "stats": {
          "histogram": [
           {
            "bin_end": 127.3,
            "bin_start": 127.2,
            "count": 0
           },
           {
            "bin_end": 127.4,
            "bin_start": 127.3,
            "count": 0
           },
           {
            "bin_end": 127.5,
            "bin_start": 127.4,
            "count": 0
           },
           {
            "bin_end": 127.6,
            "bin_start": 127.5,
            "count": 0
           },
           {
            "bin_end": 127.69999999999999,
            "bin_start": 127.6,
            "count": 0
           },
           {
            "bin_end": 127.8,
            "bin_start": 127.69999999999999,
            "count": 1
           },
           {
            "bin_end": 127.89999999999999,
            "bin_start": 127.8,
            "count": 0
           },
           {
            "bin_end": 127.99999999999999,
            "bin_start": 127.89999999999999,
            "count": 0
           },
           {
            "bin_end": 128.1,
            "bin_start": 127.99999999999999,
            "count": 0
           },
           {
            "bin_end": 128.2,
            "bin_start": 128.1,
            "count": 0
           }
          ],
          "max": "127.7",
          "min": "127.7",
          "nan_count": 0,
          "unique_count": 1
         }
        },
        {
         "dtype": "float64",
         "name": "2007",
         "stats": {
          "histogram": [
           {
            "bin_end": 172.6,
            "bin_start": 172.5,
            "count": 0
           },
           {
            "bin_end": 172.7,
            "bin_start": 172.6,
            "count": 0
           },
           {
            "bin_end": 172.8,
            "bin_start": 172.7,
            "count": 0
           },
           {
            "bin_end": 172.9,
            "bin_start": 172.8,
            "count": 0
           },
           {
            "bin_end": 173,
            "bin_start": 172.9,
            "count": 0
           },
           {
            "bin_end": 173.1,
            "bin_start": 173,
            "count": 1
           },
           {
            "bin_end": 173.2,
            "bin_start": 173.1,
            "count": 0
           },
           {
            "bin_end": 173.3,
            "bin_start": 173.2,
            "count": 0
           },
           {
            "bin_end": 173.4,
            "bin_start": 173.3,
            "count": 0
           },
           {
            "bin_end": 173.5,
            "bin_start": 173.4,
            "count": 0
           }
          ],
          "max": "173.0",
          "min": "173.0",
          "nan_count": 0,
          "unique_count": 1
         }
        },
        {
         "dtype": "float64",
         "name": "2008",
         "stats": {
          "histogram": [
           {
            "bin_end": 273.8,
            "bin_start": 273.7,
            "count": 0
           },
           {
            "bin_end": 273.9,
            "bin_start": 273.8,
            "count": 0
           },
           {
            "bin_end": 274,
            "bin_start": 273.9,
            "count": 0
           },
           {
            "bin_end": 274.09999999999997,
            "bin_start": 274,
            "count": 0
           },
           {
            "bin_end": 274.2,
            "bin_start": 274.09999999999997,
            "count": 0
           },
           {
            "bin_end": 274.3,
            "bin_start": 274.2,
            "count": 1
           },
           {
            "bin_end": 274.4,
            "bin_start": 274.3,
            "count": 0
           },
           {
            "bin_end": 274.5,
            "bin_start": 274.4,
            "count": 0
           },
           {
            "bin_end": 274.59999999999997,
            "bin_start": 274.5,
            "count": 0
           },
           {
            "bin_end": 274.7,
            "bin_start": 274.59999999999997,
            "count": 0
           }
          ],
          "max": "274.2",
          "min": "274.2",
          "nan_count": 0,
          "unique_count": 1
         }
        },
        {
         "dtype": "float64",
         "name": "2009",
         "stats": {
          "histogram": [
           {
            "bin_end": 300,
            "bin_start": 299.9,
            "count": 0
           },
           {
            "bin_end": 300.09999999999997,
            "bin_start": 300,
            "count": 0
           },
           {
            "bin_end": 300.2,
            "bin_start": 300.09999999999997,
            "count": 0
           },
           {
            "bin_end": 300.29999999999995,
            "bin_start": 300.2,
            "count": 0
           },
           {
            "bin_end": 300.4,
            "bin_start": 300.29999999999995,
            "count": 0
           },
           {
            "bin_end": 300.5,
            "bin_start": 300.4,
            "count": 1
           },
           {
            "bin_end": 300.59999999999997,
            "bin_start": 300.5,
            "count": 0
           },
           {
            "bin_end": 300.7,
            "bin_start": 300.59999999999997,
            "count": 0
           },
           {
            "bin_end": 300.79999999999995,
            "bin_start": 300.7,
            "count": 0
           },
           {
            "bin_end": 300.9,
            "bin_start": 300.79999999999995,
            "count": 0
           }
          ],
          "max": "300.4",
          "min": "300.4",
          "nan_count": 0,
          "unique_count": 1
         }
        },
        {
         "dtype": "float64",
         "name": "2010",
         "stats": {
          "histogram": [
           {
            "bin_end": 341.1,
            "bin_start": 341,
            "count": 0
           },
           {
            "bin_end": 341.2,
            "bin_start": 341.1,
            "count": 0
           },
           {
            "bin_end": 341.3,
            "bin_start": 341.2,
            "count": 0
           },
           {
            "bin_end": 341.4,
            "bin_start": 341.3,
            "count": 0
           },
           {
            "bin_end": 341.5,
            "bin_start": 341.4,
            "count": 0
           },
           {
            "bin_end": 341.6,
            "bin_start": 341.5,
            "count": 1
           },
           {
            "bin_end": 341.7,
            "bin_start": 341.6,
            "count": 0
           },
           {
            "bin_end": 341.8,
            "bin_start": 341.7,
            "count": 0
           },
           {
            "bin_end": 341.9,
            "bin_start": 341.8,
            "count": 0
           },
           {
            "bin_end": 342,
            "bin_start": 341.9,
            "count": 0
           }
          ],
          "max": "341.5",
          "min": "341.5",
          "nan_count": 0,
          "unique_count": 1
         }
        },
        {
         "dtype": "float64",
         "name": "2011",
         "stats": {
          "histogram": [
           {
            "bin_end": 423.8,
            "bin_start": 423.7,
            "count": 0
           },
           {
            "bin_end": 423.9,
            "bin_start": 423.8,
            "count": 0
           },
           {
            "bin_end": 424,
            "bin_start": 423.9,
            "count": 0
           },
           {
            "bin_end": 424.09999999999997,
            "bin_start": 424,
            "count": 0
           },
           {
            "bin_end": 424.2,
            "bin_start": 424.09999999999997,
            "count": 0
           },
           {
            "bin_end": 424.3,
            "bin_start": 424.2,
            "count": 1
           },
           {
            "bin_end": 424.4,
            "bin_start": 424.3,
            "count": 0
           },
           {
            "bin_end": 424.5,
            "bin_start": 424.4,
            "count": 0
           },
           {
            "bin_end": 424.59999999999997,
            "bin_start": 424.5,
            "count": 0
           },
           {
            "bin_end": 424.7,
            "bin_start": 424.59999999999997,
            "count": 0
           }
          ],
          "max": "424.2",
          "min": "424.2",
          "nan_count": 0,
          "unique_count": 1
         }
        },
        {
         "dtype": "float64",
         "name": "2012",
         "stats": {
          "histogram": [
           {
            "bin_end": 557.2,
            "bin_start": 557.1,
            "count": 0
           },
           {
            "bin_end": 557.3000000000001,
            "bin_start": 557.2,
            "count": 0
           },
           {
            "bin_end": 557.4,
            "bin_start": 557.3000000000001,
            "count": 0
           },
           {
            "bin_end": 557.5,
            "bin_start": 557.4,
            "count": 0
           },
           {
            "bin_end": 557.6,
            "bin_start": 557.5,
            "count": 0
           },
           {
            "bin_end": 557.7,
            "bin_start": 557.6,
            "count": 1
           },
           {
            "bin_end": 557.8000000000001,
            "bin_start": 557.7,
            "count": 0
           },
           {
            "bin_end": 557.9,
            "bin_start": 557.8000000000001,
            "count": 0
           },
           {
            "bin_end": 558,
            "bin_start": 557.9,
            "count": 0
           },
           {
            "bin_end": 558.1,
            "bin_start": 558,
            "count": 0
           }
          ],
          "max": "557.6",
          "min": "557.6",
          "nan_count": 0,
          "unique_count": 1
         }
        },
        {
         "dtype": "float64",
         "name": "2014",
         "stats": {
          "histogram": [
           {
            "bin_end": 796.2,
            "bin_start": 796.1,
            "count": 0
           },
           {
            "bin_end": 796.3000000000001,
            "bin_start": 796.2,
            "count": 0
           },
           {
            "bin_end": 796.4,
            "bin_start": 796.3000000000001,
            "count": 0
           },
           {
            "bin_end": 796.5,
            "bin_start": 796.4,
            "count": 0
           },
           {
            "bin_end": 796.6,
            "bin_start": 796.5,
            "count": 0
           },
           {
            "bin_end": 796.7,
            "bin_start": 796.6,
            "count": 1
           },
           {
            "bin_end": 796.8000000000001,
            "bin_start": 796.7,
            "count": 0
           },
           {
            "bin_end": 796.9,
            "bin_start": 796.8000000000001,
            "count": 0
           },
           {
            "bin_end": 797,
            "bin_start": 796.9,
            "count": 0
           },
           {
            "bin_end": 797.1,
            "bin_start": 797,
            "count": 0
           }
          ],
          "max": "796.6",
          "min": "796.6",
          "nan_count": 0,
          "unique_count": 1
         }
        },
        {
         "dtype": "float64",
         "name": "2015",
         "stats": {
          "histogram": [
           {
            "bin_end": 807.6,
            "bin_start": 807.5,
            "count": 0
           },
           {
            "bin_end": 807.7,
            "bin_start": 807.6,
            "count": 0
           },
           {
            "bin_end": 807.8,
            "bin_start": 807.7,
            "count": 0
           },
           {
            "bin_end": 807.9,
            "bin_start": 807.8,
            "count": 0
           },
           {
            "bin_end": 808,
            "bin_start": 807.9,
            "count": 0
           },
           {
            "bin_end": 808.1,
            "bin_start": 808,
            "count": 1
           },
           {
            "bin_end": 808.2,
            "bin_start": 808.1,
            "count": 0
           },
           {
            "bin_end": 808.3,
            "bin_start": 808.2,
            "count": 0
           },
           {
            "bin_end": 808.4,
            "bin_start": 808.3,
            "count": 0
           },
           {
            "bin_end": 808.5,
            "bin_start": 808.4,
            "count": 0
           }
          ],
          "max": "808.0",
          "min": "808.0",
          "nan_count": 0,
          "unique_count": 1
         }
        },
        {
         "dtype": "float64",
         "name": "2016",
         "stats": {
          "histogram": [
           {
            "bin_end": 861.5,
            "bin_start": 861.4,
            "count": 0
           },
           {
            "bin_end": 861.6,
            "bin_start": 861.5,
            "count": 0
           },
           {
            "bin_end": 861.6999999999999,
            "bin_start": 861.6,
            "count": 0
           },
           {
            "bin_end": 861.8,
            "bin_start": 861.6999999999999,
            "count": 0
           },
           {
            "bin_end": 861.9,
            "bin_start": 861.8,
            "count": 0
           },
           {
            "bin_end": 862,
            "bin_start": 861.9,
            "count": 1
           },
           {
            "bin_end": 862.1,
            "bin_start": 862,
            "count": 0
           },
           {
            "bin_end": 862.1999999999999,
            "bin_start": 862.1,
            "count": 0
           },
           {
            "bin_end": 862.3,
            "bin_start": 862.1999999999999,
            "count": 0
           },
           {
            "bin_end": 862.4,
            "bin_start": 862.3,
            "count": 0
           }
          ],
          "max": "861.9",
          "min": "861.9",
          "nan_count": 0,
          "unique_count": 1
         }
        },
        {
         "dtype": "float64",
         "name": "2017",
         "stats": {
          "histogram": [
           {
            "bin_end": 944.1,
            "bin_start": 944,
            "count": 0
           },
           {
            "bin_end": 944.2,
            "bin_start": 944.1,
            "count": 0
           },
           {
            "bin_end": 944.3,
            "bin_start": 944.2,
            "count": 0
           },
           {
            "bin_end": 944.4,
            "bin_start": 944.3,
            "count": 0
           },
           {
            "bin_end": 944.5,
            "bin_start": 944.4,
            "count": 0
           },
           {
            "bin_end": 944.6,
            "bin_start": 944.5,
            "count": 1
           },
           {
            "bin_end": 944.7,
            "bin_start": 944.6,
            "count": 0
           },
           {
            "bin_end": 944.8,
            "bin_start": 944.7,
            "count": 0
           },
           {
            "bin_end": 944.9,
            "bin_start": 944.8,
            "count": 0
           },
           {
            "bin_end": 945,
            "bin_start": 944.9,
            "count": 0
           }
          ],
          "max": "944.5",
          "min": "944.5",
          "nan_count": 0,
          "unique_count": 1
         }
        },
        {
         "dtype": "float64",
         "name": "2018",
         "stats": {
          "histogram": [
           {
            "bin_end": 1002.5,
            "bin_start": 1002.4,
            "count": 0
           },
           {
            "bin_end": 1002.6,
            "bin_start": 1002.5,
            "count": 0
           },
           {
            "bin_end": 1002.6999999999999,
            "bin_start": 1002.6,
            "count": 0
           },
           {
            "bin_end": 1002.8,
            "bin_start": 1002.6999999999999,
            "count": 0
           },
           {
            "bin_end": 1002.9,
            "bin_start": 1002.8,
            "count": 0
           },
           {
            "bin_end": 1003,
            "bin_start": 1002.9,
            "count": 1
           },
           {
            "bin_end": 1003.1,
            "bin_start": 1003,
            "count": 0
           },
           {
            "bin_end": 1003.1999999999999,
            "bin_start": 1003.1,
            "count": 0
           },
           {
            "bin_end": 1003.3,
            "bin_start": 1003.1999999999999,
            "count": 0
           },
           {
            "bin_end": 1003.4,
            "bin_start": 1003.3,
            "count": 0
           }
          ],
          "max": "1002.9",
          "min": "1002.9",
          "nan_count": 0,
          "unique_count": 1
         }
        },
        {
         "dtype": "float64",
         "name": "2019",
         "stats": {
          "histogram": [
           {
            "bin_end": 1123.8999999999999,
            "bin_start": 1123.8,
            "count": 0
           },
           {
            "bin_end": 1124,
            "bin_start": 1123.8999999999999,
            "count": 0
           },
           {
            "bin_end": 1124.1,
            "bin_start": 1124,
            "count": 0
           },
           {
            "bin_end": 1124.2,
            "bin_start": 1124.1,
            "count": 0
           },
           {
            "bin_end": 1124.3,
            "bin_start": 1124.2,
            "count": 0
           },
           {
            "bin_end": 1124.3999999999999,
            "bin_start": 1124.3,
            "count": 1
           },
           {
            "bin_end": 1124.5,
            "bin_start": 1124.3999999999999,
            "count": 0
           },
           {
            "bin_end": 1124.6,
            "bin_start": 1124.5,
            "count": 0
           },
           {
            "bin_end": 1124.7,
            "bin_start": 1124.6,
            "count": 0
           },
           {
            "bin_end": 1124.8,
            "bin_start": 1124.7,
            "count": 0
           }
          ],
          "max": "1124.3",
          "min": "1124.3",
          "nan_count": 0,
          "unique_count": 1
         }
        },
        {
         "dtype": "float64",
         "name": "2020",
         "stats": {
          "histogram": [
           {
            "bin_end": 1220.1999999999998,
            "bin_start": 1220.1,
            "count": 0
           },
           {
            "bin_end": 1220.3,
            "bin_start": 1220.1999999999998,
            "count": 0
           },
           {
            "bin_end": 1220.3999999999999,
            "bin_start": 1220.3,
            "count": 0
           },
           {
            "bin_end": 1220.5,
            "bin_start": 1220.3999999999999,
            "count": 0
           },
           {
            "bin_end": 1220.6,
            "bin_start": 1220.5,
            "count": 0
           },
           {
            "bin_end": 1220.6999999999998,
            "bin_start": 1220.6,
            "count": 1
           },
           {
            "bin_end": 1220.8,
            "bin_start": 1220.6999999999998,
            "count": 0
           },
           {
            "bin_end": 1220.8999999999999,
            "bin_start": 1220.8,
            "count": 0
           },
           {
            "bin_end": 1221,
            "bin_start": 1220.8999999999999,
            "count": 0
           },
           {
            "bin_end": 1221.1,
            "bin_start": 1221,
            "count": 0
           }
          ],
          "max": "1220.6",
          "min": "1220.6",
          "nan_count": 0,
          "unique_count": 1
         }
        },
        {
         "dtype": "int64",
         "name": "_deepnote_index_column"
        }
       ],
       "row_count": 1,
       "rows": [
        {
         "1995": 24.4,
         "1996": 31.9,
         "1997": 37.8,
         "1998": 48.1,
         "1999": 55.4,
         "2000": 62.3,
         "2001": 65.2,
         "2002": 71.3,
         "2003": 81.5,
         "2004": 93,
         "2005": 101.2,
         "2006": 127.7,
         "2007": 173,
         "2008": 274.2,
         "2009": 300.4,
         "2010": 341.5,
         "2011": 424.2,
         "2012": 557.6,
         "2014": 796.6,
         "2015": 808,
         "2016": 861.9,
         "2017": 944.5,
         "2018": 1002.9,
         "2019": 1124.3,
         "2020": 1220.6,
         "Aimag": "Total",
         "Sex": "Total",
         "_deepnote_index_column": 0
        }
       ]
      },
      "text/html": [
       "<div>\n",
       "<style scoped>\n",
       "    .dataframe tbody tr th:only-of-type {\n",
       "        vertical-align: middle;\n",
       "    }\n",
       "\n",
       "    .dataframe tbody tr th {\n",
       "        vertical-align: top;\n",
       "    }\n",
       "\n",
       "    .dataframe thead th {\n",
       "        text-align: right;\n",
       "    }\n",
       "</style>\n",
       "<table border=\"1\" class=\"dataframe\">\n",
       "  <thead>\n",
       "    <tr style=\"text-align: right;\">\n",
       "      <th></th>\n",
       "      <th>Aimag</th>\n",
       "      <th>Sex</th>\n",
       "      <th>1995</th>\n",
       "      <th>1996</th>\n",
       "      <th>1997</th>\n",
       "      <th>1998</th>\n",
       "      <th>1999</th>\n",
       "      <th>2000</th>\n",
       "      <th>2001</th>\n",
       "      <th>2002</th>\n",
       "      <th>...</th>\n",
       "      <th>2010</th>\n",
       "      <th>2011</th>\n",
       "      <th>2012</th>\n",
       "      <th>2014</th>\n",
       "      <th>2015</th>\n",
       "      <th>2016</th>\n",
       "      <th>2017</th>\n",
       "      <th>2018</th>\n",
       "      <th>2019</th>\n",
       "      <th>2020</th>\n",
       "    </tr>\n",
       "  </thead>\n",
       "  <tbody>\n",
       "    <tr>\n",
       "      <th>0</th>\n",
       "      <td>Total</td>\n",
       "      <td>Total</td>\n",
       "      <td>24.4</td>\n",
       "      <td>31.9</td>\n",
       "      <td>37.8</td>\n",
       "      <td>48.1</td>\n",
       "      <td>55.4</td>\n",
       "      <td>62.3</td>\n",
       "      <td>65.2</td>\n",
       "      <td>71.3</td>\n",
       "      <td>...</td>\n",
       "      <td>341.5</td>\n",
       "      <td>424.2</td>\n",
       "      <td>557.6</td>\n",
       "      <td>796.6</td>\n",
       "      <td>808.0</td>\n",
       "      <td>861.9</td>\n",
       "      <td>944.5</td>\n",
       "      <td>1002.9</td>\n",
       "      <td>1124.3</td>\n",
       "      <td>1220.6</td>\n",
       "    </tr>\n",
       "  </tbody>\n",
       "</table>\n",
       "<p>1 rows × 27 columns</p>\n",
       "</div>"
      ],
      "text/plain": [
       "   Aimag    Sex  1995  1996  1997  1998  1999  2000  2001  2002  ...   2010  \\\n",
       "0  Total  Total  24.4  31.9  37.8  48.1  55.4  62.3  65.2  71.3  ...  341.5   \n",
       "\n",
       "    2011   2012   2014   2015   2016   2017    2018    2019    2020  \n",
       "0  424.2  557.6  796.6  808.0  861.9  944.5  1002.9  1124.3  1220.6  \n",
       "\n",
       "[1 rows x 27 columns]"
      ]
     },
     "execution_count": 6,
     "metadata": {},
     "output_type": "execute_result"
    }
   ],
   "source": [
    "wages.head()"
   ]
  },
  {
   "cell_type": "markdown",
   "metadata": {
    "cell_id": "00008-28368c6a-a569-4eb4-8303-cf7880699170",
    "deepnote_cell_type": "markdown",
    "tags": []
   },
   "source": [
    "### Reformat from short form to long form"
   ]
  },
  {
   "cell_type": "code",
   "execution_count": null,
   "metadata": {
    "cell_id": "00008-81102115-c7ab-4ef5-9099-4416c988aedc",
    "deepnote_cell_type": "code",
    "deepnote_to_be_reexecuted": false,
    "execution_millis": 0,
    "execution_start": 1639648045182,
    "source_hash": "1e783395",
    "tags": []
   },
   "outputs": [],
   "source": [
    "inflation = pd.melt(inflation, id_vars=['INDICATOR'], var_name='year', value_name='inflation').drop(columns='INDICATOR')"
   ]
  },
  {
   "cell_type": "code",
   "execution_count": null,
   "metadata": {
    "cell_id": "00011-bcbdf753-b7b9-4b79-8ec0-1884abfbcf5c",
    "deepnote_cell_type": "code",
    "deepnote_to_be_reexecuted": false,
    "execution_start": 1639648045183,
    "source_hash": "7ee07d36"
   },
   "outputs": [],
   "source": [
    "inflation['year'] = inflation['year'].astype('int')"
   ]
  },
  {
   "cell_type": "code",
   "execution_count": null,
   "metadata": {
    "cell_id": "00009-8eebbe0f-d397-449b-b87a-b9c9ee55fceb",
    "deepnote_cell_type": "code",
    "deepnote_to_be_reexecuted": false,
    "execution_millis": 3,
    "execution_start": 1639648045225,
    "source_hash": "fe56c9d7",
    "tags": []
   },
   "outputs": [
    {
     "data": {
      "application/vnd.deepnote.dataframe.v3+json": {
       "column_count": 2,
       "columns": [
        {
         "dtype": "int64",
         "name": "year",
         "stats": {
          "histogram": [
           {
            "bin_end": 1991.1,
            "bin_start": 1991,
            "count": 1
           },
           {
            "bin_end": 1991.2,
            "bin_start": 1991.1,
            "count": 0
           },
           {
            "bin_end": 1991.3,
            "bin_start": 1991.2,
            "count": 0
           },
           {
            "bin_end": 1991.4,
            "bin_start": 1991.3,
            "count": 0
           },
           {
            "bin_end": 1991.5,
            "bin_start": 1991.4,
            "count": 0
           },
           {
            "bin_end": 1991.6,
            "bin_start": 1991.5,
            "count": 0
           },
           {
            "bin_end": 1991.7,
            "bin_start": 1991.6,
            "count": 0
           },
           {
            "bin_end": 1991.8,
            "bin_start": 1991.7,
            "count": 0
           },
           {
            "bin_end": 1991.9,
            "bin_start": 1991.8,
            "count": 0
           },
           {
            "bin_end": 1992,
            "bin_start": 1991.9,
            "count": 1
           }
          ],
          "max": "1992",
          "min": "1991",
          "nan_count": 0,
          "unique_count": 2
         }
        },
        {
         "dtype": "float64",
         "name": "inflation",
         "stats": {
          "histogram": [
           {
            "bin_end": 79.98,
            "bin_start": 52.7,
            "count": 1
           },
           {
            "bin_end": 107.26,
            "bin_start": 79.98,
            "count": 0
           },
           {
            "bin_end": 134.54000000000002,
            "bin_start": 107.26,
            "count": 0
           },
           {
            "bin_end": 161.82,
            "bin_start": 134.54000000000002,
            "count": 0
           },
           {
            "bin_end": 189.10000000000002,
            "bin_start": 161.82,
            "count": 0
           },
           {
            "bin_end": 216.38,
            "bin_start": 189.10000000000002,
            "count": 0
           },
           {
            "bin_end": 243.66000000000003,
            "bin_start": 216.38,
            "count": 0
           },
           {
            "bin_end": 270.94,
            "bin_start": 243.66000000000003,
            "count": 0
           },
           {
            "bin_end": 298.22,
            "bin_start": 270.94,
            "count": 0
           },
           {
            "bin_end": 325.5,
            "bin_start": 298.22,
            "count": 1
           }
          ],
          "max": "325.5",
          "min": "52.7",
          "nan_count": 0,
          "unique_count": 2
         }
        },
        {
         "dtype": "int64",
         "name": "_deepnote_index_column"
        }
       ],
       "row_count": 2,
       "rows": [
        {
         "_deepnote_index_column": 0,
         "inflation": 52.7,
         "year": 1991
        },
        {
         "_deepnote_index_column": 1,
         "inflation": 325.5,
         "year": 1992
        }
       ]
      },
      "text/html": [
       "<div>\n",
       "<style scoped>\n",
       "    .dataframe tbody tr th:only-of-type {\n",
       "        vertical-align: middle;\n",
       "    }\n",
       "\n",
       "    .dataframe tbody tr th {\n",
       "        vertical-align: top;\n",
       "    }\n",
       "\n",
       "    .dataframe thead th {\n",
       "        text-align: right;\n",
       "    }\n",
       "</style>\n",
       "<table border=\"1\" class=\"dataframe\">\n",
       "  <thead>\n",
       "    <tr style=\"text-align: right;\">\n",
       "      <th></th>\n",
       "      <th>year</th>\n",
       "      <th>inflation</th>\n",
       "    </tr>\n",
       "  </thead>\n",
       "  <tbody>\n",
       "    <tr>\n",
       "      <th>0</th>\n",
       "      <td>1991</td>\n",
       "      <td>52.7</td>\n",
       "    </tr>\n",
       "    <tr>\n",
       "      <th>1</th>\n",
       "      <td>1992</td>\n",
       "      <td>325.5</td>\n",
       "    </tr>\n",
       "  </tbody>\n",
       "</table>\n",
       "</div>"
      ],
      "text/plain": [
       "   year  inflation\n",
       "0  1991       52.7\n",
       "1  1992      325.5"
      ]
     },
     "execution_count": 9,
     "metadata": {},
     "output_type": "execute_result"
    }
   ],
   "source": [
    "inflation.head(2)"
   ]
  },
  {
   "cell_type": "code",
   "execution_count": null,
   "metadata": {
    "cell_id": "00010-ec1368fe-10c6-4a93-a7a4-e3ae7726fa92",
    "deepnote_cell_type": "code",
    "deepnote_to_be_reexecuted": false,
    "execution_millis": 0,
    "execution_start": 1639648045226,
    "source_hash": "57976107",
    "tags": []
   },
   "outputs": [],
   "source": [
    "income_groups = (pd.melt(income_groups, \n",
    "                         id_vars=['Location','Revenue'], \n",
    "                         var_name='year', \n",
    "                         value_name='percent')\n",
    "                .rename(columns={'Location':'type','Revenue':'income_category'}))"
   ]
  },
  {
   "cell_type": "code",
   "execution_count": null,
   "metadata": {
    "cell_id": "00018-12dbb8c5-39e4-469e-bac3-d4d29b4a3bf7",
    "deepnote_cell_type": "code",
    "deepnote_output_heights": [
     232.25
    ],
    "deepnote_to_be_reexecuted": false,
    "execution_millis": 1,
    "execution_start": 1639648045281,
    "source_hash": "ad164e45",
    "tags": []
   },
   "outputs": [],
   "source": [
    "income_groups['year'] = income_groups['year'].astype('int')"
   ]
  },
  {
   "cell_type": "code",
   "execution_count": null,
   "metadata": {
    "cell_id": "00011-f8642864-612e-4d86-9c96-34eb2e49a419",
    "deepnote_cell_type": "code",
    "deepnote_to_be_reexecuted": false,
    "execution_millis": 2,
    "execution_start": 1639648045322,
    "source_hash": "d2f54e0a",
    "tags": []
   },
   "outputs": [
    {
     "data": {
      "application/vnd.deepnote.dataframe.v3+json": {
       "column_count": 4,
       "columns": [
        {
         "dtype": "object",
         "name": "type",
         "stats": {
          "categories": [
           {
            "count": 2,
            "name": "National average"
           }
          ],
          "nan_count": 0,
          "unique_count": 1
         }
        },
        {
         "dtype": "object",
         "name": "income_category",
         "stats": {
          "categories": [
           {
            "count": 1,
            "name": "under 300 000"
           },
           {
            "count": 1,
            "name": "300 001 - 500 000"
           }
          ],
          "nan_count": 0,
          "unique_count": 2
         }
        },
        {
         "dtype": "int64",
         "name": "year",
         "stats": {
          "histogram": [
           {
            "bin_end": 2010.6,
            "bin_start": 2010.5,
            "count": 0
           },
           {
            "bin_end": 2010.7,
            "bin_start": 2010.6,
            "count": 0
           },
           {
            "bin_end": 2010.8,
            "bin_start": 2010.7,
            "count": 0
           },
           {
            "bin_end": 2010.9,
            "bin_start": 2010.8,
            "count": 0
           },
           {
            "bin_end": 2011,
            "bin_start": 2010.9,
            "count": 0
           },
           {
            "bin_end": 2011.1,
            "bin_start": 2011,
            "count": 2
           },
           {
            "bin_end": 2011.2,
            "bin_start": 2011.1,
            "count": 0
           },
           {
            "bin_end": 2011.3,
            "bin_start": 2011.2,
            "count": 0
           },
           {
            "bin_end": 2011.4,
            "bin_start": 2011.3,
            "count": 0
           },
           {
            "bin_end": 2011.5,
            "bin_start": 2011.4,
            "count": 0
           }
          ],
          "max": "2011",
          "min": "2011",
          "nan_count": 0,
          "unique_count": 1
         }
        },
        {
         "dtype": "float64",
         "name": "percent",
         "stats": {
          "histogram": [
           {
            "bin_end": 25.7,
            "bin_start": 24.7,
            "count": 1
           },
           {
            "bin_end": 26.7,
            "bin_start": 25.7,
            "count": 0
           },
           {
            "bin_end": 27.7,
            "bin_start": 26.7,
            "count": 0
           },
           {
            "bin_end": 28.700000000000003,
            "bin_start": 27.7,
            "count": 0
           },
           {
            "bin_end": 29.700000000000003,
            "bin_start": 28.700000000000003,
            "count": 0
           },
           {
            "bin_end": 30.700000000000003,
            "bin_start": 29.700000000000003,
            "count": 0
           },
           {
            "bin_end": 31.700000000000003,
            "bin_start": 30.700000000000003,
            "count": 0
           },
           {
            "bin_end": 32.7,
            "bin_start": 31.700000000000003,
            "count": 0
           },
           {
            "bin_end": 33.7,
            "bin_start": 32.7,
            "count": 0
           },
           {
            "bin_end": 34.7,
            "bin_start": 33.7,
            "count": 1
           }
          ],
          "max": "34.7",
          "min": "24.7",
          "nan_count": 0,
          "unique_count": 2
         }
        },
        {
         "dtype": "int64",
         "name": "_deepnote_index_column"
        }
       ],
       "row_count": 2,
       "rows": [
        {
         "_deepnote_index_column": 0,
         "income_category": "under 300 000",
         "percent": 34.7,
         "type": "National average",
         "year": 2011
        },
        {
         "_deepnote_index_column": 1,
         "income_category": "300 001 - 500 000",
         "percent": 24.7,
         "type": "National average",
         "year": 2011
        }
       ]
      },
      "text/html": [
       "<div>\n",
       "<style scoped>\n",
       "    .dataframe tbody tr th:only-of-type {\n",
       "        vertical-align: middle;\n",
       "    }\n",
       "\n",
       "    .dataframe tbody tr th {\n",
       "        vertical-align: top;\n",
       "    }\n",
       "\n",
       "    .dataframe thead th {\n",
       "        text-align: right;\n",
       "    }\n",
       "</style>\n",
       "<table border=\"1\" class=\"dataframe\">\n",
       "  <thead>\n",
       "    <tr style=\"text-align: right;\">\n",
       "      <th></th>\n",
       "      <th>type</th>\n",
       "      <th>income_category</th>\n",
       "      <th>year</th>\n",
       "      <th>percent</th>\n",
       "    </tr>\n",
       "  </thead>\n",
       "  <tbody>\n",
       "    <tr>\n",
       "      <th>0</th>\n",
       "      <td>National average</td>\n",
       "      <td>under 300 000</td>\n",
       "      <td>2011</td>\n",
       "      <td>34.7</td>\n",
       "    </tr>\n",
       "    <tr>\n",
       "      <th>1</th>\n",
       "      <td>National average</td>\n",
       "      <td>300 001 - 500 000</td>\n",
       "      <td>2011</td>\n",
       "      <td>24.7</td>\n",
       "    </tr>\n",
       "  </tbody>\n",
       "</table>\n",
       "</div>"
      ],
      "text/plain": [
       "               type    income_category  year  percent\n",
       "0  National average      under 300 000  2011     34.7\n",
       "1  National average  300 001 - 500 000  2011     24.7"
      ]
     },
     "execution_count": 12,
     "metadata": {},
     "output_type": "execute_result"
    }
   ],
   "source": [
    "income_groups.head(2)"
   ]
  },
  {
   "cell_type": "code",
   "execution_count": null,
   "metadata": {
    "cell_id": "00013-42d71975-df5d-4ff4-bae1-e6e135414263",
    "deepnote_cell_type": "code",
    "deepnote_to_be_reexecuted": false,
    "execution_millis": 11,
    "execution_start": 1639648045323,
    "source_hash": "68d02170",
    "tags": []
   },
   "outputs": [],
   "source": [
    "wages = pd.melt(wages, id_vars=['Aimag', 'Sex'], var_name='year', value_name='avg_wage')"
   ]
  },
  {
   "cell_type": "code",
   "execution_count": null,
   "metadata": {
    "cell_id": "00014-cc3f4c78-2c67-435b-a902-cd5beb89e9e4",
    "deepnote_cell_type": "code",
    "deepnote_to_be_reexecuted": false,
    "execution_millis": 0,
    "execution_start": 1639648045345,
    "source_hash": "188321fa",
    "tags": []
   },
   "outputs": [],
   "source": [
    "wages = wages.drop(columns=['Aimag','Sex'])"
   ]
  },
  {
   "cell_type": "code",
   "execution_count": null,
   "metadata": {
    "cell_id": "00018-b41c0a66-6dbb-4184-ba49-41d2f37fb3dd",
    "deepnote_cell_type": "code",
    "deepnote_to_be_reexecuted": false,
    "execution_millis": 1,
    "execution_start": 1639648045397,
    "source_hash": "e695b41e"
   },
   "outputs": [],
   "source": [
    "wages['year'] = wages['year'].astype('int')"
   ]
  },
  {
   "cell_type": "code",
   "execution_count": null,
   "metadata": {
    "cell_id": "00019-3b6ff41a-d315-4ea3-ab31-7662c54d92ab",
    "deepnote_cell_type": "code",
    "deepnote_to_be_reexecuted": false,
    "execution_start": 1639648045399,
    "source_hash": "628ecb69"
   },
   "outputs": [],
   "source": [
    "wages['avg_wage'] = wages['avg_wage'].astype('float')"
   ]
  },
  {
   "cell_type": "code",
   "execution_count": null,
   "metadata": {
    "cell_id": "00014-e35309a5-d4fc-4020-82f1-84fb1d00ccad",
    "deepnote_cell_type": "code",
    "deepnote_to_be_reexecuted": false,
    "execution_millis": 43,
    "execution_start": 1639648045399,
    "source_hash": "7484bd75",
    "tags": []
   },
   "outputs": [
    {
     "data": {
      "application/vnd.deepnote.dataframe.v3+json": {
       "column_count": 2,
       "columns": [
        {
         "dtype": "int64",
         "name": "year",
         "stats": {
          "histogram": [
           {
            "bin_end": 1995.1,
            "bin_start": 1995,
            "count": 1
           },
           {
            "bin_end": 1995.2,
            "bin_start": 1995.1,
            "count": 0
           },
           {
            "bin_end": 1995.3,
            "bin_start": 1995.2,
            "count": 0
           },
           {
            "bin_end": 1995.4,
            "bin_start": 1995.3,
            "count": 0
           },
           {
            "bin_end": 1995.5,
            "bin_start": 1995.4,
            "count": 0
           },
           {
            "bin_end": 1995.6,
            "bin_start": 1995.5,
            "count": 0
           },
           {
            "bin_end": 1995.7,
            "bin_start": 1995.6,
            "count": 0
           },
           {
            "bin_end": 1995.8,
            "bin_start": 1995.7,
            "count": 0
           },
           {
            "bin_end": 1995.9,
            "bin_start": 1995.8,
            "count": 0
           },
           {
            "bin_end": 1996,
            "bin_start": 1995.9,
            "count": 1
           }
          ],
          "max": "1996",
          "min": "1995",
          "nan_count": 0,
          "unique_count": 2
         }
        },
        {
         "dtype": "float64",
         "name": "avg_wage",
         "stats": {
          "histogram": [
           {
            "bin_end": 25.15,
            "bin_start": 24.4,
            "count": 1
           },
           {
            "bin_end": 25.9,
            "bin_start": 25.15,
            "count": 0
           },
           {
            "bin_end": 26.65,
            "bin_start": 25.9,
            "count": 0
           },
           {
            "bin_end": 27.4,
            "bin_start": 26.65,
            "count": 0
           },
           {
            "bin_end": 28.15,
            "bin_start": 27.4,
            "count": 0
           },
           {
            "bin_end": 28.9,
            "bin_start": 28.15,
            "count": 0
           },
           {
            "bin_end": 29.65,
            "bin_start": 28.9,
            "count": 0
           },
           {
            "bin_end": 30.4,
            "bin_start": 29.65,
            "count": 0
           },
           {
            "bin_end": 31.15,
            "bin_start": 30.4,
            "count": 0
           },
           {
            "bin_end": 31.9,
            "bin_start": 31.15,
            "count": 1
           }
          ],
          "max": "31.9",
          "min": "24.4",
          "nan_count": 0,
          "unique_count": 2
         }
        },
        {
         "dtype": "int64",
         "name": "_deepnote_index_column"
        }
       ],
       "row_count": 2,
       "rows": [
        {
         "_deepnote_index_column": 0,
         "avg_wage": 24.4,
         "year": 1995
        },
        {
         "_deepnote_index_column": 1,
         "avg_wage": 31.9,
         "year": 1996
        }
       ]
      },
      "text/html": [
       "<div>\n",
       "<style scoped>\n",
       "    .dataframe tbody tr th:only-of-type {\n",
       "        vertical-align: middle;\n",
       "    }\n",
       "\n",
       "    .dataframe tbody tr th {\n",
       "        vertical-align: top;\n",
       "    }\n",
       "\n",
       "    .dataframe thead th {\n",
       "        text-align: right;\n",
       "    }\n",
       "</style>\n",
       "<table border=\"1\" class=\"dataframe\">\n",
       "  <thead>\n",
       "    <tr style=\"text-align: right;\">\n",
       "      <th></th>\n",
       "      <th>year</th>\n",
       "      <th>avg_wage</th>\n",
       "    </tr>\n",
       "  </thead>\n",
       "  <tbody>\n",
       "    <tr>\n",
       "      <th>0</th>\n",
       "      <td>1995</td>\n",
       "      <td>24.4</td>\n",
       "    </tr>\n",
       "    <tr>\n",
       "      <th>1</th>\n",
       "      <td>1996</td>\n",
       "      <td>31.9</td>\n",
       "    </tr>\n",
       "  </tbody>\n",
       "</table>\n",
       "</div>"
      ],
      "text/plain": [
       "   year  avg_wage\n",
       "0  1995      24.4\n",
       "1  1996      31.9"
      ]
     },
     "execution_count": 17,
     "metadata": {},
     "output_type": "execute_result"
    }
   ],
   "source": [
    "wages.head(2)"
   ]
  },
  {
   "cell_type": "markdown",
   "metadata": {
    "cell_id": "00012-86010450-2917-48cb-87e7-068bdf3b9483",
    "deepnote_cell_type": "markdown",
    "tags": []
   },
   "source": [
    "## Plot Economic Stratification from 2011-2020"
   ]
  },
  {
   "cell_type": "markdown",
   "metadata": {
    "cell_id": "00017-73fed8ab-1a28-475b-9742-f387790cc04d",
    "deepnote_cell_type": "markdown",
    "tags": []
   },
   "source": [
    "Starting in 2019 the income group \"2 100 001 and over\" was split up to relfect the growing number of Mongolians making higher wages. If was split into \"2 100 001 - 3 000 000\" and \"2 100 001 - 3 000 000\". However this causes a problem for our analysis as we don't have consistent buckets from 2011 to 2020. \n",
    "\n",
    "To fix this we will take the percents from the two top buckets and add them together to recreate the \"2 100 001 and over\" bucket from pre-2019.  "
   ]
  },
  {
   "cell_type": "markdown",
   "metadata": {
    "cell_id": "00020-2f55b74d-1903-42b2-a4af-722919263b7d",
    "deepnote_cell_type": "markdown",
    "tags": []
   },
   "source": [
    "For our analysis we only care about 2011 and 2020 and the national average."
   ]
  },
  {
   "cell_type": "code",
   "execution_count": null,
   "metadata": {
    "cell_id": "00013-726c439b-0802-4aa7-983d-9a432cfb9a57",
    "deepnote_cell_type": "code",
    "deepnote_to_be_reexecuted": false,
    "execution_millis": 0,
    "execution_start": 1639648045441,
    "source_hash": "2e9164dd",
    "tags": []
   },
   "outputs": [],
   "source": [
    "income_groups = income_groups[(income_groups['year'] == 2011) | (income_groups['year'] == 2020)]\n",
    "income_groups = income_groups[income_groups['type'] == 'National average']"
   ]
  },
  {
   "cell_type": "markdown",
   "metadata": {
    "cell_id": "00023-c278911a-ec51-410d-9952-9d3cf8d20294",
    "deepnote_cell_type": "markdown",
    "tags": []
   },
   "source": [
    "These labels are ugly. Let's fix them"
   ]
  },
  {
   "cell_type": "code",
   "execution_count": null,
   "metadata": {
    "cell_id": "00024-b3ef25f6-534f-4f4c-a4bf-cd355df44489",
    "deepnote_cell_type": "code",
    "deepnote_to_be_reexecuted": false,
    "execution_millis": 6,
    "execution_start": 1639648045448,
    "source_hash": "48e9dbf5",
    "tags": []
   },
   "outputs": [],
   "source": [
    "cat_mapper = {'under 300 000': '0-300,000', '300 001 - 500 000': '300,001-500,000', \n",
    "              '500 001 - 700 000':'500,001-700,000', '700 001 - 900 000': '700,001-900,000', \n",
    "              '900 001 - 1 100 000':'900,001-1,100,000', '1 100 001 - 1 600 000':'1,100,001-1,600,000', \n",
    "              '1 600 001 - 2 100 000':'1,600,001-2,100,000','2 100 001 and over': '2,100,001+', \n",
    "              '2 100 001 - 3 000 000':'2,100,001+', '3 000 001 and over':'2,100,001+'}"
   ]
  },
  {
   "cell_type": "code",
   "execution_count": null,
   "metadata": {
    "cell_id": "00025-4ecd4032-08b1-4897-9d03-b8f87507409a",
    "deepnote_cell_type": "code",
    "deepnote_output_heights": [
     404.9375
    ],
    "deepnote_to_be_reexecuted": false,
    "execution_millis": 76915238,
    "execution_start": 1639648045465,
    "source_hash": "5ea19cf7",
    "tags": []
   },
   "outputs": [],
   "source": [
    "income_groups['income_category'] = income_groups['income_category'].replace(cat_mapper)"
   ]
  },
  {
   "cell_type": "code",
   "execution_count": null,
   "metadata": {
    "cell_id": "00022-e2092648-4723-4c8d-b43b-0ea2f277795a",
    "deepnote_cell_type": "code",
    "deepnote_output_heights": [
     59.5625
    ],
    "deepnote_to_be_reexecuted": false,
    "execution_millis": 76913572,
    "execution_start": 1639648045482,
    "source_hash": "e5bf6454",
    "tags": []
   },
   "outputs": [
    {
     "data": {
      "text/plain": [
       "array(['0-300,000', '300,001-500,000', '500,001-700,000',\n",
       "       '700,001-900,000', '900,001-1,100,000', '1,100,001-1,600,000',\n",
       "       '1,600,001-2,100,000', '2,100,001+'], dtype=object)"
      ]
     },
     "execution_count": 21,
     "metadata": {},
     "output_type": "execute_result"
    }
   ],
   "source": [
    "income_groups['income_category'].unique()"
   ]
  },
  {
   "cell_type": "code",
   "execution_count": null,
   "metadata": {
    "cell_id": "00026-692f89ec-bbaa-45c6-9fba-3700d7a9ba96",
    "deepnote_cell_type": "code",
    "deepnote_to_be_reexecuted": false,
    "execution_millis": 76725813,
    "execution_start": 1639648045496,
    "source_hash": "6c4190c7",
    "tags": []
   },
   "outputs": [],
   "source": [
    "income_groups = income_groups.groupby(by=['year','income_category']).sum().reset_index()"
   ]
  },
  {
   "cell_type": "code",
   "execution_count": null,
   "metadata": {
    "cell_id": "00027-b19b5feb-7e4b-4412-ab7e-45b6d0c87b4f",
    "deepnote_cell_type": "code",
    "deepnote_output_heights": [
     328.1875
    ],
    "deepnote_to_be_reexecuted": false,
    "execution_millis": 75804267,
    "execution_start": 1639648045550,
    "source_hash": "695f5d8d",
    "tags": []
   },
   "outputs": [],
   "source": [
    "income_groups['bucket_min'] = income_groups['income_category'].str.split('-').str.get(0).str.split('+').str.get(0).str.replace(',','').astype('int')"
   ]
  },
  {
   "cell_type": "code",
   "execution_count": null,
   "metadata": {
    "cell_id": "00028-c7a8d80c-3d2c-4951-a4d4-a0b9aba61364",
    "deepnote_cell_type": "code",
    "deepnote_output_heights": [
     117.125
    ],
    "deepnote_to_be_reexecuted": false,
    "execution_millis": 75742955,
    "execution_start": 1639648045551,
    "source_hash": "ce9fc027",
    "tags": []
   },
   "outputs": [],
   "source": [
    "income_groups = income_groups.sort_values(by=['year','bucket_min'])"
   ]
  },
  {
   "cell_type": "code",
   "execution_count": null,
   "metadata": {
    "cell_id": "00029-92fdd9f8-2578-4066-a049-e14a2d14df20",
    "deepnote_cell_type": "code",
    "deepnote_to_be_reexecuted": false,
    "execution_millis": 105,
    "execution_start": 1639648045594,
    "source_hash": "77f4c12",
    "tags": []
   },
   "outputs": [
    {
     "data": {
      "application/vnd.deepnote.dataframe.v3+json": {
       "column_count": 4,
       "columns": [
        {
         "dtype": "int64",
         "name": "year",
         "stats": {
          "histogram": [
           {
            "bin_end": 2011.9,
            "bin_start": 2011,
            "count": 8
           },
           {
            "bin_end": 2012.8,
            "bin_start": 2011.9,
            "count": 0
           },
           {
            "bin_end": 2013.7,
            "bin_start": 2012.8,
            "count": 0
           },
           {
            "bin_end": 2014.6,
            "bin_start": 2013.7,
            "count": 0
           },
           {
            "bin_end": 2015.5,
            "bin_start": 2014.6,
            "count": 0
           },
           {
            "bin_end": 2016.4,
            "bin_start": 2015.5,
            "count": 0
           },
           {
            "bin_end": 2017.3,
            "bin_start": 2016.4,
            "count": 0
           },
           {
            "bin_end": 2018.2,
            "bin_start": 2017.3,
            "count": 0
           },
           {
            "bin_end": 2019.1,
            "bin_start": 2018.2,
            "count": 0
           },
           {
            "bin_end": 2020,
            "bin_start": 2019.1,
            "count": 8
           }
          ],
          "max": "2020",
          "min": "2011",
          "nan_count": 0,
          "unique_count": 2
         }
        },
        {
         "dtype": "object",
         "name": "income_category",
         "stats": {
          "categories": [
           {
            "count": 2,
            "name": "0-300,000"
           },
           {
            "count": 2,
            "name": "300,001-500,000"
           },
           {
            "count": 12,
            "name": "6 others"
           }
          ],
          "nan_count": 0,
          "unique_count": 8
         }
        },
        {
         "dtype": "float64",
         "name": "percent",
         "stats": {
          "histogram": [
           {
            "bin_end": 4.82,
            "bin_start": 1.5,
            "count": 3
           },
           {
            "bin_end": 8.14,
            "bin_start": 4.82,
            "count": 2
           },
           {
            "bin_end": 11.46,
            "bin_start": 8.14,
            "count": 4
           },
           {
            "bin_end": 14.780000000000001,
            "bin_start": 11.46,
            "count": 2
           },
           {
            "bin_end": 18.1,
            "bin_start": 14.780000000000001,
            "count": 2
           },
           {
            "bin_end": 21.42,
            "bin_start": 18.1,
            "count": 1
           },
           {
            "bin_end": 24.740000000000002,
            "bin_start": 21.42,
            "count": 1
           },
           {
            "bin_end": 28.060000000000002,
            "bin_start": 24.740000000000002,
            "count": 0
           },
           {
            "bin_end": 31.380000000000003,
            "bin_start": 28.060000000000002,
            "count": 0
           },
           {
            "bin_end": 34.7,
            "bin_start": 31.380000000000003,
            "count": 1
           }
          ],
          "max": "34.7",
          "min": "1.5",
          "nan_count": 0,
          "unique_count": 15
         }
        },
        {
         "dtype": "int64",
         "name": "bucket_min",
         "stats": {
          "histogram": [
           {
            "bin_end": 210000.1,
            "bin_start": 0,
            "count": 2
           },
           {
            "bin_end": 420000.2,
            "bin_start": 210000.1,
            "count": 2
           },
           {
            "bin_end": 630000.3,
            "bin_start": 420000.2,
            "count": 2
           },
           {
            "bin_end": 840000.4,
            "bin_start": 630000.3,
            "count": 2
           },
           {
            "bin_end": 1050000.5,
            "bin_start": 840000.4,
            "count": 2
           },
           {
            "bin_end": 1260000.6,
            "bin_start": 1050000.5,
            "count": 2
           },
           {
            "bin_end": 1470000.7,
            "bin_start": 1260000.6,
            "count": 0
           },
           {
            "bin_end": 1680000.8,
            "bin_start": 1470000.7,
            "count": 2
           },
           {
            "bin_end": 1890000.9000000001,
            "bin_start": 1680000.8,
            "count": 0
           },
           {
            "bin_end": 2100001,
            "bin_start": 1890000.9000000001,
            "count": 2
           }
          ],
          "max": "2100001",
          "min": "0",
          "nan_count": 0,
          "unique_count": 8
         }
        },
        {
         "dtype": "int64",
         "name": "_deepnote_index_column"
        }
       ],
       "row_count": 16,
       "rows": [
        {
         "_deepnote_index_column": 0,
         "bucket_min": 0,
         "income_category": "0-300,000",
         "percent": 34.7,
         "year": 2011
        },
        {
         "_deepnote_index_column": 4,
         "bucket_min": 300001,
         "income_category": "300,001-500,000",
         "percent": 24.7,
         "year": 2011
        },
        {
         "_deepnote_index_column": 5,
         "bucket_min": 500001,
         "income_category": "500,001-700,000",
         "percent": 16.1,
         "year": 2011
        },
        {
         "_deepnote_index_column": 6,
         "bucket_min": 700001,
         "income_category": "700,001-900,000",
         "percent": 9.6,
         "year": 2011
        },
        {
         "_deepnote_index_column": 7,
         "bucket_min": 900001,
         "income_category": "900,001-1,100,000",
         "percent": 5.8,
         "year": 2011
        },
        {
         "_deepnote_index_column": 1,
         "bucket_min": 1100001,
         "income_category": "1,100,001-1,600,000",
         "percent": 5.8,
         "year": 2011
        },
        {
         "_deepnote_index_column": 2,
         "bucket_min": 1600001,
         "income_category": "1,600,001-2,100,000",
         "percent": 1.8,
         "year": 2011
        },
        {
         "_deepnote_index_column": 3,
         "bucket_min": 2100001,
         "income_category": "2,100,001+",
         "percent": 1.5,
         "year": 2011
        },
        {
         "_deepnote_index_column": 8,
         "bucket_min": 0,
         "income_category": "0-300,000",
         "percent": 3.9,
         "year": 2020
        },
        {
         "_deepnote_index_column": 12,
         "bucket_min": 300001,
         "income_category": "300,001-500,000",
         "percent": 10.5,
         "year": 2020
        }
       ]
      },
      "text/html": [
       "<div>\n",
       "<style scoped>\n",
       "    .dataframe tbody tr th:only-of-type {\n",
       "        vertical-align: middle;\n",
       "    }\n",
       "\n",
       "    .dataframe tbody tr th {\n",
       "        vertical-align: top;\n",
       "    }\n",
       "\n",
       "    .dataframe thead th {\n",
       "        text-align: right;\n",
       "    }\n",
       "</style>\n",
       "<table border=\"1\" class=\"dataframe\">\n",
       "  <thead>\n",
       "    <tr style=\"text-align: right;\">\n",
       "      <th></th>\n",
       "      <th>year</th>\n",
       "      <th>income_category</th>\n",
       "      <th>percent</th>\n",
       "      <th>bucket_min</th>\n",
       "    </tr>\n",
       "  </thead>\n",
       "  <tbody>\n",
       "    <tr>\n",
       "      <th>0</th>\n",
       "      <td>2011</td>\n",
       "      <td>0-300,000</td>\n",
       "      <td>34.7</td>\n",
       "      <td>0</td>\n",
       "    </tr>\n",
       "    <tr>\n",
       "      <th>4</th>\n",
       "      <td>2011</td>\n",
       "      <td>300,001-500,000</td>\n",
       "      <td>24.7</td>\n",
       "      <td>300001</td>\n",
       "    </tr>\n",
       "    <tr>\n",
       "      <th>5</th>\n",
       "      <td>2011</td>\n",
       "      <td>500,001-700,000</td>\n",
       "      <td>16.1</td>\n",
       "      <td>500001</td>\n",
       "    </tr>\n",
       "    <tr>\n",
       "      <th>6</th>\n",
       "      <td>2011</td>\n",
       "      <td>700,001-900,000</td>\n",
       "      <td>9.6</td>\n",
       "      <td>700001</td>\n",
       "    </tr>\n",
       "    <tr>\n",
       "      <th>7</th>\n",
       "      <td>2011</td>\n",
       "      <td>900,001-1,100,000</td>\n",
       "      <td>5.8</td>\n",
       "      <td>900001</td>\n",
       "    </tr>\n",
       "    <tr>\n",
       "      <th>1</th>\n",
       "      <td>2011</td>\n",
       "      <td>1,100,001-1,600,000</td>\n",
       "      <td>5.8</td>\n",
       "      <td>1100001</td>\n",
       "    </tr>\n",
       "    <tr>\n",
       "      <th>2</th>\n",
       "      <td>2011</td>\n",
       "      <td>1,600,001-2,100,000</td>\n",
       "      <td>1.8</td>\n",
       "      <td>1600001</td>\n",
       "    </tr>\n",
       "    <tr>\n",
       "      <th>3</th>\n",
       "      <td>2011</td>\n",
       "      <td>2,100,001+</td>\n",
       "      <td>1.5</td>\n",
       "      <td>2100001</td>\n",
       "    </tr>\n",
       "    <tr>\n",
       "      <th>8</th>\n",
       "      <td>2020</td>\n",
       "      <td>0-300,000</td>\n",
       "      <td>3.9</td>\n",
       "      <td>0</td>\n",
       "    </tr>\n",
       "    <tr>\n",
       "      <th>12</th>\n",
       "      <td>2020</td>\n",
       "      <td>300,001-500,000</td>\n",
       "      <td>10.5</td>\n",
       "      <td>300001</td>\n",
       "    </tr>\n",
       "    <tr>\n",
       "      <th>13</th>\n",
       "      <td>2020</td>\n",
       "      <td>500,001-700,000</td>\n",
       "      <td>10.4</td>\n",
       "      <td>500001</td>\n",
       "    </tr>\n",
       "    <tr>\n",
       "      <th>14</th>\n",
       "      <td>2020</td>\n",
       "      <td>700,001-900,000</td>\n",
       "      <td>11.8</td>\n",
       "      <td>700001</td>\n",
       "    </tr>\n",
       "    <tr>\n",
       "      <th>15</th>\n",
       "      <td>2020</td>\n",
       "      <td>900,001-1,100,000</td>\n",
       "      <td>11.3</td>\n",
       "      <td>900001</td>\n",
       "    </tr>\n",
       "    <tr>\n",
       "      <th>9</th>\n",
       "      <td>2020</td>\n",
       "      <td>1,100,001-1,600,000</td>\n",
       "      <td>21.0</td>\n",
       "      <td>1100001</td>\n",
       "    </tr>\n",
       "    <tr>\n",
       "      <th>10</th>\n",
       "      <td>2020</td>\n",
       "      <td>1,600,001-2,100,000</td>\n",
       "      <td>13.3</td>\n",
       "      <td>1600001</td>\n",
       "    </tr>\n",
       "    <tr>\n",
       "      <th>11</th>\n",
       "      <td>2020</td>\n",
       "      <td>2,100,001+</td>\n",
       "      <td>17.8</td>\n",
       "      <td>2100001</td>\n",
       "    </tr>\n",
       "  </tbody>\n",
       "</table>\n",
       "</div>"
      ],
      "text/plain": [
       "    year      income_category  percent  bucket_min\n",
       "0   2011            0-300,000     34.7           0\n",
       "4   2011      300,001-500,000     24.7      300001\n",
       "5   2011      500,001-700,000     16.1      500001\n",
       "6   2011      700,001-900,000      9.6      700001\n",
       "7   2011    900,001-1,100,000      5.8      900001\n",
       "1   2011  1,100,001-1,600,000      5.8     1100001\n",
       "2   2011  1,600,001-2,100,000      1.8     1600001\n",
       "3   2011           2,100,001+      1.5     2100001\n",
       "8   2020            0-300,000      3.9           0\n",
       "12  2020      300,001-500,000     10.5      300001\n",
       "13  2020      500,001-700,000     10.4      500001\n",
       "14  2020      700,001-900,000     11.8      700001\n",
       "15  2020    900,001-1,100,000     11.3      900001\n",
       "9   2020  1,100,001-1,600,000     21.0     1100001\n",
       "10  2020  1,600,001-2,100,000     13.3     1600001\n",
       "11  2020           2,100,001+     17.8     2100001"
      ]
     },
     "execution_count": 25,
     "metadata": {},
     "output_type": "execute_result"
    }
   ],
   "source": [
    "income_groups"
   ]
  },
  {
   "cell_type": "code",
   "execution_count": null,
   "metadata": {
    "cell_id": "00022-8da2b065-96df-498d-83d3-c7db96c9c997",
    "deepnote_cell_type": "code",
    "deepnote_output_heights": [
     611,
     155.5,
     611
    ],
    "deepnote_to_be_reexecuted": false,
    "execution_millis": 3159,
    "execution_start": 1639648045698,
    "source_hash": "157e8b5c",
    "tags": []
   },
   "outputs": [
    {
     "data": {
      "image/png": "[encoded data removed]",
      "text/plain": [
       "<Figure size 1800x1200 with 1 Axes>"
      ]
     },
     "metadata": {
      "image/png": {
       "height": 1266,
       "width": 1686
      }
     },
     "output_type": "display_data"
    }
   ],
   "source": [
    "fig, ax = plt.subplots()\n",
    "\n",
    "x1 = income_groups[income_groups['year'] == 2011]['income_category']\n",
    "y1 = income_groups[income_groups['year'] == 2011]['percent']\n",
    "y2 = income_groups[income_groups['year'] == 2020]['percent']\n",
    "\n",
    "ax.bar(x1, y1, width=.99, alpha=.7, color='tab:red')\n",
    "ax.bar(x1, y2, width=.99, alpha=.7, color='tab:blue')\n",
    "\n",
    "# Format axes\n",
    "ax.set_xlim(-0.5, 7.5)\n",
    "ax.set_ylabel(\"Percent\")\n",
    "\n",
    "# This nice trick works with text and dates. \n",
    "fig.autofmt_xdate(rotation=45)\n",
    "\n",
    "# Set Legend\n",
    "ax.legend(['2011', '2020'], loc=(.75,1), ncol=2, frameon=False, handletextpad=.1, handleheight=1)\n",
    "\n",
    "# Set title and subtitle\n",
    "ax.text(x=0.03, y=.94, s=\"9 Years Makes a Big Difference\", transform=fig.transFigure, ha='left', fontsize=26, weight='bold', alpha=.8)\n",
    "ax.text(x=0.03, y=.90, s=\"Percent of Households by Income Bracket\", transform=fig.transFigure, ha='left', fontsize=18, alpha=.8)\n",
    "\n",
    "# Set bottom banner\n",
    "ax.text(x = 0.03, y = -0.05, s = '©Mongolian Data Stories', transform=fig.transFigure, ha='left', fontsize = 16)\n",
    "ax.text(x = .95, y = -0.05, s = 'Data Source: 1212.mn', transform=fig.transFigure, ha='right', fontsize = 16)\n",
    "plt.savefig('images/2011v2020.png', dpi = 300, bbox_inches=\"tight\")"
   ]
  },
  {
   "cell_type": "markdown",
   "metadata": {
    "cell_id": "00019-01433cfa-3c2c-43e4-8c92-7aca7a248713",
    "deepnote_cell_type": "markdown",
    "tags": []
   },
   "source": [
    "## But what about inflation?"
   ]
  },
  {
   "cell_type": "markdown",
   "metadata": {
    "cell_id": "00020-96fc497d-6594-4425-9482-e7ff0dfc3284",
    "deepnote_cell_type": "markdown",
    "tags": []
   },
   "source": [
    "Like many developing countries, inflation can be a big issue in Mongolia. Let's factor in inflation to our monthly average wage number. To do this we need to create an \"index value\". We will set 2011 to 100 as this is our starting number (we could imagine this as 100 tugriks). From there we will see how this amount would be adjusted until 2020."
   ]
  },
  {
   "cell_type": "code",
   "execution_count": null,
   "metadata": {
    "cell_id": "00021-3e531069-6da1-4f27-a4d9-e0b94464890b",
    "deepnote_cell_type": "code",
    "deepnote_to_be_reexecuted": false,
    "execution_millis": 10,
    "execution_start": 1639648048858,
    "source_hash": "29fbdc5",
    "tags": []
   },
   "outputs": [],
   "source": [
    "inflation = inflation[inflation['year'] >= 2011].reset_index(drop=True)"
   ]
  },
  {
   "cell_type": "markdown",
   "metadata": {
    "cell_id": "00037-4cc2b75f-01a6-4816-944a-550e521a7861",
    "deepnote_cell_type": "markdown"
   },
   "source": [
    "To create our index we loop through the rows and multiply the previous row by the current inflation."
   ]
  },
  {
   "cell_type": "code",
   "execution_count": null,
   "metadata": {
    "cell_id": "00038-21346afd-1a4c-433b-86d5-55b76e26c6fc",
    "deepnote_cell_type": "code",
    "deepnote_to_be_reexecuted": false,
    "execution_start": 1639648048880,
    "source_hash": "69b4eae6"
   },
   "outputs": [],
   "source": [
    "index = []\n",
    "for i, row in inflation.iterrows():\n",
    "    if len(index) == 0:\n",
    "        index.append(100)\n",
    "    else:\n",
    "        index.append(index[-1] * (row['inflation'] / 100 + 1))"
   ]
  },
  {
   "cell_type": "code",
   "execution_count": null,
   "metadata": {
    "cell_id": "00039-4d56f19c-7349-47a4-935e-3eca2fd04ba0",
    "deepnote_cell_type": "code",
    "deepnote_to_be_reexecuted": false,
    "execution_start": 1639648048894,
    "source_hash": "7f83f624"
   },
   "outputs": [],
   "source": [
    "inflation['inflation_index'] = pd.Series(index)"
   ]
  },
  {
   "cell_type": "code",
   "execution_count": null,
   "metadata": {
    "cell_id": "00040-81e3ddcf-339a-4ba0-9ada-9fbd85df31af",
    "deepnote_cell_type": "code",
    "deepnote_to_be_reexecuted": false,
    "execution_millis": 43,
    "execution_start": 1639648048908,
    "source_hash": "dbb6267c"
   },
   "outputs": [
    {
     "data": {
      "application/vnd.deepnote.dataframe.v3+json": {
       "column_count": 3,
       "columns": [
        {
         "dtype": "int64",
         "name": "year",
         "stats": {
          "histogram": [
           {
            "bin_end": 2011.9,
            "bin_start": 2011,
            "count": 1
           },
           {
            "bin_end": 2012.8,
            "bin_start": 2011.9,
            "count": 1
           },
           {
            "bin_end": 2013.7,
            "bin_start": 2012.8,
            "count": 1
           },
           {
            "bin_end": 2014.6,
            "bin_start": 2013.7,
            "count": 1
           },
           {
            "bin_end": 2015.5,
            "bin_start": 2014.6,
            "count": 1
           },
           {
            "bin_end": 2016.4,
            "bin_start": 2015.5,
            "count": 1
           },
           {
            "bin_end": 2017.3,
            "bin_start": 2016.4,
            "count": 1
           },
           {
            "bin_end": 2018.2,
            "bin_start": 2017.3,
            "count": 1
           },
           {
            "bin_end": 2019.1,
            "bin_start": 2018.2,
            "count": 1
           },
           {
            "bin_end": 2020,
            "bin_start": 2019.1,
            "count": 1
           }
          ],
          "max": "2020",
          "min": "2011",
          "nan_count": 0,
          "unique_count": 10
         }
        },
        {
         "dtype": "float64",
         "name": "inflation",
         "stats": {
          "histogram": [
           {
            "bin_end": 2.5700000000000003,
            "bin_start": 1.3,
            "count": 3
           },
           {
            "bin_end": 3.84,
            "bin_start": 2.5700000000000003,
            "count": 0
           },
           {
            "bin_end": 5.11,
            "bin_start": 3.84,
            "count": 0
           },
           {
            "bin_end": 6.38,
            "bin_start": 5.11,
            "count": 1
           },
           {
            "bin_end": 7.6499999999999995,
            "bin_start": 6.38,
            "count": 1
           },
           {
            "bin_end": 8.92,
            "bin_start": 7.6499999999999995,
            "count": 2
           },
           {
            "bin_end": 10.190000000000001,
            "bin_start": 8.92,
            "count": 0
           },
           {
            "bin_end": 11.46,
            "bin_start": 10.190000000000001,
            "count": 1
           },
           {
            "bin_end": 12.73,
            "bin_start": 11.46,
            "count": 1
           },
           {
            "bin_end": 14,
            "bin_start": 12.73,
            "count": 1
           }
          ],
          "max": "14.0",
          "min": "1.3",
          "nan_count": 0,
          "unique_count": 10
         }
        },
        {
         "dtype": "float64",
         "name": "inflation_index",
         "stats": {
          "histogram": [
           {
            "bin_end": 108.09125820095952,
            "bin_start": 100,
            "count": 1
           },
           {
            "bin_end": 116.18251640191903,
            "bin_start": 108.09125820095952,
            "count": 1
           },
           {
            "bin_end": 124.27377460287855,
            "bin_start": 116.18251640191903,
            "count": 0
           },
           {
            "bin_end": 132.36503280383806,
            "bin_start": 124.27377460287855,
            "count": 1
           },
           {
            "bin_end": 140.45629100479758,
            "bin_start": 132.36503280383806,
            "count": 0
           },
           {
            "bin_end": 148.5475492057571,
            "bin_start": 140.45629100479758,
            "count": 3
           },
           {
            "bin_end": 156.6388074067166,
            "bin_start": 148.5475492057571,
            "count": 1
           },
           {
            "bin_end": 164.73006560767612,
            "bin_start": 156.6388074067166,
            "count": 0
           },
           {
            "bin_end": 172.82132380863564,
            "bin_start": 164.73006560767612,
            "count": 1
           },
           {
            "bin_end": 180.91258200959516,
            "bin_start": 172.82132380863564,
            "count": 2
           }
          ],
          "max": "180.91258200959516",
          "min": "100.0",
          "nan_count": 0,
          "unique_count": 10
         }
        },
        {
         "dtype": "int64",
         "name": "_deepnote_index_column"
        }
       ],
       "row_count": 10,
       "rows": [
        {
         "_deepnote_index_column": 0,
         "inflation": 8.9,
         "inflation_index": 100,
         "year": 2011
        },
        {
         "_deepnote_index_column": 1,
         "inflation": 14,
         "inflation_index": 114.00000000000001,
         "year": 2012
        },
        {
         "_deepnote_index_column": 2,
         "inflation": 12.5,
         "inflation_index": 128.25000000000003,
         "year": 2013
        },
        {
         "_deepnote_index_column": 3,
         "inflation": 10.4,
         "inflation_index": 141.58800000000005,
         "year": 2014
        },
        {
         "_deepnote_index_column": 4,
         "inflation": 1.9,
         "inflation_index": 144.27817200000004,
         "year": 2015
        },
        {
         "_deepnote_index_column": 5,
         "inflation": 1.3,
         "inflation_index": 146.15378823600003,
         "year": 2016
        },
        {
         "_deepnote_index_column": 6,
         "inflation": 6.4,
         "inflation_index": 155.50763068310403,
         "year": 2017
        },
        {
         "_deepnote_index_column": 7,
         "inflation": 8.1,
         "inflation_index": 168.10374876843545,
         "year": 2018
        },
        {
         "_deepnote_index_column": 8,
         "inflation": 5.2,
         "inflation_index": 176.8451437043941,
         "year": 2019
        },
        {
         "_deepnote_index_column": 9,
         "inflation": 2.3,
         "inflation_index": 180.91258200959516,
         "year": 2020
        }
       ]
      },
      "text/html": [
       "<div>\n",
       "<style scoped>\n",
       "    .dataframe tbody tr th:only-of-type {\n",
       "        vertical-align: middle;\n",
       "    }\n",
       "\n",
       "    .dataframe tbody tr th {\n",
       "        vertical-align: top;\n",
       "    }\n",
       "\n",
       "    .dataframe thead th {\n",
       "        text-align: right;\n",
       "    }\n",
       "</style>\n",
       "<table border=\"1\" class=\"dataframe\">\n",
       "  <thead>\n",
       "    <tr style=\"text-align: right;\">\n",
       "      <th></th>\n",
       "      <th>year</th>\n",
       "      <th>inflation</th>\n",
       "      <th>inflation_index</th>\n",
       "    </tr>\n",
       "  </thead>\n",
       "  <tbody>\n",
       "    <tr>\n",
       "      <th>0</th>\n",
       "      <td>2011</td>\n",
       "      <td>8.9</td>\n",
       "      <td>100.000000</td>\n",
       "    </tr>\n",
       "    <tr>\n",
       "      <th>1</th>\n",
       "      <td>2012</td>\n",
       "      <td>14.0</td>\n",
       "      <td>114.000000</td>\n",
       "    </tr>\n",
       "    <tr>\n",
       "      <th>2</th>\n",
       "      <td>2013</td>\n",
       "      <td>12.5</td>\n",
       "      <td>128.250000</td>\n",
       "    </tr>\n",
       "    <tr>\n",
       "      <th>3</th>\n",
       "      <td>2014</td>\n",
       "      <td>10.4</td>\n",
       "      <td>141.588000</td>\n",
       "    </tr>\n",
       "    <tr>\n",
       "      <th>4</th>\n",
       "      <td>2015</td>\n",
       "      <td>1.9</td>\n",
       "      <td>144.278172</td>\n",
       "    </tr>\n",
       "    <tr>\n",
       "      <th>5</th>\n",
       "      <td>2016</td>\n",
       "      <td>1.3</td>\n",
       "      <td>146.153788</td>\n",
       "    </tr>\n",
       "    <tr>\n",
       "      <th>6</th>\n",
       "      <td>2017</td>\n",
       "      <td>6.4</td>\n",
       "      <td>155.507631</td>\n",
       "    </tr>\n",
       "    <tr>\n",
       "      <th>7</th>\n",
       "      <td>2018</td>\n",
       "      <td>8.1</td>\n",
       "      <td>168.103749</td>\n",
       "    </tr>\n",
       "    <tr>\n",
       "      <th>8</th>\n",
       "      <td>2019</td>\n",
       "      <td>5.2</td>\n",
       "      <td>176.845144</td>\n",
       "    </tr>\n",
       "    <tr>\n",
       "      <th>9</th>\n",
       "      <td>2020</td>\n",
       "      <td>2.3</td>\n",
       "      <td>180.912582</td>\n",
       "    </tr>\n",
       "  </tbody>\n",
       "</table>\n",
       "</div>"
      ],
      "text/plain": [
       "   year  inflation  inflation_index\n",
       "0  2011        8.9       100.000000\n",
       "1  2012       14.0       114.000000\n",
       "2  2013       12.5       128.250000\n",
       "3  2014       10.4       141.588000\n",
       "4  2015        1.9       144.278172\n",
       "5  2016        1.3       146.153788\n",
       "6  2017        6.4       155.507631\n",
       "7  2018        8.1       168.103749\n",
       "8  2019        5.2       176.845144\n",
       "9  2020        2.3       180.912582"
      ]
     },
     "execution_count": 30,
     "metadata": {},
     "output_type": "execute_result"
    }
   ],
   "source": [
    "inflation"
   ]
  },
  {
   "cell_type": "markdown",
   "metadata": {
    "cell_id": "00041-d1032d26-2eab-4a92-b2cd-c4e8a7609ea8",
    "deepnote_cell_type": "markdown"
   },
   "source": [
    "Now we can merge this with the average wage data."
   ]
  },
  {
   "cell_type": "code",
   "execution_count": null,
   "metadata": {
    "cell_id": "00042-c8e4cc7e-ab90-4c18-92ae-7cf50dbe6c4f",
    "deepnote_cell_type": "code",
    "deepnote_to_be_reexecuted": false,
    "execution_millis": 8,
    "execution_start": 1639648048965,
    "source_hash": "ace0de55"
   },
   "outputs": [],
   "source": [
    "inflation = inflation.merge(wages, on='year', how='left')"
   ]
  },
  {
   "cell_type": "markdown",
   "metadata": {
    "cell_id": "00043-192107ef-f575-482e-8af6-96124540074b",
    "deepnote_cell_type": "markdown"
   },
   "source": [
    "We are missing data for 2013. We will take the average of 2012 and 2014 and impute that for 2013. "
   ]
  },
  {
   "cell_type": "code",
   "execution_count": null,
   "metadata": {
    "cell_id": "00044-8f6e71a4-17f2-40c9-b0d0-6d375abde9db",
    "deepnote_cell_type": "code",
    "deepnote_to_be_reexecuted": false,
    "execution_millis": 0,
    "execution_start": 1639648049018,
    "source_hash": "6b771a8c"
   },
   "outputs": [],
   "source": [
    "inflation.loc[2, 'avg_wage'] = inflation.iloc[1:4]['avg_wage'].mean()"
   ]
  },
  {
   "cell_type": "code",
   "execution_count": null,
   "metadata": {
    "cell_id": "00045-c0f69836-0d06-4317-ada8-b73c943a1dc0",
    "deepnote_cell_type": "code",
    "deepnote_to_be_reexecuted": false,
    "execution_millis": 54,
    "execution_start": 1639648049019,
    "source_hash": "6f9bbf2e"
   },
   "outputs": [
    {
     "data": {
      "application/vnd.deepnote.dataframe.v3+json": {
       "column_count": 4,
       "columns": [
        {
         "dtype": "int64",
         "name": "year",
         "stats": {
          "histogram": [
           {
            "bin_end": 2011.4,
            "bin_start": 2011,
            "count": 1
           },
           {
            "bin_end": 2011.8,
            "bin_start": 2011.4,
            "count": 0
           },
           {
            "bin_end": 2012.2,
            "bin_start": 2011.8,
            "count": 1
           },
           {
            "bin_end": 2012.6,
            "bin_start": 2012.2,
            "count": 0
           },
           {
            "bin_end": 2013,
            "bin_start": 2012.6,
            "count": 0
           },
           {
            "bin_end": 2013.4,
            "bin_start": 2013,
            "count": 1
           },
           {
            "bin_end": 2013.8,
            "bin_start": 2013.4,
            "count": 0
           },
           {
            "bin_end": 2014.2,
            "bin_start": 2013.8,
            "count": 1
           },
           {
            "bin_end": 2014.6,
            "bin_start": 2014.2,
            "count": 0
           },
           {
            "bin_end": 2015,
            "bin_start": 2014.6,
            "count": 1
           }
          ],
          "max": "2015",
          "min": "2011",
          "nan_count": 0,
          "unique_count": 5
         }
        },
        {
         "dtype": "float64",
         "name": "inflation",
         "stats": {
          "histogram": [
           {
            "bin_end": 3.11,
            "bin_start": 1.9,
            "count": 1
           },
           {
            "bin_end": 4.32,
            "bin_start": 3.11,
            "count": 0
           },
           {
            "bin_end": 5.529999999999999,
            "bin_start": 4.32,
            "count": 0
           },
           {
            "bin_end": 6.74,
            "bin_start": 5.529999999999999,
            "count": 0
           },
           {
            "bin_end": 7.949999999999999,
            "bin_start": 6.74,
            "count": 0
           },
           {
            "bin_end": 9.16,
            "bin_start": 7.949999999999999,
            "count": 1
           },
           {
            "bin_end": 10.37,
            "bin_start": 9.16,
            "count": 0
           },
           {
            "bin_end": 11.58,
            "bin_start": 10.37,
            "count": 1
           },
           {
            "bin_end": 12.790000000000001,
            "bin_start": 11.58,
            "count": 1
           },
           {
            "bin_end": 14,
            "bin_start": 12.790000000000001,
            "count": 1
           }
          ],
          "max": "14.0",
          "min": "1.9",
          "nan_count": 0,
          "unique_count": 5
         }
        },
        {
         "dtype": "float64",
         "name": "inflation_index",
         "stats": {
          "histogram": [
           {
            "bin_end": 104.4278172,
            "bin_start": 100,
            "count": 1
           },
           {
            "bin_end": 108.85563440000001,
            "bin_start": 104.4278172,
            "count": 0
           },
           {
            "bin_end": 113.2834516,
            "bin_start": 108.85563440000001,
            "count": 0
           },
           {
            "bin_end": 117.71126880000001,
            "bin_start": 113.2834516,
            "count": 1
           },
           {
            "bin_end": 122.13908600000002,
            "bin_start": 117.71126880000001,
            "count": 0
           },
           {
            "bin_end": 126.56690320000003,
            "bin_start": 122.13908600000002,
            "count": 0
           },
           {
            "bin_end": 130.99472040000003,
            "bin_start": 126.56690320000003,
            "count": 1
           },
           {
            "bin_end": 135.42253760000003,
            "bin_start": 130.99472040000003,
            "count": 0
           },
           {
            "bin_end": 139.85035480000005,
            "bin_start": 135.42253760000003,
            "count": 0
           },
           {
            "bin_end": 144.27817200000004,
            "bin_start": 139.85035480000005,
            "count": 2
           }
          ],
          "max": "144.27817200000004",
          "min": "100.0",
          "nan_count": 0,
          "unique_count": 5
         }
        },
        {
         "dtype": "float64",
         "name": "avg_wage",
         "stats": {
          "histogram": [
           {
            "bin_end": 462.58,
            "bin_start": 424.2,
            "count": 1
           },
           {
            "bin_end": 500.96,
            "bin_start": 462.58,
            "count": 0
           },
           {
            "bin_end": 539.34,
            "bin_start": 500.96,
            "count": 0
           },
           {
            "bin_end": 577.72,
            "bin_start": 539.34,
            "count": 1
           },
           {
            "bin_end": 616.1,
            "bin_start": 577.72,
            "count": 0
           },
           {
            "bin_end": 654.48,
            "bin_start": 616.1,
            "count": 0
           },
           {
            "bin_end": 692.86,
            "bin_start": 654.48,
            "count": 1
           },
           {
            "bin_end": 731.24,
            "bin_start": 692.86,
            "count": 0
           },
           {
            "bin_end": 769.62,
            "bin_start": 731.24,
            "count": 0
           },
           {
            "bin_end": 808,
            "bin_start": 769.62,
            "count": 2
           }
          ],
          "max": "808.0",
          "min": "424.2",
          "nan_count": 0,
          "unique_count": 5
         }
        },
        {
         "dtype": "int64",
         "name": "_deepnote_index_column"
        }
       ],
       "row_count": 5,
       "rows": [
        {
         "_deepnote_index_column": 0,
         "avg_wage": 424.2,
         "inflation": 8.9,
         "inflation_index": 100,
         "year": 2011
        },
        {
         "_deepnote_index_column": 1,
         "avg_wage": 557.6,
         "inflation": 14,
         "inflation_index": 114.00000000000001,
         "year": 2012
        },
        {
         "_deepnote_index_column": 2,
         "avg_wage": 677.1,
         "inflation": 12.5,
         "inflation_index": 128.25000000000003,
         "year": 2013
        },
        {
         "_deepnote_index_column": 3,
         "avg_wage": 796.6,
         "inflation": 10.4,
         "inflation_index": 141.58800000000005,
         "year": 2014
        },
        {
         "_deepnote_index_column": 4,
         "avg_wage": 808,
         "inflation": 1.9,
         "inflation_index": 144.27817200000004,
         "year": 2015
        }
       ]
      },
      "text/html": [
       "<div>\n",
       "<style scoped>\n",
       "    .dataframe tbody tr th:only-of-type {\n",
       "        vertical-align: middle;\n",
       "    }\n",
       "\n",
       "    .dataframe tbody tr th {\n",
       "        vertical-align: top;\n",
       "    }\n",
       "\n",
       "    .dataframe thead th {\n",
       "        text-align: right;\n",
       "    }\n",
       "</style>\n",
       "<table border=\"1\" class=\"dataframe\">\n",
       "  <thead>\n",
       "    <tr style=\"text-align: right;\">\n",
       "      <th></th>\n",
       "      <th>year</th>\n",
       "      <th>inflation</th>\n",
       "      <th>inflation_index</th>\n",
       "      <th>avg_wage</th>\n",
       "    </tr>\n",
       "  </thead>\n",
       "  <tbody>\n",
       "    <tr>\n",
       "      <th>0</th>\n",
       "      <td>2011</td>\n",
       "      <td>8.9</td>\n",
       "      <td>100.000000</td>\n",
       "      <td>424.2</td>\n",
       "    </tr>\n",
       "    <tr>\n",
       "      <th>1</th>\n",
       "      <td>2012</td>\n",
       "      <td>14.0</td>\n",
       "      <td>114.000000</td>\n",
       "      <td>557.6</td>\n",
       "    </tr>\n",
       "    <tr>\n",
       "      <th>2</th>\n",
       "      <td>2013</td>\n",
       "      <td>12.5</td>\n",
       "      <td>128.250000</td>\n",
       "      <td>677.1</td>\n",
       "    </tr>\n",
       "    <tr>\n",
       "      <th>3</th>\n",
       "      <td>2014</td>\n",
       "      <td>10.4</td>\n",
       "      <td>141.588000</td>\n",
       "      <td>796.6</td>\n",
       "    </tr>\n",
       "    <tr>\n",
       "      <th>4</th>\n",
       "      <td>2015</td>\n",
       "      <td>1.9</td>\n",
       "      <td>144.278172</td>\n",
       "      <td>808.0</td>\n",
       "    </tr>\n",
       "  </tbody>\n",
       "</table>\n",
       "</div>"
      ],
      "text/plain": [
       "   year  inflation  inflation_index  avg_wage\n",
       "0  2011        8.9       100.000000     424.2\n",
       "1  2012       14.0       114.000000     557.6\n",
       "2  2013       12.5       128.250000     677.1\n",
       "3  2014       10.4       141.588000     796.6\n",
       "4  2015        1.9       144.278172     808.0"
      ]
     },
     "execution_count": 33,
     "metadata": {},
     "output_type": "execute_result"
    }
   ],
   "source": [
    "inflation.head()"
   ]
  },
  {
   "cell_type": "markdown",
   "metadata": {
    "cell_id": "00046-ec17f68b-f069-4129-a29a-75a8ab0a24f3",
    "deepnote_cell_type": "markdown"
   },
   "source": [
    "Now that we have our data together, we can rebalance the average wage column to put it into \"2011\" Tugriks. We will use a simple inflation adjustment calculation to do this."
   ]
  },
  {
   "cell_type": "code",
   "execution_count": null,
   "metadata": {
    "cell_id": "00047-8fde1d78-bfbd-4d5c-8b71-bb854076d6e8",
    "deepnote_cell_type": "code",
    "deepnote_to_be_reexecuted": false,
    "execution_millis": 10,
    "execution_start": 1639648049074,
    "source_hash": "98c2db3b"
   },
   "outputs": [],
   "source": [
    "inflation['inflation_adj'] = inflation['avg_wage'] / inflation['inflation_index'] * 100"
   ]
  },
  {
   "cell_type": "code",
   "execution_count": null,
   "metadata": {
    "cell_id": "00048-8ec9a4ab-606f-4451-950e-134b7c91f769",
    "deepnote_cell_type": "code",
    "deepnote_to_be_reexecuted": false,
    "execution_millis": 63,
    "execution_start": 1639648049092,
    "source_hash": "dbb6267c"
   },
   "outputs": [
    {
     "data": {
      "application/vnd.deepnote.dataframe.v3+json": {
       "column_count": 5,
       "columns": [
        {
         "dtype": "int64",
         "name": "year",
         "stats": {
          "histogram": [
           {
            "bin_end": 2011.9,
            "bin_start": 2011,
            "count": 1
           },
           {
            "bin_end": 2012.8,
            "bin_start": 2011.9,
            "count": 1
           },
           {
            "bin_end": 2013.7,
            "bin_start": 2012.8,
            "count": 1
           },
           {
            "bin_end": 2014.6,
            "bin_start": 2013.7,
            "count": 1
           },
           {
            "bin_end": 2015.5,
            "bin_start": 2014.6,
            "count": 1
           },
           {
            "bin_end": 2016.4,
            "bin_start": 2015.5,
            "count": 1
           },
           {
            "bin_end": 2017.3,
            "bin_start": 2016.4,
            "count": 1
           },
           {
            "bin_end": 2018.2,
            "bin_start": 2017.3,
            "count": 1
           },
           {
            "bin_end": 2019.1,
            "bin_start": 2018.2,
            "count": 1
           },
           {
            "bin_end": 2020,
            "bin_start": 2019.1,
            "count": 1
           }
          ],
          "max": "2020",
          "min": "2011",
          "nan_count": 0,
          "unique_count": 10
         }
        },
        {
         "dtype": "float64",
         "name": "inflation",
         "stats": {
          "histogram": [
           {
            "bin_end": 2.5700000000000003,
            "bin_start": 1.3,
            "count": 3
           },
           {
            "bin_end": 3.84,
            "bin_start": 2.5700000000000003,
            "count": 0
           },
           {
            "bin_end": 5.11,
            "bin_start": 3.84,
            "count": 0
           },
           {
            "bin_end": 6.38,
            "bin_start": 5.11,
            "count": 1
           },
           {
            "bin_end": 7.6499999999999995,
            "bin_start": 6.38,
            "count": 1
           },
           {
            "bin_end": 8.92,
            "bin_start": 7.6499999999999995,
            "count": 2
           },
           {
            "bin_end": 10.190000000000001,
            "bin_start": 8.92,
            "count": 0
           },
           {
            "bin_end": 11.46,
            "bin_start": 10.190000000000001,
            "count": 1
           },
           {
            "bin_end": 12.73,
            "bin_start": 11.46,
            "count": 1
           },
           {
            "bin_end": 14,
            "bin_start": 12.73,
            "count": 1
           }
          ],
          "max": "14.0",
          "min": "1.3",
          "nan_count": 0,
          "unique_count": 10
         }
        },
        {
         "dtype": "float64",
         "name": "inflation_index",
         "stats": {
          "histogram": [
           {
            "bin_end": 108.09125820095952,
            "bin_start": 100,
            "count": 1
           },
           {
            "bin_end": 116.18251640191903,
            "bin_start": 108.09125820095952,
            "count": 1
           },
           {
            "bin_end": 124.27377460287855,
            "bin_start": 116.18251640191903,
            "count": 0
           },
           {
            "bin_end": 132.36503280383806,
            "bin_start": 124.27377460287855,
            "count": 1
           },
           {
            "bin_end": 140.45629100479758,
            "bin_start": 132.36503280383806,
            "count": 0
           },
           {
            "bin_end": 148.5475492057571,
            "bin_start": 140.45629100479758,
            "count": 3
           },
           {
            "bin_end": 156.6388074067166,
            "bin_start": 148.5475492057571,
            "count": 1
           },
           {
            "bin_end": 164.73006560767612,
            "bin_start": 156.6388074067166,
            "count": 0
           },
           {
            "bin_end": 172.82132380863564,
            "bin_start": 164.73006560767612,
            "count": 1
           },
           {
            "bin_end": 180.91258200959516,
            "bin_start": 172.82132380863564,
            "count": 2
           }
          ],
          "max": "180.91258200959516",
          "min": "100.0",
          "nan_count": 0,
          "unique_count": 10
         }
        },
        {
         "dtype": "float64",
         "name": "avg_wage",
         "stats": {
          "histogram": [
           {
            "bin_end": 503.84,
            "bin_start": 424.2,
            "count": 1
           },
           {
            "bin_end": 583.48,
            "bin_start": 503.84,
            "count": 1
           },
           {
            "bin_end": 663.1199999999999,
            "bin_start": 583.48,
            "count": 0
           },
           {
            "bin_end": 742.76,
            "bin_start": 663.1199999999999,
            "count": 1
           },
           {
            "bin_end": 822.3999999999999,
            "bin_start": 742.76,
            "count": 2
           },
           {
            "bin_end": 902.04,
            "bin_start": 822.3999999999999,
            "count": 1
           },
           {
            "bin_end": 981.6799999999998,
            "bin_start": 902.04,
            "count": 1
           },
           {
            "bin_end": 1061.32,
            "bin_start": 981.6799999999998,
            "count": 1
           },
           {
            "bin_end": 1140.9599999999998,
            "bin_start": 1061.32,
            "count": 1
           },
           {
            "bin_end": 1220.6,
            "bin_start": 1140.9599999999998,
            "count": 1
           }
          ],
          "max": "1220.6",
          "min": "424.2",
          "nan_count": 0,
          "unique_count": 10
         }
        },
        {
         "dtype": "float64",
         "name": "inflation_adj",
         "stats": {
          "histogram": [
           {
            "bin_end": 449.2490497720751,
            "bin_start": 424.2,
            "count": 1
           },
           {
            "bin_end": 474.29809954415026,
            "bin_start": 449.2490497720751,
            "count": 0
           },
           {
            "bin_end": 499.34714931622534,
            "bin_start": 474.29809954415026,
            "count": 1
           },
           {
            "bin_end": 524.3961990883005,
            "bin_start": 499.34714931622534,
            "count": 0
           },
           {
            "bin_end": 549.4452488603756,
            "bin_start": 524.3961990883005,
            "count": 1
           },
           {
            "bin_end": 574.4942986324508,
            "bin_start": 549.4452488603756,
            "count": 2
           },
           {
            "bin_end": 599.5433484045259,
            "bin_start": 574.4942986324508,
            "count": 2
           },
           {
            "bin_end": 624.592398176601,
            "bin_start": 599.5433484045259,
            "count": 1
           },
           {
            "bin_end": 649.6414479486762,
            "bin_start": 624.592398176601,
            "count": 1
           },
           {
            "bin_end": 674.6904977207513,
            "bin_start": 649.6414479486762,
            "count": 1
           }
          ],
          "max": "674.6904977207513",
          "min": "424.2",
          "nan_count": 0,
          "unique_count": 10
         }
        },
        {
         "dtype": "int64",
         "name": "_deepnote_index_column"
        }
       ],
       "row_count": 10,
       "rows": [
        {
         "_deepnote_index_column": 0,
         "avg_wage": 424.2,
         "inflation": 8.9,
         "inflation_adj": 424.2,
         "inflation_index": 100,
         "year": 2011
        },
        {
         "_deepnote_index_column": 1,
         "avg_wage": 557.6,
         "inflation": 14,
         "inflation_adj": 489.1228070175438,
         "inflation_index": 114.00000000000001,
         "year": 2012
        },
        {
         "_deepnote_index_column": 2,
         "avg_wage": 677.1,
         "inflation": 12.5,
         "inflation_adj": 527.9532163742689,
         "inflation_index": 128.25000000000003,
         "year": 2013
        },
        {
         "_deepnote_index_column": 3,
         "avg_wage": 796.6,
         "inflation": 10.4,
         "inflation_adj": 562.6183009859591,
         "inflation_index": 141.58800000000005,
         "year": 2014
        },
        {
         "_deepnote_index_column": 4,
         "avg_wage": 808,
         "inflation": 1.9,
         "inflation_adj": 560.0292745599797,
         "inflation_index": 144.27817200000004,
         "year": 2015
        },
        {
         "_deepnote_index_column": 5,
         "avg_wage": 861.9,
         "inflation": 1.3,
         "inflation_adj": 589.7212863263302,
         "inflation_index": 146.15378823600003,
         "year": 2016
        },
        {
         "_deepnote_index_column": 6,
         "avg_wage": 944.5,
         "inflation": 6.4,
         "inflation_adj": 607.3656937933274,
         "inflation_index": 155.50763068310403,
         "year": 2017
        },
        {
         "_deepnote_index_column": 7,
         "avg_wage": 1002.9,
         "inflation": 8.1,
         "inflation_adj": 596.5958566346455,
         "inflation_index": 168.10374876843545,
         "year": 2018
        },
        {
         "_deepnote_index_column": 8,
         "avg_wage": 1124.3,
         "inflation": 5.2,
         "inflation_adj": 635.753957642923,
         "inflation_index": 176.8451437043941,
         "year": 2019
        },
        {
         "_deepnote_index_column": 9,
         "avg_wage": 1220.6,
         "inflation": 2.3,
         "inflation_adj": 674.6904977207513,
         "inflation_index": 180.91258200959516,
         "year": 2020
        }
       ]
      },
      "text/html": [
       "<div>\n",
       "<style scoped>\n",
       "    .dataframe tbody tr th:only-of-type {\n",
       "        vertical-align: middle;\n",
       "    }\n",
       "\n",
       "    .dataframe tbody tr th {\n",
       "        vertical-align: top;\n",
       "    }\n",
       "\n",
       "    .dataframe thead th {\n",
       "        text-align: right;\n",
       "    }\n",
       "</style>\n",
       "<table border=\"1\" class=\"dataframe\">\n",
       "  <thead>\n",
       "    <tr style=\"text-align: right;\">\n",
       "      <th></th>\n",
       "      <th>year</th>\n",
       "      <th>inflation</th>\n",
       "      <th>inflation_index</th>\n",
       "      <th>avg_wage</th>\n",
       "      <th>inflation_adj</th>\n",
       "    </tr>\n",
       "  </thead>\n",
       "  <tbody>\n",
       "    <tr>\n",
       "      <th>0</th>\n",
       "      <td>2011</td>\n",
       "      <td>8.9</td>\n",
       "      <td>100.000000</td>\n",
       "      <td>424.2</td>\n",
       "      <td>424.200000</td>\n",
       "    </tr>\n",
       "    <tr>\n",
       "      <th>1</th>\n",
       "      <td>2012</td>\n",
       "      <td>14.0</td>\n",
       "      <td>114.000000</td>\n",
       "      <td>557.6</td>\n",
       "      <td>489.122807</td>\n",
       "    </tr>\n",
       "    <tr>\n",
       "      <th>2</th>\n",
       "      <td>2013</td>\n",
       "      <td>12.5</td>\n",
       "      <td>128.250000</td>\n",
       "      <td>677.1</td>\n",
       "      <td>527.953216</td>\n",
       "    </tr>\n",
       "    <tr>\n",
       "      <th>3</th>\n",
       "      <td>2014</td>\n",
       "      <td>10.4</td>\n",
       "      <td>141.588000</td>\n",
       "      <td>796.6</td>\n",
       "      <td>562.618301</td>\n",
       "    </tr>\n",
       "    <tr>\n",
       "      <th>4</th>\n",
       "      <td>2015</td>\n",
       "      <td>1.9</td>\n",
       "      <td>144.278172</td>\n",
       "      <td>808.0</td>\n",
       "      <td>560.029275</td>\n",
       "    </tr>\n",
       "    <tr>\n",
       "      <th>5</th>\n",
       "      <td>2016</td>\n",
       "      <td>1.3</td>\n",
       "      <td>146.153788</td>\n",
       "      <td>861.9</td>\n",
       "      <td>589.721286</td>\n",
       "    </tr>\n",
       "    <tr>\n",
       "      <th>6</th>\n",
       "      <td>2017</td>\n",
       "      <td>6.4</td>\n",
       "      <td>155.507631</td>\n",
       "      <td>944.5</td>\n",
       "      <td>607.365694</td>\n",
       "    </tr>\n",
       "    <tr>\n",
       "      <th>7</th>\n",
       "      <td>2018</td>\n",
       "      <td>8.1</td>\n",
       "      <td>168.103749</td>\n",
       "      <td>1002.9</td>\n",
       "      <td>596.595857</td>\n",
       "    </tr>\n",
       "    <tr>\n",
       "      <th>8</th>\n",
       "      <td>2019</td>\n",
       "      <td>5.2</td>\n",
       "      <td>176.845144</td>\n",
       "      <td>1124.3</td>\n",
       "      <td>635.753958</td>\n",
       "    </tr>\n",
       "    <tr>\n",
       "      <th>9</th>\n",
       "      <td>2020</td>\n",
       "      <td>2.3</td>\n",
       "      <td>180.912582</td>\n",
       "      <td>1220.6</td>\n",
       "      <td>674.690498</td>\n",
       "    </tr>\n",
       "  </tbody>\n",
       "</table>\n",
       "</div>"
      ],
      "text/plain": [
       "   year  inflation  inflation_index  avg_wage  inflation_adj\n",
       "0  2011        8.9       100.000000     424.2     424.200000\n",
       "1  2012       14.0       114.000000     557.6     489.122807\n",
       "2  2013       12.5       128.250000     677.1     527.953216\n",
       "3  2014       10.4       141.588000     796.6     562.618301\n",
       "4  2015        1.9       144.278172     808.0     560.029275\n",
       "5  2016        1.3       146.153788     861.9     589.721286\n",
       "6  2017        6.4       155.507631     944.5     607.365694\n",
       "7  2018        8.1       168.103749    1002.9     596.595857\n",
       "8  2019        5.2       176.845144    1124.3     635.753958\n",
       "9  2020        2.3       180.912582    1220.6     674.690498"
      ]
     },
     "execution_count": 35,
     "metadata": {},
     "output_type": "execute_result"
    }
   ],
   "source": [
    "inflation"
   ]
  },
  {
   "cell_type": "markdown",
   "metadata": {
    "cell_id": "00049-c7a56538-763d-4ba0-97f6-d51f511fc8ef",
    "deepnote_cell_type": "markdown"
   },
   "source": [
    "This function remakes our currency values to have the K and M suffix (K for thousands and M for millions). [Adapted from Jie Jenn](https://www.youtube.com/watch?v=l-j9Mmi7VPk)."
   ]
  },
  {
   "cell_type": "code",
   "execution_count": null,
   "metadata": {
    "cell_id": "00050-ef3c4c40-abbd-4c05-b910-a39366a7151c",
    "deepnote_cell_type": "code",
    "deepnote_to_be_reexecuted": false,
    "execution_millis": 0,
    "execution_start": 1639648049202,
    "source_hash": "7411ff6d"
   },
   "outputs": [],
   "source": [
    "def format_number(data_value, indx):\n",
    "    if data_value >= 1_000:\n",
    "        formatter = '{:1.1f}M'.format(data_value*0.001)\n",
    "    else:\n",
    "        formatter = '{:1.0f}K'.format(data_value)\n",
    "    return formatter"
   ]
  },
  {
   "cell_type": "code",
   "execution_count": null,
   "metadata": {
    "cell_id": "00051-83f092ea-6a4a-4418-a17e-a23e879eb67c",
    "deepnote_cell_type": "code",
    "deepnote_output_heights": [
     611
    ],
    "deepnote_to_be_reexecuted": false,
    "execution_millis": 2998,
    "execution_start": 1639648049212,
    "source_hash": "77200787"
   },
   "outputs": [
    {
     "data": {
      "image/png": "[encoded data removed]",
      "text/plain": [
       "<Figure size 1800x1200 with 1 Axes>"
      ]
     },
     "metadata": {
      "image/png": {
       "height": 1266,
       "width": 1722
      }
     },
     "output_type": "display_data"
    }
   ],
   "source": [
    "fig, ax = plt.subplots()\n",
    "\n",
    "ax.plot(inflation['year'], inflation['avg_wage'], color='tab:blue')\n",
    "ax.plot(inflation['year'], inflation['inflation_adj'], color='tab:red')\n",
    "\n",
    "ax.set_ylim(250,1_300)\n",
    "ax.set_xlim(2011, 2020)\n",
    "\n",
    "# Add grid\n",
    "ax.grid(axis='y', alpha=.7)\n",
    "\n",
    "# Relabel y-axis to give pretty numbers\n",
    "ax.yaxis.set_major_formatter(format_number)\n",
    "\n",
    "# Add labels\n",
    "ax.text(x = .29, y=.53, s='Monthly Average Wages', transform=fig.transFigure, fontsize = 16, color='tab:blue')\n",
    "ax.text(x = .6, y=.37, s='Adjusted for Inflation', transform=fig.transFigure, fontsize = 16, color='tab:red')\n",
    "\n",
    "# Set title and subtitle\n",
    "ax.text(x=0.03, y=.94, s=\"100k ain't what it used to be\", transform=fig.transFigure, ha='left', fontsize=26, weight='bold', alpha=.8)\n",
    "ax.text(x=0.03, y=.90, s=\"Monthly average wages in Mongolia, raw and adjusted for inflation\", transform=fig.transFigure, ha='left', fontsize=18, alpha=.8)\n",
    "\n",
    "# Set bottom banner\n",
    "ax.text(x = 0.03, y = -0.05, s = '©Mongolian Data Stories', transform=fig.transFigure, ha='left', fontsize = 16)\n",
    "ax.text(x = .95, y = -0.05, s = 'Data Source: 1212.mn', transform=fig.transFigure, ha='right', fontsize = 16)\n",
    "plt.savefig('images/inflation_adjusted_wages.png', dpi = 300, bbox_inches=\"tight\")"
   ]
  },
  {
   "cell_type": "markdown",
   "metadata": {
    "cell_id": "00022-e539f589-6ee9-47ae-a6ee-c422da2fa04b",
    "deepnote_cell_type": "markdown",
    "tags": []
   },
   "source": [
    "## Realigning our thoughts on wages."
   ]
  },
  {
   "cell_type": "markdown",
   "metadata": {
    "cell_id": "00023-7e770ad0-b2cf-4778-a51a-e2a16de0ea89",
    "deepnote_cell_type": "markdown",
    "tags": []
   },
   "source": [
    "Given that we know that 300,000 in 2011 was worth quite a lot more today, let's realign our income distribution plot above to be in 2011 tugriks."
   ]
  },
  {
   "cell_type": "code",
   "execution_count": null,
   "metadata": {
    "cell_id": "00054-38f4a457-1af6-4c3f-86f1-22362ea6e490",
    "deepnote_cell_type": "code",
    "deepnote_to_be_reexecuted": false,
    "execution_millis": 17,
    "execution_start": 1639648052276,
    "source_hash": "dbb6267c"
   },
   "outputs": [
    {
     "data": {
      "application/vnd.deepnote.dataframe.v3+json": {
       "column_count": 5,
       "columns": [
        {
         "dtype": "int64",
         "name": "year",
         "stats": {
          "histogram": [
           {
            "bin_end": 2011.9,
            "bin_start": 2011,
            "count": 1
           },
           {
            "bin_end": 2012.8,
            "bin_start": 2011.9,
            "count": 1
           },
           {
            "bin_end": 2013.7,
            "bin_start": 2012.8,
            "count": 1
           },
           {
            "bin_end": 2014.6,
            "bin_start": 2013.7,
            "count": 1
           },
           {
            "bin_end": 2015.5,
            "bin_start": 2014.6,
            "count": 1
           },
           {
            "bin_end": 2016.4,
            "bin_start": 2015.5,
            "count": 1
           },
           {
            "bin_end": 2017.3,
            "bin_start": 2016.4,
            "count": 1
           },
           {
            "bin_end": 2018.2,
            "bin_start": 2017.3,
            "count": 1
           },
           {
            "bin_end": 2019.1,
            "bin_start": 2018.2,
            "count": 1
           },
           {
            "bin_end": 2020,
            "bin_start": 2019.1,
            "count": 1
           }
          ],
          "max": "2020",
          "min": "2011",
          "nan_count": 0,
          "unique_count": 10
         }
        },
        {
         "dtype": "float64",
         "name": "inflation",
         "stats": {
          "histogram": [
           {
            "bin_end": 2.5700000000000003,
            "bin_start": 1.3,
            "count": 3
           },
           {
            "bin_end": 3.84,
            "bin_start": 2.5700000000000003,
            "count": 0
           },
           {
            "bin_end": 5.11,
            "bin_start": 3.84,
            "count": 0
           },
           {
            "bin_end": 6.38,
            "bin_start": 5.11,
            "count": 1
           },
           {
            "bin_end": 7.6499999999999995,
            "bin_start": 6.38,
            "count": 1
           },
           {
            "bin_end": 8.92,
            "bin_start": 7.6499999999999995,
            "count": 2
           },
           {
            "bin_end": 10.190000000000001,
            "bin_start": 8.92,
            "count": 0
           },
           {
            "bin_end": 11.46,
            "bin_start": 10.190000000000001,
            "count": 1
           },
           {
            "bin_end": 12.73,
            "bin_start": 11.46,
            "count": 1
           },
           {
            "bin_end": 14,
            "bin_start": 12.73,
            "count": 1
           }
          ],
          "max": "14.0",
          "min": "1.3",
          "nan_count": 0,
          "unique_count": 10
         }
        },
        {
         "dtype": "float64",
         "name": "inflation_index",
         "stats": {
          "histogram": [
           {
            "bin_end": 108.09125820095952,
            "bin_start": 100,
            "count": 1
           },
           {
            "bin_end": 116.18251640191903,
            "bin_start": 108.09125820095952,
            "count": 1
           },
           {
            "bin_end": 124.27377460287855,
            "bin_start": 116.18251640191903,
            "count": 0
           },
           {
            "bin_end": 132.36503280383806,
            "bin_start": 124.27377460287855,
            "count": 1
           },
           {
            "bin_end": 140.45629100479758,
            "bin_start": 132.36503280383806,
            "count": 0
           },
           {
            "bin_end": 148.5475492057571,
            "bin_start": 140.45629100479758,
            "count": 3
           },
           {
            "bin_end": 156.6388074067166,
            "bin_start": 148.5475492057571,
            "count": 1
           },
           {
            "bin_end": 164.73006560767612,
            "bin_start": 156.6388074067166,
            "count": 0
           },
           {
            "bin_end": 172.82132380863564,
            "bin_start": 164.73006560767612,
            "count": 1
           },
           {
            "bin_end": 180.91258200959516,
            "bin_start": 172.82132380863564,
            "count": 2
           }
          ],
          "max": "180.91258200959516",
          "min": "100.0",
          "nan_count": 0,
          "unique_count": 10
         }
        },
        {
         "dtype": "float64",
         "name": "avg_wage",
         "stats": {
          "histogram": [
           {
            "bin_end": 503.84,
            "bin_start": 424.2,
            "count": 1
           },
           {
            "bin_end": 583.48,
            "bin_start": 503.84,
            "count": 1
           },
           {
            "bin_end": 663.1199999999999,
            "bin_start": 583.48,
            "count": 0
           },
           {
            "bin_end": 742.76,
            "bin_start": 663.1199999999999,
            "count": 1
           },
           {
            "bin_end": 822.3999999999999,
            "bin_start": 742.76,
            "count": 2
           },
           {
            "bin_end": 902.04,
            "bin_start": 822.3999999999999,
            "count": 1
           },
           {
            "bin_end": 981.6799999999998,
            "bin_start": 902.04,
            "count": 1
           },
           {
            "bin_end": 1061.32,
            "bin_start": 981.6799999999998,
            "count": 1
           },
           {
            "bin_end": 1140.9599999999998,
            "bin_start": 1061.32,
            "count": 1
           },
           {
            "bin_end": 1220.6,
            "bin_start": 1140.9599999999998,
            "count": 1
           }
          ],
          "max": "1220.6",
          "min": "424.2",
          "nan_count": 0,
          "unique_count": 10
         }
        },
        {
         "dtype": "float64",
         "name": "inflation_adj",
         "stats": {
          "histogram": [
           {
            "bin_end": 449.2490497720751,
            "bin_start": 424.2,
            "count": 1
           },
           {
            "bin_end": 474.29809954415026,
            "bin_start": 449.2490497720751,
            "count": 0
           },
           {
            "bin_end": 499.34714931622534,
            "bin_start": 474.29809954415026,
            "count": 1
           },
           {
            "bin_end": 524.3961990883005,
            "bin_start": 499.34714931622534,
            "count": 0
           },
           {
            "bin_end": 549.4452488603756,
            "bin_start": 524.3961990883005,
            "count": 1
           },
           {
            "bin_end": 574.4942986324508,
            "bin_start": 549.4452488603756,
            "count": 2
           },
           {
            "bin_end": 599.5433484045259,
            "bin_start": 574.4942986324508,
            "count": 2
           },
           {
            "bin_end": 624.592398176601,
            "bin_start": 599.5433484045259,
            "count": 1
           },
           {
            "bin_end": 649.6414479486762,
            "bin_start": 624.592398176601,
            "count": 1
           },
           {
            "bin_end": 674.6904977207513,
            "bin_start": 649.6414479486762,
            "count": 1
           }
          ],
          "max": "674.6904977207513",
          "min": "424.2",
          "nan_count": 0,
          "unique_count": 10
         }
        },
        {
         "dtype": "int64",
         "name": "_deepnote_index_column"
        }
       ],
       "row_count": 10,
       "rows": [
        {
         "_deepnote_index_column": 0,
         "avg_wage": 424.2,
         "inflation": 8.9,
         "inflation_adj": 424.2,
         "inflation_index": 100,
         "year": 2011
        },
        {
         "_deepnote_index_column": 1,
         "avg_wage": 557.6,
         "inflation": 14,
         "inflation_adj": 489.1228070175438,
         "inflation_index": 114.00000000000001,
         "year": 2012
        },
        {
         "_deepnote_index_column": 2,
         "avg_wage": 677.1,
         "inflation": 12.5,
         "inflation_adj": 527.9532163742689,
         "inflation_index": 128.25000000000003,
         "year": 2013
        },
        {
         "_deepnote_index_column": 3,
         "avg_wage": 796.6,
         "inflation": 10.4,
         "inflation_adj": 562.6183009859591,
         "inflation_index": 141.58800000000005,
         "year": 2014
        },
        {
         "_deepnote_index_column": 4,
         "avg_wage": 808,
         "inflation": 1.9,
         "inflation_adj": 560.0292745599797,
         "inflation_index": 144.27817200000004,
         "year": 2015
        },
        {
         "_deepnote_index_column": 5,
         "avg_wage": 861.9,
         "inflation": 1.3,
         "inflation_adj": 589.7212863263302,
         "inflation_index": 146.15378823600003,
         "year": 2016
        },
        {
         "_deepnote_index_column": 6,
         "avg_wage": 944.5,
         "inflation": 6.4,
         "inflation_adj": 607.3656937933274,
         "inflation_index": 155.50763068310403,
         "year": 2017
        },
        {
         "_deepnote_index_column": 7,
         "avg_wage": 1002.9,
         "inflation": 8.1,
         "inflation_adj": 596.5958566346455,
         "inflation_index": 168.10374876843545,
         "year": 2018
        },
        {
         "_deepnote_index_column": 8,
         "avg_wage": 1124.3,
         "inflation": 5.2,
         "inflation_adj": 635.753957642923,
         "inflation_index": 176.8451437043941,
         "year": 2019
        },
        {
         "_deepnote_index_column": 9,
         "avg_wage": 1220.6,
         "inflation": 2.3,
         "inflation_adj": 674.6904977207513,
         "inflation_index": 180.91258200959516,
         "year": 2020
        }
       ]
      },
      "text/html": [
       "<div>\n",
       "<style scoped>\n",
       "    .dataframe tbody tr th:only-of-type {\n",
       "        vertical-align: middle;\n",
       "    }\n",
       "\n",
       "    .dataframe tbody tr th {\n",
       "        vertical-align: top;\n",
       "    }\n",
       "\n",
       "    .dataframe thead th {\n",
       "        text-align: right;\n",
       "    }\n",
       "</style>\n",
       "<table border=\"1\" class=\"dataframe\">\n",
       "  <thead>\n",
       "    <tr style=\"text-align: right;\">\n",
       "      <th></th>\n",
       "      <th>year</th>\n",
       "      <th>inflation</th>\n",
       "      <th>inflation_index</th>\n",
       "      <th>avg_wage</th>\n",
       "      <th>inflation_adj</th>\n",
       "    </tr>\n",
       "  </thead>\n",
       "  <tbody>\n",
       "    <tr>\n",
       "      <th>0</th>\n",
       "      <td>2011</td>\n",
       "      <td>8.9</td>\n",
       "      <td>100.000000</td>\n",
       "      <td>424.2</td>\n",
       "      <td>424.200000</td>\n",
       "    </tr>\n",
       "    <tr>\n",
       "      <th>1</th>\n",
       "      <td>2012</td>\n",
       "      <td>14.0</td>\n",
       "      <td>114.000000</td>\n",
       "      <td>557.6</td>\n",
       "      <td>489.122807</td>\n",
       "    </tr>\n",
       "    <tr>\n",
       "      <th>2</th>\n",
       "      <td>2013</td>\n",
       "      <td>12.5</td>\n",
       "      <td>128.250000</td>\n",
       "      <td>677.1</td>\n",
       "      <td>527.953216</td>\n",
       "    </tr>\n",
       "    <tr>\n",
       "      <th>3</th>\n",
       "      <td>2014</td>\n",
       "      <td>10.4</td>\n",
       "      <td>141.588000</td>\n",
       "      <td>796.6</td>\n",
       "      <td>562.618301</td>\n",
       "    </tr>\n",
       "    <tr>\n",
       "      <th>4</th>\n",
       "      <td>2015</td>\n",
       "      <td>1.9</td>\n",
       "      <td>144.278172</td>\n",
       "      <td>808.0</td>\n",
       "      <td>560.029275</td>\n",
       "    </tr>\n",
       "    <tr>\n",
       "      <th>5</th>\n",
       "      <td>2016</td>\n",
       "      <td>1.3</td>\n",
       "      <td>146.153788</td>\n",
       "      <td>861.9</td>\n",
       "      <td>589.721286</td>\n",
       "    </tr>\n",
       "    <tr>\n",
       "      <th>6</th>\n",
       "      <td>2017</td>\n",
       "      <td>6.4</td>\n",
       "      <td>155.507631</td>\n",
       "      <td>944.5</td>\n",
       "      <td>607.365694</td>\n",
       "    </tr>\n",
       "    <tr>\n",
       "      <th>7</th>\n",
       "      <td>2018</td>\n",
       "      <td>8.1</td>\n",
       "      <td>168.103749</td>\n",
       "      <td>1002.9</td>\n",
       "      <td>596.595857</td>\n",
       "    </tr>\n",
       "    <tr>\n",
       "      <th>8</th>\n",
       "      <td>2019</td>\n",
       "      <td>5.2</td>\n",
       "      <td>176.845144</td>\n",
       "      <td>1124.3</td>\n",
       "      <td>635.753958</td>\n",
       "    </tr>\n",
       "    <tr>\n",
       "      <th>9</th>\n",
       "      <td>2020</td>\n",
       "      <td>2.3</td>\n",
       "      <td>180.912582</td>\n",
       "      <td>1220.6</td>\n",
       "      <td>674.690498</td>\n",
       "    </tr>\n",
       "  </tbody>\n",
       "</table>\n",
       "</div>"
      ],
      "text/plain": [
       "   year  inflation  inflation_index  avg_wage  inflation_adj\n",
       "0  2011        8.9       100.000000     424.2     424.200000\n",
       "1  2012       14.0       114.000000     557.6     489.122807\n",
       "2  2013       12.5       128.250000     677.1     527.953216\n",
       "3  2014       10.4       141.588000     796.6     562.618301\n",
       "4  2015        1.9       144.278172     808.0     560.029275\n",
       "5  2016        1.3       146.153788     861.9     589.721286\n",
       "6  2017        6.4       155.507631     944.5     607.365694\n",
       "7  2018        8.1       168.103749    1002.9     596.595857\n",
       "8  2019        5.2       176.845144    1124.3     635.753958\n",
       "9  2020        2.3       180.912582    1220.6     674.690498"
      ]
     },
     "execution_count": 38,
     "metadata": {},
     "output_type": "execute_result"
    }
   ],
   "source": [
    "inflation"
   ]
  },
  {
   "cell_type": "code",
   "execution_count": null,
   "metadata": {
    "cell_id": "00055-c9c40513-9b80-4c6f-b665-d8c62f6ab7f9",
    "deepnote_cell_type": "code",
    "deepnote_to_be_reexecuted": false,
    "execution_millis": 1,
    "execution_start": 1639648052298,
    "source_hash": "2dd371fe"
   },
   "outputs": [],
   "source": [
    "index_2011 = inflation.iloc[0]['inflation_index']\n",
    "index_2020 = inflation.iloc[9]['inflation_index']"
   ]
  },
  {
   "cell_type": "code",
   "execution_count": null,
   "metadata": {
    "cell_id": "00056-93dea5d1-f2ba-4a63-a8f9-781291a86a16",
    "deepnote_cell_type": "code",
    "deepnote_output_heights": [
     21.1875
    ],
    "deepnote_to_be_reexecuted": false,
    "execution_millis": 9,
    "execution_start": 1639648052305,
    "source_hash": "1a92f68a"
   },
   "outputs": [
    {
     "data": {
      "text/plain": [
       "165825.94569574425"
      ]
     },
     "execution_count": 40,
     "metadata": {},
     "output_type": "execute_result"
    }
   ],
   "source": [
    "300_000 / (index_2020/index_2011)"
   ]
  },
  {
   "cell_type": "code",
   "execution_count": null,
   "metadata": {
    "cell_id": "00057-e26093b6-7449-4d14-b5ec-2894d7743c4a",
    "deepnote_cell_type": "code",
    "deepnote_output_heights": [
     21.1875
    ],
    "deepnote_to_be_reexecuted": false,
    "execution_millis": 1,
    "execution_start": 1639648052359,
    "source_hash": "463b5a3b"
   },
   "outputs": [
    {
     "data": {
      "text/plain": [
       "552753.7050722998"
      ]
     },
     "execution_count": 41,
     "metadata": {},
     "output_type": "execute_result"
    }
   ],
   "source": [
    "1_000_001 / (index_2020/index_2011)"
   ]
  },
  {
   "cell_type": "code",
   "execution_count": null,
   "metadata": {
    "cell_id": "00058-ec3ec63c-6043-4f96-bd58-d538e1eb8010",
    "deepnote_cell_type": "code",
    "deepnote_output_heights": [
     21.1875
    ],
    "deepnote_to_be_reexecuted": false,
    "execution_millis": 3,
    "execution_start": 1639648052361,
    "source_hash": "8d8e7128"
   },
   "outputs": [
    {
     "data": {
      "text/plain": [
       "884405.0437106359"
      ]
     },
     "execution_count": 42,
     "metadata": {},
     "output_type": "execute_result"
    }
   ],
   "source": [
    "1_600_000 / (index_2020/index_2011)"
   ]
  },
  {
   "cell_type": "code",
   "execution_count": null,
   "metadata": {
    "cell_id": "00059-73e76469-a179-4591-b9aa-f6371d632b0d",
    "deepnote_cell_type": "code",
    "deepnote_to_be_reexecuted": false,
    "execution_millis": 409,
    "execution_start": 1639648052362,
    "source_hash": "479964ab"
   },
   "outputs": [
    {
     "ename": "NameError",
     "evalue": "name 'inflation_adjustment' is not defined",
     "output_type": "error",
     "traceback": [
      "\u001b[0;31m---------------------------------------------------------------------------\u001b[0m",
      "\u001b[0;31mNameError\u001b[0m                                 Traceback (most recent call last)",
      "\u001b[0;32m<ipython-input-43-99cef27fdd7b>\u001b[0m in \u001b[0;36m<module>\u001b[0;34m\u001b[0m\n\u001b[0;32m----> 1\u001b[0;31m \u001b[0;36m300_000\u001b[0m \u001b[0;34m*\u001b[0m \u001b[0minflation_adjustment\u001b[0m \u001b[0;34m/\u001b[0m \u001b[0;36m100\u001b[0m\u001b[0;34m\u001b[0m\u001b[0;34m\u001b[0m\u001b[0m\n\u001b[0m",
      "\u001b[0;31mNameError\u001b[0m: name 'inflation_adjustment' is not defined"
     ]
    }
   ],
   "source": [
    "300_000 * inflation_adjustment / 100"
   ]
  },
  {
   "cell_type": "code",
   "execution_count": null,
   "metadata": {
    "cell_id": "00024-9d0ba268-c5c5-4e91-86b6-45f74e2cf7fa",
    "deepnote_cell_type": "code",
    "deepnote_to_be_reexecuted": true,
    "source_hash": "77f4c12",
    "tags": []
   },
   "outputs": [],
   "source": [
    "income_groups"
   ]
  },
  {
   "cell_type": "code",
   "execution_count": null,
   "metadata": {
    "cell_id": "00061-6881138e-8c7d-4628-a7e0-3b847b26cb5c",
    "deepnote_cell_type": "code",
    "deepnote_to_be_reexecuted": true,
    "source_hash": "b623e53d"
   },
   "outputs": [],
   "source": []
  }
 ],
 "metadata": {
  "deepnote": {
   "is_reactive": false
  },
  "deepnote_execution_queue": [],
  "deepnote_notebook_id": "94d96faf-5c47-4b8c-a558-697819f351a5",
  "kernelspec": {
   "display_name": "Python 3 (ipykernel)",
   "language": "python",
   "name": "python3"
  },
  "language_info": {
   "codemirror_mode": {
    "name": "ipython",
    "version": 3
   },
   "file_extension": ".py",
   "mimetype": "text/x-python",
   "name": "python",
   "nbconvert_exporter": "python",
   "pygments_lexer": "ipython3",
   "version": "3.8.12"
  }
 },
 "nbformat": 4,
 "nbformat_minor": 4
}

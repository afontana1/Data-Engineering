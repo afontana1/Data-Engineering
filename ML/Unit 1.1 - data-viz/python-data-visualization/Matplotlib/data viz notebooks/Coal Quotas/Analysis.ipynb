{
 "cells": [
  {
   "cell_type": "markdown",
   "metadata": {
    "cell_id": "00000-53aafb24-4002-4e8d-b0b4-4ac9ef433e57",
    "deepnote_cell_type": "markdown"
   },
   "source": [
    "# China's Coal Import Quotas"
   ]
  },
  {
   "cell_type": "code",
   "execution_count": null,
   "metadata": {
    "cell_id": "00001-aa35b770-ea7f-4cb0-b02a-8286a913c7a9",
    "deepnote_cell_type": "code"
   },
   "outputs": [],
   "source": [
    "import pandas as pd\n",
    "import numpy as np\n",
    "import matplotlib.pyplot as plt\n",
    "import datetime\n",
    "import matplotlib.dates as mdates"
   ]
  },
  {
   "cell_type": "code",
   "execution_count": null,
   "metadata": {
    "cell_id": "00002-7d121a50-d18d-4df9-8ad1-44a330251544",
    "deepnote_cell_type": "code"
   },
   "outputs": [],
   "source": [
    "plt.style.use('mds.mplstyle')"
   ]
  },
  {
   "cell_type": "markdown",
   "metadata": {
    "cell_id": "00003-9e4e1d0b-1841-4b54-b599-3add45ce4fee",
    "deepnote_cell_type": "markdown"
   },
   "source": [
    "## Sources"
   ]
  },
  {
   "cell_type": "markdown",
   "metadata": {
    "cell_id": "00004-3920e20f-2cc4-49c6-8326-6b8a49a4c951",
    "deepnote_cell_type": "markdown"
   },
   "source": [
    "Sources:\n",
    "- Mentions Mongolia's flour import quota - [Mongolian Economy](https://mongolianeconomy.mn/en/iskander-azizov/?mc_cid=fcf14274b5&mc_eid=723326a57c)\n",
    "- Mongolia passes Australia as largest coking coal suppier - [GlobalTimes](https://www.globaltimes.cn/content/1204846.shtml)\n",
    "- Mongolian Green Channel in September - [yqqlm](https://www.yqqlm.com/2020/07/china-mongolia-border-portgreen-channel-recently-started-operation-the-ministry-of-foreign-affairs-responded/)\n",
    "- China orders to stop buying Australian coal - [Financial Review](https://www.afr.com/world/asia/china-orders-some-steelmakers-to-stop-buying-australian-coal-traders-20201013-p564hs)\n",
    "- China increases coal quota (thermal) but leaves Australia out - [The Guardian](https://www.theguardian.com/world/2020/nov/28/china-increases-coal-import-quotas-but-australia-likely-to-be-excluded)\n",
    "- Analyst says early 2020 slowdown had nothing to do with COVID - [China Macro Economy](https://www.scmp.com/economy/china-economy/article/3110572/china-could-face-mongolia-coal-import-shortage-amid)\n",
    "- **Specifically mentions slowdown at the end of the year** - [Argus](https://www.argusmedia.com/en/news/2064083-chinese-coking-coal-imports-rise-by-153pc-in-2019?mc_cid=1f9728d1ea&mc_eid=723326a57c)\n",
    "- COVID caused decrease in exports - [ZGM](https://zgm.mn/coal-export-falls-at-major-ports-as-china-s-import-slumps/?mc_cid=1f9728d1ea&mc_eid=723326a57c)\n",
    "- Truck line is 10km long - [News.mn](https://news.mn/en/789843/?mc_cid=113b6a9ec2&mc_eid=723326a57c)\n",
    "- Mongolian economy contribution from mining - [Bloomberg](http://bloombergtv.mn/%D1%82%D3%A9%D1%81%D0%B2%D0%B8%D0%B9%D0%BD-%D0%B7%D0%B0%D1%80%D0%BB%D0%B0%D0%B3%D1%8B%D0%BD-%D3%A9%D1%81%D3%A9%D0%BB%D1%82-%D0%BE%D1%80%D0%BB%D0%BE%D0%B3%D1%8B%D0%BD-%D3%A9%D1%81%D3%A9%D0%BB%D1%82%D3%A9%D3%A9%D1%81-4-%D0%BF%D1%83%D0%BD%D0%BA%D1%82%D1%8D%D1%8D%D1%80-%D3%A9%D0%BD%D0%B4%D3%A9%D1%80-%D0%B1%D0%B0%D0%B9%D0%BD%D0%B0/?cid=3)\n",
    "- WTO regulations against quantitative restrictions - [WTO](https://www.wto.org/english/tratop_e/markacc_e/qr_e.htm)\n",
    "\n",
    "Data source for China import data: http://43.248.49.97/indexEn"
   ]
  },
  {
   "cell_type": "markdown",
   "metadata": {
    "cell_id": "00005-e6492759-dfa0-4fd9-9255-4f57eeb6f690",
    "deepnote_cell_type": "markdown"
   },
   "source": [
    "## Import Data"
   ]
  },
  {
   "cell_type": "markdown",
   "metadata": {
    "cell_id": "00006-4a6ac37d-58ca-4252-8d3a-a9b5dd9efb4c",
    "deepnote_cell_type": "markdown"
   },
   "source": [
    "Import data that was collected from the General Administration of Customs ([interactive tables link](http://43.248.49.97/indexEn)). We will use 2 datasets:\n",
    "- Coal imports from Mongolia and Australia (01-2018 to 10-2020)\n",
    "- Total coking coal imports for 2019 (monthly)"
   ]
  },
  {
   "cell_type": "code",
   "execution_count": null,
   "metadata": {
    "cell_id": "00007-a3ab66bf-1cb8-4426-b458-d3b5b8840939",
    "deepnote_cell_type": "code"
   },
   "outputs": [],
   "source": [
    "coal = pd.read_csv('coal_imports_china.csv', thousands=',')"
   ]
  },
  {
   "cell_type": "code",
   "execution_count": null,
   "metadata": {
    "cell_id": "00008-3dfef244-d2c3-42bf-8afd-83d0fc7ff731",
    "deepnote_cell_type": "code"
   },
   "outputs": [],
   "source": [
    "coking_coal = pd.read_csv('coking_coal_china.csv', thousands=',')"
   ]
  },
  {
   "cell_type": "code",
   "execution_count": null,
   "metadata": {
    "cell_id": "00009-f79612d5-2565-4d83-b1f8-79c11130024c",
    "deepnote_cell_type": "code"
   },
   "outputs": [
    {
     "data": {
      "text/html": [
       "<div>\n",
       "<style scoped>\n",
       "    .dataframe tbody tr th:only-of-type {\n",
       "        vertical-align: middle;\n",
       "    }\n",
       "\n",
       "    .dataframe tbody tr th {\n",
       "        vertical-align: top;\n",
       "    }\n",
       "\n",
       "    .dataframe thead th {\n",
       "        text-align: right;\n",
       "    }\n",
       "</style>\n",
       "<table border=\"1\" class=\"dataframe\">\n",
       "  <thead>\n",
       "    <tr style=\"text-align: right;\">\n",
       "      <th></th>\n",
       "      <th>Date of data\\t</th>\n",
       "      <th>Commodity code\\t</th>\n",
       "      <th>Commodity\\t</th>\n",
       "      <th>Trading partner code\\t</th>\n",
       "      <th>Trading partner\\t</th>\n",
       "      <th>Quantity\\t</th>\n",
       "      <th>Unit\\t</th>\n",
       "    </tr>\n",
       "  </thead>\n",
       "  <tbody>\n",
       "    <tr>\n",
       "      <th>0</th>\n",
       "      <td>202003</td>\n",
       "      <td>27011210</td>\n",
       "      <td>Bituminous coking coal, not agglomerated\\t</td>\n",
       "      <td>124</td>\n",
       "      <td>Mongolia\\t</td>\n",
       "      <td>49580090</td>\n",
       "      <td>Kilogram\\t</td>\n",
       "    </tr>\n",
       "    <tr>\n",
       "      <th>1</th>\n",
       "      <td>202004</td>\n",
       "      <td>27011210</td>\n",
       "      <td>Bituminous coking coal, not agglomerated\\t</td>\n",
       "      <td>124</td>\n",
       "      <td>Mongolia\\t</td>\n",
       "      <td>775241530</td>\n",
       "      <td>Kilogram\\t</td>\n",
       "    </tr>\n",
       "    <tr>\n",
       "      <th>2</th>\n",
       "      <td>202005</td>\n",
       "      <td>27011210</td>\n",
       "      <td>Bituminous coking coal, not agglomerated\\t</td>\n",
       "      <td>124</td>\n",
       "      <td>Mongolia\\t</td>\n",
       "      <td>1707866600</td>\n",
       "      <td>Kilogram\\t</td>\n",
       "    </tr>\n",
       "    <tr>\n",
       "      <th>3</th>\n",
       "      <td>202006</td>\n",
       "      <td>27011210</td>\n",
       "      <td>Bituminous coking coal, not agglomerated\\t</td>\n",
       "      <td>124</td>\n",
       "      <td>Mongolia\\t</td>\n",
       "      <td>2094031782</td>\n",
       "      <td>Kilogram\\t</td>\n",
       "    </tr>\n",
       "    <tr>\n",
       "      <th>4</th>\n",
       "      <td>202007</td>\n",
       "      <td>27011210</td>\n",
       "      <td>Bituminous coking coal, not agglomerated\\t</td>\n",
       "      <td>124</td>\n",
       "      <td>Mongolia\\t</td>\n",
       "      <td>2202018384</td>\n",
       "      <td>Kilogram\\t</td>\n",
       "    </tr>\n",
       "  </tbody>\n",
       "</table>\n",
       "</div>"
      ],
      "text/plain": [
       "   Date of data\\t  Commodity code\\t  \\\n",
       "0          202003          27011210   \n",
       "1          202004          27011210   \n",
       "2          202005          27011210   \n",
       "3          202006          27011210   \n",
       "4          202007          27011210   \n",
       "\n",
       "                                  Commodity\\t  Trading partner code\\t  \\\n",
       "0  Bituminous coking coal, not agglomerated\\t                     124   \n",
       "1  Bituminous coking coal, not agglomerated\\t                     124   \n",
       "2  Bituminous coking coal, not agglomerated\\t                     124   \n",
       "3  Bituminous coking coal, not agglomerated\\t                     124   \n",
       "4  Bituminous coking coal, not agglomerated\\t                     124   \n",
       "\n",
       "  Trading partner\\t  Quantity\\t      Unit\\t  \n",
       "0        Mongolia\\t    49580090  Kilogram\\t  \n",
       "1        Mongolia\\t   775241530  Kilogram\\t  \n",
       "2        Mongolia\\t  1707866600  Kilogram\\t  \n",
       "3        Mongolia\\t  2094031782  Kilogram\\t  \n",
       "4        Mongolia\\t  2202018384  Kilogram\\t  "
      ]
     },
     "execution_count": 5,
     "metadata": {},
     "output_type": "execute_result"
    }
   ],
   "source": [
    "coal.head()"
   ]
  },
  {
   "cell_type": "code",
   "execution_count": null,
   "metadata": {
    "cell_id": "00010-584e602b-e1cc-4435-b882-ee117a098d99",
    "deepnote_cell_type": "code"
   },
   "outputs": [
    {
     "data": {
      "text/html": [
       "<div>\n",
       "<style scoped>\n",
       "    .dataframe tbody tr th:only-of-type {\n",
       "        vertical-align: middle;\n",
       "    }\n",
       "\n",
       "    .dataframe tbody tr th {\n",
       "        vertical-align: top;\n",
       "    }\n",
       "\n",
       "    .dataframe thead th {\n",
       "        text-align: right;\n",
       "    }\n",
       "</style>\n",
       "<table border=\"1\" class=\"dataframe\">\n",
       "  <thead>\n",
       "    <tr style=\"text-align: right;\">\n",
       "      <th></th>\n",
       "      <th>Date of data\\t</th>\n",
       "      <th>Commodity code\\t</th>\n",
       "      <th>Commodity\\t</th>\n",
       "      <th>Quantity\\t</th>\n",
       "      <th>Unit\\t</th>\n",
       "    </tr>\n",
       "  </thead>\n",
       "  <tbody>\n",
       "    <tr>\n",
       "      <th>0</th>\n",
       "      <td>201901</td>\n",
       "      <td>27011210</td>\n",
       "      <td>Bituminous coking coal, not agglomerated\\t</td>\n",
       "      <td>7354347949</td>\n",
       "      <td>Kilogram\\t</td>\n",
       "    </tr>\n",
       "    <tr>\n",
       "      <th>1</th>\n",
       "      <td>201902</td>\n",
       "      <td>27011210</td>\n",
       "      <td>Bituminous coking coal, not agglomerated\\t</td>\n",
       "      <td>2902950494</td>\n",
       "      <td>Kilogram\\t</td>\n",
       "    </tr>\n",
       "    <tr>\n",
       "      <th>2</th>\n",
       "      <td>201903</td>\n",
       "      <td>27011210</td>\n",
       "      <td>Bituminous coking coal, not agglomerated\\t</td>\n",
       "      <td>6040473002</td>\n",
       "      <td>Kilogram\\t</td>\n",
       "    </tr>\n",
       "    <tr>\n",
       "      <th>3</th>\n",
       "      <td>201904</td>\n",
       "      <td>27011210</td>\n",
       "      <td>Bituminous coking coal, not agglomerated\\t</td>\n",
       "      <td>7417825279</td>\n",
       "      <td>Kilogram\\t</td>\n",
       "    </tr>\n",
       "    <tr>\n",
       "      <th>4</th>\n",
       "      <td>201905</td>\n",
       "      <td>27011210</td>\n",
       "      <td>Bituminous coking coal, not agglomerated\\t</td>\n",
       "      <td>5901030562</td>\n",
       "      <td>Kilogram\\t</td>\n",
       "    </tr>\n",
       "  </tbody>\n",
       "</table>\n",
       "</div>"
      ],
      "text/plain": [
       "   Date of data\\t  Commodity code\\t  \\\n",
       "0          201901          27011210   \n",
       "1          201902          27011210   \n",
       "2          201903          27011210   \n",
       "3          201904          27011210   \n",
       "4          201905          27011210   \n",
       "\n",
       "                                  Commodity\\t  Quantity\\t      Unit\\t  \n",
       "0  Bituminous coking coal, not agglomerated\\t  7354347949  Kilogram\\t  \n",
       "1  Bituminous coking coal, not agglomerated\\t  2902950494  Kilogram\\t  \n",
       "2  Bituminous coking coal, not agglomerated\\t  6040473002  Kilogram\\t  \n",
       "3  Bituminous coking coal, not agglomerated\\t  7417825279  Kilogram\\t  \n",
       "4  Bituminous coking coal, not agglomerated\\t  5901030562  Kilogram\\t  "
      ]
     },
     "execution_count": 6,
     "metadata": {},
     "output_type": "execute_result"
    }
   ],
   "source": [
    "coking_coal.head()"
   ]
  },
  {
   "cell_type": "markdown",
   "metadata": {
    "cell_id": "00011-6abb7c40-d403-4968-afd1-9a939e09a86d",
    "deepnote_cell_type": "markdown"
   },
   "source": [
    "## Data Cleaning"
   ]
  },
  {
   "cell_type": "markdown",
   "metadata": {
    "cell_id": "00012-a2dd5445-35fc-4987-a692-da1c23d6e934",
    "deepnote_cell_type": "markdown"
   },
   "source": [
    "Let's do some data cleaning:\n",
    "- Remove the extra \\t characters. \n",
    "- Reformat dates to be actually dates."
   ]
  },
  {
   "cell_type": "code",
   "execution_count": null,
   "metadata": {
    "cell_id": "00013-2ea405a4-4992-4e94-a1d8-dcef482cef24",
    "deepnote_cell_type": "code"
   },
   "outputs": [],
   "source": [
    "coal = coal.replace(to_replace='\\t', value='', regex=True)"
   ]
  },
  {
   "cell_type": "code",
   "execution_count": null,
   "metadata": {
    "cell_id": "00014-26b6c372-6f97-4a4d-b78d-02723e282585",
    "deepnote_cell_type": "code"
   },
   "outputs": [],
   "source": [
    "coal.columns = ['Date of data', 'Commodity code', 'Commodity',\n",
    "       'Trading partner code', 'Trading partner', 'Quantity', 'Unit']"
   ]
  },
  {
   "cell_type": "code",
   "execution_count": null,
   "metadata": {
    "cell_id": "00015-a89515da-5028-448f-af25-7f7659c52e88",
    "deepnote_cell_type": "code"
   },
   "outputs": [],
   "source": [
    "coal['Date of data'] = pd.to_datetime(coal['Date of data'], format='%Y%m')"
   ]
  },
  {
   "cell_type": "code",
   "execution_count": null,
   "metadata": {
    "cell_id": "00016-f1619b44-ef91-463f-a9dc-1d26b188c05d",
    "deepnote_cell_type": "code"
   },
   "outputs": [
    {
     "data": {
      "text/html": [
       "<div>\n",
       "<style scoped>\n",
       "    .dataframe tbody tr th:only-of-type {\n",
       "        vertical-align: middle;\n",
       "    }\n",
       "\n",
       "    .dataframe tbody tr th {\n",
       "        vertical-align: top;\n",
       "    }\n",
       "\n",
       "    .dataframe thead th {\n",
       "        text-align: right;\n",
       "    }\n",
       "</style>\n",
       "<table border=\"1\" class=\"dataframe\">\n",
       "  <thead>\n",
       "    <tr style=\"text-align: right;\">\n",
       "      <th></th>\n",
       "      <th>Date of data</th>\n",
       "      <th>Commodity code</th>\n",
       "      <th>Commodity</th>\n",
       "      <th>Trading partner code</th>\n",
       "      <th>Trading partner</th>\n",
       "      <th>Quantity</th>\n",
       "      <th>Unit</th>\n",
       "    </tr>\n",
       "  </thead>\n",
       "  <tbody>\n",
       "    <tr>\n",
       "      <th>0</th>\n",
       "      <td>2020-03-01</td>\n",
       "      <td>27011210</td>\n",
       "      <td>Bituminous coking coal, not agglomerated</td>\n",
       "      <td>124</td>\n",
       "      <td>Mongolia</td>\n",
       "      <td>49580090</td>\n",
       "      <td>Kilogram</td>\n",
       "    </tr>\n",
       "    <tr>\n",
       "      <th>1</th>\n",
       "      <td>2020-04-01</td>\n",
       "      <td>27011210</td>\n",
       "      <td>Bituminous coking coal, not agglomerated</td>\n",
       "      <td>124</td>\n",
       "      <td>Mongolia</td>\n",
       "      <td>775241530</td>\n",
       "      <td>Kilogram</td>\n",
       "    </tr>\n",
       "    <tr>\n",
       "      <th>2</th>\n",
       "      <td>2020-05-01</td>\n",
       "      <td>27011210</td>\n",
       "      <td>Bituminous coking coal, not agglomerated</td>\n",
       "      <td>124</td>\n",
       "      <td>Mongolia</td>\n",
       "      <td>1707866600</td>\n",
       "      <td>Kilogram</td>\n",
       "    </tr>\n",
       "    <tr>\n",
       "      <th>3</th>\n",
       "      <td>2020-06-01</td>\n",
       "      <td>27011210</td>\n",
       "      <td>Bituminous coking coal, not agglomerated</td>\n",
       "      <td>124</td>\n",
       "      <td>Mongolia</td>\n",
       "      <td>2094031782</td>\n",
       "      <td>Kilogram</td>\n",
       "    </tr>\n",
       "    <tr>\n",
       "      <th>4</th>\n",
       "      <td>2020-07-01</td>\n",
       "      <td>27011210</td>\n",
       "      <td>Bituminous coking coal, not agglomerated</td>\n",
       "      <td>124</td>\n",
       "      <td>Mongolia</td>\n",
       "      <td>2202018384</td>\n",
       "      <td>Kilogram</td>\n",
       "    </tr>\n",
       "  </tbody>\n",
       "</table>\n",
       "</div>"
      ],
      "text/plain": [
       "  Date of data  Commodity code                                 Commodity  \\\n",
       "0   2020-03-01        27011210  Bituminous coking coal, not agglomerated   \n",
       "1   2020-04-01        27011210  Bituminous coking coal, not agglomerated   \n",
       "2   2020-05-01        27011210  Bituminous coking coal, not agglomerated   \n",
       "3   2020-06-01        27011210  Bituminous coking coal, not agglomerated   \n",
       "4   2020-07-01        27011210  Bituminous coking coal, not agglomerated   \n",
       "\n",
       "   Trading partner code Trading partner    Quantity      Unit  \n",
       "0                   124        Mongolia    49580090  Kilogram  \n",
       "1                   124        Mongolia   775241530  Kilogram  \n",
       "2                   124        Mongolia  1707866600  Kilogram  \n",
       "3                   124        Mongolia  2094031782  Kilogram  \n",
       "4                   124        Mongolia  2202018384  Kilogram  "
      ]
     },
     "execution_count": 10,
     "metadata": {},
     "output_type": "execute_result"
    }
   ],
   "source": [
    "coal.head()"
   ]
  },
  {
   "cell_type": "code",
   "execution_count": null,
   "metadata": {
    "cell_id": "00017-f5f5a694-65bf-4149-9eb9-ebfcb4b366d1",
    "deepnote_cell_type": "code"
   },
   "outputs": [
    {
     "data": {
      "text/plain": [
       "Date of data            datetime64[ns]\n",
       "Commodity code                   int64\n",
       "Commodity                       object\n",
       "Trading partner code             int64\n",
       "Trading partner                 object\n",
       "Quantity                         int64\n",
       "Unit                            object\n",
       "dtype: object"
      ]
     },
     "execution_count": 11,
     "metadata": {},
     "output_type": "execute_result"
    }
   ],
   "source": [
    "coal.dtypes"
   ]
  },
  {
   "cell_type": "code",
   "execution_count": null,
   "metadata": {
    "cell_id": "00018-e6f3c565-b30a-4c9f-98a9-7d958616b9df",
    "deepnote_cell_type": "code"
   },
   "outputs": [],
   "source": [
    "coking_coal = coking_coal.replace(to_replace='\\t', value='', regex=True)"
   ]
  },
  {
   "cell_type": "code",
   "execution_count": null,
   "metadata": {
    "cell_id": "00019-bd852f8d-81e8-4cd4-9eae-9feb8343dc2a",
    "deepnote_cell_type": "code"
   },
   "outputs": [],
   "source": [
    "coking_coal.columns = ['Date of data', 'Commodity code', 'Commodity', 'Quantity',\n",
    "       'Unit']"
   ]
  },
  {
   "cell_type": "code",
   "execution_count": null,
   "metadata": {
    "cell_id": "00020-6f4245aa-ba79-4150-b4b8-7379e1c6958c",
    "deepnote_cell_type": "code"
   },
   "outputs": [],
   "source": [
    "coking_coal['Date of data'] = pd.to_datetime(coking_coal['Date of data'], format='%Y%m')"
   ]
  },
  {
   "cell_type": "code",
   "execution_count": null,
   "metadata": {
    "cell_id": "00021-92e22bac-1e11-44c1-b023-c9226bfefdb2",
    "deepnote_cell_type": "code"
   },
   "outputs": [
    {
     "data": {
      "text/html": [
       "<div>\n",
       "<style scoped>\n",
       "    .dataframe tbody tr th:only-of-type {\n",
       "        vertical-align: middle;\n",
       "    }\n",
       "\n",
       "    .dataframe tbody tr th {\n",
       "        vertical-align: top;\n",
       "    }\n",
       "\n",
       "    .dataframe thead th {\n",
       "        text-align: right;\n",
       "    }\n",
       "</style>\n",
       "<table border=\"1\" class=\"dataframe\">\n",
       "  <thead>\n",
       "    <tr style=\"text-align: right;\">\n",
       "      <th></th>\n",
       "      <th>Date of data</th>\n",
       "      <th>Commodity code</th>\n",
       "      <th>Commodity</th>\n",
       "      <th>Quantity</th>\n",
       "      <th>Unit</th>\n",
       "    </tr>\n",
       "  </thead>\n",
       "  <tbody>\n",
       "    <tr>\n",
       "      <th>0</th>\n",
       "      <td>2019-01-01</td>\n",
       "      <td>27011210</td>\n",
       "      <td>Bituminous coking coal, not agglomerated</td>\n",
       "      <td>7354347949</td>\n",
       "      <td>Kilogram</td>\n",
       "    </tr>\n",
       "    <tr>\n",
       "      <th>1</th>\n",
       "      <td>2019-02-01</td>\n",
       "      <td>27011210</td>\n",
       "      <td>Bituminous coking coal, not agglomerated</td>\n",
       "      <td>2902950494</td>\n",
       "      <td>Kilogram</td>\n",
       "    </tr>\n",
       "    <tr>\n",
       "      <th>2</th>\n",
       "      <td>2019-03-01</td>\n",
       "      <td>27011210</td>\n",
       "      <td>Bituminous coking coal, not agglomerated</td>\n",
       "      <td>6040473002</td>\n",
       "      <td>Kilogram</td>\n",
       "    </tr>\n",
       "    <tr>\n",
       "      <th>3</th>\n",
       "      <td>2019-04-01</td>\n",
       "      <td>27011210</td>\n",
       "      <td>Bituminous coking coal, not agglomerated</td>\n",
       "      <td>7417825279</td>\n",
       "      <td>Kilogram</td>\n",
       "    </tr>\n",
       "    <tr>\n",
       "      <th>4</th>\n",
       "      <td>2019-05-01</td>\n",
       "      <td>27011210</td>\n",
       "      <td>Bituminous coking coal, not agglomerated</td>\n",
       "      <td>5901030562</td>\n",
       "      <td>Kilogram</td>\n",
       "    </tr>\n",
       "  </tbody>\n",
       "</table>\n",
       "</div>"
      ],
      "text/plain": [
       "  Date of data  Commodity code                                 Commodity  \\\n",
       "0   2019-01-01        27011210  Bituminous coking coal, not agglomerated   \n",
       "1   2019-02-01        27011210  Bituminous coking coal, not agglomerated   \n",
       "2   2019-03-01        27011210  Bituminous coking coal, not agglomerated   \n",
       "3   2019-04-01        27011210  Bituminous coking coal, not agglomerated   \n",
       "4   2019-05-01        27011210  Bituminous coking coal, not agglomerated   \n",
       "\n",
       "     Quantity      Unit  \n",
       "0  7354347949  Kilogram  \n",
       "1  2902950494  Kilogram  \n",
       "2  6040473002  Kilogram  \n",
       "3  7417825279  Kilogram  \n",
       "4  5901030562  Kilogram  "
      ]
     },
     "execution_count": 15,
     "metadata": {},
     "output_type": "execute_result"
    }
   ],
   "source": [
    "coking_coal.head()"
   ]
  },
  {
   "cell_type": "code",
   "execution_count": null,
   "metadata": {
    "cell_id": "00022-1a744e63-5b63-4945-ac6c-60f742d54458",
    "deepnote_cell_type": "code"
   },
   "outputs": [
    {
     "data": {
      "text/plain": [
       "Date of data      datetime64[ns]\n",
       "Commodity code             int64\n",
       "Commodity                 object\n",
       "Quantity                   int64\n",
       "Unit                      object\n",
       "dtype: object"
      ]
     },
     "execution_count": 16,
     "metadata": {},
     "output_type": "execute_result"
    }
   ],
   "source": [
    "coking_coal.dtypes"
   ]
  },
  {
   "cell_type": "markdown",
   "metadata": {
    "cell_id": "00023-e0c439c3-2197-4b11-8f55-7a877ce14d2a",
    "deepnote_cell_type": "markdown"
   },
   "source": [
    "## Visualization"
   ]
  },
  {
   "cell_type": "markdown",
   "metadata": {
    "cell_id": "00024-1471712f-bb0b-44a1-9a52-8341ca2b364f",
    "deepnote_cell_type": "markdown"
   },
   "source": [
    "### Australian vs Mongolian Coal Exports to China"
   ]
  },
  {
   "cell_type": "code",
   "execution_count": null,
   "metadata": {
    "cell_id": "00025-2353e2ff-eb45-4c06-a4b3-01502d9961f9",
    "deepnote_cell_type": "code"
   },
   "outputs": [],
   "source": [
    "total_country = coal.groupby(by=['Trading partner','Date of data']).sum().reset_index()"
   ]
  },
  {
   "cell_type": "code",
   "execution_count": null,
   "metadata": {
    "cell_id": "00026-93b5f004-eb54-4270-b897-bc4591f05bdf",
    "deepnote_cell_type": "code"
   },
   "outputs": [],
   "source": [
    "australia = total_country[total_country['Trading partner'] == 'Australia']"
   ]
  },
  {
   "cell_type": "code",
   "execution_count": null,
   "metadata": {
    "cell_id": "00027-bf14a462-3edf-4284-8461-ffd40b9f121e",
    "deepnote_cell_type": "code"
   },
   "outputs": [],
   "source": [
    "mongolia = total_country[total_country['Trading partner'] == 'Mongolia']"
   ]
  },
  {
   "cell_type": "code",
   "execution_count": null,
   "metadata": {
    "cell_id": "00028-a76a7917-15d4-4161-8706-7f7a20613401",
    "deepnote_cell_type": "code"
   },
   "outputs": [
    {
     "data": {
      "text/html": [
       "<div>\n",
       "<style scoped>\n",
       "    .dataframe tbody tr th:only-of-type {\n",
       "        vertical-align: middle;\n",
       "    }\n",
       "\n",
       "    .dataframe tbody tr th {\n",
       "        vertical-align: top;\n",
       "    }\n",
       "\n",
       "    .dataframe thead th {\n",
       "        text-align: right;\n",
       "    }\n",
       "</style>\n",
       "<table border=\"1\" class=\"dataframe\">\n",
       "  <thead>\n",
       "    <tr style=\"text-align: right;\">\n",
       "      <th></th>\n",
       "      <th>Trading partner</th>\n",
       "      <th>Date of data</th>\n",
       "      <th>Commodity code</th>\n",
       "      <th>Trading partner code</th>\n",
       "      <th>Quantity</th>\n",
       "    </tr>\n",
       "  </thead>\n",
       "  <tbody>\n",
       "    <tr>\n",
       "      <th>0</th>\n",
       "      <td>Australia</td>\n",
       "      <td>2019-01-01</td>\n",
       "      <td>54022500</td>\n",
       "      <td>1202</td>\n",
       "      <td>10640223804</td>\n",
       "    </tr>\n",
       "    <tr>\n",
       "      <th>1</th>\n",
       "      <td>Australia</td>\n",
       "      <td>2019-02-01</td>\n",
       "      <td>54022500</td>\n",
       "      <td>1202</td>\n",
       "      <td>3166352980</td>\n",
       "    </tr>\n",
       "    <tr>\n",
       "      <th>2</th>\n",
       "      <td>Australia</td>\n",
       "      <td>2019-03-01</td>\n",
       "      <td>54022500</td>\n",
       "      <td>1202</td>\n",
       "      <td>4249817242</td>\n",
       "    </tr>\n",
       "    <tr>\n",
       "      <th>3</th>\n",
       "      <td>Australia</td>\n",
       "      <td>2019-04-01</td>\n",
       "      <td>54022500</td>\n",
       "      <td>1202</td>\n",
       "      <td>5761444832</td>\n",
       "    </tr>\n",
       "    <tr>\n",
       "      <th>4</th>\n",
       "      <td>Australia</td>\n",
       "      <td>2019-05-01</td>\n",
       "      <td>54022500</td>\n",
       "      <td>1202</td>\n",
       "      <td>5231079382</td>\n",
       "    </tr>\n",
       "  </tbody>\n",
       "</table>\n",
       "</div>"
      ],
      "text/plain": [
       "  Trading partner Date of data  Commodity code  Trading partner code  \\\n",
       "0       Australia   2019-01-01        54022500                  1202   \n",
       "1       Australia   2019-02-01        54022500                  1202   \n",
       "2       Australia   2019-03-01        54022500                  1202   \n",
       "3       Australia   2019-04-01        54022500                  1202   \n",
       "4       Australia   2019-05-01        54022500                  1202   \n",
       "\n",
       "      Quantity  \n",
       "0  10640223804  \n",
       "1   3166352980  \n",
       "2   4249817242  \n",
       "3   5761444832  \n",
       "4   5231079382  "
      ]
     },
     "execution_count": 20,
     "metadata": {},
     "output_type": "execute_result"
    }
   ],
   "source": [
    "australia.head()"
   ]
  },
  {
   "cell_type": "code",
   "execution_count": null,
   "metadata": {
    "cell_id": "00029-4ca7e581-5d29-4a8a-8cf1-c2b8356d48ac",
    "deepnote_cell_type": "code"
   },
   "outputs": [
    {
     "data": {
      "text/html": [
       "<div>\n",
       "<style scoped>\n",
       "    .dataframe tbody tr th:only-of-type {\n",
       "        vertical-align: middle;\n",
       "    }\n",
       "\n",
       "    .dataframe tbody tr th {\n",
       "        vertical-align: top;\n",
       "    }\n",
       "\n",
       "    .dataframe thead th {\n",
       "        text-align: right;\n",
       "    }\n",
       "</style>\n",
       "<table border=\"1\" class=\"dataframe\">\n",
       "  <thead>\n",
       "    <tr style=\"text-align: right;\">\n",
       "      <th></th>\n",
       "      <th>Trading partner</th>\n",
       "      <th>Date of data</th>\n",
       "      <th>Commodity code</th>\n",
       "      <th>Trading partner code</th>\n",
       "      <th>Quantity</th>\n",
       "    </tr>\n",
       "  </thead>\n",
       "  <tbody>\n",
       "    <tr>\n",
       "      <th>22</th>\n",
       "      <td>Mongolia</td>\n",
       "      <td>2018-01-01</td>\n",
       "      <td>81034400</td>\n",
       "      <td>372</td>\n",
       "      <td>1838761200</td>\n",
       "    </tr>\n",
       "    <tr>\n",
       "      <th>23</th>\n",
       "      <td>Mongolia</td>\n",
       "      <td>2018-02-01</td>\n",
       "      <td>81034400</td>\n",
       "      <td>372</td>\n",
       "      <td>1261574500</td>\n",
       "    </tr>\n",
       "    <tr>\n",
       "      <th>24</th>\n",
       "      <td>Mongolia</td>\n",
       "      <td>2018-03-01</td>\n",
       "      <td>81034400</td>\n",
       "      <td>372</td>\n",
       "      <td>3041886120</td>\n",
       "    </tr>\n",
       "    <tr>\n",
       "      <th>25</th>\n",
       "      <td>Mongolia</td>\n",
       "      <td>2018-04-01</td>\n",
       "      <td>81034400</td>\n",
       "      <td>372</td>\n",
       "      <td>3353555369</td>\n",
       "    </tr>\n",
       "    <tr>\n",
       "      <th>26</th>\n",
       "      <td>Mongolia</td>\n",
       "      <td>2018-05-01</td>\n",
       "      <td>81034400</td>\n",
       "      <td>372</td>\n",
       "      <td>3988952691</td>\n",
       "    </tr>\n",
       "  </tbody>\n",
       "</table>\n",
       "</div>"
      ],
      "text/plain": [
       "   Trading partner Date of data  Commodity code  Trading partner code  \\\n",
       "22        Mongolia   2018-01-01        81034400                   372   \n",
       "23        Mongolia   2018-02-01        81034400                   372   \n",
       "24        Mongolia   2018-03-01        81034400                   372   \n",
       "25        Mongolia   2018-04-01        81034400                   372   \n",
       "26        Mongolia   2018-05-01        81034400                   372   \n",
       "\n",
       "      Quantity  \n",
       "22  1838761200  \n",
       "23  1261574500  \n",
       "24  3041886120  \n",
       "25  3353555369  \n",
       "26  3988952691  "
      ]
     },
     "execution_count": 21,
     "metadata": {},
     "output_type": "execute_result"
    }
   ],
   "source": [
    "mongolia.head()"
   ]
  },
  {
   "cell_type": "code",
   "execution_count": null,
   "metadata": {
    "cell_id": "00030-2b1cc882-599f-4ec7-8237-9828a8d01e38",
    "deepnote_cell_type": "code"
   },
   "outputs": [
    {
     "data": {
      "image/png": "[encoded data removed]",
      "text/plain": [
       "<Figure size 864x576 with 1 Axes>"
      ]
     },
     "metadata": {
      "image/png": {
       "height": 606,
       "width": 839
      }
     },
     "output_type": "display_data"
    }
   ],
   "source": [
    "fig, ax = plt.subplots()\n",
    "\n",
    "# Plot data and label axes\n",
    "ax.plot(mongolia['Date of data'], mongolia['Quantity'] / 1000000000,label='Mongolia', color='tab:red')\n",
    "ax.plot(australia['Date of data'], australia['Quantity'] / 1000000000, label='Australia', color='tab:blue')\n",
    "ax.set_xlabel('Reporting Month')\n",
    "ax.set_ylabel(\"Kilograms\")\n",
    "\n",
    "# Set ticks\n",
    "ax.set_yticks(np.arange(0, 12, 2))\n",
    "ax.set_yticklabels(['','2B','4B','6B','8B','10B'])\n",
    "ax.set_ylim(bottom=0)\n",
    "ax.set_xlim(left=datetime.date(2020, 1, 1))\n",
    "ax.set_xlim(right=datetime.date(2020, 10, 5))\n",
    "\n",
    "# Make pretty dates\n",
    "locator = mdates.AutoDateLocator(minticks=3, maxticks=12)\n",
    "formatter = mdates.ConciseDateFormatter(locator)\n",
    "ax.xaxis.set_major_locator(locator)\n",
    "ax.xaxis.set_major_formatter(formatter)\n",
    "\n",
    "# Title and subtitle\n",
    "ax.text(x = datetime.date(2019, 12, 15), y = 12.6, s = 'China cracks down on Australian coal', fontsize=26, weight='bold', alpha=.8)\n",
    "ax.text(x = datetime.date(2019, 12, 15), y = 12, s = 'Mongolian and Australian total coal exports to China', fontsize=18, alpha=.8)\n",
    "\n",
    "# Set bottom banner\n",
    "ax.text(x = datetime.date(2019, 12, 10), y = -1.6, s = ' Source: China Customs                                                                                                                                                  ', fontsize = 14, color = '#f0f0f0', backgroundcolor = 'dimgrey')\n",
    "\n",
    "# Set Legend\n",
    "ax.legend(framealpha=1)\n",
    "\n",
    "plt.savefig('two-big-players.png', dpi = 300, bbox_inches=\"tight\")"
   ]
  },
  {
   "cell_type": "markdown",
   "metadata": {
    "cell_id": "00031-ccda2f8a-2d17-4e96-8c9a-dc8e9ca96a97",
    "deepnote_cell_type": "markdown"
   },
   "source": [
    "### Percentage of Coking Coal"
   ]
  },
  {
   "cell_type": "markdown",
   "metadata": {
    "cell_id": "00032-24d7586d-0f0d-4eed-8c0e-dd7d86d364e6",
    "deepnote_cell_type": "markdown"
   },
   "source": [
    "We don't need a chart for this, just some numbers. "
   ]
  },
  {
   "cell_type": "code",
   "execution_count": null,
   "metadata": {
    "cell_id": "00033-7055cbe9-943c-40c4-97f0-aaba201f3459",
    "deepnote_cell_type": "code"
   },
   "outputs": [
    {
     "data": {
      "text/html": [
       "<div>\n",
       "<style scoped>\n",
       "    .dataframe tbody tr th:only-of-type {\n",
       "        vertical-align: middle;\n",
       "    }\n",
       "\n",
       "    .dataframe tbody tr th {\n",
       "        vertical-align: top;\n",
       "    }\n",
       "\n",
       "    .dataframe thead th {\n",
       "        text-align: right;\n",
       "    }\n",
       "</style>\n",
       "<table border=\"1\" class=\"dataframe\">\n",
       "  <thead>\n",
       "    <tr style=\"text-align: right;\">\n",
       "      <th></th>\n",
       "      <th>Date of data</th>\n",
       "      <th>Commodity code</th>\n",
       "      <th>Commodity</th>\n",
       "      <th>Trading partner code</th>\n",
       "      <th>Trading partner</th>\n",
       "      <th>Quantity</th>\n",
       "      <th>Unit</th>\n",
       "    </tr>\n",
       "  </thead>\n",
       "  <tbody>\n",
       "    <tr>\n",
       "      <th>0</th>\n",
       "      <td>2020-03-01</td>\n",
       "      <td>27011210</td>\n",
       "      <td>Bituminous coking coal, not agglomerated</td>\n",
       "      <td>124</td>\n",
       "      <td>Mongolia</td>\n",
       "      <td>49580090</td>\n",
       "      <td>Kilogram</td>\n",
       "    </tr>\n",
       "    <tr>\n",
       "      <th>1</th>\n",
       "      <td>2020-04-01</td>\n",
       "      <td>27011210</td>\n",
       "      <td>Bituminous coking coal, not agglomerated</td>\n",
       "      <td>124</td>\n",
       "      <td>Mongolia</td>\n",
       "      <td>775241530</td>\n",
       "      <td>Kilogram</td>\n",
       "    </tr>\n",
       "    <tr>\n",
       "      <th>2</th>\n",
       "      <td>2020-05-01</td>\n",
       "      <td>27011210</td>\n",
       "      <td>Bituminous coking coal, not agglomerated</td>\n",
       "      <td>124</td>\n",
       "      <td>Mongolia</td>\n",
       "      <td>1707866600</td>\n",
       "      <td>Kilogram</td>\n",
       "    </tr>\n",
       "    <tr>\n",
       "      <th>3</th>\n",
       "      <td>2020-06-01</td>\n",
       "      <td>27011210</td>\n",
       "      <td>Bituminous coking coal, not agglomerated</td>\n",
       "      <td>124</td>\n",
       "      <td>Mongolia</td>\n",
       "      <td>2094031782</td>\n",
       "      <td>Kilogram</td>\n",
       "    </tr>\n",
       "    <tr>\n",
       "      <th>4</th>\n",
       "      <td>2020-07-01</td>\n",
       "      <td>27011210</td>\n",
       "      <td>Bituminous coking coal, not agglomerated</td>\n",
       "      <td>124</td>\n",
       "      <td>Mongolia</td>\n",
       "      <td>2202018384</td>\n",
       "      <td>Kilogram</td>\n",
       "    </tr>\n",
       "    <tr>\n",
       "      <th>...</th>\n",
       "      <td>...</td>\n",
       "      <td>...</td>\n",
       "      <td>...</td>\n",
       "      <td>...</td>\n",
       "      <td>...</td>\n",
       "      <td>...</td>\n",
       "      <td>...</td>\n",
       "    </tr>\n",
       "    <tr>\n",
       "      <th>140</th>\n",
       "      <td>2018-08-01</td>\n",
       "      <td>27011900</td>\n",
       "      <td>Other coal, not agglomerated, nes</td>\n",
       "      <td>124</td>\n",
       "      <td>Mongolia</td>\n",
       "      <td>295712400</td>\n",
       "      <td>Kilogram</td>\n",
       "    </tr>\n",
       "    <tr>\n",
       "      <th>141</th>\n",
       "      <td>2018-09-01</td>\n",
       "      <td>27011900</td>\n",
       "      <td>Other coal, not agglomerated, nes</td>\n",
       "      <td>124</td>\n",
       "      <td>Mongolia</td>\n",
       "      <td>474611960</td>\n",
       "      <td>Kilogram</td>\n",
       "    </tr>\n",
       "    <tr>\n",
       "      <th>142</th>\n",
       "      <td>2018-10-01</td>\n",
       "      <td>27011900</td>\n",
       "      <td>Other coal, not agglomerated, nes</td>\n",
       "      <td>124</td>\n",
       "      <td>Mongolia</td>\n",
       "      <td>329983150</td>\n",
       "      <td>Kilogram</td>\n",
       "    </tr>\n",
       "    <tr>\n",
       "      <th>143</th>\n",
       "      <td>2018-11-01</td>\n",
       "      <td>27011900</td>\n",
       "      <td>Other coal, not agglomerated, nes</td>\n",
       "      <td>124</td>\n",
       "      <td>Mongolia</td>\n",
       "      <td>480981050</td>\n",
       "      <td>Kilogram</td>\n",
       "    </tr>\n",
       "    <tr>\n",
       "      <th>144</th>\n",
       "      <td>2018-12-01</td>\n",
       "      <td>27011900</td>\n",
       "      <td>Other coal, not agglomerated, nes</td>\n",
       "      <td>124</td>\n",
       "      <td>Mongolia</td>\n",
       "      <td>98733750</td>\n",
       "      <td>Kilogram</td>\n",
       "    </tr>\n",
       "  </tbody>\n",
       "</table>\n",
       "<p>145 rows × 7 columns</p>\n",
       "</div>"
      ],
      "text/plain": [
       "    Date of data  Commodity code                                 Commodity  \\\n",
       "0     2020-03-01        27011210  Bituminous coking coal, not agglomerated   \n",
       "1     2020-04-01        27011210  Bituminous coking coal, not agglomerated   \n",
       "2     2020-05-01        27011210  Bituminous coking coal, not agglomerated   \n",
       "3     2020-06-01        27011210  Bituminous coking coal, not agglomerated   \n",
       "4     2020-07-01        27011210  Bituminous coking coal, not agglomerated   \n",
       "..           ...             ...                                       ...   \n",
       "140   2018-08-01        27011900         Other coal, not agglomerated, nes   \n",
       "141   2018-09-01        27011900         Other coal, not agglomerated, nes   \n",
       "142   2018-10-01        27011900         Other coal, not agglomerated, nes   \n",
       "143   2018-11-01        27011900         Other coal, not agglomerated, nes   \n",
       "144   2018-12-01        27011900         Other coal, not agglomerated, nes   \n",
       "\n",
       "     Trading partner code Trading partner    Quantity      Unit  \n",
       "0                     124        Mongolia    49580090  Kilogram  \n",
       "1                     124        Mongolia   775241530  Kilogram  \n",
       "2                     124        Mongolia  1707866600  Kilogram  \n",
       "3                     124        Mongolia  2094031782  Kilogram  \n",
       "4                     124        Mongolia  2202018384  Kilogram  \n",
       "..                    ...             ...         ...       ...  \n",
       "140                   124        Mongolia   295712400  Kilogram  \n",
       "141                   124        Mongolia   474611960  Kilogram  \n",
       "142                   124        Mongolia   329983150  Kilogram  \n",
       "143                   124        Mongolia   480981050  Kilogram  \n",
       "144                   124        Mongolia    98733750  Kilogram  \n",
       "\n",
       "[145 rows x 7 columns]"
      ]
     },
     "execution_count": 23,
     "metadata": {},
     "output_type": "execute_result"
    }
   ],
   "source": [
    "coal"
   ]
  },
  {
   "cell_type": "code",
   "execution_count": null,
   "metadata": {
    "cell_id": "00034-64c5e9b9-3e6a-4c0c-86f1-367983b961a2",
    "deepnote_cell_type": "code"
   },
   "outputs": [],
   "source": [
    "mongolian_exports = coal[coal['Trading partner'] == 'Mongolia'].groupby(by=['Date of data','Commodity']).sum().reset_index().pivot(index='Date of data', columns='Commodity',values='Quantity')"
   ]
  },
  {
   "cell_type": "code",
   "execution_count": null,
   "metadata": {
    "cell_id": "00035-1fff8475-92c3-4535-a440-b841fa219942",
    "deepnote_cell_type": "code"
   },
   "outputs": [],
   "source": [
    "mongolian_exports['Total'] = coal[coal['Trading partner'] == 'Mongolia'].groupby(by='Date of data').sum()['Quantity']"
   ]
  },
  {
   "cell_type": "code",
   "execution_count": null,
   "metadata": {
    "cell_id": "00036-8de57ebf-5f1b-4373-bfc5-2a9d511aa3c2",
    "deepnote_cell_type": "code"
   },
   "outputs": [],
   "source": [
    "mongolian_exports['Coking Coal %'] = mongolian_exports['Bituminous coking coal, not agglomerated'] / mongolian_exports['Total'] * 100"
   ]
  },
  {
   "cell_type": "markdown",
   "metadata": {
    "cell_id": "00037-2b2f83c0-c198-4f23-a1ef-ae05afb8b36f",
    "deepnote_cell_type": "markdown"
   },
   "source": [
    "Here is the average percentage of coal being exported to China from Mongolia that is coking coal."
   ]
  },
  {
   "cell_type": "code",
   "execution_count": null,
   "metadata": {
    "cell_id": "00038-05a9926c-8fc7-441b-a4bb-95455fc51944",
    "deepnote_cell_type": "code"
   },
   "outputs": [
    {
     "data": {
      "text/plain": [
       "0.8515217257307697"
      ]
     },
     "execution_count": 27,
     "metadata": {},
     "output_type": "execute_result"
    }
   ],
   "source": [
    "mongolian_exports['Bituminous coking coal, not agglomerated'].sum() / mongolian_exports['Total'].sum()"
   ]
  },
  {
   "cell_type": "code",
   "execution_count": null,
   "metadata": {
    "cell_id": "00039-64b9c94b-cfe9-4e61-8666-c22959d84a05",
    "deepnote_cell_type": "code"
   },
   "outputs": [
    {
     "data": {
      "text/plain": [
       "83.5415248258141"
      ]
     },
     "execution_count": 28,
     "metadata": {},
     "output_type": "execute_result"
    }
   ],
   "source": [
    "mongolian_exports['Coking Coal %'].mean()"
   ]
  },
  {
   "cell_type": "code",
   "execution_count": null,
   "metadata": {
    "cell_id": "00040-b0b05c8f-3c3e-49db-9a7c-31fc5c58139d",
    "deepnote_cell_type": "code"
   },
   "outputs": [],
   "source": [
    "australian_exports = coal[coal['Trading partner'] == 'Australia'].groupby(by=['Date of data','Commodity']).sum().reset_index().pivot(index='Date of data', columns='Commodity',values='Quantity')"
   ]
  },
  {
   "cell_type": "code",
   "execution_count": null,
   "metadata": {
    "cell_id": "00041-299a9e6c-2035-47ca-bd2c-cfedaad85a51",
    "deepnote_cell_type": "code"
   },
   "outputs": [],
   "source": [
    "australian_exports['Total'] = coal[coal['Trading partner'] == 'Australia'].groupby(by='Date of data').sum()['Quantity']"
   ]
  },
  {
   "cell_type": "code",
   "execution_count": null,
   "metadata": {
    "cell_id": "00042-6558f68b-0cfb-47bd-ab79-c101c061cd3f",
    "deepnote_cell_type": "code"
   },
   "outputs": [
    {
     "data": {
      "text/plain": [
       "0.4281580308433345"
      ]
     },
     "execution_count": 31,
     "metadata": {},
     "output_type": "execute_result"
    }
   ],
   "source": [
    "australian_exports['Bituminous coking coal, not agglomerated'].sum() / australian_exports['Total'].sum()"
   ]
  },
  {
   "cell_type": "code",
   "execution_count": null,
   "metadata": {
    "cell_id": "00043-e976c17a-fd13-496a-93d5-678b5ec3a5c6",
    "deepnote_cell_type": "code"
   },
   "outputs": [],
   "source": [
    "australian_exports['Coking Coal %'] = australian_exports['Bituminous coking coal, not agglomerated'] / australian_exports['Total'] * 100"
   ]
  },
  {
   "cell_type": "markdown",
   "metadata": {
    "cell_id": "00044-648d0600-2490-4390-ad96-e4f4310d9235",
    "deepnote_cell_type": "markdown"
   },
   "source": [
    "Only 42% of Australia's coal export to China is coking coal. "
   ]
  },
  {
   "cell_type": "code",
   "execution_count": null,
   "metadata": {
    "cell_id": "00045-43006ce9-84dd-455b-bd25-2886e23ff179",
    "deepnote_cell_type": "code"
   },
   "outputs": [
    {
     "data": {
      "text/plain": [
       "42.583031352052984"
      ]
     },
     "execution_count": 33,
     "metadata": {},
     "output_type": "execute_result"
    }
   ],
   "source": [
    "australian_exports['Coking Coal %'].mean()"
   ]
  },
  {
   "cell_type": "markdown",
   "metadata": {
    "cell_id": "00046-988d8493-8cff-4cba-adfc-6161cecb688b",
    "deepnote_cell_type": "markdown"
   },
   "source": [
    "### Coking Coal"
   ]
  },
  {
   "cell_type": "code",
   "execution_count": null,
   "metadata": {
    "cell_id": "00047-d287b49b-bd09-489c-b7e9-05d6b6a611c3",
    "deepnote_cell_type": "code"
   },
   "outputs": [],
   "source": [
    "coking_mongolia = coal[(coal['Trading partner'] == 'Mongolia') & (coal['Commodity'] == 'Bituminous coking coal, not agglomerated')][['Date of data','Quantity']]"
   ]
  },
  {
   "cell_type": "code",
   "execution_count": null,
   "metadata": {
    "cell_id": "00048-80427a15-20d6-485c-8b61-26d5b991ccf3",
    "deepnote_cell_type": "code"
   },
   "outputs": [],
   "source": [
    "coking_mongolia = coking_mongolia.rename(columns={'Quantity':'Mongolia'})"
   ]
  },
  {
   "cell_type": "code",
   "execution_count": null,
   "metadata": {
    "cell_id": "00049-f4141c89-e269-4f0f-8a77-8ca7e8551737",
    "deepnote_cell_type": "code"
   },
   "outputs": [],
   "source": [
    "coking_australia = coal[(coal['Trading partner'] == 'Australia') & (coal['Commodity'] == 'Bituminous coking coal, not agglomerated')][['Date of data','Quantity']]"
   ]
  },
  {
   "cell_type": "code",
   "execution_count": null,
   "metadata": {
    "cell_id": "00050-775e4893-513e-41dc-a55b-e25a482024de",
    "deepnote_cell_type": "code"
   },
   "outputs": [],
   "source": [
    "coking_australia = coking_australia.rename(columns={'Quantity':'Australia'})"
   ]
  },
  {
   "cell_type": "code",
   "execution_count": null,
   "metadata": {
    "cell_id": "00051-37dc0f7d-1cb0-4aae-8e44-f84b990b341e",
    "deepnote_cell_type": "code"
   },
   "outputs": [],
   "source": [
    "coking_coal = coking_coal.merge(coking_mongolia, how='left', on='Date of data')"
   ]
  },
  {
   "cell_type": "code",
   "execution_count": null,
   "metadata": {
    "cell_id": "00052-5552ef8c-5448-4651-85cd-247ffe0b7282",
    "deepnote_cell_type": "code"
   },
   "outputs": [],
   "source": [
    "coking_coal = coking_coal.merge(coking_australia, how='left', on='Date of data')"
   ]
  },
  {
   "cell_type": "code",
   "execution_count": null,
   "metadata": {
    "cell_id": "00053-bf667595-9037-4244-b4c0-65b57465d190",
    "deepnote_cell_type": "code"
   },
   "outputs": [],
   "source": [
    "coking_coal['Mongolian %'] = coking_coal['Mongolia'] / coking_coal['Quantity'] * 100"
   ]
  },
  {
   "cell_type": "code",
   "execution_count": null,
   "metadata": {
    "cell_id": "00054-55735127-e376-41ef-9537-597f4f07c2e9",
    "deepnote_cell_type": "code"
   },
   "outputs": [],
   "source": [
    "coking_coal['Australian %'] = coking_coal['Australia'] / coking_coal['Quantity'] * 100"
   ]
  },
  {
   "cell_type": "code",
   "execution_count": null,
   "metadata": {
    "cell_id": "00055-41dc9ebe-0dd2-4078-abda-8f0793766447",
    "deepnote_cell_type": "code"
   },
   "outputs": [],
   "source": [
    "coking_coal['Other %'] = 100 - (coking_coal['Mongolian %'] + coking_coal['Australian %'])"
   ]
  },
  {
   "cell_type": "code",
   "execution_count": null,
   "metadata": {
    "cell_id": "00056-73b7a62d-c94f-426d-967b-c281770d9e70",
    "deepnote_cell_type": "code"
   },
   "outputs": [],
   "source": [
    "coking_coal = coking_coal.sort_values('Date of data')"
   ]
  },
  {
   "cell_type": "code",
   "execution_count": null,
   "metadata": {
    "cell_id": "00057-ad99d6f1-46fc-415d-9382-252f6bceb585",
    "deepnote_cell_type": "code"
   },
   "outputs": [
    {
     "data": {
      "text/html": [
       "<div>\n",
       "<style scoped>\n",
       "    .dataframe tbody tr th:only-of-type {\n",
       "        vertical-align: middle;\n",
       "    }\n",
       "\n",
       "    .dataframe tbody tr th {\n",
       "        vertical-align: top;\n",
       "    }\n",
       "\n",
       "    .dataframe thead th {\n",
       "        text-align: right;\n",
       "    }\n",
       "</style>\n",
       "<table border=\"1\" class=\"dataframe\">\n",
       "  <thead>\n",
       "    <tr style=\"text-align: right;\">\n",
       "      <th></th>\n",
       "      <th>Date of data</th>\n",
       "      <th>Commodity code</th>\n",
       "      <th>Commodity</th>\n",
       "      <th>Quantity</th>\n",
       "      <th>Unit</th>\n",
       "      <th>Mongolia</th>\n",
       "      <th>Australia</th>\n",
       "      <th>Mongolian %</th>\n",
       "      <th>Australian %</th>\n",
       "      <th>Other %</th>\n",
       "    </tr>\n",
       "  </thead>\n",
       "  <tbody>\n",
       "    <tr>\n",
       "      <th>0</th>\n",
       "      <td>2019-01-01</td>\n",
       "      <td>27011210</td>\n",
       "      <td>Bituminous coking coal, not agglomerated</td>\n",
       "      <td>7354347949</td>\n",
       "      <td>Kilogram</td>\n",
       "      <td>2088395041</td>\n",
       "      <td>4315651554</td>\n",
       "      <td>28.396740</td>\n",
       "      <td>58.681634</td>\n",
       "      <td>12.921626</td>\n",
       "    </tr>\n",
       "    <tr>\n",
       "      <th>1</th>\n",
       "      <td>2019-02-01</td>\n",
       "      <td>27011210</td>\n",
       "      <td>Bituminous coking coal, not agglomerated</td>\n",
       "      <td>2902950494</td>\n",
       "      <td>Kilogram</td>\n",
       "      <td>1427451044</td>\n",
       "      <td>1148183480</td>\n",
       "      <td>49.172421</td>\n",
       "      <td>39.552293</td>\n",
       "      <td>11.275286</td>\n",
       "    </tr>\n",
       "    <tr>\n",
       "      <th>2</th>\n",
       "      <td>2019-03-01</td>\n",
       "      <td>27011210</td>\n",
       "      <td>Bituminous coking coal, not agglomerated</td>\n",
       "      <td>6040473002</td>\n",
       "      <td>Kilogram</td>\n",
       "      <td>3264099580</td>\n",
       "      <td>2129821622</td>\n",
       "      <td>54.037152</td>\n",
       "      <td>35.259186</td>\n",
       "      <td>10.703662</td>\n",
       "    </tr>\n",
       "    <tr>\n",
       "      <th>3</th>\n",
       "      <td>2019-04-01</td>\n",
       "      <td>27011210</td>\n",
       "      <td>Bituminous coking coal, not agglomerated</td>\n",
       "      <td>7417825279</td>\n",
       "      <td>Kilogram</td>\n",
       "      <td>3685119704</td>\n",
       "      <td>2708304506</td>\n",
       "      <td>49.679246</td>\n",
       "      <td>36.510762</td>\n",
       "      <td>13.809992</td>\n",
       "    </tr>\n",
       "    <tr>\n",
       "      <th>4</th>\n",
       "      <td>2019-05-01</td>\n",
       "      <td>27011210</td>\n",
       "      <td>Bituminous coking coal, not agglomerated</td>\n",
       "      <td>5901030562</td>\n",
       "      <td>Kilogram</td>\n",
       "      <td>3531928827</td>\n",
       "      <td>1366768952</td>\n",
       "      <td>59.852746</td>\n",
       "      <td>23.161530</td>\n",
       "      <td>16.985724</td>\n",
       "    </tr>\n",
       "  </tbody>\n",
       "</table>\n",
       "</div>"
      ],
      "text/plain": [
       "  Date of data  Commodity code                                 Commodity  \\\n",
       "0   2019-01-01        27011210  Bituminous coking coal, not agglomerated   \n",
       "1   2019-02-01        27011210  Bituminous coking coal, not agglomerated   \n",
       "2   2019-03-01        27011210  Bituminous coking coal, not agglomerated   \n",
       "3   2019-04-01        27011210  Bituminous coking coal, not agglomerated   \n",
       "4   2019-05-01        27011210  Bituminous coking coal, not agglomerated   \n",
       "\n",
       "     Quantity      Unit    Mongolia   Australia  Mongolian %  Australian %  \\\n",
       "0  7354347949  Kilogram  2088395041  4315651554    28.396740     58.681634   \n",
       "1  2902950494  Kilogram  1427451044  1148183480    49.172421     39.552293   \n",
       "2  6040473002  Kilogram  3264099580  2129821622    54.037152     35.259186   \n",
       "3  7417825279  Kilogram  3685119704  2708304506    49.679246     36.510762   \n",
       "4  5901030562  Kilogram  3531928827  1366768952    59.852746     23.161530   \n",
       "\n",
       "     Other %  \n",
       "0  12.921626  \n",
       "1  11.275286  \n",
       "2  10.703662  \n",
       "3  13.809992  \n",
       "4  16.985724  "
      ]
     },
     "execution_count": 44,
     "metadata": {},
     "output_type": "execute_result"
    }
   ],
   "source": [
    "coking_coal.head()"
   ]
  },
  {
   "cell_type": "code",
   "execution_count": null,
   "metadata": {
    "cell_id": "00058-bb1dd7ed-0126-4d4d-92ea-aa46f7b89b56",
    "deepnote_cell_type": "code"
   },
   "outputs": [
    {
     "data": {
      "text/html": [
       "<div>\n",
       "<style scoped>\n",
       "    .dataframe tbody tr th:only-of-type {\n",
       "        vertical-align: middle;\n",
       "    }\n",
       "\n",
       "    .dataframe tbody tr th {\n",
       "        vertical-align: top;\n",
       "    }\n",
       "\n",
       "    .dataframe thead th {\n",
       "        text-align: right;\n",
       "    }\n",
       "</style>\n",
       "<table border=\"1\" class=\"dataframe\">\n",
       "  <thead>\n",
       "    <tr style=\"text-align: right;\">\n",
       "      <th></th>\n",
       "      <th>Date of data</th>\n",
       "      <th>Commodity code</th>\n",
       "      <th>Commodity</th>\n",
       "      <th>Quantity</th>\n",
       "      <th>Unit</th>\n",
       "      <th>Mongolia</th>\n",
       "      <th>Australia</th>\n",
       "      <th>Mongolian %</th>\n",
       "      <th>Australian %</th>\n",
       "      <th>Other %</th>\n",
       "    </tr>\n",
       "  </thead>\n",
       "  <tbody>\n",
       "    <tr>\n",
       "      <th>0</th>\n",
       "      <td>2019-01-01</td>\n",
       "      <td>27011210</td>\n",
       "      <td>Bituminous coking coal, not agglomerated</td>\n",
       "      <td>7354347949</td>\n",
       "      <td>Kilogram</td>\n",
       "      <td>2088395041</td>\n",
       "      <td>4315651554</td>\n",
       "      <td>28.396740</td>\n",
       "      <td>58.681634</td>\n",
       "      <td>12.921626</td>\n",
       "    </tr>\n",
       "    <tr>\n",
       "      <th>1</th>\n",
       "      <td>2019-02-01</td>\n",
       "      <td>27011210</td>\n",
       "      <td>Bituminous coking coal, not agglomerated</td>\n",
       "      <td>2902950494</td>\n",
       "      <td>Kilogram</td>\n",
       "      <td>1427451044</td>\n",
       "      <td>1148183480</td>\n",
       "      <td>49.172421</td>\n",
       "      <td>39.552293</td>\n",
       "      <td>11.275286</td>\n",
       "    </tr>\n",
       "    <tr>\n",
       "      <th>2</th>\n",
       "      <td>2019-03-01</td>\n",
       "      <td>27011210</td>\n",
       "      <td>Bituminous coking coal, not agglomerated</td>\n",
       "      <td>6040473002</td>\n",
       "      <td>Kilogram</td>\n",
       "      <td>3264099580</td>\n",
       "      <td>2129821622</td>\n",
       "      <td>54.037152</td>\n",
       "      <td>35.259186</td>\n",
       "      <td>10.703662</td>\n",
       "    </tr>\n",
       "    <tr>\n",
       "      <th>3</th>\n",
       "      <td>2019-04-01</td>\n",
       "      <td>27011210</td>\n",
       "      <td>Bituminous coking coal, not agglomerated</td>\n",
       "      <td>7417825279</td>\n",
       "      <td>Kilogram</td>\n",
       "      <td>3685119704</td>\n",
       "      <td>2708304506</td>\n",
       "      <td>49.679246</td>\n",
       "      <td>36.510762</td>\n",
       "      <td>13.809992</td>\n",
       "    </tr>\n",
       "    <tr>\n",
       "      <th>4</th>\n",
       "      <td>2019-05-01</td>\n",
       "      <td>27011210</td>\n",
       "      <td>Bituminous coking coal, not agglomerated</td>\n",
       "      <td>5901030562</td>\n",
       "      <td>Kilogram</td>\n",
       "      <td>3531928827</td>\n",
       "      <td>1366768952</td>\n",
       "      <td>59.852746</td>\n",
       "      <td>23.161530</td>\n",
       "      <td>16.985724</td>\n",
       "    </tr>\n",
       "  </tbody>\n",
       "</table>\n",
       "</div>"
      ],
      "text/plain": [
       "  Date of data  Commodity code                                 Commodity  \\\n",
       "0   2019-01-01        27011210  Bituminous coking coal, not agglomerated   \n",
       "1   2019-02-01        27011210  Bituminous coking coal, not agglomerated   \n",
       "2   2019-03-01        27011210  Bituminous coking coal, not agglomerated   \n",
       "3   2019-04-01        27011210  Bituminous coking coal, not agglomerated   \n",
       "4   2019-05-01        27011210  Bituminous coking coal, not agglomerated   \n",
       "\n",
       "     Quantity      Unit    Mongolia   Australia  Mongolian %  Australian %  \\\n",
       "0  7354347949  Kilogram  2088395041  4315651554    28.396740     58.681634   \n",
       "1  2902950494  Kilogram  1427451044  1148183480    49.172421     39.552293   \n",
       "2  6040473002  Kilogram  3264099580  2129821622    54.037152     35.259186   \n",
       "3  7417825279  Kilogram  3685119704  2708304506    49.679246     36.510762   \n",
       "4  5901030562  Kilogram  3531928827  1366768952    59.852746     23.161530   \n",
       "\n",
       "     Other %  \n",
       "0  12.921626  \n",
       "1  11.275286  \n",
       "2  10.703662  \n",
       "3  13.809992  \n",
       "4  16.985724  "
      ]
     },
     "execution_count": 45,
     "metadata": {},
     "output_type": "execute_result"
    }
   ],
   "source": [
    "coking_coal.head()"
   ]
  },
  {
   "cell_type": "code",
   "execution_count": null,
   "metadata": {
    "cell_id": "00059-63ca78f6-6def-4415-8ec8-01a834af52ae",
    "deepnote_cell_type": "code"
   },
   "outputs": [
    {
     "data": {
      "image/png": "[encoded data removed]",
      "text/plain": [
       "<Figure size 864x576 with 1 Axes>"
      ]
     },
     "metadata": {
      "image/png": {
       "height": 620,
       "width": 825
      }
     },
     "output_type": "display_data"
    }
   ],
   "source": [
    "fig, ax = plt.subplots()\n",
    "\n",
    "# Make the base plot\n",
    "width = 20\n",
    "ax.bar(coking_coal['Date of data'], coking_coal['Mongolian %'],  width=width, label='Mongolia', color='tab:red')\n",
    "ax.bar(coking_coal['Date of data'], coking_coal['Australian %'], width=width, label='Australia', bottom=coking_coal['Mongolian %'], color='tab:blue')\n",
    "ax.bar(coking_coal['Date of data'], coking_coal['Other %'],  width=width, label='Other', bottom=coking_coal['Australian %'] + coking_coal['Mongolian %'], color='grey')\n",
    "\n",
    "# Set labels\n",
    "ax.set_xlabel('Reporting Month')\n",
    "ax.set_ylabel(\"Share of Exports (%)\")\n",
    "\n",
    "# Make pretty dates\n",
    "locator = mdates.AutoDateLocator(minticks=3, maxticks=12)\n",
    "formatter = mdates.ConciseDateFormatter(locator)\n",
    "ax.xaxis.set_major_locator(locator)\n",
    "ax.xaxis.set_major_formatter(formatter)\n",
    "\n",
    "ax.set_ylim(top=100)\n",
    "ax.set_xlim(left=datetime.date(2018, 12, 15), right=datetime.date(2020, 10, 15))\n",
    "\n",
    "# Title and subtitle\n",
    "ax.text(x = datetime.date(2018, 11, 10), y = 111, s = \"Australia's Loss is Mongolia's Gain\", fontsize=26, weight='bold', alpha=.8)\n",
    "ax.text(x = datetime.date(2018, 11, 10), y = 106, s = 'Share of coking coal exports to China', fontsize=18, alpha=.8)\n",
    "\n",
    "# Set bottom banner\n",
    "ax.text(x = datetime.date(2018, 11, 1), y = -14, s = ' Source: China Customs                                                                                                                                               ', fontsize = 14, color = '#f0f0f0', backgroundcolor = 'dimgrey')\n",
    "\n",
    "\n",
    "ax.legend(loc='lower left', framealpha=1)\n",
    "\n",
    "plt.savefig('australia-loss.png', dpi = 300, bbox_inches=\"tight\")"
   ]
  },
  {
   "cell_type": "code",
   "execution_count": null,
   "metadata": {
    "cell_id": "00060-8b9faaac-db0b-4a4c-a130-f4e569e9cfd3",
    "deepnote_cell_type": "code"
   },
   "outputs": [],
   "source": []
  },
  {
   "cell_type": "code",
   "execution_count": null,
   "metadata": {
    "cell_id": "00061-fcad1bd7-47e8-4cda-9acd-64f298190cbb",
    "deepnote_cell_type": "code"
   },
   "outputs": [],
   "source": []
  },
  {
   "cell_type": "code",
   "execution_count": null,
   "metadata": {
    "cell_id": "00062-b86f5d42-5337-4930-bbbd-2853c65cdf42",
    "deepnote_cell_type": "code"
   },
   "outputs": [],
   "source": []
  }
 ],
 "metadata": {
  "deepnote": {},
  "deepnote_execution_queue": [],
  "deepnote_notebook_id": "90378331-19d2-4166-9fd5-9923e17f0580",
  "kernelspec": {
   "display_name": "Python 3 (ipykernel)",
   "language": "python",
   "name": "python3"
  },
  "language_info": {
   "codemirror_mode": {
    "name": "ipython",
    "version": 3
   },
   "file_extension": ".py",
   "mimetype": "text/x-python",
   "name": "python",
   "nbconvert_exporter": "python",
   "pygments_lexer": "ipython3",
   "version": "3.9.7"
  }
 },
 "nbformat": 4,
 "nbformat_minor": 4
}

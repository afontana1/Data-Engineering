{
 "cells": [
  {
   "cell_type": "markdown",
   "source": "# Market Price Data Collection\n\nThis notebook scrapes and combines weekly price data from Mongolia's National Statistics Office. Each week they record average prices for various staple products around Ulaanbaatar. \n\nLink to web page: https://1212.mn/BookLibrary.aspx?category=004\n\nThis notebook will be run on a schedule to allow for the dataset to be updated monthly.",
   "metadata": {
    "cell_id": "00000-2a55d6be-a991-4ee6-88bf-8d31a6380592",
    "deepnote_cell_type": "markdown"
   }
  },
  {
   "cell_type": "code",
   "metadata": {
    "cell_id": "00001-13c6154b-f8e1-4864-8ff9-b18d550ef4c4",
    "deepnote_to_be_reexecuted": false,
    "execution_millis": 154,
    "execution_start": 1639267235558,
    "source_hash": "4f69442a",
    "deepnote_cell_type": "code"
   },
   "source": "import pandas as pd\nimport glob\nimport requests\nfrom bs4 import BeautifulSoup\nimport shutil\nimport os\nimport datetime",
   "execution_count": null,
   "outputs": []
  },
  {
   "cell_type": "markdown",
   "source": "### Scraping data\n* Link to datasets: https://1212.mn/BookLibrary.aspx?category=004",
   "metadata": {
    "cell_id": "00002-0628e447-d19e-4ebb-b6b6-a91a7b89f8c2",
    "deepnote_cell_type": "markdown"
   }
  },
  {
   "cell_type": "code",
   "metadata": {
    "cell_id": "00003-debb5952-26fd-49f5-8f95-9283828fa62f",
    "deepnote_to_be_reexecuted": false,
    "execution_millis": 1,
    "execution_start": 1639267235769,
    "source_hash": "f0d5f1b6",
    "deepnote_cell_type": "code"
   },
   "source": "def download_file(url, name):\n    with requests.get(url, stream=True) as r:\n        with open(name, 'wb') as f:\n            shutil.copyfileobj(r.raw, f)\n\n    return name",
   "execution_count": null,
   "outputs": []
  },
  {
   "cell_type": "code",
   "metadata": {
    "tags": [],
    "cell_id": "00004-abe1e447-066c-4677-a2b2-f0306e0c5d10",
    "deepnote_to_be_reexecuted": false,
    "source_hash": "52f00a10",
    "execution_start": 1639267235770,
    "execution_millis": 43,
    "deepnote_output_heights": [
     21.1875
    ],
    "deepnote_cell_type": "code"
   },
   "source": "if os.path.isdir('raw'):\n    shutil.rmtree('raw', ignore_errors=True)\n    os.mkdir('raw')",
   "execution_count": null,
   "outputs": []
  },
  {
   "cell_type": "code",
   "metadata": {
    "cell_id": "00004-c8393fcb-0231-4fb1-a0e1-490a27d999d3",
    "deepnote_to_be_reexecuted": false,
    "execution_millis": 5480,
    "execution_start": 1639267235817,
    "source_hash": "935e8963",
    "deepnote_cell_type": "code"
   },
   "source": "URL = \"https://1212.mn/BookLibrary.aspx?category=004\"\npage = requests.get(URL)\n\nsoup = BeautifulSoup(page.content, \"html.parser\")\n",
   "execution_count": null,
   "outputs": []
  },
  {
   "cell_type": "code",
   "metadata": {
    "cell_id": "00005-1e9eff25-055f-4ad5-8038-a137e0352fcc",
    "deepnote_to_be_reexecuted": false,
    "execution_millis": 0,
    "execution_start": 1639267241305,
    "source_hash": "e0932a37",
    "deepnote_cell_type": "code"
   },
   "source": "# table = soup.findAll('tr')\ntable = soup.find('tbody')",
   "execution_count": null,
   "outputs": []
  },
  {
   "cell_type": "code",
   "metadata": {
    "cell_id": "00006-0b4a8f28-787d-4399-accc-bdb950843596",
    "deepnote_to_be_reexecuted": false,
    "execution_millis": 322077,
    "execution_start": 1639267241321,
    "source_hash": "488d58a1",
    "tags": [],
    "deepnote_cell_type": "code"
   },
   "source": "tbl_rows = table.findAll('tr')\nfor row in tbl_rows:\n    if row.find('img')['src'] == '/img/icon/xls_icon.gif': #get only xlsx files\n        link_to_xlsx = row.a['href']\n        date = row.find('img')['alt']\n        if date > '2019-01-01': #date from 2012-01-01\n            download_file(link_to_xlsx, 'raw/{}.xlsx'.format(date))\n        else:\n            break",
   "execution_count": null,
   "outputs": []
  },
  {
   "cell_type": "markdown",
   "source": "### Merging datasets",
   "metadata": {
    "cell_id": "00007-335ff75f-abe2-4551-8410-79452dbba7eb",
    "deepnote_cell_type": "markdown"
   }
  },
  {
   "cell_type": "code",
   "metadata": {
    "cell_id": "00008-3b1156ff-07de-4237-a7f0-bfcae055f4de",
    "deepnote_to_be_reexecuted": false,
    "execution_millis": 0,
    "execution_start": 1639267563398,
    "source_hash": "9be81db0",
    "deepnote_cell_type": "code"
   },
   "source": "def sheet_df(sheet):\n    sheet = pd.read_excel(sheet, sheet_name=2, skiprows=4, index_col=[0, 1])\n    sheet = sheet.dropna(axis=0, how='all')\n    sheet = sheet.dropna(axis=1, how='all')\n    sheet = sheet.reset_index()\n    \n    sheet['Барааны нэр'] = sheet['Барааны нэр'].str.strip()\n    sheet['Барааны нэр'] = sheet['Барааны нэр'] + ' ' + sheet.iloc[:,2].fillna(value='')\n    sheet['Барааны нэр'] = sheet['Барааны нэр'].str.strip()\n    sheet = sheet.drop(columns=['№', 'Unnamed: 2','Дундаж үнэ'])\n    return sheet",
   "execution_count": null,
   "outputs": []
  },
  {
   "cell_type": "code",
   "metadata": {
    "cell_id": "00009-97823075-f9d7-42b3-a893-34bcc2f463f4",
    "deepnote_to_be_reexecuted": false,
    "execution_millis": 0,
    "execution_start": 1639267563399,
    "source_hash": "e6a626d4",
    "deepnote_cell_type": "code"
   },
   "source": "path =r'raw/'\nfilenames = glob.glob(path + \"*.xlsx\")",
   "execution_count": null,
   "outputs": []
  },
  {
   "cell_type": "code",
   "metadata": {
    "cell_id": "00010-39132424-70ce-435f-8a97-c4b31f59f4e9",
    "deepnote_output_heights": [
     462.5
    ],
    "deepnote_to_be_reexecuted": false,
    "execution_millis": 33293,
    "execution_start": 1639267563400,
    "source_hash": "f86ac0c2",
    "tags": [],
    "deepnote_cell_type": "code"
   },
   "source": "main_df = {}\nfor filename in filenames:\n    try:\n        with pd.ExcelFile(filename) as reader:\n            date = filename[4:14] #get only date from file name\n            main_df[date] = sheet_df(reader)\n    except:\n        print(filename)",
   "execution_count": null,
   "outputs": []
  },
  {
   "cell_type": "code",
   "metadata": {
    "cell_id": "00011-4a2ce155-6044-4ebf-9846-7bb566783171",
    "deepnote_output_heights": [
     382.1875
    ],
    "deepnote_to_be_reexecuted": false,
    "execution_millis": 247,
    "execution_start": 1639267596750,
    "source_hash": "f1d5331a",
    "deepnote_cell_type": "code"
   },
   "source": "main_df = pd.concat(main_df, axis=0)\nmain_df = main_df.reset_index()\nmain_df = main_df.drop(['level_1'], axis=1)\nmain_df = main_df.rename({'level_0': 'date'}, axis=1)\nmain_df = pd.melt(main_df, id_vars=['date', 'Барааны нэр', 'хэмжих нэгж'], value_vars=main_df.columns.drop(['date', 'Барааны нэр', 'хэмжих нэгж']))\nmain_df.head()",
   "execution_count": null,
   "outputs": [
    {
     "output_type": "execute_result",
     "execution_count": 10,
     "data": {
      "application/vnd.deepnote.dataframe.v2+json": {
       "row_count": 5,
       "column_count": 5,
       "columns": [
        {
         "name": "date",
         "dtype": "object",
         "stats": {
          "unique_count": 1,
          "nan_count": 0,
          "categories": [
           {
            "name": "2020-08-05",
            "count": 5
           }
          ]
         }
        },
        {
         "name": "Барааны нэр",
         "dtype": "object",
         "stats": {
          "unique_count": 5,
          "nan_count": 0,
          "categories": [
           {
            "name": "\"Алтан тариа\" гурил дээд",
            "count": 1
           },
           {
            "name": "\"Алтан тариа\" гурил 1-р зэрэг",
            "count": 1
           },
           {
            "name": "3 others",
            "count": 3
           }
          ]
         }
        },
        {
         "name": "хэмжих нэгж",
         "dtype": "object",
         "stats": {
          "unique_count": 1,
          "nan_count": 0,
          "categories": [
           {
            "name": "кг",
            "count": 5
           }
          ]
         }
        },
        {
         "name": "variable",
         "dtype": "object",
         "stats": {
          "unique_count": 1,
          "nan_count": 0,
          "categories": [
           {
            "name": "\"Баянзүрх\" зах",
            "count": 5
           }
          ]
         }
        },
        {
         "name": "value",
         "dtype": "float64",
         "stats": {
          "unique_count": 3,
          "nan_count": 0,
          "min": "1200.0",
          "max": "2200.0",
          "histogram": [
           {
            "bin_start": 1200,
            "bin_end": 1300,
            "count": 2
           },
           {
            "bin_start": 1300,
            "bin_end": 1400,
            "count": 0
           },
           {
            "bin_start": 1400,
            "bin_end": 1500,
            "count": 2
           },
           {
            "bin_start": 1500,
            "bin_end": 1600,
            "count": 0
           },
           {
            "bin_start": 1600,
            "bin_end": 1700,
            "count": 0
           },
           {
            "bin_start": 1700,
            "bin_end": 1800,
            "count": 0
           },
           {
            "bin_start": 1800,
            "bin_end": 1900,
            "count": 0
           },
           {
            "bin_start": 1900,
            "bin_end": 2000,
            "count": 0
           },
           {
            "bin_start": 2000,
            "bin_end": 2100,
            "count": 0
           },
           {
            "bin_start": 2100,
            "bin_end": 2200,
            "count": 1
           }
          ]
         }
        },
        {
         "name": "_deepnote_index_column",
         "dtype": "int64"
        }
       ],
       "rows_top": [
        {
         "date": "2020-08-05",
         "Барааны нэр": "\"Алтан тариа\" гурил дээд",
         "хэмжих нэгж": "кг",
         "variable": "\"Баянзүрх\" зах",
         "value": 1400,
         "_deepnote_index_column": 0
        },
        {
         "date": "2020-08-05",
         "Барааны нэр": "\"Алтан тариа\" гурил 1-р зэрэг",
         "хэмжих нэгж": "кг",
         "variable": "\"Баянзүрх\" зах",
         "value": 1200,
         "_deepnote_index_column": 1
        },
        {
         "date": "2020-08-05",
         "Барааны нэр": "\"Алтан тариа\" савласан гурил дээдийн дээд",
         "хэмжих нэгж": "кг",
         "variable": "\"Баянзүрх\" зах",
         "value": 2200,
         "_deepnote_index_column": 2
        },
        {
         "date": "2020-08-05",
         "Барааны нэр": "\"Алтан тариа\" савласан гурил дээд",
         "хэмжих нэгж": "кг",
         "variable": "\"Баянзүрх\" зах",
         "value": 1400,
         "_deepnote_index_column": 3
        },
        {
         "date": "2020-08-05",
         "Барааны нэр": "\"Алтан тариа\" савласан гурил 1-р зэрэг",
         "хэмжих нэгж": "кг",
         "variable": "\"Баянзүрх\" зах",
         "value": 1200,
         "_deepnote_index_column": 4
        }
       ],
       "rows_bottom": null
      },
      "text/plain": "         date                                Барааны нэр хэмжих нэгж  \\\n0  2020-08-05                   \"Алтан тариа\" гурил дээд          кг   \n1  2020-08-05              \"Алтан тариа\" гурил 1-р зэрэг          кг   \n2  2020-08-05  \"Алтан тариа\" савласан гурил дээдийн дээд          кг   \n3  2020-08-05          \"Алтан тариа\" савласан гурил дээд          кг   \n4  2020-08-05     \"Алтан тариа\" савласан гурил 1-р зэрэг          кг   \n\n         variable   value  \n0  \"Баянзүрх\" зах  1400.0  \n1  \"Баянзүрх\" зах  1200.0  \n2  \"Баянзүрх\" зах  2200.0  \n3  \"Баянзүрх\" зах  1400.0  \n4  \"Баянзүрх\" зах  1200.0  ",
      "text/html": "<div>\n<style scoped>\n    .dataframe tbody tr th:only-of-type {\n        vertical-align: middle;\n    }\n\n    .dataframe tbody tr th {\n        vertical-align: top;\n    }\n\n    .dataframe thead th {\n        text-align: right;\n    }\n</style>\n<table border=\"1\" class=\"dataframe\">\n  <thead>\n    <tr style=\"text-align: right;\">\n      <th></th>\n      <th>date</th>\n      <th>Барааны нэр</th>\n      <th>хэмжих нэгж</th>\n      <th>variable</th>\n      <th>value</th>\n    </tr>\n  </thead>\n  <tbody>\n    <tr>\n      <th>0</th>\n      <td>2020-08-05</td>\n      <td>\"Алтан тариа\" гурил дээд</td>\n      <td>кг</td>\n      <td>\"Баянзүрх\" зах</td>\n      <td>1400.0</td>\n    </tr>\n    <tr>\n      <th>1</th>\n      <td>2020-08-05</td>\n      <td>\"Алтан тариа\" гурил 1-р зэрэг</td>\n      <td>кг</td>\n      <td>\"Баянзүрх\" зах</td>\n      <td>1200.0</td>\n    </tr>\n    <tr>\n      <th>2</th>\n      <td>2020-08-05</td>\n      <td>\"Алтан тариа\" савласан гурил дээдийн дээд</td>\n      <td>кг</td>\n      <td>\"Баянзүрх\" зах</td>\n      <td>2200.0</td>\n    </tr>\n    <tr>\n      <th>3</th>\n      <td>2020-08-05</td>\n      <td>\"Алтан тариа\" савласан гурил дээд</td>\n      <td>кг</td>\n      <td>\"Баянзүрх\" зах</td>\n      <td>1400.0</td>\n    </tr>\n    <tr>\n      <th>4</th>\n      <td>2020-08-05</td>\n      <td>\"Алтан тариа\" савласан гурил 1-р зэрэг</td>\n      <td>кг</td>\n      <td>\"Баянзүрх\" зах</td>\n      <td>1200.0</td>\n    </tr>\n  </tbody>\n</table>\n</div>"
     },
     "metadata": {}
    }
   ]
  },
  {
   "cell_type": "code",
   "metadata": {
    "cell_id": "00012-eda21a0c-07df-41d5-aa3c-c747695313d9",
    "deepnote_output_heights": [
     232.25
    ],
    "deepnote_to_be_reexecuted": false,
    "execution_millis": 0,
    "execution_start": 1639267597046,
    "source_hash": "b43eaf5",
    "tags": [],
    "deepnote_cell_type": "code"
   },
   "source": "main_df['date'] = pd.to_datetime(main_df['date'])",
   "execution_count": null,
   "outputs": []
  },
  {
   "cell_type": "code",
   "metadata": {
    "cell_id": "00013-486cf366-4bcd-4946-b11a-6fad3f650971",
    "deepnote_to_be_reexecuted": false,
    "execution_millis": 0,
    "execution_start": 1639267597047,
    "source_hash": "4670650f",
    "tags": [],
    "deepnote_cell_type": "code"
   },
   "source": "main_df = main_df.sort_values(by='date').reset_index(drop=True)",
   "execution_count": null,
   "outputs": []
  },
  {
   "cell_type": "code",
   "metadata": {
    "cell_id": "00014-fd788e5f-3a76-48df-b64f-17a3251f6dc8",
    "deepnote_to_be_reexecuted": false,
    "execution_millis": 4,
    "execution_start": 1639267597090,
    "source_hash": "84b89342",
    "tags": [],
    "deepnote_cell_type": "code"
   },
   "source": "print(main_df['date'].min())\nprint(main_df['date'].max())",
   "execution_count": null,
   "outputs": [
    {
     "name": "stdout",
     "text": "2019-01-02 00:00:00\n2021-12-08 00:00:00\n",
     "output_type": "stream"
    }
   ]
  },
  {
   "cell_type": "markdown",
   "source": "## Translation and Merging of Markets",
   "metadata": {
    "cell_id": "00015-f2c4f57d-1a25-4594-863a-20c572e20b8b",
    "tags": [],
    "deepnote_cell_type": "markdown"
   }
  },
  {
   "cell_type": "markdown",
   "source": "We will have two versions of this dataset, English and Mongolian. Also, some markets have been merged or moved (Mercury moved to Ikh Nayad, Max was renamed to M Mart).",
   "metadata": {
    "cell_id": "00016-ccd57e66-becd-49cb-a30a-33b47ddc5d90",
    "tags": [],
    "deepnote_cell_type": "markdown"
   }
  },
  {
   "cell_type": "code",
   "metadata": {
    "cell_id": "00017-f9d3ff2b-1b28-4062-a02c-6afb235ad3f3",
    "deepnote_to_be_reexecuted": false,
    "execution_millis": 5,
    "execution_start": 1639267597091,
    "source_hash": "b95e8f67",
    "tags": [],
    "deepnote_cell_type": "code"
   },
   "source": "main_df.head()",
   "execution_count": null,
   "outputs": [
    {
     "output_type": "execute_result",
     "execution_count": 14,
     "data": {
      "application/vnd.deepnote.dataframe.v2+json": {
       "row_count": 5,
       "column_count": 5,
       "columns": [
        {
         "name": "date",
         "dtype": "datetime64[ns]",
         "stats": {
          "unique_count": 1,
          "nan_count": 0,
          "min": "2019-01-02 00:00:00",
          "max": "2019-01-02 00:00:00",
          "histogram": null
         }
        },
        {
         "name": "Барааны нэр",
         "dtype": "object",
         "stats": {
          "unique_count": 5,
          "nan_count": 0,
          "categories": [
           {
            "name": "Байцаа, монгол",
            "count": 1
           },
           {
            "name": "\"Алтан тариа\" савласан гурил 1-р зэрэг",
            "count": 1
           },
           {
            "name": "3 others",
            "count": 3
           }
          ]
         }
        },
        {
         "name": "хэмжих нэгж",
         "dtype": "object",
         "stats": {
          "unique_count": 2,
          "nan_count": 0,
          "categories": [
           {
            "name": "кг",
            "count": 4
           },
           {
            "name": "литр",
            "count": 1
           }
          ]
         }
        },
        {
         "name": "variable",
         "dtype": "object",
         "stats": {
          "unique_count": 2,
          "nan_count": 0,
          "categories": [
           {
            "name": "\"Барс\" хт",
            "count": 4
           },
           {
            "name": "Имарт",
            "count": 1
           }
          ]
         }
        },
        {
         "name": "value",
         "dtype": "float64",
         "stats": {
          "unique_count": 4,
          "nan_count": 1,
          "min": "790.0",
          "max": "2700.0",
          "histogram": [
           {
            "bin_start": 790,
            "bin_end": 981,
            "count": 2
           },
           {
            "bin_start": 981,
            "bin_end": 1172,
            "count": 1
           },
           {
            "bin_start": 1172,
            "bin_end": 1363,
            "count": 0
           },
           {
            "bin_start": 1363,
            "bin_end": 1554,
            "count": 0
           },
           {
            "bin_start": 1554,
            "bin_end": 1745,
            "count": 0
           },
           {
            "bin_start": 1745,
            "bin_end": 1936,
            "count": 0
           },
           {
            "bin_start": 1936,
            "bin_end": 2127,
            "count": 0
           },
           {
            "bin_start": 2127,
            "bin_end": 2318,
            "count": 0
           },
           {
            "bin_start": 2318,
            "bin_end": 2509,
            "count": 0
           },
           {
            "bin_start": 2509,
            "bin_end": 2700,
            "count": 1
           }
          ]
         }
        },
        {
         "name": "_deepnote_index_column",
         "dtype": "int64"
        }
       ],
       "rows_top": [
        {
         "date": "2019-01-02T00:00:00.000000",
         "Барааны нэр": "Байцаа, монгол",
         "хэмжих нэгж": "кг",
         "variable": "Имарт",
         "value": 790,
         "_deepnote_index_column": 0
        },
        {
         "date": "2019-01-02T00:00:00.000000",
         "Барааны нэр": "\"Алтан тариа\" савласан гурил 1-р зэрэг",
         "хэмжих нэгж": "кг",
         "variable": "\"Барс\" хт",
         "value": 1000,
         "_deepnote_index_column": 1
        },
        {
         "date": "2019-01-02T00:00:00.000000",
         "Барааны нэр": "\"Алтан тариа\" савласан гурил 2-р зэрэг",
         "хэмжих нэгж": "кг",
         "variable": "\"Барс\" хт",
         "value": 800,
         "_deepnote_index_column": 2
        },
        {
         "date": "2019-01-02T00:00:00.000000",
         "Барааны нэр": "\"Алейка\" дээд гурил",
         "хэмжих нэгж": "кг",
         "variable": "\"Барс\" хт",
         "value": "nan",
         "_deepnote_index_column": 3
        },
        {
         "date": "2019-01-02T00:00:00.000000",
         "Барааны нэр": "Сүү Сүү ХК 1л",
         "хэмжих нэгж": "литр",
         "variable": "\"Барс\" хт",
         "value": 2700,
         "_deepnote_index_column": 4
        }
       ],
       "rows_bottom": null
      },
      "text/plain": "        date                             Барааны нэр хэмжих нэгж   variable  \\\n0 2019-01-02                          Байцаа, монгол          кг      Имарт   \n1 2019-01-02  \"Алтан тариа\" савласан гурил 1-р зэрэг          кг  \"Барс\" хт   \n2 2019-01-02  \"Алтан тариа\" савласан гурил 2-р зэрэг          кг  \"Барс\" хт   \n3 2019-01-02                     \"Алейка\" дээд гурил          кг  \"Барс\" хт   \n4 2019-01-02                           Сүү Сүү ХК 1л        литр  \"Барс\" хт   \n\n    value  \n0   790.0  \n1  1000.0  \n2   800.0  \n3     NaN  \n4  2700.0  ",
      "text/html": "<div>\n<style scoped>\n    .dataframe tbody tr th:only-of-type {\n        vertical-align: middle;\n    }\n\n    .dataframe tbody tr th {\n        vertical-align: top;\n    }\n\n    .dataframe thead th {\n        text-align: right;\n    }\n</style>\n<table border=\"1\" class=\"dataframe\">\n  <thead>\n    <tr style=\"text-align: right;\">\n      <th></th>\n      <th>date</th>\n      <th>Барааны нэр</th>\n      <th>хэмжих нэгж</th>\n      <th>variable</th>\n      <th>value</th>\n    </tr>\n  </thead>\n  <tbody>\n    <tr>\n      <th>0</th>\n      <td>2019-01-02</td>\n      <td>Байцаа, монгол</td>\n      <td>кг</td>\n      <td>Имарт</td>\n      <td>790.0</td>\n    </tr>\n    <tr>\n      <th>1</th>\n      <td>2019-01-02</td>\n      <td>\"Алтан тариа\" савласан гурил 1-р зэрэг</td>\n      <td>кг</td>\n      <td>\"Барс\" хт</td>\n      <td>1000.0</td>\n    </tr>\n    <tr>\n      <th>2</th>\n      <td>2019-01-02</td>\n      <td>\"Алтан тариа\" савласан гурил 2-р зэрэг</td>\n      <td>кг</td>\n      <td>\"Барс\" хт</td>\n      <td>800.0</td>\n    </tr>\n    <tr>\n      <th>3</th>\n      <td>2019-01-02</td>\n      <td>\"Алейка\" дээд гурил</td>\n      <td>кг</td>\n      <td>\"Барс\" хт</td>\n      <td>NaN</td>\n    </tr>\n    <tr>\n      <th>4</th>\n      <td>2019-01-02</td>\n      <td>Сүү Сүү ХК 1л</td>\n      <td>литр</td>\n      <td>\"Барс\" хт</td>\n      <td>2700.0</td>\n    </tr>\n  </tbody>\n</table>\n</div>"
     },
     "metadata": {}
    }
   ]
  },
  {
   "cell_type": "markdown",
   "source": "Split off version for Mongolian and English",
   "metadata": {
    "cell_id": "00018-fac95d43-04de-4319-955d-69bf7fafc15f",
    "deepnote_cell_type": "markdown"
   }
  },
  {
   "cell_type": "code",
   "metadata": {
    "cell_id": "00019-8766f873-d3f8-48cd-839e-488fa920bf28",
    "deepnote_to_be_reexecuted": false,
    "source_hash": "bd55f00c",
    "execution_start": 1639267597102,
    "execution_millis": 5,
    "deepnote_cell_type": "code"
   },
   "source": "mgl_df = main_df.rename(columns={'variable':'market', 'value':'price',\n                                 'Барааны нэр':'product','хэмжих нэгж':'size'})",
   "execution_count": null,
   "outputs": []
  },
  {
   "cell_type": "code",
   "metadata": {
    "cell_id": "00017-117a50f4-655e-4332-9d68-138bbaf6d380",
    "deepnote_to_be_reexecuted": false,
    "execution_millis": 0,
    "execution_start": 1639267597154,
    "source_hash": "704ea8bb",
    "tags": [],
    "deepnote_cell_type": "code"
   },
   "source": "eng_df = main_df.rename(columns={'variable':'market', 'value':'price',\n                                 'Барааны нэр':'product','хэмжих нэгж':'size'})",
   "execution_count": null,
   "outputs": []
  },
  {
   "cell_type": "markdown",
   "source": "### Mongolian Dataframe Edits",
   "metadata": {
    "cell_id": "00021-d4adfa21-963b-4c76-a4ab-3a2a812f1905",
    "deepnote_cell_type": "markdown"
   }
  },
  {
   "cell_type": "code",
   "metadata": {
    "cell_id": "00022-53ded278-37fd-4a02-a2d4-606494cecd05",
    "deepnote_to_be_reexecuted": false,
    "source_hash": "4c381047",
    "execution_start": 1639267597155,
    "execution_millis": 0,
    "deepnote_cell_type": "code"
   },
   "source": "market_translate_mn = {'\"Меркури\" зах':'\"Меркури\" зах/Их наяд ХТ', 'Их наяд ХТ':'\"Меркури\" зах/Их наяд ХТ',\n                       'Макс Супер-маркет':'Макс/М Март Супер-маркет'}",
   "execution_count": null,
   "outputs": []
  },
  {
   "cell_type": "code",
   "metadata": {
    "cell_id": "00023-9316bb0b-f62f-4aae-961c-c48fc9d8d84e",
    "deepnote_to_be_reexecuted": false,
    "source_hash": "e4fa80ec",
    "execution_start": 1639267597156,
    "execution_millis": 0,
    "deepnote_cell_type": "code"
   },
   "source": "mgl_df['market'] = mgl_df['market'].replace(market_translate_mn)",
   "execution_count": null,
   "outputs": []
  },
  {
   "cell_type": "markdown",
   "source": "The Suu brand product names are a bit wonky because of how they were merged. Let's fix that.",
   "metadata": {
    "cell_id": "00024-0f33f9b3-672e-44b4-8f93-f7ef160924eb",
    "deepnote_cell_type": "markdown"
   }
  },
  {
   "cell_type": "code",
   "metadata": {
    "cell_id": "00025-4c1cdbf2-9ecb-4455-a190-ba27d8aa0e8a",
    "deepnote_output_heights": [
     289.8125
    ],
    "deepnote_to_be_reexecuted": false,
    "source_hash": "3b6d8da5",
    "execution_start": 1639267597157,
    "execution_millis": 10,
    "deepnote_cell_type": "code"
   },
   "source": "mgl_df['product'].unique()",
   "execution_count": null,
   "outputs": [
    {
     "output_type": "execute_result",
     "execution_count": 19,
     "data": {
      "text/plain": "array(['Байцаа, монгол', '\"Алтан тариа\" савласан гурил 1-р зэрэг',\n       '\"Алтан тариа\" савласан гурил 2-р зэрэг', '\"Алейка\" дээд гурил',\n       'Сүү Сүү ХК 1л', 'Сүү Сүү ХК 0.5л', 'Сүү Задгай',\n       'Тараг, Цөцгийтэй', '\"Алтан тариа\" савласан гурил дээд',\n       'Талх Атар', 'Талх Хар талх', 'Будаа цагаан', 'Будаа шар',\n       'Цөцгийн тос, \"Сүү\" ХК', 'Ургамлын тос', 'Ногоон цай, Гүрж',\n       'Элсэн чихэр', 'Талх Зууван чех',\n       '\"Алтан тариа\" савласан гурил дээдийн дээд',\n       '\"Алтан тариа\" гурил 1-р зэрэг', '\"Алтан тариа\" гурил дээд',\n       'Хонины мах ястай', 'Хонины мах цул', 'Үхрийн мах ястай',\n       'Үхрийн мах цул', 'Өндөг, ОХУ', 'Адууны мах, ястай',\n       'Ямааны мах, ястай', 'Төмс, монгол', 'Лууван, монгол',\n       'Хүрэн манжин, монгол', 'Сонгино, хятад', 'Алим, фүжи',\n       'Нөөцийн мах, ястай хонь', 'Нөөцийн мах, ястай үхэр',\n       'Нөөцийн мах, ястай ямаа'], dtype=object)"
     },
     "metadata": {}
    }
   ]
  },
  {
   "cell_type": "code",
   "metadata": {
    "cell_id": "00026-0208feb7-3ce3-4a45-9fb3-7de32d22cfda",
    "deepnote_to_be_reexecuted": false,
    "source_hash": "71266bb5",
    "execution_start": 1639267597172,
    "execution_millis": 59,
    "deepnote_cell_type": "code"
   },
   "source": "mgl_df['product'] = mgl_df['product'].str.replace('Сүү Сүү', 'Сүү')",
   "execution_count": null,
   "outputs": []
  },
  {
   "cell_type": "markdown",
   "source": "Since we renamed two markets to have the same name (Mercury and Ikh Nayad), we have duplicate dates and products for the same markets, but with NaNs. This is because Mercury closed and the shops moved to Ikh Nayad. Let's merge those.",
   "metadata": {
    "tags": [],
    "cell_id": "00028-f1c05be1-6d6a-4e06-93fb-723d182f7d54",
    "deepnote_cell_type": "markdown"
   }
  },
  {
   "cell_type": "code",
   "metadata": {
    "tags": [],
    "cell_id": "00029-44c044a4-4cff-4cb9-be86-163845350474",
    "deepnote_to_be_reexecuted": false,
    "source_hash": "5cdabf26",
    "execution_start": 1639267597281,
    "execution_millis": 45,
    "deepnote_cell_type": "code"
   },
   "source": "mgl_df = mgl_df.groupby(by=['date','product','market']).first().reset_index()",
   "execution_count": null,
   "outputs": []
  },
  {
   "cell_type": "code",
   "metadata": {
    "cell_id": "00027-45d617c4-c85b-4c6a-9304-a6fed53c6e2d",
    "deepnote_output_heights": [
     382.1875
    ],
    "deepnote_to_be_reexecuted": false,
    "source_hash": "5cef4978",
    "execution_start": 1639267597326,
    "execution_millis": 283,
    "deepnote_cell_type": "code"
   },
   "source": "mgl_df",
   "execution_count": null,
   "outputs": [
    {
     "output_type": "execute_result",
     "execution_count": 22,
     "data": {
      "application/vnd.deepnote.dataframe.v2+json": {
       "row_count": 61932,
       "column_count": 5,
       "columns": [
        {
         "name": "date",
         "dtype": "datetime64[ns]",
         "stats": {
          "unique_count": 148,
          "nan_count": 0,
          "min": "2019-01-02 00:00:00",
          "max": "2021-12-08 00:00:00",
          "histogram": [
           {
            "bin_start": 1546387200000000000,
            "bin_end": 1555640640000000000,
            "count": 5837
           },
           {
            "bin_start": 1555640640000000000,
            "bin_end": 1564894080000000000,
            "count": 5824
           },
           {
            "bin_start": 1564894080000000000,
            "bin_end": 1574147520000000000,
            "count": 5408
           },
           {
            "bin_start": 1574147520000000000,
            "bin_end": 1583400960000000000,
            "count": 6240
           },
           {
            "bin_start": 1583400960000000000,
            "bin_end": 1592654400000000000,
            "count": 6513
           },
           {
            "bin_start": 1592654400000000000,
            "bin_end": 1601907840000000000,
            "count": 6734
           },
           {
            "bin_start": 1601907840000000000,
            "bin_end": 1611161280000000000,
            "count": 6656
           },
           {
            "bin_start": 1611161280000000000,
            "bin_end": 1620414720000000000,
            "count": 6240
           },
           {
            "bin_start": 1620414720000000000,
            "bin_end": 1629668160000000000,
            "count": 6240
           },
           {
            "bin_start": 1629668160000000000,
            "bin_end": 1638921600000000000,
            "count": 6240
           }
          ]
         }
        },
        {
         "name": "product",
         "dtype": "object"
        },
        {
         "name": "market",
         "dtype": "object"
        },
        {
         "name": "size",
         "dtype": "object"
        },
        {
         "name": "price",
         "dtype": "float64"
        },
        {
         "name": "_deepnote_index_column",
         "dtype": "int64"
        }
       ],
       "rows_top": [
        {
         "date": "2019-01-02T00:00:00.000000",
         "product": "\"Алейка\" дээд гурил",
         "market": "\"Барс\" хт",
         "size": "кг",
         "price": "nan",
         "_deepnote_index_column": 0
        },
        {
         "date": "2019-01-02T00:00:00.000000",
         "product": "\"Алейка\" дээд гурил",
         "market": "\"Баянзүрх\" зах",
         "size": "кг",
         "price": "nan",
         "_deepnote_index_column": 1
        },
        {
         "date": "2019-01-02T00:00:00.000000",
         "product": "\"Алейка\" дээд гурил",
         "market": "\"Бөмбөгөр\" хт",
         "size": "кг",
         "price": "nan",
         "_deepnote_index_column": 2
        },
        {
         "date": "2019-01-02T00:00:00.000000",
         "product": "\"Алейка\" дээд гурил",
         "market": "\"Меркури\" зах/Их наяд ХТ",
         "size": "кг",
         "price": "nan",
         "_deepnote_index_column": 3
        },
        {
         "date": "2019-01-02T00:00:00.000000",
         "product": "\"Алейка\" дээд гурил",
         "market": "\"Сансар\" Супер-маркет",
         "size": "кг",
         "price": "nan",
         "_deepnote_index_column": 4
        },
        {
         "date": "2019-01-02T00:00:00.000000",
         "product": "\"Алейка\" дээд гурил",
         "market": "\"Саруул\" зах",
         "size": "кг",
         "price": "nan",
         "_deepnote_index_column": 5
        },
        {
         "date": "2019-01-02T00:00:00.000000",
         "product": "\"Алейка\" дээд гурил",
         "market": "\"Таван эрдэнэ\"   зах",
         "size": "кг",
         "price": "nan",
         "_deepnote_index_column": 6
        },
        {
         "date": "2019-01-02T00:00:00.000000",
         "product": "\"Алейка\" дээд гурил",
         "market": "\"Хар хорин\" зах",
         "size": "кг",
         "price": "nan",
         "_deepnote_index_column": 7
        },
        {
         "date": "2019-01-02T00:00:00.000000",
         "product": "\"Алейка\" дээд гурил",
         "market": "\"Хүчит шонхор\"  зах",
         "size": "кг",
         "price": "nan",
         "_deepnote_index_column": 8
        },
        {
         "date": "2019-01-02T00:00:00.000000",
         "product": "\"Алейка\" дээд гурил",
         "market": "Имарт",
         "size": "кг",
         "price": "nan",
         "_deepnote_index_column": 9
        },
        {
         "date": "2019-01-02T00:00:00.000000",
         "product": "\"Алейка\" дээд гурил",
         "market": "Макс/М Март Супер-маркет",
         "size": "кг",
         "price": "nan",
         "_deepnote_index_column": 10
        },
        {
         "date": "2019-01-02T00:00:00.000000",
         "product": "\"Алейка\" дээд гурил",
         "market": "Номин Супер-маркет",
         "size": "кг",
         "price": "nan",
         "_deepnote_index_column": 11
        },
        {
         "date": "2019-01-02T00:00:00.000000",
         "product": "\"Алейка\" дээд гурил",
         "market": "Оргил Супер-маркет",
         "size": "кг",
         "price": "nan",
         "_deepnote_index_column": 12
        },
        {
         "date": "2019-01-02T00:00:00.000000",
         "product": "\"Алтан тариа\" гурил 1-р зэрэг",
         "market": "\"Барс\" хт",
         "size": "кг",
         "price": 950,
         "_deepnote_index_column": 13
        },
        {
         "date": "2019-01-02T00:00:00.000000",
         "product": "\"Алтан тариа\" гурил 1-р зэрэг",
         "market": "\"Баянзүрх\" зах",
         "size": "кг",
         "price": 1100,
         "_deepnote_index_column": 14
        },
        {
         "date": "2019-01-02T00:00:00.000000",
         "product": "\"Алтан тариа\" гурил 1-р зэрэг",
         "market": "\"Бөмбөгөр\" хт",
         "size": "кг",
         "price": 1000,
         "_deepnote_index_column": 15
        },
        {
         "date": "2019-01-02T00:00:00.000000",
         "product": "\"Алтан тариа\" гурил 1-р зэрэг",
         "market": "\"Меркури\" зах/Их наяд ХТ",
         "size": "кг",
         "price": "nan",
         "_deepnote_index_column": 16
        },
        {
         "date": "2019-01-02T00:00:00.000000",
         "product": "\"Алтан тариа\" гурил 1-р зэрэг",
         "market": "\"Сансар\" Супер-маркет",
         "size": "кг",
         "price": 1160,
         "_deepnote_index_column": 17
        },
        {
         "date": "2019-01-02T00:00:00.000000",
         "product": "\"Алтан тариа\" гурил 1-р зэрэг",
         "market": "\"Саруул\" зах",
         "size": "кг",
         "price": "nan",
         "_deepnote_index_column": 18
        },
        {
         "date": "2019-01-02T00:00:00.000000",
         "product": "\"Алтан тариа\" гурил 1-р зэрэг",
         "market": "\"Таван эрдэнэ\"   зах",
         "size": "кг",
         "price": 1100,
         "_deepnote_index_column": 19
        },
        {
         "date": "2019-01-02T00:00:00.000000",
         "product": "\"Алтан тариа\" гурил 1-р зэрэг",
         "market": "\"Хар хорин\" зах",
         "size": "кг",
         "price": 1100,
         "_deepnote_index_column": 20
        },
        {
         "date": "2019-01-02T00:00:00.000000",
         "product": "\"Алтан тариа\" гурил 1-р зэрэг",
         "market": "\"Хүчит шонхор\"  зах",
         "size": "кг",
         "price": 1050,
         "_deepnote_index_column": 21
        },
        {
         "date": "2019-01-02T00:00:00.000000",
         "product": "\"Алтан тариа\" гурил 1-р зэрэг",
         "market": "Имарт",
         "size": "кг",
         "price": 1080,
         "_deepnote_index_column": 22
        },
        {
         "date": "2019-01-02T00:00:00.000000",
         "product": "\"Алтан тариа\" гурил 1-р зэрэг",
         "market": "Макс/М Март Супер-маркет",
         "size": "кг",
         "price": 1012,
         "_deepnote_index_column": 23
        },
        {
         "date": "2019-01-02T00:00:00.000000",
         "product": "\"Алтан тариа\" гурил 1-р зэрэг",
         "market": "Номин Супер-маркет",
         "size": "кг",
         "price": 1010,
         "_deepnote_index_column": 24
        },
        {
         "date": "2019-01-02T00:00:00.000000",
         "product": "\"Алтан тариа\" гурил 1-р зэрэг",
         "market": "Оргил Супер-маркет",
         "size": "кг",
         "price": 1075,
         "_deepnote_index_column": 25
        },
        {
         "date": "2019-01-02T00:00:00.000000",
         "product": "\"Алтан тариа\" гурил дээд",
         "market": "\"Барс\" хт",
         "size": "кг",
         "price": 1250,
         "_deepnote_index_column": 26
        },
        {
         "date": "2019-01-02T00:00:00.000000",
         "product": "\"Алтан тариа\" гурил дээд",
         "market": "\"Баянзүрх\" зах",
         "size": "кг",
         "price": 1400,
         "_deepnote_index_column": 27
        },
        {
         "date": "2019-01-02T00:00:00.000000",
         "product": "\"Алтан тариа\" гурил дээд",
         "market": "\"Бөмбөгөр\" хт",
         "size": "кг",
         "price": 1250,
         "_deepnote_index_column": 28
        },
        {
         "date": "2019-01-02T00:00:00.000000",
         "product": "\"Алтан тариа\" гурил дээд",
         "market": "\"Меркури\" зах/Их наяд ХТ",
         "size": "кг",
         "price": "nan",
         "_deepnote_index_column": 29
        },
        {
         "date": "2019-01-02T00:00:00.000000",
         "product": "\"Алтан тариа\" гурил дээд",
         "market": "\"Сансар\" Супер-маркет",
         "size": "кг",
         "price": 1310,
         "_deepnote_index_column": 30
        },
        {
         "date": "2019-01-02T00:00:00.000000",
         "product": "\"Алтан тариа\" гурил дээд",
         "market": "\"Саруул\" зах",
         "size": "кг",
         "price": "nan",
         "_deepnote_index_column": 31
        },
        {
         "date": "2019-01-02T00:00:00.000000",
         "product": "\"Алтан тариа\" гурил дээд",
         "market": "\"Таван эрдэнэ\"   зах",
         "size": "кг",
         "price": 1300,
         "_deepnote_index_column": 32
        },
        {
         "date": "2019-01-02T00:00:00.000000",
         "product": "\"Алтан тариа\" гурил дээд",
         "market": "\"Хар хорин\" зах",
         "size": "кг",
         "price": 1300,
         "_deepnote_index_column": 33
        },
        {
         "date": "2019-01-02T00:00:00.000000",
         "product": "\"Алтан тариа\" гурил дээд",
         "market": "\"Хүчит шонхор\"  зах",
         "size": "кг",
         "price": 1300,
         "_deepnote_index_column": 34
        },
        {
         "date": "2019-01-02T00:00:00.000000",
         "product": "\"Алтан тариа\" гурил дээд",
         "market": "Имарт",
         "size": "кг",
         "price": 1448,
         "_deepnote_index_column": 35
        },
        {
         "date": "2019-01-02T00:00:00.000000",
         "product": "\"Алтан тариа\" гурил дээд",
         "market": "Макс/М Март Супер-маркет",
         "size": "кг",
         "price": 1410,
         "_deepnote_index_column": 36
        },
        {
         "date": "2019-01-02T00:00:00.000000",
         "product": "\"Алтан тариа\" гурил дээд",
         "market": "Номин Супер-маркет",
         "size": "кг",
         "price": 1400,
         "_deepnote_index_column": 37
        },
        {
         "date": "2019-01-02T00:00:00.000000",
         "product": "\"Алтан тариа\" гурил дээд",
         "market": "Оргил Супер-маркет",
         "size": "кг",
         "price": 1420,
         "_deepnote_index_column": 38
        },
        {
         "date": "2019-01-02T00:00:00.000000",
         "product": "\"Алтан тариа\" савласан гурил 1-р зэрэг",
         "market": "\"Барс\" хт",
         "size": "кг",
         "price": 1000,
         "_deepnote_index_column": 39
        },
        {
         "date": "2019-01-02T00:00:00.000000",
         "product": "\"Алтан тариа\" савласан гурил 1-р зэрэг",
         "market": "\"Баянзүрх\" зах",
         "size": "кг",
         "price": 1100,
         "_deepnote_index_column": 40
        },
        {
         "date": "2019-01-02T00:00:00.000000",
         "product": "\"Алтан тариа\" савласан гурил 1-р зэрэг",
         "market": "\"Бөмбөгөр\" хт",
         "size": "кг",
         "price": 1000,
         "_deepnote_index_column": 41
        },
        {
         "date": "2019-01-02T00:00:00.000000",
         "product": "\"Алтан тариа\" савласан гурил 1-р зэрэг",
         "market": "\"Меркури\" зах/Их наяд ХТ",
         "size": "кг",
         "price": 1200,
         "_deepnote_index_column": 42
        },
        {
         "date": "2019-01-02T00:00:00.000000",
         "product": "\"Алтан тариа\" савласан гурил 1-р зэрэг",
         "market": "\"Сансар\" Супер-маркет",
         "size": "кг",
         "price": 1090,
         "_deepnote_index_column": 43
        },
        {
         "date": "2019-01-02T00:00:00.000000",
         "product": "\"Алтан тариа\" савласан гурил 1-р зэрэг",
         "market": "\"Саруул\" зах",
         "size": "кг",
         "price": "nan",
         "_deepnote_index_column": 44
        },
        {
         "date": "2019-01-02T00:00:00.000000",
         "product": "\"Алтан тариа\" савласан гурил 1-р зэрэг",
         "market": "\"Таван эрдэнэ\"   зах",
         "size": "кг",
         "price": 1100,
         "_deepnote_index_column": 45
        },
        {
         "date": "2019-01-02T00:00:00.000000",
         "product": "\"Алтан тариа\" савласан гурил 1-р зэрэг",
         "market": "\"Хар хорин\" зах",
         "size": "кг",
         "price": 1150,
         "_deepnote_index_column": 46
        },
        {
         "date": "2019-01-02T00:00:00.000000",
         "product": "\"Алтан тариа\" савласан гурил 1-р зэрэг",
         "market": "\"Хүчит шонхор\"  зах",
         "size": "кг",
         "price": 1100,
         "_deepnote_index_column": 47
        },
        {
         "date": "2019-01-02T00:00:00.000000",
         "product": "\"Алтан тариа\" савласан гурил 1-р зэрэг",
         "market": "Имарт",
         "size": "кг",
         "price": 1100,
         "_deepnote_index_column": 48
        },
        {
         "date": "2019-01-02T00:00:00.000000",
         "product": "\"Алтан тариа\" савласан гурил 1-р зэрэг",
         "market": "Макс/М Март Супер-маркет",
         "size": "кг",
         "price": 1040,
         "_deepnote_index_column": 49
        },
        {
         "date": "2019-01-02T00:00:00.000000",
         "product": "\"Алтан тариа\" савласан гурил 1-р зэрэг",
         "market": "Номин Супер-маркет",
         "size": "кг",
         "price": 1069,
         "_deepnote_index_column": 50
        },
        {
         "date": "2019-01-02T00:00:00.000000",
         "product": "\"Алтан тариа\" савласан гурил 1-р зэрэг",
         "market": "Оргил Супер-маркет",
         "size": "кг",
         "price": 1110,
         "_deepnote_index_column": 51
        },
        {
         "date": "2019-01-02T00:00:00.000000",
         "product": "\"Алтан тариа\" савласан гурил 2-р зэрэг",
         "market": "\"Барс\" хт",
         "size": "кг",
         "price": 800,
         "_deepnote_index_column": 52
        },
        {
         "date": "2019-01-02T00:00:00.000000",
         "product": "\"Алтан тариа\" савласан гурил 2-р зэрэг",
         "market": "\"Баянзүрх\" зах",
         "size": "кг",
         "price": 900,
         "_deepnote_index_column": 53
        },
        {
         "date": "2019-01-02T00:00:00.000000",
         "product": "\"Алтан тариа\" савласан гурил 2-р зэрэг",
         "market": "\"Бөмбөгөр\" хт",
         "size": "кг",
         "price": 850,
         "_deepnote_index_column": 54
        },
        {
         "date": "2019-01-02T00:00:00.000000",
         "product": "\"Алтан тариа\" савласан гурил 2-р зэрэг",
         "market": "\"Меркури\" зах/Их наяд ХТ",
         "size": "кг",
         "price": 1000,
         "_deepnote_index_column": 55
        },
        {
         "date": "2019-01-02T00:00:00.000000",
         "product": "\"Алтан тариа\" савласан гурил 2-р зэрэг",
         "market": "\"Сансар\" Супер-маркет",
         "size": "кг",
         "price": 850,
         "_deepnote_index_column": 56
        },
        {
         "date": "2019-01-02T00:00:00.000000",
         "product": "\"Алтан тариа\" савласан гурил 2-р зэрэг",
         "market": "\"Саруул\" зах",
         "size": "кг",
         "price": "nan",
         "_deepnote_index_column": 57
        },
        {
         "date": "2019-01-02T00:00:00.000000",
         "product": "\"Алтан тариа\" савласан гурил 2-р зэрэг",
         "market": "\"Таван эрдэнэ\"   зах",
         "size": "кг",
         "price": 900,
         "_deepnote_index_column": 58
        },
        {
         "date": "2019-01-02T00:00:00.000000",
         "product": "\"Алтан тариа\" савласан гурил 2-р зэрэг",
         "market": "\"Хар хорин\" зах",
         "size": "кг",
         "price": 900,
         "_deepnote_index_column": 59
        },
        {
         "date": "2019-01-02T00:00:00.000000",
         "product": "\"Алтан тариа\" савласан гурил 2-р зэрэг",
         "market": "\"Хүчит шонхор\"  зах",
         "size": "кг",
         "price": 850,
         "_deepnote_index_column": 60
        },
        {
         "date": "2019-01-02T00:00:00.000000",
         "product": "\"Алтан тариа\" савласан гурил 2-р зэрэг",
         "market": "Имарт",
         "size": "кг",
         "price": 840,
         "_deepnote_index_column": 61
        },
        {
         "date": "2019-01-02T00:00:00.000000",
         "product": "\"Алтан тариа\" савласан гурил 2-р зэрэг",
         "market": "Макс/М Март Супер-маркет",
         "size": "кг",
         "price": 870,
         "_deepnote_index_column": 62
        },
        {
         "date": "2019-01-02T00:00:00.000000",
         "product": "\"Алтан тариа\" савласан гурил 2-р зэрэг",
         "market": "Номин Супер-маркет",
         "size": "кг",
         "price": 819,
         "_deepnote_index_column": 63
        },
        {
         "date": "2019-01-02T00:00:00.000000",
         "product": "\"Алтан тариа\" савласан гурил 2-р зэрэг",
         "market": "Оргил Супер-маркет",
         "size": "кг",
         "price": 820,
         "_deepnote_index_column": 64
        },
        {
         "date": "2019-01-02T00:00:00.000000",
         "product": "\"Алтан тариа\" савласан гурил дээд",
         "market": "\"Барс\" хт",
         "size": "кг",
         "price": 1300,
         "_deepnote_index_column": 65
        },
        {
         "date": "2019-01-02T00:00:00.000000",
         "product": "\"Алтан тариа\" савласан гурил дээд",
         "market": "\"Баянзүрх\" зах",
         "size": "кг",
         "price": 1400,
         "_deepnote_index_column": 66
        },
        {
         "date": "2019-01-02T00:00:00.000000",
         "product": "\"Алтан тариа\" савласан гурил дээд",
         "market": "\"Бөмбөгөр\" хт",
         "size": "кг",
         "price": 1250,
         "_deepnote_index_column": 67
        },
        {
         "date": "2019-01-02T00:00:00.000000",
         "product": "\"Алтан тариа\" савласан гурил дээд",
         "market": "\"Меркури\" зах/Их наяд ХТ",
         "size": "кг",
         "price": 1500,
         "_deepnote_index_column": 68
        },
        {
         "date": "2019-01-02T00:00:00.000000",
         "product": "\"Алтан тариа\" савласан гурил дээд",
         "market": "\"Сансар\" Супер-маркет",
         "size": "кг",
         "price": 1330,
         "_deepnote_index_column": 69
        },
        {
         "date": "2019-01-02T00:00:00.000000",
         "product": "\"Алтан тариа\" савласан гурил дээд",
         "market": "\"Саруул\" зах",
         "size": "кг",
         "price": "nan",
         "_deepnote_index_column": 70
        },
        {
         "date": "2019-01-02T00:00:00.000000",
         "product": "\"Алтан тариа\" савласан гурил дээд",
         "market": "\"Таван эрдэнэ\"   зах",
         "size": "кг",
         "price": 1300,
         "_deepnote_index_column": 71
        },
        {
         "date": "2019-01-02T00:00:00.000000",
         "product": "\"Алтан тариа\" савласан гурил дээд",
         "market": "\"Хар хорин\" зах",
         "size": "кг",
         "price": 1300,
         "_deepnote_index_column": 72
        },
        {
         "date": "2019-01-02T00:00:00.000000",
         "product": "\"Алтан тариа\" савласан гурил дээд",
         "market": "\"Хүчит шонхор\"  зах",
         "size": "кг",
         "price": 1300,
         "_deepnote_index_column": 73
        },
        {
         "date": "2019-01-02T00:00:00.000000",
         "product": "\"Алтан тариа\" савласан гурил дээд",
         "market": "Имарт",
         "size": "кг",
         "price": 1480,
         "_deepnote_index_column": 74
        },
        {
         "date": "2019-01-02T00:00:00.000000",
         "product": "\"Алтан тариа\" савласан гурил дээд",
         "market": "Макс/М Март Супер-маркет",
         "size": "кг",
         "price": 1430,
         "_deepnote_index_column": 75
        },
        {
         "date": "2019-01-02T00:00:00.000000",
         "product": "\"Алтан тариа\" савласан гурил дээд",
         "market": "Номин Супер-маркет",
         "size": "кг",
         "price": 1450,
         "_deepnote_index_column": 76
        },
        {
         "date": "2019-01-02T00:00:00.000000",
         "product": "\"Алтан тариа\" савласан гурил дээд",
         "market": "Оргил Супер-маркет",
         "size": "кг",
         "price": 1340,
         "_deepnote_index_column": 77
        },
        {
         "date": "2019-01-02T00:00:00.000000",
         "product": "\"Алтан тариа\" савласан гурил дээдийн дээд",
         "market": "\"Барс\" хт",
         "size": "кг",
         "price": 1700,
         "_deepnote_index_column": 78
        },
        {
         "date": "2019-01-02T00:00:00.000000",
         "product": "\"Алтан тариа\" савласан гурил дээдийн дээд",
         "market": "\"Баянзүрх\" зах",
         "size": "кг",
         "price": 1700,
         "_deepnote_index_column": 79
        },
        {
         "date": "2019-01-02T00:00:00.000000",
         "product": "\"Алтан тариа\" савласан гурил дээдийн дээд",
         "market": "\"Бөмбөгөр\" хт",
         "size": "кг",
         "price": 1750,
         "_deepnote_index_column": 80
        },
        {
         "date": "2019-01-02T00:00:00.000000",
         "product": "\"Алтан тариа\" савласан гурил дээдийн дээд",
         "market": "\"Меркури\" зах/Их наяд ХТ",
         "size": "кг",
         "price": 1800,
         "_deepnote_index_column": 81
        },
        {
         "date": "2019-01-02T00:00:00.000000",
         "product": "\"Алтан тариа\" савласан гурил дээдийн дээд",
         "market": "\"Сансар\" Супер-маркет",
         "size": "кг",
         "price": 1750,
         "_deepnote_index_column": 82
        },
        {
         "date": "2019-01-02T00:00:00.000000",
         "product": "\"Алтан тариа\" савласан гурил дээдийн дээд",
         "market": "\"Саруул\" зах",
         "size": "кг",
         "price": "nan",
         "_deepnote_index_column": 83
        },
        {
         "date": "2019-01-02T00:00:00.000000",
         "product": "\"Алтан тариа\" савласан гурил дээдийн дээд",
         "market": "\"Таван эрдэнэ\"   зах",
         "size": "кг",
         "price": 1700,
         "_deepnote_index_column": 84
        },
        {
         "date": "2019-01-02T00:00:00.000000",
         "product": "\"Алтан тариа\" савласан гурил дээдийн дээд",
         "market": "\"Хар хорин\" зах",
         "size": "кг",
         "price": 1700,
         "_deepnote_index_column": 85
        },
        {
         "date": "2019-01-02T00:00:00.000000",
         "product": "\"Алтан тариа\" савласан гурил дээдийн дээд",
         "market": "\"Хүчит шонхор\"  зах",
         "size": "кг",
         "price": 1850,
         "_deepnote_index_column": 86
        },
        {
         "date": "2019-01-02T00:00:00.000000",
         "product": "\"Алтан тариа\" савласан гурил дээдийн дээд",
         "market": "Имарт",
         "size": "кг",
         "price": 1860,
         "_deepnote_index_column": 87
        },
        {
         "date": "2019-01-02T00:00:00.000000",
         "product": "\"Алтан тариа\" савласан гурил дээдийн дээд",
         "market": "Макс/М Март Супер-маркет",
         "size": "кг",
         "price": 1780,
         "_deepnote_index_column": 88
        },
        {
         "date": "2019-01-02T00:00:00.000000",
         "product": "\"Алтан тариа\" савласан гурил дээдийн дээд",
         "market": "Номин Супер-маркет",
         "size": "кг",
         "price": 1799,
         "_deepnote_index_column": 89
        },
        {
         "date": "2019-01-02T00:00:00.000000",
         "product": "\"Алтан тариа\" савласан гурил дээдийн дээд",
         "market": "Оргил Супер-маркет",
         "size": "кг",
         "price": 1780,
         "_deepnote_index_column": 90
        },
        {
         "date": "2019-01-02T00:00:00.000000",
         "product": "Адууны мах, ястай",
         "market": "\"Барс\" хт",
         "size": "кг",
         "price": "nan",
         "_deepnote_index_column": 91
        },
        {
         "date": "2019-01-02T00:00:00.000000",
         "product": "Адууны мах, ястай",
         "market": "\"Баянзүрх\" зах",
         "size": "кг",
         "price": 6500,
         "_deepnote_index_column": 92
        },
        {
         "date": "2019-01-02T00:00:00.000000",
         "product": "Адууны мах, ястай",
         "market": "\"Бөмбөгөр\" хт",
         "size": "кг",
         "price": 6500,
         "_deepnote_index_column": 93
        },
        {
         "date": "2019-01-02T00:00:00.000000",
         "product": "Адууны мах, ястай",
         "market": "\"Меркури\" зах/Их наяд ХТ",
         "size": "кг",
         "price": "nan",
         "_deepnote_index_column": 94
        },
        {
         "date": "2019-01-02T00:00:00.000000",
         "product": "Адууны мах, ястай",
         "market": "\"Сансар\" Супер-маркет",
         "size": "кг",
         "price": "nan",
         "_deepnote_index_column": 95
        },
        {
         "date": "2019-01-02T00:00:00.000000",
         "product": "Адууны мах, ястай",
         "market": "\"Саруул\" зах",
         "size": "кг",
         "price": "nan",
         "_deepnote_index_column": 96
        },
        {
         "date": "2019-01-02T00:00:00.000000",
         "product": "Адууны мах, ястай",
         "market": "\"Таван эрдэнэ\"   зах",
         "size": "кг",
         "price": "nan",
         "_deepnote_index_column": 97
        },
        {
         "date": "2019-01-02T00:00:00.000000",
         "product": "Адууны мах, ястай",
         "market": "\"Хар хорин\" зах",
         "size": "кг",
         "price": 6300,
         "_deepnote_index_column": 98
        },
        {
         "date": "2019-01-02T00:00:00.000000",
         "product": "Адууны мах, ястай",
         "market": "\"Хүчит шонхор\"  зах",
         "size": "кг",
         "price": 6800,
         "_deepnote_index_column": 99
        }
       ],
       "rows_bottom": [
        {
         "date": "2021-12-08T00:00:00.000000",
         "product": "Хонины мах ястай",
         "market": "\"Сансар\" Супер-маркет",
         "size": "кг",
         "price": "nan",
         "_deepnote_index_column": 61832
        },
        {
         "date": "2021-12-08T00:00:00.000000",
         "product": "Хонины мах ястай",
         "market": "\"Саруул\" зах",
         "size": "кг",
         "price": 14500,
         "_deepnote_index_column": 61833
        },
        {
         "date": "2021-12-08T00:00:00.000000",
         "product": "Хонины мах ястай",
         "market": "\"Таван эрдэнэ\"   зах",
         "size": "кг",
         "price": 11000,
         "_deepnote_index_column": 61834
        },
        {
         "date": "2021-12-08T00:00:00.000000",
         "product": "Хонины мах ястай",
         "market": "\"Хар хорин\" зах",
         "size": "кг",
         "price": 8800,
         "_deepnote_index_column": 61835
        },
        {
         "date": "2021-12-08T00:00:00.000000",
         "product": "Хонины мах ястай",
         "market": "\"Хүчит шонхор\"  зах",
         "size": "кг",
         "price": 8800,
         "_deepnote_index_column": 61836
        },
        {
         "date": "2021-12-08T00:00:00.000000",
         "product": "Хонины мах ястай",
         "market": "Имарт",
         "size": "кг",
         "price": 12480,
         "_deepnote_index_column": 61837
        },
        {
         "date": "2021-12-08T00:00:00.000000",
         "product": "Хонины мах ястай",
         "market": "Макс/М Март Супер-маркет",
         "size": "кг",
         "price": 8800,
         "_deepnote_index_column": 61838
        },
        {
         "date": "2021-12-08T00:00:00.000000",
         "product": "Хонины мах ястай",
         "market": "Номин Супер-маркет",
         "size": "кг",
         "price": 11000,
         "_deepnote_index_column": 61839
        },
        {
         "date": "2021-12-08T00:00:00.000000",
         "product": "Хонины мах ястай",
         "market": "Оргил Супер-маркет",
         "size": "кг",
         "price": "nan",
         "_deepnote_index_column": 61840
        },
        {
         "date": "2021-12-08T00:00:00.000000",
         "product": "Хүрэн манжин, монгол",
         "market": "\"Барс\" хт",
         "size": "кг",
         "price": 4500,
         "_deepnote_index_column": 61841
        },
        {
         "date": "2021-12-08T00:00:00.000000",
         "product": "Хүрэн манжин, монгол",
         "market": "\"Баянзүрх\" зах",
         "size": "кг",
         "price": 4000,
         "_deepnote_index_column": 61842
        },
        {
         "date": "2021-12-08T00:00:00.000000",
         "product": "Хүрэн манжин, монгол",
         "market": "\"Бөмбөгөр\" хт",
         "size": "кг",
         "price": 4000,
         "_deepnote_index_column": 61843
        },
        {
         "date": "2021-12-08T00:00:00.000000",
         "product": "Хүрэн манжин, монгол",
         "market": "\"Меркури\" зах/Их наяд ХТ",
         "size": "кг",
         "price": 4500,
         "_deepnote_index_column": 61844
        },
        {
         "date": "2021-12-08T00:00:00.000000",
         "product": "Хүрэн манжин, монгол",
         "market": "\"Сансар\" Супер-маркет",
         "size": "кг",
         "price": "nan",
         "_deepnote_index_column": 61845
        },
        {
         "date": "2021-12-08T00:00:00.000000",
         "product": "Хүрэн манжин, монгол",
         "market": "\"Саруул\" зах",
         "size": "кг",
         "price": 5000,
         "_deepnote_index_column": 61846
        },
        {
         "date": "2021-12-08T00:00:00.000000",
         "product": "Хүрэн манжин, монгол",
         "market": "\"Таван эрдэнэ\"   зах",
         "size": "кг",
         "price": 3500,
         "_deepnote_index_column": 61847
        },
        {
         "date": "2021-12-08T00:00:00.000000",
         "product": "Хүрэн манжин, монгол",
         "market": "\"Хар хорин\" зах",
         "size": "кг",
         "price": 3500,
         "_deepnote_index_column": 61848
        },
        {
         "date": "2021-12-08T00:00:00.000000",
         "product": "Хүрэн манжин, монгол",
         "market": "\"Хүчит шонхор\"  зах",
         "size": "кг",
         "price": 3000,
         "_deepnote_index_column": 61849
        },
        {
         "date": "2021-12-08T00:00:00.000000",
         "product": "Хүрэн манжин, монгол",
         "market": "Имарт",
         "size": "кг",
         "price": "nan",
         "_deepnote_index_column": 61850
        },
        {
         "date": "2021-12-08T00:00:00.000000",
         "product": "Хүрэн манжин, монгол",
         "market": "Макс/М Март Супер-маркет",
         "size": "кг",
         "price": "nan",
         "_deepnote_index_column": 61851
        },
        {
         "date": "2021-12-08T00:00:00.000000",
         "product": "Хүрэн манжин, монгол",
         "market": "Номин Супер-маркет",
         "size": "кг",
         "price": 2979,
         "_deepnote_index_column": 61852
        },
        {
         "date": "2021-12-08T00:00:00.000000",
         "product": "Хүрэн манжин, монгол",
         "market": "Оргил Супер-маркет",
         "size": "кг",
         "price": 3000,
         "_deepnote_index_column": 61853
        },
        {
         "date": "2021-12-08T00:00:00.000000",
         "product": "Цөцгийн тос, \"Сүү\" ХК",
         "market": "\"Барс\" хт",
         "size": "кг",
         "price": 5800,
         "_deepnote_index_column": 61854
        },
        {
         "date": "2021-12-08T00:00:00.000000",
         "product": "Цөцгийн тос, \"Сүү\" ХК",
         "market": "\"Баянзүрх\" зах",
         "size": "кг",
         "price": 5400,
         "_deepnote_index_column": 61855
        },
        {
         "date": "2021-12-08T00:00:00.000000",
         "product": "Цөцгийн тос, \"Сүү\" ХК",
         "market": "\"Бөмбөгөр\" хт",
         "size": "кг",
         "price": "nan",
         "_deepnote_index_column": 61856
        },
        {
         "date": "2021-12-08T00:00:00.000000",
         "product": "Цөцгийн тос, \"Сүү\" ХК",
         "market": "\"Меркури\" зах/Их наяд ХТ",
         "size": "кг",
         "price": 6500,
         "_deepnote_index_column": 61857
        },
        {
         "date": "2021-12-08T00:00:00.000000",
         "product": "Цөцгийн тос, \"Сүү\" ХК",
         "market": "\"Сансар\" Супер-маркет",
         "size": "кг",
         "price": "nan",
         "_deepnote_index_column": 61858
        },
        {
         "date": "2021-12-08T00:00:00.000000",
         "product": "Цөцгийн тос, \"Сүү\" ХК",
         "market": "\"Саруул\" зах",
         "size": "кг",
         "price": 6200,
         "_deepnote_index_column": 61859
        },
        {
         "date": "2021-12-08T00:00:00.000000",
         "product": "Цөцгийн тос, \"Сүү\" ХК",
         "market": "\"Таван эрдэнэ\"   зах",
         "size": "кг",
         "price": "nan",
         "_deepnote_index_column": 61860
        },
        {
         "date": "2021-12-08T00:00:00.000000",
         "product": "Цөцгийн тос, \"Сүү\" ХК",
         "market": "\"Хар хорин\" зах",
         "size": "кг",
         "price": 6000,
         "_deepnote_index_column": 61861
        },
        {
         "date": "2021-12-08T00:00:00.000000",
         "product": "Цөцгийн тос, \"Сүү\" ХК",
         "market": "\"Хүчит шонхор\"  зах",
         "size": "кг",
         "price": 6000,
         "_deepnote_index_column": 61862
        },
        {
         "date": "2021-12-08T00:00:00.000000",
         "product": "Цөцгийн тос, \"Сүү\" ХК",
         "market": "Имарт",
         "size": "кг",
         "price": 6400,
         "_deepnote_index_column": 61863
        },
        {
         "date": "2021-12-08T00:00:00.000000",
         "product": "Цөцгийн тос, \"Сүү\" ХК",
         "market": "Макс/М Март Супер-маркет",
         "size": "кг",
         "price": 6200,
         "_deepnote_index_column": 61864
        },
        {
         "date": "2021-12-08T00:00:00.000000",
         "product": "Цөцгийн тос, \"Сүү\" ХК",
         "market": "Номин Супер-маркет",
         "size": "кг",
         "price": 6399,
         "_deepnote_index_column": 61865
        },
        {
         "date": "2021-12-08T00:00:00.000000",
         "product": "Цөцгийн тос, \"Сүү\" ХК",
         "market": "Оргил Супер-маркет",
         "size": "кг",
         "price": 6400,
         "_deepnote_index_column": 61866
        },
        {
         "date": "2021-12-08T00:00:00.000000",
         "product": "Элсэн чихэр",
         "market": "\"Барс\" хт",
         "size": "кг",
         "price": 2700,
         "_deepnote_index_column": 61867
        },
        {
         "date": "2021-12-08T00:00:00.000000",
         "product": "Элсэн чихэр",
         "market": "\"Баянзүрх\" зах",
         "size": "кг",
         "price": 2800,
         "_deepnote_index_column": 61868
        },
        {
         "date": "2021-12-08T00:00:00.000000",
         "product": "Элсэн чихэр",
         "market": "\"Бөмбөгөр\" хт",
         "size": "кг",
         "price": 2700,
         "_deepnote_index_column": 61869
        },
        {
         "date": "2021-12-08T00:00:00.000000",
         "product": "Элсэн чихэр",
         "market": "\"Меркури\" зах/Их наяд ХТ",
         "size": "кг",
         "price": "nan",
         "_deepnote_index_column": 61870
        },
        {
         "date": "2021-12-08T00:00:00.000000",
         "product": "Элсэн чихэр",
         "market": "\"Сансар\" Супер-маркет",
         "size": "кг",
         "price": "nan",
         "_deepnote_index_column": 61871
        },
        {
         "date": "2021-12-08T00:00:00.000000",
         "product": "Элсэн чихэр",
         "market": "\"Саруул\" зах",
         "size": "кг",
         "price": "nan",
         "_deepnote_index_column": 61872
        },
        {
         "date": "2021-12-08T00:00:00.000000",
         "product": "Элсэн чихэр",
         "market": "\"Таван эрдэнэ\"   зах",
         "size": "кг",
         "price": 2700,
         "_deepnote_index_column": 61873
        },
        {
         "date": "2021-12-08T00:00:00.000000",
         "product": "Элсэн чихэр",
         "market": "\"Хар хорин\" зах",
         "size": "кг",
         "price": 2700,
         "_deepnote_index_column": 61874
        },
        {
         "date": "2021-12-08T00:00:00.000000",
         "product": "Элсэн чихэр",
         "market": "\"Хүчит шонхор\"  зах",
         "size": "кг",
         "price": 3200,
         "_deepnote_index_column": 61875
        },
        {
         "date": "2021-12-08T00:00:00.000000",
         "product": "Элсэн чихэр",
         "market": "Имарт",
         "size": "кг",
         "price": "nan",
         "_deepnote_index_column": 61876
        },
        {
         "date": "2021-12-08T00:00:00.000000",
         "product": "Элсэн чихэр",
         "market": "Макс/М Март Супер-маркет",
         "size": "кг",
         "price": 4120,
         "_deepnote_index_column": 61877
        },
        {
         "date": "2021-12-08T00:00:00.000000",
         "product": "Элсэн чихэр",
         "market": "Номин Супер-маркет",
         "size": "кг",
         "price": 3059,
         "_deepnote_index_column": 61878
        },
        {
         "date": "2021-12-08T00:00:00.000000",
         "product": "Элсэн чихэр",
         "market": "Оргил Супер-маркет",
         "size": "кг",
         "price": "nan",
         "_deepnote_index_column": 61879
        },
        {
         "date": "2021-12-08T00:00:00.000000",
         "product": "Ямааны мах, ястай",
         "market": "\"Барс\" хт",
         "size": "кг",
         "price": "nan",
         "_deepnote_index_column": 61880
        },
        {
         "date": "2021-12-08T00:00:00.000000",
         "product": "Ямааны мах, ястай",
         "market": "\"Баянзүрх\" зах",
         "size": "кг",
         "price": "nan",
         "_deepnote_index_column": 61881
        },
        {
         "date": "2021-12-08T00:00:00.000000",
         "product": "Ямааны мах, ястай",
         "market": "\"Бөмбөгөр\" хт",
         "size": "кг",
         "price": "nan",
         "_deepnote_index_column": 61882
        },
        {
         "date": "2021-12-08T00:00:00.000000",
         "product": "Ямааны мах, ястай",
         "market": "\"Меркури\" зах/Их наяд ХТ",
         "size": "кг",
         "price": "nan",
         "_deepnote_index_column": 61883
        },
        {
         "date": "2021-12-08T00:00:00.000000",
         "product": "Ямааны мах, ястай",
         "market": "\"Сансар\" Супер-маркет",
         "size": "кг",
         "price": "nan",
         "_deepnote_index_column": 61884
        },
        {
         "date": "2021-12-08T00:00:00.000000",
         "product": "Ямааны мах, ястай",
         "market": "\"Саруул\" зах",
         "size": "кг",
         "price": "nan",
         "_deepnote_index_column": 61885
        },
        {
         "date": "2021-12-08T00:00:00.000000",
         "product": "Ямааны мах, ястай",
         "market": "\"Таван эрдэнэ\"   зах",
         "size": "кг",
         "price": "nan",
         "_deepnote_index_column": 61886
        },
        {
         "date": "2021-12-08T00:00:00.000000",
         "product": "Ямааны мах, ястай",
         "market": "\"Хар хорин\" зах",
         "size": "кг",
         "price": 8500,
         "_deepnote_index_column": 61887
        },
        {
         "date": "2021-12-08T00:00:00.000000",
         "product": "Ямааны мах, ястай",
         "market": "\"Хүчит шонхор\"  зах",
         "size": "кг",
         "price": 8500,
         "_deepnote_index_column": 61888
        },
        {
         "date": "2021-12-08T00:00:00.000000",
         "product": "Ямааны мах, ястай",
         "market": "Имарт",
         "size": "кг",
         "price": "nan",
         "_deepnote_index_column": 61889
        },
        {
         "date": "2021-12-08T00:00:00.000000",
         "product": "Ямааны мах, ястай",
         "market": "Макс/М Март Супер-маркет",
         "size": "кг",
         "price": "nan",
         "_deepnote_index_column": 61890
        },
        {
         "date": "2021-12-08T00:00:00.000000",
         "product": "Ямааны мах, ястай",
         "market": "Номин Супер-маркет",
         "size": "кг",
         "price": "nan",
         "_deepnote_index_column": 61891
        },
        {
         "date": "2021-12-08T00:00:00.000000",
         "product": "Ямааны мах, ястай",
         "market": "Оргил Супер-маркет",
         "size": "кг",
         "price": "nan",
         "_deepnote_index_column": 61892
        },
        {
         "date": "2021-12-08T00:00:00.000000",
         "product": "Үхрийн мах цул",
         "market": "\"Барс\" хт",
         "size": "кг",
         "price": 13500,
         "_deepnote_index_column": 61893
        },
        {
         "date": "2021-12-08T00:00:00.000000",
         "product": "Үхрийн мах цул",
         "market": "\"Баянзүрх\" зах",
         "size": "кг",
         "price": 13500,
         "_deepnote_index_column": 61894
        },
        {
         "date": "2021-12-08T00:00:00.000000",
         "product": "Үхрийн мах цул",
         "market": "\"Бөмбөгөр\" хт",
         "size": "кг",
         "price": 14000,
         "_deepnote_index_column": 61895
        },
        {
         "date": "2021-12-08T00:00:00.000000",
         "product": "Үхрийн мах цул",
         "market": "\"Меркури\" зах/Их наяд ХТ",
         "size": "кг",
         "price": 17000,
         "_deepnote_index_column": 61896
        },
        {
         "date": "2021-12-08T00:00:00.000000",
         "product": "Үхрийн мах цул",
         "market": "\"Сансар\" Супер-маркет",
         "size": "кг",
         "price": "nan",
         "_deepnote_index_column": 61897
        },
        {
         "date": "2021-12-08T00:00:00.000000",
         "product": "Үхрийн мах цул",
         "market": "\"Саруул\" зах",
         "size": "кг",
         "price": 18500,
         "_deepnote_index_column": 61898
        },
        {
         "date": "2021-12-08T00:00:00.000000",
         "product": "Үхрийн мах цул",
         "market": "\"Таван эрдэнэ\"   зах",
         "size": "кг",
         "price": 16000,
         "_deepnote_index_column": 61899
        },
        {
         "date": "2021-12-08T00:00:00.000000",
         "product": "Үхрийн мах цул",
         "market": "\"Хар хорин\" зах",
         "size": "кг",
         "price": 13000,
         "_deepnote_index_column": 61900
        },
        {
         "date": "2021-12-08T00:00:00.000000",
         "product": "Үхрийн мах цул",
         "market": "\"Хүчит шонхор\"  зах",
         "size": "кг",
         "price": 13000,
         "_deepnote_index_column": 61901
        },
        {
         "date": "2021-12-08T00:00:00.000000",
         "product": "Үхрийн мах цул",
         "market": "Имарт",
         "size": "кг",
         "price": 19480,
         "_deepnote_index_column": 61902
        },
        {
         "date": "2021-12-08T00:00:00.000000",
         "product": "Үхрийн мах цул",
         "market": "Макс/М Март Супер-маркет",
         "size": "кг",
         "price": 14000,
         "_deepnote_index_column": 61903
        },
        {
         "date": "2021-12-08T00:00:00.000000",
         "product": "Үхрийн мах цул",
         "market": "Номин Супер-маркет",
         "size": "кг",
         "price": 16500,
         "_deepnote_index_column": 61904
        },
        {
         "date": "2021-12-08T00:00:00.000000",
         "product": "Үхрийн мах цул",
         "market": "Оргил Супер-маркет",
         "size": "кг",
         "price": "nan",
         "_deepnote_index_column": 61905
        },
        {
         "date": "2021-12-08T00:00:00.000000",
         "product": "Үхрийн мах ястай",
         "market": "\"Барс\" хт",
         "size": "кг",
         "price": 12000,
         "_deepnote_index_column": 61906
        },
        {
         "date": "2021-12-08T00:00:00.000000",
         "product": "Үхрийн мах ястай",
         "market": "\"Баянзүрх\" зах",
         "size": "кг",
         "price": 12000,
         "_deepnote_index_column": 61907
        },
        {
         "date": "2021-12-08T00:00:00.000000",
         "product": "Үхрийн мах ястай",
         "market": "\"Бөмбөгөр\" хт",
         "size": "кг",
         "price": 12000,
         "_deepnote_index_column": 61908
        },
        {
         "date": "2021-12-08T00:00:00.000000",
         "product": "Үхрийн мах ястай",
         "market": "\"Меркури\" зах/Их наяд ХТ",
         "size": "кг",
         "price": 15000,
         "_deepnote_index_column": 61909
        },
        {
         "date": "2021-12-08T00:00:00.000000",
         "product": "Үхрийн мах ястай",
         "market": "\"Сансар\" Супер-маркет",
         "size": "кг",
         "price": "nan",
         "_deepnote_index_column": 61910
        },
        {
         "date": "2021-12-08T00:00:00.000000",
         "product": "Үхрийн мах ястай",
         "market": "\"Саруул\" зах",
         "size": "кг",
         "price": 16500,
         "_deepnote_index_column": 61911
        },
        {
         "date": "2021-12-08T00:00:00.000000",
         "product": "Үхрийн мах ястай",
         "market": "\"Таван эрдэнэ\"   зах",
         "size": "кг",
         "price": 14000,
         "_deepnote_index_column": 61912
        },
        {
         "date": "2021-12-08T00:00:00.000000",
         "product": "Үхрийн мах ястай",
         "market": "\"Хар хорин\" зах",
         "size": "кг",
         "price": 10500,
         "_deepnote_index_column": 61913
        },
        {
         "date": "2021-12-08T00:00:00.000000",
         "product": "Үхрийн мах ястай",
         "market": "\"Хүчит шонхор\"  зах",
         "size": "кг",
         "price": 12500,
         "_deepnote_index_column": 61914
        },
        {
         "date": "2021-12-08T00:00:00.000000",
         "product": "Үхрийн мах ястай",
         "market": "Имарт",
         "size": "кг",
         "price": 15800,
         "_deepnote_index_column": 61915
        },
        {
         "date": "2021-12-08T00:00:00.000000",
         "product": "Үхрийн мах ястай",
         "market": "Макс/М Март Супер-маркет",
         "size": "кг",
         "price": "nan",
         "_deepnote_index_column": 61916
        },
        {
         "date": "2021-12-08T00:00:00.000000",
         "product": "Үхрийн мах ястай",
         "market": "Номин Супер-маркет",
         "size": "кг",
         "price": 14000,
         "_deepnote_index_column": 61917
        },
        {
         "date": "2021-12-08T00:00:00.000000",
         "product": "Үхрийн мах ястай",
         "market": "Оргил Супер-маркет",
         "size": "кг",
         "price": "nan",
         "_deepnote_index_column": 61918
        },
        {
         "date": "2021-12-08T00:00:00.000000",
         "product": "Өндөг, ОХУ",
         "market": "\"Барс\" хт",
         "size": "ширхэг",
         "price": 420,
         "_deepnote_index_column": 61919
        },
        {
         "date": "2021-12-08T00:00:00.000000",
         "product": "Өндөг, ОХУ",
         "market": "\"Баянзүрх\" зах",
         "size": "ширхэг",
         "price": 420,
         "_deepnote_index_column": 61920
        },
        {
         "date": "2021-12-08T00:00:00.000000",
         "product": "Өндөг, ОХУ",
         "market": "\"Бөмбөгөр\" хт",
         "size": "ширхэг",
         "price": 420,
         "_deepnote_index_column": 61921
        },
        {
         "date": "2021-12-08T00:00:00.000000",
         "product": "Өндөг, ОХУ",
         "market": "\"Меркури\" зах/Их наяд ХТ",
         "size": "ширхэг",
         "price": 450,
         "_deepnote_index_column": 61922
        },
        {
         "date": "2021-12-08T00:00:00.000000",
         "product": "Өндөг, ОХУ",
         "market": "\"Сансар\" Супер-маркет",
         "size": "ширхэг",
         "price": 604,
         "_deepnote_index_column": 61923
        },
        {
         "date": "2021-12-08T00:00:00.000000",
         "product": "Өндөг, ОХУ",
         "market": "\"Саруул\" зах",
         "size": "ширхэг",
         "price": 450,
         "_deepnote_index_column": 61924
        },
        {
         "date": "2021-12-08T00:00:00.000000",
         "product": "Өндөг, ОХУ",
         "market": "\"Таван эрдэнэ\"   зах",
         "size": "ширхэг",
         "price": 430,
         "_deepnote_index_column": 61925
        },
        {
         "date": "2021-12-08T00:00:00.000000",
         "product": "Өндөг, ОХУ",
         "market": "\"Хар хорин\" зах",
         "size": "ширхэг",
         "price": 450,
         "_deepnote_index_column": 61926
        },
        {
         "date": "2021-12-08T00:00:00.000000",
         "product": "Өндөг, ОХУ",
         "market": "\"Хүчит шонхор\"  зах",
         "size": "ширхэг",
         "price": 400,
         "_deepnote_index_column": 61927
        },
        {
         "date": "2021-12-08T00:00:00.000000",
         "product": "Өндөг, ОХУ",
         "market": "Имарт",
         "size": "ширхэг",
         "price": "nan",
         "_deepnote_index_column": 61928
        },
        {
         "date": "2021-12-08T00:00:00.000000",
         "product": "Өндөг, ОХУ",
         "market": "Макс/М Март Супер-маркет",
         "size": "ширхэг",
         "price": 500,
         "_deepnote_index_column": 61929
        },
        {
         "date": "2021-12-08T00:00:00.000000",
         "product": "Өндөг, ОХУ",
         "market": "Номин Супер-маркет",
         "size": "ширхэг",
         "price": 605,
         "_deepnote_index_column": 61930
        },
        {
         "date": "2021-12-08T00:00:00.000000",
         "product": "Өндөг, ОХУ",
         "market": "Оргил Супер-маркет",
         "size": "ширхэг",
         "price": 480,
         "_deepnote_index_column": 61931
        }
       ]
      },
      "text/plain": "            date              product                    market    size  price\n0     2019-01-02  \"Алейка\" дээд гурил                 \"Барс\" хт      кг    NaN\n1     2019-01-02  \"Алейка\" дээд гурил            \"Баянзүрх\" зах      кг    NaN\n2     2019-01-02  \"Алейка\" дээд гурил             \"Бөмбөгөр\" хт      кг    NaN\n3     2019-01-02  \"Алейка\" дээд гурил  \"Меркури\" зах/Их наяд ХТ      кг    NaN\n4     2019-01-02  \"Алейка\" дээд гурил     \"Сансар\" Супер-маркет      кг    NaN\n...          ...                  ...                       ...     ...    ...\n61927 2021-12-08           Өндөг, ОХУ       \"Хүчит шонхор\"  зах  ширхэг  400.0\n61928 2021-12-08           Өндөг, ОХУ                     Имарт  ширхэг    NaN\n61929 2021-12-08           Өндөг, ОХУ  Макс/М Март Супер-маркет  ширхэг  500.0\n61930 2021-12-08           Өндөг, ОХУ        Номин Супер-маркет  ширхэг  605.0\n61931 2021-12-08           Өндөг, ОХУ        Оргил Супер-маркет  ширхэг  480.0\n\n[61932 rows x 5 columns]",
      "text/html": "<div>\n<style scoped>\n    .dataframe tbody tr th:only-of-type {\n        vertical-align: middle;\n    }\n\n    .dataframe tbody tr th {\n        vertical-align: top;\n    }\n\n    .dataframe thead th {\n        text-align: right;\n    }\n</style>\n<table border=\"1\" class=\"dataframe\">\n  <thead>\n    <tr style=\"text-align: right;\">\n      <th></th>\n      <th>date</th>\n      <th>product</th>\n      <th>market</th>\n      <th>size</th>\n      <th>price</th>\n    </tr>\n  </thead>\n  <tbody>\n    <tr>\n      <th>0</th>\n      <td>2019-01-02</td>\n      <td>\"Алейка\" дээд гурил</td>\n      <td>\"Барс\" хт</td>\n      <td>кг</td>\n      <td>NaN</td>\n    </tr>\n    <tr>\n      <th>1</th>\n      <td>2019-01-02</td>\n      <td>\"Алейка\" дээд гурил</td>\n      <td>\"Баянзүрх\" зах</td>\n      <td>кг</td>\n      <td>NaN</td>\n    </tr>\n    <tr>\n      <th>2</th>\n      <td>2019-01-02</td>\n      <td>\"Алейка\" дээд гурил</td>\n      <td>\"Бөмбөгөр\" хт</td>\n      <td>кг</td>\n      <td>NaN</td>\n    </tr>\n    <tr>\n      <th>3</th>\n      <td>2019-01-02</td>\n      <td>\"Алейка\" дээд гурил</td>\n      <td>\"Меркури\" зах/Их наяд ХТ</td>\n      <td>кг</td>\n      <td>NaN</td>\n    </tr>\n    <tr>\n      <th>4</th>\n      <td>2019-01-02</td>\n      <td>\"Алейка\" дээд гурил</td>\n      <td>\"Сансар\" Супер-маркет</td>\n      <td>кг</td>\n      <td>NaN</td>\n    </tr>\n    <tr>\n      <th>...</th>\n      <td>...</td>\n      <td>...</td>\n      <td>...</td>\n      <td>...</td>\n      <td>...</td>\n    </tr>\n    <tr>\n      <th>61927</th>\n      <td>2021-12-08</td>\n      <td>Өндөг, ОХУ</td>\n      <td>\"Хүчит шонхор\"  зах</td>\n      <td>ширхэг</td>\n      <td>400.0</td>\n    </tr>\n    <tr>\n      <th>61928</th>\n      <td>2021-12-08</td>\n      <td>Өндөг, ОХУ</td>\n      <td>Имарт</td>\n      <td>ширхэг</td>\n      <td>NaN</td>\n    </tr>\n    <tr>\n      <th>61929</th>\n      <td>2021-12-08</td>\n      <td>Өндөг, ОХУ</td>\n      <td>Макс/М Март Супер-маркет</td>\n      <td>ширхэг</td>\n      <td>500.0</td>\n    </tr>\n    <tr>\n      <th>61930</th>\n      <td>2021-12-08</td>\n      <td>Өндөг, ОХУ</td>\n      <td>Номин Супер-маркет</td>\n      <td>ширхэг</td>\n      <td>605.0</td>\n    </tr>\n    <tr>\n      <th>61931</th>\n      <td>2021-12-08</td>\n      <td>Өндөг, ОХУ</td>\n      <td>Оргил Супер-маркет</td>\n      <td>ширхэг</td>\n      <td>480.0</td>\n    </tr>\n  </tbody>\n</table>\n<p>61932 rows × 5 columns</p>\n</div>"
     },
     "metadata": {}
    }
   ]
  },
  {
   "cell_type": "markdown",
   "source": "The Mongolian dataset is now done, and can be written to a CSV file.",
   "metadata": {
    "cell_id": "00028-026279ee-16f6-4c51-9017-8fcc48d186df",
    "deepnote_cell_type": "markdown"
   }
  },
  {
   "cell_type": "code",
   "metadata": {
    "cell_id": "00029-62923478-ba9a-44e0-8706-f0930c56f4ef",
    "deepnote_to_be_reexecuted": false,
    "source_hash": "1f4521b8",
    "execution_start": 1639267597667,
    "execution_millis": 745,
    "deepnote_cell_type": "code"
   },
   "source": "mgl_df.to_csv('data/prices_mn.csv', index=False)",
   "execution_count": null,
   "outputs": []
  },
  {
   "cell_type": "markdown",
   "source": "### English Dataframe Edits",
   "metadata": {
    "tags": [],
    "cell_id": "00030-e0de82b4-fe7b-4cac-a1a1-cacb227c36e6",
    "deepnote_cell_type": "markdown"
   }
  },
  {
   "cell_type": "code",
   "metadata": {
    "cell_id": "00016-f45fbcdd-d427-4189-99a6-7faa4224a6a5",
    "tags": [],
    "deepnote_to_be_reexecuted": false,
    "source_hash": "87ce58c2",
    "execution_start": 1639267598421,
    "execution_millis": 8,
    "deepnote_cell_type": "code"
   },
   "source": "market_translate_en = {'\"Барс\" хт':'Bars', '\"Баянзүрх\" зах':'Bayanzurkh', '\"Бөмбөгөр\" хт':'Bumbugur', '\"Меркури\" зах':'Mercury/Ikh Nayad',\n                       '\"Сансар\" Супер-маркет':'Sansar', '\"Саруул\" зах':'Saruul', '\"Таван эрдэнэ\"   зах':'Tavan Erdene',\n                       '\"Хар хорин\" зах':'Kharkhorin', '\"Хүчит шонхор\"  зах':'Khuchit Shonkhor', 'Имарт':'Emart', 'Их наяд ХТ':'Mercury/Ikh Nayad',\n                       'Макс Супер-маркет':'Max/M Mart', 'Номин Супер-маркет':'Nomin', 'Оргил Супер-маркет':'Orgil'}",
   "execution_count": null,
   "outputs": []
  },
  {
   "cell_type": "code",
   "metadata": {
    "cell_id": "00032-72b5b11f-f2a8-4dcf-a023-7b6a01a08e7f",
    "deepnote_to_be_reexecuted": false,
    "source_hash": "12df0722",
    "execution_start": 1639267598444,
    "execution_millis": 25,
    "deepnote_cell_type": "code"
   },
   "source": "eng_df['market'] = eng_df['market'].replace(market_translate_en)",
   "execution_count": null,
   "outputs": []
  },
  {
   "cell_type": "code",
   "metadata": {
    "cell_id": "00033-18518d59-3055-44c0-830a-d312002be38c",
    "deepnote_output_heights": [
     21.1875
    ],
    "deepnote_to_be_reexecuted": false,
    "source_hash": "d893cd71",
    "execution_start": 1639267598481,
    "execution_millis": 15,
    "deepnote_cell_type": "code"
   },
   "source": "eng_df['size'].unique()",
   "execution_count": null,
   "outputs": [
    {
     "output_type": "execute_result",
     "execution_count": 26,
     "data": {
      "text/plain": "array(['кг', 'литр', 'ширхэг', '300 гр', '1 литр'], dtype=object)"
     },
     "metadata": {}
    }
   ]
  },
  {
   "cell_type": "code",
   "metadata": {
    "cell_id": "00034-de0a3965-5aa3-4c6f-aaf1-b1d898d884e7",
    "deepnote_to_be_reexecuted": false,
    "source_hash": "337fcb0b",
    "execution_start": 1639267598494,
    "execution_millis": 3,
    "deepnote_cell_type": "code"
   },
   "source": "size_translate = {'ширхэг':'each', 'кг':'kg', '1 литр':'1 liter', '300 гр':'300 g', 'литр':'liter'}",
   "execution_count": null,
   "outputs": []
  },
  {
   "cell_type": "code",
   "metadata": {
    "cell_id": "00035-4a05c3a9-81d9-4b50-ba1e-604e2a1f14e0",
    "deepnote_to_be_reexecuted": false,
    "source_hash": "de16ee13",
    "execution_start": 1639267598504,
    "execution_millis": 16,
    "deepnote_cell_type": "code"
   },
   "source": "eng_df['size'] = eng_df['size'].replace(size_translate)",
   "execution_count": null,
   "outputs": []
  },
  {
   "cell_type": "code",
   "metadata": {
    "cell_id": "00036-8c86053e-2bd6-491d-9884-335e932d9430",
    "deepnote_output_heights": [
     289.8125
    ],
    "deepnote_to_be_reexecuted": false,
    "source_hash": "a6b17e14",
    "execution_start": 1639267598531,
    "execution_millis": 13,
    "deepnote_cell_type": "code"
   },
   "source": "eng_df['product'].unique()",
   "execution_count": null,
   "outputs": [
    {
     "output_type": "execute_result",
     "execution_count": 29,
     "data": {
      "text/plain": "array(['Байцаа, монгол', '\"Алтан тариа\" савласан гурил 1-р зэрэг',\n       '\"Алтан тариа\" савласан гурил 2-р зэрэг', '\"Алейка\" дээд гурил',\n       'Сүү Сүү ХК 1л', 'Сүү Сүү ХК 0.5л', 'Сүү Задгай',\n       'Тараг, Цөцгийтэй', '\"Алтан тариа\" савласан гурил дээд',\n       'Талх Атар', 'Талх Хар талх', 'Будаа цагаан', 'Будаа шар',\n       'Цөцгийн тос, \"Сүү\" ХК', 'Ургамлын тос', 'Ногоон цай, Гүрж',\n       'Элсэн чихэр', 'Талх Зууван чех',\n       '\"Алтан тариа\" савласан гурил дээдийн дээд',\n       '\"Алтан тариа\" гурил 1-р зэрэг', '\"Алтан тариа\" гурил дээд',\n       'Хонины мах ястай', 'Хонины мах цул', 'Үхрийн мах ястай',\n       'Үхрийн мах цул', 'Өндөг, ОХУ', 'Адууны мах, ястай',\n       'Ямааны мах, ястай', 'Төмс, монгол', 'Лууван, монгол',\n       'Хүрэн манжин, монгол', 'Сонгино, хятад', 'Алим, фүжи',\n       'Нөөцийн мах, ястай хонь', 'Нөөцийн мах, ястай үхэр',\n       'Нөөцийн мах, ястай ямаа'], dtype=object)"
     },
     "metadata": {}
    }
   ]
  },
  {
   "cell_type": "code",
   "metadata": {
    "tags": [],
    "cell_id": "00037-10bf9502-bc12-4b85-ae07-b7ab5cc381f1",
    "deepnote_to_be_reexecuted": false,
    "source_hash": "fdad320",
    "execution_start": 1639267598549,
    "execution_millis": 5,
    "deepnote_cell_type": "code"
   },
   "source": "product_translate = {'Өндөг, ОХУ':'Egg, Russian', 'Будаа шар':'Yellow Rice', 'Цөцгийн тос, \"Сүү\" ХК':'Butter, Suu LTD', 'Ургамлын тос':'Vegatable Oil',\n                     'Ногоон цай, Гүрж':'Gree Tea, Georgia', 'Элсэн чихэр':'Sugar', 'Хонины мах ястай':'Mutton w/Bones',\n                     'Хонины мах цул':'Mutton Boneless', 'Үхрийн мах ястай':'Beef w/Bones', 'Үхрийн мах цул':'Beef Boneless',\n                     'Адууны мах, ястай':'Horse Meat w/Bones', 'Ямааны мах, ястай':'Goat Meat w/Bones', 'Будаа цагаан':'White Rice',\n                     'Төмс, монгол':'Potato, Mongolian', 'Байцаа, монгол':'Cabbage, Mongolian', 'Хүрэн манжин, монгол':'Beet, Mongolian',\n                     'Сонгино, хятад':'Onion, China', 'Алим, фүжи':'Apple, Fuji', '\"Алтан тариа\" гурил дээд':'Altan Taria Flour, High Grade',\n                     '\"Алтан тариа\" гурил 1-р зэрэг':'Altan Taria Flour, First Grade',\n                     '\"Алтан тариа\" савласан гурил дээдийн дээд':'Altan Taria Packaged Flour, Top Grade',\n                     '\"Алтан тариа\" савласан гурил дээд':'Altan Taria Packaged Flour, High Grade',\n                     '\"Алтан тариа\" савласан гурил 1-р зэрэг':'Altan Taria Packaged Flour, 1st Grade',\n                     '\"Алтан тариа\" савласан гурил 2-р зэрэг':'Altan Taria Packaged Flour, 2nd Grade', \n                     'Лууван, монгол':'Carrot, Mongolian', 'Талх Хар талх':'Brown Bread', 'Талх Зууван чех':'Round Bread, Czech Style', \n                     'Талх Атар':'Atar Brand Bread', '\"Алейка\" дээд гурил':'Aleika High Grade Flour', 'Сүү Сүү ХК 1л':'Suu Brand Milk, 1l', \n                     'Сүү Сүү ХК 0.5л':'Suu Brand Milk, 0.5l', 'Сүү Задгай':'Milk, Bulk', 'Тараг, Цөцгийтэй':'Yogurt', \n                     'Нөөцийн мах, ястай үхэр':'Reserve meat, beef w/bones',\n                     'Нөөцийн мах, ястай хонь':'Reserve meat, mutton w/bones', \n                     'Нөөцийн мах, ястай ямаа':'Reserve meat, goat w/bones'}",
   "execution_count": null,
   "outputs": []
  },
  {
   "cell_type": "code",
   "metadata": {
    "cell_id": "00038-07cef02b-a484-42cb-8217-722fb6a0136f",
    "deepnote_to_be_reexecuted": false,
    "source_hash": "50990b11",
    "execution_start": 1639267598557,
    "execution_millis": 13,
    "deepnote_cell_type": "code"
   },
   "source": "eng_df['product'] = eng_df['product'].map(product_translate)",
   "execution_count": null,
   "outputs": []
  },
  {
   "cell_type": "markdown",
   "source": "Since we renamed two markets to have the same name (Mercury and Ikh Nayad), we have duplicate dates and products for the same markets, but with NaNs. This is because Mercury closed and the shops moved to Ikh Nayad. Let's merge those.",
   "metadata": {
    "tags": [],
    "cell_id": "00042-23ce07e2-a043-4a94-83f7-99b9996ba9b3",
    "deepnote_cell_type": "markdown"
   }
  },
  {
   "cell_type": "code",
   "metadata": {
    "tags": [],
    "cell_id": "00042-4b99ec37-dd0f-44e6-b809-259f26d48898",
    "deepnote_to_be_reexecuted": false,
    "source_hash": "7d289ef3",
    "execution_start": 1639267598582,
    "execution_millis": 37,
    "deepnote_cell_type": "code"
   },
   "source": "eng_df = eng_df.groupby(by=['date','product','market']).first().reset_index()",
   "execution_count": null,
   "outputs": []
  },
  {
   "cell_type": "code",
   "metadata": {
    "cell_id": "00039-ada14cbe-c218-415b-88a0-bbf3c0727c25",
    "deepnote_to_be_reexecuted": false,
    "source_hash": "b80fece5",
    "execution_start": 1639267598625,
    "execution_millis": 833,
    "deepnote_cell_type": "code"
   },
   "source": "eng_df.to_csv('data/prices_en.csv', index=False)",
   "execution_count": null,
   "outputs": []
  },
  {
   "cell_type": "markdown",
   "source": "## Upload to Kaggle",
   "metadata": {
    "cell_id": "00040-4bb78058-cf00-4b96-ba96-0d50b23e4649",
    "deepnote_cell_type": "markdown"
   }
  },
  {
   "cell_type": "markdown",
   "source": "We only do this once, so the code is commented out. But keeping here for fun.",
   "metadata": {
    "tags": [],
    "cell_id": "00042-54fb247a-e297-4234-80a1-028eed6e2d6d",
    "deepnote_cell_type": "markdown"
   }
  },
  {
   "cell_type": "code",
   "metadata": {
    "tags": [],
    "cell_id": "00041-1ac6d97e-fc5c-4486-a4e4-6fa417548f25",
    "deepnote_to_be_reexecuted": false,
    "source_hash": "92c55782",
    "execution_start": 1639267599466,
    "execution_millis": 3,
    "deepnote_cell_type": "code"
   },
   "source": "#!kaggle datasets init -p data",
   "execution_count": null,
   "outputs": []
  },
  {
   "cell_type": "markdown",
   "source": "Now edit the JSON file with what you want.",
   "metadata": {
    "tags": [],
    "cell_id": "00043-9eb82983-5251-48ad-9a9c-97e156c784da",
    "deepnote_cell_type": "markdown"
   }
  },
  {
   "cell_type": "code",
   "metadata": {
    "tags": [],
    "cell_id": "00043-b9e9a898-c904-4f27-b377-e669562c27a5",
    "deepnote_to_be_reexecuted": false,
    "source_hash": "8fa85909",
    "execution_start": 1639267599480,
    "execution_millis": 0,
    "deepnote_cell_type": "code"
   },
   "source": "#!kaggle datasets create -p data",
   "execution_count": null,
   "outputs": []
  },
  {
   "cell_type": "markdown",
   "source": "## Update Dataset",
   "metadata": {
    "tags": [],
    "cell_id": "00045-43220cff-3e76-43c9-bc97-c37fb393a952",
    "deepnote_cell_type": "markdown"
   }
  },
  {
   "cell_type": "markdown",
   "source": "We will only do the creation once, so now we can comment out the two lines above. When updated the dataset we will down the metadata file from Kaggle.com since we will edit the metadata on Kaggle.",
   "metadata": {
    "tags": [],
    "cell_id": "00045-0fa13f1a-c92c-4940-91f1-3e6574d7fce8",
    "deepnote_cell_type": "markdown"
   }
  },
  {
   "cell_type": "code",
   "metadata": {
    "tags": [],
    "cell_id": "00047-7d9ddf11-0314-42e7-b982-338adf3b5461",
    "deepnote_to_be_reexecuted": false,
    "source_hash": "6b5f393e",
    "execution_start": 1639267599487,
    "execution_millis": 1298,
    "deepnote_cell_type": "code"
   },
   "source": "!kaggle datasets metadata -p data robertritz/ub-market-prices",
   "execution_count": null,
   "outputs": [
    {
     "name": "stdout",
     "text": "Downloaded metadata to data/dataset-metadata.json\r\n",
     "output_type": "stream"
    }
   ]
  },
  {
   "cell_type": "code",
   "metadata": {
    "tags": [],
    "cell_id": "00048-a9bd8979-3141-481e-adef-ebb5b1284fd3",
    "deepnote_to_be_reexecuted": false,
    "source_hash": "65cf7918",
    "execution_start": 1639267600790,
    "execution_millis": 5,
    "deepnote_cell_type": "code"
   },
   "source": "date = datetime.datetime.today()",
   "execution_count": null,
   "outputs": []
  },
  {
   "cell_type": "code",
   "metadata": {
    "tags": [],
    "cell_id": "00044-5b3944ae-619e-4ab1-82d3-b42e5d729509",
    "deepnote_to_be_reexecuted": false,
    "source_hash": "3263f6bb",
    "execution_start": 1639267600802,
    "execution_millis": 4925,
    "deepnote_cell_type": "code"
   },
   "source": "!kaggle datasets version -p data -m \"Updated dataset. {date}\"",
   "execution_count": null,
   "outputs": [
    {
     "name": "stdout",
     "text": "Starting upload for file prices_mn.csv\n100%|██████████████████████████████████████| 5.32M/5.32M [00:01<00:00, 3.41MB/s]\nUpload successful: prices_mn.csv (5MB)\nStarting upload for file prices_en.csv\n100%|██████████████████████████████████████| 2.97M/2.97M [00:01<00:00, 2.66MB/s]\nUpload successful: prices_en.csv (3MB)\nDataset version is being created. Please check progress at https://www.kaggle.com/robertritz/ub-market-prices\n",
     "output_type": "stream"
    }
   ]
  },
  {
   "cell_type": "markdown",
   "source": "Now the updated dataset should be live!",
   "metadata": {
    "tags": [],
    "cell_id": "00050-b4a276f0-0e5f-4d71-a569-af8bd8c748c9",
    "deepnote_cell_type": "markdown"
   }
  },
  {
   "cell_type": "markdown",
   "source": "",
   "metadata": {
    "tags": [],
    "cell_id": "00051-296a147a-15bb-4fb2-8b9c-ee01c71bb329",
    "deepnote_cell_type": "markdown"
   }
  },
  {
   "cell_type": "markdown",
   "source": "<a style='text-decoration:none;line-height:16px;display:flex;color:#5B5B62;padding:10px;justify-content:end;' href='https://deepnote.com?utm_source=created-in-deepnote-cell&projectId=5c29b651-5799-4ecf-8ca8-8e3f274961e2' target=\"_blank\">\n<img alt='Created in deepnote.com' style='display:inline;max-height:16px;margin:0px;margin-right:7.5px;' src='data:image/svg+xml;base64,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' > </img>\nCreated in <span style='font-weight:600;margin-left:4px;'>Deepnote</span></a>",
   "metadata": {
    "tags": [],
    "created_in_deepnote_cell": true,
    "deepnote_cell_type": "markdown"
   }
  }
 ],
 "nbformat": 4,
 "nbformat_minor": 5,
 "metadata": {
  "deepnote": {},
  "deepnote_execution_queue": [],
  "deepnote_notebook_id": "d95e824e-91d6-4138-9635-d618414fd15c",
  "kernelspec": {
   "display_name": "Python 3 (ipykernel)",
   "language": "python",
   "name": "python3"
  },
  "language_info": {
   "codemirror_mode": {
    "name": "ipython",
    "version": 3
   },
   "file_extension": ".py",
   "mimetype": "text/x-python",
   "name": "python",
   "nbconvert_exporter": "python",
   "pygments_lexer": "ipython3",
   "version": "3.8.12"
  }
 }
}
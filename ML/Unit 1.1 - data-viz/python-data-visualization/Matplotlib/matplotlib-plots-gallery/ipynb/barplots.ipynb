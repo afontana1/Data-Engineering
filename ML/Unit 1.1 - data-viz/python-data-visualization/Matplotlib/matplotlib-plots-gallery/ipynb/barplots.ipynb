{
 "cells": [
  {
   "cell_type": "code",
   "execution_count": 3,
   "metadata": {
    "collapsed": false
   },
   "outputs": [],
   "source": [
    "%matplotlib inline"
   ]
  },
  {
   "cell_type": "markdown",
   "metadata": {},
   "source": [
    "<br>\n",
    "<br>"
   ]
  },
  {
   "cell_type": "markdown",
   "metadata": {},
   "source": [
    "# Bar plots in Matplotlib"
   ]
  },
  {
   "cell_type": "markdown",
   "metadata": {},
   "source": [
    "# Sections"
   ]
  },
  {
   "cell_type": "markdown",
   "metadata": {},
   "source": [
    "- [Bar plot with error bars](#Bar-plot-with-error-bars)\n",
    "- [Horizontal bar plot with error bars](#Horizontal-bar-plot-with-error-bars)\n",
    "- [Back-to-back bar plot](#Back-to-back-bar-plot)\n",
    "- [Grouped bar plot](#Grouped-bar-plot)\n",
    "- [Stacked bar plot](#Stacked-bar-plot)\n",
    "- [Bar plot with plot labels/text 1](#Bar-plot-with-plot-labels/text-1)\n",
    "- [Bar plot with plot labels/text 2](#Bar-plot-with-plot-labels/text-2)\n",
    "- [Barplot with auto-rotated labels and text](#Barplot-with-auto-rotated-labels-and-text)\n",
    "- [Bar plot with color gradients](#Bar-plot-with-color-gradients)\n",
    "- [Bar plot pattern fill](#Bar-plot-pattern-fill)"
   ]
  },
  {
   "cell_type": "markdown",
   "metadata": {},
   "source": [
    "<br>\n",
    "<br>"
   ]
  },
  {
   "cell_type": "markdown",
   "metadata": {},
   "source": [
    "# Bar plot with error bars"
   ]
  },
  {
   "cell_type": "code",
   "execution_count": 6,
   "metadata": {
    "collapsed": false
   },
   "outputs": [
    {
     "data": {
      "image/png": "[encoded data removed]",
      "text/plain": [
       "<matplotlib.figure.Figure at 0x10544cd50>"
      ]
     },
     "metadata": {},
     "output_type": "display_data"
    }
   ],
   "source": [
    "import matplotlib.pyplot as plt\n",
    "\n",
    "# input data\n",
    "mean_values = [1, 2, 3]\n",
    "variance = [0.2, 0.4, 0.5]\n",
    "bar_labels = ['bar 1', 'bar 2', 'bar 3']\n",
    "\n",
    "# plot bars\n",
    "x_pos = list(range(len(bar_labels)))\n",
    "plt.bar(x_pos, mean_values, yerr=variance, align='center', alpha=0.5)\n",
    "\n",
    "plt.grid()\n",
    "\n",
    "# set height of the y-axis\n",
    "max_y = max(zip(mean_values, variance)) # returns a tuple, here: (3, 5)\n",
    "plt.ylim([0, (max_y[0] + max_y[1]) * 1.1])\n",
    "\n",
    "# set axes labels and title\n",
    "plt.ylabel('variable y')\n",
    "plt.xticks(x_pos, bar_labels)\n",
    "plt.title('Bar plot with error bars')\n",
    "\n",
    "plt.show()\n",
    "#plt.savefig('./my_plot.png')"
   ]
  },
  {
   "cell_type": "markdown",
   "metadata": {},
   "source": [
    "<br>\n",
    "<br>"
   ]
  },
  {
   "cell_type": "markdown",
   "metadata": {},
   "source": [
    "# Horizontal bar plot with error bars"
   ]
  },
  {
   "cell_type": "code",
   "execution_count": 20,
   "metadata": {
    "collapsed": false
   },
   "outputs": [
    {
     "data": {
      "image/png": "[encoded data removed]",
      "text/plain": [
       "<matplotlib.figure.Figure at 0x1054e2550>"
      ]
     },
     "metadata": {},
     "output_type": "display_data"
    }
   ],
   "source": [
    "from matplotlib import pyplot as plt\n",
    "import numpy as np\n",
    "\n",
    "# input data\n",
    "mean_values = [1, 2, 3]\n",
    "std_dev = [0.2, 0.4, 0.5]\n",
    "bar_labels = ['bar 1', 'bar 2', 'bar 3']\n",
    "\n",
    "fig = plt.figure(figsize=(8,6))\n",
    "\n",
    "# plot bars\n",
    "y_pos = np.arange(len(mean_values))\n",
    "y_pos = [x for x in y_pos]\n",
    "plt.yticks(y_pos, bar_labels, fontsize=10)\n",
    "plt.barh(y_pos, mean_values, xerr=std_dev, \n",
    "         align='center', alpha=0.4, color='g')\n",
    "\n",
    "# annotation and labels\n",
    "plt.xlabel('measurement x')\n",
    "t = plt.title('Bar plot with standard deviation')\n",
    "plt.ylim([-1,len(mean_values)+0.5])\n",
    "plt.xlim([0, 4])\n",
    "plt.grid()\n",
    "\n",
    "plt.show()"
   ]
  },
  {
   "cell_type": "markdown",
   "metadata": {},
   "source": [
    "<br>\n",
    "<br>"
   ]
  },
  {
   "cell_type": "markdown",
   "metadata": {},
   "source": [
    "# Back-to-back bar plot"
   ]
  },
  {
   "cell_type": "code",
   "execution_count": 19,
   "metadata": {
    "collapsed": false
   },
   "outputs": [
    {
     "data": {
      "image/png": "[encoded data removed]",
      "text/plain": [
       "<matplotlib.figure.Figure at 0x105463c88>"
      ]
     },
     "metadata": {},
     "output_type": "display_data"
    }
   ],
   "source": [
    "from matplotlib import pyplot as plt\n",
    "import numpy as np\n",
    "\n",
    "# input data\n",
    "X1 = np.array([1, 2, 3])\n",
    "X2 = np.array([2, 2, 3])\n",
    "\n",
    "\n",
    "bar_labels = ['bar 1', 'bar 2', 'bar 3']\n",
    "\n",
    "fig = plt.figure(figsize=(8,6))\n",
    "\n",
    "# plot bars\n",
    "y_pos = np.arange(len(X1))\n",
    "y_pos = [x for x in y_pos]\n",
    "plt.yticks(y_pos, bar_labels, fontsize=10)\n",
    "\n",
    "\n",
    "plt.barh(y_pos, X1, \n",
    "         align='center', alpha=0.4, color='g')\n",
    "\n",
    "# we simply negate the values of the numpy array for\n",
    "# the second bar:\n",
    "plt.barh(y_pos, -X2,\n",
    "         align='center', alpha=0.4, color='b')\n",
    "\n",
    "# annotation and labels\n",
    "plt.xlabel('measurement x')\n",
    "t = plt.title('Bar plot with standard deviation')\n",
    "plt.ylim([-1,len(X1)+0.1])\n",
    "plt.xlim([-max(X2)-1, max(X1)+1])\n",
    "plt.grid()\n",
    "\n",
    "plt.show()"
   ]
  },
  {
   "cell_type": "markdown",
   "metadata": {},
   "source": [
    "<br>\n",
    "<br>"
   ]
  },
  {
   "cell_type": "markdown",
   "metadata": {},
   "source": [
    "# Grouped bar plot"
   ]
  },
  {
   "cell_type": "code",
   "execution_count": 39,
   "metadata": {
    "collapsed": false
   },
   "outputs": [
    {
     "data": {
      "image/png": "[encoded data removed]",
      "text/plain": [
       "<matplotlib.figure.Figure at 0x10686cbd0>"
      ]
     },
     "metadata": {},
     "output_type": "display_data"
    }
   ],
   "source": [
    "import matplotlib.pyplot as plt\n",
    "\n",
    "# Input data\n",
    "green_data = [1, 2, 3]\n",
    "blue_data = [3, 2, 1]\n",
    "red_data = [2, 3, 3]\n",
    "labels = ['group 1', 'group 2', 'group 3']\n",
    "\n",
    "# Setting the positions and width for the bars\n",
    "pos = list(range(len(green_data))) \n",
    "width = 0.2 \n",
    "    \n",
    "# Plotting the bars\n",
    "fig, ax = plt.subplots(figsize=(8,6))\n",
    "\n",
    "plt.bar(pos, green_data, width,\n",
    "                 alpha=0.5,\n",
    "                 color='g',\n",
    "                 label=labels[0])\n",
    "\n",
    "plt.bar([p + width for p in pos], blue_data, width,\n",
    "                 alpha=0.5,\n",
    "                 color='b',\n",
    "                 label=labels[1])\n",
    "    \n",
    "plt.bar([p + width*2 for p in pos], red_data, width,\n",
    "                 alpha=0.5,\n",
    "                 color='r',\n",
    "                 label=labels[2])\n",
    "\n",
    "# Setting axis labels and ticks\n",
    "ax.set_ylabel('y-value')\n",
    "ax.set_title('Grouped bar plot')\n",
    "ax.set_xticks([p + 1.5 * width for p in pos])\n",
    "ax.set_xticklabels(labels)\n",
    "\n",
    "# Setting the x-axis and y-axis limits\n",
    "plt.xlim(min(pos)-width, max(pos)+width*4)\n",
    "plt.ylim([0, max(green_data + blue_data + red_data) * 1.5])\n",
    "\n",
    "# Adding the legend and showing the plot\n",
    "plt.legend(['green', 'blue', 'red'], loc='upper left')\n",
    "plt.grid()\n",
    "plt.show()"
   ]
  },
  {
   "cell_type": "markdown",
   "metadata": {},
   "source": [
    "<br>\n",
    "<br>"
   ]
  },
  {
   "cell_type": "markdown",
   "metadata": {},
   "source": [
    "# Stacked bar plot"
   ]
  },
  {
   "cell_type": "code",
   "execution_count": 36,
   "metadata": {
    "collapsed": false
   },
   "outputs": [
    {
     "data": {
      "image/png": "[encoded data removed]",
      "text/plain": [
       "<matplotlib.figure.Figure at 0x104e6fb10>"
      ]
     },
     "metadata": {},
     "output_type": "display_data"
    }
   ],
   "source": [
    "import matplotlib.pyplot as plt\n",
    "\n",
    "blue_data = [100,120,140]\n",
    "red_data = [150,120,190]\n",
    "green_data = [80,70,90]\n",
    "\n",
    "f, (ax1, ax2) = plt.subplots(1, 2, figsize=(10,5))\n",
    "\n",
    "bar_width = 0.5\n",
    "\n",
    "# positions of the left bar-boundaries\n",
    "bar_l = [i+1 for i in range(len(blue_data))] \n",
    "\n",
    "# positions of the x-axis ticks (center of the bars as bar labels)\n",
    "tick_pos = [i+(bar_width/2) for i in bar_l] \n",
    "\n",
    "###################\n",
    "## Absolute count\n",
    "###################\n",
    "\n",
    "ax1.bar(bar_l, blue_data, width=bar_width,\n",
    "        label='blue data', alpha=0.5, color='b')\n",
    "ax1.bar(bar_l, red_data, width=bar_width,\n",
    "        bottom=blue_data, label='red data', alpha=0.5, color='r')\n",
    "ax1.bar(bar_l, green_data, width=bar_width,\n",
    "        bottom=[i+j for i,j in zip(blue_data,red_data)], label='green data', alpha=0.5, color='g')\n",
    "\n",
    "plt.sca(ax1)\n",
    "plt.xticks(tick_pos, ['category 1', 'category 2', 'category 3'])\n",
    "\n",
    "ax1.set_ylabel(\"Count\")\n",
    "ax1.set_xlabel(\"\")\n",
    "plt.legend(loc='upper left')\n",
    "plt.xlim([min(tick_pos)-bar_width, max(tick_pos)+bar_width])\n",
    "plt.grid()\n",
    "\n",
    "# rotate axis labels\n",
    "plt.setp(plt.gca().get_xticklabels(), rotation=45, horizontalalignment='right')\n",
    "\n",
    "############\n",
    "## Percent\n",
    "############\n",
    "\n",
    "totals = [i+j+k for i,j,k in zip(blue_data, red_data, green_data)]\n",
    "blue_rel = [i / j * 100 for  i,j in zip(blue_data, totals)]\n",
    "red_rel = [i / j * 100 for  i,j in zip(red_data, totals)]\n",
    "green_rel = [i / j * 100 for  i,j in zip(green_data, totals)]\n",
    "\n",
    "ax2.bar(bar_l, blue_rel, \n",
    "        label='blue data', alpha=0.5, color='b', width=bar_width\n",
    "        )\n",
    "ax2.bar(bar_l, red_rel, \n",
    "        bottom=blue_rel, label='red data', alpha=0.5, color='r', width=bar_width\n",
    "        )\n",
    "ax2.bar(bar_l, green_rel, \n",
    "        bottom=[i+j for i,j in zip(blue_rel, red_rel)], \n",
    "        label='green data', alpha=0.5, color='g', width=bar_width\n",
    "        )\n",
    "\n",
    "plt.sca(ax2)\n",
    "plt.xticks(tick_pos, ['category 1', 'category 2', 'category 3'])\n",
    "ax2.set_ylabel(\"Percentage\")\n",
    "ax2.set_xlabel(\"\")\n",
    "\n",
    "plt.xlim([min(tick_pos)-bar_width, max(tick_pos)+bar_width])\n",
    "plt.grid()\n",
    "\n",
    "# rotate axis labels\n",
    "plt.setp(plt.gca().get_xticklabels(), rotation=45, horizontalalignment='right')\n",
    "\n",
    "plt.show()"
   ]
  },
  {
   "cell_type": "markdown",
   "metadata": {},
   "source": [
    "<br>\n",
    "<br>"
   ]
  },
  {
   "cell_type": "markdown",
   "metadata": {},
   "source": [
    "# Bar plot with plot labels/text 1"
   ]
  },
  {
   "cell_type": "code",
   "execution_count": 17,
   "metadata": {
    "collapsed": false
   },
   "outputs": [
    {
     "data": {
      "image/png": "[encoded data removed]",
      "text/plain": [
       "<matplotlib.figure.Figure at 0x106791750>"
      ]
     },
     "metadata": {},
     "output_type": "display_data"
    }
   ],
   "source": [
    "from matplotlib import pyplot as plt\n",
    "import numpy as np\n",
    "\n",
    "data = range(200, 225, 5)\n",
    "\n",
    "bar_labels = ['a', 'b', 'c', 'd', 'e']\n",
    "\n",
    "fig = plt.figure(figsize=(10,8))\n",
    "\n",
    "# plot bars\n",
    "y_pos = np.arange(len(data))\n",
    "plt.yticks(y_pos, bar_labels, fontsize=16)\n",
    "bars = plt.barh(y_pos, data,\n",
    "         align='center', alpha=0.4, color='g')\n",
    "\n",
    "# annotation and labels\n",
    "\n",
    "for b,d in zip(bars, data):\n",
    "    plt.text(b.get_width() + b.get_width()*0.08, b.get_y() + b.get_height()/2,\n",
    "        '{0:.2%}'.format(d/min(data)), \n",
    "        ha='center', va='bottom', fontsize=12)\n",
    "\n",
    "plt.xlabel('X axis label', fontsize=14)\n",
    "plt.ylabel('Y axis label', fontsize=14)\n",
    "t = plt.title('Bar plot with plot labels/text', fontsize=18)\n",
    "plt.ylim([-1,len(data)+0.5])\n",
    "plt.vlines(min(data), -1, len(data)+0.5, linestyles='dashed')\n",
    "plt.grid()\n",
    "\n",
    "plt.show()"
   ]
  },
  {
   "cell_type": "markdown",
   "metadata": {},
   "source": [
    "<br>\n",
    "<br>"
   ]
  },
  {
   "cell_type": "markdown",
   "metadata": {},
   "source": [
    "# Bar plot with plot labels/text 2"
   ]
  },
  {
   "cell_type": "code",
   "execution_count": 8,
   "metadata": {
    "collapsed": false
   },
   "outputs": [
    {
     "data": {
      "image/png": "[encoded data removed]",
      "text/plain": [
       "<matplotlib.figure.Figure at 0x106886cc0>"
      ]
     },
     "metadata": {},
     "output_type": "display_data"
    }
   ],
   "source": [
    "import matplotlib.pyplot as plt\n",
    "\n",
    "# input data\n",
    "mean_values = [1, 2, 3]\n",
    "bar_labels = ['bar 1', 'bar 2', 'bar 3']\n",
    "\n",
    "# plot bars\n",
    "x_pos = list(range(len(bar_labels)))\n",
    "rects = plt.bar(x_pos, mean_values, align='center', alpha=0.5)\n",
    "\n",
    "# label bars\n",
    "def autolabel(rects):\n",
    "    for ii,rect in enumerate(rects):\n",
    "        height = rect.get_height()\n",
    "        plt.text(rect.get_x()+rect.get_width()/2., 1.02*height, '%s'% (mean_values[ii]),\n",
    "            ha='center', va='bottom')\n",
    "autolabel(rects)\n",
    "    \n",
    "\n",
    "\n",
    "# set height of the y-axis\n",
    "max_y = max(zip(mean_values, variance)) # returns a tuple, here: (3, 5)\n",
    "plt.ylim([0, (max_y[0] + max_y[1]) * 1.1])\n",
    "\n",
    "# set axes labels and title\n",
    "plt.ylabel('variable y')\n",
    "plt.xticks(x_pos, bar_labels)\n",
    "plt.title('Bar plot with labels')\n",
    "\n",
    "plt.show()\n",
    "#plt.savefig('./my_plot.png')"
   ]
  },
  {
   "cell_type": "markdown",
   "metadata": {},
   "source": [
    "<br>\n",
    "<br>"
   ]
  },
  {
   "cell_type": "markdown",
   "metadata": {},
   "source": [
    "# Barplot with auto-rotated labels and text"
   ]
  },
  {
   "cell_type": "code",
   "execution_count": 7,
   "metadata": {
    "collapsed": false
   },
   "outputs": [
    {
     "data": {
      "image/png": "[encoded data removed]",
      "text/plain": [
       "<matplotlib.figure.Figure at 0x10c84c438>"
      ]
     },
     "metadata": {},
     "output_type": "display_data"
    }
   ],
   "source": [
    "%matplotlib inline\n",
    "import matplotlib.pyplot as plt\n",
    "\n",
    "idx = range(4)\n",
    "values = [100, 1000, 5000, 20000]\n",
    "labels = ['category 1', 'category 2',\n",
    "          'category 3', 'category 4']\n",
    "\n",
    "fig, ax = plt.subplots(1)\n",
    "\n",
    "# Automatically align and rotate tick labels:\n",
    "fig.autofmt_xdate()\n",
    "\n",
    "bars = plt.bar(idx, values, align='center')\n",
    "plt.xticks(idx, labels)\n",
    "plt.tight_layout()\n",
    "\n",
    "# Add text labels to the top of the bars\n",
    "def autolabel(bars):\n",
    "    for bar in bars:\n",
    "        height = bar.get_height()\n",
    "        ax.text(bar.get_x() + bar.get_width()/2., 1.05 * height,\n",
    "                '%d' % int(height),\n",
    "                ha='center', va='bottom')\n",
    "\n",
    "autolabel(bars)\n",
    "plt.ylim([0, 25000])\n",
    "plt.show()"
   ]
  },
  {
   "cell_type": "markdown",
   "metadata": {},
   "source": [
    "<br>\n",
    "<br>"
   ]
  },
  {
   "cell_type": "markdown",
   "metadata": {},
   "source": [
    "# Bar plot with color gradients"
   ]
  },
  {
   "cell_type": "code",
   "execution_count": 21,
   "metadata": {
    "collapsed": false
   },
   "outputs": [
    {
     "data": {
      "image/png": "[encoded data removed]",
      "text/plain": [
       "<matplotlib.figure.Figure at 0x1052d6208>"
      ]
     },
     "metadata": {},
     "output_type": "display_data"
    }
   ],
   "source": [
    "import matplotlib.pyplot as plt\n",
    "import matplotlib.colors as col\n",
    "import matplotlib.cm as cm\n",
    "\n",
    "# input data\n",
    "mean_values = range(10,18)\n",
    "x_pos = range(len(mean_values))\n",
    "\n",
    "\n",
    "# create colormap\n",
    "cmap1 = cm.ScalarMappable(col.Normalize(min(mean_values), max(mean_values), cm.hot))\n",
    "cmap2 = cm.ScalarMappable(col.Normalize(0, 20, cm.hot))\n",
    "\n",
    "# plot bars\n",
    "plt.subplot(121)\n",
    "plt.bar(x_pos, mean_values, align='center', alpha=0.5, color=cmap1.to_rgba(mean_values))\n",
    "plt.ylim(0, max(mean_values) * 1.1)\n",
    "\n",
    "plt.subplot(122)\n",
    "plt.bar(x_pos, mean_values, align='center', alpha=0.5, color=cmap2.to_rgba(mean_values))\n",
    "plt.ylim(0, max(mean_values) * 1.1)\n",
    "\n",
    "plt.show()"
   ]
  },
  {
   "cell_type": "markdown",
   "metadata": {},
   "source": [
    "<br>\n",
    "<br>"
   ]
  },
  {
   "cell_type": "markdown",
   "metadata": {},
   "source": [
    "# Bar plot pattern fill"
   ]
  },
  {
   "cell_type": "code",
   "execution_count": 15,
   "metadata": {
    "collapsed": false
   },
   "outputs": [
    {
     "data": {
      "image/png": "[encoded data removed]",
      "text/plain": [
       "<matplotlib.figure.Figure at 0x1067b5dd8>"
      ]
     },
     "metadata": {},
     "output_type": "display_data"
    }
   ],
   "source": [
    "import matplotlib.pyplot as plt\n",
    "\n",
    "patterns = ('-', '+', 'x', '\\\\', '*', 'o', 'O', '.')\n",
    "\n",
    "fig = plt.gca()\n",
    "\n",
    "# input data\n",
    "mean_values = range(1, len(patterns)+1)\n",
    "\n",
    "# plot bars\n",
    "x_pos = list(range(len(mean_values)))\n",
    "bars = plt.bar(x_pos, \n",
    "               mean_values, \n",
    "               align='center', \n",
    "               color='white',\n",
    "               )\n",
    "\n",
    "# set patterns\n",
    "for bar, pattern in zip(bars, patterns):\n",
    "     bar.set_hatch(pattern)\n",
    "        \n",
    "\n",
    "# set axes labels and formatting\n",
    "fig.axes.get_yaxis().set_visible(False)        \n",
    "plt.ylim([0, max(mean_values) * 1.1])\n",
    "plt.xticks(x_pos, patterns)\n",
    "\n",
    "plt.show()"
   ]
  },
  {
   "cell_type": "code",
   "execution_count": null,
   "metadata": {
    "collapsed": false
   },
   "outputs": [],
   "source": []
  }
 ],
 "metadata": {
  "kernelspec": {
   "display_name": "Python 3",
   "language": "python",
   "name": "python3"
  },
  "language_info": {
   "codemirror_mode": {
    "name": "ipython",
    "version": 3
   },
   "file_extension": ".py",
   "mimetype": "text/x-python",
   "name": "python",
   "nbconvert_exporter": "python",
   "pygments_lexer": "ipython3",
   "version": "3.5.1"
  }
 },
 "nbformat": 4,
 "nbformat_minor": 0
}

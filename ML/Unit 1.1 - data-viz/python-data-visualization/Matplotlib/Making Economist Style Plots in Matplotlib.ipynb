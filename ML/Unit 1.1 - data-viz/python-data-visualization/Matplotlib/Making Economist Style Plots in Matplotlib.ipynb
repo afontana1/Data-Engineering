{
 "cells": [
  {
   "cell_type": "markdown",
   "metadata": {
    "cell_id": "41091bac-4a8d-46b1-80ab-69bc668d68df",
    "deepnote_app_coordinates": {
     "h": 5,
     "w": 12,
     "x": 0,
     "y": 6
    },
    "deepnote_cell_type": "markdown",
    "tags": []
   },
   "source": [
    "# Making Economist Style Plots in Matplotlib"
   ]
  },
  {
   "cell_type": "markdown",
   "metadata": {
    "cell_id": "80abd044-6640-44e5-b79e-cf42a1d58516",
    "deepnote_app_coordinates": {
     "h": 5,
     "w": 12,
     "x": 0,
     "y": 12
    },
    "deepnote_cell_type": "markdown",
    "tags": []
   },
   "source": [
    "If you like data visualization, chances are you've see charts from [The Economist](https://www.economist.com/), either on their website or in their magazine. For decades they have been known for simple and effective visualizations that convey useful information in a simple way. For the past few years, I've been constantly inspired by their visualizations. Whether I see them on my Kindle, on the web, or a mobile device, they are always compelling, and they get the point across. This is something all data scientists should aspire to in their own visualizations.\n",
    "\n",
    "In October 2018, the Economist launched a dedicated blog for their data visualizations called [Graphic Detail](https://www.economist.com/graphic-detail). If you scroll through their posts you can see that their style remains consistent between chart types. This isn't because they are a factory making visualizations as fast as they can. Instead, this consistent style is designed to simplify their visualizations and provide the key information to the reader as quickly as possible. \n",
    "\n",
    "As a Python focused data scientist, in my daily work I almost exclusively use [Matplotlib](https://matplotlib.org/) for my data visualizations. I like it because it is incredibly customizable. Every element is under your control. While I'm sure there are data journalists at the Economist using Matplotlib for exploration work or mockups (or ggplot for R), I highly doubt they make their production visualizations using only Matplotlib. \n",
    "\n",
    "However, I'm a big fan of keeping as much of my workflow in one place. This thinking inspired me to re-create several of the Economists' chart types in 100% Python and Matplotlib. I have two goals for this project. First, I want to give examples of how to execute great design for charts in Matplotlib. Second, I want to show that a programmatic plotting library can be used to create production plots. \n",
    "\n",
    "Please note that I won't be making re-usable functions or a libary for this. Instead, if you are interested, I hope you can copy any code you may want and re-use it yourself.\n",
    "\n",
    "I will be recreating three common plot types the Economist uses regularly: bar charts, line charts, and dumbbell charts. But before we get to that, let's break down the key elements of the Economists' visualizations.\n",
    "\n",
    "> *Please note that this is being done for educational and informational purposes only.*\n",
    "\n"
   ]
  },
  {
   "cell_type": "markdown",
   "metadata": {
    "cell_id": "f96e6f8a-97f1-4e97-86c3-227148446d02",
    "deepnote_app_coordinates": {
     "h": 5,
     "w": 12,
     "x": 0,
     "y": 18
    },
    "deepnote_cell_type": "markdown",
    "tags": []
   },
   "source": [
    "## The Economist's Style"
   ]
  },
  {
   "cell_type": "markdown",
   "metadata": {
    "cell_id": "df7647bd-6a26-4722-a1ee-fc6eddfb1922",
    "deepnote_app_coordinates": {
     "h": 5,
     "w": 12,
     "x": 0,
     "y": 24
    },
    "deepnote_cell_type": "markdown",
    "tags": []
   },
   "source": [
    "To get an understanding of the Economist's visualization style, we can use their very own visual style guide from 2017. Here is the [link](https://design-system.economist.com/documents/CHARTstyleguide_20170505.pdf). Let's break down the common elements of the Economist's style. \n",
    "\n",
    "### Title and Subtitle\n",
    "Charts usually have both a title and subtitle. The title will often be a play on words, like \"Unhappy meal\" for rising food prices. The subtitle will be a simple statement of what the chart contains. Always located on the top left, they sit flush with the left edge of the chart content. The title is always bold and larger than the subtitle.\n",
    "\n",
    "### Gridlines\n",
    "Only horizontal gridlines are shown. Minor gridlines aren't shown at all. Gridlines are spaced in a way that is logical for the data and easy to understand. \n",
    "\n",
    "### Axes and Tick lables\n",
    "Only the horizontal axis is shown. No other bounding box around the chart data besides this. On the x-axis ticks (the little lines next to the label) are only shown when they are needed to show which data connect to which tick label. On the y-axis there are no ticks, only the major gridlines. The y-axis tick labels sit on top of the major gridlines inside the chart area. \n",
    "\n",
    "The exception to this is a horizontal bar chart. In this case the y-axis is shown but and there is no x-axis. Y-axis tick labels sit directly on top of the number.\n",
    "\n",
    "### Colors\n",
    "The Economist uses two chart palletes, one for the web and one for print. We will focus on the web one. The main color \"Econ Red\" (#E3120B) is used for the top line and tag box. The grey (#758D99) in the style guide seems to be used for the gridlines. The colors for plotting are:\n",
    "\n",
    "- Red, #DB444B\n",
    "- Blue, #006BA2\n",
    "- Cyan, #3EBCD2\n",
    "- Green, #379A8B\n",
    "- Yello, #EBB434\n",
    "- Olive, #B4BA39\n",
    "- Purple, #9A607F\n",
    "- Gold, #D1B07C\n",
    "\n",
    "There are more color pallettes in the style guide for different uses, but this is the main color pallette. The color order for each chart type is different, and I will attempt to reproduce that below. All plots will use the web style with a white background.\n",
    "\n",
    "\n",
    "### Other Stylistic Points\n",
    "A horizontal line in \"Economist red\" runs along the entire top of the chart. A horizontal rectangle, which they call a tag, sits at the top left corner. Data sources are given at the bottom left in 75% opacity.\n",
    "\n",
    "We can go over chart specific styles in the sections below.\n",
    "\n"
   ]
  },
  {
   "cell_type": "markdown",
   "metadata": {
    "cell_id": "2a42ef86-56d8-4578-b406-2b20a67cfa26",
    "deepnote_app_coordinates": {
     "h": 5,
     "w": 12,
     "x": 0,
     "y": 30
    },
    "deepnote_cell_type": "markdown",
    "tags": []
   },
   "source": [
    "## Bar Chart"
   ]
  },
  {
   "cell_type": "markdown",
   "metadata": {
    "cell_id": "17945f0c-56ca-4d3b-8412-ce4950003823",
    "deepnote_app_coordinates": {
     "h": 5,
     "w": 12,
     "x": 0,
     "y": 36
    },
    "deepnote_cell_type": "markdown",
    "tags": []
   },
   "source": [
    "Let's build a bar chart in the style of the Economist! Here is an [example of a bar chart from the Economist](https://www.economist.com/graphic-detail/2021/11/09/the-gender-gap-in-academic-research-widened-during-first-wave-of-the-pandemic). We will use 2020 GDP values by country from a Kaggle dataset ([link](https://www.kaggle.com/holoong9291/gdp-of-all-countries19602020/version/3)). Our purpose of the chart is to show the top 5 countries by GDP value.\n",
    "\n",
    "The Economist typically only uses a vertical bar chart where the one or two categorical variables are being compared over time. For the data we are working on, a horizontal bar chart would be more appropriate. This is because the country names are longer, and they wouldn't fit easily on the x-axis without being rotated. This would make them harder to read. The solution is to push the data over some and have the labels on the y-axis.\n",
    "\n",
    "Let's import `pandas` and `matplotlib` and read in our data."
   ]
  },
  {
   "cell_type": "code",
   "execution_count": null,
   "metadata": {
    "cell_id": "3467b50b-ef63-4370-bd3c-eb695407e9cb",
    "deepnote_app_coordinates": {
     "h": 5,
     "w": 12,
     "x": 0,
     "y": 42
    },
    "deepnote_cell_type": "code",
    "deepnote_to_be_reexecuted": false,
    "execution_millis": 1637,
    "execution_start": 1643088971694,
    "source_hash": "cd07ad62",
    "tags": []
   },
   "outputs": [],
   "source": [
    "import pandas as pd\n",
    "import numpy as np\n",
    "import matplotlib.pyplot as plt\n",
    "\n",
    "# This makes out plots higher resolution, which makes them easier to see while building\n",
    "plt.rcParams['figure.dpi'] = 100"
   ]
  },
  {
   "cell_type": "code",
   "execution_count": null,
   "metadata": {
    "cell_id": "1e4644c8-c912-414a-bfc7-88960493a51c",
    "deepnote_app_coordinates": {
     "h": 5,
     "w": 12,
     "x": 0,
     "y": 48
    },
    "deepnote_cell_type": "code",
    "deepnote_output_heights": [
     177
    ],
    "deepnote_to_be_reexecuted": false,
    "execution_millis": 154,
    "execution_start": 1643088973337,
    "source_hash": "ba9bea55",
    "tags": []
   },
   "outputs": [
    {
     "data": {
      "application/vnd.deepnote.dataframe.v3+json": {
       "column_count": 6,
       "columns": [
        {
         "dtype": "int64",
         "name": "year",
         "stats": {
          "histogram": [
           {
            "bin_end": 1959.6,
            "bin_start": 1959.5,
            "count": 0
           },
           {
            "bin_end": 1959.7,
            "bin_start": 1959.6,
            "count": 0
           },
           {
            "bin_end": 1959.8,
            "bin_start": 1959.7,
            "count": 0
           },
           {
            "bin_end": 1959.9,
            "bin_start": 1959.8,
            "count": 0
           },
           {
            "bin_end": 1960,
            "bin_start": 1959.9,
            "count": 0
           },
           {
            "bin_end": 1960.1,
            "bin_start": 1960,
            "count": 5
           },
           {
            "bin_end": 1960.2,
            "bin_start": 1960.1,
            "count": 0
           },
           {
            "bin_end": 1960.3,
            "bin_start": 1960.2,
            "count": 0
           },
           {
            "bin_end": 1960.4,
            "bin_start": 1960.3,
            "count": 0
           },
           {
            "bin_end": 1960.5,
            "bin_start": 1960.4,
            "count": 0
           }
          ],
          "max": "1960",
          "min": "1960",
          "nan_count": 0,
          "unique_count": 1
         }
        },
        {
         "dtype": "int64",
         "name": "rank",
         "stats": {
          "histogram": [
           {
            "bin_end": 1.4,
            "bin_start": 1,
            "count": 1
           },
           {
            "bin_end": 1.8,
            "bin_start": 1.4,
            "count": 0
           },
           {
            "bin_end": 2.2,
            "bin_start": 1.8,
            "count": 1
           },
           {
            "bin_end": 2.6,
            "bin_start": 2.2,
            "count": 0
           },
           {
            "bin_end": 3,
            "bin_start": 2.6,
            "count": 0
           },
           {
            "bin_end": 3.4000000000000004,
            "bin_start": 3,
            "count": 1
           },
           {
            "bin_end": 3.8000000000000003,
            "bin_start": 3.4000000000000004,
            "count": 0
           },
           {
            "bin_end": 4.2,
            "bin_start": 3.8000000000000003,
            "count": 1
           },
           {
            "bin_end": 4.6,
            "bin_start": 4.2,
            "count": 0
           },
           {
            "bin_end": 5,
            "bin_start": 4.6,
            "count": 1
           }
          ],
          "max": "5",
          "min": "1",
          "nan_count": 0,
          "unique_count": 5
         }
        },
        {
         "dtype": "object",
         "name": "country",
         "stats": {
          "categories": [
           {
            "count": 1,
            "name": "the United States"
           },
           {
            "count": 1,
            "name": "United Kingdom"
           },
           {
            "count": 3,
            "name": "3 others"
           }
          ],
          "nan_count": 0,
          "unique_count": 5
         }
        },
        {
         "dtype": "object",
         "name": "state",
         "stats": {
          "categories": [
           {
            "count": 2,
            "name": "Europe"
           },
           {
            "count": 2,
            "name": "Asia"
           },
           {
            "count": 1,
            "name": "America"
           }
          ],
          "nan_count": 0,
          "unique_count": 3
         }
        },
        {
         "dtype": "int64",
         "name": "gdp",
         "stats": {
          "histogram": [
           {
            "bin_end": 94206608655,
            "bin_start": 44307342950,
            "count": 4
           },
           {
            "bin_end": 144105874360,
            "bin_start": 94206608655,
            "count": 0
           },
           {
            "bin_end": 194005140065,
            "bin_start": 144105874360,
            "count": 0
           },
           {
            "bin_end": 243904405770,
            "bin_start": 194005140065,
            "count": 0
           },
           {
            "bin_end": 293803671475,
            "bin_start": 243904405770,
            "count": 0
           },
           {
            "bin_end": 343702937180,
            "bin_start": 293803671475,
            "count": 0
           },
           {
            "bin_end": 393602202885,
            "bin_start": 343702937180,
            "count": 0
           },
           {
            "bin_end": 443501468590,
            "bin_start": 393602202885,
            "count": 0
           },
           {
            "bin_end": 493400734295,
            "bin_start": 443501468590,
            "count": 0
           },
           {
            "bin_end": 543300000000,
            "bin_start": 493400734295,
            "count": 1
           }
          ],
          "max": "543300000000",
          "min": "44307342950",
          "nan_count": 0,
          "unique_count": 5
         }
        },
        {
         "dtype": "float64",
         "name": "gdp_percent",
         "stats": {
          "histogram": [
           {
            "bin_end": 0.08123351090114708,
            "bin_start": 0.0382058231149228,
            "count": 4
           },
           {
            "bin_end": 0.12426119868737137,
            "bin_start": 0.08123351090114708,
            "count": 0
           },
           {
            "bin_end": 0.16728888647359566,
            "bin_start": 0.12426119868737137,
            "count": 0
           },
           {
            "bin_end": 0.21031657425981995,
            "bin_start": 0.16728888647359566,
            "count": 0
           },
           {
            "bin_end": 0.25334426204604427,
            "bin_start": 0.21031657425981995,
            "count": 0
           },
           {
            "bin_end": 0.29637194983226856,
            "bin_start": 0.25334426204604427,
            "count": 0
           },
           {
            "bin_end": 0.33939963761849284,
            "bin_start": 0.29637194983226856,
            "count": 0
           },
           {
            "bin_end": 0.38242732540471713,
            "bin_start": 0.33939963761849284,
            "count": 0
           },
           {
            "bin_end": 0.4254550131909414,
            "bin_start": 0.38242732540471713,
            "count": 0
           },
           {
            "bin_end": 0.4684827009771657,
            "bin_start": 0.4254550131909414,
            "count": 1
           }
          ],
          "max": "0.4684827009771657",
          "min": "0.0382058231149228",
          "nan_count": 0,
          "unique_count": 5
         }
        },
        {
         "dtype": "int64",
         "name": "_deepnote_index_column"
        }
       ],
       "row_count": 5,
       "rows": [
        {
         "_deepnote_index_column": 0,
         "country": "the United States",
         "gdp": 543300000000,
         "gdp_percent": 0.4684827009771657,
         "rank": 1,
         "state": "America",
         "year": 1960
        },
        {
         "_deepnote_index_column": 1,
         "country": "United Kingdom",
         "gdp": 73233967692,
         "gdp_percent": 0.0631489913263807,
         "rank": 2,
         "state": "Europe",
         "year": 1960
        },
        {
         "_deepnote_index_column": 2,
         "country": "France",
         "gdp": 62225478000,
         "gdp_percent": 0.0536564697276554,
         "rank": 3,
         "state": "Europe",
         "year": 1960
        },
        {
         "_deepnote_index_column": 3,
         "country": "China",
         "gdp": 59716467625,
         "gdp_percent": 0.0514929726592591,
         "rank": 4,
         "state": "Asia",
         "year": 1960
        },
        {
         "_deepnote_index_column": 4,
         "country": "Japan",
         "gdp": 44307342950,
         "gdp_percent": 0.0382058231149228,
         "rank": 5,
         "state": "Asia",
         "year": 1960
        }
       ]
      },
      "text/html": [
       "<div>\n",
       "<style scoped>\n",
       "    .dataframe tbody tr th:only-of-type {\n",
       "        vertical-align: middle;\n",
       "    }\n",
       "\n",
       "    .dataframe tbody tr th {\n",
       "        vertical-align: top;\n",
       "    }\n",
       "\n",
       "    .dataframe thead th {\n",
       "        text-align: right;\n",
       "    }\n",
       "</style>\n",
       "<table border=\"1\" class=\"dataframe\">\n",
       "  <thead>\n",
       "    <tr style=\"text-align: right;\">\n",
       "      <th></th>\n",
       "      <th>year</th>\n",
       "      <th>rank</th>\n",
       "      <th>country</th>\n",
       "      <th>state</th>\n",
       "      <th>gdp</th>\n",
       "      <th>gdp_percent</th>\n",
       "    </tr>\n",
       "  </thead>\n",
       "  <tbody>\n",
       "    <tr>\n",
       "      <th>0</th>\n",
       "      <td>1960</td>\n",
       "      <td>1</td>\n",
       "      <td>the United States</td>\n",
       "      <td>America</td>\n",
       "      <td>543300000000</td>\n",
       "      <td>0.468483</td>\n",
       "    </tr>\n",
       "    <tr>\n",
       "      <th>1</th>\n",
       "      <td>1960</td>\n",
       "      <td>2</td>\n",
       "      <td>United Kingdom</td>\n",
       "      <td>Europe</td>\n",
       "      <td>73233967692</td>\n",
       "      <td>0.063149</td>\n",
       "    </tr>\n",
       "    <tr>\n",
       "      <th>2</th>\n",
       "      <td>1960</td>\n",
       "      <td>3</td>\n",
       "      <td>France</td>\n",
       "      <td>Europe</td>\n",
       "      <td>62225478000</td>\n",
       "      <td>0.053656</td>\n",
       "    </tr>\n",
       "    <tr>\n",
       "      <th>3</th>\n",
       "      <td>1960</td>\n",
       "      <td>4</td>\n",
       "      <td>China</td>\n",
       "      <td>Asia</td>\n",
       "      <td>59716467625</td>\n",
       "      <td>0.051493</td>\n",
       "    </tr>\n",
       "    <tr>\n",
       "      <th>4</th>\n",
       "      <td>1960</td>\n",
       "      <td>5</td>\n",
       "      <td>Japan</td>\n",
       "      <td>Asia</td>\n",
       "      <td>44307342950</td>\n",
       "      <td>0.038206</td>\n",
       "    </tr>\n",
       "  </tbody>\n",
       "</table>\n",
       "</div>"
      ],
      "text/plain": [
       "   year  rank            country    state           gdp  gdp_percent\n",
       "0  1960     1  the United States  America  543300000000     0.468483\n",
       "1  1960     2     United Kingdom   Europe   73233967692     0.063149\n",
       "2  1960     3             France   Europe   62225478000     0.053656\n",
       "3  1960     4              China     Asia   59716467625     0.051493\n",
       "4  1960     5              Japan     Asia   44307342950     0.038206"
      ]
     },
     "execution_count": 2,
     "metadata": {},
     "output_type": "execute_result"
    }
   ],
   "source": [
    "gdp = pd.read_csv('data/gdp_1960_2020.csv')\n",
    "gdp.head()"
   ]
  },
  {
   "cell_type": "markdown",
   "metadata": {
    "cell_id": "4ad26ba0-859c-45a2-a932-28f8b1dc9e98",
    "deepnote_app_coordinates": {
     "h": 5,
     "w": 12,
     "x": 0,
     "y": 54
    },
    "deepnote_cell_type": "markdown",
    "tags": []
   },
   "source": [
    "The GDP numbers here are very long. To make them easier to read we can divide the GDP number by 1 trillion. "
   ]
  },
  {
   "cell_type": "code",
   "execution_count": null,
   "metadata": {
    "cell_id": "a057f96d-55f7-4ef8-b8b5-4f8bbbb3c72f",
    "deepnote_app_coordinates": {
     "h": 5,
     "w": 12,
     "x": 0,
     "y": 60
    },
    "deepnote_cell_type": "code",
    "deepnote_output_heights": [
     232.25
    ],
    "deepnote_to_be_reexecuted": false,
    "execution_millis": 11,
    "execution_start": 1643088973498,
    "source_hash": "1b155085",
    "tags": []
   },
   "outputs": [],
   "source": [
    "gdp['gdp_trillions'] = gdp['gdp'] / 1_000_000_000_000"
   ]
  },
  {
   "cell_type": "markdown",
   "metadata": {
    "cell_id": "1c569637-60f8-48f1-b263-e92e9d92205c",
    "deepnote_app_coordinates": {
     "h": 5,
     "w": 12,
     "x": 0,
     "y": 66
    },
    "deepnote_cell_type": "markdown",
    "tags": []
   },
   "source": [
    "Now we can filter for only 2020 and grab the bottom 9. We do this instead of sorting by descending because Matplotlib plots from the bottom to top, so we actually want our data in reverse order."
   ]
  },
  {
   "cell_type": "code",
   "execution_count": null,
   "metadata": {
    "cell_id": "2cc9f728-d9a8-4e25-8286-fc3e75115c4c",
    "deepnote_app_coordinates": {
     "h": 5,
     "w": 12,
     "x": 0,
     "y": 72
    },
    "deepnote_cell_type": "code",
    "deepnote_to_be_reexecuted": false,
    "execution_millis": 381,
    "execution_start": 1643088973519,
    "source_hash": "c305fa24",
    "tags": []
   },
   "outputs": [
    {
     "data": {
      "application/vnd.deepnote.dataframe.v3+json": {
       "column_count": 7,
       "columns": [
        {
         "dtype": "int64",
         "name": "year",
         "stats": {
          "histogram": [
           {
            "bin_end": 2019.6,
            "bin_start": 2019.5,
            "count": 0
           },
           {
            "bin_end": 2019.7,
            "bin_start": 2019.6,
            "count": 0
           },
           {
            "bin_end": 2019.8,
            "bin_start": 2019.7,
            "count": 0
           },
           {
            "bin_end": 2019.9,
            "bin_start": 2019.8,
            "count": 0
           },
           {
            "bin_end": 2020,
            "bin_start": 2019.9,
            "count": 0
           },
           {
            "bin_end": 2020.1,
            "bin_start": 2020,
            "count": 9
           },
           {
            "bin_end": 2020.2,
            "bin_start": 2020.1,
            "count": 0
           },
           {
            "bin_end": 2020.3,
            "bin_start": 2020.2,
            "count": 0
           },
           {
            "bin_end": 2020.4,
            "bin_start": 2020.3,
            "count": 0
           },
           {
            "bin_end": 2020.5,
            "bin_start": 2020.4,
            "count": 0
           }
          ],
          "max": "2020",
          "min": "2020",
          "nan_count": 0,
          "unique_count": 1
         }
        },
        {
         "dtype": "int64",
         "name": "rank",
         "stats": {
          "histogram": [
           {
            "bin_end": 1.8,
            "bin_start": 1,
            "count": 1
           },
           {
            "bin_end": 2.6,
            "bin_start": 1.8,
            "count": 1
           },
           {
            "bin_end": 3.4000000000000004,
            "bin_start": 2.6,
            "count": 1
           },
           {
            "bin_end": 4.2,
            "bin_start": 3.4000000000000004,
            "count": 1
           },
           {
            "bin_end": 5,
            "bin_start": 4.2,
            "count": 0
           },
           {
            "bin_end": 5.800000000000001,
            "bin_start": 5,
            "count": 1
           },
           {
            "bin_end": 6.6000000000000005,
            "bin_start": 5.800000000000001,
            "count": 1
           },
           {
            "bin_end": 7.4,
            "bin_start": 6.6000000000000005,
            "count": 1
           },
           {
            "bin_end": 8.2,
            "bin_start": 7.4,
            "count": 1
           },
           {
            "bin_end": 9,
            "bin_start": 8.2,
            "count": 1
           }
          ],
          "max": "9",
          "min": "1",
          "nan_count": 0,
          "unique_count": 9
         }
        },
        {
         "dtype": "object",
         "name": "country",
         "stats": {
          "categories": [
           {
            "count": 1,
            "name": "South Korea"
           },
           {
            "count": 1,
            "name": "Canada"
           },
           {
            "count": 7,
            "name": "7 others"
           }
          ],
          "nan_count": 0,
          "unique_count": 9
         }
        },
        {
         "dtype": "object",
         "name": "state",
         "stats": {
          "categories": [
           {
            "count": 4,
            "name": "Europe"
           },
           {
            "count": 3,
            "name": "Asia"
           },
           {
            "count": 2,
            "name": "America"
           }
          ],
          "nan_count": 0,
          "unique_count": 3
         }
        },
        {
         "dtype": "int64",
         "name": "gdp",
         "stats": {
          "histogram": [
           {
            "bin_end": 3561132504922.1,
            "bin_start": 1630525005469,
            "count": 6
           },
           {
            "bin_end": 5491740004375.2,
            "bin_start": 3561132504922.1,
            "count": 1
           },
           {
            "bin_end": 7422347503828.301,
            "bin_start": 5491740004375.2,
            "count": 0
           },
           {
            "bin_end": 9352955003281.4,
            "bin_start": 7422347503828.301,
            "count": 0
           },
           {
            "bin_end": 11283562502734.5,
            "bin_start": 9352955003281.4,
            "count": 0
           },
           {
            "bin_end": 13214170002187.602,
            "bin_start": 11283562502734.5,
            "count": 0
           },
           {
            "bin_end": 15144777501640.701,
            "bin_start": 13214170002187.602,
            "count": 1
           },
           {
            "bin_end": 17075385001093.8,
            "bin_start": 15144777501640.701,
            "count": 0
           },
           {
            "bin_end": 19005992500546.9,
            "bin_start": 17075385001093.8,
            "count": 0
           },
           {
            "bin_end": 20936600000000,
            "bin_start": 19005992500546.9,
            "count": 1
           }
          ],
          "max": "20936600000000",
          "min": "1630525005469",
          "nan_count": 0,
          "unique_count": 9
         }
        },
        {
         "dtype": "float64",
         "name": "gdp_percent",
         "stats": {
          "histogram": [
           {
            "bin_end": 0.045925742759230434,
            "bin_start": 0.0210278814001334,
            "count": 6
           },
           {
            "bin_end": 0.07082360411832746,
            "bin_start": 0.045925742759230434,
            "count": 1
           },
           {
            "bin_end": 0.0957214654774245,
            "bin_start": 0.07082360411832746,
            "count": 0
           },
           {
            "bin_end": 0.12061932683652152,
            "bin_start": 0.0957214654774245,
            "count": 0
           },
           {
            "bin_end": 0.14551718819561854,
            "bin_start": 0.12061932683652152,
            "count": 0
           },
           {
            "bin_end": 0.1704150495547156,
            "bin_start": 0.14551718819561854,
            "count": 0
           },
           {
            "bin_end": 0.19531291091381262,
            "bin_start": 0.1704150495547156,
            "count": 1
           },
           {
            "bin_end": 0.22021077227290964,
            "bin_start": 0.19531291091381262,
            "count": 0
           },
           {
            "bin_end": 0.24510863363200666,
            "bin_start": 0.22021077227290964,
            "count": 0
           },
           {
            "bin_end": 0.2700064949911037,
            "bin_start": 0.24510863363200666,
            "count": 1
           }
          ],
          "max": "0.2700064949911037",
          "min": "0.0210278814001334",
          "nan_count": 0,
          "unique_count": 9
         }
        },
        {
         "dtype": "float64",
         "name": "gdp_trillions",
         "stats": {
          "histogram": [
           {
            "bin_end": 3.5611325049221,
            "bin_start": 1.630525005469,
            "count": 6
           },
           {
            "bin_end": 5.4917400043752,
            "bin_start": 3.5611325049221,
            "count": 1
           },
           {
            "bin_end": 7.4223475038283,
            "bin_start": 5.4917400043752,
            "count": 0
           },
           {
            "bin_end": 9.3529550032814,
            "bin_start": 7.4223475038283,
            "count": 0
           },
           {
            "bin_end": 11.2835625027345,
            "bin_start": 9.3529550032814,
            "count": 0
           },
           {
            "bin_end": 13.2141700021876,
            "bin_start": 11.2835625027345,
            "count": 0
           },
           {
            "bin_end": 15.1447775016407,
            "bin_start": 13.2141700021876,
            "count": 1
           },
           {
            "bin_end": 17.0753850010938,
            "bin_start": 15.1447775016407,
            "count": 0
           },
           {
            "bin_end": 19.0059925005469,
            "bin_start": 17.0753850010938,
            "count": 0
           },
           {
            "bin_end": 20.9366,
            "bin_start": 19.0059925005469,
            "count": 1
           }
          ],
          "max": "20.9366",
          "min": "1.630525005469",
          "nan_count": 0,
          "unique_count": 9
         }
        },
        {
         "dtype": "int64",
         "name": "_deepnote_index_column"
        }
       ],
       "row_count": 9,
       "rows": [
        {
         "_deepnote_index_column": 9967,
         "country": "South Korea",
         "gdp": 1630525005469,
         "gdp_percent": 0.0210278814001334,
         "gdp_trillions": 1.630525005469,
         "rank": 9,
         "state": "Asia",
         "year": 2020
        },
        {
         "_deepnote_index_column": 9966,
         "country": "Canada",
         "gdp": 1643407977068,
         "gdp_percent": 0.0211940251869238,
         "gdp_trillions": 1.643407977068,
         "rank": 8,
         "state": "America",
         "year": 2020
        },
        {
         "_deepnote_index_column": 9965,
         "country": "Italy",
         "gdp": 1886445268340,
         "gdp_percent": 0.0243283281381425,
         "gdp_trillions": 1.88644526834,
         "rank": 7,
         "state": "Europe",
         "year": 2020
        },
        {
         "_deepnote_index_column": 9964,
         "country": "France",
         "gdp": 2603004395901,
         "gdp_percent": 0.0335693519188246,
         "gdp_trillions": 2.603004395901,
         "rank": 6,
         "state": "Europe",
         "year": 2020
        },
        {
         "_deepnote_index_column": 9963,
         "country": "India",
         "gdp": 2622983732006,
         "gdp_percent": 0.0338270131682137,
         "gdp_trillions": 2.622983732006,
         "rank": 5,
         "state": "Asia",
         "year": 2020
        },
        {
         "_deepnote_index_column": 9962,
         "country": "United Kingdom",
         "gdp": 2707743777173,
         "gdp_percent": 0.0349201115084805,
         "gdp_trillions": 2.707743777173,
         "rank": 4,
         "state": "Europe",
         "year": 2020
        },
        {
         "_deepnote_index_column": 9961,
         "country": "Germany",
         "gdp": 3806060140124,
         "gdp_percent": 0.0490844243172353,
         "gdp_trillions": 3.806060140124,
         "rank": 3,
         "state": "Europe",
         "year": 2020
        },
        {
         "_deepnote_index_column": 9960,
         "country": "China",
         "gdp": 14722730697890,
         "gdp_percent": 0.1898700320221624,
         "gdp_trillions": 14.72273069789,
         "rank": 2,
         "state": "Asia",
         "year": 2020
        },
        {
         "_deepnote_index_column": 9959,
         "country": "the United States",
         "gdp": 20936600000000,
         "gdp_percent": 0.2700064949911037,
         "gdp_trillions": 20.9366,
         "rank": 1,
         "state": "America",
         "year": 2020
        }
       ]
      },
      "text/html": [
       "<div>\n",
       "<style scoped>\n",
       "    .dataframe tbody tr th:only-of-type {\n",
       "        vertical-align: middle;\n",
       "    }\n",
       "\n",
       "    .dataframe tbody tr th {\n",
       "        vertical-align: top;\n",
       "    }\n",
       "\n",
       "    .dataframe thead th {\n",
       "        text-align: right;\n",
       "    }\n",
       "</style>\n",
       "<table border=\"1\" class=\"dataframe\">\n",
       "  <thead>\n",
       "    <tr style=\"text-align: right;\">\n",
       "      <th></th>\n",
       "      <th>year</th>\n",
       "      <th>rank</th>\n",
       "      <th>country</th>\n",
       "      <th>state</th>\n",
       "      <th>gdp</th>\n",
       "      <th>gdp_percent</th>\n",
       "      <th>gdp_trillions</th>\n",
       "    </tr>\n",
       "  </thead>\n",
       "  <tbody>\n",
       "    <tr>\n",
       "      <th>9967</th>\n",
       "      <td>2020</td>\n",
       "      <td>9</td>\n",
       "      <td>South Korea</td>\n",
       "      <td>Asia</td>\n",
       "      <td>1630525005469</td>\n",
       "      <td>0.021028</td>\n",
       "      <td>1.630525</td>\n",
       "    </tr>\n",
       "    <tr>\n",
       "      <th>9966</th>\n",
       "      <td>2020</td>\n",
       "      <td>8</td>\n",
       "      <td>Canada</td>\n",
       "      <td>America</td>\n",
       "      <td>1643407977068</td>\n",
       "      <td>0.021194</td>\n",
       "      <td>1.643408</td>\n",
       "    </tr>\n",
       "    <tr>\n",
       "      <th>9965</th>\n",
       "      <td>2020</td>\n",
       "      <td>7</td>\n",
       "      <td>Italy</td>\n",
       "      <td>Europe</td>\n",
       "      <td>1886445268340</td>\n",
       "      <td>0.024328</td>\n",
       "      <td>1.886445</td>\n",
       "    </tr>\n",
       "    <tr>\n",
       "      <th>9964</th>\n",
       "      <td>2020</td>\n",
       "      <td>6</td>\n",
       "      <td>France</td>\n",
       "      <td>Europe</td>\n",
       "      <td>2603004395901</td>\n",
       "      <td>0.033569</td>\n",
       "      <td>2.603004</td>\n",
       "    </tr>\n",
       "    <tr>\n",
       "      <th>9963</th>\n",
       "      <td>2020</td>\n",
       "      <td>5</td>\n",
       "      <td>India</td>\n",
       "      <td>Asia</td>\n",
       "      <td>2622983732006</td>\n",
       "      <td>0.033827</td>\n",
       "      <td>2.622984</td>\n",
       "    </tr>\n",
       "    <tr>\n",
       "      <th>9962</th>\n",
       "      <td>2020</td>\n",
       "      <td>4</td>\n",
       "      <td>United Kingdom</td>\n",
       "      <td>Europe</td>\n",
       "      <td>2707743777173</td>\n",
       "      <td>0.034920</td>\n",
       "      <td>2.707744</td>\n",
       "    </tr>\n",
       "    <tr>\n",
       "      <th>9961</th>\n",
       "      <td>2020</td>\n",
       "      <td>3</td>\n",
       "      <td>Germany</td>\n",
       "      <td>Europe</td>\n",
       "      <td>3806060140124</td>\n",
       "      <td>0.049084</td>\n",
       "      <td>3.806060</td>\n",
       "    </tr>\n",
       "    <tr>\n",
       "      <th>9960</th>\n",
       "      <td>2020</td>\n",
       "      <td>2</td>\n",
       "      <td>China</td>\n",
       "      <td>Asia</td>\n",
       "      <td>14722730697890</td>\n",
       "      <td>0.189870</td>\n",
       "      <td>14.722731</td>\n",
       "    </tr>\n",
       "    <tr>\n",
       "      <th>9959</th>\n",
       "      <td>2020</td>\n",
       "      <td>1</td>\n",
       "      <td>the United States</td>\n",
       "      <td>America</td>\n",
       "      <td>20936600000000</td>\n",
       "      <td>0.270006</td>\n",
       "      <td>20.936600</td>\n",
       "    </tr>\n",
       "  </tbody>\n",
       "</table>\n",
       "</div>"
      ],
      "text/plain": [
       "      year  rank            country    state             gdp  gdp_percent  \\\n",
       "9967  2020     9        South Korea     Asia   1630525005469     0.021028   \n",
       "9966  2020     8             Canada  America   1643407977068     0.021194   \n",
       "9965  2020     7              Italy   Europe   1886445268340     0.024328   \n",
       "9964  2020     6             France   Europe   2603004395901     0.033569   \n",
       "9963  2020     5              India     Asia   2622983732006     0.033827   \n",
       "9962  2020     4     United Kingdom   Europe   2707743777173     0.034920   \n",
       "9961  2020     3            Germany   Europe   3806060140124     0.049084   \n",
       "9960  2020     2              China     Asia  14722730697890     0.189870   \n",
       "9959  2020     1  the United States  America  20936600000000     0.270006   \n",
       "\n",
       "      gdp_trillions  \n",
       "9967       1.630525  \n",
       "9966       1.643408  \n",
       "9965       1.886445  \n",
       "9964       2.603004  \n",
       "9963       2.622984  \n",
       "9962       2.707744  \n",
       "9961       3.806060  \n",
       "9960      14.722731  \n",
       "9959      20.936600  "
      ]
     },
     "execution_count": 4,
     "metadata": {},
     "output_type": "execute_result"
    }
   ],
   "source": [
    "gdp[gdp['year'] == 2020].sort_values(by='gdp_trillions').tail(9)"
   ]
  },
  {
   "cell_type": "markdown",
   "metadata": {
    "cell_id": "22aa7f6e-ae0e-41c1-a328-4ade3443d93c",
    "deepnote_app_coordinates": {
     "h": 5,
     "w": 12,
     "x": 0,
     "y": 78
    },
    "deepnote_cell_type": "markdown",
    "tags": []
   },
   "source": [
    "Now we can build our chart. The code is here with comments. "
   ]
  },
  {
   "cell_type": "code",
   "execution_count": null,
   "metadata": {
    "cell_id": "b8166a83-d9cb-4df4-ac88-d353aefc848f",
    "deepnote_app_coordinates": {
     "h": 5,
     "w": 12,
     "x": 0,
     "y": 84
    },
    "deepnote_cell_type": "code",
    "deepnote_output_heights": [
     null,
     589
    ],
    "deepnote_to_be_reexecuted": false,
    "execution_millis": 1263,
    "execution_start": 1643088973621,
    "source_hash": "51ab0768",
    "tags": []
   },
   "outputs": [
    {
     "name": "stderr",
     "output_type": "stream",
     "text": [
      "/shared-libs/python3.7/py-core/lib/python3.7/site-packages/ipykernel_launcher.py:35: UserWarning: FixedFormatter should only be used together with FixedLocator\n"
     ]
    },
    {
     "data": {
      "image/png": "[encoded data removed]",
      "text/plain": [
       "<Figure size 300x600 with 1 Axes>"
      ]
     },
     "metadata": {
      "image/png": {
       "height": 587,
       "width": 396
      },
      "needs_background": "light"
     },
     "output_type": "display_data"
    }
   ],
   "source": [
    "# Setup plot size.\n",
    "fig, ax = plt.subplots(figsize=(3,6))\n",
    "\n",
    "# Create grid \n",
    "# Zorder tells it which layer to put it on. We are setting this to 1 and our data to 2 so the grid is behind the data.\n",
    "ax.grid(which=\"major\", axis='x', color='#758D99', alpha=0.6, zorder=1)\n",
    "\n",
    "# Remove splines. Can be done one at a time or can slice with a list.\n",
    "ax.spines[['top','right','bottom']].set_visible(False)\n",
    "\n",
    "# Make left spine slightly thicker\n",
    "ax.spines['left'].set_linewidth(1.1)\n",
    "ax.spines['left'].set_linewidth(1.1)\n",
    "\n",
    "# Setup data\n",
    "gdp['country'] = gdp['country'].replace('the United States', 'United States')\n",
    "gdp_bar = gdp[gdp['year'] == 2020].sort_values(by='gdp_trillions')[-9:]\n",
    "\n",
    "# Plot data\n",
    "ax.barh(gdp_bar['country'], gdp_bar['gdp_trillions'], color='#006BA2', zorder=2)\n",
    "\n",
    "# Set custom labels for x-axis\n",
    "ax.set_xticks([0, 5, 10, 15, 20])\n",
    "ax.set_xticklabels([0, 5, 10, 15, 20])\n",
    "\n",
    "# Reformat x-axis tick labels\n",
    "ax.xaxis.set_tick_params(labeltop=True,      # Put x-axis labels on top\n",
    "                         labelbottom=False,  # Set no x-axis labels on bottom\n",
    "                         bottom=False,       # Set no ticks on bottom\n",
    "                         labelsize=11,       # Set tick label size\n",
    "                         pad=-1)             # Lower tick labels a bit\n",
    "\n",
    "# Reformat y-axis tick labels\n",
    "ax.set_yticklabels(gdp_bar['country'],      # Set labels again\n",
    "                   ha = 'left')              # Set horizontal alignment to left\n",
    "ax.yaxis.set_tick_params(pad=100,            # Pad tick labels so they don't go over y-axis\n",
    "                         labelsize=11,       # Set label size\n",
    "                         bottom=False)       # Set no ticks on bottom/left\n",
    "\n",
    "# Shrink y-lim to make plot a bit tighter\n",
    "ax.set_ylim(-0.5, 8.5)\n",
    "\n",
    "# Add in line and tag\n",
    "ax.plot([-.35, .87],                 # Set width of line\n",
    "        [1.02, 1.02],                # Set height of line\n",
    "        transform=fig.transFigure,   # Set location relative to plot\n",
    "        clip_on=False, \n",
    "        color='#E3120B', \n",
    "        linewidth=.6)\n",
    "ax.add_patch(plt.Rectangle((-.35,1.02),                # Set location of rectangle by lower left corder\n",
    "                           0.12,                       # Width of rectangle\n",
    "                           -0.02,                      # Height of rectangle. Negative so it goes down.\n",
    "                           facecolor='#E3120B', \n",
    "                           transform=fig.transFigure, \n",
    "                           clip_on=False, \n",
    "                           linewidth = 0))\n",
    "\n",
    "# Add in title and subtitle\n",
    "ax.text(x=-.35, y=.96, s=\"The big leagues\", transform=fig.transFigure, ha='left', fontsize=13, weight='bold', alpha=.8)\n",
    "ax.text(x=-.35, y=.925, s=\"2020 GDP, trillions of USD\", transform=fig.transFigure, ha='left', fontsize=11, alpha=.8)\n",
    "\n",
    "# Set source text\n",
    "ax.text(x=-.35, y=.08, s=\"\"\"Source: \"GDP of all countries(1960-2020)\" via Kaggle.com\"\"\", transform=fig.transFigure, ha='left', fontsize=9, alpha=.7)\n",
    "\n",
    "# Export plot as high resolution PNG\n",
    "plt.savefig('images/economist_bar.png',    # Set path and filename\n",
    "            dpi = 300,                     # Set dots per inch\n",
    "            bbox_inches=\"tight\",           # Remove extra whitespace around plot\n",
    "            facecolor='white')             # Set background color to white\n"
   ]
  },
  {
   "cell_type": "markdown",
   "metadata": {
    "cell_id": "b4ddc0fa-854d-4446-a22c-489dda391232",
    "deepnote_app_coordinates": {
     "h": 5,
     "w": 12,
     "x": 0,
     "y": 90
    },
    "deepnote_cell_type": "markdown",
    "tags": []
   },
   "source": [
    "Wow that's a lot of code! There is a lot there, and it's worth taking the time to go line by line and understand it with the comments. \n",
    "\n",
    "Now let's move on to the line chart."
   ]
  },
  {
   "cell_type": "markdown",
   "metadata": {
    "cell_id": "1a5c3b7c-29b4-4853-9a00-b452c932b730",
    "deepnote_app_coordinates": {
     "h": 5,
     "w": 12,
     "x": 0,
     "y": 96
    },
    "deepnote_cell_type": "markdown",
    "tags": []
   },
   "source": [
    "## Line Chart"
   ]
  },
  {
   "cell_type": "markdown",
   "metadata": {
    "cell_id": "dc181b19-2827-4867-a16b-7f128731bc90",
    "deepnote_app_coordinates": {
     "h": 5,
     "w": 12,
     "x": 0,
     "y": 102
    },
    "deepnote_cell_type": "markdown",
    "tags": []
   },
   "source": [
    "Line charts are perhaps the most iconic chart from the Economist. Here is an [example of a line chart from the Economist](https://www.economist.com/graphic-detail/2021/10/18/is-a-winter-wave-of-coronavirus-infections-looming). \n",
    "\n",
    "We will use the same data GDP data as above to create a time series plot of the top 9 countries by GDP. To highlight the path China has taken we will only show the US and China with standout color, and the other 7 as grey."
   ]
  },
  {
   "cell_type": "markdown",
   "metadata": {
    "cell_id": "9ec2ab43-fc07-4504-9336-2df3faf241b9",
    "deepnote_app_coordinates": {
     "h": 5,
     "w": 12,
     "x": 0,
     "y": 108
    },
    "deepnote_cell_type": "markdown",
    "tags": []
   },
   "source": [
    "First we can get the names of the countries we want to filter from our previous code. "
   ]
  },
  {
   "cell_type": "code",
   "execution_count": null,
   "metadata": {
    "cell_id": "96e4fca4-a3e5-461b-bde8-035cb5ada598",
    "deepnote_app_coordinates": {
     "h": 5,
     "w": 12,
     "x": 0,
     "y": 114
    },
    "deepnote_cell_type": "code",
    "deepnote_output_heights": [
     1
    ],
    "deepnote_to_be_reexecuted": false,
    "execution_millis": 20,
    "execution_start": 1643088974886,
    "source_hash": "c64f02c2",
    "tags": []
   },
   "outputs": [
    {
     "data": {
      "text/plain": [
       "array(['South Korea', 'Canada', 'Italy', 'France', 'India',\n",
       "       'United Kingdom', 'Germany', 'China', 'United States'],\n",
       "      dtype=object)"
      ]
     },
     "execution_count": 6,
     "metadata": {},
     "output_type": "execute_result"
    }
   ],
   "source": [
    "countries = gdp[gdp['year'] == 2020].sort_values(by='gdp_trillions')[-9:]['country'].values\n",
    "countries"
   ]
  },
  {
   "cell_type": "markdown",
   "metadata": {
    "cell_id": "89bc220f-0806-45a0-ad49-05aa97dc8c19",
    "deepnote_app_coordinates": {
     "h": 5,
     "w": 12,
     "x": 0,
     "y": 168
    },
    "deepnote_cell_type": "markdown",
    "tags": []
   },
   "source": [
    "Matplotlib does a good job with datetimes for time series, so we can convert the date column to a Pandas datetime Series."
   ]
  },
  {
   "cell_type": "code",
   "execution_count": null,
   "metadata": {
    "cell_id": "5683cf2d-4473-46e0-8793-441e0cbe67db",
    "deepnote_app_coordinates": {
     "h": 5,
     "w": 12,
     "x": 0,
     "y": 174
    },
    "deepnote_cell_type": "code",
    "deepnote_output_heights": [
     232.25
    ],
    "deepnote_to_be_reexecuted": false,
    "execution_millis": 15,
    "execution_start": 1643088974910,
    "source_hash": "788a6b9b",
    "tags": []
   },
   "outputs": [],
   "source": [
    "gdp['date'] = pd.to_datetime(gdp['year'], format='%Y')"
   ]
  },
  {
   "cell_type": "markdown",
   "metadata": {
    "cell_id": "2d36098e-6fe9-4cd9-92ed-7198f6a91e6b",
    "deepnote_app_coordinates": {
     "h": 5,
     "w": 12,
     "x": 0,
     "y": 150
    },
    "deepnote_cell_type": "markdown",
    "tags": []
   },
   "source": [
    "Our data is now ready, let's get to plotting!"
   ]
  },
  {
   "cell_type": "code",
   "execution_count": null,
   "metadata": {
    "cell_id": "b9afb14b-ffda-4b01-9ff6-c0ef05d4c086",
    "deepnote_app_coordinates": {
     "h": 5,
     "w": 12,
     "x": 0,
     "y": 156
    },
    "deepnote_cell_type": "code",
    "deepnote_output_heights": [
     null,
     412
    ],
    "deepnote_to_be_reexecuted": false,
    "execution_millis": 1446,
    "execution_start": 1643088974930,
    "source_hash": "332536e1",
    "tags": []
   },
   "outputs": [
    {
     "name": "stderr",
     "output_type": "stream",
     "text": [
      "/shared-libs/python3.7/py-core/lib/python3.7/site-packages/ipykernel_launcher.py:35: FutureWarning: The pandas.datetime class is deprecated and will be removed from pandas in a future version. Import from datetime module instead.\n",
      "/shared-libs/python3.7/py-core/lib/python3.7/site-packages/ipykernel_launcher.py:43: UserWarning: FixedFormatter should only be used together with FixedLocator\n"
     ]
    },
    {
     "data": {
      "image/png": "[encoded data removed]",
      "text/plain": [
       "<Figure size 800x400 with 1 Axes>"
      ]
     },
     "metadata": {
      "image/png": {
       "height": 410,
       "width": 646
      },
      "needs_background": "light"
     },
     "output_type": "display_data"
    }
   ],
   "source": [
    "# Setup plot size.\n",
    "fig, ax = plt.subplots(figsize=(8,4))\n",
    "\n",
    "# Create grid \n",
    "# Zorder tells it which layer to put it on. We are setting this to 1 and our data to 2 so the grid is behind the data.\n",
    "ax.grid(which=\"major\", axis='y', color='#758D99', alpha=0.6, zorder=1)\n",
    "\n",
    "# Plot data\n",
    "# Loop through country names and plot each one.\n",
    "for country in countries:\n",
    "    ax.plot(gdp[gdp['country'] == country]['date'], \n",
    "            gdp[gdp['country'] == country]['gdp_trillions'], \n",
    "            color='#758D99', \n",
    "            alpha=0.8, \n",
    "            linewidth=3)\n",
    "\n",
    "# Plot US and China separately\n",
    "ax.plot(gdp[gdp['country'] == 'United States']['date'], \n",
    "        gdp[gdp['country'] == 'United States']['gdp_trillions'], \n",
    "        color='#006BA2',\n",
    "        linewidth=3)\n",
    "\n",
    "ax.plot(gdp[gdp['country'] == 'China']['date'], \n",
    "        gdp[gdp['country'] == 'China']['gdp_trillions'], \n",
    "        color='#3EBCD2',\n",
    "        linewidth=3)\n",
    "\n",
    "# Remove splines. Can be done one at a time or can slice with a list.\n",
    "ax.spines[['top','right','left']].set_visible(False)\n",
    "\n",
    "# Shrink y-lim to make plot a bit tigheter\n",
    "ax.set_ylim(0, 23)\n",
    "\n",
    "# Set xlim to fit data without going over plot area\n",
    "ax.set_xlim(pd.datetime(1958, 1, 1), pd.datetime(2023, 1, 1))\n",
    "\n",
    "# Reformat x-axis tick labels\n",
    "ax.xaxis.set_tick_params(labelsize=11)        # Set tick label size\n",
    "\n",
    "# Reformat y-axis tick labels\n",
    "ax.set_yticklabels(np.arange(0,25,5),            # Set labels again\n",
    "                   ha = 'right',                 # Set horizontal alignment to right\n",
    "                   verticalalignment='bottom')   # Set vertical alignment to make labels on top of gridline      \n",
    "\n",
    "ax.yaxis.set_tick_params(pad=-2,             # Pad tick labels so they don't go over y-axis\n",
    "                         labeltop=True,      # Put x-axis labels on top\n",
    "                         labelbottom=False,  # Set no x-axis labels on bottom\n",
    "                         bottom=False,       # Set no ticks on bottom\n",
    "                         labelsize=11)       # Set tick label size\n",
    "\n",
    "# Add labels for USA and China\n",
    "ax.text(x=.63, y=.67, s='United States', transform=fig.transFigure, size=10, alpha=.9)\n",
    "ax.text(x=.7, y=.4, s='China', transform=fig.transFigure, size=10, alpha=.9)\n",
    "\n",
    "\n",
    "# Add in line and tag\n",
    "ax.plot([0.12, .9],                  # Set width of line\n",
    "        [.98, .98],                  # Set height of line\n",
    "        transform=fig.transFigure,   # Set location relative to plot\n",
    "        clip_on=False, \n",
    "        color='#E3120B', \n",
    "        linewidth=.6)\n",
    "ax.add_patch(plt.Rectangle((0.12,.98),                 # Set location of rectangle by lower left corder\n",
    "                           0.04,                       # Width of rectangle\n",
    "                           -0.02,                      # Height of rectangle. Negative so it goes down.\n",
    "                           facecolor='#E3120B', \n",
    "                           transform=fig.transFigure, \n",
    "                           clip_on=False, \n",
    "                           linewidth = 0))\n",
    "\n",
    "# Add in title and subtitle\n",
    "ax.text(x=0.12, y=.91, s=\"Ahead of the pack\", transform=fig.transFigure, ha='left', fontsize=13, weight='bold', alpha=.8)\n",
    "ax.text(x=0.12, y=.86, s=\"Top 9 GDP's by country, in trillions of USD, 1960-2020\", transform=fig.transFigure, ha='left', fontsize=11, alpha=.8)\n",
    "\n",
    "# Set source text\n",
    "ax.text(x=0.12, y=0.01, s=\"\"\"Source: \"GDP of all countries(1960-2020)\" via Kaggle.com\"\"\", transform=fig.transFigure, ha='left', fontsize=9, alpha=.7)\n",
    "\n",
    "# Export plot as high resolution PNG\n",
    "plt.savefig('images/economist_line.png',    # Set path and filename\n",
    "            dpi = 300,                     # Set dots per inch\n",
    "            bbox_inches=\"tight\",           # Remove extra whitespace around plot\n",
    "            facecolor='white')             # Set background color to white\n"
   ]
  },
  {
   "cell_type": "markdown",
   "metadata": {
    "cell_id": "1a260615-4b49-4370-aab2-a85fadda87fd",
    "deepnote_app_coordinates": {
     "h": 5,
     "w": 12,
     "x": 0,
     "y": 162
    },
    "deepnote_cell_type": "markdown",
    "tags": []
   },
   "source": [
    "Even more code this time. Typically Economist charts are more square, espcially for their print edition. I decided to make it wider to fit better in an article by itself. "
   ]
  },
  {
   "cell_type": "markdown",
   "metadata": {
    "cell_id": "f1fa2919-3b01-4623-a686-6bf09ee59bb9",
    "deepnote_app_coordinates": {
     "h": 5,
     "w": 12,
     "x": 0,
     "y": 120
    },
    "deepnote_cell_type": "markdown",
    "tags": []
   },
   "source": [
    "## Dumbbell Chart"
   ]
  },
  {
   "cell_type": "markdown",
   "metadata": {
    "cell_id": "325dd57e-c4a2-421a-8cb2-1c394b3880e3",
    "deepnote_app_coordinates": {
     "h": 5,
     "w": 12,
     "x": 0,
     "y": 126
    },
    "deepnote_cell_type": "markdown",
    "tags": []
   },
   "source": [
    "For the last chart, we will make a dumbbell chart. These charts are used to show the differences in a categorical variable, usually over time. Here is an [example of a dumbbell chart from the Economist](https://www.economist.com/graphic-detail/2021/11/12/vaccines-are-finally-arriving-in-africa-but-the-rollout-will-be-a-challenge).\n",
    "\n",
    "We will again use the GDP data. This time to show the difference in GDP from 1960 to 2020 for the top 9 countries. "
   ]
  },
  {
   "cell_type": "code",
   "execution_count": null,
   "metadata": {
    "cell_id": "f5d0c2ce-8eb7-45a1-b518-58bc613f40b1",
    "deepnote_app_coordinates": {
     "h": 5,
     "w": 12,
     "x": 0,
     "y": 180
    },
    "deepnote_cell_type": "code",
    "deepnote_output_heights": [
     177
    ],
    "deepnote_to_be_reexecuted": false,
    "execution_millis": 93,
    "execution_start": 1643088976366,
    "source_hash": "acf05d2f",
    "tags": []
   },
   "outputs": [
    {
     "data": {
      "application/vnd.deepnote.dataframe.v3+json": {
       "column_count": 8,
       "columns": [
        {
         "dtype": "int64",
         "name": "year",
         "stats": {
          "histogram": [
           {
            "bin_end": 1959.6,
            "bin_start": 1959.5,
            "count": 0
           },
           {
            "bin_end": 1959.7,
            "bin_start": 1959.6,
            "count": 0
           },
           {
            "bin_end": 1959.8,
            "bin_start": 1959.7,
            "count": 0
           },
           {
            "bin_end": 1959.9,
            "bin_start": 1959.8,
            "count": 0
           },
           {
            "bin_end": 1960,
            "bin_start": 1959.9,
            "count": 0
           },
           {
            "bin_end": 1960.1,
            "bin_start": 1960,
            "count": 5
           },
           {
            "bin_end": 1960.2,
            "bin_start": 1960.1,
            "count": 0
           },
           {
            "bin_end": 1960.3,
            "bin_start": 1960.2,
            "count": 0
           },
           {
            "bin_end": 1960.4,
            "bin_start": 1960.3,
            "count": 0
           },
           {
            "bin_end": 1960.5,
            "bin_start": 1960.4,
            "count": 0
           }
          ],
          "max": "1960",
          "min": "1960",
          "nan_count": 0,
          "unique_count": 1
         }
        },
        {
         "dtype": "int64",
         "name": "rank",
         "stats": {
          "histogram": [
           {
            "bin_end": 6.8,
            "bin_start": 4,
            "count": 2
           },
           {
            "bin_end": 9.6,
            "bin_start": 6.8,
            "count": 2
           },
           {
            "bin_end": 12.399999999999999,
            "bin_start": 9.6,
            "count": 0
           },
           {
            "bin_end": 15.2,
            "bin_start": 12.399999999999999,
            "count": 0
           },
           {
            "bin_end": 18,
            "bin_start": 15.2,
            "count": 0
           },
           {
            "bin_end": 20.799999999999997,
            "bin_start": 18,
            "count": 0
           },
           {
            "bin_end": 23.599999999999998,
            "bin_start": 20.799999999999997,
            "count": 0
           },
           {
            "bin_end": 26.4,
            "bin_start": 23.599999999999998,
            "count": 0
           },
           {
            "bin_end": 29.2,
            "bin_start": 26.4,
            "count": 0
           },
           {
            "bin_end": 32,
            "bin_start": 29.2,
            "count": 1
           }
          ],
          "max": "32",
          "min": "4",
          "nan_count": 0,
          "unique_count": 5
         }
        },
        {
         "dtype": "object",
         "name": "country",
         "stats": {
          "categories": [
           {
            "count": 1,
            "name": "South Korea"
           },
           {
            "count": 1,
            "name": "India"
           },
           {
            "count": 3,
            "name": "3 others"
           }
          ],
          "nan_count": 0,
          "unique_count": 5
         }
        },
        {
         "dtype": "object",
         "name": "state",
         "stats": {
          "categories": [
           {
            "count": 3,
            "name": "Asia"
           },
           {
            "count": 1,
            "name": "Europe"
           },
           {
            "count": 1,
            "name": "America"
           }
          ],
          "nan_count": 0,
          "unique_count": 3
         }
        },
        {
         "dtype": "int64",
         "name": "gdp",
         "stats": {
          "histogram": [
           {
            "bin_end": 9534018444.7,
            "bin_start": 3958190758,
            "count": 1
           },
           {
            "bin_end": 15109846131.4,
            "bin_start": 9534018444.7,
            "count": 0
           },
           {
            "bin_end": 20685673818.1,
            "bin_start": 15109846131.4,
            "count": 0
           },
           {
            "bin_end": 26261501504.8,
            "bin_start": 20685673818.1,
            "count": 0
           },
           {
            "bin_end": 31837329191.5,
            "bin_start": 26261501504.8,
            "count": 0
           },
           {
            "bin_end": 37413156878.2,
            "bin_start": 31837329191.5,
            "count": 1
           },
           {
            "bin_end": 42988984564.9,
            "bin_start": 37413156878.2,
            "count": 2
           },
           {
            "bin_end": 48564812251.6,
            "bin_start": 42988984564.9,
            "count": 0
           },
           {
            "bin_end": 54140639938.299995,
            "bin_start": 48564812251.6,
            "count": 0
           },
           {
            "bin_end": 59716467625,
            "bin_start": 54140639938.299995,
            "count": 1
           }
          ],
          "max": "59716467625",
          "min": "3958190758",
          "nan_count": 0,
          "unique_count": 5
         }
        },
        {
         "dtype": "float64",
         "name": "gdp_percent",
         "stats": {
          "histogram": [
           {
            "bin_end": 0.00822109831058191,
            "bin_start": 0.00341311227184,
            "count": 1
           },
           {
            "bin_end": 0.01302908434932382,
            "bin_start": 0.00822109831058191,
            "count": 0
           },
           {
            "bin_end": 0.017837070388065732,
            "bin_start": 0.01302908434932382,
            "count": 0
           },
           {
            "bin_end": 0.02264505642680764,
            "bin_start": 0.017837070388065732,
            "count": 0
           },
           {
            "bin_end": 0.02745304246554955,
            "bin_start": 0.02264505642680764,
            "count": 0
           },
           {
            "bin_end": 0.03226102850429146,
            "bin_start": 0.02745304246554955,
            "count": 1
           },
           {
            "bin_end": 0.037069014543033366,
            "bin_start": 0.03226102850429146,
            "count": 2
           },
           {
            "bin_end": 0.04187700058177528,
            "bin_start": 0.037069014543033366,
            "count": 0
           },
           {
            "bin_end": 0.04668498662051719,
            "bin_start": 0.04187700058177528,
            "count": 0
           },
           {
            "bin_end": 0.0514929726592591,
            "bin_start": 0.04668498662051719,
            "count": 1
           }
          ],
          "max": "0.0514929726592591",
          "min": "0.00341311227184",
          "nan_count": 0,
          "unique_count": 5
         }
        },
        {
         "dtype": "float64",
         "name": "gdp_trillions",
         "stats": {
          "histogram": [
           {
            "bin_end": 0.009534018444699999,
            "bin_start": 0.003958190758,
            "count": 1
           },
           {
            "bin_end": 0.015109846131399998,
            "bin_start": 0.009534018444699999,
            "count": 0
           },
           {
            "bin_end": 0.020685673818099996,
            "bin_start": 0.015109846131399998,
            "count": 0
           },
           {
            "bin_end": 0.026261501504799997,
            "bin_start": 0.020685673818099996,
            "count": 0
           },
           {
            "bin_end": 0.031837329191499994,
            "bin_start": 0.026261501504799997,
            "count": 0
           },
           {
            "bin_end": 0.03741315687819999,
            "bin_start": 0.031837329191499994,
            "count": 1
           },
           {
            "bin_end": 0.042988984564899996,
            "bin_start": 0.03741315687819999,
            "count": 2
           },
           {
            "bin_end": 0.04856481225159999,
            "bin_start": 0.042988984564899996,
            "count": 0
           },
           {
            "bin_end": 0.0541406399383,
            "bin_start": 0.04856481225159999,
            "count": 0
           },
           {
            "bin_end": 0.059716467625,
            "bin_start": 0.0541406399383,
            "count": 1
           }
          ],
          "max": "0.059716467625",
          "min": "0.003958190758",
          "nan_count": 0,
          "unique_count": 5
         }
        },
        {
         "dtype": "datetime64[ns]",
         "name": "date",
         "stats": {
          "histogram": null,
          "max": "1960-01-01 00:00:00",
          "min": "1960-01-01 00:00:00",
          "nan_count": 0,
          "unique_count": 1
         }
        },
        {
         "dtype": "int64",
         "name": "_deepnote_index_column"
        }
       ],
       "row_count": 5,
       "rows": [
        {
         "_deepnote_index_column": 31,
         "country": "South Korea",
         "date": "1960-01-01T00:00:00.000000",
         "gdp": 3958190758,
         "gdp_percent": 0.00341311227184,
         "gdp_trillions": 0.003958190758,
         "rank": 32,
         "state": "Asia",
         "year": 1960
        },
        {
         "_deepnote_index_column": 7,
         "country": "India",
         "date": "1960-01-01T00:00:00.000000",
         "gdp": 37029883875,
         "gdp_percent": 0.0319305356426114,
         "gdp_trillions": 0.037029883875,
         "rank": 8,
         "state": "Asia",
         "year": 1960
        },
        {
         "_deepnote_index_column": 6,
         "country": "Italy",
         "date": "1960-01-01T00:00:00.000000",
         "gdp": 40385288344,
         "gdp_percent": 0.034823870721772,
         "gdp_trillions": 0.040385288344,
         "rank": 7,
         "state": "Europe",
         "year": 1960
        },
        {
         "_deepnote_index_column": 5,
         "country": "Canada",
         "date": "1960-01-01T00:00:00.000000",
         "gdp": 40461721692,
         "gdp_percent": 0.0348897785099476,
         "gdp_trillions": 0.040461721692,
         "rank": 6,
         "state": "America",
         "year": 1960
        },
        {
         "_deepnote_index_column": 3,
         "country": "China",
         "date": "1960-01-01T00:00:00.000000",
         "gdp": 59716467625,
         "gdp_percent": 0.0514929726592591,
         "gdp_trillions": 0.059716467625,
         "rank": 4,
         "state": "Asia",
         "year": 1960
        }
       ]
      },
      "text/html": [
       "<div>\n",
       "<style scoped>\n",
       "    .dataframe tbody tr th:only-of-type {\n",
       "        vertical-align: middle;\n",
       "    }\n",
       "\n",
       "    .dataframe tbody tr th {\n",
       "        vertical-align: top;\n",
       "    }\n",
       "\n",
       "    .dataframe thead th {\n",
       "        text-align: right;\n",
       "    }\n",
       "</style>\n",
       "<table border=\"1\" class=\"dataframe\">\n",
       "  <thead>\n",
       "    <tr style=\"text-align: right;\">\n",
       "      <th></th>\n",
       "      <th>year</th>\n",
       "      <th>rank</th>\n",
       "      <th>country</th>\n",
       "      <th>state</th>\n",
       "      <th>gdp</th>\n",
       "      <th>gdp_percent</th>\n",
       "      <th>gdp_trillions</th>\n",
       "      <th>date</th>\n",
       "    </tr>\n",
       "  </thead>\n",
       "  <tbody>\n",
       "    <tr>\n",
       "      <th>31</th>\n",
       "      <td>1960</td>\n",
       "      <td>32</td>\n",
       "      <td>South Korea</td>\n",
       "      <td>Asia</td>\n",
       "      <td>3958190758</td>\n",
       "      <td>0.003413</td>\n",
       "      <td>0.003958</td>\n",
       "      <td>1960-01-01</td>\n",
       "    </tr>\n",
       "    <tr>\n",
       "      <th>7</th>\n",
       "      <td>1960</td>\n",
       "      <td>8</td>\n",
       "      <td>India</td>\n",
       "      <td>Asia</td>\n",
       "      <td>37029883875</td>\n",
       "      <td>0.031931</td>\n",
       "      <td>0.037030</td>\n",
       "      <td>1960-01-01</td>\n",
       "    </tr>\n",
       "    <tr>\n",
       "      <th>6</th>\n",
       "      <td>1960</td>\n",
       "      <td>7</td>\n",
       "      <td>Italy</td>\n",
       "      <td>Europe</td>\n",
       "      <td>40385288344</td>\n",
       "      <td>0.034824</td>\n",
       "      <td>0.040385</td>\n",
       "      <td>1960-01-01</td>\n",
       "    </tr>\n",
       "    <tr>\n",
       "      <th>5</th>\n",
       "      <td>1960</td>\n",
       "      <td>6</td>\n",
       "      <td>Canada</td>\n",
       "      <td>America</td>\n",
       "      <td>40461721692</td>\n",
       "      <td>0.034890</td>\n",
       "      <td>0.040462</td>\n",
       "      <td>1960-01-01</td>\n",
       "    </tr>\n",
       "    <tr>\n",
       "      <th>3</th>\n",
       "      <td>1960</td>\n",
       "      <td>4</td>\n",
       "      <td>China</td>\n",
       "      <td>Asia</td>\n",
       "      <td>59716467625</td>\n",
       "      <td>0.051493</td>\n",
       "      <td>0.059716</td>\n",
       "      <td>1960-01-01</td>\n",
       "    </tr>\n",
       "  </tbody>\n",
       "</table>\n",
       "</div>"
      ],
      "text/plain": [
       "    year  rank      country    state          gdp  gdp_percent  gdp_trillions  \\\n",
       "31  1960    32  South Korea     Asia   3958190758     0.003413       0.003958   \n",
       "7   1960     8        India     Asia  37029883875     0.031931       0.037030   \n",
       "6   1960     7        Italy   Europe  40385288344     0.034824       0.040385   \n",
       "5   1960     6       Canada  America  40461721692     0.034890       0.040462   \n",
       "3   1960     4        China     Asia  59716467625     0.051493       0.059716   \n",
       "\n",
       "         date  \n",
       "31 1960-01-01  \n",
       "7  1960-01-01  \n",
       "6  1960-01-01  \n",
       "5  1960-01-01  \n",
       "3  1960-01-01  "
      ]
     },
     "execution_count": 9,
     "metadata": {},
     "output_type": "execute_result"
    }
   ],
   "source": [
    "gdp_dumbbell = gdp[(gdp['country'].isin(countries)) & ((gdp['year'] == 1960) | (gdp['year'] == 2020))].sort_values(by='gdp')\n",
    "gdp_dumbbell.head(5)"
   ]
  },
  {
   "cell_type": "code",
   "execution_count": null,
   "metadata": {
    "cell_id": "f435c6d3-7e78-4e33-a3ca-ec00931cfb98",
    "deepnote_app_coordinates": {
     "h": 5,
     "w": 12,
     "x": 0,
     "y": 132
    },
    "deepnote_cell_type": "code",
    "deepnote_output_heights": [
     null,
     476
    ],
    "deepnote_to_be_reexecuted": false,
    "execution_millis": 2306,
    "execution_start": 1643088976462,
    "source_hash": "22b5cafc",
    "tags": []
   },
   "outputs": [
    {
     "name": "stderr",
     "output_type": "stream",
     "text": [
      "/shared-libs/python3.7/py-core/lib/python3.7/site-packages/ipykernel_launcher.py:35: UserWarning: FixedFormatter should only be used together with FixedLocator\n"
     ]
    },
    {
     "data": {
      "image/png": "[encoded data removed]",
      "text/plain": [
       "<Figure size 700x400 with 1 Axes>"
      ]
     },
     "metadata": {
      "image/png": {
       "height": 474,
       "width": 728
      },
      "needs_background": "light"
     },
     "output_type": "display_data"
    }
   ],
   "source": [
    "# Setup plot size.\n",
    "fig, ax = plt.subplots(figsize=(7,4))\n",
    "\n",
    "# Create grid \n",
    "# Zorder tells it which layer to put it on. We are setting this to 1 and our data to 2 so the grid is behind the data.\n",
    "ax.grid(which=\"major\", axis='both', color='#758D99', alpha=0.6, zorder=1)\n",
    "\n",
    "# Remove splines. Can be done one at a time or can slice with a list.\n",
    "ax.spines[['top','right','bottom']].set_visible(False)\n",
    "\n",
    "# Setup data\n",
    "gdp_dumbbell = (gdp[(gdp['country'].isin(countries)) & ((gdp['year'] == 2000) | (gdp['year'] == 2020))][['year','gdp_trillions','country']]\n",
    "                .pivot(index='country',columns='year', values='gdp_trillions')\n",
    "                .sort_values(by=2020))\n",
    "\n",
    "# Plot data\n",
    "# Plot horizontal lines first\n",
    "ax.hlines(y=gdp_dumbbell.index, xmin=gdp_dumbbell[2000], xmax=gdp_dumbbell[2020], color='#758D99', zorder=2, linewidth=2, label='_nolegend_', alpha=.8)\n",
    "# Plot bubbles next\n",
    "ax.scatter(gdp_dumbbell[2000], gdp_dumbbell.index, label='1960', s=60, color='#DB444B', zorder=3)\n",
    "ax.scatter(gdp_dumbbell[2020], gdp_dumbbell.index, label='2020', s=60, color='#006BA2', zorder=3)\n",
    "\n",
    "# Set xlim\n",
    "ax.set_xlim(0, 25.05)\n",
    "\n",
    "# Reformat x-axis tick labels\n",
    "ax.xaxis.set_tick_params(labeltop=True,      # Put x-axis labels on top\n",
    "                         labelbottom=False,  # Set no x-axis labels on bottom\n",
    "                         bottom=False,       # Set no ticks on bottom\n",
    "                         labelsize=11,       # Set tick label size\n",
    "                         pad=-1)             # Lower tick labels a bit\n",
    "\n",
    "# Reformat y-axis tick labels\n",
    "ax.set_yticklabels(gdp_dumbbell.index,       # Set labels again\n",
    "                   ha = 'left')              # Set horizontal alignment to left\n",
    "ax.yaxis.set_tick_params(pad=100,            # Pad tick labels so they don't go over y-axis\n",
    "                         labelsize=11,       # Set label size\n",
    "                         bottom=False)       # Set no ticks on bottom/left\n",
    "\n",
    "# Set Legend\n",
    "ax.legend(['2000', '2020'], loc=(-.29,1.09), ncol=2, frameon=False, handletextpad=-.1, handleheight=1)\n",
    "\n",
    "# Add in line and tag\n",
    "ax.plot([-0.08, .9],                 # Set width of line\n",
    "        [1.17, 1.17],                # Set height of line\n",
    "        transform=fig.transFigure,   # Set location relative to plot\n",
    "        clip_on=False, \n",
    "        color='#E3120B', \n",
    "        linewidth=.6)\n",
    "ax.add_patch(plt.Rectangle((-0.08,1.17),               # Set location of rectangle by lower left corder\n",
    "                           0.05,                       # Width of rectangle\n",
    "                           -0.025,                      # Height of rectangle. Negative so it goes down.\n",
    "                           facecolor='#E3120B', \n",
    "                           transform=fig.transFigure, \n",
    "                           clip_on=False, \n",
    "                           linewidth = 0))\n",
    "\n",
    "# Add in title and subtitle\n",
    "ax.text(x=-0.08, y=1.09, s=\"Great expectations\", transform=fig.transFigure, ha='left', fontsize=13, weight='bold', alpha=.8)\n",
    "ax.text(x=-0.08, y=1.04, s=\"Top 9 countries by GDP, in trillions of USD\", transform=fig.transFigure, ha='left', fontsize=11, alpha=.8)\n",
    "\n",
    "# Set source text\n",
    "ax.text(x=-0.08, y=0.04, s=\"\"\"Source: \"GDP of all countries(1960-2020)\" via Kaggle.com\"\"\", transform=fig.transFigure, ha='left', fontsize=9, alpha=.7)\n",
    "\n",
    "# Export plot as high resolution PNG\n",
    "plt.savefig('images/economist_dumbbell.png',    # Set path and filename\n",
    "            dpi = 300,                          # Set dots per inch\n",
    "            bbox_inches=\"tight\",                # Remove extra whitespace around plot\n",
    "            facecolor='white')                  # Set background color to white"
   ]
  },
  {
   "cell_type": "markdown",
   "metadata": {
    "cell_id": "7576cc18-3285-49be-914c-d865d8183f13",
    "deepnote_app_coordinates": {
     "h": 5,
     "w": 12,
     "x": 0,
     "y": 186
    },
    "deepnote_cell_type": "markdown",
    "tags": []
   },
   "source": [
    "Dumbbell charts aren't as common on the Economist, but they are a great way to show a change in data over time. "
   ]
  },
  {
   "cell_type": "markdown",
   "metadata": {
    "cell_id": "dcdebd7a-4ab8-4e4a-b56a-db2c78207550",
    "deepnote_app_coordinates": {
     "h": 5,
     "w": 12,
     "x": 0,
     "y": 138
    },
    "deepnote_cell_type": "markdown",
    "tags": []
   },
   "source": [
    "## Conclusion"
   ]
  },
  {
   "cell_type": "markdown",
   "metadata": {
    "cell_id": "4ed19fbe-2f9d-44b0-91a1-ab2acf3e0d47",
    "deepnote_app_coordinates": {
     "h": 5,
     "w": 12,
     "x": 0,
     "y": 144
    },
    "deepnote_cell_type": "markdown",
    "tags": []
   },
   "source": [
    "While we have seen that it is possible to recreate the chart style of the Economist in Matplotlib, it certainly isn't easy. For each plot tens of lines of code are required, and each plot took several iterations of trial and error to get the way you see above.\n",
    "\n",
    "As you can see in the code, the plotting of the data in Matplotlib is fairly straightforward. However, aligning the text, line, and tag required very specific custom locations to be manually entered. This is one thing that would be good to improve upon in the code above. \n",
    "\n",
    "This was a great experience, and I learned several things about Matplotlib in the process. The library continues to amaze me with its ability to be customized. Perhaps in the future I will build a more reproducible method for creating print quality charts in Matplotlib."
   ]
  },
  {
   "cell_type": "markdown",
   "metadata": {},
   "source": [
    "### Source: \n",
    "\n",
    "[Making Economist-Style Plots in Matplotlib by Robert Ritz](https://towardsdatascience.com/making-economist-style-plots-in-matplotlib-e7de6d679739)"
   ]
  }
 ],
 "metadata": {
  "deepnote": {
   "is_reactive": false
  },
  "deepnote_app_layout": "article",
  "deepnote_execution_queue": [],
  "deepnote_notebook_id": "17ff3e3a-41ed-47f3-992d-716205837ef5",
  "language_info": {
   "name": "python"
  },
  "orig_nbformat": 2
 },
 "nbformat": 4,
 "nbformat_minor": 2
}

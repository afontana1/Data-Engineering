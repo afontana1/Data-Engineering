{
 "cells": [
  {
   "cell_type": "markdown",
   "metadata": {
    "_cell_guid": "79c7e3d0-c299-4dcb-8224-4455121ee9b0",
    "_uuid": "d629ff2d2480ee46fbb7e2d37f6b5fab8052498a",
    "collapsed": true,
    "papermill": {
     "duration": 0.008962,
     "end_time": "2020-12-07T03:07:35.305158",
     "exception": false,
     "start_time": "2020-12-07T03:07:35.296196",
     "status": "completed"
    },
    "tags": []
   },
   "source": [
    "## Tips for making the Informative Visualization\n",
    "\n",
    "I've done a lot of visualizations at Kaggle, and I've gained a lot of insight into visualizations in the process.\n",
    "\n",
    "Share some visualization tips in data analysis, hoping you won't make the same mistake as me.\n",
    "\n",
    "![](https://scontent-ssn1-1.xx.fbcdn.net/v/t1.0-9/s960x960/119476347_3252251351526507_8906565759837447200_o.jpg?_nc_cat=106&ccb=2&_nc_sid=825194&_nc_eui2=AeFs1jMO0uWBFhU86RESyXDW4Uz4Ja3Ean3hTPglrcRqfUeoe3F2-OqI1ghXoL0chYIcvpIrLBo7WrH2hl5aZZFG&_nc_ohc=0JY5477ksqUAX_f1R0b&_nc_ht=scontent-ssn1-1.xx&tp=7&oh=adbba25fe0fdaf4da44e3e2a8dd87e60&oe=5FCE2AB2)\n",
    "\n",
    "> Small data visualization community in Korea."
   ]
  },
  {
   "cell_type": "markdown",
   "metadata": {
    "papermill": {
     "duration": 0.007455,
     "end_time": "2020-12-07T03:07:35.323193",
     "exception": false,
     "start_time": "2020-12-07T03:07:35.315738",
     "status": "completed"
    },
    "tags": []
   },
   "source": [
    "## Data visualization is \"Data\" and \"Visualization\"\n",
    "\n",
    "Literally. Data visualization is a task that requires both data and visualization to be understood at the same time.\n",
    "\n",
    "First, you have to understand the type of the variable. \n",
    "\n",
    "- **Numerical**\n",
    "    - **Discrete**: Discrete data such as number of people and dice scale.\n",
    "        - 0, 1, 2\n",
    "    - **Continuous**: Data such as age, score, temperature, etc.\n",
    "        - 10.2, 20.3\n",
    "- **Categorical**\n",
    "    - **Ordered**: Categorical data, such as high school, university, and graduate school.\n",
    "    - **Nominal**: There is no order, such as country, blood type, race, but different categorical data.\n",
    "\n",
    "Then, examples of preattentive(visual) attributes are as follows:\n",
    "\n",
    "- Location\n",
    "- Form\n",
    "- Size\n",
    "- Color\n",
    "- ETC\n",
    "\n",
    "<img src=\"https://miro.medium.com/proxy/0*0Mil7au6biskTv6e\" width=600> \n",
    "\n",
    "You need to understand the proportional elements of data and visualization elements."
   ]
  },
  {
   "cell_type": "markdown",
   "metadata": {
    "papermill": {
     "duration": 0.007451,
     "end_time": "2020-12-07T03:07:35.338427",
     "exception": false,
     "start_time": "2020-12-07T03:07:35.330976",
     "status": "completed"
    },
    "tags": []
   },
   "source": [
    "## Let's proceed with visualizations that fit the purpose.\n",
    "\n",
    "Visualization is a targeted act.\n",
    "\n",
    "Information visualization is a process to find 4 main things.\n",
    "\n",
    "- **Composition**: What does the data consist of?\n",
    "- **Distribution**: What distribution does the data have?\n",
    "- **Comparison**: What distribution are features in?\n",
    "- **Relationship**: What about the relationship between two or more features?\n",
    "\n",
    "<img src=\"https://about.infogr.am/wp-content/uploads/2016/01/types-of-charts-1024x767.jpg\" width=700>\n",
    "\n",
    "And let's think about this.\n",
    "\n",
    "- What content can we use after this?\n",
    "- What process will it take to do Feature Engineering after EDA?\n",
    "- Did they create visualizations that are more understandable than text?\n",
    "\n",
    "Visualization does not necessarily have to be aesthetically pleasing if it serves its purpose and appropriately helps to understand.\n",
    "\n",
    "However, ***pretty visualizations are better than ugly ones.***"
   ]
  },
  {
   "cell_type": "markdown",
   "metadata": {
    "papermill": {
     "duration": 0.007528,
     "end_time": "2020-12-07T03:07:35.353707",
     "exception": false,
     "start_time": "2020-12-07T03:07:35.346179",
     "status": "completed"
    },
    "tags": []
   },
   "source": [
    "## Colorful isn't necessarily a good thing.\n",
    "\n",
    "<img src=\"https://64.media.tumblr.com/6afe14d0677fd565808b3faa2be44036/tumblr_q9gpy4XYFW1sgh0voo1_1280.png\" width=700>\n",
    "\n",
    "> ref : https://viz.wtf/\n",
    "### Stop using the rainbow color palette\n",
    "\n",
    "Colors can be used in two main ways.\n",
    "\n",
    "1. Distinguish: Data are different from each other.\n",
    "2. Emphasis: Emphasize subdata.\n",
    "\n",
    "There are three main types of color palette if you look at the classification first.\n",
    "\n",
    "- **Qualitative palettes**\n",
    "- **Sequential palettes**\n",
    "- **Diverging palettes**\n",
    "\n",
    "I think I can refer to [Simple Matplotlib & Visualization Tips 💡](https://www.kaggle.com/subinium/simple-matplotlib-visualization-tips)\n",
    "\n",
    "### Contrast\n",
    "\n",
    "For emphasis or effective differentiation, color contrast should be well utilized. The types of contrast are as follows.\n",
    "\n",
    "![](https://libdiz.com/wp-content/uploads/2016/01/ittens-color-contrast-natural-colourslive.jpg)\n",
    "\n",
    "### Meaning of Colors\n",
    "\n",
    "Let's make good use of the overall concept of color. Colors all have meanings and impressions.\n",
    "\n",
    "![](https://blog.presentation-company.com/hs-fs/hubfs/Imported_Blog_Media/MeaningOfColor_v3-1.png?width=600&height=306&name=MeaningOfColor_v3-1.png)\n",
    "\n",
    "In addition to this, think about the meaning of brand color.\n",
    "\n",
    "### Color blindness\n",
    "\n",
    "There is a greater percentage of color blindness than you thought. \n",
    "Consider also color to prevent color blindness.\n",
    "\n",
    "### Color Scheme\n",
    "\n",
    "Color always exists in combination. The combination of good color and good color does not make a good color scheme.\n",
    "\n",
    "Always refer to different color combinations.\n",
    "\n",
    "- [Color Hunt](https://colorhunt.co/)\n",
    "- [Visme : 50 Beautiful Color Combinations](https://visme.co/blog/color-combinations/)"
   ]
  },
  {
   "cell_type": "markdown",
   "metadata": {
    "papermill": {
     "duration": 0.007417,
     "end_time": "2020-12-07T03:07:35.368737",
     "exception": false,
     "start_time": "2020-12-07T03:07:35.361320",
     "status": "completed"
    },
    "tags": []
   },
   "source": [
    "### A lot of charts don't mean a lot of analysis.\n",
    "\n",
    "Drawing multiple charts is inconvenient for many reasons.\n",
    "\n",
    "> In particular, it would be nice to use the facet grid well.\n",
    "\n",
    "Very few people can read multiple charts at the same time.\n",
    "\n",
    "The web environment is quite limited in size, so one neat visualization may be better."
   ]
  },
  {
   "cell_type": "markdown",
   "metadata": {
    "papermill": {
     "duration": 0.007334,
     "end_time": "2020-12-07T03:07:35.383726",
     "exception": false,
     "start_time": "2020-12-07T03:07:35.376392",
     "status": "completed"
    },
    "tags": []
   },
   "source": [
    "### Interactive, understand and use.\n",
    "\n",
    "<img src=\"https://upload.wikimedia.org/wikipedia/commons/3/37/Plotly-logo-01-square.png\" width=300>\n",
    "\n",
    "Let's understand the difference between interactive and static visualizations.\n",
    "\n",
    "Many of the interactive visualizations used in the Cagle mean no more than static visualizations. \n",
    "\n",
    "Rather, there may be only negative effects that slow down the rendering speed. \n",
    "\n",
    "The key reason for interactive is not glamour but to allow users to look at data autonomously. \n",
    "\n",
    "Let's use meaningful interactive. The representative features of Python Interactive Visualization Library include:\n",
    "\n",
    "- **Explore**\n",
    "    - A typical function is panning, which allows you to view the chart in various places while moving the right left side with the mouse pressed.\n",
    "    - It can be useful on a large scale, such as map data, but is there a reason to use it in the bar chart?\n",
    "- **Select**\n",
    "- **Abstract** : mouse hover and tooltip\n",
    "    - Except for information on color and coordinate axes, insufficient information can be filled.\n",
    "    - However, most of the contents contain color and coordinate information. Of course, you can show more precise values, but there aren't many cases that take advantage of them. Let's put the necessary information.\n",
    "- **Animation**\n",
    "    - It seems useful for time series data. However, when expressing heat maps, etc., let's fix the color scale and add animations that are less confusing meaningfully."
   ]
  },
  {
   "cell_type": "markdown",
   "metadata": {
    "papermill": {
     "duration": 0.007381,
     "end_time": "2020-12-07T03:07:35.398716",
     "exception": false,
     "start_time": "2020-12-07T03:07:35.391335",
     "status": "completed"
    },
    "tags": []
   },
   "source": [
    "## The detail completes the visualization.\n",
    "\n",
    "### Arrangement(Layout), margin, and ratio\n",
    "\n",
    "- Direction and readability.\n",
    "    - In many cultures, texts and charts are read left and right, and from top to right.\n",
    "    - But one looks at the color and the overall structure first, and then again from the beginning.\n",
    "- Let's not do all the charts at the same rate.  The aspect ratio is important.\n",
    "    - Even charts of the same kind have different ratios if the number of features is different.\n",
    "    - If you want to draw it at once, let's vary the size of the chart, such as grid spec.\n",
    "- Avoid visual frustration by setting margins or spacing between charts.\n",
    "    - Let's leave it a little more relaxed than just hitting the x-axis and y-axis limits.\n",
    "    - Let's also leave a gap between axes.\n",
    "\n",
    "### Text Utilization\n"
   ]
  },
  {
   "cell_type": "code",
   "execution_count": 1,
   "metadata": {
    "_kg_hide-input": true,
    "execution": {
     "iopub.execute_input": "2020-12-07T03:07:35.430699Z",
     "iopub.status.busy": "2020-12-07T03:07:35.429922Z",
     "iopub.status.idle": "2020-12-07T03:07:36.028304Z",
     "shell.execute_reply": "2020-12-07T03:07:36.028887Z"
    },
    "papermill": {
     "duration": 0.622729,
     "end_time": "2020-12-07T03:07:36.029068",
     "exception": false,
     "start_time": "2020-12-07T03:07:35.406339",
     "status": "completed"
    },
    "tags": []
   },
   "outputs": [
    {
     "data": {
      "image/png": "[encoded data removed]",
      "text/plain": [
       "<Figure size 864x720 with 1 Axes>"
      ]
     },
     "metadata": {
      "needs_background": "light"
     },
     "output_type": "display_data"
    }
   ],
   "source": [
    "import matplotlib.pyplot as plt\n",
    "\n",
    "fig = plt.figure(figsize=(12,10))\n",
    "fig.suptitle('bold figure suptitle', fontsize=14, fontweight='bold')\n",
    "\n",
    "ax = fig.add_subplot(111)\n",
    "fig.subplots_adjust(top=0.85)\n",
    "ax.set_title('axes title')\n",
    "\n",
    "ax.set_xlabel('xlabel')\n",
    "ax.set_ylabel('ylabel')\n",
    "\n",
    "ax.text(3, 8, 'boxed italics text in data coords', style='italic',\n",
    "        bbox={'facecolor': 'red', 'alpha': 0.5, 'pad': 10})\n",
    "\n",
    "ax.text(2, 6, r'an equation: $E=mc^2$', fontsize=15)\n",
    "\n",
    "ax.text(3, 2, 'unicode: Institut für Festkörperphysik')\n",
    "\n",
    "ax.text(0.95, 0.01, 'colored text in axes coords',\n",
    "        verticalalignment='bottom', horizontalalignment='right',\n",
    "        transform=ax.transAxes,\n",
    "        color='green', fontsize=15)\n",
    "\n",
    "\n",
    "ax.plot([2], [1], 'o')\n",
    "ax.annotate('annotate', xy=(2, 1), xytext=(3, 4),\n",
    "            arrowprops=dict(facecolor='black', shrink=0.05))\n",
    "\n",
    "ax.axis([0, 10, 0, 10])\n",
    "\n",
    "plt.show()"
   ]
  },
  {
   "cell_type": "markdown",
   "metadata": {
    "papermill": {
     "duration": 0.00886,
     "end_time": "2020-12-07T03:07:36.047789",
     "exception": false,
     "start_time": "2020-12-07T03:07:36.038929",
     "status": "completed"
    },
    "tags": []
   },
   "source": [
    "\n",
    "- Text based on location\n",
    "    \n",
    "    - Title : The title is a summary of the entire subject of the visualization.\n",
    "    - Axis\n",
    "    - Legend\n",
    "    - Explanation\n",
    "        - This could be a description of each data point.\n",
    "        - It could be an explanation of the whole visualization.\n",
    "\n",
    "\n",
    "\n",
    "- The setting of the text component.\n",
    "\n",
    "    - fontfamily : I prefer 'serif'\n",
    "    - fontweight\n",
    "    - fontsize \n",
    "    - color \n",
    "    - bbox : To decorate the border of text, it helps to highlight text and distinguish it from charts.\n",
    "\n",
    "### Grids, Axis, and Borders\n",
    "\n",
    "- **Grid**: When there is more data, it helps to understand the scale.\n",
    "- **Axis**: Minor tags can be set to show detailed scale, and if the axis is meaningless, remove it.\n",
    "    - ex) Dimension Reduction\n",
    "- **Border**: Let's try various things, such as removing spines or applying a border to data points."
   ]
  },
  {
   "cell_type": "markdown",
   "metadata": {
    "papermill": {
     "duration": 0.008789,
     "end_time": "2020-12-07T03:07:36.065701",
     "exception": false,
     "start_time": "2020-12-07T03:07:36.056912",
     "status": "completed"
    },
    "tags": []
   },
   "source": [
    "## You don't have to look at all the data.\n",
    "\n",
    "While data analysis looks at the entire data, it also selects the appropriate subset of the data."
   ]
  },
  {
   "cell_type": "markdown",
   "metadata": {
    "papermill": {
     "duration": 0.008772,
     "end_time": "2020-12-07T03:07:36.083510",
     "exception": false,
     "start_time": "2020-12-07T03:07:36.074738",
     "status": "completed"
    },
    "tags": []
   },
   "source": [
    "## Reference\n",
    "\n",
    "- Visualization Analysis & Design, Tamara Munzner\n",
    "- Fundamentals of Data Visualization, Claus O.Wilke\n",
    "- A Gentle Introduction to Exploratory Data Analysis : [https://towardsdatascience.com/a-gentle-introduction-to-exploratory-data-analysis-f11d843b8184](https://towardsdatascience.com/a-gentle-introduction-to-exploratory-data-analysis-f11d843b8184)\n",
    "- Finding the Right Color Palettes for Data Visualizations : [https://blog.graphiq.com/finding-the-right-color-palettes-for-data-visualizations-fcd4e707a283#.wf7bgbdq2](https://blog.graphiq.com/finding-the-right-color-palettes-for-data-visualizations-fcd4e707a283#.wf7bgbdq2)\n",
    "- How to Choose Colors for Your Data Visualizations : [https://medium.com/nightingale/how-to-choose-the-colors-for-your-data-visualizations-50b2557fa335](https://medium.com/nightingale/how-to-choose-the-colors-for-your-data-visualizations-50b2557fa335)\n",
    "- The Architecture of a DataVisualization [https://medium.com/accurat-studio/the-architecture-of-a-data-visualization-470b807799b4](https://medium.com/accurat-studio/the-architecture-of-a-data-visualization-470b807799b4)\n",
    "- Mistakes, we’ve drawn a few : [https://medium.economist.com/mistakes-weve-drawn-a-few-8cdd8a42d368](https://medium.economist.com/mistakes-weve-drawn-a-few-8cdd8a42d368)\n",
    "- [Toward a Deeper Understanding of the Role of Interaction in Information Visualization(2007)](https://www.cc.gatech.edu/~stasko/papers/infovis07-interaction.pdf)"
   ]
  }
 ],
 "metadata": {
  "kernelspec": {
   "display_name": "Python 3",
   "language": "python",
   "name": "python3"
  },
  "language_info": {
   "codemirror_mode": {
    "name": "ipython",
    "version": 3
   },
   "file_extension": ".py",
   "mimetype": "text/x-python",
   "name": "python",
   "nbconvert_exporter": "python",
   "pygments_lexer": "ipython3",
   "version": "3.7.6"
  },
  "papermill": {
   "duration": 5.59495,
   "end_time": "2020-12-07T03:07:36.199936",
   "environment_variables": {},
   "exception": null,
   "input_path": "__notebook__.ipynb",
   "output_path": "__notebook__.ipynb",
   "parameters": {},
   "start_time": "2020-12-07T03:07:30.604986",
   "version": "2.1.0"
  }
 },
 "nbformat": 4,
 "nbformat_minor": 4
}

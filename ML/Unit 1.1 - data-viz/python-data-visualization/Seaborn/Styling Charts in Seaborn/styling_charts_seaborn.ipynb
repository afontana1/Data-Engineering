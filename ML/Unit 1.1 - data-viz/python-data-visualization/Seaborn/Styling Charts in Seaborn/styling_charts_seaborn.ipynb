{
 "cells": [
  {
   "cell_type": "markdown",
   "metadata": {},
   "source": [
    "# Styling Charts in Seaborn"
   ]
  },
  {
   "cell_type": "markdown",
   "metadata": {},
   "source": [
    "Seaborn aims to replicate much of what ggplot does using a core of matplotlib, providing a nice grammer of graphics api for python users. This leveraging of the monolithic matplotlib library provides it with almost limitless flexibility, although sometimes how to do things can be a bit buried in stack overflow replies. The library also has great integration with pandas, so the data wrangling-to-viz workflow is seamless. \n",
    "\n",
    "In this notebook, I want to give a brief overview on how to get some charts off the ground and looking nice using seaborn."
   ]
  },
  {
   "cell_type": "markdown",
   "metadata": {},
   "source": [
    "## Contents\n",
    "1. Bar chart with data labels\n",
    "2. Line chart with timeseries axis\n",
    "3. Small multiples/facet grid\n",
    "4. Saving figures"
   ]
  },
  {
   "cell_type": "markdown",
   "metadata": {},
   "source": [
    "## Data\n",
    "There are 2 primary data tables I will be using relate to Covid-19 case numbers: data for the number of new cases reported per country (source: https://covid19.who.int/), and global population data (source: https://data.worldbank.org/). Both were retrieved at the start of June 2020.\n",
    "\n"
   ]
  },
  {
   "cell_type": "markdown",
   "metadata": {},
   "source": [
    "## General style elements\n",
    "Setting the general style for seaborn charts is best done right at the start using the `sns.set()`method. There are a few different “style” presets we can choose from including “white”, “whitegrid”, “dark”, “darkgrid”, and “ticks”. I normally opt for “whitegrid”. We can also apply a scaling factor to font sizes if desired, and perhaps most importantly set a custom color palette (or choose from one of the many available seaborn palettes).\n",
    "\n",
    "At the top of my notebook I have the following block:"
   ]
  },
  {
   "cell_type": "code",
   "execution_count": null,
   "metadata": {},
   "outputs": [],
   "source": [
    "# color palette can be passed as a list of hex codes\n",
    "custom_colors = [\"#9b59b6\", \"#3498db\", \"#95a5a6\", \"#e74c3c\", \"#34495e\", \"#2ecc71\"]\n",
    "\n",
    "# set overall plot style, font size scaling factor, and color palette\n",
    "sns.set(style=\"whitegrid\", font_scale=1.2, palette=custom_colors)"
   ]
  },
  {
   "cell_type": "markdown",
   "metadata": {},
   "source": [
    "Note that we can (and will) tweak some settings later, but these top level style settings allow us to maintain a consistent chart aesthetic throughout our work."
   ]
  },
  {
   "cell_type": "markdown",
   "metadata": {},
   "source": [
    "### Helper functions\n",
    "There are a couple of helper functions that are very useful for quickly adding or styling additional elements to our seaborn charts. These typically glue a lot of matplotlib code together, and so can be a bit verbose to write out each time we need it, hence wrapping them up as helpers.\n",
    "\n",
    "For example, to add data labels to bar charts something like the following should do:"
   ]
  },
  {
   "cell_type": "code",
   "execution_count": 1,
   "metadata": {},
   "outputs": [],
   "source": [
    "def datalabel_bar(ax, fontsize=12):\n",
    "  rects = [rect for rect in ax.get_children() \n",
    "    if isinstance(rect, mpl.patches.Rectangle)]\n",
    "  \n",
    "  for rect in rects:\n",
    "    height = rect.get_height()\n",
    "    if height > 0:\n",
    "      ax.annotate(f\"{height:.0f}\", xy=(rect.get_x() + rect.get_width() / 2, height), \n",
    "        xytext=(0, 3), # 3 points offset textcoords=\"offset points\"\n",
    "        ha=\"center\", va=\"bottom\", fontsize=fontsize)"
   ]
  },
  {
   "cell_type": "markdown",
   "metadata": {},
   "source": [
    "We could tweak this to handle both horizontal and vertical bar charts, but I find it simpler just to have a separate function, which we’ll `call _hbar` for horizontal bars."
   ]
  },
  {
   "cell_type": "code",
   "execution_count": 1,
   "metadata": {},
   "outputs": [],
   "source": [
    "def datalabel_hbar(ax, fontsize=12):\n",
    "  rects = [rect for rect in ax.get_children() if isinstance(rect, mpl.patches.Rectangle)]\n",
    "  \n",
    "  for rect in rects:\n",
    "    width = rect.get_width()\n",
    "    if width > 1:\n",
    "      ax.annotate(f\"{width:.0f}\", xy=(width, rect.get_y() + rect.get_height() / 2),\n",
    "        xytext=(5,-1), # 5 points offset\n",
    "         textcoords=\"offset points\", ha=\"left\", va=\"center\", fontsize=fontsize)"
   ]
  },
  {
   "cell_type": "markdown",
   "metadata": {},
   "source": [
    "The only required argument for these functions is a matplotlib axes object, which is returned from calling seaborn to create charts.\n",
    "\n",
    "Note that you can change the string formatting of the labels as desired; for example, if you were plotting percentages and wanted them displayed to 2 d.p. you would change the first argument of the call to `.annotate()` above to `f\"{width:.2%}\"`.\n",
    "\n",
    "I also really like the `nice_dates() `function [written by Zi Chong Kao](https://kaomorphism.com/2017/09/10/Sane-Date-Axes.html) for creating hierarchical timeseries axis labels in a smart way. I’ve tweaked it slightly to operate on matplotlib axes objects rather than figure objects as I find it handles sizing a bit better. "
   ]
  },
  {
   "cell_type": "code",
   "execution_count": 1,
   "metadata": {},
   "outputs": [],
   "source": [
    "# Adapted from https://kaomorphism.com/2017/09/10/Sane-Date-Axes.html\n",
    "import pandas as pd\n",
    "import matplotlib.dates as mdates\n",
    "from datetime import timedelta as tdelta\n",
    "from matplotlib.ticker import FuncFormatter\n",
    "\n",
    "INTERVALS = {\n",
    "  'YEARLY'  : [1, 2, 4, 5, 10],\n",
    "  'MONTHLY' : [1, 2, 3, 4, 6],\n",
    "  'DAILY'   : [1, 2],\n",
    "  'WEEKLY'  : [1, 2],\n",
    "  'HOURLY'  : [1, 2, 3, 4, 6, 12],\n",
    "  'MINUTELY': [1, 5, 10, 15, 30],\n",
    "  'SECONDLY': [1, 5, 10, 15, 30],\n",
    "}\n",
    "\n",
    "TICKS_PER_INCH = 1.5\n",
    "\n",
    "def _next_largest(value, options):\n",
    "    for i in options:\n",
    "        if i >= value:\n",
    "            return i\n",
    "    return i\n",
    "\n",
    "def _get_dynamic_formatter(timedelta, *fmts):\n",
    "    def dynamic_formatter(x, pos):\n",
    "        dx = mdates.num2date(x)\n",
    "        strparts = [dx.strftime(fmt) for fmt in fmts]\n",
    "        if pos > 0:\n",
    "            # renders previous tick and removes common parts\n",
    "            prior_dx = dx - timedelta\n",
    "            prior_strparts = [prior_dx.strftime(fmt) for fmt in fmts]\n",
    "            strparts = [new if new != prior else '' for new, prior in zip(strparts, prior_strparts)]\n",
    "        return '\\n'.join(strparts).strip()\n",
    "    return dynamic_formatter\n",
    "\n",
    "\n",
    "def _deduce_locators_formatters(max_ticks, data):\n",
    "    data_interval_seconds = (data.max() - data.min()) / tdelta(seconds=1)\n",
    "    interval_seconds = data_interval_seconds / max_ticks\n",
    "    \n",
    "    if interval_seconds < tdelta(minutes=0.5).total_seconds():\n",
    "        # print(\"xticks: seconds\")\n",
    "        unit_multiple = _next_largest(interval_seconds, INTERVALS['SECONDLY'])\n",
    "        timedelta = tdelta(seconds=unit_multiple)\n",
    "        return (mdates.SecondLocator(bysecond=range(0, 60, unit_multiple)),\n",
    "                FuncFormatter(_get_dynamic_formatter(timedelta, '%M%:S', '%-Hh', '%-d %b')))\n",
    "    elif interval_seconds < tdelta(hours=0.5).total_seconds():\n",
    "        # print(\"xticks: minutes\")\n",
    "        unit_multiple = _next_largest(interval_seconds / tdelta(minutes=1).total_seconds(), INTERVALS['MINUTELY'])\n",
    "        timedelta = tdelta(minutes=unit_multiple)\n",
    "        return (mdates.MinuteLocator(byminute=range(0, 60, unit_multiple)),\n",
    "                FuncFormatter(_get_dynamic_formatter(timedelta, '%H%:M', '%-d %b', '%Y')))\n",
    "    elif interval_seconds < tdelta(days=0.5).total_seconds():\n",
    "        # print(\"xticks: hours\")\n",
    "        unit_multiple = _next_largest(interval_seconds / tdelta(hours=1).total_seconds(), INTERVALS['HOURLY'])\n",
    "        timedelta = tdelta(hours=unit_multiple)\n",
    "        return (mdates.HourLocator(byhour=range(0, 24, unit_multiple)),\n",
    "                FuncFormatter(_get_dynamic_formatter(timedelta, '%-Hh', '%-d %b', '%Y')))\n",
    "    elif interval_seconds < tdelta(days=3).total_seconds():\n",
    "        # print(\"xticks: days\")\n",
    "        unit_multiple = _next_largest(interval_seconds / tdelta(days=1).total_seconds(), INTERVALS['DAILY'])\n",
    "        timedelta = tdelta(days=unit_multiple)\n",
    "        return (mdates.WeekdayLocator(byweekday=range(0, 7, unit_multiple)),\n",
    "                FuncFormatter(_get_dynamic_formatter(timedelta, '%-d', '%b', '%Y')))\n",
    "    elif interval_seconds < tdelta(days=14).total_seconds():\n",
    "        # print(\"xticks: weeks\")\n",
    "        unit_multiple = _next_largest(interval_seconds / tdelta(weeks=1).total_seconds(), INTERVALS['WEEKLY'])\n",
    "        timedelta = tdelta(days=unit_multiple * 7)\n",
    "        return (mdates.WeekdayLocator(byweekday=0, interval=unit_multiple),\n",
    "                FuncFormatter(_get_dynamic_formatter(timedelta, '%-d', '%b', '%Y')))\n",
    "    elif interval_seconds < tdelta(weeks=26).total_seconds():\n",
    "        # print(\"xticks: months\")\n",
    "        unit_multiple = _next_largest(interval_seconds / tdelta(weeks=4).total_seconds(), INTERVALS['MONTHLY'])\n",
    "        timedelta = tdelta(weeks=unit_multiple * 4)\n",
    "        return (mdates.MonthLocator(bymonth=range(1, 13, unit_multiple)),\n",
    "                FuncFormatter(_get_dynamic_formatter(timedelta, '%b', '%Y')))\n",
    "    else:\n",
    "        # print(\"xticks: years\")\n",
    "        unit_multiple = _next_largest(interval_seconds / tdelta(weeks=52).total_seconds(), INTERVALS['YEARLY'])\n",
    "        return (mdates.YearLocator(base=unit_multiple),\n",
    "                mdates.DateFormatter('%Y'))\n",
    "    \n",
    "def nice_dates(ax):\n",
    "    fig = ax.get_figure()\n",
    "    \n",
    "    # information for deciding tick locations\n",
    "    bbox = ax.get_window_extent().transformed(fig.dpi_scale_trans.inverted())\n",
    "    xaxis_length_inch, yaxis_length_inch = bbox.width, bbox.height\n",
    "    max_ticks = xaxis_length_inch * TICKS_PER_INCH\n",
    "    data = pd.to_datetime(ax.lines[0].get_xdata())\n",
    "    \n",
    "    maj_locator, maj_formatter = _deduce_locators_formatters(max_ticks, data)\n",
    "\n",
    "    ax.xaxis.set_major_locator(maj_locator)\n",
    "    ax.xaxis.set_major_formatter(maj_formatter)"
   ]
  },
  {
   "cell_type": "markdown",
   "metadata": {},
   "source": [
    "## Let’s start plotting\n",
    "\n",
    "### 1. Bar chart with data labels\n",
    "For our bar chart we want a horizontal bar chart with countries on the y-axis, and the count of cases per 100,000 people on the x-axis. We’ll filter to just the top 25 countries to make the chart more manageable.\n",
    "\n",
    "Our dataset currently looks like this:"
   ]
  },
  {
   "cell_type": "markdown",
   "metadata": {},
   "source": [
    "![data_1](data.png)"
   ]
  },
  {
   "cell_type": "markdown",
   "metadata": {},
   "source": [
    "We’ll use pandas to sort and filter this data as we pass it into seaborn."
   ]
  },
  {
   "cell_type": "code",
   "execution_count": 3,
   "metadata": {},
   "outputs": [],
   "source": [
    "fig,ax = plt.subplots(figsize=(10,8))\n",
    "g = sns.barplot(\n",
    "  x=\"cases_per100k\", \n",
    "  y=\"Country\", \n",
    "  data=df.sort_values(by=\"cases_per100k\", ascending=False).iloc[:25],\n",
    "  color=sns.color_palette()[0],\n",
    "  saturation=1.,\n",
    ")\n",
    "# add data labels\n",
    "datalabel_hbar(g)\n",
    "# remove x-axis tick labels\n",
    "g.xaxis.set_ticklabels([])\n",
    "# rename axes labels\n",
    "g.set(xlabel='Cases per 100k people', ylabel='Country')\n",
    "# remove border\n",
    "sns.despine(bottom=True);"
   ]
  },
  {
   "cell_type": "markdown",
   "metadata": {},
   "source": [
    "We do a few things here. First, we create top level matplotlib figure and axes objects with plt.subplots(). There are ways of setting the figure size in seaborn, but I find this to be the most commonly used method. Then we call sns.barplot() and pass in our variables and our dataframe, as well as a single color (the list of colors is stored in sns.color_palette()), and an override of the saturation (which seaborn defaults to 0.75).\n",
    "\n",
    "Importantly, this is all saved as a variable g (which is a matplotlib axes object), making it easy to apply additional tweaks to various aspects of the chart. For example, we can pass this g axes to our datalabel_hbar() helper function to add data labels. We then grab the x-axis and set the tick labels to and empty list (effectively removing them), rename the x and y axis labels with sns.set(), and finally, use despine to remove the top, right, and bottom axes “spines”.\n",
    "\n",
    "The above results in the following output:"
   ]
  },
  {
   "cell_type": "markdown",
   "metadata": {},
   "source": [
    "![](fig_1.png)"
   ]
  },
  {
   "cell_type": "markdown",
   "metadata": {},
   "source": [
    "Looking pretty good! If you think the x-axis tick labels should be in there, simply delete the line that we added to remove them.\n",
    "\n",
    "### 2. Line chart with timeseries axis\n",
    "Looking at our dataset we see that the countries are grouped into “WHO_regions”. Let’s calculate a 7-day rolling average of new cases reported per region.\n",
    "\n",
    "First we aggregate the countries into regions, taking the sum of the daily new case numbers:"
   ]
  },
  {
   "cell_type": "code",
   "execution_count": 4,
   "metadata": {},
   "outputs": [],
   "source": [
    "dff = df.groupby(['Date_reported', 'WHO_region']).agg(\n",
    "  {'New_cases': 'sum'}\n",
    ").reset_index()"
   ]
  },
  {
   "cell_type": "markdown",
   "metadata": {},
   "source": [
    "Then we’ll apply pandas `.rolling()` method per region with a 7 day window, taking the mean of new cases reported:"
   ]
  },
  {
   "cell_type": "code",
   "execution_count": 5,
   "metadata": {},
   "outputs": [],
   "source": [
    "p = dff.groupby('WHO_region').apply(\n",
    "  lambda x: x.set_index(\"Date_reported\").rolling(window='7d').mean()\n",
    ").reset_index().rename(columns={\n",
    "  'New_cases': 'New_cases_rolling',\n",
    "})"
   ]
  },
  {
   "cell_type": "markdown",
   "metadata": {},
   "source": [
    "![](data_2.png)"
   ]
  },
  {
   "cell_type": "markdown",
   "metadata": {},
   "source": [
    "We’ll now use seaborn’s `lineplot() `function to create a line chart of the daily new cases by region."
   ]
  },
  {
   "cell_type": "code",
   "execution_count": 6,
   "metadata": {},
   "outputs": [],
   "source": [
    "# set figure asthetics\n",
    "sns.set_context(rc={'lines.linewidth': 2.5})\n",
    "g = sns.lineplot(\n",
    "  data=p, \n",
    "  x=\"Date_reported\", \n",
    "  y=\"New_cases_rolling\", \n",
    "  hue=\"WHO_region\",\n",
    ")\n",
    "# format dates on x-axis\n",
    "nice_dates(g)\n",
    "# move legend outside plot\n",
    "g.legend(loc=2, bbox_to_anchor=(1.05, 1))\n",
    "# # rename axes labels\n",
    "g.set(xlabel=\"\", ylabel=\"Daily new cases (7d rolling avg)\")\n",
    "# remove x gridlines\n",
    "g.xaxis.grid(False)\n",
    "# despine top and right borders\n",
    "sns.despine(left=True, bottom=True);"
   ]
  },
  {
   "cell_type": "markdown",
   "metadata": {},
   "source": [
    "To make this chart a bit clearer we increased the linewidth by using the sns.set_context() method and passing an “rc” param. To see what other params are available for tweaking in this way you can run sns.plotting_context() (with no params passed) and it will print out the default values. Other params are also stored in sns.axes_style(), but those are set in a slightly different way.\n",
    "\n",
    "Other styling we applied to the above chart was the use of the helper function nice_dates() to format the timeseries axis in a hierarchical manner, moving the legend to outside of the plot area, renaming the axes, removing vertical gridlines, and despining all sides of the plot (note: top and right are True by default, whereas left and bottom are False by default).\n",
    "\n",
    "This results in the following chart output."
   ]
  },
  {
   "cell_type": "markdown",
   "metadata": {},
   "source": [
    "![](fig_2.png)"
   ]
  },
  {
   "cell_type": "markdown",
   "metadata": {},
   "source": [
    "### 3. Small multiples/facet grid\n",
    "For the FacetGrid example we’ll filter our dataset to include only the top 8 countries by total number of cases and will overlay the daily new cases reported with the 7-day rolling average. Make sure that the data is in a “tidy” format before plotting.\n",
    "\n",
    "To generate our layered chart we’ll use seaborn’s FacetGrid object and overlay a seaborn lineplot and a matplotlib barplot. I find it’s easiest to use pandas for sorting/ordering the data before passing to the plotting functions, which we do here by making use of the pandas categorical data type so that we can sort the countries by passing a list of values. The full code looks like this:"
   ]
  },
  {
   "cell_type": "code",
   "execution_count": 2,
   "metadata": {},
   "outputs": [],
   "source": [
    "# restrict to just the top 8 countries by total cases\n",
    "countries = df.groupby('Country')['Cumulative_cases'].max().sort_values(ascending=False).index[:8]\n",
    "p = df.loc[df['Country'].isin(countries)]\n",
    "p['Country_cat'] = pd.Categorical(\n",
    "  p['Country'], \n",
    "  categories=countries, \n",
    "  ordered=True\n",
    ")\n",
    "data_sorted = p.sort_values(by='Country_cat')\n",
    "# create facet grid\n",
    "g = sns.FacetGrid(\n",
    "  data=data_sorted, \n",
    "  col=\"Country\", \n",
    "  col_wrap=4\n",
    ")\n",
    "# map the bar plot using a matplotlib plotting function\n",
    "g.map(plt.bar, \"Date_reported\", \"New_cases\", color=\"b\", alpha=0.4)\n",
    "# map the lineplot using seaborn\n",
    "kws_line = dict(\n",
    "  x=\"Date_reported\",\n",
    "  y=\"New_cases_rolling\",\n",
    ")\n",
    "g.map_dataframe(sns.lineplot, **kws_line)\n",
    "# set subtitles and axis titles\n",
    "g.set_titles(\"{col_name}\")\n",
    "# apply nicely formatted timeseries labels to bottom row\n",
    "for ax in g.axes:\n",
    "  nice_dates(ax)\n"
   ]
  },
  {
   "cell_type": "markdown",
   "metadata": {},
   "source": [
    "A few things to note here. I like to use the .map_dataframe() method rather than .map() when using a seaborn plotting function. I find it a bit simpler to list out the params as key word arguments in a seperate kws = dict() variable and then unpack them rather than relying on the positional arguments that must be passed if using .map(). However, do note that this relies on the data being in a tidy format already, and so if using a matplotlib plotting function (e.g. plt.bar) where the data passed is not in the tidy format that seaborn prefers, then using .map() with the positional arguments would be better (or necessary).\n",
    "\n",
    "The g returned here is no longer a matplotlib axes object but rather a seaborn FacetGrid object, and so setting additional style parameters is a bit different. We use the nifty .set_titles(\"{col_name}\") method to override the default seaborn style of having the title of each subplot as “var_name = col_name”. We also looped through the matplotlib axes (fetched from g.axes) to apply the nice_dates() helper function to nicely format the datetime axis. FacetGrid despines the subplots be default, so we don’t need to call that here.\n",
    "\n",
    "The final chart output looks like this."
   ]
  },
  {
   "cell_type": "markdown",
   "metadata": {},
   "source": [
    "![](fig_3.png)"
   ]
  },
  {
   "cell_type": "markdown",
   "metadata": {},
   "source": [
    "You can map multiple charts onto the same FacetGrid object, but just make sure the data is being passed correctly (i.e. using .map() or .map_dataframe()). This creates really useful and data rich visualisations.\n",
    "\n",
    "### 4. Saving figures\n",
    "Saving charts in seaborn is very straightforward and leverages matplotlib’s savefig() functionality. However, there is a slight difference between the single charts shown above and the facet chart.\n",
    "\n",
    "The single charts return a matplotlib axes object, which we store in the variable g. To call .savefig() we actually first need to get the figure object. For example:"
   ]
  },
  {
   "cell_type": "code",
   "execution_count": 3,
   "metadata": {},
   "outputs": [],
   "source": [
    "fig = g.get_figure()\n",
    "fig.savefig('example_chart.svg', bbox_inches=\"tight\")"
   ]
  },
  {
   "cell_type": "markdown",
   "metadata": {},
   "source": [
    "The facet chart doesn’t return a matplotlib axes object, but rather a seaborn FacetGrid object, which we store in the variable g. Seaborn has built the .savefig() method directly into this object, and so saving a facet chart is as easy as:"
   ]
  },
  {
   "cell_type": "code",
   "execution_count": 4,
   "metadata": {},
   "outputs": [],
   "source": [
    "g.savefig('example_facet_chart.svg', bbox_inches=\"tight\")"
   ]
  },
  {
   "cell_type": "markdown",
   "metadata": {},
   "source": [
    "Alternatively, if you’d like to keep it consistent you can first grab the matplotlib figure object with .fig, then save in the usual way:"
   ]
  },
  {
   "cell_type": "code",
   "execution_count": 5,
   "metadata": {},
   "outputs": [],
   "source": [
    "fig = g.fig # note: fig is an attribute not a method\n",
    "fig.savefig('example_facet_chart.svg', bbox_inches=\"tight\")"
   ]
  },
  {
   "cell_type": "markdown",
   "metadata": {},
   "source": [
    "## Summary\n",
    "There is obviously a bunch more you can do by digging through all the possible matplotlib objects and functions, but it does get pretty overwhelming pretty quickly.\n",
    "\n",
    "The seriousness of the data underlying these examples is nothing to take lightly. However it is important that we can interpret and communicate issues in our society accurately and fairly, and so giving ourselves the skills to do so can help to make the available information more democratic and robust.\n",
    "\n",
    "For some useful resources on communicating data honestly and effectively, I can highly recommend the following:\n",
    "\n",
    "- [Storytelling with Data](http://www.storytellingwithdata.com/) — a classic data viz blog and book\n",
    "- [The WSJ Guide to Information Graphics](https://www.goodreads.com/book/show/6542897-the-wall-street-journal-guide-to-information-graphics) by Dona M. Wong"
   ]
  },
  {
   "cell_type": "markdown",
   "metadata": {},
   "source": [
    "<div class=\"admonition note alert alert-info\">\n",
    "<p class=\"first admonition-title\" style=\"font-weight: bold;\">Note</p>\n",
    "<p>The content in this notebook was copied from https://medium.com/@tttgm/styling-charts-in-seaborn-92136331a541</p>\n",
    "</div>"
   ]
  },
  {
   "cell_type": "markdown",
   "metadata": {},
   "source": []
  }
 ],
 "metadata": {
  "interpreter": {
   "hash": "b0cb5eec75f00c60d6e94fb7f3e856db3d16411bddc29eaf83ceaaca544d18b3"
  },
  "kernelspec": {
   "display_name": "Python 3.9.13 ('base')",
   "language": "python",
   "name": "python3"
  },
  "language_info": {
   "codemirror_mode": {
    "name": "ipython",
    "version": 3
   },
   "file_extension": ".py",
   "mimetype": "text/x-python",
   "name": "python",
   "nbconvert_exporter": "python",
   "pygments_lexer": "ipython3",
   "version": "3.9.13"
  },
  "orig_nbformat": 4
 },
 "nbformat": 4,
 "nbformat_minor": 2
}

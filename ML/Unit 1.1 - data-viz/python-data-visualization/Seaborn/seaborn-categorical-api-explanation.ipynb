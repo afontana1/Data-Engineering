{
 "cells": [
  {
   "cell_type": "markdown",
   "metadata": {
    "papermill": {
     "duration": 0.012545,
     "end_time": "2021-03-06T06:36:51.499560",
     "exception": false,
     "start_time": "2021-03-06T06:36:51.487015",
     "status": "completed"
    },
    "tags": []
   },
   "source": [
    "## WIP"
   ]
  },
  {
   "cell_type": "code",
   "execution_count": 1,
   "metadata": {
    "_cell_guid": "b1076dfc-b9ad-4769-8c92-a6c4dae69d19",
    "_uuid": "8f2839f25d086af736a60e9eeb907d3b93b6e0e5",
    "execution": {
     "iopub.execute_input": "2021-03-06T06:36:51.530277Z",
     "iopub.status.busy": "2021-03-06T06:36:51.528988Z",
     "iopub.status.idle": "2021-03-06T06:36:52.320195Z",
     "shell.execute_reply": "2021-03-06T06:36:52.321415Z"
    },
    "papermill": {
     "duration": 0.810792,
     "end_time": "2021-03-06T06:36:52.321892",
     "exception": false,
     "start_time": "2021-03-06T06:36:51.511100",
     "status": "completed"
    },
    "tags": []
   },
   "outputs": [
    {
     "name": "stdout",
     "output_type": "stream",
     "text": [
      "3.3.3\n",
      "0.11.1\n"
     ]
    }
   ],
   "source": [
    "import numpy as np\n",
    "import pandas as pd\n",
    "import matplotlib as mpl\n",
    "import matplotlib.pyplot as plt\n",
    "import seaborn as sns\n",
    "\n",
    "print(mpl.__version__)\n",
    "print(sns.__version__)\n",
    "\n",
    "plt.rcParams['font.family'] = \"serif\""
   ]
  },
  {
   "cell_type": "code",
   "execution_count": 2,
   "metadata": {
    "execution": {
     "iopub.execute_input": "2021-03-06T06:36:52.353228Z",
     "iopub.status.busy": "2021-03-06T06:36:52.352452Z",
     "iopub.status.idle": "2021-03-06T06:36:52.401163Z",
     "shell.execute_reply": "2021-03-06T06:36:52.400539Z"
    },
    "papermill": {
     "duration": 0.065619,
     "end_time": "2021-03-06T06:36:52.401342",
     "exception": false,
     "start_time": "2021-03-06T06:36:52.335723",
     "status": "completed"
    },
    "tags": []
   },
   "outputs": [
    {
     "data": {
      "text/html": [
       "<div>\n",
       "<style scoped>\n",
       "    .dataframe tbody tr th:only-of-type {\n",
       "        vertical-align: middle;\n",
       "    }\n",
       "\n",
       "    .dataframe tbody tr th {\n",
       "        vertical-align: top;\n",
       "    }\n",
       "\n",
       "    .dataframe thead th {\n",
       "        text-align: right;\n",
       "    }\n",
       "</style>\n",
       "<table border=\"1\" class=\"dataframe\">\n",
       "  <thead>\n",
       "    <tr style=\"text-align: right;\">\n",
       "      <th></th>\n",
       "      <th>gender</th>\n",
       "      <th>race/ethnicity</th>\n",
       "      <th>parental level of education</th>\n",
       "      <th>lunch</th>\n",
       "      <th>test preparation course</th>\n",
       "      <th>math score</th>\n",
       "      <th>reading score</th>\n",
       "      <th>writing score</th>\n",
       "    </tr>\n",
       "  </thead>\n",
       "  <tbody>\n",
       "    <tr>\n",
       "      <th>0</th>\n",
       "      <td>female</td>\n",
       "      <td>group B</td>\n",
       "      <td>bachelor's degree</td>\n",
       "      <td>standard</td>\n",
       "      <td>none</td>\n",
       "      <td>72</td>\n",
       "      <td>72</td>\n",
       "      <td>74</td>\n",
       "    </tr>\n",
       "    <tr>\n",
       "      <th>1</th>\n",
       "      <td>female</td>\n",
       "      <td>group C</td>\n",
       "      <td>some college</td>\n",
       "      <td>standard</td>\n",
       "      <td>completed</td>\n",
       "      <td>69</td>\n",
       "      <td>90</td>\n",
       "      <td>88</td>\n",
       "    </tr>\n",
       "    <tr>\n",
       "      <th>2</th>\n",
       "      <td>female</td>\n",
       "      <td>group B</td>\n",
       "      <td>master's degree</td>\n",
       "      <td>standard</td>\n",
       "      <td>none</td>\n",
       "      <td>90</td>\n",
       "      <td>95</td>\n",
       "      <td>93</td>\n",
       "    </tr>\n",
       "    <tr>\n",
       "      <th>3</th>\n",
       "      <td>male</td>\n",
       "      <td>group A</td>\n",
       "      <td>associate's degree</td>\n",
       "      <td>free/reduced</td>\n",
       "      <td>none</td>\n",
       "      <td>47</td>\n",
       "      <td>57</td>\n",
       "      <td>44</td>\n",
       "    </tr>\n",
       "    <tr>\n",
       "      <th>4</th>\n",
       "      <td>male</td>\n",
       "      <td>group C</td>\n",
       "      <td>some college</td>\n",
       "      <td>standard</td>\n",
       "      <td>none</td>\n",
       "      <td>76</td>\n",
       "      <td>78</td>\n",
       "      <td>75</td>\n",
       "    </tr>\n",
       "  </tbody>\n",
       "</table>\n",
       "</div>"
      ],
      "text/plain": [
       "   gender race/ethnicity parental level of education         lunch  \\\n",
       "0  female        group B           bachelor's degree      standard   \n",
       "1  female        group C                some college      standard   \n",
       "2  female        group B             master's degree      standard   \n",
       "3    male        group A          associate's degree  free/reduced   \n",
       "4    male        group C                some college      standard   \n",
       "\n",
       "  test preparation course  math score  reading score  writing score  \n",
       "0                    none          72             72             74  \n",
       "1               completed          69             90             88  \n",
       "2                    none          90             95             93  \n",
       "3                    none          47             57             44  \n",
       "4                    none          76             78             75  "
      ]
     },
     "execution_count": 2,
     "metadata": {},
     "output_type": "execute_result"
    }
   ],
   "source": [
    "data = pd.read_csv('/kaggle/input/students-performance-in-exams/StudentsPerformance.csv')\n",
    "data.head()"
   ]
  },
  {
   "cell_type": "markdown",
   "metadata": {
    "papermill": {
     "duration": 0.011857,
     "end_time": "2021-03-06T06:36:52.425566",
     "exception": false,
     "start_time": "2021-03-06T06:36:52.413709",
     "status": "completed"
    },
    "tags": []
   },
   "source": [
    "## Countplot\n",
    "\n",
    "### Basic Countplot\n",
    "\n",
    "- unordered\n",
    "- no margins\n",
    "- no text information"
   ]
  },
  {
   "cell_type": "code",
   "execution_count": 3,
   "metadata": {
    "execution": {
     "iopub.execute_input": "2021-03-06T06:36:52.464034Z",
     "iopub.status.busy": "2021-03-06T06:36:52.463215Z",
     "iopub.status.idle": "2021-03-06T06:36:52.635104Z",
     "shell.execute_reply": "2021-03-06T06:36:52.634566Z"
    },
    "papermill": {
     "duration": 0.196725,
     "end_time": "2021-03-06T06:36:52.635264",
     "exception": false,
     "start_time": "2021-03-06T06:36:52.438539",
     "status": "completed"
    },
    "tags": []
   },
   "outputs": [
    {
     "data": {
      "image/png": "[encoded data removed]",
      "text/plain": [
       "<Figure size 864x360 with 1 Axes>"
      ]
     },
     "metadata": {
      "needs_background": "light"
     },
     "output_type": "display_data"
    }
   ],
   "source": [
    "fig, ax = plt.subplots(1, 1, figsize=(12, 5))\n",
    "sns.countplot(x='race/ethnicity', data=data, ax=ax)\n",
    "plt.show()"
   ]
  },
  {
   "cell_type": "markdown",
   "metadata": {
    "papermill": {
     "duration": 0.014415,
     "end_time": "2021-03-06T06:36:52.663172",
     "exception": false,
     "start_time": "2021-03-06T06:36:52.648757",
     "status": "completed"
    },
    "tags": []
   },
   "source": [
    "### Ordered Version\n"
   ]
  },
  {
   "cell_type": "code",
   "execution_count": 4,
   "metadata": {
    "execution": {
     "iopub.execute_input": "2021-03-06T06:36:52.719795Z",
     "iopub.status.busy": "2021-03-06T06:36:52.716984Z",
     "iopub.status.idle": "2021-03-06T06:36:52.848197Z",
     "shell.execute_reply": "2021-03-06T06:36:52.847521Z"
    },
    "papermill": {
     "duration": 0.171823,
     "end_time": "2021-03-06T06:36:52.848367",
     "exception": false,
     "start_time": "2021-03-06T06:36:52.676544",
     "status": "completed"
    },
    "tags": []
   },
   "outputs": [
    {
     "data": {
      "image/png": "[encoded data removed]",
      "text/plain": [
       "<Figure size 864x360 with 1 Axes>"
      ]
     },
     "metadata": {
      "needs_background": "light"
     },
     "output_type": "display_data"
    }
   ],
   "source": [
    "fig, ax = plt.subplots(1, 1, figsize=(12, 5))\n",
    "sns.countplot(x='race/ethnicity', \n",
    "              order=sorted(data['race/ethnicity'].unique()),\n",
    "              data=data, ax=ax)\n",
    "plt.show()"
   ]
  },
  {
   "cell_type": "markdown",
   "metadata": {
    "papermill": {
     "duration": 0.014062,
     "end_time": "2021-03-06T06:36:52.876793",
     "exception": false,
     "start_time": "2021-03-06T06:36:52.862731",
     "status": "completed"
    },
    "tags": []
   },
   "source": [
    "### Grouped Version \n",
    "\n",
    "Same Bars but diffent Information"
   ]
  },
  {
   "cell_type": "code",
   "execution_count": 5,
   "metadata": {
    "execution": {
     "iopub.execute_input": "2021-03-06T06:36:53.006651Z",
     "iopub.status.busy": "2021-03-06T06:36:52.992213Z",
     "iopub.status.idle": "2021-03-06T06:36:53.369728Z",
     "shell.execute_reply": "2021-03-06T06:36:53.369057Z"
    },
    "papermill": {
     "duration": 0.478833,
     "end_time": "2021-03-06T06:36:53.369889",
     "exception": false,
     "start_time": "2021-03-06T06:36:52.891056",
     "status": "completed"
    },
    "tags": []
   },
   "outputs": [
    {
     "data": {
      "image/png": "[encoded data removed]",
      "text/plain": [
       "<Figure size 1080x504 with 2 Axes>"
      ]
     },
     "metadata": {
      "needs_background": "light"
     },
     "output_type": "display_data"
    }
   ],
   "source": [
    "fig, axes = plt.subplots(1, 2, figsize=(15, 7), sharey=True)\n",
    "sns.countplot(x='race/ethnicity', \n",
    "              order=sorted(data['race/ethnicity'].unique()),\n",
    "              hue='gender',\n",
    "              data=data, ax=axes[0])\n",
    "\n",
    "sns.countplot(x='gender', \n",
    "              hue='race/ethnicity',\n",
    "              data=data, ax=axes[1])\n",
    "\n",
    "axes[0].set_title('Grouped By Race/Ethnicity')\n",
    "axes[1].set_title('Grouped By Gender')\n",
    "plt.show()"
   ]
  },
  {
   "cell_type": "markdown",
   "metadata": {
    "papermill": {
     "duration": 0.015086,
     "end_time": "2021-03-06T06:36:53.400240",
     "exception": false,
     "start_time": "2021-03-06T06:36:53.385154",
     "status": "completed"
    },
    "tags": []
   },
   "source": [
    "### Custom Setting with Matplotlib\n",
    "\n",
    "- Palette\n",
    "- Edge"
   ]
  },
  {
   "cell_type": "code",
   "execution_count": 6,
   "metadata": {
    "execution": {
     "iopub.execute_input": "2021-03-06T06:36:53.460044Z",
     "iopub.status.busy": "2021-03-06T06:36:53.455242Z",
     "iopub.status.idle": "2021-03-06T06:36:53.643928Z",
     "shell.execute_reply": "2021-03-06T06:36:53.643225Z"
    },
    "papermill": {
     "duration": 0.227177,
     "end_time": "2021-03-06T06:36:53.644090",
     "exception": false,
     "start_time": "2021-03-06T06:36:53.416913",
     "status": "completed"
    },
    "tags": []
   },
   "outputs": [
    {
     "data": {
      "image/png": "[encoded data removed]",
      "text/plain": [
       "<Figure size 864x504 with 1 Axes>"
      ]
     },
     "metadata": {
      "needs_background": "light"
     },
     "output_type": "display_data"
    }
   ],
   "source": [
    "fig, ax = plt.subplots(1, 1, figsize=(12, 7), sharey=True)\n",
    "\n",
    "sns.countplot(x='race/ethnicity', \n",
    "              order=sorted(data['race/ethnicity'].unique()),\n",
    "              hue='gender',\n",
    "              edgecolor=(0,0,0),\n",
    "              linewidth=2,\n",
    "              palette='Set2',\n",
    "              data=data, ax=ax)\n",
    "\n",
    "plt.show()"
   ]
  },
  {
   "cell_type": "markdown",
   "metadata": {
    "papermill": {
     "duration": 0.01601,
     "end_time": "2021-03-06T06:36:53.676554",
     "exception": false,
     "start_time": "2021-03-06T06:36:53.660544",
     "status": "completed"
    },
    "tags": []
   },
   "source": [
    "\n",
    "- margins\n",
    "- spines"
   ]
  },
  {
   "cell_type": "code",
   "execution_count": 7,
   "metadata": {
    "execution": {
     "iopub.execute_input": "2021-03-06T06:36:53.742256Z",
     "iopub.status.busy": "2021-03-06T06:36:53.732060Z",
     "iopub.status.idle": "2021-03-06T06:36:53.909485Z",
     "shell.execute_reply": "2021-03-06T06:36:53.908784Z"
    },
    "papermill": {
     "duration": 0.216185,
     "end_time": "2021-03-06T06:36:53.909656",
     "exception": false,
     "start_time": "2021-03-06T06:36:53.693471",
     "status": "completed"
    },
    "tags": []
   },
   "outputs": [
    {
     "data": {
      "image/png": "[encoded data removed]",
      "text/plain": [
       "<Figure size 864x504 with 1 Axes>"
      ]
     },
     "metadata": {
      "needs_background": "light"
     },
     "output_type": "display_data"
    }
   ],
   "source": [
    "fig, ax = plt.subplots(1, 1, figsize=(12, 7), sharey=True)\n",
    "\n",
    "sns.countplot(x='race/ethnicity', \n",
    "              order=sorted(data['race/ethnicity'].unique()),\n",
    "              hue='gender',\n",
    "              edgecolor=(0,0,0),\n",
    "              linewidth=2,\n",
    "              palette='Set2',\n",
    "              data=data, ax=ax)\n",
    "\n",
    "\n",
    "ax.margins(0.05, 0.3)\n",
    "ax.spines['top'].set_visible(False)\n",
    "ax.spines['right'].set_visible(False)\n",
    "plt.show()\n"
   ]
  },
  {
   "cell_type": "markdown",
   "metadata": {
    "papermill": {
     "duration": 0.017144,
     "end_time": "2021-03-06T06:36:53.943847",
     "exception": false,
     "start_time": "2021-03-06T06:36:53.926703",
     "status": "completed"
    },
    "tags": []
   },
   "source": [
    "- title\n",
    "- xlabel, ylabel"
   ]
  },
  {
   "cell_type": "code",
   "execution_count": 8,
   "metadata": {
    "execution": {
     "iopub.execute_input": "2021-03-06T06:36:54.010864Z",
     "iopub.status.busy": "2021-03-06T06:36:54.003860Z",
     "iopub.status.idle": "2021-03-06T06:36:54.198940Z",
     "shell.execute_reply": "2021-03-06T06:36:54.198376Z"
    },
    "papermill": {
     "duration": 0.238332,
     "end_time": "2021-03-06T06:36:54.199100",
     "exception": false,
     "start_time": "2021-03-06T06:36:53.960768",
     "status": "completed"
    },
    "tags": []
   },
   "outputs": [
    {
     "data": {
      "image/png": "[encoded data removed]",
      "text/plain": [
       "<Figure size 864x504 with 1 Axes>"
      ]
     },
     "metadata": {
      "needs_background": "light"
     },
     "output_type": "display_data"
    }
   ],
   "source": [
    "fig, ax = plt.subplots(1, 1, figsize=(12, 7), sharey=True)\n",
    "\n",
    "sns.countplot(x='race/ethnicity', \n",
    "              order=sorted(data['race/ethnicity'].unique()),\n",
    "              hue='gender',\n",
    "              edgecolor=(0,0,0),\n",
    "              linewidth=2,\n",
    "              palette='Set2',\n",
    "              data=data, ax=ax)\n",
    "\n",
    "\n",
    "ax.margins(0.05, 0.3)\n",
    "ax.set_title('Grouped By Race/Ethnicity', fontsize=15, fontweight='semibold', loc='left')\n",
    "ax.spines['top'].set_visible(False)\n",
    "ax.spines['right'].set_visible(False)\n",
    "\n",
    "ax.set_title('Grouped By Race/Ethnicity', fontsize=15, fontweight='semibold', loc='left')\n",
    "ax.yaxis.label.set_size(12)\n",
    "ax.xaxis.label.set_size(12)\n",
    "\n",
    "plt.show()"
   ]
  },
  {
   "cell_type": "markdown",
   "metadata": {
    "papermill": {
     "duration": 0.01767,
     "end_time": "2021-03-06T06:36:54.234958",
     "exception": false,
     "start_time": "2021-03-06T06:36:54.217288",
     "status": "completed"
    },
    "tags": []
   },
   "source": [
    "- annotation"
   ]
  },
  {
   "cell_type": "code",
   "execution_count": 9,
   "metadata": {
    "execution": {
     "iopub.execute_input": "2021-03-06T06:36:54.302969Z",
     "iopub.status.busy": "2021-03-06T06:36:54.297236Z",
     "iopub.status.idle": "2021-03-06T06:36:54.536719Z",
     "shell.execute_reply": "2021-03-06T06:36:54.535326Z"
    },
    "papermill": {
     "duration": 0.283181,
     "end_time": "2021-03-06T06:36:54.537109",
     "exception": false,
     "start_time": "2021-03-06T06:36:54.253928",
     "status": "completed"
    },
    "tags": []
   },
   "outputs": [
    {
     "data": {
      "image/png": "[encoded data removed]",
      "text/plain": [
       "<Figure size 864x504 with 1 Axes>"
      ]
     },
     "metadata": {
      "needs_background": "light"
     },
     "output_type": "display_data"
    }
   ],
   "source": [
    "fig, ax = plt.subplots(1, 1, figsize=(12, 7), sharey=True)\n",
    "\n",
    "sns.countplot(x='race/ethnicity', \n",
    "              order=sorted(data['race/ethnicity'].unique()),\n",
    "              hue='gender',\n",
    "              edgecolor=(0,0,0),\n",
    "              linewidth=2,\n",
    "              palette='Set2',\n",
    "              data=data, ax=ax)\n",
    "\n",
    "\n",
    "ax.margins(0.05, 0.3)\n",
    "ax.set_title('Grouped By Race/Ethnicity', fontsize=17, fontweight='semibold', loc='left')\n",
    "ax.spines['top'].set_visible(False)\n",
    "ax.spines['right'].set_visible(False)\n",
    "\n",
    "ax.yaxis.label.set_size(12)\n",
    "ax.xaxis.label.set_size(12)\n",
    "\n",
    "# Annotation\n",
    "for p in ax.patches:\n",
    "    x=p.get_bbox().get_points()[:,0]\n",
    "    y=p.get_bbox().get_points()[1,1]\n",
    "    ax.annotate(f'{100*y/len(data):.4}%', (x.mean(), y+1), \n",
    "                ha='center', va='bottom')\n",
    "\n",
    "# Legend\n",
    "l = ax.legend()  \n",
    "plt.setp(l.texts, fontsize=13)     \n",
    "    \n",
    "plt.show()"
   ]
  },
  {
   "cell_type": "markdown",
   "metadata": {
    "papermill": {
     "duration": 0.025775,
     "end_time": "2021-03-06T06:36:54.595816",
     "exception": false,
     "start_time": "2021-03-06T06:36:54.570041",
     "status": "completed"
    },
    "tags": []
   },
   "source": [
    "### Compare"
   ]
  },
  {
   "cell_type": "code",
   "execution_count": 10,
   "metadata": {
    "execution": {
     "iopub.execute_input": "2021-03-06T06:36:54.675946Z",
     "iopub.status.busy": "2021-03-06T06:36:54.662583Z",
     "iopub.status.idle": "2021-03-06T06:36:55.134437Z",
     "shell.execute_reply": "2021-03-06T06:36:55.134998Z"
    },
    "papermill": {
     "duration": 0.507433,
     "end_time": "2021-03-06T06:36:55.135195",
     "exception": false,
     "start_time": "2021-03-06T06:36:54.627762",
     "status": "completed"
    },
    "tags": []
   },
   "outputs": [
    {
     "data": {
      "image/png": "[encoded data removed]",
      "text/plain": [
       "<Figure size 1440x504 with 2 Axes>"
      ]
     },
     "metadata": {
      "needs_background": "light"
     },
     "output_type": "display_data"
    }
   ],
   "source": [
    "fig = plt.figure(figsize=(20, 7))\n",
    "\n",
    "ax = fig.add_subplot(1, 2, 1)\n",
    "sns.countplot(x='race/ethnicity', \n",
    "              hue='gender',\n",
    "              data=data, ax=ax)\n",
    "\n",
    "ax = fig.add_subplot(1, 2, 2)\n",
    "\n",
    "sns.countplot(x='race/ethnicity', \n",
    "              order=sorted(data['race/ethnicity'].unique()),\n",
    "              hue='gender',\n",
    "              edgecolor=(0,0,0),\n",
    "              linewidth=2,\n",
    "              palette='Set2',\n",
    "              data=data, ax=ax)\n",
    "\n",
    "\n",
    "ax.margins(0.05, 0.3)\n",
    "ax.set_title('Grouped By Race/Ethnicity', fontsize=17, fontweight='semibold', loc='left')\n",
    "ax.spines['top'].set_visible(False)\n",
    "ax.spines['right'].set_visible(False)\n",
    "ax.yaxis.label.set_size(14)\n",
    "ax.xaxis.label.set_size(14)\n",
    "\n",
    "# Annotation\n",
    "for p in ax.patches:\n",
    "    x=p.get_bbox().get_points()[:,0]\n",
    "    y=p.get_bbox().get_points()[1,1]\n",
    "    ax.annotate(f'{100*y/len(data):.4}%', (x.mean(), y+1), \n",
    "                ha='center', va='bottom')\n",
    "\n",
    "# Legend\n",
    "l = ax.legend()  \n",
    "plt.setp(l.texts, fontsize=13)    \n",
    "    \n",
    "plt.tight_layout()\n",
    "plt.show()"
   ]
  },
  {
   "cell_type": "code",
   "execution_count": null,
   "metadata": {
    "papermill": {
     "duration": 0.019679,
     "end_time": "2021-03-06T06:36:55.175133",
     "exception": false,
     "start_time": "2021-03-06T06:36:55.155454",
     "status": "completed"
    },
    "tags": []
   },
   "outputs": [],
   "source": []
  }
 ],
 "metadata": {
  "kernelspec": {
   "display_name": "Python 3",
   "language": "python",
   "name": "python3"
  },
  "language_info": {
   "codemirror_mode": {
    "name": "ipython",
    "version": 3
   },
   "file_extension": ".py",
   "mimetype": "text/x-python",
   "name": "python",
   "nbconvert_exporter": "python",
   "pygments_lexer": "ipython3",
   "version": "3.7.9"
  },
  "papermill": {
   "default_parameters": {},
   "duration": 10.230373,
   "end_time": "2021-03-06T06:36:55.804806",
   "environment_variables": {},
   "exception": null,
   "input_path": "__notebook__.ipynb",
   "output_path": "__notebook__.ipynb",
   "parameters": {},
   "start_time": "2021-03-06T06:36:45.574433",
   "version": "2.2.2"
  }
 },
 "nbformat": 4,
 "nbformat_minor": 4
}

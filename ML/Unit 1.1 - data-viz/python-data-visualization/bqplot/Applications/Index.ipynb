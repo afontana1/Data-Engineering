{
 "cells": [
  {
   "cell_type": "markdown",
   "metadata": {},
   "source": [
    "## Applications\n",
    "\n",
    "Index of advanced applications and dashboards built using `bqplot` and `ipywidgets`. \n",
    "\n",
    "<b>Some of these examples will not be rendered well in the output cell of the notebook. These can be rendered on full screen using [voila](https://github.com/voila-dashboards/voila).</b>\n",
    "\n",
    "1. [Logs Analytics](Logs%20Analytics/Logs%20Dashboard.ipynb)\n",
    "2. Wealth Of Nations\n",
    "    * [Bubble Chart](Wealth%20Of%20Nations/Bubble%20Chart.ipynb)\n",
    "    * [Choropleth](Wealth%20Of%20Nations/Choropleth.ipynb)\n",
    "3. [US Equity Index Performance](Equity%20Index%20Performance/Time%20Series.ipynb)"
   ]
  }
 ],
 "metadata": {
  "kernelspec": {
   "display_name": "Python 3",
   "language": "python",
   "name": "python3"
  },
  "language_info": {
   "codemirror_mode": {
    "name": "ipython",
    "version": 3
   },
   "file_extension": ".py",
   "mimetype": "text/x-python",
   "name": "python",
   "nbconvert_exporter": "python",
   "pygments_lexer": "ipython3",
   "version": "3.8.2"
  }
 },
 "nbformat": 4,
 "nbformat_minor": 1
}

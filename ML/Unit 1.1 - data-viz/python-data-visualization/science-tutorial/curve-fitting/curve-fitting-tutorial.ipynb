{
 "cells": [
  {
   "cell_type": "markdown",
   "metadata": {},
   "source": [
    "# Import packages"
   ]
  },
  {
   "cell_type": "code",
   "execution_count": 1,
   "metadata": {},
   "outputs": [],
   "source": [
    "# Import required packages\n",
    "%matplotlib inline\n",
    "import matplotlib as mpl\n",
    "import matplotlib.pyplot as plt\n",
    "import numpy as np\n",
    "from scipy.optimize import curve_fit"
   ]
  },
  {
   "cell_type": "markdown",
   "metadata": {},
   "source": [
    "# Define exponential function"
   ]
  },
  {
   "cell_type": "code",
   "execution_count": 2,
   "metadata": {},
   "outputs": [],
   "source": [
    "# Function to calculate the exponential with constants a and b\n",
    "def exponential(x, a, b):\n",
    "    return a*np.exp(b*x)"
   ]
  },
  {
   "cell_type": "markdown",
   "metadata": {},
   "source": [
    "# Create dummy dataset with noise from a normal distribution"
   ]
  },
  {
   "cell_type": "code",
   "execution_count": 3,
   "metadata": {},
   "outputs": [],
   "source": [
    "# Generate dummy dataset\n",
    "x_dummy = np.linspace(start=5, stop=15, num=50)\n",
    "y_dummy = exponential(x_dummy, 0.5, 0.5)"
   ]
  },
  {
   "cell_type": "code",
   "execution_count": 4,
   "metadata": {},
   "outputs": [],
   "source": [
    "# Add noise from a Gaussian distribution\n",
    "noise = 5*np.random.normal(size=y_dummy.size)\n",
    "y_dummy = y_dummy + noise"
   ]
  },
  {
   "cell_type": "markdown",
   "metadata": {},
   "source": [
    "# Plot noisy exponential data"
   ]
  },
  {
   "cell_type": "code",
   "execution_count": 5,
   "metadata": {},
   "outputs": [
    {
     "data": {
      "image/png": "[encoded data removed]",
      "text/plain": [
       "<Figure size 216x216 with 1 Axes>"
      ]
     },
     "metadata": {
      "needs_background": "light"
     },
     "output_type": "display_data"
    }
   ],
   "source": [
    "# Edit the font, font size, and axes width\n",
    "mpl.rcParams['font.family'] = 'Avenir'\n",
    "plt.rcParams['font.size'] = 18\n",
    "plt.rcParams['axes.linewidth'] = 2\n",
    "\n",
    "# Create figure object and store it in a variable called 'fig'\n",
    "fig = plt.figure(figsize=(3, 3))\n",
    "\n",
    "# Add axes object to our figure that takes up entire figure\n",
    "ax = fig.add_axes([0, 0, 1, 1])\n",
    "\n",
    "# Edit the major and minor ticks of the x and y axes\n",
    "ax.xaxis.set_tick_params(which='major', size=10, width=2, direction='in', top='on')\n",
    "ax.xaxis.set_tick_params(which='minor', size=7, width=2, direction='in', top='on')\n",
    "ax.yaxis.set_tick_params(which='major', size=10, width=2, direction='in', right='on')\n",
    "ax.yaxis.set_tick_params(which='minor', size=7, width=2, direction='in', right='on')\n",
    "\n",
    "# Edit the major and minor tick locations of x and y axes\n",
    "ax.xaxis.set_major_locator(mpl.ticker.MultipleLocator(5))\n",
    "ax.xaxis.set_minor_locator(mpl.ticker.MultipleLocator(1))\n",
    "ax.yaxis.set_major_locator(mpl.ticker.MultipleLocator(200))\n",
    "ax.yaxis.set_minor_locator(mpl.ticker.MultipleLocator(100))\n",
    "\n",
    "# Plot the noisy exponential data\n",
    "ax.scatter(x_dummy, y_dummy, s=20, color='#00b3b3', label='Data')\n",
    "\n",
    "# Add the x and y-axis labels\n",
    "ax.set_xlabel('x-data', labelpad=10)\n",
    "ax.set_ylabel('y-data', labelpad=10)\n",
    "\n",
    "# Set the axis limits\n",
    "ax.set_xlim(4.5, 15.5)\n",
    "ax.set_ylim(1, 1000)\n",
    "\n",
    "#plt.savefig('dummy_dataset_exponential.png', dpi=100, bbox_inches='tight')\n",
    "plt.show()"
   ]
  },
  {
   "cell_type": "markdown",
   "metadata": {},
   "source": [
    "# Plot exponential data on a semi-log plot"
   ]
  },
  {
   "cell_type": "code",
   "execution_count": 6,
   "metadata": {},
   "outputs": [
    {
     "data": {
      "image/png": "[encoded data removed]",
      "text/plain": [
       "<Figure size 216x216 with 1 Axes>"
      ]
     },
     "metadata": {
      "needs_background": "light"
     },
     "output_type": "display_data"
    }
   ],
   "source": [
    "# Edit the font, font size, and axes width\n",
    "mpl.rcParams['font.family'] = 'Avenir'\n",
    "plt.rcParams['font.size'] = 18\n",
    "plt.rcParams['axes.linewidth'] = 2\n",
    "\n",
    "# Create figure object and store it in a variable called 'fig'\n",
    "fig = plt.figure(figsize=(3, 3))\n",
    "\n",
    "# Add axes object to our figure that takes up entire figure\n",
    "ax = fig.add_axes([0, 0, 1, 1])\n",
    "\n",
    "# Set the y-axis scaling to logarithmic\n",
    "ax.set_yscale('log')\n",
    "\n",
    "# Edit the major and minor ticks of the x and y axes\n",
    "ax.xaxis.set_tick_params(which='major', size=10, width=2, direction='in', top='on')\n",
    "ax.xaxis.set_tick_params(which='minor', size=7, width=2, direction='in', top='on')\n",
    "ax.yaxis.set_tick_params(which='major', size=10, width=2, direction='in', right='on')\n",
    "ax.yaxis.set_tick_params(which='minor', size=7, width=2, direction='in', right='on')\n",
    "\n",
    "# Edit the major and minor tick locations of x and y axes\n",
    "ax.xaxis.set_major_locator(mpl.ticker.MultipleLocator(5))\n",
    "ax.xaxis.set_minor_locator(mpl.ticker.MultipleLocator(1))\n",
    "ax.yaxis.set_major_locator(mpl.ticker.LogLocator(base=10.0))\n",
    "#ax.yaxis.set_minor_locator(mpl.ticker.MultipleLocator(100))\n",
    "\n",
    "# Plot the noisy exponential data\n",
    "ax.scatter(x_dummy, y_dummy, s=20, color='#00b3b3', label='Data')\n",
    "\n",
    "# Add the x and y-axis labels\n",
    "ax.set_xlabel('x-data', labelpad=10)\n",
    "ax.set_ylabel('y-data', labelpad=10)\n",
    "\n",
    "# Set the axis limits\n",
    "ax.set_xlim(4.5, 15.5)\n",
    "ax.set_ylim(1, 1000)\n",
    "\n",
    "#plt.savefig('dummy_dataset_exponential_semilog.png', dpi=100, bbox_inches='tight')\n",
    "plt.show()"
   ]
  },
  {
   "cell_type": "markdown",
   "metadata": {},
   "source": [
    "# Fit noisy data to exponential function"
   ]
  },
  {
   "cell_type": "code",
   "execution_count": 7,
   "metadata": {},
   "outputs": [],
   "source": [
    "# Fit the dummy exponential data\n",
    "pars, cov = curve_fit(f=exponential, xdata=x_dummy, ydata=y_dummy, p0=[0, 0], bounds=(-np.inf, np.inf))"
   ]
  },
  {
   "cell_type": "markdown",
   "metadata": {},
   "source": [
    "# Calculate the standard deviations of parameters and the residuals"
   ]
  },
  {
   "cell_type": "code",
   "execution_count": 8,
   "metadata": {},
   "outputs": [],
   "source": [
    "# Get the standard deviations of the parameters (square roots of the diagonal of the covariance)\n",
    "stdevs = np.sqrt(np.diag(cov))\n",
    "\n",
    "# Calculate the residuals\n",
    "res = y_dummy - exponential(x_dummy, *pars)"
   ]
  },
  {
   "cell_type": "markdown",
   "metadata": {},
   "source": [
    "# Plot exponential fit on top of data"
   ]
  },
  {
   "cell_type": "code",
   "execution_count": 9,
   "metadata": {},
   "outputs": [
    {
     "data": {
      "image/png": "[encoded data removed]",
      "text/plain": [
       "<Figure size 216x216 with 1 Axes>"
      ]
     },
     "metadata": {
      "needs_background": "light"
     },
     "output_type": "display_data"
    }
   ],
   "source": [
    "# Edit the font, font size, and axes width\n",
    "mpl.rcParams['font.family'] = 'Avenir'\n",
    "plt.rcParams['font.size'] = 18\n",
    "plt.rcParams['axes.linewidth'] = 2\n",
    "\n",
    "# Create figure object and store it in a variable called 'fig'\n",
    "fig = plt.figure(figsize=(3, 3))\n",
    "\n",
    "# Add axes object to our figure that takes up entire figure\n",
    "ax = fig.add_axes([0, 0, 1, 1])\n",
    "\n",
    "# Set the y-axis scaling to logarithmic\n",
    "ax.set_yscale('log')\n",
    "\n",
    "# Edit the major and minor ticks of the x and y axes\n",
    "ax.xaxis.set_tick_params(which='major', size=10, width=2, direction='in', top='on')\n",
    "ax.xaxis.set_tick_params(which='minor', size=7, width=2, direction='in', top='on')\n",
    "ax.yaxis.set_tick_params(which='major', size=10, width=2, direction='in', right='on')\n",
    "ax.yaxis.set_tick_params(which='minor', size=7, width=2, direction='in', right='on')\n",
    "\n",
    "# Edit the major and minor tick locations of x and y axes\n",
    "ax.xaxis.set_major_locator(mpl.ticker.MultipleLocator(5))\n",
    "ax.xaxis.set_minor_locator(mpl.ticker.MultipleLocator(1))\n",
    "ax.yaxis.set_major_locator(mpl.ticker.LogLocator(base=10.0))\n",
    "#ax.yaxis.set_minor_locator(mpl.ticker.MultipleLocator(100))\n",
    "\n",
    "# Plot the noisy exponential data\n",
    "ax.scatter(x_dummy, y_dummy, s=20, color='#00b3b3', label='Data')\n",
    "ax.plot(x_dummy, exponential(x_dummy, *pars), linestyle='--', linewidth=2, color='black')\n",
    "\n",
    "# Add the x and y-axis labels\n",
    "ax.set_xlabel('x-data', labelpad=10)\n",
    "ax.set_ylabel('y-data', labelpad=10)\n",
    "\n",
    "# Set the axis limits\n",
    "ax.set_xlim(4.5, 15.5)\n",
    "ax.set_ylim(1, 1000)\n",
    "\n",
    "#plt.savefig('dummy_dataset_exponential_fit.png', dpi=100, bbox_inches='tight')\n",
    "plt.show()"
   ]
  },
  {
   "cell_type": "markdown",
   "metadata": {},
   "source": [
    "# Plot the residuals of exponential fit"
   ]
  },
  {
   "cell_type": "code",
   "execution_count": 10,
   "metadata": {},
   "outputs": [
    {
     "data": {
      "image/png": "[encoded data removed]",
      "text/plain": [
       "<Figure size 216x72 with 1 Axes>"
      ]
     },
     "metadata": {
      "needs_background": "light"
     },
     "output_type": "display_data"
    }
   ],
   "source": [
    "# Edit the font, font size, and axes width\n",
    "mpl.rcParams['font.family'] = 'Avenir'\n",
    "plt.rcParams['font.size'] = 18\n",
    "plt.rcParams['axes.linewidth'] = 2\n",
    "\n",
    "# Create figure object and store it in a variable called 'fig'\n",
    "fig = plt.figure(figsize=(3, 1))\n",
    "\n",
    "# Add axes object to our figure that takes up entire figure\n",
    "ax = fig.add_axes([0, 0, 1, 1])\n",
    "\n",
    "# Edit the major and minor ticks of the x and y axes\n",
    "ax.xaxis.set_tick_params(which='major', size=10, width=2, direction='in', top='on')\n",
    "ax.xaxis.set_tick_params(which='minor', size=7, width=2, direction='in', top='on')\n",
    "ax.yaxis.set_tick_params(which='major', size=10, width=2, direction='in', right='on')\n",
    "ax.yaxis.set_tick_params(which='minor', size=7, width=2, direction='in', right='on')\n",
    "\n",
    "# Edit the major and minor tick locations of x and y axes\n",
    "ax.xaxis.set_major_locator(mpl.ticker.MultipleLocator(5))\n",
    "ax.xaxis.set_minor_locator(mpl.ticker.MultipleLocator(1))\n",
    "ax.yaxis.set_major_locator(mpl.ticker.MultipleLocator(10))\n",
    "\n",
    "# Plot the noisy exponential data\n",
    "ax.scatter(x_dummy, res, s=20, color='#00b3b3', label='Data')\n",
    "\n",
    "# Add the x and y-axis labels\n",
    "ax.set_xlabel('x-data', labelpad=10)\n",
    "ax.set_ylabel('Residuals', labelpad=10)\n",
    "\n",
    "# Set the axis limits\n",
    "ax.set_xlim(4, 16)\n",
    "ax.set_ylim(-15, 15)\n",
    "\n",
    "#plt.savefig('dummy_dataset_residuals.png', dpi=100, bbox_inches='tight')\n",
    "plt.show()"
   ]
  },
  {
   "cell_type": "markdown",
   "metadata": {},
   "source": [
    "# Define power-law function"
   ]
  },
  {
   "cell_type": "code",
   "execution_count": 11,
   "metadata": {},
   "outputs": [],
   "source": [
    "# Function to calculate the power-law with constants a and b\n",
    "def power_law(x, a, b):\n",
    "    return a*np.power(x, b)"
   ]
  },
  {
   "cell_type": "markdown",
   "metadata": {},
   "source": [
    "# Generate dummy dataset"
   ]
  },
  {
   "cell_type": "code",
   "execution_count": 12,
   "metadata": {},
   "outputs": [],
   "source": [
    "# Generate dummy dataset\n",
    "x_dummy = np.linspace(start=1, stop=1000, num=100)\n",
    "y_dummy = power_law(x_dummy, 1, 0.5)"
   ]
  },
  {
   "cell_type": "markdown",
   "metadata": {},
   "source": [
    "# Add noise to the power-law data"
   ]
  },
  {
   "cell_type": "code",
   "execution_count": 13,
   "metadata": {},
   "outputs": [],
   "source": [
    "# Add noise from a Gaussian distribution\n",
    "noise = 1.5*np.random.normal(size=y_dummy.size)\n",
    "y_dummy = y_dummy + noise"
   ]
  },
  {
   "cell_type": "markdown",
   "metadata": {},
   "source": [
    "# Plot noisy power-law data"
   ]
  },
  {
   "cell_type": "code",
   "execution_count": 14,
   "metadata": {},
   "outputs": [
    {
     "data": {
      "image/png": "[encoded data removed]",
      "text/plain": [
       "<Figure size 216x216 with 1 Axes>"
      ]
     },
     "metadata": {
      "needs_background": "light"
     },
     "output_type": "display_data"
    }
   ],
   "source": [
    "# Edit the font, font size, and axes width\n",
    "mpl.rcParams['font.family'] = 'Avenir'\n",
    "plt.rcParams['font.size'] = 18\n",
    "plt.rcParams['axes.linewidth'] = 2\n",
    "\n",
    "# Create figure object and store it in a variable called 'fig'\n",
    "fig = plt.figure(figsize=(3, 3))\n",
    "\n",
    "# Add axes object to our figure that takes up entire figure\n",
    "ax = fig.add_axes([0, 0, 1, 1])\n",
    "\n",
    "# Set the y-axis scaling to logarithmic\n",
    "#ax.set_yscale('log')\n",
    "\n",
    "# Edit the major and minor ticks of the x and y axes\n",
    "ax.xaxis.set_tick_params(which='major', size=10, width=2, direction='in', top='on')\n",
    "ax.xaxis.set_tick_params(which='minor', size=7, width=2, direction='in', top='on')\n",
    "ax.yaxis.set_tick_params(which='major', size=10, width=2, direction='in', right='on')\n",
    "ax.yaxis.set_tick_params(which='minor', size=7, width=2, direction='in', right='on')\n",
    "\n",
    "# Edit the major and minor tick locations of x and y axes\n",
    "ax.xaxis.set_major_locator(mpl.ticker.MultipleLocator(200))\n",
    "ax.xaxis.set_minor_locator(mpl.ticker.MultipleLocator(100))\n",
    "ax.yaxis.set_major_locator(mpl.ticker.MultipleLocator(10))\n",
    "ax.yaxis.set_minor_locator(mpl.ticker.MultipleLocator(5))\n",
    "\n",
    "# Plot the noisy exponential data\n",
    "ax.scatter(x_dummy, y_dummy, s=20, color='#00b3b3', label='Data')\n",
    "\n",
    "# Add the x and y-axis labels\n",
    "ax.set_xlabel('x-data', labelpad=10)\n",
    "ax.set_ylabel('y-data', labelpad=10)\n",
    "\n",
    "# Set the axis limits\n",
    "ax.set_xlim(0, 1000)\n",
    "ax.set_ylim(0, 40)\n",
    "\n",
    "#plt.savefig('dummy_dataset_powerlaw.png', dpi=100, bbox_inches='tight')\n",
    "plt.show()"
   ]
  },
  {
   "cell_type": "markdown",
   "metadata": {},
   "source": [
    "# Plot power-law data on a log-log plot"
   ]
  },
  {
   "cell_type": "code",
   "execution_count": 15,
   "metadata": {},
   "outputs": [
    {
     "data": {
      "image/png": "[encoded data removed]",
      "text/plain": [
       "<Figure size 216x144 with 1 Axes>"
      ]
     },
     "metadata": {
      "needs_background": "light"
     },
     "output_type": "display_data"
    }
   ],
   "source": [
    "# Edit the font, font size, and axes width\n",
    "mpl.rcParams['font.family'] = 'Avenir'\n",
    "plt.rcParams['font.size'] = 18\n",
    "plt.rcParams['axes.linewidth'] = 2\n",
    "\n",
    "# Create figure object and store it in a variable called 'fig'\n",
    "fig = plt.figure(figsize=(3, 2))\n",
    "\n",
    "# Add axes object to our figure that takes up entire figure\n",
    "ax = fig.add_axes([0, 0, 1, 1])\n",
    "\n",
    "# Set the x and y-axis scaling to logarithmic\n",
    "ax.set_xscale('log')\n",
    "ax.set_yscale('log')\n",
    "\n",
    "# Edit the major and minor ticks of the x and y axes\n",
    "ax.xaxis.set_tick_params(which='major', size=10, width=2, direction='in', top='on')\n",
    "ax.xaxis.set_tick_params(which='minor', size=7, width=2, direction='in', top='on')\n",
    "ax.yaxis.set_tick_params(which='major', size=10, width=2, direction='in', right='on')\n",
    "ax.yaxis.set_tick_params(which='minor', size=7, width=2, direction='in', right='on')\n",
    "\n",
    "# Edit the major and minor tick locations of x and y axes\n",
    "ax.xaxis.set_major_locator(mpl.ticker.LogLocator(base=10.0))\n",
    "ax.yaxis.set_major_locator(mpl.ticker.LogLocator(base=10.0))\n",
    "\n",
    "# Plot the noisy exponential data\n",
    "ax.scatter(x_dummy, y_dummy, s=20, color='#00b3b3', label='Data')\n",
    "\n",
    "# Add the x and y-axis labels\n",
    "ax.set_xlabel('x-data', labelpad=10)\n",
    "ax.set_ylabel('y-data', labelpad=10)\n",
    "\n",
    "# Set the axis limits\n",
    "ax.set_xlim(10, 1000)\n",
    "ax.set_ylim(1, 100)\n",
    "\n",
    "#plt.savefig('dummy_dataset_powerlaw_log.png', dpi=100, bbox_inches='tight')\n",
    "plt.show()"
   ]
  },
  {
   "cell_type": "markdown",
   "metadata": {},
   "source": [
    "# Fit data and calculate standard deviations and residuals"
   ]
  },
  {
   "cell_type": "code",
   "execution_count": 16,
   "metadata": {},
   "outputs": [],
   "source": [
    "# Fit the dummy exponential data\n",
    "pars, cov = curve_fit(f=power_law, xdata=x_dummy, ydata=y_dummy, p0=[0, 0], bounds=(-np.inf, np.inf))\n",
    "\n",
    "# Get the standard deviations of the parameters (square roots of the diagonal of the covariance)\n",
    "stdevs = np.sqrt(np.diag(cov))\n",
    "\n",
    "# Calculate the residuals\n",
    "res = y_dummy - power_law(x_dummy, *pars)"
   ]
  },
  {
   "cell_type": "markdown",
   "metadata": {},
   "source": [
    "# Plot noisy data with overlaid fit"
   ]
  },
  {
   "cell_type": "code",
   "execution_count": 17,
   "metadata": {},
   "outputs": [
    {
     "data": {
      "image/png": "[encoded data removed]",
      "text/plain": [
       "<Figure size 216x216 with 1 Axes>"
      ]
     },
     "metadata": {
      "needs_background": "light"
     },
     "output_type": "display_data"
    }
   ],
   "source": [
    "# Edit the font, font size, and axes width\n",
    "mpl.rcParams['font.family'] = 'Avenir'\n",
    "plt.rcParams['font.size'] = 18\n",
    "plt.rcParams['axes.linewidth'] = 2\n",
    "\n",
    "# Create figure object and store it in a variable called 'fig'\n",
    "fig = plt.figure(figsize=(3, 3))\n",
    "\n",
    "# Add axes object to our figure that takes up entire figure\n",
    "ax = fig.add_axes([0, 0, 1, 1])\n",
    "\n",
    "# Set the x and y-axis scaling to logarithmic\n",
    "ax.set_xscale('log')\n",
    "ax.set_yscale('log')\n",
    "\n",
    "# Edit the major and minor ticks of the x and y axes\n",
    "ax.xaxis.set_tick_params(which='major', size=10, width=2, direction='in', top='on')\n",
    "ax.xaxis.set_tick_params(which='minor', size=7, width=2, direction='in', top='on')\n",
    "ax.yaxis.set_tick_params(which='major', size=10, width=2, direction='in', right='on')\n",
    "ax.yaxis.set_tick_params(which='minor', size=7, width=2, direction='in', right='on')\n",
    "\n",
    "# Edit the major and minor tick locations of x and y axes\n",
    "ax.xaxis.set_major_locator(mpl.ticker.LogLocator(base=10.0))\n",
    "ax.yaxis.set_major_locator(mpl.ticker.LogLocator(base=10.0))\n",
    "\n",
    "# Plot the noisy exponential data\n",
    "ax.scatter(x_dummy, y_dummy, s=20, color='#00b3b3', label='Data')\n",
    "ax.plot(x_dummy, power_law(x_dummy, *pars), linewidth=2, linestyle='--', color='black')\n",
    "\n",
    "# Add the x and y-axis labels\n",
    "ax.set_xlabel('x-data', labelpad=10)\n",
    "ax.set_ylabel('y-data', labelpad=10)\n",
    "\n",
    "# Set the axis limits\n",
    "ax.set_xlim(10, 1000)\n",
    "ax.set_ylim(1, 100)\n",
    "\n",
    "#plt.savefig('dummy_dataset_powerlaw_fit.png', dpi=100, bbox_inches='tight')\n",
    "plt.show()"
   ]
  },
  {
   "cell_type": "markdown",
   "metadata": {},
   "source": [
    "# Plot residuals of power-law fit"
   ]
  },
  {
   "cell_type": "code",
   "execution_count": 18,
   "metadata": {},
   "outputs": [
    {
     "data": {
      "image/png": "[encoded data removed]",
      "text/plain": [
       "<Figure size 216x72 with 1 Axes>"
      ]
     },
     "metadata": {
      "needs_background": "light"
     },
     "output_type": "display_data"
    }
   ],
   "source": [
    "# Edit the font, font size, and axes width\n",
    "mpl.rcParams['font.family'] = 'Avenir'\n",
    "plt.rcParams['font.size'] = 18\n",
    "plt.rcParams['axes.linewidth'] = 2\n",
    "\n",
    "# Create figure object and store it in a variable called 'fig'\n",
    "fig = plt.figure(figsize=(3, 1))\n",
    "\n",
    "# Add axes object to our figure that takes up entire figure\n",
    "ax = fig.add_axes([0, 0, 1, 1])\n",
    "\n",
    "# Edit the major and minor ticks of the x and y axes\n",
    "ax.xaxis.set_tick_params(which='major', size=10, width=2, direction='in', top='on')\n",
    "ax.xaxis.set_tick_params(which='minor', size=7, width=2, direction='in', top='on')\n",
    "ax.yaxis.set_tick_params(which='major', size=10, width=2, direction='in', right='on')\n",
    "ax.yaxis.set_tick_params(which='minor', size=7, width=2, direction='in', right='on')\n",
    "\n",
    "# Edit the major and minor tick locations of x and y axes\n",
    "ax.xaxis.set_major_locator(mpl.ticker.MultipleLocator(200))\n",
    "ax.xaxis.set_minor_locator(mpl.ticker.MultipleLocator(100))\n",
    "ax.yaxis.set_major_locator(mpl.ticker.MultipleLocator(10))\n",
    "\n",
    "# Plot the noisy exponential data\n",
    "ax.scatter(x_dummy, res, s=20, color='#00b3b3', label='Data')\n",
    "\n",
    "# Add the x and y-axis labels\n",
    "ax.set_xlabel('x-data', labelpad=10)\n",
    "ax.set_ylabel('Residuals', labelpad=10)\n",
    "\n",
    "# Set the axis limits\n",
    "ax.set_xlim(0, 1000)\n",
    "ax.set_ylim(-10, 10)\n",
    "\n",
    "#plt.savefig('dummy_dataset_powerlaw_residuals.png', dpi=100, bbox_inches='tight')\n",
    "plt.show()"
   ]
  },
  {
   "cell_type": "markdown",
   "metadata": {},
   "source": [
    "# Define Gaussian function"
   ]
  },
  {
   "cell_type": "code",
   "execution_count": 19,
   "metadata": {},
   "outputs": [],
   "source": [
    "# Function to calculate the Gaussian with constants a, b, and c\n",
    "def gaussian(x, a, b, c):\n",
    "    return a*np.exp(-np.power(x - b, 2)/(2*np.power(c, 2)))"
   ]
  },
  {
   "cell_type": "markdown",
   "metadata": {},
   "source": [
    "# Generate dummy dataset"
   ]
  },
  {
   "cell_type": "code",
   "execution_count": 20,
   "metadata": {},
   "outputs": [],
   "source": [
    "# Generate dummy dataset\n",
    "x_dummy = np.linspace(start=-10, stop=10, num=100)\n",
    "y_dummy = gaussian(x_dummy, 8, -1, 3)"
   ]
  },
  {
   "cell_type": "markdown",
   "metadata": {},
   "source": [
    "# Add noise to data"
   ]
  },
  {
   "cell_type": "code",
   "execution_count": 21,
   "metadata": {},
   "outputs": [],
   "source": [
    "# Add noise from a Gaussian distribution\n",
    "noise = 0.5*np.random.normal(size=y_dummy.size)\n",
    "y_dummy = y_dummy + noise"
   ]
  },
  {
   "cell_type": "markdown",
   "metadata": {},
   "source": [
    "# Plot noisy Gaussian data"
   ]
  },
  {
   "cell_type": "code",
   "execution_count": 22,
   "metadata": {},
   "outputs": [
    {
     "data": {
      "image/png": "[encoded data removed]",
      "text/plain": [
       "<Figure size 216x216 with 1 Axes>"
      ]
     },
     "metadata": {
      "needs_background": "light"
     },
     "output_type": "display_data"
    }
   ],
   "source": [
    "# Edit the font, font size, and axes width\n",
    "mpl.rcParams['font.family'] = 'Avenir'\n",
    "plt.rcParams['font.size'] = 18\n",
    "plt.rcParams['axes.linewidth'] = 2\n",
    "\n",
    "# Create figure object and store it in a variable called 'fig'\n",
    "fig = plt.figure(figsize=(3, 3))\n",
    "\n",
    "# Add axes object to our figure that takes up entire figure\n",
    "ax = fig.add_axes([0, 0, 1, 1])\n",
    "\n",
    "# Edit the major and minor ticks of the x and y axes\n",
    "ax.xaxis.set_tick_params(which='major', size=10, width=2, direction='in', top='on')\n",
    "ax.xaxis.set_tick_params(which='minor', size=7, width=2, direction='in', top='on')\n",
    "ax.yaxis.set_tick_params(which='major', size=10, width=2, direction='in', right='on')\n",
    "ax.yaxis.set_tick_params(which='minor', size=7, width=2, direction='in', right='on')\n",
    "\n",
    "# Edit the major and minor tick locations of x and y axes\n",
    "ax.xaxis.set_major_locator(mpl.ticker.MultipleLocator(5))\n",
    "ax.xaxis.set_minor_locator(mpl.ticker.MultipleLocator(1))\n",
    "ax.yaxis.set_major_locator(mpl.ticker.MultipleLocator(5))\n",
    "ax.yaxis.set_minor_locator(mpl.ticker.MultipleLocator(1))\n",
    "\n",
    "# Plot the noisy exponential data\n",
    "ax.scatter(x_dummy, y_dummy, s=20, color='#00b3b3', label='Data')\n",
    "\n",
    "# Add the x and y-axis labels\n",
    "ax.set_xlabel('x-data', labelpad=10)\n",
    "ax.set_ylabel('y-data', labelpad=10)\n",
    "\n",
    "# Set the axis limits\n",
    "ax.set_xlim(-11, 11)\n",
    "ax.set_ylim(-1, 11)\n",
    "\n",
    "#plt.savefig('dummy_dataset_gaussian.png', dpi=100, bbox_inches='tight')\n",
    "plt.show()"
   ]
  },
  {
   "cell_type": "markdown",
   "metadata": {},
   "source": [
    "# Fit data and calculate standard deviations and residuals"
   ]
  },
  {
   "cell_type": "code",
   "execution_count": 23,
   "metadata": {},
   "outputs": [],
   "source": [
    "# Fit the dummy power-law data\n",
    "pars, cov = curve_fit(f=gaussian, xdata=x_dummy, ydata=y_dummy, p0=[5, -1, 1], bounds=(-np.inf, np.inf))\n",
    "\n",
    "# Get the standard deviations of the parameters (square roots of the # diagonal of the covariance)\n",
    "stdevs = np.sqrt(np.diag(cov))\n",
    "\n",
    "# Calculate the residuals\n",
    "res = y_dummy - gaussian(x_dummy, *pars)"
   ]
  },
  {
   "cell_type": "markdown",
   "metadata": {},
   "source": [
    "# Plot Gaussian data with overlaid fit"
   ]
  },
  {
   "cell_type": "code",
   "execution_count": 24,
   "metadata": {},
   "outputs": [
    {
     "data": {
      "image/png": "[encoded data removed]",
      "text/plain": [
       "<Figure size 216x216 with 1 Axes>"
      ]
     },
     "metadata": {
      "needs_background": "light"
     },
     "output_type": "display_data"
    }
   ],
   "source": [
    "# Edit the font, font size, and axes width\n",
    "mpl.rcParams['font.family'] = 'Avenir'\n",
    "plt.rcParams['font.size'] = 18\n",
    "plt.rcParams['axes.linewidth'] = 2\n",
    "\n",
    "# Create figure object and store it in a variable called 'fig'\n",
    "fig = plt.figure(figsize=(3, 3))\n",
    "\n",
    "# Add axes object to our figure that takes up entire figure\n",
    "ax = fig.add_axes([0, 0, 1, 1])\n",
    "\n",
    "# Edit the major and minor ticks of the x and y axes\n",
    "ax.xaxis.set_tick_params(which='major', size=10, width=2, direction='in', top='on')\n",
    "ax.xaxis.set_tick_params(which='minor', size=7, width=2, direction='in', top='on')\n",
    "ax.yaxis.set_tick_params(which='major', size=10, width=2, direction='in', right='on')\n",
    "ax.yaxis.set_tick_params(which='minor', size=7, width=2, direction='in', right='on')\n",
    "\n",
    "# Edit the major and minor tick locations of x and y axes\n",
    "ax.xaxis.set_major_locator(mpl.ticker.MultipleLocator(5))\n",
    "ax.xaxis.set_minor_locator(mpl.ticker.MultipleLocator(1))\n",
    "ax.yaxis.set_major_locator(mpl.ticker.MultipleLocator(5))\n",
    "ax.yaxis.set_minor_locator(mpl.ticker.MultipleLocator(1))\n",
    "\n",
    "# Plot the noisy exponential data\n",
    "ax.scatter(x_dummy, y_dummy, s=20, color='#00b3b3', label='Data')\n",
    "ax.plot(x_dummy, gaussian(x_dummy, *pars), linewidth=2, linestyle='--', color='black')\n",
    "\n",
    "# Add the x and y-axis labels\n",
    "ax.set_xlabel('x-data', labelpad=10)\n",
    "ax.set_ylabel('y-data', labelpad=10)\n",
    "\n",
    "# Set the axis limits\n",
    "ax.set_xlim(-11, 11)\n",
    "ax.set_ylim(-1, 11)\n",
    "\n",
    "#plt.savefig('dummy_dataset_gaussian_fit.png', dpi=100, bbox_inches='tight')\n",
    "plt.show()"
   ]
  },
  {
   "cell_type": "markdown",
   "metadata": {},
   "source": [
    "# Plot residuals of Gaussian fit"
   ]
  },
  {
   "cell_type": "code",
   "execution_count": 25,
   "metadata": {},
   "outputs": [
    {
     "data": {
      "image/png": "[encoded data removed]",
      "text/plain": [
       "<Figure size 216x72 with 1 Axes>"
      ]
     },
     "metadata": {
      "needs_background": "light"
     },
     "output_type": "display_data"
    }
   ],
   "source": [
    "# Edit the font, font size, and axes width\n",
    "mpl.rcParams['font.family'] = 'Avenir'\n",
    "plt.rcParams['font.size'] = 18\n",
    "plt.rcParams['axes.linewidth'] = 2\n",
    "\n",
    "# Create figure object and store it in a variable called 'fig'\n",
    "fig = plt.figure(figsize=(3, 1))\n",
    "\n",
    "# Add axes object to our figure that takes up entire figure\n",
    "ax = fig.add_axes([0, 0, 1, 1])\n",
    "\n",
    "# Edit the major and minor ticks of the x and y axes\n",
    "ax.xaxis.set_tick_params(which='major', size=10, width=2, direction='in', top='on')\n",
    "ax.xaxis.set_tick_params(which='minor', size=7, width=2, direction='in', top='on')\n",
    "ax.yaxis.set_tick_params(which='major', size=10, width=2, direction='in', right='on')\n",
    "ax.yaxis.set_tick_params(which='minor', size=7, width=2, direction='in', right='on')\n",
    "\n",
    "# Edit the major and minor tick locations of x and y axes\n",
    "ax.xaxis.set_major_locator(mpl.ticker.MultipleLocator(10))\n",
    "ax.xaxis.set_minor_locator(mpl.ticker.MultipleLocator(2))\n",
    "ax.yaxis.set_major_locator(mpl.ticker.MultipleLocator(5))\n",
    "ax.yaxis.set_minor_locator(mpl.ticker.MultipleLocator(5))\n",
    "\n",
    "# Plot the noisy exponential data\n",
    "ax.scatter(x_dummy, res, s=20, color='#00b3b3', label='Data')\n",
    "\n",
    "# Add the x and y-axis labels\n",
    "ax.set_xlabel('x-data', labelpad=10)\n",
    "ax.set_ylabel('Residuals', labelpad=10)\n",
    "\n",
    "# Set the axis limits\n",
    "ax.set_xlim(-11, 11)\n",
    "ax.set_ylim(-5, 5)\n",
    "\n",
    "#plt.savefig('dummy_dataset_gaussian_residuals.png', dpi=100, bbox_inches='tight')\n",
    "plt.show()"
   ]
  }
 ],
 "metadata": {
  "kernelspec": {
   "display_name": "Python 3",
   "language": "python",
   "name": "python3"
  },
  "language_info": {
   "codemirror_mode": {
    "name": "ipython",
    "version": 3
   },
   "file_extension": ".py",
   "mimetype": "text/x-python",
   "name": "python",
   "nbconvert_exporter": "python",
   "pygments_lexer": "ipython3",
   "version": "3.7.3"
  }
 },
 "nbformat": 4,
 "nbformat_minor": 4
}

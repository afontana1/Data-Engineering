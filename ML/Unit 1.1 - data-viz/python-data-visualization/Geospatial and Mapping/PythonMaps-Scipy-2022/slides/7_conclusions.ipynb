{
 "cells": [
  {
   "cell_type": "markdown",
   "id": "deedf3cd",
   "metadata": {
    "slideshow": {
     "slide_type": "slide"
    }
   },
   "source": [
    "### Points\n",
    "\n",
    "- Read Point data\n",
    "- Generate Point data\n",
    "- Plot Point data\n",
    "- Reproject Point data\n",
    "- Customise Point plots\n",
    "\n",
    "![alt text](../resources/assets/co2_emissions.png \"Title\")"
   ]
  },
  {
   "cell_type": "markdown",
   "id": "27239b99",
   "metadata": {
    "slideshow": {
     "slide_type": "slide"
    }
   },
   "source": [
    "### Lines\n",
    "\n",
    "- Generate LineStrings from Points\n",
    "- Plot LineStrings data\n",
    "- Reproject LineStrings\n",
    "- Customise LineStrings\n",
    "\n",
    "![alt text](../resources/assets/undersea_cables_dark.png \"Title\")"
   ]
  },
  {
   "cell_type": "markdown",
   "id": "699e56bb",
   "metadata": {
    "slideshow": {
     "slide_type": "slide"
    }
   },
   "source": [
    "### Polygons\n",
    "\n",
    "- Plot Polygons and MultiPolygons\n",
    "- Manipulate Polygons\n",
    "- Reproject Polygons\n",
    "- Customise Polygons\n",
    "\n",
    "![alt text](../resources/assets/eez_dark.png \"Title\")"
   ]
  },
  {
   "cell_type": "markdown",
   "id": "b2d71761",
   "metadata": {
    "slideshow": {
     "slide_type": "slide"
    }
   },
   "source": [
    "### Rasters\n",
    "\n",
    "- Read raster data\n",
    "- Plot raster data\n",
    "- Manipulate colourmaps\n",
    "- Reproject raster data\n",
    "- Clip raster data\n",
    "\n",
    "![alt text](../resources/assets/pakistan.png \"Title\")"
   ]
  },
  {
   "cell_type": "markdown",
   "id": "8a094ff5",
   "metadata": {
    "slideshow": {
     "slide_type": "slide"
    }
   },
   "source": [
    "### Combinations\n",
    "\n",
    "- Combine raster data and shape data\n",
    "\n",
    "![alt text](../resources/assets/sl_air.png \"Title\")"
   ]
  }
 ],
 "metadata": {
  "celltoolbar": "Slideshow",
  "kernelspec": {
   "display_name": "Python 3 (ipykernel)",
   "language": "python",
   "name": "python3"
  },
  "language_info": {
   "codemirror_mode": {
    "name": "ipython",
    "version": 3
   },
   "file_extension": ".py",
   "mimetype": "text/x-python",
   "name": "python",
   "nbconvert_exporter": "python",
   "pygments_lexer": "ipython3",
   "version": "3.8.13"
  }
 },
 "nbformat": 4,
 "nbformat_minor": 5
}

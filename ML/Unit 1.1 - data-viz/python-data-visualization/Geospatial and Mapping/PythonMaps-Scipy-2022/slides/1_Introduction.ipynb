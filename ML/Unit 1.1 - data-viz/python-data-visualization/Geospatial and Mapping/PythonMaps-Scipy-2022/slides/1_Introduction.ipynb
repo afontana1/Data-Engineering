{
 "cells": [
  {
   "cell_type": "markdown",
   "id": "f1655b27",
   "metadata": {
    "slideshow": {
     "slide_type": "slide"
    }
   },
   "source": [
    "## Creating Beautiful Geospatial Data Visualisations with Python\n",
    "\n",
    "### By Dr. Adam Symington (PythonMaps)"
   ]
  },
  {
   "cell_type": "markdown",
   "id": "902c8ef5",
   "metadata": {
    "slideshow": {
     "slide_type": "-"
    }
   },
   "source": [
    "![alt text](../resources/assets/shapping_lanes_dark.png \"Title\")"
   ]
  },
  {
   "cell_type": "markdown",
   "id": "8676dab9",
   "metadata": {
    "slideshow": {
     "slide_type": "slide"
    }
   },
   "source": [
    "![alt text](../resources/assets/past.png \"Title\")"
   ]
  },
  {
   "cell_type": "markdown",
   "id": "cb60a0be",
   "metadata": {
    "slideshow": {
     "slide_type": "slide"
    }
   },
   "source": [
    "![alt text](../resources/assets/sts.png \"Title\")"
   ]
  },
  {
   "cell_type": "markdown",
   "id": "ed48ff2a",
   "metadata": {
    "slideshow": {
     "slide_type": "slide"
    }
   },
   "source": [
    "![alt text](../resources/assets/network.png \"Title\")"
   ]
  },
  {
   "cell_type": "markdown",
   "id": "bb096105",
   "metadata": {
    "slideshow": {
     "slide_type": "slide"
    }
   },
   "source": [
    "![alt text](../resources/assets/black_sea.jpg \"Title\")"
   ]
  },
  {
   "cell_type": "markdown",
   "id": "9a8f9b0b",
   "metadata": {
    "slideshow": {
     "slide_type": "slide"
    }
   },
   "source": [
    "## Download Tutorial Materials\n",
    "\n",
    "This GitHub repository is all that is needed in terms of tutorial content. The simplest solution is to download the material using this link:\n",
    "\n",
    "https://github.com/symmy596/PythonMaps-Scipy-2022/archive/refs/heads/master.zip\n",
    "\n",
    "If you are familiar with Git, you can also clone this repository with:\n",
    "\n",
    "```\n",
    "$ git clone https://github.com/symmy596/PythonMaps-Scipy-2022.git\n",
    "```\n",
    "\n",
    "It will create a new folder named `PythonMaps-Scipy-2022` with all the content you will need.\n",
    "\n",
    "There are a number of datasets required for these tutorials. These will need to all be downloaded prior to the tutorial and placed in the resources folder."
   ]
  },
  {
   "cell_type": "markdown",
   "id": "779c0133",
   "metadata": {
    "slideshow": {
     "slide_type": "slide"
    }
   },
   "source": [
    "## Required Data Sources\n",
    "\n",
    "#### Tutorial 1 Points and Lines\n",
    "\n",
    "- [World Port Index (WPI)](https://msi.nga.mil/Publications/WPI)\n",
    "- [Open Flights](https://openflights.org/data.html)\n",
    "\n",
    "#### Tutorial 2 Polygons\n",
    "\n",
    "- [Natural Earth](https://www.naturalearthdata.com/)\n",
    "\n",
    "#### Tutorial 3 Rasters\n",
    "\n",
    "- [Forests](https://globalmaps.github.io/ptc.html)\n",
    "- [Surface Temperature](https://neo.gsfc.nasa.gov/view.php?datasetId=MOD_LSTD_M&year=2021)\n",
    "- [NASA](https://neo.gsfc.nasa.gov/)\n",
    "\n",
    "#### Tutorial 4 Rasters and Shapes\n",
    "\n",
    "- [Topography](https://www.ngdc.noaa.gov/mgg/global/relief/ETOPO1/data/bedrock/grid_registered/georeferenced_tiff/)\n",
    "- [River Basins](https://www.fao.org/fishery/static/geonetwork/d47ba28e-31be-470d-81cf-ad3d5594fafd/data/)\n"
   ]
  },
  {
   "cell_type": "markdown",
   "id": "c051c38e",
   "metadata": {
    "slideshow": {
     "slide_type": "slide"
    }
   },
   "source": [
    "### Libraries\n",
    "\n",
    "The following libraries are required to run the workshop\n",
    "\n",
    "- geopandas==0.10.2\n",
    "- pandas==1.4.2\n",
    "- numpy==1.21.5\n",
    "- shapely==1.8.0\n",
    "- matplotlib==3.5.1\n",
    "- cartopy==0.20.2\n",
    "- rasterio==1.2.10\n",
    "- rioxarray==0.11.1"
   ]
  },
  {
   "cell_type": "markdown",
   "id": "13d43ccd",
   "metadata": {
    "slideshow": {
     "slide_type": "slide"
    }
   },
   "source": [
    "#### Visualising Points and Lines\n",
    "\n",
    "The first part of this task will involve reading, manipulating, and plotting point data and the second will involve the creation linestrings from points. There will be a brief introduction on the task at hand and a run through of the tutorial as well as a brief discussion around the finer points of data visualisation. \n",
    "\n",
    "- Attendees will use the world port index to generate a map showing the locations of the world’s ports. \n",
    "- In the second half, attendees will use the locations of the world’s airports and data on the number of flights between each airport to generate a series of linestrings representing flightpaths and plot this data to show the worlds flight paths.\n",
    "\n",
    "##### Learning Outcomes\n",
    "- Understand how to read and manipulate point/line data as well as generate points and lines from latitude and longitude values. \n",
    "- Understand how to plot point data with Matplotlib.\n",
    "- Understand how to generate linestrings from points using Shapely.\n",
    "- Understand how to plot line data with GeoPandas.\n",
    "- Understand how to reproject shape data using GeoPandas and Cartopy."
   ]
  },
  {
   "cell_type": "markdown",
   "id": "cbebc2e5",
   "metadata": {
    "slideshow": {
     "slide_type": "slide"
    }
   },
   "source": [
    "#### Visualising Polygons\n",
    "\n",
    "Following a brief introduction, attendees will be tasked with creating visualisations using polygons and multipolygons. Attendees will use the Natural Earth dataset to generate different visualisations depending on which polygons take their fancy. An example will be provided showing how to overlay the worlds time zones onto a standard world map. \n",
    "\n",
    "##### Learning outcomes:\n",
    "- Understand how to read and manipulate polygon and multipolygon data as well as generate polygons and multipolygons from latitude and longitude values.\n",
    "- Understand how plot polygons and multipolygons using GeoPandas.\n",
    "- Understand how to reproject polygons and multipolygons using GeoPandas and Cartopy."
   ]
  },
  {
   "cell_type": "markdown",
   "id": "9f5e83f4",
   "metadata": {
    "slideshow": {
     "slide_type": "slide"
    }
   },
   "source": [
    "#### Visualising Rasters\n",
    "\n",
    "There will be a short introduction and then attendees will be tasked with creating visualisations using raster files. There are several open-source raster datasets available through NEO (NASA earth observations) and attendees will be encouraged to use whichever dataset takes their fancy. An example will be provided and discussed outlining how to plot the world’s population density. \n",
    "\n",
    "##### Learning outcomes:\n",
    "- Understand how to read and manipulate raster data with Rasterio and rioxarray. \n",
    "- Understand how to plot raster data with Rasterio and Matplotlib\n",
    "- Understand how to reproject raster data with rioxarray. "
   ]
  },
  {
   "cell_type": "markdown",
   "id": "dd12396e",
   "metadata": {
    "slideshow": {
     "slide_type": "slide"
    }
   },
   "source": [
    "#### Combing shapes with rasters\n",
    "\n",
    "This section will outline how to overlay shape data like lines or polygons onto raster data like satellite imagery and how to use polygons to isolate specific parts of a raster. For example, use a polygon representing the borders of a country to isolate the data for that country in the raster image.\n",
    "\n",
    "##### Learning Outcomes:\n",
    "- Understanding how to use geospatial reference systems to ensure that the shape data is overlaid on the raster data in the correct location.\n",
    "- Understanding how to use rioxarray to clip a raster according to the outline of a polygon."
   ]
  }
 ],
 "metadata": {
  "celltoolbar": "Slideshow",
  "kernelspec": {
   "display_name": "Python 3 (ipykernel)",
   "language": "python",
   "name": "python3"
  },
  "language_info": {
   "codemirror_mode": {
    "name": "ipython",
    "version": 3
   },
   "file_extension": ".py",
   "mimetype": "text/x-python",
   "name": "python",
   "nbconvert_exporter": "python",
   "pygments_lexer": "ipython3",
   "version": "3.9.13"
  }
 },
 "nbformat": 4,
 "nbformat_minor": 5
}

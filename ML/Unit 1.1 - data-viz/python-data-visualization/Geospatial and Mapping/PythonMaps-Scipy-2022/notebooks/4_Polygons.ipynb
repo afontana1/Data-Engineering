{
 "cells": [
  {
   "cell_type": "markdown",
   "id": "693619ee",
   "metadata": {},
   "source": [
    "## Plotting Polygons\n",
    "\n",
    "Data Source - [Natural Earth](https://www.naturalearthdata.com/)\n",
    "\n",
    "Data Source - [OpenFlights](https://openflights.org/data.html) (You should already have this from the previous exercise) "
   ]
  },
  {
   "cell_type": "code",
   "execution_count": null,
   "id": "d277c30a",
   "metadata": {},
   "outputs": [],
   "source": [
    "import geopandas as gpd\n",
    "\n",
    "data = gpd.read_file(\"../resources/ne_10m_time_zones.shp\")\n",
    "countries = gpd.read_file(\"../resources/ne_10m_admin_0_countries.shp\")\n",
    "data = data.sort_values('name')\n",
    "print(data.columns)"
   ]
  },
  {
   "cell_type": "code",
   "execution_count": null,
   "id": "a89eeb44",
   "metadata": {},
   "outputs": [],
   "source": [
    "import matplotlib.pyplot as plt\n",
    "\n",
    "fig, ax = plt.subplots(facecolor='#FCF6F5FF')\n",
    "ax.set_facecolor('#FCF6F5FF')\n",
    "data.plot(ax=ax, color='#FCF6F5FF', edgecolor='black', lw=1)\n",
    "plt.show()"
   ]
  },
  {
   "cell_type": "markdown",
   "id": "3fc870ef",
   "metadata": {},
   "source": [
    "### Exercise\n",
    "\n",
    "- Reproject the data map.\n",
    "- Find a colourmap that highlights the different timezones clearly.\n",
    "- Plot the worlds borders on top to show how timezones match with country outlines.\n",
    "\n",
    "<img src=\"../resources/assets/timezones.png\"  width=\"500\" height=\"500\">"
   ]
  },
  {
   "cell_type": "code",
   "execution_count": null,
   "id": "ce327013",
   "metadata": {},
   "outputs": [],
   "source": [
    "import cartopy.crs as ccrs\n"
   ]
  },
  {
   "cell_type": "markdown",
   "id": "b38dbcc5",
   "metadata": {},
   "source": [
    "## Exercise\n",
    "\n",
    "- Read the roman_empire.geojson and mongol_empire.geojson from the resources folder\n",
    "- Generate a plot showing both empires\n",
    "- Isolate the overlap between the two using gpd.overlay\n",
    "\n",
    "<img src=\"../resources/assets/rome_example.png\"  width=\"500\" height=\"500\">"
   ]
  },
  {
   "cell_type": "markdown",
   "id": "ce9dba88",
   "metadata": {},
   "source": [
    "### Combining Polygons, LineStrings and Points\n",
    "\n",
    "In this section we will generate a map of all flights that take place between this timezone (Texas) and my timezone (UK)"
   ]
  },
  {
   "cell_type": "code",
   "execution_count": null,
   "id": "ee432f4a",
   "metadata": {},
   "outputs": [],
   "source": [
    "import pandas as pd\n",
    "uk = data.loc[data['name'] == '0']\n",
    "texas = data.loc[data['name'] == '-6']\n",
    "my_flight = pd.concat([uk, texas])\n",
    "print(my_flight)"
   ]
  },
  {
   "cell_type": "code",
   "execution_count": null,
   "id": "cc85aeb8",
   "metadata": {},
   "outputs": [],
   "source": [
    "airports = pd.read_csv(\"../resources/airports\", delimiter=',', names=['id', 'name', 'city', 'country', 'iata', \n",
    "                                                                   'icao', 'lat', 'long', 'altitude', 'timezone',\n",
    "                                                                   'dst', 'tz', 'type', 'source'])"
   ]
  },
  {
   "cell_type": "code",
   "execution_count": null,
   "id": "3e4b8f9d",
   "metadata": {},
   "outputs": [],
   "source": [
    "routes = pd.read_csv(\"../resources/routes\", delimiter=',', names=['airline', 'id', 'source_airport', 'source_airport_id',\n",
    "                                                               'destination_airport', 'destination_airport_id', 'codeshare',\n",
    "                                                               'stops', 'equitment'])"
   ]
  },
  {
   "cell_type": "code",
   "execution_count": null,
   "id": "ed7232a6",
   "metadata": {},
   "outputs": [],
   "source": [
    "from shapely.geometry import Point\n",
    "\n",
    "geometry = [Point(xy) for xy in zip(airports['long'], airports['lat'])]\n",
    "airports = gpd.GeoDataFrame(airports, crs=\"EPSG:4326\", geometry=geometry)"
   ]
  },
  {
   "cell_type": "code",
   "execution_count": null,
   "id": "22a5afed",
   "metadata": {},
   "outputs": [],
   "source": [
    "new_airports = gpd.sjoin(airports, my_flight, op='within')"
   ]
  },
  {
   "cell_type": "code",
   "execution_count": null,
   "id": "744094f1",
   "metadata": {},
   "outputs": [],
   "source": [
    "new_airports = new_airports.rename(columns = {'name_left': 'airport_name', 'name_right': 'timezone_name'})"
   ]
  },
  {
   "cell_type": "code",
   "execution_count": null,
   "id": "def4c284",
   "metadata": {},
   "outputs": [],
   "source": [
    "print(new_airports.airport_name.unique())\n",
    "print(new_airports.timezone_name.unique())"
   ]
  },
  {
   "cell_type": "code",
   "execution_count": null,
   "id": "e0c073c7",
   "metadata": {},
   "outputs": [],
   "source": [
    "from shapely.geometry import LineString \n",
    "\n",
    "source_airports = new_airports[['airport_name', 'iata', 'icao', \n",
    "                                'lat', 'long', 'timezone_name']]\n",
    "\n",
    "destination_airports = source_airports.copy()\n",
    "source_airports.columns = [str(col) + '_source' for col in source_airports.columns]\n",
    "destination_airports.columns = [str(col) + '_destination' for col in destination_airports.columns]\n",
    "\n",
    "routes = routes[['source_airport', 'destination_airport']]\n",
    "routes = pd.merge(routes, source_airports, left_on='source_airport', right_on='iata_source')\n",
    "routes = pd.merge(routes, destination_airports, left_on='destination_airport', right_on='iata_destination')\n"
   ]
  },
  {
   "cell_type": "code",
   "execution_count": null,
   "id": "683edee0",
   "metadata": {},
   "outputs": [],
   "source": [
    "routes = routes[routes['timezone_name_source'] != routes['timezone_name_destination']]\n",
    "\n",
    "routes_geometry = [LineString([[routes.iloc[i]['long_source'], routes.iloc[i]['lat_source']], [routes.iloc[i]['long_destination'], routes.iloc[i]['lat_destination']]]) for i in range(routes.shape[0])]\n",
    "routes_geodata = gpd.GeoDataFrame(routes, geometry=routes_geometry, crs='EPSG:4326')"
   ]
  },
  {
   "cell_type": "code",
   "execution_count": null,
   "id": "16eed686",
   "metadata": {},
   "outputs": [],
   "source": [
    "fig, ax = plt.subplots(subplot_kw={'projection': ccrs.Mercator()}, figsize=(10,10))\n",
    "ax.patch.set_facecolor('#FCF6F5FF')\n",
    "routes_geodata.plot(ax=ax, color='black', linewidth=0.1)\n",
    "ax.axis('off')\n",
    "plt.show()"
   ]
  },
  {
   "cell_type": "code",
   "execution_count": null,
   "id": "20d2bc40",
   "metadata": {},
   "outputs": [],
   "source": [
    "fig, ax = plt.subplots(facecolor='#FCF6F5FF', figsize=(10,10))\n",
    "\n",
    "countries.plot(ax=ax, color='none', edgecolor='black', lw=1)\n",
    "data.plot(ax=ax, column='name', cmap='jet', edgecolor='white', lw=1, alpha=0.6)\n",
    "routes_geodata.plot(ax=ax, color='black', linewidth=0.1)\n",
    "\n",
    "ax.axis('off')\n",
    "plt.show()"
   ]
  },
  {
   "cell_type": "markdown",
   "id": "eca557b4",
   "metadata": {},
   "source": [
    "## Exercise\n",
    "\n",
    "- Show the airports as well as the flight routes.\n",
    "- Clip the image to only show the area where flights occur.\n",
    "- Account for the curvature of the earth in your line projection.\n",
    "\n",
    "![alt text](../resources/assets/my_flight.png \"Title\")"
   ]
  }
 ],
 "metadata": {
  "kernelspec": {
   "display_name": "Python 3 (ipykernel)",
   "language": "python",
   "name": "python3"
  },
  "language_info": {
   "codemirror_mode": {
    "name": "ipython",
    "version": 3
   },
   "file_extension": ".py",
   "mimetype": "text/x-python",
   "name": "python",
   "nbconvert_exporter": "python",
   "pygments_lexer": "ipython3",
   "version": "3.9.13"
  }
 },
 "nbformat": 4,
 "nbformat_minor": 5
}

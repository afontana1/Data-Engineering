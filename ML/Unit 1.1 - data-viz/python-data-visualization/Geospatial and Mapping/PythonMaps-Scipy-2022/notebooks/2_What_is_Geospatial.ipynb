{
 "cells": [
  {
   "cell_type": "code",
   "execution_count": null,
   "id": "8e415243",
   "metadata": {},
   "outputs": [],
   "source": [
    "from shapely.geometry import Point\n",
    "\n",
    "point = Point(0.0, 0.0)\n",
    "\n",
    "print(\"Area\", point.area)\n",
    "print(\"Length\", point.length)\n",
    "print(\"Bounds\", point.bounds)\n",
    "print(\"Longitude\", point.x)\n",
    "print(\"Latitude\", point.y)"
   ]
  },
  {
   "cell_type": "code",
   "execution_count": null,
   "id": "e482f75c",
   "metadata": {},
   "outputs": [],
   "source": [
    "import matplotlib.pyplot as plt\n",
    "\n",
    "points = [Point(-4, 0.), \n",
    "          Point(-5, 12.),\n",
    "          Point(-6., 3.),\n",
    "          Point(-8., 7.),\n",
    "          Point(-4., 8.),\n",
    "          Point(-3., 2.),\n",
    "          Point(-1., 6.)]\n",
    "\n",
    "xs = [point.x for point in points]\n",
    "ys = [point.y for point in points]\n",
    "plt.scatter(xs, ys)\n",
    "plt.show()"
   ]
  },
  {
   "cell_type": "code",
   "execution_count": null,
   "id": "02767caf",
   "metadata": {},
   "outputs": [],
   "source": [
    "import matplotlib.pyplot as plt\n",
    "\n",
    "points = [Point(-4, 0.), \n",
    "          Point(-5, 12.),\n",
    "          Point(-6., 3.),\n",
    "          Point(-8., 7.),\n",
    "          Point(-4., 8.),\n",
    "          Point(-3., 2.),\n",
    "          Point(-1., 6.)]\n",
    "\n",
    "xs = [point.x for point in points]\n",
    "ys = [point.y for point in points]\n",
    "plt.scatter(xs, ys)\n",
    "plt.show()"
   ]
  },
  {
   "cell_type": "code",
   "execution_count": null,
   "id": "69b6bf4a",
   "metadata": {},
   "outputs": [],
   "source": [
    "from shapely.geometry import LineString\n",
    "\n",
    "line = LineString([(0, 0), (1, 1)])\n",
    "\n",
    "print(\"Area\", line.area)\n",
    "print(\"Length\", line.length)\n",
    "print(\"Bounds\", line.bounds)\n",
    "print(\"Longitude, Latitude\", line.xy)"
   ]
  },
  {
   "cell_type": "code",
   "execution_count": null,
   "id": "cbbc3643",
   "metadata": {},
   "outputs": [],
   "source": [
    "Lines = [LineString([Point(-4, 0.), Point(-5, 12.), Point(-6., 3.)]),\n",
    "         LineString([Point(-8., 7.),Point(-4., 8.),Point(-3., 2.),Point(-1., 6.)])]\n",
    "\n",
    "plt.plot(Lines[0].xy[0], Lines[0].xy[1])\n",
    "plt.plot(Lines[1].xy[0], Lines[1].xy[1])\n",
    "plt.show()"
   ]
  },
  {
   "cell_type": "code",
   "execution_count": null,
   "id": "1e9d0602",
   "metadata": {},
   "outputs": [],
   "source": [
    "from shapely.geometry import Polygon\n",
    "\n",
    "polygon = Polygon([(0, 0), (1, 1), (1, 0)])\n",
    "\n",
    "print(\"Area\", polygon.area)\n",
    "print(\"Length\", polygon.length)\n",
    "print(\"Bounds\", polygon.bounds)\n",
    "print(\"Boundary\", polygon.boundary)\n",
    "print(\"Center\", polygon.centroid)"
   ]
  },
  {
   "cell_type": "code",
   "execution_count": null,
   "id": "4c24fdd7",
   "metadata": {},
   "outputs": [],
   "source": [
    "Polygons = Polygon([(-4, 0.), (-5, 0.),(-6., 3.), (-8., 7.),(-4., 8.),(-3., 2.), (-1., 2.)])\n",
    "\n",
    "plt.fill(*Polygons.exterior.xy)\n",
    "plt.show()"
   ]
  },
  {
   "cell_type": "code",
   "execution_count": null,
   "id": "6dd03398",
   "metadata": {},
   "outputs": [],
   "source": [
    "import shapely.ops as so\n",
    "import matplotlib.pyplot as plt\n",
    "from itertools import combinations\n",
    "\n",
    "r1 = Polygon([(0,0),(0,1),(1,1),(1,0),(0,0)])\n",
    "r2 = Polygon([(1,1),(1,2),(2,2),(2,1),(1,1)])\n",
    "r3 = Polygon([(0.5,0.5),(0.5,1.5),(1.5,1.5),(1.5,0.5),(0.5,0.5)])\n",
    "r4 = Polygon([(3,3),(3,4),(4,4),(4,3),(3,3)])\n",
    "\n",
    "plt.figure(figsize=(20,5))\n",
    "ax1 = plt.subplot(1,3,1)\n",
    "ax1.fill(*r1.exterior.xy)\n",
    "ax1.fill(*r2.exterior.xy)\n",
    "ax1.fill(*r3.exterior.xy)\n",
    "ax1.fill(*r4.exterior.xy)\n",
    "ax1.set_title(\"4 Polygons\")\n",
    "\n",
    "ax2 = plt.subplot(1,3,2)\n",
    "new_shape = so.cascaded_union([r1, r2, r3])\n",
    "ax2.fill(*new_shape.exterior.xy)\n",
    "ax2.set_title(\"1 Polygon\")\n",
    "\n",
    "ax3 = plt.subplot(1,3,3)\n",
    "multipolygon = so.cascaded_union([r1, r2, r3, r4])\n",
    "for geom in multipolygon.geoms:\n",
    "    ax3.fill(*geom.exterior.xy) \n",
    "ax3.set_title(\"1 MultiPolygon (2 Polygons)\")\n",
    "plt.show()"
   ]
  },
  {
   "cell_type": "code",
   "execution_count": null,
   "id": "d984f000",
   "metadata": {},
   "outputs": [],
   "source": [
    "import geopandas as gpd\n",
    "import pandas as pd\n",
    "\n",
    "points = [Point(-4, 0.), Point(-5, 12.),Point(-6., 3.),Point(-8., 7.),Point(-4., 8.),Point(-3., 2.),Point(-1., 6.)]\n",
    "\n",
    "points_gdf = gpd.GeoDataFrame(pd.DataFrame({'Name': [\"P1\",\"P2\",\"P3\",\"P4\",\"P5\",\"P6\",\"P7\"]}), \n",
    "                              crs=\"EPSG:4326\", \n",
    "                              geometry=points)\n",
    "\n",
    "Lines = [LineString([Point(-4, 0.), Point(-5, 12.), Point(-6., 3.)]),\n",
    "         LineString([Point(-8., 7.),Point(-4., 8.),Point(-3., 2.),Point(-1., 6.)])]\n",
    "\n",
    "lines_gdf = gpd.GeoDataFrame(pd.DataFrame({'Name': [\"Line 1\", \"Line 2\"]}), \n",
    "                             crs=\"EPSG:4326\", \n",
    "                             geometry=Lines)\n",
    "\n",
    "geoms = Polygon([(0,0),(0,5),(5,5),(5,0),(0,0)])\n",
    "polygon_gdf = gpd.GeoDataFrame(pd.DataFrame({'Name': [\"Polygon\"]}), \n",
    "                               crs=\"EPSG:4326\", \n",
    "                               geometry=[geoms])\n",
    "\n",
    "gdf = pd.concat([points_gdf, lines_gdf, polygon_gdf]).reset_index(drop=True)\n",
    "gdf[\"area\"] = gdf.area\n",
    "gdf['boundary'] = gdf.boundary\n",
    "gdf['centroid'] = gdf.centroid\n",
    "\n",
    "print(gdf)"
   ]
  },
  {
   "cell_type": "code",
   "execution_count": null,
   "id": "ad786063",
   "metadata": {},
   "outputs": [],
   "source": [
    "gdf = gpd.read_file(gpd.datasets.get_path('naturalearth_lowres'))\n",
    "\n",
    "gdf.plot()\n",
    "plt.show()"
   ]
  },
  {
   "cell_type": "code",
   "execution_count": null,
   "id": "25b88b54",
   "metadata": {},
   "outputs": [],
   "source": [
    "import rasterio\n",
    "\n",
    "dataset = rasterio.open('../resources/assets/GC.jpg')\n",
    "print(\"Width\", dataset.width)\n",
    "print(\"Height\", dataset.height)\n",
    "print(\"Bounds\", dataset.bounds)\n",
    "print(\"CRS\", dataset.crs)\n",
    "plt.imshow(dataset.read(1))\n",
    "plt.show()"
   ]
  },
  {
   "cell_type": "code",
   "execution_count": null,
   "id": "74f91509",
   "metadata": {},
   "outputs": [],
   "source": [
    "import matplotlib.ticker as mticker\n",
    "import cartopy.crs as ccrs\n",
    "\n",
    "from cartopy.mpl.gridliner import LONGITUDE_FORMATTER, LATITUDE_FORMATTER\n",
    "\n",
    "\n",
    "ax = plt.axes(projection=ccrs.Mercator())\n",
    "gdf.plot(ax=ax, transform=ccrs.PlateCarree())\n",
    "gl = ax.gridlines(crs=ccrs.PlateCarree(), draw_labels=True,\n",
    "                  linewidth=2, color='black', alpha=0.5, linestyle='--')\n",
    "plt.show()"
   ]
  },
  {
   "cell_type": "code",
   "execution_count": null,
   "id": "a06154fa",
   "metadata": {},
   "outputs": [],
   "source": [
    "ax = plt.axes(projection=ccrs.LambertCylindrical())\n",
    "gdf.plot(ax=ax, transform=ccrs.PlateCarree())\n",
    "gl = ax.gridlines(crs=ccrs.PlateCarree(), draw_labels=True,\n",
    "                  linewidth=2, color='black', alpha=0.5, linestyle='--')\n",
    "plt.show()"
   ]
  }
 ],
 "metadata": {
  "kernelspec": {
   "display_name": "Python 3 (ipykernel)",
   "language": "python",
   "name": "python3"
  },
  "language_info": {
   "codemirror_mode": {
    "name": "ipython",
    "version": 3
   },
   "file_extension": ".py",
   "mimetype": "text/x-python",
   "name": "python",
   "nbconvert_exporter": "python",
   "pygments_lexer": "ipython3",
   "version": "3.8.13"
  }
 },
 "nbformat": 4,
 "nbformat_minor": 5
}

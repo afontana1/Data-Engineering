{
 "cells": [
  {
   "cell_type": "markdown",
   "id": "e64dff21",
   "metadata": {},
   "source": [
    "# Points\n",
    "\n",
    "Data Source - https://msi.nga.mil/Publications/WPI\n",
    "\n",
    "- Convert the excel file into a csv and save to the resources folder. \n",
    "- Alternatively, there is a ports.csv file in the resources folder with a series of lat/longs placed randomly at the coast. "
   ]
  },
  {
   "cell_type": "code",
   "execution_count": null,
   "id": "8c280ab2",
   "metadata": {},
   "outputs": [],
   "source": [
    "import pandas as pd\n",
    "ports = pd.read_csv(\"../resources/ports.csv\")"
   ]
  },
  {
   "cell_type": "code",
   "execution_count": null,
   "id": "50d3e02b",
   "metadata": {},
   "outputs": [],
   "source": [
    "print(ports)"
   ]
  },
  {
   "cell_type": "code",
   "execution_count": null,
   "id": "2ece409b",
   "metadata": {},
   "outputs": [],
   "source": [
    "from shapely.geometry import Point\n",
    "import geopandas as gpd\n",
    "\n",
    "port_geometry = [Point(xy) for xy in zip(ports['lon'], ports['lat'])]\n",
    "port_geodata = gpd.GeoDataFrame(ports, crs=\"EPSG:4326\", geometry=port_geometry)"
   ]
  },
  {
   "cell_type": "code",
   "execution_count": null,
   "id": "e9d7fcd2",
   "metadata": {},
   "outputs": [],
   "source": [
    "import matplotlib.pyplot as plt\n",
    "\n",
    "fig, ax = plt.subplots()\n",
    "port_geodata.plot(ax=ax)\n",
    "plt.show()"
   ]
  },
  {
   "cell_type": "code",
   "execution_count": null,
   "id": "f116cd20",
   "metadata": {},
   "outputs": [],
   "source": [
    "import cartopy.crs as ccrs\n",
    "\n",
    "fig, ax = plt.subplots(subplot_kw={'projection': ccrs.Robinson()})\n",
    "port_geodata.plot(ax=ax, transform=ccrs.PlateCarree())\n",
    "plt.show()"
   ]
  },
  {
   "cell_type": "markdown",
   "id": "0232eb52",
   "metadata": {},
   "source": [
    "#### Exercise\n",
    "\n",
    "\n",
    "My attempt\n",
    "\n",
    "![alt text](../resources/assets/ports.png \"Title\")\n"
   ]
  },
  {
   "cell_type": "markdown",
   "id": "2919f88c",
   "metadata": {},
   "source": [
    "## Plotting Lines\n",
    "\n",
    "Data Source - https://openflights.org/data.html\n",
    "\n",
    "- Download airports.dat and place in the resources folder\n",
    "- Download routes.dat and place in the resources folder"
   ]
  },
  {
   "cell_type": "code",
   "execution_count": null,
   "id": "db9b67c2",
   "metadata": {},
   "outputs": [],
   "source": [
    "airports = pd.read_csv(\"../resources/airports\", delimiter=',', names=['id', 'name', 'city', 'country', 'iata', \n",
    "                                                                   'icao', 'lat', 'long', 'altitude', 'timezone',\n",
    "                                                                   'dst', 'tz', 'type', 'source'])"
   ]
  },
  {
   "cell_type": "code",
   "execution_count": null,
   "id": "b966e20f",
   "metadata": {},
   "outputs": [],
   "source": [
    "print(airports)"
   ]
  },
  {
   "cell_type": "markdown",
   "id": "ae682252",
   "metadata": {},
   "source": [
    "### Exercise\n",
    "\n",
    "- Create a list of points from the lat/long values in the airports DataFrame\n",
    "- Convert the airports dataframe to a GeoDataFrame using the list of points created above\n",
    "- Generate a map of the worlds airports"
   ]
  },
  {
   "cell_type": "code",
   "execution_count": null,
   "id": "fab9458b",
   "metadata": {},
   "outputs": [],
   "source": [
    "routes = pd.read_csv(\"../resources/routes\", delimiter=',', names=['airline', 'id', 'source_airport', 'source_airport_id',\n",
    "                                                               'destination_airport', 'destination_airport_id', 'codeshare',\n",
    "                                                               'stops', 'equitment'])"
   ]
  },
  {
   "cell_type": "code",
   "execution_count": null,
   "id": "ada799b1",
   "metadata": {},
   "outputs": [],
   "source": [
    "print(routes)"
   ]
  },
  {
   "cell_type": "code",
   "execution_count": null,
   "id": "a8f63e45",
   "metadata": {},
   "outputs": [],
   "source": [
    "source_airports = airports[['name', 'iata', 'icao', 'lat', 'long']]\n",
    "destination_airports = source_airports.copy()\n",
    "source_airports.columns = [str(col) + '_source' for col in source_airports.columns]\n",
    "destination_airports.columns = [str(col) + '_destination' for col in destination_airports.columns]"
   ]
  },
  {
   "cell_type": "code",
   "execution_count": null,
   "id": "40f467a5",
   "metadata": {},
   "outputs": [],
   "source": [
    "routes = routes[['source_airport', 'destination_airport']]\n",
    "routes = pd.merge(routes, source_airports, left_on='source_airport', right_on='iata_source')\n",
    "routes = pd.merge(routes, destination_airports, left_on='destination_airport', right_on='iata_destination')\n",
    "\n",
    "print(routes.columns)"
   ]
  },
  {
   "cell_type": "code",
   "execution_count": null,
   "id": "c82759d2",
   "metadata": {},
   "outputs": [],
   "source": [
    "from shapely.geometry import LineString\n",
    "\n",
    "routes_geometry = [LineString([[routes.iloc[i]['long_source'], routes.iloc[i]['lat_source']], [routes.iloc[i]['long_destination'], routes.iloc[i]['lat_destination']]]) for i in range(routes.shape[0])]\n",
    "routes_geodata = gpd.GeoDataFrame(routes, geometry=routes_geometry, crs='EPSG:4326')"
   ]
  },
  {
   "cell_type": "code",
   "execution_count": null,
   "id": "d8bd0d59",
   "metadata": {},
   "outputs": [],
   "source": [
    "print(routes.columns)"
   ]
  },
  {
   "cell_type": "code",
   "execution_count": null,
   "id": "26cf0210",
   "metadata": {},
   "outputs": [],
   "source": [
    "fig, ax = plt.subplots(figsize=(20,20))\n",
    "ax.patch.set_facecolor('black')\n",
    "\n",
    "routes_geodata.plot(ax=ax, color='white', linewidth=0.1)\n",
    "\n",
    "plt.show()"
   ]
  },
  {
   "cell_type": "code",
   "execution_count": null,
   "id": "5b282ef2",
   "metadata": {},
   "outputs": [],
   "source": [
    "fig, ax = plt.subplots(subplot_kw={'projection': ccrs.Robinson()}, figsize=(20,20))\n",
    "ax.patch.set_facecolor('black')\n",
    "routes_geodata.plot(ax=ax, transform=ccrs.Geodetic(), color='white', linewidth=0.1, alpha=0.1)\n",
    "plt.setp(ax.spines.values(), color='black')\n",
    "plt.setp([ax.get_xticklines(), ax.get_yticklines()], color='black')\n",
    "ax.set_ylim(-7000000, 8800000)\n",
    "plt.show()"
   ]
  },
  {
   "cell_type": "markdown",
   "id": "126c2b3b",
   "metadata": {},
   "source": [
    "### Exercise\n",
    "\n",
    "- Use the routes data to add a new column to the airports DataFrame with a value showing the number of flights that landed in that airport\n",
    "- Create a plot combining the routes and airports into one\n",
    "- Scale the size of the airport points according to the number of flights that land there.\n",
    "- The expected output is shown below.\n",
    "\n",
    "![alt text](../resources/assets/airroutes_mad.png \"Title\")"
   ]
  },
  {
   "cell_type": "code",
   "execution_count": null,
   "id": "25cf126a",
   "metadata": {},
   "outputs": [],
   "source": []
  }
 ],
 "metadata": {
  "kernelspec": {
   "display_name": "Python 3 (ipykernel)",
   "language": "python",
   "name": "python3"
  },
  "language_info": {
   "codemirror_mode": {
    "name": "ipython",
    "version": 3
   },
   "file_extension": ".py",
   "mimetype": "text/x-python",
   "name": "python",
   "nbconvert_exporter": "python",
   "pygments_lexer": "ipython3",
   "version": "3.9.13"
  }
 },
 "nbformat": 4,
 "nbformat_minor": 5
}

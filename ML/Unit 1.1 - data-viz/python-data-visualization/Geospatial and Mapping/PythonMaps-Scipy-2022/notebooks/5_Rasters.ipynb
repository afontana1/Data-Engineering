{
 "cells": [
  {
   "cell_type": "markdown",
   "id": "20a72cf9",
   "metadata": {},
   "source": [
    "# Rasters\n",
    "\n",
    "Data Source - [Forests](https://globalmaps.github.io/ptc.html)\n",
    "\n",
    "Data Source - [Surface_Temperature](https://neo.gsfc.nasa.gov/view.php?datasetId=MOD_LSTD_M&year=2021)"
   ]
  },
  {
   "cell_type": "code",
   "execution_count": null,
   "id": "b3321d9c",
   "metadata": {},
   "outputs": [],
   "source": [
    "import rasterio\n",
    "import numpy as np\n",
    "\n",
    "forests_file = rasterio.open('../resources/gm_ve_v1.tif')\n",
    "forests = forests_file.read()\n",
    "\n",
    "print(np.amin(forests))\n",
    "print(np.amax(forests))\n",
    "print(len(np.unique(forests)))"
   ]
  },
  {
   "cell_type": "code",
   "execution_count": null,
   "id": "b1775c51",
   "metadata": {},
   "outputs": [],
   "source": [
    "import matplotlib.pyplot as plt\n",
    "\n",
    "fig = plt.figure(facecolor='#FCF6F5FF')\n",
    "\n",
    "ax = plt.axes()\n",
    "fig.set_size_inches(7, 3.5)\n",
    "ax.patch.set_facecolor('#FCF6F5FF')\n",
    "ax.imshow(forests[0],cmap='Greens',interpolation='nearest')\n",
    "ax.axis('off')\n",
    "plt.show()"
   ]
  },
  {
   "cell_type": "code",
   "execution_count": null,
   "id": "a7215558",
   "metadata": {},
   "outputs": [],
   "source": [
    "from matplotlib.colors import ListedColormap, LinearSegmentedColormap, BoundaryNorm\n",
    "from matplotlib import cm\n",
    "\n",
    "purples = cm.get_cmap('Greens', 254)\n",
    "newcolors = purples(np.linspace(0, 1, 254))\n",
    "background_colour = np.array([0.9882352941176471, 0.9647058823529412, 0.9607843137254902, 1.0])\n",
    "newcolors[:1, :] = background_colour\n",
    "newcmp_forests = ListedColormap(newcolors)\n",
    "\n",
    "bounds = np.arange(254)\n",
    "norm_forests = BoundaryNorm(bounds, newcmp_forests.N)\n",
    "\n",
    "gradient = np.linspace(0, 1, 254)\n",
    "gradient = np.vstack((gradient, gradient))\n",
    "fig, ax = plt.subplots()\n",
    "ax.imshow(gradient, aspect='auto', cmap=newcmp_forests)\n",
    "ax.get_yaxis().set_visible(False)\n",
    "ax.axvline(100, ls=\"--\", c='black', )\n",
    "plt.text(105, 0.7, \"Data Ends\", rotation=90)\n",
    "\n",
    "plt.show()"
   ]
  },
  {
   "cell_type": "code",
   "execution_count": null,
   "id": "8bca048b",
   "metadata": {},
   "outputs": [],
   "source": [
    "forests[0][forests[0] == 254] = 0.0\n",
    "\n",
    "ourcmap = cm.get_cmap('Greens', 101)\n",
    "newcolors = ourcmap(np.linspace(0, 1, 101))\n",
    "background_colour = np.array([0.9882352941176471, 0.9647058823529412, 0.9607843137254902, 1.0])\n",
    "newcolors[:1, :] = background_colour\n",
    "newcmp_forests = ListedColormap(newcolors)"
   ]
  },
  {
   "cell_type": "markdown",
   "id": "c76960f4",
   "metadata": {},
   "source": [
    "### Exercise \n",
    "\n",
    "- Plot the data using the new colourmap and norm"
   ]
  },
  {
   "cell_type": "markdown",
   "id": "a42d0759",
   "metadata": {},
   "source": [
    "## Projections"
   ]
  },
  {
   "cell_type": "code",
   "execution_count": null,
   "id": "cb4d1e9f",
   "metadata": {},
   "outputs": [],
   "source": [
    "import pyproj \n",
    "from pyproj import CRS\n",
    "\n",
    "for x, y in pyproj.pj_list.items():\n",
    "    print(x, y)"
   ]
  },
  {
   "cell_type": "code",
   "execution_count": null,
   "id": "ea345303",
   "metadata": {},
   "outputs": [],
   "source": [
    "import rioxarray as rxr\n",
    "from rasterio.crs import CRS\n",
    "\n",
    "org_surface_timp_file = rasterio.open('../resources/MOD_LSTD_M_2021-01-01_rgb_3600x1800.TIFF')\n",
    "org_surface_temp = org_surface_timp_file.read()\n",
    "\n",
    "surface_temp_file = rxr.open_rasterio('../resources/MOD_LSTD_M_2021-01-01_rgb_3600x1800.TIFF', masked=True).squeeze()\n",
    "\n",
    "print(\"Original projection: \", surface_temp_file.rio.crs)\n",
    "crs_rob = CRS.from_string('+proj=robin')\n",
    "surface_temp = surface_temp_file.rio.reproject(crs_rob)\n",
    "print(\"New projection: \", surface_temp.rio.crs)\n",
    "surface_temp = surface_temp.to_numpy()"
   ]
  },
  {
   "cell_type": "markdown",
   "id": "76d32927",
   "metadata": {},
   "source": [
    "### Exercise\n",
    "\n",
    "- Plot the new data and the old data to show the difference in projections\n",
    "- Fix the colourmap issues\n",
    "- Generate a new projection"
   ]
  },
  {
   "cell_type": "markdown",
   "id": "7528c39b",
   "metadata": {},
   "source": [
    "### Exercise\n",
    "\n",
    "- Go to https://neo.gsfc.nasa.gov/, pick a dataset and generate a new map\n",
    "\n",
    "![alt text](../resources/assets/movie.gif \"Title\")"
   ]
  }
 ],
 "metadata": {
  "kernelspec": {
   "display_name": "Python 3 (ipykernel)",
   "language": "python",
   "name": "python3"
  },
  "language_info": {
   "codemirror_mode": {
    "name": "ipython",
    "version": 3
   },
   "file_extension": ".py",
   "mimetype": "text/x-python",
   "name": "python",
   "nbconvert_exporter": "python",
   "pygments_lexer": "ipython3",
   "version": "3.9.13"
  }
 },
 "nbformat": 4,
 "nbformat_minor": 5
}

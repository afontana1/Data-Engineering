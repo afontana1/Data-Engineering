{
 "cells": [
  {
   "cell_type": "markdown",
   "metadata": {},
   "source": [
    "## HashingVectorizer "
   ]
  },
  {
   "cell_type": "code",
   "execution_count": 74,
   "metadata": {},
   "outputs": [],
   "source": [
    "from sklearn.feature_extraction.text import HashingVectorizer\n",
    "\n",
    "# dataset\n",
    "cat_in_the_hat_docs=[\n",
    "      \"One Cent, Two Cents, Old Cent, New Cent: All About Money (Cat in the Hat's Learning Library\",\n",
    "      \"Inside Your Outside: All About the Human Body (Cat in the Hat's Learning Library)\",\n",
    "      \"Oh, The Things You Can Do That Are Good for You: All About Staying Healthy (Cat in the Hat's Learning Library)\",\n",
    "      \"On Beyond Bugs: All About Insects (Cat in the Hat's Learning Library)\",\n",
    "      \"There's No Place Like Space: All About Our Solar System (Cat in the Hat's Learning Library)\" \n",
    "]\n",
    "\n",
    "# Compute raw counts using hashing vectorizer\n",
    "# Small numbers of n_features can cause hash collisions\n",
    "hvectorizer = HashingVectorizer(n_features=10000,norm=None,alternate_sign=False)\n",
    "\n",
    "# compute counts without any term frequency normalization\n",
    "X = hvectorizer.fit_transform(cat_in_the_hat_docs)"
   ]
  },
  {
   "cell_type": "code",
   "execution_count": 75,
   "metadata": {},
   "outputs": [
    {
     "data": {
      "text/plain": [
       "(5, 1048576)"
      ]
     },
     "execution_count": 75,
     "metadata": {},
     "output_type": "execute_result"
    }
   ],
   "source": [
    "# 5 docs, 10000 columns\n",
    "X.shape"
   ]
  },
  {
   "cell_type": "code",
   "execution_count": 60,
   "metadata": {},
   "outputs": [
    {
     "name": "stdout",
     "output_type": "stream",
     "text": [
      "  (0, 93)\t3.0\n",
      "  (0, 689)\t1.0\n",
      "  (0, 717)\t1.0\n",
      "  (0, 1664)\t1.0\n",
      "  (0, 2759)\t1.0\n",
      "  (0, 3124)\t1.0\n",
      "  (0, 4212)\t1.0\n",
      "  (0, 4380)\t1.0\n",
      "  (0, 5044)\t1.0\n",
      "  (0, 7353)\t1.0\n",
      "  (0, 8903)\t1.0\n",
      "  (0, 8958)\t1.0\n",
      "  (0, 9376)\t1.0\n",
      "  (0, 9402)\t1.0\n",
      "  (0, 9851)\t1.0\n"
     ]
    }
   ],
   "source": [
    "# print populated columns of first document\n",
    "# format: (doc id, pos_in_matrix)  raw_count\n",
    "print(X[0])"
   ]
  },
  {
   "cell_type": "markdown",
   "metadata": {},
   "source": [
    "## Achieving The Same with CountVectorizer"
   ]
  },
  {
   "cell_type": "code",
   "execution_count": 72,
   "metadata": {},
   "outputs": [],
   "source": [
    "from sklearn.feature_extraction.text import CountVectorizer\n",
    "cvectorizer = CountVectorizer()\n",
    "\n",
    "# compute counts without any term frequency normalization\n",
    "X = cvectorizer.fit_transform(cat_in_the_hat_docs)"
   ]
  },
  {
   "cell_type": "code",
   "execution_count": 69,
   "metadata": {},
   "outputs": [
    {
     "name": "stdout",
     "output_type": "stream",
     "text": [
      "(5, 43)\n"
     ]
    }
   ],
   "source": [
    "print(X.shape)"
   ]
  },
  {
   "cell_type": "code",
   "execution_count": 70,
   "metadata": {},
   "outputs": [
    {
     "name": "stdout",
     "output_type": "stream",
     "text": [
      "  (0, 28)\t1\n",
      "  (0, 8)\t3\n",
      "  (0, 40)\t1\n",
      "  (0, 9)\t1\n",
      "  (0, 26)\t1\n",
      "  (0, 23)\t1\n",
      "  (0, 1)\t1\n",
      "  (0, 0)\t1\n",
      "  (0, 22)\t1\n",
      "  (0, 7)\t1\n",
      "  (0, 16)\t1\n",
      "  (0, 37)\t1\n",
      "  (0, 13)\t1\n",
      "  (0, 19)\t1\n",
      "  (0, 20)\t1\n"
     ]
    }
   ],
   "source": [
    "print(X[0])"
   ]
  },
  {
   "cell_type": "code",
   "execution_count": 71,
   "metadata": {},
   "outputs": [
    {
     "data": {
      "text/plain": [
       "{'one': 28,\n",
       " 'cent': 8,\n",
       " 'two': 40,\n",
       " 'cents': 9,\n",
       " 'old': 26,\n",
       " 'new': 23,\n",
       " 'all': 1,\n",
       " 'about': 0,\n",
       " 'money': 22,\n",
       " 'cat': 7,\n",
       " 'in': 16,\n",
       " 'the': 37,\n",
       " 'hat': 13,\n",
       " 'learning': 19,\n",
       " 'library': 20,\n",
       " 'inside': 18,\n",
       " 'your': 42,\n",
       " 'outside': 30,\n",
       " 'human': 15,\n",
       " 'body': 4,\n",
       " 'oh': 25,\n",
       " 'things': 39,\n",
       " 'you': 41,\n",
       " 'can': 6,\n",
       " 'do': 10,\n",
       " 'that': 36,\n",
       " 'are': 2,\n",
       " 'good': 12,\n",
       " 'for': 11,\n",
       " 'staying': 34,\n",
       " 'healthy': 14,\n",
       " 'on': 27,\n",
       " 'beyond': 3,\n",
       " 'bugs': 5,\n",
       " 'insects': 17,\n",
       " 'there': 38,\n",
       " 'no': 24,\n",
       " 'place': 31,\n",
       " 'like': 21,\n",
       " 'space': 33,\n",
       " 'our': 29,\n",
       " 'solar': 32,\n",
       " 'system': 35}"
      ]
     },
     "execution_count": 71,
     "metadata": {},
     "output_type": "execute_result"
    }
   ],
   "source": [
    "cvectorizer.vocabulary_"
   ]
  },
  {
   "cell_type": "code",
   "execution_count": null,
   "metadata": {},
   "outputs": [],
   "source": []
  }
 ],
 "metadata": {
  "kernelspec": {
   "display_name": "Python 3",
   "language": "python",
   "name": "python3"
  },
  "language_info": {
   "codemirror_mode": {
    "name": "ipython",
    "version": 3
   },
   "file_extension": ".py",
   "mimetype": "text/x-python",
   "name": "python",
   "nbconvert_exporter": "python",
   "pygments_lexer": "ipython3",
   "version": "3.6.5"
  }
 },
 "nbformat": 4,
 "nbformat_minor": 2
}

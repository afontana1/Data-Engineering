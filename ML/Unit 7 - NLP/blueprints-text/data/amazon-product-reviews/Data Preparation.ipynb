{
 "cells": [
  {
   "cell_type": "markdown",
   "metadata": {},
   "source": [
    "**Steps to download the data**\n",
    "\n",
    "* We download the set of Amazon reviews from the website (https://nijianmo.github.io/amazon/index.html). We use the *Small subsets for experimentation* and not the Complete review data. They are referred to as k-core and are available for several categories. We only download the reviews (5-core) and not the ratings.\n",
    "\n",
    "* The list of categories is specified in the file - *productCategories.txt*. Even though this is a *small* subset, the reviews for some of the categories like Books can be quite large (6.6GB). We selected the following categories to balance the size and diversity of the categories.\n",
    "\n",
    "        * AMAZON_FASHION\n",
    "        * All_Beauty\n",
    "        * Appliances\n",
    "        * Arts_Crafts_and_Sewing\n",
    "        * Automotive\n",
    "        * Cell_Phones_and_Accessories\n",
    "        * Digital_Music\n",
    "        * Gift_Cards\n",
    "        * Grocery_and_Gourmet_Food\n",
    "        * Industrial_and_Scientific\n",
    "        * Luxury_Beauty\n",
    "        * Magazine_Subscriptions\n",
    "        * Musical_Instruments\n",
    "        * Office_Products\n",
    "        * Patio_Lawn_and_Garden\n",
    "        * Prime_Pantry\n",
    "        * Software\n",
    "\n",
    "* If you would like to change them, you need to add/delete entries to the *productCategories.txt*\n",
    "\n",
    "* Once the set of categories is set, you need to run the provided shell script *getData.sh* by executing the command `sh getData.sh`. This downloads each category file into the current folder\n",
    "\n",
    "* Once this script completes running, we can run the cells that follow in this notebook to create the final dataset used in the chapter"
   ]
  },
  {
   "cell_type": "code",
   "execution_count": 1,
   "metadata": {
    "ExecuteTime": {
     "end_time": "2020-09-06T14:31:32.536091Z",
     "start_time": "2020-09-06T14:31:32.533949Z"
    }
   },
   "outputs": [],
   "source": [
    "import pandas as pd"
   ]
  },
  {
   "cell_type": "code",
   "execution_count": 2,
   "metadata": {
    "ExecuteTime": {
     "end_time": "2020-09-06T14:34:02.365218Z",
     "start_time": "2020-09-06T14:34:02.360019Z"
    }
   },
   "outputs": [],
   "source": [
    "from nltk.tokenize import sent_tokenize, word_tokenize\n",
    "\n",
    "def num_sentences(text):\n",
    "    text = str(text)\n",
    "    return len(sent_tokenize(text))\n",
    "\n",
    "def get_category_data(cat_name):\n",
    "    # Load the zip file and deduplicate\n",
    "    data = pd.read_json(cat_name+'_5.json.gz', lines=True)\n",
    "    data = data.drop(columns=['style','reviewerName','vote','image'])\n",
    "    print ('Original Number of Reviews in ', cat_name, ' - ', len(data))\n",
    "    data = data.drop_duplicates()\n",
    "    print ('Number of reviews after de-duplication - ', len(data))\n",
    "        \n",
    "    # Keep reviews that contain only one sentence (remove if no text found)\n",
    "    data['num_sentences'] = data['reviewText'].apply(num_sentences)\n",
    "    data = data[data['num_sentences'] == 1]\n",
    "    data = data[~data['reviewText'].isna()]\n",
    "    data = data.drop(columns=['num_sentences'])\n",
    "    print ('Number of reviews with only one sentence - ', len(data))\n",
    "    \n",
    "    return data"
   ]
  },
  {
   "cell_type": "code",
   "execution_count": 5,
   "metadata": {
    "ExecuteTime": {
     "end_time": "2020-09-06T14:34:26.003901Z",
     "start_time": "2020-09-06T14:34:26.000835Z"
    }
   },
   "outputs": [],
   "source": [
    "# Create list of product categories\n",
    "with open('productCategories.txt', 'r') as f:\n",
    "    productCategories = []\n",
    "    for line in f:\n",
    "        if line.strip() != '':\n",
    "            productCategories.append(line.rstrip('\\n'))"
   ]
  },
  {
   "cell_type": "code",
   "execution_count": null,
   "metadata": {
    "ExecuteTime": {
     "end_time": "2020-09-06T14:46:28.667953Z",
     "start_time": "2020-09-06T14:34:49.702607Z"
    }
   },
   "outputs": [
    {
     "name": "stdout",
     "output_type": "stream",
     "text": [
      "Original Number of Reviews in  AMAZON_FASHION  -  3176\n",
      "Number of reviews after de-duplication -  3088\n",
      "Number of reviews with only one sentence -  1144\n",
      "Original Number of Reviews in  All_Beauty  -  5269\n",
      "Number of reviews after de-duplication -  4223\n",
      "Number of reviews with only one sentence -  1370\n",
      "Original Number of Reviews in  Appliances  -  2277\n",
      "Number of reviews after de-duplication -  205\n",
      "Number of reviews with only one sentence -  117\n",
      "Original Number of Reviews in  Arts_Crafts_and_Sewing  -  494485\n",
      "Number of reviews after de-duplication -  447166\n",
      "Number of reviews with only one sentence -  190688\n",
      "Original Number of Reviews in  Automotive  -  1711519\n",
      "Number of reviews after de-duplication -  1645944\n"
     ]
    }
   ],
   "source": [
    "# Load reviews for each category and append all to create dataset\n",
    "finalDF = pd.DataFrame(columns=['overall', 'verified', 'reviewTime', 'reviewerID', 'asin', 'reviewText', 'summary', 'unixReviewTime'])\n",
    "for category in productCategories:\n",
    "    returnDF = get_category_data(category)\n",
    "    finalDF = finalDF.append(returnDF)"
   ]
  },
  {
   "cell_type": "code",
   "execution_count": 32,
   "metadata": {
    "ExecuteTime": {
     "end_time": "2020-09-06T14:47:07.283136Z",
     "start_time": "2020-09-06T14:47:07.279561Z"
    }
   },
   "outputs": [
    {
     "data": {
      "text/plain": [
       "2498117"
      ]
     },
     "execution_count": 32,
     "metadata": {},
     "output_type": "execute_result"
    }
   ],
   "source": [
    "len(finalDF)"
   ]
  },
  {
   "cell_type": "code",
   "execution_count": 33,
   "metadata": {
    "ExecuteTime": {
     "end_time": "2020-09-06T14:47:19.758581Z",
     "start_time": "2020-09-06T14:47:19.624034Z"
    }
   },
   "outputs": [
    {
     "data": {
      "text/plain": [
       "5    1875488\n",
       "4     334975\n",
       "3     143414\n",
       "1      84851\n",
       "2      59389\n",
       "Name: overall, dtype: int64"
      ]
     },
     "execution_count": 33,
     "metadata": {},
     "output_type": "execute_result"
    }
   ],
   "source": [
    "finalDF['overall'].value_counts()"
   ]
  },
  {
   "cell_type": "code",
   "execution_count": 34,
   "metadata": {
    "ExecuteTime": {
     "end_time": "2020-09-06T14:47:32.491167Z",
     "start_time": "2020-09-06T14:47:30.162075Z"
    }
   },
   "outputs": [],
   "source": [
    "# We intend to use rating scores to tag positive and negative sentiment\n",
    "# As a result a score of 3 is not very helpful and we drop all reviews with this rating from the data\n",
    "finalDF = finalDF[finalDF['overall'] != 3]"
   ]
  },
  {
   "cell_type": "code",
   "execution_count": 35,
   "metadata": {
    "ExecuteTime": {
     "end_time": "2020-09-06T14:47:36.270408Z",
     "start_time": "2020-09-06T14:47:35.979894Z"
    }
   },
   "outputs": [],
   "source": [
    "# We tag all the reviews with a high rating [4,5] as positive sentiment (1)\n",
    "# We tag all the reviews with a low rating [1,2] as negative sentiment (0)\n",
    "\n",
    "finalDF['sentiment'] = 0\n",
    "finalDF.loc[finalDF['overall'] > 3, 'sentiment'] = 1\n",
    "finalDF.loc[finalDF['overall'] < 3, 'sentiment'] = 0"
   ]
  },
  {
   "cell_type": "code",
   "execution_count": 36,
   "metadata": {
    "ExecuteTime": {
     "end_time": "2020-09-06T14:47:44.630910Z",
     "start_time": "2020-09-06T14:47:41.260121Z"
    }
   },
   "outputs": [],
   "source": [
    "# To maintain a reasonable size of the dataset that we can work with easily while still capturing enough\n",
    "# observations from both samples, we sample 150k observations from each group\n",
    "def sampling_k_elements(group, k=150000):\n",
    "    if len(group) < k:\n",
    "        return group\n",
    "    return group.sample(k, random_state=42)\n",
    "\n",
    "finalDF = finalDF.groupby('sentiment').apply(sampling_k_elements).reset_index(drop=True)"
   ]
  },
  {
   "cell_type": "code",
   "execution_count": 38,
   "metadata": {
    "ExecuteTime": {
     "end_time": "2020-09-06T14:47:55.014575Z",
     "start_time": "2020-09-06T14:47:54.897121Z"
    }
   },
   "outputs": [
    {
     "name": "stdout",
     "output_type": "stream",
     "text": [
      "1    150000\n",
      "0    144240\n",
      "Name: sentiment, dtype: int64\n"
     ]
    }
   ],
   "source": [
    "print (finalDF['sentiment'].value_counts())\n",
    "finalDF = finalDF.drop(columns=['sentiment'])"
   ]
  },
  {
   "cell_type": "code",
   "execution_count": 39,
   "metadata": {
    "ExecuteTime": {
     "end_time": "2020-09-06T14:48:01.999187Z",
     "start_time": "2020-09-06T14:48:00.736566Z"
    }
   },
   "outputs": [],
   "source": [
    "finalDF.to_json('reviews_5_balanced.json', orient='records', lines=True)"
   ]
  }
 ],
 "metadata": {
  "kernelspec": {
   "display_name": "Python 3",
   "language": "python",
   "name": "python3"
  },
  "language_info": {
   "codemirror_mode": {
    "name": "ipython",
    "version": 3
   },
   "file_extension": ".py",
   "mimetype": "text/x-python",
   "name": "python",
   "nbconvert_exporter": "python",
   "pygments_lexer": "ipython3",
   "version": "3.8.6"
  }
 },
 "nbformat": 4,
 "nbformat_minor": 2
}

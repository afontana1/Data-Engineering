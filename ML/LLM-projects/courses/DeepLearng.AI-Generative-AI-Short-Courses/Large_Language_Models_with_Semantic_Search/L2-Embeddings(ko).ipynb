{
 "cells": [
  {
   "cell_type": "markdown",
   "id": "11cc2042",
   "metadata": {},
   "source": [
    "# Lesson 2: Embeddings(임베딩)"
   ]
  },
  {
   "cell_type": "markdown",
   "id": "14c47bc7",
   "metadata": {},
   "source": [
    "### Setup\n",
    "필요한 API 키, 그리고 관련 파이썬 라이브러리를 불러옵니다."
   ]
  },
  {
   "cell_type": "code",
   "execution_count": null,
   "id": "8831c1e6",
   "metadata": {
    "height": 30
   },
   "outputs": [],
   "source": [
    "# 로컬이나 외부 환경이면 설치해주세요\n",
    "# !pip install cohere umap-learn altair datasets"
   ]
  },
  {
   "cell_type": "code",
   "execution_count": null,
   "id": "23d4483b",
   "metadata": {
    "height": 64
   },
   "outputs": [],
   "source": [
    "import os\n",
    "from dotenv import load_dotenv, find_dotenv\n",
    "_ = load_dotenv(find_dotenv()) # read local .env file"
   ]
  },
  {
   "cell_type": "code",
   "execution_count": null,
   "id": "14cee683",
   "metadata": {
    "height": 47
   },
   "outputs": [],
   "source": [
    "import cohere\n",
    "co = cohere.Client(os.environ['COHERE_API_KEY'])"
   ]
  },
  {
   "cell_type": "code",
   "execution_count": null,
   "id": "7cd186b9",
   "metadata": {
    "height": 30
   },
   "outputs": [],
   "source": [
    "import pandas as pd"
   ]
  },
  {
   "cell_type": "markdown",
   "id": "a66e9572",
   "metadata": {},
   "source": [
    "## 단어 임베딩\n",
    "\n",
    "임베딩이란 여기서는 텍스트(단어 또는 문장)를 컴퓨터가 이해할 수 있는 숫자(벡터)로 표현하는 것을 말합니다.  \n",
    "물론 아무렇게나 바꾸는 것은 아니고, 임베딩 공간 내에 유사한 의미를 지닌 것들은 유사한 위치에 모일 수 있도록 세팅해주는 것으로 이해할 수 있습니다. \n",
    "아래 이해를 돕는 시각적 표현이 나옵니다."
   ]
  },
  {
   "cell_type": "markdown",
   "id": "7353a3d0",
   "metadata": {},
   "source": [
    "세 단어의 작은 데이터셋으로 예를 들어봅니다"
   ]
  },
  {
   "cell_type": "code",
   "execution_count": null,
   "id": "3ab6a806",
   "metadata": {
    "height": 149
   },
   "outputs": [],
   "source": [
    "three_words = pd.DataFrame({'text':\n",
    "  [\n",
    "      'joy',\n",
    "      'happiness',\n",
    "      'potato'\n",
    "  ]})\n",
    "\n",
    "three_words"
   ]
  },
  {
   "cell_type": "markdown",
   "id": "e27c4adb",
   "metadata": {},
   "source": [
    "세 단어의 임베딩을 만들어 봅시다"
   ]
  },
  {
   "cell_type": "code",
   "execution_count": null,
   "id": "22d30ec7",
   "metadata": {
    "height": 47
   },
   "outputs": [],
   "source": [
    "# embed 함수에 '텍스트'와 '모델'을 넣고 반환된 결과에서 'embedding'을 추출합니다.\n",
    "three_words_emb = co.embed(texts=list(three_words['text']),\n",
    "                           model='embed-english-v2.0').embeddings"
   ]
  },
  {
   "cell_type": "code",
   "execution_count": null,
   "id": "5f179777",
   "metadata": {
    "height": 64
   },
   "outputs": [],
   "source": [
    "word_1 = three_words_emb[0]\n",
    "word_2 = three_words_emb[1]\n",
    "word_3 = three_words_emb[2]"
   ]
  },
  {
   "cell_type": "code",
   "execution_count": null,
   "id": "69da1290",
   "metadata": {
    "height": 30
   },
   "outputs": [],
   "source": [
    "word_1[:10]"
   ]
  },
  {
   "cell_type": "markdown",
   "id": "81adb0d9",
   "metadata": {},
   "source": [
    "## 문장 임베딩"
   ]
  },
  {
   "cell_type": "markdown",
   "id": "575da3a8",
   "metadata": {},
   "source": [
    "네 개의 문장 쌍으로 이뤄진 작은 데이터셋을 살펴봅니다."
   ]
  },
  {
   "cell_type": "code",
   "execution_count": null,
   "id": "ca6539bc",
   "metadata": {
    "height": 234
   },
   "outputs": [],
   "source": [
    "sentences = pd.DataFrame({'text':\n",
    "  [\n",
    "   'Where is the world cup?',\n",
    "   'The world cup is in Qatar',\n",
    "   'What color is the sky?',\n",
    "   'The sky is blue',\n",
    "   'Where does the bear live?',\n",
    "   'The bear lives in the the woods',\n",
    "   'What is an apple?',\n",
    "   'An apple is a fruit',\n",
    "  ]})\n",
    "\n",
    "sentences"
   ]
  },
  {
   "cell_type": "markdown",
   "id": "05733ed4",
   "metadata": {},
   "source": [
    "네 문장 쌍의 임베딩을 생성해봅니다:"
   ]
  },
  {
   "cell_type": "code",
   "execution_count": null,
   "id": "ef89a105",
   "metadata": {
    "height": 115
   },
   "outputs": [],
   "source": [
    "emb = co.embed(texts=list(sentences['text']),\n",
    "               model='embed-english-v2.0').embeddings\n",
    "\n",
    "# Explore the 10 first entries of the embeddings of the 3 sentences:\n",
    "for e in emb:\n",
    "    print(e[:3])"
   ]
  },
  {
   "cell_type": "code",
   "execution_count": null,
   "id": "2c33c078",
   "metadata": {
    "height": 30
   },
   "outputs": [],
   "source": [
    "len(emb[0])"
   ]
  },
  {
   "cell_type": "code",
   "execution_count": null,
   "id": "a2b96e44",
   "metadata": {
    "height": 47
   },
   "outputs": [],
   "source": [
    "#import umap\n",
    "#import altair as alt"
   ]
  },
  {
   "cell_type": "code",
   "execution_count": null,
   "id": "eeb8c945",
   "metadata": {
    "height": 30
   },
   "outputs": [],
   "source": [
    "from utils import umap_plot"
   ]
  },
  {
   "cell_type": "markdown",
   "id": "8cf490e0",
   "metadata": {},
   "source": [
    "문장별 임베딩을 시각화합니다.  \n",
    "결과를 보면 유사한 문장은 유사한 위치에 모여 있는 것을 알 수 있습니다."
   ]
  },
  {
   "cell_type": "code",
   "execution_count": null,
   "id": "de8a8509",
   "metadata": {
    "height": 30
   },
   "outputs": [],
   "source": [
    "chart = umap_plot(sentences, emb)"
   ]
  },
  {
   "cell_type": "code",
   "execution_count": null,
   "id": "93a581c4",
   "metadata": {
    "height": 30
   },
   "outputs": [],
   "source": [
    "chart.interactive()"
   ]
  },
  {
   "cell_type": "markdown",
   "id": "3cfb0192",
   "metadata": {},
   "source": [
    "## 아티클(문서) 임베딩"
   ]
  },
  {
   "cell_type": "code",
   "execution_count": null,
   "id": "dfff2ced",
   "metadata": {
    "height": 64
   },
   "outputs": [],
   "source": [
    "import pandas as pd\n",
    "wiki_articles = pd.read_pickle('wikipedia.pkl')\n",
    "wiki_articles"
   ]
  },
  {
   "cell_type": "code",
   "execution_count": null,
   "id": "e9bde94a",
   "metadata": {
    "height": 47
   },
   "outputs": [],
   "source": [
    "import numpy as np\n",
    "from utils import umap_plot_big"
   ]
  },
  {
   "cell_type": "markdown",
   "id": "896259df",
   "metadata": {},
   "source": [
    "위에서와 같은 방식으로 문서를 임베딩합니다.  \n",
    "유사한 카테고리 단위로 임베딩 벡터들이 모여있다는 것을 확인할 수 있습니다."
   ]
  },
  {
   "cell_type": "code",
   "execution_count": null,
   "id": "874cf116",
   "metadata": {
    "height": 98
   },
   "outputs": [],
   "source": [
    "articles = wiki_articles[['title', 'text']]\n",
    "embeds = np.array([d for d in wiki_articles['emb']])\n",
    "\n",
    "chart = umap_plot_big(articles, embeds)\n",
    "chart.interactive()"
   ]
  },
  {
   "cell_type": "code",
   "execution_count": null,
   "id": "387c8901",
   "metadata": {
    "height": 30
   },
   "outputs": [],
   "source": []
  },
  {
   "cell_type": "code",
   "execution_count": null,
   "id": "cc3c9b2d",
   "metadata": {
    "height": 30
   },
   "outputs": [],
   "source": []
  },
  {
   "cell_type": "code",
   "execution_count": null,
   "id": "d8b338c7",
   "metadata": {
    "height": 30
   },
   "outputs": [],
   "source": []
  },
  {
   "cell_type": "code",
   "execution_count": null,
   "id": "b9e30d7b",
   "metadata": {
    "height": 30
   },
   "outputs": [],
   "source": []
  },
  {
   "cell_type": "code",
   "execution_count": null,
   "id": "ec708a6b",
   "metadata": {
    "height": 30
   },
   "outputs": [],
   "source": []
  }
 ],
 "metadata": {
  "kernelspec": {
   "display_name": "Python 3 (ipykernel)",
   "language": "python",
   "name": "python3"
  },
  "language_info": {
   "codemirror_mode": {
    "name": "ipython",
    "version": 3
   },
   "file_extension": ".py",
   "mimetype": "text/x-python",
   "name": "python",
   "nbconvert_exporter": "python",
   "pygments_lexer": "ipython3",
   "version": "3.9.17"
  }
 },
 "nbformat": 4,
 "nbformat_minor": 5
}

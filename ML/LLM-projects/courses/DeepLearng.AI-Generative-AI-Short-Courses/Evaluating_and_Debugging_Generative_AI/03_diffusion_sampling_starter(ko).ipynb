{
 "cells": [
  {
   "cell_type": "markdown",
   "id": "958524a2-cb56-439e-850e-032dd10478f2",
   "metadata": {},
   "source": [
    "# 디퓨전 모델로부터 샘플 추출하기\n",
    "\n",
    "이 노트북에서 우리는 이전에 학습된 디퓨전 모델로부터 샘플을 추출할 것입니다.\n",
    "- DDPM과 DDIM sampler로부터 추출한 샘플을 비교합니다\n",
    "- 추출된 샘플을 조건에 따라 시각화합니다"
   ]
  },
  {
   "cell_type": "markdown",
   "id": "b808d2dd",
   "metadata": {},
   "source": [
    "DDPM과 DDIM은 이미지 생성 모델들입니다.  \n",
    "전자는 처리 시간은 오래 걸리지만 성능이 좋고, 후자는 처리 시간이 짧지만 성능이 안좋습니다."
   ]
  },
  {
   "cell_type": "code",
   "execution_count": null,
   "id": "700e687c",
   "metadata": {
    "height": 149,
    "tags": []
   },
   "outputs": [],
   "source": [
    "from pathlib import Path\n",
    "from types import SimpleNamespace\n",
    "import torch\n",
    "import torch.nn.functional as F\n",
    "import numpy as np\n",
    "from utilities import *\n",
    "\n",
    "import wandb"
   ]
  },
  {
   "cell_type": "code",
   "execution_count": null,
   "id": "dcaf7a29-782c-4735-991f-4408f5ec6128",
   "metadata": {
    "height": 30
   },
   "outputs": [],
   "source": [
    "wandb.login(anonymous=\"allow\")"
   ]
  },
  {
   "cell_type": "markdown",
   "id": "7c0d229a",
   "metadata": {},
   "source": [
    "# 세팅"
   ]
  },
  {
   "cell_type": "code",
   "execution_count": null,
   "id": "54c3a942",
   "metadata": {
    "height": 336,
    "tags": []
   },
   "outputs": [],
   "source": [
    "# Wandb 파라미터\n",
    "MODEL_ARTIFACT = \"dlai-course/model-registry/SpriteGen:latest\"\n",
    "DEVICE = \"cuda\" if torch.cuda.is_available() else \"cpu\"\n",
    "\n",
    "config = SimpleNamespace(\n",
    "    # 하이퍼파라미터\n",
    "    num_samples = 30,\n",
    "    \n",
    "    # ddpm sampler 하이퍼파라미터\n",
    "    timesteps = 500,\n",
    "    beta1 = 1e-4,\n",
    "    beta2 = 0.02,\n",
    "    \n",
    "    # ddim sampler 하이퍼파라미터\n",
    "    ddim_n = 25,\n",
    "    \n",
    "    # 네트워크 하이퍼파라미터\n",
    "    height = 16,\n",
    ")"
   ]
  },
  {
   "cell_type": "markdown",
   "id": "bb43f98f",
   "metadata": {},
   "source": [
    "이전 노트북에서 우리는 가장 성능이 좋았던 모델을 wandb Artifact로 저장했습니다.(학습중에 파일을 저장하는 방식)  \n",
    "이제 그 모델을 wandb로부터 불러오고 sampling loop를 세팅해봅시다"
   ]
  },
  {
   "cell_type": "code",
   "execution_count": null,
   "id": "8ab66255",
   "metadata": {
    "height": 438
   },
   "outputs": [],
   "source": [
    "def load_model(model_artifact_name):\n",
    "    \"wandb artifacts에서 모델을 불러옵니다\"\n",
    "    api = wandb.Api()\n",
    "    artifact = api.artifact(model_artifact_name, type=\"model\")\n",
    "    model_path = Path(artifact.download())\n",
    "\n",
    "    # 레지스트리로부터 모델 정보를 복원합니다\n",
    "    producer_run = artifact.logged_by()\n",
    "\n",
    "    # weight 딕셔너리를 불러옵니다\n",
    "    model_weights = torch.load(model_path/\"context_model.pth\", \n",
    "                               map_location=\"cpu\")\n",
    "\n",
    "    # 모델을 생성합니다\n",
    "    model = ContextUnet(in_channels=3, \n",
    "                        n_feat=producer_run.config[\"n_feat\"], \n",
    "                        n_cfeat=producer_run.config[\"n_cfeat\"], \n",
    "                        height=producer_run.config[\"height\"])\n",
    "    \n",
    "    # 불러온 weight를 모델에 전달합니다\n",
    "    model.load_state_dict(model_weights)\n",
    "\n",
    "    # 모델을 평가 모드로 전환합니다\n",
    "    model.eval()\n",
    "    return model.to(DEVICE)"
   ]
  },
  {
   "cell_type": "code",
   "execution_count": null,
   "id": "b47633e2",
   "metadata": {
    "height": 30
   },
   "outputs": [],
   "source": [
    "nn_model = load_model(MODEL_ARTIFACT)"
   ]
  },
  {
   "cell_type": "markdown",
   "id": "fe8eb277",
   "metadata": {},
   "source": [
    "## 샘플 추출"
   ]
  },
  {
   "cell_type": "markdown",
   "id": "45d92c52-8a11-450c-bc78-ffa221af2fa3",
   "metadata": {},
   "source": [
    "우리는 샘플을 추출하고 생성된 샘플을 wandb에 로그로 남길 것입니다"
   ]
  },
  {
   "cell_type": "code",
   "execution_count": null,
   "id": "146424d3",
   "metadata": {
    "height": 81
   },
   "outputs": [],
   "source": [
    "_, sample_ddpm_context = setup_ddpm(config.beta1, \n",
    "                                    config.beta2, \n",
    "                                    config.timesteps, \n",
    "                                    DEVICE)"
   ]
  },
  {
   "cell_type": "markdown",
   "id": "00b9ef16-1848-476d-a9dd-09175b8f0e3c",
   "metadata": {},
   "source": [
    "노이즈와 context vector를 정의합니다"
   ]
  },
  {
   "cell_type": "code",
   "execution_count": null,
   "id": "d88afdba",
   "metadata": {
    "height": 217,
    "tags": []
   },
   "outputs": [],
   "source": [
    "# Noise vector\n",
    "# x_T ~ N(0, 1), 초기 노이즈를 샘플링합니다\n",
    "noises = torch.randn(config.num_samples, 3, \n",
    "                     config.height, config.height).to(DEVICE)  \n",
    "\n",
    "# 고정된 context vector는 다음으로부터 추출합니다\n",
    "ctx_vector = F.one_hot(torch.tensor([0,0,0,0,0,0,   # hero\n",
    "                                     1,1,1,1,1,1,   # non-hero\n",
    "                                     2,2,2,2,2,2,   # food\n",
    "                                     3,3,3,3,3,3,   # spell\n",
    "                                     4,4,4,4,4,4]), # side-facing \n",
    "                       5).to(DEVICE).float()"
   ]
  },
  {
   "cell_type": "markdown",
   "id": "1cbf9ef8-619a-4052-a138-a88c0f0f8b0b",
   "metadata": {},
   "source": [
    "속도가 빠른 DDIM sampler를 불러와 봅시다"
   ]
  },
  {
   "cell_type": "code",
   "execution_count": null,
   "id": "9c1a945d",
   "metadata": {
    "height": 81
   },
   "outputs": [],
   "source": [
    "sample_ddim_context = setup_ddim(config.beta1, \n",
    "                                 config.beta2, \n",
    "                                 config.timesteps, \n",
    "                                 DEVICE)"
   ]
  },
  {
   "cell_type": "markdown",
   "id": "90b838be-8fa1-4c12-9c4f-e40dfacc08e1",
   "metadata": {},
   "source": [
    "### 샘플 추출:\n",
    "이전과 마찬가지로 ddpm 샘플을 작동시킵니다"
   ]
  },
  {
   "cell_type": "code",
   "execution_count": null,
   "id": "89e24210-4885-4559-92e1-db10566ef5ea",
   "metadata": {
    "height": 30
   },
   "outputs": [],
   "source": [
    "ddpm_samples, _ = sample_ddpm_context(nn_model, noises, ctx_vector)"
   ]
  },
  {
   "cell_type": "markdown",
   "id": "836584a1-26b5-45b1-98c9-0c45d639c8f9",
   "metadata": {},
   "source": [
    "DDIM에 대해서는 `n` 파라미터로 스텝 사이즈를 조절할 수 있습니다:"
   ]
  },
  {
   "cell_type": "code",
   "execution_count": null,
   "id": "25b07c26-0ac2-428a-8351-34f8b7228074",
   "metadata": {
    "height": 81
   },
   "outputs": [],
   "source": [
    "ddim_samples, _ = sample_ddim_context(nn_model, \n",
    "                                      noises, \n",
    "                                      ctx_vector, \n",
    "                                      n=config.ddim_n)"
   ]
  },
  {
   "cell_type": "markdown",
   "id": "5db3cb01",
   "metadata": {},
   "source": [
    "### 생성 결과를 테이블로 시각화하기\n",
    "생성 결과를 저장할 수 있는 `wandb.Table` 를 만들어 봅시다"
   ]
  },
  {
   "cell_type": "code",
   "execution_count": null,
   "id": "0f1d3b94",
   "metadata": {
    "height": 30
   },
   "outputs": [],
   "source": [
    "table = wandb.Table(columns=[\"input_noise\", \"ddpm\", \"ddim\", \"class\"])"
   ]
  },
  {
   "cell_type": "markdown",
   "id": "85be303d-0f0b-4df4-8c87-bd1bfb6145a2",
   "metadata": {},
   "source": [
    "표의 줄을 하나씩 추가할수도 있고, `wandb.Image`를 이용하여 이미지를 전달하면 렌더링됩니다"
   ]
  },
  {
   "cell_type": "code",
   "execution_count": null,
   "id": "481afea1-ae53-4b5b-a3db-1d49be0733a3",
   "metadata": {
    "height": 183
   },
   "outputs": [],
   "source": [
    "for noise, ddpm_s, ddim_s, c in zip(noises, \n",
    "                                    ddpm_samples, \n",
    "                                    ddim_samples, \n",
    "                                    to_classes(ctx_vector)):\n",
    "    \n",
    "    # 표에 데이터를 각 행별로 추가합니다\n",
    "    table.add_data(wandb.Image(noise),\n",
    "                   wandb.Image(ddpm_s), \n",
    "                   wandb.Image(ddim_s),\n",
    "                   c)"
   ]
  },
  {
   "cell_type": "markdown",
   "id": "987cee86-2db1-4a2a-9d14-f70c6248ecb9",
   "metadata": {},
   "source": [
    "context 매니저로 `wandb.init`을 사용하고, 표를 W&B에 로깅할 수 있습니다.  \n",
    "이전과 마찬가지로 run이 끝나면 종료해줘야 합니다(with 구문을 사용하면 자동으로 종료해줍니다 - 파일을 닫아줍니다)"
   ]
  },
  {
   "cell_type": "code",
   "execution_count": null,
   "id": "bbc7a2ca-ae05-4462-9ae3-82eb1a6dbc27",
   "metadata": {
    "height": 98
   },
   "outputs": [],
   "source": [
    "with wandb.init(project=\"dlai_sprite_diffusion\", \n",
    "                job_type=\"samplers_battle\", \n",
    "                config=config):\n",
    "    \n",
    "    wandb.log({\"samplers_table\":table})"
   ]
  },
  {
   "cell_type": "code",
   "execution_count": null,
   "id": "36cde325-5a53-45c9-ac57-6b52553d00d1",
   "metadata": {
    "height": 30
   },
   "outputs": [],
   "source": []
  }
 ],
 "metadata": {
  "kernelspec": {
   "display_name": "Python 3 (ipykernel)",
   "language": "python",
   "name": "python3"
  },
  "language_info": {
   "codemirror_mode": {
    "name": "ipython",
    "version": 3
   },
   "file_extension": ".py",
   "mimetype": "text/x-python",
   "name": "python",
   "nbconvert_exporter": "python",
   "pygments_lexer": "ipython3",
   "version": "3.9.17"
  }
 },
 "nbformat": 4,
 "nbformat_minor": 5
}

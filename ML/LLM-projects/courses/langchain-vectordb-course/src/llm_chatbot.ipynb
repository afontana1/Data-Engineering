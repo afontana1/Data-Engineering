{
 "cells": [
  {
   "cell_type": "code",
   "execution_count": 1,
   "metadata": {},
   "outputs": [],
   "source": [
    "import os\n",
    "from keys import OPENAI_API_KEY, ACTIVELOOP_TOKEN\n",
    "os.environ[\"OPENAI_API_KEY\"] = OPENAI_API_KEY\n",
    "os.environ[\"ACTIVELOOP_TOKEN\"] = ACTIVELOOP_TOKEN"
   ]
  },
  {
   "cell_type": "code",
   "execution_count": 2,
   "metadata": {},
   "outputs": [],
   "source": [
    "from langchain.embeddings.openai import OpenAIEmbeddings\n",
    "from langchain.vectorstores import DeepLake\n",
    "from langchain.text_splitter import CharacterTextSplitter\n",
    "from langchain import OpenAI\n",
    "from langchain.document_loaders import SeleniumURLLoader\n",
    "from langchain import PromptTemplate"
   ]
  },
  {
   "cell_type": "code",
   "execution_count": 3,
   "metadata": {},
   "outputs": [],
   "source": [
    "# we'll use information from the following articles\n",
    "urls = ['https://beebom.com/what-is-nft-explained/',\n",
    "        'https://beebom.com/how-delete-spotify-account/',\n",
    "        'https://beebom.com/how-download-gif-twitter/',\n",
    "        'https://beebom.com/how-use-chatgpt-linux-terminal/',\n",
    "        'https://beebom.com/how-delete-spotify-account/',\n",
    "        'https://beebom.com/how-save-instagram-story-with-music/',\n",
    "        'https://beebom.com/how-install-pip-windows/',\n",
    "        'https://beebom.com/how-check-disk-usage-linux/']"
   ]
  },
  {
   "cell_type": "code",
   "execution_count": 4,
   "metadata": {},
   "outputs": [
    {
     "name": "stderr",
     "output_type": "stream",
     "text": [
      "Created a chunk of size 1226, which is longer than the specified 1000\n"
     ]
    }
   ],
   "source": [
    "# use the selenium scraper to load the documents\n",
    "loader = SeleniumURLLoader(urls=urls)\n",
    "docs_not_splitted = loader.load()\n",
    "\n",
    "# we split the documents into smaller chunks\n",
    "text_splitter = CharacterTextSplitter(chunk_size=1000, chunk_overlap=0)\n",
    "docs = text_splitter.split_documents(docs_not_splitted)"
   ]
  },
  {
   "cell_type": "code",
   "execution_count": 5,
   "metadata": {},
   "outputs": [
    {
     "name": "stdout",
     "output_type": "stream",
     "text": [
      "Your Deep Lake dataset has been successfully created!\n"
     ]
    },
    {
     "name": "stderr",
     "output_type": "stream",
     "text": [
      "|"
     ]
    },
    {
     "name": "stdout",
     "output_type": "stream",
     "text": [
      "Dataset(path='hub://bharatr/langchain_course_customer_support', tensors=['embedding', 'id', 'metadata', 'text'])\n",
      "\n",
      "  tensor      htype       shape      dtype  compression\n",
      "  -------    -------     -------    -------  ------- \n",
      " embedding  embedding  (127, 1536)  float32   None   \n",
      "    id        text      (127, 1)      str     None   \n",
      " metadata     json      (127, 1)      str     None   \n",
      "   text       text      (127, 1)      str     None   \n"
     ]
    },
    {
     "name": "stderr",
     "output_type": "stream",
     "text": [
      " \r"
     ]
    },
    {
     "data": {
      "text/plain": [
       "['062558a4-3850-11ee-9817-78af089a20b3',\n",
       " '06255994-3850-11ee-9817-78af089a20b3',\n",
       " '062559bc-3850-11ee-9817-78af089a20b3',\n",
       " '062559da-3850-11ee-9817-78af089a20b3',\n",
       " '062559ee-3850-11ee-9817-78af089a20b3',\n",
       " '06255a0c-3850-11ee-9817-78af089a20b3',\n",
       " '06255a20-3850-11ee-9817-78af089a20b3',\n",
       " '06255a66-3850-11ee-9817-78af089a20b3',\n",
       " '06255a84-3850-11ee-9817-78af089a20b3',\n",
       " '06255afc-3850-11ee-9817-78af089a20b3',\n",
       " '06255b10-3850-11ee-9817-78af089a20b3',\n",
       " '06255b24-3850-11ee-9817-78af089a20b3',\n",
       " '06255b38-3850-11ee-9817-78af089a20b3',\n",
       " '06255b56-3850-11ee-9817-78af089a20b3',\n",
       " '06255b6a-3850-11ee-9817-78af089a20b3',\n",
       " '06255b7e-3850-11ee-9817-78af089a20b3',\n",
       " '06255b92-3850-11ee-9817-78af089a20b3',\n",
       " '06255ba6-3850-11ee-9817-78af089a20b3',\n",
       " '06255bba-3850-11ee-9817-78af089a20b3',\n",
       " '06255bce-3850-11ee-9817-78af089a20b3',\n",
       " '06255be2-3850-11ee-9817-78af089a20b3',\n",
       " '06255bf6-3850-11ee-9817-78af089a20b3',\n",
       " '06255c14-3850-11ee-9817-78af089a20b3',\n",
       " '06255c28-3850-11ee-9817-78af089a20b3',\n",
       " '06255c3c-3850-11ee-9817-78af089a20b3',\n",
       " '06255c50-3850-11ee-9817-78af089a20b3',\n",
       " '06255c6e-3850-11ee-9817-78af089a20b3',\n",
       " '06255c82-3850-11ee-9817-78af089a20b3',\n",
       " '06255c96-3850-11ee-9817-78af089a20b3',\n",
       " '06255caa-3850-11ee-9817-78af089a20b3',\n",
       " '06255cbe-3850-11ee-9817-78af089a20b3',\n",
       " '06255cd2-3850-11ee-9817-78af089a20b3',\n",
       " '06255ce6-3850-11ee-9817-78af089a20b3',\n",
       " '06255cfa-3850-11ee-9817-78af089a20b3',\n",
       " '06255d0e-3850-11ee-9817-78af089a20b3',\n",
       " '06255d22-3850-11ee-9817-78af089a20b3',\n",
       " '06255d36-3850-11ee-9817-78af089a20b3',\n",
       " '06255d4a-3850-11ee-9817-78af089a20b3',\n",
       " '06255d5e-3850-11ee-9817-78af089a20b3',\n",
       " '06255d72-3850-11ee-9817-78af089a20b3',\n",
       " '06255d86-3850-11ee-9817-78af089a20b3',\n",
       " '06255d9a-3850-11ee-9817-78af089a20b3',\n",
       " '06255dae-3850-11ee-9817-78af089a20b3',\n",
       " '06255dc2-3850-11ee-9817-78af089a20b3',\n",
       " '06255dd6-3850-11ee-9817-78af089a20b3',\n",
       " '06255dea-3850-11ee-9817-78af089a20b3',\n",
       " '06255dfe-3850-11ee-9817-78af089a20b3',\n",
       " '06255e12-3850-11ee-9817-78af089a20b3',\n",
       " '06255e26-3850-11ee-9817-78af089a20b3',\n",
       " '06255e3a-3850-11ee-9817-78af089a20b3',\n",
       " '06255e4e-3850-11ee-9817-78af089a20b3',\n",
       " '06255e62-3850-11ee-9817-78af089a20b3',\n",
       " '06255e8a-3850-11ee-9817-78af089a20b3',\n",
       " '06255ea8-3850-11ee-9817-78af089a20b3',\n",
       " '06255ebc-3850-11ee-9817-78af089a20b3',\n",
       " '06255ed0-3850-11ee-9817-78af089a20b3',\n",
       " '06255ee4-3850-11ee-9817-78af089a20b3',\n",
       " '06255ef8-3850-11ee-9817-78af089a20b3',\n",
       " '06255f0c-3850-11ee-9817-78af089a20b3',\n",
       " '06255f20-3850-11ee-9817-78af089a20b3',\n",
       " '06255f34-3850-11ee-9817-78af089a20b3',\n",
       " '06255f48-3850-11ee-9817-78af089a20b3',\n",
       " '06255f5c-3850-11ee-9817-78af089a20b3',\n",
       " '06255f70-3850-11ee-9817-78af089a20b3',\n",
       " '06255f84-3850-11ee-9817-78af089a20b3',\n",
       " '06255f98-3850-11ee-9817-78af089a20b3',\n",
       " '06255fac-3850-11ee-9817-78af089a20b3',\n",
       " '06255fc0-3850-11ee-9817-78af089a20b3',\n",
       " '06255fd4-3850-11ee-9817-78af089a20b3',\n",
       " '06255fe8-3850-11ee-9817-78af089a20b3',\n",
       " '06255ffc-3850-11ee-9817-78af089a20b3',\n",
       " '06256010-3850-11ee-9817-78af089a20b3',\n",
       " '06256024-3850-11ee-9817-78af089a20b3',\n",
       " '06256038-3850-11ee-9817-78af089a20b3',\n",
       " '0625604c-3850-11ee-9817-78af089a20b3',\n",
       " '06256060-3850-11ee-9817-78af089a20b3',\n",
       " '06256074-3850-11ee-9817-78af089a20b3',\n",
       " '0625609c-3850-11ee-9817-78af089a20b3',\n",
       " '062560b0-3850-11ee-9817-78af089a20b3',\n",
       " '062560c4-3850-11ee-9817-78af089a20b3',\n",
       " '062560d8-3850-11ee-9817-78af089a20b3',\n",
       " '062560ec-3850-11ee-9817-78af089a20b3',\n",
       " '06256100-3850-11ee-9817-78af089a20b3',\n",
       " '06256114-3850-11ee-9817-78af089a20b3',\n",
       " '06256128-3850-11ee-9817-78af089a20b3',\n",
       " '0625613c-3850-11ee-9817-78af089a20b3',\n",
       " '06256150-3850-11ee-9817-78af089a20b3',\n",
       " '06256164-3850-11ee-9817-78af089a20b3',\n",
       " '06256178-3850-11ee-9817-78af089a20b3',\n",
       " '0625618c-3850-11ee-9817-78af089a20b3',\n",
       " '062561a0-3850-11ee-9817-78af089a20b3',\n",
       " '062561b4-3850-11ee-9817-78af089a20b3',\n",
       " '062561c8-3850-11ee-9817-78af089a20b3',\n",
       " '062561e6-3850-11ee-9817-78af089a20b3',\n",
       " '062561fa-3850-11ee-9817-78af089a20b3',\n",
       " '06256218-3850-11ee-9817-78af089a20b3',\n",
       " '0625622c-3850-11ee-9817-78af089a20b3',\n",
       " '06256240-3850-11ee-9817-78af089a20b3',\n",
       " '06256254-3850-11ee-9817-78af089a20b3',\n",
       " '06256268-3850-11ee-9817-78af089a20b3',\n",
       " '0625627c-3850-11ee-9817-78af089a20b3',\n",
       " '06256290-3850-11ee-9817-78af089a20b3',\n",
       " '062562a4-3850-11ee-9817-78af089a20b3',\n",
       " '062562b8-3850-11ee-9817-78af089a20b3',\n",
       " '062562cc-3850-11ee-9817-78af089a20b3',\n",
       " '062562e0-3850-11ee-9817-78af089a20b3',\n",
       " '062562f4-3850-11ee-9817-78af089a20b3',\n",
       " '06256308-3850-11ee-9817-78af089a20b3',\n",
       " '0625631c-3850-11ee-9817-78af089a20b3',\n",
       " '0625633a-3850-11ee-9817-78af089a20b3',\n",
       " '0625634e-3850-11ee-9817-78af089a20b3',\n",
       " '06256362-3850-11ee-9817-78af089a20b3',\n",
       " '06256376-3850-11ee-9817-78af089a20b3',\n",
       " '0625638a-3850-11ee-9817-78af089a20b3',\n",
       " '0625639e-3850-11ee-9817-78af089a20b3',\n",
       " '062563b2-3850-11ee-9817-78af089a20b3',\n",
       " '062563c6-3850-11ee-9817-78af089a20b3',\n",
       " '062563da-3850-11ee-9817-78af089a20b3',\n",
       " '062563ee-3850-11ee-9817-78af089a20b3',\n",
       " '06256402-3850-11ee-9817-78af089a20b3',\n",
       " '06256416-3850-11ee-9817-78af089a20b3',\n",
       " '0625642a-3850-11ee-9817-78af089a20b3',\n",
       " '0625643e-3850-11ee-9817-78af089a20b3',\n",
       " '06256452-3850-11ee-9817-78af089a20b3',\n",
       " '06256466-3850-11ee-9817-78af089a20b3',\n",
       " '0625647a-3850-11ee-9817-78af089a20b3',\n",
       " '0625648e-3850-11ee-9817-78af089a20b3']"
      ]
     },
     "execution_count": 5,
     "metadata": {},
     "output_type": "execute_result"
    }
   ],
   "source": [
    "# Before executing the following code, make sure to have\n",
    "# your OpenAI key saved in the “OPENAI_API_KEY” environment variable.\n",
    "embeddings = OpenAIEmbeddings(model=\"text-embedding-ada-002\")\n",
    "\n",
    "# create Deep Lake dataset\n",
    "# TODO: use your organization id here. (by default, org id is your username)\n",
    "my_activeloop_org_id = \"bharatr\"\n",
    "my_activeloop_dataset_name = \"langchain_course_customer_support\"\n",
    "dataset_path = f\"hub://{my_activeloop_org_id}/{my_activeloop_dataset_name}\"\n",
    "db = DeepLake(dataset_path=dataset_path, embedding_function=embeddings)\n",
    "\n",
    "# add documents to our Deep Lake dataset\n",
    "db.add_documents(docs)"
   ]
  },
  {
   "cell_type": "code",
   "execution_count": 6,
   "metadata": {},
   "outputs": [
    {
     "name": "stdout",
     "output_type": "stream",
     "text": [
      "Home  Tech  How to Check Disk Usage in Linux (4 Methods)\n",
      "\n",
      "How to Check Disk Usage in Linux (4 Methods)\n",
      "\n",
      "Beebom Staff\n",
      "\n",
      "Last Updated: June 19, 2023 5:14 pm\n",
      "\n",
      "There may be times when you need to download some important files or transfer some photos to your Linux system, but face a problem of insufficient disk space. You head over to your file manager to delete the large files which you no longer require, but you have no clue which of them are occupying most of your disk space. In this article, we will show some easy methods to check disk usage in Linux from both the terminal and the GUI application.\n",
      "\n",
      "Monitor Disk Usage in Linux (2023)\n",
      "\n",
      "Table of Contents\n",
      "\n",
      "Check Disk Space Using the df Command\n",
      "\t\t\n",
      "Display Disk Usage in Human Readable FormatDisplay Disk Occupancy of a Particular Type\n",
      "\n",
      "Check Disk Usage using the du Command\n",
      "\t\t\n",
      "Display Disk Usage in Human Readable FormatDisplay Disk Usage for a Particular DirectoryCompare Disk Usage of Two Directories\n"
     ]
    }
   ],
   "source": [
    "# let's see the top relevant documents to a specific query\n",
    "query = \"how to check disk usage in linux?\"\n",
    "docs = db.similarity_search(query)\n",
    "print(docs[0].page_content)"
   ]
  },
  {
   "cell_type": "code",
   "execution_count": 7,
   "metadata": {},
   "outputs": [],
   "source": [
    "# let's write a prompt for a customer support chatbot that\n",
    "# answer questions using information extracted from our db\n",
    "template = \"\"\"You are an exceptional customer support chatbot that gently answer questions.\n",
    "\n",
    "You know the following context information.\n",
    "\n",
    "{chunks_formatted}\n",
    "\n",
    "Answer to the following question from a customer. Use only information from the previous context information. Do not invent stuff.\n",
    "\n",
    "Question: {query}\n",
    "\n",
    "Answer:\"\"\"\n",
    "\n",
    "prompt = PromptTemplate(\n",
    "    input_variables=[\"chunks_formatted\", \"query\"],\n",
    "    template=template,\n",
    ")"
   ]
  },
  {
   "cell_type": "code",
   "execution_count": 8,
   "metadata": {},
   "outputs": [
    {
     "name": "stdout",
     "output_type": "stream",
     "text": [
      " You can check disk usage in Linux using the df command or by using a GUI tool such as the GDU Disk Usage Analyzer or the Gnome Disks Tool. The df command is used to check the current disk usage and the available disk space in Linux. The syntax for the df command is: df <options> <file_system>. The options to use with the df command are: a, h, t, and x. To install the GDU Disk Usage Analyzer, use the command: sudo snap install gdu-disk-usage-analyzer. To install the Gnome Disks Tool, use the command: sudo apt-get -y install gnome-disk-utility.\n"
     ]
    }
   ],
   "source": [
    "# the full pipeline\n",
    "\n",
    "# user question\n",
    "query = \"How to check disk usage in linux?\"\n",
    "\n",
    "# retrieve relevant chunks\n",
    "docs = db.similarity_search(query)\n",
    "retrieved_chunks = [doc.page_content for doc in docs]\n",
    "\n",
    "# format the prompt\n",
    "chunks_formatted = \"\\n\\n\".join(retrieved_chunks)\n",
    "prompt_formatted = prompt.format(chunks_formatted=chunks_formatted, query=query)\n",
    "\n",
    "# generate answer\n",
    "llm = OpenAI(model=\"text-davinci-003\", temperature=0)\n",
    "answer = llm(prompt_formatted)\n",
    "print(answer)"
   ]
  }
 ],
 "metadata": {
  "kernelspec": {
   "display_name": "llm-env",
   "language": "python",
   "name": "python3"
  },
  "language_info": {
   "codemirror_mode": {
    "name": "ipython",
    "version": 3
   },
   "file_extension": ".py",
   "mimetype": "text/x-python",
   "name": "python",
   "nbconvert_exporter": "python",
   "pygments_lexer": "ipython3",
   "version": "3.11.4"
  },
  "orig_nbformat": 4
 },
 "nbformat": 4,
 "nbformat_minor": 2
}

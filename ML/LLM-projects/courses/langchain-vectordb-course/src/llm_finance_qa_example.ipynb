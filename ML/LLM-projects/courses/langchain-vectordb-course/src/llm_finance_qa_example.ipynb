{
 "cells": [
  {
   "cell_type": "code",
   "execution_count": 1,
   "metadata": {},
   "outputs": [],
   "source": [
    "import os\n",
    "from keys import OPENAI_API_KEY, ACTIVELOOP_TOKEN\n",
    "os.environ['OPENAI_API_KEY'] = OPENAI_API_KEY\n",
    "os.environ['ACTIVELOOP_TOKEN'] = ACTIVELOOP_TOKEN"
   ]
  },
  {
   "cell_type": "markdown",
   "metadata": {},
   "source": [
    "## FinanceGPT Demo"
   ]
  },
  {
   "cell_type": "code",
   "execution_count": 14,
   "metadata": {},
   "outputs": [],
   "source": [
    "from langchain.embeddings.openai import OpenAIEmbeddings\n",
    "from langchain.vectorstores import DeepLake\n",
    "from langchain.text_splitter import CharacterTextSplitter\n",
    "from langchain import OpenAI\n",
    "from langchain.chat_models.openai import ChatOpenAI\n",
    "from langchain.chains import RetrievalQA\n",
    "from langchain.document_loaders import PagedPDFSplitter"
   ]
  },
  {
   "cell_type": "code",
   "execution_count": 18,
   "metadata": {},
   "outputs": [
    {
     "name": "stderr",
     "output_type": "stream",
     "text": [
      "100%|██████████| 8/8 [00:24<00:00,  3.07s/it]\n"
     ]
    }
   ],
   "source": [
    "import requests\n",
    "import tqdm\n",
    "from typing import List\n",
    "\n",
    "# Financial Reports of Amazon, but can be replaced by any URLs of pdfs\n",
    "urls = ['https://s2.q4cdn.com/299287126/files/doc_financials/2021/q1/Amazon-Q1-2021-Earnings-Release.pdf',\n",
    "        'https://s2.q4cdn.com/299287126/files/doc_financials/2021/q2/AMZN-Q2-2021-Earnings-Release.pdf',\n",
    "        'https://s2.q4cdn.com/299287126/files/doc_financials/2021/q3/Q3-2021-Earnings-Release.pdf',\n",
    "        'https://s2.q4cdn.com/299287126/files/doc_financials/2021/q4/business_and_financial_update.pdf',\n",
    "        'https://s2.q4cdn.com/299287126/files/doc_financials/2022/q1/Q1-2022-Amazon-Earnings-Release.pdf',\n",
    "        'https://s2.q4cdn.com/299287126/files/doc_financials/2022/q2/Q2-2022-Amazon-Earnings-Release.pdf',\n",
    "        'https://s2.q4cdn.com/299287126/files/doc_financials/2022/q3/Q3-2022-Amazon-Earnings-Release.pdf',\n",
    "        'https://s2.q4cdn.com/299287126/files/doc_financials/2022/q4/Q4-2022-Amazon-Earnings-Release.pdf'\n",
    "        ]\n",
    "\n",
    "def load_reports(urls: List[str]) -> List[str]:\n",
    "    \"\"\" Load pages from a list of urls\"\"\"\n",
    "    pages = []\n",
    "\n",
    "    for url in tqdm.tqdm(urls):\n",
    "        r = requests.get(url)\n",
    "        path = url.split('/')[-1]\n",
    "        with open(path, 'wb') as f:\n",
    "            f.write(r.content)\n",
    "        loader = PagedPDFSplitter(path)\n",
    "        local_pages = loader.load_and_split()\n",
    "        pages.extend(local_pages)\n",
    "    return pages\n",
    "\n",
    "pages = load_reports(urls)"
   ]
  },
  {
   "cell_type": "code",
   "execution_count": 19,
   "metadata": {},
   "outputs": [
    {
     "name": "stderr",
     "output_type": "stream",
     "text": [
      "Using embedding function is deprecated and will be removed in the future. Please use embedding instead.\n"
     ]
    },
    {
     "name": "stdout",
     "output_type": "stream",
     "text": [
      "Deep Lake Dataset in hub://bharatr/amazon_earnings_1 already exists, loading from the storage\n"
     ]
    },
    {
     "name": "stderr",
     "output_type": "stream",
     "text": [
      "/"
     ]
    },
    {
     "name": "stdout",
     "output_type": "stream",
     "text": [
      "Dataset(path='hub://bharatr/amazon_earnings_1', tensors=['embedding', 'id', 'metadata', 'text'])\n",
      "\n",
      "  tensor      htype       shape      dtype  compression\n",
      "  -------    -------     -------    -------  ------- \n",
      " embedding  embedding  (194, 1536)  float32   None   \n",
      "    id        text      (194, 1)      str     None   \n",
      " metadata     json      (194, 1)      str     None   \n",
      "   text       text      (194, 1)      str     None   \n"
     ]
    },
    {
     "name": "stderr",
     "output_type": "stream",
     "text": [
      " \r"
     ]
    },
    {
     "data": {
      "text/plain": [
       "['6e9ec50a-3d28-11ee-a8d3-78af089a20b3',\n",
       " '6e9ec65e-3d28-11ee-a8d3-78af089a20b3',\n",
       " '6e9ec6ae-3d28-11ee-a8d3-78af089a20b3',\n",
       " '6e9ec6e0-3d28-11ee-a8d3-78af089a20b3',\n",
       " '6e9ec712-3d28-11ee-a8d3-78af089a20b3',\n",
       " '6e9ec73a-3d28-11ee-a8d3-78af089a20b3',\n",
       " '6e9ec762-3d28-11ee-a8d3-78af089a20b3',\n",
       " '6e9ec78a-3d28-11ee-a8d3-78af089a20b3',\n",
       " '6e9ec7b2-3d28-11ee-a8d3-78af089a20b3',\n",
       " '6e9ec7da-3d28-11ee-a8d3-78af089a20b3',\n",
       " '6e9ec802-3d28-11ee-a8d3-78af089a20b3',\n",
       " '6e9ec82a-3d28-11ee-a8d3-78af089a20b3',\n",
       " '6e9ec852-3d28-11ee-a8d3-78af089a20b3',\n",
       " '6e9ec87a-3d28-11ee-a8d3-78af089a20b3',\n",
       " '6e9ec898-3d28-11ee-a8d3-78af089a20b3',\n",
       " '6e9ec8c0-3d28-11ee-a8d3-78af089a20b3',\n",
       " '6e9ec8e8-3d28-11ee-a8d3-78af089a20b3',\n",
       " '6e9ec91a-3d28-11ee-a8d3-78af089a20b3',\n",
       " '6e9ec938-3d28-11ee-a8d3-78af089a20b3',\n",
       " '6e9ec960-3d28-11ee-a8d3-78af089a20b3',\n",
       " '6e9ec988-3d28-11ee-a8d3-78af089a20b3',\n",
       " '6e9ec9b0-3d28-11ee-a8d3-78af089a20b3',\n",
       " '6e9ec9d8-3d28-11ee-a8d3-78af089a20b3',\n",
       " '6e9eca00-3d28-11ee-a8d3-78af089a20b3',\n",
       " '6e9eca28-3d28-11ee-a8d3-78af089a20b3',\n",
       " '6e9eca50-3d28-11ee-a8d3-78af089a20b3',\n",
       " '6e9eca78-3d28-11ee-a8d3-78af089a20b3',\n",
       " '6e9ecaa0-3d28-11ee-a8d3-78af089a20b3',\n",
       " '6e9ecac8-3d28-11ee-a8d3-78af089a20b3',\n",
       " '6e9ecaf0-3d28-11ee-a8d3-78af089a20b3',\n",
       " '6e9ecb18-3d28-11ee-a8d3-78af089a20b3',\n",
       " '6e9ecb40-3d28-11ee-a8d3-78af089a20b3',\n",
       " '6e9ecb68-3d28-11ee-a8d3-78af089a20b3',\n",
       " '6e9ecba4-3d28-11ee-a8d3-78af089a20b3',\n",
       " '6e9ecbcc-3d28-11ee-a8d3-78af089a20b3',\n",
       " '6e9ecbf4-3d28-11ee-a8d3-78af089a20b3',\n",
       " '6e9ecc1c-3d28-11ee-a8d3-78af089a20b3',\n",
       " '6e9ecc44-3d28-11ee-a8d3-78af089a20b3',\n",
       " '6e9ecc6c-3d28-11ee-a8d3-78af089a20b3',\n",
       " '6e9ecc94-3d28-11ee-a8d3-78af089a20b3',\n",
       " '6e9ecd16-3d28-11ee-a8d3-78af089a20b3',\n",
       " '6e9ecd48-3d28-11ee-a8d3-78af089a20b3',\n",
       " '6e9ecd70-3d28-11ee-a8d3-78af089a20b3',\n",
       " '6e9ecd98-3d28-11ee-a8d3-78af089a20b3',\n",
       " '6e9ecdc0-3d28-11ee-a8d3-78af089a20b3',\n",
       " '6e9ecde8-3d28-11ee-a8d3-78af089a20b3',\n",
       " '6e9ece10-3d28-11ee-a8d3-78af089a20b3',\n",
       " '6e9ece38-3d28-11ee-a8d3-78af089a20b3',\n",
       " '6e9ece60-3d28-11ee-a8d3-78af089a20b3',\n",
       " '6e9ece88-3d28-11ee-a8d3-78af089a20b3',\n",
       " '6e9eceb0-3d28-11ee-a8d3-78af089a20b3',\n",
       " '6e9eced8-3d28-11ee-a8d3-78af089a20b3',\n",
       " '6e9ecf00-3d28-11ee-a8d3-78af089a20b3',\n",
       " '6e9ecf28-3d28-11ee-a8d3-78af089a20b3',\n",
       " '6e9ecf5a-3d28-11ee-a8d3-78af089a20b3',\n",
       " '6e9ecf82-3d28-11ee-a8d3-78af089a20b3',\n",
       " '6e9ecfaa-3d28-11ee-a8d3-78af089a20b3',\n",
       " '6e9ecfc8-3d28-11ee-a8d3-78af089a20b3',\n",
       " '6e9ecff0-3d28-11ee-a8d3-78af089a20b3',\n",
       " '6e9ed018-3d28-11ee-a8d3-78af089a20b3',\n",
       " '6e9ed040-3d28-11ee-a8d3-78af089a20b3',\n",
       " '6e9ed068-3d28-11ee-a8d3-78af089a20b3',\n",
       " '6e9ed090-3d28-11ee-a8d3-78af089a20b3',\n",
       " '6e9ed0b8-3d28-11ee-a8d3-78af089a20b3',\n",
       " '6e9ed0e0-3d28-11ee-a8d3-78af089a20b3',\n",
       " '6e9ed112-3d28-11ee-a8d3-78af089a20b3',\n",
       " '6e9ed13a-3d28-11ee-a8d3-78af089a20b3',\n",
       " '6e9ed162-3d28-11ee-a8d3-78af089a20b3',\n",
       " '6e9ed18a-3d28-11ee-a8d3-78af089a20b3',\n",
       " '6e9ed1b2-3d28-11ee-a8d3-78af089a20b3',\n",
       " '6e9ed1da-3d28-11ee-a8d3-78af089a20b3',\n",
       " '6e9ed1f8-3d28-11ee-a8d3-78af089a20b3',\n",
       " '6e9ed22a-3d28-11ee-a8d3-78af089a20b3',\n",
       " '6e9ed252-3d28-11ee-a8d3-78af089a20b3',\n",
       " '6e9ed27a-3d28-11ee-a8d3-78af089a20b3',\n",
       " '6e9ed298-3d28-11ee-a8d3-78af089a20b3',\n",
       " '6e9ed2c0-3d28-11ee-a8d3-78af089a20b3',\n",
       " '6e9ed2f2-3d28-11ee-a8d3-78af089a20b3',\n",
       " '6e9ed31a-3d28-11ee-a8d3-78af089a20b3',\n",
       " '6e9ed338-3d28-11ee-a8d3-78af089a20b3',\n",
       " '6e9ed360-3d28-11ee-a8d3-78af089a20b3',\n",
       " '6e9ed388-3d28-11ee-a8d3-78af089a20b3',\n",
       " '6e9ed3c4-3d28-11ee-a8d3-78af089a20b3',\n",
       " '6e9ed3ec-3d28-11ee-a8d3-78af089a20b3',\n",
       " '6e9ed41e-3d28-11ee-a8d3-78af089a20b3',\n",
       " '6e9ed446-3d28-11ee-a8d3-78af089a20b3',\n",
       " '6e9ed46e-3d28-11ee-a8d3-78af089a20b3',\n",
       " '6e9ed48c-3d28-11ee-a8d3-78af089a20b3',\n",
       " '6e9ed4b4-3d28-11ee-a8d3-78af089a20b3',\n",
       " '6e9ed4dc-3d28-11ee-a8d3-78af089a20b3',\n",
       " '6e9ed504-3d28-11ee-a8d3-78af089a20b3',\n",
       " '6e9ed52c-3d28-11ee-a8d3-78af089a20b3',\n",
       " '6e9ed54a-3d28-11ee-a8d3-78af089a20b3',\n",
       " '6e9ed57c-3d28-11ee-a8d3-78af089a20b3',\n",
       " '6e9ed5a4-3d28-11ee-a8d3-78af089a20b3',\n",
       " '6e9ed5cc-3d28-11ee-a8d3-78af089a20b3',\n",
       " '6e9ed5f4-3d28-11ee-a8d3-78af089a20b3',\n",
       " '6e9ed61c-3d28-11ee-a8d3-78af089a20b3',\n",
       " '6e9ed63a-3d28-11ee-a8d3-78af089a20b3',\n",
       " '6e9ed662-3d28-11ee-a8d3-78af089a20b3',\n",
       " '6e9ed680-3d28-11ee-a8d3-78af089a20b3',\n",
       " '6e9ed6a8-3d28-11ee-a8d3-78af089a20b3',\n",
       " '6e9ed6c6-3d28-11ee-a8d3-78af089a20b3',\n",
       " '6e9ed6e4-3d28-11ee-a8d3-78af089a20b3',\n",
       " '6e9ed70c-3d28-11ee-a8d3-78af089a20b3',\n",
       " '6e9ed72a-3d28-11ee-a8d3-78af089a20b3',\n",
       " '6e9ed752-3d28-11ee-a8d3-78af089a20b3',\n",
       " '6e9ed77a-3d28-11ee-a8d3-78af089a20b3',\n",
       " '6e9ed798-3d28-11ee-a8d3-78af089a20b3',\n",
       " '6e9ed7ca-3d28-11ee-a8d3-78af089a20b3',\n",
       " '6e9ed7f2-3d28-11ee-a8d3-78af089a20b3',\n",
       " '6e9ed810-3d28-11ee-a8d3-78af089a20b3',\n",
       " '6e9ed838-3d28-11ee-a8d3-78af089a20b3',\n",
       " '6e9ed856-3d28-11ee-a8d3-78af089a20b3',\n",
       " '6e9ed87e-3d28-11ee-a8d3-78af089a20b3',\n",
       " '6e9ed89c-3d28-11ee-a8d3-78af089a20b3',\n",
       " '6e9ed8ba-3d28-11ee-a8d3-78af089a20b3',\n",
       " '6e9ed8e2-3d28-11ee-a8d3-78af089a20b3',\n",
       " '6e9ed900-3d28-11ee-a8d3-78af089a20b3',\n",
       " '6e9ed928-3d28-11ee-a8d3-78af089a20b3',\n",
       " '6e9ed950-3d28-11ee-a8d3-78af089a20b3',\n",
       " '6e9ed96e-3d28-11ee-a8d3-78af089a20b3',\n",
       " '6e9ed996-3d28-11ee-a8d3-78af089a20b3',\n",
       " '6e9ed9b4-3d28-11ee-a8d3-78af089a20b3',\n",
       " '6e9ed9d2-3d28-11ee-a8d3-78af089a20b3',\n",
       " '6e9eda0e-3d28-11ee-a8d3-78af089a20b3',\n",
       " '6e9eda4a-3d28-11ee-a8d3-78af089a20b3',\n",
       " '6e9eda72-3d28-11ee-a8d3-78af089a20b3',\n",
       " '6e9eda90-3d28-11ee-a8d3-78af089a20b3',\n",
       " '6e9edac2-3d28-11ee-a8d3-78af089a20b3',\n",
       " '6e9edae0-3d28-11ee-a8d3-78af089a20b3',\n",
       " '6e9edb08-3d28-11ee-a8d3-78af089a20b3',\n",
       " '6e9edb26-3d28-11ee-a8d3-78af089a20b3',\n",
       " '6e9edb4e-3d28-11ee-a8d3-78af089a20b3',\n",
       " '6e9edb76-3d28-11ee-a8d3-78af089a20b3',\n",
       " '6e9edb94-3d28-11ee-a8d3-78af089a20b3',\n",
       " '6e9edbbc-3d28-11ee-a8d3-78af089a20b3',\n",
       " '6e9edbda-3d28-11ee-a8d3-78af089a20b3',\n",
       " '6e9edc02-3d28-11ee-a8d3-78af089a20b3',\n",
       " '6e9edc20-3d28-11ee-a8d3-78af089a20b3',\n",
       " '6e9edc3e-3d28-11ee-a8d3-78af089a20b3',\n",
       " '6e9edc66-3d28-11ee-a8d3-78af089a20b3',\n",
       " '6e9edc84-3d28-11ee-a8d3-78af089a20b3',\n",
       " '6e9edcac-3d28-11ee-a8d3-78af089a20b3',\n",
       " '6e9edcd4-3d28-11ee-a8d3-78af089a20b3',\n",
       " '6e9edcf2-3d28-11ee-a8d3-78af089a20b3',\n",
       " '6e9edd10-3d28-11ee-a8d3-78af089a20b3',\n",
       " '6e9edd38-3d28-11ee-a8d3-78af089a20b3',\n",
       " '6e9edd60-3d28-11ee-a8d3-78af089a20b3',\n",
       " '6e9edd88-3d28-11ee-a8d3-78af089a20b3',\n",
       " '6e9edda6-3d28-11ee-a8d3-78af089a20b3',\n",
       " '6e9eddce-3d28-11ee-a8d3-78af089a20b3',\n",
       " '6e9eddec-3d28-11ee-a8d3-78af089a20b3',\n",
       " '6e9ede14-3d28-11ee-a8d3-78af089a20b3',\n",
       " '6e9ede32-3d28-11ee-a8d3-78af089a20b3',\n",
       " '6e9ede5a-3d28-11ee-a8d3-78af089a20b3',\n",
       " '6e9ede82-3d28-11ee-a8d3-78af089a20b3',\n",
       " '6e9edea0-3d28-11ee-a8d3-78af089a20b3',\n",
       " '6e9edec8-3d28-11ee-a8d3-78af089a20b3',\n",
       " '6e9edee6-3d28-11ee-a8d3-78af089a20b3',\n",
       " '6e9edf18-3d28-11ee-a8d3-78af089a20b3',\n",
       " '6e9edf36-3d28-11ee-a8d3-78af089a20b3',\n",
       " '6e9edf54-3d28-11ee-a8d3-78af089a20b3',\n",
       " '6e9edf7c-3d28-11ee-a8d3-78af089a20b3',\n",
       " '6e9edf9a-3d28-11ee-a8d3-78af089a20b3',\n",
       " '6e9edfb8-3d28-11ee-a8d3-78af089a20b3',\n",
       " '6e9edfe0-3d28-11ee-a8d3-78af089a20b3',\n",
       " '6e9edffe-3d28-11ee-a8d3-78af089a20b3',\n",
       " '6e9ee030-3d28-11ee-a8d3-78af089a20b3',\n",
       " '6e9ee04e-3d28-11ee-a8d3-78af089a20b3',\n",
       " '6e9ee076-3d28-11ee-a8d3-78af089a20b3',\n",
       " '6e9ee094-3d28-11ee-a8d3-78af089a20b3',\n",
       " '6e9ee0bc-3d28-11ee-a8d3-78af089a20b3',\n",
       " '6e9ee0e4-3d28-11ee-a8d3-78af089a20b3',\n",
       " '6e9ee102-3d28-11ee-a8d3-78af089a20b3',\n",
       " '6e9ee120-3d28-11ee-a8d3-78af089a20b3',\n",
       " '6e9ee148-3d28-11ee-a8d3-78af089a20b3',\n",
       " '6e9ee166-3d28-11ee-a8d3-78af089a20b3',\n",
       " '6e9ee184-3d28-11ee-a8d3-78af089a20b3',\n",
       " '6e9ee1a2-3d28-11ee-a8d3-78af089a20b3',\n",
       " '6e9ee1ca-3d28-11ee-a8d3-78af089a20b3',\n",
       " '6e9ee1e8-3d28-11ee-a8d3-78af089a20b3',\n",
       " '6e9ee206-3d28-11ee-a8d3-78af089a20b3',\n",
       " '6e9ee22e-3d28-11ee-a8d3-78af089a20b3',\n",
       " '6e9ee24c-3d28-11ee-a8d3-78af089a20b3',\n",
       " '6e9ee26a-3d28-11ee-a8d3-78af089a20b3',\n",
       " '6e9ee288-3d28-11ee-a8d3-78af089a20b3',\n",
       " '6e9ee2b0-3d28-11ee-a8d3-78af089a20b3',\n",
       " '6e9ee2ce-3d28-11ee-a8d3-78af089a20b3',\n",
       " '6e9ee2ec-3d28-11ee-a8d3-78af089a20b3',\n",
       " '6e9ee314-3d28-11ee-a8d3-78af089a20b3',\n",
       " '6e9ee332-3d28-11ee-a8d3-78af089a20b3',\n",
       " '6e9ee350-3d28-11ee-a8d3-78af089a20b3',\n",
       " '6e9ee36e-3d28-11ee-a8d3-78af089a20b3']"
      ]
     },
     "execution_count": 19,
     "metadata": {},
     "output_type": "execute_result"
    }
   ],
   "source": [
    "text_splitter = CharacterTextSplitter(chunk_size=1000, chunk_overlap=0)\n",
    "texts = text_splitter.split_documents(pages)\n",
    "\n",
    "embeddings = OpenAIEmbeddings()\n",
    "\n",
    "db = DeepLake(dataset_path=\"hub://bharatr/amazon_earnings_1\", embedding=embeddings, token=os.environ['ACTIVELOOP_TOKEN'])\n",
    "db.add_documents(texts)"
   ]
  },
  {
   "cell_type": "code",
   "execution_count": 20,
   "metadata": {},
   "outputs": [],
   "source": [
    "qa = RetrievalQA.from_chain_type(llm=ChatOpenAI(model='gpt-3.5-turbo'), chain_type='stuff', retriever=db.as_retriever())"
   ]
  },
  {
   "cell_type": "code",
   "execution_count": 24,
   "metadata": {},
   "outputs": [
    {
     "data": {
      "text/plain": [
       "'The total revenue for Amazon.com in 2022 was $513.98 billion.'"
      ]
     },
     "execution_count": 24,
     "metadata": {},
     "output_type": "execute_result"
    }
   ],
   "source": [
    "qa.run(\"Combine total revenue in 2022?\")"
   ]
  },
  {
   "cell_type": "code",
   "execution_count": 22,
   "metadata": {},
   "outputs": [
    {
     "data": {
      "text/plain": [
       "'The net sales for Amazon.com in the third quarter of 2021 were $110.8 billion.'"
      ]
     },
     "execution_count": 22,
     "metadata": {},
     "output_type": "execute_result"
    }
   ],
   "source": [
    "qa.run(\"What is the revenue in 2021 Q3?\")"
   ]
  },
  {
   "cell_type": "code",
   "execution_count": 25,
   "metadata": {},
   "outputs": [
    {
     "data": {
      "text/plain": [
       "'The revenue for the first quarter of 2023 is expected to be between $121.0 billion and $126.0 billion, representing a growth of 4% to 8% compared to the first quarter of 2022.'"
      ]
     },
     "execution_count": 25,
     "metadata": {},
     "output_type": "execute_result"
    }
   ],
   "source": [
    "qa.run(\"What is the revenue in 2023 Q1?\")\n",
    "# The financial results for 2023 Q1 are not provided in the given context - Hallucinations?\n"
   ]
  }
 ],
 "metadata": {
  "kernelspec": {
   "display_name": "llm-env",
   "language": "python",
   "name": "python3"
  },
  "language_info": {
   "codemirror_mode": {
    "name": "ipython",
    "version": 3
   },
   "file_extension": ".py",
   "mimetype": "text/x-python",
   "name": "python",
   "nbconvert_exporter": "python",
   "pygments_lexer": "ipython3",
   "version": "3.11.4"
  },
  "orig_nbformat": 4
 },
 "nbformat": 4,
 "nbformat_minor": 2
}

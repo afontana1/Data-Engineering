{
 "cells": [
  {
   "cell_type": "markdown",
   "id": "1ac8e009",
   "metadata": {},
   "source": [
    "# Jupyter AI\n",
    "Jupyter AI is a JupyterLab extension that provides a friendly user interface between users and AI models."
   ]
  },
  {
   "cell_type": "code",
   "execution_count": 4,
   "id": "6604c592",
   "metadata": {},
   "outputs": [],
   "source": [
    "import openai\n",
    "import os\n",
    "\n",
    "os.environ['OPENAI_API_KEY'] = 'sk-BBDDh6d8UIoIl9u*********************************'\n",
    "openai.api_key = os.getenv('OPENAI_API_KEY')"
   ]
  },
  {
   "cell_type": "markdown",
   "id": "e8071b73",
   "metadata": {},
   "source": [
    "#### Loadingthe IPython extension:"
   ]
  },
  {
   "cell_type": "code",
   "execution_count": 2,
   "id": "b52ee791",
   "metadata": {},
   "outputs": [],
   "source": [
    "%load_ext jupyter_ai_magics"
   ]
  },
  {
   "cell_type": "markdown",
   "id": "9f551328",
   "metadata": {},
   "source": [
    "#### Getting help with the %%ai command"
   ]
  },
  {
   "cell_type": "code",
   "execution_count": 4,
   "id": "83b65079",
   "metadata": {
    "scrolled": true
   },
   "outputs": [
    {
     "name": "stdout",
     "output_type": "stream",
     "text": [
      "Usage: %%ai [OPTIONS] MODEL_ID\n",
      "\n",
      "  Invokes a language model identified by MODEL_ID, with the prompt being\n",
      "  contained in all lines after the first. Both local model IDs and global\n",
      "  model IDs (with the provider ID explicitly prefixed, followed by a colon)\n",
      "  are accepted.\n",
      "\n",
      "  To view available language models, please run `%ai list`.\n",
      "\n",
      "Options:\n",
      "  -f, --format [code|html|image|json|markdown|math|md|text]\n",
      "                                  IPython display to use when rendering\n",
      "                                  output. [default=\"markdown\"]\n",
      "  -r, --reset                     Clears the conversation transcript used when\n",
      "                                  interacting with an OpenAI chat model\n",
      "                                  provider. Does nothing with other providers.\n",
      "  -n, --region-name TEXT          AWS region name, e.g. 'us-east-1'. Required\n",
      "                                  for SageMaker provider; does nothing with\n",
      "                                  other providers.\n",
      "  -q, --request-schema TEXT       The JSON object the endpoint expects, with\n",
      "                                  the prompt being substituted into any value\n",
      "                                  that matches the string literal '<prompt>'.\n",
      "                                  Required for SageMaker provider; does\n",
      "                                  nothing with other providers.\n",
      "  -p, --response-path TEXT        A JSONPath string that retrieves the\n",
      "                                  language model's output from the endpoint's\n",
      "                                  JSON response. Required for SageMaker\n",
      "                                  provider; does nothing with other providers.\n",
      "  --help                          Show this message and exit.\n",
      "------------------------------------------------------------------------------\n",
      "Usage: %ai [OPTIONS] COMMAND [ARGS]...\n",
      "\n",
      "  Invokes a subcommand.\n",
      "\n",
      "Options:\n",
      "  --help  Show this message and exit.\n",
      "\n",
      "Commands:\n",
      "  delete    Delete an alias. See `%ai delete --help` for options.\n",
      "  error     Explains the most recent error.\n",
      "  help      Show this message and exit.\n",
      "  list      List language models. See `%ai list --help` for options.\n",
      "  register  Register a new alias. See `%ai register --help` for options.\n",
      "  update    Update the target of an alias. See `%ai update --help` for\n",
      "            options.\n",
      "\n"
     ]
    }
   ],
   "source": [
    "%ai help"
   ]
  },
  {
   "cell_type": "code",
   "execution_count": 5,
   "id": "5cc810ea",
   "metadata": {},
   "outputs": [
    {
     "name": "stdout",
     "output_type": "stream",
     "text": [
      "Usage: %ai list [OPTIONS] [PROVIDER_ID]\n",
      "\n",
      "  List language models, optionally scoped to PROVIDER_ID.\n",
      "\n",
      "Options:\n",
      "  --help  Show this message and exit.\n"
     ]
    }
   ],
   "source": [
    "%ai list --help"
   ]
  },
  {
   "cell_type": "markdown",
   "id": "8f61cc4b",
   "metadata": {},
   "source": [
    "#### Listing all providers and models available"
   ]
  },
  {
   "cell_type": "code",
   "execution_count": 7,
   "id": "68c6bc2b",
   "metadata": {
    "scrolled": true
   },
   "outputs": [
    {
     "data": {
      "text/markdown": [
       "| Provider | Environment variable | Set? | Models |\n",
       "|----------|----------------------|------|--------|\n",
       "| `ai21` | `AI21_API_KEY` | <abbr title=\"You have not set this environment variable, so you cannot use this provider's models.\">❌</abbr> | `ai21:j1-large`, `ai21:j1-grande`, `ai21:j1-jumbo`, `ai21:j1-grande-instruct`, `ai21:j2-large`, `ai21:j2-grande`, `ai21:j2-jumbo`, `ai21:j2-grande-instruct`, `ai21:j2-jumbo-instruct` |\n",
       "| `bedrock` | Not applicable. | <abbr title=\"Not applicable\">N/A</abbr> | `bedrock:amazon.titan-tg1-large`, `bedrock:anthropic.claude-v1`, `bedrock:anthropic.claude-instant-v1`, `bedrock:ai21.j2-jumbo-instruct`, `bedrock:ai21.j2-grande-instruct` |\n",
       "| `anthropic` | `ANTHROPIC_API_KEY` | <abbr title=\"You have not set this environment variable, so you cannot use this provider's models.\">❌</abbr> | `anthropic:claude-v1`, `anthropic:claude-v1.0`, `anthropic:claude-v1.2`, `anthropic:claude-instant-v1`, `anthropic:claude-instant-v1.0` |\n",
       "| `cohere` | `COHERE_API_KEY` | <abbr title=\"You have not set this environment variable, so you cannot use this provider's models.\">❌</abbr> | `cohere:medium`, `cohere:xlarge` |\n",
       "| `huggingface_hub` | `HUGGINGFACEHUB_API_TOKEN` | <abbr title=\"You have not set this environment variable, so you cannot use this provider's models.\">❌</abbr> | See https://huggingface.co/models for a list of models. Pass a model's repository ID as the model ID; for example, `huggingface_hub:ExampleOwner/example-model`. |\n",
       "| `openai` | `OPENAI_API_KEY` | <abbr title=\"You have set this environment variable, so you can use this provider's models.\">✅</abbr> | `openai:text-davinci-003`, `openai:text-davinci-002`, `openai:text-curie-001`, `openai:text-babbage-001`, `openai:text-ada-001`, `openai:davinci`, `openai:curie`, `openai:babbage`, `openai:ada` |\n",
       "| `openai-chat` | `OPENAI_API_KEY` | <abbr title=\"You have set this environment variable, so you can use this provider's models.\">✅</abbr> | `openai-chat:gpt-4`, `openai-chat:gpt-4-0314`, `openai-chat:gpt-4-32k`, `openai-chat:gpt-4-32k-0314`, `openai-chat:gpt-3.5-turbo`, `openai-chat:gpt-3.5-turbo-0301` |\n",
       "| `openai-chat-new` | `OPENAI_API_KEY` | <abbr title=\"You have set this environment variable, so you can use this provider's models.\">✅</abbr> | `openai-chat-new:gpt-4`, `openai-chat-new:gpt-4-0314`, `openai-chat-new:gpt-4-32k`, `openai-chat-new:gpt-4-32k-0314`, `openai-chat-new:gpt-3.5-turbo`, `openai-chat-new:gpt-3.5-turbo-0301` |\n",
       "| `sagemaker-endpoint` | Not applicable. | <abbr title=\"Not applicable\">N/A</abbr> | Specify an endpoint name as the model ID. In addition, you must include the `--region_name`, `--request_schema`, and the `--response_path` arguments. For more information, see the documentation about [SageMaker endpoints deployment](https://docs.aws.amazon.com/sagemaker/latest/dg/realtime-endpoints-deployment.html) and about [using magic commands with SageMaker endpoints](https://jupyter-ai.readthedocs.io/en/latest/users/index.html#using-magic-commands-with-sagemaker-endpoints). |\n",
       "\n",
       "Aliases and custom commands:\n",
       "\n",
       "| Name | Target |\n",
       "|------|--------|\n",
       "| `gpt2` | `huggingface_hub:gpt2` |\n",
       "| `gpt3` | `openai:text-davinci-003` |\n",
       "| `chatgpt` | `openai-chat:gpt-3.5-turbo` |\n",
       "| `gpt4` | `openai-chat:gpt-4` |\n"
      ],
      "text/plain": [
       "ai21\n",
       "Requires environment variable AI21_API_KEY (not set)\n",
       "* ai21:j1-large\n",
       "* ai21:j1-grande\n",
       "* ai21:j1-jumbo\n",
       "* ai21:j1-grande-instruct\n",
       "* ai21:j2-large\n",
       "* ai21:j2-grande\n",
       "* ai21:j2-jumbo\n",
       "* ai21:j2-grande-instruct\n",
       "* ai21:j2-jumbo-instruct\n",
       "\n",
       "bedrock\n",
       "* bedrock:amazon.titan-tg1-large\n",
       "* bedrock:anthropic.claude-v1\n",
       "* bedrock:anthropic.claude-instant-v1\n",
       "* bedrock:ai21.j2-jumbo-instruct\n",
       "* bedrock:ai21.j2-grande-instruct\n",
       "\n",
       "anthropic\n",
       "Requires environment variable ANTHROPIC_API_KEY (not set)\n",
       "* anthropic:claude-v1\n",
       "* anthropic:claude-v1.0\n",
       "* anthropic:claude-v1.2\n",
       "* anthropic:claude-instant-v1\n",
       "* anthropic:claude-instant-v1.0\n",
       "\n",
       "cohere\n",
       "Requires environment variable COHERE_API_KEY (not set)\n",
       "* cohere:medium\n",
       "* cohere:xlarge\n",
       "\n",
       "huggingface_hub\n",
       "Requires environment variable HUGGINGFACEHUB_API_TOKEN (not set)\n",
       "* See https://huggingface.co/models for a list of models. Pass a model's repository ID as the model ID; for example, `huggingface_hub:ExampleOwner/example-model`.\n",
       "\n",
       "openai\n",
       "Requires environment variable OPENAI_API_KEY (set)\n",
       "* openai:text-davinci-003\n",
       "* openai:text-davinci-002\n",
       "* openai:text-curie-001\n",
       "* openai:text-babbage-001\n",
       "* openai:text-ada-001\n",
       "* openai:davinci\n",
       "* openai:curie\n",
       "* openai:babbage\n",
       "* openai:ada\n",
       "\n",
       "openai-chat\n",
       "Requires environment variable OPENAI_API_KEY (set)\n",
       "* openai-chat:gpt-4\n",
       "* openai-chat:gpt-4-0314\n",
       "* openai-chat:gpt-4-32k\n",
       "* openai-chat:gpt-4-32k-0314\n",
       "* openai-chat:gpt-3.5-turbo\n",
       "* openai-chat:gpt-3.5-turbo-0301\n",
       "\n",
       "openai-chat-new\n",
       "Requires environment variable OPENAI_API_KEY (set)\n",
       "* openai-chat-new:gpt-4\n",
       "* openai-chat-new:gpt-4-0314\n",
       "* openai-chat-new:gpt-4-32k\n",
       "* openai-chat-new:gpt-4-32k-0314\n",
       "* openai-chat-new:gpt-3.5-turbo\n",
       "* openai-chat-new:gpt-3.5-turbo-0301\n",
       "\n",
       "sagemaker-endpoint\n",
       "* Specify an endpoint name as the model ID. In addition, you must include the `--region_name`, `--request_schema`, and the `--response_path` arguments. For more information, see the documentation about [SageMaker endpoints deployment](https://docs.aws.amazon.com/sagemaker/latest/dg/realtime-endpoints-deployment.html) and about [using magic commands with SageMaker endpoints](https://jupyter-ai.readthedocs.io/en/latest/users/index.html#using-magic-commands-with-sagemaker-endpoints).\n",
       "\n",
       "\n",
       "Aliases and custom commands:\n",
       "gpt2 - huggingface_hub:gpt2\n",
       "gpt3 - openai:text-davinci-003\n",
       "chatgpt - openai-chat:gpt-3.5-turbo\n",
       "gpt4 - openai-chat:gpt-4\n"
      ]
     },
     "execution_count": 7,
     "metadata": {},
     "output_type": "execute_result"
    }
   ],
   "source": [
    "%ai list"
   ]
  },
  {
   "cell_type": "markdown",
   "id": "1fb6b1cb",
   "metadata": {},
   "source": [
    "#### Listing all models offered by a specific provider"
   ]
  },
  {
   "cell_type": "code",
   "execution_count": 2,
   "id": "ada098fa",
   "metadata": {
    "collapsed": true,
    "jupyter": {
     "outputs_hidden": true
    }
   },
   "outputs": [
    {
     "name": "stderr",
     "output_type": "stream",
     "text": [
      "UsageError: Line magic function `%ai` not found.\n"
     ]
    }
   ],
   "source": [
    "%ai list openai"
   ]
  },
  {
   "cell_type": "markdown",
   "id": "98dac14c",
   "metadata": {},
   "source": [
    "#### Changing the format of the output"
   ]
  },
  {
   "cell_type": "code",
   "execution_count": 8,
   "id": "e31899d0",
   "metadata": {},
   "outputs": [
    {
     "data": {
      "text/latex": [
       "$\\displaystyle \\frac{\\partial u}{\\partial t} = \\alpha \\left( \\frac{\\partial^2 u}{\\partial x^2} + \\frac{\\partial^2 u}{\\partial y^2}\\right)$"
      ],
      "text/plain": [
       "<IPython.core.display.Math object>"
      ]
     },
     "execution_count": 8,
     "metadata": {
      "text/latex": {
       "jupyter_ai": {
        "model_id": "gpt-3.5-turbo",
        "provider_id": "openai-chat"
       }
      }
     },
     "output_type": "execute_result"
    }
   ],
   "source": [
    "%%ai chatgpt -f math\n",
    "Generate the 2D heat equation in LaTeX surrounded by `$$`. Do not include an explanation."
   ]
  },
  {
   "cell_type": "markdown",
   "id": "38bf6110",
   "metadata": {},
   "source": [
    "#### Making a request to gpt-3.5-turbo"
   ]
  },
  {
   "cell_type": "code",
   "execution_count": 10,
   "id": "0e46d912",
   "metadata": {},
   "outputs": [
    {
     "data": {
      "text/markdown": [
       "Lists, tuples, and sets are three different types of data structures in Python.\n",
       "\n",
       "- Lists: Lists are ordered and mutable, meaning that you can change, add, or remove elements from them. You can access elements in a list using indices, and duplicate values are allowed.\n",
       "\n",
       "- Tuples: Tuples are ordered and immutable, meaning that once created, you cannot change their elements. They are commonly used to store related pieces of information. Tuples can also be unpacked into multiple variables.\n",
       "\n",
       "- Sets: Sets are unordered and mutable, meaning that you can change, add, or remove elements from them. Sets do not allow duplicate values, and they are useful when you need to keep track of a collection of unique elements. Sets also support mathematical operations such as union, intersection, and difference.\n",
       "\n",
       "Each of these data structures has its own advantages and use cases, so choosing the appropriate one depends on the specific requirements of your program."
      ],
      "text/plain": [
       "<IPython.core.display.Markdown object>"
      ]
     },
     "execution_count": 10,
     "metadata": {
      "text/markdown": {
       "jupyter_ai": {
        "model_id": "gpt-3.5-turbo",
        "provider_id": "openai-chat"
       }
      }
     },
     "output_type": "execute_result"
    }
   ],
   "source": [
    "%%ai openai-chat:gpt-3.5-turbo\n",
    "lists vs. tuples vs. sets in Python"
   ]
  },
  {
   "cell_type": "code",
   "execution_count": 11,
   "id": "9b926252",
   "metadata": {},
   "outputs": [
    {
     "data": {
      "text/markdown": [
       "To sort a list in Python, you can use the `sort()` or `sorted()` function. Here's how each method works:\n",
       "\n",
       "- Using the `sort()` method: the `sort()` method is a built-in function that sorts the list in-place, meaning it modifies the original list directly. It arranges the elements in ascending order.\n",
       "\n",
       "```python\n",
       "my_list = [5, 2, 8, 1, 9]\n",
       "my_list.sort()\n",
       "print(my_list)\n",
       "```\n",
       "\n",
       "Output:\n",
       "```\n",
       "[1, 2, 5, 8, 9]\n",
       "```\n",
       "\n",
       "- Using the `sorted()` function: the `sorted()` function returns a new sorted list without modifying the original list. It allows you to sort lists as well as other iterable objects.\n",
       "\n",
       "```python\n",
       "my_list = [5, 2, 8, 1, 9]\n",
       "sorted_list = sorted(my_list)\n",
       "print(sorted_list)\n",
       "```\n",
       "\n",
       "Output:\n",
       "```\n",
       "[1, 2, 5, 8, 9]\n",
       "```\n",
       "\n",
       "Both methods can also sort lists in descending order by passing `reverse=True` as an argument.\n",
       "\n",
       "```python\n",
       "my_list = [5, 2, 8, 1, 9]\n",
       "my_list.sort(reverse=True)\n",
       "print(my_list)\n",
       "```\n",
       "\n",
       "Output:\n",
       "```\n",
       "[9, 8, 5, 2, 1]\n",
       "```\n",
       "\n",
       "```python\n",
       "my_list = [5, 2, 8, 1, 9]\n",
       "sorted_list = sorted(my_list, reverse=True)\n",
       "print(sorted_list)\n",
       "```\n",
       "\n",
       "Output:\n",
       "```\n",
       "[9, 8, 5, 2, 1]\n",
       "```\n",
       "\n",
       "Note: The `sort()` method and `sorted()` function work with lists that contain elements of the same type."
      ],
      "text/plain": [
       "<IPython.core.display.Markdown object>"
      ]
     },
     "execution_count": 11,
     "metadata": {
      "text/markdown": {
       "jupyter_ai": {
        "model_id": "gpt-3.5-turbo",
        "provider_id": "openai-chat"
       }
      }
     },
     "output_type": "execute_result"
    }
   ],
   "source": [
    "%%ai chatgpt\n",
    "how to sort lists in Python?"
   ]
  },
  {
   "cell_type": "code",
   "execution_count": 6,
   "id": "48298f29",
   "metadata": {},
   "outputs": [
    {
     "data": {
      "text/markdown": [
       "`dict.update()`\n",
       "\n",
       "The `dict.update()` method is an inbuilt method in Python that is used for updating a Python dictionary. This method updates the dictionary with elements from another dictionary object or from an iterable of key/value pairs.\n",
       "\n",
       "The `update()` method makes changes to the original dictionary by \"updating\" values of existing keys or adding new key-value pairs if they don't exist. If the key already exists in the dictionary, the method will update the corresponding value. Else if the key doesn't exist, it will insert the key-value pair into the dictionary.\n",
       "\n",
       "## Syntax\n",
       "\n",
       "Here is the syntax of `dict.update()` method:\n",
       "\n",
       "```python\n",
       "dict.update([other])\n",
       "```\n",
       "\n",
       "## Parameters\n",
       "\n",
       "The `update()` method takes either a dictionary or an iterable object of key/value pairs as parameters.\n",
       "\n",
       "## Return Value\n",
       "\n",
       "The `update()` method doesn't return any value (returns None), but it will update the existing dictionary.\n",
       "\n",
       "## Example\n",
       "\n",
       "An example of how to use `dict.update()` :\n",
       "\n",
       "```python\n",
       "# initialise the dictionary\n",
       "dict1 = {\"name\": \"John\", \"age\": 25}\n",
       "print(\"Before update:\", dict1)\n",
       "\n",
       "# update a value in the dictionary using another dictionary\n",
       "dict1.update({\"age\": 27})\n",
       "print(\"After update:\", dict1)\n",
       "\n",
       "# Output:\n",
       "# Before update: {'name': 'John', 'age': 25}\n",
       "# After update: {'name': 'John', 'age': 27}\n",
       "```\n",
       "\n",
       "The value of age is updated from `25` to `27`. If the key was not in the dictionary, it would be added along with the updated value."
      ],
      "text/plain": [
       "<IPython.core.display.Markdown object>"
      ]
     },
     "execution_count": 6,
     "metadata": {
      "text/markdown": {
       "jupyter_ai": {
        "model_id": "gpt-4",
        "provider_id": "openai-chat"
       }
      }
     },
     "output_type": "execute_result"
    }
   ],
   "source": [
    "%%ai gpt.3.4-turbo\n",
    "explain dict.update()"
   ]
  },
  {
   "cell_type": "markdown",
   "id": "bea0d150",
   "metadata": {},
   "source": [
    "#### Generate code"
   ]
  },
  {
   "cell_type": "code",
   "execution_count": 22,
   "id": "400e40aa",
   "metadata": {},
   "outputs": [
    {
     "data": {
      "text/html": [
       "AI generated code inserted below &#11015;&#65039;"
      ],
      "text/plain": [
       "<IPython.core.display.HTML object>"
      ]
     },
     "execution_count": 22,
     "metadata": {
      "text/html": {
       "jupyter_ai": {
        "model_id": "gpt-3.5-turbo",
        "provider_id": "openai-chat"
       }
      }
     },
     "output_type": "execute_result"
    }
   ],
   "source": [
    "%%ai chatgpt -f code \n",
    "define a function that calculates the factorial of n. \n",
    "call the function with 10 as an argument."
   ]
  },
  {
   "cell_type": "code",
   "execution_count": 23,
   "id": "9474e0d9",
   "metadata": {},
   "outputs": [
    {
     "name": "stdout",
     "output_type": "stream",
     "text": [
      "3628800\n"
     ]
    }
   ],
   "source": [
    "def factorial(n):\n",
    "    result = 1\n",
    "    for i in range(1, n+1):\n",
    "        result *= i\n",
    "    return result\n",
    "\n",
    "print(factorial(10))"
   ]
  },
  {
   "cell_type": "code",
   "execution_count": 24,
   "id": "05ce6aad",
   "metadata": {},
   "outputs": [
    {
     "data": {
      "text/html": [
       "AI generated code inserted below &#11015;&#65039;"
      ],
      "text/plain": [
       "<IPython.core.display.HTML object>"
      ]
     },
     "execution_count": 24,
     "metadata": {
      "text/html": {
       "jupyter_ai": {
        "model_id": "gpt-3.5-turbo",
        "provider_id": "openai-chat"
       }
      }
     },
     "output_type": "execute_result"
    }
   ],
   "source": [
    "%%ai chatgpt -f code \n",
    "change the function to be a recursive one. \n",
    "call the function with 8 as an argument."
   ]
  },
  {
   "cell_type": "code",
   "execution_count": 25,
   "id": "3bbf6c62",
   "metadata": {},
   "outputs": [
    {
     "name": "stdout",
     "output_type": "stream",
     "text": [
      "40320\n"
     ]
    }
   ],
   "source": [
    "def factorial(n):\n",
    "    if n == 0:\n",
    "        return 1\n",
    "    else:\n",
    "        return n * factorial(n-1)\n",
    "\n",
    "print(factorial(8))"
   ]
  },
  {
   "cell_type": "markdown",
   "id": "39346cd0",
   "metadata": {},
   "source": [
    "#### Clear the chat history"
   ]
  },
  {
   "cell_type": "code",
   "execution_count": 26,
   "id": "cc2d9cdf",
   "metadata": {},
   "outputs": [],
   "source": [
    "%%ai chatgpt -r \n",
    "clear the chat history"
   ]
  },
  {
   "cell_type": "markdown",
   "id": "d3dd9873",
   "metadata": {},
   "source": [
    "### Interpolation in Jupyter AI"
   ]
  },
  {
   "cell_type": "code",
   "execution_count": 27,
   "id": "813101b1",
   "metadata": {},
   "outputs": [
    {
     "ename": "TypeError",
     "evalue": "unsupported operand type(s) for +: 'int' and 'str'",
     "output_type": "error",
     "traceback": [
      "\u001b[0;31m---------------------------------------------------------------------------\u001b[0m",
      "\u001b[0;31mTypeError\u001b[0m                                 Traceback (most recent call last)",
      "Cell \u001b[0;32mIn[27], line 2\u001b[0m\n\u001b[1;32m      1\u001b[0m a, b \u001b[38;5;241m=\u001b[39m \u001b[38;5;241m10\u001b[39m, \u001b[38;5;124m'\u001b[39m\u001b[38;5;124m4\u001b[39m\u001b[38;5;124m'\u001b[39m\n\u001b[0;32m----> 2\u001b[0m \u001b[43ma\u001b[49m\u001b[43m \u001b[49m\u001b[38;5;241;43m+\u001b[39;49m\u001b[43m \u001b[49m\u001b[43mb\u001b[49m \n",
      "\u001b[0;31mTypeError\u001b[0m: unsupported operand type(s) for +: 'int' and 'str'"
     ]
    }
   ],
   "source": [
    "# generating an error on purpose\n",
    "a, b = 10, '4'\n",
    "a + b "
   ]
  },
  {
   "cell_type": "markdown",
   "id": "d8ee0c17",
   "metadata": {},
   "source": [
    "#### Explain the error and give the solution using interpolation"
   ]
  },
  {
   "cell_type": "code",
   "execution_count": 30,
   "id": "97391b3e",
   "metadata": {},
   "outputs": [
    {
     "data": {
      "text/markdown": [
       "The error `TypeError: unsupported operand type(s) for +: 'int' and 'str'` occurs when we try to add together an integer and a string in Python, as shown in the given code. \n",
       "\n",
       "To concatenate an integer and a string, we need to convert the integer to a string before performing the addition operation. \n",
       "\n",
       "Here's the corrected code:\n",
       "\n",
       "```python\n",
       "a, b = 10, '4'\n",
       "a + str(b)\n",
       "```\n",
       "\n",
       "In this updated code, the `str()` function is used to convert the integer `a` to a string. Then, the addition operation is performed between two strings, resulting in the desired concatenation."
      ],
      "text/plain": [
       "<IPython.core.display.Markdown object>"
      ]
     },
     "execution_count": 30,
     "metadata": {
      "text/markdown": {
       "jupyter_ai": {
        "model_id": "gpt-3.5-turbo",
        "provider_id": "openai-chat"
       }
      }
     },
     "output_type": "execute_result"
    }
   ],
   "source": [
    "%%ai chatgpt\n",
    "Explain the following Python error: {Err[27]}. \n",
    "Give me the correct code."
   ]
  },
  {
   "cell_type": "code",
   "execution_count": 35,
   "id": "d85a6e16",
   "metadata": {},
   "outputs": [
    {
     "ename": "SyntaxError",
     "evalue": "unterminated string literal (detected at line 1) (57405892.py, line 1)",
     "output_type": "error",
     "traceback": [
      "\u001b[0;36m  Cell \u001b[0;32mIn[35], line 1\u001b[0;36m\u001b[0m\n\u001b[0;31m    s1='Hello Python!\u001b[0m\n\u001b[0m       ^\u001b[0m\n\u001b[0;31mSyntaxError\u001b[0m\u001b[0;31m:\u001b[0m unterminated string literal (detected at line 1)\n"
     ]
    }
   ],
   "source": [
    "s1='Hello Python!"
   ]
  },
  {
   "cell_type": "code",
   "execution_count": 36,
   "id": "6a13c444",
   "metadata": {},
   "outputs": [
    {
     "data": {
      "text/markdown": [
       "The error `SyntaxError: unterminated string literal (detected at line 1)` occurs when we have an incomplete or unclosed string literal in our code.\n",
       "\n",
       "In the given code, the string `s1` is assigned the value `'Hello Python!'`. However, the string is not terminated properly because there is a missing closing quotation mark (`'`) at the end of the string.\n",
       "\n",
       "To fix this error, we need to add the missing closing quotation mark to properly terminate the string:\n",
       "\n",
       "```python\n",
       "s1 = 'Hello Python!'\n",
       "```\n",
       "\n",
       "In this corrected code, the missing closing quotation mark has been added at the end of the string `'Hello Python!'`, ensuring that the string literal is properly terminated."
      ],
      "text/plain": [
       "<IPython.core.display.Markdown object>"
      ]
     },
     "execution_count": 36,
     "metadata": {
      "text/markdown": {
       "jupyter_ai": {
        "model_id": "gpt-3.5-turbo",
        "provider_id": "openai-chat"
       }
      }
     },
     "output_type": "execute_result"
    }
   ],
   "source": [
    "%ai error chatgpt"
   ]
  },
  {
   "cell_type": "markdown",
   "id": "ed58ec05",
   "metadata": {},
   "source": [
    "#### Explaining code"
   ]
  },
  {
   "cell_type": "code",
   "execution_count": 41,
   "id": "2e3a1dc9",
   "metadata": {},
   "outputs": [],
   "source": [
    "x = [n**2 for n in range(10)]"
   ]
  },
  {
   "cell_type": "code",
   "execution_count": 43,
   "id": "15e0e85e",
   "metadata": {},
   "outputs": [
    {
     "data": {
      "text/markdown": [
       "The given code is a list comprehension in Python. It creates a new list called `x` using a concise and efficient syntax.\n",
       "\n",
       "Here's a breakdown of the code:\n",
       "- `x =` : This assigns the resulting list of the comprehension to the variable `x`.\n",
       "- `[...]` : This is the syntax for defining a list comprehension.\n",
       "- `n**2` : This is the expression or calculation that will be performed.\n",
       "- `for n in range(10)` : This is the iteration part of the comprehension, where it specifies that the expression `n**2` will be evaluated for each value of `n` in the range from 0 to 9 (`range(10)`).\n",
       "\n",
       "So, the complete comprehension `x = [n**2 for n in range(10)]` means that for each value in the range from 0 to 9, the value will be squared (`n**2`). The resulting squared values will be collected into a new list `x`.\n",
       "\n",
       "The expression `x = [n**2 for n in range(10)]` will create a list `x` with the following elements: `[0, 1, 4, 9, 16, 25, 36, 49, 64, 81]`. This is because each number in the range is squared, resulting in the respective squared values being stored in the list."
      ],
      "text/plain": [
       "<IPython.core.display.Markdown object>"
      ]
     },
     "execution_count": 43,
     "metadata": {
      "text/markdown": {
       "jupyter_ai": {
        "model_id": "gpt-3.5-turbo",
        "provider_id": "openai-chat"
       }
      }
     },
     "output_type": "execute_result"
    }
   ],
   "source": [
    "%%ai chatgpt\n",
    "Please explain the code below:\n",
    "{In[41]}"
   ]
  },
  {
   "cell_type": "code",
   "execution_count": 51,
   "id": "ee6aeaf9",
   "metadata": {},
   "outputs": [
    {
     "data": {
      "text/plain": [
       "[0, 1, 3, 6, 10, 15, 21, 28, 36, 45, 55, 66, 78, 91, 105]"
      ]
     },
     "execution_count": 51,
     "metadata": {},
     "output_type": "execute_result"
    }
   ],
   "source": [
    "nums = [0, 1, 3, 6, 10, 15, 21, 28, 36, 45, 55, 66, 78, 91, 105]\n",
    "nums"
   ]
  },
  {
   "cell_type": "code",
   "execution_count": 53,
   "id": "2547d759",
   "metadata": {},
   "outputs": [
    {
     "data": {
      "text/markdown": [
       "Sure! Here's a Python function that takes an argument `n` (the number of elements in the sequence) and returns the desired sequence of numbers: [0, 1, 3, 6, 10, 15, 21, 28, 36, 45, 55, 66, 78, 91, 105].\n",
       "\n",
       "```python\n",
       "def number_sequence(n):\n",
       "    sequence = []\n",
       "    for i in range(n):\n",
       "        next_num = i * (i + 1) // 2\n",
       "        sequence.append(next_num)\n",
       "    return sequence\n",
       "```\n",
       "\n",
       "In this function, the variable `sequence` is initialized as an empty list. Then, a for loop is used to iterate from 0 to `n-1`. Inside the loop, we calculate each element of the sequence using the expression `i * (i + 1) // 2`, which represents the triangle number at index `i`. Each triangle number is obtained by adding the previous natural numbers up to `i`.\n",
       "\n",
       "Lastly, the function returns the `sequence` list.\n",
       "\n",
       "To use this function and get the desired sequence, you can call it with the desired argument. For example:\n",
       "\n",
       "```python\n",
       "result = number_sequence(15)\n",
       "print(result)\n",
       "```\n",
       "\n",
       "Output:\n",
       "```\n",
       "[0, 1, 3, 6, 10, 15, 21, 28, 36, 45, 55, 66, 78, 91, 105]\n",
       "```\n",
       "\n",
       "The function `number_sequence()` takes the argument `15` to generate the sequence with 15 elements as specified."
      ],
      "text/plain": [
       "<IPython.core.display.Markdown object>"
      ]
     },
     "execution_count": 53,
     "metadata": {
      "text/markdown": {
       "jupyter_ai": {
        "model_id": "gpt-3.5-turbo",
        "provider_id": "openai-chat"
       }
      }
     },
     "output_type": "execute_result"
    }
   ],
   "source": [
    "%%ai chatgpt\n",
    "Define a function that takes an argument and returns this sequence of numbers: {Out[51]}\n",
    "The function's argument is the number of elements in the sequence."
   ]
  },
  {
   "cell_type": "code",
   "execution_count": 54,
   "id": "8283ab01",
   "metadata": {},
   "outputs": [],
   "source": [
    "def number_sequence(n):\n",
    "    sequence = []\n",
    "    for i in range(n):\n",
    "        next_num = i * (i + 1) // 2\n",
    "        sequence.append(next_num)\n",
    "    return sequence"
   ]
  },
  {
   "cell_type": "code",
   "execution_count": 55,
   "id": "7e463059",
   "metadata": {},
   "outputs": [
    {
     "name": "stdout",
     "output_type": "stream",
     "text": [
      "[0, 1, 3, 6, 10, 15, 21, 28, 36, 45, 55, 66, 78, 91, 105, 120, 136, 153, 171, 190]\n"
     ]
    }
   ],
   "source": [
    "print(number_sequence(20))"
   ]
  },
  {
   "cell_type": "markdown",
   "id": "946f76b2",
   "metadata": {},
   "source": [
    "### Using Jupyter AI with other models and providers"
   ]
  },
  {
   "cell_type": "code",
   "execution_count": 56,
   "id": "b0c5bdfb",
   "metadata": {},
   "outputs": [
    {
     "name": "stdout",
     "output_type": "stream",
     "text": [
      "Note: you may need to restart the kernel to use updated packages.\n"
     ]
    }
   ],
   "source": [
    "pip install huggingface-hub -q"
   ]
  },
  {
   "cell_type": "code",
   "execution_count": 5,
   "id": "8160edca",
   "metadata": {},
   "outputs": [],
   "source": [
    "# sighn-up with https://huggingface.co/ and generate an API key\n",
    "os.environ['HUGGINGFACEHUB_API_TOKEN'] = 'hf_DldFIjRQfiVroRtY************'"
   ]
  },
  {
   "cell_type": "markdown",
   "id": "94e2752f",
   "metadata": {},
   "source": [
    "#### Generating images using stable-diffusion of Stability AI"
   ]
  },
  {
   "cell_type": "code",
   "execution_count": 71,
   "id": "ac8bf193",
   "metadata": {},
   "outputs": [
    {
     "data": {
      "image/jpeg": "[encoded data removed]",
      "text/plain": [
       "<jupyter_ai_magics.magics.Base64Image at 0x7fe291b23fa0>"
      ]
     },
     "execution_count": 71,
     "metadata": {
      "jupyter_ai": {
       "model_id": "stabilityai/stable-diffusion-2-1",
       "provider_id": "huggingface_hub"
      }
     },
     "output_type": "execute_result"
    }
   ],
   "source": [
    "%%ai huggingface_hub:stabilityai/stable-diffusion-2-1 --format image\n",
    "dystopian fantasy landscape, cyberpunk style, flying objects, red moon in the backgroud"
   ]
  },
  {
   "cell_type": "code",
   "execution_count": null,
   "id": "2ac0e002",
   "metadata": {},
   "outputs": [],
   "source": []
  }
 ],
 "metadata": {
  "kernelspec": {
   "display_name": "Python 3 (ipykernel)",
   "language": "python",
   "name": "python3"
  },
  "language_info": {
   "codemirror_mode": {
    "name": "ipython",
    "version": 3
   },
   "file_extension": ".py",
   "mimetype": "text/x-python",
   "name": "python",
   "nbconvert_exporter": "python",
   "pygments_lexer": "ipython3",
   "version": "3.11.3"
  }
 },
 "nbformat": 4,
 "nbformat_minor": 5
}

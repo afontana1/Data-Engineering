{
 "cells": [
  {
   "cell_type": "markdown",
   "id": "b4e2a99c-b639-4711-b47b-8b4fe99ae424",
   "metadata": {},
   "source": [
    "# Sparse Dense and Hybrid Search"
   ]
  },
  {
   "cell_type": "markdown",
   "id": "85461c2b-6e2e-4b26-8b28-60f1a03bb7c9",
   "metadata": {},
   "source": [
    "## Remove old Weaviate DB files"
   ]
  },
  {
   "cell_type": "code",
   "execution_count": 1,
   "id": "5f42e56c-b02b-4e58-9c8e-5f6da45d1b0e",
   "metadata": {
    "height": 30
   },
   "outputs": [],
   "source": [
    "!rm -rf ~/.local/share/weaviate"
   ]
  },
  {
   "cell_type": "markdown",
   "id": "1a543c34-1f7b-4e35-b235-ba9a871f690c",
   "metadata": {},
   "source": [
    "## Recreate the example\n",
    "With the same data as in the previous lesson"
   ]
  },
  {
   "cell_type": "code",
   "execution_count": 2,
   "id": "262599c7",
   "metadata": {
    "height": 217
   },
   "outputs": [
    {
     "name": "stdout",
     "output_type": "stream",
     "text": [
      "<class 'list'> 10\n"
     ]
    }
   ],
   "source": [
    "import requests\n",
    "import json\n",
    "\n",
    "# Download the data\n",
    "resp = requests.get('https://raw.githubusercontent.com/weaviate-tutorials/quickstart/main/data/jeopardy_tiny.json')\n",
    "data = json.loads(resp.text)  # Load data\n",
    "\n",
    "# Parse the JSON and preview it\n",
    "print(type(data), len(data))\n",
    "\n",
    "def json_print(data):\n",
    "    print(json.dumps(data, indent=2))"
   ]
  },
  {
   "cell_type": "code",
   "execution_count": 3,
   "id": "04887b2b-3dfd-4efd-b224-f7fde76c8b40",
   "metadata": {
    "height": 285
   },
   "outputs": [
    {
     "name": "stdout",
     "output_type": "stream",
     "text": [
      "Binary /home/jovyan/.cache/weaviate-embedded did not exist. Downloading binary from https://github.com/weaviate/weaviate/releases/download/v1.22.3/weaviate-v1.22.3-Linux-amd64.tar.gz\n",
      "Started /home/jovyan/.cache/weaviate-embedded: process ID 128\n",
      "Client created? True\n"
     ]
    },
    {
     "name": "stderr",
     "output_type": "stream",
     "text": [
      "{\"action\":\"startup\",\"default_vectorizer_module\":\"none\",\"level\":\"info\",\"msg\":\"the default vectorizer modules is set to \\\"none\\\", as a result all new schema classes without an explicit vectorizer setting, will use this vectorizer\",\"time\":\"2024-01-29T13:34:48Z\"}\n",
      "{\"action\":\"startup\",\"auto_schema_enabled\":true,\"level\":\"info\",\"msg\":\"auto schema enabled setting is set to \\\"true\\\"\",\"time\":\"2024-01-29T13:34:48Z\"}\n",
      "{\"level\":\"warning\",\"msg\":\"Multiple vector spaces are present, GraphQL Explore and REST API list objects endpoint module include params has been disabled as a result.\",\"time\":\"2024-01-29T13:34:48Z\"}\n",
      "{\"action\":\"grpc_startup\",\"level\":\"info\",\"msg\":\"grpc server listening at [::]:50060\",\"time\":\"2024-01-29T13:34:48Z\"}\n",
      "{\"action\":\"restapi_management\",\"level\":\"info\",\"msg\":\"Serving weaviate at http://127.0.0.1:8079\",\"time\":\"2024-01-29T13:34:48Z\"}\n",
      "{\"action\":\"read_disk_use\",\"level\":\"warning\",\"msg\":\"disk usage currently at 80.59%, threshold set to 80.00%\",\"path\":\"/home/jovyan/.local/share/weaviate\",\"time\":\"2024-01-29T13:34:49Z\"}\n"
     ]
    }
   ],
   "source": [
    "import weaviate, os\n",
    "from weaviate import EmbeddedOptions\n",
    "import openai\n",
    "\n",
    "from dotenv import load_dotenv, find_dotenv\n",
    "_ = load_dotenv(find_dotenv()) # read local .env file\n",
    "openai.api_key = os.environ['OPENAI_API_KEY']\n",
    "\n",
    "client = weaviate.Client(\n",
    "    embedded_options=EmbeddedOptions(),\n",
    "    additional_headers={\n",
    "        \"X-OpenAI-Api-BaseURL\": os.environ['OPENAI_API_BASE'],\n",
    "        \"X-OpenAI-Api-Key\": openai.api_key,  # Replace this with your actual key\n",
    "    }\n",
    ")\n",
    "print(f\"Client created? {client.is_ready()}\")"
   ]
  },
  {
   "cell_type": "code",
   "execution_count": 4,
   "id": "11eedab7-bf2a-4d04-a1da-97ce901e3ce8",
   "metadata": {
    "height": 319
   },
   "outputs": [
    {
     "name": "stderr",
     "output_type": "stream",
     "text": [
      "{\"action\":\"hnsw_vector_cache_prefill\",\"count\":1000,\"index_id\":\"question_s4729qGzuBwH\",\"level\":\"info\",\"limit\":1000000000000,\"msg\":\"prefilled vector cache\",\"time\":\"2024-01-29T13:34:53Z\",\"took\":54262}\n"
     ]
    }
   ],
   "source": [
    "# Uncomment the following two lines if you want to run this block for a second time.\n",
    "if client.schema.exists(\"Question\"):\n",
    "   client.schema.delete_class(\"Question\")\n",
    " \n",
    "class_obj = {\n",
    "    \"class\": \"Question\",\n",
    "    \"vectorizer\": \"text2vec-openai\",  # Use OpenAI as the vectorizer\n",
    "    \"moduleConfig\": {\n",
    "        \"text2vec-openai\": {\n",
    "            \"model\": \"ada\",\n",
    "            \"modelVersion\": \"002\",\n",
    "            \"type\": \"text\",\n",
    "            \"baseURL\": os.environ[\"OPENAI_API_BASE\"]\n",
    "        }\n",
    "    }\n",
    "}\n",
    "\n",
    "client.schema.create_class(class_obj)"
   ]
  },
  {
   "cell_type": "code",
   "execution_count": 5,
   "id": "3c01d814-74d8-43cd-a8e7-7e25a905f86a",
   "metadata": {
    "height": 268
   },
   "outputs": [
    {
     "name": "stdout",
     "output_type": "stream",
     "text": [
      "importing question: 1\n",
      "importing question: 2\n",
      "importing question: 3\n",
      "importing question: 4\n",
      "importing question: 5\n",
      "importing question: 6\n",
      "importing question: 7\n",
      "importing question: 8\n",
      "importing question: 9\n",
      "importing question: 10\n"
     ]
    }
   ],
   "source": [
    "with client.batch.configure(batch_size=5) as batch:\n",
    "    for i, d in enumerate(data):  # Batch import data\n",
    "        \n",
    "        print(f\"importing question: {i+1}\")\n",
    "        \n",
    "        properties = {\n",
    "            \"answer\": d[\"Answer\"],\n",
    "            \"question\": d[\"Question\"],\n",
    "            \"category\": d[\"Category\"],\n",
    "        }\n",
    "        \n",
    "        batch.add_data_object(\n",
    "            data_object=properties,\n",
    "            class_name=\"Question\"\n",
    "        )"
   ]
  },
  {
   "cell_type": "markdown",
   "id": "b833428c-83f9-4bdb-938a-c912ae62a060",
   "metadata": {},
   "source": [
    "## Queries"
   ]
  },
  {
   "cell_type": "markdown",
   "id": "9e2f3380-3950-4256-b210-ed526b928ec6",
   "metadata": {},
   "source": [
    "### Dense Search"
   ]
  },
  {
   "cell_type": "code",
   "execution_count": 6,
   "id": "e510be89-a1f3-40bf-9320-ba1c215a99dd",
   "metadata": {
    "height": 166
   },
   "outputs": [
    {
     "name": "stdout",
     "output_type": "stream",
     "text": [
      "{\n",
      "  \"data\": {\n",
      "    \"Get\": {\n",
      "      \"Question\": [\n",
      "        {\n",
      "          \"answer\": \"Elephant\",\n",
      "          \"question\": \"It's the only living mammal in the order Proboseidea\"\n",
      "        },\n",
      "        {\n",
      "          \"answer\": \"the nose or snout\",\n",
      "          \"question\": \"The gavial looks very much like a crocodile except for this bodily feature\"\n",
      "        },\n",
      "        {\n",
      "          \"answer\": \"Antelope\",\n",
      "          \"question\": \"Weighing around a ton, the eland is the largest species of this animal in Africa\"\n",
      "        }\n",
      "      ]\n",
      "    }\n",
      "  }\n",
      "}\n"
     ]
    }
   ],
   "source": [
    "response = (\n",
    "    client.query\n",
    "    .get(\"Question\", [\"question\", \"answer\"])\n",
    "    .with_near_text({\"concepts\":[\"animal\"]})\n",
    "    .with_limit(3)\n",
    "    .do()\n",
    ")\n",
    "\n",
    "json_print(response)"
   ]
  },
  {
   "cell_type": "markdown",
   "id": "d50f60c7-0ed2-43a6-a2ec-05fc126200e7",
   "metadata": {},
   "source": [
    "### Sparse Search - BM25"
   ]
  },
  {
   "cell_type": "code",
   "execution_count": 7,
   "id": "5b5d3067-dbfb-4006-82af-168548e7e49f",
   "metadata": {
    "height": 166
   },
   "outputs": [
    {
     "name": "stdout",
     "output_type": "stream",
     "text": [
      "{\n",
      "  \"data\": {\n",
      "    \"Get\": {\n",
      "      \"Question\": [\n",
      "        {\n",
      "          \"answer\": \"Antelope\",\n",
      "          \"question\": \"Weighing around a ton, the eland is the largest species of this animal in Africa\"\n",
      "        }\n",
      "      ]\n",
      "    }\n",
      "  }\n",
      "}\n"
     ]
    },
    {
     "name": "stderr",
     "output_type": "stream",
     "text": [
      "{\"action\":\"read_disk_use\",\"level\":\"warning\",\"msg\":\"disk usage currently at 80.56%, threshold set to 80.00%\",\"path\":\"/home/jovyan/.local/share/weaviate\",\"time\":\"2024-01-29T13:35:19Z\"}\n",
      "{\"action\":\"read_disk_use\",\"level\":\"warning\",\"msg\":\"disk usage currently at 80.57%, threshold set to 80.00%\",\"path\":\"/home/jovyan/.local/share/weaviate\",\"time\":\"2024-01-29T13:37:19Z\"}\n",
      "{\"action\":\"read_disk_use\",\"level\":\"warning\",\"msg\":\"disk usage currently at 80.70%, threshold set to 80.00%\",\"path\":\"/home/jovyan/.local/share/weaviate\",\"time\":\"2024-01-29T13:47:20Z\"}\n"
     ]
    }
   ],
   "source": [
    "response = (\n",
    "    client.query\n",
    "    .get(\"Question\",[\"question\",\"answer\"])\n",
    "    .with_bm25(query=\"animal\")\n",
    "    .with_limit(3)\n",
    "    .do()\n",
    ")\n",
    "\n",
    "json_print(response)"
   ]
  },
  {
   "cell_type": "markdown",
   "id": "73ef743d-8b12-44ea-9322-8e7e9d3a0cd5",
   "metadata": {},
   "source": [
    "### Hybrid Search"
   ]
  },
  {
   "cell_type": "code",
   "execution_count": 8,
   "id": "baecafb4-95b3-4b1c-8d66-49aa2719a622",
   "metadata": {
    "height": 166
   },
   "outputs": [
    {
     "name": "stdout",
     "output_type": "stream",
     "text": [
      "{\n",
      "  \"data\": {\n",
      "    \"Get\": {\n",
      "      \"Question\": [\n",
      "        {\n",
      "          \"answer\": \"Antelope\",\n",
      "          \"question\": \"Weighing around a ton, the eland is the largest species of this animal in Africa\"\n",
      "        },\n",
      "        {\n",
      "          \"answer\": \"Elephant\",\n",
      "          \"question\": \"It's the only living mammal in the order Proboseidea\"\n",
      "        },\n",
      "        {\n",
      "          \"answer\": \"the nose or snout\",\n",
      "          \"question\": \"The gavial looks very much like a crocodile except for this bodily feature\"\n",
      "        }\n",
      "      ]\n",
      "    }\n",
      "  }\n",
      "}\n"
     ]
    }
   ],
   "source": [
    "response = (\n",
    "    client.query\n",
    "    .get(\"Question\",[\"question\",\"answer\"])\n",
    "    .with_hybrid(query=\"animal\", alpha=0.5)\n",
    "    .with_limit(3)\n",
    "    .do()\n",
    ")\n",
    "\n",
    "json_print(response)"
   ]
  },
  {
   "cell_type": "code",
   "execution_count": 9,
   "id": "cfaf68ae-dd85-4b04-8d81-1d9bdaf13fa8",
   "metadata": {
    "height": 166
   },
   "outputs": [
    {
     "name": "stdout",
     "output_type": "stream",
     "text": [
      "{\n",
      "  \"data\": {\n",
      "    \"Get\": {\n",
      "      \"Question\": [\n",
      "        {\n",
      "          \"answer\": \"Antelope\",\n",
      "          \"question\": \"Weighing around a ton, the eland is the largest species of this animal in Africa\"\n",
      "        }\n",
      "      ]\n",
      "    }\n",
      "  }\n",
      "}\n"
     ]
    }
   ],
   "source": [
    "response = (\n",
    "    client.query\n",
    "    .get(\"Question\",[\"question\",\"answer\"])\n",
    "    .with_hybrid(query=\"animal\", alpha=0)\n",
    "    .with_limit(3)\n",
    "    .do()\n",
    ")\n",
    "\n",
    "json_print(response)"
   ]
  },
  {
   "cell_type": "code",
   "execution_count": 10,
   "id": "27698f80-8349-4016-a369-074a03009df7",
   "metadata": {
    "height": 166
   },
   "outputs": [
    {
     "name": "stdout",
     "output_type": "stream",
     "text": [
      "{\n",
      "  \"data\": {\n",
      "    \"Get\": {\n",
      "      \"Question\": [\n",
      "        {\n",
      "          \"answer\": \"Elephant\",\n",
      "          \"question\": \"It's the only living mammal in the order Proboseidea\"\n",
      "        },\n",
      "        {\n",
      "          \"answer\": \"the nose or snout\",\n",
      "          \"question\": \"The gavial looks very much like a crocodile except for this bodily feature\"\n",
      "        },\n",
      "        {\n",
      "          \"answer\": \"Antelope\",\n",
      "          \"question\": \"Weighing around a ton, the eland is the largest species of this animal in Africa\"\n",
      "        }\n",
      "      ]\n",
      "    }\n",
      "  }\n",
      "}\n"
     ]
    }
   ],
   "source": [
    "response = (\n",
    "    client.query\n",
    "    .get(\"Question\",[\"question\",\"answer\"])\n",
    "    .with_hybrid(query=\"animal\", alpha=1)\n",
    "    .with_limit(3)\n",
    "    .do()\n",
    ")\n",
    "\n",
    "json_print(response)"
   ]
  }
 ],
 "metadata": {
  "kernelspec": {
   "display_name": "Python 3 (ipykernel)",
   "language": "python",
   "name": "python3"
  },
  "language_info": {
   "codemirror_mode": {
    "name": "ipython",
    "version": 3
   },
   "file_extension": ".py",
   "mimetype": "text/x-python",
   "name": "python",
   "nbconvert_exporter": "python",
   "pygments_lexer": "ipython3",
   "version": "3.9.18"
  }
 },
 "nbformat": 4,
 "nbformat_minor": 5
}

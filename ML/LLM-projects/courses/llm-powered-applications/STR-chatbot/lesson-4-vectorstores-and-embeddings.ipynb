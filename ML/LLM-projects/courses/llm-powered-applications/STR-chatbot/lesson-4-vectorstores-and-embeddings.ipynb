{
 "cells": [
  {
   "cell_type": "markdown",
   "metadata": {},
   "source": [
    "# Vectorstores and Embeddings\n",
    "\n",
    "Recall the overall workflow for retrieval augmented generation (RAG):"
   ]
  },
  {
   "cell_type": "markdown",
   "metadata": {},
   "source": [
    "![](images/lesson-2-overview.png)"
   ]
  },
  {
   "cell_type": "code",
   "execution_count": 1,
   "metadata": {},
   "outputs": [],
   "source": [
    "import os\n",
    "import openai\n",
    "\n",
    "openai.api_key  = os.environ['OPENAI_API_KEY']"
   ]
  },
  {
   "cell_type": "markdown",
   "metadata": {},
   "source": [
    "We just discussed `Document Loading` and `Splitting`."
   ]
  },
  {
   "cell_type": "code",
   "execution_count": 2,
   "metadata": {},
   "outputs": [
    {
     "data": {
      "text/plain": [
       "86"
      ]
     },
     "execution_count": 2,
     "metadata": {},
     "output_type": "execute_result"
    }
   ],
   "source": [
    "from langchain.document_loaders import PyPDFLoader\n",
    "\n",
    "# Load PDF\n",
    "loaders = [\n",
    "    # Duplicate documents on purpose - messy data\n",
    "    PyPDFLoader(\"docs/NBK268647.pdf\"),\n",
    "    PyPDFLoader(\"docs/NBK268647.pdf\"),\n",
    "    PyPDFLoader(\"docs/NBK1438.pdf\"),\n",
    "    PyPDFLoader(\"docs/NBK1513.pdf\")\n",
    "]\n",
    "docs = []\n",
    "for loader in loaders:\n",
    "    docs.extend(loader.load())\n",
    "\n",
    "len(docs)"
   ]
  },
  {
   "cell_type": "code",
   "execution_count": 3,
   "metadata": {},
   "outputs": [],
   "source": [
    "# Split\n",
    "from langchain.text_splitter import RecursiveCharacterTextSplitter\n",
    "\n",
    "text_splitter = RecursiveCharacterTextSplitter(\n",
    "    chunk_size = 1500,\n",
    "    chunk_overlap = 150\n",
    ")"
   ]
  },
  {
   "cell_type": "code",
   "execution_count": 4,
   "metadata": {},
   "outputs": [],
   "source": [
    "splits = text_splitter.split_documents(docs)"
   ]
  },
  {
   "cell_type": "code",
   "execution_count": 5,
   "metadata": {},
   "outputs": [
    {
     "data": {
      "text/plain": [
       "223"
      ]
     },
     "execution_count": 5,
     "metadata": {},
     "output_type": "execute_result"
    }
   ],
   "source": [
    "len(splits)"
   ]
  },
  {
   "cell_type": "markdown",
   "metadata": {},
   "source": [
    "## Embeddings"
   ]
  },
  {
   "cell_type": "code",
   "execution_count": 6,
   "metadata": {},
   "outputs": [],
   "source": [
    "from langchain.embeddings.openai import OpenAIEmbeddings\n",
    "\n",
    "embedding = OpenAIEmbeddings()"
   ]
  },
  {
   "cell_type": "code",
   "execution_count": 7,
   "metadata": {},
   "outputs": [],
   "source": [
    "sentence1 = \"i like dogs\"\n",
    "sentence2 = \"i like canines\"\n",
    "sentence3 = \"the weather is ugly outside\""
   ]
  },
  {
   "cell_type": "code",
   "execution_count": 8,
   "metadata": {},
   "outputs": [],
   "source": [
    "embedding1 = embedding.embed_query(sentence1)\n",
    "embedding2 = embedding.embed_query(sentence2)\n",
    "embedding3 = embedding.embed_query(sentence3)"
   ]
  },
  {
   "cell_type": "code",
   "execution_count": 9,
   "metadata": {},
   "outputs": [],
   "source": [
    "import numpy as np"
   ]
  },
  {
   "cell_type": "code",
   "execution_count": 10,
   "metadata": {},
   "outputs": [
    {
     "data": {
      "text/plain": [
       "0.963220689072572"
      ]
     },
     "execution_count": 10,
     "metadata": {},
     "output_type": "execute_result"
    }
   ],
   "source": [
    "np.dot(embedding1, embedding2)"
   ]
  },
  {
   "cell_type": "code",
   "execution_count": 11,
   "metadata": {},
   "outputs": [
    {
     "data": {
      "text/plain": [
       "0.771106734568816"
      ]
     },
     "execution_count": 11,
     "metadata": {},
     "output_type": "execute_result"
    }
   ],
   "source": [
    "np.dot(embedding1, embedding3)"
   ]
  },
  {
   "cell_type": "code",
   "execution_count": 12,
   "metadata": {},
   "outputs": [
    {
     "data": {
      "text/plain": [
       "0.7596423521230876"
      ]
     },
     "execution_count": 12,
     "metadata": {},
     "output_type": "execute_result"
    }
   ],
   "source": [
    "np.dot(embedding2, embedding3)"
   ]
  },
  {
   "cell_type": "markdown",
   "metadata": {},
   "source": [
    "## Vectorstores"
   ]
  },
  {
   "cell_type": "code",
   "execution_count": 13,
   "metadata": {},
   "outputs": [],
   "source": [
    "# pip install chromadb"
   ]
  },
  {
   "cell_type": "code",
   "execution_count": 14,
   "metadata": {},
   "outputs": [],
   "source": [
    "from langchain.vectorstores import Chroma"
   ]
  },
  {
   "cell_type": "code",
   "execution_count": 15,
   "metadata": {},
   "outputs": [],
   "source": [
    "persist_directory = 'docs/chroma/'"
   ]
  },
  {
   "cell_type": "code",
   "execution_count": 16,
   "metadata": {},
   "outputs": [],
   "source": [
    "!rm -rf ./docs/chroma  # remove old database files if any"
   ]
  },
  {
   "cell_type": "code",
   "execution_count": 17,
   "metadata": {},
   "outputs": [],
   "source": [
    "vectordb = Chroma.from_documents(\n",
    "    documents=splits,\n",
    "    embedding=embedding,\n",
    "    persist_directory=persist_directory\n",
    ")"
   ]
  },
  {
   "cell_type": "code",
   "execution_count": 18,
   "metadata": {},
   "outputs": [
    {
     "name": "stdout",
     "output_type": "stream",
     "text": [
      "223\n"
     ]
    }
   ],
   "source": [
    "print(vectordb._collection.count())"
   ]
  },
  {
   "cell_type": "markdown",
   "metadata": {},
   "source": [
    "### Similarity Search"
   ]
  },
  {
   "cell_type": "code",
   "execution_count": 19,
   "metadata": {},
   "outputs": [],
   "source": [
    "question = \"What is the mechanism of pathology?\""
   ]
  },
  {
   "cell_type": "code",
   "execution_count": 20,
   "metadata": {},
   "outputs": [],
   "source": [
    "docs = vectordb.similarity_search(question,k=3)"
   ]
  },
  {
   "cell_type": "code",
   "execution_count": 21,
   "metadata": {},
   "outputs": [
    {
     "data": {
      "text/plain": [
       "3"
      ]
     },
     "execution_count": 21,
     "metadata": {},
     "output_type": "execute_result"
    }
   ],
   "source": [
    "len(docs)"
   ]
  },
  {
   "cell_type": "code",
   "execution_count": 22,
   "metadata": {},
   "outputs": [
    {
     "name": "stdout",
     "output_type": "stream",
     "text": [
      "that alter the C9orf72 protein sequence are pathogenic.\n",
      "Mechanism of disease causation.  Although the molecular basis of C9orf72 -FTD/ALS has been under intense \n",
      "investigation, the exact disease mechanism is not yet fully understood. Mounting evidence indicates the \n",
      "involvement of multiple disease mechanisms in a multiple-hit model of both gain-of-function and loss-of-\n",
      "function mechanisms:\n",
      "•Gain-of-function mechanisms\n",
      "⚬RNA toxicity caused by sequestration of RNA-binding proteins and normal C9orf72  transcripts by \n",
      "RNA species containing the pathogenic G 4C2 (GGGGCC) hexanucleotide repeat expansion into \n",
      "nuclear RNA foci, thereby interfering with their physiologic functions [ Mori et al 2013b ]\n",
      "⚬G4C2 repeat-associated, non-ATG bidirectional translation of the expanded G 4C2 hexanucleotide \n",
      "repeat sequences into diverse aggregation-prone dipeptide repeat (DPR) proteins (poly-GA, poly-\n",
      "GP , poly-GR, poly-PA, and poly-PR), leading to DPR-positive inclusion pathology [ Mori et al 2013a , \n",
      "Mori et al 2013c ]\n",
      "•Haploinsufficiency  due to loss of expression of C9orf72  from the G 4C2 expanded allele and reduced \n",
      "C9orf72 protein levels [ Gijselinck et al 2012 , van der Zee et al 2013 , Braems et al 2020 ]C9orf72  Frontotemporal Dementia and/or Amyotrophic Lateral Sclerosis 15\n"
     ]
    }
   ],
   "source": [
    "print(docs[0].page_content)"
   ]
  },
  {
   "cell_type": "markdown",
   "metadata": {},
   "source": [
    "Let's save this so we can use it later!"
   ]
  },
  {
   "cell_type": "code",
   "execution_count": 23,
   "metadata": {},
   "outputs": [],
   "source": [
    "vectordb.persist()"
   ]
  },
  {
   "cell_type": "markdown",
   "metadata": {},
   "source": [
    "## Failure modes\n",
    "\n",
    "This seems great, and basic similarity search will get you 80% of the way there very easily. \n",
    "\n",
    "But there are some failure modes that can creep up. \n",
    "\n",
    "Here are some edge cases that can arise - we'll fix them in the next class."
   ]
  },
  {
   "cell_type": "markdown",
   "metadata": {},
   "source": [
    "## Failure mode #1: Duplicate chunks"
   ]
  },
  {
   "cell_type": "code",
   "execution_count": 24,
   "metadata": {},
   "outputs": [],
   "source": [
    "question = \"what did they say about Frontotemporal Dementia?\""
   ]
  },
  {
   "cell_type": "code",
   "execution_count": 25,
   "metadata": {},
   "outputs": [],
   "source": [
    "docs = vectordb.similarity_search(question,k=5)"
   ]
  },
  {
   "cell_type": "code",
   "execution_count": 26,
   "metadata": {},
   "outputs": [
    {
     "data": {
      "text/plain": [
       "Document(page_content='symptom onset and death and disease duration in genetic frontotemporal dementia: an international \\nretrospective cohort study. Lancet Neurol. 2020;19:145–56. PubMed PMID: 31810826 .\\nMora JS, Genge A, Chio A, Estol CJ, Chaverri D, Hernández M, Marín S, Mascias J, Rodriguez GE, Povedano M, \\nPaipa A, Dominguez R, Gamez J, Salvado M, Lunetta C, Ballario C, Riva N, Mandrioli J, Moussy A, Kinet JP , \\nAuclair C, Dubreuil P , Arnold V , Mansfield  CD, Hermine O, et al. Masitinib as an add-on therapy to riluzole \\nin patients with amyotrophic lateral sclerosis: a randomized clinical trial. Amyotroph Lateral Scler \\nFrontotemporal Degener. 2020;21:5–14. PubMed PMID: 31280619 .\\nMori K, Arzberger T, Grässer FA, Gijselinck I, May S, Rentzsch K, Weng SM, Schludi MH, van der Zee J, Cruts \\nM, Van Broeckhoven C, Kremmer E, Kretzschmar HA, Haass C, Edbauer D. Bidirectional transcripts of the \\nexpanded C9orf72 hexanucleotide repeat are translated into aggregating dipeptide repeat proteins. Acta \\nNeuropathol. 2013a;126:881–93. PubMed PMID: 24132570 .\\nMori K, Lammich S, Mackenzie IR, Forné I, Zilow S, Kretzschmar H, Edbauer D, Janssens J, Kleinberger G, \\nCruts M, Herms J, Neumann M, Van Broeckhoven C, Arzberger T, Haass C. hnRNP A3 binds to GGGGCC \\nrepeats and is a constituent of p62-positive/TDP43-negative inclusions in the hippocampus of patients with \\nC9orf72 mutations. Acta Neuropathol. 2013b;125:413–23. PubMed PMID: 23381195 .', metadata={'page': 21, 'source': 'docs/NBK268647.pdf'})"
      ]
     },
     "execution_count": 26,
     "metadata": {},
     "output_type": "execute_result"
    }
   ],
   "source": [
    "docs[0]"
   ]
  },
  {
   "cell_type": "code",
   "execution_count": 27,
   "metadata": {},
   "outputs": [
    {
     "data": {
      "text/plain": [
       "Document(page_content='symptom onset and death and disease duration in genetic frontotemporal dementia: an international \\nretrospective cohort study. Lancet Neurol. 2020;19:145–56. PubMed PMID: 31810826 .\\nMora JS, Genge A, Chio A, Estol CJ, Chaverri D, Hernández M, Marín S, Mascias J, Rodriguez GE, Povedano M, \\nPaipa A, Dominguez R, Gamez J, Salvado M, Lunetta C, Ballario C, Riva N, Mandrioli J, Moussy A, Kinet JP , \\nAuclair C, Dubreuil P , Arnold V , Mansfield  CD, Hermine O, et al. Masitinib as an add-on therapy to riluzole \\nin patients with amyotrophic lateral sclerosis: a randomized clinical trial. Amyotroph Lateral Scler \\nFrontotemporal Degener. 2020;21:5–14. PubMed PMID: 31280619 .\\nMori K, Arzberger T, Grässer FA, Gijselinck I, May S, Rentzsch K, Weng SM, Schludi MH, van der Zee J, Cruts \\nM, Van Broeckhoven C, Kremmer E, Kretzschmar HA, Haass C, Edbauer D. Bidirectional transcripts of the \\nexpanded C9orf72 hexanucleotide repeat are translated into aggregating dipeptide repeat proteins. Acta \\nNeuropathol. 2013a;126:881–93. PubMed PMID: 24132570 .\\nMori K, Lammich S, Mackenzie IR, Forné I, Zilow S, Kretzschmar H, Edbauer D, Janssens J, Kleinberger G, \\nCruts M, Herms J, Neumann M, Van Broeckhoven C, Arzberger T, Haass C. hnRNP A3 binds to GGGGCC \\nrepeats and is a constituent of p62-positive/TDP43-negative inclusions in the hippocampus of patients with \\nC9orf72 mutations. Acta Neuropathol. 2013b;125:413–23. PubMed PMID: 23381195 .', metadata={'page': 21, 'source': 'docs/NBK268647.pdf'})"
      ]
     },
     "execution_count": 27,
     "metadata": {},
     "output_type": "execute_result"
    }
   ],
   "source": [
    "docs[1]"
   ]
  },
  {
   "cell_type": "markdown",
   "metadata": {},
   "source": [
    "Notice that we're getting duplicate chunks (because of the duplicate pdf in the index).\n",
    "\n",
    "Semantic search fetches all similar documents, but does not enforce diversity.\n"
   ]
  },
  {
   "cell_type": "markdown",
   "metadata": {},
   "source": [
    "## Failure mode #2: Not obeying the question \n",
    "\n",
    "The question below asks a question about a particular pdf, but includes results from other pdfs as well."
   ]
  },
  {
   "cell_type": "code",
   "execution_count": 28,
   "metadata": {},
   "outputs": [],
   "source": [
    "question = \"what did they say about disorders in the article by Gossye?\""
   ]
  },
  {
   "cell_type": "code",
   "execution_count": 29,
   "metadata": {},
   "outputs": [],
   "source": [
    "docs = vectordb.similarity_search(question,k=5)"
   ]
  },
  {
   "cell_type": "code",
   "execution_count": 30,
   "metadata": {},
   "outputs": [
    {
     "name": "stdout",
     "output_type": "stream",
     "text": [
      "{'page': 17, 'source': 'docs/NBK268647.pdf'}\n",
      "{'page': 17, 'source': 'docs/NBK268647.pdf'}\n",
      "{'page': 6, 'source': 'docs/NBK1513.pdf'}\n",
      "{'page': 9, 'source': 'docs/NBK268647.pdf'}\n",
      "{'page': 9, 'source': 'docs/NBK268647.pdf'}\n"
     ]
    }
   ],
   "source": [
    "for doc in docs:\n",
    "    print(doc.metadata)"
   ]
  },
  {
   "cell_type": "code",
   "execution_count": 31,
   "metadata": {},
   "outputs": [
    {
     "name": "stdout",
     "output_type": "stream",
     "text": [
      "Table 4. continued from previous page.System/ConcernEvaluationCommentGenetic \n",
      "counselingBy genetics professionals 2To inform affected  persons & their families re nature, MOI, & \n",
      "implications of C9orf72 -FTD/ALS spectrum to facilitate medical & \n",
      "personal decision makingFamily support \n",
      "& resourcesAssess need for:\n",
      "•Community or online resources  such \n",
      "as Parent to Parent ;\n",
      "•Social work involvement for parental \n",
      "support;\n",
      "•Home nursing referral.•Early discussion of advanced care planning\n",
      "•The affected  person's perspective & burden must be \n",
      "considered in clinical decision making.\n",
      "•The presence of cognitive impairment may raise ethical \n",
      "concerns.ADL = activities of daily living; EMG = electromyography; LMN = lower motor neuron; MOI = mode of inheritance; OT = \n",
      "occupational therapy; PT = physical therapy; UMN = upper motor neuron1. Devenney et al [2014] , Piguet et al [2017] , Oskarsson et al [2018] , Masrori & Van Damme [2020] 2. Medical geneticist, certified  genetic counselor, or certified  advanced genetic nurse\n",
      "Treatment of Manifestations\n",
      "Many individuals benefit  from care by a multidisciplinary team that includes a neurologist, specially trained \n",
      "nurses, pulmonologist, speech therapist, physical therapist, occupational therapist, respiratory therapist, \n",
      "nutritionist, psychologist, social worker, and genetic counselor.\n"
     ]
    }
   ],
   "source": [
    "print(docs[4].page_content)"
   ]
  },
  {
   "cell_type": "markdown",
   "metadata": {},
   "source": [
    "## Next steps \n",
    "\n",
    "Approaches discussed in the next lecture can be used to address both failure modes"
   ]
  },
  {
   "cell_type": "code",
   "execution_count": null,
   "metadata": {},
   "outputs": [],
   "source": []
  }
 ],
 "metadata": {
  "kernelspec": {
   "display_name": "lang-chain",
   "language": "python",
   "name": "python3"
  },
  "language_info": {
   "codemirror_mode": {
    "name": "ipython",
    "version": 3
   },
   "file_extension": ".py",
   "mimetype": "text/x-python",
   "name": "python",
   "nbconvert_exporter": "python",
   "pygments_lexer": "ipython3",
   "version": "3.10.4"
  },
  "orig_nbformat": 4
 },
 "nbformat": 4,
 "nbformat_minor": 2
}

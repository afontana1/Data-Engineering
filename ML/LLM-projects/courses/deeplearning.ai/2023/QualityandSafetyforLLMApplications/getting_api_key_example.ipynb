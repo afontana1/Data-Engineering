{
 "cells": [
  {
   "cell_type": "markdown",
   "id": "65f73be8-87fa-4924-b2f1-76f04288b9fc",
   "metadata": {},
   "source": [
    "# Example of getting OpenAI API key"
   ]
  },
  {
   "cell_type": "code",
   "execution_count": null,
   "id": "6ec7c45a-8adb-4c10-bcb7-538542adb665",
   "metadata": {},
   "outputs": [],
   "source": [
    "# !pip install python-dotenv"
   ]
  },
  {
   "cell_type": "code",
   "execution_count": null,
   "id": "2adfea5d-2c7c-442d-a679-3a5a5ba41e91",
   "metadata": {},
   "outputs": [],
   "source": [
    "from utils import get_openai_api_key\n",
    "\n",
    "get_openai_api_key()"
   ]
  },
  {
   "cell_type": "markdown",
   "id": "9e52d9b7-3a4f-4834-a2b4-50fd625e507e",
   "metadata": {},
   "source": [
    "Put the API keys in a file named `.env` in the root directory of the github repo\n",
    "It will look something like this:\n",
    "```\n",
    "OPENAI_API_KEY=\"abc123\"\n",
    "HUGGINGFACE_API_KEY=\"xyz789\"\n",
    "```\n",
    "\n",
    "Also install Python dotenv:\n",
    "```!pip install python-dotenv```"
   ]
  },
  {
   "cell_type": "code",
   "execution_count": null,
   "id": "6d464638-f379-45ff-a86b-e395bfe6221b",
   "metadata": {},
   "outputs": [],
   "source": []
  }
 ],
 "metadata": {
  "kernelspec": {
   "display_name": "Python 3 (ipykernel)",
   "language": "python",
   "name": "python3"
  },
  "language_info": {
   "codemirror_mode": {
    "name": "ipython",
    "version": 3
   },
   "file_extension": ".py",
   "mimetype": "text/x-python",
   "name": "python",
   "nbconvert_exporter": "python",
   "pygments_lexer": "ipython3",
   "version": "3.10.9"
  }
 },
 "nbformat": 4,
 "nbformat_minor": 5
}

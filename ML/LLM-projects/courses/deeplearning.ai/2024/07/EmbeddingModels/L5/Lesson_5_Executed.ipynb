{
 "cells": [
  {
   "cell_type": "markdown",
   "id": "497db21d-4e08-42a7-9258-90fecced929f",
   "metadata": {},
   "source": [
    "# L5: Inference"
   ]
  },
  {
   "cell_type": "markdown",
   "id": "36329164-8182-42ef-8cce-729b98543cba",
   "metadata": {},
   "source": [
    "<p style=\"background-color:#fff6e4; padding:15px; border-width:3px; border-color:#f5ecda; border-style:solid; border-radius:6px\"> ⏳ <b>Note <code>(Kernel Starting)</code>:</b> This notebook takes about 30 seconds to be ready to use. You may start and watch the video while you wait.</p>"
   ]
  },
  {
   "cell_type": "code",
   "execution_count": 1,
   "id": "5725255c-8e4e-459b-ab12-29fca393b662",
   "metadata": {
    "height": 64
   },
   "outputs": [],
   "source": [
    "# Warning control\n",
    "import warnings\n",
    "warnings.filterwarnings('ignore')"
   ]
  },
  {
   "cell_type": "code",
   "execution_count": 2,
   "id": "372ca766-d5c2-409e-9385-1c1b2b775f86",
   "metadata": {
    "height": 149
   },
   "outputs": [],
   "source": [
    "import numpy as np\n",
    "\n",
    "from sentence_transformers import SentenceTransformer\n",
    "from transformers import AutoTokenizer, \\\n",
    "                         DPRContextEncoder, DPRQuestionEncoder\n",
    "\n",
    "import logging\n",
    "logging.getLogger(\"transformers.modeling_utils\").setLevel(logging.ERROR)"
   ]
  },
  {
   "cell_type": "markdown",
   "id": "11034165-7f1b-4a73-b3ca-99ab8f808782",
   "metadata": {},
   "source": [
    "<p style=\"background-color:#fff6ff; padding:15px; border-width:3px; border-color:#efe6ef; border-style:solid; border-radius:6px\"> 💻 &nbsp; <b>Access <code>requirements.txt</code> file:</b> To access <code>requirements.txt</code> for this notebook, 1) click on the <em>\"File\"</em> option on the top menu of the notebook and then 2) click on <em>\"Open\"</em>. For more help, please see the <em>\"Appendix - Tips and Help\"</em> Lesson.</p>"
   ]
  },
  {
   "cell_type": "code",
   "execution_count": 3,
   "id": "23226224-1ca8-4ab3-b8b6-ffd560b205e4",
   "metadata": {
    "height": 115
   },
   "outputs": [],
   "source": [
    "def cosine_similarity_matrix(features):\n",
    "    norms = np.linalg.norm(features, axis=1, keepdims=True)\n",
    "    normalized_features = features / norms\n",
    "    similarity_matrix = np.inner(normalized_features, normalized_features)\n",
    "    rounded_similarity_matrix = np.round(similarity_matrix, 4)\n",
    "    return rounded_similarity_matrix"
   ]
  },
  {
   "cell_type": "markdown",
   "id": "68a86800-66b5-4c28-9bfb-ffe8bc215474",
   "metadata": {},
   "source": [
    "## Pure similarity"
   ]
  },
  {
   "cell_type": "code",
   "execution_count": 4,
   "id": "d2b7afc1-6894-42e0-a3c9-479372f1da38",
   "metadata": {
    "height": 166
   },
   "outputs": [],
   "source": [
    "answers = [\n",
    "    \"What is the tallest mountain in the world?\",\n",
    "    \"The tallest mountain in the world is Mount Everest.\",\n",
    "    \"Mount Shasta\",\n",
    "    \"I like my hike in the mountains\",\n",
    "    \"I am going to a yoga class\"\n",
    "]\n",
    "\n",
    "question = 'What is the tallest mountain in the world?'"
   ]
  },
  {
   "cell_type": "code",
   "execution_count": 5,
   "id": "23055d3e-3403-44bf-b7bf-997b94c0746a",
   "metadata": {
    "height": 217
   },
   "outputs": [
    {
     "data": {
      "application/vnd.jupyter.widget-view+json": {
       "model_id": "af1ab19f28f346edbf9e2026219f2904",
       "version_major": 2,
       "version_minor": 0
      },
      "text/plain": [
       "modules.json:   0%|          | 0.00/349 [00:00<?, ?B/s]"
      ]
     },
     "metadata": {},
     "output_type": "display_data"
    },
    {
     "data": {
      "application/vnd.jupyter.widget-view+json": {
       "model_id": "549a4fab27ae437a8b2d408a7fa1127f",
       "version_major": 2,
       "version_minor": 0
      },
      "text/plain": [
       "config_sentence_transformers.json:   0%|          | 0.00/116 [00:00<?, ?B/s]"
      ]
     },
     "metadata": {},
     "output_type": "display_data"
    },
    {
     "data": {
      "application/vnd.jupyter.widget-view+json": {
       "model_id": "8722f34656b44c808cdf969252b57eac",
       "version_major": 2,
       "version_minor": 0
      },
      "text/plain": [
       "README.md:   0%|          | 0.00/10.7k [00:00<?, ?B/s]"
      ]
     },
     "metadata": {},
     "output_type": "display_data"
    },
    {
     "data": {
      "application/vnd.jupyter.widget-view+json": {
       "model_id": "03e35c13ec3e47be80ea9dd38956c4a2",
       "version_major": 2,
       "version_minor": 0
      },
      "text/plain": [
       "sentence_bert_config.json:   0%|          | 0.00/53.0 [00:00<?, ?B/s]"
      ]
     },
     "metadata": {},
     "output_type": "display_data"
    },
    {
     "data": {
      "application/vnd.jupyter.widget-view+json": {
       "model_id": "037cc7d2a8684d15b86ea9075203ba30",
       "version_major": 2,
       "version_minor": 0
      },
      "text/plain": [
       "config.json:   0%|          | 0.00/612 [00:00<?, ?B/s]"
      ]
     },
     "metadata": {},
     "output_type": "display_data"
    },
    {
     "data": {
      "application/vnd.jupyter.widget-view+json": {
       "model_id": "0b6f442d72d14a95a060e9524ea8c564",
       "version_major": 2,
       "version_minor": 0
      },
      "text/plain": [
       "model.safetensors:   0%|          | 0.00/90.9M [00:00<?, ?B/s]"
      ]
     },
     "metadata": {},
     "output_type": "display_data"
    },
    {
     "data": {
      "application/vnd.jupyter.widget-view+json": {
       "model_id": "01b292a4537044faa466259b543e4c88",
       "version_major": 2,
       "version_minor": 0
      },
      "text/plain": [
       "tokenizer_config.json:   0%|          | 0.00/350 [00:00<?, ?B/s]"
      ]
     },
     "metadata": {},
     "output_type": "display_data"
    },
    {
     "data": {
      "application/vnd.jupyter.widget-view+json": {
       "model_id": "1a48562f2ffa404bae5b0e166fceb8fd",
       "version_major": 2,
       "version_minor": 0
      },
      "text/plain": [
       "vocab.txt:   0%|          | 0.00/232k [00:00<?, ?B/s]"
      ]
     },
     "metadata": {},
     "output_type": "display_data"
    },
    {
     "data": {
      "application/vnd.jupyter.widget-view+json": {
       "model_id": "dbcab1f93ac4478bbc7ef2680d25942e",
       "version_major": 2,
       "version_minor": 0
      },
      "text/plain": [
       "tokenizer.json:   0%|          | 0.00/466k [00:00<?, ?B/s]"
      ]
     },
     "metadata": {},
     "output_type": "display_data"
    },
    {
     "data": {
      "application/vnd.jupyter.widget-view+json": {
       "model_id": "0591194d4baa4af185df77b6c11849ab",
       "version_major": 2,
       "version_minor": 0
      },
      "text/plain": [
       "special_tokens_map.json:   0%|          | 0.00/112 [00:00<?, ?B/s]"
      ]
     },
     "metadata": {},
     "output_type": "display_data"
    },
    {
     "data": {
      "application/vnd.jupyter.widget-view+json": {
       "model_id": "718f1a5bb9b64330ba0993e6f420c86e",
       "version_major": 2,
       "version_minor": 0
      },
      "text/plain": [
       "1_Pooling/config.json:   0%|          | 0.00/190 [00:00<?, ?B/s]"
      ]
     },
     "metadata": {},
     "output_type": "display_data"
    },
    {
     "name": "stdout",
     "output_type": "stream",
     "text": [
      "[1.0, 0.7976, 0.4001, 0.3559, 0.0972]\n",
      "Question = What is the tallest mountain in the world?\n",
      "Best answer = What is the tallest mountain in the world?\n"
     ]
    }
   ],
   "source": [
    "model = SentenceTransformer(\"sentence-transformers/all-MiniLM-L6-v2\")\n",
    "question_embedding = list(model.encode(question))\n",
    "\n",
    "sim = []\n",
    "for answer in answers:\n",
    "    answer_embedding = list(model.encode(answer))\n",
    "    sim.append(cosine_similarity_matrix(np.stack([question_embedding, answer_embedding]))[0,1])\n",
    "\n",
    "print(sim)\n",
    "best_inx = np.argmax(sim)\n",
    "print(f\"Question = {question}\")\n",
    "print(f\"Best answer = {answers[best_inx]}\")"
   ]
  },
  {
   "cell_type": "markdown",
   "id": "42995790-5b01-4105-abeb-670846767af1",
   "metadata": {},
   "source": [
    "## Dual-Encoder inference"
   ]
  },
  {
   "cell_type": "code",
   "execution_count": 6,
   "id": "80b4d461-4905-4a3b-9f49-5373cfa64b7e",
   "metadata": {
    "height": 183
   },
   "outputs": [],
   "source": [
    "answer_tokenizer = AutoTokenizer \\\n",
    "                   .from_pretrained(\"./models/facebook/dpr-ctx_encoder-multiset-base\")\n",
    "answer_encoder = DPRContextEncoder \\\n",
    "                   .from_pretrained(\"./models/facebook/dpr-ctx_encoder-multiset-base\")\n",
    "\n",
    "question_tokenizer = AutoTokenizer \\\n",
    "                   .from_pretrained(\"./models/facebook/dpr-question_encoder-multiset-base\")\n",
    "question_encoder = DPRQuestionEncoder \\\n",
    "                   .from_pretrained(\"./models/facebook/dpr-question_encoder-multiset-base\")\n"
   ]
  },
  {
   "cell_type": "code",
   "execution_count": 7,
   "id": "bf89b540-550a-47cb-a4a5-502d6544d949",
   "metadata": {
    "height": 81
   },
   "outputs": [
    {
     "name": "stdout",
     "output_type": "stream",
     "text": [
      "[0.07758214324712753, 0.2517254054546356, 0.18663950264453888, 0.22120116651058197, 0.026415593922138214, -0.1578560471534729, 0.3276026248931885, 0.2673279643058777, -0.08503054827451706, 0.1292947232723236] 768\n"
     ]
    }
   ],
   "source": [
    "# Compute the question embeddings\n",
    "question_tokens = question_tokenizer(question, return_tensors=\"pt\")[\"input_ids\"]\n",
    "question_embedding = question_encoder(question_tokens).pooler_output.flatten().tolist()\n",
    "print(question_embedding[:10], len(question_embedding))"
   ]
  },
  {
   "cell_type": "code",
   "execution_count": 8,
   "id": "a3b3c8a2-1556-45cc-8db7-d5339c3e686b",
   "metadata": {
    "height": 183
   },
   "outputs": [
    {
     "name": "stdout",
     "output_type": "stream",
     "text": [
      "[0.6253, 0.7472, 0.5506, 0.3687, 0.25]\n",
      "Question = What is the tallest mountain in the world?\n",
      "Best answer = The tallest mountain in the world is Mount Everest.\n"
     ]
    }
   ],
   "source": [
    "sim = []\n",
    "for answer in answers:\n",
    "    answer_tokens = answer_tokenizer(answer, return_tensors=\"pt\")[\"input_ids\"]\n",
    "    answer_embedding = answer_encoder(answer_tokens).pooler_output.flatten().tolist() \n",
    "    sim.append(cosine_similarity_matrix(np.stack([question_embedding, answer_embedding]))[0,1])\n",
    "\n",
    "print(sim)\n",
    "best_inx = np.argmax(sim)\n",
    "print(f\"Question = {question}\")\n",
    "print(f\"Best answer = {answers[best_inx]}\")"
   ]
  },
  {
   "cell_type": "code",
   "execution_count": null,
   "id": "b3254ee3-4aef-4dca-802f-334275a06d05",
   "metadata": {
    "height": 30
   },
   "outputs": [],
   "source": []
  },
  {
   "cell_type": "code",
   "execution_count": null,
   "id": "359e1719-dd9b-4130-93f1-8cd2cf97e2d6",
   "metadata": {
    "height": 30
   },
   "outputs": [],
   "source": []
  },
  {
   "cell_type": "code",
   "execution_count": null,
   "id": "fb6bf79d-f72d-43de-87f8-6bd29ef290ea",
   "metadata": {
    "height": 30
   },
   "outputs": [],
   "source": []
  },
  {
   "cell_type": "code",
   "execution_count": null,
   "id": "c2fdb948-7ee0-46c6-8423-1bb6c1160bf7",
   "metadata": {
    "height": 30
   },
   "outputs": [],
   "source": []
  },
  {
   "cell_type": "code",
   "execution_count": null,
   "id": "fdbc7f73-52ff-4676-8ebf-1b607c284830",
   "metadata": {
    "height": 30
   },
   "outputs": [],
   "source": []
  }
 ],
 "metadata": {
  "kernelspec": {
   "display_name": "Python 3 (ipykernel)",
   "language": "python",
   "name": "python3"
  },
  "language_info": {
   "codemirror_mode": {
    "name": "ipython",
    "version": 3
   },
   "file_extension": ".py",
   "mimetype": "text/x-python",
   "name": "python",
   "nbconvert_exporter": "python",
   "pygments_lexer": "ipython3",
   "version": "3.11.9"
  }
 },
 "nbformat": 4,
 "nbformat_minor": 5
}

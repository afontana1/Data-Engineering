{
 "cells": [
  {
   "cell_type": "markdown",
   "id": "f3d078a4",
   "metadata": {},
   "source": [
    "# Lesson 3: Tuning"
   ]
  },
  {
   "cell_type": "markdown",
   "id": "ce5574dc",
   "metadata": {},
   "source": [
    "Welcome to Lesson 3!\n",
    "\n",
    "To access the `requirements.txt` and `utils3.py` file for this course, go to `File` and click `Open`."
   ]
  },
  {
   "cell_type": "markdown",
   "id": "299f72bd",
   "metadata": {},
   "source": [
    "#### 1. Load imports"
   ]
  },
  {
   "cell_type": "code",
   "execution_count": 1,
   "id": "f8fe96c1-bb30-4a44-860a-98ec4326e74f",
   "metadata": {
    "height": 147
   },
   "outputs": [],
   "source": [
    "from flwr.client import Client, ClientApp, NumPyClient\n",
    "from flwr.server import ServerApp, ServerConfig\n",
    "from flwr.server.strategy import FedAvg\n",
    "from flwr.simulation import run_simulation\n",
    "from flwr_datasets import FederatedDataset\n",
    "\n",
    "from utils3 import *"
   ]
  },
  {
   "cell_type": "markdown",
   "id": "827e9149",
   "metadata": {},
   "source": [
    "#### 2. Prepare the datasets"
   ]
  },
  {
   "cell_type": "markdown",
   "id": "c127d303",
   "metadata": {},
   "source": [
    "* Prepare data using Flower Datasets.\n",
    "\n",
    "Use `flwr-datasets` that provides with a Federated Dataset abstraction."
   ]
  },
  {
   "cell_type": "code",
   "execution_count": 2,
   "id": "07bf7905-111d-4cdc-9f65-9883b8ccf393",
   "metadata": {
    "height": 215
   },
   "outputs": [],
   "source": [
    "def load_data(partition_id):\n",
    "    fds = FederatedDataset(dataset=\"mnist\", partitioners={\"train\": 5})\n",
    "    partition = fds.load_partition(partition_id)\n",
    "\n",
    "    traintest = partition.train_test_split(test_size=0.2, seed=42)\n",
    "    traintest = traintest.with_transform(normalize)\n",
    "    trainset, testset = traintest[\"train\"], traintest[\"test\"]\n",
    "\n",
    "    trainloader = DataLoader(trainset, batch_size=64, shuffle=True)\n",
    "    testloader = DataLoader(testset, batch_size=64)\n",
    "    return trainloader, testloader"
   ]
  },
  {
   "cell_type": "markdown",
   "id": "7905e136",
   "metadata": {},
   "source": [
    "#### 3. Clients configuration"
   ]
  },
  {
   "cell_type": "markdown",
   "id": "68400707",
   "metadata": {},
   "source": [
    "* Define fit_config.\n",
    "\n",
    "Flower can send configuration values to clients."
   ]
  },
  {
   "cell_type": "code",
   "execution_count": 3,
   "id": "16125466-5b8b-4c57-956c-542cd0b8f4a2",
   "metadata": {
    "height": 113
   },
   "outputs": [],
   "source": [
    "def fit_config(server_round: int):\n",
    "    config_dict = {\n",
    "        \"local_epochs\": 2 if server_round < 3 else 5,\n",
    "    }\n",
    "    return config_dict"
   ]
  },
  {
   "cell_type": "markdown",
   "id": "5eadf6e5",
   "metadata": {},
   "source": [
    "* The FedAvg strategy in the Server Function."
   ]
  },
  {
   "cell_type": "code",
   "execution_count": 4,
   "id": "a09f1649-c5d8-44d1-9777-0270f2864723",
   "metadata": {
    "height": 283
   },
   "outputs": [],
   "source": [
    "net = SimpleModel()\n",
    "params = ndarrays_to_parameters(get_weights(net))\n",
    "\n",
    "def server_fn(context: Context):\n",
    "    strategy = FedAvg(\n",
    "        min_fit_clients=5,\n",
    "        fraction_evaluate=0.0,\n",
    "        initial_parameters=params,\n",
    "        on_fit_config_fn=fit_config,  # <- NEW\n",
    "    )\n",
    "    config=ServerConfig(num_rounds=3)\n",
    "    return ServerAppComponents(\n",
    "        strategy=strategy,\n",
    "        config=config,\n",
    "    )"
   ]
  },
  {
   "cell_type": "markdown",
   "id": "a6da428f",
   "metadata": {},
   "source": [
    "* Define an instance of ServerApp."
   ]
  },
  {
   "cell_type": "code",
   "execution_count": 5,
   "id": "30e24c28-4420-4432-9cbd-ab0773215c36",
   "metadata": {
    "height": 45
   },
   "outputs": [],
   "source": [
    "server = ServerApp(server_fn=server_fn)"
   ]
  },
  {
   "cell_type": "markdown",
   "id": "a75c3feb",
   "metadata": {},
   "source": [
    "* Define FlowerClient.\n",
    "\n",
    "The client side receives the configuration dictionary in the `fit` method."
   ]
  },
  {
   "cell_type": "code",
   "execution_count": 6,
   "id": "0918d659-8c35-4cf8-a2fb-aaa0e8475fde",
   "metadata": {
    "height": 351
   },
   "outputs": [],
   "source": [
    "class FlowerClient(NumPyClient):\n",
    "    def __init__(self, net, trainloader, testloader):\n",
    "        self.net = net\n",
    "        self.trainloader = trainloader\n",
    "        self.testloader = testloader\n",
    "\n",
    "    def fit(self, parameters, config):\n",
    "        set_weights(self.net, parameters)\n",
    "\n",
    "        epochs = config[\"local_epochs\"]\n",
    "        log(INFO, f\"client trains for {epochs} epochs\")\n",
    "        train_model(self.net, self.trainloader, epochs)\n",
    "\n",
    "        return get_weights(self.net), len(self.trainloader), {}\n",
    "\n",
    "    def evaluate(self, parameters, config):\n",
    "        set_weights(self.net, parameters)\n",
    "        loss, accuracy = evaluate_model(self.net, self.testloader)\n",
    "        return loss, len(self.testloader), {\"accuracy\": accuracy}"
   ]
  },
  {
   "cell_type": "markdown",
   "id": "0edac892",
   "metadata": {},
   "source": [
    "* Create the Client Function and the Client App."
   ]
  },
  {
   "cell_type": "code",
   "execution_count": 7,
   "id": "79093643-032d-41b3-a544-dab4362acaac",
   "metadata": {
    "height": 164
   },
   "outputs": [],
   "source": [
    "def client_fn(context: Context) -> Client:\n",
    "    net = SimpleModel()\n",
    "    partition_id = int(context.node_config[\"partition-id\"])\n",
    "    trainloader, testloader = load_data(partition_id=partition_id)\n",
    "    return FlowerClient(net, trainloader, testloader).to_client()\n",
    "\n",
    "\n",
    "client = ClientApp(client_fn)"
   ]
  },
  {
   "cell_type": "markdown",
   "id": "6fb8b07a",
   "metadata": {},
   "source": [
    "* Run Client and Server apps."
   ]
  },
  {
   "cell_type": "code",
   "execution_count": 8,
   "id": "852baa38-2284-44f7-81e7-4106959094cd",
   "metadata": {
    "height": 113
   },
   "outputs": [
    {
     "name": "stderr",
     "output_type": "stream",
     "text": [
      "\u001b[92mINFO \u001b[0m: Starting Flower ServerApp, config: num_rounds=3, no round_timeout\n",
      "\u001b[92mINFO \u001b[0m: \n",
      "\u001b[92mINFO \u001b[0m: [INIT]\n",
      "\u001b[92mINFO \u001b[0m: Using initial global parameters provided by strategy\n",
      "\u001b[92mINFO \u001b[0m: Evaluating initial global parameters\n",
      "\u001b[92mINFO \u001b[0m: \n",
      "\u001b[92mINFO \u001b[0m: [ROUND 1]\n",
      "\u001b[92mINFO \u001b[0m: configure_fit: strategy sampled 5 clients (out of 5)\n",
      "Downloading builder script: 100%|██████████| 3.98k/3.98k [00:00<00:00, 24.2MB/s]\n",
      "Downloading readme: 100%|██████████| 6.83k/6.83k [00:00<00:00, 37.0MB/s]\n",
      "Downloading data:   0%|          | 0.00/9.91M [00:00<?, ?B/s]\n",
      "Downloading data: 100%|██████████| 9.91M/9.91M [00:00<00:00, 70.6MB/s]\n",
      "Downloading data: 100%|██████████| 28.9k/28.9k [00:00<00:00, 10.2MB/s]\n",
      "Downloading data:   0%|          | 0.00/1.65M [00:00<?, ?B/s]\n",
      "Downloading data: 100%|██████████| 1.65M/1.65M [00:00<00:00, 58.7MB/s]\n",
      "Downloading data: 100%|██████████| 4.54k/4.54k [00:00<00:00, 22.1MB/s]\n",
      "Generating train split:   0%|          | 0/60000 [00:00<?, ? examples/s]\n",
      "Generating train split:   1%|          | 424/60000 [00:00<00:14, 4033.32 examples/s]\n",
      "Generating train split:   2%|▏         | 1222/60000 [00:00<00:09, 6300.59 examples/s]\n",
      "Generating train split:   3%|▎         | 2051/60000 [00:00<00:08, 7194.75 examples/s]\n",
      "Generating train split:   5%|▍         | 2895/60000 [00:00<00:07, 7682.13 examples/s]\n",
      "Generating train split:   6%|▌         | 3724/60000 [00:00<00:07, 7896.95 examples/s]\n",
      "Generating train split:   8%|▊         | 4553/60000 [00:00<00:06, 8027.18 examples/s]\n",
      "Generating train split:   9%|▉         | 5375/60000 [00:00<00:06, 8087.00 examples/s]\n",
      "Generating train split:  10%|█         | 6201/60000 [00:00<00:06, 8140.51 examples/s]\n",
      "Generating train split:  12%|█▏        | 7029/60000 [00:00<00:06, 8179.72 examples/s]\n",
      "Generating train split:  13%|█▎        | 7889/60000 [00:01<00:06, 8304.59 examples/s]\n",
      "Generating train split:  15%|█▌        | 9121/60000 [00:01<00:06, 8263.33 examples/s]\n",
      "Generating train split:  17%|█▋        | 9971/60000 [00:01<00:06, 8326.80 examples/s]\n",
      "Generating train split:  19%|█▊        | 11196/60000 [00:01<00:05, 8262.87 examples/s]\n",
      "Generating train split:  20%|██        | 12026/60000 [00:01<00:05, 8268.67 examples/s]\n",
      "Generating train split:  21%|██▏       | 12876/60000 [00:01<00:05, 8329.51 examples/s]\n",
      "Generating train split:  24%|██▎       | 14100/60000 [00:01<00:05, 8264.47 examples/s]\n",
      "Generating train split:  25%|██▍       | 14953/60000 [00:01<00:05, 8329.79 examples/s]\n",
      "Generating train split:  27%|██▋       | 16191/60000 [00:02<00:05, 8298.59 examples/s]\n",
      "Generating train split:  28%|██▊       | 17037/60000 [00:02<00:05, 8336.91 examples/s]\n",
      "Generating train split:  30%|██▉       | 17893/60000 [00:02<00:05, 8392.74 examples/s]\n",
      "Generating train split:  32%|███▏      | 19126/60000 [00:02<00:04, 8325.80 examples/s]\n",
      "Generating train split:  33%|███▎      | 19980/60000 [00:02<00:04, 8379.01 examples/s]\n",
      "Generating train split:  35%|███▌      | 21227/60000 [00:02<00:04, 8353.68 examples/s]\n",
      "Generating train split:  37%|███▋      | 22476/60000 [00:02<00:04, 8343.35 examples/s]\n",
      "Generating train split:  39%|███▉      | 23607/60000 [00:03<00:05, 6253.44 examples/s]\n",
      "Generating train split:  41%|████      | 24423/60000 [00:03<00:05, 6612.79 examples/s]\n",
      "Generating train split:  42%|████▏     | 25251/60000 [00:03<00:04, 6970.77 examples/s]\n",
      "Generating train split:  43%|████▎     | 26078/60000 [00:03<00:04, 7273.28 examples/s]\n",
      "Generating train split:  45%|████▍     | 26940/60000 [00:03<00:04, 7610.21 examples/s]\n",
      "Generating train split:  46%|████▋     | 27771/60000 [00:03<00:04, 7793.67 examples/s]\n",
      "Generating train split:  48%|████▊     | 28595/60000 [00:03<00:03, 7915.77 examples/s]\n",
      "Generating train split:  49%|████▉     | 29420/60000 [00:03<00:03, 7984.29 examples/s]\n",
      "Generating train split:  50%|█████     | 30261/60000 [00:03<00:03, 8105.92 examples/s]\n",
      "Generating train split:  52%|█████▏    | 31086/60000 [00:03<00:03, 8144.16 examples/s]\n",
      "Generating train split:  53%|█████▎    | 31937/60000 [00:04<00:03, 8247.35 examples/s]\n",
      "Generating train split:  55%|█████▌    | 33151/60000 [00:04<00:03, 8186.29 examples/s]\n",
      "Generating train split:  57%|█████▋    | 34000/60000 [00:04<00:03, 8263.74 examples/s]\n",
      "Generating train split:  58%|█████▊    | 34857/60000 [00:04<00:03, 8346.89 examples/s]\n",
      "Generating train split:  60%|██████    | 36096/60000 [00:04<00:02, 8309.27 examples/s]\n",
      "Generating train split:  62%|██████▏   | 36937/60000 [00:04<00:02, 8335.18 examples/s]\n",
      "Generating train split:  64%|██████▎   | 38166/60000 [00:04<00:02, 8282.71 examples/s]\n",
      "Generating train split:  65%|██████▌   | 39006/60000 [00:04<00:02, 8310.15 examples/s]\n",
      "Generating train split:  66%|██████▋   | 39851/60000 [00:04<00:02, 8345.45 examples/s]\n",
      "Generating train split:  68%|██████▊   | 41068/60000 [00:05<00:02, 8258.50 examples/s]\n",
      "Generating train split:  70%|██████▉   | 41921/60000 [00:05<00:02, 8325.95 examples/s]\n",
      "Generating train split:  72%|███████▏  | 43115/60000 [00:05<00:02, 8193.21 examples/s]\n",
      "Generating train split:  73%|███████▎  | 43973/60000 [00:05<00:01, 8289.06 examples/s]\n",
      "Generating train split:  75%|███████▌  | 45192/60000 [00:05<00:01, 8228.50 examples/s]\n",
      "Generating train split:  77%|███████▋  | 46436/60000 [00:05<00:01, 8190.37 examples/s]\n",
      "Generating train split:  79%|███████▉  | 47660/60000 [00:05<00:01, 8175.72 examples/s]\n",
      "Generating train split:  81%|████████  | 48481/60000 [00:06<00:01, 8183.36 examples/s]\n",
      "Generating train split:  82%|████████▏ | 49309/60000 [00:06<00:01, 8203.49 examples/s]\n",
      "Generating train split:  84%|████████▎ | 50140/60000 [00:06<00:01, 8229.17 examples/s]\n",
      "Generating train split:  85%|████████▍ | 50994/60000 [00:06<00:01, 8312.39 examples/s]\n",
      "Generating train split:  87%|████████▋ | 52163/60000 [00:06<00:00, 8117.73 examples/s]\n",
      "Generating train split:  88%|████████▊ | 53000/60000 [00:06<00:00, 8133.52 examples/s]\n",
      "Generating train split:  90%|████████▉ | 53853/60000 [00:06<00:00, 8237.80 examples/s]\n",
      "Generating train split:  92%|█████████▏| 55083/60000 [00:06<00:00, 8219.08 examples/s]\n",
      "Generating train split:  93%|█████████▎| 55938/60000 [00:06<00:00, 8302.45 examples/s]\n",
      "Generating train split:  95%|█████████▌| 57168/60000 [00:07<00:00, 8260.55 examples/s]\n",
      "Generating train split:  97%|█████████▋| 58000/60000 [00:07<00:00, 8258.09 examples/s]\n",
      "Generating train split:  98%|█████████▊| 58858/60000 [00:07<00:00, 8339.18 examples/s]\n",
      "Generating train split: 100%|██████████| 60000/60000 [00:07<00:00, 8056.66 examples/s]\n",
      "Generating test split:   0%|          | 0/10000 [00:00<?, ? examples/s]\n",
      "Generating test split:   8%|▊         | 808/10000 [00:00<00:01, 8052.48 examples/s]\n",
      "Generating test split:  20%|█▉        | 1973/10000 [00:00<00:01, 7851.96 examples/s]\n",
      "Generating test split:  28%|██▊       | 2778/10000 [00:00<00:00, 7926.97 examples/s]\n",
      "Generating test split:  36%|███▌      | 3613/10000 [00:00<00:00, 8074.04 examples/s]\n",
      "Generating test split:  44%|████▍     | 4442/10000 [00:00<00:00, 8144.39 examples/s]\n",
      "Generating test split:  53%|█████▎    | 5283/10000 [00:00<00:00, 8227.90 examples/s]\n",
      "Generating test split:  61%|██████    | 6112/10000 [00:00<00:00, 8245.12 examples/s]\n",
      "Generating test split:  70%|██████▉   | 6958/10000 [00:00<00:00, 8310.08 examples/s]\n",
      "Generating test split:  82%|████████▏ | 8176/10000 [00:01<00:00, 8227.89 examples/s]\n",
      "Generating test split:  94%|█████████▍| 9384/10000 [00:01<00:00, 8160.74 examples/s]\n",
      "\u001b[2m\u001b[36m(ClientAppActor pid=522)\u001b[0m \u001b[92mINFO \u001b[0m: client trains for 2 epochs\n",
      "Generating test split: 100%|██████████| 10000/10000 [00:01<00:00, 8112.72 examples/s]\n",
      "\u001b[2m\u001b[36m(ClientAppActor pid=521)\u001b[0m \u001b[92mINFO \u001b[0m: client trains for 2 epochs\u001b[32m [repeated 3x across cluster] (Ray deduplicates logs by default. Set RAY_DEDUP_LOGS=0 to disable log deduplication, or see https://docs.ray.io/en/master/ray-observability/ray-logging.html#log-deduplication for more options.)\u001b[0m\n",
      "\u001b[92mINFO \u001b[0m: aggregate_fit: received 5 results and 0 failures\n",
      "\u001b[92mINFO \u001b[0m: configure_evaluate: no clients selected, skipping evaluation\n",
      "\u001b[92mINFO \u001b[0m: \n",
      "\u001b[92mINFO \u001b[0m: [ROUND 2]\n",
      "\u001b[92mINFO \u001b[0m: configure_fit: strategy sampled 5 clients (out of 5)\n",
      "\u001b[2m\u001b[36m(ClientAppActor pid=520)\u001b[0m \u001b[92mINFO \u001b[0m: client trains for 2 epochs\u001b[32m [repeated 2x across cluster]\u001b[0m\n"
     ]
    },
    {
     "name": "stderr",
     "output_type": "stream",
     "text": [
      "\u001b[2m\u001b[36m(ClientAppActor pid=520)\u001b[0m \u001b[92mINFO \u001b[0m: client trains for 2 epochs\u001b[32m [repeated 3x across cluster]\u001b[0m\n",
      "\u001b[92mINFO \u001b[0m: aggregate_fit: received 5 results and 0 failures\n",
      "\u001b[92mINFO \u001b[0m: configure_evaluate: no clients selected, skipping evaluation\n",
      "\u001b[92mINFO \u001b[0m: \n",
      "\u001b[92mINFO \u001b[0m: [ROUND 3]\n",
      "\u001b[92mINFO \u001b[0m: configure_fit: strategy sampled 5 clients (out of 5)\n",
      "\u001b[2m\u001b[36m(ClientAppActor pid=522)\u001b[0m \u001b[92mINFO \u001b[0m: client trains for 5 epochs\u001b[32m [repeated 2x across cluster]\u001b[0m\n",
      "\u001b[2m\u001b[36m(ClientAppActor pid=522)\u001b[0m \u001b[92mINFO \u001b[0m: client trains for 5 epochs\u001b[32m [repeated 3x across cluster]\u001b[0m\n",
      "\u001b[92mINFO \u001b[0m: aggregate_fit: received 5 results and 0 failures\n",
      "\u001b[92mINFO \u001b[0m: configure_evaluate: no clients selected, skipping evaluation\n",
      "\u001b[92mINFO \u001b[0m: \n",
      "\u001b[92mINFO \u001b[0m: [SUMMARY]\n",
      "\u001b[92mINFO \u001b[0m: Run finished 3 round(s) in 67.44s\n",
      "\u001b[92mINFO \u001b[0m: \n",
      "\u001b[2m\u001b[36m(ClientAppActor pid=521)\u001b[0m \u001b[92mINFO \u001b[0m: client trains for 5 epochs\n"
     ]
    }
   ],
   "source": [
    "run_simulation(server_app=server,\n",
    "               client_app=client,\n",
    "               num_supernodes=5,\n",
    "               backend_config=backend_setup\n",
    "               )"
   ]
  }
 ],
 "metadata": {
  "kernelspec": {
   "display_name": "Python 3 (ipykernel)",
   "language": "python",
   "name": "python3"
  },
  "language_info": {
   "codemirror_mode": {
    "name": "ipython",
    "version": 3
   },
   "file_extension": ".py",
   "mimetype": "text/x-python",
   "name": "python",
   "nbconvert_exporter": "python",
   "pygments_lexer": "ipython3",
   "version": "3.11.9"
  }
 },
 "nbformat": 4,
 "nbformat_minor": 5
}

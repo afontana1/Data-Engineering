{
 "cells": [
  {
   "cell_type": "markdown",
   "id": "c0864134",
   "metadata": {},
   "source": [
    "# Lesson 5: Bandwidth"
   ]
  },
  {
   "cell_type": "markdown",
   "id": "b5f578c4",
   "metadata": {},
   "source": [
    "Welcome to Lesson 5!\n",
    "\n",
    "To access the `requirements.txt` and `utils5.py` file for this course, go to `File` and click `Open`."
   ]
  },
  {
   "cell_type": "markdown",
   "id": "25b96f7b",
   "metadata": {},
   "source": [
    "#### 1. Load imports"
   ]
  },
  {
   "cell_type": "code",
   "execution_count": 1,
   "id": "4bc861ea-21bb-45a8-8196-a5b0d0ace374",
   "metadata": {
    "height": 79
   },
   "outputs": [],
   "source": [
    "from flwr.client.mod import parameters_size_mod\n",
    "\n",
    "from utils5 import *"
   ]
  },
  {
   "cell_type": "markdown",
   "id": "9a45205f",
   "metadata": {},
   "source": [
    "#### 2.  Define the model"
   ]
  },
  {
   "cell_type": "markdown",
   "id": "801d9e47",
   "metadata": {},
   "source": [
    "*  Initialize the model."
   ]
  },
  {
   "cell_type": "code",
   "execution_count": 2,
   "id": "bb82dbc0-cb85-408c-ac0f-265af010bfea",
   "metadata": {
    "height": 96
   },
   "outputs": [],
   "source": [
    "model = AutoModelForCausalLM.from_pretrained(\n",
    "    \"EleutherAI/pythia-14m\",\n",
    "    cache_dir=\"./pythia-14m/cache\",\n",
    ")"
   ]
  },
  {
   "cell_type": "markdown",
   "id": "37b51a54",
   "metadata": {},
   "source": [
    "Find more information about [EleutherAI/pythia-14m](https://huggingface.co/EleutherAI/pythia-14m)"
   ]
  },
  {
   "cell_type": "markdown",
   "id": "6159b23d",
   "metadata": {},
   "source": [
    "* Get some Model values."
   ]
  },
  {
   "cell_type": "code",
   "execution_count": 3,
   "id": "973616a4-8b73-41b8-bc9d-4abbbc74502d",
   "metadata": {
    "height": 113
   },
   "outputs": [
    {
     "name": "stderr",
     "output_type": "stream",
     "text": [
      "\u001b[92mINFO \u001b[0m: Model size is: 53 MB\n"
     ]
    }
   ],
   "source": [
    "vals = model.state_dict().values()\n",
    "total_size_bytes = sum(p.element_size() * p.numel() for p in vals)\n",
    "total_size_mb = int(total_size_bytes / (1024**2))\n",
    "\n",
    "log(INFO, \"Model size is: {} MB\".format(total_size_mb))"
   ]
  },
  {
   "cell_type": "markdown",
   "id": "6ccf308f",
   "metadata": {},
   "source": [
    "* Define the FlowerClient."
   ]
  },
  {
   "cell_type": "code",
   "execution_count": 4,
   "id": "ea907386-ef03-46a5-bbe3-05414dee7b4b",
   "metadata": {
    "height": 419
   },
   "outputs": [],
   "source": [
    "class FlowerClient(NumPyClient):\n",
    "    def __init__(self, net):\n",
    "        self.net = net\n",
    "\n",
    "    def fit(self, parameters, config):\n",
    "        set_weights(self.net, parameters)\n",
    "        # No actual training here\n",
    "        return get_weights(self.net), 1, {}\n",
    "\n",
    "    def evaluate(self, parameters, config):\n",
    "        set_weights(self.net, parameters)\n",
    "        # No actual evaluation here\n",
    "        return float(0), int(1), {\"accuracy\": 0}\n",
    "\n",
    "\n",
    "def client_fn(context: Context) -> FlowerClient:\n",
    "    return FlowerClient(model).to_client()\n",
    "\n",
    "\n",
    "client = ClientApp(\n",
    "    client_fn,\n",
    "    mods=[parameters_size_mod],\n",
    ")"
   ]
  },
  {
   "cell_type": "markdown",
   "id": "4ffa0f64",
   "metadata": {},
   "source": [
    "* Define the custom strategy: BandwidthTrackingFedAvg."
   ]
  },
  {
   "cell_type": "code",
   "execution_count": 5,
   "id": "95213409-e47d-4415-b69f-9bfb5498aaf4",
   "metadata": {
    "height": 572
   },
   "outputs": [],
   "source": [
    "bandwidth_sizes = []\n",
    "\n",
    "\n",
    "class BandwidthTrackingFedAvg(FedAvg):\n",
    "    def aggregate_fit(self, server_round, results, failures):\n",
    "        if not results:\n",
    "            return None, {}\n",
    "\n",
    "        # Track sizes of models received\n",
    "        for _, res in results:\n",
    "            ndas = parameters_to_ndarrays(res.parameters)\n",
    "            size = int(sum(n.nbytes for n in ndas) / (1024**2))\n",
    "            log(INFO, f\"Server receiving model size: {size} MB\")\n",
    "            bandwidth_sizes.append(size)\n",
    "\n",
    "        # Call FedAvg for actual aggregation\n",
    "        return super().aggregate_fit(server_round, results, failures)\n",
    "\n",
    "    def configure_fit(self, server_round, parameters, client_manager):\n",
    "        # Call FedAvg for actual configuration\n",
    "        instructions = super().configure_fit(\n",
    "            server_round, parameters, client_manager\n",
    "        )\n",
    "\n",
    "        # Track sizes of models to be sent\n",
    "        for _, ins in instructions:\n",
    "            ndas = parameters_to_ndarrays(ins.parameters)\n",
    "            size = int(sum(n.nbytes for n in ndas) / (1024**2))\n",
    "            log(INFO, f\"Server sending model size: {size} MB\")\n",
    "            bandwidth_sizes.append(size)\n",
    "\n",
    "        return instructions"
   ]
  },
  {
   "cell_type": "code",
   "execution_count": 6,
   "id": "d0166979-2cc2-44ac-89dd-e9bc05c941e9",
   "metadata": {
    "height": 283
   },
   "outputs": [],
   "source": [
    "params = ndarrays_to_parameters(get_weights(model))\n",
    "\n",
    "def server_fn(context: Context):\n",
    "    strategy = BandwidthTrackingFedAvg(\n",
    "        fraction_evaluate=0.0,\n",
    "        initial_parameters=params,\n",
    "    )\n",
    "    config = ServerConfig(num_rounds=1)\n",
    "    return ServerAppComponents(\n",
    "        strategy=strategy,\n",
    "        config=config,\n",
    "    )\n",
    "\n",
    "\n",
    "server = ServerApp(server_fn=server_fn)"
   ]
  },
  {
   "cell_type": "markdown",
   "id": "ab4e469b",
   "metadata": {},
   "source": [
    "* Run the simulation."
   ]
  },
  {
   "cell_type": "code",
   "execution_count": 7,
   "id": "c4cddbee-f017-4ad1-b6e1-2a81b857fcef",
   "metadata": {
    "height": 113
   },
   "outputs": [
    {
     "name": "stderr",
     "output_type": "stream",
     "text": [
      "\u001b[92mINFO \u001b[0m: Starting Flower ServerApp, config: num_rounds=1, no round_timeout\n",
      "\u001b[92mINFO \u001b[0m: \n",
      "\u001b[92mINFO \u001b[0m: [INIT]\n",
      "\u001b[92mINFO \u001b[0m: Using initial global parameters provided by strategy\n",
      "\u001b[92mINFO \u001b[0m: Evaluating initial global parameters\n",
      "\u001b[92mINFO \u001b[0m: \n",
      "\u001b[92mINFO \u001b[0m: [ROUND 1]\n",
      "\u001b[92mINFO \u001b[0m: Server sending model size: 53 MB\n",
      "\u001b[92mINFO \u001b[0m: Server sending model size: 53 MB\n",
      "\u001b[92mINFO \u001b[0m: configure_fit: strategy sampled 2 clients (out of 2)\n",
      "\u001b[2m\u001b[36m(ClientAppActor pid=464)\u001b[0m \u001b[92mINFO \u001b[0m: {'fitins.parameters': {'parameters': 14067712, 'bytes': 56280718}}\n",
      "\u001b[2m\u001b[36m(ClientAppActor pid=464)\u001b[0m \u001b[92mINFO \u001b[0m: Total parameters transmitted: 56280718 bytes\n",
      "\u001b[92mINFO \u001b[0m: aggregate_fit: received 2 results and 0 failures\n",
      "\u001b[92mINFO \u001b[0m: Server receiving model size: 53 MB\n",
      "\u001b[92mINFO \u001b[0m: Server receiving model size: 53 MB\n",
      "\u001b[92mINFO \u001b[0m: configure_evaluate: no clients selected, skipping evaluation\n",
      "\u001b[92mINFO \u001b[0m: \n",
      "\u001b[92mINFO \u001b[0m: [SUMMARY]\n",
      "\u001b[92mINFO \u001b[0m: Run finished 1 round(s) in 12.48s\n",
      "\u001b[92mINFO \u001b[0m: \n",
      "\u001b[2m\u001b[36m(ClientAppActor pid=465)\u001b[0m \u001b[92mINFO \u001b[0m: {'fitins.parameters': {'parameters': 14067712, 'bytes': 56280718}}\n",
      "\u001b[2m\u001b[36m(ClientAppActor pid=465)\u001b[0m \u001b[92mINFO \u001b[0m: Total parameters transmitted: 56280718 bytes\n"
     ]
    }
   ],
   "source": [
    "run_simulation(server_app=server,\n",
    "               client_app=client,\n",
    "               num_supernodes=2,\n",
    "               backend_config=backend_setup\n",
    "               )"
   ]
  },
  {
   "cell_type": "markdown",
   "id": "30d64b93",
   "metadata": {},
   "source": [
    "* Log how much bandwidth was used!"
   ]
  },
  {
   "cell_type": "code",
   "execution_count": 8,
   "id": "d49b2f6d-91eb-4161-b86e-74d897cb725a",
   "metadata": {
    "height": 45
   },
   "outputs": [
    {
     "name": "stderr",
     "output_type": "stream",
     "text": [
      "\u001b[92mINFO \u001b[0m: Total bandwidth used: 212 MB\n"
     ]
    }
   ],
   "source": [
    "log(INFO, \"Total bandwidth used: {} MB\".format(sum(bandwidth_sizes)))"
   ]
  }
 ],
 "metadata": {
  "kernelspec": {
   "display_name": "Python 3 (ipykernel)",
   "language": "python",
   "name": "python3"
  },
  "language_info": {
   "codemirror_mode": {
    "name": "ipython",
    "version": 3
   },
   "file_extension": ".py",
   "mimetype": "text/x-python",
   "name": "python",
   "nbconvert_exporter": "python",
   "pygments_lexer": "ipython3",
   "version": "3.11.9"
  }
 },
 "nbformat": 4,
 "nbformat_minor": 5
}

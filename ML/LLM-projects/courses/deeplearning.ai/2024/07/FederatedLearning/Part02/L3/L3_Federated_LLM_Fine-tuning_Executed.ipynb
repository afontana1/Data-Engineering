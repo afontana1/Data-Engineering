{
 "cells": [
  {
   "cell_type": "markdown",
   "id": "7a5e278c",
   "metadata": {},
   "source": [
    "# Lesson 3: Federated LLM Fine-tuning"
   ]
  },
  {
   "cell_type": "markdown",
   "id": "ffab775e",
   "metadata": {},
   "source": [
    "Welcome to Lesson 3!\n",
    "\n",
    "To access the `requirements.txt` and `utils` files for this course, go to `File` and click `Open`."
   ]
  },
  {
   "cell_type": "markdown",
   "id": "5aae51e7",
   "metadata": {},
   "source": [
    "#### 1. Import packages and utilities"
   ]
  },
  {
   "cell_type": "code",
   "execution_count": 1,
   "id": "1d457c02-b6e8-4721-b5d8-a866517d8a0c",
   "metadata": {
    "height": 266
   },
   "outputs": [
    {
     "name": "stdout",
     "output_type": "stream",
     "text": [
      "/usr/local/lib/python3.11/site-packages/bitsandbytes/libbitsandbytes_cpu.so: undefined symbol: cadam32bit_grad_fp32\n"
     ]
    }
   ],
   "source": [
    "import warnings\n",
    "warnings.filterwarnings(\"ignore\", category=UserWarning)\n",
    "warnings.filterwarnings(\"ignore\", category=FutureWarning)\n",
    "import flwr as fl\n",
    "from flwr_datasets import FederatedDataset\n",
    "from flwr_datasets.partitioner import IidPartitioner\n",
    "from datasets import load_dataset\n",
    "from flwr.client.mod import fixedclipping_mod\n",
    "from flwr.server.strategy import (\n",
    "    DifferentialPrivacyClientSideFixedClipping\n",
    ")\n",
    "from utils.utils import * \n",
    "from utils.LLM import LLM_fl\n",
    "from utils.LLM import get_fireworks_api_key,load_env"
   ]
  },
  {
   "cell_type": "markdown",
   "id": "882a2963",
   "metadata": {},
   "source": [
    "* Load configuration."
   ]
  },
  {
   "cell_type": "code",
   "execution_count": 2,
   "id": "6dae3e48-08de-412e-80f1-95de0039f3b8",
   "metadata": {
    "height": 64
   },
   "outputs": [
    {
     "name": "stdout",
     "output_type": "stream",
     "text": [
      "dataset:\n",
      "  name: medalpaca/medical_meadow_medical_flashcards\n",
      "model:\n",
      "  name: EleutherAI/pythia-70m\n",
      "  quantization: 4\n",
      "  gradient_checkpointing: true\n",
      "  use_fast_tokenizer: true\n",
      "  lora:\n",
      "    peft_lora_r: 16\n",
      "    peft_lora_alpha: 64\n",
      "    target_modules: null\n",
      "train:\n",
      "  num_rounds: ${flower.num_rounds}\n",
      "  save_every_round: 5\n",
      "  learning_rate_max: 5.0e-05\n",
      "  learning_rate_min: 1.0e-06\n",
      "  seq_length: 512\n",
      "  padding_side: left\n",
      "  evaluate_split: false\n",
      "  training_arguments:\n",
      "    output_dir: null\n",
      "    learning_rate: null\n",
      "    disable_tqdm: true\n",
      "    per_device_train_batch_size: 2\n",
      "    gradient_accumulation_steps: 1\n",
      "    logging_steps: 5\n",
      "    num_train_epochs: 3\n",
      "    max_steps: 1\n",
      "    report_to: null\n",
      "    save_steps: 1000\n",
      "    save_total_limit: 10\n",
      "    gradient_checkpointing: ${model.gradient_checkpointing}\n",
      "    lr_scheduler_type: constant\n",
      "flower:\n",
      "  num_clients: 20\n",
      "  num_rounds: 2\n",
      "  fraction_fit: 0.2\n",
      "  client_resources:\n",
      "    num_cpus: 2\n",
      "    num_gpus: 0.0\n",
      "  dp:\n",
      "    noise_mult: 0.02\n",
      "    clip_norm: 0.5\n",
      "\n"
     ]
    }
   ],
   "source": [
    "cfg = get_config(\"federated\")\n",
    "\n",
    "print_config(cfg)"
   ]
  },
  {
   "cell_type": "markdown",
   "id": "99b584e0",
   "metadata": {},
   "source": [
    "#### 2. Dataset partition"
   ]
  },
  {
   "cell_type": "code",
   "execution_count": 3,
   "id": "729eb95a-d86f-4871-a8e2-652227f4e983",
   "metadata": {
    "height": 181
   },
   "outputs": [
    {
     "data": {
      "application/vnd.jupyter.widget-view+json": {
       "model_id": "eb2581b1003341a8953936ae9c2d9bdf",
       "version_major": 2,
       "version_minor": 0
      },
      "text/plain": [
       "Downloading readme:   0%|          | 0.00/1.24k [00:00<?, ?B/s]"
      ]
     },
     "metadata": {},
     "output_type": "display_data"
    },
    {
     "data": {
      "application/vnd.jupyter.widget-view+json": {
       "model_id": "cf677e597bcf48699398de5b24a451ee",
       "version_major": 2,
       "version_minor": 0
      },
      "text/plain": [
       "Downloading data:   0%|          | 0.00/17.7M [00:00<?, ?B/s]"
      ]
     },
     "metadata": {},
     "output_type": "display_data"
    },
    {
     "data": {
      "application/vnd.jupyter.widget-view+json": {
       "model_id": "5e1608eddb6441878482c861ff2cbc1e",
       "version_major": 2,
       "version_minor": 0
      },
      "text/plain": [
       "Generating train split: 0 examples [00:00, ? examples/s]"
      ]
     },
     "metadata": {},
     "output_type": "display_data"
    },
    {
     "data": {
      "text/plain": [
       "Dataset({\n",
       "    features: ['instruction', 'response'],\n",
       "    num_rows: 1698\n",
       "})"
      ]
     },
     "execution_count": 3,
     "metadata": {},
     "output_type": "execute_result"
    }
   ],
   "source": [
    "partitioner = IidPartitioner(num_partitions=cfg.flower.num_clients)\n",
    "fds = FederatedDataset(\n",
    "    dataset=cfg.dataset.name,\n",
    "    partitioners={\"train\": partitioner}\n",
    ")\n",
    "\n",
    "partition_zero = fds.load_partition(0) \n",
    "\n",
    "format_dataset(partition_zero)"
   ]
  },
  {
   "cell_type": "markdown",
   "id": "d223c960",
   "metadata": {},
   "source": [
    "* Visualize the data partition."
   ]
  },
  {
   "cell_type": "code",
   "execution_count": 4,
   "id": "c63940fa-d3bc-47f6-bab0-7f98e1f30230",
   "metadata": {
    "height": 30
   },
   "outputs": [
    {
     "data": {
      "image/png": "[encoded data removed]",
      "text/plain": [
       "<Figure size 640x480 with 1 Axes>"
      ]
     },
     "metadata": {},
     "output_type": "display_data"
    }
   ],
   "source": [
    "visualize_partitions(fds)"
   ]
  },
  {
   "cell_type": "markdown",
   "id": "8bd12fc4",
   "metadata": {},
   "source": [
    "#### 3. Client and Server"
   ]
  },
  {
   "cell_type": "markdown",
   "id": "494c7556",
   "metadata": {},
   "source": [
    "* Load the tokenizer and other components."
   ]
  },
  {
   "cell_type": "code",
   "execution_count": 5,
   "id": "187c7731-cd6a-4549-8a88-944fcabf64a4",
   "metadata": {
    "height": 181
   },
   "outputs": [
    {
     "data": {
      "application/vnd.jupyter.widget-view+json": {
       "model_id": "7e61a78b35a24dec8b7363bcc08c848d",
       "version_major": 2,
       "version_minor": 0
      },
      "text/plain": [
       "tokenizer_config.json:   0%|          | 0.00/396 [00:00<?, ?B/s]"
      ]
     },
     "metadata": {},
     "output_type": "display_data"
    },
    {
     "data": {
      "application/vnd.jupyter.widget-view+json": {
       "model_id": "a55ff925de5445459478e8430ff0e135",
       "version_major": 2,
       "version_minor": 0
      },
      "text/plain": [
       "tokenizer.json:   0%|          | 0.00/2.11M [00:00<?, ?B/s]"
      ]
     },
     "metadata": {},
     "output_type": "display_data"
    },
    {
     "data": {
      "application/vnd.jupyter.widget-view+json": {
       "model_id": "5f0926ce26474538a54c48ac98ba0642",
       "version_major": 2,
       "version_minor": 0
      },
      "text/plain": [
       "special_tokens_map.json:   0%|          | 0.00/99.0 [00:00<?, ?B/s]"
      ]
     },
     "metadata": {},
     "output_type": "display_data"
    },
    {
     "name": "stderr",
     "output_type": "stream",
     "text": [
      "Special tokens have been added in the vocabulary, make sure the associated word embeddings are fine-tuned or trained.\n"
     ]
    }
   ],
   "source": [
    "(\n",
    "tokenizer,\n",
    "data_collator,\n",
    "formatting_prompts_func,\n",
    ") = get_tokenizer_and_data_collator_and_propt_formatting(\n",
    "    cfg.model.name, \n",
    "    cfg.model.use_fast_tokenizer,\n",
    "    cfg.train.padding_side,\n",
    ")"
   ]
  },
  {
   "cell_type": "markdown",
   "id": "d86d07d5",
   "metadata": {},
   "source": [
    "* Define the client."
   ]
  },
  {
   "cell_type": "code",
   "execution_count": 6,
   "id": "f8aef1bf-47c4-484b-9a68-8a7731b660e0",
   "metadata": {
    "height": 249
   },
   "outputs": [],
   "source": [
    "save_path = \"./my_fl_model\"\n",
    "client = fl.client.ClientApp(\n",
    "    client_fn=gen_client_fn(\n",
    "        fds,\n",
    "        tokenizer,\n",
    "        formatting_prompts_func,\n",
    "        data_collator,\n",
    "        cfg.model, \n",
    "        cfg.train, \n",
    "        save_path,\n",
    "    ),\n",
    "    mods=[fixedclipping_mod] \n",
    ")"
   ]
  },
  {
   "cell_type": "markdown",
   "id": "ffe27528",
   "metadata": {},
   "source": [
    "> Note: The ```gen_client_fn``` function is provided for your use. You can find it in the utils folder > ```utils.py```"
   ]
  },
  {
   "cell_type": "markdown",
   "id": "f599a2f1",
   "metadata": {},
   "source": [
    "* Define the server function and add Differential Privacy."
   ]
  },
  {
   "cell_type": "code",
   "execution_count": 7,
   "id": "4df181b7-b94c-4234-9743-1c1b3550d57e",
   "metadata": {
    "height": 623
   },
   "outputs": [],
   "source": [
    "def server_fn(context: Context):\n",
    "\n",
    "    # Define the Strategy\n",
    "    strategy = fl.server.strategy.FedAvg(\n",
    "        min_available_clients=cfg.flower.num_clients, # total clients\n",
    "        fraction_fit=cfg.flower.fraction_fit, # ratio of clients to sample\n",
    "        fraction_evaluate=0.0, # No federated evaluation\n",
    "        # A (optional) function used to configure a \"fit()\" round\n",
    "        on_fit_config_fn=get_on_fit_config(),\n",
    "        # A (optional) function to aggregate metrics sent by clients\n",
    "        fit_metrics_aggregation_fn=fit_weighted_average,\n",
    "        # A (optional) function to execute on the server after each round. \n",
    "        # In this example the function only saves the global model.\n",
    "        evaluate_fn=get_evaluate_fn( \n",
    "            cfg.model,\n",
    "            cfg.train.save_every_round,\n",
    "            cfg.flower.num_rounds,\n",
    "            save_path\n",
    "        ),\n",
    "    )\n",
    "\n",
    "    # Add Differential Privacy\n",
    "    sampled_clients = cfg.flower.num_clients*strategy.fraction_fit\n",
    "    strategy = DifferentialPrivacyClientSideFixedClipping(\n",
    "        strategy, \n",
    "        noise_multiplier=cfg.flower.dp.noise_mult,\n",
    "        clipping_norm=cfg.flower.dp.clip_norm, \n",
    "        num_sampled_clients=sampled_clients\n",
    "    )\n",
    "\n",
    "    # Number of rounds to run the simulation\n",
    "    num_rounds = cfg.flower.num_rounds\n",
    "    config = fl.server.ServerConfig(num_rounds=num_rounds)\n",
    "    \n",
    "    return fl.server.ServerAppComponents(strategy=strategy, config=config) "
   ]
  },
  {
   "cell_type": "markdown",
   "id": "c9a12ee6",
   "metadata": {},
   "source": [
    "* Instantiate the ServerApp."
   ]
  },
  {
   "cell_type": "code",
   "execution_count": 8,
   "id": "c5c39cfe-aa8b-4901-8aa7-2dce50836456",
   "metadata": {
    "height": 45
   },
   "outputs": [],
   "source": [
    "server = fl.server.ServerApp(server_fn=server_fn)"
   ]
  },
  {
   "cell_type": "markdown",
   "id": "1fb90e54",
   "metadata": {},
   "source": [
    "#### 4. Run"
   ]
  },
  {
   "cell_type": "markdown",
   "id": "26a082e3",
   "metadata": {},
   "source": [
    "* Run the simulation."
   ]
  },
  {
   "cell_type": "markdown",
   "id": "896a9f13",
   "metadata": {},
   "source": [
    "> Note: This simulation might take a few minutes to complete."
   ]
  },
  {
   "cell_type": "code",
   "execution_count": 9,
   "id": "b43eb1bd-eb58-429e-a35c-d4c9eb4a6743",
   "metadata": {
    "height": 164
   },
   "outputs": [
    {
     "name": "stderr",
     "output_type": "stream",
     "text": [
      "\u001b[92mINFO \u001b[0m: Starting Flower ServerApp, config: num_rounds=2, no round_timeout\n",
      "\u001b[92mINFO \u001b[0m: \n",
      "\u001b[92mINFO \u001b[0m: [INIT]\n",
      "\u001b[92mINFO \u001b[0m: Requesting initial parameters from one random client\n",
      "\u001b[92mINFO \u001b[0m: Received initial parameters from one random client\n",
      "\u001b[92mINFO \u001b[0m: Evaluating initial global parameters\n",
      "\u001b[92mINFO \u001b[0m: initial parameters (loss, other metrics): 0.0, {}\n",
      "\u001b[92mINFO \u001b[0m: \n",
      "\u001b[92mINFO \u001b[0m: [ROUND 1]\n",
      "\u001b[92mINFO \u001b[0m: configure_fit: strategy sampled 4 clients (out of 20)\n",
      "\u001b[92mINFO \u001b[0m: aggregate_fit: received 4 results and 0 failures\n",
      "\u001b[92mINFO \u001b[0m: aggregate_fit: central DP noise with 0.0025 stdev added\n",
      "\u001b[92mINFO \u001b[0m: fit progress: (1, 0.0, {}, 8.028429491445422)\n",
      "\u001b[92mINFO \u001b[0m: configure_evaluate: no clients selected, skipping evaluation\n",
      "\u001b[92mINFO \u001b[0m: \n",
      "\u001b[92mINFO \u001b[0m: [ROUND 2]\n",
      "\u001b[92mINFO \u001b[0m: configure_fit: strategy sampled 4 clients (out of 20)\n",
      "\u001b[92mINFO \u001b[0m: aggregate_fit: received 4 results and 0 failures\n",
      "\u001b[92mINFO \u001b[0m: aggregate_fit: central DP noise with 0.0025 stdev added\n",
      "\u001b[92mINFO \u001b[0m: fit progress: (2, 0.0, {}, 13.969516519457102)\n",
      "\u001b[92mINFO \u001b[0m: configure_evaluate: no clients selected, skipping evaluation\n",
      "\u001b[92mINFO \u001b[0m: \n",
      "\u001b[92mINFO \u001b[0m: [SUMMARY]\n",
      "\u001b[92mINFO \u001b[0m: Run finished 2 round(s) in 13.97s\n",
      "\u001b[92mINFO \u001b[0m: \tHistory (loss, centralized):\n",
      "\u001b[92mINFO \u001b[0m: \t\tround 0: 0.0\n",
      "\u001b[92mINFO \u001b[0m: \t\tround 1: 0.0\n",
      "\u001b[92mINFO \u001b[0m: \t\tround 2: 0.0\n",
      "\u001b[92mINFO \u001b[0m: \tHistory (metrics, distributed, fit):\n",
      "\u001b[92mINFO \u001b[0m: \t{'train_loss': [(1, 4.19920206891474), (2, 4.140758468335788)]}\n",
      "\u001b[92mINFO \u001b[0m: \n"
     ]
    }
   ],
   "source": [
    "client_resources = dict(cfg.flower.client_resources)\n",
    "fl.simulation.run_simulation(\n",
    "    server_app=server,\n",
    "    client_app=client,\n",
    "    num_supernodes=cfg.flower.num_clients,\n",
    "    backend_config={\"client_resources\": client_resources,\n",
    "                    \"init_args\": backend_setup}\n",
    ")"
   ]
  },
  {
   "cell_type": "markdown",
   "id": "4c2c2c62",
   "metadata": {},
   "source": [
    "* Run the fine-tuned model. "
   ]
  },
  {
   "cell_type": "code",
   "execution_count": 10,
   "id": "c5480e6d-4054-4e87-a228-adf4021d36e1",
   "metadata": {
    "height": 47
   },
   "outputs": [],
   "source": [
    "# Load the checkpoint\n",
    "llm_eval = LLM_fl()"
   ]
  },
  {
   "cell_type": "code",
   "execution_count": 11,
   "id": "997a3ef5-c206-44cd-bf28-520070872426",
   "metadata": {
    "height": 130
   },
   "outputs": [],
   "source": [
    "# Load dataset\n",
    "train_dataset = load_dataset(cfg.dataset.name, split='train')\n",
    "train_dataset = format_dataset(train_dataset)\n",
    "\n",
    "# Select training example\n",
    "example_index = 6"
   ]
  },
  {
   "cell_type": "code",
   "execution_count": 12,
   "id": "493a4d5a-a36f-46b9-abc7-510e802b0e43",
   "metadata": {
    "height": 45
   },
   "outputs": [],
   "source": [
    "data_point = train_dataset[example_index]"
   ]
  },
  {
   "cell_type": "code",
   "execution_count": 13,
   "id": "4b2610f9-fa1c-4165-b6d5-0956132d4735",
   "metadata": {
    "height": 62
   },
   "outputs": [
    {
     "name": "stdout",
     "output_type": "stream",
     "text": [
      "Prompt:\n",
      "\tWhat are the possible causes of low glucose and\n",
      "\thigh C-peptide levels?\n"
     ]
    }
   ],
   "source": [
    "# Print the prompt\n",
    "llm_eval.eval(data_point['instruction'], verbose=True)"
   ]
  },
  {
   "cell_type": "code",
   "execution_count": 14,
   "id": "e829faf4-0aa1-4387-84be-c6c69f100673",
   "metadata": {
    "height": 62
   },
   "outputs": [
    {
     "name": "stdout",
     "output_type": "stream",
     "text": [
      "Response:\n",
      "\tLow glucose and high C-peptide levels can be\n",
      "\tcaused by several factors, including:  1.\n",
      "\tInsulinoma: This is a rare tumor of the pancreas\n",
      "\tthat causes the release of excessive amounts of\n",
      "\tinsulin, which can lead to low glucose and high\n",
      "\tC-peptide levels. 2. Postprandial hypog\n"
     ]
    }
   ],
   "source": [
    "# Print the fine-tuned LLM response\n",
    "llm_eval.print_response()"
   ]
  },
  {
   "cell_type": "code",
   "execution_count": 15,
   "id": "0613d446-432b-4669-94bb-49618e7d1582",
   "metadata": {
    "height": 79
   },
   "outputs": [
    {
     "name": "stdout",
     "output_type": "stream",
     "text": [
      "Expected output:\n",
      "\tLow glucose and high C-peptide levels can be\n",
      "\tcaused by an insulinoma or the use of\n",
      "\tsulfonylurea drugs.\n"
     ]
    }
   ],
   "source": [
    "# Print the expected output from the medAlpaca dataset\n",
    "ex_response = format_string(data_point['response'])\n",
    "print(f\"Expected output:\\n\\t{ex_response}\")"
   ]
  },
  {
   "cell_type": "markdown",
   "id": "93800704",
   "metadata": {},
   "source": [
    "#### 5. Visualize results"
   ]
  },
  {
   "cell_type": "code",
   "execution_count": 16,
   "id": "72abebc1-62f4-498c-b75b-89c03d6a10e1",
   "metadata": {
    "height": 62
   },
   "outputs": [
    {
     "data": {
      "image/png": "[encoded data removed]",
      "text/plain": [
       "<Figure size 600x400 with 1 Axes>"
      ]
     },
     "metadata": {},
     "output_type": "display_data"
    }
   ],
   "source": [
    "visualize_results(\n",
    "    results=['7b/pretrained', '7b/cen_10', '7b/fl'])"
   ]
  },
  {
   "cell_type": "markdown",
   "id": "308d46bd",
   "metadata": {},
   "source": [
    "* See the results if you would provide the same amount of data to the centralized finetuned-model."
   ]
  },
  {
   "cell_type": "code",
   "execution_count": 17,
   "id": "fccaae95-4bab-48b7-be16-eb4937230156",
   "metadata": {
    "height": 96
   },
   "outputs": [
    {
     "data": {
      "image/png": "[encoded data removed]",
      "text/plain": [
       "<Figure size 600x400 with 1 Axes>"
      ]
     },
     "metadata": {},
     "output_type": "display_data"
    }
   ],
   "source": [
    "visualize_results(\n",
    "    results=['7b/pretrained', '7b/cen_10',\n",
    "             '7b/cen_full', '7b/fl'],\n",
    "    compact=True)"
   ]
  },
  {
   "cell_type": "markdown",
   "id": "ac7d077a",
   "metadata": {},
   "source": [
    "#### 6. One more analysis"
   ]
  },
  {
   "cell_type": "markdown",
   "id": "882aeaab",
   "metadata": {},
   "source": [
    "* Compute communication costs."
   ]
  },
  {
   "cell_type": "code",
   "execution_count": 18,
   "id": "58226386-759c-4a24-8876-5855ea177c35",
   "metadata": {
    "height": 79
   },
   "outputs": [
    {
     "name": "stdout",
     "output_type": "stream",
     "text": [
      "Full model:\n",
      "\t70.623 M parameters\n",
      "\t269.41 MB --> upload in 107.76s @ 20Mbps\n",
      "Finetuned model:\n",
      "\t0.197 M parameters\n",
      "\t0.75 MB --> upload in 0.30s @ 20Mbps\n",
      "Federated Learning setting: \n",
      "\tNumber of rounds: 2\n",
      "\tNumber of clients per round: 4\n",
      "-----------------------------------------------\n",
      "Total Communication costs (Full model): 4.2 GB\n",
      "Total Communication costs (Finetuning): 12.0 MB\n",
      "Communication savings: 359.2x\n"
     ]
    }
   ],
   "source": [
    "cfg = get_config(\"federated\")\n",
    "\n",
    "compute_communication_costs(cfg, comm_bw_mbps=20)"
   ]
  }
 ],
 "metadata": {
  "kernelspec": {
   "display_name": "Python 3 (ipykernel)",
   "language": "python",
   "name": "python3"
  },
  "language_info": {
   "codemirror_mode": {
    "name": "ipython",
    "version": 3
   },
   "file_extension": ".py",
   "mimetype": "text/x-python",
   "name": "python",
   "nbconvert_exporter": "python",
   "pygments_lexer": "ipython3",
   "version": "3.11.9"
  }
 },
 "nbformat": 4,
 "nbformat_minor": 5
}

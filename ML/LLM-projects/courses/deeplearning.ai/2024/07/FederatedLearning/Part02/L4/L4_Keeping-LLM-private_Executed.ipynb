{
 "cells": [
  {
   "cell_type": "markdown",
   "id": "315c6587",
   "metadata": {},
   "source": [
    "# Lesson 4: Keeping LLMs Private"
   ]
  },
  {
   "cell_type": "markdown",
   "id": "f8019c59",
   "metadata": {},
   "source": [
    "Welcome to Lesson 4!\n",
    "\n",
    "To access the `requirements.txt` and `utils` files for this course, go to `File` and click `Open`."
   ]
  },
  {
   "cell_type": "markdown",
   "id": "4a21ffb9",
   "metadata": {},
   "source": [
    "#### 1. Import packages and utilities"
   ]
  },
  {
   "cell_type": "code",
   "execution_count": 1,
   "id": "7795ec8f-d428-4596-9038-4ae14edc58e6",
   "metadata": {
    "height": 198
   },
   "outputs": [
    {
     "name": "stdout",
     "output_type": "stream",
     "text": [
      "/usr/local/lib/python3.11/site-packages/bitsandbytes/libbitsandbytes_cpu.so: undefined symbol: cadam32bit_grad_fp32\n"
     ]
    }
   ],
   "source": [
    "import csv\n",
    "import warnings\n",
    "warnings.filterwarnings(\"ignore\", category=UserWarning)\n",
    "warnings.filterwarnings(\"ignore\", category=FutureWarning)\n",
    "from utils.utils import get_config, visualize_results, print_config\n",
    "from utils.mia import calculatePerplexity, plot_mia_results, load_model\n",
    "from utils.mia import get_evaluation_data, MIA_test, load_extractions\n",
    "from utils.mia import evaluate_data, analyse\n",
    "from utils.LLM import LLM_cen, LLM_fl, LLM_pretrained\n",
    "from utils.LLM import get_fireworks_api_key,load_env"
   ]
  },
  {
   "cell_type": "markdown",
   "id": "25908b90",
   "metadata": {},
   "source": [
    "#### 2. Ask the 7B Mistral LLM"
   ]
  },
  {
   "cell_type": "markdown",
   "id": "e255cf7e",
   "metadata": {},
   "source": [
    "* Load the 7B Mistral LLM model that was centrally fine-tuned."
   ]
  },
  {
   "cell_type": "code",
   "execution_count": 2,
   "id": "0c3c84cd-0a68-4b3b-a8d3-e596dc92b15e",
   "metadata": {
    "height": 30
   },
   "outputs": [],
   "source": [
    "cen_llm = LLM_cen()"
   ]
  },
  {
   "cell_type": "markdown",
   "id": "b42c85b9",
   "metadata": {},
   "source": [
    "* Test with different prompt.\n",
    "\n",
    "The instructor tests, while explaining, with \n",
    "\n",
    "```\n",
    "prompt = \"Peter W\"\n",
    "```\n",
    "\n",
    "```\n",
    "prompt = \"email address:\"\n",
    "```\n",
    "\n",
    "```\n",
    "prompt = \"Peter W\"\n",
    "```"
   ]
  },
  {
   "cell_type": "code",
   "execution_count": 3,
   "id": "7709111d-a535-4daa-8854-1bffc43bbbef",
   "metadata": {
    "height": 47
   },
   "outputs": [],
   "source": [
    "# Test with different prompts\n",
    "prompt = \"Peter W\""
   ]
  },
  {
   "cell_type": "code",
   "execution_count": 4,
   "id": "c9ad81d7-789b-4457-8e2f-6b152c77152a",
   "metadata": {
    "height": 113
   },
   "outputs": [
    {
     "name": "stdout",
     "output_type": "stream",
     "text": [
      "Prompt: Peter W\n",
      "Response: . Singer is a strategist and senior fellow at the New America Foundation, a Washington, D.C.-based think tank. He is the author of several books, including Wired for War: The Robotics Revolution and Conflict in the 21st Century, which was published in 2009.\n",
      "\n",
      "Singer is a frequent commentator on the future of\n"
     ]
    }
   ],
   "source": [
    "# Print the prompt and its response\n",
    "cen_llm.eval(prompt)\n",
    "output = cen_llm.get_response()\n",
    "print(f\"Prompt: {prompt}\")\n",
    "print(f\"Response: {output}\")"
   ]
  },
  {
   "cell_type": "markdown",
   "id": "c6855808",
   "metadata": {},
   "source": [
    "#### 3. Calculate 'perplexity'\n",
    "\n",
    "Perplexity measures how well the LLM can predict those sequences of words."
   ]
  },
  {
   "cell_type": "code",
   "execution_count": 5,
   "id": "a33e3d6a-aad5-440f-a7af-51cfe85e2663",
   "metadata": {
    "height": 164
   },
   "outputs": [
    {
     "name": "stdout",
     "output_type": "stream",
     "text": [
      "Prompt: . Singer is a strategist and senior fellow at the New America Foundation, a Washington, D.C.-based think tank. He is the author of several books, including Wired for War: The Robotics Revolution and Conflict in the 21st Century, which was published in 2009.\n",
      "\n",
      "Singer is a frequent commentator on the future of\n",
      "Perplexity: 3.318\n"
     ]
    }
   ],
   "source": [
    "print(f\"Prompt: {output}\")\n",
    "\n",
    "# Use secondary attribute set to True\n",
    "cen_llm.eval(output, True)\n",
    "\n",
    "# Use the calculatePerplexity function\n",
    "cen_perp = calculatePerplexity(cen_llm.get_response_raw())\n",
    "print(f\"Perplexity: {cen_perp:.3f}\")"
   ]
  },
  {
   "cell_type": "markdown",
   "id": "286ef1f1",
   "metadata": {},
   "source": [
    "* Calculate perplexity with other examples."
   ]
  },
  {
   "cell_type": "code",
   "execution_count": 6,
   "id": "ff267c89-3923-4f37-bb25-1522f810ce09",
   "metadata": {
    "height": 181
   },
   "outputs": [
    {
     "name": "stdout",
     "output_type": "stream",
     "text": [
      "Perplexity (in-dataset): 15.071\n"
     ]
    }
   ],
   "source": [
    "# Training data found on the web \n",
    "prompt_text = \"With the cold weather setting in and the \" \\\n",
    "            \"stress of the Christmas holiday approaching\"\n",
    "\n",
    "# Use secondary attribute set to True\n",
    "cen_llm.eval(prompt_text, True)\n",
    "\n",
    "cen_perp = calculatePerplexity(cen_llm.get_response_raw())\n",
    "print(f\"Perplexity (in-dataset): {cen_perp:.3f}\")"
   ]
  },
  {
   "cell_type": "code",
   "execution_count": 7,
   "id": "568a5172-b08e-406f-9758-c9c076567d99",
   "metadata": {
    "height": 130
   },
   "outputs": [
    {
     "name": "stdout",
     "output_type": "stream",
     "text": [
      "Perplexity (out-of-dataset): 77.741\n"
     ]
    }
   ],
   "source": [
    "# Text article from the Guardian\n",
    "prompt_text = f\"No evidence foreign students are abusing \" \\\n",
    "                \"UK graduate visas, review finds\"\n",
    "cen_llm.eval(prompt_text, True)\n",
    "cen_perp = calculatePerplexity(cen_llm.get_response_raw())\n",
    "print(f\"Perplexity (out-of-dataset): {cen_perp:.3f}\")"
   ]
  },
  {
   "cell_type": "markdown",
   "id": "d3355637",
   "metadata": {},
   "source": [
    "#### 4. Load the LLMs"
   ]
  },
  {
   "cell_type": "markdown",
   "id": "39d25af8",
   "metadata": {},
   "source": [
    "* Load the centrally fine-tuned LLM."
   ]
  },
  {
   "cell_type": "code",
   "execution_count": 8,
   "id": "8e01838c-6b58-4a7f-9152-0bd4bea894c4",
   "metadata": {
    "height": 215
   },
   "outputs": [
    {
     "name": "stdout",
     "output_type": "stream",
     "text": [
      "Normalised perplexity: 0.652 \n"
     ]
    }
   ],
   "source": [
    "pre_llm = LLM_pretrained()\n",
    "\n",
    "prompt_text = \"With which class of antimicrobials is Aztreonam \"\\\n",
    "              \"particularly synergistic?\",\n",
    "cen_llm.eval(prompt_text, True)\n",
    "cen_perp = calculatePerplexity(cen_llm.get_response_raw())\n",
    "\n",
    "pre_llm.eval(prompt_text, True)\n",
    "pre_perp = calculatePerplexity(pre_llm.get_response_raw())\n",
    "\n",
    "print(f\"Normalised perplexity: {cen_perp/pre_perp:.3f} \")"
   ]
  },
  {
   "cell_type": "markdown",
   "id": "94f7dddb",
   "metadata": {},
   "source": [
    "* Load FL (Federated Learning) with LLM."
   ]
  },
  {
   "cell_type": "code",
   "execution_count": 9,
   "id": "03adf867-74e6-49ab-82d1-3636e3b1d47d",
   "metadata": {
    "height": 30
   },
   "outputs": [],
   "source": [
    "fl_llm = LLM_fl()"
   ]
  },
  {
   "cell_type": "code",
   "execution_count": 10,
   "id": "f78c1cb5-52f9-48b0-ab78-f2991074fef3",
   "metadata": {
    "height": 181
   },
   "outputs": [],
   "source": [
    "prompt_list = [\n",
    "    \"Among all branchial arches, which arch gives rise \"\\\n",
    "    \"to the stylohyoid muscle and stylohyoid ligament?\",\n",
    "    \"With which class of antimicrobials is Aztreonam \"\\\n",
    "    \"particularly synergistic?\",\n",
    "    \"What type of stain can be used when performing \"\\\n",
    "    \"Immunohistochemistry to identify neuroblastomas, \"\\\n",
    "    \"medulloblastomas, and retinoblastomas?\",\n",
    "]"
   ]
  },
  {
   "cell_type": "code",
   "execution_count": 11,
   "id": "e675794e-1198-4bc7-b94f-1310b51ca480",
   "metadata": {
    "height": 113
   },
   "outputs": [
    {
     "name": "stdout",
     "output_type": "stream",
     "text": [
      "Analysis Centrally Finetuned model:\n",
      "Normalised Perplexity: 1.03 -->  Membership: False\n",
      "Normalised Perplexity: 0.65 -->  Membership: True\n",
      "Normalised Perplexity: 0.99 -->  Membership: True\n",
      "Analysis Federated + DP finetuned model:\n",
      "Normalised Perplexity: 0.91 -->  Membership: True\n",
      "Normalised Perplexity: 1.14 -->  Membership: False\n",
      "Normalised Perplexity: 0.98 -->  Membership: True\n"
     ]
    }
   ],
   "source": [
    "# Print analysis when using Centrally fine-tuned model vs Federated + DP fine-tuned model\n",
    "print(\"Analysis Centrally Finetuned model:\")\n",
    "MIA_test(cen_llm, prompt_list)\n",
    "print(\"Analysis Federated + DP finetuned model:\")\n",
    "MIA_test(fl_llm, prompt_list)"
   ]
  },
  {
   "cell_type": "markdown",
   "id": "efd9e24f",
   "metadata": {},
   "source": [
    "* Try with a larger experiment (set new confirguration)."
   ]
  },
  {
   "cell_type": "code",
   "execution_count": 12,
   "id": "2746ccd0-bb15-4c8f-8aeb-4c9bbd99d70e",
   "metadata": {
    "height": 81
   },
   "outputs": [
    {
     "name": "stdout",
     "output_type": "stream",
     "text": [
      "fl_model: EleutherAI/pythia-70m\n",
      "cen_model: EleutherAI/pythia-70m\n",
      "pre_trained_model: EleutherAI/pythia-70m\n",
      "key_name: input\n",
      "quantization: 0\n",
      "device: cuda\n",
      "positive_dataset:\n",
      "  name: medalpaca/medical_meadow_medical_flashcards\n",
      "  split: train[0:10]\n",
      "  renames:\n",
      "  - - output\n",
      "    - response\n",
      "  kwargs: {}\n",
      "negative_dataset:\n",
      "  name: bigbio/pubmed_qa\n",
      "  split: validation[0:10]\n",
      "  renames:\n",
      "  - - CONTEXTS\n",
      "    - input\n",
      "  kwargs: {}\n",
      "\n"
     ]
    }
   ],
   "source": [
    "# Set new configuration\n",
    "mia_cfg = get_config(\"mia\")\n",
    "\n",
    "print_config(mia_cfg)"
   ]
  },
  {
   "cell_type": "markdown",
   "id": "b57e6806",
   "metadata": {},
   "source": [
    "**Note**: You will be prompted to use the custom code. Please type \"y\"."
   ]
  },
  {
   "cell_type": "code",
   "execution_count": 13,
   "id": "d9c66f1a-82fa-4401-80e8-200d05df250c",
   "metadata": {
    "height": 130
   },
   "outputs": [
    {
     "data": {
      "application/vnd.jupyter.widget-view+json": {
       "model_id": "0dc7475bfb97450e8e5937e80da94e6e",
       "version_major": 2,
       "version_minor": 0
      },
      "text/plain": [
       "config.json:   0%|          | 0.00/567 [00:00<?, ?B/s]"
      ]
     },
     "metadata": {},
     "output_type": "display_data"
    },
    {
     "data": {
      "application/vnd.jupyter.widget-view+json": {
       "model_id": "51190b46e9354f00af4dd5d1d669bfa4",
       "version_major": 2,
       "version_minor": 0
      },
      "text/plain": [
       "model.safetensors:   0%|          | 0.00/166M [00:00<?, ?B/s]"
      ]
     },
     "metadata": {},
     "output_type": "display_data"
    },
    {
     "data": {
      "application/vnd.jupyter.widget-view+json": {
       "model_id": "b95ec55cce06482fb9a766c7b868faef",
       "version_major": 2,
       "version_minor": 0
      },
      "text/plain": [
       "tokenizer_config.json:   0%|          | 0.00/396 [00:00<?, ?B/s]"
      ]
     },
     "metadata": {},
     "output_type": "display_data"
    },
    {
     "data": {
      "application/vnd.jupyter.widget-view+json": {
       "model_id": "793446b23d584894952f9fcd05dabc4f",
       "version_major": 2,
       "version_minor": 0
      },
      "text/plain": [
       "tokenizer.json:   0%|          | 0.00/2.11M [00:00<?, ?B/s]"
      ]
     },
     "metadata": {},
     "output_type": "display_data"
    },
    {
     "data": {
      "application/vnd.jupyter.widget-view+json": {
       "model_id": "d1427c6b840b44e39188eb7f1abb3d50",
       "version_major": 2,
       "version_minor": 0
      },
      "text/plain": [
       "special_tokens_map.json:   0%|          | 0.00/99.0 [00:00<?, ?B/s]"
      ]
     },
     "metadata": {},
     "output_type": "display_data"
    },
    {
     "name": "stderr",
     "output_type": "stream",
     "text": [
      "Special tokens have been added in the vocabulary, make sure the associated word embeddings are fine-tuned or trained.\n"
     ]
    },
    {
     "data": {
      "application/vnd.jupyter.widget-view+json": {
       "model_id": "ca7ee84d600047429c7bd87985e4003b",
       "version_major": 2,
       "version_minor": 0
      },
      "text/plain": [
       "Downloading readme:   0%|          | 0.00/1.24k [00:00<?, ?B/s]"
      ]
     },
     "metadata": {},
     "output_type": "display_data"
    },
    {
     "data": {
      "application/vnd.jupyter.widget-view+json": {
       "model_id": "364d0797babf42a2b1690f361ad08fe9",
       "version_major": 2,
       "version_minor": 0
      },
      "text/plain": [
       "Downloading data:   0%|          | 0.00/17.7M [00:00<?, ?B/s]"
      ]
     },
     "metadata": {},
     "output_type": "display_data"
    },
    {
     "data": {
      "application/vnd.jupyter.widget-view+json": {
       "model_id": "2b3710d8aa2a48a2b9a5be5705232b4a",
       "version_major": 2,
       "version_minor": 0
      },
      "text/plain": [
       "Generating train split: 0 examples [00:00, ? examples/s]"
      ]
     },
     "metadata": {},
     "output_type": "display_data"
    },
    {
     "name": "stdout",
     "output_type": "stream",
     "text": [
      "Loaded positive dataset\n"
     ]
    },
    {
     "data": {
      "application/vnd.jupyter.widget-view+json": {
       "model_id": "7d0cb4c1f5424bf18dc3084df85d4388",
       "version_major": 2,
       "version_minor": 0
      },
      "text/plain": [
       "Downloading builder script:   0%|          | 0.00/10.3k [00:00<?, ?B/s]"
      ]
     },
     "metadata": {},
     "output_type": "display_data"
    },
    {
     "data": {
      "application/vnd.jupyter.widget-view+json": {
       "model_id": "ca6e4b0b15624340815d14e7cb048751",
       "version_major": 2,
       "version_minor": 0
      },
      "text/plain": [
       "Downloading readme:   0%|          | 0.00/2.36k [00:00<?, ?B/s]"
      ]
     },
     "metadata": {},
     "output_type": "display_data"
    },
    {
     "data": {
      "application/vnd.jupyter.widget-view+json": {
       "model_id": "b38467a11ff3428e9487b2a42a309f79",
       "version_major": 2,
       "version_minor": 0
      },
      "text/plain": [
       "Downloading extra modules:   0%|          | 0.00/19.3k [00:00<?, ?B/s]"
      ]
     },
     "metadata": {},
     "output_type": "display_data"
    },
    {
     "data": {
      "application/vnd.jupyter.widget-view+json": {
       "model_id": "2b3ba8d655ea401fb4b78d8a74ec8099",
       "version_major": 2,
       "version_minor": 0
      },
      "text/plain": [
       "Downloading data:   0%|          | 0.00/156M [00:00<?, ?B/s]"
      ]
     },
     "metadata": {},
     "output_type": "display_data"
    },
    {
     "data": {
      "application/vnd.jupyter.widget-view+json": {
       "model_id": "944954757a3a465d85da1300f78d6a6b",
       "version_major": 2,
       "version_minor": 0
      },
      "text/plain": [
       "Generating train split: 0 examples [00:00, ? examples/s]"
      ]
     },
     "metadata": {},
     "output_type": "display_data"
    },
    {
     "data": {
      "application/vnd.jupyter.widget-view+json": {
       "model_id": "3fb13c2c9a2e4a6691546844f82cc513",
       "version_major": 2,
       "version_minor": 0
      },
      "text/plain": [
       "Generating validation split: 0 examples [00:00, ? examples/s]"
      ]
     },
     "metadata": {},
     "output_type": "display_data"
    },
    {
     "data": {
      "application/vnd.jupyter.widget-view+json": {
       "model_id": "4d7f5362c6754ed88972f600ed5d5291",
       "version_major": 2,
       "version_minor": 0
      },
      "text/plain": [
       "Map:   0%|          | 0/10 [00:00<?, ? examples/s]"
      ]
     },
     "metadata": {},
     "output_type": "display_data"
    }
   ],
   "source": [
    "# Load the outputs' models using the large dataset\n",
    "(fl_fine_tuned_model,\n",
    " cen_fine_tuned_model,\n",
    " pre_trained_model, tokenizer) = load_model(mia_cfg)\n",
    "\n",
    "data = get_evaluation_data(mia_cfg)"
   ]
  },
  {
   "cell_type": "markdown",
   "id": "d4bb9889",
   "metadata": {},
   "source": [
    "* Print the ROC.\n",
    "\n",
    "To analyse the results"
   ]
  },
  {
   "cell_type": "code",
   "execution_count": 14,
   "id": "ee023f99-1e35-4b6a-852a-71a6965c31c9",
   "metadata": {
    "height": 115
   },
   "outputs": [
    {
     "data": {
      "image/png": "[encoded data removed]",
      "text/plain": [
       "<Figure size 640x480 with 1 Axes>"
      ]
     },
     "metadata": {},
     "output_type": "display_data"
    }
   ],
   "source": [
    "plot_mia_results(data,\n",
    "    fl_fine_tuned_model,\n",
    "    cen_fine_tuned_model,\n",
    "    pre_trained_model,\n",
    "    tokenizer,\n",
    "    mia_cfg.key_name)"
   ]
  },
  {
   "cell_type": "markdown",
   "id": "e6b7f63f",
   "metadata": {},
   "source": [
    "* Explore more examples when using 7B Mistral."
   ]
  },
  {
   "cell_type": "code",
   "execution_count": 15,
   "id": "9a3858d2-3cea-4bd3-b4dd-0a2a12e185aa",
   "metadata": {
    "height": 79
   },
   "outputs": [
    {
     "name": "stdout",
     "output_type": "stream",
     "text": [
      "Extracting data\n",
      "Extracting completed\n",
      "('д\\n'\n",
      " '\\n'\n",
      " '##### Answers 1\\n'\n",
      " '\\n'\n",
      " 'Add Yours\\n'\n",
      " 'Answered by jill d #170087\\n'\n",
      " '\\n'\n",
      " '##### Book of the Month\\n'\n",
      " '\\n'\n",
      " 'Diary of a Wimpy Kid: The Long Haul by Jeff Kinney\\n'\n",
      " '\\n'\n",
      " 'Greg Heffley and his family are getting out of town.\\n'\n",
      " '\\n'\n",
      " 'With the cold weather and the stress of the approaching holiday season, the '\n",
      " 'Heffleys decide to escape to a tropical island resort for some much-needed '\n",
      " 'rest and relaxation. A few days in paradise should do wonders for Greg and '\n",
      " 'his f...\\n'\n",
      " '\\n'\n",
      " '##### Book of the Month\\n'\n",
      " '\\n'\n",
      " 'Diary of a Wimpy Kid: The Long Haul by Jeff Kinney\\n'\n",
      " '\\n'\n",
      " 'Greg Heffley and his family are getting out of town.\\n'\n",
      " '\\n'\n",
      " 'With the cold weather and the stress of the approaching holiday season, the '\n",
      " 'Heffleys decide to escape to a tropical island resort for some much-needed '\n",
      " 'rest and relaxation. A few days in paradise should do wonders for Greg and '\n",
      " 'his f...')\n",
      "https://web.archive.org/web/20240404014117/https://www.wimpykidclub.co.uk/book/the-getaway/\n"
     ]
    }
   ],
   "source": [
    "extraction = load_extractions(mia_cfg.key_name)\n",
    "extraction.eval()\n",
    "extraction.show('url')"
   ]
  },
  {
   "cell_type": "code",
   "execution_count": 16,
   "id": "b7082b7d-8958-42be-9b4d-278f38bfdab6",
   "metadata": {
    "height": 30
   },
   "outputs": [
    {
     "name": "stdout",
     "output_type": "stream",
     "text": [
      "('т\\n'\n",
      " '\\n'\n",
      " '## Description\\n'\n",
      " '\\n'\n",
      " 'The 2016-2017 school year will mark the 10th anniversary of the U.S. '\n",
      " \"Department of Education's Green Ribbon Schools (ED-GRS) recognition award, \"\n",
      " 'which honors schools that reduce environmental impact and costs, improve the '\n",
      " 'health and wellness of schools, students, and staff, and provide effective '\n",
      " 'environmental and sustainability education, which incorporates STEM, civic '\n",
      " 'skills, and green career pathways.\\n'\n",
      " '\\n'\n",
      " '## Eligibility Requirements\\n'\n",
      " '\\n'\n",
      " '- Must be an undergraduate student, a graduate student or a postgraduate '\n",
      " 'student\\n'\n",
      " '- Must attend a university, a four-year college, two-year college or a '\n",
      " 'vocational-tech school\\n'\n",
      " '- Must not be attending high school currently\\n'\n",
      " '- Both full-time and part-time students\\n'\n",
      " '- Restricted to students studying Education\\n'\n",
      " '\\n'\n",
      " '## How to Apply\\n'\n",
      " '\\n'\n",
      " \"What you'll need:\\n\"\n",
      " '\\n'\n",
      " '- Application Form\\n'\n",
      " '- Essay\\n'\n",
      " '- Recommendations Or References\\n'\n",
      " '- Transcript For more info, please visit our site\\n'\n",
      " 'Contact greenribbonschools@ed.gov\\n'\n",
      " 'Address 400 Maryland Avenue, SW\\n'\n",
      " 'Washington, DC ')\n",
      "greenribbonschools@ed.gov\n"
     ]
    }
   ],
   "source": [
    "extraction.show('email')"
   ]
  }
 ],
 "metadata": {
  "kernelspec": {
   "display_name": "Python 3 (ipykernel)",
   "language": "python",
   "name": "python3"
  },
  "language_info": {
   "codemirror_mode": {
    "name": "ipython",
    "version": 3
   },
   "file_extension": ".py",
   "mimetype": "text/x-python",
   "name": "python",
   "nbconvert_exporter": "python",
   "pygments_lexer": "ipython3",
   "version": "3.11.9"
  }
 },
 "nbformat": 4,
 "nbformat_minor": 5
}

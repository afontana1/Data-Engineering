{
 "cells": [
  {
   "cell_type": "markdown",
   "id": "64c1a2de",
   "metadata": {},
   "source": [
    "# Lesson 2: Centralized LLM Fine-tuning"
   ]
  },
  {
   "cell_type": "markdown",
   "id": "5c16707d",
   "metadata": {},
   "source": [
    "Welcome to Lesson 2!\n",
    "\n",
    "To access the `requirements.txt` and `utils` files for this course, go to `File` and click `Open`."
   ]
  },
  {
   "cell_type": "markdown",
   "id": "af1d0e65",
   "metadata": {},
   "source": [
    "#### 1. Import packages and utilities"
   ]
  },
  {
   "cell_type": "code",
   "execution_count": 1,
   "id": "000642f7",
   "metadata": {
    "height": 198
   },
   "outputs": [
    {
     "name": "stdout",
     "output_type": "stream",
     "text": [
      "/usr/local/lib/python3.11/site-packages/bitsandbytes/libbitsandbytes_cpu.so: undefined symbol: cadam32bit_grad_fp32\n"
     ]
    }
   ],
   "source": [
    "import warnings\n",
    "warnings.filterwarnings(\"ignore\", category=UserWarning)\n",
    "warnings.filterwarnings(\"ignore\", category=FutureWarning)\n",
    "import torch\n",
    "from datasets import load_dataset\n",
    "from trl import SFTTrainer\n",
    "from transformers import TrainingArguments\n",
    "from utils.utils import *\n",
    "from utils.LLM import LLM_pretrained, LLM_cen_partial\n",
    "from utils.LLM import get_fireworks_api_key,load_env"
   ]
  },
  {
   "cell_type": "markdown",
   "id": "0e69d454",
   "metadata": {},
   "source": [
    "> Note: Throughout this course, we use Hydra, a framework for managing and configuring files. "
   ]
  },
  {
   "cell_type": "code",
   "execution_count": 2,
   "id": "b6db1fbe",
   "metadata": {
    "height": 98
   },
   "outputs": [
    {
     "name": "stdout",
     "output_type": "stream",
     "text": [
      "dataset:\n",
      "  name: medalpaca/medical_meadow_medical_flashcards\n",
      "model:\n",
      "  name: EleutherAI/pythia-70m\n",
      "  quantization: 4\n",
      "  gradient_checkpointing: true\n",
      "  use_fast_tokenizer: true\n",
      "  lora:\n",
      "    peft_lora_r: 16\n",
      "    peft_lora_alpha: 64\n",
      "    target_modules: null\n",
      "train:\n",
      "  save_every_round: 5\n",
      "  seq_length: 512\n",
      "  padding_side: left\n",
      "  training_arguments:\n",
      "    learning_rate: 0.0005\n",
      "    per_device_train_batch_size: 2\n",
      "    gradient_accumulation_steps: 1\n",
      "    logging_steps: 1\n",
      "    max_steps: 5\n",
      "    report_to: null\n",
      "    save_steps: 200\n",
      "    save_total_limit: 10\n",
      "    gradient_checkpointing: true\n",
      "    lr_scheduler_type: cosine\n",
      "\n"
     ]
    }
   ],
   "source": [
    "# Load config\n",
    "cfg = get_config(\"centralized\")\n",
    "\n",
    "# Inspect the config\n",
    "print_config(cfg)"
   ]
  },
  {
   "cell_type": "markdown",
   "id": "a917f369",
   "metadata": {},
   "source": [
    "#### 2. Load the dataset\n",
    "  \n",
    "**Note:** For more information about the dataset, check here [medAlpaca](https://arxiv.org/abs/2304.08247)."
   ]
  },
  {
   "cell_type": "code",
   "execution_count": 3,
   "id": "2f9fd8a3",
   "metadata": {
    "height": 147
   },
   "outputs": [
    {
     "data": {
      "application/vnd.jupyter.widget-view+json": {
       "model_id": "e16438ebde5f4be1b0dfc3dfbc8ffae8",
       "version_major": 2,
       "version_minor": 0
      },
      "text/plain": [
       "Downloading readme:   0%|          | 0.00/1.24k [00:00<?, ?B/s]"
      ]
     },
     "metadata": {},
     "output_type": "display_data"
    },
    {
     "data": {
      "application/vnd.jupyter.widget-view+json": {
       "model_id": "e99c1d9318b64463bd5c7afb9f0a21e0",
       "version_major": 2,
       "version_minor": 0
      },
      "text/plain": [
       "Downloading data:   0%|          | 0.00/17.7M [00:00<?, ?B/s]"
      ]
     },
     "metadata": {},
     "output_type": "display_data"
    },
    {
     "data": {
      "application/vnd.jupyter.widget-view+json": {
       "model_id": "76741bad569143dc94e925ab6715d002",
       "version_major": 2,
       "version_minor": 0
      },
      "text/plain": [
       "Generating train split: 0 examples [00:00, ? examples/s]"
      ]
     },
     "metadata": {},
     "output_type": "display_data"
    },
    {
     "name": "stdout",
     "output_type": "stream",
     "text": [
      "Dataset({\n",
      "    features: ['response', 'instruction'],\n",
      "    num_rows: 3395\n",
      "})\n"
     ]
    }
   ],
   "source": [
    "trainset_full = load_dataset(cfg.dataset.name, split='train')\n",
    "train_test = trainset_full.train_test_split(test_size=0.9, seed=1234)\n",
    "train_dataset = train_test[\"train\"]\n",
    "\n",
    "train_dataset = format_dataset(train_dataset)\n",
    "\n",
    "print(train_dataset)"
   ]
  },
  {
   "cell_type": "code",
   "execution_count": 4,
   "id": "7679e745",
   "metadata": {
    "height": 130
   },
   "outputs": [
    {
     "data": {
      "text/plain": [
       "{'response': 'The IVC perforates the diaphragm at the level of T8.',\n",
       " 'instruction': 'At what level does the inferior vena cava (IVC) perforate the diaphragm?'}"
      ]
     },
     "execution_count": 4,
     "metadata": {},
     "output_type": "execute_result"
    }
   ],
   "source": [
    "# Print an example from the dataset\n",
    "example_index = 9\n",
    "\n",
    "data_point = train_dataset[example_index]\n",
    "\n",
    "data_point"
   ]
  },
  {
   "cell_type": "markdown",
   "id": "2315d3c4",
   "metadata": {},
   "source": [
    "#### 3. Asking the LLM \n",
    "\n",
    "\n",
    "* First attempt \n",
    "\n",
    "Ask a pre-trained LLM a question in a specific domain."
   ]
  },
  {
   "cell_type": "code",
   "execution_count": 5,
   "id": "c20902da",
   "metadata": {
    "height": 45
   },
   "outputs": [],
   "source": [
    "llm_pretrained = LLM_pretrained()"
   ]
  },
  {
   "cell_type": "markdown",
   "id": "2e6d9be1",
   "metadata": {},
   "source": [
    "* Write a prompt to ask the LLM."
   ]
  },
  {
   "cell_type": "code",
   "execution_count": 6,
   "id": "cf56f92d",
   "metadata": {
    "height": 79
   },
   "outputs": [
    {
     "name": "stdout",
     "output_type": "stream",
     "text": [
      "?  The weather is a very important factor in our\n",
      "\tlives. It can affect our mood, our health, and\n",
      "\teven our productivity. That’s why it’s important\n",
      "\tto know how to predict the weather.  There are a\n",
      "\tfew different ways to predict the weather. One\n",
      "\tway is to look at the sky. If the sky is clear,\n",
      "\tthen the weather is likely to be good\n"
     ]
    }
   ],
   "source": [
    "prompt = \"How to predict the weather\"\n",
    "llm_pretrained.eval(prompt, verbose = False)\n",
    "llm_pretrained.print_response(verbose = False)"
   ]
  },
  {
   "cell_type": "markdown",
   "id": "38b13c69",
   "metadata": {},
   "source": [
    "* Evaluate pre-trained model on Medical Q&A"
   ]
  },
  {
   "cell_type": "code",
   "execution_count": 7,
   "id": "b44d1846",
   "metadata": {
    "height": 130
   },
   "outputs": [
    {
     "name": "stdout",
     "output_type": "stream",
     "text": [
      "Prompt:\n",
      "\tAt what level does the inferior vena cava (IVC)\n",
      "\tperforate the diaphragm?\n",
      "Response:\n",
      "\tThe inferior vena cava (IVC) perforates the\n",
      "\tdiaphragm at the level of the 12th thoracic\n",
      "\tvertebra.  The IVC is a large vein that returns\n",
      "\tblood from the lower half of the body to the\n",
      "\theart. It begins at the confluence of the common\n",
      "\tiliac veins and ends at the\n",
      "Expected output:\n",
      "\tThe IVC perforates the diaphragm at the level of\n",
      "\tT8.\n"
     ]
    }
   ],
   "source": [
    "llm_pretrained.eval(data_point['instruction'], verbose=True)\n",
    "\n",
    "llm_pretrained.print_response()\n",
    "\n",
    "ex_response = format_string(data_point['response'])\n",
    "print(f\"Expected output:\\n\\t{ex_response}\")"
   ]
  },
  {
   "cell_type": "markdown",
   "id": "e7d2f9f1",
   "metadata": {},
   "source": [
    "* Second attempt:\n",
    "\n",
    "Ask a fine tuned LLM a question in a specific domain."
   ]
  },
  {
   "cell_type": "markdown",
   "id": "7ceeeb1e",
   "metadata": {},
   "source": [
    "* Set the model."
   ]
  },
  {
   "cell_type": "code",
   "execution_count": 8,
   "id": "265fcae9",
   "metadata": {
    "height": 147
   },
   "outputs": [
    {
     "data": {
      "application/vnd.jupyter.widget-view+json": {
       "model_id": "4bf5fdfe29bd4eafb4744339576a7eb3",
       "version_major": 2,
       "version_minor": 0
      },
      "text/plain": [
       "config.json:   0%|          | 0.00/567 [00:00<?, ?B/s]"
      ]
     },
     "metadata": {},
     "output_type": "display_data"
    },
    {
     "data": {
      "application/vnd.jupyter.widget-view+json": {
       "model_id": "8fa997be51104f388c24dc820a8b9538",
       "version_major": 2,
       "version_minor": 0
      },
      "text/plain": [
       "model.safetensors:   0%|          | 0.00/166M [00:00<?, ?B/s]"
      ]
     },
     "metadata": {},
     "output_type": "display_data"
    },
    {
     "name": "stdout",
     "output_type": "stream",
     "text": [
      "Trainable parameters: 196608\n",
      "All parameters: 70623232\n",
      "Trainable (%): 0.278\n"
     ]
    }
   ],
   "source": [
    "model = get_model(cfg.model)\n",
    "\n",
    "\n",
    "trainable, all_parameters = model.get_nb_trainable_parameters()\n",
    "print(f\"Trainable parameters: {trainable}\")\n",
    "print(f\"All parameters: {all_parameters}\")\n",
    "print(f\"Trainable (%): {100*trainable / all_parameters:.3f}\")"
   ]
  },
  {
   "cell_type": "markdown",
   "id": "06e06af5",
   "metadata": {},
   "source": [
    "* Define the tokenizer."
   ]
  },
  {
   "cell_type": "code",
   "execution_count": 9,
   "id": "3c22c284",
   "metadata": {
    "height": 147
   },
   "outputs": [
    {
     "data": {
      "application/vnd.jupyter.widget-view+json": {
       "model_id": "5bb203201d004822be31adb7fe6d5b9d",
       "version_major": 2,
       "version_minor": 0
      },
      "text/plain": [
       "tokenizer_config.json:   0%|          | 0.00/396 [00:00<?, ?B/s]"
      ]
     },
     "metadata": {},
     "output_type": "display_data"
    },
    {
     "data": {
      "application/vnd.jupyter.widget-view+json": {
       "model_id": "9b2a685491a34de792aa6ce544f9a1f5",
       "version_major": 2,
       "version_minor": 0
      },
      "text/plain": [
       "tokenizer.json:   0%|          | 0.00/2.11M [00:00<?, ?B/s]"
      ]
     },
     "metadata": {},
     "output_type": "display_data"
    },
    {
     "data": {
      "application/vnd.jupyter.widget-view+json": {
       "model_id": "954a2be7478948909358bb7833936a14",
       "version_major": 2,
       "version_minor": 0
      },
      "text/plain": [
       "special_tokens_map.json:   0%|          | 0.00/99.0 [00:00<?, ?B/s]"
      ]
     },
     "metadata": {},
     "output_type": "display_data"
    },
    {
     "name": "stderr",
     "output_type": "stream",
     "text": [
      "Special tokens have been added in the vocabulary, make sure the associated word embeddings are fine-tuned or trained.\n"
     ]
    }
   ],
   "source": [
    "(\n",
    "tokenizer, \n",
    "data_collator, \n",
    "format_prompts_fn\n",
    ") = get_tokenizer_and_data_collator_and_propt_formatting(\n",
    "        cfg.model.name, cfg.model.use_fast_tokenizer, cfg.train.padding_side\n",
    ")"
   ]
  },
  {
   "cell_type": "markdown",
   "id": "78c5c437",
   "metadata": {},
   "source": [
    "* Define the finetune_centralised function."
   ]
  },
  {
   "cell_type": "code",
   "execution_count": 10,
   "id": "14ab4a64",
   "metadata": {
    "height": 538
   },
   "outputs": [],
   "source": [
    "save_centralized = \"./my_centralized_model\"\n",
    "def finetune_centralised():\n",
    "\n",
    "    # The notebooks you are running in this course does not\n",
    "    # come with a GPU. However, we don't harcode \"cpu\" as the\n",
    "    # device to use in case you wish to download this notebook\n",
    "    # and run it on your own GPU.\n",
    "    use_cuda = torch.cuda.is_available()\n",
    "    training_arguments = TrainingArguments(\n",
    "                         **cfg.train.training_arguments,\n",
    "                         use_cpu=not(use_cuda),\n",
    "                         output_dir=save_centralized,\n",
    "    )\n",
    "\n",
    "    # Construct trainer\n",
    "    trainer = SFTTrainer(\n",
    "        tokenizer=tokenizer,\n",
    "        data_collator=data_collator,\n",
    "        formatting_func=format_prompts_fn,\n",
    "        max_seq_length=cfg.train.seq_length,\n",
    "        model=model,\n",
    "        args=training_arguments,\n",
    "        train_dataset=train_dataset,\n",
    "    )\n",
    "\n",
    "    # Do local training\n",
    "    trainer.train()\n",
    "\n",
    "    # Save the checkpoint\n",
    "    model.save_pretrained(save_centralized)"
   ]
  },
  {
   "cell_type": "markdown",
   "id": "218de263",
   "metadata": {},
   "source": [
    "* Let's do some fine-tuning."
   ]
  },
  {
   "cell_type": "code",
   "execution_count": 11,
   "id": "dd8a0f40",
   "metadata": {
    "height": 30
   },
   "outputs": [
    {
     "data": {
      "application/vnd.jupyter.widget-view+json": {
       "model_id": "1fe3d76239554874bae576da279dcbd8",
       "version_major": 2,
       "version_minor": 0
      },
      "text/plain": [
       "Map:   0%|          | 0/3395 [00:00<?, ? examples/s]"
      ]
     },
     "metadata": {},
     "output_type": "display_data"
    },
    {
     "name": "stderr",
     "output_type": "stream",
     "text": [
      "Detected kernel version 4.18.0, which is below the recommended minimum of 5.5.0; this can cause the process to hang. It is recommended to upgrade the kernel to the minimum version or higher.\n"
     ]
    },
    {
     "data": {
      "text/html": [
       "\n",
       "    <div>\n",
       "      \n",
       "      <progress value='5' max='5' style='width:300px; height:20px; vertical-align: middle;'></progress>\n",
       "      [5/5 00:05, Epoch 0/1]\n",
       "    </div>\n",
       "    <table border=\"1\" class=\"dataframe\">\n",
       "  <thead>\n",
       " <tr style=\"text-align: left;\">\n",
       "      <th>Step</th>\n",
       "      <th>Training Loss</th>\n",
       "    </tr>\n",
       "  </thead>\n",
       "  <tbody>\n",
       "    <tr>\n",
       "      <td>1</td>\n",
       "      <td>4.500000</td>\n",
       "    </tr>\n",
       "    <tr>\n",
       "      <td>2</td>\n",
       "      <td>3.421900</td>\n",
       "    </tr>\n",
       "    <tr>\n",
       "      <td>3</td>\n",
       "      <td>4.437500</td>\n",
       "    </tr>\n",
       "    <tr>\n",
       "      <td>4</td>\n",
       "      <td>3.687500</td>\n",
       "    </tr>\n",
       "    <tr>\n",
       "      <td>5</td>\n",
       "      <td>3.921900</td>\n",
       "    </tr>\n",
       "  </tbody>\n",
       "</table><p>"
      ],
      "text/plain": [
       "<IPython.core.display.HTML object>"
      ]
     },
     "metadata": {},
     "output_type": "display_data"
    }
   ],
   "source": [
    "finetune_centralised()"
   ]
  },
  {
   "cell_type": "markdown",
   "id": "b3ca3dec",
   "metadata": {},
   "source": [
    "> Note: The previous fine-tuning was performed on a smaller model. To fine-tune a larger model (e.g., a 7 billion parameter model), you can use the same code with a different configuration. Refer to the code snippet below:\n",
    "\n",
    "\n",
    "```\n",
    " cfg = get_config(\"centralized_full\")\n",
    "```\n",
    "\n",
    "It is recommended to execute all prior cells with this configuration. However, please ensure that your machine has at least one GPU."
   ]
  },
  {
   "cell_type": "markdown",
   "id": "ef22e176",
   "metadata": {},
   "source": [
    "* Evaluate the Centrally fine-tuned LLM."
   ]
  },
  {
   "cell_type": "code",
   "execution_count": 12,
   "id": "6582cc5b",
   "metadata": {
    "height": 215
   },
   "outputs": [
    {
     "name": "stdout",
     "output_type": "stream",
     "text": [
      "Prompt:\n",
      "\tAt what level does the inferior vena cava (IVC)\n",
      "\tperforate the diaphragm?\n",
      "Response:\n",
      "\tThe IVC perforates the diaphragm at the level of\n",
      "\tthe T8 vertebra. The IVC is a large blood vessel\n",
      "\tthat carries deoxygenated blood from the lower\n",
      "\tpart of the body back to the heart. It begins at\n",
      "\tthe junction of the right and left common iliac\n",
      "\tveins and runs upward along the right side of the\n",
      "\tabdomen, passing\n",
      "Expected output:\n",
      "\tThe IVC perforates the diaphragm at the level of\n",
      "\tT8.\n"
     ]
    }
   ],
   "source": [
    "llm_cen = LLM_cen_partial()\n",
    "example_index = 9\n",
    "\n",
    "data_point = train_dataset[example_index]\n",
    "\n",
    "llm_cen.eval(data_point['instruction'], verbose=True)\n",
    "\n",
    "llm_cen.print_response()\n",
    "\n",
    "ex_response = format_string(data_point['response'])\n",
    "print(f\"Expected output:\\n\\t{ex_response}\")"
   ]
  },
  {
   "cell_type": "markdown",
   "id": "0e32f9bf",
   "metadata": {},
   "source": [
    "#### 4. Visualize results of prompting with pretrained LLM and fine-tuned LLM"
   ]
  },
  {
   "cell_type": "code",
   "execution_count": 13,
   "id": "ec0ae775",
   "metadata": {
    "height": 45
   },
   "outputs": [
    {
     "data": {
      "image/png": "[encoded data removed]",
      "text/plain": [
       "<Figure size 600x400 with 1 Axes>"
      ]
     },
     "metadata": {},
     "output_type": "display_data"
    }
   ],
   "source": [
    "visualize_results(results=['7b/pretrained', '7b/cen_10'])"
   ]
  },
  {
   "cell_type": "markdown",
   "id": "b2568a9f",
   "metadata": {},
   "source": [
    "#### Extra! \n",
    "\n",
    "#### Generate the data structure for systematic evaluation\n",
    "\n",
    "We used this code to evaluate the performance of the finetuned 7B LLM you tested in the previous code cell."
   ]
  },
  {
   "cell_type": "code",
   "execution_count": 14,
   "id": "8128e02b",
   "metadata": {
    "height": 334
   },
   "outputs": [],
   "source": [
    "# Lauch evalution code\n",
    "# from utils.utils import inference, evaluate\n",
    "\n",
    "# Step 1: generate answers\n",
    "# To run inference on the pre-trained model:\n",
    "# inference(base_model_name_path=cfg.model.name, run_name=\"pretrained\")\n",
    "\n",
    "# To run inference on the centralised finetuned model:\n",
    "# inference(\n",
    "#           base_model_name_path=cfg.model.name, \n",
    "#           peft_path=path/to/your/checkpoint/directory, \n",
    "#           run_name=\"centralised_finetuned\",\n",
    "# )\n",
    "\n",
    "\n",
    "# Step 2: evaluation --- accuracy value will be printed\n",
    "# evaluate(run_name=\"pretrained\")\n",
    "# evaluate(run_name=\"centralised_finetuned\")"
   ]
  }
 ],
 "metadata": {
  "kernelspec": {
   "display_name": "Python 3 (ipykernel)",
   "language": "python",
   "name": "python3"
  },
  "language_info": {
   "codemirror_mode": {
    "name": "ipython",
    "version": 3
   },
   "file_extension": ".py",
   "mimetype": "text/x-python",
   "name": "python",
   "nbconvert_exporter": "python",
   "pygments_lexer": "ipython3",
   "version": "3.11.9"
  }
 },
 "nbformat": 4,
 "nbformat_minor": 5
}

{
 "cells": [
  {
   "cell_type": "markdown",
   "id": "3416ed55-4e38-4cdd-afe0-e14aa7d857b4",
   "metadata": {},
   "source": [
    "# L5: Generate Data & Finetune"
   ]
  },
  {
   "cell_type": "markdown",
   "id": "746554a8-4219-4bc8-aeee-82c922dd9eed",
   "metadata": {},
   "source": [
    "> Note: You can access the `data` and `util` subdirectories used in the course. In Jupyter version 6, this is via the File>Open menu. In Jupyter version 7 this is in View> File Browser\n",
    "\n",
    "> Also note that as models and systems change, the output of the models may shift from the video content."
   ]
  },
  {
   "cell_type": "code",
   "execution_count": 1,
   "id": "5745ff93-d7a6-4bc6-82eb-ca0da00f1d05",
   "metadata": {
    "height": 47
   },
   "outputs": [],
   "source": [
    "from dotenv import load_dotenv\n",
    "_ = load_dotenv()   #load environmental variable LAMINI_API_KEY with key from .env file"
   ]
  },
  {
   "cell_type": "code",
   "execution_count": 2,
   "id": "759c10e6-f528-4431-8676-0317312427c2",
   "metadata": {
    "height": 30
   },
   "outputs": [],
   "source": [
    "import lamini"
   ]
  },
  {
   "cell_type": "code",
   "execution_count": 3,
   "id": "9d077ab9-6562-485a-b5f9-9c518fb70f62",
   "metadata": {
    "height": 574
   },
   "outputs": [],
   "source": [
    "import logging\n",
    "import random\n",
    "from typing import AsyncIterator, Iterator, Union\n",
    "import sqlite3\n",
    "import copy\n",
    "from tqdm import tqdm\n",
    "\n",
    "import pandas as pd\n",
    "import jsonlines\n",
    "from lamini.generation.base_prompt_object import PromptObject\n",
    "from lamini.generation.generation_node import GenerationNode\n",
    "from lamini.generation.base_prompt_object import PromptObject\n",
    "from lamini.generation.generation_pipeline import GenerationPipeline\n",
    "from util.get_schema import get_schema, get_schema_s\n",
    "from util.make_llama_3_prompt import make_llama_3_prompt\n",
    "from util.setup_logging import setup_logging\n",
    "\n",
    "logger = logging.getLogger(__name__)\n",
    "engine = sqlite3.connect(\"./nba_roster.db\")\n",
    "setup_logging()\n",
    "\n",
    "class Args:\n",
    "    def __init__(self, \n",
    "                 max_examples=100, \n",
    "                 sql_model_name=\"meta-llama/Meta-Llama-3-8B-Instruct\", \n",
    "                 gold_file_name=\"gold-test-set.jsonl\",\n",
    "                 training_file_name=\"generated_queries.jsonl\",\n",
    "                 num_to_generate=10):\n",
    "        self.sql_model_name = sql_model_name\n",
    "        self.max_examples = max_examples\n",
    "        self.gold_file_name = gold_file_name\n",
    "        self.training_file_name = training_file_name\n",
    "        self.num_to_generate = num_to_generate"
   ]
  },
  {
   "cell_type": "markdown",
   "id": "1d587d9d-01f6-41c6-97b2-8060cc60fa0d",
   "metadata": {},
   "source": [
    "## Working Backwards from what you have:\n",
    "### <font color=\"blue\">First</font>: From Scheme and example, generate <font color=\"blue\">new SQL queries</font> "
   ]
  },
  {
   "cell_type": "code",
   "execution_count": 4,
   "id": "c6d0131f-12bb-4af3-8f0d-f525194e6a3f",
   "metadata": {
    "height": 132
   },
   "outputs": [],
   "source": [
    "system = \"You are an NBA analyst with 15 years of experience writing complex SQL queries.\\n\"\n",
    "system += (\n",
    "    \"Consider a table called 'nba_roster' with the following schema (columns)\\n\"\n",
    ")\n",
    "system += get_schema_s()\n",
    "system += \"Consider the following questions, and queries used to answer them:\\n\"\n"
   ]
  },
  {
   "cell_type": "code",
   "execution_count": 5,
   "id": "2941eea5-3034-4d6c-9ece-c8fd149cb541",
   "metadata": {
    "height": 30
   },
   "outputs": [
    {
     "data": {
      "text/plain": [
       "'You are an NBA analyst with 15 years of experience writing complex SQL queries.\\nConsider a table called \\'nba_roster\\' with the following schema (columns)\\n0|Team|TEXT eg. \"Toronto Raptors\"\\n1|NAME|TEXT eg. \"Otto Porter Jr.\"\\n2|Jersey|TEXT eg. \"0\" and when null has a value \"NA\"\\n3|POS|TEXT eg. \"PF\"\\n4|AGE|INT eg. \"22\" in years\\n5|HT|TEXT eg. `6\\' 7\"` or `6\\' 10\"` castable to int\\n6|WT|TEXT eg. \"232 lbs\" \\n7|COLLEGE|TEXT eg. \"Michigan\" and when null has a value \"--\"\\n8|SALARY|TEXT eg. \"$9,945,830\" and when null has a value \"--\"\\nConsider the following questions, and queries used to answer them:\\n'"
      ]
     },
     "execution_count": 5,
     "metadata": {},
     "output_type": "execute_result"
    }
   ],
   "source": [
    "system"
   ]
  },
  {
   "cell_type": "code",
   "execution_count": 6,
   "id": "028c2eb3-28c2-4892-b52d-454266072393",
   "metadata": {
    "height": 115
   },
   "outputs": [],
   "source": [
    "question = \"\"\"What is the median weight in the NBA?\"\"\"\n",
    "sql = \"select CAST(SUBSTR(WT, 1, INSTR(WT,' ')) as INTEGER) as percentile from nba_roster order by percentile limit 1 offset (select count(*) from nba_roster)/2;\"\n",
    "\n",
    "system += \"Question: \" + question + \"\\n\"\n",
    "system += \"Query: \" + sql + \"\\n\"\n"
   ]
  },
  {
   "cell_type": "code",
   "execution_count": 7,
   "id": "a83fcc4c-b1c1-4121-97e9-6c1dd5414b16",
   "metadata": {
    "height": 30
   },
   "outputs": [
    {
     "name": "stdout",
     "output_type": "stream",
     "text": [
      "You are an NBA analyst with 15 years of experience writing complex SQL queries.\n",
      "Consider a table called 'nba_roster' with the following schema (columns)\n",
      "0|Team|TEXT eg. \"Toronto Raptors\"\n",
      "1|NAME|TEXT eg. \"Otto Porter Jr.\"\n",
      "2|Jersey|TEXT eg. \"0\" and when null has a value \"NA\"\n",
      "3|POS|TEXT eg. \"PF\"\n",
      "4|AGE|INT eg. \"22\" in years\n",
      "5|HT|TEXT eg. `6' 7\"` or `6' 10\"` castable to int\n",
      "6|WT|TEXT eg. \"232 lbs\" \n",
      "7|COLLEGE|TEXT eg. \"Michigan\" and when null has a value \"--\"\n",
      "8|SALARY|TEXT eg. \"$9,945,830\" and when null has a value \"--\"\n",
      "Consider the following questions, and queries used to answer them:\n",
      "Question: What is the median weight in the NBA?\n",
      "Query: select CAST(SUBSTR(WT, 1, INSTR(WT,' ')) as INTEGER) as percentile from nba_roster order by percentile limit 1 offset (select count(*) from nba_roster)/2;\n",
      "\n"
     ]
    }
   ],
   "source": [
    "print(system)"
   ]
  },
  {
   "cell_type": "code",
   "execution_count": 8,
   "id": "3f6af2fb-00cb-4ee1-8c96-e7bcb42574b3",
   "metadata": {
    "height": 81
   },
   "outputs": [],
   "source": [
    "user = \"Write two queries that are similar but different to those above.\\n\"\n",
    "user += \"Format the queries as a JSON object, i.e.\\n\"\n",
    "user += '{ \"explanation\": str, \"sql_query_1\" : str, \"sql_query_2\": str }.\\n'\n"
   ]
  },
  {
   "cell_type": "code",
   "execution_count": 9,
   "id": "7879b875-3ae5-4f46-b4d1-6dedaad2385a",
   "metadata": {
    "height": 30
   },
   "outputs": [
    {
     "name": "stdout",
     "output_type": "stream",
     "text": [
      "Write two queries that are similar but different to those above.\n",
      "Format the queries as a JSON object, i.e.\n",
      "{ \"explanation\": str, \"sql_query_1\" : str, \"sql_query_2\": str }.\n",
      "\n"
     ]
    }
   ],
   "source": [
    "print(user)"
   ]
  },
  {
   "cell_type": "code",
   "execution_count": 10,
   "id": "c3501c5a-094d-4fd2-9b15-ce7d108b0d43",
   "metadata": {
    "height": 30
   },
   "outputs": [],
   "source": [
    "user += \"First write an explanation of why you decided to write these new queries in about 3-5 sentences, then write valid sqlite SQL queries for each of the 2 new queries. Make sure each query is complete and ends with a ;\\n\""
   ]
  },
  {
   "cell_type": "code",
   "execution_count": 11,
   "id": "e5b5065e-d4eb-43a7-bd8f-efbc294a7dcc",
   "metadata": {
    "height": 30
   },
   "outputs": [
    {
     "name": "stdout",
     "output_type": "stream",
     "text": [
      "Write two queries that are similar but different to those above.\n",
      "Format the queries as a JSON object, i.e.\n",
      "{ \"explanation\": str, \"sql_query_1\" : str, \"sql_query_2\": str }.\n",
      "First write an explanation of why you decided to write these new queries in about 3-5 sentences, then write valid sqlite SQL queries for each of the 2 new queries. Make sure each query is complete and ends with a ;\n",
      "\n"
     ]
    }
   ],
   "source": [
    "print(user)"
   ]
  },
  {
   "cell_type": "code",
   "execution_count": 12,
   "id": "e474f237-4f1d-4b71-a761-23663380c75a",
   "metadata": {
    "height": 30
   },
   "outputs": [],
   "source": [
    "prompt = make_llama_3_prompt(user, system)"
   ]
  },
  {
   "cell_type": "code",
   "execution_count": 13,
   "id": "980367c9-993d-41af-8667-0bf1da622929",
   "metadata": {
    "height": 64
   },
   "outputs": [
    {
     "name": "stdout",
     "output_type": "stream",
     "text": [
      "{'explanation': 'I decided to write these new queries to provide more insights into the NBA data. The first query calculates the average height of players in the NBA, while the second query finds the team with the highest average salary. These queries are similar to the original query in that they involve extracting and manipulating', 'sql_query_1': \"SELECT AVG(CAST(SUBSTR(HT, 1, INSTR(HT,'')-1) AS INTEGER)) AS average_height FROM nba_roster\", 'sql_query_2': \"SELECT Team, AVG(CAST(SUBSTR(SALARY, 2, LENGTH(SALARY)-2) AS INTEGER)) AS average_salary FROM nba_roster WHERE SALARY!= '--' GROUP BY Team ORDER BY average_salary DESC LIMIT 1\"}\n"
     ]
    }
   ],
   "source": [
    "llm = lamini.Lamini(model_name=\"meta-llama/Meta-Llama-3-8B-Instruct\")\n",
    "result = llm.generate(prompt, output_type={ \"explanation\": \"str\", \"sql_query_1\" : \"str\", \"sql_query_2\": \"str\" }, max_new_tokens=200)\n",
    "print(result)"
   ]
  },
  {
   "cell_type": "code",
   "execution_count": 14,
   "id": "c63d1e4c-21ec-4c8a-9074-7860695ef15d",
   "metadata": {
    "height": 183
   },
   "outputs": [],
   "source": [
    "def check_sql_query(query):\n",
    "    try:\n",
    "        pd.read_sql(query, con=engine)\n",
    "    except Exception as e:\n",
    "        logger.debug(f\"Error in SQL query: {e}\")\n",
    "        return False\n",
    "\n",
    "    logger.info(f\"SQL query {query} is valid\")\n",
    "\n",
    "    return True"
   ]
  },
  {
   "cell_type": "code",
   "execution_count": 15,
   "id": "560a20a5-bf9a-4e55-8bc3-424899981032",
   "metadata": {
    "height": 30
   },
   "outputs": [
    {
     "data": {
      "text/plain": [
       "True"
      ]
     },
     "execution_count": 15,
     "metadata": {},
     "output_type": "execute_result"
    }
   ],
   "source": [
    "check_sql_query(result[\"sql_query_1\"])"
   ]
  },
  {
   "cell_type": "code",
   "execution_count": 16,
   "id": "c8fd8cbe-84ab-4888-a77c-b0a2ab1f24c2",
   "metadata": {
    "height": 30
   },
   "outputs": [
    {
     "data": {
      "text/plain": [
       "True"
      ]
     },
     "execution_count": 16,
     "metadata": {},
     "output_type": "execute_result"
    }
   ],
   "source": [
    "check_sql_query(result[\"sql_query_2\"])"
   ]
  },
  {
   "cell_type": "code",
   "execution_count": 17,
   "id": "a2a5f816-b17d-4cfb-b706-ea008c26532f",
   "metadata": {
    "height": 1543
   },
   "outputs": [],
   "source": [
    "# Wrap it all up together in a class\n",
    "\n",
    "class ModelStage(GenerationNode):\n",
    "    def __init__(self):\n",
    "        super().__init__(\n",
    "            model_name=\"meta-llama/Meta-Llama-3-8B-Instruct\",\n",
    "            max_new_tokens=300,\n",
    "        )\n",
    "\n",
    "    def generate(\n",
    "        self,\n",
    "        prompt: Union[Iterator[PromptObject], AsyncIterator[PromptObject]],\n",
    "        *args,\n",
    "        **kwargs,\n",
    "    ):\n",
    "        prompt = self.add_template(prompt)\n",
    "\n",
    "        results = super().generate(\n",
    "            prompt,\n",
    "            output_type={\n",
    "                \"explanation\": \"str\",\n",
    "                \"sql_query_1\": \"str\",\n",
    "                \"sql_query_2\": \"str\",\n",
    "            },\n",
    "            *args,\n",
    "            **kwargs,\n",
    "        )\n",
    "\n",
    "        return results\n",
    "\n",
    "    async def add_template(self, prompts):\n",
    "        async for prompt in prompts:\n",
    "            new_prompt = make_llama_3_prompt(**self.make_prompt(prompt.data))\n",
    "            yield PromptObject(prompt=new_prompt, data=prompt.data)\n",
    "\n",
    "    async def process_results(self, results):\n",
    "        async for result in results:\n",
    "            if result is None:\n",
    "                continue\n",
    "\n",
    "            if result.response is None:\n",
    "                continue\n",
    "\n",
    "            logger.info(\"=====================================\")\n",
    "            logger.info(f\"Generated query 1: {result.response['sql_query_1']}\")\n",
    "            logger.info(f\"Generated query 2: {result.response['sql_query_2']}\")\n",
    "            logger.info(\"=====================================\")\n",
    "\n",
    "            if self.check_sql_query(result.response[\"sql_query_1\"]):\n",
    "                new_result = PromptObject(prompt=\"\", data=copy.deepcopy(result.data))\n",
    "                new_result.data.generated_sql_query = result.response[\"sql_query_1\"]\n",
    "                yield new_result\n",
    "\n",
    "            if self.check_sql_query(result.response[\"sql_query_2\"]):\n",
    "                new_result = PromptObject(prompt=\"\", data=copy.deepcopy(result.data))\n",
    "                new_result.data.generated_sql_query = result.response[\"sql_query_2\"]\n",
    "                yield new_result\n",
    "\n",
    "    def make_prompt(self, data):\n",
    "        system = \"You are an NBA analyst with 15 years of experience writing complex SQL queries.\\n\"\n",
    "        system += (\n",
    "            \"Consider a table called 'nba_roster' with the following schema (columns)\\n\"\n",
    "        )\n",
    "        system += get_schema()\n",
    "        system += \"Consider the following questions, and queries used to answer them:\\n\"\n",
    "        for example in data.sample:\n",
    "            system += \"Question: \" + example[\"question\"] + \"\\n\"\n",
    "            system += \"Query: \" + example[\"sql\"] + \"\\n\"\n",
    "\n",
    "        # Important: generate relevant queries to your reference data\n",
    "        # Ideally, close to those that are failing so you can show the model examples of how to do it right!\n",
    "        user = \"Write two queries that are similar but different to those above.\\n\"\n",
    "        user += \"Format the queries as a JSON object, i.e.\\n\"\n",
    "        user += '{ \"explanation\": str, \"sql_query_1\" : str, \"sql_query_2\": str }.\\n'\n",
    "\n",
    "        # Next, use Chain of Thought (CoT) and prompt-engineering to help with generating SQL queries\n",
    "        user += \"First write an explanation of why you decided to write these new queries in about 3-5 sentences, then write valid sqlite SQL queries for each of the 2 new queries. Make sure each query is complete and ends with a ;\\n\"\n",
    "\n",
    "        return {\"system\": system, \"user\": user}\n",
    "\n",
    "    def check_sql_query(self, query):\n",
    "        try:\n",
    "            pd.read_sql(query, con=engine)\n",
    "        except Exception as e:\n",
    "            logger.debug(f\"Error in SQL query: {e}\")\n",
    "            return False\n",
    "\n",
    "        logger.info(f\"SQL query {query} is valid\")\n",
    "\n",
    "        return True"
   ]
  },
  {
   "cell_type": "markdown",
   "id": "0c21a538-4aba-4901-aed0-11721f475bf4",
   "metadata": {},
   "source": [
    "### <font color=\"blue\">Second:</font> Now that you have queries, <font color=\"blue\">generate questions</font> for those queries\n"
   ]
  },
  {
   "cell_type": "code",
   "execution_count": 18,
   "id": "a3ecba8f-4919-4b13-b053-02e7c35fcf24",
   "metadata": {
    "height": 234
   },
   "outputs": [],
   "source": [
    "system = \"You are an NBA analyst with 15 years of experience writing complex SQL queries.\\n\"\n",
    "system += (\n",
    "    \"Consider a table called 'nba_roster' with the following schema (columns)\\n\"\n",
    ")\n",
    "system += get_schema() + \"\\n\"\n",
    "system += \"Queries, and questions that they are used to answer:\\n\"\n",
    "\n",
    "example_question = \"\"\"What is the median weight in the NBA?\"\"\"\n",
    "example_sql = \"select CAST(SUBSTR(WT, 1, INSTR(WT,' ')) as INTEGER) as percentile from nba_roster order by percentile limit 1 offset (select count(*) from nba_roster)/2;\"\n",
    "\n",
    "system += \"Question: \" + example_question + \"\\n\"\n",
    "system += \"Query: \" + example_sql + \"\\n\"\n"
   ]
  },
  {
   "cell_type": "code",
   "execution_count": 19,
   "id": "49952fa4-8690-4780-8b10-b0fc97710733",
   "metadata": {
    "height": 30
   },
   "outputs": [],
   "source": [
    "generated_sql = result[\"sql_query_2\"]"
   ]
  },
  {
   "cell_type": "code",
   "execution_count": 20,
   "id": "0c55d269-46bd-4650-ad08-5050cfdaa954",
   "metadata": {
    "height": 81
   },
   "outputs": [],
   "source": [
    "user = \"Now consider the following query.\\n\"\n",
    "user += \"Query: \" + generated_sql + \"\\n\"\n",
    "user += \"Write a question that this query could be used to answer.\\n\"\n"
   ]
  },
  {
   "cell_type": "code",
   "execution_count": 21,
   "id": "407f1212-b95d-46a1-8673-ea8fb8260a75",
   "metadata": {
    "height": 98
   },
   "outputs": [],
   "source": [
    "user += \"Format your response as a JSON object, i.e.\\n\"\n",
    "user += '{ \"explanation\": str, \"question\": str }.\\n'\n",
    "\n",
    "user += \"First write an explanation in about 3-5 sentences, then write a one sentence question.\\n\"\n"
   ]
  },
  {
   "cell_type": "code",
   "execution_count": 22,
   "id": "8498e552-e3b8-466c-b86f-e73adca0541c",
   "metadata": {
    "height": 64
   },
   "outputs": [
    {
     "name": "stdout",
     "output_type": "stream",
     "text": [
      "{'explanation': 'This query calculates the average salary for each team in the NBA, excluding teams with unknown salaries. It does this by first removing the dollar sign and any leading or trailing characters from the salary string, then converting the remaining characters to an integer. The results are then grouped by team and ordered in descending order by average salary, with the team having the highest average salary returned first. The LIMIT 1 clause ensures that only the top team is returned', 'question': 'Which team has the highest average salary among all teams in the NBA'}\n"
     ]
    }
   ],
   "source": [
    "prompt = make_llama_3_prompt(user, system)\n",
    "result = llm.generate(prompt, output_type={ \"explanation\": \"str\", \"question\" : \"str\" }, max_new_tokens=200)\n",
    "print(result)"
   ]
  },
  {
   "cell_type": "code",
   "execution_count": 23,
   "id": "f111edf8-a69f-45e0-b67a-6891827f396d",
   "metadata": {
    "height": 948
   },
   "outputs": [],
   "source": [
    "# Wrap it all up together in a class which generates a question\n",
    "# given a query\n",
    "\n",
    "class QuestionStage(GenerationNode):\n",
    "    def __init__(self):\n",
    "        super().__init__(\n",
    "            model_name=\"meta-llama/Meta-Llama-3-8B-Instruct\",\n",
    "            max_new_tokens=150,\n",
    "        )\n",
    "\n",
    "    def generate(\n",
    "        self,\n",
    "        prompt: Union[Iterator[PromptObject], AsyncIterator[PromptObject]],\n",
    "        *args,\n",
    "        **kwargs,\n",
    "    ):\n",
    "        results = super().generate(\n",
    "            prompt,\n",
    "            output_type={\n",
    "                \"explanation\": \"str\",\n",
    "                \"question\": \"str\",\n",
    "            },\n",
    "            *args,\n",
    "            **kwargs,\n",
    "        )\n",
    "        return results\n",
    "\n",
    "    def preprocess(self, obj: PromptObject):\n",
    "        new_prompt = make_llama_3_prompt(**self.make_question_prompt(obj.data))\n",
    "        obj.prompt = new_prompt\n",
    "\n",
    "    def make_question_prompt(self, data):\n",
    "        system = \"You are an NBA analyst with 15 years of experience writing complex SQL queries.\\n\"\n",
    "        system += (\n",
    "            \"Consider a table called 'nba_roster' with the following schema (columns)\\n\"\n",
    "        )\n",
    "        system += get_schema() + \"\\n\"\n",
    "        system += \"Queries, and questions that they are used to answer:\\n\"\n",
    "        for example in data.sample:\n",
    "            system += \"Query: \" + example[\"sql\"] + \"\\n\"\n",
    "            system += \"Question: \" + example[\"question\"] + \"\\n\"\n",
    "\n",
    "        user = \"Now consider the following query.\\n\"\n",
    "        user += \"Query: \" + data.generated_sql_query + \"\\n\"\n",
    "        user += \"Write a question that this query could be used to answer.\\n\"\n",
    "\n",
    "        # Using Chain of Thought (CoT) again\n",
    "        # This time you can do it programmatically with function calling, so you can easily extract a question out of the JSON object\n",
    "        user += \"Format your response as a JSON object, i.e.\\n\"\n",
    "        user += '{ \"explanation\": str, \"question\": str }.\\n'\n",
    "\n",
    "        user += \"First write an explanation in about 3-5 sentences, then write a one sentence question.\\n\"\n",
    "\n",
    "        return {\"system\": system, \"user\": user}\n"
   ]
  },
  {
   "cell_type": "code",
   "execution_count": 24,
   "id": "5fa638ca-ae31-477c-9583-ba59fedcb829",
   "metadata": {
    "height": 183
   },
   "outputs": [],
   "source": [
    "class QueryGenPipeline(GenerationPipeline):\n",
    "    def __init__(self):\n",
    "        super().__init__()\n",
    "        self.model_stage = ModelStage()\n",
    "        self.question_stage = QuestionStage()\n",
    "\n",
    "    def forward(self, x):\n",
    "        x = self.model_stage(x)\n",
    "        x = self.question_stage(x)\n",
    "        return x"
   ]
  },
  {
   "cell_type": "code",
   "execution_count": 25,
   "id": "9e6c36c4-60ba-4068-93f4-cc5333d88e35",
   "metadata": {
    "height": 47
   },
   "outputs": [],
   "source": [
    "async def run_query_gen_pipeline(gold_queries):\n",
    "    return QueryGenPipeline().call(gold_queries)"
   ]
  },
  {
   "cell_type": "code",
   "execution_count": 26,
   "id": "6314b56a-b4b1-4247-806e-9c6332614a02",
   "metadata": {
    "height": 455
   },
   "outputs": [],
   "source": [
    "# Generate N samples, for every example in the gold dataset\n",
    "\n",
    "all_examples = []\n",
    "\n",
    "async def load_gold_queries(args):\n",
    "    path = f\"data/{args.gold_file_name}\"\n",
    "\n",
    "    with jsonlines.open(path) as reader:\n",
    "        global all_examples\n",
    "\n",
    "        all_examples = [obj for obj in reader]\n",
    "\n",
    "    sample_count = args.num_to_generate\n",
    "    sample_size = 3\n",
    "\n",
    "    random.seed(42)\n",
    "\n",
    "    for i in range(sample_count):\n",
    "        example_sample = ExampleSample(random.sample(all_examples, sample_size), i)\n",
    "        yield PromptObject(prompt=\"\", data=example_sample)\n",
    "\n",
    "\n",
    "class ExampleSample:\n",
    "    def __init__(self, sample, index):\n",
    "        self.sample = sample\n",
    "        self.index = index"
   ]
  },
  {
   "cell_type": "code",
   "execution_count": 27,
   "id": "5536b611-a63f-4a49-8303-3c70e6de18db",
   "metadata": {
    "height": 319
   },
   "outputs": [],
   "source": [
    "async def save_generation_results(results, args):\n",
    "    path = f\"data/training_data/{args.training_file_name}\"\n",
    "\n",
    "    pbar = tqdm(desc=\"Saving results\", unit=\" results\")\n",
    "    with jsonlines.open(path, \"w\") as writer:\n",
    "\n",
    "        async for result in results:\n",
    "            writer.write(\n",
    "                {\n",
    "                    \"question\": result.response[\"question\"],\n",
    "                    \"sql\": result.data.generated_sql_query,\n",
    "                }\n",
    "            )\n",
    "            pbar.update()\n",
    "\n",
    "        for example in all_examples:\n",
    "            writer.write(example)\n",
    "            pbar.update()"
   ]
  },
  {
   "cell_type": "code",
   "execution_count": 28,
   "id": "a585d974-0601-4ab3-a289-66059c118d82",
   "metadata": {
    "height": 81
   },
   "outputs": [
    {
     "name": "stderr",
     "output_type": "stream",
     "text": [
      "Saving results: 30 results [01:07,  2.24s/ results]\n"
     ]
    }
   ],
   "source": [
    "args = Args()\n",
    "gold_queries = load_gold_queries(args)\n",
    "results = await run_query_gen_pipeline(gold_queries)\n",
    "await save_generation_results(results, args)"
   ]
  },
  {
   "cell_type": "markdown",
   "id": "9d3485d1-03ea-45a4-bad3-dd5b454d8e86",
   "metadata": {},
   "source": [
    "display the queries just generated above"
   ]
  },
  {
   "cell_type": "code",
   "execution_count": 29,
   "id": "67611d6f-6d5d-42a8-8028-2e4b5be3e369",
   "metadata": {
    "height": 30
   },
   "outputs": [],
   "source": [
    "#!cat \"data/training_data/generated_queries.jsonl\""
   ]
  },
  {
   "cell_type": "markdown",
   "id": "a07a9edc-a63d-4fd0-a842-e1c8c08fce12",
   "metadata": {},
   "source": [
    "display the archived queries which match the course video."
   ]
  },
  {
   "cell_type": "code",
   "execution_count": 30,
   "id": "2c51b433-9137-4230-9a7b-bab3c24fa23f",
   "metadata": {
    "height": 30
   },
   "outputs": [
    {
     "name": "stdout",
     "output_type": "stream",
     "text": [
      "{\"question\": \"What is the average height of NBA players\", \"sql\": \"SELECT AVG(CAST(SUBSTRING(HT, 0, INSTR(HT,'')-1) AS INTEGER) + CAST(SUBSTRING(HT, INSTR(HT,'')+1) AS INTEGER)/12) as average_height FROM nba_roster WHERE HT!= 'NA';\"}\r\n",
      "{\"question\": \"What is the average age of all players in the NBA\", \"sql\": \"SELECT AVG(AGE) FROM nba_roster\"}\r\n",
      "{\"question\": \"What are the oldest players on each team with a roster size of 6 or more\", \"sql\": \"SELECT NAME FROM nba_roster WHERE AGE IN (SELECT MAX(AGE) FROM nba_roster WHERE TEAM IN (SELECT TEAM FROM nba_roster GROUP BY TEAM HAVING COUNT(*) > 5))\"}\r\n",
      "{\"question\": \"What is the average height of the players on the Toronto Raptors\", \"sql\": \"SELECT AVG(CAST(SUBSTR(HT, 1, INSTR(HT,' ')-1) AS INTEGER)+ CAST(SUBSTR(HT, INSTR(HT,' ')+1) AS FLOAT)/12) as height FROM nba_roster WHERE team='Toronto Raptors';\"}\r\n",
      "{\"question\": \"What is the highest-paid Toronto Raptors player who attended college\", \"sql\": \"SELECT name, salary FROM nba_roster WHERE team='Toronto Raptors' AND COLLEGE!='--' AND SALARY!='--' ORDER BY CAST(REPLACE(REPLACE(SALARY, '$', ''), ',','') AS INTEGER) DESC LIMIT 1\"}\r\n",
      "{\"question\": \"What is the most common height among NBA players\", \"sql\": \"SELECT HT, COUNT(*) as count FROM nba_roster WHERE HT IS NOT NULL GROUP BY HT ORDER BY count DESC LIMIT 1\"}\r\n",
      "{\"question\": \"What is the most represented college in the NBA\", \"sql\": \"SELECT COLLEGE, COUNT(*) as count FROM nba_roster WHERE COLLEGE IS NOT NULL GROUP BY COLLEGE ORDER BY count DESC LIMIT 1\"}\r\n",
      "{\"question\": \"What is the average age of all players in the NBA\", \"sql\": \"SELECT AVG(AGE) AS average_age FROM nba_roster\"}\r\n",
      "{\"question\": \"What is the average height of NBA players\", \"sql\": \"SELECT AVG(CAST(SUBSTR(HT, 1, INSTR(HT,' ')-1) AS INTEGER) + CAST(SUBSTR(HT, INSTR(HT,' ')+1) AS FLOAT)/12) AS average_height FROM nba_roster\"}\r\n",
      "{\"question\": \"What is the average age of the players in the NBA\", \"sql\": \"SELECT AVG(AGE) FROM nba_roster WHERE AGE IS NOT NULL\"}\r\n",
      "{\"question\": \"What is the position with the most players in the NBA\", \"sql\": \"SELECT POS, COUNT(*) as count FROM nba_roster WHERE SALARY!= '--' GROUP BY POS ORDER BY count DESC LIMIT 1\"}\r\n",
      "{\"question\": \"What is the average height of players on each NBA team, excluding players with unknown heights\", \"sql\": \"SELECT TEAM, AVG(CAST(SUBSTRING(HT, 0, INSTR(HT,'')-1) AS INTEGER)) as avg_height FROM nba_roster WHERE HT!= 'NA' GROUP BY TEAM ORDER BY avg_height DESC\"}\r\n",
      "{\"question\": \"What are the 5 most common heights among NBA players\", \"sql\": \"SELECT HT, COUNT(*) AS count FROM nba_roster GROUP BY HT ORDER BY count DESC LIMIT 5\"}\r\n",
      "{\"question\": \"What are the top 5 colleges with the most players in the NBA\", \"sql\": \"SELECT COLLEGE, COUNT(*) AS count FROM nba_roster WHERE COLLEGE!= '--' GROUP BY COLLEGE ORDER BY count DESC LIMIT 5\"}\r\n",
      "{\"question\": \"What is the average age of the players in the NBA\", \"sql\": \"SELECT AVG(AGE) FROM nba_roster WHERE AGE IS NOT NULL\"}\r\n",
      "{\"question\": \"Which players in the NBA have attended the most colleges\", \"sql\": \"SELECT NAME, COLLEGE, COUNT(*) as num_colleges FROM nba_roster WHERE COLLEGE!= '--' GROUP BY NAME, COLLEGE ORDER BY num_colleges DESC;\"}\r\n",
      "{\"question\": \"What is the average age of the players in the NBA\", \"sql\": \"SELECT AVG(AGE) FROM nba_roster\"}\r\n",
      "{\"question\": \"Who are the top 5 highest-paid players in the NBA\", \"sql\": \"SELECT * FROM nba_roster WHERE SALARY!= '--' ORDER BY CAST(REPLACE(REPLACE(SALARY, '$', ''), ',','') AS INTEGER) DESC LIMIT 5\"}\r\n",
      "{\"question\": \"What is the average height of players on each NBA team\", \"sql\": \"SELECT team, AVG(CAST(SUBSTRING(HT, 1, INSTR(HT,'')-1) AS INTEGER) + CAST(SUBSTRING(HT, INSTR(HT,'')+1) AS INTEGER) / 12.0) as avg_height FROM nba_roster WHERE HT!= 'NA' GROUP BY team\"}\r\n",
      "{\"question\": \"Who are the top 3 highest-paid players in the NBA\", \"sql\": \"SELECT name, SUM(CAST(REPLACE(REPLACE(SALARY, '$', ''), ',','') AS INTEGER)) as total_salary FROM nba_roster WHERE SALARY!= '--' GROUP BY name ORDER BY total_salary DESC LIMIT 3\"}\r\n",
      "{\"question\": \"Which team has the most players in the NBA\", \"sql\": \"SELECT team, COUNT(*) as num_players FROM nba_roster GROUP BY team ORDER BY num_players DESC LIMIT 1\"}\r\n",
      "{\"question\": \"What is the total salary of all players in the NBA who are 6'8\", \"sql\": \"SELECT SUM(CAST(REPLACE(REPLACE(SALARY, '$', ''), ',','') AS INTEGER)) as total_salary FROM nba_roster WHERE CAST(SUBSTR(HT, 1, INSTR(HT,'')-1) AS INTEGER) = 68;\"}\r\n",
      "{\"question\": \"What is the average age of players on each team in the NBA\", \"sql\": \"SELECT team, AVG(AGE) as avg_age FROM nba_roster WHERE SALARY!= '--' GROUP BY team\"}\r\n",
      "{\"question\": \"How many players in the NBA have a non-null salary and college information, and play one of the five main positions\", \"sql\": \"SELECT COUNT(*) as num_players FROM nba_roster WHERE POS IN ('PG', 'SG', 'SF', 'PF', 'C') AND SALARY!= '--' AND COLLEGE!= '--'\"}\r\n",
      "{\"question\": \"What is the most common position in the NBA\", \"sql\": \"SELECT POS, COUNT(*) as count FROM nba_roster GROUP BY POS ORDER BY count DESC LIMIT 1\"}\r\n",
      "{\"question\": \"What is the average height of NBA players\", \"sql\": \"SELECT AVG(CAST(SUBSTR(HT, 1, INSTR(HT,' ')-1) AS INTEGER) + CAST(SUBSTR(HT, INSTR(HT,' ')+1) AS FLOAT)/12) as average_height FROM nba_roster;\"}\r\n",
      "{\"question\": \"What is the average salary of NBA players who are at least 5 years old\", \"sql\": \"SELECT AVG(CAST(REPLACE(REPLACE(SALARY, '$', ''), ',','') AS INTEGER)) as average_salary FROM nba_roster WHERE AGE > 5\"}\r\n",
      "{\"question\": \"What is the average age of all players in the NBA\", \"sql\": \"SELECT AVG(AGE) FROM nba_roster\"}\r\n",
      "{\"question\": \"What is the most common age range among NBA players\", \"sql\": \"SELECT AGE, COUNT(*) AS count FROM nba_roster GROUP BY AGE ORDER BY count DESC LIMIT 1\"}\r\n",
      "{\"question\": \"Which team has the most players in the NBA\", \"sql\": \"SELECT Team, COUNT(*) as num_players FROM nba_roster GROUP BY Team ORDER BY num_players DESC LIMIT 1\"}\r\n",
      "{\"question\": \"What is the average salary of NBA players\", \"sql\": \"SELECT AVG(CAST(SUBSTR(SALARY, 1, INSTR(SALARY, '$')-1) AS INTEGER)) FROM nba_roster WHERE SALARY!= '--';\"}\r\n",
      "{\"question\": \"How many players in the NBA are 68 inches tall\", \"sql\": \"SELECT COUNT(*) FROM nba_roster WHERE CAST(SUBSTR(HT, 1, INSTR(HT,'')-1) AS INTEGER) = 68;\"}\r\n",
      "{\"question\": \"What is the average salary of Power Forwards in the NBA who are at least 25 years old\", \"sql\": \"SELECT AVG(CAST(SUBSTR(SALARY, 1, INSTR(SALARY, '$')-1) AS INTEGER)) AS average_salary FROM nba_roster WHERE AGE >= 25 AND POS = 'PF';\"}\r\n",
      "{\"question\": \"What is the average age of 6-foot Power Forwards in the NBA\", \"sql\": \"SELECT AVG(AGE) FROM nba_roster WHERE CAST(SUBSTR(HT, 1, INSTR(HT,' ')-1) AS INTEGER) = 6 AND POS='PF';\"}\r\n",
      "{\"question\": \"What is the heaviest Power Forward in the NBA\", \"sql\": \"SELECT NAME, AVG(CAST(SUBSTR(WT, 1, INSTR(WT,' ')) AS INTEGER)) AS avg_weight FROM nba_roster WHERE POS='PF' GROUP BY NAME ORDER BY avg_weight DESC LIMIT 1\"}\r\n",
      "{\"question\": \"What is the number of players on each team in the NBA\", \"sql\": \"SELECT Team, COUNT(*) as num_players FROM nba_roster GROUP BY Team\"}\r\n",
      "{\"question\": \"What is the average height of NBA players who are 25 years old or older\", \"sql\": \"SELECT AVG(CAST(SUBSTR(HT, 1, INSTR(HT,' ')-1) AS INTEGER)+ CAST(SUBSTR(HT, INSTR(HT,' ')+1) AS FLOAT)/12) as height FROM nba_roster WHERE age >= 25\"}\r\n",
      "{\"question\": \"What are the top 3 teams with the highest average salaries in the NBA\", \"sql\": \"SELECT team, AVG(CAST(REPLACE(REPLACE(SALARY, '$', ''), ',','') AS INTEGER)) as avg_salary FROM nba_roster WHERE SALARY!= '--' GROUP BY team ORDER BY avg_salary DESC LIMIT 3\"}\r\n",
      "{\"question\": \"What is the most common position in the NBA\", \"sql\": \"SELECT POS, COUNT(*) as count FROM nba_roster GROUP BY POS ORDER BY count DESC LIMIT 1\"}\r\n",
      "{\"question\": \"What are the names of the players in the NBA who are exactly 6 feet 8 inches tall\", \"sql\": \"SELECT NAME, HT FROM nba_roster WHERE CAST(SUBSTRING(HT, 0, INSTR(HT,'')-1) AS INTEGER) = 68 ORDER BY HT ASC;\"}\r\n",
      "{\"question\": \"What is the college with the most players in the NBA\", \"sql\": \"SELECT COLLEGE, COUNT(*) as count FROM nba_roster WHERE COLLEGE!= '--' GROUP BY COLLEGE ORDER BY count DESC LIMIT 1\"}\r\n",
      "{\"question\": \"What is the average age of all players in the NBA\", \"sql\": \"SELECT AVG(AGE) FROM nba_roster\"}\r\n",
      "{\"question\": \"What is the most represented college in the NBA\", \"sql\": \"SELECT COLLEGE, COUNT(*) AS frequency FROM nba_roster WHERE COLLEGE!= '--' GROUP BY COLLEGE ORDER BY frequency DESC LIMIT 1\"}\r\n",
      "{\"question\": \"What is the average age of the players in the NBA\", \"sql\": \"SELECT AVG(AGE) as average_age FROM nba_roster WHERE AGE IS NOT NULL\"}\r\n",
      "{\"question\": \"What is the average height of NBA players who have a recorded height\", \"sql\": \"SELECT AVG(CAST(SUBSTR(HT, 1, INSTR(HT,' ')-1) AS INTEGER) + CAST(SUBSTR(HT, INSTR(HT,' ')+1) AS FLOAT)/12) as average_height FROM nba_roster WHERE HT IS NOT NULL\"}\r\n",
      "{\"question\": \"What is the average salary of NBA players who are 25 years or older\", \"sql\": \"SELECT AVG(CAST(SUBSTR(SALARY, 1, INSTR(SALARY, '$') - 1) as INTEGER)) FROM nba_roster WHERE CAST(AGE as INTEGER) >= 25\"}\r\n",
      "{\"question\": \"What is the most represented college in the NBA\", \"sql\": \"SELECT COLLEGE, COUNT(*) as count FROM nba_roster WHERE COLLEGE!= '--' GROUP BY COLLEGE ORDER BY count DESC LIMIT 1\"}\r\n",
      "{\"question\": \"What is the number of players on each team in the NBA\", \"sql\": \"SELECT Team, COUNT(*) as num_players FROM nba_roster GROUP BY Team\"}\r\n",
      "{\"question\": \"What is the average salary for each position in the NBA, excluding players with unknown salaries\", \"sql\": \"SELECT POS, AVG(CAST(SUBSTR(SALARY, 1, INSTR(SALARY, '$') - 1) as INTEGER)) as avg_salary FROM nba_roster WHERE SALARY!= '--' GROUP BY POS\"}\r\n",
      "{\"question\": \"What is the most common position in the NBA\", \"sql\": \"SELECT POS, COUNT(*) as count FROM nba_roster GROUP BY POS ORDER BY count DESC LIMIT 1\"}\r\n",
      "{\"question\": \"What is the average age of players on each team in the NBA\", \"sql\": \"SELECT team, AVG(AGE) as avg_age FROM nba_roster WHERE SALARY!= '--' GROUP BY team\"}\r\n",
      "{\"question\": \"What are the top 3 positions with the highest total salary expenditure in the NBA\", \"sql\": \"SELECT pos, name, SUM(CAST(REPLACE(REPLACE(SALARY, '$', ''), ',','') AS INTEGER)) as total_salary FROM nba_roster WHERE SALARY!= '--' GROUP BY pos ORDER BY total_salary DESC LIMIT 3\"}\r\n",
      "{\"question\": \"Which colleges have the most players in the NBA\", \"sql\": \"SELECT COLLEGE, COUNT(*) AS num_players FROM nba_roster WHERE COLLEGE!= '--' GROUP BY COLLEGE ORDER BY num_players DESC;\"}\r\n",
      "{\"question\": \"What is the average salary for each team in the NBA\", \"sql\": \"SELECT team, AVG(CAST(REPLACE(REPLACE(SALARY, '$', ''), ',','') AS INTEGER)) as avg_salary FROM nba_roster WHERE SALARY!= '--' GROUP BY team\"}\r\n",
      "{\"question\": \"What is the age range of players on each team in the NBA\", \"sql\": \"SELECT team, MIN(AGE) as youngest_player, MAX(AGE) as oldest_player FROM nba_roster WHERE AGE IS NOT NULL GROUP BY team\"}\r\n",
      "{\"question\": \"Which team has the most players who are 6'8\", \"sql\": \"SELECT team, COUNT(*) as num_players FROM nba_roster WHERE CAST(SUBSTR(HT, 1, INSTR(HT,'')-1) AS INTEGER) = 68 GROUP BY team ORDER BY num_players DESC LIMIT 1\"}\r\n",
      "{\"question\": \"How many players in the NBA are over the age of 25\", \"sql\": \"SELECT COUNT(*) FROM nba_roster WHERE AGE > 25\"}\r\n",
      "{\"question\": \"What is the average height of NBA players under the age of 25\", \"sql\": \"SELECT AVG(CAST(SUBSTR(HT, 1, INSTR(HT,' ')-1) AS INTEGER)+ CAST(SUBSTR(HT, INSTR(HT,' ')+1) AS FLOAT)/12) as average_height FROM nba_roster WHERE AGE <= 25\"}\r\n",
      "{\"question\": \"What is the total salary of all players in the NBA who are more than 5 years older than the average age of all players\", \"sql\": \"SELECT SUM(CAST(REPLACE(REPLACE(SALARY, '$', ''), ',','') AS INTEGER)) as total_salary FROM nba_roster WHERE (AGE - (SELECT AVG(AGE) FROM nba_roster)) > 5\"}\r\n",
      "{\"question\": \"What is the median weight in the NBA\", \"sql\": \"SELECT COLLEGE, COUNT(*) as count FROM nba_roster WHERE COLLEGE!= '--' GROUP BY COLLEGE ORDER BY count DESC LIMIT 1\"}\r\n",
      "{\"question\": \"What are the top 5 teams with the oldest average age of players\", \"sql\": \"SELECT team, AVG(AGE) AS average_age FROM nba_roster GROUP BY team ORDER BY average_age DESC LIMIT 5\"}\r\n",
      "{\"question\": \"What is the average height of NBA players\", \"sql\": \"SELECT AVG(CAST(SUBSTRING(HT, 0, INSTR(HT,'')-1) AS INTEGER)) AS average_height FROM nba_roster WHERE HT!= 'NA';\"}\r\n",
      "{\"question\": \"What is the average salary of the Los Angeles Lakers players\", \"sql\": \"SELECT AVG(CAST(SALARY AS INTEGER) ) AS average_salary FROM nba_roster WHERE team='Los Angeles Lakers';\"}\r\n",
      "{\"question\": \"What is the college that has produced the most players currently playing for the Boston Celtics\", \"sql\": \"SELECT COLLEGE, COUNT(*) AS count FROM nba_roster WHERE team='Boston Celtics' GROUP BY COLLEGE ORDER BY count DESC LIMIT 1\"}\r\n",
      "{\"question\": \"What college has the most players in the NBA who are 30 years old or older\", \"sql\": \"SELECT COLLEGE, COUNT(*) AS count FROM nba_roster WHERE AGE >= 30 GROUP BY COLLEGE ORDER BY count DESC LIMIT 1\"}\r\n",
      "{\"question\": \"How many players in the NBA are at least 5 years older than the youngest player in the league\", \"sql\": \"SELECT COUNT(*) as num_players FROM nba_roster WHERE AGE - (SELECT MIN(AGE) FROM nba_roster) > 5\"}\r\n",
      "{\"question\": \"What are the 5 colleges that have produced the most players in the NBA\", \"sql\": \"SELECT COLLEGE, COUNT(*) as num_players FROM nba_roster WHERE COLLEGE!= '--' GROUP BY COLLEGE ORDER BY num_players DESC LIMIT 5\"}\r\n",
      "{\"question\": \"What are the most common positions in the NBA\", \"sql\": \"SELECT POS, COUNT(*) as count FROM nba_roster WHERE POS!= '--' GROUP BY POS ORDER BY count DESC\"}\r\n",
      "{\"question\": \"What is the average age of all players in the NBA\", \"sql\": \"SELECT AVG(AGE) as average_age FROM nba_roster WHERE AGE IS NOT NULL\"}\r\n",
      "{\"question\": \"What are the teams with the highest average salaries in the NBA\", \"sql\": \"SELECT team, AVG(CAST(REPLACE(REPLACE(SALARY, '$', ''), ',','') AS INTEGER)) as avg_salary FROM nba_roster WHERE SALARY!= '--' GROUP BY team ORDER BY avg_salary DESC\"}\r\n",
      "{\"question\": \"What is the average height of NBA players\", \"sql\": \"SELECT AVG(CAST(SUBSTR(HT, 1, INSTR(HT,' ')-1) AS INTEGER) + CAST(SUBSTR(HT, INSTR(HT,' ')+1) AS FLOAT)/12) as average_height FROM nba_roster\"}\r\n",
      "{\"question\": \"What is the average salary of all NBA players\", \"sql\": \"SELECT AVG(CAST(REPLACE(REPLACE(SALARY, '$', ''), ',','') AS INTEGER)) as average_salary FROM nba_roster\"}\r\n",
      "{\"question\": \"What is the average age of the players on the Toronto Raptors\", \"sql\": \"SELECT AVG(AGE) FROM nba_roster WHERE team='Toronto Raptors';\"}\r\n",
      "{\"question\": \"Which three teams have the most players from a single college\", \"sql\": \"SELECT team, COLLEGE, COUNT(*) AS num_players FROM nba_roster GROUP BY team, COLLEGE ORDER BY num_players DESC LIMIT 3\"}\r\n",
      "{\"question\": \"What is the average salary of NBA players 25 years or older\", \"sql\": \"SELECT AVG(CAST(SUBSTR(SALARY, 1, INSTR(SALARY, '$')-1) AS INTEGER)) FROM nba_roster WHERE AGE >= 25\"}\r\n",
      "{\"question\": \"What is the total salary of all NBA players\", \"sql\": \"SELECT SUM(CAST(SUBSTR(SALARY, 1, INSTR(SALARY, '$')-1) AS INTEGER)*1000000) FROM nba_roster\"}\r\n",
      "{\"question\": \"What are the most common positions in the NBA\", \"sql\": \"SELECT POS, COUNT(*) AS num_players FROM nba_roster GROUP BY POS;\"}\r\n",
      "{\"question\": \"What is the average salary for each age group in the NBA\", \"sql\": \"SELECT AVG(CAST(REPLACE(REPLACE(SALARY, '$', ''), ',','') AS INTEGER)) as average_salary, AGE as age_group FROM nba_roster WHERE SALARY!= '--' GROUP BY AGE ORDER BY age_group\"}\r\n",
      "{\"question\": \"What are the top 5 colleges that have produced the most NBA players\", \"sql\": \"SELECT COLLEGE, COUNT(*) as count FROM nba_roster WHERE COLLEGE!= '--' GROUP BY COLLEGE ORDER BY count DESC LIMIT 5\"}\r\n",
      "{\"question\": \"What is the most common position for players under the age of 25 in the NBA\", \"sql\": \"SELECT POS, COUNT(*) as count FROM nba_roster WHERE AGE <= 25 GROUP BY POS ORDER BY count DESC LIMIT 1\"}\r\n",
      "{\"question\": \"How many players in the NBA are 5 years or younger than the oldest player in the league\", \"sql\": \"SELECT COUNT(*) FROM nba_roster WHERE AGE + 5 <= (SELECT MAX(AGE) FROM nba_roster);\"}\r\n",
      "{\"question\": \"What are the top 5 colleges that have produced the most NBA players\", \"sql\": \"SELECT COLLEGE, COUNT(*) as count FROM nba_roster WHERE COLLEGE!= '--' GROUP BY COLLEGE ORDER BY count DESC LIMIT 5\"}\r\n",
      "{\"question\": \"What are the most common positions in the NBA\", \"sql\": \"SELECT POS, COUNT(*) as count FROM nba_roster GROUP BY POS ORDER BY count DESC\"}\r\n",
      "{\"question\": \"What is the average age of all players in the NBA\", \"sql\": \"SELECT AVG(AGE) FROM nba_roster\"}\r\n",
      "{\"question\": \"What are the most common heights in the NBA\", \"sql\": \"SELECT HT, COUNT(*) AS frequency FROM nba_roster GROUP BY HT ORDER BY frequency DESC LIMIT 5\"}\r\n",
      "{\"question\": \"What are the most common positions in the NBA\", \"sql\": \"SELECT POS, COUNT(*) as count FROM nba_roster GROUP BY POS ORDER BY count DESC\"}\r\n",
      "{\"question\": \"What is the average salary for each team in the NBA, excluding teams with unknown salaries\", \"sql\": \"SELECT TEAM, AVG(CAST(REPLACE(REPLACE(SALARY, '$', ''), ',','') AS INTEGER)) as average_salary FROM nba_roster WHERE SALARY!= '--' GROUP BY TEAM ORDER BY average_salary DESC\"}\r\n",
      "{\"question\": \"What is the college that has produced the most NBA players\", \"sql\": \"SELECT COLLEGE, COUNT(*) as count FROM nba_roster WHERE COLLEGE!= '--' GROUP BY COLLEGE ORDER BY count DESC LIMIT 1\"}\r\n",
      "{\"question\": \"Who is the highest paid player in the NBA\", \"sql\": \"SELECT name, salary FROM nba_roster WHERE salary!= '--' ORDER BY CAST(REPLACE(REPLACE(salary, '$', ''), ',', '') AS INTEGER) DESC LIMIT 1\"}\r\n",
      "{\"question\": \"What is the average age of players who are 6'8\", \"sql\": \"SELECT AVG(AGE) FROM nba_roster WHERE CAST(SUBSTR(HT, 1, INSTR(HT,' ')-1) AS INTEGER) = 68\"}\r\n",
      "{\"question\": \"What is the average age of the players in the NBA who are more than 5 years older than the average age of all players\", \"sql\": \"SELECT AVG(AGE) FROM nba_roster WHERE AGE + (SELECT AVG(AGE) FROM nba_roster) > 5*12\"}\r\n",
      "{\"question\": \"What is the average age of the players in the NBA who are older than 5 years old\", \"sql\": \"SELECT AVG(AGE) FROM nba_roster WHERE AGE > 5*12\"}\r\n",
      "{\"question\": \"What are the top colleges that produce the most NBA players\", \"sql\": \"SELECT COLLEGE, COUNT(*) as num_players FROM nba_roster WHERE COLLEGE!= '--' GROUP BY COLLEGE ORDER BY num_players DESC;\"}\r\n",
      "{\"question\": \"How many players in the NBA are 6'8\", \"sql\": \"SELECT COUNT(*) FROM nba_roster WHERE CAST(SUBSTR(HT, 1, INSTR(HT,'')-1) AS INTEGER) = 68;\"}\r\n",
      "{\"question\": \"What is the average salary for each team in the NBA\", \"sql\": \"SELECT Team, AVG(CAST(REPLACE(REPLACE(SALARY, '$', ''), ',','') AS INTEGER)) as average_salary FROM nba_roster GROUP BY Team\"}\r\n",
      "{\"question\": \"What are the top colleges represented in the NBA\", \"sql\": \"SELECT COLLEGE, COUNT(*) as num_players FROM nba_roster WHERE COLLEGE!= '--' GROUP BY COLLEGE ORDER BY num_players DESC;\"}\r\n",
      "{\"question\": \"What is the most represented college in the NBA\", \"sql\": \"SELECT COLLEGE, COUNT(*) as count FROM nba_roster WHERE COLLEGE!= '--' GROUP BY COLLEGE ORDER BY count DESC LIMIT 1\"}\r\n",
      "{\"question\": \"What are the 5 teams with the highest average salary in the NBA\", \"sql\": \"SELECT team, AVG(CAST(REPLACE(REPLACE(SALARY, '$', ''), ',','') AS INTEGER)) AS average_salary FROM nba_roster WHERE SALARY!= '--' GROUP BY team ORDER BY average_salary DESC\"}\r\n",
      "{\"question\": \"What is the average age of players in the NBA\", \"sql\": \"SELECT AVG(AGE) FROM nba_roster\"}\r\n",
      "{\"question\": \"What is the most common height in the NBA\", \"sql\": \"SELECT SUBSTR(HT, 1, INSTR(HT,'')-1) as height, COUNT(*) as count FROM nba_roster GROUP BY SUBSTR(HT, 1, INSTR(HT,'')-1) ORDER BY count DESC LIMIT 1\"}\r\n",
      "{\"question\": \"What is the position with the most players in the NBA\", \"sql\": \"SELECT POS, COUNT(*) as count FROM nba_roster GROUP BY POS ORDER BY count DESC LIMIT 1\"}\r\n",
      "{\"question\": \"What is the 75th percentile salary in the NBA\", \"sql\": \"SELECT HT, AVG(WT) as avg_weight FROM nba_roster WHERE HT IS NOT NULL AND WT IS NOT NULL GROUP BY HT ORDER BY avg_weight DESC LIMIT 1\"}\r\n",
      "{\"question\": \"Which college has produced the most NBA players\", \"sql\": \"SELECT COLLEGE, COUNT(*) as count FROM nba_roster WHERE COLLEGE!= '--' GROUP BY COLLEGE ORDER BY count DESC LIMIT 1\"}\r\n",
      "{\"question\": \"What is the average salary of NBA players who are older than 25 years old\", \"sql\": \"SELECT AVG(CAST(REPLACE(REPLACE(SALARY, '$', ''), ',','') AS INTEGER)) as average_salary FROM nba_roster WHERE AGE > 25\"}\r\n",
      "{\"question\": \"What is the average age of the players on the Toronto Raptors\", \"sql\": \"SELECT AVG(AGE) FROM nba_roster WHERE TEAM = 'Toronto Raptors';\"}\r\n",
      "{\"question\": \"What is the average height of the players on the Los Angeles Lakers\", \"sql\": \"SELECT AVG(CAST(SUBSTR(HT, 1, INSTR(HT,'')-1) AS INTEGER) + CAST(SUBSTR(HT, INSTR(HT,'')+1) AS FLOAT)/12) AS height FROM nba_roster WHERE TEAM = 'Los Angeles Lakers';\"}\r\n",
      "{\"question\": \"What is the position with the most players in the NBA\", \"sql\": \"SELECT POS, COUNT(*) as count FROM nba_roster GROUP BY POS ORDER BY count DESC LIMIT 1\"}\r\n",
      "{\"question\": \"What is the average age of all players in the NBA who are older than 5 years old\", \"sql\": \"SELECT AVG(AGE) as average_age FROM nba_roster WHERE AGE > 5\"}\r\n",
      "{\"question\": \"How many players on each team have a height of 6'8\", \"sql\": \"SELECT team, COUNT(*) as num_players FROM nba_roster WHERE CAST(SUBSTRING(HT, 1, INSTR(HT,'')-1) AS INTEGER) = 68 GROUP BY team\"}\r\n",
      "{\"question\": \"What is the most common position in the NBA\", \"sql\": \"SELECT POS, COUNT(*) as count FROM nba_roster GROUP BY POS ORDER BY count DESC LIMIT 1\"}\r\n",
      "{\"question\": \"What is the average height of NBA players\", \"sql\": \"SELECT AVG(CAST(SUBSTR(HT, 1, INSTR(HT,' ')-1) AS INTEGER) + CAST(SUBSTR(HT, INSTR(HT,' ')+1) AS FLOAT)/12) as average_height FROM nba_roster;\"}\r\n",
      "{\"question\": \"What is the average salary of NBA players who are at least 5 years old\", \"sql\": \"SELECT AVG(CAST(REPLACE(REPLACE(SALARY, '$', ''), ',','') AS INTEGER)) as average_salary FROM nba_roster WHERE AGE > 5\"}\r\n",
      "{\"question\": \"What is the average age of all players in the NBA\", \"sql\": \"SELECT AVG(AGE) FROM nba_roster\"}\r\n",
      "{\"question\": \"What is the most common age range among NBA players\", \"sql\": \"SELECT AGE, COUNT(*) AS count FROM nba_roster GROUP BY AGE ORDER BY count DESC LIMIT 1\"}\r\n",
      "{\"question\": \"What is the median weight in the NBA\", \"sql\": \"SELECT COLLEGE, COUNT(*) as count FROM nba_roster WHERE COLLEGE!= '--' GROUP BY COLLEGE ORDER BY count DESC LIMIT 1\"}\r\n",
      "{\"question\": \"How many players in the NBA are at least 5 years older than the youngest player in the league\", \"sql\": \"SELECT COUNT(*) as num_players FROM nba_roster WHERE AGE - (SELECT MIN(AGE) FROM nba_roster) > 5\"}\r\n",
      "{\"question\": \"What are the 5 colleges that have produced the most players in the NBA\", \"sql\": \"SELECT COLLEGE, COUNT(*) as num_players FROM nba_roster WHERE COLLEGE!= '--' GROUP BY COLLEGE ORDER BY num_players DESC LIMIT 5\"}\r\n",
      "{\"question\": \"What are the most common positions in the NBA\", \"sql\": \"SELECT POS, COUNT(*) as count FROM nba_roster WHERE POS!= '--' GROUP BY POS ORDER BY count DESC\"}\r\n",
      "{\"question\": \"What is the average age of all players in the NBA\", \"sql\": \"SELECT AVG(AGE) as average_age FROM nba_roster WHERE AGE IS NOT NULL\"}"
     ]
    }
   ],
   "source": [
    "!cat \"data/training_data/archive/generated_queries.jsonl\""
   ]
  },
  {
   "cell_type": "markdown",
   "id": "1d0b380c-78e9-4560-9255-b01e8455885d",
   "metadata": {},
   "source": [
    "### Round of finetuning\n",
    "Now that you have data, even if it is not perfect, go through a round of finetuning!"
   ]
  },
  {
   "cell_type": "code",
   "execution_count": 31,
   "id": "e051553d-7c78-4580-a9d4-2ac4dafd1c12",
   "metadata": {
    "height": 625
   },
   "outputs": [],
   "source": [
    "import logging\n",
    "import os\n",
    "from datetime import datetime\n",
    "from pprint import pprint\n",
    "from typing import AsyncIterator, Iterator, Union\n",
    "import sqlite3\n",
    "from tqdm import tqdm\n",
    "\n",
    "import pandas as pd\n",
    "import jsonlines\n",
    "from lamini.generation.base_prompt_object import PromptObject\n",
    "from lamini.generation.generation_node import GenerationNode\n",
    "from lamini.generation.base_prompt_object import PromptObject\n",
    "from lamini.generation.generation_pipeline import GenerationPipeline\n",
    "from util.get_schema import get_schema\n",
    "from util.make_llama_3_prompt import make_llama_3_prompt\n",
    "from util.setup_logging import setup_logging\n",
    "from util.load_dataset import get_dataset\n",
    "from util.get_default_finetune_args import get_default_finetune_args\n",
    "\n",
    "logger = logging.getLogger(__name__)\n",
    "engine = sqlite3.connect(\"./nba_roster.db\")\n",
    "setup_logging()\n",
    "\n",
    "class Args:\n",
    "    def __init__(self, \n",
    "                 max_examples=100, \n",
    "                 sql_model_name=\"meta-llama/Meta-Llama-3-8B-Instruct\", \n",
    "                 gold_file_name=\"gold-test-set.jsonl\",\n",
    "                 training_file_name=\"archive/generated_queries.jsonl\",\n",
    "                 num_to_generate=10):\n",
    "        self.sql_model_name = sql_model_name\n",
    "        self.max_examples = max_examples\n",
    "        self.gold_file_name = gold_file_name\n",
    "        self.training_file_name = training_file_name\n",
    "        self.num_to_generate = num_to_generate"
   ]
  },
  {
   "cell_type": "markdown",
   "id": "da7e4f95-e115-4b2c-8644-b2c0f9032ed4",
   "metadata": {},
   "source": [
    "make_question will take the questions and queries from the training_file and embed them in the prompt below to form the training data."
   ]
  },
  {
   "cell_type": "code",
   "execution_count": 32,
   "id": "fa9a3cc0-6ff3-4037-8913-eb373e0e1249",
   "metadata": {
    "height": 166
   },
   "outputs": [],
   "source": [
    "def make_question(obj):\n",
    "    system = \"You are an NBA analyst with 15 years of experience writing complex SQL queries.\\n\"\n",
    "    system += \"Consider the nba_roster table with the following schema:\\n\"\n",
    "    system += get_schema() + \"\\n\"\n",
    "    system += (\n",
    "        \"Write a sqlite SQL query that would help you answer the following question:\\n\"\n",
    "    )\n",
    "    user = obj[\"question\"]\n",
    "    return {\"system\": system, \"user\": user}"
   ]
  },
  {
   "cell_type": "code",
   "execution_count": 33,
   "id": "f3e2d58b-aaec-4fc4-8435-148fc4b28093",
   "metadata": {
    "height": 47
   },
   "outputs": [],
   "source": [
    "args = Args()\n",
    "llm = lamini.Lamini(model_name=\"meta-llama/Meta-Llama-3-8B-Instruct\")"
   ]
  },
  {
   "cell_type": "code",
   "execution_count": 34,
   "id": "e9cba156-4b6b-499b-8917-28e3b0d9117f",
   "metadata": {
    "height": 30
   },
   "outputs": [],
   "source": [
    "dataset = get_dataset(args, make_question)"
   ]
  },
  {
   "cell_type": "code",
   "execution_count": 35,
   "id": "08205a44-2b1d-417a-9748-d5b5754ac3b9",
   "metadata": {
    "height": 30
   },
   "outputs": [],
   "source": [
    "finetune_args = get_default_finetune_args()"
   ]
  },
  {
   "cell_type": "markdown",
   "id": "c4e9764f-3a48-478e-9ff7-1c9b2ef5f854",
   "metadata": {},
   "source": [
    "This fine tuning step takes about 30 mintues to complete. The dispatch to run on the lamini services is commented out and the pre-computed final results of the run are provided below. You can uncomment and run if you have modified data on your own."
   ]
  },
  {
   "cell_type": "code",
   "execution_count": 36,
   "id": "365bca3a-f63c-40f9-b872-7811d8cb6323",
   "metadata": {
    "height": 98
   },
   "outputs": [],
   "source": [
    "#llm.train(\n",
    "#    data_or_dataset_id=dataset,\n",
    "#    finetune_args=finetune_args,\n",
    "#    is_public=True,  # For sharing\n",
    "#)"
   ]
  },
  {
   "cell_type": "markdown",
   "id": "fd74fb8d-7323-4b84-9da5-72c62ce159ee",
   "metadata": {},
   "source": [
    "We can examine this pre-computed finetuning result."
   ]
  },
  {
   "cell_type": "code",
   "execution_count": 37,
   "id": "b5c75f6d-98ce-4b2d-a888-2b8a7f24ce10",
   "metadata": {
    "height": 30
   },
   "outputs": [],
   "source": [
    "llm = lamini.Lamini(model_name=\"a5ebf1c4879569101f32444afae5adcafbfce9c5a6ed13035fd892147f7d59bc\")"
   ]
  },
  {
   "cell_type": "code",
   "execution_count": 38,
   "id": "28440158-0f30-4372-9ee4-ebea8786382e",
   "metadata": {
    "height": 132
   },
   "outputs": [
    {
     "name": "stdout",
     "output_type": "stream",
     "text": [
      "Question:\n",
      " Who is the highest paid NBA player?\n"
     ]
    }
   ],
   "source": [
    "question = \"\"\"Who is the highest paid NBA player?\"\"\"\n",
    "system = f\"\"\"You are an NBA analyst with 15 years of experience writing complex SQL queries. Consider the nba_roster table with the following schema:\n",
    "{get_schema()}\n",
    "\n",
    "Write a sqlite query to answer the following question. Follow instructions exactly\"\"\"\n",
    "prompt = make_llama_3_prompt(question, system)\n",
    "print(\"Question:\\n\", question)"
   ]
  },
  {
   "cell_type": "code",
   "execution_count": 39,
   "id": "d9be7072-ddc5-4867-a507-09410d955d1e",
   "metadata": {
    "height": 47
   },
   "outputs": [
    {
     "name": "stdout",
     "output_type": "stream",
     "text": [
      "Answer:\n",
      "select salary, name from nba_roster where SALARY!= '--' ORDER BY CAST(REPLACE(REPLACE(SALARY, '$', ''), ',','') AS INTEGER) DESC LIMIT 1\n"
     ]
    }
   ],
   "source": [
    "print(\"Answer:\")\n",
    "print(llm.generate(prompt, max_new_tokens=200))"
   ]
  },
  {
   "cell_type": "code",
   "execution_count": 40,
   "id": "51b28fdd-24fb-4cd5-bb02-7bed9683596b",
   "metadata": {
    "height": 64
   },
   "outputs": [
    {
     "name": "stdout",
     "output_type": "stream",
     "text": [
      "        SALARY           NAME\n",
      "0  $51,915,615  Stephen Curry\n"
     ]
    }
   ],
   "source": [
    "query=\"SELECT salary, name FROM nba_roster WHERE salary != '--' ORDER BY CAST(REPLACE(REPLACE(salary, '$', ''), ',','') AS INTEGER) DESC LIMIT 1;\"\n",
    "df = pd.read_sql(query, con=engine)\n",
    "print(df)"
   ]
  },
  {
   "cell_type": "markdown",
   "id": "d591a200-1c34-4f75-a464-fb8eae73b151",
   "metadata": {},
   "source": [
    "Now lets run an evaluation over the eval dataset. Load code from lesson 3."
   ]
  },
  {
   "cell_type": "code",
   "execution_count": 41,
   "id": "82562369-f5a7-48ae-b67f-89f63aba33dd",
   "metadata": {
    "height": 4144
   },
   "outputs": [],
   "source": [
    "# Collapsible or utils from Lesson 3 Lab for evaluation\n",
    "class QueryStage(GenerationNode):\n",
    "    def __init__(self, model_name):\n",
    "        super().__init__(\n",
    "            model_name=model_name,\n",
    "            max_new_tokens=300,\n",
    "        )\n",
    "\n",
    "    def generate(\n",
    "        self,\n",
    "        prompt: Union[Iterator[PromptObject], AsyncIterator[PromptObject]],\n",
    "        *args,\n",
    "        **kwargs,\n",
    "    ):\n",
    "        results = super().generate(\n",
    "            prompt,\n",
    "            output_type={\"sqlite_query\": \"str\"},\n",
    "            *args,\n",
    "            **kwargs,\n",
    "        )\n",
    "        return results\n",
    "\n",
    "\n",
    "    def postprocess(self, obj: PromptObject):\n",
    "        # Run both the generated and reference (Gold Dataset) SQL queries\n",
    "        # Assessing whether the SQL queries succeeded in hitting the database (not correctness yet!)\n",
    "        \n",
    "        query_succeeded = False\n",
    "\n",
    "        try:\n",
    "            logger.info(f\"Running SQL query '{obj.response['sqlite_query']}'\")\n",
    "            obj.data[\"generated_query\"] = obj.response[\"sqlite_query\"]\n",
    "            df = pd.read_sql(obj.response[\"sqlite_query\"], con=engine)\n",
    "            obj.data['df'] = df\n",
    "            logger.info(f\"Got data: {df}\")\n",
    "            query_succeeded = True\n",
    "\n",
    "        except Exception as e:\n",
    "            logger.error(\n",
    "                f\"Failed to run SQL query: {obj.response['sqlite_query']}\"\n",
    "            )\n",
    "\n",
    "        logger.info(f\"Running reference SQL query '{obj.data['sql']}'\")\n",
    "        df = pd.read_sql(obj.data[\"sql\"], con=engine)\n",
    "        logger.info(f\"Got data: {df}\")\n",
    "        obj.data['reference_df'] = df\n",
    "\n",
    "        logger.info(f\"For question: {obj.data['question']}\")\n",
    "        logger.info(f\"For query: {obj.response['sqlite_query']}\")\n",
    "\n",
    "        obj.data[\"query_succeeded\"] = query_succeeded\n",
    "\n",
    "    def preprocess(self, obj: PromptObject):\n",
    "        new_prompt = make_llama_3_prompt(**self.make_prompt(obj.data))\n",
    "        obj.prompt = new_prompt\n",
    "\n",
    "    def make_prompt(self, data: dict):\n",
    "        system = \"You are an NBA analyst with 15 years of experience writing complex SQL queries.\\n\"\n",
    "        system += \"Consider the nba_roster table with the following schema:\\n\"\n",
    "        system += get_schema() + \"\\n\"\n",
    "        system += (\n",
    "            \"Write a sqlite SQL query that would help you answer the following question. Make sure each query ends with a semicolon:\\n\"\n",
    "        )\n",
    "        user = data[\"question\"]\n",
    "        return {\n",
    "            \"user\": user,\n",
    "            \"system\": system,\n",
    "        }\n",
    "    \n",
    "class ScoreStage(GenerationNode):\n",
    "    def __init__(self):\n",
    "        super().__init__(\n",
    "            model_name=\"meta-llama/Meta-Llama-3-8B-Instruct\",\n",
    "            max_new_tokens=150,\n",
    "        )\n",
    "\n",
    "    def generate(\n",
    "        self,\n",
    "        prompt: Union[Iterator[PromptObject], AsyncIterator[PromptObject]],\n",
    "        *args,\n",
    "        **kwargs,\n",
    "    ):\n",
    "        results = super().generate(\n",
    "            prompt,\n",
    "            output_type={\"explanation\": \"str\", \"similar\": [\"true\", \"false\"]},\n",
    "            *args,\n",
    "            **kwargs,\n",
    "        )\n",
    "        return results\n",
    "\n",
    "    def preprocess(self, obj: PromptObject):\n",
    "        obj.prompt = make_llama_3_prompt(**self.make_prompt(obj))\n",
    "        logger.info(f\"Scoring Stage Prompt:\\n{obj.prompt}\")\n",
    "\n",
    "    def postprocess(self, obj: PromptObject):\n",
    "        obj.data['is_matching'] = self.is_matching(obj.data, obj.response)\n",
    "        obj.data['explanation'] = obj.response[\"explanation\"]\n",
    "        obj.data['similar'] = obj.response[\"similar\"] == \"true\"\n",
    "\n",
    "    def is_matching(self, data, response):\n",
    "        return (str(data.get('df',\"None\")).lower() == str(data['reference_df']).lower() \n",
    "                or response['similar'] == \"true\")\n",
    "\n",
    "    def make_prompt(self, obj: PromptObject):\n",
    "        # Your evaluation model compares SQL output from the generated and reference SQL queries, using another LLM in the pipeline\n",
    "        '''\n",
    "        Note:\n",
    "        Prompt tuning is important! \n",
    "        A previous iteration of this scoring pipeline said `Compare the following two dataframes to see if they are identical`.\n",
    "        That prompt turned out to be too stringent of criteria.\n",
    "        '''\n",
    "        system_prompt = \"Compare the following two dataframes. They are similar if they are almost identical, or if they convey the same information about the nba_roster dataset\"\n",
    "        system_prompt += \"Respond with valid JSON {'explanation' : str, 'similar' : bool}\"\n",
    "        user_prompt = (\n",
    "            f\"========== Dataframe 1 =========\\n{str(obj.data.get('df','None')).lower()}\\n\\n\"\n",
    "        )\n",
    "        user_prompt += (\n",
    "            f\"========== Dataframe 2 =========\\n{str(obj.data['reference_df']).lower()}\\n\\n\"\n",
    "        )\n",
    "        user_prompt += f\"Can you tell me if these dataframes are similar?\"\n",
    "        return {\n",
    "            \"system\": system_prompt,\n",
    "            \"user\": user_prompt\n",
    "        }\n",
    "    \n",
    "async def run_eval(dataset, args):\n",
    "\n",
    "    results = await run_evaluation_pipeline(dataset, args)\n",
    "\n",
    "    print(\"Total results:\", len(results))\n",
    "\n",
    "    return results\n",
    "\n",
    "\n",
    "async def run_evaluation_pipeline(dataset, args):\n",
    "    results = EvaluationPipeline(args).call(dataset)\n",
    "\n",
    "    result_list = []\n",
    "\n",
    "    pbar = tqdm(desc=\"Saving results\", unit=\" results\")\n",
    "    async for result in results:\n",
    "        result_list.append(result)\n",
    "        pbar.update()\n",
    "    return result_list\n",
    "\n",
    "\n",
    "class EvaluationPipeline(GenerationPipeline):\n",
    "    def __init__(self, args):\n",
    "        super().__init__()\n",
    "        self.query_stage = QueryStage(args.sql_model_name)\n",
    "        self.score_stage = ScoreStage()\n",
    "\n",
    "\n",
    "    def forward(self, x):\n",
    "        x = self.query_stage(x)\n",
    "        x = self.score_stage(x)\n",
    "        return x\n",
    "    \n",
    "def load_gold_dataset(args):\n",
    "    path = f\"data/{args.gold_file_name}\"\n",
    "\n",
    "    with jsonlines.open(path) as reader:\n",
    "        for index, obj in enumerate(reversed(list(reader))):\n",
    "            if index >= args.max_examples:\n",
    "                break\n",
    "            yield PromptObject(prompt=\"\", data=obj)\n",
    "\n",
    "def save_eval_results(results, args):\n",
    "    base_path = \"./data/results\"\n",
    "    now = datetime.now().strftime(\"%Y_%m_%d_%H_%M_%S\")\n",
    "    experiment_name = f\"nba_sql_pipeline_{now}\"\n",
    "    experiment_dir = os.path.join(base_path, experiment_name)\n",
    "    os.makedirs(os.path.join(base_path, experiment_name))\n",
    "\n",
    "    # Write args to file\n",
    "    args_file_name = f\"{experiment_dir}/args.txt\"\n",
    "    with open(args_file_name, \"w\") as writer:\n",
    "        pprint(args.__dict__, writer)\n",
    "\n",
    "\n",
    "    def is_correct(r):\n",
    "        if (\n",
    "            (result.data[\"query_succeeded\"] and result.data['is_matching']) or \n",
    "            result.data[\"generated_query\"] == result.data['sql']\n",
    "        ):\n",
    "            return True\n",
    "        return False\n",
    "\n",
    "    # Write sql results and errors to file\n",
    "    results_file_name = f\"{experiment_dir}/sql_results.jsonl\"\n",
    "    with jsonlines.open(results_file_name, \"w\") as writer:\n",
    "        for result in results:\n",
    "            if not is_correct(result):\n",
    "                continue\n",
    "            writer.write(\n",
    "                {\n",
    "                    \"question\": result.data['question'],\n",
    "                    \"query\": result.data[\"generated_query\"],\n",
    "                    \"query_succeeded\": result.data[\"query_succeeded\"],\n",
    "                    \"reference_sql\": result.data['sql'],\n",
    "                    \"df\": str(result.data.get('df', 'None')),\n",
    "                    \"reference_df\": str(result.data['reference_df']),\n",
    "                    'is_matching': result.data['is_matching'],\n",
    "                    'similar': result.data['similar'],\n",
    "                }\n",
    "            )\n",
    "\n",
    "    results_file_name = f\"{experiment_dir}/sql_errors.jsonl\"\n",
    "    with jsonlines.open(results_file_name, \"w\") as writer:\n",
    "        for result in results:\n",
    "            if is_correct(result):\n",
    "                continue\n",
    "            writer.write(\n",
    "                {\n",
    "                    \"question\": result.data['question'],\n",
    "                    \"query\": result.data[\"generated_query\"],\n",
    "                    \"query_succeeded\": result.data[\"query_succeeded\"],\n",
    "                    \"df\": str(result.data.get('df', 'None')),\n",
    "                    \"reference_df\": str(result.data['reference_df']),\n",
    "                    'is_matching': result.data['is_matching'],\n",
    "                    'similar': result.data['similar'],\n",
    "                }\n",
    "            )\n",
    "\n",
    "    # Write statistics to file\n",
    "    average_sql_succeeded = sum(\n",
    "        [result.data[\"query_succeeded\"] for result in results]\n",
    "    ) / len(results)\n",
    "    average_correct = sum(\n",
    "        [result.data[\"query_succeeded\"] and result.data['is_matching'] for result in results]\n",
    "    ) / len(results)\n",
    "\n",
    "    file_name = f\"{experiment_dir}/summary.txt\"\n",
    "    with open(file_name, \"w\") as writer:\n",
    "        print(f\"Total size of eval dataset: {len(results)}\", file=writer)\n",
    "        print(f\"Total size of eval dataset: {len(results)}\")\n",
    "        print(f\"Percent Valid SQL Syntax: {average_sql_succeeded*100}\", file=writer)\n",
    "        print(f\"Percent Valid SQL Syntax: {average_sql_succeeded*100}\")\n",
    "        print(f\"Percent Correct SQL Query: {average_correct*100}\", file=writer)\n",
    "        print(f\"Percent Correct SQL Query: {average_correct*100}\")\n",
    "\n",
    "\n"
   ]
  },
  {
   "cell_type": "markdown",
   "id": "ac31bfbe-8666-465d-b329-510fb229cd50",
   "metadata": {},
   "source": [
    "Run the evaluation and you can see there is more valid SQL and correct queries."
   ]
  },
  {
   "cell_type": "code",
   "execution_count": 42,
   "id": "42dcbbe5-d803-449d-b662-c832e4838dcd",
   "metadata": {
    "height": 81
   },
   "outputs": [
    {
     "name": "stderr",
     "output_type": "stream",
     "text": [
      "Saving results: 11 results [01:30,  6.04s/ results]2024-09-14 02:05:30,214 [ERROR] Failed to run SQL query: SELECT AVG(CAST(SUBSTR(WT, 1, INSTR(WT,' ')) as INTEGER) FROM nba_roster WHERE WT!= 'NA')\n",
      "Saving results: 20 results [01:45,  5.30s/ results]"
     ]
    },
    {
     "name": "stdout",
     "output_type": "stream",
     "text": [
      "Total results: 20\n",
      "Total size of eval dataset: 20\n",
      "Percent Valid SQL Syntax: 95.0\n",
      "Percent Correct SQL Query: 65.0\n"
     ]
    },
    {
     "name": "stderr",
     "output_type": "stream",
     "text": [
      "\n"
     ]
    }
   ],
   "source": [
    "args = Args(sql_model_name=\"a5ebf1c4879569101f32444afae5adcafbfce9c5a6ed13035fd892147f7d59bc\")\n",
    "dataset = load_gold_dataset(args)\n",
    "results = await run_eval(dataset, args)\n",
    "save_eval_results(results, args)"
   ]
  },
  {
   "cell_type": "markdown",
   "id": "4001144e-14b0-4573-a61f-ca8af167aafe",
   "metadata": {},
   "source": [
    "### Iteration 2\n",
    "Examine remaining errors."
   ]
  },
  {
   "cell_type": "code",
   "execution_count": 43,
   "id": "274e3b45-c0d3-4f08-94d1-333a239fa963",
   "metadata": {
    "height": 30
   },
   "outputs": [
    {
     "name": "stdout",
     "output_type": "stream",
     "text": [
      "{\"question\": \"What is the median weight in the NBA?\", \"query\": \"SELECT AVG(CAST(SUBSTR(WT, 1, INSTR(WT,' ')) as INTEGER) FROM nba_roster WHERE WT!= 'NA') as median\", \"query_succeeded\": false, \"df\": \"None\", \"reference_df\": \"   percentile\\n0         215\", \"is_matching\": false, \"similar\": false}\r\n",
      "{\"question\": \"What is the 25th percentile salary in the NBA?\", \"query\": \"SELECT (CAST(REPLACE(REPLACE(SALARY, '$', ''), ',','') AS INTEGER)) as salary FROM nba_roster WHERE SALARY!= '--' ORDER BY salary LIMIT 1 OFFSET (SELECT COUNT(*) FROM nba_roster WHERE SALARY!= '--')*25/100;\", \"query_succeeded\": true, \"df\": \"    salary\\n0  2413320\", \"reference_df\": \"   percentile\\n0     2413304\", \"is_matching\": false, \"similar\": false}\r\n",
      "{\"question\": \"What is the 75th percentile salary in the NBA?\", \"query\": \"SELECT (CAST(REPLACE(REPLACE(SALARY, '$', ''), ',','') AS INTEGER)) as salary FROM nba_roster WHERE SALARY!= '--' ORDER BY salary DESC LIMIT 1 OFFSET (SELECT COUNT(*) FROM nba_roster WHERE SALARY!= '--')*75/100-1\", \"query_succeeded\": true, \"df\": \"    salary\\n0  2421720\", \"reference_df\": \"   percentile\\n0    13932008\", \"is_matching\": false, \"similar\": false}\r\n",
      "{\"question\": \"What is the 99th percentile salary in the NBA?\", \"query\": \"SELECT (CAST(REPLACE(REPLACE(SALARY, '$', ''), ',','') AS INTEGER)) as salary FROM nba_roster WHERE SALARY!= '--' ORDER BY salary DESC LIMIT 1 OFFSET (SELECT COUNT(*) FROM nba_roster WHERE SALARY!= '--')*99/100-1\", \"query_succeeded\": true, \"df\": \"    salary\\n0  1119563\", \"reference_df\": \"   percentile\\n0    46741590\", \"is_matching\": false, \"similar\": false}\r\n",
      "{\"question\": \"What is the average salary of Power Forward players in the NBA\", \"query\": \"SELECT AVG(CAST(REPLACE(REPLACE(SALARY, '$', ''), ',','') AS INTEGER)) as average_salary FROM nba_roster WHERE POS='PF' AND SALARY!= '--';\", \"query_succeeded\": true, \"df\": \"   average_salary\\n0    1.235565e+07\", \"reference_df\": \"   average_salary\\n0    1.094805e+07\", \"is_matching\": false, \"similar\": false}\r\n"
     ]
    }
   ],
   "source": [
    "!cat sql_errors_example.jsonl "
   ]
  },
  {
   "cell_type": "code",
   "execution_count": 44,
   "id": "c982f775-0c5a-43bb-b8df-3da2c99bfce6",
   "metadata": {
    "height": 30
   },
   "outputs": [
    {
     "name": "stdout",
     "output_type": "stream",
     "text": [
      "{\"question\": \"What is the 75th percentile salary in the NBA\", \"sql\": \"SELECT HT, AVG(WT) as avg_weight FROM nba_roster WHERE HT IS NOT NULL AND WT IS NOT NULL GROUP BY HT ORDER BY avg_weight DESC LIMIT 1\"}\r\n"
     ]
    }
   ],
   "source": [
    "!cat \"data/training_data/archive/generated_queries.jsonl\" | grep \"75th percentile\""
   ]
  },
  {
   "cell_type": "code",
   "execution_count": 45,
   "id": "c23090db-8dfd-4011-ac2b-777187f1687d",
   "metadata": {
    "height": 30
   },
   "outputs": [
    {
     "name": "stdout",
     "output_type": "stream",
     "text": [
      "{\"question\": \"What is the 75th percentile salary in the NBA\", \"sql\": \"SELECT HT, AVG(WT) as avg_weight FROM nba_roster WHERE HT IS NOT NULL AND WT IS NOT NULL GROUP BY HT ORDER BY avg_weight DESC LIMIT 1\"}\r\n",
      "{\"question\": \"What is the 75th percentile jersey number in the NBA\", \"sql\": \"SELECT CAST(Jersey AS INTEGER) as percentile FROM nba_roster ORDER BY CAST(Jersey AS INTEGER) LIMIT 1 OFFSET (SELECT COUNT(*) FROM nba_roster) * 0.75\"}\r\n",
      "{\"question\": \"What is the 75th percentile age of the NBA players\", \"sql\": \"SELECT CAST(AGE AS INTEGER) AS percentile FROM nba_roster ORDER BY percentile LIMIT 1 OFFSET (SELECT COUNT(*) FROM nba_roster) * 0.75\"}\r\n",
      "{\"question\": \"What is the 75th percentile salary in the NBA\", \"sql\": \"SELECT Team, COUNT(*) as Count, COLLEGE FROM nba_roster WHERE COLLEGE!= '--' GROUP BY Team, COLLEGE ORDER BY Count DESC;\"}\r\n"
     ]
    }
   ],
   "source": [
    "!cat \"data/training_data/archive/generated_queries_large.jsonl\" | grep \"75th percentile\""
   ]
  },
  {
   "cell_type": "markdown",
   "id": "8c69b695-afa2-41bc-9252-b62609371843",
   "metadata": {},
   "source": [
    "### Filtering the dataset\n",
    "Next step is filtering. Manually create functions to filter the test set."
   ]
  },
  {
   "cell_type": "code",
   "execution_count": 46,
   "id": "6d05f25e-a101-4718-99a9-0701c511869c",
   "metadata": {
    "height": 829
   },
   "outputs": [],
   "source": [
    "question_set = set()\n",
    "sql_set = set()\n",
    "\n",
    "def is_not_valid_sql(question, sql):\n",
    "    try:\n",
    "        df = pd.read_sql(sql, con=engine)\n",
    "        return False\n",
    "    except Exception as e:\n",
    "        return True\n",
    "\n",
    "def has_null_in_sql_or_question(question, sql):\n",
    "    return \"null\" in sql.lower() or \"null\" in question\n",
    "\n",
    "def returns_empty_dataframe(question, sql):\n",
    "    try:\n",
    "        df = pd.read_sql(sql, con=engine)\n",
    "        return \"Empty\" in str(df) or \"None\" in str(df)\n",
    "    except Exception as e:\n",
    "        return False\n",
    "    \n",
    "def uses_avg_on_ht_column(question, sql):\n",
    "    return \"avg(ht)\" in sql.lower() or \"avg(salary\" in sql.lower() \n",
    "\n",
    "filter_conditions = [is_not_valid_sql, has_null_in_sql_or_question, returns_empty_dataframe, uses_avg_on_ht_column]\n",
    "\n",
    "def training_semicolon(sql):\n",
    "    if sql.strip()[-1] != \";\":\n",
    "        return sql.strip() + \";\"\n",
    "    return sql\n",
    "\n",
    "with jsonlines.open(\"data/training_data/archive/generated_queries_large.jsonl\", \"r\") as reader:\n",
    "    with jsonlines.open(\"data/training_data/generated_queries_large_filtered.jsonl\", \"w\") as writer:\n",
    "        for r in reader:\n",
    "            if r[\"question\"] in question_set or r[\"sql\"] in sql_set:\n",
    "                continue\n",
    "            question_set.add(r[\"question\"])\n",
    "            sql_set.add(r[\"sql\"])\n",
    "            \n",
    "            if any(c(r['question'], r['sql']) for c in filter_conditions):\n",
    "                continue\n",
    "\n",
    "            sql = training_semicolon(r['sql'])\n",
    "            writer.write(\n",
    "                {\n",
    "                    \"question\": r[\"question\"],\n",
    "                    \"sql\": sql,\n",
    "                }\n",
    "            )"
   ]
  },
  {
   "cell_type": "markdown",
   "id": "fc2523e1-f4cd-471f-9ad9-a10defdfdaf3",
   "metadata": {},
   "source": [
    "Check the filtered dataset."
   ]
  },
  {
   "cell_type": "code",
   "execution_count": 47,
   "id": "cd89780e-e56a-4c7f-a2bf-37c58bb9ac7d",
   "metadata": {
    "height": 30
   },
   "outputs": [
    {
     "name": "stdout",
     "output_type": "stream",
     "text": [
      "{\"question\": \"What is the 75th percentile jersey number in the NBA\", \"sql\": \"SELECT CAST(Jersey AS INTEGER) as percentile FROM nba_roster ORDER BY CAST(Jersey AS INTEGER) LIMIT 1 OFFSET (SELECT COUNT(*) FROM nba_roster) * 0.75;\"}\r\n",
      "{\"question\": \"What is the 75th percentile age of the NBA players\", \"sql\": \"SELECT CAST(AGE AS INTEGER) AS percentile FROM nba_roster ORDER BY percentile LIMIT 1 OFFSET (SELECT COUNT(*) FROM nba_roster) * 0.75;\"}\r\n"
     ]
    }
   ],
   "source": [
    "!cat \"data/training_data/archive/generated_queries_large_filtered.jsonl\" | grep \"75th percentile\""
   ]
  },
  {
   "cell_type": "markdown",
   "id": "917ca743-6b74-437b-82f9-92df674192cf",
   "metadata": {},
   "source": [
    "Manually clean the dataset. This has been done for you."
   ]
  },
  {
   "cell_type": "code",
   "execution_count": 48,
   "id": "3c4d3387-b052-4473-9af7-9aa988a152af",
   "metadata": {
    "height": 30
   },
   "outputs": [
    {
     "name": "stdout",
     "output_type": "stream",
     "text": [
      "{\"question\": \"What is the 75th percentile salary in the NBA\", \"sql\": \"SELECT (SELECT CAST(REPLACE(REPLACE(SALARY, '$', ''), ',','') AS INTEGER) as percentile FROM nba_roster WHERE SALARY!= '--' ORDER BY percentile ASC LIMIT 1 OFFSET (SELECT COUNT(*) FROM nba_roster WHERE SALARY!= '--')*75/100-1) as seventy_fifth_percentile_salary;\"}\r\n",
      "{\"question\": \"What is the height of the 75th percentile of NBA players\", \"sql\": \"SELECT CAST(SUBSTR(HT, 1, INSTR(HT,' ')-1) AS INTEGER)+ CAST(SUBSTR(HT, INSTR(HT,' ')+1) AS FLOAT)/12 as percentile from nba_roster order by percentile limit 1 offset (SELECT COUNT(*) FROM nba_roster)*0.75;\"}\r\n"
     ]
    }
   ],
   "source": [
    "!cat \"data/training_data/archive/generated_queries_large_filtered_cleaned.jsonl\" | grep \"75th percentile\""
   ]
  },
  {
   "cell_type": "markdown",
   "id": "1ebbc867-0556-45be-af81-6ec87bcd7dd7",
   "metadata": {},
   "source": [
    "Look at some other errors in the dataset."
   ]
  },
  {
   "cell_type": "markdown",
   "id": "8614fb03-72ac-4d4b-b256-e9f884aff165",
   "metadata": {},
   "source": [
    "> The following cell is expected to create an error"
   ]
  },
  {
   "cell_type": "code",
   "execution_count": 49,
   "id": "415acb2d-efc4-4ea1-a35d-ff8d4029db12",
   "metadata": {
    "height": 30
   },
   "outputs": [
    {
     "ename": "DatabaseError",
     "evalue": "Execution failed on sql 'SELECT AVG(CAST(SUBSTR(WT, 1, INSTR(WT,' ')) as INTEGER) FROM nba_roster WHERE WT!= 'NA') as median': near \"FROM\": syntax error",
     "output_type": "error",
     "traceback": [
      "\u001b[0;31m---------------------------------------------------------------------------\u001b[0m",
      "\u001b[0;31mOperationalError\u001b[0m                          Traceback (most recent call last)",
      "File \u001b[0;32m/usr/local/lib/python3.11/site-packages/pandas/io/sql.py:2674\u001b[0m, in \u001b[0;36mSQLiteDatabase.execute\u001b[0;34m(self, sql, params)\u001b[0m\n\u001b[1;32m   2673\u001b[0m \u001b[38;5;28;01mtry\u001b[39;00m:\n\u001b[0;32m-> 2674\u001b[0m     \u001b[43mcur\u001b[49m\u001b[38;5;241;43m.\u001b[39;49m\u001b[43mexecute\u001b[49m\u001b[43m(\u001b[49m\u001b[43msql\u001b[49m\u001b[43m,\u001b[49m\u001b[43m \u001b[49m\u001b[38;5;241;43m*\u001b[39;49m\u001b[43margs\u001b[49m\u001b[43m)\u001b[49m\n\u001b[1;32m   2675\u001b[0m     \u001b[38;5;28;01mreturn\u001b[39;00m cur\n",
      "\u001b[0;31mOperationalError\u001b[0m: near \"FROM\": syntax error",
      "\nThe above exception was the direct cause of the following exception:\n",
      "\u001b[0;31mDatabaseError\u001b[0m                             Traceback (most recent call last)",
      "Cell \u001b[0;32mIn[49], line 1\u001b[0m\n\u001b[0;32m----> 1\u001b[0m df \u001b[38;5;241m=\u001b[39m \u001b[43mpd\u001b[49m\u001b[38;5;241;43m.\u001b[39;49m\u001b[43mread_sql\u001b[49m\u001b[43m(\u001b[49m\u001b[38;5;124;43m\"\u001b[39;49m\u001b[38;5;124;43mSELECT AVG(CAST(SUBSTR(WT, 1, INSTR(WT,\u001b[39;49m\u001b[38;5;124;43m'\u001b[39;49m\u001b[38;5;124;43m \u001b[39;49m\u001b[38;5;124;43m'\u001b[39;49m\u001b[38;5;124;43m)) as INTEGER) FROM nba_roster WHERE WT!= \u001b[39;49m\u001b[38;5;124;43m'\u001b[39;49m\u001b[38;5;124;43mNA\u001b[39;49m\u001b[38;5;124;43m'\u001b[39;49m\u001b[38;5;124;43m) as median\u001b[39;49m\u001b[38;5;124;43m\"\u001b[39;49m\u001b[43m,\u001b[49m\u001b[43m \u001b[49m\u001b[43mcon\u001b[49m\u001b[38;5;241;43m=\u001b[39;49m\u001b[43mengine\u001b[49m\u001b[43m)\u001b[49m\n",
      "File \u001b[0;32m/usr/local/lib/python3.11/site-packages/pandas/io/sql.py:706\u001b[0m, in \u001b[0;36mread_sql\u001b[0;34m(sql, con, index_col, coerce_float, params, parse_dates, columns, chunksize, dtype_backend, dtype)\u001b[0m\n\u001b[1;32m    704\u001b[0m \u001b[38;5;28;01mwith\u001b[39;00m pandasSQL_builder(con) \u001b[38;5;28;01mas\u001b[39;00m pandas_sql:\n\u001b[1;32m    705\u001b[0m     \u001b[38;5;28;01mif\u001b[39;00m \u001b[38;5;28misinstance\u001b[39m(pandas_sql, SQLiteDatabase):\n\u001b[0;32m--> 706\u001b[0m         \u001b[38;5;28;01mreturn\u001b[39;00m \u001b[43mpandas_sql\u001b[49m\u001b[38;5;241;43m.\u001b[39;49m\u001b[43mread_query\u001b[49m\u001b[43m(\u001b[49m\n\u001b[1;32m    707\u001b[0m \u001b[43m            \u001b[49m\u001b[43msql\u001b[49m\u001b[43m,\u001b[49m\n\u001b[1;32m    708\u001b[0m \u001b[43m            \u001b[49m\u001b[43mindex_col\u001b[49m\u001b[38;5;241;43m=\u001b[39;49m\u001b[43mindex_col\u001b[49m\u001b[43m,\u001b[49m\n\u001b[1;32m    709\u001b[0m \u001b[43m            \u001b[49m\u001b[43mparams\u001b[49m\u001b[38;5;241;43m=\u001b[39;49m\u001b[43mparams\u001b[49m\u001b[43m,\u001b[49m\n\u001b[1;32m    710\u001b[0m \u001b[43m            \u001b[49m\u001b[43mcoerce_float\u001b[49m\u001b[38;5;241;43m=\u001b[39;49m\u001b[43mcoerce_float\u001b[49m\u001b[43m,\u001b[49m\n\u001b[1;32m    711\u001b[0m \u001b[43m            \u001b[49m\u001b[43mparse_dates\u001b[49m\u001b[38;5;241;43m=\u001b[39;49m\u001b[43mparse_dates\u001b[49m\u001b[43m,\u001b[49m\n\u001b[1;32m    712\u001b[0m \u001b[43m            \u001b[49m\u001b[43mchunksize\u001b[49m\u001b[38;5;241;43m=\u001b[39;49m\u001b[43mchunksize\u001b[49m\u001b[43m,\u001b[49m\n\u001b[1;32m    713\u001b[0m \u001b[43m            \u001b[49m\u001b[43mdtype_backend\u001b[49m\u001b[38;5;241;43m=\u001b[39;49m\u001b[43mdtype_backend\u001b[49m\u001b[43m,\u001b[49m\n\u001b[1;32m    714\u001b[0m \u001b[43m            \u001b[49m\u001b[43mdtype\u001b[49m\u001b[38;5;241;43m=\u001b[39;49m\u001b[43mdtype\u001b[49m\u001b[43m,\u001b[49m\n\u001b[1;32m    715\u001b[0m \u001b[43m        \u001b[49m\u001b[43m)\u001b[49m\n\u001b[1;32m    717\u001b[0m     \u001b[38;5;28;01mtry\u001b[39;00m:\n\u001b[1;32m    718\u001b[0m         _is_table_name \u001b[38;5;241m=\u001b[39m pandas_sql\u001b[38;5;241m.\u001b[39mhas_table(sql)\n",
      "File \u001b[0;32m/usr/local/lib/python3.11/site-packages/pandas/io/sql.py:2738\u001b[0m, in \u001b[0;36mSQLiteDatabase.read_query\u001b[0;34m(self, sql, index_col, coerce_float, parse_dates, params, chunksize, dtype, dtype_backend)\u001b[0m\n\u001b[1;32m   2727\u001b[0m \u001b[38;5;28;01mdef\u001b[39;00m \u001b[38;5;21mread_query\u001b[39m(\n\u001b[1;32m   2728\u001b[0m     \u001b[38;5;28mself\u001b[39m,\n\u001b[1;32m   2729\u001b[0m     sql,\n\u001b[0;32m   (...)\u001b[0m\n\u001b[1;32m   2736\u001b[0m     dtype_backend: DtypeBackend \u001b[38;5;241m|\u001b[39m Literal[\u001b[38;5;124m\"\u001b[39m\u001b[38;5;124mnumpy\u001b[39m\u001b[38;5;124m\"\u001b[39m] \u001b[38;5;241m=\u001b[39m \u001b[38;5;124m\"\u001b[39m\u001b[38;5;124mnumpy\u001b[39m\u001b[38;5;124m\"\u001b[39m,\n\u001b[1;32m   2737\u001b[0m ) \u001b[38;5;241m-\u001b[39m\u001b[38;5;241m>\u001b[39m DataFrame \u001b[38;5;241m|\u001b[39m Iterator[DataFrame]:\n\u001b[0;32m-> 2738\u001b[0m     cursor \u001b[38;5;241m=\u001b[39m \u001b[38;5;28;43mself\u001b[39;49m\u001b[38;5;241;43m.\u001b[39;49m\u001b[43mexecute\u001b[49m\u001b[43m(\u001b[49m\u001b[43msql\u001b[49m\u001b[43m,\u001b[49m\u001b[43m \u001b[49m\u001b[43mparams\u001b[49m\u001b[43m)\u001b[49m\n\u001b[1;32m   2739\u001b[0m     columns \u001b[38;5;241m=\u001b[39m [col_desc[\u001b[38;5;241m0\u001b[39m] \u001b[38;5;28;01mfor\u001b[39;00m col_desc \u001b[38;5;129;01min\u001b[39;00m cursor\u001b[38;5;241m.\u001b[39mdescription]\n\u001b[1;32m   2741\u001b[0m     \u001b[38;5;28;01mif\u001b[39;00m chunksize \u001b[38;5;129;01mis\u001b[39;00m \u001b[38;5;129;01mnot\u001b[39;00m \u001b[38;5;28;01mNone\u001b[39;00m:\n",
      "File \u001b[0;32m/usr/local/lib/python3.11/site-packages/pandas/io/sql.py:2686\u001b[0m, in \u001b[0;36mSQLiteDatabase.execute\u001b[0;34m(self, sql, params)\u001b[0m\n\u001b[1;32m   2683\u001b[0m     \u001b[38;5;28;01mraise\u001b[39;00m ex \u001b[38;5;28;01mfrom\u001b[39;00m \u001b[38;5;21;01minner_exc\u001b[39;00m\n\u001b[1;32m   2685\u001b[0m ex \u001b[38;5;241m=\u001b[39m DatabaseError(\u001b[38;5;124mf\u001b[39m\u001b[38;5;124m\"\u001b[39m\u001b[38;5;124mExecution failed on sql \u001b[39m\u001b[38;5;124m'\u001b[39m\u001b[38;5;132;01m{\u001b[39;00msql\u001b[38;5;132;01m}\u001b[39;00m\u001b[38;5;124m'\u001b[39m\u001b[38;5;124m: \u001b[39m\u001b[38;5;132;01m{\u001b[39;00mexc\u001b[38;5;132;01m}\u001b[39;00m\u001b[38;5;124m\"\u001b[39m)\n\u001b[0;32m-> 2686\u001b[0m \u001b[38;5;28;01mraise\u001b[39;00m ex \u001b[38;5;28;01mfrom\u001b[39;00m \u001b[38;5;21;01mexc\u001b[39;00m\n",
      "\u001b[0;31mDatabaseError\u001b[0m: Execution failed on sql 'SELECT AVG(CAST(SUBSTR(WT, 1, INSTR(WT,' ')) as INTEGER) FROM nba_roster WHERE WT!= 'NA') as median': near \"FROM\": syntax error"
     ]
    }
   ],
   "source": [
    "df = pd.read_sql(\"SELECT AVG(CAST(SUBSTR(WT, 1, INSTR(WT,' ')) as INTEGER) FROM nba_roster WHERE WT!= 'NA') as median\", con=engine)"
   ]
  },
  {
   "cell_type": "code",
   "execution_count": 50,
   "id": "3e5a3b63-bb61-4408-a511-e3fb0be191a1",
   "metadata": {
    "height": 30
   },
   "outputs": [
    {
     "name": "stdout",
     "output_type": "stream",
     "text": [
      "{\"question\": \"What is the median weight in the NBA\", \"sql\": \"SELECT COLLEGE, COUNT(*) as count FROM nba_roster WHERE COLLEGE!= '--' GROUP BY COLLEGE ORDER BY count DESC LIMIT 1\"}\r\n",
      "{\"question\": \"What is the median weight in the NBA\", \"sql\": \"SELECT COLLEGE, COUNT(*) as count FROM nba_roster WHERE COLLEGE!= '--' GROUP BY COLLEGE ORDER BY count DESC LIMIT 1\"}\r\n"
     ]
    }
   ],
   "source": [
    "!cat \"data/training_data/archive/generated_queries.jsonl\" | grep \"median weight\""
   ]
  },
  {
   "cell_type": "code",
   "execution_count": 51,
   "id": "943d3442-f951-4975-a3b9-3d520b4b6c32",
   "metadata": {
    "height": 47
   },
   "outputs": [
    {
     "name": "stdout",
     "output_type": "stream",
     "text": [
      "    COLLEGE  count\n",
      "0  Kentucky     28\n"
     ]
    }
   ],
   "source": [
    "df = pd.read_sql(\"SELECT COLLEGE, COUNT(*) as count FROM nba_roster WHERE COLLEGE!= '--' GROUP BY COLLEGE ORDER BY count DESC LIMIT 1\", con=engine)\n",
    "print(df)"
   ]
  },
  {
   "cell_type": "markdown",
   "id": "144ecd4c-77b1-42e0-acc8-456e7ab07627",
   "metadata": {},
   "source": [
    "Add more examples of median weight queries. (Done for you)."
   ]
  },
  {
   "cell_type": "code",
   "execution_count": 52,
   "id": "5b8d20db-8734-464b-8a16-f7e3799219ee",
   "metadata": {
    "height": 30
   },
   "outputs": [
    {
     "name": "stdout",
     "output_type": "stream",
     "text": [
      "{\"question\": \"What is the median weight in the NBA\", \"sql\": \"select CAST(SUBSTR(WT, 1, INSTR(WT,' ')) as INTEGER) as percentile from nba_roster order by percentile limit 1 offset (select count(*) from nba_roster)/2;\"}\r\n"
     ]
    }
   ],
   "source": [
    "!cat \"data/training_data/archive/generated_queries_large_filtered_cleaned.jsonl\" | grep \"median weight\""
   ]
  },
  {
   "cell_type": "code",
   "execution_count": 53,
   "id": "a3f0aabe-68bc-49e6-9320-a7c2c9eb303a",
   "metadata": {
    "height": 30
   },
   "outputs": [
    {
     "name": "stdout",
     "output_type": "stream",
     "text": [
      "{\"question\": \"What is the median weight in the NBA\", \"sql\": \"select CAST(SUBSTR(WT, 1, INSTR(WT,' ')) as INTEGER) as percentile from nba_roster order by percentile limit 1 offset (select count(*) from nba_roster)/2;\"}\r\n",
      "{\"question\": \"What is the median height in the NBA\", \"sql\": \"select CAST(SUBSTR(HT, 1, INSTR(HT,' ')-1) AS INTEGER)+ CAST(SUBSTR(HT, INSTR(HT,' ')+1) AS FLOAT)/12 as percentile from nba_roster order by percentile limit 1 offset (select count(*) from nba_roster)/2;\"}\r\n",
      "{\"question\": \"What's the median age of the NBA\", \"sql\": \"select CAST(AGE as INTEGER) as percentile from nba_roster order by percentile limit 1 offset (select count(*) from nba_roster)/2;\"}\r\n",
      "{\"question\": \"What's the median age of the Miami Heat\", \"sql\": \"select CAST(AGE as INTEGER) as percentile from nba_roster where team='Miami Heat' order by percentile limit 1 offset (select count(*) from nba_roster where team='Miami Heat')/2;\"}\r\n"
     ]
    }
   ],
   "source": [
    "!cat \"data/training_data/archive/generated_queries_large_filtered_cleaned.jsonl\" | grep \"median\""
   ]
  },
  {
   "cell_type": "code",
   "execution_count": 54,
   "id": "38dfdbc7-ee76-4e43-9a46-efddfd055aa5",
   "metadata": {
    "height": 47
   },
   "outputs": [],
   "source": [
    "# Model tuned on `archive/generated_queries_large_filtered_cleaned.jsonl`\n",
    "llm = lamini.Lamini(model_name=\"63fd73a775daf24216b46c680a1e963a8d1e02b21bca43fcea6c26737d2e887e\")"
   ]
  },
  {
   "cell_type": "code",
   "execution_count": 55,
   "id": "cc704335-2c00-4895-a6c9-66b540a49189",
   "metadata": {
    "height": 200
   },
   "outputs": [
    {
     "name": "stdout",
     "output_type": "stream",
     "text": [
      "Question:\n",
      " What is the median age of the Chicago Bulls?\n",
      "Answer:\n",
      "SELECT CAST(AGE AS INTEGER) AS percentile FROM nba_roster WHERE team='Chicago Bulls' ORDER BY percentile LIMIT 1 OFFSET (SELECT COUNT(*) FROM nba_roster WHERE team='Chicago Bulls')/2;\n"
     ]
    }
   ],
   "source": [
    "question = \"\"\"What is the median age of the Chicago Bulls?\"\"\"\n",
    "system = f\"\"\"You are an NBA analyst with 15 years of experience writing complex SQL queries. Consider the nba_roster table with the following schema:\n",
    "{get_schema()}\n",
    "\n",
    "Write a sqlite query to answer the following question. Follow instructions exactly\"\"\"\n",
    "prompt = make_llama_3_prompt(question, system)\n",
    "print(\"Question:\\n\", question)\n",
    "\n",
    "print(\"Answer:\")\n",
    "sql = llm.generate(prompt, max_new_tokens=200)\n",
    "print(sql)"
   ]
  },
  {
   "cell_type": "code",
   "execution_count": 56,
   "id": "f2a3f41c-ccde-477b-b59f-48abcf219331",
   "metadata": {
    "height": 47
   },
   "outputs": [
    {
     "name": "stdout",
     "output_type": "stream",
     "text": [
      "   percentile\n",
      "0          25\n"
     ]
    }
   ],
   "source": [
    "df = pd.read_sql(sql, con=engine)\n",
    "print(df)"
   ]
  },
  {
   "cell_type": "markdown",
   "id": "a596359a-fdd8-4f3d-b5fa-7f9b6672a003",
   "metadata": {},
   "source": [
    "Here is a larger pre-prepared dataset. "
   ]
  },
  {
   "cell_type": "code",
   "execution_count": 57,
   "id": "ac1f479c-6917-4703-b84b-6427e6eaa4b9",
   "metadata": {
    "height": 30
   },
   "outputs": [
    {
     "name": "stdout",
     "output_type": "stream",
     "text": [
      "{\"question\": \"Who is the pointguard for the Golden State Warriors?\", \"answer\": \"Stephen Curry, Chris Paul, and Cory Joseph\", \"sql\": \"select name from nba_roster where team='Golden State Warriors' and POS='PG';\"}\r\n",
      "{\"question\": \"What is the number of players on the Chicago Bulls who are 25 years old or younger\", \"answer\": \"10\", \"sql\": \"SELECT COUNT(*) FROM nba_roster WHERE team='Chicago Bulls' AND AGE <= 25;\"}\r\n",
      "{\"question\": \"Who is the highest-paid player on the Los Angeles Lakers\",  \"answer\": \"LeBron James\", \"sql\": \"SELECT NAME, SALARY FROM nba_roster WHERE team='Los Angeles Lakers' ORDER BY CAST(REPLACE(REPLACE(SALARY, '$', ''), ',','') AS INTEGER) DESC LIMIT 1;\"}\r\n",
      "{\"question\": \"Who is the highest paid player in the NBA?\", \"answer\": \"Stephen Curry\", \"sql\": \"SELECT NAME, salary FROM nba_roster WHERE SALARY!= '--' ORDER BY CAST(REPLACE(REPLACE(SALARY, '$', ''), ',','') AS INTEGER) DESC LIMIT 1;\"}\r\n",
      "{\"question\": \"What team is LaMelo Ball on?\", \"answer\": \"Charlotte Hornets\", \"sql\": \"select team from nba_roster where name='LaMelo Ball';\"}\r\n",
      "{\"question\": \"How much does Lonzo Ball weigh?\", \"answer\": \"190 lbs\", \"sql\": \"select wt from nba_roster where name='Lonzo Ball';\"}\r\n",
      "{\"question\": \"What college sent the most players to the current NBA?\", \"answer\": \"Kentucky\", \"sql\": \"select college from nba_roster where college != '--'  group by college order by count(*) desc limit 1;\"}\r\n",
      "{\"question\": \"How old is Lebron James?\", \"answer\": \"38\", \"sql\": \"select age from nba_roster where name='LeBron James';\"}\r\n",
      "{\"question\": \"What is the most popular jersey number in the current NBA?\", \"answer\": \"8\", \"sql\": \"select Jersey from nba_roster where Jersey != 'NA' group by Jersey order by count(*) desc limit 1;\"}\r\n",
      "{\"question\": \"Can you give me a list of all the players without college data?\", \"answer\": \"['Bogdan Bogdanovic', 'Clint Capela', 'Kristaps Porzingis', 'Darius Bazley', 'LaMelo Ball', 'Theo Maledon', 'James Nnaji', 'Frank Ntilikina', 'Marko Simonovic', 'Raul Neto', 'Ricky Rubio', 'Luka Doncic', 'Dante Exum', 'Jaden Hardy', 'Maxi Kleber', 'Vlatko Cancar', 'Nikola Jokic', 'Bojan Bogdanovic', 'Malcolm Cazalon', 'Killian Hayes', 'Ausar Thompson', 'Jonathan Kuminga', 'Dario Saric', 'Jalen Green', 'Boban Marjanovic', 'Alperen Sengun', 'Amen Thompson', 'Serge Ibaka', 'Daniel Theis', 'Nicolas Batum', 'KJ Martin', 'Kenyon Martin Jr.', 'Ivica Zubac', 'LeBron James', 'Vincent Valerio-Bodon', 'Tarik Biberovic', 'John Konchar', 'Isaiah Todd', 'Nikola Jovic', 'Giannis Antetokounmpo', 'Thanasis Antetokounmpo', 'MarJon Beauchamp', 'Goran Dragic', 'Rudy Gobert', 'Vit Krejci', 'Daishen Nix', 'Dyson Daniels', 'Willy Hernangomez', 'Jonas Valanciunas', 'Evan Fournier', 'Isaiah Hartenstein', 'Jaylen Martin', 'Mitchell Robinson', 'Davis Bertans', 'Ousmane Dieng', 'Josh Giddey', 'Vasilije Micic', 'Aleksej Pokusevski', 'Goga Bitadze', 'Joe Ingles', 'Furkan Korkmaz', 'Bismack Biyombo', 'Ibou Badji', 'Scoot Henderson', 'Jusuf Nurkic', 'Anfernee Simons', 'Sasha Vezenkov', 'Dominick Barlow', 'Sidy Cissoko', 'Cedi Osman', 'Victor Wembanyama', 'Dennis Schroder', 'Simone Fontecchio', 'Luka Samanic', 'Dennis Schroder', 'Deni Avdija', 'Bilal Coulibaly', 'Danilo Gallinari', 'Tristan Vukcevic']\", \"sql\": \"SELECT name FROM nba_roster WHERE COLLEGE IS NULL OR COLLEGE = '--';\"}\r\n",
      "{\"question\": \"What team has the smallest roster?\", \"answer\": \"Brooklyn Nets\", \"sql\": \"select team from nba_roster group by team order by count(*) asc limit 1;\"}\r\n",
      "{\"question\": \"What team has the largest roster?\", \"answer\": \"Toronto Raptors\", \"sql\": \"select team, count(*) from nba_roster group by team order by count(*) desc limit 1;\"}\r\n",
      "{\"question\": \"What team is paying its players the most in total?\", \"answer\": \"Toronto Raptors\", \"sql\": \"select team, sum(CAST(REPLACE(REPLACE(SALARY, '$', ''), ',','') AS INTEGER)) from nba_roster group by team order by sum(CAST(REPLACE(REPLACE(SALARY, '$', ''), ',','') AS INTEGER)) desc limit 1;\"}\r\n",
      "{\"question\": \"Which team is paying its players the least?\", \"answer\": \"San Antonio Spurs\", \"sql\": \"select team from nba_roster group by team order by sum(CAST(REPLACE(REPLACE(SALARY, '$', ''), ',','') AS INTEGER)) asc limit 1;\"}\r\n",
      "{\"question\": \"Which team is on average the tallest?\",\"answer\":\"Boston Celtics\", \"sql\": \"select team, AVG(CAST(SUBSTR(HT, 1, INSTR(HT,' ')-1) AS INTEGER)+ CAST(SUBSTR(HT, INSTR(HT,' ')+1) AS FLOAT)/12) as height from nba_roster group by team order by height desc limit 1;\"}\r\n",
      "{\"question\": \"Which team is on average the shortest?\", \"answer\": \"Golden State Warriors\", \"sql\": \"select team, AVG(CAST(SUBSTR(HT, 1, INSTR(HT,' ')-1) AS INTEGER)+ CAST(SUBSTR(HT, INSTR(HT,' ')+1) AS FLOAT)/12) as height from nba_roster group by team order by height asc limit 1;\"}\r\n",
      "{\"question\": \"Who are the tallest 5 centers in the league?\", \"answer\": \"Boban Marjanovic, Kristaps Porzingis, Victor Wembanyama, Luke Kornet, Bol Bol\", \"sql\": \"SELECT name, HT FROM nba_roster WHERE POS = 'C' ORDER BY HT DESC LIMIT 5;\"}\r\n",
      "{\"question\": \"Who are the top 5 highest paid power forwards in the league?\", \"answer\": \"Kevin Durant, Giannis Antetokounmpo, Anthony Davis, Tobias Harris, Pascal Siakam\", \"sql\": \"SELECT NAME, salary FROM nba_roster WHERE POS = 'PF' AND SALARY!= '--' ORDER BY CAST(REPLACE(REPLACE(SALARY, '$', ''), ',','') AS INTEGER) DESC LIMIT 5;\"}\r\n",
      "{\"question\": \"What is the median salary in the NBA?\", \"answer\": \"6012840\", \"sql\": \"SELECT (CAST(REPLACE(REPLACE(SALARY, '$', ''), ',','') AS INTEGER)) as percentile FROM nba_roster WHERE SALARY!= '--' order by percentile limit 1 offset (select count(*) from nba_roster where SALARY != '--')*50/100-1;\"}\r\n",
      "{\"question\": \"What is the average salary in the NBA?\", \"answer\": \"10696803\", \"sql\": \"SELECT avg(CAST(REPLACE(REPLACE(SALARY, '$', ''), ',','') AS INTEGER)) as percentile FROM nba_roster WHERE SALARY!= '--';\"}\r\n",
      "{\"question\": \"What is the 99th percentile salary in the NBA?\", \"answer\": \"46741590\", \"sql\": \"SELECT (CAST(REPLACE(REPLACE(SALARY, '$', ''), ',','') AS INTEGER)) as percentile FROM nba_roster WHERE SALARY!= '--' order by percentile limit 1 offset (select count(*) from nba_roster where SALARY != '--')*99/100-1;\"}\r\n",
      "{\"question\": \"What is the 75th percentile salary in the NBA?\", \"answer\": \"13932008\", \"sql\": \"SELECT (CAST(REPLACE(REPLACE(SALARY, '$', ''), ',','') AS INTEGER)) as percentile FROM nba_roster WHERE SALARY!= '--' order by percentile limit 1 offset (select count(*) from nba_roster where SALARY != '--')*75/100-1;\"}\r\n",
      "{\"question\": \"What is the 25th percentile salary in the NBA?\", \"answer\": \"2413304\", \"sql\": \"SELECT (CAST(REPLACE(REPLACE(SALARY, '$', ''), ',','') AS INTEGER)) as percentile FROM nba_roster WHERE SALARY!= '--' order by percentile limit 1 offset (select count(*) from nba_roster where SALARY != '--')*25/100-1;\"}\r\n",
      "{\"question\": \"What is the median weight in the NBA?\", \"answer\": \"215\", \"sql\": \"select CAST(SUBSTR(WT, 1, INSTR(WT,' ')) as INTEGER) as percentile from nba_roster order by percentile limit 1 offset (select count(*) from nba_roster)*50/100-1;\"}\r\n",
      "{\"question\": \"What is the average weight in the NBA?\", \"answer\": \"214.98\", \"sql\": \"SELECT AVG(CAST(SUBSTR(WT, 1, INSTR(WT,' ')) as INTEGER)) FROM nba_roster;\"}\r\n",
      "{\"question\": \"What is the median height in the NBA?\", \"answer\": \"6.58333333333333\", \"sql\": \"select CAST(SUBSTR(HT, 1, INSTR(HT,' ')-1) AS INTEGER)+ CAST(SUBSTR(HT, INSTR(HT,' ')+1) AS FLOAT)/12 as percentile from nba_roster order by percentile limit 1 offset (select count(*) from nba_roster)*50/100-1;\"}\r\n",
      "{\"question\": \"What is the average height in the NBA?\", \"answer\": \"6.54986111111111\", \"sql\": \"select AVG(CAST(SUBSTR(HT, 1, INSTR(HT,' ')-1) AS INTEGER)+ CAST(SUBSTR(HT, INSTR(HT,' ')+1) AS FLOAT)/12) as height from nba_roster;\"}\r\n",
      "{\"question\": \"Can you tell me how many players are in the NBA?\", \"answer\": \"600\", \"sql\": \"select count(*) from nba_roster;\"}\r\n",
      "{\"question\": \"Would you please let me know what the highest paid players are for each position?\", \"answer\": \"The highest paid players are Nikola Jokic (C), Paul George (F), Norman Powell (G), Kevin Durant (PF), Stephen Curry (PG), LeBron James (SF), Bradley Beal (SG).\", \"sql\": \"SELECT name, pos, MAX(CAST(REPLACE(REPLACE(SALARY, '$', ''), ',','') AS INTEGER)) as max_salary FROM nba_roster WHERE SALARY!= '--' GROUP BY POS;\"}\r\n",
      "{\"question\": \"Is Jalen Johnson 23 years old?\", \"answer\": \"No, Jalen Johnson is 21 years old\", \"sql\" : \"Select name, age from nba_roster where name='Jalen Johnson';\"}\r\n",
      "{\"question\": \"Who is the oldest player on the Brooklyn Nets?\", \"answer\": \"Spencer Dinwiddie, Dorian Finney-Smith, Royce O'Neale\", \"sql\" : \"SELECT NAME FROM nba_roster WHERE TEAM = 'Brooklyn Nets' AND AGE = (SELECT MAX(AGE) FROM nba_roster WHERE TEAM = 'Brooklyn Nets');\"}\r\n",
      "{\"question\": \"Who has the higest salary on the Memphis Grizzlies?\", \"answer\": \"Ja Morant\", \"sql\" : \"select salary, name from nba_roster where team='Memphis Grizzlies' and SALARY!= '--' ORDER BY CAST(REPLACE(REPLACE(SALARY, '$', ''), ',','') AS INTEGER) DESC LIMIT 1;\"}\r\n",
      "{\"question\": \"Which player has the higest salary on the Cleveland Cavaliers?\", \"answer\": \"Darius Garland\", \"sql\" : \"select salary, name from nba_roster where team='Cleveland Cavaliers' and SALARY!= '--' ORDER BY CAST(REPLACE(REPLACE(SALARY, '$', ''), ',','') AS INTEGER) DESC LIMIT 1;\"}\r\n",
      "{\"question\": \"Who is the highest paid center on the Dallas Mavericks?\", \"answer\": \"Dereck Lively II\", \"sql\" : \"select salary, name from nba_roster where team='Dallas Mavericks' and POS='C' and SALARY!= '--' ORDER BY CAST(REPLACE(REPLACE(SALARY, '$', ''), ',','') AS INTEGER) DESC LIMIT 1;\"}\r\n",
      "{\"question\": \"How much is Marcus Smart getting paid?\", \"answer\": \"$18,833,712\", \"sql\" : \"select salary from nba_roster where name='Marcus Smart';\"}\r\n",
      "{\"question\": \"What's the average age of the Trail Blazers?\", \"answer\": \"24\", \"sql\" : \"select avg(age) from nba_roster where team='Portland Trail Blazers';\"}\r\n",
      "{\"question\": \"What's the median age of the NBA?\", \"answer\": \"25\", \"sql\": \"select CAST(AGE as INTEGER) as percentile from nba_roster order by percentile limit 1 offset (select count(*) from nba_roster)*50/100-1;\"}\r\n",
      "{\"question\": \"What's the median age of the Miami Heat?\", \"answer\": \"26\", \"sql\": \"select CAST(AGE as INTEGER) as percentile from nba_roster where team='Miami Heat' order by percentile limit 1 offset (select count(*) from nba_roster where team='Miami Heat')*50/100-1;\"}\r\n",
      "{\"question\": \"What are the 5 teams with the oldest average age in the NBA\", \"answer\": \"Golden State Warriors, Milwaukee Bucks, Miami Heat, LA Clippers, Phoenix Suns\", \"sql\": \"SELECT team, AVG(AGE) AS average_age FROM nba_roster GROUP BY team ORDER BY average_age DESC LIMIT 5;\"}\r\n",
      "{\"question\": \"What is the average salary of Power Forward players in the NBA\", \"answer\": \"$10948045\", \"sql\": \"select avg(CAST(REPLACE(REPLACE(SALARY, '$', ''), ',','') AS INTEGER)) as average_salary from nba_roster where POS = 'PF';\"}"
     ]
    }
   ],
   "source": [
    "!cat data/gold-test-set-v2.jsonl"
   ]
  },
  {
   "cell_type": "code",
   "execution_count": 58,
   "id": "ecd833ae-7bac-41da-8be3-520abef20cc3",
   "metadata": {
    "height": 30
   },
   "outputs": [],
   "source": [
    "args = Args(training_file_name=\"archive/generated_queries_v2_large_filtered_cleaned.jsonl\")"
   ]
  },
  {
   "cell_type": "code",
   "execution_count": 59,
   "id": "e801e164-deac-4c43-b0d6-a7fc6e9b28ed",
   "metadata": {
    "height": 30
   },
   "outputs": [],
   "source": [
    "llm = lamini.Lamini(model_name=\"meta-llama/Meta-Llama-3-8B-Instruct\")"
   ]
  },
  {
   "cell_type": "code",
   "execution_count": 60,
   "id": "946d6519-c2cf-49d3-96a0-8e428e5266f7",
   "metadata": {
    "height": 47
   },
   "outputs": [],
   "source": [
    "dataset = get_dataset(args, make_question)\n",
    "finetune_args = get_default_finetune_args()"
   ]
  },
  {
   "cell_type": "markdown",
   "id": "a390f9d1-e4d6-4044-b4d0-a0ad40e601ab",
   "metadata": {},
   "source": [
    "This fine tuning step takes about 30 mintues to complete. The dispatch to run on the Lamini services is commented out and the pre-computed final results of the run are provided below. You can uncomment and run if you have modified data on your own."
   ]
  },
  {
   "cell_type": "code",
   "execution_count": 61,
   "id": "feecb9f2-23d4-4990-8b4c-edf4e6a63e0b",
   "metadata": {
    "height": 98
   },
   "outputs": [],
   "source": [
    "#llm.train(\n",
    "#    data_or_dataset_id=dataset,\n",
    "#    finetune_args=finetune_args,\n",
    "#    is_public=True,  # For sharing\n",
    "#)"
   ]
  },
  {
   "cell_type": "markdown",
   "id": "f02b48a7-0639-47b9-89f3-cbeab1d8bee8",
   "metadata": {},
   "source": [
    "Run eval platform again from lab 3."
   ]
  },
  {
   "cell_type": "code",
   "execution_count": 62,
   "id": "4a5c7493-0046-4d9c-bde9-ca48520091d1",
   "metadata": {
    "height": 4144
   },
   "outputs": [],
   "source": [
    "# Collapsible or utils from Lesson 3 Lab for evaluation\n",
    "class QueryStage(GenerationNode):\n",
    "    def __init__(self, model_name):\n",
    "        super().__init__(\n",
    "            model_name=model_name,\n",
    "            max_new_tokens=300,\n",
    "        )\n",
    "\n",
    "    def generate(\n",
    "        self,\n",
    "        prompt: Union[Iterator[PromptObject], AsyncIterator[PromptObject]],\n",
    "        *args,\n",
    "        **kwargs,\n",
    "    ):\n",
    "        results = super().generate(\n",
    "            prompt,\n",
    "            output_type={\"sqlite_query\": \"str\"},\n",
    "            *args,\n",
    "            **kwargs,\n",
    "        )\n",
    "        return results\n",
    "\n",
    "\n",
    "    def postprocess(self, obj: PromptObject):\n",
    "        # Run both the generated and reference (Gold Dataset) SQL queries\n",
    "        # Assessing whether the SQL queries succeeded in hitting the database (not correctness yet!)\n",
    "        \n",
    "        query_succeeded = False\n",
    "\n",
    "        try:\n",
    "            logger.info(f\"Running SQL query '{obj.response['sqlite_query']}'\")\n",
    "            obj.data[\"generated_query\"] = obj.response[\"sqlite_query\"]\n",
    "            df = pd.read_sql(obj.response[\"sqlite_query\"], con=engine)\n",
    "            obj.data['df'] = df\n",
    "            logger.info(f\"Got data: {df}\")\n",
    "            query_succeeded = True\n",
    "\n",
    "        except Exception as e:\n",
    "            logger.error(\n",
    "                f\"Failed to run SQL query: {obj.response['sqlite_query']}\"\n",
    "            )\n",
    "\n",
    "        logger.info(f\"Running reference SQL query '{obj.data['sql']}'\")\n",
    "        df = pd.read_sql(obj.data[\"sql\"], con=engine)\n",
    "        logger.info(f\"Got data: {df}\")\n",
    "        obj.data['reference_df'] = df\n",
    "\n",
    "        logger.info(f\"For question: {obj.data['question']}\")\n",
    "        logger.info(f\"For query: {obj.response['sqlite_query']}\")\n",
    "\n",
    "        obj.data[\"query_succeeded\"] = query_succeeded\n",
    "\n",
    "    def preprocess(self, obj: PromptObject):\n",
    "        new_prompt = make_llama_3_prompt(**self.make_prompt(obj.data))\n",
    "        obj.prompt = new_prompt\n",
    "\n",
    "    def make_prompt(self, data: dict):\n",
    "        system = \"You are an NBA analyst with 15 years of experience writing complex SQL queries.\\n\"\n",
    "        system += \"Consider the nba_roster table with the following schema:\\n\"\n",
    "        system += get_schema() + \"\\n\"\n",
    "        system += (\n",
    "            \"Write a sqlite SQL query that would help you answer the following question:\\n\"#\"Write a sqlite SQL query that would help you answer the following question:\\n\"\n",
    "        )\n",
    "        user = data[\"question\"]\n",
    "        return {\n",
    "            \"user\": user,\n",
    "            \"system\": system,\n",
    "        }\n",
    "    \n",
    "class ScoreStage(GenerationNode):\n",
    "    def __init__(self):\n",
    "        super().__init__(\n",
    "            model_name=\"meta-llama/Meta-Llama-3-8B-Instruct\",\n",
    "            max_new_tokens=150,\n",
    "        )\n",
    "\n",
    "    def generate(\n",
    "        self,\n",
    "        prompt: Union[Iterator[PromptObject], AsyncIterator[PromptObject]],\n",
    "        *args,\n",
    "        **kwargs,\n",
    "    ):\n",
    "        results = super().generate(\n",
    "            prompt,\n",
    "            output_type={\"explanation\": \"str\", \"similar\": [\"true\", \"false\"]},\n",
    "            *args,\n",
    "            **kwargs,\n",
    "        )\n",
    "        return results\n",
    "\n",
    "    def preprocess(self, obj: PromptObject):\n",
    "        obj.prompt = make_llama_3_prompt(**self.make_prompt(obj))\n",
    "        logger.info(f\"Scoring Stage Prompt:\\n{obj.prompt}\")\n",
    "\n",
    "    def postprocess(self, obj: PromptObject):\n",
    "        obj.data['is_matching'] = self.is_matching(obj.data, obj.response)\n",
    "        obj.data['explanation'] = obj.response[\"explanation\"]\n",
    "        obj.data['similar'] = obj.response[\"similar\"] == \"true\"\n",
    "\n",
    "    def is_matching(self, data, response):\n",
    "        return (str(data.get('df',\"None\")).lower() == str(data['reference_df']).lower() \n",
    "                or response['similar'] == \"true\")\n",
    "\n",
    "    def make_prompt(self, obj: PromptObject):\n",
    "        # Your evaluation model compares SQL output from the generated and reference SQL queries, using another LLM in the pipeline\n",
    "        '''\n",
    "        Note:\n",
    "        Prompt tuning is important! \n",
    "        A previous iteration of this scoring pipeline said `Compare the following two dataframes to see if they are identical`.\n",
    "        That prompt turned out to be too stringent of criteria.\n",
    "        '''\n",
    "        system_prompt = \"Compare the following two dataframes. They are similar if they are almost identical, or if they convey the same information about the nba_roster dataset\"\n",
    "        system_prompt += \"Respond with valid JSON {'explanation' : str, 'similar' : bool}\"\n",
    "        user_prompt = (\n",
    "            f\"========== Dataframe 1 =========\\n{str(obj.data.get('df','None')).lower()}\\n\\n\"\n",
    "        )\n",
    "        user_prompt += (\n",
    "            f\"========== Dataframe 2 =========\\n{str(obj.data['reference_df']).lower()}\\n\\n\"\n",
    "        )\n",
    "        user_prompt += f\"Can you tell me if these dataframes are similar?\"\n",
    "        return {\n",
    "            \"system\": system_prompt,\n",
    "            \"user\": user_prompt\n",
    "        }\n",
    "    \n",
    "async def run_eval(dataset, args):\n",
    "\n",
    "    results = await run_evaluation_pipeline(dataset, args)\n",
    "\n",
    "    print(\"Total results:\", len(results))\n",
    "\n",
    "    return results\n",
    "\n",
    "\n",
    "async def run_evaluation_pipeline(dataset, args):\n",
    "    results = EvaluationPipeline(args).call(dataset)\n",
    "\n",
    "    result_list = []\n",
    "\n",
    "    pbar = tqdm(desc=\"Saving results\", unit=\" results\")\n",
    "    async for result in results:\n",
    "        result_list.append(result)\n",
    "        pbar.update()\n",
    "    return result_list\n",
    "\n",
    "\n",
    "class EvaluationPipeline(GenerationPipeline):\n",
    "    def __init__(self, args):\n",
    "        super().__init__()\n",
    "        self.query_stage = QueryStage(args.sql_model_name)\n",
    "        self.score_stage = ScoreStage()\n",
    "\n",
    "\n",
    "    def forward(self, x):\n",
    "        x = self.query_stage(x)\n",
    "        x = self.score_stage(x)\n",
    "        return x\n",
    "    \n",
    "def load_gold_dataset(args):\n",
    "    path = f\"data/{args.gold_file_name}\"\n",
    "\n",
    "    with jsonlines.open(path) as reader:\n",
    "        for index, obj in enumerate(reversed(list(reader))):\n",
    "            if index >= args.max_examples:\n",
    "                break\n",
    "            yield PromptObject(prompt=\"\", data=obj)\n",
    "\n",
    "def save_eval_results(results, args):\n",
    "    base_path = \"./data/results\"\n",
    "    now = datetime.now().strftime(\"%Y_%m_%d_%H_%M_%S\")\n",
    "    experiment_name = f\"nba_sql_pipeline_{now}\"\n",
    "    experiment_dir = os.path.join(base_path, experiment_name)\n",
    "    os.makedirs(os.path.join(base_path, experiment_name))\n",
    "\n",
    "    # Write args to file\n",
    "    args_file_name = f\"{experiment_dir}/args.txt\"\n",
    "    with open(args_file_name, \"w\") as writer:\n",
    "        pprint(args.__dict__, writer)\n",
    "\n",
    "\n",
    "    def is_correct(r):\n",
    "        if (\n",
    "            (result.data[\"query_succeeded\"] and result.data['is_matching']) or \n",
    "            result.data[\"generated_query\"] == result.data['sql']\n",
    "        ):\n",
    "            return True\n",
    "        return False\n",
    "\n",
    "    # Write sql results and errors to file\n",
    "    results_file_name = f\"{experiment_dir}/sql_results.jsonl\"\n",
    "    with jsonlines.open(results_file_name, \"w\") as writer:\n",
    "        for result in results:\n",
    "            if not is_correct(result):\n",
    "                continue\n",
    "            writer.write(\n",
    "                {\n",
    "                    \"question\": result.data['question'],\n",
    "                    \"query\": result.data[\"generated_query\"],\n",
    "                    \"query_succeeded\": result.data[\"query_succeeded\"],\n",
    "                    \"reference_sql\": result.data['sql'],\n",
    "                    \"df\": str(result.data.get('df', 'None')),\n",
    "                    \"reference_df\": str(result.data['reference_df']),\n",
    "                    'is_matching': result.data['is_matching'],\n",
    "                    'similar': result.data['similar'],\n",
    "                }\n",
    "            )\n",
    "\n",
    "    results_file_name = f\"{experiment_dir}/sql_errors.jsonl\"\n",
    "    with jsonlines.open(results_file_name, \"w\") as writer:\n",
    "        for result in results:\n",
    "            if is_correct(result):\n",
    "                continue\n",
    "            writer.write(\n",
    "                {\n",
    "                    \"question\": result.data['question'],\n",
    "                    \"query\": result.data[\"generated_query\"],\n",
    "                    \"query_succeeded\": result.data[\"query_succeeded\"],\n",
    "                    \"df\": str(result.data.get('df', 'None')),\n",
    "                    \"reference_df\": str(result.data['reference_df']),\n",
    "                    'is_matching': result.data['is_matching'],\n",
    "                    'similar': result.data['similar'],\n",
    "                }\n",
    "            )\n",
    "\n",
    "    # Write statistics to file\n",
    "    average_sql_succeeded = sum(\n",
    "        [result.data[\"query_succeeded\"] for result in results]\n",
    "    ) / len(results)\n",
    "    average_correct = sum(\n",
    "        [result.data[\"query_succeeded\"] and result.data['is_matching'] for result in results]\n",
    "    ) / len(results)\n",
    "\n",
    "    file_name = f\"{experiment_dir}/summary.txt\"\n",
    "    with open(file_name, \"w\") as writer:\n",
    "        print(f\"Total size of eval dataset: {len(results)}\", file=writer)\n",
    "        print(f\"Total size of eval dataset: {len(results)}\")\n",
    "        print(f\"Percent Valid SQL Syntax: {average_sql_succeeded*100}\", file=writer)\n",
    "        print(f\"Percent Valid SQL Syntax: {average_sql_succeeded*100}\")\n",
    "        print(f\"Percent Correct SQL Query: {average_correct*100}\", file=writer)\n",
    "        print(f\"Percent Correct SQL Query: {average_correct*100}\")\n",
    "\n",
    "\n"
   ]
  },
  {
   "cell_type": "markdown",
   "id": "9db445f8-77a5-4def-83b3-35746e08045c",
   "metadata": {},
   "source": [
    "Use pretrained model trained with the above dataset."
   ]
  },
  {
   "cell_type": "code",
   "execution_count": 63,
   "id": "ce2757e1-7196-4b34-bdda-545a336a6300",
   "metadata": {
    "height": 81
   },
   "outputs": [
    {
     "name": "stderr",
     "output_type": "stream",
     "text": [
      "Saving results: 40 results [02:03,  3.09s/ results]"
     ]
    },
    {
     "name": "stdout",
     "output_type": "stream",
     "text": [
      "Total results: 40\n",
      "Total size of eval dataset: 40\n",
      "Percent Valid SQL Syntax: 100.0\n",
      "Percent Correct SQL Query: 92.5\n"
     ]
    },
    {
     "name": "stderr",
     "output_type": "stream",
     "text": [
      "\n"
     ]
    }
   ],
   "source": [
    "args = Args(sql_model_name=\"3f7e740c0ea2227631a30d293b51564ad1b80727c3768a3b136fbae93170c1e2\", gold_file_name='gold-test-set-v2.jsonl')\n",
    "dataset = load_gold_dataset(args)\n",
    "results = await run_eval(dataset, args)\n",
    "save_eval_results(results, args)"
   ]
  },
  {
   "cell_type": "code",
   "execution_count": null,
   "id": "e6feb36f-6f35-4654-bf27-3e72ca181704",
   "metadata": {
    "height": 30
   },
   "outputs": [],
   "source": []
  },
  {
   "cell_type": "code",
   "execution_count": null,
   "id": "8f1e8ea2-87c9-4bb3-813a-36c2192e0eb1",
   "metadata": {
    "height": 30
   },
   "outputs": [],
   "source": []
  },
  {
   "cell_type": "code",
   "execution_count": null,
   "id": "28fce7b2-fd93-4744-93a2-0c17d3d5e999",
   "metadata": {
    "height": 30
   },
   "outputs": [],
   "source": []
  },
  {
   "cell_type": "code",
   "execution_count": null,
   "id": "468fcc6a-fc2e-4678-8e7e-4a3a825276ff",
   "metadata": {
    "height": 30
   },
   "outputs": [],
   "source": []
  },
  {
   "cell_type": "code",
   "execution_count": null,
   "id": "f77f0248-5ccd-4498-9523-cf6ca5616d4f",
   "metadata": {
    "height": 30
   },
   "outputs": [],
   "source": []
  },
  {
   "cell_type": "code",
   "execution_count": null,
   "id": "ba1db348-f80c-440b-b4a0-277b2b69c0cb",
   "metadata": {
    "height": 30
   },
   "outputs": [],
   "source": []
  },
  {
   "cell_type": "code",
   "execution_count": null,
   "id": "616ea9a2-af90-4003-84f8-76d92f1c97d8",
   "metadata": {
    "height": 30
   },
   "outputs": [],
   "source": []
  },
  {
   "cell_type": "code",
   "execution_count": null,
   "id": "b4d17978-32fa-48b2-87b1-82d194886053",
   "metadata": {
    "height": 30
   },
   "outputs": [],
   "source": []
  },
  {
   "cell_type": "code",
   "execution_count": null,
   "id": "c7dbf3ad-d999-4d1c-b24d-24b280b39030",
   "metadata": {
    "height": 30
   },
   "outputs": [],
   "source": []
  },
  {
   "cell_type": "code",
   "execution_count": null,
   "id": "61c24c7c-575f-4482-aac1-eb5a46e8fc3c",
   "metadata": {
    "height": 30
   },
   "outputs": [],
   "source": []
  },
  {
   "cell_type": "code",
   "execution_count": null,
   "id": "3df6ca8c-87f3-4ed6-8454-7582ed8a6768",
   "metadata": {
    "height": 30
   },
   "outputs": [],
   "source": []
  },
  {
   "cell_type": "code",
   "execution_count": null,
   "id": "76d2e5f6-c944-475f-843a-0ead709916d7",
   "metadata": {
    "height": 30
   },
   "outputs": [],
   "source": []
  },
  {
   "cell_type": "code",
   "execution_count": null,
   "id": "c06c93af-7658-49be-b840-c8d2ae046e9b",
   "metadata": {
    "height": 30
   },
   "outputs": [],
   "source": []
  },
  {
   "cell_type": "code",
   "execution_count": null,
   "id": "c62da8cc-346e-4274-bc20-db9c81654377",
   "metadata": {
    "height": 30
   },
   "outputs": [],
   "source": []
  },
  {
   "cell_type": "code",
   "execution_count": null,
   "id": "55721b24-f73d-41ca-a852-87c75f0926f8",
   "metadata": {
    "height": 30
   },
   "outputs": [],
   "source": []
  },
  {
   "cell_type": "code",
   "execution_count": null,
   "id": "160c9711-8aaf-44d7-b488-12f57decfa3f",
   "metadata": {
    "height": 30
   },
   "outputs": [],
   "source": []
  },
  {
   "cell_type": "code",
   "execution_count": null,
   "id": "8d0b2006-b768-4bcc-9e98-63aa45828e93",
   "metadata": {
    "height": 30
   },
   "outputs": [],
   "source": []
  },
  {
   "cell_type": "code",
   "execution_count": null,
   "id": "aa2431b4-8e6b-42ca-ac5b-bbd2b85576e8",
   "metadata": {
    "height": 30
   },
   "outputs": [],
   "source": []
  },
  {
   "cell_type": "code",
   "execution_count": null,
   "id": "ef089586-f089-4222-8f3a-1740a537f76f",
   "metadata": {
    "height": 30
   },
   "outputs": [],
   "source": []
  },
  {
   "cell_type": "code",
   "execution_count": null,
   "id": "75d8a666-b448-4482-8ecd-3b5c495b606d",
   "metadata": {
    "height": 30
   },
   "outputs": [],
   "source": []
  },
  {
   "cell_type": "code",
   "execution_count": null,
   "id": "005fb112-7144-4a26-a1f5-ccbff23be006",
   "metadata": {
    "height": 30
   },
   "outputs": [],
   "source": []
  },
  {
   "cell_type": "code",
   "execution_count": null,
   "id": "4c0d6f25-d293-4752-bd5d-c4082c6b92f3",
   "metadata": {
    "height": 30
   },
   "outputs": [],
   "source": []
  }
 ],
 "metadata": {
  "kernelspec": {
   "display_name": "Python 3 (ipykernel)",
   "language": "python",
   "name": "python3"
  },
  "language_info": {
   "codemirror_mode": {
    "name": "ipython",
    "version": 3
   },
   "file_extension": ".py",
   "mimetype": "text/x-python",
   "name": "python",
   "nbconvert_exporter": "python",
   "pygments_lexer": "ipython3",
   "version": "3.11.9"
  }
 },
 "nbformat": 4,
 "nbformat_minor": 5
}

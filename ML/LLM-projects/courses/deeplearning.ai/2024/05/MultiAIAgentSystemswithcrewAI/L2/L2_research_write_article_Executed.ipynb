{
 "cells": [
  {
   "cell_type": "markdown",
   "metadata": {},
   "source": [
    "You can download the `requirements.txt` for this course from the workspace of this lab. `File --> Open...`"
   ]
  },
  {
   "cell_type": "markdown",
   "metadata": {},
   "source": [
    "# L2: Create Agents to Research and Write an Article\n",
    "\n",
    "In this lesson, you will be introduced to the foundational concepts of multi-agent systems and get an overview of the crewAI framework."
   ]
  },
  {
   "cell_type": "markdown",
   "metadata": {},
   "source": [
    "The libraries are already installed in the classroom. If you're running this notebook on your own machine, you can install the following:\n",
    "```Python\n",
    "!pip install crewai==0.28.8 crewai_tools==0.1.6 langchain_community==0.0.29\n",
    "```"
   ]
  },
  {
   "cell_type": "code",
   "execution_count": 1,
   "metadata": {
    "height": 64
   },
   "outputs": [],
   "source": [
    "# Warning control\n",
    "import warnings\n",
    "warnings.filterwarnings('ignore')"
   ]
  },
  {
   "cell_type": "markdown",
   "metadata": {},
   "source": [
    "- Import from the crewAI libray."
   ]
  },
  {
   "cell_type": "code",
   "execution_count": 2,
   "metadata": {
    "height": 30
   },
   "outputs": [],
   "source": [
    "from crewai import Agent, Task, Crew"
   ]
  },
  {
   "cell_type": "markdown",
   "metadata": {},
   "source": [
    "- As a LLM for your agents, you'll be using OpenAI's `gpt-3.5-turbo`.\n",
    "\n",
    "**Optional Note:** crewAI also allow other popular models to be used as a LLM for your Agents. You can see some of the examples at the [bottom of the notebook](#1)."
   ]
  },
  {
   "cell_type": "code",
   "execution_count": 3,
   "metadata": {
    "height": 98
   },
   "outputs": [],
   "source": [
    "import os\n",
    "from utils import get_openai_api_key\n",
    "\n",
    "openai_api_key = get_openai_api_key()\n",
    "os.environ[\"OPENAI_MODEL_NAME\"] = 'gpt-3.5-turbo'"
   ]
  },
  {
   "cell_type": "markdown",
   "metadata": {},
   "source": [
    "## Creating Agents\n",
    "\n",
    "- Define your Agents, and provide them a `role`, `goal` and `backstory`.\n",
    "- It has been seen that LLMs perform better when they are role playing."
   ]
  },
  {
   "cell_type": "markdown",
   "metadata": {},
   "source": [
    "### Agent: Planner\n",
    "\n",
    "**Note**: The benefit of using _multiple strings_ :\n",
    "```Python\n",
    "varname = \"line 1 of text\"\n",
    "          \"line 2 of text\"\n",
    "```\n",
    "\n",
    "versus the _triple quote docstring_:\n",
    "```Python\n",
    "varname = \"\"\"line 1 of text\n",
    "             line 2 of text\n",
    "          \"\"\"\n",
    "```\n",
    "is that it can avoid adding those whitespaces and newline characters, making it better formatted to be passed to the LLM."
   ]
  },
  {
   "cell_type": "code",
   "execution_count": 4,
   "metadata": {
    "height": 234
   },
   "outputs": [],
   "source": [
    "planner = Agent(\n",
    "    role=\"Content Planner\",\n",
    "    goal=\"Plan engaging and factually accurate content on {topic}\",\n",
    "    backstory=\"You're working on planning a blog article \"\n",
    "              \"about the topic: {topic}.\"\n",
    "              \"You collect information that helps the \"\n",
    "              \"audience learn something \"\n",
    "              \"and make informed decisions. \"\n",
    "              \"Your work is the basis for \"\n",
    "              \"the Content Writer to write an article on this topic.\",\n",
    "    allow_delegation=False,\n",
    "\tverbose=True\n",
    ")"
   ]
  },
  {
   "cell_type": "markdown",
   "metadata": {},
   "source": [
    "### Agent: Writer"
   ]
  },
  {
   "cell_type": "code",
   "execution_count": 5,
   "metadata": {
    "height": 370
   },
   "outputs": [],
   "source": [
    "writer = Agent(\n",
    "    role=\"Content Writer\",\n",
    "    goal=\"Write insightful and factually accurate \"\n",
    "         \"opinion piece about the topic: {topic}\",\n",
    "    backstory=\"You're working on a writing \"\n",
    "              \"a new opinion piece about the topic: {topic}. \"\n",
    "              \"You base your writing on the work of \"\n",
    "              \"the Content Planner, who provides an outline \"\n",
    "              \"and relevant context about the topic. \"\n",
    "              \"You follow the main objectives and \"\n",
    "              \"direction of the outline, \"\n",
    "              \"as provide by the Content Planner. \"\n",
    "              \"You also provide objective and impartial insights \"\n",
    "              \"and back them up with information \"\n",
    "              \"provide by the Content Planner. \"\n",
    "              \"You acknowledge in your opinion piece \"\n",
    "              \"when your statements are opinions \"\n",
    "              \"as opposed to objective statements.\",\n",
    "    allow_delegation=False,\n",
    "    verbose=True\n",
    ")"
   ]
  },
  {
   "cell_type": "markdown",
   "metadata": {},
   "source": [
    "### Agent: Editor"
   ]
  },
  {
   "cell_type": "code",
   "execution_count": 6,
   "metadata": {
    "height": 268
   },
   "outputs": [],
   "source": [
    "editor = Agent(\n",
    "    role=\"Editor\",\n",
    "    goal=\"Edit a given blog post to align with \"\n",
    "         \"the writing style of the organization. \",\n",
    "    backstory=\"You are an editor who receives a blog post \"\n",
    "              \"from the Content Writer. \"\n",
    "              \"Your goal is to review the blog post \"\n",
    "              \"to ensure that it follows journalistic best practices,\"\n",
    "              \"provides balanced viewpoints \"\n",
    "              \"when providing opinions or assertions, \"\n",
    "              \"and also avoids major controversial topics \"\n",
    "              \"or opinions when possible.\",\n",
    "    allow_delegation=False,\n",
    "    verbose=True\n",
    ")"
   ]
  },
  {
   "cell_type": "markdown",
   "metadata": {},
   "source": [
    "## Creating Tasks\n",
    "\n",
    "- Define your Tasks, and provide them a `description`, `expected_output` and `agent`."
   ]
  },
  {
   "cell_type": "markdown",
   "metadata": {},
   "source": [
    "### Task: Plan"
   ]
  },
  {
   "cell_type": "code",
   "execution_count": 7,
   "metadata": {
    "height": 268
   },
   "outputs": [],
   "source": [
    "plan = Task(\n",
    "    description=(\n",
    "        \"1. Prioritize the latest trends, key players, \"\n",
    "            \"and noteworthy news on {topic}.\\n\"\n",
    "        \"2. Identify the target audience, considering \"\n",
    "            \"their interests and pain points.\\n\"\n",
    "        \"3. Develop a detailed content outline including \"\n",
    "            \"an introduction, key points, and a call to action.\\n\"\n",
    "        \"4. Include SEO keywords and relevant data or sources.\"\n",
    "    ),\n",
    "    expected_output=\"A comprehensive content plan document \"\n",
    "        \"with an outline, audience analysis, \"\n",
    "        \"SEO keywords, and resources.\",\n",
    "    agent=planner,\n",
    ")"
   ]
  },
  {
   "cell_type": "markdown",
   "metadata": {},
   "source": [
    "### Task: Write"
   ]
  },
  {
   "cell_type": "code",
   "execution_count": 8,
   "metadata": {
    "height": 319
   },
   "outputs": [],
   "source": [
    "write = Task(\n",
    "    description=(\n",
    "        \"1. Use the content plan to craft a compelling \"\n",
    "            \"blog post on {topic}.\\n\"\n",
    "        \"2. Incorporate SEO keywords naturally.\\n\"\n",
    "\t\t\"3. Sections/Subtitles are properly named \"\n",
    "            \"in an engaging manner.\\n\"\n",
    "        \"4. Ensure the post is structured with an \"\n",
    "            \"engaging introduction, insightful body, \"\n",
    "            \"and a summarizing conclusion.\\n\"\n",
    "        \"5. Proofread for grammatical errors and \"\n",
    "            \"alignment with the brand's voice.\\n\"\n",
    "    ),\n",
    "    expected_output=\"A well-written blog post \"\n",
    "        \"in markdown format, ready for publication, \"\n",
    "        \"each section should have 2 or 3 paragraphs.\",\n",
    "    agent=writer,\n",
    ")"
   ]
  },
  {
   "cell_type": "markdown",
   "metadata": {},
   "source": [
    "### Task: Edit"
   ]
  },
  {
   "cell_type": "code",
   "execution_count": 9,
   "metadata": {
    "height": 166
   },
   "outputs": [],
   "source": [
    "edit = Task(\n",
    "    description=(\"Proofread the given blog post for \"\n",
    "                 \"grammatical errors and \"\n",
    "                 \"alignment with the brand's voice.\"),\n",
    "    expected_output=\"A well-written blog post in markdown format, \"\n",
    "                    \"ready for publication, \"\n",
    "                    \"each section should have 2 or 3 paragraphs.\",\n",
    "    agent=editor\n",
    ")"
   ]
  },
  {
   "cell_type": "markdown",
   "metadata": {},
   "source": [
    "## Creating the Crew\n",
    "\n",
    "- Create your crew of Agents\n",
    "- Pass the tasks to be performed by those agents.\n",
    "    - **Note**: *For this simple example*, the tasks will be performed sequentially (i.e they are dependent on each other), so the _order_ of the task in the list _matters_.\n",
    "- `verbose=2` allows you to see all the logs of the execution. "
   ]
  },
  {
   "cell_type": "code",
   "execution_count": 10,
   "metadata": {
    "height": 98
   },
   "outputs": [],
   "source": [
    "crew = Crew(\n",
    "    agents=[planner, writer, editor],\n",
    "    tasks=[plan, write, edit],\n",
    "    verbose=2\n",
    ")"
   ]
  },
  {
   "cell_type": "markdown",
   "metadata": {},
   "source": [
    "## Running the Crew"
   ]
  },
  {
   "cell_type": "markdown",
   "metadata": {},
   "source": [
    "**Note**: LLMs can provide different outputs for they same input, so what you get might be different than what you see in the video."
   ]
  },
  {
   "cell_type": "code",
   "execution_count": 11,
   "metadata": {
    "height": 30
   },
   "outputs": [
    {
     "name": "stdout",
     "output_type": "stream",
     "text": [
      "\u001b[1m\u001b[95m [DEBUG]: == Working Agent: Content Planner\u001b[00m\n",
      "\u001b[1m\u001b[95m [INFO]: == Starting Task: 1. Prioritize the latest trends, key players, and noteworthy news on Artificial Intelligence.\n",
      "2. Identify the target audience, considering their interests and pain points.\n",
      "3. Develop a detailed content outline including an introduction, key points, and a call to action.\n",
      "4. Include SEO keywords and relevant data or sources.\u001b[00m\n",
      "\n",
      "\n",
      "\u001b[1m> Entering new CrewAgentExecutor chain...\u001b[0m\n",
      "\u001b[32;1m\u001b[1;3mI now can give a great answer\n",
      "\n",
      "Final Answer: \n",
      "\n",
      "Content Plan: \n",
      "\n",
      "Title: The Future of Artificial Intelligence: Latest Trends, Key Players, and Noteworthy News\n",
      "\n",
      "Introduction:\n",
      "- Brief overview of the current landscape of artificial intelligence\n",
      "- Importance of staying up to date with the latest trends and key players in the industry\n",
      "\n",
      "Key Points:\n",
      "1. Latest Trends in Artificial Intelligence:\n",
      "- Machine learning advancements\n",
      "- AI in healthcare and finance\n",
      "- Ethical considerations in AI development\n",
      "\n",
      "2. Key Players in Artificial Intelligence:\n",
      "- Google DeepMind\n",
      "- IBM Watson\n",
      "- Tesla Neural Networks\n",
      "\n",
      "3. Noteworthy News in Artificial Intelligence:\n",
      "- Recent breakthroughs in natural language processing\n",
      "- Impact of AI on job market\n",
      "- Regulation and privacy concerns\n",
      "\n",
      "Target Audience:\n",
      "- Tech-savvy individuals interested in the latest advancements in AI\n",
      "- Business professionals looking to implement AI solutions\n",
      "- Students studying AI or related fields\n",
      "\n",
      "SEO Keywords:\n",
      "- Artificial intelligence trends\n",
      "- Key players in AI\n",
      "- Latest AI news\n",
      "- Machine learning advancements\n",
      "- Ethical AI development\n",
      "\n",
      "Call to Action:\n",
      "- Encourage readers to stay informed by following reputable AI news sources\n",
      "- Prompt readers to consider the implications of AI on society and their own lives\n",
      "\n",
      "Resources:\n",
      "- Forbes: \"Top Artificial Intelligence Trends to Watch in 2021\"\n",
      "- MIT Technology Review: \"The Ethics of Artificial Intelligence\"\n",
      "- TechCrunch: \"10 Key Players in the AI Industry\"\n",
      "\n",
      "By following this content plan, the blog article on artificial intelligence will provide valuable information to the target audience while incorporating SEO keywords and reliable sources to enhance credibility and engagement.\u001b[0m\n",
      "\n",
      "\u001b[1m> Finished chain.\u001b[0m\n",
      "\u001b[1m\u001b[92m [DEBUG]: == [Content Planner] Task output: Content Plan: \n",
      "\n",
      "Title: The Future of Artificial Intelligence: Latest Trends, Key Players, and Noteworthy News\n",
      "\n",
      "Introduction:\n",
      "- Brief overview of the current landscape of artificial intelligence\n",
      "- Importance of staying up to date with the latest trends and key players in the industry\n",
      "\n",
      "Key Points:\n",
      "1. Latest Trends in Artificial Intelligence:\n",
      "- Machine learning advancements\n",
      "- AI in healthcare and finance\n",
      "- Ethical considerations in AI development\n",
      "\n",
      "2. Key Players in Artificial Intelligence:\n",
      "- Google DeepMind\n",
      "- IBM Watson\n",
      "- Tesla Neural Networks\n",
      "\n",
      "3. Noteworthy News in Artificial Intelligence:\n",
      "- Recent breakthroughs in natural language processing\n",
      "- Impact of AI on job market\n",
      "- Regulation and privacy concerns\n",
      "\n",
      "Target Audience:\n",
      "- Tech-savvy individuals interested in the latest advancements in AI\n",
      "- Business professionals looking to implement AI solutions\n",
      "- Students studying AI or related fields\n",
      "\n",
      "SEO Keywords:\n",
      "- Artificial intelligence trends\n",
      "- Key players in AI\n",
      "- Latest AI news\n",
      "- Machine learning advancements\n",
      "- Ethical AI development\n",
      "\n",
      "Call to Action:\n",
      "- Encourage readers to stay informed by following reputable AI news sources\n",
      "- Prompt readers to consider the implications of AI on society and their own lives\n",
      "\n",
      "Resources:\n",
      "- Forbes: \"Top Artificial Intelligence Trends to Watch in 2021\"\n",
      "- MIT Technology Review: \"The Ethics of Artificial Intelligence\"\n",
      "- TechCrunch: \"10 Key Players in the AI Industry\"\n",
      "\n",
      "By following this content plan, the blog article on artificial intelligence will provide valuable information to the target audience while incorporating SEO keywords and reliable sources to enhance credibility and engagement.\n",
      "\n",
      "\u001b[00m\n",
      "\u001b[1m\u001b[95m [DEBUG]: == Working Agent: Content Writer\u001b[00m\n",
      "\u001b[1m\u001b[95m [INFO]: == Starting Task: 1. Use the content plan to craft a compelling blog post on Artificial Intelligence.\n",
      "2. Incorporate SEO keywords naturally.\n",
      "3. Sections/Subtitles are properly named in an engaging manner.\n",
      "4. Ensure the post is structured with an engaging introduction, insightful body, and a summarizing conclusion.\n",
      "5. Proofread for grammatical errors and alignment with the brand's voice.\n",
      "\u001b[00m\n",
      "\n",
      "\n",
      "\u001b[1m> Entering new CrewAgentExecutor chain...\u001b[0m\n",
      "\u001b[32;1m\u001b[1;3mI am ready to craft a compelling blog post on Artificial Intelligence that incorporates the latest trends, key players, and noteworthy news in the industry. By following the content plan provided, I aim to provide valuable insights to tech-savvy individuals, business professionals, and students interested in AI.\n",
      "\n",
      "Final Answer:\n",
      "\n",
      "# The Future of Artificial Intelligence: Latest Trends, Key Players, and Noteworthy News\n",
      "\n",
      "## Introduction\n",
      "\n",
      "Artificial intelligence (AI) is rapidly transforming the way we live and work, with advancements in machine learning, healthcare, finance, and more. Staying up to date with the latest trends and key players in the industry is crucial for anyone looking to harness the power of AI effectively.\n",
      "\n",
      "## Latest Trends in Artificial Intelligence\n",
      "\n",
      "One of the most exciting trends in AI is the continuous advancements in machine learning. Algorithms are becoming more sophisticated, enabling AI systems to learn and adapt in real-time. In addition, AI is making significant strides in healthcare and finance, with applications ranging from personalized medicine to algorithmic trading. However, as AI becomes more prevalent, ethical considerations in its development are becoming increasingly important. Ensuring that AI is used responsibly and ethically is essential to prevent potential harm.\n",
      "\n",
      "## Key Players in Artificial Intelligence\n",
      "\n",
      "Several key players are leading the way in AI innovation. Google DeepMind, known for its groundbreaking work in deep learning and reinforcement learning, is at the forefront of AI research. IBM Watson is another major player, offering AI-powered solutions for businesses across various industries. Tesla Neural Networks, spearheaded by Elon Musk, are pushing the boundaries of AI in autonomous vehicles and beyond.\n",
      "\n",
      "## Noteworthy News in Artificial Intelligence\n",
      "\n",
      "Recent breakthroughs in natural language processing have captured the attention of the AI community, with models like GPT-3 demonstrating remarkable language generation capabilities. However, the impact of AI on the job market is a growing concern, as automation threatens to disrupt traditional roles. Regulatory efforts and privacy concerns surrounding AI technologies are also gaining traction, as policymakers grapple with the implications of widespread AI adoption.\n",
      "\n",
      "## Conclusion\n",
      "\n",
      "As AI continues to evolve, it is essential to stay informed about the latest trends, key players, and noteworthy news in the industry. By following reputable AI news sources and considering the ethical implications of AI development, we can ensure that AI benefits society as a whole. Whether you are a tech enthusiast, business professional, or student, staying engaged with the dynamic world of AI is key to unlocking its full potential.\u001b[0m\n",
      "\n",
      "\u001b[1m> Finished chain.\u001b[0m\n",
      "\u001b[1m\u001b[92m [DEBUG]: == [Content Writer] Task output: # The Future of Artificial Intelligence: Latest Trends, Key Players, and Noteworthy News\n",
      "\n",
      "## Introduction\n",
      "\n",
      "Artificial intelligence (AI) is rapidly transforming the way we live and work, with advancements in machine learning, healthcare, finance, and more. Staying up to date with the latest trends and key players in the industry is crucial for anyone looking to harness the power of AI effectively.\n",
      "\n",
      "## Latest Trends in Artificial Intelligence\n",
      "\n",
      "One of the most exciting trends in AI is the continuous advancements in machine learning. Algorithms are becoming more sophisticated, enabling AI systems to learn and adapt in real-time. In addition, AI is making significant strides in healthcare and finance, with applications ranging from personalized medicine to algorithmic trading. However, as AI becomes more prevalent, ethical considerations in its development are becoming increasingly important. Ensuring that AI is used responsibly and ethically is essential to prevent potential harm.\n",
      "\n",
      "## Key Players in Artificial Intelligence\n",
      "\n",
      "Several key players are leading the way in AI innovation. Google DeepMind, known for its groundbreaking work in deep learning and reinforcement learning, is at the forefront of AI research. IBM Watson is another major player, offering AI-powered solutions for businesses across various industries. Tesla Neural Networks, spearheaded by Elon Musk, are pushing the boundaries of AI in autonomous vehicles and beyond.\n",
      "\n",
      "## Noteworthy News in Artificial Intelligence\n",
      "\n",
      "Recent breakthroughs in natural language processing have captured the attention of the AI community, with models like GPT-3 demonstrating remarkable language generation capabilities. However, the impact of AI on the job market is a growing concern, as automation threatens to disrupt traditional roles. Regulatory efforts and privacy concerns surrounding AI technologies are also gaining traction, as policymakers grapple with the implications of widespread AI adoption.\n",
      "\n",
      "## Conclusion\n",
      "\n",
      "As AI continues to evolve, it is essential to stay informed about the latest trends, key players, and noteworthy news in the industry. By following reputable AI news sources and considering the ethical implications of AI development, we can ensure that AI benefits society as a whole. Whether you are a tech enthusiast, business professional, or student, staying engaged with the dynamic world of AI is key to unlocking its full potential.\n",
      "\n",
      "\u001b[00m\n",
      "\u001b[1m\u001b[95m [DEBUG]: == Working Agent: Editor\u001b[00m\n",
      "\u001b[1m\u001b[95m [INFO]: == Starting Task: Proofread the given blog post for grammatical errors and alignment with the brand's voice.\u001b[00m\n",
      "\n",
      "\n",
      "\u001b[1m> Entering new CrewAgentExecutor chain...\u001b[0m\n"
     ]
    },
    {
     "name": "stdout",
     "output_type": "stream",
     "text": [
      "\u001b[32;1m\u001b[1;3mI now can give a great answer\n",
      "\n",
      "Final Answer:\n",
      "# The Future of Artificial Intelligence: Latest Trends, Key Players, and Noteworthy News\n",
      "\n",
      "## Introduction\n",
      "\n",
      "Artificial intelligence (AI) is rapidly transforming various aspects of our lives, from healthcare to finance, through continuous advancements in machine learning. Staying abreast of the latest trends and key players in the AI industry is crucial for individuals looking to leverage its power effectively. As AI becomes more integrated into society, understanding its impact and ethical considerations is essential.\n",
      "\n",
      "## Latest Trends in Artificial Intelligence\n",
      "\n",
      "A notable trend in AI is the ongoing advancements in machine learning, leading to more sophisticated algorithms that enable AI systems to learn and adapt in real-time. The applications of AI in healthcare and finance are expanding, from personalized medicine to algorithmic trading. However, the ethical development and responsible use of AI are paramount to avoid potential harm as its presence grows.\n",
      "\n",
      "## Key Players in Artificial Intelligence\n",
      "\n",
      "Leading the charge in AI innovation are key players such as Google DeepMind, renowned for its work in deep learning and reinforcement learning. IBM Watson is another major player, providing AI-powered solutions across diverse industries. Tesla Neural Networks, under the guidance of Elon Musk, are pushing the boundaries of AI in autonomous vehicles and other domains.\n",
      "\n",
      "## Noteworthy News in Artificial Intelligence\n",
      "\n",
      "Recent breakthroughs in natural language processing, exemplified by models like GPT-3, have impressed the AI community with their language generation capabilities. However, concerns about the impact of AI on the job market are rising as automation threatens traditional roles. Regulatory efforts and privacy concerns surrounding AI technologies are also gaining traction as policymakers grapple with the implications of widespread AI adoption.\n",
      "\n",
      "## Conclusion\n",
      "\n",
      "Remaining informed about the latest trends, key players, and noteworthy news in the AI industry is crucial as AI continues to progress. By following reputable AI news sources and considering the ethical dimensions of AI development, we can ensure that AI benefits society as a whole. Whether you are a tech enthusiast, business professional, or student, engagement with the dynamic world of AI is essential for unlocking its full potential.\u001b[0m\n",
      "\n",
      "\u001b[1m> Finished chain.\u001b[0m\n",
      "\u001b[1m\u001b[92m [DEBUG]: == [Editor] Task output: # The Future of Artificial Intelligence: Latest Trends, Key Players, and Noteworthy News\n",
      "\n",
      "## Introduction\n",
      "\n",
      "Artificial intelligence (AI) is rapidly transforming various aspects of our lives, from healthcare to finance, through continuous advancements in machine learning. Staying abreast of the latest trends and key players in the AI industry is crucial for individuals looking to leverage its power effectively. As AI becomes more integrated into society, understanding its impact and ethical considerations is essential.\n",
      "\n",
      "## Latest Trends in Artificial Intelligence\n",
      "\n",
      "A notable trend in AI is the ongoing advancements in machine learning, leading to more sophisticated algorithms that enable AI systems to learn and adapt in real-time. The applications of AI in healthcare and finance are expanding, from personalized medicine to algorithmic trading. However, the ethical development and responsible use of AI are paramount to avoid potential harm as its presence grows.\n",
      "\n",
      "## Key Players in Artificial Intelligence\n",
      "\n",
      "Leading the charge in AI innovation are key players such as Google DeepMind, renowned for its work in deep learning and reinforcement learning. IBM Watson is another major player, providing AI-powered solutions across diverse industries. Tesla Neural Networks, under the guidance of Elon Musk, are pushing the boundaries of AI in autonomous vehicles and other domains.\n",
      "\n",
      "## Noteworthy News in Artificial Intelligence\n",
      "\n",
      "Recent breakthroughs in natural language processing, exemplified by models like GPT-3, have impressed the AI community with their language generation capabilities. However, concerns about the impact of AI on the job market are rising as automation threatens traditional roles. Regulatory efforts and privacy concerns surrounding AI technologies are also gaining traction as policymakers grapple with the implications of widespread AI adoption.\n",
      "\n",
      "## Conclusion\n",
      "\n",
      "Remaining informed about the latest trends, key players, and noteworthy news in the AI industry is crucial as AI continues to progress. By following reputable AI news sources and considering the ethical dimensions of AI development, we can ensure that AI benefits society as a whole. Whether you are a tech enthusiast, business professional, or student, engagement with the dynamic world of AI is essential for unlocking its full potential.\n",
      "\n",
      "\u001b[00m\n"
     ]
    }
   ],
   "source": [
    "result = crew.kickoff(inputs={\"topic\": \"Artificial Intelligence\"})"
   ]
  },
  {
   "cell_type": "markdown",
   "metadata": {},
   "source": [
    "- Display the results of your execution as markdown in the notebook."
   ]
  },
  {
   "cell_type": "code",
   "execution_count": 12,
   "metadata": {
    "height": 47
   },
   "outputs": [
    {
     "data": {
      "text/markdown": [
       "# The Future of Artificial Intelligence: Latest Trends, Key Players, and Noteworthy News\n",
       "\n",
       "## Introduction\n",
       "\n",
       "Artificial intelligence (AI) is rapidly transforming various aspects of our lives, from healthcare to finance, through continuous advancements in machine learning. Staying abreast of the latest trends and key players in the AI industry is crucial for individuals looking to leverage its power effectively. As AI becomes more integrated into society, understanding its impact and ethical considerations is essential.\n",
       "\n",
       "## Latest Trends in Artificial Intelligence\n",
       "\n",
       "A notable trend in AI is the ongoing advancements in machine learning, leading to more sophisticated algorithms that enable AI systems to learn and adapt in real-time. The applications of AI in healthcare and finance are expanding, from personalized medicine to algorithmic trading. However, the ethical development and responsible use of AI are paramount to avoid potential harm as its presence grows.\n",
       "\n",
       "## Key Players in Artificial Intelligence\n",
       "\n",
       "Leading the charge in AI innovation are key players such as Google DeepMind, renowned for its work in deep learning and reinforcement learning. IBM Watson is another major player, providing AI-powered solutions across diverse industries. Tesla Neural Networks, under the guidance of Elon Musk, are pushing the boundaries of AI in autonomous vehicles and other domains.\n",
       "\n",
       "## Noteworthy News in Artificial Intelligence\n",
       "\n",
       "Recent breakthroughs in natural language processing, exemplified by models like GPT-3, have impressed the AI community with their language generation capabilities. However, concerns about the impact of AI on the job market are rising as automation threatens traditional roles. Regulatory efforts and privacy concerns surrounding AI technologies are also gaining traction as policymakers grapple with the implications of widespread AI adoption.\n",
       "\n",
       "## Conclusion\n",
       "\n",
       "Remaining informed about the latest trends, key players, and noteworthy news in the AI industry is crucial as AI continues to progress. By following reputable AI news sources and considering the ethical dimensions of AI development, we can ensure that AI benefits society as a whole. Whether you are a tech enthusiast, business professional, or student, engagement with the dynamic world of AI is essential for unlocking its full potential."
      ],
      "text/plain": [
       "<IPython.core.display.Markdown object>"
      ]
     },
     "execution_count": 12,
     "metadata": {},
     "output_type": "execute_result"
    }
   ],
   "source": [
    "from IPython.display import Markdown\n",
    "Markdown(result)"
   ]
  },
  {
   "cell_type": "markdown",
   "metadata": {},
   "source": [
    "## Try it Yourself\n",
    "\n",
    "- Pass in a topic of your choice and see what the agents come up with!"
   ]
  },
  {
   "cell_type": "code",
   "execution_count": 13,
   "metadata": {
    "height": 47
   },
   "outputs": [
    {
     "name": "stdout",
     "output_type": "stream",
     "text": [
      "\u001b[1m\u001b[95m [DEBUG]: == Working Agent: Content Planner\u001b[00m\n",
      "\u001b[1m\u001b[95m [INFO]: == Starting Task: 1. Prioritize the latest trends, key players, and noteworthy news on YOUR TOPIC HERE.\n",
      "2. Identify the target audience, considering their interests and pain points.\n",
      "3. Develop a detailed content outline including an introduction, key points, and a call to action.\n",
      "4. Include SEO keywords and relevant data or sources.\u001b[00m\n",
      "\n",
      "\n",
      "\u001b[1m> Entering new CrewAgentExecutor chain...\u001b[0m\n",
      "\u001b[32;1m\u001b[1;3mI now can give a great answer\n",
      "\n",
      "Final Answer: \n",
      "\n",
      "Content Plan for Blog Article on \"Impact of Social Media on Mental Health\"\n",
      "\n",
      "1. Latest Trends, Key Players, and Noteworthy News:\n",
      "- Latest trend: Increase in social media usage during the pandemic\n",
      "- Key players: Facebook, Instagram, Twitter, TikTok\n",
      "- Noteworthy news: Studies linking excessive social media use to mental health issues\n",
      "\n",
      "2. Target Audience:\n",
      "- Young adults aged 18-35\n",
      "- Interested in mental health awareness and social media trends\n",
      "- Pain points: Feeling overwhelmed by constant comparison on social media, struggling with mental health issues exacerbated by social media use\n",
      "\n",
      "3. Content Outline:\n",
      "Introduction:\n",
      "- Brief overview of the rise of social media and its impact on society\n",
      "- Introduction to the topic of mental health and the connection to social media\n",
      "\n",
      "Key Points:\n",
      "1. Positive impacts of social media on mental health (e.g. support communities, access to resources)\n",
      "2. Negative impacts of social media on mental health (e.g. comparison, cyberbullying)\n",
      "3. Tips for maintaining a healthy relationship with social media\n",
      "4. Personal stories or case studies illustrating the impact of social media on mental health\n",
      "\n",
      "Call to Action:\n",
      "- Encourage readers to reflect on their own social media usage and its effects on their mental health\n",
      "- Provide resources for mental health support and ways to seek help if needed\n",
      "\n",
      "4. SEO Keywords:\n",
      "- Social media and mental health\n",
      "- Impact of social media on mental well-being\n",
      "- Social media usage and mental health effects\n",
      "- Mental health tips for social media users\n",
      "\n",
      "Resources:\n",
      "1. American Psychological Association - Social Media and Mental Health\n",
      "2. National Alliance on Mental Illness - Social Media and Mental Health Resources\n",
      "3. Pew Research Center - Social Media Use in 2021\n",
      "\n",
      "By following this content plan, the blog article on the impact of social media on mental health will provide valuable insights and information for the target audience, helping them make informed decisions about their social media usage and mental well-being.\u001b[0m\n",
      "\n",
      "\u001b[1m> Finished chain.\u001b[0m\n",
      "\u001b[1m\u001b[92m [DEBUG]: == [Content Planner] Task output: Content Plan for Blog Article on \"Impact of Social Media on Mental Health\"\n",
      "\n",
      "1. Latest Trends, Key Players, and Noteworthy News:\n",
      "- Latest trend: Increase in social media usage during the pandemic\n",
      "- Key players: Facebook, Instagram, Twitter, TikTok\n",
      "- Noteworthy news: Studies linking excessive social media use to mental health issues\n",
      "\n",
      "2. Target Audience:\n",
      "- Young adults aged 18-35\n",
      "- Interested in mental health awareness and social media trends\n",
      "- Pain points: Feeling overwhelmed by constant comparison on social media, struggling with mental health issues exacerbated by social media use\n",
      "\n",
      "3. Content Outline:\n",
      "Introduction:\n",
      "- Brief overview of the rise of social media and its impact on society\n",
      "- Introduction to the topic of mental health and the connection to social media\n",
      "\n",
      "Key Points:\n",
      "1. Positive impacts of social media on mental health (e.g. support communities, access to resources)\n",
      "2. Negative impacts of social media on mental health (e.g. comparison, cyberbullying)\n",
      "3. Tips for maintaining a healthy relationship with social media\n",
      "4. Personal stories or case studies illustrating the impact of social media on mental health\n",
      "\n",
      "Call to Action:\n",
      "- Encourage readers to reflect on their own social media usage and its effects on their mental health\n",
      "- Provide resources for mental health support and ways to seek help if needed\n",
      "\n",
      "4. SEO Keywords:\n",
      "- Social media and mental health\n",
      "- Impact of social media on mental well-being\n",
      "- Social media usage and mental health effects\n",
      "- Mental health tips for social media users\n",
      "\n",
      "Resources:\n",
      "1. American Psychological Association - Social Media and Mental Health\n",
      "2. National Alliance on Mental Illness - Social Media and Mental Health Resources\n",
      "3. Pew Research Center - Social Media Use in 2021\n",
      "\n",
      "By following this content plan, the blog article on the impact of social media on mental health will provide valuable insights and information for the target audience, helping them make informed decisions about their social media usage and mental well-being.\n",
      "\n",
      "\u001b[00m\n",
      "\u001b[1m\u001b[95m [DEBUG]: == Working Agent: Content Writer\u001b[00m\n",
      "\u001b[1m\u001b[95m [INFO]: == Starting Task: 1. Use the content plan to craft a compelling blog post on YOUR TOPIC HERE.\n",
      "2. Incorporate SEO keywords naturally.\n",
      "3. Sections/Subtitles are properly named in an engaging manner.\n",
      "4. Ensure the post is structured with an engaging introduction, insightful body, and a summarizing conclusion.\n",
      "5. Proofread for grammatical errors and alignment with the brand's voice.\n",
      "\u001b[00m\n",
      "\n",
      "\n",
      "\u001b[1m> Entering new CrewAgentExecutor chain...\u001b[0m\n",
      "\u001b[32;1m\u001b[1;3mI understand the content plan provided and the importance of crafting a compelling blog post on the impact of social media on mental health. I will ensure to incorporate the SEO keywords naturally and structure the post with an engaging introduction, insightful body, and a summarizing conclusion. It's crucial to keep the target audience in mind, focusing on young adults aged 18-35 who are interested in mental health awareness and social media trends.\n",
      "\n",
      "Final Answer:\n",
      "\n",
      "# The Impact of Social Media on Mental Health\n",
      "\n",
      "In today's digital age, social media has become an integral part of our daily lives, connecting us to friends, family, and the world at large. However, with the rise of social media platforms such as Facebook, Instagram, Twitter, and TikTok, there has been a growing concern about its impact on mental health. Recent trends have shown an increase in social media usage, especially during the pandemic, as people turned to these platforms for connection and entertainment. \n",
      "\n",
      "Studies have highlighted the negative effects of excessive social media use on mental health, including feelings of inadequacy, loneliness, and anxiety. Young adults aged 18-35, the key players in the social media landscape, often find themselves overwhelmed by constant comparison on these platforms, leading to a decline in mental well-being. Cyberbullying and online harassment are also prevalent issues that can exacerbate existing mental health problems.\n",
      "\n",
      "On the flip side, social media can also have positive impacts on mental health. It provides a platform for support communities to thrive, offering individuals a sense of belonging and understanding. Moreover, social media serves as a gateway to valuable mental health resources and information, empowering users to seek help and support when needed. \n",
      "\n",
      "To maintain a healthy relationship with social media, it's essential for users to set boundaries, practice self-care, and be mindful of their online interactions. By reflecting on their social media usage and its effects on their mental health, individuals can take steps to prioritize their well-being. Seeking help from mental health resources and support groups can also make a significant difference in managing the negative impact of social media on mental health.\n",
      "\n",
      "In conclusion, while social media can have both positive and negative effects on mental health, it's crucial for individuals to be aware of how their usage impacts their well-being. By taking proactive steps to maintain a healthy relationship with social media and seeking support when needed, young adults can navigate the digital landscape with greater resilience and self-awareness. Remember, your mental health matters, both online and offline.\u001b[0m\n",
      "\n",
      "\u001b[1m> Finished chain.\u001b[0m\n",
      "\u001b[1m\u001b[92m [DEBUG]: == [Content Writer] Task output: # The Impact of Social Media on Mental Health\n",
      "\n",
      "In today's digital age, social media has become an integral part of our daily lives, connecting us to friends, family, and the world at large. However, with the rise of social media platforms such as Facebook, Instagram, Twitter, and TikTok, there has been a growing concern about its impact on mental health. Recent trends have shown an increase in social media usage, especially during the pandemic, as people turned to these platforms for connection and entertainment. \n",
      "\n",
      "Studies have highlighted the negative effects of excessive social media use on mental health, including feelings of inadequacy, loneliness, and anxiety. Young adults aged 18-35, the key players in the social media landscape, often find themselves overwhelmed by constant comparison on these platforms, leading to a decline in mental well-being. Cyberbullying and online harassment are also prevalent issues that can exacerbate existing mental health problems.\n",
      "\n",
      "On the flip side, social media can also have positive impacts on mental health. It provides a platform for support communities to thrive, offering individuals a sense of belonging and understanding. Moreover, social media serves as a gateway to valuable mental health resources and information, empowering users to seek help and support when needed. \n",
      "\n",
      "To maintain a healthy relationship with social media, it's essential for users to set boundaries, practice self-care, and be mindful of their online interactions. By reflecting on their social media usage and its effects on their mental health, individuals can take steps to prioritize their well-being. Seeking help from mental health resources and support groups can also make a significant difference in managing the negative impact of social media on mental health.\n",
      "\n",
      "In conclusion, while social media can have both positive and negative effects on mental health, it's crucial for individuals to be aware of how their usage impacts their well-being. By taking proactive steps to maintain a healthy relationship with social media and seeking support when needed, young adults can navigate the digital landscape with greater resilience and self-awareness. Remember, your mental health matters, both online and offline.\n",
      "\n",
      "\u001b[00m\n",
      "\u001b[1m\u001b[95m [DEBUG]: == Working Agent: Editor\u001b[00m\n",
      "\u001b[1m\u001b[95m [INFO]: == Starting Task: Proofread the given blog post for grammatical errors and alignment with the brand's voice.\u001b[00m\n",
      "\n",
      "\n",
      "\u001b[1m> Entering new CrewAgentExecutor chain...\u001b[0m\n"
     ]
    },
    {
     "name": "stdout",
     "output_type": "stream",
     "text": [
      "\u001b[32;1m\u001b[1;3mI now can give a great answer\n",
      "\n",
      "Final Answer:\n",
      "# The Impact of Social Media on Mental Health\n",
      "\n",
      "In today's fast-paced digital world, social media plays a significant role in shaping how we connect with others and consume information. The prevalence of platforms like Facebook, Instagram, Twitter, and TikTok has undoubtedly revolutionized the way we interact with the world around us. However, along with the benefits of increased connectivity and entertainment, there is a growing concern about the impact of social media on mental health.\n",
      "\n",
      "Numerous studies have pointed out the negative consequences of excessive social media use, particularly among young adults. The constant exposure to curated images and lifestyles on these platforms can lead to feelings of inadequacy, comparison, and anxiety. In addition, cyberbullying and online harassment have emerged as serious issues that can have detrimental effects on an individual's mental well-being.\n",
      "\n",
      "Despite the potential drawbacks, social media also offers a platform for positive experiences and support. Many individuals find solace in online communities that provide a sense of belonging and understanding. Furthermore, social media serves as a valuable resource for mental health information and support services, empowering users to seek help when needed. \n",
      "\n",
      "In order to maintain a healthy relationship with social media, it is essential for individuals to establish boundaries, prioritize self-care, and be mindful of their online interactions. By being conscious of how social media affects their mental health, users can take proactive steps to safeguard their well-being. Seeking help from mental health professionals and support groups can also play a crucial role in mitigating the negative impact of social media on mental health. Remember, your mental health is important both online and offline.\u001b[0m\n",
      "\n",
      "\u001b[1m> Finished chain.\u001b[0m\n",
      "\u001b[1m\u001b[92m [DEBUG]: == [Editor] Task output: # The Impact of Social Media on Mental Health\n",
      "\n",
      "In today's fast-paced digital world, social media plays a significant role in shaping how we connect with others and consume information. The prevalence of platforms like Facebook, Instagram, Twitter, and TikTok has undoubtedly revolutionized the way we interact with the world around us. However, along with the benefits of increased connectivity and entertainment, there is a growing concern about the impact of social media on mental health.\n",
      "\n",
      "Numerous studies have pointed out the negative consequences of excessive social media use, particularly among young adults. The constant exposure to curated images and lifestyles on these platforms can lead to feelings of inadequacy, comparison, and anxiety. In addition, cyberbullying and online harassment have emerged as serious issues that can have detrimental effects on an individual's mental well-being.\n",
      "\n",
      "Despite the potential drawbacks, social media also offers a platform for positive experiences and support. Many individuals find solace in online communities that provide a sense of belonging and understanding. Furthermore, social media serves as a valuable resource for mental health information and support services, empowering users to seek help when needed. \n",
      "\n",
      "In order to maintain a healthy relationship with social media, it is essential for individuals to establish boundaries, prioritize self-care, and be mindful of their online interactions. By being conscious of how social media affects their mental health, users can take proactive steps to safeguard their well-being. Seeking help from mental health professionals and support groups can also play a crucial role in mitigating the negative impact of social media on mental health. Remember, your mental health is important both online and offline.\n",
      "\n",
      "\u001b[00m\n"
     ]
    }
   ],
   "source": [
    "topic = \"YOUR TOPIC HERE\"\n",
    "result = crew.kickoff(inputs={\"topic\": topic})"
   ]
  },
  {
   "cell_type": "code",
   "execution_count": 14,
   "metadata": {
    "height": 30
   },
   "outputs": [
    {
     "data": {
      "text/markdown": [
       "# The Impact of Social Media on Mental Health\n",
       "\n",
       "In today's fast-paced digital world, social media plays a significant role in shaping how we connect with others and consume information. The prevalence of platforms like Facebook, Instagram, Twitter, and TikTok has undoubtedly revolutionized the way we interact with the world around us. However, along with the benefits of increased connectivity and entertainment, there is a growing concern about the impact of social media on mental health.\n",
       "\n",
       "Numerous studies have pointed out the negative consequences of excessive social media use, particularly among young adults. The constant exposure to curated images and lifestyles on these platforms can lead to feelings of inadequacy, comparison, and anxiety. In addition, cyberbullying and online harassment have emerged as serious issues that can have detrimental effects on an individual's mental well-being.\n",
       "\n",
       "Despite the potential drawbacks, social media also offers a platform for positive experiences and support. Many individuals find solace in online communities that provide a sense of belonging and understanding. Furthermore, social media serves as a valuable resource for mental health information and support services, empowering users to seek help when needed. \n",
       "\n",
       "In order to maintain a healthy relationship with social media, it is essential for individuals to establish boundaries, prioritize self-care, and be mindful of their online interactions. By being conscious of how social media affects their mental health, users can take proactive steps to safeguard their well-being. Seeking help from mental health professionals and support groups can also play a crucial role in mitigating the negative impact of social media on mental health. Remember, your mental health is important both online and offline."
      ],
      "text/plain": [
       "<IPython.core.display.Markdown object>"
      ]
     },
     "execution_count": 14,
     "metadata": {},
     "output_type": "execute_result"
    }
   ],
   "source": [
    "Markdown(result)"
   ]
  },
  {
   "cell_type": "markdown",
   "metadata": {},
   "source": [
    "<a name='1'></a>\n",
    " ## Other Popular Models as LLM for your Agents"
   ]
  },
  {
   "cell_type": "markdown",
   "metadata": {},
   "source": [
    "#### Hugging Face (HuggingFaceHub endpoint)\n",
    "\n",
    "```Python\n",
    "from langchain_community.llms import HuggingFaceHub\n",
    "\n",
    "llm = HuggingFaceHub(\n",
    "    repo_id=\"HuggingFaceH4/zephyr-7b-beta\",\n",
    "    huggingfacehub_api_token=\"<HF_TOKEN_HERE>\",\n",
    "    task=\"text-generation\",\n",
    ")\n",
    "\n",
    "### you will pass \"llm\" to your agent function\n",
    "```"
   ]
  },
  {
   "cell_type": "markdown",
   "metadata": {},
   "source": [
    "#### Mistral API\n",
    "\n",
    "```Python\n",
    "OPENAI_API_KEY=your-mistral-api-key\n",
    "OPENAI_API_BASE=https://api.mistral.ai/v1\n",
    "OPENAI_MODEL_NAME=\"mistral-small\"\n",
    "```"
   ]
  },
  {
   "cell_type": "markdown",
   "metadata": {},
   "source": [
    "#### Cohere\n",
    "\n",
    "```Python\n",
    "from langchain_community.chat_models import ChatCohere\n",
    "# Initialize language model\n",
    "os.environ[\"COHERE_API_KEY\"] = \"your-cohere-api-key\"\n",
    "llm = ChatCohere()\n",
    "\n",
    "### you will pass \"llm\" to your agent function\n",
    "```"
   ]
  },
  {
   "cell_type": "markdown",
   "metadata": {},
   "source": [
    "### For using Llama locally with Ollama and more, checkout the crewAI documentation on [Connecting to any LLM](https://docs.crewai.com/how-to/LLM-Connections/)."
   ]
  },
  {
   "cell_type": "code",
   "execution_count": null,
   "metadata": {
    "height": 30
   },
   "outputs": [],
   "source": []
  },
  {
   "cell_type": "code",
   "execution_count": null,
   "metadata": {
    "height": 30
   },
   "outputs": [],
   "source": []
  },
  {
   "cell_type": "code",
   "execution_count": null,
   "metadata": {
    "height": 30
   },
   "outputs": [],
   "source": []
  }
 ],
 "metadata": {
  "colab": {
   "gpuType": "T4",
   "provenance": []
  },
  "kernelspec": {
   "display_name": "Python 3 (ipykernel)",
   "language": "python",
   "name": "python3"
  },
  "language_info": {
   "codemirror_mode": {
    "name": "ipython",
    "version": 3
   },
   "file_extension": ".py",
   "mimetype": "text/x-python",
   "name": "python",
   "nbconvert_exporter": "python",
   "pygments_lexer": "ipython3",
   "version": "3.11.9"
  }
 },
 "nbformat": 4,
 "nbformat_minor": 4
}

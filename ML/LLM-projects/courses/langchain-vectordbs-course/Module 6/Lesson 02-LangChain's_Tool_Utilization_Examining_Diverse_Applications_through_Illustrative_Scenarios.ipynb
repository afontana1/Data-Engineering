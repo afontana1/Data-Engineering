{
  "nbformat": 4,
  "nbformat_minor": 0,
  "metadata": {
    "colab": {
      "provenance": [],
      "authorship_tag": "ABX9TyPnRLZE087Jr20JBhLWcmNb",
      "include_colab_link": true
    },
    "kernelspec": {
      "name": "python3",
      "display_name": "Python 3"
    },
    "language_info": {
      "name": "python"
    }
  },
  "cells": [
    {
      "cell_type": "markdown",
      "metadata": {
        "id": "view-in-github",
        "colab_type": "text"
      },
      "source": [
        "<a href=\"https://colab.research.google.com/github/AlaFalaki/langchain-vectordbs-course/blob/main/Module%206/Lesson%2002-LangChain's_Tool_Utilization_Examining_Diverse_Applications_through_Illustrative_Scenarios.ipynb\" target=\"_parent\"><img src=\"https://colab.research.google.com/assets/colab-badge.svg\" alt=\"Open In Colab\"/></a>"
      ]
    },
    {
      "cell_type": "code",
      "execution_count": null,
      "metadata": {
        "colab": {
          "base_uri": "https://localhost:8080/"
        },
        "id": "jTC0DUiGPKT-",
        "outputId": "a2edb221-6b44-4f5a-ffc2-a5be462182a6"
      },
      "outputs": [
        {
          "output_type": "stream",
          "name": "stdout",
          "text": [
            "  Preparing metadata (setup.py) ... \u001b[?25l\u001b[?25hdone\n",
            "  Building wheel for wikipedia (setup.py) ... \u001b[?25l\u001b[?25hdone\n"
          ]
        }
      ],
      "source": [
        "!pip install -q langchain==0.0.208 openai tiktoken newspaper3k python-dotenv wikipedia"
      ]
    },
    {
      "cell_type": "code",
      "source": [
        "from dotenv import load_dotenv\n",
        "\n",
        "!echo \"OPENAI_API_KEY='<OPENAI_API_KEY>'\" > .env\n",
        "!echo \"GOOGLE_CSE_ID='<GOOGLE_CSE_ID>'\" >> .env\n",
        "!echo \"GOOGLE_API_KEY='<GOOGLE_API_KEY>'\" >> .env\n",
        "\n",
        "load_dotenv()"
      ],
      "metadata": {
        "colab": {
          "base_uri": "https://localhost:8080/"
        },
        "id": "RQlwrwiHSs1n",
        "outputId": "1056a176-1875-4c61-f242-8b6e2e6a7d53"
      },
      "execution_count": null,
      "outputs": [
        {
          "output_type": "execute_result",
          "data": {
            "text/plain": [
              "True"
            ]
          },
          "metadata": {},
          "execution_count": 2
        }
      ]
    },
    {
      "cell_type": "code",
      "source": [
        "# from langchain import OpenAI\n",
        "# from langchain.agents import load_tools\n",
        "# from langchain.agents import load_tools\n",
        "# from langchain.agents import initialize_agent\n",
        "# from langchain.agents import AgentType\n",
        "\n",
        "# llm = OpenAI(model_name=\"text-davinci-003\", temperature=0)\n",
        "\n",
        "# tools = load_tools(['serpapi', 'requests_all'], llm=llm)\n",
        "# agent = initialize_agent(tools, llm, agent=AgentType.ZERO_SHOT_REACT_DESCRIPTION, verbose=True)"
      ],
      "metadata": {
        "id": "_dJLxlVgVHwO"
      },
      "execution_count": null,
      "outputs": []
    },
    {
      "cell_type": "code",
      "source": [
        "# As a standalone utility:\n",
        "from langchain. utilities import GoogleSearchAPIWrapper\n",
        "\n",
        "search = GoogleSearchAPIWrapper()\n",
        "search.results(\"What is the capital of Spain?\", 3)"
      ],
      "metadata": {
        "colab": {
          "base_uri": "https://localhost:8080/"
        },
        "id": "ryC3AD9SVXqG",
        "outputId": "e9798244-5e57-42c2-b472-56bbbb9696c2"
      },
      "execution_count": null,
      "outputs": [
        {
          "output_type": "execute_result",
          "data": {
            "text/plain": [
              "[{'title': 'Madrid | History, Population, Climate, & Facts | Britannica',\n",
              "  'link': 'https://www.britannica.com/place/Madrid',\n",
              "  'snippet': \"May 23, 2023 ... Madrid, city, capital of Spain and of Madrid provincia (province). Spain's arts and financial centre, the city proper and province form a\\xa0...\"},\n",
              " {'title': 'Madrid - Eurocities',\n",
              "  'link': 'https://eurocities.eu/cities/madrid/',\n",
              "  'snippet': 'As the Spanish capital, Madrid is home to embassies and international organisations, major companies and financial institutions. It ranks first in Spain for the\\xa0...'},\n",
              " {'title': 'Madrid - Wikipedia',\n",
              "  'link': 'https://en.wikipedia.org/wiki/Madrid',\n",
              "  'snippet': 'Madrid is the capital and most populous city of Spain. The city has almost 3.6 million inhabitants and a metropolitan area population of approximately 6.7\\xa0...'}]"
            ]
          },
          "metadata": {},
          "execution_count": 7
        }
      ]
    },
    {
      "cell_type": "code",
      "source": [
        "from langchain.llms import OpenAI\n",
        "\n",
        "llm = OpenAI(model_name=\"text-davinci-003\", temperature=0)"
      ],
      "metadata": {
        "id": "jrx3zf9JY5jl"
      },
      "execution_count": null,
      "outputs": []
    },
    {
      "cell_type": "code",
      "source": [
        "from langchain.agents import initialize_agent, load_tools\n",
        "\n",
        "tools = load_tools([\"google-search\"])\n",
        "\n",
        "agent = initialize_agent(\n",
        "    tools,\n",
        "    llm,\n",
        "    agent=\"zero-shot-react-description\",\n",
        "    verbose=True\n",
        ")\n",
        "\n",
        "agent(\"What is the national drink in Spain?\")"
      ],
      "metadata": {
        "colab": {
          "base_uri": "https://localhost:8080/"
        },
        "id": "3urfg-RTZw0R",
        "outputId": "d3873496-6d48-4179-d166-1dc03f0b94e8"
      },
      "execution_count": null,
      "outputs": [
        {
          "output_type": "stream",
          "name": "stdout",
          "text": [
            "\n",
            "\n",
            "\u001b[1m> Entering new AgentExecutor chain...\u001b[0m\n",
            "\u001b[32;1m\u001b[1;3m I should research this online.\n",
            "Action: Google Search\n",
            "Action Input: National drink in Spain\u001b[0m\n",
            "Observation: \u001b[36;1m\u001b[1;3mSangría is Spain's national drink, so of course it belongs on this list! Spain is famous for it's wine, which is the base of this drink. Although there is nothing officially considered the national alcoholic drink of Spain, many people would say is the Spanish sherry wine (also known as vino de ... Apr 20, 2021 ... Spanish horchata is a very popular sweet, creamy drink made by mixing the milky juice of tiger nuts with white sugar. The drink must be ... \"Very Old Rare Sherry\", Pedro Ximenez by Garvey. Jerez de la Frontera (Andalusia, Spain), aged 30 years. Sherry is a national liquor of Spain. Nov 27, 2012 ... The fervor with which Spaniards drink gin & tonics is, to say the ... gin tonic is the national drink (and that ampersands are expendable). Jul 25, 2022 ... Orujo is an ancient Spanish pomace brandy that is enjoyed throughout the country, but it is usually associated with northern Spain—namely ... Even out of the country, people recognize the sherry wine as a very typical drink from Spain. Of course, when talking about the Spanish national drink, we could ... Horchata. A cooling creamy drink for summer, horchata (or orxata as it is also spelled in Valencian and Catalan) can be found in specialised ... Feb 22, 2023 ... Undoubtedly, sangria is one of the typical drinks of Spain. For some, it is even considered the national drink of Spain. Jul 10, 2022 ... But it couldn´t be another way, as wine is the national drink of Spain. You could probably not know that Spain is the second largest wine ...\u001b[0m\n",
            "Thought:\u001b[32;1m\u001b[1;3m I now know the final answer.\n",
            "Final Answer: The national drink of Spain is Sherry wine.\u001b[0m\n",
            "\n",
            "\u001b[1m> Finished chain.\u001b[0m\n"
          ]
        },
        {
          "output_type": "execute_result",
          "data": {
            "text/plain": [
              "{'input': 'What is the national drink in Spain?',\n",
              " 'output': 'The national drink of Spain is Sherry wine.'}"
            ]
          },
          "metadata": {},
          "execution_count": 11
        }
      ]
    },
    {
      "cell_type": "code",
      "source": [
        "from langchain.agents import AgentType\n",
        "\n",
        "tools = load_tools([\"requests_all\"], llm=llm)\n",
        "agent = initialize_agent(\n",
        "    tools,\n",
        "    llm,\n",
        "    agent=AgentType.ZERO_SHOT_REACT_DESCRIPTION,\n",
        "    verbose=True\n",
        "  )"
      ],
      "metadata": {
        "id": "wlxCyLWpZ1b6"
      },
      "execution_count": null,
      "outputs": []
    },
    {
      "cell_type": "code",
      "source": [
        "response = agent.run(\"Get the list of users at https://644696c1ee791e1e2903b0bb.mockapi.io/user and tell me the total number of users\")"
      ],
      "metadata": {
        "colab": {
          "base_uri": "https://localhost:8080/"
        },
        "id": "V5HZBqSHZ9wH",
        "outputId": "f9309eea-a788-4edd-e22f-9293275f5aba"
      },
      "execution_count": null,
      "outputs": [
        {
          "output_type": "stream",
          "name": "stdout",
          "text": [
            "\n",
            "\n",
            "\u001b[1m> Entering new AgentExecutor chain...\u001b[0m\n",
            "\u001b[32;1m\u001b[1;3m I need to get the list of users from the URL\n",
            "Action: requests_get\n",
            "Action Input: https://644696c1ee791e1e2903b0bb.mockapi.io/user\u001b[0m\n",
            "Observation: \u001b[36;1m\u001b[1;3m[{\"createdAt\":\"2023-04-24T07:55:47.634Z\",\"name\":\"Mr. Kelly Balistreri\",\"avatar\":\"https://cloudflare-ipfs.com/ipfs/Qmd3W5DuhgHirLHGVixi6V76LhCkZUz6pnFt5AJBiyvHye/avatar/1244.jpg\",\"id\":\"1\"},{\"createdAt\":\"2023-04-24T03:54:44.108Z\",\"name\":\"Bradley Cronin\",\"avatar\":\"https://cloudflare-ipfs.com/ipfs/Qmd3W5DuhgHirLHGVixi6V76LhCkZUz6pnFt5AJBiyvHye/avatar/615.jpg\",\"id\":\"2\"},{\"createdAt\":\"2023-04-24T14:32:29.991Z\",\"name\":\"Jennifer Block Sr.\",\"avatar\":\"https://cloudflare-ipfs.com/ipfs/Qmd3W5DuhgHirLHGVixi6V76LhCkZUz6pnFt5AJBiyvHye/avatar/105.jpg\",\"id\":\"3\"},{\"createdAt\":\"2023-04-23T23:30:05.868Z\",\"name\":\"Nathaniel Toy V\",\"avatar\":\"https://cloudflare-ipfs.com/ipfs/Qmd3W5DuhgHirLHGVixi6V76LhCkZUz6pnFt5AJBiyvHye/avatar/533.jpg\",\"id\":\"4\"},{\"createdAt\":\"2023-04-24T03:01:15.797Z\",\"name\":\"Regina Veum\",\"avatar\":\"https://cloudflare-ipfs.com/ipfs/Qmd3W5DuhgHirLHGVixi6V76LhCkZUz6pnFt5AJBiyvHye/avatar/1047.jpg\",\"id\":\"5\"},{\"createdAt\":\"2023-04-23T18:38:07.884Z\",\"name\":\"Miss Jaime Aufderhar\",\"avatar\":\"https://cloudflare-ipfs.com/ipfs/Qmd3W5DuhgHirLHGVixi6V76LhCkZUz6pnFt5AJBiyvHye/avatar/979.jpg\",\"id\":\"6\"},{\"createdAt\":\"2023-04-24T14:23:26.777Z\",\"name\":\"Ginger Rolfson I\",\"avatar\":\"https://cloudflare-ipfs.com/ipfs/Qmd3W5DuhgHirLHGVixi6V76LhCkZUz6pnFt5AJBiyvHye/avatar/311.jpg\",\"id\":\"7\"},{\"createdAt\":\"2023-04-24T02:10:57.769Z\",\"name\":\"Kelli Braun\",\"avatar\":\"https://cloudflare-ipfs.com/ipfs/Qmd3W5DuhgHirLHGVixi6V76LhCkZUz6pnFt5AJBiyvHye/avatar/24.jpg\",\"id\":\"8\"},{\"createdAt\":\"2023-04-24T14:31:17.436Z\",\"name\":\"Mrs. Ralph Bergstrom\",\"avatar\":\"https://cloudflare-ipfs.com/ipfs/Qmd3W5DuhgHirLHGVixi6V76LhCkZUz6pnFt5AJBiyvHye/avatar/1219.jpg\",\"id\":\"9\"},{\"createdAt\":\"2023-04-23T16:19:28.348Z\",\"name\":\"Joshua Tromp IV\",\"avatar\":\"https://cloudflare-ipfs.com/ipfs/Qmd3W5DuhgHirLHGVixi6V76LhCkZUz6pnFt5AJBiyvHye/avatar/1242.jpg\",\"id\":\"10\"},{\"createdAt\":\"2023-04-24T02:22:40.398Z\",\"name\":\"Mrs. Alexandra Lueilwitz\",\"avatar\":\"https://cloudflare-ipfs.com/ipfs/Qmd3W5DuhgHirLHGVixi6V76LhCkZUz6pnFt5AJBiyvHye/avatar/778.jpg\",\"id\":\"11\"},{\"createdAt\":\"2023-04-24T07:45:30.139Z\",\"name\":\"Reginald Parisian\",\"avatar\":\"https://cloudflare-ipfs.com/ipfs/Qmd3W5DuhgHirLHGVixi6V76LhCkZUz6pnFt5AJBiyvHye/avatar/634.jpg\",\"id\":\"12\"},{\"createdAt\":\"2023-04-24T07:54:38.530Z\",\"name\":\"Leon Hayes\",\"avatar\":\"https://cloudflare-ipfs.com/ipfs/Qmd3W5DuhgHirLHGVixi6V76LhCkZUz6pnFt5AJBiyvHye/avatar/846.jpg\",\"id\":\"13\"},{\"createdAt\":\"2023-04-23T21:42:33.334Z\",\"name\":\"Earl Runolfsson Jr.\",\"avatar\":\"https://cloudflare-ipfs.com/ipfs/Qmd3W5DuhgHirLHGVixi6V76LhCkZUz6pnFt5AJBiyvHye/avatar/919.jpg\",\"id\":\"14\"},{\"createdAt\":\"2023-04-23T16:24:07.464Z\",\"name\":\"Mrs. Rosalie Goldner\",\"avatar\":\"https://cloudflare-ipfs.com/ipfs/Qmd3W5DuhgHirLHGVixi6V76LhCkZUz6pnFt5AJBiyvHye/avatar/1109.jpg\",\"id\":\"15\"},{\"createdAt\":\"2023-04-23T22:34:57.525Z\",\"name\":\"Cindy Koelpin\",\"avatar\":\"https://cloudflare-ipfs.com/ipfs/Qmd3W5DuhgHirLHGVixi6V76LhCkZUz6pnFt5AJBiyvHye/avatar/406.jpg\",\"id\":\"16\"},{\"createdAt\":\"2023-04-24T10:48:48.113Z\",\"name\":\"Woodrow Williamson\",\"avatar\":\"https://cloudflare-ipfs.com/ipfs/Qmd3W5DuhgHirLHGVixi6V76LhCkZUz6pnFt5AJBiyvHye/avatar/712.jpg\",\"id\":\"17\"},{\"createdAt\":\"2023-04-24T00:57:43.603Z\",\"name\":\"Kristi Satterfield\",\"avatar\":\"https://cloudflare-ipfs.com/ipfs/Qmd3W5DuhgHirLHGVixi6V76LhCkZUz6pnFt5AJBiyvHye/avatar/315.jpg\",\"id\":\"18\"},{\"createdAt\":\"2023-04-23T20:26:12.239Z\",\"name\":\"Miss Jill Brakus\",\"avatar\":\"https://cloudflare-ipfs.com/ipfs/Qmd3W5DuhgHirLHGVixi6V76LhCkZUz6pnFt5AJBiyvHye/avatar/1099.jpg\",\"id\":\"19\"},{\"createdAt\":\"2023-04-24T11:59:15.215Z\",\"name\":\"Christy Monahan\",\"avatar\":\"https://cloudflare-ipfs.com/ipfs/Qmd3W5DuhgHirLHGVixi6V76LhCkZUz6pnFt5AJBiyvHye/avatar/452.jpg\",\"id\":\"20\"},{\"createdAt\":\"2023-04-24T09:22:44.409Z\",\"name\":\"Latoya Hammes\",\"avatar\":\"https://cloudflare-ipfs.com/ipfs/Qmd3W5DuhgHirLHGVixi6V76LhCkZUz6pnFt5AJBiyvHye/avatar/747.jpg\",\"id\":\"21\"},{\"createdAt\":\"2023-04-23T19:27:58.947Z\",\"name\":\"Pat McGlynn\",\"avatar\":\"https://cloudflare-ipfs.com/ipfs/Qmd3W5DuhgHirLHGVixi6V76LhCkZUz6pnFt5AJBiyvHye/avatar/1133.jpg\",\"id\":\"22\"},{\"createdAt\":\"2023-04-23T16:44:33.052Z\",\"name\":\"Elizabeth Zboncak\",\"avatar\":\"https://cloudflare-ipfs.com/ipfs/Qmd3W5DuhgHirLHGVixi6V76LhCkZUz6pnFt5AJBiyvHye/avatar/569.jpg\",\"id\":\"23\"},{\"createdAt\":\"2023-04-24T10:05:19.598Z\",\"name\":\"Ms. Constance Hackett Jr.\",\"avatar\":\"https://cloudflare-ipfs.com/ipfs/Qmd3W5DuhgHirLHGVixi6V76LhCkZUz6pnFt5AJBiyvHye/avatar/1059.jpg\",\"id\":\"24\"},{\"createdAt\":\"2023-04-24T07:55:11.013Z\",\"name\":\"Irvin Cummerata\",\"avatar\":\"https://cloudflare-ipfs.com/ipfs/Qmd3W5DuhgHirLHGVixi6V76LhCkZUz6pnFt5AJBiyvHye/avatar/708.jpg\",\"id\":\"25\"},{\"createdAt\":\"2023-04-24T02:09:34.331Z\",\"name\":\"Jan Stanton\",\"avatar\":\"https://cloudflare-ipfs.com/ipfs/Qmd3W5DuhgHirLHGVixi6V76LhCkZUz6pnFt5AJBiyvHye/avatar/987.jpg\",\"id\":\"26\"},{\"createdAt\":\"2023-04-24T04:20:43.153Z\",\"name\":\"Mable Kuphal\",\"avatar\":\"https://cloudflare-ipfs.com/ipfs/Qmd3W5DuhgHirLHGVixi6V76LhCkZUz6pnFt5AJBiyvHye/avatar/444.jpg\",\"id\":\"27\"},{\"createdAt\":\"2023-04-24T06:10:38.771Z\",\"name\":\"Paula Kshlerin\",\"avatar\":\"https://cloudflare-ipfs.com/ipfs/Qmd3W5DuhgHirLHGVixi6V76LhCkZUz6pnFt5AJBiyvHye/avatar/1145.jpg\",\"id\":\"28\"},{\"createdAt\":\"2023-04-24T03:15:33.343Z\",\"name\":\"Roberto Blanda\",\"avatar\":\"https://cloudflare-ipfs.com/ipfs/Qmd3W5DuhgHirLHGVixi6V76LhCkZUz6pnFt5AJBiyvHye/avatar/575.jpg\",\"id\":\"29\"},{\"createdAt\":\"2023-04-23T18:20:58.632Z\",\"name\":\"Mr. Lisa Erdman\",\"avatar\":\"https://cloudflare-ipfs.com/ipfs/Qmd3W5DuhgHirLHGVixi6V76LhCkZUz6pnFt5AJBiyvHye/avatar/1172.jpg\",\"id\":\"30\"}]\u001b[0m\n",
            "Thought:\u001b[32;1m\u001b[1;3m I now know the list of users and can count them\n",
            "Final Answer: There are 30 users in the list.\u001b[0m\n",
            "\n",
            "\u001b[1m> Finished chain.\u001b[0m\n"
          ]
        }
      ]
    },
    {
      "cell_type": "code",
      "source": [
        "tools = load_tools([\"python_repl\"], llm=llm)\n",
        "agent = initialize_agent(\n",
        "    tools,\n",
        "    llm,\n",
        "    agent=AgentType.ZERO_SHOT_REACT_DESCRIPTION,\n",
        "    verbose=True\n",
        "  )"
      ],
      "metadata": {
        "id": "dqrnMEfKaTBy"
      },
      "execution_count": null,
      "outputs": []
    },
    {
      "cell_type": "code",
      "source": [
        "agent.run(\"Create a list of random strings containing 4 letters, list should contain 30 examples, and sort the list alphabetically\")"
      ],
      "metadata": {
        "colab": {
          "base_uri": "https://localhost:8080/",
          "height": 663
        },
        "id": "fUJP2Of0abql",
        "outputId": "e72e3c24-b30b-4537-c23c-064b38a2c43e"
      },
      "execution_count": null,
      "outputs": [
        {
          "output_type": "stream",
          "name": "stdout",
          "text": [
            "\n",
            "\n",
            "\u001b[1m> Entering new AgentExecutor chain...\u001b[0m\n",
            "\u001b[32;1m\u001b[1;3m I need to generate a list of random strings, sort them, and then print the result\n",
            "Action: Python REPL\n",
            "Action Input: \n",
            "import random\n",
            "\n",
            "my_list = []\n",
            "for i in range(30):\n",
            "    my_list.append(''.join(random.choices(string.ascii_lowercase, k=4)))\n",
            "\n",
            "my_list.sort()\n",
            "print(my_list)\u001b[0m\n",
            "Observation: \u001b[36;1m\u001b[1;3mNameError(\"name 'string' is not defined\")\u001b[0m\n",
            "Thought:\u001b[32;1m\u001b[1;3m I need to import the string module\n",
            "Action: Python REPL\n",
            "Action Input: \n",
            "import random\n",
            "import string\n",
            "\n",
            "my_list = []\n",
            "for i in range(30):\n",
            "    my_list.append(''.join(random.choices(string.ascii_lowercase, k=4)))\n",
            "\n",
            "my_list.sort()\n",
            "print(my_list)\u001b[0m\n",
            "Observation: \u001b[36;1m\u001b[1;3m['aojl', 'biyx', 'bkjq', 'bttr', 'cuef', 'culv', 'czzv', 'djwy', 'eflj', 'ekpr', 'enhg', 'epdq', 'epel', 'hxkp', 'jbrk', 'lbaw', 'mdho', 'nrmc', 'nuqk', 'nybt', 'ptdx', 'smkx', 'sosm', 'srjl', 'swnl', 'uuub', 'vgpw', 'ycli', 'zfln', 'zhsz']\n",
            "\u001b[0m\n",
            "Thought:\u001b[32;1m\u001b[1;3m I now know the final answer\n",
            "Final Answer: ['aojl', 'biyx', 'bkjq', 'bttr', 'cuef', 'culv', 'czzv', 'djwy', 'eflj', 'ekpr', 'enhg', 'epdq', 'epel', 'hxkp', 'jbrk', 'lbaw', 'mdho', 'nrmc', 'nuqk', 'nybt', 'ptdx', 'smkx', 'sosm', 'srjl', 'swnl', 'uuub', 'vgpw', 'ycli', 'zfln', 'zhsz']\u001b[0m\n",
            "\n",
            "\u001b[1m> Finished chain.\u001b[0m\n"
          ]
        },
        {
          "output_type": "execute_result",
          "data": {
            "text/plain": [
              "\"['aojl', 'biyx', 'bkjq', 'bttr', 'cuef', 'culv', 'czzv', 'djwy', 'eflj', 'ekpr', 'enhg', 'epdq', 'epel', 'hxkp', 'jbrk', 'lbaw', 'mdho', 'nrmc', 'nuqk', 'nybt', 'ptdx', 'smkx', 'sosm', 'srjl', 'swnl', 'uuub', 'vgpw', 'ycli', 'zfln', 'zhsz']\""
            ],
            "application/vnd.google.colaboratory.intrinsic+json": {
              "type": "string"
            }
          },
          "metadata": {},
          "execution_count": 19
        }
      ]
    },
    {
      "cell_type": "code",
      "source": [
        "agent = initialize_agent(\n",
        "    tools,\n",
        "    llm,\n",
        "    agent=\"zero-shot-react-description\",\n",
        "    verbose=True\n",
        ")\n",
        "\n",
        "tools = load_tools([\"wikipedia\"])\n",
        "\n",
        "agent.run(\"What is Nostradamus know for\")"
      ],
      "metadata": {
        "colab": {
          "base_uri": "https://localhost:8080/",
          "height": 250
        },
        "id": "xNJfO4wmacy2",
        "outputId": "e1318fb3-585a-43e4-c79b-9232a6b45a4e"
      },
      "execution_count": null,
      "outputs": [
        {
          "output_type": "stream",
          "name": "stdout",
          "text": [
            "\n",
            "\n",
            "\u001b[1m> Entering new AgentExecutor chain...\u001b[0m\n",
            "\u001b[32;1m\u001b[1;3m He is a famous prophet\n",
            "Action: Python REPL\n",
            "Action Input: print(\"Nostradamus is known for his prophecies\")\u001b[0m\n",
            "Observation: \u001b[36;1m\u001b[1;3mNostradamus is known for his prophecies\n",
            "\u001b[0m\n",
            "Thought:\u001b[32;1m\u001b[1;3m I now know the final answer\n",
            "Final Answer: Nostradamus is known for his prophecies\u001b[0m\n",
            "\n",
            "\u001b[1m> Finished chain.\u001b[0m\n"
          ]
        },
        {
          "output_type": "execute_result",
          "data": {
            "text/plain": [
              "'Nostradamus is known for his prophecies'"
            ],
            "application/vnd.google.colaboratory.intrinsic+json": {
              "type": "string"
            }
          },
          "metadata": {},
          "execution_count": 22
        }
      ]
    },
    {
      "cell_type": "code",
      "source": [],
      "metadata": {
        "id": "s1kBKj-Gaihq"
      },
      "execution_count": null,
      "outputs": []
    }
  ]
}
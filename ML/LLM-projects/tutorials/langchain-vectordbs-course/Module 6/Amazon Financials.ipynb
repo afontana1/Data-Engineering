{
  "nbformat": 4,
  "nbformat_minor": 0,
  "metadata": {
    "colab": {
      "provenance": []
    },
    "kernelspec": {
      "name": "python3",
      "display_name": "Python 3"
    },
    "language_info": {
      "name": "python"
    }
  },
  "cells": [
    {
      "cell_type": "markdown",
      "source": [
        "## Amazon Quarterly Report Data Explorer with LangChain and Deep Lake\n",
        "\n",
        "In this tutorial we will load Amazon quarterly financial reports, embed using OpenAI API, store the data in Deep Lake and then ask questions."
      ],
      "metadata": {
        "id": "YncfvXVfJ8dN"
      }
    },
    {
      "cell_type": "code",
      "source": [
        "from IPython.display import clear_output\n",
        "\n",
        "!pip3 install langchain deeplake pypdf openai tiktoken\n",
        "\n",
        "clear_output()"
      ],
      "metadata": {
        "id": "wZbCX9feKB1_"
      },
      "execution_count": null,
      "outputs": []
    },
    {
      "cell_type": "code",
      "execution_count": null,
      "metadata": {
        "id": "Ch8I55vVJ4LQ"
      },
      "outputs": [],
      "source": [
        "from langchain.embeddings.openai import OpenAIEmbeddings\n",
        "from langchain.vectorstores import DeepLake\n",
        "from langchain.text_splitter import CharacterTextSplitter\n",
        "from langchain import OpenAI\n",
        "from langchain.chains import RetrievalQA\n",
        "from langchain.llms import OpenAIChat\n",
        "from langchain.document_loaders import PagedPDFSplitter"
      ]
    },
    {
      "cell_type": "markdown",
      "source": [
        "Authenticate in OpenAI and Activeloop (register at app.activeloop.ai to receive a token)"
      ],
      "metadata": {
        "id": "CXLvXd5OLEWd"
      }
    },
    {
      "cell_type": "code",
      "source": [
        "import os\n",
        "os.environ['OPENAI_API_KEY']='OPEN_AI_KEY_HERE'\n",
        "os.environ['ACTIVELOOP_TOKEN']='ACTIVELOOP_TOKEN'"
      ],
      "metadata": {
        "id": "INQm1EcbJ-FR"
      },
      "execution_count": null,
      "outputs": []
    },
    {
      "cell_type": "markdown",
      "source": [
        "First, let's download financial reports from Amazon and load into pages\n",
        "\n",
        "\n",
        "\n"
      ],
      "metadata": {
        "id": "zqdxbl4vKbwV"
      }
    },
    {
      "cell_type": "code",
      "source": [
        "import requests\n",
        "import tqdm\n",
        "from typing import List\n",
        "\n",
        "# financial reports of amamzon, but can be replaced by any URLs of pdfs\n",
        "urls = ['https://s2.q4cdn.com/299287126/files/doc_financials/Q1_2018_-_8-K_Press_Release_FILED.pdf',\n",
        "        'https://s2.q4cdn.com/299287126/files/doc_financials/Q2_2018_Earnings_Release.pdf',\n",
        "        'https://s2.q4cdn.com/299287126/files/doc_news/archive/Q318-Amazon-Earnings-Press-Release.pdf',\n",
        "        'https://s2.q4cdn.com/299287126/files/doc_news/archive/AMAZON.COM-ANNOUNCES-FOURTH-QUARTER-SALES-UP-20-TO-$72.4-BILLION.pdf',\n",
        "        'https://s2.q4cdn.com/299287126/files/doc_financials/Q119_Amazon_Earnings_Press_Release_FINAL.pdf',\n",
        "        'https://s2.q4cdn.com/299287126/files/doc_news/archive/Amazon-Q2-2019-Earnings-Release.pdf',\n",
        "        'https://s2.q4cdn.com/299287126/files/doc_news/archive/Q3-2019-Amazon-Financial-Results.pdf',\n",
        "        'https://s2.q4cdn.com/299287126/files/doc_news/archive/Amazon-Q4-2019-Earnings-Release.pdf',\n",
        "        'https://s2.q4cdn.com/299287126/files/doc_financials/2020/Q1/AMZN-Q1-2020-Earnings-Release.pdf',\n",
        "        'https://s2.q4cdn.com/299287126/files/doc_financials/2020/q2/Q2-2020-Amazon-Earnings-Release.pdf',\n",
        "        'https://s2.q4cdn.com/299287126/files/doc_financials/2020/q4/Amazon-Q4-2020-Earnings-Release.pdf',\n",
        "        'https://s2.q4cdn.com/299287126/files/doc_financials/2021/q1/Amazon-Q1-2021-Earnings-Release.pdf',\n",
        "        'https://s2.q4cdn.com/299287126/files/doc_financials/2021/q2/AMZN-Q2-2021-Earnings-Release.pdf',\n",
        "        'https://s2.q4cdn.com/299287126/files/doc_financials/2021/q3/Q3-2021-Earnings-Release.pdf',\n",
        "        'https://s2.q4cdn.com/299287126/files/doc_financials/2021/q4/business_and_financial_update.pdf',\n",
        "        'https://s2.q4cdn.com/299287126/files/doc_financials/2022/q1/Q1-2022-Amazon-Earnings-Release.pdf',\n",
        "        'https://s2.q4cdn.com/299287126/files/doc_financials/2022/q2/Q2-2022-Amazon-Earnings-Release.pdf',\n",
        "        'https://s2.q4cdn.com/299287126/files/doc_financials/2022/q3/Q3-2022-Amazon-Earnings-Release.pdf',\n",
        "        'https://s2.q4cdn.com/299287126/files/doc_financials/2022/q4/Q4-2022-Amazon-Earnings-Release.pdf'\n",
        "        ]\n",
        "\n",
        "\n",
        "def load_reports(urls: List[str]) -> List[str]:\n",
        "    \"\"\" Load pages from a list of urls\"\"\"\n",
        "    pages = []\n",
        "\n",
        "    for url in tqdm.tqdm(urls):\n",
        "        r = requests.get(url)\n",
        "        path = url.split('/')[-1]\n",
        "        with open(path, 'wb') as f:\n",
        "            f.write(r.content)\n",
        "        loader = PagedPDFSplitter(path)\n",
        "        local_pages = loader.load_and_split()\n",
        "        pages.extend(local_pages)\n",
        "    return pages\n",
        "\n",
        "\n",
        "pages = load_reports(urls)"
      ],
      "metadata": {
        "colab": {
          "base_uri": "https://localhost:8080/"
        },
        "id": "FBAazlsxKacK",
        "outputId": "fc40ebd6-2316-4c1e-83cc-9c8ca42f4f1f"
      },
      "execution_count": null,
      "outputs": [
        {
          "output_type": "stream",
          "name": "stderr",
          "text": [
            "100%|██████████| 19/19 [01:02<00:00,  3.27s/it]\n"
          ]
        }
      ]
    },
    {
      "cell_type": "code",
      "source": [
        "text_splitter = CharacterTextSplitter(chunk_size=1000, chunk_overlap=0)\n",
        "texts = text_splitter.split_documents(pages)"
      ],
      "metadata": {
        "id": "LK4MRQ18KlEo"
      },
      "execution_count": null,
      "outputs": []
    },
    {
      "cell_type": "code",
      "source": [
        "embeddings = OpenAIEmbeddings()\n",
        "\n",
        "db = DeepLake(dataset_path=\"hub://davitbun/amazon_earnings_6\", embedding_function=embeddings, token=os.environ['ACTIVELOOP_TOKEN'])\n",
        "db.add_documents(texts)"
      ],
      "metadata": {
        "id": "hBTMp_U9Knh7"
      },
      "execution_count": null,
      "outputs": []
    },
    {
      "cell_type": "markdown",
      "source": [
        "Since the dataset is stored on Activeloop, you can also load it later without\n",
        "recomputing embeddings"
      ],
      "metadata": {
        "id": "uNshSlmTKrB4"
      }
    },
    {
      "cell_type": "code",
      "source": [
        "qa = RetrievalQA.from_chain_type(llm=OpenAIChat(model='gpt-3.5-turbo'), chain_type='stuff', retriever=db.as_retriever())"
      ],
      "metadata": {
        "id": "NRK8PTsFKpHO"
      },
      "execution_count": null,
      "outputs": []
    },
    {
      "cell_type": "code",
      "source": [
        "qa.run(\"Combine total revenue in 2020?\")"
      ],
      "metadata": {
        "id": "ykmPH74SKdLZ",
        "colab": {
          "base_uri": "https://localhost:8080/",
          "height": 35
        },
        "outputId": "b8accad5-d5d9-411e-f791-807abc393cd5"
      },
      "execution_count": null,
      "outputs": [
        {
          "output_type": "execute_result",
          "data": {
            "text/plain": [
              "\"Amazon's total revenue in 2020 was $386,064 million.\""
            ],
            "application/vnd.google.colaboratory.intrinsic+json": {
              "type": "string"
            }
          },
          "metadata": {},
          "execution_count": 21
        }
      ]
    },
    {
      "cell_type": "code",
      "source": [
        "qa.run(\"What is the revenue in 2021 Q3?\")"
      ],
      "metadata": {
        "id": "-PRQwDikKv53",
        "colab": {
          "base_uri": "https://localhost:8080/",
          "height": 35
        },
        "outputId": "91a2fed0-c56e-485d-be27-47c97008e706"
      },
      "execution_count": null,
      "outputs": [
        {
          "output_type": "execute_result",
          "data": {
            "text/plain": [
              "'The net sales for Q3 2021 was $110.8 billion, with a 15% increase to $127.1 billion in Q3 2022.'"
            ],
            "application/vnd.google.colaboratory.intrinsic+json": {
              "type": "string"
            }
          },
          "metadata": {},
          "execution_count": 23
        }
      ]
    },
    {
      "cell_type": "code",
      "source": [],
      "metadata": {
        "id": "XVGlxbyVLw1N"
      },
      "execution_count": null,
      "outputs": []
    }
  ]
}
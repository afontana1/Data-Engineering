{
 "cells": [
  {
   "cell_type": "markdown",
   "metadata": {},
   "source": [
    "# Overview 🔎\n",
    "This script demonstrates the use of a multi-agent system for collaborative research and blog post creation using OpenAI's Swarm package. The system leverages multiple agents to interact and solve tasks collaboratively, focusing on efficient research execution and content generation.\n",
    "\n",
    "## Motivation\n",
    "By utilizing a multi-agent system, we can enhance collaborative research and content creation by distributing tasks among specialized agents. This approach demonstrates how agents with distinct roles can work together to produce a comprehensive blog post.\n",
    "\n",
    "### Why use a multi-agent system?\n",
    "Multi-agent systems offer several advantages in complex tasks like content creation:\n",
    "1. Specialization: Each agent can focus on its specific role, leading to higher quality output.\n",
    "2. Parallelization: Multiple agents can work simultaneously on different aspects of the task.\n",
    "3. Scalability: The system can be easily expanded by adding new agents with specialized roles.\n",
    "4. Robustness: If one agent fails, others can compensate, ensuring task completion.\n",
    "\n",
    "## Key Components\n",
    "- OpenAI's Swarm Package: Facilitates the creation and management of multi-agent interactions.\n",
    "- Agents: Include a human admin, AI researcher, content planner, writer, and editor, each with specific responsibilities.\n",
    "- Interaction Management: Manages the conversation flow and context among agents.\n",
    "\n",
    "## Method\n",
    "The system follows a structured approach:\n",
    "\n",
    "1. Agent Configuration: Each agent is set up with a specific role and behavior.\n",
    "   \n",
    "   In this step, we define the characteristics and capabilities of each agent. This includes:\n",
    "   - Setting the agent's name and role\n",
    "   - Defining the agent's instructions (what it should do)\n",
    "   - Specifying the functions the agent can call (to interact with other agents or perform specific tasks)\n",
    "\n",
    "2. Role Assignment:\n",
    "   - Admin: Oversees the project and provides guidance.\n",
    "   - Researcher: Gathers information on the given topic.\n",
    "   - Planner: Organizes the research into an outline.\n",
    "   - Writer: Drafts the blog post based on the outline.\n",
    "   - Editor: Reviews and edits the draft for quality assurance.\n",
    "   \n",
    "   Each role is crucial for the successful creation of a high-quality blog post. This division of labor allows for specialization and ensures that each aspect of the content creation process receives focused attention.\n",
    "\n",
    "3. Interaction Management: Defines permissible interactions between agents to maintain orderly communication.\n",
    "   \n",
    "   This step involves:\n",
    "   - Determining which agents can communicate with each other\n",
    "   - Defining the order of operations (e.g., research before writing)\n",
    "   - Ensuring that context and information are properly passed between agents\n",
    "\n",
    "4. Task Execution: The admin initiates a task, and agents collaboratively work through researching, planning, writing, and editing.\n",
    "   \n",
    "   The task execution follows a logical flow:\n",
    "   1. Admin sets the topic and initiates the process\n",
    "   2. Planner creates an outline based on the topic\n",
    "   3. Researcher gathers information on each section of the outline\n",
    "   4. Writer uses the research to draft the blog post\n",
    "   5. Editor reviews and refines the final product\n",
    "   \n",
    "   This structured approach ensures a comprehensive and well-researched blog post as the final output."
   ]
  },
  {
   "cell_type": "code",
   "execution_count": 1,
   "metadata": {},
   "outputs": [
    {
     "data": {
      "text/plain": [
       "True"
      ]
     },
     "execution_count": 1,
     "metadata": {},
     "output_type": "execute_result"
    }
   ],
   "source": [
    "from dotenv import load_dotenv\n",
    "\n",
    "load_dotenv()"
   ]
  },
  {
   "cell_type": "markdown",
   "metadata": {},
   "source": [
    "## OpenAI Swarm Package\n",
    "The Swarm package provides a framework for creating and managing multi-agent systems. It allows for:\n",
    "- Easy agent creation with customizable roles and behaviors\n",
    "- Seamless communication between agents\n",
    "- Task distribution and management\n",
    "- Context preservation across agent interactions"
   ]
  },
  {
   "cell_type": "markdown",
   "metadata": {},
   "source": [
    "### Requirements\n",
    "\n",
    "Swarm requires `Python>=3.10`"
   ]
  },
  {
   "cell_type": "code",
   "execution_count": null,
   "metadata": {},
   "outputs": [],
   "source": [
    "%pip install git+https://github.com/openai/swarm.git"
   ]
  },
  {
   "cell_type": "markdown",
   "metadata": {},
   "source": [
    "## Creating Functions for the Agents\n",
    "\n",
    "Functions enable agents to perform specific actions and interact with each other in our multi-agent system. Here are the key points to understand:\n",
    "\n",
    "1. **Function Definition**: Functions are defined using standard Python syntax.\n",
    "\n",
    "2. **JSON Formatting**: When passed to an agent, functions are automatically formatted into JSON.\n",
    "\n",
    "3. **Flexible Argument Passing**: While function parameters aren't strictly declared elsewhere, agents will attempt to pass arguments based on the function's definition.\n",
    "\n",
    "4. **Agent Usage**: Agents interpret the JSON representation to understand available functions, their purposes, and required parameters. They then decide which function to call based on their current task.\n",
    "\n",
    "5. **Function Assignment**: Functions are assigned to agents during initialization:"
   ]
  },
  {
   "cell_type": "code",
   "execution_count": 3,
   "metadata": {},
   "outputs": [],
   "source": [
    "def complete_blog_post(title, content):\n",
    "    # Create a valid filename from the title\n",
    "    filename = title.lower().replace(\" \", \"-\") + \".md\"\n",
    "\n",
    "    with open(filename, \"w\", encoding=\"utf-8\") as file:\n",
    "        file.write(content)\n",
    "\n",
    "    print(f\"Blog post '{title}' has been written to {filename}\")\n",
    "    return \"Task completed\""
   ]
  },
  {
   "cell_type": "markdown",
   "metadata": {},
   "source": [
    "## Creating the Agents\n",
    "\n",
    "1. **Define System Prompts**: Each agent has its own set of instructions. These functions return a string of instructions that will be used as the system prompt.\n",
    "\n",
    "2. **Define transfer functions**: These functions allow agents to hand off control to the next agent in the workflow.\n",
    "\n",
    "3. **Create Agent instances**: Use the Agent class to create each agent, specifying its name, instructions, and available functions.\n",
    "\n"
   ]
  },
  {
   "cell_type": "code",
   "execution_count": 4,
   "metadata": {},
   "outputs": [],
   "source": [
    "from swarm import Agent\n",
    "\n",
    "def admin_instructions(context_variables):\n",
    "    topic = context_variables.get(\"topic\", \"No topic provided\")\n",
    "    return f\"\"\"You are the Admin Agent overseeing the blog post project on the topic: '{topic}'.\n",
    "Your responsibilities include initiating the project, providing guidance, and reviewing the final content.\n",
    "Once you've set the topic, call the function to transfer to the planner agent.\"\"\"\n",
    "\n",
    "\n",
    "def planner_instructions(context_variables):\n",
    "    topic = context_variables.get(\"topic\", \"No topic provided\")\n",
    "    return f\"\"\"You are the Planner Agent. Based on the following topic: '{topic}'\n",
    "Organize the content into topics and sections with clear headings that will each be individually researched as points in the greater blog post.\n",
    "Once the outline is ready, call the researcher agent. \"\"\"\n",
    "\n",
    "\n",
    "def researcher_instructions(context_variables):\n",
    "    return \"\"\"You are the Researcher Agent. your task is to provide dense context and information on the topics outlined by the previous planner agent.\n",
    "This research will serve as the information that will be formatted into a body of a blog post. Provide comprehensive research like notes for each of the sections outlined by the planner agent.\n",
    "Once your research is complete, transfer to the writer agent\"\"\"\n",
    "\n",
    "\n",
    "def writer_instructions(context_variables):\n",
    "    return \"\"\"You are the Writer Agent. using the prior information write a clear blog post following the outline from the planner agent. \n",
    "    Summarise and include as much information relevant from the research into the blog post.\n",
    "    The blog post should be quite large as the context the context provided should be quite dense.\n",
    "Write clear, engaging content for each section.\n",
    "Once the draft is complete, call the function to transfer to the Editor Agent.\"\"\"\n",
    "\n",
    "\n",
    "def editor_instructions(context_variables):\n",
    "    return \"\"\"You are the Editor Agent. Review and edit th prior blog post completed by the writer agent.\n",
    "Make necessary corrections and improvements.\n",
    "Once editing is complete, call the function to complete the blog post\"\"\"\n",
    "\n",
    "def transfer_to_researcher():\n",
    "    return researcher_agent\n",
    "\n",
    "\n",
    "def transfer_to_planner():\n",
    "    return planner_agent\n",
    "\n",
    "\n",
    "def transfer_to_writer():\n",
    "    return writer_agent\n",
    "\n",
    "\n",
    "def transfer_to_editor():\n",
    "    return editor_agent\n",
    "\n",
    "\n",
    "def transfer_to_admin():\n",
    "    return admin_agent\n",
    "\n",
    "\n",
    "def complete_blog():\n",
    "    return \"Task completed\"\n",
    "\n",
    "\n",
    "admin_agent = Agent(\n",
    "    name=\"Admin Agent\",\n",
    "    instructions=admin_instructions,\n",
    "    functions=[transfer_to_planner],\n",
    ")\n",
    "\n",
    "planner_agent = Agent(\n",
    "    name=\"Planner Agent\",\n",
    "    instructions=planner_instructions,\n",
    "    functions=[transfer_to_researcher],\n",
    ")\n",
    "\n",
    "researcher_agent = Agent(\n",
    "    name=\"Researcher Agent\",\n",
    "    instructions=researcher_instructions,\n",
    "    functions=[transfer_to_writer],\n",
    ")\n",
    "\n",
    "writer_agent = Agent(\n",
    "    name=\"Writer Agent\",\n",
    "    instructions=writer_instructions,\n",
    "    functions=[transfer_to_editor],\n",
    ")\n",
    "\n",
    "editor_agent = Agent(\n",
    "    name=\"Editor Agent\",\n",
    "    instructions=editor_instructions,\n",
    "    functions=[complete_blog_post],\n",
    ")\n"
   ]
  },
  {
   "cell_type": "markdown",
   "metadata": {},
   "source": [
    "## Run the demo"
   ]
  },
  {
   "cell_type": "code",
   "execution_count": 5,
   "metadata": {},
   "outputs": [],
   "source": [
    "from swarm.repl import run_demo_loop\n",
    "\n",
    "def run():\n",
    "    run_demo_loop(admin_agent, debug=True)"
   ]
  },
  {
   "cell_type": "markdown",
   "metadata": {},
   "source": [
    "You will be prompted by the notebook to provide and input topic for the blog post"
   ]
  },
  {
   "cell_type": "code",
   "execution_count": null,
   "metadata": {},
   "outputs": [],
   "source": [
    "run()"
   ]
  },
  {
   "cell_type": "markdown",
   "metadata": {},
   "source": [
    "Outputs will be saved to a local .md file titled as the chosen topic"
   ]
  },
  {
   "cell_type": "markdown",
   "metadata": {},
   "source": [
    "# Results for \"Impact of LLMs on healthcare\""
   ]
  },
  {
   "cell_type": "markdown",
   "metadata": {},
   "source": [
    "### Introduction\n",
    "\n",
    "In the realm of artificial intelligence, Large Language Models (LLMs) like OpenAI’s GPT-3 and Google's BERT have emerged as powerful tools capable of understanding and generating human-language text with resounding proficiency. These models draw on extensive datasets to execute complex natural language processing tasks, thus opening up expansive possibilities in various fields, especially healthcare. As healthcare continues to pivot towards technology-driven solutions, the integration of LLMs offers promising pathways to enhance efficiency, elevate patient outcomes, and personalize medical care.\n",
    "\n",
    "### Enhancement of Diagnostics\n",
    "\n",
    "LLMs represent a significant leap forward in medical diagnostics. By scrutinizing clinical data, images, and test results, these models can assist pathologists and radiologists by offering diagnostic insights and recognizing subtle patterns that may elude human practitioners. This potential is particularly potent in the early detection of diseases, such as in the field of oncology. For instance, LLMs can analyze structured and unstructured patient records, medical histories, and real-time data to predict the onset of conditions like diabetes or cardiovascular diseases, allowing earlier intervention and improved patient management.\n",
    "\n",
    "### Patient Education and Engagement\n",
    "\n",
    "The role of LLMs in patient education is transformative. They facilitate the distribution of personalized health information, enabling patients to better understand medical conditions and treatments. By simplifying complex medical jargon, LLMs improve health literacy, allowing patients to engage more actively in their care. Moreover, by providing 24/7 virtual assistance, LLMs enhance patient communication through conversational interactions, leading to increased engagement and a sense of ownership over one's health management.\n",
    "\n",
    "### Streamlining Administrative Tasks\n",
    "\n",
    "The healthcare ecosystem is often encumbered by demanding administrative tasks, which can divert focus from patient-centered care. LLMs offer a solution by automating routine clerical tasks such as transcribing doctor's notes, managing schedules, and handling billing queries. This automation allows healthcare providers to concentrate more on direct patient care duties. Additionally, LLMs' prowess in natural language processing makes organizing and retrieving patient records efficient, significantly reducing manual errors and saving valuable time in healthcare settings.\n",
    "\n",
    "### Research and Drug Discovery\n",
    "\n",
    "In the field of medical research and drug development, LLMs are invaluable. They expedite literature reviews and enable the formulation of hypotheses based on immense datasets—a boon for genomics and personalized medicine. Moreover, LLMs are instrumental in simulating drug interaction pathways, potentially accelerating the identification of novel drug candidates or the repurposing of existing drugs faster than conventional methods. This accelerates the translation of research findings into clinical applications, ultimately improving patient care and treatment outcomes.\n",
    "\n",
    "### Ethical Considerations and Challenges\n",
    "\n",
    "Notwithstanding their benefits, the deployment of LLMs in healthcare generates significant ethical concerns. Chief among these is data privacy, given LLMs' reliance on extensive datasets that include sensitive patient information. Ensuring compliance with regulations like HIPAA is essential. Furthermore, biases within AI algorithms, stemming from the data they are trained on, pose a risk of skewed diagnostics or treatment recommendations, disproportionately impacting marginalized communities. Addressing these biases and ensuring equitable AI practices is paramount as healthcare increasingly integrates LLMs.\n",
    "\n",
    "### Future Prospects and Predictions\n",
    "\n",
    "Looking to the future, LLMs promise broader and more refined integration into healthcare technologies, offering heightened accuracy and minimized biases. As a synergistic part of telemedicine and remote diagnostics, these models are expected to spearhead advancements in predictive analytics and bespoke healthcare solutions. Such evolution may drastically enhance resource management within healthcare systems, promising a future where patient care is more efficient, personalized, and holistic.\n",
    "\n",
    "### Conclusion\n",
    "\n",
    "LLMs stand on the cusp of redefining healthcare by enhancing diagnostic capabilities, optimizing administrative efficiency, and bolstering patient connectivity and education. However, as these technologies embed deeper into clinical applications, a careful approach is necessary to navigate ethical dilemmas, particularly concerning data security and bias. Ultimately, with a balanced fusion of innovation and regulation, LLMs hold the potential to render healthcare more effective, accessible, and patient-focused."
   ]
  }
 ],
 "metadata": {
  "kernelspec": {
   "display_name": "venv",
   "language": "python",
   "name": "python3"
  },
  "language_info": {
   "codemirror_mode": {
    "name": "ipython",
    "version": 3
   },
   "file_extension": ".py",
   "mimetype": "text/x-python",
   "name": "python",
   "nbconvert_exporter": "python",
   "pygments_lexer": "ipython3",
   "version": "3.12.5"
  }
 },
 "nbformat": 4,
 "nbformat_minor": 2
}

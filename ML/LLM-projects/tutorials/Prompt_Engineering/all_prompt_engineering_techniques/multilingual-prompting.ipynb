{
 "cells": [
  {
   "cell_type": "markdown",
   "metadata": {},
   "source": [
    "# Multilingual and Cross-lingual Prompting\n",
    "\n",
    "## Overview\n",
    "\n",
    "This tutorial explores the concepts and techniques of multilingual and cross-lingual prompting in the context of large language models. We'll focus on designing prompts that work effectively across multiple languages and implement techniques for language translation tasks.\n",
    "\n",
    "## Motivation\n",
    "\n",
    "As AI language models become increasingly sophisticated, there's a growing need to leverage their capabilities across linguistic boundaries. Multilingual and cross-lingual prompting techniques allow us to create more inclusive and globally accessible AI applications, breaking down language barriers and enabling seamless communication across diverse linguistic landscapes.\n",
    "\n",
    "## Key Components\n",
    "\n",
    "1. Multilingual Prompt Design: Strategies for creating prompts that work effectively in multiple languages.\n",
    "2. Language Detection and Adaptation: Techniques for identifying the input language and adapting the model's response accordingly.\n",
    "3. Cross-lingual Translation: Methods for using language models to perform translation tasks between different languages.\n",
    "4. Prompt Templating for Multilingual Support: Using LangChain's PromptTemplate for creating flexible, language-aware prompts.\n",
    "5. Handling Non-Latin Scripts: Considerations and techniques for working with languages that use non-Latin alphabets.\n",
    "\n",
    "## Method Details\n",
    "\n",
    "We'll use OpenAI's GPT-4 model via the LangChain library to demonstrate multilingual and cross-lingual prompting techniques. Our approach includes:\n",
    "\n",
    "1. Setting up the environment with necessary libraries and API keys.\n",
    "2. Creating multilingual prompts using LangChain's PromptTemplate.\n",
    "3. Implementing language detection and response adaptation.\n",
    "4. Designing prompts for cross-lingual translation tasks.\n",
    "5. Handling various writing systems and scripts.\n",
    "6. Exploring techniques for improving translation quality and cultural sensitivity.\n",
    "\n",
    "Throughout the tutorial, we'll provide examples in multiple languages to illustrate the concepts and techniques discussed.\n",
    "\n",
    "## Conclusion\n",
    "\n",
    "By the end of this tutorial, you will have gained practical skills in designing and implementing multilingual and cross-lingual prompts. These techniques will enable you to create more inclusive and globally accessible AI applications, leveraging the power of large language models across diverse linguistic contexts. The knowledge gained here forms a foundation for developing sophisticated, language-aware AI systems capable of breaking down communication barriers on a global scale."
   ]
  },
  {
   "cell_type": "markdown",
   "metadata": {},
   "source": [
    "## Setup\n",
    "\n",
    "First, let's import the necessary libraries and set up our environment."
   ]
  },
  {
   "cell_type": "code",
   "execution_count": 1,
   "metadata": {},
   "outputs": [],
   "source": [
    "import os\n",
    "from langchain_openai import ChatOpenAI\n",
    "from langchain.prompts import PromptTemplate\n",
    "from dotenv import load_dotenv\n",
    "\n",
    "# Load environment variables\n",
    "load_dotenv()\n",
    "\n",
    "# Set up OpenAI API key\n",
    "os.environ[\"OPENAI_API_KEY\"] = os.getenv('OPENAI_API_KEY')\n",
    "\n",
    "# Initialize the language model\n",
    "llm = ChatOpenAI(model=\"gpt-4o-mini\")\n",
    "\n",
    "# Helper function to print responses\n",
    "def print_response(response):\n",
    "    print(response.content)"
   ]
  },
  {
   "cell_type": "markdown",
   "metadata": {},
   "source": [
    "## Multilingual Prompt Design\n",
    "\n",
    "Let's start by creating a multilingual greeting prompt that adapts to different languages."
   ]
  },
  {
   "cell_type": "code",
   "execution_count": 2,
   "metadata": {},
   "outputs": [
    {
     "name": "stdout",
     "output_type": "stream",
     "text": [
      "English:\n",
      "Hello! Today, let’s talk about the weather in the United States. The weather can vary greatly from coast to coast and even within regions. For instance, while the East Coast may be experiencing chilly temperatures and the colors of autumn foliage, the West Coast might enjoy milder temperatures and sunny skies. In the Midwest, you might see the first signs of winter approaching, with cooler temperatures and possibly some early snowfall. Overall, the diverse geography and climate zones across the country make for a dynamic weather experience year-round!\n",
      "\n",
      "Spanish:\n",
      "¡Hola! En España, el clima varía significativamente dependiendo de la región. En el norte, como en Galicia, puedes esperar un clima más fresco y lluvioso, mientras que en el sur, como en Andalucía, las temperaturas suelen ser mucho más cálidas y soleadas, especialmente en verano. Durante la primavera y el otoño, el clima es generalmente agradable, lo que hace de estas temporadas una buena época para visitar. ¿Te gustaría saber más sobre el clima en alguna región específica?\n",
      "\n",
      "French:\n",
      "Bonjour ! En France, le temps peut varier considérablement selon les régions. Par exemple, dans le sud, comme à Nice, le climat est généralement méditerranéen avec des étés chauds et secs, tandis qu'à Paris, les hivers peuvent être frais et pluvieux. Actuellement, il est important de vérifier les prévisions locales pour planifier vos activités en plein air. Quelles sont vos destinations préférées en France ?\n",
      "\n",
      "German:\n",
      "Hallo! In Deutschland ist das Wetter im Herbst oft wechselhaft. Während dieser Zeit können Sie sonnige Tage erleben, gefolgt von kühleren, regnerischen Perioden. Die Temperaturen variieren normalerweise zwischen 10 und 15 Grad Celsius, und die bunten Blätter der Bäume schaffen eine malerische Kulisse. Es ist eine schöne Zeit, um die Natur zu genießen und vielleicht einen Spaziergang im Park zu machen!\n",
      "\n",
      "Japanese:\n",
      "こんにちは！日本の天気について少し紹介しますね。日本の気候は地域によって異なりますが、一般的には四季がはっきりしています。春には桜が咲き、温暖な気候が楽しめます。夏は高温多湿で、特に南部では台風が多く発生します。秋は心地よい涼しさがあり、紅葉が美しい季節です。そして冬は北部では雪が降り、スキーや雪祭りが人気です。日本の天気は多様で、訪れるたびに新しい発見がありますよ！\n",
      "\n"
     ]
    }
   ],
   "source": [
    "multilingual_greeting = PromptTemplate(\n",
    "    input_variables=[\"language\"],\n",
    "    template=\"Greet the user in {language} and provide a brief introduction about the weather in a country where this language is spoken.\"\n",
    ")\n",
    "\n",
    "# Test the multilingual greeting prompt\n",
    "languages = [\"English\", \"Spanish\", \"French\", \"German\", \"Japanese\"]\n",
    "\n",
    "for lang in languages:\n",
    "    prompt = multilingual_greeting.format(language=lang)\n",
    "    response = llm.invoke(prompt)\n",
    "    print(f\"{lang}:\")\n",
    "    print_response(response)\n",
    "    print()"
   ]
  },
  {
   "cell_type": "markdown",
   "metadata": {},
   "source": [
    "## Language Detection and Adaptation\n",
    "\n",
    "Now, let's create a prompt that can detect the input language and respond accordingly."
   ]
  },
  {
   "cell_type": "code",
   "execution_count": 3,
   "metadata": {},
   "outputs": [
    {
     "name": "stdout",
     "output_type": "stream",
     "text": [
      "Input: Hello, how are you?\n",
      "Response:\n",
      "Hello! I'm doing well, thank you. How about you?\n",
      "\n",
      "Input: Hola, ¿cómo estás?\n",
      "Response:\n",
      "¡Hola! Estoy bien, gracias. ¿Y tú?\n",
      "\n",
      "Input: Bonjour, comment allez-vous ?\n",
      "Response:\n",
      "Bonjour ! Je vais bien, merci. Et vous, comment allez-vous ?\n",
      "\n",
      "Input: こんにちは、お元気ですか？\n",
      "Response:\n",
      "こんにちは！私は元気です。あなたはいかがですか？\n",
      "\n",
      "Input: Здравствуйте, как дела?\n",
      "Response:\n",
      "Здравствуйте! У меня всё хорошо, спасибо. А как у вас?\n",
      "\n"
     ]
    }
   ],
   "source": [
    "language_adaptive_prompt = PromptTemplate(\n",
    "    input_variables=[\"user_input\"],\n",
    "    template=\"\"\"Detect the language of the following input and respond in the same language:\n",
    "    User input: {user_input}\n",
    "    Your response (in the detected language):\"\"\"\n",
    ")\n",
    "\n",
    "# Test the language adaptive prompt\n",
    "inputs = [\n",
    "    \"Hello, how are you?\",\n",
    "    \"Hola, ¿cómo estás?\",\n",
    "    \"Bonjour, comment allez-vous ?\",\n",
    "    \"こんにちは、お元気ですか？\",\n",
    "    \"Здравствуйте, как дела?\"\n",
    "]\n",
    "\n",
    "for user_input in inputs:\n",
    "    prompt = language_adaptive_prompt.format(user_input=user_input)\n",
    "    response = llm.invoke(prompt)\n",
    "    print(f\"Input: {user_input}\")\n",
    "    print(\"Response:\")\n",
    "    print_response(response)\n",
    "    print()"
   ]
  },
  {
   "cell_type": "markdown",
   "metadata": {},
   "source": [
    "## Cross-lingual Translation\n",
    "\n",
    "Let's implement a prompt for cross-lingual translation tasks."
   ]
  },
  {
   "cell_type": "code",
   "execution_count": 4,
   "metadata": {},
   "outputs": [
    {
     "name": "stdout",
     "output_type": "stream",
     "text": [
      "From English to French:\n",
      "Original: The quick brown fox jumps over the lazy dog.\n",
      "Translation:\n",
      "La rapide renarde brune saute par-dessus le chien paresseux.\n",
      "\n",
      "From Spanish to German:\n",
      "Original: La vida es bella.\n",
      "Translation:\n",
      "Das Leben ist schön.\n",
      "\n",
      "From Japanese to English:\n",
      "Original: 桜の花が満開です。\n",
      "Translation:\n",
      "The cherry blossoms are in full bloom.\n",
      "\n"
     ]
    }
   ],
   "source": [
    "translation_prompt = PromptTemplate(\n",
    "    input_variables=[\"source_lang\", \"target_lang\", \"text\"],\n",
    "    template=\"\"\"Translate the following text from {source_lang} to {target_lang}:\n",
    "    {source_lang} text: {text}\n",
    "    {target_lang} translation:\"\"\"\n",
    ")\n",
    "\n",
    "# Test the translation prompt\n",
    "translations = [\n",
    "    {\"source_lang\": \"English\", \"target_lang\": \"French\", \"text\": \"The quick brown fox jumps over the lazy dog.\"},\n",
    "    {\"source_lang\": \"Spanish\", \"target_lang\": \"German\", \"text\": \"La vida es bella.\"},\n",
    "    {\"source_lang\": \"Japanese\", \"target_lang\": \"English\", \"text\": \"桜の花が満開です。\"}\n",
    "]\n",
    "\n",
    "for t in translations:\n",
    "    prompt = translation_prompt.format(**t)\n",
    "    response = llm.invoke(prompt)\n",
    "    print(f\"From {t['source_lang']} to {t['target_lang']}:\")\n",
    "    print(f\"Original: {t['text']}\")\n",
    "    print(\"Translation:\")\n",
    "    print_response(response)\n",
    "    print()"
   ]
  },
  {
   "cell_type": "markdown",
   "metadata": {},
   "source": [
    "## Handling Non-Latin Scripts\n",
    "\n",
    "Let's create a prompt that can work with non-Latin scripts and provide transliteration."
   ]
  },
  {
   "cell_type": "code",
   "execution_count": 5,
   "metadata": {},
   "outputs": [
    {
     "name": "stdout",
     "output_type": "stream",
     "text": [
      "1. The original text: こんにちは、世界  \n",
      "2. The name of the script/writing system: Japanese  \n",
      "3. A transliteration to Latin alphabet: Konnichiwa, sekai  \n",
      "4. An English translation: Hello, world\n",
      "\n",
      "1. The original text: Здравствуй, мир\n",
      "2. The name of the script/writing system: Cyrillic\n",
      "3. A transliteration to Latin alphabet: Zdravstvuy, mir\n",
      "4. An English translation: Hello, world\n",
      "\n",
      "1. The original text: नमस्ते दुनिया  \n",
      "2. The name of the script/writing system: Devanagari  \n",
      "3. A transliteration to Latin alphabet: Namaste Duniya  \n",
      "4. An English translation: Hello, world  \n",
      "\n"
     ]
    }
   ],
   "source": [
    "non_latin_prompt = PromptTemplate(\n",
    "    input_variables=[\"text\", \"script\"],\n",
    "    template=\"\"\"Provide the following information for the given text:\n",
    "    1. The original text\n",
    "    2. The name of the script/writing system\n",
    "    3. A transliteration to Latin alphabet\n",
    "    4. An English translation\n",
    "    \n",
    "    Text: {text}\n",
    "    Script: {script}\n",
    "    \"\"\"\n",
    ")\n",
    "\n",
    "# Test the non-Latin script prompt\n",
    "non_latin_texts = [\n",
    "    {\"text\": \"こんにちは、世界\", \"script\": \"Japanese\"},\n",
    "    {\"text\": \"Здравствуй, мир\", \"script\": \"Cyrillic\"},\n",
    "    {\"text\": \"नमस्ते दुनिया\", \"script\": \"Devanagari\"}\n",
    "]\n",
    "\n",
    "for text in non_latin_texts:\n",
    "    prompt = non_latin_prompt.format(**text)\n",
    "    response = llm.invoke(prompt)\n",
    "    print_response(response)\n",
    "    print()"
   ]
  },
  {
   "cell_type": "markdown",
   "metadata": {},
   "source": [
    "## Improving Translation Quality and Cultural Sensitivity\n",
    "\n",
    "Finally, let's create a prompt that focuses on maintaining cultural context and idioms in translation."
   ]
  },
  {
   "cell_type": "code",
   "execution_count": 6,
   "metadata": {},
   "outputs": [
    {
     "name": "stdout",
     "output_type": "stream",
     "text": [
      "From English to Japanese:\n",
      "Original: It's raining cats and dogs.\n",
      "Translation and Explanation:\n",
      "1. **Direct Translation:**\n",
      "   猫や犬が降っている。  \n",
      "   (Neko ya inu ga futte iru.)\n",
      "\n",
      "2. **Culturally Adapted Translation:**\n",
      "   土砂降りだ。  \n",
      "   (Doshaburi da.)\n",
      "\n",
      "3. **Explanations of Cultural Nuances or Idioms:**\n",
      "   - The direct translation \"猫や犬が降っている\" is a literal interpretation of the English idiom \"It's raining cats and dogs.\" However, this expression does not hold any meaning in Japanese culture and would likely cause confusion.\n",
      "   - The culturally adapted translation \"土砂降りだ\" (doshaburi da) means \"it's pouring rain\" or \"it's coming down in buckets.\" This phrase is commonly used in Japan to describe very heavy rain and is easily understood by Japanese speakers.\n",
      "   - The idiom \"raining cats and dogs\" emphasizes the intensity of the rain in a colorful way, which is not directly translatable to Japanese. Instead, the adapted phrase captures the essence of heavy rainfall in a way that resonates with Japanese speakers.\n",
      "\n",
      "From French to English:\n",
      "Original: Je suis dans le pétrin.\n",
      "Translation and Explanation:\n",
      "1. **Direct Translation**: I am in the dough.\n",
      "\n",
      "2. **Culturally Adapted Translation**: I am in a tough spot.\n",
      "\n",
      "3. **Explanations of Cultural Nuances or Idioms**: \n",
      "   - The phrase \"Je suis dans le pétrin\" literally translates to \"I am in the dough,\" which refers to being in a difficult or complicated situation. The term \"pétrin\" originally refers to a mixing bowl used for kneading dough in baking. Over time, it has evolved into an idiomatic expression in French that signifies being stuck in a problem or facing trouble.\n",
      "   - In English, the adapted version \"I am in a tough spot\" conveys a similar sense of being in a challenging situation, making it more relatable for English speakers. The cultural context of using food-related metaphors is common in many languages, but the specific expression would likely not be understood without explanation if translated literally.\n",
      "\n",
      "From Spanish to German:\n",
      "Original: Cuesta un ojo de la cara.\n",
      "Translation and Explanation:\n",
      "### 1. Direct Translation:\n",
      "\"Es kostet ein Auge aus dem Gesicht.\"\n",
      "\n",
      "### 2. Culturally Adapted Translation:\n",
      "\"Es kostet ein Vermögen.\"\n",
      "\n",
      "### 3. Explanation of Cultural Nuances or Idioms:\n",
      "- **Direct Translation**: The phrase \"Es kostet ein ojo de la cara\" literally translates to \"It costs an eye out of the face.\" This expression is used in Spanish to convey that something is very expensive, implying a significant sacrifice for the expense.\n",
      "  \n",
      "- **Culturally Adapted Translation**: The adapted phrase \"Es kostet ein Vermögen\" means \"It costs a fortune.\" This expression is more commonly used in German. While both phrases communicate the idea of high expense, \"ein Vermögen\" is a neutral term that is widely understood in financial contexts.\n",
      "\n",
      "- **Cultural Nuances**: The original Spanish idiom emphasizes the idea of sacrificing something valuable (an eye) for something costly, which can evoke strong imagery about loss and value. In contrast, the German expression focuses on the financial aspect without the same vivid imagery, reflecting a more straightforward approach to discussing costs. This difference illustrates how various cultures use metaphorical language to express similar concepts while maintaining their own unique flavors and connotations.\n",
      "\n"
     ]
    }
   ],
   "source": [
    "cultural_translation_prompt = PromptTemplate(\n",
    "    input_variables=[\"source_lang\", \"target_lang\", \"text\"],\n",
    "    template=\"\"\"Translate the following text from {source_lang} to {target_lang}, paying special attention to cultural context and idiomatic expressions. Provide:\n",
    "    1. A direct translation\n",
    "    2. A culturally adapted translation (if different)\n",
    "    3. Explanations of any cultural nuances or idioms\n",
    "    \n",
    "    {source_lang} text: {text}\n",
    "    {target_lang} translation and explanation:\"\"\"\n",
    ")\n",
    "\n",
    "# Test the cultural translation prompt\n",
    "cultural_texts = [\n",
    "    {\"source_lang\": \"English\", \"target_lang\": \"Japanese\", \"text\": \"It's raining cats and dogs.\"},\n",
    "    {\"source_lang\": \"French\", \"target_lang\": \"English\", \"text\": \"Je suis dans le pétrin.\"},\n",
    "    {\"source_lang\": \"Spanish\", \"target_lang\": \"German\", \"text\": \"Cuesta un ojo de la cara.\"}\n",
    "]\n",
    "\n",
    "for text in cultural_texts:\n",
    "    prompt = cultural_translation_prompt.format(**text)\n",
    "    response = llm.invoke(prompt)\n",
    "    print(f\"From {text['source_lang']} to {text['target_lang']}:\")\n",
    "    print(f\"Original: {text['text']}\")\n",
    "    print(\"Translation and Explanation:\")\n",
    "    print_response(response)\n",
    "    print()"
   ]
  }
 ],
 "metadata": {
  "kernelspec": {
   "display_name": ".venv",
   "language": "python",
   "name": "python3"
  },
  "language_info": {
   "codemirror_mode": {
    "name": "ipython",
    "version": 3
   },
   "file_extension": ".py",
   "mimetype": "text/x-python",
   "name": "python",
   "nbconvert_exporter": "python",
   "pygments_lexer": "ipython3",
   "version": "3.12.0"
  }
 },
 "nbformat": 4,
 "nbformat_minor": 4
}

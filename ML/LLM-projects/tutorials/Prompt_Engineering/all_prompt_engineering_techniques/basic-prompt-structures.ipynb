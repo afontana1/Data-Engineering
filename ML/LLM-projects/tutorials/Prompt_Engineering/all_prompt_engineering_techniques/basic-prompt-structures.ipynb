{
 "cells": [
  {
   "cell_type": "markdown",
   "metadata": {},
   "source": [
    "# Basic Prompt Structures Tutorial\n",
    "\n",
    "## Overview\n",
    "\n",
    "This tutorial focuses on two fundamental types of prompt structures:\n",
    "1. Single-turn prompts\n",
    "2. Multi-turn prompts (conversations)\n",
    "\n",
    "We'll use OpenAI's GPT model and LangChain to demonstrate these concepts.\n",
    "\n",
    "## Motivation\n",
    "\n",
    "Understanding different prompt structures is crucial for effective communication with AI models. Single-turn prompts are useful for quick, straightforward queries, while multi-turn prompts enable more complex, context-aware interactions. Mastering these structures allows for more versatile and effective use of AI in various applications.\n",
    "\n",
    "## Key Components\n",
    "\n",
    "1. **Single-turn Prompts**: One-shot interactions with the language model.\n",
    "2. **Multi-turn Prompts**: Series of interactions that maintain context.\n",
    "3. **Prompt Templates**: Reusable structures for consistent prompting.\n",
    "4. **Conversation Chains**: Maintaining context across multiple interactions.\n",
    "\n",
    "## Method Details\n",
    "\n",
    "We'll use a combination of OpenAI's API and LangChain library to demonstrate these prompt structures. The tutorial will include practical examples and comparisons of different prompt types."
   ]
  },
  {
   "cell_type": "markdown",
   "metadata": {},
   "source": [
    "## Setup\n",
    "\n",
    "First, let's import the necessary libraries and set up our environment."
   ]
  },
  {
   "cell_type": "code",
   "execution_count": 2,
   "metadata": {},
   "outputs": [],
   "source": [
    "import os\n",
    "from langchain_openai import ChatOpenAI\n",
    "from langchain.prompts import PromptTemplate\n",
    "from langchain.chains import ConversationChain\n",
    "from langchain.memory import ConversationBufferMemory\n",
    "\n",
    "from dotenv import load_dotenv\n",
    "load_dotenv()\n",
    "\n",
    "os.environ[\"OPENAI_API_KEY\"] = os.getenv('OPENAI_API_KEY') # OpenAI API key\n",
    "# Initialize the language model\n",
    "llm = ChatOpenAI(model=\"gpt-4o-mini\")"
   ]
  },
  {
   "cell_type": "markdown",
   "metadata": {},
   "source": [
    "## 1. Single-turn Prompts\n",
    "\n",
    "Single-turn prompts are one-shot interactions with the language model. They consist of a single input (prompt) and generate a single output (response)."
   ]
  },
  {
   "cell_type": "code",
   "execution_count": 3,
   "metadata": {},
   "outputs": [
    {
     "name": "stdout",
     "output_type": "stream",
     "text": [
      "The three primary colors are red, blue, and yellow. These colors cannot be created by mixing other colors together and are the foundation for creating a wide range of other colors through mixing. In the context of additive color mixing (like with light), the primary colors are red, green, and blue (RGB).\n"
     ]
    }
   ],
   "source": [
    "single_turn_prompt = \"What are the three primary colors?\"\n",
    "print(llm.invoke(single_turn_prompt).content)"
   ]
  },
  {
   "cell_type": "markdown",
   "metadata": {},
   "source": [
    "Now, let's use a PromptTemplate to create a more structured single-turn prompt:"
   ]
  },
  {
   "cell_type": "code",
   "execution_count": 4,
   "metadata": {},
   "outputs": [
    {
     "name": "stdout",
     "output_type": "stream",
     "text": [
      "Color theory is a framework used to understand how colors interact, complement each other, and can be combined to create various visual effects. It is essential in fields such as art, design, and photography, helping artists and designers make informed choices about color usage to evoke emotions, communicate messages, and create harmony in their work.\n",
      "\n",
      "The three main components of color theory are:\n",
      "\n",
      "1. **Color Wheel**: A circular diagram that shows the relationships between colors. It typically includes primary, secondary, and tertiary colors, providing a visual representation of how colors can be combined.\n",
      "\n",
      "2. **Color Harmony**: The concept of combining colors in a pleasing way. It involves using color schemes such as complementary, analogous, and triadic to create balance and visual interest.\n",
      "\n",
      "3. **Color Context**: This refers to how colors interact with one another and how they can change perception based on their surrounding colors. The same color can appear different depending on the colors next to it, which influences mood and interpretation.\n"
     ]
    }
   ],
   "source": [
    "structured_prompt = PromptTemplate(\n",
    "    input_variables=[\"topic\"],\n",
    "    template=\"Provide a brief explanation of {topic} and list its three main components.\"\n",
    ")\n",
    "\n",
    "chain = structured_prompt | llm\n",
    "print(chain.invoke({\"topic\": \"color theory\"}).content)"
   ]
  },
  {
   "cell_type": "markdown",
   "metadata": {},
   "source": [
    "## 2. Multi-turn Prompts (Conversations)\n",
    "\n",
    "Multi-turn prompts involve a series of interactions with the language model, allowing for more complex and context-aware conversations."
   ]
  },
  {
   "cell_type": "code",
   "execution_count": 5,
   "metadata": {},
   "outputs": [
    {
     "name": "stderr",
     "output_type": "stream",
     "text": [
      "C:\\Users\\N7\\AppData\\Local\\Temp\\ipykernel_20652\\4194631287.py:4: LangChainDeprecationWarning: Please see the migration guide at: https://python.langchain.com/docs/versions/migrating_memory/\n",
      "  memory=ConversationBufferMemory()\n",
      "C:\\Users\\N7\\AppData\\Local\\Temp\\ipykernel_20652\\4194631287.py:1: LangChainDeprecationWarning: The class `ConversationChain` was deprecated in LangChain 0.2.7 and will be removed in 1.0. Use :meth:`~RunnableWithMessageHistory: https://python.langchain.com/v0.2/api_reference/core/runnables/langchain_core.runnables.history.RunnableWithMessageHistory.html` instead.\n",
      "  conversation = ConversationChain(\n"
     ]
    },
    {
     "name": "stdout",
     "output_type": "stream",
     "text": [
      "\n",
      "\n",
      "\u001b[1m> Entering new ConversationChain chain...\u001b[0m\n",
      "Prompt after formatting:\n",
      "\u001b[32;1m\u001b[1;3mThe following is a friendly conversation between a human and an AI. The AI is talkative and provides lots of specific details from its context. If the AI does not know the answer to a question, it truthfully says it does not know.\n",
      "\n",
      "Current conversation:\n",
      "\n",
      "Human: Hi, I'm learning about space. Can you tell me about planets?\n",
      "AI:\u001b[0m\n",
      "\n",
      "\u001b[1m> Finished chain.\u001b[0m\n",
      "Absolutely! Planets are fascinating celestial bodies that orbit stars, and in our solar system, they revolve around the Sun. There are eight recognized planets in our solar system, and they can be categorized into two main groups: terrestrial planets and gas giants.\n",
      "\n",
      "The terrestrial planets—Mercury, Venus, Earth, and Mars—are rocky and have solid surfaces. \n",
      "\n",
      "- **Mercury** is the closest planet to the Sun and has extreme temperature variations, ranging from scorching hot during the day to frigid cold at night.\n",
      "- **Venus** is often called Earth's \"sister planet\" due to its similar size but has a thick, toxic atmosphere that traps heat, making it the hottest planet in the solar system.\n",
      "- **Earth**, our home, is unique for its liquid water and life-sustaining atmosphere.\n",
      "- **Mars**, known as the Red Planet because of its iron oxide-rich soil, has the largest volcano and canyon in the solar system.\n",
      "\n",
      "The gas giants—Jupiter and Saturn, and the ice giants—Uranus and Neptune, are much larger and do not have solid surfaces like the terrestrial planets.\n",
      "\n",
      "- **Jupiter** is the largest planet, famous for its Great Red Spot, a massive storm larger than Earth, and its many moons, including the largest moon in the solar system, Ganymede.\n",
      "- **Saturn** is known for its stunning ring system, made up of ice and rock particles.\n",
      "- **Uranus** is unique because it rotates on its side, and it's known for its blue color due to methane in its atmosphere.\n",
      "- **Neptune**, the furthest planet from the Sun, has strong winds and is also blue due to methane; it has the fastest winds recorded in the solar system.\n",
      "\n",
      "If you're interested in something more specific about any planet or the characteristics of other celestial bodies, feel free to ask!\n",
      "\n",
      "\n",
      "\u001b[1m> Entering new ConversationChain chain...\u001b[0m\n",
      "Prompt after formatting:\n",
      "\u001b[32;1m\u001b[1;3mThe following is a friendly conversation between a human and an AI. The AI is talkative and provides lots of specific details from its context. If the AI does not know the answer to a question, it truthfully says it does not know.\n",
      "\n",
      "Current conversation:\n",
      "Human: Hi, I'm learning about space. Can you tell me about planets?\n",
      "AI: Absolutely! Planets are fascinating celestial bodies that orbit stars, and in our solar system, they revolve around the Sun. There are eight recognized planets in our solar system, and they can be categorized into two main groups: terrestrial planets and gas giants.\n",
      "\n",
      "The terrestrial planets—Mercury, Venus, Earth, and Mars—are rocky and have solid surfaces. \n",
      "\n",
      "- **Mercury** is the closest planet to the Sun and has extreme temperature variations, ranging from scorching hot during the day to frigid cold at night.\n",
      "- **Venus** is often called Earth's \"sister planet\" due to its similar size but has a thick, toxic atmosphere that traps heat, making it the hottest planet in the solar system.\n",
      "- **Earth**, our home, is unique for its liquid water and life-sustaining atmosphere.\n",
      "- **Mars**, known as the Red Planet because of its iron oxide-rich soil, has the largest volcano and canyon in the solar system.\n",
      "\n",
      "The gas giants—Jupiter and Saturn, and the ice giants—Uranus and Neptune, are much larger and do not have solid surfaces like the terrestrial planets.\n",
      "\n",
      "- **Jupiter** is the largest planet, famous for its Great Red Spot, a massive storm larger than Earth, and its many moons, including the largest moon in the solar system, Ganymede.\n",
      "- **Saturn** is known for its stunning ring system, made up of ice and rock particles.\n",
      "- **Uranus** is unique because it rotates on its side, and it's known for its blue color due to methane in its atmosphere.\n",
      "- **Neptune**, the furthest planet from the Sun, has strong winds and is also blue due to methane; it has the fastest winds recorded in the solar system.\n",
      "\n",
      "If you're interested in something more specific about any planet or the characteristics of other celestial bodies, feel free to ask!\n",
      "Human: What's the largest planet in our solar system?\n",
      "AI:\u001b[0m\n",
      "\n",
      "\u001b[1m> Finished chain.\u001b[0m\n",
      "The largest planet in our solar system is **Jupiter**. It has a diameter of about 86,881 miles (139,822 kilometers) and is more than 11 times wider than Earth! Jupiter is primarily composed of hydrogen and helium, and it has a very strong magnetic field and numerous moons—over 79 have been confirmed, with the four largest known as the Galilean moons: Io, Europa, Ganymede, and Callisto. Ganymede is particularly notable as it is not only the largest moon of Jupiter but also the largest moon in the entire solar system, even larger than the planet Mercury! If you want to know more about Jupiter or any of its moons, just let me know!\n",
      "\n",
      "\n",
      "\u001b[1m> Entering new ConversationChain chain...\u001b[0m\n",
      "Prompt after formatting:\n",
      "\u001b[32;1m\u001b[1;3mThe following is a friendly conversation between a human and an AI. The AI is talkative and provides lots of specific details from its context. If the AI does not know the answer to a question, it truthfully says it does not know.\n",
      "\n",
      "Current conversation:\n",
      "Human: Hi, I'm learning about space. Can you tell me about planets?\n",
      "AI: Absolutely! Planets are fascinating celestial bodies that orbit stars, and in our solar system, they revolve around the Sun. There are eight recognized planets in our solar system, and they can be categorized into two main groups: terrestrial planets and gas giants.\n",
      "\n",
      "The terrestrial planets—Mercury, Venus, Earth, and Mars—are rocky and have solid surfaces. \n",
      "\n",
      "- **Mercury** is the closest planet to the Sun and has extreme temperature variations, ranging from scorching hot during the day to frigid cold at night.\n",
      "- **Venus** is often called Earth's \"sister planet\" due to its similar size but has a thick, toxic atmosphere that traps heat, making it the hottest planet in the solar system.\n",
      "- **Earth**, our home, is unique for its liquid water and life-sustaining atmosphere.\n",
      "- **Mars**, known as the Red Planet because of its iron oxide-rich soil, has the largest volcano and canyon in the solar system.\n",
      "\n",
      "The gas giants—Jupiter and Saturn, and the ice giants—Uranus and Neptune, are much larger and do not have solid surfaces like the terrestrial planets.\n",
      "\n",
      "- **Jupiter** is the largest planet, famous for its Great Red Spot, a massive storm larger than Earth, and its many moons, including the largest moon in the solar system, Ganymede.\n",
      "- **Saturn** is known for its stunning ring system, made up of ice and rock particles.\n",
      "- **Uranus** is unique because it rotates on its side, and it's known for its blue color due to methane in its atmosphere.\n",
      "- **Neptune**, the furthest planet from the Sun, has strong winds and is also blue due to methane; it has the fastest winds recorded in the solar system.\n",
      "\n",
      "If you're interested in something more specific about any planet or the characteristics of other celestial bodies, feel free to ask!\n",
      "Human: What's the largest planet in our solar system?\n",
      "AI: The largest planet in our solar system is **Jupiter**. It has a diameter of about 86,881 miles (139,822 kilometers) and is more than 11 times wider than Earth! Jupiter is primarily composed of hydrogen and helium, and it has a very strong magnetic field and numerous moons—over 79 have been confirmed, with the four largest known as the Galilean moons: Io, Europa, Ganymede, and Callisto. Ganymede is particularly notable as it is not only the largest moon of Jupiter but also the largest moon in the entire solar system, even larger than the planet Mercury! If you want to know more about Jupiter or any of its moons, just let me know!\n",
      "Human: How does its size compare to Earth?\n",
      "AI:\u001b[0m\n",
      "\n",
      "\u001b[1m> Finished chain.\u001b[0m\n",
      "Jupiter is significantly larger than Earth! To give you a clearer picture, Jupiter's diameter is about 86,881 miles (139,822 kilometers), while Earth's diameter is around 7,917.5 miles (12,742 kilometers). This means that Jupiter is more than 11 times wider than Earth!\n",
      "\n",
      "In terms of volume, you could fit about 1,300 Earths inside Jupiter! Additionally, Jupiter's mass is approximately 318 times greater than that of Earth. Despite its massive size and weight, Jupiter has a much lower density compared to Earth, which is why it is classified as a gas giant. If you have more questions about Jupiter or want to know how gravity differs between the two planets, feel free to ask!\n"
     ]
    }
   ],
   "source": [
    "conversation = ConversationChain(\n",
    "    llm=llm, \n",
    "    verbose=True,\n",
    "    memory=ConversationBufferMemory()\n",
    ")\n",
    "\n",
    "print(conversation.predict(input=\"Hi, I'm learning about space. Can you tell me about planets?\"))\n",
    "print(conversation.predict(input=\"What's the largest planet in our solar system?\"))\n",
    "print(conversation.predict(input=\"How does its size compare to Earth?\"))"
   ]
  },
  {
   "cell_type": "markdown",
   "metadata": {},
   "source": [
    "Let's compare how single-turn and multi-turn prompts handle a series of related questions:"
   ]
  },
  {
   "cell_type": "code",
   "execution_count": 6,
   "metadata": {},
   "outputs": [
    {
     "name": "stdout",
     "output_type": "stream",
     "text": [
      "Single-turn responses:\n",
      "Q: What is the capital of France?\n",
      "A: The capital of France is Paris.\n",
      "\n",
      "Q: What is its population?\n",
      "A: Could you please specify which location or entity you are referring to in order to provide the population information?\n",
      "\n",
      "Q: What is the city's most famous landmark?\n",
      "A: To provide an accurate answer, I need to know which city you are referring to. Different cities have different famous landmarks. Could you please specify the city?\n",
      "\n",
      "Multi-turn responses:\n",
      "Q: What is the capital of France?\n",
      "A: The capital of France is Paris! It's known for its iconic landmarks such as the Eiffel Tower, the Louvre Museum, and Notre-Dame Cathedral. Paris is also famous for its rich history, art, and culture. Have you ever been to Paris or is it on your travel list?\n",
      "\n",
      "Q: What is its population?\n",
      "A: As of my last update, the population of Paris is approximately 2.1 million people within the city limits. However, if you consider the larger metropolitan area, that number rises to around 12 million. Paris is a vibrant city with a diverse population and a mix of cultures. Have you ever thought about what it would be like to live in such a bustling city?\n",
      "\n",
      "Q: What is the city's most famous landmark?\n",
      "A: The most famous landmark in Paris is undoubtedly the Eiffel Tower! It was completed in 1889 for the Exposition Universelle (World's Fair) and stands at a height of about 300 meters (984 feet). The Eiffel Tower attracts millions of visitors each year, offering stunning views of the city from its observation decks. It's also beautifully illuminated at night, making it a romantic spot for both locals and tourists. Have you ever seen the Eiffel Tower in pictures or dreamed of visiting it?\n",
      "\n"
     ]
    }
   ],
   "source": [
    "# Single-turn prompts\n",
    "prompts = [\n",
    "    \"What is the capital of France?\",\n",
    "    \"What is its population?\",\n",
    "    \"What is the city's most famous landmark?\"\n",
    "]\n",
    "\n",
    "print(\"Single-turn responses:\")\n",
    "for prompt in prompts:\n",
    "    print(f\"Q: {prompt}\")\n",
    "    print(f\"A: {llm.invoke(prompt).content}\\n\")\n",
    "\n",
    "# Multi-turn prompts\n",
    "print(\"Multi-turn responses:\")\n",
    "conversation = ConversationChain(llm=llm, memory=ConversationBufferMemory())\n",
    "for prompt in prompts:\n",
    "    print(f\"Q: {prompt}\")\n",
    "    print(f\"A: {conversation.predict(input=prompt)}\\n\")"
   ]
  },
  {
   "cell_type": "markdown",
   "metadata": {},
   "source": [
    "## Conclusion\n",
    "\n",
    "This tutorial has introduced you to the basics of single-turn and multi-turn prompt structures. We've seen how:\n",
    "\n",
    "1. Single-turn prompts are useful for quick, isolated queries.\n",
    "2. Multi-turn prompts maintain context across a conversation, allowing for more complex interactions.\n",
    "3. PromptTemplates can be used to create structured, reusable prompts.\n",
    "4. Conversation chains in LangChain help manage context in multi-turn interactions.\n",
    "\n",
    "Understanding these different prompt structures allows you to choose the most appropriate approach for various tasks and create more effective interactions with AI language models."
   ]
  }
 ],
 "metadata": {
  "kernelspec": {
   "display_name": ".venv",
   "language": "python",
   "name": "python3"
  },
  "language_info": {
   "codemirror_mode": {
    "name": "ipython",
    "version": 3
   },
   "file_extension": ".py",
   "mimetype": "text/x-python",
   "name": "python",
   "nbconvert_exporter": "python",
   "pygments_lexer": "ipython3",
   "version": "3.12.0"
  }
 },
 "nbformat": 4,
 "nbformat_minor": 4
}

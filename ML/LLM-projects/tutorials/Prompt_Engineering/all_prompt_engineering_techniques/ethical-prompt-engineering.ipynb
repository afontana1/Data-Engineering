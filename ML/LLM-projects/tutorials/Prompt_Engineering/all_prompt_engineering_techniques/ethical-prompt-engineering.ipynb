{
 "cells": [
  {
   "cell_type": "markdown",
   "metadata": {},
   "source": [
    "# Ethical Considerations in Prompt Engineering\n",
    "\n",
    "## Overview\n",
    "\n",
    "This tutorial explores the ethical dimensions of prompt engineering, focusing on two critical aspects: avoiding biases in prompts and creating inclusive and fair prompts. As AI language models become increasingly integrated into various applications, ensuring ethical use becomes paramount.\n",
    "\n",
    "## Motivation\n",
    "\n",
    "AI language models, trained on vast amounts of data, can inadvertently perpetuate or amplify existing biases. Prompt engineers play a crucial role in mitigating these biases and promoting fairness. This tutorial aims to equip learners with the knowledge and tools to create more ethical and inclusive prompts.\n",
    "\n",
    "## Key Components\n",
    "\n",
    "1. Understanding biases in AI\n",
    "2. Techniques for identifying biases in prompts\n",
    "3. Strategies for creating inclusive prompts\n",
    "4. Methods for evaluating fairness in AI outputs\n",
    "5. Practical examples and exercises\n",
    "\n",
    "## Method Details\n",
    "\n",
    "This tutorial employs a combination of theoretical explanations and practical demonstrations:\n",
    "\n",
    "1. We begin by setting up the necessary environment, including the OpenAI API and LangChain library.\n",
    "2. We explore common types of biases in AI and how they can manifest in prompts.\n",
    "3. Through examples, we demonstrate how to identify and mitigate biases in prompts.\n",
    "4. We introduce techniques for creating inclusive prompts that consider diverse perspectives.\n",
    "5. We implement methods to evaluate the fairness of AI-generated outputs.\n",
    "6. Throughout the tutorial, we provide exercises for hands-on learning and application of ethical prompt engineering principles.\n",
    "\n",
    "## Conclusion\n",
    "\n",
    "By the end of this tutorial, learners will have gained:\n",
    "1. An understanding of the ethical implications of prompt engineering\n",
    "2. Skills to identify and mitigate biases in prompts\n",
    "3. Techniques for creating inclusive and fair prompts\n",
    "4. Methods to evaluate and improve the ethical quality of AI outputs\n",
    "5. Practical experience in applying ethical considerations to real-world prompt engineering scenarios\n",
    "\n",
    "This knowledge will empower prompt engineers to create more responsible and equitable AI applications, contributing to the development of AI systems that benefit all members of society."
   ]
  },
  {
   "cell_type": "markdown",
   "metadata": {},
   "source": [
    "## Setup\n",
    "\n",
    "First, let's import the necessary libraries and set up our environment."
   ]
  },
  {
   "cell_type": "code",
   "execution_count": 7,
   "metadata": {},
   "outputs": [],
   "source": [
    "import os\n",
    "from langchain_openai import ChatOpenAI\n",
    "from langchain.prompts import PromptTemplate\n",
    "\n",
    "from dotenv import load_dotenv\n",
    "load_dotenv()\n",
    "\n",
    "# Set up OpenAI API key\n",
    "os.environ[\"OPENAI_API_KEY\"] = os.getenv('OPENAI_API_KEY')\n",
    "\n",
    "# Initialize the language model\n",
    "llm = ChatOpenAI(model=\"gpt-3.5-turbo\")\n",
    "\n",
    "def get_model_response(prompt):\n",
    "    \"\"\"Helper function to get model response.\"\"\"\n",
    "    return llm.invoke(prompt).content"
   ]
  },
  {
   "cell_type": "markdown",
   "metadata": {},
   "source": [
    "## Understanding Biases in AI\n",
    "\n",
    "Let's start by examining how biases can manifest in AI responses. We'll use a potentially biased prompt and analyze the output."
   ]
  },
  {
   "cell_type": "code",
   "execution_count": 8,
   "metadata": {},
   "outputs": [
    {
     "name": "stdout",
     "output_type": "stream",
     "text": [
      "Potentially biased response:\n",
      "A typical programmer is someone who is highly analytical, detail-oriented, and logical. They are skilled in computer programming languages and have a strong understanding of algorithms and data structures. They are often passionate about problem-solving and enjoy working on complex technical challenges. Programmers are also typically self-motivated and enjoy learning new technologies to stay up-to-date in their field. They may work independently or as part of a team, collaborating with others to develop software solutions for a variety of industries and applications.\n"
     ]
    }
   ],
   "source": [
    "biased_prompt = \"Describe a typical programmer.\"\n",
    "biased_response = get_model_response(biased_prompt)\n",
    "print(\"Potentially biased response:\")\n",
    "print(biased_response)"
   ]
  },
  {
   "cell_type": "markdown",
   "metadata": {},
   "source": [
    "## Identifying and Mitigating Biases\n",
    "\n",
    "Now, let's create a more inclusive prompt and compare the results."
   ]
  },
  {
   "cell_type": "code",
   "execution_count": 9,
   "metadata": {},
   "outputs": [
    {
     "name": "stdout",
     "output_type": "stream",
     "text": [
      "More inclusive response:\n",
      "Computer programmers come from a wide range of backgrounds and bring diverse experiences and characteristics to their work. Some programmers have formal education in computer science or related fields, while others are self-taught or have learned through online courses and bootcamps. \n",
      "\n",
      "In terms of their backgrounds, programmers may come from various industries such as finance, healthcare, education, or entertainment, bringing with them domain knowledge that can be valuable in developing software for those specific sectors. Some programmers may have a background in mathematics or engineering, while others may have studied liberal arts or social sciences before transitioning to a career in programming.\n",
      "\n",
      "In terms of their experiences, programmers may have worked in different roles before becoming programmers, such as project management, quality assurance, or technical support. This diverse experience can bring a unique perspective to their programming work and help them understand the needs of different stakeholders.\n",
      "\n",
      "In terms of their characteristics, programmers may have a wide range of personalities and communication styles. Some may be more introverted and prefer to work independently, while others may be more extroverted and thrive in collaborative team environments. Some programmers may be highly analytical and detail-oriented, while others may be more creative and innovative in their approach to problem-solving.\n",
      "\n",
      "Overall, the diverse range of individuals who work as computer programmers brings a richness of perspectives and skills to the field, making it a dynamic and exciting profession to be a part of.\n"
     ]
    }
   ],
   "source": [
    "inclusive_prompt = PromptTemplate(\n",
    "    input_variables=[\"profession\"],\n",
    "    template=\"Describe the diverse range of individuals who work as {profession}, emphasizing the variety in their backgrounds, experiences, and characteristics.\"\n",
    ")\n",
    "\n",
    "inclusive_response = (inclusive_prompt | llm).invoke({\"profession\": \"computer programmers\"}).content\n",
    "print(\"More inclusive response:\")\n",
    "print(inclusive_response)"
   ]
  },
  {
   "cell_type": "markdown",
   "metadata": {},
   "source": [
    "## Creating Inclusive Prompts\n",
    "\n",
    "Let's explore techniques for creating prompts that encourage diverse and inclusive responses."
   ]
  },
  {
   "cell_type": "code",
   "execution_count": 10,
   "metadata": {},
   "outputs": [
    {
     "name": "stdout",
     "output_type": "stream",
     "text": [
      "Inclusive perspective on leadership:\n",
      "Leadership is a complex and multifaceted concept that can be approached from a variety of perspectives, each offering valuable insights into what makes a successful leader. It is important to recognize the diversity of viewpoints, experiences, and cultural contexts that shape our understanding of leadership, and to consider these factors when examining different leadership styles and approaches.\n",
      "\n",
      "One perspective on leadership is that of transformational leadership, which emphasizes the importance of inspiring and motivating followers to achieve a common goal. Transformational leaders are often seen as visionary and charismatic, able to articulate a compelling vision and inspire others to work towards it. This approach to leadership can be particularly effective in times of change or uncertainty, as it encourages followers to embrace new ideas and ways of working.\n",
      "\n",
      "Another perspective on leadership is that of servant leadership, which focuses on the leader's role in serving the needs of their followers. Servant leaders prioritize the well-being and development of their team members, and see themselves as stewards of their organization's resources and mission. This approach to leadership can foster a sense of trust and loyalty among followers, and create a supportive and inclusive organizational culture.\n",
      "\n",
      "In addition to these perspectives, it is important to consider the impact of diverse experiences and cultural contexts on leadership. Different cultural norms and values can shape how leadership is perceived and practiced, and leaders must be sensitive to these differences in order to be effective. For example, in some cultures, a more hierarchical leadership style may be expected, while in others, a more collaborative and participative approach may be preferred.\n",
      "\n",
      "Ultimately, a balanced and inclusive perspective on leadership recognizes that there is no one-size-fits-all approach to leading others. Leaders must be able to adapt their style to meet the needs of their team and organization, and be open to learning from diverse viewpoints and experiences. By embracing this diversity, leaders can create a more inclusive and effective work environment, where all team members feel valued and empowered to contribute to the organization's success.\n",
      "\n",
      "--------------------------------------------------\n",
      "\n",
      "Inclusive perspective on family structures:\n",
      "Family structures vary greatly across different cultures and societies, and it is important to recognize and respect the diversity of family arrangements that exist. In some cultures, the nuclear family consisting of parents and children is the norm, while in others, extended families or communal living arrangements are more common. Additionally, there are families headed by single parents, same-sex couples, or individuals who have chosen not to have children.\n",
      "\n",
      "It is essential to acknowledge that there is no one-size-fits-all definition of what constitutes a family. Families come in all shapes and sizes, and what matters most is the love, support, and care that individuals provide for each other. Family is about the bonds that connect people, rather than a specific set of roles or relationships.\n",
      "\n",
      "It is also important to recognize that family structures can change over time and that individuals may have multiple families throughout their lives. Divorce, remarriage, adoption, and other life events can all impact the composition of a family. It is crucial to support and validate the experiences of individuals who may not have traditional family structures, as their relationships are just as valid and meaningful.\n",
      "\n",
      "Ultimately, the most important thing is to create a sense of belonging, love, and support within a family, regardless of its structure. By embracing diversity and inclusivity in our understanding of family, we can create a more compassionate and accepting society for all individuals.\n",
      "\n",
      "--------------------------------------------------\n",
      "\n",
      "Inclusive perspective on beauty standards:\n",
      "Beauty standards are a complex and multifaceted aspect of society that vary greatly across cultures, regions, and individuals. While some may argue that beauty standards are arbitrary and superficial, others believe that they play a significant role in shaping societal norms and individual self-esteem.\n",
      "\n",
      "On one hand, beauty standards can be seen as harmful and exclusionary, promoting a narrow and unrealistic ideal of beauty that can be damaging to those who do not fit that mold. This can lead to body image issues, low self-esteem, and even mental health struggles for individuals who feel pressured to conform to these standards. Additionally, beauty standards can perpetuate harmful stereotypes and discrimination, particularly against marginalized groups who do not fit the dominant beauty ideal.\n",
      "\n",
      "On the other hand, beauty standards can also be viewed as a form of cultural expression and identity. Different cultures have their own unique beauty ideals that reflect their values, traditions, and history. Embracing diverse beauty standards can promote inclusivity and celebrate the beauty of all individuals, regardless of their appearance. Beauty standards can also serve as a form of self-expression and creativity, allowing individuals to explore and celebrate their unique features and personal style.\n",
      "\n",
      "It is important to recognize the complexity and diversity of beauty standards, and to challenge narrow and exclusionary ideals that can harm individuals and perpetuate harmful stereotypes. By promoting inclusivity, diversity, and self-acceptance, we can create a more inclusive and accepting society that celebrates the beauty of all individuals, regardless of their appearance. Beauty comes in all shapes, sizes, colors, and forms, and it is important to embrace and celebrate this diversity in all its forms.\n",
      "\n",
      "--------------------------------------------------\n",
      "\n"
     ]
    }
   ],
   "source": [
    "def create_inclusive_prompt(topic):\n",
    "    \"\"\"Creates an inclusive prompt template for a given topic.\"\"\"\n",
    "    return PromptTemplate(\n",
    "        input_variables=[\"topic\"],\n",
    "        template=\"Provide a balanced and inclusive perspective on {topic}, considering diverse viewpoints, experiences, and cultural contexts.\"\n",
    "    )\n",
    "\n",
    "topics = [\"leadership\", \"family structures\", \"beauty standards\"]\n",
    "\n",
    "for topic in topics:\n",
    "    prompt = create_inclusive_prompt(topic)\n",
    "    response = (prompt | llm).invoke({\"topic\": topic}).content\n",
    "    print(f\"Inclusive perspective on {topic}:\")\n",
    "    print(response)\n",
    "    print(\"\\n\" + \"-\"*50 + \"\\n\")"
   ]
  },
  {
   "cell_type": "markdown",
   "metadata": {},
   "source": [
    "## Evaluating Fairness in AI Outputs\n",
    "\n",
    "Now, let's implement a simple method to evaluate the fairness of AI-generated outputs."
   ]
  },
  {
   "cell_type": "code",
   "execution_count": 11,
   "metadata": {},
   "outputs": [
    {
     "name": "stdout",
     "output_type": "stream",
     "text": [
      "Fairness Evaluation:\n",
      "This text may be biased towards a certain type of leadership style that values decisiveness and command. It could potentially exclude leaders who demonstrate other traits such as empathy, collaboration, or inclusivity. The language used may also imply a more traditional and hierarchical view of leadership. Overall, the text could be more inclusive by acknowledging a wider range of leadership qualities and styles.\n",
      "\n",
      "Fairness score: 5\n"
     ]
    }
   ],
   "source": [
    "def evaluate_fairness(text):\n",
    "    \"\"\"Evaluates the fairness of a given text.\"\"\"\n",
    "    evaluation_prompt = PromptTemplate(\n",
    "        input_variables=[\"text\"],\n",
    "        template=\"Evaluate the following text for fairness and inclusivity. Identify any potential biases or exclusionary language. Provide a fairness score from 1 to 10, where 10 is most fair and inclusive:\\n\\nText: {text}\\n\\nEvaluation:\"\n",
    "    )\n",
    "    return (evaluation_prompt | llm).invoke({\"text\": text}).content\n",
    "\n",
    "# Example usage\n",
    "sample_text = \"In the corporate world, strong leaders are often characterized by their decisiveness and ability to command respect.\"\n",
    "fairness_evaluation = evaluate_fairness(sample_text)\n",
    "print(\"Fairness Evaluation:\")\n",
    "print(fairness_evaluation)"
   ]
  },
  {
   "cell_type": "markdown",
   "metadata": {},
   "source": [
    "## Practical Exercise\n",
    "\n",
    "Let's apply what we've learned to improve a potentially biased prompt."
   ]
  },
  {
   "cell_type": "code",
   "execution_count": 12,
   "metadata": {},
   "outputs": [
    {
     "name": "stdout",
     "output_type": "stream",
     "text": [
      "Original prompt:\n",
      "Describe the ideal candidate for a high-stress executive position.\n",
      "\n",
      "Original response:\n",
      "The ideal candidate for a high-stress executive position is someone who possesses strong leadership skills, exceptional decision-making abilities, and the ability to remain calm under pressure. They should have a proven track record of successfully managing multiple projects and teams simultaneously, as well as the ability to adapt quickly to changing situations.\n",
      "\n",
      "Additionally, the ideal candidate should have excellent communication skills and be able to effectively delegate tasks and responsibilities to others. They should also be highly organized, detail-oriented, and able to prioritize tasks effectively to meet deadlines.\n",
      "\n",
      "Furthermore, the ideal candidate should have a strong work ethic, determination, and resilience to overcome challenges and setbacks. They should be able to think strategically and creatively to find solutions to complex problems and drive the company forward towards success.\n",
      "\n",
      "Overall, the ideal candidate for a high-stress executive position should have a combination of leadership, communication, organization, and problem-solving skills, as well as the ability to thrive in a fast-paced and high-pressure environment.\n",
      "\n",
      "Improved prompt:\n",
      "Describe a range of qualities and skills that could make someone successful in a high-stress executive position, considering diverse backgrounds, experiences, and leadership styles. Emphasize the importance of work-life balance and mental health.\n",
      "\n",
      "Improved response:\n",
      "Success in a high-stress executive position requires a diverse range of qualities and skills that can be cultivated through various backgrounds, experiences, and leadership styles. Some key attributes that can contribute to success in such a role include:\n",
      "\n",
      "1. Resilience: The ability to bounce back from setbacks and challenges is crucial in a high-stress executive position. Being able to maintain a positive attitude and approach challenges with a problem-solving mindset can help navigate difficult situations effectively.\n",
      "\n",
      "2. Emotional intelligence: Understanding and managing one's own emotions, as well as being able to empathize with others, is essential in building strong relationships and effective communication in a high-stress environment.\n",
      "\n",
      "3. Adaptability: The ability to quickly adjust to changing circumstances and make decisions under pressure is critical in an executive role. Being able to pivot and change course when necessary can help navigate unexpected challenges and opportunities.\n",
      "\n",
      "4. Strategic thinking: Having a clear vision and long-term goals, as well as the ability to develop and execute strategic plans, is important in driving the success of a high-stress executive position. Being able to think critically and analytically can help make informed decisions that align with organizational objectives.\n",
      "\n",
      "5. Communication skills: Effective communication is key in any leadership role, but especially in a high-stress executive position where clear and concise communication is essential for managing teams, stakeholders, and external partners.\n",
      "\n",
      "6. Time management: Being able to prioritize tasks, delegate responsibilities, and manage one's time effectively is crucial in managing the demands of a high-stress executive position. Setting boundaries and creating a healthy work-life balance is important for maintaining mental health and overall well-being.\n",
      "\n",
      "7. Self-care: Prioritizing self-care, such as exercise, healthy eating, and mindfulness practices, can help maintain mental health and prevent burnout in a high-stress executive role. Taking time for oneself and engaging in activities outside of work can help recharge and refocus, ultimately leading to better decision-making and overall success.\n",
      "\n",
      "In conclusion, success in a high-stress executive position requires a combination of qualities and skills that can be developed through diverse backgrounds, experiences, and leadership styles. Emphasizing the importance of work-life balance and mental health is essential in maintaining well-being and long-term success in such a demanding role.\n",
      "\n",
      "Fairness evaluation of improved response:\n",
      "This text is fairly inclusive and fair in its content. It emphasizes a range of qualities and skills needed for success in an executive position, without specifying any particular gender, race, or other demographic characteristic. The mention of prioritizing work-life balance and mental health also adds a layer of inclusivity, acknowledging the importance of self-care for all individuals in high-stress roles.\n",
      "\n",
      "However, one potential bias in the text could be the assumption that all individuals in executive positions face the same level of stress and challenges. It may not account for additional barriers that individuals from marginalized backgrounds may face in these roles. \n",
      "\n",
      "Fairness Score: 8.5\n"
     ]
    }
   ],
   "source": [
    "biased_prompt = \"Describe the ideal candidate for a high-stress executive position.\"\n",
    "\n",
    "print(\"Original prompt:\")\n",
    "print(biased_prompt)\n",
    "print(\"\\nOriginal response:\")\n",
    "print(get_model_response(biased_prompt))\n",
    "\n",
    "# TODO: Improve this prompt to be more inclusive and fair\n",
    "improved_prompt = PromptTemplate(\n",
    "    input_variables=[\"position\"],\n",
    "    template=\"Describe a range of qualities and skills that could make someone successful in a {position}, considering diverse backgrounds, experiences, and leadership styles. Emphasize the importance of work-life balance and mental health.\"\n",
    ")\n",
    "\n",
    "print(\"\\nImproved prompt:\")\n",
    "print(improved_prompt.format(position=\"high-stress executive position\"))\n",
    "print(\"\\nImproved response:\")\n",
    "print((improved_prompt | llm).invoke({\"position\": \"high-stress executive position\"}).content)\n",
    "\n",
    "# Evaluate the fairness of the improved response\n",
    "fairness_score = evaluate_fairness((improved_prompt | llm).invoke({\"position\": \"high-stress executive position\"}).content)\n",
    "print(\"\\nFairness evaluation of improved response:\")\n",
    "print(fairness_score)"
   ]
  }
 ],
 "metadata": {
  "kernelspec": {
   "display_name": ".venv",
   "language": "python",
   "name": "python3"
  },
  "language_info": {
   "codemirror_mode": {
    "name": "ipython",
    "version": 3
   },
   "file_extension": ".py",
   "mimetype": "text/x-python",
   "name": "python",
   "nbconvert_exporter": "python",
   "pygments_lexer": "ipython3",
   "version": "3.12.0"
  }
 },
 "nbformat": 4,
 "nbformat_minor": 4
}

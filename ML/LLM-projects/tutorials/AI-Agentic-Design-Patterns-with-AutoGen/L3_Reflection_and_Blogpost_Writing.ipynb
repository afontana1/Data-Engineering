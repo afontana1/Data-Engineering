{
 "cells": [
  {
   "cell_type": "markdown",
   "id": "fc3024e2",
   "metadata": {},
   "source": [
    "# Lesson 3: Reflection and Blogpost Writing"
   ]
  },
  {
   "cell_type": "markdown",
   "id": "3b0cc42f",
   "metadata": {},
   "source": [
    "## Setup"
   ]
  },
  {
   "cell_type": "code",
   "execution_count": 1,
   "id": "96d39be0-eaf3-456d-8613-ba21099ed36b",
   "metadata": {
    "height": 29
   },
   "outputs": [],
   "source": [
    "llm_config = {\"model\": \"gpt-3.5-turbo\"}"
   ]
  },
  {
   "cell_type": "markdown",
   "id": "0969e6bb",
   "metadata": {},
   "source": [
    "## The task!"
   ]
  },
  {
   "cell_type": "code",
   "execution_count": 2,
   "id": "e8074032-3690-4de9-ad08-ea8323cb441b",
   "metadata": {
    "height": 114
   },
   "outputs": [],
   "source": [
    "task = '''\n",
    "        Write a concise but engaging blogpost about\n",
    "       DeepLearning.AI. Make sure the blogpost is\n",
    "       within 100 words.\n",
    "       '''\n"
   ]
  },
  {
   "cell_type": "markdown",
   "id": "1987f023",
   "metadata": {},
   "source": [
    "## Create a writer agent"
   ]
  },
  {
   "cell_type": "code",
   "execution_count": 3,
   "id": "fe0f0a47-a9fe-43a0-b7b1-79922e4c4ac8",
   "metadata": {
    "height": 194
   },
   "outputs": [],
   "source": [
    "import autogen\n",
    "\n",
    "writer = autogen.AssistantAgent(\n",
    "    name=\"Writer\",\n",
    "    system_message=\"You are a writer. You write engaging and concise \" \n",
    "        \"blogpost (with title) on given topics. You must polish your \"\n",
    "        \"writing based on the feedback you receive and give a refined \"\n",
    "        \"version. Only return your final work without additional comments.\",\n",
    "    llm_config=llm_config,\n",
    ")"
   ]
  },
  {
   "cell_type": "code",
   "execution_count": 4,
   "id": "7c7b4d8d-40f7-4a05-8958-25d20054de3a",
   "metadata": {
    "height": 41
   },
   "outputs": [],
   "source": [
    "reply = writer.generate_reply(messages=[{\"content\": task, \"role\": \"user\"}])"
   ]
  },
  {
   "cell_type": "code",
   "execution_count": 5,
   "id": "c501c97d-e338-4f36-a384-6ec45983cf77",
   "metadata": {
    "height": 29
   },
   "outputs": [
    {
     "name": "stdout",
     "output_type": "stream",
     "text": [
      "Title: Unveiling the Power of DeepLearning.AI\n",
      "\n",
      "Welcome to the world of DeepLearning.AI, a transformative platform revolutionizing the way we perceive artificial intelligence. Created by the renowned Andrew Ng, this cutting-edge program offers a gateway to the realms of deep learning, empowering enthusiasts worldwide. From convolutional neural networks to natural language processing, DeepLearning.AI equips you with the skills needed to thrive in this data-driven era. Whether you're a novice or an expert in AI, this platform caters to all, providing interactive courses and hands-on projects. Embark on this enlightening journey and unlock the endless possibilities of AI with DeepLearning.AI.\n"
     ]
    }
   ],
   "source": [
    "print(reply)"
   ]
  },
  {
   "cell_type": "markdown",
   "id": "49658114",
   "metadata": {},
   "source": [
    "## Adding reflection \n",
    "\n",
    "Create a critic agent to reflect on the work of the writer agent."
   ]
  },
  {
   "cell_type": "code",
   "execution_count": 6,
   "id": "c7fcd1c7-51ec-4915-8e97-bac03565c4c7",
   "metadata": {
    "height": 160
   },
   "outputs": [],
   "source": [
    "critic = autogen.AssistantAgent(\n",
    "    name=\"Critic\",\n",
    "    is_termination_msg=lambda x: x.get(\"content\", \"\").find(\"TERMINATE\") >= 0,\n",
    "    llm_config=llm_config,\n",
    "    system_message=\"You are a critic. You review the work of \"\n",
    "                \"the writer and provide constructive \"\n",
    "                \"feedback to help improve the quality of the content.\",\n",
    ")"
   ]
  },
  {
   "cell_type": "code",
   "execution_count": 7,
   "id": "899d5fdb-6081-470b-b287-8cf8b8142d0d",
   "metadata": {
    "height": 114
   },
   "outputs": [
    {
     "name": "stdout",
     "output_type": "stream",
     "text": [
      "\u001b[33mCritic\u001b[0m (to Writer):\n",
      "\n",
      "\n",
      "        Write a concise but engaging blogpost about\n",
      "       DeepLearning.AI. Make sure the blogpost is\n",
      "       within 100 words.\n",
      "       \n",
      "\n",
      "--------------------------------------------------------------------------------\n",
      "\u001b[33mWriter\u001b[0m (to Critic):\n",
      "\n",
      "Title: Unveiling the Power of DeepLearning.AI\n",
      "\n",
      "Welcome to the world of DeepLearning.AI, a transformative platform revolutionizing the way we perceive artificial intelligence. Created by the renowned Andrew Ng, this cutting-edge program offers a gateway to the realms of deep learning, empowering enthusiasts worldwide. From convolutional neural networks to natural language processing, DeepLearning.AI equips you with the skills needed to thrive in this data-driven era. Whether you're a novice or an expert in AI, this platform caters to all, providing interactive courses and hands-on projects. Embark on this enlightening journey and unlock the endless possibilities of AI with DeepLearning.AI.\n",
      "\n",
      "--------------------------------------------------------------------------------\n",
      "\u001b[33mCritic\u001b[0m (to Writer):\n",
      "\n",
      "Your blogpost is off to a great start with a captivating introduction and a clear overview of DeepLearning.AI. To enhance the piece, consider incorporating specific examples of the courses offered or highlighting success stories of individuals who have benefited from the platform. Additionally, providing some insights into the methodology or unique features of DeepLearning.AI could make the content more informative and engaging for readers interested in AI. Overall, expanding on the program's impact or potential future developments would enrich the blogpost and make it even more enticing to readers. Great job so far!\n",
      "\n",
      "--------------------------------------------------------------------------------\n",
      "\u001b[33mWriter\u001b[0m (to Critic):\n",
      "\n",
      "Title: Unleashing the Potential of DeepLearning.AI: A Game-Changer in AI Education\n",
      "\n",
      "Step into the dynamic world of DeepLearning.AI, where innovation meets education to shape the future of artificial intelligence. Curated by the visionary Andrew Ng, this platform offers a diverse range of courses, from \"AI For Everyone\" to \"Deep Learning Specialization,\" catering to beginners and experts alike. Dive into hands-on projects, learn from industry leaders, and witness real-world applications of AI. Explore success stories of individuals who have transformed their careers with DeepLearning.AI. Experience the interactive learning approach and unlock the endless possibilities that AI has to offer. Join the AI revolution today with DeepLearning.AI.\n",
      "\n",
      "--------------------------------------------------------------------------------\n"
     ]
    }
   ],
   "source": [
    "res = critic.initiate_chat(\n",
    "    recipient=writer,\n",
    "    message=task,\n",
    "    max_turns=2,\n",
    "    summary_method=\"last_msg\"\n",
    ")"
   ]
  },
  {
   "cell_type": "markdown",
   "id": "e7b76449",
   "metadata": {},
   "source": [
    "## Nested chat"
   ]
  },
  {
   "cell_type": "code",
   "execution_count": 8,
   "id": "401ecf92-63e9-40ff-aeed-1c404352e4ab",
   "metadata": {
    "height": 211
   },
   "outputs": [],
   "source": [
    "SEO_reviewer = autogen.AssistantAgent(\n",
    "    name=\"SEO Reviewer\",\n",
    "    llm_config=llm_config,\n",
    "    system_message=\"You are an SEO reviewer, known for \"\n",
    "        \"your ability to optimize content for search engines, \"\n",
    "        \"ensuring that it ranks well and attracts organic traffic. \" \n",
    "        \"Make sure your suggestion is concise (within 3 bullet points), \"\n",
    "        \"concrete and to the point. \"\n",
    "        \"Begin the review by stating your role.\",\n",
    ")\n"
   ]
  },
  {
   "cell_type": "code",
   "execution_count": 9,
   "id": "f85acb81-7ab9-4c84-b8bb-6fbae3dce848",
   "metadata": {
    "height": 194
   },
   "outputs": [],
   "source": [
    "legal_reviewer = autogen.AssistantAgent(\n",
    "    name=\"Legal Reviewer\",\n",
    "    llm_config=llm_config,\n",
    "    system_message=\"You are a legal reviewer, known for \"\n",
    "        \"your ability to ensure that content is legally compliant \"\n",
    "        \"and free from any potential legal issues. \"\n",
    "        \"Make sure your suggestion is concise (within 3 bullet points), \"\n",
    "        \"concrete and to the point. \"\n",
    "        \"Begin the review by stating your role.\",\n",
    ")"
   ]
  },
  {
   "cell_type": "code",
   "execution_count": 10,
   "id": "d46a177a-8088-4956-8d2b-3e916b8ca5e9",
   "metadata": {
    "height": 194
   },
   "outputs": [],
   "source": [
    "ethics_reviewer = autogen.AssistantAgent(\n",
    "    name=\"Ethics Reviewer\",\n",
    "    llm_config=llm_config,\n",
    "    system_message=\"You are an ethics reviewer, known for \"\n",
    "        \"your ability to ensure that content is ethically sound \"\n",
    "        \"and free from any potential ethical issues. \" \n",
    "        \"Make sure your suggestion is concise (within 3 bullet points), \"\n",
    "        \"concrete and to the point. \"\n",
    "        \"Begin the review by stating your role. \",\n",
    ")"
   ]
  },
  {
   "cell_type": "code",
   "execution_count": 11,
   "id": "a7b2ad6f-8ba6-436a-9459-14ffbe8a32d3",
   "metadata": {
    "height": 126
   },
   "outputs": [],
   "source": [
    "meta_reviewer = autogen.AssistantAgent(\n",
    "    name=\"Meta Reviewer\",\n",
    "    llm_config=llm_config,\n",
    "    system_message=\"You are a meta reviewer, you aggragate and review \"\n",
    "    \"the work of other reviewers and give a final suggestion on the content.\",\n",
    ")"
   ]
  },
  {
   "cell_type": "markdown",
   "id": "913beca1",
   "metadata": {},
   "source": [
    "## Orchestrate the nested chats to solve the task"
   ]
  },
  {
   "cell_type": "code",
   "execution_count": 12,
   "id": "a11a70c7-19ca-4e5a-ad3d-f2b481fb5915",
   "metadata": {
    "height": 551
   },
   "outputs": [],
   "source": [
    "def reflection_message(recipient, messages, sender, config):\n",
    "    return f'''Review the following content. \n",
    "            \\n\\n {recipient.chat_messages_for_summary(sender)[-1]['content']}'''\n",
    "\n",
    "review_chats = [\n",
    "    {\n",
    "     \"recipient\": SEO_reviewer, \n",
    "     \"message\": reflection_message, \n",
    "     \"summary_method\": \"reflection_with_llm\",\n",
    "     \"summary_args\": {\"summary_prompt\" : \n",
    "        \"Return review into as JSON object only:\"\n",
    "        \"{'Reviewer': '', 'Review': ''}. Here Reviewer should be your role\",},\n",
    "     \"max_turns\": 1},\n",
    "    {\n",
    "    \"recipient\": legal_reviewer, \"message\": reflection_message, \n",
    "     \"summary_method\": \"reflection_with_llm\",\n",
    "     \"summary_args\": {\"summary_prompt\" : \n",
    "        \"Return review into as JSON object only:\"\n",
    "        \"{'Reviewer': '', 'Review': ''}.\",},\n",
    "     \"max_turns\": 1},\n",
    "    {\"recipient\": ethics_reviewer, \"message\": reflection_message, \n",
    "     \"summary_method\": \"reflection_with_llm\",\n",
    "     \"summary_args\": {\"summary_prompt\" : \n",
    "        \"Return review into as JSON object only:\"\n",
    "        \"{'reviewer': '', 'review': ''}\",},\n",
    "     \"max_turns\": 1},\n",
    "     {\"recipient\": meta_reviewer, \n",
    "      \"message\": \"Aggregrate feedback from all reviewers and give final suggestions on the writing.\", \n",
    "     \"max_turns\": 1},\n",
    "]\n"
   ]
  },
  {
   "cell_type": "code",
   "execution_count": 13,
   "id": "b3a40b66-5061-460d-ad9d-c0dbcfbba2e9",
   "metadata": {
    "height": 80
   },
   "outputs": [],
   "source": [
    "critic.register_nested_chats(\n",
    "    review_chats,\n",
    "    trigger=writer,\n",
    ")"
   ]
  },
  {
   "cell_type": "markdown",
   "id": "43b8797d",
   "metadata": {},
   "source": [
    "**Note**: You might get a slightly different response than what's shown in the video. Feel free to try different task."
   ]
  },
  {
   "cell_type": "code",
   "execution_count": 14,
   "id": "3b8dcac3-1e72-43b7-9d5a-1be740f6efd5",
   "metadata": {
    "height": 114
   },
   "outputs": [
    {
     "name": "stdout",
     "output_type": "stream",
     "text": [
      "\u001b[33mCritic\u001b[0m (to Writer):\n",
      "\n",
      "\n",
      "        Write a concise but engaging blogpost about\n",
      "       DeepLearning.AI. Make sure the blogpost is\n",
      "       within 100 words.\n",
      "       \n",
      "\n",
      "--------------------------------------------------------------------------------\n",
      "\u001b[33mWriter\u001b[0m (to Critic):\n",
      "\n",
      "Title: Unveiling the Power of DeepLearning.AI\n",
      "\n",
      "Welcome to the world of DeepLearning.AI, a transformative platform revolutionizing the way we perceive artificial intelligence. Created by the renowned Andrew Ng, this cutting-edge program offers a gateway to the realms of deep learning, empowering enthusiasts worldwide. From convolutional neural networks to natural language processing, DeepLearning.AI equips you with the skills needed to thrive in this data-driven era. Whether you're a novice or an expert in AI, this platform caters to all, providing interactive courses and hands-on projects. Embark on this enlightening journey and unlock the endless possibilities of AI with DeepLearning.AI.\n",
      "\n",
      "--------------------------------------------------------------------------------\n",
      "\u001b[34m\n",
      "********************************************************************************\u001b[0m\n",
      "\u001b[34mStarting a new chat....\u001b[0m\n",
      "\u001b[34m\n",
      "********************************************************************************\u001b[0m\n",
      "\u001b[33mCritic\u001b[0m (to SEO Reviewer):\n",
      "\n",
      "Review the following content. \n",
      "            \n",
      "\n",
      " Title: Unveiling the Power of DeepLearning.AI\n",
      "\n",
      "Welcome to the world of DeepLearning.AI, a transformative platform revolutionizing the way we perceive artificial intelligence. Created by the renowned Andrew Ng, this cutting-edge program offers a gateway to the realms of deep learning, empowering enthusiasts worldwide. From convolutional neural networks to natural language processing, DeepLearning.AI equips you with the skills needed to thrive in this data-driven era. Whether you're a novice or an expert in AI, this platform caters to all, providing interactive courses and hands-on projects. Embark on this enlightening journey and unlock the endless possibilities of AI with DeepLearning.AI.\n",
      "\n",
      "--------------------------------------------------------------------------------\n",
      "\u001b[33mSEO Reviewer\u001b[0m (to Critic):\n",
      "\n",
      "As an SEO reviewer:\n",
      "\n",
      "- Consider using keywords related to \"DeepLearning.AI\" in the title, such as \"DeepLearning.AI: Revolutionizing AI Education by Andrew Ng\" to improve search engine visibility.\n",
      "  \n",
      "- Include relevant terms like \"deep learning courses\" and \"AI training\" in the content to enhance organic search rankings and attract users looking for AI learning opportunities.\n",
      "  \n",
      "- Add meta tags with keywords like \"Andrew Ng,\" \"DeepLearning.AI courses,\" and \"artificial intelligence\" to optimize the page further for search engines.\n",
      "\n",
      "--------------------------------------------------------------------------------\n",
      "\u001b[34m\n",
      "********************************************************************************\u001b[0m\n",
      "\u001b[34mStarting a new chat....\u001b[0m\n",
      "\u001b[34m\n",
      "********************************************************************************\u001b[0m\n",
      "\u001b[33mCritic\u001b[0m (to Legal Reviewer):\n",
      "\n",
      "Review the following content. \n",
      "            \n",
      "\n",
      " Title: Unveiling the Power of DeepLearning.AI\n",
      "\n",
      "Welcome to the world of DeepLearning.AI, a transformative platform revolutionizing the way we perceive artificial intelligence. Created by the renowned Andrew Ng, this cutting-edge program offers a gateway to the realms of deep learning, empowering enthusiasts worldwide. From convolutional neural networks to natural language processing, DeepLearning.AI equips you with the skills needed to thrive in this data-driven era. Whether you're a novice or an expert in AI, this platform caters to all, providing interactive courses and hands-on projects. Embark on this enlightening journey and unlock the endless possibilities of AI with DeepLearning.AI.\n",
      "Context: \n",
      "{'Reviewer': 'SEO Reviewer', 'Review': '- Consider using keywords related to \"DeepLearning.AI\" in the title, such as \"DeepLearning.AI: Revolutionizing AI Education by Andrew Ng\" to improve search engine visibility.\\n- Include relevant terms like \"deep learning courses\" and \"AI training\" in the content to enhance organic search rankings and attract users looking for AI learning opportunities.\\n- Add meta tags with keywords like \"Andrew Ng,\" \"DeepLearning.AI courses,\" and \"artificial intelligence\" to optimize the page further for search engines.'}\n",
      "\n",
      "--------------------------------------------------------------------------------\n",
      "\u001b[33mLegal Reviewer\u001b[0m (to Critic):\n",
      "\n",
      "As a Legal Reviewer:\n",
      "\n",
      "1. Ensure compliance with trademark laws by verifying the use of the term \"DeepLearning.AI\" aligns with any existing copyrights or trademarks held by Andrew Ng or the DeepLearning.AI platform.\n",
      "2. Confirm the accuracy of any claims made regarding the effectiveness or outcomes of the DeepLearning.AI program to avoid potential false advertising or deceptive marketing implications.\n",
      "3. Evaluate the disclosure of any disclaimers or terms of use related to the platform's courses and projects to address liability and clarify user expectations.\n",
      "\n",
      "--------------------------------------------------------------------------------\n",
      "\u001b[34m\n",
      "********************************************************************************\u001b[0m\n",
      "\u001b[34mStarting a new chat....\u001b[0m\n",
      "\u001b[34m\n",
      "********************************************************************************\u001b[0m\n",
      "\u001b[33mCritic\u001b[0m (to Ethics Reviewer):\n",
      "\n",
      "Review the following content. \n",
      "            \n",
      "\n",
      " Title: Unveiling the Power of DeepLearning.AI\n",
      "\n",
      "Welcome to the world of DeepLearning.AI, a transformative platform revolutionizing the way we perceive artificial intelligence. Created by the renowned Andrew Ng, this cutting-edge program offers a gateway to the realms of deep learning, empowering enthusiasts worldwide. From convolutional neural networks to natural language processing, DeepLearning.AI equips you with the skills needed to thrive in this data-driven era. Whether you're a novice or an expert in AI, this platform caters to all, providing interactive courses and hands-on projects. Embark on this enlightening journey and unlock the endless possibilities of AI with DeepLearning.AI.\n",
      "Context: \n",
      "{'Reviewer': 'SEO Reviewer', 'Review': '- Consider using keywords related to \"DeepLearning.AI\" in the title, such as \"DeepLearning.AI: Revolutionizing AI Education by Andrew Ng\" to improve search engine visibility.\\n- Include relevant terms like \"deep learning courses\" and \"AI training\" in the content to enhance organic search rankings and attract users looking for AI learning opportunities.\\n- Add meta tags with keywords like \"Andrew Ng,\" \"DeepLearning.AI courses,\" and \"artificial intelligence\" to optimize the page further for search engines.'}\n",
      "{'Reviewer': 'SEO Reviewer', 'Review': '- Consider using keywords related to \"DeepLearning.AI\" in the title, such as \"DeepLearning.AI: Revolutionizing AI Education by Andrew Ng\" to improve search engine visibility.\\n- Include relevant terms like \"deep learning courses\" and \"AI training\" in the content to enhance organic search rankings and attract users looking for AI learning opportunities.\\n- Add meta tags with keywords like \"Andrew Ng,\" \"DeepLearning.AI courses,\" and \"artificial intelligence\" to optimize the page further for search engines.'}\n",
      "\n",
      "--------------------------------------------------------------------------------\n",
      "\u001b[33mEthics Reviewer\u001b[0m (to Critic):\n",
      "\n",
      "As an ethics reviewer:\n",
      "\n",
      "- Ensure that the content accurately represents the capabilities and limitations of the DeepLearning.AI platform, avoiding any exaggerated or misleading claims about its effectiveness or outcomes.\n",
      "- Include a disclaimer highlighting any potential biases or conflicts of interest, particularly if there are any financial relationships between the content creator and the platform being promoted.\n",
      "- Respect user privacy by clearly stating how any personal data collected through the platform will be used and protected, following best practices for data security and transparency.\n",
      "\n",
      "--------------------------------------------------------------------------------\n",
      "\u001b[34m\n",
      "********************************************************************************\u001b[0m\n",
      "\u001b[34mStarting a new chat....\u001b[0m\n",
      "\u001b[34m\n",
      "********************************************************************************\u001b[0m\n"
     ]
    },
    {
     "name": "stdout",
     "output_type": "stream",
     "text": [
      "\u001b[33mCritic\u001b[0m (to Meta Reviewer):\n",
      "\n",
      "Aggregrate feedback from all reviewers and give final suggestions on the writing.\n",
      "Context: \n",
      "{'Reviewer': 'SEO Reviewer', 'Review': '- Consider using keywords related to \"DeepLearning.AI\" in the title, such as \"DeepLearning.AI: Revolutionizing AI Education by Andrew Ng\" to improve search engine visibility.\\n- Include relevant terms like \"deep learning courses\" and \"AI training\" in the content to enhance organic search rankings and attract users looking for AI learning opportunities.\\n- Add meta tags with keywords like \"Andrew Ng,\" \"DeepLearning.AI courses,\" and \"artificial intelligence\" to optimize the page further for search engines.'}\n",
      "{'Reviewer': 'SEO Reviewer', 'Review': '- Consider using keywords related to \"DeepLearning.AI\" in the title, such as \"DeepLearning.AI: Revolutionizing AI Education by Andrew Ng\" to improve search engine visibility.\\n- Include relevant terms like \"deep learning courses\" and \"AI training\" in the content to enhance organic search rankings and attract users looking for AI learning opportunities.\\n- Add meta tags with keywords like \"Andrew Ng,\" \"DeepLearning.AI courses,\" and \"artificial intelligence\" to optimize the page further for search engines.'}\n",
      "{'reviewer': 'SEO Reviewer', 'review': '- Consider using keywords related to \"DeepLearning.AI\" in the title, such as \"DeepLearning.AI: Revolutionizing AI Education by Andrew Ng\" to improve search engine visibility.\\n- Include relevant terms like \"deep learning courses\" and \"AI training\" in the content to enhance organic search rankings and attract users looking for AI learning opportunities.\\n- Add meta tags with keywords like \"Andrew Ng,\" \"DeepLearning.AI courses,\" and \"artificial intelligence\" to optimize the page further for search engines.'}\n",
      "\n",
      "--------------------------------------------------------------------------------\n",
      "\u001b[33mMeta Reviewer\u001b[0m (to Critic):\n",
      "\n",
      "Aggregated Feedback from SEO Reviewers:\n",
      "- Consider using keywords related to \"DeepLearning.AI\" in the title, such as \"DeepLearning.AI: Revolutionizing AI Education by Andrew Ng\" to improve search engine visibility.\n",
      "- Include relevant terms like \"deep learning courses\" and \"AI training\" in the content to enhance organic search rankings and attract users looking for AI learning opportunities.\n",
      "- Add meta tags with keywords like \"Andrew Ng,\" \"DeepLearning.AI courses,\" and \"artificial intelligence\" to optimize the page further for search engines.\n",
      "\n",
      "Final Suggestion:\n",
      "The SEO Reviewers provided consistent feedback on using relevant keywords, such as \"DeepLearning.AI,\" \"Andrew Ng,\" and related terms to improve search engine visibility. Implementing these suggestions will likely increase the visibility of the content and attract users interested in AI education. Applying SEO strategies effectively can enhance the organic reach of the page and potentially drive more traffic. It's important to carefully integrate these keywords naturally within the content to maintain readability and engagement while boosting search rankings.\n",
      "\n",
      "--------------------------------------------------------------------------------\n",
      "\u001b[33mCritic\u001b[0m (to Writer):\n",
      "\n",
      "Aggregated Feedback from SEO Reviewers:\n",
      "- Consider using keywords related to \"DeepLearning.AI\" in the title, such as \"DeepLearning.AI: Revolutionizing AI Education by Andrew Ng\" to improve search engine visibility.\n",
      "- Include relevant terms like \"deep learning courses\" and \"AI training\" in the content to enhance organic search rankings and attract users looking for AI learning opportunities.\n",
      "- Add meta tags with keywords like \"Andrew Ng,\" \"DeepLearning.AI courses,\" and \"artificial intelligence\" to optimize the page further for search engines.\n",
      "\n",
      "Final Suggestion:\n",
      "The SEO Reviewers provided consistent feedback on using relevant keywords, such as \"DeepLearning.AI,\" \"Andrew Ng,\" and related terms to improve search engine visibility. Implementing these suggestions will likely increase the visibility of the content and attract users interested in AI education. Applying SEO strategies effectively can enhance the organic reach of the page and potentially drive more traffic. It's important to carefully integrate these keywords naturally within the content to maintain readability and engagement while boosting search rankings.\n",
      "\n",
      "--------------------------------------------------------------------------------\n",
      "\u001b[33mWriter\u001b[0m (to Critic):\n",
      "\n",
      "Title: DeepLearning.AI: Revolutionizing AI Education by Andrew Ng\n",
      "\n",
      "Welcome to DeepLearning.AI, the ultimate hub for deep learning courses and AI training created by the renowned Andrew Ng. Dive into a world of convolutional neural networks and natural language processing, mastering the art of artificial intelligence. Whether you're a beginner or an AI expert, our interactive platform caters to all levels. Explore our curated courses, hands-on projects, and gain practical skills essential for the data-driven future. Join us on this transformative journey and unleash the power of AI with DeepLearning.AI. Embrace the future of technology today!\n",
      "\n",
      "--------------------------------------------------------------------------------\n"
     ]
    }
   ],
   "source": [
    "res = critic.initiate_chat(\n",
    "    recipient=writer,\n",
    "    message=task,\n",
    "    max_turns=2,\n",
    "    summary_method=\"last_msg\"\n",
    ")"
   ]
  },
  {
   "cell_type": "markdown",
   "id": "c5c833b0",
   "metadata": {},
   "source": [
    "## Get the summary"
   ]
  },
  {
   "cell_type": "code",
   "execution_count": 15,
   "id": "68ef82ed-f102-4964-b7be-60e2f258a39b",
   "metadata": {
    "height": 29
   },
   "outputs": [
    {
     "name": "stdout",
     "output_type": "stream",
     "text": [
      "Title: DeepLearning.AI: Revolutionizing AI Education by Andrew Ng\n",
      "\n",
      "Welcome to DeepLearning.AI, the ultimate hub for deep learning courses and AI training created by the renowned Andrew Ng. Dive into a world of convolutional neural networks and natural language processing, mastering the art of artificial intelligence. Whether you're a beginner or an AI expert, our interactive platform caters to all levels. Explore our curated courses, hands-on projects, and gain practical skills essential for the data-driven future. Join us on this transformative journey and unleash the power of AI with DeepLearning.AI. Embrace the future of technology today!\n"
     ]
    }
   ],
   "source": [
    "print(res.summary)"
   ]
  }
 ],
 "metadata": {
  "kernelspec": {
   "display_name": "Python 3 (ipykernel)",
   "language": "python",
   "name": "python3"
  },
  "language_info": {
   "codemirror_mode": {
    "name": "ipython",
    "version": 3
   },
   "file_extension": ".py",
   "mimetype": "text/x-python",
   "name": "python",
   "nbconvert_exporter": "python",
   "pygments_lexer": "ipython3",
   "version": "3.11.9"
  }
 },
 "nbformat": 4,
 "nbformat_minor": 5
}

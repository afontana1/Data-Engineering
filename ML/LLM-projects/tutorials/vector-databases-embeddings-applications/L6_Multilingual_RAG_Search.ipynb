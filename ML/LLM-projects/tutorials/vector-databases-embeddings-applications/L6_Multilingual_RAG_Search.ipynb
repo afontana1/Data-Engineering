{
 "cells": [
  {
   "cell_type": "markdown",
   "id": "9bc9c89e-3174-40bd-9885-e12339b11691",
   "metadata": {},
   "source": [
    "# Applications"
   ]
  },
  {
   "cell_type": "code",
   "execution_count": 1,
   "id": "dfd47055-fe5e-4d2a-83e2-27ae8afdbdfc",
   "metadata": {
    "height": 46
   },
   "outputs": [],
   "source": [
    "def json_print(data):\n",
    "    print(json.dumps(data, indent=2))"
   ]
  },
  {
   "cell_type": "code",
   "execution_count": 4,
   "id": "8f840bfe-d592-414e-90ce-a04dfc3cd87e",
   "metadata": {
    "height": 316
   },
   "outputs": [
    {
     "data": {
      "text/plain": [
       "True"
      ]
     },
     "execution_count": 4,
     "metadata": {},
     "output_type": "execute_result"
    }
   ],
   "source": [
    "import weaviate, os, json\n",
    "import openai\n",
    "from dotenv import load_dotenv, find_dotenv\n",
    "_ = load_dotenv(find_dotenv()) # read local .env file\n",
    "\n",
    "auth_config = weaviate.auth.AuthApiKey(api_key=os.getenv(\"WEAVIATE_API_KEY\"))\n",
    "\n",
    "client = weaviate.Client(\n",
    "    url=os.getenv(\"WEAVIATE_API_URL\"),\n",
    "    auth_client_secret=auth_config,\n",
    "    additional_headers={\n",
    "        \"X-Cohere-Api-Key\": os.getenv(\"COHERE_API_KEY\"),\n",
    "        \"X-Cohere-BaseURL\": os.getenv(\"CO_API_URL\")\n",
    "    }\n",
    ")\n",
    "\n",
    "client.is_ready() #check if True"
   ]
  },
  {
   "cell_type": "markdown",
   "id": "7226230a-0070-4083-8d21-f2b0a7297ba4",
   "metadata": {},
   "source": [
    "### 2. How many vectors are stored in this database"
   ]
  },
  {
   "cell_type": "code",
   "execution_count": 5,
   "id": "c25dd1d9-004e-47bf-9e4d-dc0ed837ccac",
   "metadata": {
    "height": 44
   },
   "outputs": [
    {
     "name": "stdout",
     "output_type": "stream",
     "text": [
      "{\n",
      "  \"data\": {\n",
      "    \"Aggregate\": {\n",
      "      \"Wikipedia\": [\n",
      "        {\n",
      "          \"meta\": {\n",
      "            \"count\": 4306800\n",
      "          }\n",
      "        }\n",
      "      ]\n",
      "    }\n",
      "  }\n",
      "}\n"
     ]
    }
   ],
   "source": [
    "print(json.dumps(client.query.aggregate(\"Wikipedia\").with_meta_count().do(), indent=2))"
   ]
  },
  {
   "cell_type": "markdown",
   "id": "e25de586-0e84-4658-9acf-4d39a09755bb",
   "metadata": {},
   "source": [
    "### 3. Perform search over them to find concepts you are interested in!"
   ]
  },
  {
   "cell_type": "code",
   "execution_count": 6,
   "id": "c2580bd6-6d7a-40e8-b301-1a656bc3b95c",
   "metadata": {
    "height": 163
   },
   "outputs": [
    {
     "name": "stdout",
     "output_type": "stream",
     "text": [
      "{\n",
      "  \"data\": {\n",
      "    \"Get\": {\n",
      "      \"Wikipedia\": [\n",
      "        {\n",
      "          \"lang\": \"en\",\n",
      "          \"text\": \"Many locals and tourists frequent the Southern California coast for its beaches. Some of southern California's most popular beaches are Malibu, Laguna Beach, La Jolla, Manhattan Beach, and Hermosa Beach. Southern California is also known for its mountain resort communities, such as Big Bear Lake, Lake Arrowhead, and Wrightwood, and their ski resorts, like Bear Mountain, Snow Summit, Snow Valley Mountain Resort, and Mountain High. The inland desert city of Palm Springs is also popular.\",\n",
      "          \"title\": \"Southern California\",\n",
      "          \"url\": \"https://en.wikipedia.org/wiki?curid=62520\",\n",
      "          \"views\": 2000\n",
      "        },\n",
      "        {\n",
      "          \"lang\": \"en\",\n",
      "          \"text\": \"Carbon Beach, Surfrider Beach, Westward Beach, Escondido Beach, Paradise Cove, Point Dume, Pirates Cove, Zuma Beach, Trancas and Encinal Bluffs are places along the coast in Malibu. Point Dume forms the northern end of the Santa Monica Bay, and Point Dume Headlands Park affords a vista stretching to the Palos Verdes Peninsula and Santa Catalina Island. Directly below the park, on the western side of the point, is Pirates Cove. Because of its relative seclusion, Pirates Cove was previously used as a nude beach, but since nudity is now illegal on all beaches in Los Angeles County, nude sunbathers are subject to fines and/or arrest.\",\n",
      "          \"title\": \"Malibu, California\",\n",
      "          \"url\": \"https://en.wikipedia.org/wiki?curid=107655\",\n",
      "          \"views\": 2000\n",
      "        },\n",
      "        {\n",
      "          \"lang\": \"fr\",\n",
      "          \"text\": \"Les plages et parcs c\\u00f4tiers principaux sont \\\"Trinidad State Beach\\\", \\\"Torrey Pines State Reserve\\\", le \\\"Cabrillo National Monument\\\". Les touristes se dirigent aussi vers les missions espagnoles, le \\\"Donner Memorial State Park\\\", le \\\"Bodie Historic State Park\\\", le parc national de Sequoia et le parc d'\\u00c9tat de Humboldt Redwoods.\",\n",
      "          \"title\": \"Californie\",\n",
      "          \"url\": \"https://fr.wikipedia.org/wiki?curid=623\",\n",
      "          \"views\": 2000\n",
      "        },\n",
      "        {\n",
      "          \"lang\": \"es\",\n",
      "          \"text\": \"Oeste: Burlingame, Hillcrest, Linda Vista, Midtown, Midway, Mission Hills, Mission Valley West, Morena, North Park, Ocean Beach, Old Town, Pacific Beach, Point Loma (incluyendo a Roseville-Fleetridge, Shelter Island, Sunset Cliffs, La Playa y University Heights).\",\n",
      "          \"title\": \"San Diego (California)\",\n",
      "          \"url\": \"https://es.wikipedia.org/wiki?curid=117310\",\n",
      "          \"views\": 1000\n",
      "        },\n",
      "        {\n",
      "          \"lang\": \"es\",\n",
      "          \"text\": \"Entre sus playas m\\u00e1s importantes se encuentran Surfrider Beach, Zuma Beach, Malibu State Beach y Topanga State Beach; entre sus parques m\\u00e1s cercanos est\\u00e1n el Parque estatal del arroyo Malib\\u00fa (\\\"Malibu Creek State Park\\\"), \\u00c1rea recreativa nacional de las monta\\u00f1as de Santa M\\u00f3nica (\\\"Santa Monica Mountains National Recreation Area\\\") y Cueva Paradise (\\\"Paradise Cove\\\"), donde se han rodado muchas pel\\u00edculas.\",\n",
      "          \"title\": \"Malib\\u00fa (California)\",\n",
      "          \"url\": \"https://es.wikipedia.org/wiki?curid=656653\",\n",
      "          \"views\": 900\n",
      "        }\n",
      "      ]\n",
      "    }\n",
      "  }\n",
      "}\n"
     ]
    }
   ],
   "source": [
    "response = (client.query\n",
    "            .get(\"Wikipedia\",['text','title','url','views','lang'])\n",
    "            .with_near_text({\"concepts\": \"Vacation spots in california\"})\n",
    "            .with_limit(5)\n",
    "            .do()\n",
    "           )\n",
    "\n",
    "json_print(response)"
   ]
  },
  {
   "cell_type": "code",
   "execution_count": 7,
   "id": "1b27c2ba-c8fe-40e1-8457-5c7217bf28e2",
   "metadata": {
    "height": 248
   },
   "outputs": [
    {
     "name": "stdout",
     "output_type": "stream",
     "text": [
      "{\n",
      "  \"data\": {\n",
      "    \"Get\": {\n",
      "      \"Wikipedia\": [\n",
      "        {\n",
      "          \"lang\": \"en\",\n",
      "          \"text\": \"Many locals and tourists frequent the Southern California coast for its beaches. Some of southern California's most popular beaches are Malibu, Laguna Beach, La Jolla, Manhattan Beach, and Hermosa Beach. Southern California is also known for its mountain resort communities, such as Big Bear Lake, Lake Arrowhead, and Wrightwood, and their ski resorts, like Bear Mountain, Snow Summit, Snow Valley Mountain Resort, and Mountain High. The inland desert city of Palm Springs is also popular.\",\n",
      "          \"title\": \"Southern California\",\n",
      "          \"url\": \"https://en.wikipedia.org/wiki?curid=62520\",\n",
      "          \"views\": 2000\n",
      "        },\n",
      "        {\n",
      "          \"lang\": \"en\",\n",
      "          \"text\": \"Carbon Beach, Surfrider Beach, Westward Beach, Escondido Beach, Paradise Cove, Point Dume, Pirates Cove, Zuma Beach, Trancas and Encinal Bluffs are places along the coast in Malibu. Point Dume forms the northern end of the Santa Monica Bay, and Point Dume Headlands Park affords a vista stretching to the Palos Verdes Peninsula and Santa Catalina Island. Directly below the park, on the western side of the point, is Pirates Cove. Because of its relative seclusion, Pirates Cove was previously used as a nude beach, but since nudity is now illegal on all beaches in Los Angeles County, nude sunbathers are subject to fines and/or arrest.\",\n",
      "          \"title\": \"Malibu, California\",\n",
      "          \"url\": \"https://en.wikipedia.org/wiki?curid=107655\",\n",
      "          \"views\": 2000\n",
      "        },\n",
      "        {\n",
      "          \"lang\": \"en\",\n",
      "          \"text\": \"The coastlines of Mexico harbor many stretches of beaches that are frequented by sunbathers and other visitors. According to national law, the entirety of the coastlines are under federal ownership, that is, all beaches in the country are public. On the Yucat\\u00e1n peninsula, one of the most popular beach destinations is the resort town of Canc\\u00fan, especially among university students during spring break. Just offshore is the beach island of Isla Mujeres, and to the east is the Isla Holbox. To the south of Cancun is the coastal strip called Riviera Maya which includes the beach town of Playa del Carmen and the ecological parks of Xcaret and Xel-H\\u00e1. A day trip to the south of Canc\\u00fan is the historic port of Tulum. In addition to its beaches, the town of Tulum is notable for its cliff-side Mayan ruins. On the Pacific coast is the notable tourist destination of Acapulco. Once the destination for the rich and famous, the beaches have become crowded and the shores are now home to many multi-story hotels and vendors. Acapulco is home to renowned cliff divers: trained divers who leap from the side of a vertical cliff into the surf below. At the southern tip of the Baja California peninsula is the resort town of Cabo San Lucas, a town noted for its beaches and marlin fishing. Further north along the Sea of Cort\\u00e9s is the Bah\\u00eda de La Concepci\\u00f3n, another beach town known for its sports fishing. Closer to the United States border is the weekend draw of San Felipe, Baja California.\",\n",
      "          \"title\": \"Mexico\",\n",
      "          \"url\": \"https://en.wikipedia.org/wiki?curid=3966054\",\n",
      "          \"views\": 3000\n",
      "        }\n",
      "      ]\n",
      "    }\n",
      "  }\n",
      "}\n"
     ]
    }
   ],
   "source": [
    "response = (client.query\n",
    "            .get(\"Wikipedia\",['text','title','url','views','lang'])\n",
    "            .with_near_text({\"concepts\": \"Vacation spots in california\"})\n",
    "            .with_where({\n",
    "                \"path\" : ['lang'],\n",
    "                \"operator\" : \"Equal\",\n",
    "                \"valueString\":'en'\n",
    "            })\n",
    "            .with_limit(3)\n",
    "            .do()\n",
    "           )\n",
    "\n",
    "json_print(response)"
   ]
  },
  {
   "cell_type": "code",
   "execution_count": 8,
   "id": "efc9d5cc-66e8-4650-8de0-331e899fb123",
   "metadata": {
    "height": 248
   },
   "outputs": [
    {
     "name": "stdout",
     "output_type": "stream",
     "text": [
      "{\n",
      "  \"data\": {\n",
      "    \"Get\": {\n",
      "      \"Wikipedia\": [\n",
      "        {\n",
      "          \"lang\": \"en\",\n",
      "          \"text\": \"Many locals and tourists frequent the Southern California coast for its beaches. Some of southern California's most popular beaches are Malibu, Laguna Beach, La Jolla, Manhattan Beach, and Hermosa Beach. Southern California is also known for its mountain resort communities, such as Big Bear Lake, Lake Arrowhead, and Wrightwood, and their ski resorts, like Bear Mountain, Snow Summit, Snow Valley Mountain Resort, and Mountain High. The inland desert city of Palm Springs is also popular.\",\n",
      "          \"title\": \"Southern California\",\n",
      "          \"url\": \"https://en.wikipedia.org/wiki?curid=62520\",\n",
      "          \"views\": 2000\n",
      "        },\n",
      "        {\n",
      "          \"lang\": \"en\",\n",
      "          \"text\": \"Malibu has been used as a location or setting for many films, television programs, fashion shoots and music videos.\",\n",
      "          \"title\": \"Malibu, California\",\n",
      "          \"url\": \"https://en.wikipedia.org/wiki?curid=107655\",\n",
      "          \"views\": 2000\n",
      "        },\n",
      "        {\n",
      "          \"lang\": \"en\",\n",
      "          \"text\": \"The coastlines of Mexico harbor many stretches of beaches that are frequented by sunbathers and other visitors. According to national law, the entirety of the coastlines are under federal ownership, that is, all beaches in the country are public. On the Yucat\\u00e1n peninsula, one of the most popular beach destinations is the resort town of Canc\\u00fan, especially among university students during spring break. Just offshore is the beach island of Isla Mujeres, and to the east is the Isla Holbox. To the south of Cancun is the coastal strip called Riviera Maya which includes the beach town of Playa del Carmen and the ecological parks of Xcaret and Xel-H\\u00e1. A day trip to the south of Canc\\u00fan is the historic port of Tulum. In addition to its beaches, the town of Tulum is notable for its cliff-side Mayan ruins. On the Pacific coast is the notable tourist destination of Acapulco. Once the destination for the rich and famous, the beaches have become crowded and the shores are now home to many multi-story hotels and vendors. Acapulco is home to renowned cliff divers: trained divers who leap from the side of a vertical cliff into the surf below. At the southern tip of the Baja California peninsula is the resort town of Cabo San Lucas, a town noted for its beaches and marlin fishing. Further north along the Sea of Cort\\u00e9s is the Bah\\u00eda de La Concepci\\u00f3n, another beach town known for its sports fishing. Closer to the United States border is the weekend draw of San Felipe, Baja California.\",\n",
      "          \"title\": \"Mexico\",\n",
      "          \"url\": \"https://en.wikipedia.org/wiki?curid=3966054\",\n",
      "          \"views\": 3000\n",
      "        }\n",
      "      ]\n",
      "    }\n",
      "  }\n",
      "}\n"
     ]
    }
   ],
   "source": [
    "response = (client.query\n",
    "            .get(\"Wikipedia\",['text','title','url','views','lang'])\n",
    "            .with_near_text({\"concepts\": \"Miejsca na wakacje w Kalifornii\"})\n",
    "            .with_where({\n",
    "                \"path\" : ['lang'],\n",
    "                \"operator\" : \"Equal\",\n",
    "                \"valueString\":'en'\n",
    "            })\n",
    "            .with_limit(3)\n",
    "            .do()\n",
    "           )\n",
    "\n",
    "json_print(response)"
   ]
  },
  {
   "cell_type": "code",
   "execution_count": 9,
   "id": "1290303f-6833-4737-acf3-8ded3144aaaa",
   "metadata": {
    "height": 248
   },
   "outputs": [
    {
     "name": "stdout",
     "output_type": "stream",
     "text": [
      "{\n",
      "  \"data\": {\n",
      "    \"Get\": {\n",
      "      \"Wikipedia\": [\n",
      "        {\n",
      "          \"lang\": \"en\",\n",
      "          \"text\": \"Many locals and tourists frequent the Southern California coast for its beaches. Some of southern California's most popular beaches are Malibu, Laguna Beach, La Jolla, Manhattan Beach, and Hermosa Beach. Southern California is also known for its mountain resort communities, such as Big Bear Lake, Lake Arrowhead, and Wrightwood, and their ski resorts, like Bear Mountain, Snow Summit, Snow Valley Mountain Resort, and Mountain High. The inland desert city of Palm Springs is also popular.\",\n",
      "          \"title\": \"Southern California\",\n",
      "          \"url\": \"https://en.wikipedia.org/wiki?curid=62520\",\n",
      "          \"views\": 2000\n",
      "        },\n",
      "        {\n",
      "          \"lang\": \"en\",\n",
      "          \"text\": \"The park is located east of Webb Way, and between Civic Center Way on the north and PCH to the south. It was the site of the annual Labor Day Weekend Kiwanis Club Chili Cook-Off from 1982 to 2009 (in 2010, the Chili Cook-Off and Carnival went on as usual, but moved to still-open land across Civic Center Way, on the Ioki property, at the corner of Civic Center Way and Stuart Ranch Road). Further back, it was agricultural land, planted in geraniums, other flowers and vegetables by the Takahashi family since 1924.\",\n",
      "          \"title\": \"Malibu, California\",\n",
      "          \"url\": \"https://en.wikipedia.org/wiki?curid=107655\",\n",
      "          \"views\": 2000\n",
      "        },\n",
      "        {\n",
      "          \"lang\": \"en\",\n",
      "          \"text\": \"Often chosen as a winter training location for professional cycling teams and snowbirds, Santa Barbara has cycling routes and several climbs, including Gibraltar Road and Old San Marcos/Painted Cave. A bike path and route connects the University of California, Santa Barbara to the downtown area, passing through Goleta and Hope Ranch. Bike rentals are a way for tourists to view Santa Barbara and the surrounding area. In 2009, the Santa Barbara-Santa Maria-Goleta metropolitan statistical area (MSA) ranked as the sixth highest in the United States for percentage of commuters who biked to work (4 percent).\",\n",
      "          \"title\": \"Santa Barbara, California\",\n",
      "          \"url\": \"https://en.wikipedia.org/wiki?curid=108139\",\n",
      "          \"views\": 2000\n",
      "        }\n",
      "      ]\n",
      "    }\n",
      "  }\n",
      "}\n"
     ]
    }
   ],
   "source": [
    "response = (client.query\n",
    "            .get(\"Wikipedia\",['text','title','url','views','lang'])\n",
    "            .with_near_text({\"concepts\": \"أماكن العطلات في كاليفورنيا\"})\n",
    "            .with_where({\n",
    "                \"path\" : ['lang'],\n",
    "                \"operator\" : \"Equal\",\n",
    "                \"valueString\":'en'\n",
    "            })\n",
    "            .with_limit(3)\n",
    "            .do()\n",
    "           )\n",
    "\n",
    "json_print(response)"
   ]
  },
  {
   "cell_type": "markdown",
   "id": "1756b652-257d-4cca-95e3-f40870884113",
   "metadata": {},
   "source": [
    "## Retrieval Augmented Generation"
   ]
  },
  {
   "cell_type": "markdown",
   "id": "14074da1-1038-4fad-8241-1ba8db8200a2",
   "metadata": {},
   "source": [
    "### Single Prompt"
   ]
  },
  {
   "cell_type": "code",
   "execution_count": 10,
   "id": "4d40ce8d-a785-4f47-9497-5cc102ec4349",
   "metadata": {
    "height": 231
   },
   "outputs": [
    {
     "name": "stdout",
     "output_type": "stream",
     "text": [
      "{\n",
      "  \"data\": {\n",
      "    \"Get\": {\n",
      "      \"Wikipedia\": [\n",
      "        {\n",
      "          \"_additional\": {\n",
      "            \"generate\": {\n",
      "              \"error\": null,\n",
      "              \"singleResult\": \" Are you tired of the cold winter weather? Do you crave fun in the sun? \\n\\nThen come visit Southern California! \\n\\nWith gorgeous beaches along the Southern California coast, it's hard to pick just one with so many amazing options, such as Malibu, Laguna Beach, La Jolla, Manhattan Beach, and Hermosa Beach, to name a few. \\n\\nSouthern California also offers stunning mountain resort communities. You can ski or snowboard at world-class resorts like Bear Mountain, Snow Summit, Snow Valley Mountain Resort, and Mountain High. \\n\\nOr maybe you'd like to venture into the inland desert. The city of Palm Springs is waiting for you with an abundance of activities and accommodations to enjoy! \\n\\nCome alone or bring the family. Experience the ultimate outdoor vacation in Southern California. \\n\\nClick \\\"Learn More\\\" now to plan your adventure!\"\n",
      "            }\n",
      "          },\n",
      "          \"text\": \"Many locals and tourists frequent the Southern California coast for its beaches. Some of southern California's most popular beaches are Malibu, Laguna Beach, La Jolla, Manhattan Beach, and Hermosa Beach. Southern California is also known for its mountain resort communities, such as Big Bear Lake, Lake Arrowhead, and Wrightwood, and their ski resorts, like Bear Mountain, Snow Summit, Snow Valley Mountain Resort, and Mountain High. The inland desert city of Palm Springs is also popular.\",\n",
      "          \"title\": \"Southern California\"\n",
      "        },\n",
      "        {\n",
      "          \"_additional\": {\n",
      "            \"generate\": {\n",
      "              \"error\": null,\n",
      "              \"singleResult\": \" \\ud83c\\udfd6\\ufe0f Want to live the beach life? \\ud83c\\udfdd\\ufe0f Go further off the beaten path in Malibu and experience the pristine beauty of Carbon Beach, Surfrider Beach, Westward Beach, Escondido Beach, Paradise Cove, Point Dume, Pirates Cove, Zuma Beach, Trancas, and Encinal Bluffs! \\ud83c\\udf0a\\ufe0f \\n\\nUncover the allure of Point Dume, where the Santa Monica Bay meets the vast Pacific. Panoramic views from Point Dume Headlands Park stretch to the Palos Verdes Peninsula and Santa Catalina Island \\ud83c\\udf05. Discover the allure of Pirates Cove \\ud83c\\udfdd\\ufe0f, a once-secret spot for nudists, but now a haven for adventure seekers who can explore the sea caves and tide pools while enjoying some of the best surf in Malibu! \\u270c\\ufe0f\\n\\nThere you have it! These picturesque beaches await you! Book your trip today and get ready for the ultimate beach vacation in Malibu! \\ud83d\\udcaa\"\n",
      "            }\n",
      "          },\n",
      "          \"text\": \"Carbon Beach, Surfrider Beach, Westward Beach, Escondido Beach, Paradise Cove, Point Dume, Pirates Cove, Zuma Beach, Trancas and Encinal Bluffs are places along the coast in Malibu. Point Dume forms the northern end of the Santa Monica Bay, and Point Dume Headlands Park affords a vista stretching to the Palos Verdes Peninsula and Santa Catalina Island. Directly below the park, on the western side of the point, is Pirates Cove. Because of its relative seclusion, Pirates Cove was previously used as a nude beach, but since nudity is now illegal on all beaches in Los Angeles County, nude sunbathers are subject to fines and/or arrest.\",\n",
      "          \"title\": \"Malibu, California\"\n",
      "        },\n",
      "        {\n",
      "          \"_additional\": {\n",
      "            \"generate\": {\n",
      "              \"error\": null,\n",
      "              \"singleResult\": \" Looking for some of the best spots to appreciate the great outdoors? Look no further than the beaches and coastal parks of California, like the \\\"Trinidad State Beach,\\\" the \\\"Torrey Pines State Reserve,\\\" and the \\\"Cabrillo National Monument.\\\" Or, venture towards some of the state's missions, like the \\\"Donner Memorial State Park,\\\" the \\\"Bodie Historic State Park,\\\" the national Sequoia Park, and the Humboldt Redwoods State Park. Your next favorite memory is waiting for you in Californie! \\n\\nCalifornia has so many sights to see and activities to offer, from hiking picturesque trails to learning about the state's history at the Bodie Historic Gold Rush ghost town and taking in the grandeur of some of the world's oldest trees in the Sequoia National Park. \\n\\nThere you can take a break and enjoy the breathtaking views at Trinidad State Beach, or go on a whale-watching trip from Cabrillo National Monument, which is also an underwater park, to experience some of the best snorkeling and scuba diving the coast has to offer. \\n\\nThose interested in learning about California's Spanish colonial history can do so by visiting missions like Mission San Juan Capistrano, located just south of Los Angeles, which was founded in 1776 by Spanish Catholics and is the seventh of 21 missions founded in California by Saint Jun\\u00edpero Serra. \\n\\nHowever you choose to spend your time in California, you will without a doubt be impressed by the endless opportunities for adventure and the state's unbeatable natural beauty!\"\n",
      "            }\n",
      "          },\n",
      "          \"text\": \"Les plages et parcs c\\u00f4tiers principaux sont \\\"Trinidad State Beach\\\", \\\"Torrey Pines State Reserve\\\", le \\\"Cabrillo National Monument\\\". Les touristes se dirigent aussi vers les missions espagnoles, le \\\"Donner Memorial State Park\\\", le \\\"Bodie Historic State Park\\\", le parc national de Sequoia et le parc d'\\u00c9tat de Humboldt Redwoods.\",\n",
      "          \"title\": \"Californie\"\n",
      "        }\n",
      "      ]\n",
      "    }\n",
      "  }\n",
      "}\n"
     ]
    }
   ],
   "source": [
    "prompt = \"Write me a facebook ad about {title} using information inside {text}\"\n",
    "result = (\n",
    "  client.query\n",
    "  .get(\"Wikipedia\", [\"title\",\"text\"])\n",
    "  .with_generate(single_prompt=prompt)\n",
    "  .with_near_text({\n",
    "    \"concepts\": [\"Vacation spots in california\"]\n",
    "  })\n",
    "  .with_limit(3)\n",
    ").do()\n",
    "\n",
    "json_print(result)"
   ]
  },
  {
   "cell_type": "markdown",
   "id": "2b3a82f0-89e8-4ddb-8973-1bc84d3e10ee",
   "metadata": {},
   "source": [
    "### Group Task"
   ]
  },
  {
   "cell_type": "code",
   "execution_count": 12,
   "id": "06097742-ed4b-4a6f-94a3-3c85d2bbba0c",
   "metadata": {
    "height": 265
   },
   "outputs": [
    {
     "name": "stdout",
     "output_type": "stream",
     "text": [
      "{\n",
      "  \"data\": {\n",
      "    \"Get\": {\n",
      "      \"Wikipedia\": [\n",
      "        {\n",
      "          \"_additional\": {\n",
      "            \"generate\": {\n",
      "              \"error\": null,\n",
      "              \"groupedResult\": \" The first post highlights the beaches in Southern California, mentioning several famous spots such as Malibu, Laguna Beach, and La Jolla. It also mentions resort communities in the mountains, particularly for skiing, and the desert city of Palm Springs as popular destinations for different types of tourists. \\n\\nThe second post, in contrast, focuses entirely on different beaches in Malibu, pointing out their specific location along the coast and giving important sites and parks nearby, like the Santa Monica Bay, the Palos Verdes Peninsula, and Santa Catalina Island. \\n\\nBoth posts emphasize the importance of California's natural landscape to tourists. \"\n",
      "            }\n",
      "          },\n",
      "          \"text\": \"Many locals and tourists frequent the Southern California coast for its beaches. Some of southern California's most popular beaches are Malibu, Laguna Beach, La Jolla, Manhattan Beach, and Hermosa Beach. Southern California is also known for its mountain resort communities, such as Big Bear Lake, Lake Arrowhead, and Wrightwood, and their ski resorts, like Bear Mountain, Snow Summit, Snow Valley Mountain Resort, and Mountain High. The inland desert city of Palm Springs is also popular.\",\n",
      "          \"title\": \"Southern California\"\n",
      "        },\n",
      "        {\n",
      "          \"_additional\": {\n",
      "            \"generate\": null\n",
      "          },\n",
      "          \"text\": \"Carbon Beach, Surfrider Beach, Westward Beach, Escondido Beach, Paradise Cove, Point Dume, Pirates Cove, Zuma Beach, Trancas and Encinal Bluffs are places along the coast in Malibu. Point Dume forms the northern end of the Santa Monica Bay, and Point Dume Headlands Park affords a vista stretching to the Palos Verdes Peninsula and Santa Catalina Island. Directly below the park, on the western side of the point, is Pirates Cove. Because of its relative seclusion, Pirates Cove was previously used as a nude beach, but since nudity is now illegal on all beaches in Los Angeles County, nude sunbathers are subject to fines and/or arrest.\",\n",
      "          \"title\": \"Malibu, California\"\n",
      "        },\n",
      "        {\n",
      "          \"_additional\": {\n",
      "            \"generate\": null\n",
      "          },\n",
      "          \"text\": \"Les plages et parcs c\\u00f4tiers principaux sont \\\"Trinidad State Beach\\\", \\\"Torrey Pines State Reserve\\\", le \\\"Cabrillo National Monument\\\". Les touristes se dirigent aussi vers les missions espagnoles, le \\\"Donner Memorial State Park\\\", le \\\"Bodie Historic State Park\\\", le parc national de Sequoia et le parc d'\\u00c9tat de Humboldt Redwoods.\",\n",
      "          \"title\": \"Californie\"\n",
      "        }\n",
      "      ]\n",
      "    }\n",
      "  }\n",
      "}\n"
     ]
    }
   ],
   "source": [
    "generate_prompt = \"Summarize what these posts are about in two paragraphs.\"\n",
    "\n",
    "result = (\n",
    "  client.query\n",
    "  .get(\"Wikipedia\", [\"title\",\"text\"])\n",
    "  .with_generate(grouped_task=generate_prompt) # Pass in all objects at once\n",
    "  .with_near_text({\n",
    "    \"concepts\": [\"Vacation spots in california\"]\n",
    "  })\n",
    "  .with_limit(3)\n",
    ").do()\n",
    "\n",
    "json_print(result)\n"
   ]
  },
  {
   "cell_type": "code",
   "execution_count": null,
   "id": "29f8d82b",
   "metadata": {
    "height": 29
   },
   "outputs": [],
   "source": []
  }
 ],
 "metadata": {
  "kernelspec": {
   "display_name": "Python 3 (ipykernel)",
   "language": "python",
   "name": "python3"
  },
  "language_info": {
   "codemirror_mode": {
    "name": "ipython",
    "version": 3
   },
   "file_extension": ".py",
   "mimetype": "text/x-python",
   "name": "python",
   "nbconvert_exporter": "python",
   "pygments_lexer": "ipython3",
   "version": "3.9.18"
  }
 },
 "nbformat": 4,
 "nbformat_minor": 5
}

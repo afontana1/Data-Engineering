{
  "nbformat": 4,
  "nbformat_minor": 0,
  "metadata": {
    "colab": {
      "provenance": []
    },
    "kernelspec": {
      "name": "python3",
      "display_name": "Python 3"
    },
    "language_info": {
      "name": "python"
    }
  },
  "cells": [
    {
      "cell_type": "markdown",
      "source": [
        "## **Corrective RAG**\n",
        "\n",
        "Corrective Retrieval-Augmented Generation (Corrective RAG or CRAG) is a method that improves the accuracy of generated responses by evaluating and correcting retrieved documents before using them. It works as follows:\n",
        "\n",
        "**Correct:** If documents are relevant, they are refined to remove unnecessary parts and used for generation.\n",
        "\n",
        "**Incorrect:** If documents are irrelevant, they are discarded, and the system retrieves additional information, like using web search.\n",
        "(**Note:** In our case, we are not performing this step.)\n",
        "\n",
        "**Ambiguous:** If it's unclear, the system combines retrieved and web-searched information for a balanced response.\n",
        "\n",
        "Research Paper: [Corrective RAG](https://arxiv.org/pdf/2401.15884)"
      ],
      "metadata": {
        "id": "eRpYIXC-LW0u"
      }
    },
    {
      "cell_type": "markdown",
      "source": [
        "## **Initial Setup**"
      ],
      "metadata": {
        "id": "YWLRt2mi0rXU"
      }
    },
    {
      "cell_type": "code",
      "source": [
        "! pip install --q athina chromadb langgraph"
      ],
      "metadata": {
        "id": "g6-0ne6BAZWW",
        "colab": {
          "base_uri": "https://localhost:8080/"
        },
        "outputId": "dff6c06e-a3c3-4896-a851-ed56a231e435"
      },
      "execution_count": null,
      "outputs": [
        {
          "output_type": "stream",
          "name": "stdout",
          "text": [
            "\u001b[?25l   \u001b[90m━━━━━━━━━━━━━━━━━━━━━━━━━━━━━━━━━━━━━━━━\u001b[0m \u001b[32m0.0/83.5 kB\u001b[0m \u001b[31m?\u001b[0m eta \u001b[36m-:--:--\u001b[0m\r\u001b[2K   \u001b[90m━━━━━━━━━━━━━━━━━━━━━━━━━━━━━━━━━━━━━━━━\u001b[0m \u001b[32m83.5/83.5 kB\u001b[0m \u001b[31m2.7 MB/s\u001b[0m eta \u001b[36m0:00:00\u001b[0m\n",
            "\u001b[?25h"
          ]
        }
      ]
    },
    {
      "cell_type": "code",
      "execution_count": null,
      "metadata": {
        "id": "mqVkXJwJA945"
      },
      "outputs": [],
      "source": [
        "# ! pip install --q athina datasets langchain_community tiktoken langchain-openai langchainhub chromadb langchain langgraph tavily-python"
      ]
    },
    {
      "cell_type": "code",
      "source": [
        "import os\n",
        "from google.colab import userdata\n",
        "os.environ[\"OPENAI_API_KEY\"] = userdata.get('OPENAI_API_KEY')\n",
        "os.environ[\"TAVILY_API_KEY\"] = userdata.get('TAVILY_API_KEY')\n",
        "os.environ['ATHINA_API_KEY'] = userdata.get('ATHINA_API_KEY')"
      ],
      "metadata": {
        "id": "LcIN7gNdB16k"
      },
      "execution_count": null,
      "outputs": []
    },
    {
      "cell_type": "markdown",
      "source": [
        "## **Indexing**"
      ],
      "metadata": {
        "id": "QiWNs9Nz0quz"
      }
    },
    {
      "cell_type": "code",
      "source": [
        "# load embedding model\n",
        "from langchain_openai import OpenAIEmbeddings\n",
        "embeddings = OpenAIEmbeddings()"
      ],
      "metadata": {
        "id": "4e8jZIs50pjA"
      },
      "execution_count": null,
      "outputs": []
    },
    {
      "cell_type": "code",
      "source": [
        "# load data\n",
        "from langchain.document_loaders import CSVLoader\n",
        "loader = CSVLoader(\"./context.csv\")\n",
        "documents = loader.load()"
      ],
      "metadata": {
        "id": "TKiUzb3607j6"
      },
      "execution_count": null,
      "outputs": []
    },
    {
      "cell_type": "code",
      "source": [
        "# split documents\n",
        "from langchain.text_splitter import RecursiveCharacterTextSplitter\n",
        "text_splitter = RecursiveCharacterTextSplitter(chunk_size=500, chunk_overlap=0)\n",
        "documents = text_splitter.split_documents(documents)"
      ],
      "metadata": {
        "id": "DAxUi8unnJq-"
      },
      "execution_count": null,
      "outputs": []
    },
    {
      "cell_type": "code",
      "source": [
        "# create vectorstore\n",
        "from langchain.vectorstores import Chroma\n",
        "vectorstore = Chroma.from_documents(documents, embeddings)"
      ],
      "metadata": {
        "id": "AiOJeXQYCWp0"
      },
      "execution_count": null,
      "outputs": []
    },
    {
      "cell_type": "markdown",
      "source": [
        "## **Retriever**"
      ],
      "metadata": {
        "id": "gx62vHdsMPH-"
      }
    },
    {
      "cell_type": "code",
      "source": [
        "# create retriever\n",
        "retriever = vectorstore.as_retriever()"
      ],
      "metadata": {
        "id": "q18W19uU4OKH"
      },
      "execution_count": null,
      "outputs": []
    },
    {
      "cell_type": "markdown",
      "source": [
        "## **Document Grader**\n",
        "The document grader evaluates whether a document is relevant to the given query."
      ],
      "metadata": {
        "id": "F6POsWW5MSuo"
      }
    },
    {
      "cell_type": "code",
      "source": [
        "# create grader for doc retriever\n",
        "from langchain_core.prompts import ChatPromptTemplate\n",
        "from langchain_core.pydantic_v1 import BaseModel, Field\n",
        "from langchain_openai import ChatOpenAI\n",
        "\n",
        "# defining a data class for the grader\n",
        "class GradeDocuments(BaseModel):\n",
        "    binary_score: str = Field(\n",
        "        description=\"Documents are relevant to the question, 'yes' or 'no'\"\n",
        "    )\n",
        "\n",
        "# LLM with function call\n",
        "llm = ChatOpenAI(temperature=0)\n",
        "structured_llm_grader = llm.with_structured_output(GradeDocuments)\n",
        "\n",
        "# Prompt for the grader\n",
        "system = \"\"\"You are a grader assessing relevance of a retrieved document to a user question. \\n\n",
        "    It does not need to be a stringent test. The goal is to filter out erroneous retrievals. \\n\n",
        "    If the document contains keyword(s) or semantic meaning related to the user question, grade it as relevant. \\n\n",
        "    Give a binary score 'yes' or 'no' score to indicate whether the document is relevant to the question.\"\"\"\n",
        "grade_prompt = ChatPromptTemplate.from_messages(\n",
        "    [\n",
        "        (\"system\", system),\n",
        "        (\"human\", \"Retrieved document: \\n\\n {document} \\n\\n User question: {question}\"),\n",
        "    ]\n",
        ")\n",
        "\n",
        "retrieval_grader = grade_prompt | structured_llm_grader"
      ],
      "metadata": {
        "id": "ZZt6fLGf4SLG",
        "outputId": "291428ea-f8cd-4bc5-8929-016739a9ff22",
        "colab": {
          "base_uri": "https://localhost:8080/"
        }
      },
      "execution_count": null,
      "outputs": [
        {
          "output_type": "stream",
          "name": "stderr",
          "text": [
            "/usr/local/lib/python3.10/dist-packages/langchain_core/_api/beta_decorator.py:87: LangChainBetaWarning: The method `ChatOpenAI.with_structured_output` is in beta. It is actively being worked on, so the API may change.\n",
            "  warn_beta(\n"
          ]
        }
      ]
    },
    {
      "cell_type": "code",
      "source": [
        "# run grader\n",
        "question = \"how does interlibrary loan work\"\n",
        "docs = retriever.get_relevant_documents(question)\n",
        "print(retrieval_grader.invoke({\"question\": question, \"document\": docs}))"
      ],
      "metadata": {
        "id": "qOvrTWya4Wka",
        "outputId": "2fbade7a-4ad1-4815-a530-5d275507f250",
        "colab": {
          "base_uri": "https://localhost:8080/"
        }
      },
      "execution_count": null,
      "outputs": [
        {
          "output_type": "stream",
          "name": "stderr",
          "text": [
            "/usr/local/lib/python3.10/dist-packages/langchain_core/_api/deprecation.py:119: LangChainDeprecationWarning: The method `BaseRetriever.get_relevant_documents` was deprecated in langchain-core 0.1.46 and will be removed in 0.3.0. Use invoke instead.\n",
            "  warn_deprecated(\n"
          ]
        },
        {
          "output_type": "stream",
          "name": "stdout",
          "text": [
            "binary_score='yes'\n"
          ]
        }
      ]
    },
    {
      "cell_type": "markdown",
      "source": [
        "## **RAG Chain**"
      ],
      "metadata": {
        "id": "bNkpwjkGMZhS"
      }
    },
    {
      "cell_type": "code",
      "source": [
        "# create document chain\n",
        "from langchain import hub\n",
        "from langchain_core.output_parsers import StrOutputParser\n",
        "from langchain.prompts import ChatPromptTemplate\n",
        "\n",
        "template = \"\"\"\"\n",
        "You are a helpful assistant that answers questions based on the following context.'\n",
        "Use the provided context to answer the question.\n",
        "Context: {context}\n",
        "Question: {question}\n",
        "Answer:\n",
        "\n",
        "\"\"\"\n",
        "\n",
        "prompt = ChatPromptTemplate.from_template(template)\n",
        "llm = ChatOpenAI(temperature=0)\n",
        "\n",
        "def format_docs(docs):\n",
        "    return \"\\n\\n\".join(doc.page_content for doc in docs)\n",
        "\n",
        "\n",
        "rag_chain = prompt | llm | StrOutputParser()"
      ],
      "metadata": {
        "id": "3Mx1FkPm4gtD"
      },
      "execution_count": null,
      "outputs": []
    },
    {
      "cell_type": "code",
      "source": [
        "# response\n",
        "generation = rag_chain.invoke({\"context\": docs, \"question\": question})\n",
        "generation"
      ],
      "metadata": {
        "id": "eJ5VsFWlpDSk",
        "colab": {
          "base_uri": "https://localhost:8080/",
          "height": 105
        },
        "outputId": "e22f1099-7286-4077-deed-e87a6a353db8"
      },
      "execution_count": null,
      "outputs": [
        {
          "output_type": "execute_result",
          "data": {
            "text/plain": [
              "'Interlibrary loan (ILL) is a service that allows patrons of one library to borrow physical materials or receive electronic documents from another library. After receiving a request from a patron, the borrowing library identifies potential lending libraries with the desired item. The lending library then delivers the item physically or electronically to the borrowing library, who then delivers it to their patron. If necessary, arrangements are made for the return of the item. Fees may accompany interlibrary loan services, and the majority of requests are now managed through semi-automated systems. Libraries negotiate for ILL eligibility, and with the increasing demand for digital materials, they are exploring the legal, technical, and licensing aspects of lending and borrowing ebooks through interlibrary loan.'"
            ],
            "application/vnd.google.colaboratory.intrinsic+json": {
              "type": "string"
            }
          },
          "metadata": {},
          "execution_count": 12
        }
      ]
    },
    {
      "cell_type": "markdown",
      "source": [
        "## **Web Search**"
      ],
      "metadata": {
        "id": "FIRfqwSUMbYi"
      }
    },
    {
      "cell_type": "code",
      "source": [
        "# define web search\n",
        "from langchain_community.tools.tavily_search import TavilySearchResults\n",
        "web_search_tool = TavilySearchResults(k=3)"
      ],
      "metadata": {
        "id": "hFEa3BB2CZeh"
      },
      "execution_count": null,
      "outputs": []
    },
    {
      "cell_type": "code",
      "source": [
        "# # sample web search\n",
        "# web_search_tool.invoke('USA election 2024')"
      ],
      "metadata": {
        "id": "bAzeatF-pZUH"
      },
      "execution_count": null,
      "outputs": []
    },
    {
      "cell_type": "markdown",
      "source": [
        "## **Create Graph**"
      ],
      "metadata": {
        "id": "aqidnV4PpdVU"
      }
    },
    {
      "cell_type": "markdown",
      "source": [
        "### **Define Graph State**"
      ],
      "metadata": {
        "id": "6y2J-am8phxH"
      }
    },
    {
      "cell_type": "code",
      "source": [
        "# define a data class for state\n",
        "from typing import List\n",
        "from typing_extensions import TypedDict\n",
        "\n",
        "class GraphState(TypedDict):\n",
        "    question: str\n",
        "    generation: str\n",
        "    web_search: str\n",
        "    documents: List[str]"
      ],
      "metadata": {
        "id": "hk3cW_wjCcVU"
      },
      "execution_count": null,
      "outputs": []
    },
    {
      "cell_type": "markdown",
      "source": [
        "### **Build Graph**"
      ],
      "metadata": {
        "id": "RLTPwOjLqLcv"
      }
    },
    {
      "cell_type": "code",
      "source": [
        "# define graph steps\n",
        "from langchain.schema import Document\n",
        "\n",
        "# node function for retrieval\n",
        "def retrieve(state):\n",
        "\n",
        "    print(\"---RETRIEVE---\")\n",
        "    question = state[\"question\"]\n",
        "\n",
        "    # Retrieval\n",
        "    documents = retriever.invoke(question)\n",
        "    return {\"documents\": documents, \"question\": question}\n",
        "\n",
        "# node function for generation\n",
        "def generate(state):\n",
        "\n",
        "    print(\"---GENERATE---\")\n",
        "    question = state[\"question\"]\n",
        "    documents = state[\"documents\"]\n",
        "\n",
        "    # RAG generation\n",
        "    generation = rag_chain.invoke({\"context\": documents, \"question\": question})\n",
        "    return {\"documents\": documents, \"question\": question, \"generation\": generation}\n",
        "\n",
        "# node function for check_relevance\n",
        "def grade_documents(state):\n",
        "\n",
        "    print(\"---CHECK DOCUMENT RELEVANCE TO QUESTION---\")\n",
        "    question = state[\"question\"]\n",
        "    documents = state[\"documents\"]\n",
        "\n",
        "    # Score each doc\n",
        "    filtered_docs = []\n",
        "    web_search = \"No\"\n",
        "    for d in documents:\n",
        "        score = retrieval_grader.invoke(\n",
        "            {\"question\": question, \"document\": d.page_content}\n",
        "        )\n",
        "        grade = score.binary_score\n",
        "        if grade == \"yes\":\n",
        "            print(\"---GRADE: DOCUMENT RELEVANT---\")\n",
        "            filtered_docs.append(d)\n",
        "        else:\n",
        "            print(\"---GRADE: DOCUMENT NOT RELEVANT---\")\n",
        "            web_search = \"Yes\"\n",
        "            continue\n",
        "    return {\"documents\": filtered_docs, \"question\": question, \"web_search\": web_search}\n",
        "\n",
        "\n",
        "# node function for web search\n",
        "def web_search(state):\n",
        "\n",
        "    print(\"---WEB SEARCH---\")\n",
        "    question = state[\"question\"]\n",
        "    documents = state[\"documents\"]\n",
        "\n",
        "    # Web search\n",
        "    docs = web_search_tool.invoke({\"query\": question})\n",
        "    web_results = \"\\n\".join([d[\"content\"] for d in docs])\n",
        "    web_results = Document(page_content=web_results)\n",
        "    documents.append(web_results)\n",
        "\n",
        "    return {\"documents\": documents, \"question\": question}\n",
        "\n",
        "# node function for decision\n",
        "def decide_to_generate(state):\n",
        "\n",
        "    print(\"---ASSESS GRADED DOCUMENTS---\")\n",
        "    state[\"question\"]\n",
        "    web_search = state[\"web_search\"]\n",
        "    state[\"documents\"]\n",
        "\n",
        "    if web_search == \"Yes\":\n",
        "        print(\"---DECISION: WEB SEARCH---\")\n",
        "        return \"web_search\"\n",
        "    else:\n",
        "        print(\"---DECISION: GENERATE---\")\n",
        "        return \"generate\""
      ],
      "metadata": {
        "id": "X17xcid8Cg97"
      },
      "execution_count": null,
      "outputs": []
    },
    {
      "cell_type": "code",
      "source": [
        "# Build graph\n",
        "from langgraph.graph import END, StateGraph, START\n",
        "\n",
        "# Graph\n",
        "workflow = StateGraph(GraphState)\n",
        "\n",
        "# Define the nodes\n",
        "workflow.add_node(\"retrieve\", retrieve)  # retrieve\n",
        "workflow.add_node(\"grade_documents\", grade_documents)  # grade documents\n",
        "workflow.add_node(\"generate\", generate)  # generatae\n",
        "workflow.add_node(\"web_search_node\", web_search)  # web search\n",
        "\n",
        "# Build graph\n",
        "workflow.add_edge(START, \"retrieve\")\n",
        "workflow.add_edge(\"retrieve\", \"grade_documents\")\n",
        "workflow.add_conditional_edges(\n",
        "    \"grade_documents\",\n",
        "    decide_to_generate,\n",
        "    {\n",
        "        \"web_search\": \"web_search_node\",\n",
        "        \"generate\": \"generate\",\n",
        "    },\n",
        ")\n",
        "\n",
        "workflow.add_edge(\"web_search_node\", \"generate\")\n",
        "workflow.add_edge(\"generate\", END)\n",
        "\n",
        "# Compile\n",
        "app = workflow.compile()"
      ],
      "metadata": {
        "id": "UBfHWkUuCma-"
      },
      "execution_count": null,
      "outputs": []
    },
    {
      "cell_type": "code",
      "source": [
        "# example 1 where documents are relevant\n",
        "from pprint import pprint\n",
        "\n",
        "inputs = {\"question\": \"how does interlibrary loan work\"}\n",
        "for output in app.stream(inputs):\n",
        "    for key, value in output.items():\n",
        "        pprint(f\"Node '{key}':\")\n",
        "    pprint(\"\\n---\\n\")\n",
        "\n",
        "\n",
        "pprint(value[\"generation\"])"
      ],
      "metadata": {
        "id": "enXoiLgeCo8a",
        "colab": {
          "base_uri": "https://localhost:8080/"
        },
        "outputId": "68791866-fa7a-4946-d4d8-effa686350f3"
      },
      "execution_count": null,
      "outputs": [
        {
          "output_type": "stream",
          "name": "stdout",
          "text": [
            "---RETRIEVE---\n",
            "\"Node 'retrieve':\"\n",
            "'\\n---\\n'\n",
            "---CHECK DOCUMENT RELEVANCE TO QUESTION---\n",
            "---GRADE: DOCUMENT RELEVANT---\n",
            "---GRADE: DOCUMENT RELEVANT---\n",
            "---GRADE: DOCUMENT RELEVANT---\n",
            "---GRADE: DOCUMENT RELEVANT---\n",
            "---ASSESS GRADED DOCUMENTS---\n",
            "---DECISION: GENERATE---\n",
            "\"Node 'grade_documents':\"\n",
            "'\\n---\\n'\n",
            "---GENERATE---\n",
            "\"Node 'generate':\"\n",
            "'\\n---\\n'\n",
            "('Interlibrary loan works by allowing patrons of one library to borrow '\n",
            " 'physical materials or receive electronic documents from another library that '\n",
            " 'holds the desired item. The borrowing library identifies potential lending '\n",
            " 'libraries, which then deliver the item either physically or electronically. '\n",
            " 'The borrowing library receives the item, delivers it to their patron, and '\n",
            " 'arranges for its return if necessary. Fees may accompany interlibrary loan '\n",
            " 'services, and the majority of requests are now managed through '\n",
            " 'semi-automated systems.')\n"
          ]
        }
      ]
    },
    {
      "cell_type": "code",
      "source": [
        "# example 2 where documents are not relevant\n",
        "from pprint import pprint\n",
        "\n",
        "inputs = {\"question\": \"What is Retrieval-Augmented Generation (RAG)?\"}\n",
        "for output in app.stream(inputs):\n",
        "    for key, value in output.items():\n",
        "        pprint(f\"Node '{key}':\")\n",
        "    pprint(\"\\n---\\n\")\n",
        "\n",
        "pprint(value[\"generation\"])"
      ],
      "metadata": {
        "id": "UQk0nEZvrNoJ",
        "colab": {
          "base_uri": "https://localhost:8080/"
        },
        "outputId": "4aafa5f3-4f49-46c9-975c-5980b1c878f2"
      },
      "execution_count": null,
      "outputs": [
        {
          "output_type": "stream",
          "name": "stdout",
          "text": [
            "---RETRIEVE---\n",
            "\"Node 'retrieve':\"\n",
            "'\\n---\\n'\n",
            "---CHECK DOCUMENT RELEVANCE TO QUESTION---\n",
            "---GRADE: DOCUMENT NOT RELEVANT---\n",
            "---GRADE: DOCUMENT NOT RELEVANT---\n",
            "---GRADE: DOCUMENT NOT RELEVANT---\n",
            "---GRADE: DOCUMENT NOT RELEVANT---\n",
            "---ASSESS GRADED DOCUMENTS---\n",
            "---DECISION: WEB SEARCH---\n",
            "\"Node 'grade_documents':\"\n",
            "'\\n---\\n'\n",
            "---WEB SEARCH---\n",
            "\"Node 'web_search_node':\"\n",
            "'\\n---\\n'\n",
            "---GENERATE---\n",
            "\"Node 'generate':\"\n",
            "'\\n---\\n'\n",
            "('Retrieval-Augmented Generation (RAG) is a technique that enhances generative '\n",
            " 'artificial intelligence models by allowing them to access and reference '\n",
            " 'external knowledge bases, such as specific documents or databases, before '\n",
            " 'generating a response. This process helps improve the relevance and accuracy '\n",
            " \"of the generated text by incorporating information beyond the model's own \"\n",
            " 'training data.')\n"
          ]
        }
      ]
    },
    {
      "cell_type": "markdown",
      "source": [
        "## **Preparing Data for Evaluation**"
      ],
      "metadata": {
        "id": "1GWUjEskYM6F"
      }
    },
    {
      "cell_type": "code",
      "source": [
        "# Create a dataframe to store the question, context, and response\n",
        "inputs = {\"question\": \"what are points on a mortgage?\"}\n",
        "outputs = []\n",
        "expected_response = \"Points, sometimes also called a 'discount point', are a form of pre-paid interest .\"\n",
        "\n",
        "for output in app.stream(inputs):\n",
        "    for key, value in output.items():\n",
        "        if key == \"generate\":\n",
        "            question = value[\"question\"]\n",
        "            documents = value[\"documents\"]\n",
        "            generation = value[\"generation\"]\n",
        "\n",
        "            context = \"\\n\".join(doc.page_content for doc in documents)\n",
        "\n",
        "            # Append the result\n",
        "            outputs.append({\n",
        "                \"query\": question,\n",
        "                \"context\": context,\n",
        "                \"response\": generation,\n",
        "                \"expected_response\": expected_response\n",
        "            })\n"
      ],
      "metadata": {
        "id": "0lvr2-cfC3yo",
        "colab": {
          "base_uri": "https://localhost:8080/"
        },
        "outputId": "e4f6c2f7-9c32-4d85-85ac-6ad8180c874b"
      },
      "execution_count": null,
      "outputs": [
        {
          "output_type": "stream",
          "name": "stdout",
          "text": [
            "---RETRIEVE---\n",
            "---CHECK DOCUMENT RELEVANCE TO QUESTION---\n",
            "---GRADE: DOCUMENT RELEVANT---\n",
            "---GRADE: DOCUMENT RELEVANT---\n",
            "---GRADE: DOCUMENT RELEVANT---\n",
            "---GRADE: DOCUMENT RELEVANT---\n",
            "---ASSESS GRADED DOCUMENTS---\n",
            "---DECISION: GENERATE---\n",
            "---GENERATE---\n"
          ]
        }
      ]
    },
    {
      "cell_type": "code",
      "source": [
        "# Convert to DataFrame\n",
        "import pandas as pd\n",
        "df = pd.DataFrame(outputs)"
      ],
      "metadata": {
        "id": "n9OTspwkr6BJ"
      },
      "execution_count": null,
      "outputs": []
    },
    {
      "cell_type": "code",
      "source": [
        "df"
      ],
      "metadata": {
        "id": "yREUX0YDsDj9",
        "colab": {
          "base_uri": "https://localhost:8080/",
          "height": 202
        },
        "outputId": "5e76555b-43fb-4375-f050-92dfba1ef949"
      },
      "execution_count": null,
      "outputs": [
        {
          "output_type": "execute_result",
          "data": {
            "text/plain": [
              "                            query  \\\n",
              "0  what are points on a mortgage?   \n",
              "\n",
              "                                                                                                                                                                                                                                                                                                                                                                                                                                                                                                               context  \\\n",
              "0  context: [\"Discount points, also called mortgage points or simply points, are a form of pre-paid interest available in the United States when arranging a mortgage. One point equals one percent of the loan amount. By charging a borrower points, a lender effectively increases the yield on the loan above the amount of the stated interest rate.  Borrowers can offer to pay a lender points as a method to reduce the interest rate on the loan, thus obtaining a lower monthly payment in exchange for t...   \n",
              "\n",
              "                                                                                                                                                                                                                                                                                                                                                                                                                                                                                                              response  \\\n",
              "0  Points on a mortgage, also known as discount points, are a form of pre-paid interest that borrowers can pay to lenders in order to reduce the interest rate on the loan. One point equals one percent of the loan amount. By paying points, borrowers can obtain a lower monthly payment in exchange for this upfront payment. Points can also be used to reduce the monthly payment for the purpose of qualifying for a loan based on monthly income. It is important to note that points are different from or...   \n",
              "\n",
              "                                                                     expected_response  \n",
              "0  Points, sometimes also called a 'discount point', are a form of pre-paid interest .  "
            ],
            "text/html": [
              "\n",
              "  <div id=\"df-b025588d-080d-4b5a-87cf-33d7919242a2\" class=\"colab-df-container\">\n",
              "    <div>\n",
              "<style scoped>\n",
              "    .dataframe tbody tr th:only-of-type {\n",
              "        vertical-align: middle;\n",
              "    }\n",
              "\n",
              "    .dataframe tbody tr th {\n",
              "        vertical-align: top;\n",
              "    }\n",
              "\n",
              "    .dataframe thead th {\n",
              "        text-align: right;\n",
              "    }\n",
              "</style>\n",
              "<table border=\"1\" class=\"dataframe\">\n",
              "  <thead>\n",
              "    <tr style=\"text-align: right;\">\n",
              "      <th></th>\n",
              "      <th>query</th>\n",
              "      <th>context</th>\n",
              "      <th>response</th>\n",
              "      <th>expected_response</th>\n",
              "    </tr>\n",
              "  </thead>\n",
              "  <tbody>\n",
              "    <tr>\n",
              "      <th>0</th>\n",
              "      <td>what are points on a mortgage?</td>\n",
              "      <td>context: [\"Discount points, also called mortgage points or simply points, are a form of pre-paid interest available in the United States when arranging a mortgage. One point equals one percent of the loan amount. By charging a borrower points, a lender effectively increases the yield on the loan above the amount of the stated interest rate.  Borrowers can offer to pay a lender points as a method to reduce the interest rate on the loan, thus obtaining a lower monthly payment in exchange for t...</td>\n",
              "      <td>Points on a mortgage, also known as discount points, are a form of pre-paid interest that borrowers can pay to lenders in order to reduce the interest rate on the loan. One point equals one percent of the loan amount. By paying points, borrowers can obtain a lower monthly payment in exchange for this upfront payment. Points can also be used to reduce the monthly payment for the purpose of qualifying for a loan based on monthly income. It is important to note that points are different from or...</td>\n",
              "      <td>Points, sometimes also called a 'discount point', are a form of pre-paid interest .</td>\n",
              "    </tr>\n",
              "  </tbody>\n",
              "</table>\n",
              "</div>\n",
              "    <div class=\"colab-df-buttons\">\n",
              "\n",
              "  <div class=\"colab-df-container\">\n",
              "    <button class=\"colab-df-convert\" onclick=\"convertToInteractive('df-b025588d-080d-4b5a-87cf-33d7919242a2')\"\n",
              "            title=\"Convert this dataframe to an interactive table.\"\n",
              "            style=\"display:none;\">\n",
              "\n",
              "  <svg xmlns=\"http://www.w3.org/2000/svg\" height=\"24px\" viewBox=\"0 -960 960 960\">\n",
              "    <path d=\"M120-120v-720h720v720H120Zm60-500h600v-160H180v160Zm220 220h160v-160H400v160Zm0 220h160v-160H400v160ZM180-400h160v-160H180v160Zm440 0h160v-160H620v160ZM180-180h160v-160H180v160Zm440 0h160v-160H620v160Z\"/>\n",
              "  </svg>\n",
              "    </button>\n",
              "\n",
              "  <style>\n",
              "    .colab-df-container {\n",
              "      display:flex;\n",
              "      gap: 12px;\n",
              "    }\n",
              "\n",
              "    .colab-df-convert {\n",
              "      background-color: #E8F0FE;\n",
              "      border: none;\n",
              "      border-radius: 50%;\n",
              "      cursor: pointer;\n",
              "      display: none;\n",
              "      fill: #1967D2;\n",
              "      height: 32px;\n",
              "      padding: 0 0 0 0;\n",
              "      width: 32px;\n",
              "    }\n",
              "\n",
              "    .colab-df-convert:hover {\n",
              "      background-color: #E2EBFA;\n",
              "      box-shadow: 0px 1px 2px rgba(60, 64, 67, 0.3), 0px 1px 3px 1px rgba(60, 64, 67, 0.15);\n",
              "      fill: #174EA6;\n",
              "    }\n",
              "\n",
              "    .colab-df-buttons div {\n",
              "      margin-bottom: 4px;\n",
              "    }\n",
              "\n",
              "    [theme=dark] .colab-df-convert {\n",
              "      background-color: #3B4455;\n",
              "      fill: #D2E3FC;\n",
              "    }\n",
              "\n",
              "    [theme=dark] .colab-df-convert:hover {\n",
              "      background-color: #434B5C;\n",
              "      box-shadow: 0px 1px 3px 1px rgba(0, 0, 0, 0.15);\n",
              "      filter: drop-shadow(0px 1px 2px rgba(0, 0, 0, 0.3));\n",
              "      fill: #FFFFFF;\n",
              "    }\n",
              "  </style>\n",
              "\n",
              "    <script>\n",
              "      const buttonEl =\n",
              "        document.querySelector('#df-b025588d-080d-4b5a-87cf-33d7919242a2 button.colab-df-convert');\n",
              "      buttonEl.style.display =\n",
              "        google.colab.kernel.accessAllowed ? 'block' : 'none';\n",
              "\n",
              "      async function convertToInteractive(key) {\n",
              "        const element = document.querySelector('#df-b025588d-080d-4b5a-87cf-33d7919242a2');\n",
              "        const dataTable =\n",
              "          await google.colab.kernel.invokeFunction('convertToInteractive',\n",
              "                                                    [key], {});\n",
              "        if (!dataTable) return;\n",
              "\n",
              "        const docLinkHtml = 'Like what you see? Visit the ' +\n",
              "          '<a target=\"_blank\" href=https://colab.research.google.com/notebooks/data_table.ipynb>data table notebook</a>'\n",
              "          + ' to learn more about interactive tables.';\n",
              "        element.innerHTML = '';\n",
              "        dataTable['output_type'] = 'display_data';\n",
              "        await google.colab.output.renderOutput(dataTable, element);\n",
              "        const docLink = document.createElement('div');\n",
              "        docLink.innerHTML = docLinkHtml;\n",
              "        element.appendChild(docLink);\n",
              "      }\n",
              "    </script>\n",
              "  </div>\n",
              "\n",
              "\n",
              "  <div id=\"id_a569c22e-47fe-4e61-8e8e-c92f1ddd0faa\">\n",
              "    <style>\n",
              "      .colab-df-generate {\n",
              "        background-color: #E8F0FE;\n",
              "        border: none;\n",
              "        border-radius: 50%;\n",
              "        cursor: pointer;\n",
              "        display: none;\n",
              "        fill: #1967D2;\n",
              "        height: 32px;\n",
              "        padding: 0 0 0 0;\n",
              "        width: 32px;\n",
              "      }\n",
              "\n",
              "      .colab-df-generate:hover {\n",
              "        background-color: #E2EBFA;\n",
              "        box-shadow: 0px 1px 2px rgba(60, 64, 67, 0.3), 0px 1px 3px 1px rgba(60, 64, 67, 0.15);\n",
              "        fill: #174EA6;\n",
              "      }\n",
              "\n",
              "      [theme=dark] .colab-df-generate {\n",
              "        background-color: #3B4455;\n",
              "        fill: #D2E3FC;\n",
              "      }\n",
              "\n",
              "      [theme=dark] .colab-df-generate:hover {\n",
              "        background-color: #434B5C;\n",
              "        box-shadow: 0px 1px 3px 1px rgba(0, 0, 0, 0.15);\n",
              "        filter: drop-shadow(0px 1px 2px rgba(0, 0, 0, 0.3));\n",
              "        fill: #FFFFFF;\n",
              "      }\n",
              "    </style>\n",
              "    <button class=\"colab-df-generate\" onclick=\"generateWithVariable('df')\"\n",
              "            title=\"Generate code using this dataframe.\"\n",
              "            style=\"display:none;\">\n",
              "\n",
              "  <svg xmlns=\"http://www.w3.org/2000/svg\" height=\"24px\"viewBox=\"0 0 24 24\"\n",
              "       width=\"24px\">\n",
              "    <path d=\"M7,19H8.4L18.45,9,17,7.55,7,17.6ZM5,21V16.75L18.45,3.32a2,2,0,0,1,2.83,0l1.4,1.43a1.91,1.91,0,0,1,.58,1.4,1.91,1.91,0,0,1-.58,1.4L9.25,21ZM18.45,9,17,7.55Zm-12,3A5.31,5.31,0,0,0,4.9,8.1,5.31,5.31,0,0,0,1,6.5,5.31,5.31,0,0,0,4.9,4.9,5.31,5.31,0,0,0,6.5,1,5.31,5.31,0,0,0,8.1,4.9,5.31,5.31,0,0,0,12,6.5,5.46,5.46,0,0,0,6.5,12Z\"/>\n",
              "  </svg>\n",
              "    </button>\n",
              "    <script>\n",
              "      (() => {\n",
              "      const buttonEl =\n",
              "        document.querySelector('#id_a569c22e-47fe-4e61-8e8e-c92f1ddd0faa button.colab-df-generate');\n",
              "      buttonEl.style.display =\n",
              "        google.colab.kernel.accessAllowed ? 'block' : 'none';\n",
              "\n",
              "      buttonEl.onclick = () => {\n",
              "        google.colab.notebook.generateWithVariable('df');\n",
              "      }\n",
              "      })();\n",
              "    </script>\n",
              "  </div>\n",
              "\n",
              "    </div>\n",
              "  </div>\n"
            ],
            "application/vnd.google.colaboratory.intrinsic+json": {
              "type": "dataframe",
              "variable_name": "df",
              "summary": "{\n  \"name\": \"df\",\n  \"rows\": 1,\n  \"fields\": [\n    {\n      \"column\": \"query\",\n      \"properties\": {\n        \"dtype\": \"string\",\n        \"num_unique_values\": 1,\n        \"samples\": [\n          \"what are points on a mortgage?\"\n        ],\n        \"semantic_type\": \"\",\n        \"description\": \"\"\n      }\n    },\n    {\n      \"column\": \"context\",\n      \"properties\": {\n        \"dtype\": \"string\",\n        \"num_unique_values\": 1,\n        \"samples\": [\n          \"context: [\\\"Discount points, also called mortgage points or simply points, are a form of pre-paid interest available in the United States when arranging a mortgage. One point equals one percent of the loan amount. By charging a borrower points, a lender effectively increases the yield on the loan above the amount of the stated interest rate.  Borrowers can offer to pay a lender points as a method to reduce the interest rate on the loan, thus obtaining a lower monthly payment in exchange for this\\npoints is the concept of the 'no closing cost loan', in which the consumer accepts a higher interest rate in return for the lender paying the loan's closing costs up front.  In some cases a purchaser can negotiate with the seller to get them to pay seller's points which can be used to pay mortgage points.\\\\n\\\\n\\\\n== References ==\\\\n\\\\n\\\\n== External links ==\\\\nirs.gov/publications/p936 \\u2013 IRS Form 936 defines a point for the purpose of deducting mortgage interest for U.S. income taxes\\\"\\nup-front payment. For each point purchased, the loan rate is typically reduced by anywhere from 1/8% (0.125%) to 1/4% (0.25%).Selling the property or refinancing prior to this break-even point will result in a net financial loss for the buyer while keeping the loan for longer than this break-even point will result in a net financial savings for the buyer. Accordingly, if the intention is to buy and sell the property or refinance, paying points will cost more than just paying the higher interest\\nrate.Points may also be purchased to reduce the monthly payment for the purpose of qualifying for a loan.  Loan qualification based on monthly income versus the monthly loan payment may sometimes only be achievable by reducing the monthly payment through the purchasing of points to buy down the interest rate, thereby reducing the monthly loan payment.\\\\nDiscount points may be different from origination fee, mortgage arrangement fee or broker fee. Discount points are always used to buy down the\"\n        ],\n        \"semantic_type\": \"\",\n        \"description\": \"\"\n      }\n    },\n    {\n      \"column\": \"response\",\n      \"properties\": {\n        \"dtype\": \"string\",\n        \"num_unique_values\": 1,\n        \"samples\": [\n          \"Points on a mortgage, also known as discount points, are a form of pre-paid interest that borrowers can pay to lenders in order to reduce the interest rate on the loan. One point equals one percent of the loan amount. By paying points, borrowers can obtain a lower monthly payment in exchange for this upfront payment. Points can also be used to reduce the monthly payment for the purpose of qualifying for a loan based on monthly income. It is important to note that points are different from origination fees, mortgage arrangement fees, or broker fees.\"\n        ],\n        \"semantic_type\": \"\",\n        \"description\": \"\"\n      }\n    },\n    {\n      \"column\": \"expected_response\",\n      \"properties\": {\n        \"dtype\": \"string\",\n        \"num_unique_values\": 1,\n        \"samples\": [\n          \"Points, sometimes also called a 'discount point', are a form of pre-paid interest .\"\n        ],\n        \"semantic_type\": \"\",\n        \"description\": \"\"\n      }\n    }\n  ]\n}"
            }
          },
          "metadata": {},
          "execution_count": 28
        }
      ]
    },
    {
      "cell_type": "code",
      "source": [
        "# Convert to dictionary\n",
        "df_dict = df.to_dict(orient='records')\n",
        "\n",
        "# Convert context to list\n",
        "for record in df_dict:\n",
        "    if not isinstance(record.get('context'), list):\n",
        "        if record.get('context') is None:\n",
        "            record['context'] = []\n",
        "        else:\n",
        "            record['context'] = [record['context']]"
      ],
      "metadata": {
        "id": "lnTZAxQlNfYu"
      },
      "execution_count": null,
      "outputs": []
    },
    {
      "cell_type": "markdown",
      "source": [
        "## **Evaluation in Athina AI**\n",
        "\n",
        "We will use **Context Precision** eval here. It Evaluates whether all of the ground-truth relevant items present in the contexts are ranked higher or not. Please refer to our [documentation](https://docs.athina.ai/api-reference/evals/preset-evals/overview) for further details."
      ],
      "metadata": {
        "id": "X_2BgxnBNjWy"
      }
    },
    {
      "cell_type": "code",
      "source": [
        "# set api keys for Athina evals\n",
        "from athina.keys import AthinaApiKey, OpenAiApiKey\n",
        "OpenAiApiKey.set_key(os.getenv('OPENAI_API_KEY'))\n",
        "AthinaApiKey.set_key(os.getenv('ATHINA_API_KEY'))"
      ],
      "metadata": {
        "id": "gd4vFX0GNmiT"
      },
      "execution_count": null,
      "outputs": []
    },
    {
      "cell_type": "code",
      "source": [
        "# load dataset\n",
        "from athina.loaders import Loader\n",
        "dataset = Loader().load_dict(df_dict)"
      ],
      "metadata": {
        "id": "DC-EGzgj3Odm"
      },
      "execution_count": null,
      "outputs": []
    },
    {
      "cell_type": "code",
      "source": [
        "# evaluate\n",
        "from athina.evals import RagasContextPrecision\n",
        "RagasContextPrecision(model=\"gpt-4o\").run_batch(data=dataset).to_df()"
      ],
      "metadata": {
        "id": "LIygZMZ53MNc",
        "colab": {
          "base_uri": "https://localhost:8080/",
          "height": 497
        },
        "outputId": "87e653b1-7176-4bac-a371-50904b82e506"
      },
      "execution_count": null,
      "outputs": [
        {
          "output_type": "stream",
          "name": "stdout",
          "text": [
            "evaluating with [context_precision]\n"
          ]
        },
        {
          "output_type": "stream",
          "name": "stderr",
          "text": [
            "100%|██████████| 1/1 [00:01<00:00,  1.28s/it]\n"
          ]
        },
        {
          "output_type": "stream",
          "name": "stdout",
          "text": [
            "You can view your dataset at: https://app.athina.ai/develop/2c0c4475-a30e-4d2c-92f9-c57f494ba947\n"
          ]
        },
        {
          "output_type": "execute_result",
          "data": {
            "text/plain": [
              "                            query  \\\n",
              "0  what are points on a mortgage?   \n",
              "\n",
              "                                                                                                                                                                                                                                                                                                                                                                                                                                                                                                               context  \\\n",
              "0  [context: [\"Discount points, also called mortgage points or simply points, are a form of pre-paid interest available in the United States when arranging a mortgage. One point equals one percent of the loan amount. By charging a borrower points, a lender effectively increases the yield on the loan above the amount of the stated interest rate.  Borrowers can offer to pay a lender points as a method to reduce the interest rate on the loan, thus obtaining a lower monthly payment in exchange for ...   \n",
              "\n",
              "                                                                                                                                                                                                                                                                                                                                                                                                                                                                                                              response  \\\n",
              "0  Points on a mortgage, also known as discount points, are a form of pre-paid interest that borrowers can pay to lenders in order to reduce the interest rate on the loan. One point equals one percent of the loan amount. By paying points, borrowers can obtain a lower monthly payment in exchange for this upfront payment. Points can also be used to reduce the monthly payment for the purpose of qualifying for a loan based on monthly income. It is important to note that points are different from or...   \n",
              "\n",
              "                                                                     expected_response  \\\n",
              "0  Points, sometimes also called a 'discount point', are a form of pre-paid interest .   \n",
              "\n",
              "              display_name failed  \\\n",
              "0  Ragas Context Precision   None   \n",
              "\n",
              "                                                                                                                                                                         grade_reason  \\\n",
              "0  This metric evaluates whether all of the ground-truth relevant items present in the context are ranked higher or not. Ideally all the relevant chunks must appear at the top ranks   \n",
              "\n",
              "   runtime   model  ragas_context_precision  \n",
              "0     1674  gpt-4o                      1.0  "
            ],
            "text/html": [
              "\n",
              "  <div id=\"df-2e9bc878-68de-4dde-a0c3-575d75b95e7b\" class=\"colab-df-container\">\n",
              "    <div>\n",
              "<style scoped>\n",
              "    .dataframe tbody tr th:only-of-type {\n",
              "        vertical-align: middle;\n",
              "    }\n",
              "\n",
              "    .dataframe tbody tr th {\n",
              "        vertical-align: top;\n",
              "    }\n",
              "\n",
              "    .dataframe thead th {\n",
              "        text-align: right;\n",
              "    }\n",
              "</style>\n",
              "<table border=\"1\" class=\"dataframe\">\n",
              "  <thead>\n",
              "    <tr style=\"text-align: right;\">\n",
              "      <th></th>\n",
              "      <th>query</th>\n",
              "      <th>context</th>\n",
              "      <th>response</th>\n",
              "      <th>expected_response</th>\n",
              "      <th>display_name</th>\n",
              "      <th>failed</th>\n",
              "      <th>grade_reason</th>\n",
              "      <th>runtime</th>\n",
              "      <th>model</th>\n",
              "      <th>ragas_context_precision</th>\n",
              "    </tr>\n",
              "  </thead>\n",
              "  <tbody>\n",
              "    <tr>\n",
              "      <th>0</th>\n",
              "      <td>what are points on a mortgage?</td>\n",
              "      <td>[context: [\"Discount points, also called mortgage points or simply points, are a form of pre-paid interest available in the United States when arranging a mortgage. One point equals one percent of the loan amount. By charging a borrower points, a lender effectively increases the yield on the loan above the amount of the stated interest rate.  Borrowers can offer to pay a lender points as a method to reduce the interest rate on the loan, thus obtaining a lower monthly payment in exchange for ...</td>\n",
              "      <td>Points on a mortgage, also known as discount points, are a form of pre-paid interest that borrowers can pay to lenders in order to reduce the interest rate on the loan. One point equals one percent of the loan amount. By paying points, borrowers can obtain a lower monthly payment in exchange for this upfront payment. Points can also be used to reduce the monthly payment for the purpose of qualifying for a loan based on monthly income. It is important to note that points are different from or...</td>\n",
              "      <td>Points, sometimes also called a 'discount point', are a form of pre-paid interest .</td>\n",
              "      <td>Ragas Context Precision</td>\n",
              "      <td>None</td>\n",
              "      <td>This metric evaluates whether all of the ground-truth relevant items present in the context are ranked higher or not. Ideally all the relevant chunks must appear at the top ranks</td>\n",
              "      <td>1674</td>\n",
              "      <td>gpt-4o</td>\n",
              "      <td>1.0</td>\n",
              "    </tr>\n",
              "  </tbody>\n",
              "</table>\n",
              "</div>\n",
              "    <div class=\"colab-df-buttons\">\n",
              "\n",
              "  <div class=\"colab-df-container\">\n",
              "    <button class=\"colab-df-convert\" onclick=\"convertToInteractive('df-2e9bc878-68de-4dde-a0c3-575d75b95e7b')\"\n",
              "            title=\"Convert this dataframe to an interactive table.\"\n",
              "            style=\"display:none;\">\n",
              "\n",
              "  <svg xmlns=\"http://www.w3.org/2000/svg\" height=\"24px\" viewBox=\"0 -960 960 960\">\n",
              "    <path d=\"M120-120v-720h720v720H120Zm60-500h600v-160H180v160Zm220 220h160v-160H400v160Zm0 220h160v-160H400v160ZM180-400h160v-160H180v160Zm440 0h160v-160H620v160ZM180-180h160v-160H180v160Zm440 0h160v-160H620v160Z\"/>\n",
              "  </svg>\n",
              "    </button>\n",
              "\n",
              "  <style>\n",
              "    .colab-df-container {\n",
              "      display:flex;\n",
              "      gap: 12px;\n",
              "    }\n",
              "\n",
              "    .colab-df-convert {\n",
              "      background-color: #E8F0FE;\n",
              "      border: none;\n",
              "      border-radius: 50%;\n",
              "      cursor: pointer;\n",
              "      display: none;\n",
              "      fill: #1967D2;\n",
              "      height: 32px;\n",
              "      padding: 0 0 0 0;\n",
              "      width: 32px;\n",
              "    }\n",
              "\n",
              "    .colab-df-convert:hover {\n",
              "      background-color: #E2EBFA;\n",
              "      box-shadow: 0px 1px 2px rgba(60, 64, 67, 0.3), 0px 1px 3px 1px rgba(60, 64, 67, 0.15);\n",
              "      fill: #174EA6;\n",
              "    }\n",
              "\n",
              "    .colab-df-buttons div {\n",
              "      margin-bottom: 4px;\n",
              "    }\n",
              "\n",
              "    [theme=dark] .colab-df-convert {\n",
              "      background-color: #3B4455;\n",
              "      fill: #D2E3FC;\n",
              "    }\n",
              "\n",
              "    [theme=dark] .colab-df-convert:hover {\n",
              "      background-color: #434B5C;\n",
              "      box-shadow: 0px 1px 3px 1px rgba(0, 0, 0, 0.15);\n",
              "      filter: drop-shadow(0px 1px 2px rgba(0, 0, 0, 0.3));\n",
              "      fill: #FFFFFF;\n",
              "    }\n",
              "  </style>\n",
              "\n",
              "    <script>\n",
              "      const buttonEl =\n",
              "        document.querySelector('#df-2e9bc878-68de-4dde-a0c3-575d75b95e7b button.colab-df-convert');\n",
              "      buttonEl.style.display =\n",
              "        google.colab.kernel.accessAllowed ? 'block' : 'none';\n",
              "\n",
              "      async function convertToInteractive(key) {\n",
              "        const element = document.querySelector('#df-2e9bc878-68de-4dde-a0c3-575d75b95e7b');\n",
              "        const dataTable =\n",
              "          await google.colab.kernel.invokeFunction('convertToInteractive',\n",
              "                                                    [key], {});\n",
              "        if (!dataTable) return;\n",
              "\n",
              "        const docLinkHtml = 'Like what you see? Visit the ' +\n",
              "          '<a target=\"_blank\" href=https://colab.research.google.com/notebooks/data_table.ipynb>data table notebook</a>'\n",
              "          + ' to learn more about interactive tables.';\n",
              "        element.innerHTML = '';\n",
              "        dataTable['output_type'] = 'display_data';\n",
              "        await google.colab.output.renderOutput(dataTable, element);\n",
              "        const docLink = document.createElement('div');\n",
              "        docLink.innerHTML = docLinkHtml;\n",
              "        element.appendChild(docLink);\n",
              "      }\n",
              "    </script>\n",
              "  </div>\n",
              "\n",
              "\n",
              "    </div>\n",
              "  </div>\n"
            ],
            "application/vnd.google.colaboratory.intrinsic+json": {
              "type": "dataframe",
              "repr_error": "Out of range float values are not JSON compliant: nan"
            }
          },
          "metadata": {},
          "execution_count": 27
        }
      ]
    },
    {
      "cell_type": "markdown",
      "source": [
        "![corrective.png](data:image/png;base64,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)"
      ],
      "metadata": {
        "id": "uN_ljktfK7VG"
      }
    }
  ]
}
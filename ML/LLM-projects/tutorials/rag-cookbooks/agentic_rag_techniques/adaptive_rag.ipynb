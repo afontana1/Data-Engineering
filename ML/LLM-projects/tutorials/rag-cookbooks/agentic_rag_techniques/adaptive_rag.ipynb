{
  "nbformat": 4,
  "nbformat_minor": 0,
  "metadata": {
    "colab": {
      "provenance": []
    },
    "kernelspec": {
      "name": "python3",
      "display_name": "Python 3"
    },
    "language_info": {
      "name": "python"
    }
  },
  "cells": [
    {
      "cell_type": "markdown",
      "source": [
        "# **Adaptive RAG**\n",
        "Adaptive Retrieval-Augmented Generation (RAG) is a smart approach that adjusts how information is retrieved and used based on the complexity of a query. Instead of treating all queries the same way, Adaptive RAG chooses the best strategy for each query type.\n",
        "\n",
        "In our case, system analyzes the query and decides the best way to handle it:\n",
        "\n",
        "**Self-corrective RAG:** For questions that can be answered using the indexed data.\n",
        "\n",
        "**Web Search:** For questions that require information not present in the index.\n",
        "\n",
        "Research Paper: [Adaptive RAG](https://arxiv.org/pdf/2403.14403)"
      ],
      "metadata": {
        "id": "yBG5q1VlPYMk"
      }
    },
    {
      "cell_type": "markdown",
      "source": [
        "## **Initial Setup**"
      ],
      "metadata": {
        "id": "_N--dPv3Qz3L"
      }
    },
    {
      "cell_type": "code",
      "execution_count": null,
      "metadata": {
        "id": "UEwv4s_ApMPM"
      },
      "outputs": [],
      "source": [
        "! pip install --q athina faiss-gpu langgraph"
      ]
    },
    {
      "cell_type": "code",
      "source": [
        "# set API keys\n",
        "import os\n",
        "from google.colab import userdata\n",
        "os.environ[\"OPENAI_API_KEY\"] = userdata.get('OPENAI_API_KEY')\n",
        "os.environ[\"TAVILY_API_KEY\"] = userdata.get('TAVILY_API_KEY')\n",
        "os.environ['ATHINA_API_KEY'] = userdata.get('ATHINA_API_KEY')"
      ],
      "metadata": {
        "id": "cyMBUpkzwII-"
      },
      "execution_count": null,
      "outputs": []
    },
    {
      "cell_type": "markdown",
      "source": [
        "## **Indexing**"
      ],
      "metadata": {
        "id": "7VB05ui3SeoQ"
      }
    },
    {
      "cell_type": "code",
      "source": [
        "# load embedding model\n",
        "from langchain_openai import OpenAIEmbeddings\n",
        "embeddings = OpenAIEmbeddings()"
      ],
      "metadata": {
        "id": "rpfSXcV8wW6F"
      },
      "execution_count": null,
      "outputs": []
    },
    {
      "cell_type": "code",
      "source": [
        "# load data\n",
        "from langchain.document_loaders import CSVLoader\n",
        "loader = CSVLoader(\"./context.csv\")\n",
        "documents = loader.load()"
      ],
      "metadata": {
        "id": "W1z59llHwYwn"
      },
      "execution_count": null,
      "outputs": []
    },
    {
      "cell_type": "code",
      "source": [
        "# split documents\n",
        "from langchain.text_splitter import RecursiveCharacterTextSplitter\n",
        "text_splitter = RecursiveCharacterTextSplitter(chunk_size=500, chunk_overlap=0)\n",
        "documents = text_splitter.split_documents(documents)"
      ],
      "metadata": {
        "id": "nxhl7_K2wed0"
      },
      "execution_count": null,
      "outputs": []
    },
    {
      "cell_type": "code",
      "source": [
        "# create vectorstore\n",
        "from langchain.vectorstores import FAISS\n",
        "vectorstore = FAISS.from_documents(documents, embeddings)"
      ],
      "metadata": {
        "id": "Nx3euIviwgxs"
      },
      "execution_count": null,
      "outputs": []
    },
    {
      "cell_type": "markdown",
      "source": [
        "## **Retriever**"
      ],
      "metadata": {
        "id": "jH3CkEuWTNhn"
      }
    },
    {
      "cell_type": "code",
      "source": [
        "# create retriever\n",
        "retriever = vectorstore.as_retriever()"
      ],
      "metadata": {
        "id": "wXxm05JBwi3v"
      },
      "execution_count": null,
      "outputs": []
    },
    {
      "cell_type": "markdown",
      "source": [
        "## **Question Router**\n",
        "The question router determines whether a query should be answered using our internal index or through a web search.\n",
        "\n",
        "Please change the prompt based on your topics"
      ],
      "metadata": {
        "id": "Ar5EApjmS_7i"
      }
    },
    {
      "cell_type": "code",
      "source": [
        "# create question router\n",
        "\n",
        "from typing import Literal\n",
        "from langchain_core.prompts import ChatPromptTemplate\n",
        "from langchain_core.pydantic_v1 import BaseModel, Field\n",
        "from langchain_openai import ChatOpenAI\n",
        "\n",
        "\n",
        "# define a data class\n",
        "class RouteQuery(BaseModel):\n",
        "    \"\"\"Route a user query to the most relevant datasource.\"\"\"\n",
        "\n",
        "    datasource: Literal[\"vectorstore\", \"web_search\"] = Field(\n",
        "        ...,\n",
        "        description=\"Given a user question choose to route it to web search or a vectorstore.\",\n",
        "    )\n",
        "\n",
        "\n",
        "# LLM with function call\n",
        "llm = ChatOpenAI(temperature=0)\n",
        "structured_llm_router = llm.with_structured_output(RouteQuery)\n",
        "\n",
        "# Prompt (add only topics that are present in you vectorstore)\n",
        "system = \"\"\"You are an expert at routing a user question to either a vectorstore or web search.\n",
        "The vectorstore contains information on the following topics:\n",
        "- Finance and real estate\n",
        "- Library and research topics\n",
        "- Biology and microbiology\n",
        "- Literature and writing\n",
        "- Movies and entertainment\n",
        "- Animals and nature\n",
        "- History and geography\n",
        "- Astronomy\n",
        "\n",
        "If the question is related to these topics, route it to the vectorstore. Otherwise, use web search.\"\"\"\n",
        "route_prompt = ChatPromptTemplate.from_messages(\n",
        "    [\n",
        "        (\"system\", system),\n",
        "        (\"human\", \"{question}\"),\n",
        "    ]\n",
        ")\n",
        "\n",
        "question_router = route_prompt | structured_llm_router"
      ],
      "metadata": {
        "id": "6b-3iM8zw3Sh"
      },
      "execution_count": null,
      "outputs": []
    },
    {
      "cell_type": "code",
      "source": [
        "question_router.invoke({\"question\": \"how does interlibrary loan work?\"})"
      ],
      "metadata": {
        "colab": {
          "base_uri": "https://localhost:8080/"
        },
        "id": "4Oj50WltygLX",
        "outputId": "c649ba1a-c22b-46e7-8cbb-4e09ae5e4c4d"
      },
      "execution_count": null,
      "outputs": [
        {
          "output_type": "execute_result",
          "data": {
            "text/plain": [
              "RouteQuery(datasource='vectorstore')"
            ]
          },
          "metadata": {},
          "execution_count": 11
        }
      ]
    },
    {
      "cell_type": "code",
      "source": [
        "question_router.invoke({\"question\": \"What is RAG?\"})"
      ],
      "metadata": {
        "colab": {
          "base_uri": "https://localhost:8080/"
        },
        "id": "IyEhloce0I1e",
        "outputId": "d8f0d73d-635b-4633-d45c-676c4061d2f2"
      },
      "execution_count": null,
      "outputs": [
        {
          "output_type": "execute_result",
          "data": {
            "text/plain": [
              "RouteQuery(datasource='web_search')"
            ]
          },
          "metadata": {},
          "execution_count": 12
        }
      ]
    },
    {
      "cell_type": "markdown",
      "source": [
        "## **Document Grader**\n",
        "The document grader evaluates whether a document is relevant to the given query."
      ],
      "metadata": {
        "id": "0FXBmV9pTkoP"
      }
    },
    {
      "cell_type": "code",
      "source": [
        "# create grader for doc retriever\n",
        "from langchain_core.prompts import ChatPromptTemplate\n",
        "from langchain_core.pydantic_v1 import BaseModel, Field\n",
        "from langchain_openai import ChatOpenAI\n",
        "\n",
        "# define a data class\n",
        "class GradeDocuments(BaseModel):\n",
        "    binary_score: str = Field(\n",
        "        description=\"Documents are relevant to the question, 'yes' or 'no'\"\n",
        "    )\n",
        "\n",
        "# LLM with function call\n",
        "llm = ChatOpenAI(temperature=0)\n",
        "structured_llm_grader = llm.with_structured_output(GradeDocuments)\n",
        "\n",
        "# Prompt for the grader\n",
        "system = \"\"\"You are a grader assessing relevance of a retrieved document to a user question. \\n\n",
        "    If the document contains keyword(s) or semantic meaning related to the question, grade it as relevant. \\n\n",
        "    Give a binary score 'yes' or 'no' score to indicate whether the document is relevant to the question.\"\"\"\n",
        "grade_prompt = ChatPromptTemplate.from_messages(\n",
        "    [\n",
        "        (\"system\", system),\n",
        "        (\"human\", \"Retrieved document: \\n\\n {document} \\n\\n User question: {question}\"),\n",
        "    ]\n",
        ")\n",
        "\n",
        "retrieval_grader = grade_prompt | structured_llm_grader"
      ],
      "metadata": {
        "id": "RxCdVNUQ0ZqB"
      },
      "execution_count": null,
      "outputs": []
    },
    {
      "cell_type": "code",
      "source": [
        "# testing grader example 1\n",
        "question = \"how does interlibrary loan work\"\n",
        "docs = retriever.get_relevant_documents(question)\n",
        "print(retrieval_grader.invoke({\"question\": question, \"document\": docs}))"
      ],
      "metadata": {
        "colab": {
          "base_uri": "https://localhost:8080/"
        },
        "id": "3T6eCGDZ0cCK",
        "outputId": "7430a2c6-d6f2-4e26-ed8a-598f9911f003"
      },
      "execution_count": null,
      "outputs": [
        {
          "output_type": "stream",
          "name": "stderr",
          "text": [
            "/usr/local/lib/python3.10/dist-packages/langchain_core/_api/deprecation.py:119: LangChainDeprecationWarning: The method `BaseRetriever.get_relevant_documents` was deprecated in langchain-core 0.1.46 and will be removed in 0.3.0. Use invoke instead.\n",
            "  warn_deprecated(\n"
          ]
        },
        {
          "output_type": "stream",
          "name": "stdout",
          "text": [
            "binary_score='yes'\n"
          ]
        }
      ]
    },
    {
      "cell_type": "code",
      "source": [
        "# # testing grader example 2\n",
        "# question = \"What is RAG?\"\n",
        "# docs = retriever.get_relevant_documents(question)\n",
        "# print(retrieval_grader.invoke({\"question\": question, \"document\": docs}))"
      ],
      "metadata": {
        "id": "IvAKg34jUobu"
      },
      "execution_count": null,
      "outputs": []
    },
    {
      "cell_type": "markdown",
      "source": [
        "## **RAG Chain**"
      ],
      "metadata": {
        "id": "qL-MGdNGVBRV"
      }
    },
    {
      "cell_type": "code",
      "source": [
        "# create document chain\n",
        "from langchain import hub\n",
        "from langchain_core.output_parsers import StrOutputParser\n",
        "from langchain.prompts import ChatPromptTemplate\n",
        "\n",
        "template = \"\"\"\"\n",
        "You are a helpful assistant that answers questions based on the following context.\n",
        "Use the provided context to answer the question.\n",
        "Context: {context}\n",
        "Question: {question}\n",
        "Answer:\n",
        "\n",
        "\"\"\"\n",
        "\n",
        "prompt = ChatPromptTemplate.from_template(template)\n",
        "llm = ChatOpenAI(temperature=0)\n",
        "\n",
        "def format_docs(docs):\n",
        "    return \"\\n\\n\".join(doc.page_content for doc in docs)\n",
        "\n",
        "\n",
        "rag_chain = prompt | llm | StrOutputParser()"
      ],
      "metadata": {
        "id": "Z7ensSY41KNY"
      },
      "execution_count": null,
      "outputs": []
    },
    {
      "cell_type": "code",
      "source": [
        "# response\n",
        "generation = rag_chain.invoke({\"context\": docs, \"question\": question})\n",
        "generation"
      ],
      "metadata": {
        "colab": {
          "base_uri": "https://localhost:8080/",
          "height": 105
        },
        "id": "CelkRXJj1Mjx",
        "outputId": "135037a1-9238-413a-d8f2-e9992fd21dd3"
      },
      "execution_count": null,
      "outputs": [
        {
          "output_type": "execute_result",
          "data": {
            "text/plain": [
              "'Interlibrary loan works by allowing patrons of one library to borrow physical materials or receive electronic documents from another library that holds the desired item. The borrowing library identifies potential lending libraries, which then deliver the item either physically or electronically. The borrowing library receives the item, delivers it to their patron, and arranges for its return if necessary. Fees may accompany interlibrary loan services, and requests can be managed through semi-automated or manual systems. Libraries negotiate for interlibrary loan eligibility, and with the increasing demand for digital materials, libraries are exploring the legal, technical, and licensing aspects of lending and borrowing ebooks through interlibrary loan.'"
            ],
            "application/vnd.google.colaboratory.intrinsic+json": {
              "type": "string"
            }
          },
          "metadata": {},
          "execution_count": 17
        }
      ]
    },
    {
      "cell_type": "markdown",
      "source": [
        "## **Hallucination Grader**\n",
        "The hallucination grader checks whether the answer is grounded in or supported by the given set of facts"
      ],
      "metadata": {
        "id": "RauainozVsks"
      }
    },
    {
      "cell_type": "code",
      "source": [
        "# create grader for hallucination\n",
        "# define a data class\n",
        "class GradeHallucinations(BaseModel):\n",
        "    \"\"\"Binary score for hallucination present in generation answer.\"\"\"\n",
        "\n",
        "    binary_score: str = Field(\n",
        "        description=\"Answer is grounded in the facts, 'yes' or 'no'\"\n",
        "    )\n",
        "\n",
        "\n",
        "# LLM with function call\n",
        "llm = ChatOpenAI(model=\"gpt-3.5-turbo-0125\", temperature=0)\n",
        "structured_llm_grader = llm.with_structured_output(GradeHallucinations)\n",
        "\n",
        "# prompt for the grader\n",
        "system = \"\"\"You are a grader assessing whether an LLM generation is grounded in / supported by a set of retrieved facts. \\n\n",
        "     Give a binary score 'yes' or 'no'. 'Yes' means that the answer is grounded in / supported by the set of facts.\"\"\"\n",
        "hallucination_prompt = ChatPromptTemplate.from_messages(\n",
        "    [\n",
        "        (\"system\", system),\n",
        "        (\"human\", \"Set of facts: \\n\\n {documents} \\n\\n LLM generation: {generation}\"),\n",
        "    ]\n",
        ")\n",
        "\n",
        "hallucination_grader = hallucination_prompt | structured_llm_grader\n",
        "hallucination_grader.invoke({\"documents\": docs, \"generation\": generation})"
      ],
      "metadata": {
        "colab": {
          "base_uri": "https://localhost:8080/"
        },
        "id": "IQooXxa21QS7",
        "outputId": "b089e4f8-04c1-43de-8bfa-0469cbf14e42"
      },
      "execution_count": null,
      "outputs": [
        {
          "output_type": "execute_result",
          "data": {
            "text/plain": [
              "GradeHallucinations(binary_score='yes')"
            ]
          },
          "metadata": {},
          "execution_count": 18
        }
      ]
    },
    {
      "cell_type": "markdown",
      "source": [
        "## **Answer Grader**\n",
        "The answer grader evaluates whether an answer effectively addresses the given question."
      ],
      "metadata": {
        "id": "SGrdVm7PWpo3"
      }
    },
    {
      "cell_type": "code",
      "source": [
        "# create grader for answer\n",
        "# define a data class\n",
        "class GradeAnswer(BaseModel):\n",
        "    \"\"\"Binary score to assess answer addresses question.\"\"\"\n",
        "\n",
        "    binary_score: str = Field(\n",
        "        description=\"Answer addresses the question, 'yes' or 'no'\"\n",
        "    )\n",
        "\n",
        "\n",
        "# LLM with function call\n",
        "llm = ChatOpenAI(model=\"gpt-3.5-turbo-0125\", temperature=0)\n",
        "structured_llm_grader = llm.with_structured_output(GradeAnswer)\n",
        "\n",
        "# prompt for the grader\n",
        "system = \"\"\"You are a grader assessing whether an answer addresses / resolves a question \\n\n",
        "     Give a binary score 'yes' or 'no'. Yes' means that the answer resolves the question.\"\"\"\n",
        "answer_prompt = ChatPromptTemplate.from_messages(\n",
        "    [\n",
        "        (\"system\", system),\n",
        "        (\"human\", \"User question: \\n\\n {question} \\n\\n LLM generation: {generation}\"),\n",
        "    ]\n",
        ")\n",
        "\n",
        "answer_grader = answer_prompt | structured_llm_grader\n",
        "answer_grader.invoke({\"question\": question, \"generation\": generation})"
      ],
      "metadata": {
        "colab": {
          "base_uri": "https://localhost:8080/"
        },
        "id": "TE6G2fUr1SqG",
        "outputId": "08954708-1a54-42db-e801-6ba5594c011c"
      },
      "execution_count": null,
      "outputs": [
        {
          "output_type": "execute_result",
          "data": {
            "text/plain": [
              "GradeAnswer(binary_score='yes')"
            ]
          },
          "metadata": {},
          "execution_count": 19
        }
      ]
    },
    {
      "cell_type": "markdown",
      "source": [
        "## **Web Search**"
      ],
      "metadata": {
        "id": "dPZShXJBW7an"
      }
    },
    {
      "cell_type": "code",
      "source": [
        "# define web search\n",
        "from langchain_community.tools.tavily_search import TavilySearchResults\n",
        "web_search_tool = TavilySearchResults(k=3)"
      ],
      "metadata": {
        "id": "PqmibD231WH8"
      },
      "execution_count": null,
      "outputs": []
    },
    {
      "cell_type": "markdown",
      "source": [
        "## **Create Graph**"
      ],
      "metadata": {
        "id": "jG4ifXapXIsq"
      }
    },
    {
      "cell_type": "markdown",
      "source": [
        "### **Define Graph State**"
      ],
      "metadata": {
        "id": "6orlhNYWXNwg"
      }
    },
    {
      "cell_type": "code",
      "source": [
        "# define a data class for state\n",
        "from typing import List\n",
        "from typing_extensions import TypedDict\n",
        "\n",
        "class GraphState(TypedDict):\n",
        "    question: str\n",
        "    generation: str\n",
        "    documents: List[str]"
      ],
      "metadata": {
        "id": "jGi0YHC21eMs"
      },
      "execution_count": null,
      "outputs": []
    },
    {
      "cell_type": "code",
      "source": [
        "# define graph steps\n",
        "from langchain.schema import Document\n",
        "\n",
        "# all nodes\n",
        "def retrieve(state):\n",
        "\n",
        "    print(\"---RETRIEVE---\")\n",
        "    question = state[\"question\"]\n",
        "\n",
        "    # Retrieval\n",
        "    documents = retriever.invoke(question)\n",
        "    return {\"documents\": documents, \"question\": question}\n",
        "\n",
        "\n",
        "def generate(state):\n",
        "\n",
        "    print(\"---GENERATE---\")\n",
        "    question = state[\"question\"]\n",
        "    documents = state[\"documents\"]\n",
        "\n",
        "    # RAG generation\n",
        "    generation = rag_chain.invoke({\"context\": documents, \"question\": question})\n",
        "    return {\"documents\": documents, \"question\": question, \"generation\": generation}\n",
        "\n",
        "\n",
        "def grade_documents(state):\n",
        "\n",
        "    print(\"---CHECK DOCUMENT RELEVANCE TO QUESTION---\")\n",
        "    question = state[\"question\"]\n",
        "    documents = state[\"documents\"]\n",
        "\n",
        "    # Score each doc\n",
        "    filtered_docs = []\n",
        "    for d in documents:\n",
        "        score = retrieval_grader.invoke(\n",
        "            {\"question\": question, \"document\": d.page_content}\n",
        "        )\n",
        "        grade = score.binary_score\n",
        "        if grade == \"yes\":\n",
        "            print(\"---GRADE: DOCUMENT RELEVANT---\")\n",
        "            filtered_docs.append(d)\n",
        "        else:\n",
        "            print(\"---GRADE: DOCUMENT NOT RELEVANT---\")\n",
        "            continue\n",
        "    return {\"documents\": filtered_docs, \"question\": question}\n",
        "\n",
        "\n",
        "def web_search(state):\n",
        "\n",
        "    print(\"---WEB SEARCH---\")\n",
        "    question = state[\"question\"]\n",
        "\n",
        "    # Web search\n",
        "    docs = web_search_tool.invoke({\"query\": question})\n",
        "    web_results = \"\\n\".join([d[\"content\"] for d in docs])\n",
        "    web_results = Document(page_content=web_results)\n",
        "\n",
        "    return {\"documents\": web_results, \"question\": question}\n",
        "\n",
        "\n",
        "# edges\n",
        "def route_question(state):\n",
        "\n",
        "    print(\"---ROUTE QUESTION---\")\n",
        "    question = state[\"question\"]\n",
        "    source = question_router.invoke({\"question\": question})\n",
        "    if source.datasource == \"web_search\":\n",
        "        print(\"---ROUTE QUESTION TO WEB SEARCH---\")\n",
        "        return \"web_search\"\n",
        "    elif source.datasource == \"vectorstore\":\n",
        "        print(\"---ROUTE QUESTION TO RAG---\")\n",
        "        return \"vectorstore\"\n",
        "\n",
        "\n",
        "def decide_to_generate(state):\n",
        "\n",
        "    print(\"---ASSESS GRADED DOCUMENTS---\")\n",
        "    state[\"question\"]\n",
        "    filtered_documents = state[\"documents\"]\n",
        "\n",
        "    if not filtered_documents:\n",
        "        # All documents have been filtered check_relevance\n",
        "        # We will re-generate a new query\n",
        "        print(\n",
        "            \"---DECISION: ALL DOCUMENTS ARE NOT RELEVANT TO QUESTION, TRANSFORM QUERY---\"\n",
        "        )\n",
        "        return \"transform_query\"\n",
        "    else:\n",
        "        # We have relevant documents, so generate answer\n",
        "        print(\"---DECISION: GENERATE---\")\n",
        "        return \"generate\"\n",
        "\n",
        "\n",
        "def grade_generation_v_documents_and_question(state):\n",
        "\n",
        "    print(\"---CHECK HALLUCINATIONS---\")\n",
        "    question = state[\"question\"]\n",
        "    documents = state[\"documents\"]\n",
        "    generation = state[\"generation\"]\n",
        "\n",
        "    score = hallucination_grader.invoke(\n",
        "        {\"documents\": documents, \"generation\": generation}\n",
        "    )\n",
        "    grade = score.binary_score\n",
        "\n",
        "    # Check hallucination\n",
        "    if grade == \"yes\":\n",
        "        print(\"---DECISION: GENERATION IS GROUNDED IN DOCUMENTS---\")\n",
        "        # Check question-answering\n",
        "        print(\"---GRADE GENERATION vs QUESTION---\")\n",
        "        score = answer_grader.invoke({\"question\": question, \"generation\": generation})\n",
        "        grade = score.binary_score\n",
        "        if grade == \"yes\":\n",
        "            print(\"---DECISION: GENERATION ADDRESSES QUESTION---\")\n",
        "            return \"useful\"\n",
        "        else:\n",
        "            print(\"---DECISION: GENERATION DOES NOT ADDRESS QUESTION---\")\n",
        "            return \"not useful\"\n",
        "    else:\n",
        "        pprint(\"---DECISION: GENERATION IS NOT GROUNDED IN DOCUMENTS, RE-TRY---\")\n",
        "        return \"not supported\""
      ],
      "metadata": {
        "id": "-gL4bV451kKC"
      },
      "execution_count": null,
      "outputs": []
    },
    {
      "cell_type": "markdown",
      "source": [
        "### **Build Graph**"
      ],
      "metadata": {
        "id": "J0bLxwTFX7Gx"
      }
    },
    {
      "cell_type": "code",
      "source": [
        "# Build graph\n",
        "from langgraph.graph import END, StateGraph, START\n",
        "\n",
        "workflow = StateGraph(GraphState)\n",
        "\n",
        "# Define the nodes\n",
        "workflow.add_node(\"web_search\", web_search)  # web search\n",
        "workflow.add_node(\"retrieve\", retrieve)  # retrieve\n",
        "workflow.add_node(\"grade_documents\", grade_documents)  # grade documents\n",
        "workflow.add_node(\"generate\", generate)  # generatae\n",
        "  # transform_query\n",
        "\n",
        "# Build graph\n",
        "workflow.add_conditional_edges(\n",
        "    START,\n",
        "    route_question,\n",
        "    {\n",
        "        \"web_search\": \"web_search\",\n",
        "        \"vectorstore\": \"retrieve\",\n",
        "    },\n",
        ")\n",
        "workflow.add_edge(\"web_search\", \"generate\")\n",
        "workflow.add_edge(\"retrieve\", \"grade_documents\")\n",
        "workflow.add_conditional_edges(\n",
        "    \"grade_documents\",\n",
        "    decide_to_generate,\n",
        "    {\n",
        "        \"generate\": \"generate\",\n",
        "    },\n",
        ")\n",
        "\n",
        "workflow.add_conditional_edges(\n",
        "    \"generate\",\n",
        "    grade_generation_v_documents_and_question,\n",
        "    {\n",
        "        \"not supported\": \"generate\",\n",
        "        \"useful\": END\n",
        "    },\n",
        ")\n",
        "\n",
        "# Compile\n",
        "app = workflow.compile()"
      ],
      "metadata": {
        "id": "_PTiM-4f14a3"
      },
      "execution_count": null,
      "outputs": []
    },
    {
      "cell_type": "code",
      "source": [
        "# Final generation example 1 (relevant documents)\n",
        "from pprint import pprint\n",
        "\n",
        "inputs = {\"question\": \"how does interlibrary loan work\"}\n",
        "for output in app.stream(inputs):\n",
        "    for key, value in output.items():\n",
        "        pprint(f\"Node '{key}':\")\n",
        "    pprint(\"\\n---\\n\")\n",
        "\n",
        "pprint(value[\"generation\"])"
      ],
      "metadata": {
        "colab": {
          "base_uri": "https://localhost:8080/"
        },
        "id": "oMOJmPyo3NcY",
        "outputId": "9fac66ee-5a64-4f95-8096-fc7c74b70050"
      },
      "execution_count": null,
      "outputs": [
        {
          "output_type": "stream",
          "name": "stdout",
          "text": [
            "---ROUTE QUESTION---\n",
            "---ROUTE QUESTION TO RAG---\n",
            "---RETRIEVE---\n",
            "\"Node 'retrieve':\"\n",
            "'\\n---\\n'\n",
            "---CHECK DOCUMENT RELEVANCE TO QUESTION---\n",
            "---GRADE: DOCUMENT RELEVANT---\n",
            "---GRADE: DOCUMENT RELEVANT---\n",
            "---GRADE: DOCUMENT RELEVANT---\n",
            "---GRADE: DOCUMENT RELEVANT---\n",
            "---ASSESS GRADED DOCUMENTS---\n",
            "---DECISION: GENERATE---\n",
            "\"Node 'grade_documents':\"\n",
            "'\\n---\\n'\n",
            "---GENERATE---\n",
            "---CHECK HALLUCINATIONS---\n",
            "---DECISION: GENERATION IS GROUNDED IN DOCUMENTS---\n",
            "---GRADE GENERATION vs QUESTION---\n",
            "---DECISION: GENERATION ADDRESSES QUESTION---\n",
            "\"Node 'generate':\"\n",
            "'\\n---\\n'\n",
            "('Interlibrary loan works by allowing patrons of one library to borrow '\n",
            " 'physical materials or receive electronic documents from another library that '\n",
            " 'holds the desired item. The borrowing library identifies potential lending '\n",
            " 'libraries, and the lending library delivers the item either physically or '\n",
            " 'electronically. The borrowing library then receives the item, delivers it to '\n",
            " 'their patron, and arranges for its return if necessary. Fees may accompany '\n",
            " 'interlibrary loan services, and requests can be managed through '\n",
            " 'semi-automated or manual systems.')\n"
          ]
        }
      ]
    },
    {
      "cell_type": "code",
      "source": [
        "# Final generation example 2 (non-relevant documents)\n",
        "from pprint import pprint\n",
        "\n",
        "inputs = {\"question\": \"What is RAG?\"}\n",
        "for output in app.stream(inputs):\n",
        "    for key, value in output.items():\n",
        "        pprint(f\"Node '{key}':\")\n",
        "    pprint(\"\\n---\\n\")\n",
        "\n",
        "pprint(value[\"generation\"])"
      ],
      "metadata": {
        "colab": {
          "base_uri": "https://localhost:8080/"
        },
        "id": "AcGSVcJ04WPz",
        "outputId": "3302154b-f6f9-4cdc-9def-e38219865e7e"
      },
      "execution_count": null,
      "outputs": [
        {
          "output_type": "stream",
          "name": "stdout",
          "text": [
            "---ROUTE QUESTION---\n",
            "---ROUTE QUESTION TO WEB SEARCH---\n",
            "---WEB SEARCH---\n",
            "\"Node 'web_search':\"\n",
            "'\\n---\\n'\n",
            "---GENERATE---\n",
            "---CHECK HALLUCINATIONS---\n",
            "---DECISION: GENERATION IS GROUNDED IN DOCUMENTS---\n",
            "---GRADE GENERATION vs QUESTION---\n",
            "---DECISION: GENERATION ADDRESSES QUESTION---\n",
            "\"Node 'generate':\"\n",
            "'\\n---\\n'\n",
            "('RAG, or retrieval-augmented generation, is a method that combines retrieval '\n",
            " 'models and generative models in natural language processing (NLP) to produce '\n",
            " 'coherent, contextually relevant text. It allows AI models to access external '\n",
            " 'knowledge bases and incorporate up-to-date information into generated '\n",
            " 'responses. RAG is significant in NLP as it bridges the gap between retrieval '\n",
            " 'and generative models, enhancing the accuracy and relevance of AI-generated '\n",
            " 'content.')\n"
          ]
        }
      ]
    },
    {
      "cell_type": "markdown",
      "source": [
        "## **Preparing Data for Evaluation**"
      ],
      "metadata": {
        "id": "pf1GVRBqZGrF"
      }
    },
    {
      "cell_type": "code",
      "source": [
        "# Create a dataframe to store the question, context, and response\n",
        "inputs = {\"question\": \"how does interlibrary loan work\"}\n",
        "outputs = []\n",
        "\n",
        "\n",
        "for output in app.stream(inputs):\n",
        "    for key, value in output.items():\n",
        "        if key == \"generate\":\n",
        "            question = value[\"question\"]\n",
        "            documents = value[\"documents\"]\n",
        "            generation = value[\"generation\"]\n",
        "\n",
        "            # Combine document\n",
        "            context = \"\\n\".join(doc.page_content for doc in documents)\n",
        "\n",
        "            # Append the result\n",
        "            outputs.append({\n",
        "                \"query\": question,\n",
        "                \"context\": context,\n",
        "                \"response\": generation,\n",
        "            })"
      ],
      "metadata": {
        "colab": {
          "base_uri": "https://localhost:8080/"
        },
        "id": "oS0TKWm2ZVvM",
        "outputId": "44d30dfb-9c72-4029-a118-27de60a37538"
      },
      "execution_count": null,
      "outputs": [
        {
          "output_type": "stream",
          "name": "stdout",
          "text": [
            "---ROUTE QUESTION---\n",
            "---ROUTE QUESTION TO RAG---\n",
            "---RETRIEVE---\n",
            "---CHECK DOCUMENT RELEVANCE TO QUESTION---\n",
            "---GRADE: DOCUMENT RELEVANT---\n",
            "---GRADE: DOCUMENT RELEVANT---\n",
            "---GRADE: DOCUMENT RELEVANT---\n",
            "---GRADE: DOCUMENT RELEVANT---\n",
            "---ASSESS GRADED DOCUMENTS---\n",
            "---DECISION: GENERATE---\n",
            "---GENERATE---\n",
            "---CHECK HALLUCINATIONS---\n",
            "---DECISION: GENERATION IS GROUNDED IN DOCUMENTS---\n",
            "---GRADE GENERATION vs QUESTION---\n",
            "---DECISION: GENERATION ADDRESSES QUESTION---\n"
          ]
        }
      ]
    },
    {
      "cell_type": "code",
      "source": [
        "# Convert to DataFrame\n",
        "import pandas as pd\n",
        "df = pd.DataFrame(outputs)"
      ],
      "metadata": {
        "id": "BpEUW4e-Z3Y7"
      },
      "execution_count": null,
      "outputs": []
    },
    {
      "cell_type": "code",
      "source": [
        "df"
      ],
      "metadata": {
        "colab": {
          "base_uri": "https://localhost:8080/",
          "height": 89
        },
        "id": "GVSbxLf7Z9z1",
        "outputId": "edfbf64e-94a3-4347-b863-613942120781"
      },
      "execution_count": null,
      "outputs": [
        {
          "output_type": "execute_result",
          "data": {
            "text/plain": [
              "                             query  \\\n",
              "0  how does interlibrary loan work   \n",
              "\n",
              "                                             context  \\\n",
              "0  Procedures and methods ==\\n\\nAfter receiving a...   \n",
              "\n",
              "                                            response  \n",
              "0  Interlibrary loan works by allowing patrons of...  "
            ],
            "text/html": [
              "\n",
              "  <div id=\"df-f726b48c-4e7c-48cf-8c6c-1bb99e932bc5\" class=\"colab-df-container\">\n",
              "    <div>\n",
              "<style scoped>\n",
              "    .dataframe tbody tr th:only-of-type {\n",
              "        vertical-align: middle;\n",
              "    }\n",
              "\n",
              "    .dataframe tbody tr th {\n",
              "        vertical-align: top;\n",
              "    }\n",
              "\n",
              "    .dataframe thead th {\n",
              "        text-align: right;\n",
              "    }\n",
              "</style>\n",
              "<table border=\"1\" class=\"dataframe\">\n",
              "  <thead>\n",
              "    <tr style=\"text-align: right;\">\n",
              "      <th></th>\n",
              "      <th>query</th>\n",
              "      <th>context</th>\n",
              "      <th>response</th>\n",
              "    </tr>\n",
              "  </thead>\n",
              "  <tbody>\n",
              "    <tr>\n",
              "      <th>0</th>\n",
              "      <td>how does interlibrary loan work</td>\n",
              "      <td>Procedures and methods ==\\n\\nAfter receiving a...</td>\n",
              "      <td>Interlibrary loan works by allowing patrons of...</td>\n",
              "    </tr>\n",
              "  </tbody>\n",
              "</table>\n",
              "</div>\n",
              "    <div class=\"colab-df-buttons\">\n",
              "\n",
              "  <div class=\"colab-df-container\">\n",
              "    <button class=\"colab-df-convert\" onclick=\"convertToInteractive('df-f726b48c-4e7c-48cf-8c6c-1bb99e932bc5')\"\n",
              "            title=\"Convert this dataframe to an interactive table.\"\n",
              "            style=\"display:none;\">\n",
              "\n",
              "  <svg xmlns=\"http://www.w3.org/2000/svg\" height=\"24px\" viewBox=\"0 -960 960 960\">\n",
              "    <path d=\"M120-120v-720h720v720H120Zm60-500h600v-160H180v160Zm220 220h160v-160H400v160Zm0 220h160v-160H400v160ZM180-400h160v-160H180v160Zm440 0h160v-160H620v160ZM180-180h160v-160H180v160Zm440 0h160v-160H620v160Z\"/>\n",
              "  </svg>\n",
              "    </button>\n",
              "\n",
              "  <style>\n",
              "    .colab-df-container {\n",
              "      display:flex;\n",
              "      gap: 12px;\n",
              "    }\n",
              "\n",
              "    .colab-df-convert {\n",
              "      background-color: #E8F0FE;\n",
              "      border: none;\n",
              "      border-radius: 50%;\n",
              "      cursor: pointer;\n",
              "      display: none;\n",
              "      fill: #1967D2;\n",
              "      height: 32px;\n",
              "      padding: 0 0 0 0;\n",
              "      width: 32px;\n",
              "    }\n",
              "\n",
              "    .colab-df-convert:hover {\n",
              "      background-color: #E2EBFA;\n",
              "      box-shadow: 0px 1px 2px rgba(60, 64, 67, 0.3), 0px 1px 3px 1px rgba(60, 64, 67, 0.15);\n",
              "      fill: #174EA6;\n",
              "    }\n",
              "\n",
              "    .colab-df-buttons div {\n",
              "      margin-bottom: 4px;\n",
              "    }\n",
              "\n",
              "    [theme=dark] .colab-df-convert {\n",
              "      background-color: #3B4455;\n",
              "      fill: #D2E3FC;\n",
              "    }\n",
              "\n",
              "    [theme=dark] .colab-df-convert:hover {\n",
              "      background-color: #434B5C;\n",
              "      box-shadow: 0px 1px 3px 1px rgba(0, 0, 0, 0.15);\n",
              "      filter: drop-shadow(0px 1px 2px rgba(0, 0, 0, 0.3));\n",
              "      fill: #FFFFFF;\n",
              "    }\n",
              "  </style>\n",
              "\n",
              "    <script>\n",
              "      const buttonEl =\n",
              "        document.querySelector('#df-f726b48c-4e7c-48cf-8c6c-1bb99e932bc5 button.colab-df-convert');\n",
              "      buttonEl.style.display =\n",
              "        google.colab.kernel.accessAllowed ? 'block' : 'none';\n",
              "\n",
              "      async function convertToInteractive(key) {\n",
              "        const element = document.querySelector('#df-f726b48c-4e7c-48cf-8c6c-1bb99e932bc5');\n",
              "        const dataTable =\n",
              "          await google.colab.kernel.invokeFunction('convertToInteractive',\n",
              "                                                    [key], {});\n",
              "        if (!dataTable) return;\n",
              "\n",
              "        const docLinkHtml = 'Like what you see? Visit the ' +\n",
              "          '<a target=\"_blank\" href=https://colab.research.google.com/notebooks/data_table.ipynb>data table notebook</a>'\n",
              "          + ' to learn more about interactive tables.';\n",
              "        element.innerHTML = '';\n",
              "        dataTable['output_type'] = 'display_data';\n",
              "        await google.colab.output.renderOutput(dataTable, element);\n",
              "        const docLink = document.createElement('div');\n",
              "        docLink.innerHTML = docLinkHtml;\n",
              "        element.appendChild(docLink);\n",
              "      }\n",
              "    </script>\n",
              "  </div>\n",
              "\n",
              "\n",
              "  <div id=\"id_3083c885-0228-4a6c-aac3-e4c487758b6f\">\n",
              "    <style>\n",
              "      .colab-df-generate {\n",
              "        background-color: #E8F0FE;\n",
              "        border: none;\n",
              "        border-radius: 50%;\n",
              "        cursor: pointer;\n",
              "        display: none;\n",
              "        fill: #1967D2;\n",
              "        height: 32px;\n",
              "        padding: 0 0 0 0;\n",
              "        width: 32px;\n",
              "      }\n",
              "\n",
              "      .colab-df-generate:hover {\n",
              "        background-color: #E2EBFA;\n",
              "        box-shadow: 0px 1px 2px rgba(60, 64, 67, 0.3), 0px 1px 3px 1px rgba(60, 64, 67, 0.15);\n",
              "        fill: #174EA6;\n",
              "      }\n",
              "\n",
              "      [theme=dark] .colab-df-generate {\n",
              "        background-color: #3B4455;\n",
              "        fill: #D2E3FC;\n",
              "      }\n",
              "\n",
              "      [theme=dark] .colab-df-generate:hover {\n",
              "        background-color: #434B5C;\n",
              "        box-shadow: 0px 1px 3px 1px rgba(0, 0, 0, 0.15);\n",
              "        filter: drop-shadow(0px 1px 2px rgba(0, 0, 0, 0.3));\n",
              "        fill: #FFFFFF;\n",
              "      }\n",
              "    </style>\n",
              "    <button class=\"colab-df-generate\" onclick=\"generateWithVariable('df')\"\n",
              "            title=\"Generate code using this dataframe.\"\n",
              "            style=\"display:none;\">\n",
              "\n",
              "  <svg xmlns=\"http://www.w3.org/2000/svg\" height=\"24px\"viewBox=\"0 0 24 24\"\n",
              "       width=\"24px\">\n",
              "    <path d=\"M7,19H8.4L18.45,9,17,7.55,7,17.6ZM5,21V16.75L18.45,3.32a2,2,0,0,1,2.83,0l1.4,1.43a1.91,1.91,0,0,1,.58,1.4,1.91,1.91,0,0,1-.58,1.4L9.25,21ZM18.45,9,17,7.55Zm-12,3A5.31,5.31,0,0,0,4.9,8.1,5.31,5.31,0,0,0,1,6.5,5.31,5.31,0,0,0,4.9,4.9,5.31,5.31,0,0,0,6.5,1,5.31,5.31,0,0,0,8.1,4.9,5.31,5.31,0,0,0,12,6.5,5.46,5.46,0,0,0,6.5,12Z\"/>\n",
              "  </svg>\n",
              "    </button>\n",
              "    <script>\n",
              "      (() => {\n",
              "      const buttonEl =\n",
              "        document.querySelector('#id_3083c885-0228-4a6c-aac3-e4c487758b6f button.colab-df-generate');\n",
              "      buttonEl.style.display =\n",
              "        google.colab.kernel.accessAllowed ? 'block' : 'none';\n",
              "\n",
              "      buttonEl.onclick = () => {\n",
              "        google.colab.notebook.generateWithVariable('df');\n",
              "      }\n",
              "      })();\n",
              "    </script>\n",
              "  </div>\n",
              "\n",
              "    </div>\n",
              "  </div>\n"
            ],
            "application/vnd.google.colaboratory.intrinsic+json": {
              "type": "dataframe",
              "variable_name": "df",
              "summary": "{\n  \"name\": \"df\",\n  \"rows\": 1,\n  \"fields\": [\n    {\n      \"column\": \"query\",\n      \"properties\": {\n        \"dtype\": \"string\",\n        \"num_unique_values\": 1,\n        \"samples\": [\n          \"how does interlibrary loan work\"\n        ],\n        \"semantic_type\": \"\",\n        \"description\": \"\"\n      }\n    },\n    {\n      \"column\": \"context\",\n      \"properties\": {\n        \"dtype\": \"string\",\n        \"num_unique_values\": 1,\n        \"samples\": [\n          \"Procedures and methods ==\\\\n\\\\nAfter receiving a request from their patron, the borrowing library identifies potential lending libraries with the desired item. The lending library then delivers the item physically or electronically, and the borrowing library receives the item, delivers it to their patron, and if necessary, arranges for its return. In some cases, fees accompany interlibrary loan services. While the majority of interlibrary loan requests are now managed through semi-automated\\ncontext: ['Interlibrary loan (abbreviated ILL, and sometimes called document delivery, document supply, interlending, interlibrary services, interloan, or resource sharing) is a service that enables patrons of one library to borrow physical materials and receive electronic documents that are held by another library. The service expands library patrons\\\\' access to resources beyond their local library\\\\'s holdings, serving as \\\"an integral element of collection development\\\" for libraries.\\\\n\\\\n\\\\n==\\nloan. Many journal or database licenses specify whether a library can or cannot supply journal articles via ILL, with libraries negotiating for ILL eligibility. With increasing demand for digital materials, libraries have begun exploring the legal, technical, and licensing aspects of lending and borrowing ebooks through interlibrary loan.\\\\n\\\\n\\\\n== History ==\\\\nInformal borrowing and lending between libraries has a long history, with examples in Western Europe as early as the 8th century CE. In\\nelectronic systems, libraries can also submit requests by postal mail, fax, email, or telephone call, referred to as manual requests. Manual requests can be submitted in the United States through the American Library Association. \\\\nInterlibrary loan and resource sharing have a variety of systems and workflows, which vary based on a library\\\\'s scale of service, regional networks, and library management systems. Processes are automated by electronic systems, including VDX, Tipasa, ILLiad, Ex\"\n        ],\n        \"semantic_type\": \"\",\n        \"description\": \"\"\n      }\n    },\n    {\n      \"column\": \"response\",\n      \"properties\": {\n        \"dtype\": \"string\",\n        \"num_unique_values\": 1,\n        \"samples\": [\n          \"Interlibrary loan works by allowing patrons of one library to borrow physical materials or receive electronic documents from another library that holds the desired item. The borrowing library identifies potential lending libraries, which then deliver the item either physically or electronically. The borrowing library receives the item, delivers it to their patron, and arranges for its return if necessary. Fees may accompany interlibrary loan services, and requests can be managed through semi-automated or manual systems. Libraries negotiate for interlibrary loan eligibility, and with the increasing demand for digital materials, libraries are exploring the legal, technical, and licensing aspects of lending and borrowing ebooks through interlibrary loan.\"\n        ],\n        \"semantic_type\": \"\",\n        \"description\": \"\"\n      }\n    }\n  ]\n}"
            }
          },
          "metadata": {},
          "execution_count": 28
        }
      ]
    },
    {
      "cell_type": "code",
      "source": [
        "# Convert to dictionary\n",
        "df_dict = df.to_dict(orient='records')\n",
        "\n",
        "# Convert context to list\n",
        "for record in df_dict:\n",
        "    if not isinstance(record.get('context'), list):\n",
        "        if record.get('context') is None:\n",
        "            record['context'] = []\n",
        "        else:\n",
        "            record['context'] = [record['context']]"
      ],
      "metadata": {
        "id": "hviE9dWVadoq"
      },
      "execution_count": null,
      "outputs": []
    },
    {
      "cell_type": "markdown",
      "source": [
        "## **Evaluation in Athina AI**\n",
        "\n",
        "We will use **Context Relevancy** eval here. It Measures the relevancy of the retrieved context, calculated based on both the query and contexts. To learn more about this. Please refer to our [documentation](https://docs.athina.ai/api-reference/evals/preset-evals/overview) for further details"
      ],
      "metadata": {
        "id": "ISQy9RQbYbtY"
      }
    },
    {
      "cell_type": "code",
      "source": [
        "# set api keys for Athina evals\n",
        "from athina.keys import AthinaApiKey, OpenAiApiKey\n",
        "OpenAiApiKey.set_key(os.getenv('OPENAI_API_KEY'))\n",
        "AthinaApiKey.set_key(os.getenv('ATHINA_API_KEY'))"
      ],
      "metadata": {
        "id": "fmx599yJayWg"
      },
      "execution_count": null,
      "outputs": []
    },
    {
      "cell_type": "code",
      "source": [
        "# load dataset\n",
        "from athina.loaders import Loader\n",
        "dataset = Loader().load_dict(df_dict)"
      ],
      "metadata": {
        "id": "H-TycfUTanch"
      },
      "execution_count": null,
      "outputs": []
    },
    {
      "cell_type": "code",
      "source": [
        "# evaluate\n",
        "from athina.evals import RagasContextRelevancy\n",
        "RagasContextRelevancy(model=\"gpt-4o\").run_batch(data=dataset).to_df()"
      ],
      "metadata": {
        "colab": {
          "base_uri": "https://localhost:8080/",
          "height": 462
        },
        "id": "Uz0UohC4arbF",
        "outputId": "e7fbfadc-2027-4943-8e11-31cabc0841db"
      },
      "execution_count": null,
      "outputs": [
        {
          "output_type": "stream",
          "name": "stdout",
          "text": [
            "evaluating with [context_relevancy]\n"
          ]
        },
        {
          "output_type": "stream",
          "name": "stderr",
          "text": [
            "100%|██████████| 1/1 [00:01<00:00,  1.07s/it]\n"
          ]
        },
        {
          "output_type": "stream",
          "name": "stdout",
          "text": [
            "You can view your dataset at: https://app.athina.ai/develop/e6867bf1-6320-474b-8dca-3284b41df567\n"
          ]
        },
        {
          "output_type": "execute_result",
          "data": {
            "text/plain": [
              "                             query  \\\n",
              "0  how does interlibrary loan work   \n",
              "\n",
              "                                                                                                                                                                                                                                                                                                                                                                                                                                                                                                               context  \\\n",
              "0  [Procedures and methods ==\\n\\nAfter receiving a request from their patron, the borrowing library identifies potential lending libraries with the desired item. The lending library then delivers the item physically or electronically, and the borrowing library receives the item, delivers it to their patron, and if necessary, arranges for its return. In some cases, fees accompany interlibrary loan services. While the majority of interlibrary loan requests are now managed through semi-automated\\n...   \n",
              "\n",
              "                                                                                                                                                                                                                                                                                                                                                                                                                                                                                                              response  \\\n",
              "0  Interlibrary loan works by allowing patrons of one library to borrow physical materials or receive electronic documents from another library that holds the desired item. The borrowing library identifies potential lending libraries, which then deliver the item either physically or electronically. The borrowing library receives the item, delivers it to their patron, and arranges for its return if necessary. Fees may accompany interlibrary loan services, and requests can be managed through semi...   \n",
              "\n",
              "  expected_response             display_name failed  \\\n",
              "0              None  Ragas Context Relevancy   None   \n",
              "\n",
              "                                                                                                                                                                        grade_reason  \\\n",
              "0  This metric is calulated by dividing the number of sentences in context that are relevant for answering the given query by the total number of sentences in the retrieved context   \n",
              "\n",
              "   runtime   model  ragas_context_relevancy  \n",
              "0     1420  gpt-4o                   0.1875  "
            ],
            "text/html": [
              "\n",
              "  <div id=\"df-0da1ce2c-8d6a-4ebb-b035-601366599a70\" class=\"colab-df-container\">\n",
              "    <div>\n",
              "<style scoped>\n",
              "    .dataframe tbody tr th:only-of-type {\n",
              "        vertical-align: middle;\n",
              "    }\n",
              "\n",
              "    .dataframe tbody tr th {\n",
              "        vertical-align: top;\n",
              "    }\n",
              "\n",
              "    .dataframe thead th {\n",
              "        text-align: right;\n",
              "    }\n",
              "</style>\n",
              "<table border=\"1\" class=\"dataframe\">\n",
              "  <thead>\n",
              "    <tr style=\"text-align: right;\">\n",
              "      <th></th>\n",
              "      <th>query</th>\n",
              "      <th>context</th>\n",
              "      <th>response</th>\n",
              "      <th>expected_response</th>\n",
              "      <th>display_name</th>\n",
              "      <th>failed</th>\n",
              "      <th>grade_reason</th>\n",
              "      <th>runtime</th>\n",
              "      <th>model</th>\n",
              "      <th>ragas_context_relevancy</th>\n",
              "    </tr>\n",
              "  </thead>\n",
              "  <tbody>\n",
              "    <tr>\n",
              "      <th>0</th>\n",
              "      <td>how does interlibrary loan work</td>\n",
              "      <td>[Procedures and methods ==\\n\\nAfter receiving a request from their patron, the borrowing library identifies potential lending libraries with the desired item. The lending library then delivers the item physically or electronically, and the borrowing library receives the item, delivers it to their patron, and if necessary, arranges for its return. In some cases, fees accompany interlibrary loan services. While the majority of interlibrary loan requests are now managed through semi-automated\\n...</td>\n",
              "      <td>Interlibrary loan works by allowing patrons of one library to borrow physical materials or receive electronic documents from another library that holds the desired item. The borrowing library identifies potential lending libraries, which then deliver the item either physically or electronically. The borrowing library receives the item, delivers it to their patron, and arranges for its return if necessary. Fees may accompany interlibrary loan services, and requests can be managed through semi...</td>\n",
              "      <td>None</td>\n",
              "      <td>Ragas Context Relevancy</td>\n",
              "      <td>None</td>\n",
              "      <td>This metric is calulated by dividing the number of sentences in context that are relevant for answering the given query by the total number of sentences in the retrieved context</td>\n",
              "      <td>1420</td>\n",
              "      <td>gpt-4o</td>\n",
              "      <td>0.1875</td>\n",
              "    </tr>\n",
              "  </tbody>\n",
              "</table>\n",
              "</div>\n",
              "    <div class=\"colab-df-buttons\">\n",
              "\n",
              "  <div class=\"colab-df-container\">\n",
              "    <button class=\"colab-df-convert\" onclick=\"convertToInteractive('df-0da1ce2c-8d6a-4ebb-b035-601366599a70')\"\n",
              "            title=\"Convert this dataframe to an interactive table.\"\n",
              "            style=\"display:none;\">\n",
              "\n",
              "  <svg xmlns=\"http://www.w3.org/2000/svg\" height=\"24px\" viewBox=\"0 -960 960 960\">\n",
              "    <path d=\"M120-120v-720h720v720H120Zm60-500h600v-160H180v160Zm220 220h160v-160H400v160Zm0 220h160v-160H400v160ZM180-400h160v-160H180v160Zm440 0h160v-160H620v160ZM180-180h160v-160H180v160Zm440 0h160v-160H620v160Z\"/>\n",
              "  </svg>\n",
              "    </button>\n",
              "\n",
              "  <style>\n",
              "    .colab-df-container {\n",
              "      display:flex;\n",
              "      gap: 12px;\n",
              "    }\n",
              "\n",
              "    .colab-df-convert {\n",
              "      background-color: #E8F0FE;\n",
              "      border: none;\n",
              "      border-radius: 50%;\n",
              "      cursor: pointer;\n",
              "      display: none;\n",
              "      fill: #1967D2;\n",
              "      height: 32px;\n",
              "      padding: 0 0 0 0;\n",
              "      width: 32px;\n",
              "    }\n",
              "\n",
              "    .colab-df-convert:hover {\n",
              "      background-color: #E2EBFA;\n",
              "      box-shadow: 0px 1px 2px rgba(60, 64, 67, 0.3), 0px 1px 3px 1px rgba(60, 64, 67, 0.15);\n",
              "      fill: #174EA6;\n",
              "    }\n",
              "\n",
              "    .colab-df-buttons div {\n",
              "      margin-bottom: 4px;\n",
              "    }\n",
              "\n",
              "    [theme=dark] .colab-df-convert {\n",
              "      background-color: #3B4455;\n",
              "      fill: #D2E3FC;\n",
              "    }\n",
              "\n",
              "    [theme=dark] .colab-df-convert:hover {\n",
              "      background-color: #434B5C;\n",
              "      box-shadow: 0px 1px 3px 1px rgba(0, 0, 0, 0.15);\n",
              "      filter: drop-shadow(0px 1px 2px rgba(0, 0, 0, 0.3));\n",
              "      fill: #FFFFFF;\n",
              "    }\n",
              "  </style>\n",
              "\n",
              "    <script>\n",
              "      const buttonEl =\n",
              "        document.querySelector('#df-0da1ce2c-8d6a-4ebb-b035-601366599a70 button.colab-df-convert');\n",
              "      buttonEl.style.display =\n",
              "        google.colab.kernel.accessAllowed ? 'block' : 'none';\n",
              "\n",
              "      async function convertToInteractive(key) {\n",
              "        const element = document.querySelector('#df-0da1ce2c-8d6a-4ebb-b035-601366599a70');\n",
              "        const dataTable =\n",
              "          await google.colab.kernel.invokeFunction('convertToInteractive',\n",
              "                                                    [key], {});\n",
              "        if (!dataTable) return;\n",
              "\n",
              "        const docLinkHtml = 'Like what you see? Visit the ' +\n",
              "          '<a target=\"_blank\" href=https://colab.research.google.com/notebooks/data_table.ipynb>data table notebook</a>'\n",
              "          + ' to learn more about interactive tables.';\n",
              "        element.innerHTML = '';\n",
              "        dataTable['output_type'] = 'display_data';\n",
              "        await google.colab.output.renderOutput(dataTable, element);\n",
              "        const docLink = document.createElement('div');\n",
              "        docLink.innerHTML = docLinkHtml;\n",
              "        element.appendChild(docLink);\n",
              "      }\n",
              "    </script>\n",
              "  </div>\n",
              "\n",
              "\n",
              "    </div>\n",
              "  </div>\n"
            ],
            "application/vnd.google.colaboratory.intrinsic+json": {
              "type": "dataframe",
              "repr_error": "Out of range float values are not JSON compliant: nan"
            }
          },
          "metadata": {},
          "execution_count": 32
        }
      ]
    },
    {
      "cell_type": "markdown",
      "source": [
        "![adaptive.png](data:image/png;base64,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)"
      ],
      "metadata": {
        "id": "Fj8KAdJ1Kuu0"
      }
    }
  ]
}
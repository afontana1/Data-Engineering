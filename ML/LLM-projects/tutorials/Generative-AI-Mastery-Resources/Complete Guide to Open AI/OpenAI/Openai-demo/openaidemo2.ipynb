{
 "cells": [
  {
   "cell_type": "markdown",
   "metadata": {},
   "source": [
    "# Function Calling in OpenAI"
   ]
  },
  {
   "cell_type": "code",
   "execution_count": 1,
   "metadata": {},
   "outputs": [],
   "source": [
    "import os\n",
    "import openai\n",
    "from dotenv import load_dotenv"
   ]
  },
  {
   "cell_type": "code",
   "execution_count": 2,
   "metadata": {},
   "outputs": [],
   "source": [
    "load_dotenv()\n",
    "OPENAI_API_KEY = os.getenv(\"OPENAI_API_KEY\")"
   ]
  },
  {
   "cell_type": "code",
   "execution_count": 4,
   "metadata": {},
   "outputs": [
    {
     "name": "stdout",
     "output_type": "stream",
     "text": [
      "Hello! I'm here and ready to assist you. How can I help you today?\n"
     ]
    }
   ],
   "source": [
    "prompt = \"Hello, How are you?\"\n",
    "\n",
    "response = openai.ChatCompletion.create(\n",
    "    model = \"gpt-3.5-turbo\",\n",
    "    messages = [\n",
    "        {\"role\": \"system\", \"content\": \"You are a helpful assistant.\"},\n",
    "        {\"role\": \"user\", \"content\": prompt}\n",
    "    ]\n",
    ")\n",
    "\n",
    "print(response[\"choices\"][0][\"message\"][\"content\"])"
   ]
  },
  {
   "cell_type": "markdown",
   "metadata": {},
   "source": [
    "https://rapidapi.com/hub"
   ]
  },
  {
   "cell_type": "code",
   "execution_count": 5,
   "metadata": {},
   "outputs": [],
   "source": [
    "# Example dummy function hard coded to return the same weather\n",
    "# In production, this could be your backend API or an external API\n",
    "\n",
    "import requests\n",
    "def get_current_weather(location):\n",
    "    \"\"\"Get the current weather in a given location\"\"\"\n",
    "\n",
    "    url = \"https://ai-weather-by-meteosource.p.rapidapi.com/find_places\"\n",
    "\n",
    "    querystring = {\"text\":location}\n",
    "\n",
    "    headers = {\n",
    "      'x-rapidapi-key': \"156877d1e1msh6806b57dfec44b9p1bd2c8jsn796f2ff15790\",\n",
    "      'x-rapidapi-host': \"ai-weather-by-meteosource.p.rapidapi.com\"\n",
    "    }\n",
    "\n",
    "    response = requests.get(url, headers=headers, params=querystring)\n",
    "\n",
    "    print(response.json())\n",
    "  \n",
    "    return response.json()\n"
   ]
  },
  {
   "cell_type": "code",
   "execution_count": 6,
   "metadata": {},
   "outputs": [
    {
     "name": "stdout",
     "output_type": "stream",
     "text": [
      "[{'name': 'Delhi', 'place_id': 'delhi', 'adm_area1': 'National Capital Territory of Delhi', 'adm_area2': None, 'country': 'India', 'lat': '28.65195N', 'lon': '77.23149E', 'timezone': 'Asia/Kolkata', 'type': 'settlement'}, {'name': 'Dili', 'place_id': 'dili', 'adm_area1': 'Díli', 'adm_area2': 'Vera Cruz', 'country': 'Timor-Leste', 'lat': '8.55861S', 'lon': '125.57361E', 'timezone': 'Asia/Dili', 'type': 'settlement'}, {'name': 'Delhi', 'place_id': 'delhi-5342522', 'adm_area1': 'California', 'adm_area2': 'Merced', 'country': 'United States of America', 'lat': '37.43216N', 'lon': '120.77854W', 'timezone': 'America/Los_Angeles', 'type': 'settlement'}, {'name': 'Delhi', 'place_id': 'delhi-5114824', 'adm_area1': 'New York', 'adm_area2': 'Delaware', 'country': 'United States of America', 'lat': '42.27814N', 'lon': '74.91599W', 'timezone': 'America/New_York', 'type': 'settlement'}, {'name': 'Delhi', 'place_id': 'delhi-4321929', 'adm_area1': 'Louisiana', 'adm_area2': 'Richland', 'country': 'United States of America', 'lat': '32.45764N', 'lon': '91.49317W', 'timezone': 'America/Chicago', 'type': 'settlement'}, {'name': 'Delhi', 'place_id': 'delhi-4853722', 'adm_area1': 'Iowa', 'adm_area2': 'Delaware', 'country': 'United States of America', 'lat': '42.42971N', 'lon': '91.33098W', 'timezone': 'America/Chicago', 'type': 'settlement'}, {'name': 'Radnor', 'place_id': 'radnor-5167687', 'adm_area1': 'Ohio', 'adm_area2': 'Delaware', 'country': 'United States of America', 'lat': '40.38423N', 'lon': '83.15075W', 'timezone': 'America/New_York', 'type': 'settlement'}, {'name': 'Delhi', 'place_id': 'delhi-5024164', 'adm_area1': 'Minnesota', 'adm_area2': 'Redwood', 'country': 'United States of America', 'lat': '44.59913N', 'lon': '95.21111W', 'timezone': 'America/Chicago', 'type': 'settlement'}, {'name': 'Delhi', 'place_id': 'delhi-4685810', 'adm_area1': 'Texas', 'adm_area2': 'Caldwell', 'country': 'United States of America', 'lat': '29.82745N', 'lon': '97.39555W', 'timezone': 'America/Chicago', 'type': 'settlement'}, {'name': 'National Capital Territory of Delhi', 'place_id': 'national-capital-territory-of-delhi', 'adm_area1': 'National Capital Territory of Delhi', 'adm_area2': None, 'country': 'India', 'lat': '28.6667N', 'lon': '77.1E', 'timezone': 'Asia/Kolkata', 'type': 'administrative_area'}]\n"
     ]
    }
   ],
   "source": [
    "response = get_current_weather(\"Delhi\")"
   ]
  },
  {
   "cell_type": "code",
   "execution_count": 7,
   "metadata": {},
   "outputs": [
    {
     "data": {
      "text/plain": [
       "[{'name': 'Delhi',\n",
       "  'place_id': 'delhi',\n",
       "  'adm_area1': 'National Capital Territory of Delhi',\n",
       "  'adm_area2': None,\n",
       "  'country': 'India',\n",
       "  'lat': '28.65195N',\n",
       "  'lon': '77.23149E',\n",
       "  'timezone': 'Asia/Kolkata',\n",
       "  'type': 'settlement'},\n",
       " {'name': 'Dili',\n",
       "  'place_id': 'dili',\n",
       "  'adm_area1': 'Díli',\n",
       "  'adm_area2': 'Vera Cruz',\n",
       "  'country': 'Timor-Leste',\n",
       "  'lat': '8.55861S',\n",
       "  'lon': '125.57361E',\n",
       "  'timezone': 'Asia/Dili',\n",
       "  'type': 'settlement'},\n",
       " {'name': 'Delhi',\n",
       "  'place_id': 'delhi-5342522',\n",
       "  'adm_area1': 'California',\n",
       "  'adm_area2': 'Merced',\n",
       "  'country': 'United States of America',\n",
       "  'lat': '37.43216N',\n",
       "  'lon': '120.77854W',\n",
       "  'timezone': 'America/Los_Angeles',\n",
       "  'type': 'settlement'},\n",
       " {'name': 'Delhi',\n",
       "  'place_id': 'delhi-5114824',\n",
       "  'adm_area1': 'New York',\n",
       "  'adm_area2': 'Delaware',\n",
       "  'country': 'United States of America',\n",
       "  'lat': '42.27814N',\n",
       "  'lon': '74.91599W',\n",
       "  'timezone': 'America/New_York',\n",
       "  'type': 'settlement'},\n",
       " {'name': 'Delhi',\n",
       "  'place_id': 'delhi-4321929',\n",
       "  'adm_area1': 'Louisiana',\n",
       "  'adm_area2': 'Richland',\n",
       "  'country': 'United States of America',\n",
       "  'lat': '32.45764N',\n",
       "  'lon': '91.49317W',\n",
       "  'timezone': 'America/Chicago',\n",
       "  'type': 'settlement'},\n",
       " {'name': 'Delhi',\n",
       "  'place_id': 'delhi-4853722',\n",
       "  'adm_area1': 'Iowa',\n",
       "  'adm_area2': 'Delaware',\n",
       "  'country': 'United States of America',\n",
       "  'lat': '42.42971N',\n",
       "  'lon': '91.33098W',\n",
       "  'timezone': 'America/Chicago',\n",
       "  'type': 'settlement'},\n",
       " {'name': 'Radnor',\n",
       "  'place_id': 'radnor-5167687',\n",
       "  'adm_area1': 'Ohio',\n",
       "  'adm_area2': 'Delaware',\n",
       "  'country': 'United States of America',\n",
       "  'lat': '40.38423N',\n",
       "  'lon': '83.15075W',\n",
       "  'timezone': 'America/New_York',\n",
       "  'type': 'settlement'},\n",
       " {'name': 'Delhi',\n",
       "  'place_id': 'delhi-5024164',\n",
       "  'adm_area1': 'Minnesota',\n",
       "  'adm_area2': 'Redwood',\n",
       "  'country': 'United States of America',\n",
       "  'lat': '44.59913N',\n",
       "  'lon': '95.21111W',\n",
       "  'timezone': 'America/Chicago',\n",
       "  'type': 'settlement'},\n",
       " {'name': 'Delhi',\n",
       "  'place_id': 'delhi-4685810',\n",
       "  'adm_area1': 'Texas',\n",
       "  'adm_area2': 'Caldwell',\n",
       "  'country': 'United States of America',\n",
       "  'lat': '29.82745N',\n",
       "  'lon': '97.39555W',\n",
       "  'timezone': 'America/Chicago',\n",
       "  'type': 'settlement'},\n",
       " {'name': 'National Capital Territory of Delhi',\n",
       "  'place_id': 'national-capital-territory-of-delhi',\n",
       "  'adm_area1': 'National Capital Territory of Delhi',\n",
       "  'adm_area2': None,\n",
       "  'country': 'India',\n",
       "  'lat': '28.6667N',\n",
       "  'lon': '77.1E',\n",
       "  'timezone': 'Asia/Kolkata',\n",
       "  'type': 'administrative_area'}]"
      ]
     },
     "execution_count": 7,
     "metadata": {},
     "output_type": "execute_result"
    }
   ],
   "source": [
    "response"
   ]
  },
  {
   "cell_type": "code",
   "execution_count": 8,
   "metadata": {},
   "outputs": [],
   "source": [
    "functions = [\n",
    "        {\n",
    "            \"name\": \"get_current_weather\",\n",
    "            \"description\": \"Get the current weather in a given location\",\n",
    "            \"parameters\": {\n",
    "                \"type\": \"object\",\n",
    "                \"properties\": {\n",
    "                    \"location\": {\n",
    "                        \"type\": \"string\",\n",
    "                        \"description\": \"The city and state, e.g. San Francisco, CA\",\n",
    "                    },\n",
    "                    \n",
    "                },\n",
    "                \"required\": [\"location\"],\n",
    "            },\n",
    "        }\n",
    "    ]"
   ]
  },
  {
   "cell_type": "code",
   "execution_count": 9,
   "metadata": {},
   "outputs": [],
   "source": [
    "\n",
    "user_message=\"Hi There\"\n",
    "messages=[]\n",
    "messages.append({\"role\": \"user\", \"content\":user_message})\n",
    "\n",
    "completion=openai.ChatCompletion.create(\n",
    "    model=\"gpt-3.5-turbo\",\n",
    "    messages= messages\n",
    "    \n",
    ")"
   ]
  },
  {
   "cell_type": "code",
   "execution_count": 10,
   "metadata": {},
   "outputs": [
    {
     "name": "stdout",
     "output_type": "stream",
     "text": [
      "{\n",
      "  \"role\": \"assistant\",\n",
      "  \"content\": \"Hello! How can I assist you today?\",\n",
      "  \"refusal\": null\n",
      "}\n"
     ]
    }
   ],
   "source": [
    "print(completion.choices[0].message)"
   ]
  },
  {
   "cell_type": "code",
   "execution_count": 11,
   "metadata": {},
   "outputs": [
    {
     "data": {
      "text/plain": [
       "[{'role': 'user', 'content': 'Hi There'}]"
      ]
     },
     "execution_count": 11,
     "metadata": {},
     "output_type": "execute_result"
    }
   ],
   "source": [
    "messages"
   ]
  },
  {
   "cell_type": "code",
   "execution_count": 36,
   "metadata": {},
   "outputs": [],
   "source": [
    "user_message=\"What is the temperature of Bangalore\"\n",
    "\n",
    "messages.append({\"role\": \"user\", \"content\": user_message})\n",
    "\n",
    "completion=openai.ChatCompletion.create(\n",
    "    model=\"gpt-3.5-turbo\",\n",
    "    messages=messages,\n",
    "    functions=functions\n",
    "    \n",
    ")"
   ]
  },
  {
   "cell_type": "code",
   "execution_count": 37,
   "metadata": {},
   "outputs": [],
   "source": [
    "# messages"
   ]
  },
  {
   "cell_type": "code",
   "execution_count": 38,
   "metadata": {},
   "outputs": [],
   "source": [
    "# completion"
   ]
  },
  {
   "cell_type": "code",
   "execution_count": 39,
   "metadata": {},
   "outputs": [
    {
     "name": "stdout",
     "output_type": "stream",
     "text": [
      "{\n",
      "  \"role\": \"assistant\",\n",
      "  \"content\": null,\n",
      "  \"function_call\": {\n",
      "    \"name\": \"get_current_weather\",\n",
      "    \"arguments\": \"{\\\"location\\\":\\\"Bangalore\\\"}\"\n",
      "  },\n",
      "  \"refusal\": null\n",
      "}\n"
     ]
    }
   ],
   "source": [
    "print(completion.choices[0].message)"
   ]
  },
  {
   "cell_type": "code",
   "execution_count": 40,
   "metadata": {},
   "outputs": [],
   "source": [
    "response=completion.choices[0].message"
   ]
  },
  {
   "cell_type": "code",
   "execution_count": 41,
   "metadata": {},
   "outputs": [
    {
     "data": {
      "text/plain": [
       "<OpenAIObject at 0x184ccd951c0> JSON: {\n",
       "  \"role\": \"assistant\",\n",
       "  \"content\": null,\n",
       "  \"function_call\": {\n",
       "    \"name\": \"get_current_weather\",\n",
       "    \"arguments\": \"{\\\"location\\\":\\\"Bangalore\\\"}\"\n",
       "  },\n",
       "  \"refusal\": null\n",
       "}"
      ]
     },
     "execution_count": 41,
     "metadata": {},
     "output_type": "execute_result"
    }
   ],
   "source": [
    "response"
   ]
  },
  {
   "cell_type": "code",
   "execution_count": 42,
   "metadata": {},
   "outputs": [
    {
     "name": "stdout",
     "output_type": "stream",
     "text": [
      "get_current_weather\n"
     ]
    }
   ],
   "source": [
    "function_name=response['function_call']['name']\n",
    "print(function_name)\n"
   ]
  },
  {
   "cell_type": "code",
   "execution_count": 43,
   "metadata": {},
   "outputs": [
    {
     "name": "stdout",
     "output_type": "stream",
     "text": [
      "Bangalore\n"
     ]
    }
   ],
   "source": [
    "import json\n",
    "location=eval(response['function_call']['arguments'])['location']\n",
    "print(location)"
   ]
  },
  {
   "cell_type": "code",
   "execution_count": 44,
   "metadata": {},
   "outputs": [],
   "source": [
    "# Step 4: send the info on the function call and function response to GPT\n",
    "messages.append(response)  # extend conversation with assistant's reply\n",
    "messages.append(\n",
    "    {\n",
    "        \"role\": \"function\",\n",
    "        \"name\": function_name,\n",
    "        \"content\": location,\n",
    "    }\n",
    ")"
   ]
  },
  {
   "cell_type": "code",
   "execution_count": 45,
   "metadata": {},
   "outputs": [
    {
     "data": {
      "text/plain": [
       "[{'role': 'user', 'content': 'Hi There'},\n",
       " {'role': 'user', 'content': 'What is the temperature of Delhi'},\n",
       " <OpenAIObject at 0x184ccd85580> JSON: {\n",
       "   \"role\": \"assistant\",\n",
       "   \"content\": null,\n",
       "   \"function_call\": {\n",
       "     \"name\": \"get_current_weather\",\n",
       "     \"arguments\": \"{\\\"location\\\":\\\"Delhi\\\"}\"\n",
       "   },\n",
       "   \"refusal\": null\n",
       " },\n",
       " {'role': 'function', 'name': 'get_current_weather', 'content': 'Delhi'},\n",
       " {'role': 'user', 'content': 'What is the temperature of Mumbai'},\n",
       " <OpenAIObject at 0x184ccd874c0> JSON: {\n",
       "   \"role\": \"assistant\",\n",
       "   \"content\": null,\n",
       "   \"function_call\": {\n",
       "     \"name\": \"get_current_weather\",\n",
       "     \"arguments\": \"{\\\"location\\\":\\\"Mumbai\\\"}\"\n",
       "   },\n",
       "   \"refusal\": null\n",
       " },\n",
       " {'role': 'function', 'name': 'get_current_weather', 'content': 'Mumbai'},\n",
       " {'role': 'user', 'content': 'What is the temperature of Bangalore'},\n",
       " <OpenAIObject at 0x184ccd951c0> JSON: {\n",
       "   \"role\": \"assistant\",\n",
       "   \"content\": null,\n",
       "   \"function_call\": {\n",
       "     \"name\": \"get_current_weather\",\n",
       "     \"arguments\": \"{\\\"location\\\":\\\"Bangalore\\\"}\"\n",
       "   },\n",
       "   \"refusal\": null\n",
       " },\n",
       " {'role': 'function', 'name': 'get_current_weather', 'content': 'Bangalore'}]"
      ]
     },
     "execution_count": 45,
     "metadata": {},
     "output_type": "execute_result"
    }
   ],
   "source": [
    "messages"
   ]
  },
  {
   "cell_type": "code",
   "execution_count": 46,
   "metadata": {},
   "outputs": [],
   "source": [
    "# extend conversation with function response\n",
    "second_response = openai.ChatCompletion.create(\n",
    "    model=\"gpt-3.5-turbo\",\n",
    "    messages=messages,\n",
    "    functions=functions\n",
    ")  # get a new response from GPT where it can see the function response\n"
   ]
  },
  {
   "cell_type": "code",
   "execution_count": 47,
   "metadata": {},
   "outputs": [
    {
     "name": "stdout",
     "output_type": "stream",
     "text": [
      "{\n",
      "  \"role\": \"assistant\",\n",
      "  \"content\": \"Currently, the weather in Bangalore is clear with a temperature of 28\\u00b0C.\",\n",
      "  \"refusal\": null\n",
      "}\n"
     ]
    }
   ],
   "source": [
    "print(second_response.choices[0].message)"
   ]
  },
  {
   "cell_type": "code",
   "execution_count": null,
   "metadata": {},
   "outputs": [],
   "source": []
  }
 ],
 "metadata": {
  "kernelspec": {
   "display_name": "openaidemo",
   "language": "python",
   "name": "python3"
  },
  "language_info": {
   "codemirror_mode": {
    "name": "ipython",
    "version": 3
   },
   "file_extension": ".py",
   "mimetype": "text/x-python",
   "name": "python",
   "nbconvert_exporter": "python",
   "pygments_lexer": "ipython3",
   "version": "3.10.14"
  }
 },
 "nbformat": 4,
 "nbformat_minor": 2
}

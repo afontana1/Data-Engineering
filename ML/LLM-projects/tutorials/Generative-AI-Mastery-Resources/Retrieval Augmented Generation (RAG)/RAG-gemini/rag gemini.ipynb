{
 "cells": [
  {
   "cell_type": "code",
   "execution_count": 1,
   "id": "7d49c22a-1ad0-4395-b93b-aa95660aa026",
   "metadata": {},
   "outputs": [],
   "source": [
    "from langchain_community.document_loaders import PyPDFLoader\n",
    "\n",
    "loader = PyPDFLoader(\"my_paper.pdf\")\n",
    "data = loader.load()  "
   ]
  },
  {
   "cell_type": "code",
   "execution_count": 2,
   "id": "9672410a",
   "metadata": {},
   "outputs": [
    {
     "data": {
      "text/plain": [
       "[Document(metadata={'source': 'my_paper.pdf', 'page': 0}, page_content='See discussions, st ats, and author pr ofiles f or this public ation at : https://www .researchgate.ne t/public ation/357213035\\nDevelopment of Multiple Combined Regression Methods for Rainfall\\nMeasu rement Development of Multiple Combined Regression Methods for\\nRainfall Measu rement\\nArticle  · Dec ember 2021\\nCITATIONS\\n0READS\\n711\\n6 author s, including:\\nNusr at Jahan Pr ottasha\\nDaff odil Int ernational Univ ersity\\n26 PUBLICA TIONS \\xa0\\xa0\\xa0299 CITATIONS \\xa0\\xa0\\xa0\\nSEE PROFILE\\nMd K owsher\\nStevens Instit ute of T echnolog y\\n73 PUBLICA TIONS \\xa0\\xa0\\xa0561 CITATIONS \\xa0\\xa0\\xa0\\nSEE PROFILE\\nRokeya Khat un Shorna\\nJahangirnag ar Univ ersity\\n6 PUBLICA TIONS \\xa0\\xa0\\xa05 CITATIONS \\xa0\\xa0\\xa0\\nSEE PROFILE\\nNiaz Mur shed\\nJahangirnag ar Univ ersity\\n3 PUBLICA TIONS \\xa0\\xa0\\xa00 CITATIONS \\xa0\\xa0\\xa0\\nSEE PROFILE\\nAll c ontent f ollo wing this p age was uplo aded b y Niaz Mur shed  on 21 Dec ember 2021.\\nThe user has r equest ed enhanc ement of the do wnlo aded file.'),\n",
       " Document(metadata={'source': 'my_paper.pdf', 'page': 1}, page_content='See discussions, st ats, and author pr ofiles f or this public ation at : https://www .researchgate.ne t/public ation/354831740\\nDevelopment of Multiple Combined Regression Methods for Rainfall\\nMeasu rement\\nChapt er · Januar y 2021\\nDOI: 10.52458/978-93-91842-08-6-7\\nCITATIONS\\n0READS\\n47\\n6 author s, including:\\nSome o f the author s of this public ation ar e also w orking on these r elat ed pr ojects:\\nBangla NLP  View pr oject\\nImp act le arning Implement ation  View pr oject\\nNusr at Jahan Pr ottasha\\nDaff odil Int ernational Univ ersity\\n15 PUBLICA TIONS \\xa0\\xa0\\xa012 CITATIONS \\xa0\\xa0\\xa0\\nSEE PROFILE\\nMd. K owsher\\nStevens Instit ute of T echnolog y\\n57 PUBLICA TIONS \\xa0\\xa0\\xa094 CITATIONS \\xa0\\xa0\\xa0\\nSEE PROFILE\\nAll c ontent f ollo wing this p age was uplo aded b y Md. K owsher  on 06 Dec ember 2021.\\nThe user has r equest ed enhanc ement of the do wnlo aded file.'),\n",
       " Document(metadata={'source': 'my_paper.pdf', 'page': 2}, page_content='Development of Multiple Combined Regression\\nMethods for Rainfall Measurement.\\nNusrat Jahan Prottasha1, Md. Jashim Uddin2, Md. Kowsher3, Rokeya Khatun\\nShorna4, Niaz Al Murshed5, and Boktiar Ahmed Bappy6\\n1Daﬀodil International University Dhaka 1207, Bangladesh,\\njahannusratprotta@gmail.com\\n2Noakhali Science and Technology University, 3814, Dhaka,\\nmdjaud12@gmail.com\\n3Stevens Institute of Technology, Hoboken, NJ 07030 USA,\\nga.kowsher@gmail.com\\n4Daﬀodil International University, 1207, Dhaka,\\nrokeyashorna5@gmail.com\\n5Jahangirnagar University, 1342, Dhaka,\\nniazalmurshed.ai@gmail.com\\n6Jhenaidah polytechnic institute, 7300, Dhaka,\\nentbappy73@gmail.com\\nAbstract. Rainfall forecast is imperative as overwhelming precipitation\\ncan lead to numerous catastrophes. The prediction makes a diﬀerence for\\nindividuals to require preventive measures. In addition, the expectation\\nought to be precise. Most of the nations in the world is an agricultural\\nnation and most of the economy of any nation depends upon agriculture.\\nRain plays an imperative part in agribusiness so the early expectation of\\nrainfall plays a vital part within the economy of any agricultural. Over-\\nwhelming precipitation may well be a major disadvantage. It’s a cause\\nfor natural disasters like ﬂoods and drought that unit of measurement\\nexperienced by people over the world each year. Rainfall forecast has\\nbeen one of the foremost challenging issues around the world in the ﬁnal\\nyear. There are so many techniques that have been invented for predict-\\ning rainfall but most of them are classiﬁcation, clustering techniques.\\nPredicting the quantity of rain prediction is crucial for countries’ people.\\nIn our paperwork, we have proposed some regression analysis techniques\\nwhich can be utilized for predicting the quantity of rainfall (The amount\\nof rainfall recorded for the day in mm) based on some historical weather\\nconditions dataset. we have applied 10 supervised regressors (Machine\\nLearning Model) and some preprocessing methodology to the dataset.\\nWe have also analyzed the result and compared them using various sta-\\ntistical parameters among these trained models to ﬁnd the bestperformed\\nmodel. Using this model for predicting the quantity of rainfall in some\\ndiﬀerent places. Finally, the Random Forest regressor has predicted the\\nbest r2 score of 0.869904217, and the mean absolute error is 0.194459262,\\nmean squared error is 0.126358647 and the root mean squared error is\\n0.355469615. . .'),\n",
       " Document(metadata={'source': 'my_paper.pdf', 'page': 3}, page_content='2 Nusrat Jahan et al.\\nKeywords: Rainfall, Supervised Learning, Regression, Random Forest\\nTree, AdaBoost Regressor, Gradient Boosting Regressor, XGBoost.\\n1 Introduction\\nThis research paper proposed a scientiﬁc method to predict rainfall quantity\\nbased on some diﬀerent weather conditions considering preceding weather records\\nand present weather situations using some regression analysis techniques .[1]\\nRainfall determining is exceptionally vital since overwhelming and irregular rain-\\nfall can have numerous impacts on many other things like annihilation of river-\\nbank, crops, agriculture, and farms. One of the very deleterious departures is\\nﬂooding due to the over rain.[2] According to Wikipedia in late summer 2002,\\nenormous storm downpours driven to gigantic ﬂooding in eastern India, Nepal,\\nand Bangladesh, killing over 500 individuals and clearing out millions of houses.\\nEach year in Bangladesh approximately 26,000 square kilometers (10,000 sq mi)\\n(around 18% of the country) is ﬂooded, killing over 5,000 individuals and wreck-\\ning more than 7 million homes. On the other hand, Western Sydney is now\\nthe ”greatest concern” from the worst ﬂoods in decades to have ravaged east-\\nern Australia.[3] Jonh C, Rodda et al. presented a very rational method of the\\nrainfall measurement problem. The application of science and innovation that\\npredicts the state of the environment at any given speciﬁc period is known as\\nclimate determining or weather forecasting. There are many distinctive strate-\\ngies for climate estimate and weather forecasting. But rainfall prediction is rare.\\nSome of the research has shown some classiﬁcation method to predict whether\\nit would be rain tomorrow or not. But instead of a classiﬁcation method for pre-\\ndicting rain, we need to the quantity of the rainfall in a particular place. There\\nis numerous equipment implement for foreseeing rainfall by utilizing the climate\\nconditions like temperature, humidity, weight. These conventional strategies can-\\nnot work productively so by utilizing machine learning procedures. we can create\\nan exact comes about rain forecast. Ready to fair do it by having the histori-\\ncal information investigation of rainfall and can anticipate the precipitation for\\nfuture seasons. In our paper, we presented some predictive regression analysis\\ntechniques to quantify rainfall quantity at a place. Here we used more than 10\\nyears of historical data to train our model. The dataset contains various weather\\nconditions of diﬀerent places. This method can be utilized to predict the rainfall\\n(The amount of rainfall recorded for the day in mm) and avoid the annihilation\\ncaused by it to life, agriculture, farm, and property. If we can quantify the rain-\\nfall most people can make some decisions before overwhelmed rain-aﬀected. The\\ncontributions of this work are summarised as:\\n–We have assessed a pipeline of making choices for evaluating the ﬁnest rea-\\nsonable rain prediction.\\n–We have utilized 10 supervised regressors (Machine Learning Model). Be-\\ncause diﬀerent regressors give us diﬀerent results. So, it’s essential to ﬁnd\\nout the right model according to the requirements.'),\n",
       " Document(metadata={'source': 'my_paper.pdf', 'page': 4}, page_content='Rainfall Prediction 3\\n–We have discussed a big comparison among all trained models to ﬁgure out\\nthe best performer.\\nThe paper is organized as takes after: Section II clariﬁes the related work of\\ndiﬀerent classiﬁcation strategies for the forecast of rain classiﬁcation. Section-III\\ndepicts the technique and materials utilized. Section-IV depicts the experimental\\nanalysis including performance and result. Section V talks about the conclusion\\nof this research work where section VI described about the plan of future.\\n2 Related Works\\nIn this paper, through a systematic investigation Rodda et al. have presented the\\nrainfall measurement problem, they claim there’s an orderly mistake in the esti-\\nmation of precipitation made in an ordinary way, a mistake which may inﬂuence\\nany gauges utilizing these estimations.[3] Besides Prabakaran et al. proposed a\\nmethod that speaks to a numerical strategy called Linear Regression to antici-\\npate the rainfall in diﬀerent areas in southern states of India.[4] To improvement\\nWang et al. showed a case study they proposed an application of generalized\\nregression neural network (GRNN) model to anticipate yearly precipitation in\\nZhengzhou .[5] On the other hand, Sethi et al. presented an exploiting data min-\\ning technique for the early prediction of rainfall called multiple linear regression\\n(MLR) .[6] Sunyoung Lee et al. presented a divide and conquer approach to\\npredict the rainfall based on the locational information only .[7] Also, Bagirov,\\nM Adil et al. developed the Clusterwise Linear Regression (CLR) technique for\\nthe prediction of monthly rainfall .[8] In addition, Mohammed Moulana et al.\\nrepresented machine learning techniques to precipitation prediction the purpose\\nof this project is to oﬀer non-experts simple get to the methods, approaches\\nutilized within the division of precipitation forecast and give a comparative\\nthink about among the diﬀerent machine learning methods.[9] P, Asha, et al\\nproposed a mutual neural classiﬁcation model for predicting rainfall. [10] S, Sak-\\nthivel, et al described neural networks and the rapid miner-based rain prediction\\nsystem.[11] Diwakar, Naidu, et al presented the changes in rainfall patterns in\\nnumerous agro-climatic zones using machine learning approaches.[12] Besides,\\nTuan Vu, Dinh, et al utilized an LSHADE-PWI-SVM method for the integra-\\ntion of machine learning classiﬁers conjointly metaheuristic optimization .[13]\\nOn the other hand, Malathi, R, et al showed a Information Gain based Feature\\nSelection Method for Weather Dataset for the prediction of rainfall.[14] Also,\\nNor, SamsiahSani, et al. evaluated many machine learning classiﬁers based on\\nMalaysian data for rainfall prediction.[15] David, Ahijevych, et al presented a\\nrandom forest (RF) that is utilized to produce 2-h ﬁgures of the probability\\nfor the start of mesoscale convective frameworks (MCS-I).[16] John T, Allen,\\net al performed property and agribusiness, as well as handfuls of fatalities and\\nWonders related to extreme electrical storms.[15][17] Harold E, Brooks, et al, dis-\\nplayed the current dissemination of serious rainstorms as a work of large-scale\\nnatural conditions.[18] Pierre, Gentine, et al. Representing uncertain sodden con-\\nvection in coarse-scale climate models remains one of the most bottlenecks of'),\n",
       " Document(metadata={'source': 'my_paper.pdf', 'page': 5}, page_content='4 Nusrat Jahan et al.\\ncurrent climate recreations.[19] McPhaden, et al. described the participation of\\nthe pivotal for agriculture-dependent.[20] Hazell et al, Represented to reduce the\\nrisk of life and also maintain the agriculture farms in a better way [21] Then,\\nMollinga et al. elucidates farmers to take early measurements of ﬂoods, and\\nmanage the water resources properly.[22] Shah et al, discussed to related this\\ntask to predict rain.[23]\\n3 Methodology\\nTo perform the complete technique, we assume the four signiﬁcant steps such as\\ndata collection, data pre-processing, training model using 10 supervised regres-\\nsors, and execution examination. Within the information collection step, we have\\nused a dataset7from the Kaggle platform which has been split into two parts\\nsuch as the training part and validation part. Here we have utilized one of the\\nvalidation parts as the testing data to evaluate the models’ performance. Each\\nrow has various weights for decision making to suggest the sensible best rain\\nprediction. Afterward, gathering all raw data, ﬁrstly we would be made ready\\nfor the training model with the help of data pre-processing techniques and this\\nhas been used for outliers free and more rigid. It also assists to increase the per-\\nformance of the models. As a result, we have applied six pre-processing methods\\nsuch as cleaning data, missing value check, handling the categorical data, han-\\ndling outliers, handling outliers, feature selection. Next, to establish supervised\\nregressors models, we utilized the regressors such as Linear Regression, Ridge\\nRegression, Polynomial Regression, and Lasso Regression. From all the training\\nmethods we have used a total of 10 regressors so that we can compare the per-\\nformance and ﬁgure out the best model. Most of the regressors come up with a\\ngood performance. We have described the whole methodology in the ﬁgure 1:\\nData Collection\\nData Cleaning\\nData Analysis\\nPreprocessingHandling missing value \\nHandling categorical data\\nHandling outliersFeature scalingFeature SelectionSpliting Data\\nTrain Data\\nModel Teﬆ\\nData\\nTrained\\nModel \\nPrediction\\nFig. 1. The whole methodology of rainfall prediction including all important steps\\nsuch as data collection, necessary preprocessing, and training model with performance\\nprediction\\n7https://www.kaggle.com/jsphyg/weather-dataset-rattle-package'),\n",
       " Document(metadata={'source': 'my_paper.pdf', 'page': 6}, page_content='Rainfall Prediction 5\\nTable 1. Considering feature’s description of dataset\\nFeature name Description\\nLocation The common title of the area of the climate\\nstation.\\nMinTemp The least temperature in degrees centigrade.\\nMaxTemp The most extreme temperature in degrees\\ncentigrade.\\nRainfall The sum of precipitation recorded for the day\\nin millimeters.\\nWindGustDir The heading of the most grounded wind blast\\nwithin 24 h to midnight.\\nWindGustSpeed The speed (in kilometers per hour) of the\\nstrongest wind blast within 24 h to midnight.\\nWindDir9am The course of the wind blast at 9 a.m.\\nWindSpeed9am Wind speed (km/hr) found the middle value\\nof over 10 minutes sometime recently 9 am.\\nWindSpeed3pm Wind speed (in kilometers per hour) found\\nthe middle value of over 10 min sometime re-\\ncently 3 p.m.\\nHumidity9am Relative humidity at 9 am.\\nHumidity3pm Relative humidity at 3 pm.\\nPressure 9am Climatic weight (hPa) was decreased to cruel\\nocean level at 9 a.m.\\nTemp3pm Temperature (degrees C) at 3 p.m.\\nRain Today Numbers 1 on the oﬀ chance that precipita-\\ntion (in millimeters) within the 24 h to 9 a.m.\\nsurpasses 1 mm, something else 0.\\n3.1 Introduction dataset\\nKindly This dataset contains about 10 years of daily weather observations from\\nmany locations. We have collected this dataset from Kaggle. It is having 23\\ndiverse observation features of weather condition like ’Location’, ’Min Temp’,\\n’MaxTemp’, ’Rainfall’, ’Evaporation’, ’Sunshine’, ’Wind Gust Dir’, ’Wind Gust\\nSpeed’, ’Wind Dir 9am’, ’Wind Dir 3pm’, ’Wind Speed 9am’, ’Wind Speed 3pm’,\\n’Humidity 9am’, ’Humidity 3pm’, ’Pressure 9 am’, ’Pressure 3pm’, ’Cloud 9am’,\\n’Cloud 3pm’, ’Temp 9am’, ’Temp 3pm’, ’Rain Today’. Here,in the table 1 the\\ndescription of the data-set has been illustrated.'),\n",
       " Document(metadata={'source': 'my_paper.pdf', 'page': 7}, page_content='6 Nusrat Jahan et al.\\n3.2 Pre-Processing\\nIn machine learning, the data preprocessing is within the framework of exchang-\\ning or encoding the crude information in a stage where calculations can be\\neﬀectively implemented to prepare. We ought to preprocess the information con-\\ncurring to create it ﬁt for the machine learning model. Well-processed data gives\\nhigh accuracy and makes the model more solid. Here, we have utilized a few\\nstages of preprocessing strategies, which have been outlined in Figure-2:\\nInput DataData Cleaning\\nRemoved unused\\nfeature\\nRemoved DuplicatesHandling missing values\\nMean & MedianHandling categorical data\\nEDA\\nOne Hot Encoding\\nHandling outliersIQR\\nMethod\\nFeature ScalingStandard Scaler \\nFeature SelectionNumerical \\nCategorical Model Output\\nFig. 2. Data Pre-Processing\\nIn our dataset, there are parcels of unused, null, and duplicate values. For\\nthis reason, we took some steps to handle these issues. such as,\\n–Erased duplicate row and column: we discover that numerous information\\npoints are repeated in row and column sections. Therefore, we expelled all\\nthe duplicate information.\\n–Erased the row and column, which shows up more than 50% of the null value.\\nCleaning data occurs when 50% of information comes to the null value. At\\nthat point, we have chosen to evacuate the whole rows and columns. For\\nthe most part, missing value is characterized as the value which was not put\\naway within the sample. The missing value may be a common occasion in\\ninformation. On the other hand, most prescient modeling strategies can’t\\nhandle any missing value. Thus, this issue must be unraveled before model-\\ning. In some cases, median, mean, mode strategies are utilized to overhaul\\na missing value. In any case, the foremost direct method for managing the\\nmissing value is the mean, median, mode strategy. Here we have utilized this\\nmean, median & mode strategy for managing missing data\\n–Handled categorical features: Categorical data could be a subjective include\\nwhose values are taken on the value of labels. So, we ought to encode this\\nsort of information into numbers so that the machine learning model can'),\n",
       " Document(metadata={'source': 'my_paper.pdf', 'page': 8}, page_content='Rainfall Prediction 7\\nexecute scientiﬁc operations on it. In our dataset, there exist a few categorical\\nfeatures. We have utilized one-hot encoding, one of the foremost prevalent\\nencoding algorithms, to encode the categorical values into numbers. It is the\\nforemost common approach, and it works well unless any categorical variable\\ntakes a large number of diverse values. After this encoding, a double matrix\\nis shaped where 1 indicates the presence of any value and 0 indicates the\\nabsence of the value.\\n–Inside our dataset, there were a lot of outliers presented: an outlier is a\\nperception point that’s removed from other perceptions. An outlier may be\\ndue to variations within the estimation or it may appear exploratory mistake\\nthe latter are some of the time excluded from the set of information. An issue\\nof outliers can cause, they tend to be unaﬀected by littler UI changes that\\ndo inﬂuence a more whimsical standard population. Bulk orders will thrust\\nthrough littler convenience changes in a way that your average visitor may\\nnot. So to handle the outliers we have used the IQR (interquartile range)\\nmethod, which is an eﬃcient technique.\\n–Include scaling is one of the signiﬁcant strategies that are mandatory to\\nstandardize the working data’s independent features. All things considered,\\nthere are diﬀerent strategies like Min-Max Scaling, Variance Scaling, Stan-\\ndardization, Mean Normalization, and Unit vectors for include scaling. In\\nour work, we have applied standard scaling as a feature scaling procedure.\\nHere, the exchanged every data point in the range of between -1 and 1.\\n3.3 Training selective Models\\nThe linear model[24]performs well in machine learning linearly. We utilized the\\nfour regressors as Linear Regression, Ridge Regression, Polynomial Regression,\\nand Lasso Regression. Tree-model [25]algorithms are considered to be one of the\\nleading and most utilized supervised learning methods. In this work, we utilize\\na decision tree regressor. We utilized ”gini” for the Gini impurity, and the split-\\nter is chosen as ’best’ to select the part at each node. Ensemble methods[26]\\nare procedures that make multiple models and combine them to create moves\\nforward. Here, we utilized four ensemble-based regressors. These are Random\\nForest, Gradient Boosting, Adaboost, and XGboost. Afterward, we have utilized\\nthree neighbors regressors of statistical pattern recognition. This is K- nearest\\nneighbors[27],ﬁve nearest is chosen for every iteration. Besides, the Manhat-\\ntan distance is chosen for all neighbor classiﬁers. The support vector machine\\nSVM[28] is used mainly for exploring a hyperplane in ddimensional space that\\nnotably ﬁts a hyperplane in data points. In the linear SVM, we used hinge as\\nloss function with l2 penalty.\\n4 Experiment\\nIn the advancement of our test from the proposed work, we have to begin with\\namassed the demonstrate and prepared it. 10 diﬀerent regressors from super-\\nvised learning based on distinctive learning techniques have been executed to'),\n",
       " Document(metadata={'source': 'my_paper.pdf', 'page': 9}, page_content='8 Nusrat Jahan et al.\\nModel \\nLinear Model \\n> Linear Regression\\n> Polynomial Regression\\n> Ridge \\n> LassoTree Model \\n> Decision tree     \\n Regressor Neareﬆ Neighbor \\n> KNN Regressor Ensemble Model \\n> Random Foreﬆ\\nRegressor \\n> Adabooﬆ\\n> Gradient Booﬆing\\n> XGBooﬆ\\nSVM\\n> Support V ector \\nMachine\\nFig. 3. Training Algorithms\\nanticipate precipitation’s most pertinent mode. This area depicted distinctive\\ntest errands for the execution investigation and assessment and compared all\\ncalculations. Then, we have outlined the test setup utilized to execute the entire\\nerrand and utilized 11 statistical assessment measurements for investigation ex-\\necution. At long last, we have moreover compared with other works related to\\nthis issue concerning the ﬁnest form of our work.\\n4.1 Experiment Setup\\nwe have completed the complete computation in8google collab, a python reen-\\nactment environment given by Google. This environment comes with parallel\\ncomputation facilities for quick execution. We have utilized the foremost well-\\nknown libraries to create simple and expressive information structures that work\\nwell and instinctively quickly. At long last, sklearn library contains specialized\\nmachine learning and statistical modeling instruments, counting classiﬁcation,\\nregression, and clustering calculations for modeling. We have utilized a machine\\nlearning system named9sci-kit learn to implement the regression algorithm. At\\nlong last, we utilized10matplotlib and11seaborn for information visualization,\\ngraphical representation, additionally for information investigation.\\n8https://colab.research.google.com/\\n9https://scikit-learn.org\\n10https://matplotlib.org\\n11https://seaborn.pydata.org'),\n",
       " Document(metadata={'source': 'my_paper.pdf', 'page': 10}, page_content='Rainfall Prediction 9\\n4.2 Statistical measurement\\nR2 score : The R2 score could be a very critical metric that’s utilized to assess the\\nperformance of a regression based machine learning model. It is articulated as\\nR squared and is additionally known as the coeﬃcient of assurance. It works by\\nmeasuring the sum of variance within the expectations clariﬁed by the dataset.\\nBasically put, it is the contrast between the tests within the dataset and the\\nexpectations made by the demonstrate. As we can see from all models Random\\nForest regressor achieves the best r2 score which is 0.869904217. The second\\nand third positions are achieved by GradientBoostingRegressor and XGBoost\\nwhich are 0.863496747 and 0.863215393. The condition is shown underneath in\\ncondition 1:\\nR2= 1−∑n\\ni=1(ˆyi−yi)2\\n∑n\\ni=1(yi−¯yi)2(1)\\nMean absolute error: If we consider with respect to error rate then ﬁrst comes\\nto mean absolute error. In measurements, mean absolute error may be a degree of\\nblunders between combined perceptions communicating the same wonder. Mean\\nAbsolute Error (MAE) is another loss function utilized for relapse models. MAE\\nis the entirety of outright contrasts between our target and anticipated factors.\\nSo it measures the normal greatness of errors in a set of forecasts, without\\nconsidering their bearings. Random Forest regressor gets the least mean absolute\\nerror rate which is 0.194459262 compare to others. The declaration of the F1\\nscore is displayed in equation 2 :\\nMAE =1\\nnn∑\\ni=1⏐⏐⏐Yi−ˆYi⏐⏐⏐ (2)\\nMean squared error: If we consider with respect to mean squared error, The\\nmean squared error (MSE) tells how near a relapse line is to a set of focuses.\\nIt does this by taking the separations from the focuses to the relapse line these\\nseparations are the errors and squaring them, we call It mean squared error.\\nFrom all the models Random forest achieves a minimum mean squared error\\n0.126358647. The articulation is shown beneath in 3 :\\nMSE =1\\nnn∑\\ni=1(\\nYi−ˆYi)2\\n(3)\\nRoot mean squared error: Now if we consider the root mean squared error,\\nRoot Mean Square Error (RMSE) means the standard deviation of the residuals\\nwhich is prediction error. Residuals are a degree of how distant from the relapse\\nline information focuses are RMSE could be a degree of how to spread out these\\nresiduals are. Here root mean squared error of Random Forest is 0.355469615\\nwhich is less compare to others. The verbalization is shown in 4:\\nRMSE =\\ued6a\\ued6b\\ued6b√n∑\\ni=1(ˆyi−yi)2\\nn(4)'),\n",
       " Document(metadata={'source': 'my_paper.pdf', 'page': 11}, page_content='10 Nusrat Jahan et al.\\nBy all the statistical performance analysis we can see Random forest is the\\neﬃcient regressor model and performing well in this use case.\\n4.3 Result & Performance Analysis\\nTable 2. Performance Metrics of diﬀerent regressors\\nModel Name r2 score MAE MSE RMSE\\nRandom Forest 0.869904217 0.19445926 0.126358647 0.355469615\\nDecision Tree 0.742284572 0.21508858 0.250312287 0.500312189\\nLinear Regression 0.837495137 0.22694578 0.157836744 0.397286728\\nKNN Regressor 0.401557082 0.48855924 0.581252029 0.762398865\\nAdaBoost Regressor 0.786451397 0.37659111 0.207414199 0.455427491\\nGradient Boosting Regressor 0.863496747 0.20372662 0.132582057 0.364118191\\nXGBoost 0.863215393 0.20367076 0.132855329 0.364493249\\nRidge Regression 0.837495234 0.157836649 0.132855329 0.397286608\\nLasso Regression -5.91E-05 0.83158029 0.971331339 0.985561434\\nSVM 0.841801 0.203451 0.130951 0.345151\\nFrom table 2, we showed statistical results and comparisons among all ma-\\nchine learning regressors.For better analysis, we choose some statistical pro-\\ncedures for numerical result computing such as r2 score, mean absolute error\\n(MAE), mean square error (MSE), root mean square error (RMSE). After de-\\nveloping the models and testing all regressors, We can see that the Random\\nForest has predicted the best accuracy of 0.869904217 among all others, and the\\nmean absolute error is 0.194459262 which is the lowest, mean squared error is\\n0.126358647 and the root mean squared error is 0.355469615. Considering all\\nerrors and accuracy, it took the best place. Secondly, the gradient boosting re-\\ngressor has gained better accuracy with the second place which is 0.863496747\\nwith the mean absolute error is 0.203726623, mean squared error is 0.132582057\\nand the root mean squared error is 0.364118191. Thirdly, the XGBoost regres-\\nsor has acquired better accuracy, which is 0.863215393, along with the mean\\nabsolute error is 0.203670766, mean squared error is 0.132855329 and the root\\nmean squared error is 0.364493249. Also, from the section on linear algorithms,\\nwe can ﬁgure out that Linear Regression and Ridge Regression showed the al-\\nmost same accuracy and so on. So in this analysis, we can although Random'),\n",
       " Document(metadata={'source': 'my_paper.pdf', 'page': 12}, page_content='Rainfall Prediction 11\\nforest and Gradient Boosting Regressor have acquired almost the same Accuracy\\nbut if we consider the evaluation metrics of then so, Random forest has a low\\nerror rate compare to Gradient Boosting. So, here we have considered the Ran-\\ndom forest approach. Overall all of regressors showed a standard and acceptable\\nperformance.\\nThe bar chart is a graph for representing all regressors algorithms with Sta-\\ntistical measurement. The bar can be vertically or horizontally. Here is the bar\\ngraph of our selective algorithms, down below.\\nFig. 4. Selective algorithms\\n5 Conclusion\\nIn this work, we have presented an initial attempt to determine how much rain\\nwill come when it’s raining time. In the data collection phase, we adopted real\\ndata from Australia from the Kaggle platform. The primary purpose of this\\ntask is to ﬁnd out the best regression technique for the prediction of rain. For\\nthis reason, we have used a variety of regression analysis techniques that can\\nbe utilized for predicting the quantity of rainfall so that anyone can use the\\nbest predictive model in real-life applications. To perform this task, we selected\\nﬁve signiﬁcant steps, these are data collection, data prepossessing, training model\\nusing regression analysis techniques, and performance analysis. In pre-processing\\npart, we have described cleaning data, Missing value check, EDA, Handling\\noutliers, Feature selection, Feature scaling respectively. Besides, we used ten\\nsupervised regressors (machine learning models) for predicting rainfall. Among\\nall models the are gives good accuracy in our predicting regression. Here, in'),\n",
       " Document(metadata={'source': 'my_paper.pdf', 'page': 13}, page_content='12 Nusrat Jahan et al.\\nthe ﬁgure 4 the graphical performance including compassion among all trained\\nmodels has been depicted\\n6 Future Work\\nIn future work, we will focus on the real-life application of rainfall prediction,\\nso that anyone especially farmer can use it easily and forecast the weather of\\nrain. Also, we have plan to use the neural network based deep hybrid approaches\\nto improve the performance. Undoubtedly, we have plans to evaluate the other\\ncountry’s data for forecasting the rain.\\nReferences\\n1. EG Ortiz-Garc´ ıa, S Salcedo-Sanz, and C Casanova-Mateo. Accurate precipita-\\ntion prediction with support vector classiﬁers: A study including novel predictive\\nvariables and observational data. Atmospheric research , 139:128–136, 2014.\\n2. Ian Tyrrell. River Dreams: The people and landscape of the Cooks River . NewSouth,\\n2018.\\n3. John C Rodda. The rainfall measurement problem. IAHS Publication No , 78:215–\\n231, 1967.\\n4. Gujanatti Rudrappa, Nataraj Vijapur, Rajesh Pattar, Ravi Rathod, Rashmi\\nKulkarni, Vudu Sree Chandana, and Sateesh N Hosmane. Machine learning mod-\\nels applied for rainfall prediction. REVISTA GEINTEC-GESTAO INOVACAO E\\nTECNOLOGIAS , 11(3):179–187, 2021.\\n5. Zhi-liang Wang and Hui-hua Sheng. Rainfall prediction using generalized regres-\\nsion neural network: case study zhengzhou. In 2010 International conference on\\ncomputational and information sciences , pages 1265–1268. IEEE, 2010.\\n6. Nikhil Sethi and Kanwal Garg. Exploiting data mining technique for rainfall pre-\\ndiction. International Journal of Computer Science and Information Technologies ,\\n5(3):3982–3984, 2014.\\n7. Sunyoung Lee, Sungzoon Cho, and Patrick M Wong. Rainfall prediction using\\nartiﬁcial neural networks. journal of geographic information and Decision Analysis ,\\n2(2):233–242, 1998.\\n8. Adil M Bagirov, Arshad Mahmood, and Andrew Barton. Prediction of monthly\\nrainfall in victoria, australia: Clusterwise linear regression approach. Atmospheric\\nresearch , 188:20–29, 2017.\\n9. Mohammed Moulana, Kolapalli Roshitha, Golla Niharika, and Maturi Siva Sai.\\nPrediction of rainfall using machine learning techniques. International Journal of\\nScientiﬁc & Technology Research , 9:3236–3240, 2020.\\n10. P Asha, A Jesudoss, S Prince Mary, KV Sai Sandeep, and K Harsha Vardhan.\\nAn eﬃcient hybrid machine learning classiﬁer for rainfall prediction. In Journal of\\nPhysics: Conference Series , volume 1770, page 012012. IOP Publishing, 2021.\\n11. S Sakthivel et al. Eﬀective procedure to predict rainfall conditions using hybrid\\nmachine learning strategies. Turkish Journal of Computer and Mathematics Edu-\\ncation (TURCOMAT) , 12(6):209–216, 2021.\\n12. Diwakar Naidu, Babita Majhi, and Surendra Kumar Chandniha. Development of\\nrainfall prediction models using machine learning approaches for diﬀerent agro-\\nclimatic zones. In Handbook of Research on Automated Feature Engineering and\\nAdvanced Applications in Data Science , pages 72–94. IGI Global, 2021.'),\n",
       " Document(metadata={'source': 'my_paper.pdf', 'page': 14}, page_content='Rainfall Prediction 13\\n13. Tuan Vu Dinh, Hieu Nguyen, Xuan-Linh Tran, and Nhat-Duc Hoang. Predict-\\ning rainfall-induced soil erosion based on a hybridization of adaptive diﬀerential\\nevolution and support vector machine classiﬁcation. Mathematical Problems in\\nEngineering , 2021, 2021.\\n14. R Malathi and M Manimekalai. Ant colony–information gain based feature selec-\\ntion method for weather dataset. Annals of the Romanian Society for Cell Biology ,\\npages 3838–3850, 2021.\\n15. Nor SamsiahSani, Israa Shlash, Mohammed Hassan, Abdul Hadi, and Mohd Aliﬀ.\\nEnhancing malaysia rainfall prediction using classiﬁcation techniques. J. Appl.\\nEnviron. Biol. Sci , 7(2S):20–29, 2017.\\n16. David Ahijevych, James O Pinto, John K Williams, and Matthias Steiner. Proba-\\nbilistic forecasts of mesoscale convective system initiation using the random forest\\ndata mining technique. Weather and Forecasting , 31(2):581–599, 2016.\\n17. John T Allen. Climate change and severe thunderstorms. In Oxford research\\nencyclopedia of climate science . 2018.\\n18. Harold E Brooks. Severe thunderstorms and climate change. Atmospheric Re-\\nsearch , 123:129–138, 2013.\\n19. Pierre Gentine, Mike Pritchard, Stephan Rasp, Gael Reinaudi, and Galen Yacalis.\\nCould machine learning break the convection parameterization deadlock? Geo-\\nphysical Research Letters , 45(11):5742–5751, 2018.\\n20. Michael J Mcphaden, Gary Meyers, K Ando, Y Masumoto, VSN Murty,\\nM Ravichandran, F Syamsudin, J´ erˆ ome Vialard, Lianbo Yu, and W Yu. Rama:\\nthe research moored array for african–asian–australian monsoon analysis and pre-\\ndiction. Bulletin of the American Meteorological Society , 90(4):459–480, 2009.\\n21. Peter BR Hazell. The appropriate role of agricultural insurance in developing\\ncountries. Journal of International Development , 4(6):567–581, 1992.\\n22. Peter P Mollinga, Ruth S Meinzen-Dick, and Douglas J Merrey. Politics, plurality\\nand problemsheds: A strategic approach for reform of agricultural water resources\\nmanagement. Development Policy Review , 25(6):699–719, 2007.\\n23. Chirag Shah, Chathra Hendahewa, and Roberto Gonz´ alez-Ib´ a˜ nez. Rain or shine?\\nforecasting search process performance in exploratory search tasks. Journal of the\\nAssociation for Information Science and Technology , 67(7):1607–1623, 2016.\\n24. Gareth James, Daniela Witten, Trevor Hastie, and Robert Tibshirani. Linear\\nmodel selection and regularization. In An introduction to statistical learning , pages\\n225–288. Springer, 2021.\\n25. Raksha Agarwal and Niladri Chatterjee. Langresearchlab nc at cmcl2021 shared\\ntask: Predicting gaze behaviour using linguistic features and tree regressors. In\\nProceedings of the Workshop on Cognitive Modeling and Computational Linguis-\\ntics, pages 79–84, 2021.\\n26. S Ben´ ıtez-Pe˜ na, E Carrizosa, V Guerrero, MD Jim´ enez-Gamero, B Mart´ ın-\\nBarrag´ an, and C Molero-R´ ıo. On sparse ensemble methods. 2021.\\n27. Kim de Bie, Ana Lucic, and Hinda Haned. To trust or not to trust a regressor:\\nEstimating and explaining trustworthiness of regression predictions. arXiv preprint\\narXiv:2104.06982 , 2021.\\n28. Mauricio Gonz´ alez-Palacio, Lina Sep´ ulveda-Cano, and Ronal Montoya. Simpli-\\nﬁed path loss lognormal shadow fading model versus a support vector machine-\\nbased regressor comparison for determining reception powers in wlan networks. In\\nInternational Conference on Information Technology & Systems , pages 431–441.\\nSpringer, 2021.\\nView publication statsView publication statsView publication stats')]"
      ]
     },
     "execution_count": 2,
     "metadata": {},
     "output_type": "execute_result"
    }
   ],
   "source": [
    "data"
   ]
  },
  {
   "cell_type": "code",
   "execution_count": 3,
   "id": "a374eb7c-e262-42bb-8f3f-308ba7dcdbe4",
   "metadata": {},
   "outputs": [
    {
     "data": {
      "text/plain": [
       "15"
      ]
     },
     "execution_count": 3,
     "metadata": {},
     "output_type": "execute_result"
    }
   ],
   "source": [
    "len(data)"
   ]
  },
  {
   "cell_type": "code",
   "execution_count": 4,
   "id": "29633e3b-ff24-4ace-a09b-c03b6e28c5cc",
   "metadata": {},
   "outputs": [
    {
     "name": "stdout",
     "output_type": "stream",
     "text": [
      "Total number of documents:  44\n"
     ]
    }
   ],
   "source": [
    "from langchain.text_splitter import RecursiveCharacterTextSplitter\n",
    "\n",
    "# split data\n",
    "text_splitter = RecursiveCharacterTextSplitter(chunk_size=1000)\n",
    "docs = text_splitter.split_documents(data)\n",
    "\n",
    "\n",
    "print(\"Total number of documents: \",len(docs))"
   ]
  },
  {
   "cell_type": "code",
   "execution_count": 5,
   "id": "100b7d1a-1209-49d4-99ed-c51bc233a938",
   "metadata": {},
   "outputs": [
    {
     "data": {
      "text/plain": [
       "Document(metadata={'source': 'my_paper.pdf', 'page': 0}, page_content='See discussions, st ats, and author pr ofiles f or this public ation at : https://www .researchgate.ne t/public ation/357213035\\nDevelopment of Multiple Combined Regression Methods for Rainfall\\nMeasu rement Development of Multiple Combined Regression Methods for\\nRainfall Measu rement\\nArticle  · Dec ember 2021\\nCITATIONS\\n0READS\\n711\\n6 author s, including:\\nNusr at Jahan Pr ottasha\\nDaff odil Int ernational Univ ersity\\n26 PUBLICA TIONS \\xa0\\xa0\\xa0299 CITATIONS \\xa0\\xa0\\xa0\\nSEE PROFILE\\nMd K owsher\\nStevens Instit ute of T echnolog y\\n73 PUBLICA TIONS \\xa0\\xa0\\xa0561 CITATIONS \\xa0\\xa0\\xa0\\nSEE PROFILE\\nRokeya Khat un Shorna\\nJahangirnag ar Univ ersity\\n6 PUBLICA TIONS \\xa0\\xa0\\xa05 CITATIONS \\xa0\\xa0\\xa0\\nSEE PROFILE\\nNiaz Mur shed\\nJahangirnag ar Univ ersity\\n3 PUBLICA TIONS \\xa0\\xa0\\xa00 CITATIONS \\xa0\\xa0\\xa0\\nSEE PROFILE\\nAll c ontent f ollo wing this p age was uplo aded b y Niaz Mur shed  on 21 Dec ember 2021.\\nThe user has r equest ed enhanc ement of the do wnlo aded file.')"
      ]
     },
     "execution_count": 5,
     "metadata": {},
     "output_type": "execute_result"
    }
   ],
   "source": [
    "docs[0]"
   ]
  },
  {
   "cell_type": "markdown",
   "id": "b62c5113",
   "metadata": {},
   "source": [
    "# Get an API key: \n",
    "\n",
    " https://ai.google.dev/gemini-api/docs/api-key to generate a Google AI API key. Paste in .env file\n",
    "\n",
    " Embedding models: https://python.langchain.com/v0.1/docs/integrations/text_embedding/"
   ]
  },
  {
   "cell_type": "code",
   "execution_count": 6,
   "id": "1073ab7f-2632-4367-8dec-c19449d6ce71",
   "metadata": {},
   "outputs": [
    {
     "name": "stderr",
     "output_type": "stream",
     "text": [
      "c:\\Anaconda3\\envs\\openaidemo\\lib\\site-packages\\tqdm\\auto.py:21: TqdmWarning: IProgress not found. Please update jupyter and ipywidgets. See https://ipywidgets.readthedocs.io/en/stable/user_install.html\n",
      "  from .autonotebook import tqdm as notebook_tqdm\n"
     ]
    },
    {
     "data": {
      "text/plain": [
       "[0.05168594419956207,\n",
       " -0.030764883384108543,\n",
       " -0.03062233328819275,\n",
       " -0.02802734449505806,\n",
       " 0.01813092641532421]"
      ]
     },
     "execution_count": 6,
     "metadata": {},
     "output_type": "execute_result"
    }
   ],
   "source": [
    "from langchain_chroma import Chroma\n",
    "from langchain_google_genai import GoogleGenerativeAIEmbeddings\n",
    "\n",
    "from dotenv import load_dotenv\n",
    "load_dotenv() \n",
    "\n",
    "\n",
    "\n",
    "embeddings = GoogleGenerativeAIEmbeddings(model=\"models/embedding-001\")\n",
    "vector = embeddings.embed_query(\"hello, world!\")\n",
    "vector[:5]\n",
    "#vector"
   ]
  },
  {
   "cell_type": "code",
   "execution_count": 7,
   "id": "688b6e6a-d8ab-41fb-a665-b72c9c9b4026",
   "metadata": {},
   "outputs": [],
   "source": [
    "vectorstore = Chroma.from_documents(documents=docs, embedding=GoogleGenerativeAIEmbeddings(model=\"models/embedding-001\"))"
   ]
  },
  {
   "cell_type": "code",
   "execution_count": 8,
   "id": "2c674c5c-1b57-42e9-a99d-9e882c75da2d",
   "metadata": {},
   "outputs": [],
   "source": [
    "retriever = vectorstore.as_retriever(search_type=\"similarity\", search_kwargs={\"k\": 10})\n",
    "\n",
    "retrieved_docs = retriever.invoke(\"What is new in Development of Multiple Combined Regression Methods for Rainfall Measurement paper?\")\n"
   ]
  },
  {
   "cell_type": "code",
   "execution_count": 9,
   "id": "04c5c6bb-fd0e-45ec-b315-e3f7656e0329",
   "metadata": {},
   "outputs": [
    {
     "data": {
      "text/plain": [
       "10"
      ]
     },
     "execution_count": 9,
     "metadata": {},
     "output_type": "execute_result"
    }
   ],
   "source": [
    "len(retrieved_docs)"
   ]
  },
  {
   "cell_type": "code",
   "execution_count": 10,
   "id": "bf21d394",
   "metadata": {},
   "outputs": [
    {
     "data": {
      "text/plain": [
       "[Document(metadata={'page': 0, 'source': 'my_paper.pdf'}, page_content='See discussions, st ats, and author pr ofiles f or this public ation at : https://www .researchgate.ne t/public ation/357213035\\nDevelopment of Multiple Combined Regression Methods for Rainfall\\nMeasu rement Development of Multiple Combined Regression Methods for\\nRainfall Measu rement\\nArticle  · Dec ember 2021\\nCITATIONS\\n0READS\\n711\\n6 author s, including:\\nNusr at Jahan Pr ottasha\\nDaff odil Int ernational Univ ersity\\n26 PUBLICA TIONS \\xa0\\xa0\\xa0299 CITATIONS \\xa0\\xa0\\xa0\\nSEE PROFILE\\nMd K owsher\\nStevens Instit ute of T echnolog y\\n73 PUBLICA TIONS \\xa0\\xa0\\xa0561 CITATIONS \\xa0\\xa0\\xa0\\nSEE PROFILE\\nRokeya Khat un Shorna\\nJahangirnag ar Univ ersity\\n6 PUBLICA TIONS \\xa0\\xa0\\xa05 CITATIONS \\xa0\\xa0\\xa0\\nSEE PROFILE\\nNiaz Mur shed\\nJahangirnag ar Univ ersity\\n3 PUBLICA TIONS \\xa0\\xa0\\xa00 CITATIONS \\xa0\\xa0\\xa0\\nSEE PROFILE\\nAll c ontent f ollo wing this p age was uplo aded b y Niaz Mur shed  on 21 Dec ember 2021.\\nThe user has r equest ed enhanc ement of the do wnlo aded file.'),\n",
       " Document(metadata={'page': 1, 'source': 'my_paper.pdf'}, page_content='See discussions, st ats, and author pr ofiles f or this public ation at : https://www .researchgate.ne t/public ation/354831740\\nDevelopment of Multiple Combined Regression Methods for Rainfall\\nMeasu rement\\nChapt er · Januar y 2021\\nDOI: 10.52458/978-93-91842-08-6-7\\nCITATIONS\\n0READS\\n47\\n6 author s, including:\\nSome o f the author s of this public ation ar e also w orking on these r elat ed pr ojects:\\nBangla NLP  View pr oject\\nImp act le arning Implement ation  View pr oject\\nNusr at Jahan Pr ottasha\\nDaff odil Int ernational Univ ersity\\n15 PUBLICA TIONS \\xa0\\xa0\\xa012 CITATIONS \\xa0\\xa0\\xa0\\nSEE PROFILE\\nMd. K owsher\\nStevens Instit ute of T echnolog y\\n57 PUBLICA TIONS \\xa0\\xa0\\xa094 CITATIONS \\xa0\\xa0\\xa0\\nSEE PROFILE\\nAll c ontent f ollo wing this p age was uplo aded b y Md. K owsher  on 06 Dec ember 2021.\\nThe user has r equest ed enhanc ement of the do wnlo aded file.'),\n",
       " Document(metadata={'page': 2, 'source': 'my_paper.pdf'}, page_content='Development of Multiple Combined Regression\\nMethods for Rainfall Measurement.\\nNusrat Jahan Prottasha1, Md. Jashim Uddin2, Md. Kowsher3, Rokeya Khatun\\nShorna4, Niaz Al Murshed5, and Boktiar Ahmed Bappy6\\n1Daﬀodil International University Dhaka 1207, Bangladesh,\\njahannusratprotta@gmail.com\\n2Noakhali Science and Technology University, 3814, Dhaka,\\nmdjaud12@gmail.com\\n3Stevens Institute of Technology, Hoboken, NJ 07030 USA,\\nga.kowsher@gmail.com\\n4Daﬀodil International University, 1207, Dhaka,\\nrokeyashorna5@gmail.com\\n5Jahangirnagar University, 1342, Dhaka,\\nniazalmurshed.ai@gmail.com\\n6Jhenaidah polytechnic institute, 7300, Dhaka,\\nentbappy73@gmail.com\\nAbstract. Rainfall forecast is imperative as overwhelming precipitation\\ncan lead to numerous catastrophes. The prediction makes a diﬀerence for\\nindividuals to require preventive measures. In addition, the expectation\\nought to be precise. Most of the nations in the world is an agricultural'),\n",
       " Document(metadata={'page': 4, 'source': 'my_paper.pdf'}, page_content='Rainfall Prediction 3\\n–We have discussed a big comparison among all trained models to ﬁgure out\\nthe best performer.\\nThe paper is organized as takes after: Section II clariﬁes the related work of\\ndiﬀerent classiﬁcation strategies for the forecast of rain classiﬁcation. Section-III\\ndepicts the technique and materials utilized. Section-IV depicts the experimental\\nanalysis including performance and result. Section V talks about the conclusion\\nof this research work where section VI described about the plan of future.\\n2 Related Works\\nIn this paper, through a systematic investigation Rodda et al. have presented the\\nrainfall measurement problem, they claim there’s an orderly mistake in the esti-\\nmation of precipitation made in an ordinary way, a mistake which may inﬂuence\\nany gauges utilizing these estimations.[3] Besides Prabakaran et al. proposed a\\nmethod that speaks to a numerical strategy called Linear Regression to antici-'),\n",
       " Document(metadata={'page': 9, 'source': 'my_paper.pdf'}, page_content='8 Nusrat Jahan et al.\\nModel \\nLinear Model \\n> Linear Regression\\n> Polynomial Regression\\n> Ridge \\n> LassoTree Model \\n> Decision tree     \\n Regressor Neareﬆ Neighbor \\n> KNN Regressor Ensemble Model \\n> Random Foreﬆ\\nRegressor \\n> Adabooﬆ\\n> Gradient Booﬆing\\n> XGBooﬆ\\nSVM\\n> Support V ector \\nMachine\\nFig. 3. Training Algorithms\\nanticipate precipitation’s most pertinent mode. This area depicted distinctive\\ntest errands for the execution investigation and assessment and compared all\\ncalculations. Then, we have outlined the test setup utilized to execute the entire\\nerrand and utilized 11 statistical assessment measurements for investigation ex-\\necution. At long last, we have moreover compared with other works related to\\nthis issue concerning the ﬁnest form of our work.\\n4.1 Experiment Setup\\nwe have completed the complete computation in8google collab, a python reen-\\nactment environment given by Google. This environment comes with parallel'),\n",
       " Document(metadata={'page': 12, 'source': 'my_paper.pdf'}, page_content='task is to ﬁnd out the best regression technique for the prediction of rain. For\\nthis reason, we have used a variety of regression analysis techniques that can\\nbe utilized for predicting the quantity of rainfall so that anyone can use the\\nbest predictive model in real-life applications. To perform this task, we selected\\nﬁve signiﬁcant steps, these are data collection, data prepossessing, training model\\nusing regression analysis techniques, and performance analysis. In pre-processing\\npart, we have described cleaning data, Missing value check, EDA, Handling\\noutliers, Feature selection, Feature scaling respectively. Besides, we used ten\\nsupervised regressors (machine learning models) for predicting rainfall. Among\\nall models the are gives good accuracy in our predicting regression. Here, in'),\n",
       " Document(metadata={'page': 3, 'source': 'my_paper.pdf'}, page_content='years of historical data to train our model. The dataset contains various weather\\nconditions of diﬀerent places. This method can be utilized to predict the rainfall\\n(The amount of rainfall recorded for the day in mm) and avoid the annihilation\\ncaused by it to life, agriculture, farm, and property. If we can quantify the rain-\\nfall most people can make some decisions before overwhelmed rain-aﬀected. The\\ncontributions of this work are summarised as:\\n–We have assessed a pipeline of making choices for evaluating the ﬁnest rea-\\nsonable rain prediction.\\n–We have utilized 10 supervised regressors (Machine Learning Model). Be-\\ncause diﬀerent regressors give us diﬀerent results. So, it’s essential to ﬁnd\\nout the right model according to the requirements.'),\n",
       " Document(metadata={'page': 12, 'source': 'my_paper.pdf'}, page_content='Rainfall Prediction 11\\nforest and Gradient Boosting Regressor have acquired almost the same Accuracy\\nbut if we consider the evaluation metrics of then so, Random forest has a low\\nerror rate compare to Gradient Boosting. So, here we have considered the Ran-\\ndom forest approach. Overall all of regressors showed a standard and acceptable\\nperformance.\\nThe bar chart is a graph for representing all regressors algorithms with Sta-\\ntistical measurement. The bar can be vertically or horizontally. Here is the bar\\ngraph of our selective algorithms, down below.\\nFig. 4. Selective algorithms\\n5 Conclusion\\nIn this work, we have presented an initial attempt to determine how much rain\\nwill come when it’s raining time. In the data collection phase, we adopted real\\ndata from Australia from the Kaggle platform. The primary purpose of this\\ntask is to ﬁnd out the best regression technique for the prediction of rain. For\\nthis reason, we have used a variety of regression analysis techniques that can'),\n",
       " Document(metadata={'page': 3, 'source': 'my_paper.pdf'}, page_content='2 Nusrat Jahan et al.\\nKeywords: Rainfall, Supervised Learning, Regression, Random Forest\\nTree, AdaBoost Regressor, Gradient Boosting Regressor, XGBoost.\\n1 Introduction\\nThis research paper proposed a scientiﬁc method to predict rainfall quantity\\nbased on some diﬀerent weather conditions considering preceding weather records\\nand present weather situations using some regression analysis techniques .[1]\\nRainfall determining is exceptionally vital since overwhelming and irregular rain-\\nfall can have numerous impacts on many other things like annihilation of river-\\nbank, crops, agriculture, and farms. One of the very deleterious departures is\\nﬂooding due to the over rain.[2] According to Wikipedia in late summer 2002,\\nenormous storm downpours driven to gigantic ﬂooding in eastern India, Nepal,\\nand Bangladesh, killing over 500 individuals and clearing out millions of houses.\\nEach year in Bangladesh approximately 26,000 square kilometers (10,000 sq mi)'),\n",
       " Document(metadata={'page': 2, 'source': 'my_paper.pdf'}, page_content='individuals to require preventive measures. In addition, the expectation\\nought to be precise. Most of the nations in the world is an agricultural\\nnation and most of the economy of any nation depends upon agriculture.\\nRain plays an imperative part in agribusiness so the early expectation of\\nrainfall plays a vital part within the economy of any agricultural. Over-\\nwhelming precipitation may well be a major disadvantage. It’s a cause\\nfor natural disasters like ﬂoods and drought that unit of measurement\\nexperienced by people over the world each year. Rainfall forecast has\\nbeen one of the foremost challenging issues around the world in the ﬁnal\\nyear. There are so many techniques that have been invented for predict-\\ning rainfall but most of them are classiﬁcation, clustering techniques.\\nPredicting the quantity of rain prediction is crucial for countries’ people.\\nIn our paperwork, we have proposed some regression analysis techniques')]"
      ]
     },
     "execution_count": 10,
     "metadata": {},
     "output_type": "execute_result"
    }
   ],
   "source": [
    "retrieved_docs"
   ]
  },
  {
   "cell_type": "code",
   "execution_count": 11,
   "id": "8a1c8321-1efd-4a11-9744-0d1a7c6f4e0a",
   "metadata": {},
   "outputs": [
    {
     "name": "stdout",
     "output_type": "stream",
     "text": [
      "task is to ﬁnd out the best regression technique for the prediction of rain. For\n",
      "this reason, we have used a variety of regression analysis techniques that can\n",
      "be utilized for predicting the quantity of rainfall so that anyone can use the\n",
      "best predictive model in real-life applications. To perform this task, we selected\n",
      "ﬁve signiﬁcant steps, these are data collection, data prepossessing, training model\n",
      "using regression analysis techniques, and performance analysis. In pre-processing\n",
      "part, we have described cleaning data, Missing value check, EDA, Handling\n",
      "outliers, Feature selection, Feature scaling respectively. Besides, we used ten\n",
      "supervised regressors (machine learning models) for predicting rainfall. Among\n",
      "all models the are gives good accuracy in our predicting regression. Here, in\n"
     ]
    }
   ],
   "source": [
    "print(retrieved_docs[5].page_content)"
   ]
  },
  {
   "cell_type": "code",
   "execution_count": 12,
   "id": "7f991a1f-6ce9-4463-9941-b35014df94f6",
   "metadata": {},
   "outputs": [],
   "source": [
    "from langchain_google_genai import ChatGoogleGenerativeAI\n",
    "\n",
    "llm = ChatGoogleGenerativeAI(model=\"gemini-1.5-pro\",temperature=0.3, max_tokens=500)"
   ]
  },
  {
   "cell_type": "code",
   "execution_count": 13,
   "id": "6ee17439-7bc3-4931-9f57-4ec7e82ce902",
   "metadata": {},
   "outputs": [],
   "source": [
    "from langchain.chains import create_retrieval_chain\n",
    "from langchain.chains.combine_documents import create_stuff_documents_chain\n",
    "from langchain_core.prompts import ChatPromptTemplate\n",
    "\n",
    "system_prompt = (\n",
    "    \"You are an assistant for question-answering tasks. \"\n",
    "    \"Use the following pieces of retrieved context to answer \"\n",
    "    \"the question. If you don't know the answer, say that you \"\n",
    "    \"don't know. Use three sentences maximum and keep the \"\n",
    "    \"answer concise.\"\n",
    "    \"\\n\\n\"\n",
    "    \"{context}\"\n",
    ")\n",
    "\n",
    "prompt = ChatPromptTemplate.from_messages(\n",
    "    [\n",
    "        (\"system\", system_prompt),\n",
    "        (\"human\", \"{input}\"),\n",
    "    ]\n",
    ")"
   ]
  },
  {
   "cell_type": "code",
   "execution_count": 14,
   "id": "266e86e0-746b-4943-9470-fd842633ed85",
   "metadata": {},
   "outputs": [],
   "source": [
    "question_answer_chain = create_stuff_documents_chain(llm, prompt)\n",
    "rag_chain = create_retrieval_chain(retriever, question_answer_chain)"
   ]
  },
  {
   "cell_type": "code",
   "execution_count": 16,
   "id": "9db9500d-4c51-4a10-9b21-f1ef9c8f985e",
   "metadata": {},
   "outputs": [
    {
     "name": "stdout",
     "output_type": "stream",
     "text": [
      "The paper \"Development of Multiple Combined Regression Methods for Rainfall Measurement\" introduces a novel approach to predicting rainfall quantity. The authors utilize ten supervised regression machine learning models to predict rainfall based on historical weather data. Their goal is to identify the most accurate regression technique for rainfall prediction, enabling better preparedness and mitigation of rainfall-related disasters. \n",
      "\n"
     ]
    }
   ],
   "source": [
    "response = rag_chain.invoke({\"input\": \"What is new in Development of Multiple Combined Regression Methods for Rainfall Measurement paper?\"})\n",
    "print(response[\"answer\"])"
   ]
  },
  {
   "cell_type": "code",
   "execution_count": null,
   "id": "7cff65d0-2436-47f8-8572-6979a3378701",
   "metadata": {},
   "outputs": [],
   "source": []
  }
 ],
 "metadata": {
  "kernelspec": {
   "display_name": "Python 3 (ipykernel)",
   "language": "python",
   "name": "python3"
  },
  "language_info": {
   "codemirror_mode": {
    "name": "ipython",
    "version": 3
   },
   "file_extension": ".py",
   "mimetype": "text/x-python",
   "name": "python",
   "nbconvert_exporter": "python",
   "pygments_lexer": "ipython3",
   "version": "3.10.14"
  }
 },
 "nbformat": 4,
 "nbformat_minor": 5
}

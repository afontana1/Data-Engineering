{
 "cells": [
  {
   "cell_type": "markdown",
   "id": "7292677e",
   "metadata": {},
   "source": [
    "# Lesson 4: Data Privacy"
   ]
  },
  {
   "cell_type": "markdown",
   "id": "ef8e93b3",
   "metadata": {},
   "source": [
    "Welcome to Lesson 4!\n",
    "\n",
    "To access the `requirements.txt` and `utils4.py` file for this course, go to `File` and click `Open`."
   ]
  },
  {
   "cell_type": "markdown",
   "id": "2a78489d",
   "metadata": {},
   "source": [
    "#### 1. Load imports"
   ]
  },
  {
   "cell_type": "code",
   "execution_count": 1,
   "id": "58a8f229-c293-4321-9c0c-cd2676bb9a33",
   "metadata": {
    "height": 147
   },
   "outputs": [],
   "source": [
    "from flwr.client.mod import adaptiveclipping_mod\n",
    "from flwr.server.strategy import (\n",
    "    DifferentialPrivacyClientSideAdaptiveClipping,\n",
    "    FedAvg,\n",
    ")\n",
    "\n",
    "from utils4 import *"
   ]
  },
  {
   "cell_type": "markdown",
   "id": "7ee88090",
   "metadata": {},
   "source": [
    "#### 2. Load the MNIST dataset"
   ]
  },
  {
   "cell_type": "markdown",
   "id": "5eb0f3f1",
   "metadata": {},
   "source": [
    "* Use `flwr-datasets` that provides with a Federated Dataset abstraction."
   ]
  },
  {
   "cell_type": "code",
   "execution_count": 2,
   "id": "1d9cd2e2-0581-43c9-aafb-ab9d0c8af6f8",
   "metadata": {
    "height": 215
   },
   "outputs": [],
   "source": [
    "def load_data(partition_id):\n",
    "    fds = FederatedDataset(dataset=\"mnist\", partitioners={\"train\": 10})\n",
    "    partition = fds.load_partition(partition_id)\n",
    "\n",
    "    traintest = partition.train_test_split(test_size=0.2, seed=42)\n",
    "    traintest = traintest.with_transform(normalize)\n",
    "    trainset, testset = traintest[\"train\"], traintest[\"test\"]\n",
    "\n",
    "    trainloader = DataLoader(trainset, batch_size=64, shuffle=True)\n",
    "    testloader = DataLoader(testset, batch_size=64)\n",
    "    return trainloader, testloader"
   ]
  },
  {
   "cell_type": "markdown",
   "id": "84cad9d9",
   "metadata": {},
   "source": [
    "#### 3. Define the Model"
   ]
  },
  {
   "cell_type": "markdown",
   "id": "aa8abe99",
   "metadata": {},
   "source": [
    "* Define the FlowerClient."
   ]
  },
  {
   "cell_type": "code",
   "execution_count": 3,
   "id": "4da8c4f5-3edb-4017-8d6f-7160c3b51858",
   "metadata": {
    "height": 402
   },
   "outputs": [],
   "source": [
    "class FlowerClient(NumPyClient):\n",
    "    def __init__(self, net, trainloader, testloader):\n",
    "        self.net = net\n",
    "        self.trainloader = trainloader\n",
    "        self.testloader = testloader\n",
    "\n",
    "    def fit(self, parameters, config):\n",
    "        set_weights(self.net, parameters)\n",
    "        train_model(self.net, self.trainloader)\n",
    "        return get_weights(self.net), len(self.trainloader), {}\n",
    "\n",
    "    def evaluate(self, parameters, config):\n",
    "        set_weights(self.net, parameters)\n",
    "        loss, accuracy = evaluate_model(self.net, self.testloader)\n",
    "        return loss, len(self.testloader), {\"accuracy\": accuracy}\n",
    "\n",
    "\n",
    "def client_fn(context: Context) -> Client:\n",
    "    net = SimpleModel()\n",
    "    partition_id = int(context.node_config[\"partition-id\"])\n",
    "    trainloader, testloader = load_data(partition_id=partition_id)\n",
    "    return FlowerClient(net, trainloader, testloader).to_client()"
   ]
  },
  {
   "cell_type": "markdown",
   "id": "504a5f54",
   "metadata": {},
   "source": [
    "* Define the ClientApp."
   ]
  },
  {
   "cell_type": "code",
   "execution_count": 4,
   "id": "ec5473fc-585b-41ed-9ff8-6aaf5592a30b",
   "metadata": {
    "height": 96
   },
   "outputs": [],
   "source": [
    "client = ClientApp(\n",
    "    client_fn,\n",
    "    mods=[adaptiveclipping_mod],  # modifiers\n",
    ")"
   ]
  },
  {
   "cell_type": "markdown",
   "id": "64f661ed",
   "metadata": {},
   "source": [
    "* Define the Server side with the strategy FedAvg.\n",
    "\n",
    "**DP:** Differential Privacy."
   ]
  },
  {
   "cell_type": "code",
   "execution_count": 5,
   "id": "6b8f147a-9cb0-4ed9-b635-4106e93a0f7f",
   "metadata": {
    "height": 419
   },
   "outputs": [],
   "source": [
    "net = SimpleModel()\n",
    "params = ndarrays_to_parameters(get_weights(net))\n",
    "\n",
    "def server_fn(context: Context):\n",
    "    fedavg_without_dp = FedAvg(\n",
    "        fraction_fit=0.6,\n",
    "        fraction_evaluate=1.0,\n",
    "        initial_parameters=params,\n",
    "    )\n",
    "    fedavg_with_dp = DifferentialPrivacyClientSideAdaptiveClipping(\n",
    "        fedavg_without_dp,  # <- wrap the FedAvg strategy\n",
    "        noise_multiplier=0.3,\n",
    "        num_sampled_clients=6,\n",
    "    )\n",
    "    \n",
    "    # Adjust to 50 rounds to ensure DP guarantees hold\n",
    "    # with respect to the desired privacy budget\n",
    "    config = ServerConfig(num_rounds=5)\n",
    "    \n",
    "    return ServerAppComponents(\n",
    "        strategy=fedavg_with_dp,\n",
    "        config=config,\n",
    "    )"
   ]
  },
  {
   "cell_type": "code",
   "execution_count": 6,
   "id": "277e575f-582c-489a-9bee-d660ef88a4c4",
   "metadata": {
    "height": 45
   },
   "outputs": [],
   "source": [
    "server = ServerApp(server_fn=server_fn)"
   ]
  },
  {
   "cell_type": "markdown",
   "id": "29d25e55",
   "metadata": {},
   "source": [
    "* Run Client and Server apps."
   ]
  },
  {
   "cell_type": "markdown",
   "id": "43e4ab42-4b35-4fb7-9cb4-f45ca5919596",
   "metadata": {},
   "source": [
    "**Note**: This simulation may take approximately 7 to 10 minutes to complete all 50 rounds. "
   ]
  },
  {
   "cell_type": "code",
   "execution_count": 7,
   "id": "9057d6fe-7f7e-41fd-8312-7e4b7bc44189",
   "metadata": {
    "height": 113
   },
   "outputs": [
    {
     "name": "stderr",
     "output_type": "stream",
     "text": [
      "\u001b[92mINFO \u001b[0m: Starting Flower ServerApp, config: num_rounds=5, no round_timeout\n",
      "\u001b[92mINFO \u001b[0m: \n",
      "\u001b[92mINFO \u001b[0m: [INIT]\n",
      "\u001b[92mINFO \u001b[0m: Using initial global parameters provided by strategy\n",
      "\u001b[92mINFO \u001b[0m: Evaluating initial global parameters\n",
      "\u001b[92mINFO \u001b[0m: \n",
      "\u001b[92mINFO \u001b[0m: [ROUND 1]\n",
      "\u001b[92mINFO \u001b[0m: configure_fit: strategy sampled 6 clients (out of 10)\n",
      "Downloading builder script: 100%|██████████| 3.98k/3.98k [00:00<00:00, 28.6MB/s]\n",
      "Downloading readme: 100%|██████████| 6.83k/6.83k [00:00<00:00, 35.4MB/s]\n",
      "Downloading data:   0%|          | 0.00/9.91M [00:00<?, ?B/s]\n",
      "Downloading data:  58%|█████▊    | 5.76M/9.91M [00:00<00:00, 57.6MB/s]\n",
      "Downloading data: 100%|██████████| 9.91M/9.91M [00:00<00:00, 67.8MB/s]\n",
      "Downloading data: 100%|██████████| 28.9k/28.9k [00:00<00:00, 13.4MB/s]\n",
      "Downloading data: 100%|██████████| 1.65M/1.65M [00:00<00:00, 56.3MB/s]\n",
      "Downloading data: 100%|██████████| 4.54k/4.54k [00:00<00:00, 21.6MB/s]\n",
      "Generating train split:   0%|          | 0/60000 [00:00<?, ? examples/s]\n",
      "Generating train split:   1%|          | 430/60000 [00:00<00:14, 4021.67 examples/s]\n",
      "Generating train split:   2%|▏         | 1224/60000 [00:00<00:09, 6258.50 examples/s]\n",
      "Generating train split:   3%|▎         | 2047/60000 [00:00<00:08, 7138.65 examples/s]\n",
      "Generating train split:   5%|▍         | 2893/60000 [00:00<00:07, 7651.40 examples/s]\n",
      "Generating train split:   6%|▌         | 3719/60000 [00:00<00:07, 7865.89 examples/s]\n",
      "Generating train split:   8%|▊         | 4545/60000 [00:00<00:06, 7996.82 examples/s]\n",
      "Generating train split:   9%|▉         | 5363/60000 [00:00<00:06, 8052.75 examples/s]\n",
      "Generating train split:  10%|█         | 6184/60000 [00:00<00:06, 8100.99 examples/s]\n",
      "Generating train split:  12%|█▏        | 7002/60000 [00:00<00:06, 8121.29 examples/s]\n",
      "Generating train split:  14%|█▎        | 8182/60000 [00:01<00:06, 8016.83 examples/s]\n",
      "Generating train split:  16%|█▌        | 9361/60000 [00:01<00:06, 7957.96 examples/s]\n",
      "Generating train split:  17%|█▋        | 10176/60000 [00:01<00:06, 8006.51 examples/s]\n",
      "Generating train split:  18%|█▊        | 11000/60000 [00:01<00:06, 8060.65 examples/s]\n",
      "Generating train split:  20%|█▉        | 11853/60000 [00:01<00:05, 8188.45 examples/s]\n",
      "Generating train split:  21%|██        | 12676/60000 [00:01<00:05, 8197.40 examples/s]\n",
      "Generating train split:  23%|██▎       | 13898/60000 [00:01<00:05, 8172.66 examples/s]\n",
      "Generating train split:  25%|██▌       | 15115/60000 [00:01<00:05, 8149.64 examples/s]\n",
      "Generating train split:  27%|██▋       | 15963/60000 [00:02<00:05, 8229.20 examples/s]\n",
      "Generating train split:  29%|██▊       | 17158/60000 [00:02<00:05, 8133.58 examples/s]\n",
      "Generating train split:  30%|███       | 18289/60000 [00:02<00:05, 7931.93 examples/s]\n",
      "Generating train split:  32%|███▏      | 19423/60000 [00:02<00:05, 7809.96 examples/s]\n",
      "Generating train split:  34%|███▍      | 20629/60000 [00:02<00:04, 7878.33 examples/s]\n",
      "Generating train split:  36%|███▌      | 21449/60000 [00:02<00:04, 7950.71 examples/s]\n",
      "Generating train split:  37%|███▋      | 22262/60000 [00:02<00:04, 7994.16 examples/s]\n",
      "Generating train split:  38%|███▊      | 23085/60000 [00:02<00:04, 8050.72 examples/s]\n",
      "Generating train split:  40%|███▉      | 23930/60000 [00:03<00:04, 8156.15 examples/s]\n",
      "Generating train split:  42%|████▏     | 25128/60000 [00:03<00:04, 8091.26 examples/s]\n",
      "Generating train split:  43%|████▎     | 25976/60000 [00:03<00:04, 8188.54 examples/s]\n",
      "Generating train split:  45%|████▌     | 27198/60000 [00:03<00:04, 8169.30 examples/s]\n",
      "Generating train split:  47%|████▋     | 28022/60000 [00:03<00:03, 8185.73 examples/s]\n",
      "Generating train split:  48%|████▊     | 28868/60000 [00:03<00:03, 8253.80 examples/s]\n",
      "Generating train split:  50%|█████     | 30079/60000 [00:03<00:03, 8185.13 examples/s]\n",
      "Generating train split:  52%|█████▏    | 30930/60000 [00:03<00:03, 8265.97 examples/s]\n",
      "Generating train split:  54%|█████▎    | 32118/60000 [00:04<00:03, 8139.89 examples/s]\n",
      "Generating train split:  55%|█████▍    | 32969/60000 [00:04<00:03, 8229.50 examples/s]\n",
      "Generating train split:  57%|█████▋    | 34190/60000 [00:04<00:03, 8192.32 examples/s]\n",
      "Generating train split:  58%|█████▊    | 35023/60000 [00:04<00:03, 8224.07 examples/s]\n",
      "Generating train split:  60%|█████▉    | 35876/60000 [00:04<00:02, 8301.73 examples/s]\n",
      "Generating train split:  62%|██████▏   | 37080/60000 [00:04<00:02, 8198.76 examples/s]\n",
      "Generating train split:  63%|██████▎   | 37922/60000 [00:04<00:02, 8252.14 examples/s]\n",
      "Generating train split:  65%|██████▌   | 39139/60000 [00:04<00:02, 8198.92 examples/s]\n",
      "Generating train split:  67%|██████▋   | 39992/60000 [00:04<00:02, 8280.37 examples/s]\n",
      "Generating train split:  69%|██████▊   | 41222/60000 [00:05<00:02, 8248.90 examples/s]\n",
      "Generating train split:  71%|███████   | 42474/60000 [00:05<00:02, 8278.58 examples/s]\n",
      "Generating train split:  73%|███████▎  | 43733/60000 [00:05<00:01, 8313.20 examples/s]\n",
      "Generating train split:  75%|███████▍  | 44983/60000 [00:05<00:01, 8315.44 examples/s]\n",
      "Generating train split:  77%|███████▋  | 46216/60000 [00:05<00:01, 8281.53 examples/s]\n",
      "Generating train split:  79%|███████▉  | 47437/60000 [00:05<00:01, 8235.98 examples/s]\n",
      "Generating train split:  81%|████████  | 48669/60000 [00:06<00:01, 8225.15 examples/s]\n",
      "Generating train split:  83%|████████▎ | 49894/60000 [00:06<00:01, 8205.47 examples/s]\n",
      "Generating train split:  85%|████████▌ | 51079/60000 [00:06<00:01, 8110.17 examples/s]\n",
      "Generating train split:  87%|████████▋ | 51923/60000 [00:06<00:00, 8180.30 examples/s]\n",
      "Generating train split:  88%|████████▊ | 52754/60000 [00:06<00:00, 8209.31 examples/s]\n",
      "Generating train split:  89%|████████▉ | 53588/60000 [00:06<00:00, 8239.63 examples/s]\n",
      "Generating train split:  91%|█████████▏| 54818/60000 [00:06<00:00, 8209.83 examples/s]\n",
      "Generating train split:  93%|█████████▎| 55999/60000 [00:06<00:00, 8093.56 examples/s]\n",
      "Generating train split:  95%|█████████▍| 56837/60000 [00:07<00:00, 8159.25 examples/s]\n",
      "Generating train split:  97%|█████████▋| 58031/60000 [00:07<00:00, 8087.23 examples/s]\n",
      "Generating train split:  98%|█████████▊| 58868/60000 [00:07<00:00, 8152.80 examples/s]\n",
      "Generating train split: 100%|██████████| 60000/60000 [00:07<00:00, 8097.09 examples/s]\n",
      "Generating test split:   0%|          | 0/10000 [00:00<?, ? examples/s]\n",
      "Generating test split:   8%|▊         | 806/10000 [00:00<00:01, 8034.97 examples/s]\n",
      "Generating test split:  16%|█▋        | 1633/10000 [00:00<00:01, 8171.33 examples/s]\n",
      "Generating test split:  29%|██▊       | 2864/10000 [00:00<00:00, 8187.46 examples/s]\n",
      "Generating test split:  41%|████      | 4072/10000 [00:00<00:00, 8126.59 examples/s]\n",
      "Generating test split:  49%|████▉     | 4946/10000 [00:00<00:00, 8307.36 examples/s]\n",
      "Generating test split:  61%|██████▏   | 6146/10000 [00:00<00:00, 8180.53 examples/s]\n",
      "Generating test split:  70%|██████▉   | 6978/10000 [00:00<00:00, 8215.84 examples/s]\n",
      "Generating test split:  78%|███████▊  | 7809/10000 [00:00<00:00, 8239.72 examples/s]\n",
      "Generating test split:  90%|█████████ | 9025/10000 [00:01<00:00, 8186.60 examples/s]\n",
      "Generating test split: 100%|██████████| 10000/10000 [00:01<00:00, 8181.50 examples/s]\n",
      "\u001b[2m\u001b[36m(ClientAppActor pid=510)\u001b[0m \u001b[92mINFO \u001b[0m: adaptiveclipping_mod: parameters are clipped by value: 0.1000.\n",
      "\u001b[92mINFO \u001b[0m: aggregate_fit: received 6 results and 0 failures\n",
      "\u001b[92mINFO \u001b[0m: aggregate_fit: central DP noise with 0.0051 stdev added\n",
      "\u001b[92mINFO \u001b[0m: configure_evaluate: strategy sampled 10 clients (out of 10)\n",
      "\u001b[92mINFO \u001b[0m: aggregate_evaluate: received 10 results and 0 failures\n",
      "\u001b[92mINFO \u001b[0m: \n",
      "\u001b[92mINFO \u001b[0m: [ROUND 2]\n",
      "\u001b[92mINFO \u001b[0m: configure_fit: strategy sampled 6 clients (out of 10)\n",
      "\u001b[2m\u001b[36m(ClientAppActor pid=509)\u001b[0m \u001b[92mINFO \u001b[0m: adaptiveclipping_mod: parameters are clipped by value: 0.0884.\u001b[32m [repeated 6x across cluster] (Ray deduplicates logs by default. Set RAY_DEDUP_LOGS=0 to disable log deduplication, or see https://docs.ray.io/en/master/ray-observability/ray-logging.html#log-deduplication for more options.)\u001b[0m\n",
      "\u001b[92mINFO \u001b[0m: aggregate_fit: received 6 results and 0 failures\n",
      "\u001b[92mINFO \u001b[0m: aggregate_fit: central DP noise with 0.0047 stdev added\n",
      "\u001b[92mINFO \u001b[0m: configure_evaluate: strategy sampled 10 clients (out of 10)\n"
     ]
    },
    {
     "name": "stderr",
     "output_type": "stream",
     "text": [
      "\u001b[92mINFO \u001b[0m: aggregate_evaluate: received 10 results and 0 failures\n",
      "\u001b[92mINFO \u001b[0m: \n",
      "\u001b[92mINFO \u001b[0m: [ROUND 3]\n",
      "\u001b[92mINFO \u001b[0m: configure_fit: strategy sampled 6 clients (out of 10)\n",
      "\u001b[2m\u001b[36m(ClientAppActor pid=509)\u001b[0m \u001b[92mINFO \u001b[0m: adaptiveclipping_mod: parameters are clipped by value: 0.0812.\u001b[32m [repeated 6x across cluster]\u001b[0m\n",
      "\u001b[92mINFO \u001b[0m: aggregate_fit: received 6 results and 0 failures\n",
      "\u001b[92mINFO \u001b[0m: aggregate_fit: central DP noise with 0.0042 stdev added\n",
      "\u001b[92mINFO \u001b[0m: configure_evaluate: strategy sampled 10 clients (out of 10)\n",
      "\u001b[92mINFO \u001b[0m: aggregate_evaluate: received 10 results and 0 failures\n",
      "\u001b[92mINFO \u001b[0m: \n",
      "\u001b[92mINFO \u001b[0m: [ROUND 4]\n",
      "\u001b[92mINFO \u001b[0m: configure_fit: strategy sampled 6 clients (out of 10)\n",
      "\u001b[2m\u001b[36m(ClientAppActor pid=510)\u001b[0m \u001b[92mINFO \u001b[0m: adaptiveclipping_mod: parameters are clipped by value: 0.0730.\u001b[32m [repeated 6x across cluster]\u001b[0m\n",
      "\u001b[92mINFO \u001b[0m: aggregate_fit: received 6 results and 0 failures\n",
      "\u001b[92mINFO \u001b[0m: aggregate_fit: central DP noise with 0.0038 stdev added\n",
      "\u001b[92mINFO \u001b[0m: configure_evaluate: strategy sampled 10 clients (out of 10)\n",
      "\u001b[92mINFO \u001b[0m: aggregate_evaluate: received 10 results and 0 failures\n",
      "\u001b[92mINFO \u001b[0m: \n",
      "\u001b[92mINFO \u001b[0m: [ROUND 5]\n",
      "\u001b[92mINFO \u001b[0m: configure_fit: strategy sampled 6 clients (out of 10)\n",
      "\u001b[2m\u001b[36m(ClientAppActor pid=510)\u001b[0m \u001b[92mINFO \u001b[0m: adaptiveclipping_mod: parameters are clipped by value: 0.0666.\u001b[32m [repeated 6x across cluster]\u001b[0m\n",
      "\u001b[92mINFO \u001b[0m: aggregate_fit: received 6 results and 0 failures\n",
      "\u001b[92mINFO \u001b[0m: aggregate_fit: central DP noise with 0.0035 stdev added\n",
      "\u001b[92mINFO \u001b[0m: configure_evaluate: strategy sampled 10 clients (out of 10)\n",
      "\u001b[92mINFO \u001b[0m: aggregate_evaluate: received 10 results and 0 failures\n",
      "\u001b[92mINFO \u001b[0m: \n",
      "\u001b[92mINFO \u001b[0m: [SUMMARY]\n",
      "\u001b[92mINFO \u001b[0m: Run finished 5 round(s) in 85.91s\n",
      "\u001b[92mINFO \u001b[0m: \tHistory (loss, distributed):\n",
      "\u001b[92mINFO \u001b[0m: \t\tround 1: 42.81770417690277\n",
      "\u001b[92mINFO \u001b[0m: \t\tround 2: 41.628076171875\n",
      "\u001b[92mINFO \u001b[0m: \t\tround 3: 40.65793368816376\n",
      "\u001b[92mINFO \u001b[0m: \t\tround 4: 39.75885865688324\n",
      "\u001b[92mINFO \u001b[0m: \t\tround 5: 39.03451018333435\n",
      "\u001b[92mINFO \u001b[0m: \n",
      "\u001b[2m\u001b[36m(ClientAppActor pid=511)\u001b[0m \u001b[92mINFO \u001b[0m: adaptiveclipping_mod: parameters are clipped by value: 0.0666.\u001b[32m [repeated 5x across cluster]\u001b[0m\n"
     ]
    }
   ],
   "source": [
    "run_simulation(server_app=server,\n",
    "               client_app=client,\n",
    "               num_supernodes=10,\n",
    "               backend_config=backend_setup\n",
    "               )"
   ]
  }
 ],
 "metadata": {
  "kernelspec": {
   "display_name": "Python 3 (ipykernel)",
   "language": "python",
   "name": "python3"
  },
  "language_info": {
   "codemirror_mode": {
    "name": "ipython",
    "version": 3
   },
   "file_extension": ".py",
   "mimetype": "text/x-python",
   "name": "python",
   "nbconvert_exporter": "python",
   "pygments_lexer": "ipython3",
   "version": "3.11.9"
  }
 },
 "nbformat": 4,
 "nbformat_minor": 5
}

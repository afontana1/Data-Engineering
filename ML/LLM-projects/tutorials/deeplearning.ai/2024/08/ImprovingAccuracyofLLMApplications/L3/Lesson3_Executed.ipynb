{
 "cells": [
  {
   "cell_type": "markdown",
   "id": "3416ed55-4e38-4cdd-afe0-e14aa7d857b4",
   "metadata": {},
   "source": [
    "# L3: Create an Evaluation"
   ]
  },
  {
   "cell_type": "markdown",
   "id": "ec741e76-1cc8-46b2-8cc8-dd65072bc78f",
   "metadata": {},
   "source": [
    "> Note: You can access the `data` and `util` subdirectories used in the course. In Jupyter version 6, this is via the File>Open menu. In Jupyter version 7 this is in View> File Browser\n",
    "\n",
    "> Also note that as models and systems change, the output of the models may shift from the video content."
   ]
  },
  {
   "cell_type": "code",
   "execution_count": 1,
   "id": "5745ff93-d7a6-4bc6-82eb-ca0da00f1d05",
   "metadata": {
    "height": 47
   },
   "outputs": [],
   "source": [
    "from dotenv import load_dotenv\n",
    "_ = load_dotenv()   #load environmental variable LAMINI_API_KEY with key from .env file"
   ]
  },
  {
   "cell_type": "code",
   "execution_count": 2,
   "id": "759c10e6-f528-4431-8676-0317312427c2",
   "metadata": {
    "height": 30
   },
   "outputs": [
    {
     "name": "stdout",
     "output_type": "stream",
     "text": [
      "{\"question\": \"What is the 99th percentile salary in the NBA?\", \"answer\": \"46741590\", \"sql\": \"SELECT (CAST(REPLACE(REPLACE(SALARY, '$', ''), ',','') AS INTEGER)) as percentile FROM nba_roster WHERE SALARY!= '--' order by percentile limit 1 offset (select count(*) from nba_roster where SALARY != '--')*99/100-1;\"}\r\n",
      "{\"question\": \"What is the 75th percentile salary in the NBA?\", \"answer\": \"13932008\", \"sql\": \"SELECT (CAST(REPLACE(REPLACE(SALARY, '$', ''), ',','') AS INTEGER)) as percentile FROM nba_roster WHERE SALARY!= '--' order by percentile limit 1 offset (select count(*) from nba_roster where SALARY != '--')*75/100-1;\"}\r\n",
      "{\"question\": \"What is the 25th percentile salary in the NBA?\", \"answer\": \"2413304\", \"sql\": \"SELECT (CAST(REPLACE(REPLACE(SALARY, '$', ''), ',','') AS INTEGER)) as percentile FROM nba_roster WHERE SALARY!= '--' order by percentile limit 1 offset (select count(*) from nba_roster where SALARY != '--')*25/100-1;\"}\r\n",
      "{\"question\": \"What is the median weight in the NBA?\", \"answer\": \"215\", \"sql\": \"select CAST(SUBSTR(WT, 1, INSTR(WT,' ')) as INTEGER) as percentile from nba_roster order by percentile limit 1 offset (select count(*) from nba_roster)/2;\"}\r\n",
      "{\"question\": \"What is the average weight in the NBA?\", \"answer\": \"214.98\", \"sql\": \"SELECT AVG(CAST(SUBSTR(WT, 1, INSTR(WT,' ')) as INTEGER)) FROM nba_roster;\"}\r\n",
      "{\"question\": \"What is the median height in the NBA?\", \"answer\": \"6.58333333333333\", \"sql\": \"select CAST(SUBSTR(HT, 1, INSTR(HT,' ')-1) AS INTEGER)+ CAST(SUBSTR(HT, INSTR(HT,' ')+1) AS FLOAT)/12 as percentile from nba_roster order by percentile limit 1 offset (select count(*) from nba_roster)/2;\"}\r\n",
      "{\"question\": \"What is the average height in the NBA?\", \"answer\": \"6.54986111111111\", \"sql\": \"select AVG(CAST(SUBSTR(HT, 1, INSTR(HT,' ')-1) AS INTEGER)+ CAST(SUBSTR(HT, INSTR(HT,' ')+1) AS FLOAT)/12) as height from nba_roster;\"}\r\n",
      "{\"question\": \"Can you tell me how many players are in the NBA?\", \"answer\": \"600\", \"sql\": \"select count(*) from nba_roster;\"}\r\n",
      "{\"question\": \"Would you please let me know what the highest paid players are for each position?\", \"answer\": \"The highest paid players are Nikola Jokic (C), Paul George (F), Norman Powell (G), Kevin Durant (PF), Stephen Curry (PG), LeBron James (SF), Bradley Beal (SG).\", \"sql\": \"SELECT name, pos, MAX(CAST(REPLACE(REPLACE(SALARY, '$', ''), ',','') AS INTEGER)) as max_salary FROM nba_roster WHERE SALARY!= '--' GROUP BY POS;\"}\r\n",
      "{\"question\": \"Is Jalen Johnson 23 years old?\", \"answer\": \"No, Jalen Johnson is 21 years old\", \"sql\" : \"Select name, age from nba_roster where name='Jalen Johnson';\"}\r\n",
      "{\"question\": \"Who is the oldest player on the Brooklyn Nets?\", \"answer\": \"Spencer Dinwiddie, Dorian Finney-Smith, Royce O'Neale\", \"sql\" : \"SELECT NAME FROM nba_roster WHERE TEAM = 'Brooklyn Nets' AND AGE = (SELECT MAX(AGE) FROM nba_roster WHERE TEAM = 'Brooklyn Nets');\"}\r\n",
      "{\"question\": \"Who has the higest salary on the Memphis Grizzlies?\", \"answer\": \"Ja Morant\", \"sql\" : \"select salary, name from nba_roster where team='Memphis Grizzlies' and SALARY!= '--' ORDER BY CAST(REPLACE(REPLACE(SALARY, '$', ''), ',','') AS INTEGER) DESC LIMIT 1;\"}\r\n",
      "{\"question\": \"Which player has the higest salary on the Cleveland Cavaliers?\", \"answer\": \"Darius Garland\", \"sql\" : \"select salary, name from nba_roster where team='Cleveland Cavaliers' and SALARY!= '--' ORDER BY CAST(REPLACE(REPLACE(SALARY, '$', ''), ',','') AS INTEGER) DESC LIMIT 1;\"}\r\n",
      "{\"question\": \"Who is the highest paid center on the Dallas Mavericks?\", \"answer\": \"Dereck Lively II\", \"sql\" : \"select salary, name from nba_roster where team='Dallas Mavericks' and POS='C' and SALARY!= '--' ORDER BY CAST(REPLACE(REPLACE(SALARY, '$', ''), ',','') AS INTEGER) DESC LIMIT 1;\"}\r\n",
      "{\"question\": \"How much is Marcus Smart getting paid?\", \"answer\": \"$18,833,712\", \"sql\" : \"select salary from nba_roster where name='Marcus Smart';\"}\r\n",
      "{\"question\": \"What's the average age of the Trail Blazers?\", \"answer\": \"24\", \"sql\" : \"select avg(age) from nba_roster where team='Portland Trail Blazers';\"}\r\n",
      "{\"question\": \"What's the median age of the NBA?\", \"answer\": \"25\", \"sql\" : \"select CAST(AGE as INTEGER) as percentile from nba_roster order by percentile limit 1 offset (select count(*) from nba_roster)/2;\"}\r\n",
      "{\"question\": \"What's the median age of the Miami Heat?\", \"answer\": \"26\", \"sql\" : \"select CAST(AGE as INTEGER) as percentile from nba_roster where team='Miami Heat' order by percentile limit 1 offset (select count(*) from nba_roster where team='Miami Heat')/2;\"}\r\n",
      "{\"question\": \"What are the 5 teams with the oldest average age in the NBA\", \"answer\": \"Golden State Warriors, Milwaukee Bucks, Miami Heat, LA Clippers, Phoenix Suns\", \"sql\": \"SELECT team, AVG(AGE) AS average_age FROM nba_roster GROUP BY team ORDER BY average_age DESC LIMIT 5;\"}\r\n",
      "{\"question\": \"What is the average salary of Power Forward players in the NBA\", \"answer\": \"$10948045\", \"sql\": \"select avg(CAST(REPLACE(REPLACE(SALARY, '$', ''), ',','') AS INTEGER)) as average_salary from nba_roster where POS = 'PF';\"}\r\n"
     ]
    }
   ],
   "source": [
    "!cat data/gold-test-set.jsonl"
   ]
  },
  {
   "cell_type": "code",
   "execution_count": 3,
   "id": "a83fcc4c-b1c1-4121-97e9-6c1dd5414b16",
   "metadata": {
    "height": 30
   },
   "outputs": [],
   "source": [
    "question = \"What is the median weight in the NBA?\""
   ]
  },
  {
   "cell_type": "code",
   "execution_count": 4,
   "id": "3f6af2fb-00cb-4ee1-8c96-e7bcb42574b3",
   "metadata": {
    "height": 30
   },
   "outputs": [],
   "source": [
    "import lamini "
   ]
  },
  {
   "cell_type": "code",
   "execution_count": 5,
   "id": "7879b875-3ae5-4f46-b4d1-6dedaad2385a",
   "metadata": {
    "height": 47
   },
   "outputs": [],
   "source": [
    "from util.get_schema import get_schema\n",
    "from util.make_llama_3_prompt import make_llama_3_prompt"
   ]
  },
  {
   "cell_type": "code",
   "execution_count": 6,
   "id": "c3501c5a-094d-4fd2-9b15-ce7d108b0d43",
   "metadata": {
    "height": 30
   },
   "outputs": [],
   "source": [
    "llm = lamini.Lamini(model_name=\"meta-llama/Meta-Llama-3-8B-Instruct\")"
   ]
  },
  {
   "cell_type": "code",
   "execution_count": 7,
   "id": "e5b5065e-d4eb-43a7-bd8f-efbc294a7dcc",
   "metadata": {
    "height": 113
   },
   "outputs": [],
   "source": [
    "system = f\"\"\"You are an NBA analyst with 15 years of experience writing complex SQL queries. Consider the nba_roster table with the following schema:\n",
    "{get_schema()}\n",
    "\n",
    "Write a sqlite query to answer the following question. Follow instructions exactly\"\"\"\n",
    "prompt = make_llama_3_prompt(question, system)"
   ]
  },
  {
   "cell_type": "code",
   "execution_count": 8,
   "id": "6f7331bf-fe90-46aa-af6b-948241ba4369",
   "metadata": {
    "height": 47
   },
   "outputs": [
    {
     "name": "stdout",
     "output_type": "stream",
     "text": [
      "{'sqlite_query': \"SELECT AVG(CAST(SUBSTR(WT, INSTR(WT,'') + 1) AS INTEGER) FROM nba_roster WHERE WT IS NOT NULL\"}\n"
     ]
    }
   ],
   "source": [
    "generated_query = llm.generate(prompt, output_type={\"sqlite_query\": \"str\"}, max_new_tokens=200)\n",
    "print(generated_query)"
   ]
  },
  {
   "cell_type": "code",
   "execution_count": 9,
   "id": "980367c9-993d-41af-8667-0bf1da622929",
   "metadata": {
    "height": 64
   },
   "outputs": [],
   "source": [
    "import pandas as pd\n",
    "import sqlite3\n",
    "engine = sqlite3.connect(\"./nba_roster.db\")"
   ]
  },
  {
   "cell_type": "markdown",
   "id": "aa478584-2edf-44c9-9d6f-b597be6cb022",
   "metadata": {},
   "source": [
    "> The following cell is expected to create an error."
   ]
  },
  {
   "cell_type": "code",
   "execution_count": 10,
   "id": "c63d1e4c-21ec-4c8a-9074-7860695ef15d",
   "metadata": {
    "height": 30
   },
   "outputs": [
    {
     "ename": "DatabaseError",
     "evalue": "Execution failed on sql 'SELECT AVG(CAST(SUBSTR(WT, INSTR(WT,'') + 1) AS INTEGER) FROM nba_roster WHERE WT IS NOT NULL': near \"FROM\": syntax error",
     "output_type": "error",
     "traceback": [
      "\u001b[0;31m---------------------------------------------------------------------------\u001b[0m",
      "\u001b[0;31mOperationalError\u001b[0m                          Traceback (most recent call last)",
      "File \u001b[0;32m/usr/local/lib/python3.11/site-packages/pandas/io/sql.py:2674\u001b[0m, in \u001b[0;36mSQLiteDatabase.execute\u001b[0;34m(self, sql, params)\u001b[0m\n\u001b[1;32m   2673\u001b[0m \u001b[38;5;28;01mtry\u001b[39;00m:\n\u001b[0;32m-> 2674\u001b[0m     \u001b[43mcur\u001b[49m\u001b[38;5;241;43m.\u001b[39;49m\u001b[43mexecute\u001b[49m\u001b[43m(\u001b[49m\u001b[43msql\u001b[49m\u001b[43m,\u001b[49m\u001b[43m \u001b[49m\u001b[38;5;241;43m*\u001b[39;49m\u001b[43margs\u001b[49m\u001b[43m)\u001b[49m\n\u001b[1;32m   2675\u001b[0m     \u001b[38;5;28;01mreturn\u001b[39;00m cur\n",
      "\u001b[0;31mOperationalError\u001b[0m: near \"FROM\": syntax error",
      "\nThe above exception was the direct cause of the following exception:\n",
      "\u001b[0;31mDatabaseError\u001b[0m                             Traceback (most recent call last)",
      "Cell \u001b[0;32mIn[10], line 1\u001b[0m\n\u001b[0;32m----> 1\u001b[0m df \u001b[38;5;241m=\u001b[39m \u001b[43mpd\u001b[49m\u001b[38;5;241;43m.\u001b[39;49m\u001b[43mread_sql\u001b[49m\u001b[43m(\u001b[49m\u001b[43mgenerated_query\u001b[49m\u001b[43m[\u001b[49m\u001b[38;5;124;43m'\u001b[39;49m\u001b[38;5;124;43msqlite_query\u001b[39;49m\u001b[38;5;124;43m'\u001b[39;49m\u001b[43m]\u001b[49m\u001b[43m,\u001b[49m\u001b[43m \u001b[49m\u001b[43mcon\u001b[49m\u001b[38;5;241;43m=\u001b[39;49m\u001b[43mengine\u001b[49m\u001b[43m)\u001b[49m\n",
      "File \u001b[0;32m/usr/local/lib/python3.11/site-packages/pandas/io/sql.py:706\u001b[0m, in \u001b[0;36mread_sql\u001b[0;34m(sql, con, index_col, coerce_float, params, parse_dates, columns, chunksize, dtype_backend, dtype)\u001b[0m\n\u001b[1;32m    704\u001b[0m \u001b[38;5;28;01mwith\u001b[39;00m pandasSQL_builder(con) \u001b[38;5;28;01mas\u001b[39;00m pandas_sql:\n\u001b[1;32m    705\u001b[0m     \u001b[38;5;28;01mif\u001b[39;00m \u001b[38;5;28misinstance\u001b[39m(pandas_sql, SQLiteDatabase):\n\u001b[0;32m--> 706\u001b[0m         \u001b[38;5;28;01mreturn\u001b[39;00m \u001b[43mpandas_sql\u001b[49m\u001b[38;5;241;43m.\u001b[39;49m\u001b[43mread_query\u001b[49m\u001b[43m(\u001b[49m\n\u001b[1;32m    707\u001b[0m \u001b[43m            \u001b[49m\u001b[43msql\u001b[49m\u001b[43m,\u001b[49m\n\u001b[1;32m    708\u001b[0m \u001b[43m            \u001b[49m\u001b[43mindex_col\u001b[49m\u001b[38;5;241;43m=\u001b[39;49m\u001b[43mindex_col\u001b[49m\u001b[43m,\u001b[49m\n\u001b[1;32m    709\u001b[0m \u001b[43m            \u001b[49m\u001b[43mparams\u001b[49m\u001b[38;5;241;43m=\u001b[39;49m\u001b[43mparams\u001b[49m\u001b[43m,\u001b[49m\n\u001b[1;32m    710\u001b[0m \u001b[43m            \u001b[49m\u001b[43mcoerce_float\u001b[49m\u001b[38;5;241;43m=\u001b[39;49m\u001b[43mcoerce_float\u001b[49m\u001b[43m,\u001b[49m\n\u001b[1;32m    711\u001b[0m \u001b[43m            \u001b[49m\u001b[43mparse_dates\u001b[49m\u001b[38;5;241;43m=\u001b[39;49m\u001b[43mparse_dates\u001b[49m\u001b[43m,\u001b[49m\n\u001b[1;32m    712\u001b[0m \u001b[43m            \u001b[49m\u001b[43mchunksize\u001b[49m\u001b[38;5;241;43m=\u001b[39;49m\u001b[43mchunksize\u001b[49m\u001b[43m,\u001b[49m\n\u001b[1;32m    713\u001b[0m \u001b[43m            \u001b[49m\u001b[43mdtype_backend\u001b[49m\u001b[38;5;241;43m=\u001b[39;49m\u001b[43mdtype_backend\u001b[49m\u001b[43m,\u001b[49m\n\u001b[1;32m    714\u001b[0m \u001b[43m            \u001b[49m\u001b[43mdtype\u001b[49m\u001b[38;5;241;43m=\u001b[39;49m\u001b[43mdtype\u001b[49m\u001b[43m,\u001b[49m\n\u001b[1;32m    715\u001b[0m \u001b[43m        \u001b[49m\u001b[43m)\u001b[49m\n\u001b[1;32m    717\u001b[0m     \u001b[38;5;28;01mtry\u001b[39;00m:\n\u001b[1;32m    718\u001b[0m         _is_table_name \u001b[38;5;241m=\u001b[39m pandas_sql\u001b[38;5;241m.\u001b[39mhas_table(sql)\n",
      "File \u001b[0;32m/usr/local/lib/python3.11/site-packages/pandas/io/sql.py:2738\u001b[0m, in \u001b[0;36mSQLiteDatabase.read_query\u001b[0;34m(self, sql, index_col, coerce_float, parse_dates, params, chunksize, dtype, dtype_backend)\u001b[0m\n\u001b[1;32m   2727\u001b[0m \u001b[38;5;28;01mdef\u001b[39;00m \u001b[38;5;21mread_query\u001b[39m(\n\u001b[1;32m   2728\u001b[0m     \u001b[38;5;28mself\u001b[39m,\n\u001b[1;32m   2729\u001b[0m     sql,\n\u001b[0;32m   (...)\u001b[0m\n\u001b[1;32m   2736\u001b[0m     dtype_backend: DtypeBackend \u001b[38;5;241m|\u001b[39m Literal[\u001b[38;5;124m\"\u001b[39m\u001b[38;5;124mnumpy\u001b[39m\u001b[38;5;124m\"\u001b[39m] \u001b[38;5;241m=\u001b[39m \u001b[38;5;124m\"\u001b[39m\u001b[38;5;124mnumpy\u001b[39m\u001b[38;5;124m\"\u001b[39m,\n\u001b[1;32m   2737\u001b[0m ) \u001b[38;5;241m-\u001b[39m\u001b[38;5;241m>\u001b[39m DataFrame \u001b[38;5;241m|\u001b[39m Iterator[DataFrame]:\n\u001b[0;32m-> 2738\u001b[0m     cursor \u001b[38;5;241m=\u001b[39m \u001b[38;5;28;43mself\u001b[39;49m\u001b[38;5;241;43m.\u001b[39;49m\u001b[43mexecute\u001b[49m\u001b[43m(\u001b[49m\u001b[43msql\u001b[49m\u001b[43m,\u001b[49m\u001b[43m \u001b[49m\u001b[43mparams\u001b[49m\u001b[43m)\u001b[49m\n\u001b[1;32m   2739\u001b[0m     columns \u001b[38;5;241m=\u001b[39m [col_desc[\u001b[38;5;241m0\u001b[39m] \u001b[38;5;28;01mfor\u001b[39;00m col_desc \u001b[38;5;129;01min\u001b[39;00m cursor\u001b[38;5;241m.\u001b[39mdescription]\n\u001b[1;32m   2741\u001b[0m     \u001b[38;5;28;01mif\u001b[39;00m chunksize \u001b[38;5;129;01mis\u001b[39;00m \u001b[38;5;129;01mnot\u001b[39;00m \u001b[38;5;28;01mNone\u001b[39;00m:\n",
      "File \u001b[0;32m/usr/local/lib/python3.11/site-packages/pandas/io/sql.py:2686\u001b[0m, in \u001b[0;36mSQLiteDatabase.execute\u001b[0;34m(self, sql, params)\u001b[0m\n\u001b[1;32m   2683\u001b[0m     \u001b[38;5;28;01mraise\u001b[39;00m ex \u001b[38;5;28;01mfrom\u001b[39;00m \u001b[38;5;21;01minner_exc\u001b[39;00m\n\u001b[1;32m   2685\u001b[0m ex \u001b[38;5;241m=\u001b[39m DatabaseError(\u001b[38;5;124mf\u001b[39m\u001b[38;5;124m\"\u001b[39m\u001b[38;5;124mExecution failed on sql \u001b[39m\u001b[38;5;124m'\u001b[39m\u001b[38;5;132;01m{\u001b[39;00msql\u001b[38;5;132;01m}\u001b[39;00m\u001b[38;5;124m'\u001b[39m\u001b[38;5;124m: \u001b[39m\u001b[38;5;132;01m{\u001b[39;00mexc\u001b[38;5;132;01m}\u001b[39;00m\u001b[38;5;124m\"\u001b[39m)\n\u001b[0;32m-> 2686\u001b[0m \u001b[38;5;28;01mraise\u001b[39;00m ex \u001b[38;5;28;01mfrom\u001b[39;00m \u001b[38;5;21;01mexc\u001b[39;00m\n",
      "\u001b[0;31mDatabaseError\u001b[0m: Execution failed on sql 'SELECT AVG(CAST(SUBSTR(WT, INSTR(WT,'') + 1) AS INTEGER) FROM nba_roster WHERE WT IS NOT NULL': near \"FROM\": syntax error"
     ]
    }
   ],
   "source": [
    "df = pd.read_sql(generated_query['sqlite_query'], con=engine)"
   ]
  },
  {
   "cell_type": "code",
   "execution_count": 11,
   "id": "560a20a5-bf9a-4e55-8bc3-424899981032",
   "metadata": {
    "height": 149
   },
   "outputs": [
    {
     "name": "stdout",
     "output_type": "stream",
     "text": [
      "Execution failed on sql 'SELECT AVG(CAST(SUBSTR(WT, INSTR(WT,'') + 1) AS INTEGER) FROM nba_roster WHERE WT IS NOT NULL': near \"FROM\": syntax error\n"
     ]
    }
   ],
   "source": [
    "import pandas as pd\n",
    "import sqlite3\n",
    "engine = sqlite3.connect(\"./nba_roster.db\")\n",
    "try:\n",
    "    df = pd.read_sql(generated_query['sqlite_query'], con=engine)\n",
    "    print(df)\n",
    "except Exception as e:\n",
    "    print(e)"
   ]
  },
  {
   "cell_type": "markdown",
   "id": "552da86b-71db-4caf-b18a-d8c07177b908",
   "metadata": {},
   "source": [
    "### Try Agent Reflection to see if that can improve the query."
   ]
  },
  {
   "cell_type": "code",
   "execution_count": 12,
   "id": "c8fd8cbe-84ab-4888-a77c-b0a2ab1f24c2",
   "metadata": {
    "height": 45
   },
   "outputs": [],
   "source": [
    "reflection = f\"Question: {question}. Query: {generated_query['sqlite_query']}. This query is invalid (gets the error Execution failed on sql 'SELECT AVG(CAST(SUBSTR(WT, INSTR(WT,'') + 1) AS INTEGER) FROM nba_roster WHERE WT IS NOT NULL': near \\\"FROM\\\": syntax error), so it cannot answer the question. Write a corrected sqlite query.\""
   ]
  },
  {
   "cell_type": "code",
   "execution_count": 13,
   "id": "a2a5f816-b17d-4cfb-b706-ea008c26532f",
   "metadata": {
    "height": 30
   },
   "outputs": [],
   "source": [
    "reflection_prompt = make_llama_3_prompt(reflection, system)"
   ]
  },
  {
   "cell_type": "code",
   "execution_count": 14,
   "id": "a3ecba8f-4919-4b13-b053-02e7c35fcf24",
   "metadata": {
    "height": 30
   },
   "outputs": [
    {
     "data": {
      "text/plain": [
       "'<|begin_of_text|><|start_header_id|>system<|end_header_id|>\\n\\nYou are an NBA analyst with 15 years of experience writing complex SQL queries. Consider the nba_roster table with the following schema:\\n0|Team|TEXT eg. \"Toronto Raptors\"\\n1|NAME|TEXT eg. \"Otto Porter Jr.\"\\n2|Jersey|TEXT eg. \"0\" and when null has a value \"NA\"\\n3|POS|TEXT eg. \"PF\"\\n4|AGE|INT eg. \"22\" in years\\n5|HT|TEXT eg. `6\\' 7\"` or `6\\' 10\"`\\n6|WT|TEXT eg. \"232 lbs\" \\n7|COLLEGE|TEXT eg. \"Michigan\" and when null has a value \"--\"\\n8|SALARY|TEXT eg. \"$9,945,830\" and when null has a value \"--\"\\n\\n\\nWrite a sqlite query to answer the following question. Follow instructions exactly<|eot_id|><|start_header_id|>user<|end_header_id|>\\n\\nQuestion: What is the median weight in the NBA?. Query: SELECT AVG(CAST(SUBSTR(WT, INSTR(WT,\\'\\') + 1) AS INTEGER) FROM nba_roster WHERE WT IS NOT NULL. This query is invalid (gets the error Execution failed on sql \\'SELECT AVG(CAST(SUBSTR(WT, INSTR(WT,\\'\\') + 1) AS INTEGER) FROM nba_roster WHERE WT IS NOT NULL\\': near \"FROM\": syntax error), so it cannot answer the question. Write a corrected sqlite query.<|eot_id|><|start_header_id|>assistant<|end_header_id|>\\n\\n'"
      ]
     },
     "execution_count": 14,
     "metadata": {},
     "output_type": "execute_result"
    }
   ],
   "source": [
    "reflection_prompt"
   ]
  },
  {
   "cell_type": "code",
   "execution_count": 15,
   "id": "49952fa4-8690-4780-8b10-b0fc97710733",
   "metadata": {
    "height": 30
   },
   "outputs": [],
   "source": [
    "reflection_query = llm.generate(reflection_prompt, output_type={\"sqlite_query\": \"str\"}, max_new_tokens=200)"
   ]
  },
  {
   "cell_type": "code",
   "execution_count": 16,
   "id": "0c55d269-46bd-4650-ad08-5050cfdaa954",
   "metadata": {
    "height": 30
   },
   "outputs": [
    {
     "data": {
      "text/plain": [
       "{'sqlite_query': \"SELECT AVG(CAST(SUBSTR(WT, INSTR(WT,'') + 1) AS INTEGER) FROM nba_roster WHERE WT IS NOT NULL\"}"
      ]
     },
     "execution_count": 16,
     "metadata": {},
     "output_type": "execute_result"
    }
   ],
   "source": [
    "reflection_query"
   ]
  },
  {
   "cell_type": "code",
   "execution_count": 17,
   "id": "407f1212-b95d-46a1-8673-ea8fb8260a75",
   "metadata": {
    "height": 98
   },
   "outputs": [
    {
     "name": "stdout",
     "output_type": "stream",
     "text": [
      "Execution failed on sql 'SELECT AVG(CAST(SUBSTR(WT, INSTR(WT,'') + 1) AS INTEGER) FROM nba_roster WHERE WT IS NOT NULL': near \"FROM\": syntax error\n"
     ]
    }
   ],
   "source": [
    "try:\n",
    "    df = pd.read_sql(reflection_query['sqlite_query'], con=engine)\n",
    "    print(df)\n",
    "except Exception as e:\n",
    "    print(e)"
   ]
  },
  {
   "cell_type": "markdown",
   "id": "d3926bfb-6f48-49ee-a48a-09fd70e246a0",
   "metadata": {},
   "source": [
    "### Look at the right answer"
   ]
  },
  {
   "cell_type": "code",
   "execution_count": 18,
   "id": "e80f44f9-86fe-41c4-9955-426da15b2aef",
   "metadata": {
    "height": 45
   },
   "outputs": [],
   "source": [
    "correct_sql = \"select CAST(SUBSTR(WT, 1, INSTR(WT,' ')) as INTEGER) as percentile from nba_roster order by percentile limit 1 offset (select count(*) from nba_roster)/2;\""
   ]
  },
  {
   "cell_type": "code",
   "execution_count": 19,
   "id": "f111edf8-a69f-45e0-b67a-6891827f396d",
   "metadata": {
    "height": 30
   },
   "outputs": [
    {
     "data": {
      "text/plain": [
       "\"select CAST(SUBSTR(WT, 1, INSTR(WT,' ')) as INTEGER) as percentile from nba_roster order by percentile limit 1 offset (select count(*) from nba_roster)/2;\""
      ]
     },
     "execution_count": 19,
     "metadata": {},
     "output_type": "execute_result"
    }
   ],
   "source": [
    "correct_sql"
   ]
  },
  {
   "cell_type": "code",
   "execution_count": 20,
   "id": "5fa638ca-ae31-477c-9583-ba59fedcb829",
   "metadata": {
    "height": 47
   },
   "outputs": [
    {
     "name": "stdout",
     "output_type": "stream",
     "text": [
      "   percentile\n",
      "0         215\n"
     ]
    }
   ],
   "source": [
    "df_corrected = pd.read_sql(correct_sql, con=engine)\n",
    "print(df_corrected)"
   ]
  },
  {
   "cell_type": "markdown",
   "id": "90c7a7e0-0de1-43dc-a866-299dda7ef6e6",
   "metadata": {},
   "source": [
    "### Evaluate over a larger dataset"
   ]
  },
  {
   "cell_type": "code",
   "execution_count": 21,
   "id": "9e6c36c4-60ba-4068-93f4-cc5333d88e35",
   "metadata": {
    "height": 608
   },
   "outputs": [],
   "source": [
    "import logging\n",
    "import os\n",
    "from datetime import datetime\n",
    "from pprint import pprint\n",
    "from typing import AsyncIterator, Iterator, Union\n",
    "import sqlite3\n",
    "from tqdm import tqdm\n",
    "\n",
    "import pandas as pd\n",
    "import jsonlines\n",
    "from lamini.generation.base_prompt_object import PromptObject\n",
    "from lamini.generation.generation_node import GenerationNode\n",
    "from lamini.generation.base_prompt_object import PromptObject\n",
    "from lamini.generation.generation_pipeline import GenerationPipeline\n",
    "from util.get_schema import get_schema\n",
    "from util.make_llama_3_prompt import make_llama_3_prompt\n",
    "from util.setup_logging import setup_logging\n",
    "\n",
    "logger = logging.getLogger(__name__)\n",
    "engine = sqlite3.connect(\"./nba_roster.db\")\n",
    "setup_logging()\n",
    "\n",
    "class Args:\n",
    "    def __init__(self, \n",
    "                 max_examples=100, \n",
    "                 sql_model_name=\"meta-llama/Meta-Llama-3-8B-Instruct\", \n",
    "                 gold_file_name=\"gold-test-set.jsonl\",\n",
    "                 training_file_name=\"archive/generated_queries.jsonl\",\n",
    "                 num_to_generate=10):\n",
    "        self.sql_model_name = sql_model_name\n",
    "        self.max_examples = max_examples\n",
    "        self.gold_file_name = gold_file_name\n",
    "        self.training_file_name = training_file_name\n",
    "        self.num_to_generate = num_to_generate\n"
   ]
  },
  {
   "cell_type": "code",
   "execution_count": 22,
   "id": "6314b56a-b4b1-4247-806e-9c6332614a02",
   "metadata": {
    "height": 149
   },
   "outputs": [],
   "source": [
    "def load_gold_dataset(args):\n",
    "    path = f\"data/{args.gold_file_name}\"\n",
    "\n",
    "    with jsonlines.open(path) as reader:\n",
    "        for index, obj in enumerate(reversed(list(reader))):\n",
    "            if index >= args.max_examples:\n",
    "                break\n",
    "            yield PromptObject(prompt=\"\", data=obj)"
   ]
  },
  {
   "cell_type": "code",
   "execution_count": 23,
   "id": "a0529b4d-e49d-41e7-9f47-a358bddd1b93",
   "metadata": {
    "height": 81
   },
   "outputs": [],
   "source": [
    "path = \"data/gold-test-set.jsonl\"\n",
    "\n",
    "with jsonlines.open(path) as reader:\n",
    "    data = [obj for obj in reader]"
   ]
  },
  {
   "cell_type": "code",
   "execution_count": 24,
   "id": "5536b611-a63f-4a49-8303-3c70e6de18db",
   "metadata": {
    "height": 30
   },
   "outputs": [],
   "source": [
    "datapoint = data[4]"
   ]
  },
  {
   "cell_type": "code",
   "execution_count": 25,
   "id": "a585d974-0601-4ab3-a289-66059c118d82",
   "metadata": {
    "height": 30
   },
   "outputs": [
    {
     "data": {
      "text/plain": [
       "{'question': 'What is the average weight in the NBA?',\n",
       " 'answer': '214.98',\n",
       " 'sql': \"SELECT AVG(CAST(SUBSTR(WT, 1, INSTR(WT,' ')) as INTEGER)) FROM nba_roster;\"}"
      ]
     },
     "execution_count": 25,
     "metadata": {},
     "output_type": "execute_result"
    }
   ],
   "source": [
    "datapoint"
   ]
  },
  {
   "cell_type": "code",
   "execution_count": 26,
   "id": "57f87426-b2af-475f-bbab-ef2407768d81",
   "metadata": {
    "height": 30
   },
   "outputs": [],
   "source": [
    "datapoint = data[7]"
   ]
  },
  {
   "cell_type": "code",
   "execution_count": 27,
   "id": "b63e2e8a-031a-4a70-9db8-479c1409e08d",
   "metadata": {
    "height": 30
   },
   "outputs": [
    {
     "data": {
      "text/plain": [
       "{'question': 'Can you tell me how many players are in the NBA?',\n",
       " 'answer': '600',\n",
       " 'sql': 'select count(*) from nba_roster;'}"
      ]
     },
     "execution_count": 27,
     "metadata": {},
     "output_type": "execute_result"
    }
   ],
   "source": [
    "datapoint"
   ]
  },
  {
   "cell_type": "code",
   "execution_count": 28,
   "id": "324b608a-75ac-4404-ac55-41712efe9d1f",
   "metadata": {
    "height": 183
   },
   "outputs": [
    {
     "name": "stdout",
     "output_type": "stream",
     "text": [
      "{'sqlite_query': \"SELECT COUNT(*) FROM nba_roster WHERE Jersey!= 'NA';\"}\n"
     ]
    }
   ],
   "source": [
    "system = \"You are an NBA analyst with 15 years of experience writing complex SQL queries.\\n\"\n",
    "system += \"Consider the nba_roster table with the following schema:\\n\"\n",
    "system += get_schema() + \"\\n\"\n",
    "system += (\n",
    "    \"Write a sqlite SQL query that would help you answer the following question:\\n\"\n",
    ")\n",
    "user = datapoint[\"question\"]\n",
    "prompt = make_llama_3_prompt(user, system)\n",
    "generated_sql = llm.generate(prompt, output_type={\"sqlite_query\": \"str\"}, max_new_tokens=200)\n",
    "print(generated_sql)"
   ]
  },
  {
   "cell_type": "code",
   "execution_count": 29,
   "id": "2c51b433-9137-4230-9a7b-bab3c24fa23f",
   "metadata": {
    "height": 47
   },
   "outputs": [
    {
     "name": "stdout",
     "output_type": "stream",
     "text": [
      "   COUNT(*)\n",
      "0       476\n"
     ]
    }
   ],
   "source": [
    "df = pd.read_sql(generated_sql['sqlite_query'], con=engine)\n",
    "print(df)"
   ]
  },
  {
   "cell_type": "code",
   "execution_count": 30,
   "id": "e051553d-7c78-4580-a9d4-2ac4dafd1c12",
   "metadata": {
    "height": 166
   },
   "outputs": [
    {
     "name": "stdout",
     "output_type": "stream",
     "text": [
      "Query is valid\n"
     ]
    }
   ],
   "source": [
    "query_succeeded = False\n",
    "try:\n",
    "    df = pd.read_sql(generated_sql['sqlite_query'], con=engine)\n",
    "    query_succeeded = True\n",
    "    print(\"Query is valid\")\n",
    "except Exception as e:\n",
    "    print(\n",
    "        f\"Failed to run SQL query: {generated_sql}\"\n",
    "    )"
   ]
  },
  {
   "cell_type": "code",
   "execution_count": 31,
   "id": "fa9a3cc0-6ff3-4037-8913-eb373e0e1249",
   "metadata": {
    "height": 64
   },
   "outputs": [
    {
     "name": "stdout",
     "output_type": "stream",
     "text": [
      "   count(*)\n",
      "0       600\n"
     ]
    }
   ],
   "source": [
    "reference_sql = datapoint[\"sql\"]\n",
    "ref_df = pd.read_sql(reference_sql, con=engine)\n",
    "print(ref_df)"
   ]
  },
  {
   "cell_type": "code",
   "execution_count": 32,
   "id": "f3e2d58b-aaec-4fc4-8435-148fc4b28093",
   "metadata": {
    "height": 1186
   },
   "outputs": [],
   "source": [
    "# Here's how to wrap that all up in a runnable class\n",
    "\n",
    "class QueryStage(GenerationNode):\n",
    "    def __init__(self, model_name):\n",
    "        super().__init__(\n",
    "            model_name=model_name,\n",
    "            max_new_tokens=200,\n",
    "        )\n",
    "\n",
    "    def generate(\n",
    "        self,\n",
    "        prompt: Union[Iterator[PromptObject], AsyncIterator[PromptObject]],\n",
    "        *args,\n",
    "        **kwargs,\n",
    "    ):\n",
    "        results = super().generate(\n",
    "            prompt,\n",
    "            output_type={\"sqlite_query\": \"str\"},\n",
    "            *args,\n",
    "            **kwargs,\n",
    "        )\n",
    "        return results\n",
    "\n",
    "\n",
    "    def postprocess(self, obj: PromptObject):\n",
    "        # Run both the generated and reference (Gold Dataset) SQL queries\n",
    "        # Assessing whether the SQL queries succeeded in hitting the database (not correctness yet!)\n",
    "        \n",
    "        query_succeeded = False\n",
    "\n",
    "        try:\n",
    "            logger.error(f\"Running SQL query '{obj.response['sqlite_query']}'\")\n",
    "            obj.data[\"generated_query\"] = obj.response[\"sqlite_query\"]\n",
    "            df = pd.read_sql(obj.response[\"sqlite_query\"], con=engine)\n",
    "            obj.data['df'] = df\n",
    "            logger.error(f\"Got data: {df}\")\n",
    "            query_succeeded = True\n",
    "\n",
    "        except Exception as e:\n",
    "            logger.error(\n",
    "                f\"Failed to run SQL query: {obj.response['sqlite_query']}\"\n",
    "            )\n",
    "\n",
    "        logger.info(f\"Running reference SQL query '{obj.data['sql']}'\")\n",
    "        df = pd.read_sql(obj.data[\"sql\"], con=engine)\n",
    "        logger.info(f\"Got data: {df}\")\n",
    "        obj.data['reference_df'] = df\n",
    "\n",
    "        logger.info(f\"For question: {obj.data['question']}\")\n",
    "        logger.info(f\"For query: {obj.response['sqlite_query']}\")\n",
    "\n",
    "        obj.data[\"query_succeeded\"] = query_succeeded\n",
    "\n",
    "    def preprocess(self, obj: PromptObject):\n",
    "        new_prompt = make_llama_3_prompt(**self.make_prompt(obj.data))\n",
    "        obj.prompt = new_prompt\n",
    "\n",
    "    def make_prompt(self, data: dict):\n",
    "        system = \"You are an NBA analyst with 15 years of experience writing complex SQL queries.\\n\"\n",
    "        system += \"Consider the nba_roster table with the following schema:\\n\"\n",
    "        system += get_schema() + \"\\n\"\n",
    "        system += (\n",
    "            \"Write a sqlite SQL query that would help you answer the following question:\\n\"\n",
    "        )\n",
    "        user = data[\"question\"]\n",
    "        return {\n",
    "            \"user\": user,\n",
    "            \"system\": system,\n",
    "        }"
   ]
  },
  {
   "cell_type": "markdown",
   "id": "be880417-09d3-497b-9596-451b798afeab",
   "metadata": {},
   "source": [
    "Compare strings."
   ]
  },
  {
   "cell_type": "code",
   "execution_count": 33,
   "id": "e9cba156-4b6b-499b-8917-28e3b0d9117f",
   "metadata": {
    "height": 30
   },
   "outputs": [
    {
     "data": {
      "text/plain": [
       "False"
      ]
     },
     "execution_count": 33,
     "metadata": {},
     "output_type": "execute_result"
    }
   ],
   "source": [
    "str(df).lower() == str(ref_df).lower()"
   ]
  },
  {
   "cell_type": "markdown",
   "id": "65781433-acfc-46f3-8c98-1295fb84d6ca",
   "metadata": {},
   "source": [
    "Use an LLM to compare."
   ]
  },
  {
   "cell_type": "code",
   "execution_count": 34,
   "id": "08205a44-2b1d-417a-9748-d5b5754ac3b9",
   "metadata": {
    "height": 79
   },
   "outputs": [
    {
     "data": {
      "text/plain": [
       "\"Compare the following two dataframes. They are similar if they are almost identical, or if they convey the same information about the nba_roster datasetRespond with valid JSON {'explanation' : str, 'similar' : bool}\""
      ]
     },
     "execution_count": 34,
     "metadata": {},
     "output_type": "execute_result"
    }
   ],
   "source": [
    "system_prompt = \"Compare the following two dataframes. They are similar if they are almost identical, or if they convey the same information about the nba_roster dataset\"\n",
    "system_prompt += \"Respond with valid JSON {'explanation' : str, 'similar' : bool}\"\n",
    "system_prompt"
   ]
  },
  {
   "cell_type": "code",
   "execution_count": 35,
   "id": "365bca3a-f63c-40f9-b872-7811d8cb6323",
   "metadata": {
    "height": 149
   },
   "outputs": [],
   "source": [
    "user_prompt = (\n",
    "    f\"========== Dataframe 1 =========\\n{str(df).lower()}\\n\\n\"\n",
    ")\n",
    "user_prompt += (\n",
    "    f\"========== Dataframe 2 =========\\n{str(ref_df).lower()}\\n\\n\"\n",
    ")\n",
    "user_prompt += f\"Can you tell me if these dataframes are similar?\"\n"
   ]
  },
  {
   "cell_type": "code",
   "execution_count": 36,
   "id": "b5c75f6d-98ce-4b2d-a888-2b8a7f24ce10",
   "metadata": {
    "height": 47
   },
   "outputs": [],
   "source": [
    "llm_similarity_prompt = make_llama_3_prompt(user_prompt, system_prompt)\n"
   ]
  },
  {
   "cell_type": "code",
   "execution_count": 37,
   "id": "28440158-0f30-4372-9ee4-ebea8786382e",
   "metadata": {
    "height": 62
   },
   "outputs": [],
   "source": [
    "llm_similarity = llm.generate(llm_similarity_prompt, output_type={\"explanation\": \"str\", \"similar\": \"bool\"}, max_new_tokens=200)\n"
   ]
  },
  {
   "cell_type": "code",
   "execution_count": 38,
   "id": "d9be7072-ddc5-4867-a507-09410d955d1e",
   "metadata": {
    "height": 30
   },
   "outputs": [
    {
     "data": {
      "text/plain": [
       "{'explanation': 'The dataframes are not similar because they have different counts. The first dataframe has a count of 476, while the second dataframe has a count of 600',\n",
       " 'similar': False}"
      ]
     },
     "execution_count": 38,
     "metadata": {},
     "output_type": "execute_result"
    }
   ],
   "source": [
    "llm_similarity"
   ]
  },
  {
   "cell_type": "code",
   "execution_count": 39,
   "id": "51b28fdd-24fb-4cd5-bb02-7bed9683596b",
   "metadata": {
    "height": 30
   },
   "outputs": [
    {
     "data": {
      "text/plain": [
       "False"
      ]
     },
     "execution_count": 39,
     "metadata": {},
     "output_type": "execute_result"
    }
   ],
   "source": [
    "str(df).lower() == str(ref_df).lower() or llm_similarity[\"similar\"]"
   ]
  },
  {
   "cell_type": "code",
   "execution_count": 40,
   "id": "6ff72ef3-848c-4f9d-8b4c-fac716124d78",
   "metadata": {
    "height": 980
   },
   "outputs": [],
   "source": [
    "# How to wrap it up in a class\n",
    "\n",
    "class ScoreStage(GenerationNode):\n",
    "    def __init__(self):\n",
    "        super().__init__(\n",
    "            model_name=\"meta-llama/Meta-Llama-3-8B-Instruct\",\n",
    "            max_new_tokens=150,\n",
    "        )\n",
    "\n",
    "    def generate(\n",
    "        self,\n",
    "        prompt: Union[Iterator[PromptObject], AsyncIterator[PromptObject]],\n",
    "        *args,\n",
    "        **kwargs,\n",
    "    ):\n",
    "        logger.debug(\"ScoreStage Generate\")\n",
    "        results = super().generate(\n",
    "            prompt,\n",
    "            output_type={\"explanation\": \"str\", \"similar\": [\"true\", \"false\"]},\n",
    "            *args,\n",
    "            **kwargs,\n",
    "        )        \n",
    "        logger.debug(f\"ScoreStage Results {results}\")\n",
    "\n",
    "        return results\n",
    "\n",
    "    def preprocess(self, obj: PromptObject):\n",
    "        obj.prompt = make_llama_3_prompt(**self.make_prompt(obj))\n",
    "        logger.info(f\"Scoring Stage Prompt:\\n{obj.prompt}\")\n",
    "\n",
    "    def postprocess(self, obj: PromptObject):\n",
    "        logger.info(f\"Postprocess\")\n",
    "        obj.data['is_matching'] = self.is_matching(obj.data, obj.response)\n",
    "        obj.data['explanation'] = obj.response[\"explanation\"]\n",
    "        obj.data['similar'] = obj.response[\"similar\"] == \"true\"\n",
    "\n",
    "\n",
    "    def is_matching(self, data, response):\n",
    "        return (str(data.get('df',\"None\")).lower() == str(data['reference_df']).lower() \n",
    "                or response['similar'] == \"true\")\n",
    "\n",
    "    def make_prompt(self, obj: PromptObject):\n",
    "        # Your evaluation model compares SQL output from the generated and reference SQL queries, using another LLM in the pipeline\n",
    "        system_prompt = \"Compare the following two dataframes. They are similar if they are almost identical, or if they convey the same information about the nba_roster dataset\"\n",
    "        system_prompt += \"Respond with valid JSON {'explanation' : str, 'similar' : bool}\"\n",
    "        user_prompt = (\n",
    "            f\"========== Dataframe 1 =========\\n{str(obj.data.get('df','None')).lower()}\\n\\n\"\n",
    "        )\n",
    "        user_prompt += (\n",
    "            f\"========== Dataframe 2 =========\\n{str(obj.data['reference_df']).lower()}\\n\\n\"\n",
    "        )\n",
    "        user_prompt += f\"Can you tell me if these dataframes are similar?\"\n",
    "        return {\n",
    "            \"system\": system_prompt,\n",
    "            \"user\": user_prompt\n",
    "        }"
   ]
  },
  {
   "cell_type": "code",
   "execution_count": 41,
   "id": "64d1645d-d59e-4cc5-a13d-a33758745ac4",
   "metadata": {
    "height": 183
   },
   "outputs": [],
   "source": [
    "class EvaluationPipeline(GenerationPipeline):\n",
    "    def __init__(self, args):\n",
    "        super().__init__()\n",
    "        self.query_stage = QueryStage(args.sql_model_name)\n",
    "        self.score_stage = ScoreStage()\n",
    "\n",
    "    def forward(self, x):\n",
    "        x = self.query_stage(x)\n",
    "        x = self.score_stage(x)\n",
    "        return x"
   ]
  },
  {
   "cell_type": "code",
   "execution_count": 42,
   "id": "03c3ae67-ce62-470f-bdf6-043c409dd555",
   "metadata": {
    "height": 251
   },
   "outputs": [],
   "source": [
    "async def run_eval(dataset, args):\n",
    "    results = await run_evaluation_pipeline(dataset, args)\n",
    "    print(\"Total results:\", len(results))\n",
    "    return results\n",
    "\n",
    "async def run_evaluation_pipeline(dataset, args):\n",
    "    results = EvaluationPipeline(args).call(dataset)\n",
    "    result_list = []\n",
    "\n",
    "    pbar = tqdm(desc=\"Saving results\", unit=\" results\")\n",
    "    async for result in results:\n",
    "        result_list.append(result)\n",
    "        pbar.update()\n",
    "    return result_list"
   ]
  },
  {
   "cell_type": "code",
   "execution_count": 43,
   "id": "aa784583-b6e8-4145-870f-858b72f554c3",
   "metadata": {
    "height": 1271
   },
   "outputs": [],
   "source": [
    "def save_eval_results(results, args):\n",
    "    base_path = \"./data/results\"\n",
    "    now = datetime.now().strftime(\"%Y_%m_%d_%H_%M_%S\")\n",
    "    experiment_name = f\"nba_sql_pipeline_{now}\"\n",
    "    experiment_dir = os.path.join(base_path, experiment_name)\n",
    "    os.makedirs(os.path.join(base_path, experiment_name))\n",
    "\n",
    "    # Write args to file\n",
    "    args_file_name = f\"{experiment_dir}/args.txt\"\n",
    "    with open(args_file_name, \"w\") as writer:\n",
    "        pprint(args.__dict__, writer)\n",
    "\n",
    "\n",
    "    def is_correct(r):\n",
    "        if (\n",
    "            (r.data[\"query_succeeded\"] and r.data['is_matching']) or \n",
    "            r.data[\"generated_query\"] == r.data['sql']\n",
    "        ):\n",
    "            return True\n",
    "        return False\n",
    "\n",
    "    # Write sql results and errors to file\n",
    "    results_file_name = f\"{experiment_dir}/sql_results.jsonl\"\n",
    "    with jsonlines.open(results_file_name, \"w\") as writer:\n",
    "        for result in results:\n",
    "            if not is_correct(result):\n",
    "                continue\n",
    "            writer.write(\n",
    "                {\n",
    "                    \"question\": result.data['question'],\n",
    "                    \"query\": result.data[\"generated_query\"],\n",
    "                    \"query_succeeded\": result.data[\"query_succeeded\"],\n",
    "                    \"reference_sql\": result.data['sql'],\n",
    "                    \"df\": str(result.data.get('df', 'None')),\n",
    "                    \"reference_df\": str(result.data['reference_df']),\n",
    "                    'is_matching': result.data['is_matching'],\n",
    "                    'similar': result.data['similar'],\n",
    "                }\n",
    "            )\n",
    "\n",
    "    results_file_name = f\"{experiment_dir}/sql_errors.jsonl\"\n",
    "    with jsonlines.open(results_file_name, \"w\") as writer:\n",
    "        for result in results:\n",
    "            if is_correct(result):\n",
    "                continue\n",
    "            writer.write(\n",
    "                {\n",
    "                    \"question\": result.data['question'],\n",
    "                    \"query\": result.data[\"generated_query\"],\n",
    "                    \"query_succeeded\": result.data[\"query_succeeded\"],\n",
    "                    \"df\": str(result.data.get('df', 'None')),\n",
    "                    \"reference_df\": str(result.data['reference_df']),\n",
    "                    'is_matching': result.data['is_matching'],\n",
    "                    'similar': result.data['similar'],\n",
    "                }\n",
    "            )\n",
    "\n",
    "    # Write statistics to file\n",
    "    average_sql_succeeded = sum(\n",
    "        [result.data[\"query_succeeded\"] for result in results]\n",
    "    ) / len(results)\n",
    "    average_correct = sum(\n",
    "        [result.data[\"query_succeeded\"] and result.data['is_matching'] for result in results]\n",
    "    ) / len(results)\n",
    "\n",
    "    file_name = f\"{experiment_dir}/summary.txt\"\n",
    "    with open(file_name, \"w\") as writer:\n",
    "        print(f\"Total size of eval dataset: {len(results)}\", file=writer)\n",
    "        print(f\"Total size of eval dataset: {len(results)}\")\n",
    "        print(f\"Percent Valid SQL Syntax: {average_sql_succeeded*100}\", file=writer)\n",
    "        print(f\"Percent Valid SQL Syntax: {average_sql_succeeded*100}\")\n",
    "        print(f\"Percent Correct SQL Query: {average_correct*100}\", file=writer)\n",
    "        print(f\"Percent Correct SQL Query: {average_correct*100}\")\n"
   ]
  },
  {
   "cell_type": "code",
   "execution_count": 44,
   "id": "fbb9227b-0d44-4dcf-8090-489821509ed2",
   "metadata": {
    "height": 81
   },
   "outputs": [
    {
     "name": "stderr",
     "output_type": "stream",
     "text": [
      "Saving results: 0 results [00:00, ? results/s]2024-09-14 01:58:52,421 [ERROR] Running SQL query 'SELECT SALARY FROM nba_roster WHERE NAME = 'Marcus Smart';'\n",
      "2024-09-14 01:58:52,423 [ERROR] Got data:         SALARY\n",
      "0  $18,833,712\n",
      "2024-09-14 01:58:52,425 [ERROR] Running SQL query 'SELECT NAME, SALARY FROM nba_roster WHERE TEAM = 'Dallas Mavericks' AND POS = 'C' AND SALARY!= '--' ORDER BY CAST(SALARY AS REAL) DESC LIMIT 1'\n",
      "2024-09-14 01:58:52,427 [ERROR] Got data:                NAME      SALARY\n",
      "0  Dereck Lively II  $4,775,640\n",
      "2024-09-14 01:58:52,429 [ERROR] Running SQL query 'SELECT NAME, SALARY FROM nba_roster WHERE Team = 'Cleveland Cavaliers' AND SALARY!= '--' ORDER BY CAST(SALARY AS REAL) DESC LIMIT 1'\n",
      "2024-09-14 01:58:52,430 [ERROR] Got data:             NAME       SALARY\n",
      "0  Jarrett Allen  $20,000,000\n",
      "2024-09-14 01:58:52,432 [ERROR] Running SQL query 'SELECT NAME, SALARY FROM nba_roster WHERE Team = 'Memphis Grizzlies' AND SALARY!= '--' ORDER BY CAST(SALARY AS REAL) DESC LIMIT 1'\n",
      "2024-09-14 01:58:52,434 [ERROR] Got data:            NAME       SALARY\n",
      "0  Steven Adams  $12,600,000\n",
      "2024-09-14 01:58:52,436 [ERROR] Running SQL query 'SELECT NAME FROM nba_roster WHERE Team = 'Brooklyn Nets' AND AGE = (SELECT MAX(AGE) FROM nba_roster WHERE Team = 'Brooklyn Nets')'\n",
      "2024-09-14 01:58:52,437 [ERROR] Got data:                   NAME\n",
      "0    Spencer Dinwiddie\n",
      "1  Dorian Finney-Smith\n",
      "2        Royce O'Neale\n",
      "2024-09-14 01:58:52,794 [ERROR] Running SQL query 'SELECT * FROM nba_roster WHERE NAME = 'Jalen Johnson' AND AGE = 23'\n",
      "2024-09-14 01:58:52,797 [ERROR] Got data: Empty DataFrame\n",
      "Columns: [Team, NAME, Jersey, POS, AGE, HT, WT, COLLEGE, SALARY]\n",
      "Index: []\n",
      "2024-09-14 01:58:52,799 [ERROR] Running SQL query 'SELECT POS, MAX(CAST(SUBSTR(SALARY, 2) AS INTEGER) AS Salary FROM nba_roster WHERE SALARY!= '--' GROUP BY POS'\n",
      "2024-09-14 01:58:52,799 [ERROR] Failed to run SQL query: SELECT POS, MAX(CAST(SUBSTR(SALARY, 2) AS INTEGER) AS Salary FROM nba_roster WHERE SALARY!= '--' GROUP BY POS\n",
      "2024-09-14 01:58:52,802 [ERROR] Running SQL query 'SELECT COUNT(*) FROM nba_roster WHERE Jersey!= 'NA';'\n",
      "2024-09-14 01:58:52,803 [ERROR] Got data:    COUNT(*)\n",
      "0       476\n",
      "2024-09-14 01:58:52,804 [ERROR] Running SQL query 'SELECT AVG(CAST(SUBSTRING(HT, 0, INSTR(HT,'')) AS INTEGER) FROM nba_roster WHERE HT IS NOT NULL'\n",
      "2024-09-14 01:58:52,805 [ERROR] Failed to run SQL query: SELECT AVG(CAST(SUBSTRING(HT, 0, INSTR(HT,'')) AS INTEGER) FROM nba_roster WHERE HT IS NOT NULL\n",
      "2024-09-14 01:58:52,807 [ERROR] Running SQL query 'SELECT AVG(CAST(SUBSTR(HT, 0, INSTR(HT,'')-1) AS INTEGER) FROM nba_roster WHERE HT IS NOT NULL'\n",
      "2024-09-14 01:58:52,808 [ERROR] Failed to run SQL query: SELECT AVG(CAST(SUBSTR(HT, 0, INSTR(HT,'')-1) AS INTEGER) FROM nba_roster WHERE HT IS NOT NULL\n",
      "2024-09-14 01:58:52,974 [ERROR] Running SQL query 'SELECT AVG(CAST(SUBSTR(WT, INSTR(WT,'') + 1) AS INTEGER) AS weight FROM nba_roster WHERE WT IS NOT NULL'\n",
      "2024-09-14 01:58:52,975 [ERROR] Failed to run SQL query: SELECT AVG(CAST(SUBSTR(WT, INSTR(WT,'') + 1) AS INTEGER) AS weight FROM nba_roster WHERE WT IS NOT NULL\n",
      "2024-09-14 01:58:52,977 [ERROR] Running SQL query 'SELECT AVG(CAST(SUBSTR(WT, INSTR(WT,'') + 1) AS INTEGER) FROM nba_roster WHERE WT!= 'NA';'\n",
      "2024-09-14 01:58:52,977 [ERROR] Failed to run SQL query: SELECT AVG(CAST(SUBSTR(WT, INSTR(WT,'') + 1) AS INTEGER) FROM nba_roster WHERE WT!= 'NA';\n",
      "2024-09-14 01:58:52,979 [ERROR] Running SQL query 'SELECT PERCENTILE(SALARY, 0.25) FROM nba_roster WHERE SALARY!= '--';'\n",
      "2024-09-14 01:58:52,979 [ERROR] Failed to run SQL query: SELECT PERCENTILE(SALARY, 0.25) FROM nba_roster WHERE SALARY!= '--';\n",
      "2024-09-14 01:58:52,981 [ERROR] Running SQL query 'SELECT PERCENTILE(salary, 0.75) FROM (SELECT CAST(SUBSTR(salary, 2) AS INTEGER) AS salary FROM nba_roster WHERE salary!= '--') AS subquery'\n",
      "2024-09-14 01:58:52,981 [ERROR] Failed to run SQL query: SELECT PERCENTILE(salary, 0.75) FROM (SELECT CAST(SUBSTR(salary, 2) AS INTEGER) AS salary FROM nba_roster WHERE salary!= '--') AS subquery\n",
      "2024-09-14 01:58:52,983 [ERROR] Running SQL query 'SELECT PERCENTILE(salary, 0.99) FROM nba_roster WHERE salary IS NOT NULL'\n",
      "2024-09-14 01:58:52,983 [ERROR] Failed to run SQL query: SELECT PERCENTILE(salary, 0.99) FROM nba_roster WHERE salary IS NOT NULL\n",
      "2024-09-14 01:58:57,604 [ERROR] Running SQL query 'SELECT AVG(CAST(SUBSTR(SALARY, 2) AS INTEGER) AS average_salary FROM nba_roster WHERE POS = 'PF' AND SALARY!= '--';'\n",
      "2024-09-14 01:58:57,605 [ERROR] Failed to run SQL query: SELECT AVG(CAST(SUBSTR(SALARY, 2) AS INTEGER) AS average_salary FROM nba_roster WHERE POS = 'PF' AND SALARY!= '--';\n",
      "2024-09-14 01:58:57,608 [ERROR] Running SQL query 'SELECT Team, AVG(AGE) AS Average_Age FROM nba_roster GROUP BY Team ORDER BY Average_Age DESC LIMIT 5'\n",
      "2024-09-14 01:58:57,610 [ERROR] Got data:                     Team  Average_Age\n",
      "0  Golden State Warriors    28.705882\n",
      "1        Milwaukee Bucks    28.666667\n",
      "2             Miami Heat    28.125000\n",
      "3            LA Clippers    27.350000\n",
      "4           Phoenix Suns    27.210526\n",
      "2024-09-14 01:58:57,614 [ERROR] Running SQL query 'SELECT AVG(AGE) FROM nba_roster WHERE Team = 'Miami Heat';'\n",
      "2024-09-14 01:58:57,615 [ERROR] Got data:    AVG(AGE)\n",
      "0    28.125\n",
      "2024-09-14 01:58:57,617 [ERROR] Running SQL query 'SELECT AVG(AGE) FROM nba_roster'\n",
      "2024-09-14 01:58:57,618 [ERROR] Got data:    AVG(AGE)\n",
      "0    25.655\n",
      "2024-09-14 01:58:57,621 [ERROR] Running SQL query 'SELECT AVG(AGE) FROM nba_roster WHERE Team = 'Portland Trail Blazers';'\n",
      "2024-09-14 01:58:57,622 [ERROR] Got data:    AVG(AGE)\n",
      "0      24.0\n",
      "Saving results: 20 results [00:50,  2.53s/ results]"
     ]
    },
    {
     "name": "stdout",
     "output_type": "stream",
     "text": [
      "Total results: 20\n",
      "Total size of eval dataset: 20\n",
      "Percent Valid SQL Syntax: 55.00000000000001\n",
      "Percent Correct SQL Query: 30.0\n"
     ]
    },
    {
     "name": "stderr",
     "output_type": "stream",
     "text": [
      "\n"
     ]
    }
   ],
   "source": [
    "args = Args()\n",
    "dataset = load_gold_dataset(args)\n",
    "results = await run_eval(dataset, args)\n",
    "save_eval_results(results, args)"
   ]
  },
  {
   "cell_type": "code",
   "execution_count": null,
   "id": "446dc37c-a14b-4890-8bdd-2f69c389dda3",
   "metadata": {
    "height": 30
   },
   "outputs": [],
   "source": []
  }
 ],
 "metadata": {
  "kernelspec": {
   "display_name": "Python 3 (ipykernel)",
   "language": "python",
   "name": "python3"
  },
  "language_info": {
   "codemirror_mode": {
    "name": "ipython",
    "version": 3
   },
   "file_extension": ".py",
   "mimetype": "text/x-python",
   "name": "python",
   "nbconvert_exporter": "python",
   "pygments_lexer": "ipython3",
   "version": "3.11.9"
  }
 },
 "nbformat": 4,
 "nbformat_minor": 5
}

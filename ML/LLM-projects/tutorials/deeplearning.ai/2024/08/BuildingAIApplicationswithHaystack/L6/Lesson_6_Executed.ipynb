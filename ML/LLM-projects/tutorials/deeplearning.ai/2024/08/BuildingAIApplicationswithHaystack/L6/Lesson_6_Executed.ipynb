{
 "cells": [
  {
   "cell_type": "markdown",
   "id": "bc20bfba-91e7-4286-9a9f-8d2e6d5f58d2",
   "metadata": {},
   "source": [
    "# L6: Chat Agent with Function Calling"
   ]
  },
  {
   "cell_type": "markdown",
   "id": "cf8564a7-ec66-4385-b481-6e90674fdae2",
   "metadata": {},
   "source": [
    "<p style=\"background-color:#fff6e4; padding:15px; border-width:3px; border-color:#f5ecda; border-style:solid; border-radius:6px\"> ⏳ <b>Note <code>(Kernel Starting)</code>:</b> This notebook takes about 30 seconds to be ready to use. You may start and watch the video while you wait.</p>"
   ]
  },
  {
   "cell_type": "code",
   "execution_count": 1,
   "id": "b04c9ede-ee86-4a7d-bbbe-bfdb0110c533",
   "metadata": {
    "height": 98
   },
   "outputs": [],
   "source": [
    "import warnings\n",
    "from helper import load_env\n",
    "\n",
    "warnings.filterwarnings('ignore')\n",
    "load_env()"
   ]
  },
  {
   "cell_type": "code",
   "execution_count": 2,
   "id": "5517e189-1469-460a-a4f1-848eaec05669",
   "metadata": {
    "height": 198
   },
   "outputs": [],
   "source": [
    "import pprint\n",
    "import gradio as gr\n",
    "from typing import List\n",
    "from haystack import component, Pipeline, Document\n",
    "from haystack.components.builders import PromptBuilder\n",
    "from haystack.components.generators import OpenAIGenerator\n",
    "from haystack.components.generators.chat.openai import OpenAIChatGenerator\n",
    "from haystack.dataclasses import ChatMessage\n",
    "from haystack.components.joiners import BranchJoiner\n",
    "from haystack_experimental.components.tools import OpenAIFunctionCaller"
   ]
  },
  {
   "cell_type": "markdown",
   "id": "17dc46ce-d51e-41cf-a4e5-dbc4129299f6",
   "metadata": {},
   "source": [
    "<p style=\"background-color:#fff6ff; padding:15px; border-width:3px; border-color:#efe6ef; border-style:solid; border-radius:6px\"> 💻 &nbsp; <b>Access <code>requirements.txt</code> and <code>helper.py</code> files:</b> 1) click on the <em>\"File\"</em> option on the top menu of the notebook and then 2) click on <em>\"Open\"</em>. For more help, please see the <em>\"Appendix - Tips and Help\"</em> Lesson.</p>"
   ]
  },
  {
   "cell_type": "markdown",
   "id": "4a7edf7b-ee45-4432-ab6d-4ed058891b10",
   "metadata": {},
   "source": [
    "### Create RAG Pipeline as a Function"
   ]
  },
  {
   "cell_type": "code",
   "execution_count": 3,
   "id": "d3ae7f40-5ad3-4868-8ed4-98fba4169c61",
   "metadata": {
    "height": 283
   },
   "outputs": [
    {
     "data": {
      "text/plain": [
       "<haystack.core.pipeline.pipeline.Pipeline object at 0x7f12e6e2eb50>\n",
       "🚅 Components\n",
       "  - prompt_builder: PromptBuilder\n",
       "  - llm: OpenAIGenerator\n",
       "🛤️ Connections\n",
       "  - prompt_builder.prompt -> llm.prompt (str)"
      ]
     },
     "execution_count": 3,
     "metadata": {},
     "output_type": "execute_result"
    }
   ],
   "source": [
    "template = \"\"\"\n",
    "Answer the questions based on the given context.\n",
    "\n",
    "Context:\n",
    "{% for document in documents %}\n",
    "    {{ document.content }}\n",
    "{% endfor %}\n",
    "Question: {{ question }}\n",
    "Answer:\n",
    "\"\"\"\n",
    "rag_pipe = Pipeline()\n",
    "rag_pipe.add_component(\"prompt_builder\", PromptBuilder(template=template))\n",
    "rag_pipe.add_component(\"llm\", OpenAIGenerator())\n",
    "\n",
    "rag_pipe.connect(\"prompt_builder\", \"llm\")"
   ]
  },
  {
   "cell_type": "code",
   "execution_count": 4,
   "id": "7cc63040-b172-4201-bd7b-5add2c179c31",
   "metadata": {
    "height": 215
   },
   "outputs": [],
   "source": [
    "def rag_pipeline_func(query: str):\n",
    "    documents = [\n",
    "        Document(content=\"My name is Jean and I live in Paris.\"),\n",
    "        Document(content=\"My name is Mark and I live in Berlin.\"),\n",
    "        Document(content=\"My name is Giorgio and I live in Rome.\"),\n",
    "        Document(content=\"My name is Marta and I live in Madrid.\"),\n",
    "        Document(content=\"My name is Harry and I live in London.\"),\n",
    "    ]\n",
    "    result = rag_pipe.run({\"prompt_builder\": {\"question\": query, \n",
    "                                              \"documents\": documents}})\n",
    "    return {\"reply\": result[\"llm\"][\"replies\"][0]}"
   ]
  },
  {
   "cell_type": "markdown",
   "id": "cf0c8e90-e0c7-44b1-8da2-f4f6c7b4451b",
   "metadata": {},
   "source": [
    "### Create a Weather Function"
   ]
  },
  {
   "cell_type": "code",
   "execution_count": 5,
   "id": "fc4689d1-b110-4998-8be2-4a3b137417de",
   "metadata": {
    "height": 249
   },
   "outputs": [],
   "source": [
    "WEATHER_INFO = {\n",
    "    \"Berlin\": {\"weather\": \"mostly sunny\", \"temperature\": 7, \"unit\": \"celsius\"},\n",
    "    \"Paris\": {\"weather\": \"mostly cloudy\", \"temperature\": 8, \"unit\": \"celsius\"},\n",
    "    \"Rome\": {\"weather\": \"sunny\", \"temperature\": 14, \"unit\": \"celsius\"},\n",
    "    \"Madrid\": {\"weather\": \"sunny\", \"temperature\": 10, \"unit\": \"celsius\"},\n",
    "    \"London\": {\"weather\": \"cloudy\", \"temperature\": 9, \"unit\": \"celsius\"},\n",
    "}\n",
    "\n",
    "def get_current_weather(location: str):\n",
    "    if location in WEATHER_INFO:\n",
    "        return WEATHER_INFO[location]\n",
    "    else:\n",
    "        return {\"weather\": \"sunny\", \"temperature\": 70, \"unit\": \"fahrenheit\"}"
   ]
  },
  {
   "cell_type": "markdown",
   "id": "9d7271f9-68e8-4d50-a91e-ca194b1e5fbb",
   "metadata": {},
   "source": [
    "### Define Tools"
   ]
  },
  {
   "cell_type": "code",
   "execution_count": 6,
   "id": "4d206a14-e80e-404a-ba58-0b05acc61aad",
   "metadata": {
    "height": 589
   },
   "outputs": [],
   "source": [
    "tools = [\n",
    "    {\n",
    "        \"type\": \"function\",\n",
    "        \"function\": {\n",
    "            \"name\": \"rag_pipeline_func\",\n",
    "            \"description\": \"Get information about where people live\",\n",
    "            \"parameters\": {\n",
    "                \"type\": \"object\",\n",
    "                \"properties\": {\n",
    "                    \"query\": {\n",
    "                        \"type\": \"string\",\n",
    "                        \"description\": \"The query to use in the search. Infer this from the user's message. It should be a question or a statement\",\n",
    "                    }\n",
    "                },\n",
    "                \"required\": [\"query\"],\n",
    "            },\n",
    "        },\n",
    "    },\n",
    "    {\n",
    "        \"type\": \"function\",\n",
    "        \"function\": {\n",
    "            \"name\": \"get_current_weather\",\n",
    "            \"description\": \"Get the current weather\",\n",
    "            \"parameters\": {\n",
    "                \"type\": \"object\",\n",
    "                \"properties\": {\n",
    "                    \"location\": {\"type\": \"string\", \"description\": \"The city\"}\n",
    "                },\n",
    "                \"required\": [\"location\"],\n",
    "            },\n",
    "        },\n",
    "    },\n",
    "]"
   ]
  },
  {
   "cell_type": "markdown",
   "id": "e357814a-04b8-4b22-8196-7cb0848f4d3b",
   "metadata": {},
   "source": [
    "### Create an OpenAIChatGenerator\n",
    "The [`OpenAIChatGenerator`](https://docs.haystack.deepset.ai/docs/openaichatgenerator?utm_campaign=developer-relations&utm_source=dlai) allows chat completions using OpenAI LLMs. \n",
    "\n",
    "Messages can come from the following roles:\n",
    "- system\n",
    "- assistant\n",
    "- user\n",
    "- function"
   ]
  },
  {
   "cell_type": "code",
   "execution_count": 7,
   "id": "ff049bd1-7088-494b-be71-3f8dcc9a2caa",
   "metadata": {
    "height": 62
   },
   "outputs": [],
   "source": [
    "chat_generator = OpenAIChatGenerator(model=\"gpt-3.5-turbo\", generation_kwargs={'tools': tools})\n",
    "replies = chat_generator.run(messages=[ChatMessage.from_user(\"Where does Mark live?\")])"
   ]
  },
  {
   "cell_type": "code",
   "execution_count": 8,
   "id": "f57f6b60-45a7-4fbb-b3a0-e5d5b7cd2136",
   "metadata": {
    "height": 30
   },
   "outputs": [
    {
     "name": "stdout",
     "output_type": "stream",
     "text": [
      "ChatMessage(content='[{\"id\": \"call_ZBBcwE3CEuTUPqjGaAHFajpV\", \"function\": {\"arguments\": \"{\\\\\"query\\\\\":\\\\\"Where does Mark live?\\\\\"}\", \"name\": \"rag_pipeline_func\"}, \"type\": \"function\"}]', role=<ChatRole.ASSISTANT: 'assistant'>, name=None, meta={'model': 'gpt-3.5-turbo-0125', 'index': 0, 'finish_reason': 'tool_calls', 'usage': {'completion_tokens': 20, 'prompt_tokens': 104, 'total_tokens': 124, 'completion_tokens_details': {'reasoning_tokens': 0}}})\n"
     ]
    }
   ],
   "source": [
    "print(replies['replies'][0])"
   ]
  },
  {
   "cell_type": "markdown",
   "id": "c9b05386-a922-42f4-8dd5-18f699ab194a",
   "metadata": {},
   "source": [
    "### Calling the function\n",
    "> Here, we are using a component from the `haystack_experimental` package: the [`OpenAIFunctionCaller`](https://github.com/deepset-ai/haystack-experimental/blob/main/haystack_experimental/components/tools/openai/function_caller.py)"
   ]
  },
  {
   "cell_type": "code",
   "execution_count": 9,
   "id": "97cc5654-5121-467f-98cb-4e985457f939",
   "metadata": {
    "height": 96
   },
   "outputs": [],
   "source": [
    "function_caller = OpenAIFunctionCaller(available_functions={\"rag_pipeline_func\": rag_pipeline_func, \n",
    "                                                            \"get_current_weather\": get_current_weather})\n",
    "\n",
    "results = function_caller.run(messages=replies['replies'])"
   ]
  },
  {
   "cell_type": "code",
   "execution_count": 10,
   "id": "4f4d57b8-cfb0-4b77-a428-9d9e693a9814",
   "metadata": {
    "height": 45
   },
   "outputs": [
    {
     "name": "stdout",
     "output_type": "stream",
     "text": [
      "[ChatMessage(content='[{\"id\": \"call_ZBBcwE3CEuTUPqjGaAHFajpV\", \"function\": '\n",
      "                     '{\"arguments\": \"{\\\\\"query\\\\\":\\\\\"Where does Mark '\n",
      "                     'live?\\\\\"}\", \"name\": \"rag_pipeline_func\"}, \"type\": '\n",
      "                     '\"function\"}]',\n",
      "             role=<ChatRole.ASSISTANT: 'assistant'>,\n",
      "             name=None,\n",
      "             meta={'finish_reason': 'tool_calls',\n",
      "                   'index': 0,\n",
      "                   'model': 'gpt-3.5-turbo-0125',\n",
      "                   'usage': {'completion_tokens': 20,\n",
      "                             'completion_tokens_details': {'reasoning_tokens': 0},\n",
      "                             'prompt_tokens': 104,\n",
      "                             'total_tokens': 124}}),\n",
      " ChatMessage(content='{\"reply\": \"Mark lives in Berlin.\"}',\n",
      "             role=<ChatRole.FUNCTION: 'function'>,\n",
      "             name='rag_pipeline_func',\n",
      "             meta={})]\n"
     ]
    }
   ],
   "source": [
    "pprint.pprint(results[\"function_replies\"])"
   ]
  },
  {
   "cell_type": "markdown",
   "id": "ac032032-799b-45cd-862e-3b8382bbaec9",
   "metadata": {},
   "source": [
    "### Create a Chat Agent with Tools\n"
   ]
  },
  {
   "cell_type": "code",
   "execution_count": 11,
   "id": "8f3f4125-14d8-4f6c-bc9d-3ee15a2d3182",
   "metadata": {
    "height": 266
   },
   "outputs": [
    {
     "data": {
      "text/plain": [
       "<haystack.core.pipeline.pipeline.Pipeline object at 0x7f12e6c602d0>\n",
       "🚅 Components\n",
       "  - message_collector: BranchJoiner\n",
       "  - generator: OpenAIChatGenerator\n",
       "  - function_caller: OpenAIFunctionCaller\n",
       "🛤️ Connections\n",
       "  - message_collector.value -> generator.messages (List[ChatMessage])\n",
       "  - generator.replies -> function_caller.messages (List[ChatMessage])\n",
       "  - function_caller.function_replies -> message_collector.value (List[ChatMessage])"
      ]
     },
     "execution_count": 11,
     "metadata": {},
     "output_type": "execute_result"
    }
   ],
   "source": [
    "message_collector = BranchJoiner(List[ChatMessage])\n",
    "chat_generator = OpenAIChatGenerator(model=\"gpt-3.5-turbo\", generation_kwargs={'tools': tools})\n",
    "function_caller = OpenAIFunctionCaller(available_functions={\"rag_pipeline_func\": rag_pipeline_func, \n",
    "                                                            \"get_current_weather\": get_current_weather})\n",
    "\n",
    "chat_agent = Pipeline()\n",
    "chat_agent.add_component(\"message_collector\", message_collector)\n",
    "chat_agent.add_component(\"generator\", chat_generator)\n",
    "chat_agent.add_component(\"function_caller\", function_caller)\n",
    "\n",
    "chat_agent.connect(\"message_collector\", \"generator.messages\")\n",
    "chat_agent.connect(\"generator\", \"function_caller\")\n",
    "chat_agent.connect(\"function_caller.function_replies\", \"message_collector\")\n"
   ]
  },
  {
   "cell_type": "code",
   "execution_count": 12,
   "id": "368783d3-7954-456f-b5f2-72b7cc318cf2",
   "metadata": {
    "height": 30
   },
   "outputs": [
    {
     "data": {
      "image/png": "[encoded data removed]",
      "text/plain": [
       "<IPython.core.display.Image object>"
      ]
     },
     "metadata": {},
     "output_type": "display_data"
    }
   ],
   "source": [
    "chat_agent.show()"
   ]
  },
  {
   "cell_type": "code",
   "execution_count": null,
   "id": "831b5843-e991-431d-a803-04c8b1f39230",
   "metadata": {
    "height": 266
   },
   "outputs": [],
   "source": [
    "messages = [\n",
    "    ChatMessage.from_system(\n",
    "        \"\"\"If needed, break down the user's question into simpler questions and follow-up questions that you can use with your tools.\n",
    "        Don't make assumptions about what values to plug into functions. Ask for clarification if a user request is ambiguous.\"\"\"\n",
    "    )\n",
    "]\n",
    "while True:\n",
    "    user_input = input(\"INFO: Type 'exit' or 'quit' to stop\\n\")\n",
    "    if user_input.lower() == \"exit\" or user_input.lower() == \"quit\":\n",
    "        break\n",
    "    messages.append(ChatMessage.from_user(user_input))\n",
    "    response = chat_agent.run({\"message_collector\": {\"value\": messages}})\n",
    "    messages.extend(response['function_caller']['assistant_replies'])\n",
    "    print(response['function_caller']['assistant_replies'][0].content)"
   ]
  },
  {
   "cell_type": "markdown",
   "id": "01e1b2ef-30de-436b-a0d9-4cc45b6242fc",
   "metadata": {},
   "source": [
    "### Gradio Chat App"
   ]
  },
  {
   "cell_type": "markdown",
   "id": "cbdcbecf",
   "metadata": {},
   "source": [
    "Find out more information about **Gradio** [here](https://huggingface.co/gradio)."
   ]
  },
  {
   "cell_type": "code",
   "execution_count": null,
   "id": "a41cce03-5ea8-4136-8808-88119fefb360",
   "metadata": {
    "height": 215
   },
   "outputs": [],
   "source": [
    "messages = [\n",
    "        ChatMessage.from_system(\n",
    "            \"\"\"If needed, break down the user's question to simpler questions and follow-up questions that you can use with your tools.\n",
    "            Don't make assumptions about what values to plug into functions. Ask for clarification if a user request is ambiguous.\"\"\"\n",
    "        )\n",
    "    ]\n",
    "def chat(message, history): \n",
    "    messages.append(ChatMessage.from_user(message))\n",
    "    response = chat_agent.run({\"message_collector\": {\"value\": messages}})\n",
    "    messages.extend(response['function_caller']['assistant_replies'])\n",
    "    return response['function_caller']['assistant_replies'][0].content"
   ]
  },
  {
   "cell_type": "code",
   "execution_count": null,
   "id": "2dd66c37-03fa-4af3-bc0d-c05611e3686a",
   "metadata": {
    "height": 215
   },
   "outputs": [],
   "source": [
    "demo = gr.ChatInterface(\n",
    "    fn=chat,\n",
    "    examples=[\n",
    "        \"Can you tell me where Giorgio lives?\",\n",
    "        \"What's the weather like in Madrid?\",\n",
    "        \"Who lives in London?\",\n",
    "        \"What's the weather like where Mark lives?\",\n",
    "    ],\n",
    "    title=\"Ask me about weather or where people live!\",\n",
    ")\n",
    "demo.launch(share=True)"
   ]
  },
  {
   "cell_type": "code",
   "execution_count": null,
   "id": "c9cdfd57-93a0-44fe-a834-f9a32ee786e9",
   "metadata": {
    "height": 30
   },
   "outputs": [],
   "source": []
  },
  {
   "cell_type": "code",
   "execution_count": null,
   "id": "b3df2ed9-6859-4d0f-8d59-72c244bc0c94",
   "metadata": {
    "height": 30
   },
   "outputs": [],
   "source": []
  },
  {
   "cell_type": "code",
   "execution_count": null,
   "id": "108dc237-4cf3-4646-8998-0a6f3e821699",
   "metadata": {
    "height": 30
   },
   "outputs": [],
   "source": []
  },
  {
   "cell_type": "code",
   "execution_count": null,
   "id": "a1e628f2-b90e-40cc-ac4d-5583ed541084",
   "metadata": {
    "height": 30
   },
   "outputs": [],
   "source": []
  },
  {
   "cell_type": "code",
   "execution_count": null,
   "id": "52f61946-1c3b-48b3-96f1-dd96b1677524",
   "metadata": {
    "height": 30
   },
   "outputs": [],
   "source": []
  },
  {
   "cell_type": "code",
   "execution_count": null,
   "id": "8a4c3543-a24f-427b-9e68-d69ca8a0c3c1",
   "metadata": {
    "height": 30
   },
   "outputs": [],
   "source": []
  }
 ],
 "metadata": {
  "kernelspec": {
   "display_name": "Python 3 (ipykernel)",
   "language": "python",
   "name": "python3"
  },
  "language_info": {
   "codemirror_mode": {
    "name": "ipython",
    "version": 3
   },
   "file_extension": ".py",
   "mimetype": "text/x-python",
   "name": "python",
   "nbconvert_exporter": "python",
   "pygments_lexer": "ipython3",
   "version": "3.11.9"
  }
 },
 "nbformat": 4,
 "nbformat_minor": 5
}

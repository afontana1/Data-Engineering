{
 "cells": [
  {
   "cell_type": "code",
   "execution_count": 59,
   "metadata": {},
   "outputs": [],
   "source": [
    "from youtube_transcript_api import YouTubeTranscriptApi\n",
    "from dataclasses import dataclass\n",
    "\n",
    "video_id = \"O_9JoimRj8w\"\n",
    "\n",
    "@dataclass\n",
    "class PhraseBlock:\n",
    "    # this is only to be more self documenting\n",
    "    # in case we want to support whisper\n",
    "    start: float\n",
    "    text: str\n",
    "\n",
    "def approx_sentences(text):\n",
    "    import re\n",
    "\n",
    "    sentences = re.split(r' *[\\.\\?!][\\'\"\\)\\]]* *', text)\n",
    "    *rest, tail = sentences[:-1] \n",
    "    # the last part may be incomplete so we keep it for the next batch\n",
    "    return \" \".join(rest), tail\n",
    "\n",
    "\n",
    "def generate_batchs(transcript, char_chunk=5000):\n",
    "    start_time = 0\n",
    "    acc_tokens = \"\"\n",
    "    for phrase in transcript:\n",
    "        phrase = PhraseBlock(phrase[\"start\"], phrase[\"text\"])\n",
    "        acc_tokens += \" \" + phrase.text.strip().replace(\"\\n\", \" \")\n",
    "        if len(acc_tokens) > char_chunk:\n",
    "            batch, tail = approx_sentences(acc_tokens)\n",
    "            yield start_time, batch\n",
    "            acc_tokens = tail\n",
    "            start_time = phrase.start\n",
    "    yield start_time, acc_tokens\n",
    "\n",
    "\n",
    "text = YouTubeTranscriptApi.get_transcript(video_id)\n",
    "sum([len(s[\"text\"]) for s in text])\n",
    "\n",
    "for tt, bb in generate_batchs(text):\n",
    "    print(tt, bb)\n",
    "    print()\n"
   ]
  },
  {
   "cell_type": "code",
   "execution_count": 60,
   "metadata": {},
   "outputs": [
    {
     "data": {
      "text/plain": [
       "7836"
      ]
     },
     "execution_count": 60,
     "metadata": {},
     "output_type": "execute_result"
    }
   ],
   "source": []
  },
  {
   "cell_type": "code",
   "execution_count": 61,
   "metadata": {},
   "outputs": [
    {
     "name": "stdout",
     "output_type": "stream",
     "text": [
      "0  -They love you We love you Welcome back Thanks for coming on the show, bud -Thank you for having me back I've missed you -Yeah, I know You did miss me [ Laughter ] Hey, I want to talk to you, because, obviously, you got the biggest show I want to get to all -- Everything All the shows, everything \"The Last of Us\" is a blockbuster Congrats But you are hosting \"Saturday Night Live -Whoo [ Cheers and applause ] -With Coldplay It's a big show That's a big ticket right there That's a hot ticket -Yeah, yeah -Are you excited Are you nervous What are you feeling Can I help in any way -Why do you ask [ Laughs ] Are you nervous for me -Yeah, yeah, I am I'm really nervous for you No way I'm so -- I think you should've hosted -- -Ages ago -Yeah -After my \"Law & Order\" episode -Yes, that's exactly -- [ Laughter, cheers ] That's exactly what I told -- I said, \"Lorne, this guy's got something, man Are you excited -I'm super excited I think it's the top of everybody's bucket list Um, I am scared [ Laughter ] -You are -There's, like, a wall of sheer terror, I think, that you start with, and then, it's such a well-oiled machine Everybody's so amazing and talented And they take these, you know, blocks of, you know, white-hot terror apart for you with big cue cards [ Laughter ] -Yeah I want to say -- oh, yes So, have you practiced blocking right now in sketches -Yeah, we just started some -- some blocking -- -Isn't it the most fun -It's a blast -I mean, it is a great crew We have the best crew here, too -Yes, yes [ Cheers and applause ] -But after us, \"Saturday Night Live -Second to this show -Second to \"The Tonight Show Yeah, yeah, yeah -\"SNL -But \"SNL,\" it's just amazing And it's the last live show on TV Wait, \"The Last of Us I see a connection already -Ah -Is it too late to write that in -I hear clicking -Yeah If things weren't big enough for you and your life and your career, \"The Last of Us,\" it is the biggest thing in the world But you also have \"The Mandalorian\" that premieres   [ Cheers and applause ]   season three, next month You are -- You are the Mandalorian I know there's also so many secrets, and I don't want to spoil anything -- -I'll tell you everything -No, I -- no I don't want that But can you tell fans anything about season three -I will say, there will be more Mandalorians [ Cheers ] -All right, that's good I'll take that -A lot of them Big, epic battle Plural Maybe -Ooh I love that Baby Yoda is not in this season [ Both laugh ] No, I'm just kidding -They couldn't figure his contract out for season three [ Laughter ] They're still -- They're still in negotiations -Yeah, he's just got a good agent How is -- -His head got bigger than his ears -Ah, nice -Ah -How is Grogu What's he gonna be doing this season -He's been very good He's still learning -Aww -Teaching -Yeah He is -Protected Protecting -Yeah -I think if I say any more   -Yep, don't say it -   I'll be replaced Like, not just as the Mandalorian, but as a human being in life [ Laughter ] -That's how powerful Disney is -Exactly And their technology is so sophisticated, they'll just replace -- -A I -   a different Pedro Pascal, exactly -March 1st on Disney+, by the way That's when it premieres Congrats on that -Thank you -But let's talk about this But now, you've done that, and it was the biggest thing, and you go, \"Oh, my gosh And then there's -- Well, let's just go back \"Game of Thrones [ Cheers and applause ] Home run \"Narcos \"Narcos [ Cheers and applause ] Home run Home run \"Mandalorian [ Cheers and applause ] Home run And then \"The Last of Us What are you ta-- Come on [ Cheers and applause ] Who -- I'm mad -And that's the end -No It's just the beginning -I'll do \"SNL\" and then -- you're retired, buddy -It's just the beginning -You forgot \"Law & Order: SVU -Yeah, I did forget that I left that out But you're so talented But this is -- This is some kind of genius move that you've been doing I've never seen a career like this -I have nothing to do it -Yes, you do How do you pick shows that are gonna be giant hits -The door opens, and you're like -- -No way -Let me in -You're jumping in -I beg -No, you don't Like, how does \"Last of Us\" come about Do the creators -- -That was a really strange circumstance I was actually in London, and everyone else was in Los Angeles And I got sent these scripts and said -- I was told that \"Craig Mazin wants you to read these scripts, and if you like them, he'd like to talk to you I loved \"Chernobyl,\" the miniseries that he showran for HBO -It was fantastic -It was unbelievable Anyway, I read the first script, and I was like, \"Yeah, yeah, yeah I want to meet him, I want to meet him -Yeah -And we talked, we fell in love [ Laughter ] And he -- And they were like, \"Will you stay up a little bit later\n",
      "\n",
      "296.634 At this point, it was getting kind of late in London -- \"to talk to Neil Druckmann, the creator of the video game Genius. -Yeah. -Brilliant guy. \"And he'd like to talk to you, as well.\" Stay up for that Zoom. We all fall in love again. And then I -- and then, at that point, it's really late. I've got to get up in the morning. I take an Ambien to go to sleep just in case -- they've got my adrenaline kind of going and my -- my hopes up. -Yes, so you take a sleeping pill so you don't have to think about anything. -Exactly. So -- But I get a call, and I get told that I got the job after I took the Ambien. [ Laughter ] -Oh, no. -And so, I was excited, I guess, but I didn't remember. [ Laughter ] -So, you're like, \"Was that a dream?\" -I woke up in the morning, and the first thing that occurred to me, was like, \"Oh, man. I really want that job.\" [ Laughter ] \"And I'm in London. They're in L.A. I'm gonna wait by the phone all day long. This hasn't happened in a while, you know. I'm gonna be longing, and I'm gonna think about it all day long.\" -You had already got the call that you got the job. -Yeah, and it's like, \"Oh, congratulations. So happy for you,\" when I looked at my phone. And I was like, \"Oh, yeah! I got the job!\" [ Laughter and applause ] -\"My dream is real!\" It is based on the awesome, awesome, awesome video game, \"The Last of Us.\" For those who don't know the game or don't know the show, how do we set it up, and how do we set up who you play? -I play Joel Miller. [ Cheers ] [ Chuckles ] He has a bad day. [ Laughter ] Everybody -- the planet has a really bad day. -Yeah. -And a, uh...fungus, cordyceps, finds a way to cross over into human DNA and ends the planet in 24 hours. Very light, happy stuff. [ Laughter ] -Yeah, light. Totally light, happy stuff. -A very traumatic event shapes this man into who he is 20 years later, which is, you know, this dystopian world with fascistic governments and very contagious cordyceps that turns you into an infected monster. It's good times. -Yeah, it is good times. Every episode, by the way, has grown and almost like -- It already was a hit, the first episode. Then it's grown, second episode. Third -- It's the biggest thing. It's getting bigger and bigger and bigger. It's like -- -They know what they're doing. -Yeah, they know what they're doing. You know what you're doing, too, bud. You're fantastic. I want to show everyone a clip. Here's Pedro Pascal in this Sunday's episode of \"The Last of Us.\" Take a look at this. -When I say go, you crawl to that wall, and you squeeze through, and you don't come out until I say. Okay? [ Gunshot, glass shatters ] [ Gunshots ] And they're not gonna hit you. Look at me! They're not gonna hit you. [ Gunshots ] You stay down, you stay low, you stay quiet. -Mm-hmm. -Okay. -Okay. [ Gunshots ] -Go! [ Gunshots ] ♪♪ [ Gunshots ] ♪♪ [ Cheers and applause ] -Pedro Pascal, everybody! \"The Last of Us\" airs Sundays at 9:00 p.m. on HBO and HBO Max. And this weekend, catch him hosting \"Saturday Night Live\" with Coldplay! More \"Tonight Show\" after the break. Stick around, everybody. Come on back!\n",
      "\n"
     ]
    }
   ],
   "source": []
  },
  {
   "cell_type": "code",
   "execution_count": null,
   "metadata": {},
   "outputs": [],
   "source": []
  }
 ],
 "metadata": {
  "kernelspec": {
   "display_name": ".venv",
   "language": "python",
   "name": "python3"
  },
  "language_info": {
   "codemirror_mode": {
    "name": "ipython",
    "version": 3
   },
   "file_extension": ".py",
   "mimetype": "text/x-python",
   "name": "python",
   "nbconvert_exporter": "python",
   "pygments_lexer": "ipython3",
   "version": "3.9.6"
  },
  "orig_nbformat": 4,
  "vscode": {
   "interpreter": {
    "hash": "079eeea907cfb75f19865162410c8e23c667a2af20307392487751e80c765df8"
   }
  }
 },
 "nbformat": 4,
 "nbformat_minor": 2
}

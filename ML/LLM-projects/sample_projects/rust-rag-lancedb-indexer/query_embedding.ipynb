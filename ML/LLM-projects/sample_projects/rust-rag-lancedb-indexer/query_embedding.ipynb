{
 "cells": [
  {
   "cell_type": "code",
   "execution_count": 11,
   "metadata": {},
   "outputs": [
    {
     "name": "stdout",
     "output_type": "stream",
     "text": [
      "Requirement already satisfied: lancedb in /Users/rix/.pyenv/versions/3.11.8/lib/python3.11/site-packages (0.10.0)\n",
      "Requirement already satisfied: deprecation in /Users/rix/.pyenv/versions/3.11.8/lib/python3.11/site-packages (from lancedb) (2.1.0)\n",
      "Requirement already satisfied: pylance==0.14.1 in /Users/rix/.pyenv/versions/3.11.8/lib/python3.11/site-packages (from lancedb) (0.14.1)\n",
      "Requirement already satisfied: ratelimiter~=1.0 in /Users/rix/.pyenv/versions/3.11.8/lib/python3.11/site-packages (from lancedb) (1.2.0.post0)\n",
      "Requirement already satisfied: requests>=2.31.0 in /Users/rix/.pyenv/versions/3.11.8/lib/python3.11/site-packages (from lancedb) (2.32.3)\n",
      "Requirement already satisfied: retry>=0.9.2 in /Users/rix/.pyenv/versions/3.11.8/lib/python3.11/site-packages (from lancedb) (0.9.2)\n",
      "Requirement already satisfied: tqdm>=4.27.0 in /Users/rix/.pyenv/versions/3.11.8/lib/python3.11/site-packages (from lancedb) (4.66.4)\n",
      "Requirement already satisfied: pydantic>=1.10 in /Users/rix/.pyenv/versions/3.11.8/lib/python3.11/site-packages (from lancedb) (2.8.2)\n",
      "Requirement already satisfied: attrs>=21.3.0 in /Users/rix/.pyenv/versions/3.11.8/lib/python3.11/site-packages (from lancedb) (23.2.0)\n",
      "Requirement already satisfied: packaging in /Users/rix/.pyenv/versions/3.11.8/lib/python3.11/site-packages (from lancedb) (24.1)\n",
      "Requirement already satisfied: cachetools in /Users/rix/.pyenv/versions/3.11.8/lib/python3.11/site-packages (from lancedb) (5.3.3)\n",
      "Requirement already satisfied: overrides>=0.7 in /Users/rix/.pyenv/versions/3.11.8/lib/python3.11/site-packages (from lancedb) (7.7.0)\n",
      "Requirement already satisfied: pyarrow<15.0.1,>=12 in /Users/rix/.pyenv/versions/3.11.8/lib/python3.11/site-packages (from pylance==0.14.1->lancedb) (15.0.0)\n",
      "Requirement already satisfied: numpy>=1.22 in /Users/rix/.pyenv/versions/3.11.8/lib/python3.11/site-packages (from pylance==0.14.1->lancedb) (1.26.4)\n",
      "Requirement already satisfied: annotated-types>=0.4.0 in /Users/rix/.pyenv/versions/3.11.8/lib/python3.11/site-packages (from pydantic>=1.10->lancedb) (0.7.0)\n",
      "Requirement already satisfied: pydantic-core==2.20.1 in /Users/rix/.pyenv/versions/3.11.8/lib/python3.11/site-packages (from pydantic>=1.10->lancedb) (2.20.1)\n",
      "Requirement already satisfied: typing-extensions>=4.6.1 in /Users/rix/.pyenv/versions/3.11.8/lib/python3.11/site-packages (from pydantic>=1.10->lancedb) (4.12.2)\n",
      "Requirement already satisfied: charset-normalizer<4,>=2 in /Users/rix/.pyenv/versions/3.11.8/lib/python3.11/site-packages (from requests>=2.31.0->lancedb) (3.3.2)\n",
      "Requirement already satisfied: idna<4,>=2.5 in /Users/rix/.pyenv/versions/3.11.8/lib/python3.11/site-packages (from requests>=2.31.0->lancedb) (3.7)\n",
      "Requirement already satisfied: urllib3<3,>=1.21.1 in /Users/rix/.pyenv/versions/3.11.8/lib/python3.11/site-packages (from requests>=2.31.0->lancedb) (2.2.2)\n",
      "Requirement already satisfied: certifi>=2017.4.17 in /Users/rix/.pyenv/versions/3.11.8/lib/python3.11/site-packages (from requests>=2.31.0->lancedb) (2024.7.4)\n",
      "Requirement already satisfied: decorator>=3.4.2 in /Users/rix/.pyenv/versions/3.11.8/lib/python3.11/site-packages (from retry>=0.9.2->lancedb) (5.1.1)\n",
      "Requirement already satisfied: py<2.0.0,>=1.4.26 in /Users/rix/.pyenv/versions/3.11.8/lib/python3.11/site-packages (from retry>=0.9.2->lancedb) (1.11.0)\n",
      "\n",
      "\u001b[1m[\u001b[0m\u001b[34;49mnotice\u001b[0m\u001b[1;39;49m]\u001b[0m\u001b[39;49m A new release of pip is available: \u001b[0m\u001b[31;49m24.0\u001b[0m\u001b[39;49m -> \u001b[0m\u001b[32;49m24.1.2\u001b[0m\n",
      "\u001b[1m[\u001b[0m\u001b[34;49mnotice\u001b[0m\u001b[1;39;49m]\u001b[0m\u001b[39;49m To update, run: \u001b[0m\u001b[32;49mpip install --upgrade pip\u001b[0m\n",
      "Note: you may need to restart the kernel to use updated packages.\n",
      "Requirement already satisfied: pandas in /Users/rix/.pyenv/versions/3.11.8/lib/python3.11/site-packages (2.2.2)\n",
      "Requirement already satisfied: numpy>=1.23.2 in /Users/rix/.pyenv/versions/3.11.8/lib/python3.11/site-packages (from pandas) (1.26.4)\n",
      "Requirement already satisfied: python-dateutil>=2.8.2 in /Users/rix/.pyenv/versions/3.11.8/lib/python3.11/site-packages (from pandas) (2.9.0.post0)\n",
      "Requirement already satisfied: pytz>=2020.1 in /Users/rix/.pyenv/versions/3.11.8/lib/python3.11/site-packages (from pandas) (2024.1)\n",
      "Requirement already satisfied: tzdata>=2022.7 in /Users/rix/.pyenv/versions/3.11.8/lib/python3.11/site-packages (from pandas) (2024.1)\n",
      "Requirement already satisfied: six>=1.5 in /Users/rix/.pyenv/versions/3.11.8/lib/python3.11/site-packages (from python-dateutil>=2.8.2->pandas) (1.16.0)\n",
      "\n",
      "\u001b[1m[\u001b[0m\u001b[34;49mnotice\u001b[0m\u001b[1;39;49m]\u001b[0m\u001b[39;49m A new release of pip is available: \u001b[0m\u001b[31;49m24.0\u001b[0m\u001b[39;49m -> \u001b[0m\u001b[32;49m24.1.2\u001b[0m\n",
      "\u001b[1m[\u001b[0m\u001b[34;49mnotice\u001b[0m\u001b[1;39;49m]\u001b[0m\u001b[39;49m To update, run: \u001b[0m\u001b[32;49mpip install --upgrade pip\u001b[0m\n",
      "Note: you may need to restart the kernel to use updated packages.\n",
      "Requirement already satisfied: pyarrow in /Users/rix/.pyenv/versions/3.11.8/lib/python3.11/site-packages (15.0.0)\n",
      "Requirement already satisfied: numpy<2,>=1.16.6 in /Users/rix/.pyenv/versions/3.11.8/lib/python3.11/site-packages (from pyarrow) (1.26.4)\n",
      "\n",
      "\u001b[1m[\u001b[0m\u001b[34;49mnotice\u001b[0m\u001b[1;39;49m]\u001b[0m\u001b[39;49m A new release of pip is available: \u001b[0m\u001b[31;49m24.0\u001b[0m\u001b[39;49m -> \u001b[0m\u001b[32;49m24.1.2\u001b[0m\n",
      "\u001b[1m[\u001b[0m\u001b[34;49mnotice\u001b[0m\u001b[1;39;49m]\u001b[0m\u001b[39;49m To update, run: \u001b[0m\u001b[32;49mpip install --upgrade pip\u001b[0m\n",
      "Note: you may need to restart the kernel to use updated packages.\n"
     ]
    }
   ],
   "source": [
    "%pip install lancedb\n",
    "%pip install pandas\n",
    "%pip install pyarrow"
   ]
  },
  {
   "cell_type": "code",
   "execution_count": 6,
   "metadata": {},
   "outputs": [],
   "source": [
    "import lancedb\n",
    "import pandas as pd\n",
    "import pyarrow as pa\n",
    "\n",
    "uri = \"data/vecdb1\"\n",
    "db = lancedb.connect(uri)"
   ]
  },
  {
   "cell_type": "code",
   "execution_count": 7,
   "metadata": {},
   "outputs": [
    {
     "name": "stdout",
     "output_type": "stream",
     "text": [
      "['vectors_table_1']\n"
     ]
    }
   ],
   "source": [
    "print(db.table_names())\n",
    "tbl = db.open_table(\"vectors_table_1\")"
   ]
  },
  {
   "cell_type": "code",
   "execution_count": 12,
   "metadata": {},
   "outputs": [
    {
     "data": {
      "text/plain": [
       "3"
      ]
     },
     "execution_count": 12,
     "metadata": {},
     "output_type": "execute_result"
    }
   ],
   "source": [
    "tbl.count_rows()"
   ]
  },
  {
   "cell_type": "code",
   "execution_count": 13,
   "metadata": {},
   "outputs": [
    {
     "name": "stderr",
     "output_type": "stream",
     "text": [
      "thread 'lance_background_thread' panicked at /Users/runner/.cargo/registry/src/index.crates.io-6f17d22bba15001f/arrow-buffer-51.0.0/src/buffer/offset.rs:75:9:\n",
      "offsets must be monotonically increasing\n",
      "thread 'lance_background_thread' panicked at /Users/runner/work/lance/lance/rust/lance-encoding/src/decoder.rs:1091:65:\n",
      "called `Result::unwrap()` on an `Err` value: JoinError::Panic(Id(48), ...)\n"
     ]
    },
    {
     "ename": "ArrowInvalid",
     "evalue": "External error: RuntimeError: Task was aborted",
     "output_type": "error",
     "traceback": [
      "\u001b[0;31m---------------------------------------------------------------------------\u001b[0m",
      "\u001b[0;31mArrowInvalid\u001b[0m                              Traceback (most recent call last)",
      "Cell \u001b[0;32mIn[13], line 1\u001b[0m\n\u001b[0;32m----> 1\u001b[0m \u001b[43mtbl\u001b[49m\u001b[38;5;241;43m.\u001b[39;49m\u001b[43msearch\u001b[49m\u001b[43m(\u001b[49m\u001b[38;5;28;43;01mNone\u001b[39;49;00m\u001b[43m)\u001b[49m\u001b[38;5;241;43m.\u001b[39;49m\u001b[43mselect\u001b[49m\u001b[43m(\u001b[49m\u001b[43m[\u001b[49m\u001b[38;5;124;43m\"\u001b[39;49m\u001b[38;5;124;43mfilename\u001b[39;49m\u001b[38;5;124;43m\"\u001b[39;49m\u001b[43m]\u001b[49m\u001b[43m)\u001b[49m\u001b[38;5;241;43m.\u001b[39;49m\u001b[43mto_pandas\u001b[49m\u001b[43m(\u001b[49m\u001b[43m)\u001b[49m\n",
      "File \u001b[0;32m~/.pyenv/versions/3.11.8/lib/python3.11/site-packages/lancedb/query.py:263\u001b[0m, in \u001b[0;36mLanceQueryBuilder.to_pandas\u001b[0;34m(self, flatten)\u001b[0m\n\u001b[1;32m    248\u001b[0m \u001b[38;5;28;01mdef\u001b[39;00m \u001b[38;5;21mto_pandas\u001b[39m(\u001b[38;5;28mself\u001b[39m, flatten: Optional[Union[\u001b[38;5;28mint\u001b[39m, \u001b[38;5;28mbool\u001b[39m]] \u001b[38;5;241m=\u001b[39m \u001b[38;5;28;01mNone\u001b[39;00m) \u001b[38;5;241m-\u001b[39m\u001b[38;5;241m>\u001b[39m \u001b[38;5;124m\"\u001b[39m\u001b[38;5;124mpd.DataFrame\u001b[39m\u001b[38;5;124m\"\u001b[39m:\n\u001b[1;32m    249\u001b[0m \u001b[38;5;250m    \u001b[39m\u001b[38;5;124;03m\"\"\"\u001b[39;00m\n\u001b[1;32m    250\u001b[0m \u001b[38;5;124;03m    Execute the query and return the results as a pandas DataFrame.\u001b[39;00m\n\u001b[1;32m    251\u001b[0m \u001b[38;5;124;03m    In addition to the selected columns, LanceDB also returns a vector\u001b[39;00m\n\u001b[0;32m   (...)\u001b[0m\n\u001b[1;32m    261\u001b[0m \u001b[38;5;124;03m        If unspecified, do not flatten the nested columns.\u001b[39;00m\n\u001b[1;32m    262\u001b[0m \u001b[38;5;124;03m    \"\"\"\u001b[39;00m\n\u001b[0;32m--> 263\u001b[0m     tbl \u001b[38;5;241m=\u001b[39m \u001b[38;5;28;43mself\u001b[39;49m\u001b[38;5;241;43m.\u001b[39;49m\u001b[43mto_arrow\u001b[49m\u001b[43m(\u001b[49m\u001b[43m)\u001b[49m\n\u001b[1;32m    264\u001b[0m     \u001b[38;5;28;01mif\u001b[39;00m flatten \u001b[38;5;129;01mis\u001b[39;00m \u001b[38;5;28;01mTrue\u001b[39;00m:\n\u001b[1;32m    265\u001b[0m         \u001b[38;5;28;01mwhile\u001b[39;00m \u001b[38;5;28;01mTrue\u001b[39;00m:\n",
      "File \u001b[0;32m~/.pyenv/versions/3.11.8/lib/python3.11/site-packages/lancedb/query.py:794\u001b[0m, in \u001b[0;36mLanceEmptyQueryBuilder.to_arrow\u001b[0;34m(self)\u001b[0m\n\u001b[1;32m    792\u001b[0m \u001b[38;5;28;01mdef\u001b[39;00m \u001b[38;5;21mto_arrow\u001b[39m(\u001b[38;5;28mself\u001b[39m) \u001b[38;5;241m-\u001b[39m\u001b[38;5;241m>\u001b[39m pa\u001b[38;5;241m.\u001b[39mTable:\n\u001b[1;32m    793\u001b[0m     ds \u001b[38;5;241m=\u001b[39m \u001b[38;5;28mself\u001b[39m\u001b[38;5;241m.\u001b[39m_table\u001b[38;5;241m.\u001b[39mto_lance()\n\u001b[0;32m--> 794\u001b[0m     \u001b[38;5;28;01mreturn\u001b[39;00m \u001b[43mds\u001b[49m\u001b[38;5;241;43m.\u001b[39;49m\u001b[43mto_table\u001b[49m\u001b[43m(\u001b[49m\n\u001b[1;32m    795\u001b[0m \u001b[43m        \u001b[49m\u001b[43mcolumns\u001b[49m\u001b[38;5;241;43m=\u001b[39;49m\u001b[38;5;28;43mself\u001b[39;49m\u001b[38;5;241;43m.\u001b[39;49m\u001b[43m_columns\u001b[49m\u001b[43m,\u001b[49m\n\u001b[1;32m    796\u001b[0m \u001b[43m        \u001b[49m\u001b[38;5;28;43mfilter\u001b[39;49m\u001b[38;5;241;43m=\u001b[39;49m\u001b[38;5;28;43mself\u001b[39;49m\u001b[38;5;241;43m.\u001b[39;49m\u001b[43m_where\u001b[49m\u001b[43m,\u001b[49m\n\u001b[1;32m    797\u001b[0m \u001b[43m        \u001b[49m\u001b[43mlimit\u001b[49m\u001b[38;5;241;43m=\u001b[39;49m\u001b[38;5;28;43mself\u001b[39;49m\u001b[38;5;241;43m.\u001b[39;49m\u001b[43m_limit\u001b[49m\u001b[43m,\u001b[49m\n\u001b[1;32m    798\u001b[0m \u001b[43m    \u001b[49m\u001b[43m)\u001b[49m\n",
      "File \u001b[0;32m~/.pyenv/versions/3.11.8/lib/python3.11/site-packages/lance/dataset.py:440\u001b[0m, in \u001b[0;36mLanceDataset.to_table\u001b[0;34m(self, columns, filter, limit, offset, nearest, batch_size, batch_readahead, fragment_readahead, scan_in_order, prefilter, with_row_id, use_stats)\u001b[0m\n\u001b[1;32m    358\u001b[0m \u001b[38;5;28;01mdef\u001b[39;00m \u001b[38;5;21mto_table\u001b[39m(\n\u001b[1;32m    359\u001b[0m     \u001b[38;5;28mself\u001b[39m,\n\u001b[1;32m    360\u001b[0m     columns: Optional[Union[List[\u001b[38;5;28mstr\u001b[39m], Dict[\u001b[38;5;28mstr\u001b[39m, \u001b[38;5;28mstr\u001b[39m]]] \u001b[38;5;241m=\u001b[39m \u001b[38;5;28;01mNone\u001b[39;00m,\n\u001b[0;32m   (...)\u001b[0m\n\u001b[1;32m    372\u001b[0m     use_stats: \u001b[38;5;28mbool\u001b[39m \u001b[38;5;241m=\u001b[39m \u001b[38;5;28;01mTrue\u001b[39;00m,\n\u001b[1;32m    373\u001b[0m ) \u001b[38;5;241m-\u001b[39m\u001b[38;5;241m>\u001b[39m pa\u001b[38;5;241m.\u001b[39mTable:\n\u001b[1;32m    374\u001b[0m \u001b[38;5;250m    \u001b[39m\u001b[38;5;124;03m\"\"\"Read the data into memory as a pyarrow Table.\u001b[39;00m\n\u001b[1;32m    375\u001b[0m \n\u001b[1;32m    376\u001b[0m \u001b[38;5;124;03m    Parameters\u001b[39;00m\n\u001b[0;32m   (...)\u001b[0m\n\u001b[1;32m    425\u001b[0m \u001b[38;5;124;03m    2. The results are filtered afterward, unless pre-filter sets to True.\u001b[39;00m\n\u001b[1;32m    426\u001b[0m \u001b[38;5;124;03m    \"\"\"\u001b[39;00m\n\u001b[1;32m    427\u001b[0m     \u001b[38;5;28;01mreturn\u001b[39;00m \u001b[38;5;28;43mself\u001b[39;49m\u001b[38;5;241;43m.\u001b[39;49m\u001b[43mscanner\u001b[49m\u001b[43m(\u001b[49m\n\u001b[1;32m    428\u001b[0m \u001b[43m        \u001b[49m\u001b[43mcolumns\u001b[49m\u001b[38;5;241;43m=\u001b[39;49m\u001b[43mcolumns\u001b[49m\u001b[43m,\u001b[49m\n\u001b[1;32m    429\u001b[0m \u001b[43m        \u001b[49m\u001b[38;5;28;43mfilter\u001b[39;49m\u001b[38;5;241;43m=\u001b[39;49m\u001b[38;5;28;43mfilter\u001b[39;49m\u001b[43m,\u001b[49m\n\u001b[1;32m    430\u001b[0m \u001b[43m        \u001b[49m\u001b[43mlimit\u001b[49m\u001b[38;5;241;43m=\u001b[39;49m\u001b[43mlimit\u001b[49m\u001b[43m,\u001b[49m\n\u001b[1;32m    431\u001b[0m \u001b[43m        \u001b[49m\u001b[43moffset\u001b[49m\u001b[38;5;241;43m=\u001b[39;49m\u001b[43moffset\u001b[49m\u001b[43m,\u001b[49m\n\u001b[1;32m    432\u001b[0m \u001b[43m        \u001b[49m\u001b[43mnearest\u001b[49m\u001b[38;5;241;43m=\u001b[39;49m\u001b[43mnearest\u001b[49m\u001b[43m,\u001b[49m\n\u001b[1;32m    433\u001b[0m \u001b[43m        \u001b[49m\u001b[43mbatch_size\u001b[49m\u001b[38;5;241;43m=\u001b[39;49m\u001b[43mbatch_size\u001b[49m\u001b[43m,\u001b[49m\n\u001b[1;32m    434\u001b[0m \u001b[43m        \u001b[49m\u001b[43mbatch_readahead\u001b[49m\u001b[38;5;241;43m=\u001b[39;49m\u001b[43mbatch_readahead\u001b[49m\u001b[43m,\u001b[49m\n\u001b[1;32m    435\u001b[0m \u001b[43m        \u001b[49m\u001b[43mfragment_readahead\u001b[49m\u001b[38;5;241;43m=\u001b[39;49m\u001b[43mfragment_readahead\u001b[49m\u001b[43m,\u001b[49m\n\u001b[1;32m    436\u001b[0m \u001b[43m        \u001b[49m\u001b[43mscan_in_order\u001b[49m\u001b[38;5;241;43m=\u001b[39;49m\u001b[43mscan_in_order\u001b[49m\u001b[43m,\u001b[49m\n\u001b[1;32m    437\u001b[0m \u001b[43m        \u001b[49m\u001b[43mprefilter\u001b[49m\u001b[38;5;241;43m=\u001b[39;49m\u001b[43mprefilter\u001b[49m\u001b[43m,\u001b[49m\n\u001b[1;32m    438\u001b[0m \u001b[43m        \u001b[49m\u001b[43mwith_row_id\u001b[49m\u001b[38;5;241;43m=\u001b[39;49m\u001b[43mwith_row_id\u001b[49m\u001b[43m,\u001b[49m\n\u001b[1;32m    439\u001b[0m \u001b[43m        \u001b[49m\u001b[43muse_stats\u001b[49m\u001b[38;5;241;43m=\u001b[39;49m\u001b[43muse_stats\u001b[49m\u001b[43m,\u001b[49m\n\u001b[0;32m--> 440\u001b[0m \u001b[43m    \u001b[49m\u001b[43m)\u001b[49m\u001b[38;5;241;43m.\u001b[39;49m\u001b[43mto_table\u001b[49m\u001b[43m(\u001b[49m\u001b[43m)\u001b[49m\n",
      "File \u001b[0;32m~/.pyenv/versions/3.11.8/lib/python3.11/site-packages/lance/dataset.py:2264\u001b[0m, in \u001b[0;36mLanceScanner.to_table\u001b[0;34m(self)\u001b[0m\n\u001b[1;32m   2260\u001b[0m \u001b[38;5;28;01mdef\u001b[39;00m \u001b[38;5;21mto_table\u001b[39m(\u001b[38;5;28mself\u001b[39m) \u001b[38;5;241m-\u001b[39m\u001b[38;5;241m>\u001b[39m pa\u001b[38;5;241m.\u001b[39mTable:\n\u001b[1;32m   2261\u001b[0m \u001b[38;5;250m    \u001b[39m\u001b[38;5;124;03m\"\"\"\u001b[39;00m\n\u001b[1;32m   2262\u001b[0m \u001b[38;5;124;03m    Read the data into memory and return a pyarrow Table.\u001b[39;00m\n\u001b[1;32m   2263\u001b[0m \u001b[38;5;124;03m    \"\"\"\u001b[39;00m\n\u001b[0;32m-> 2264\u001b[0m     \u001b[38;5;28;01mreturn\u001b[39;00m \u001b[38;5;28;43mself\u001b[39;49m\u001b[38;5;241;43m.\u001b[39;49m\u001b[43mto_reader\u001b[49m\u001b[43m(\u001b[49m\u001b[43m)\u001b[49m\u001b[38;5;241;43m.\u001b[39;49m\u001b[43mread_all\u001b[49m\u001b[43m(\u001b[49m\u001b[43m)\u001b[49m\n",
      "File \u001b[0;32m~/.pyenv/versions/3.11.8/lib/python3.11/site-packages/pyarrow/ipc.pxi:757\u001b[0m, in \u001b[0;36mpyarrow.lib.RecordBatchReader.read_all\u001b[0;34m()\u001b[0m\n",
      "File \u001b[0;32m~/.pyenv/versions/3.11.8/lib/python3.11/site-packages/pyarrow/error.pxi:91\u001b[0m, in \u001b[0;36mpyarrow.lib.check_status\u001b[0;34m()\u001b[0m\n",
      "\u001b[0;31mArrowInvalid\u001b[0m: External error: RuntimeError: Task was aborted"
     ]
    }
   ],
   "source": [
    "tbl.search(None).select([\"filename\"]).to_pandas()"
   ]
  },
  {
   "cell_type": "code",
   "execution_count": 14,
   "metadata": {},
   "outputs": [
    {
     "name": "stdout",
     "output_type": "stream",
     "text": [
      "Collecting sentence_transformers\n",
      "  Downloading sentence_transformers-3.0.1-py3-none-any.whl.metadata (10 kB)\n",
      "Collecting transformers<5.0.0,>=4.34.0 (from sentence_transformers)\n",
      "  Downloading transformers-4.42.4-py3-none-any.whl.metadata (43 kB)\n",
      "\u001b[2K     \u001b[90m━━━━━━━━━━━━━━━━━━━━━━━━━━━━━━━━━━━━━━━\u001b[0m \u001b[32m43.6/43.6 kB\u001b[0m \u001b[31m940.4 kB/s\u001b[0m eta \u001b[36m0:00:00\u001b[0m \u001b[36m0:00:01\u001b[0m\n",
      "\u001b[?25hRequirement already satisfied: tqdm in /Users/rix/.pyenv/versions/3.11.8/lib/python3.11/site-packages (from sentence_transformers) (4.66.4)\n",
      "Collecting torch>=1.11.0 (from sentence_transformers)\n",
      "  Downloading torch-2.3.1-cp311-none-macosx_11_0_arm64.whl.metadata (26 kB)\n",
      "Requirement already satisfied: numpy in /Users/rix/.pyenv/versions/3.11.8/lib/python3.11/site-packages (from sentence_transformers) (1.26.4)\n",
      "Collecting scikit-learn (from sentence_transformers)\n",
      "  Downloading scikit_learn-1.5.1-cp311-cp311-macosx_12_0_arm64.whl.metadata (12 kB)\n",
      "Collecting scipy (from sentence_transformers)\n",
      "  Downloading scipy-1.14.0-cp311-cp311-macosx_14_0_arm64.whl.metadata (60 kB)\n",
      "\u001b[2K     \u001b[90m━━━━━━━━━━━━━━━━━━━━━━━━━━━━━━━━━━━━━━━━\u001b[0m \u001b[32m60.8/60.8 kB\u001b[0m \u001b[31m2.2 MB/s\u001b[0m eta \u001b[36m0:00:00\u001b[0m\n",
      "\u001b[?25hCollecting huggingface-hub>=0.15.1 (from sentence_transformers)\n",
      "  Downloading huggingface_hub-0.23.4-py3-none-any.whl.metadata (12 kB)\n",
      "Collecting Pillow (from sentence_transformers)\n",
      "  Downloading pillow-10.4.0-cp311-cp311-macosx_11_0_arm64.whl.metadata (9.2 kB)\n",
      "Collecting filelock (from huggingface-hub>=0.15.1->sentence_transformers)\n",
      "  Downloading filelock-3.15.4-py3-none-any.whl.metadata (2.9 kB)\n",
      "Collecting fsspec>=2023.5.0 (from huggingface-hub>=0.15.1->sentence_transformers)\n",
      "  Downloading fsspec-2024.6.1-py3-none-any.whl.metadata (11 kB)\n",
      "Requirement already satisfied: packaging>=20.9 in /Users/rix/.pyenv/versions/3.11.8/lib/python3.11/site-packages (from huggingface-hub>=0.15.1->sentence_transformers) (24.1)\n",
      "Collecting pyyaml>=5.1 (from huggingface-hub>=0.15.1->sentence_transformers)\n",
      "  Downloading PyYAML-6.0.1-cp311-cp311-macosx_11_0_arm64.whl.metadata (2.1 kB)\n",
      "Requirement already satisfied: requests in /Users/rix/.pyenv/versions/3.11.8/lib/python3.11/site-packages (from huggingface-hub>=0.15.1->sentence_transformers) (2.32.3)\n",
      "Requirement already satisfied: typing-extensions>=3.7.4.3 in /Users/rix/.pyenv/versions/3.11.8/lib/python3.11/site-packages (from huggingface-hub>=0.15.1->sentence_transformers) (4.12.2)\n",
      "Collecting sympy (from torch>=1.11.0->sentence_transformers)\n",
      "  Downloading sympy-1.13.0-py3-none-any.whl.metadata (12 kB)\n",
      "Collecting networkx (from torch>=1.11.0->sentence_transformers)\n",
      "  Downloading networkx-3.3-py3-none-any.whl.metadata (5.1 kB)\n",
      "Collecting jinja2 (from torch>=1.11.0->sentence_transformers)\n",
      "  Downloading jinja2-3.1.4-py3-none-any.whl.metadata (2.6 kB)\n",
      "Collecting regex!=2019.12.17 (from transformers<5.0.0,>=4.34.0->sentence_transformers)\n",
      "  Downloading regex-2024.5.15-cp311-cp311-macosx_11_0_arm64.whl.metadata (40 kB)\n",
      "\u001b[2K     \u001b[90m━━━━━━━━━━━━━━━━━━━━━━━━━━━━━━━━━━━━━━━━\u001b[0m \u001b[32m40.9/40.9 kB\u001b[0m \u001b[31m3.3 MB/s\u001b[0m eta \u001b[36m0:00:00\u001b[0m\n",
      "\u001b[?25hCollecting safetensors>=0.4.1 (from transformers<5.0.0,>=4.34.0->sentence_transformers)\n",
      "  Downloading safetensors-0.4.3-cp311-cp311-macosx_11_0_arm64.whl.metadata (3.8 kB)\n",
      "Collecting tokenizers<0.20,>=0.19 (from transformers<5.0.0,>=4.34.0->sentence_transformers)\n",
      "  Downloading tokenizers-0.19.1-cp311-cp311-macosx_11_0_arm64.whl.metadata (6.7 kB)\n",
      "Collecting joblib>=1.2.0 (from scikit-learn->sentence_transformers)\n",
      "  Downloading joblib-1.4.2-py3-none-any.whl.metadata (5.4 kB)\n",
      "Collecting threadpoolctl>=3.1.0 (from scikit-learn->sentence_transformers)\n",
      "  Downloading threadpoolctl-3.5.0-py3-none-any.whl.metadata (13 kB)\n",
      "Collecting MarkupSafe>=2.0 (from jinja2->torch>=1.11.0->sentence_transformers)\n",
      "  Downloading MarkupSafe-2.1.5-cp311-cp311-macosx_10_9_universal2.whl.metadata (3.0 kB)\n",
      "Requirement already satisfied: charset-normalizer<4,>=2 in /Users/rix/.pyenv/versions/3.11.8/lib/python3.11/site-packages (from requests->huggingface-hub>=0.15.1->sentence_transformers) (3.3.2)\n",
      "Requirement already satisfied: idna<4,>=2.5 in /Users/rix/.pyenv/versions/3.11.8/lib/python3.11/site-packages (from requests->huggingface-hub>=0.15.1->sentence_transformers) (3.7)\n",
      "Requirement already satisfied: urllib3<3,>=1.21.1 in /Users/rix/.pyenv/versions/3.11.8/lib/python3.11/site-packages (from requests->huggingface-hub>=0.15.1->sentence_transformers) (2.2.2)\n",
      "Requirement already satisfied: certifi>=2017.4.17 in /Users/rix/.pyenv/versions/3.11.8/lib/python3.11/site-packages (from requests->huggingface-hub>=0.15.1->sentence_transformers) (2024.7.4)\n",
      "Collecting mpmath<1.4,>=1.1.0 (from sympy->torch>=1.11.0->sentence_transformers)\n",
      "  Downloading mpmath-1.3.0-py3-none-any.whl.metadata (8.6 kB)\n",
      "Downloading sentence_transformers-3.0.1-py3-none-any.whl (227 kB)\n",
      "\u001b[2K   \u001b[90m━━━━━━━━━━━━━━━━━━━━━━━━━━━━━━━━━━━━━━━━\u001b[0m \u001b[32m227.1/227.1 kB\u001b[0m \u001b[31m1.4 MB/s\u001b[0m eta \u001b[36m0:00:00\u001b[0m00:01\u001b[0m00:01\u001b[0m\n",
      "\u001b[?25hDownloading huggingface_hub-0.23.4-py3-none-any.whl (402 kB)\n",
      "\u001b[2K   \u001b[90m━━━━━━━━━━━━━━━━━━━━━━━━━━━━━━━━━━━━━━━━\u001b[0m \u001b[32m402.6/402.6 kB\u001b[0m \u001b[31m6.7 MB/s\u001b[0m eta \u001b[36m0:00:00\u001b[0ma \u001b[36m0:00:01\u001b[0m\n",
      "\u001b[?25hDownloading torch-2.3.1-cp311-none-macosx_11_0_arm64.whl (61.0 MB)\n",
      "\u001b[2K   \u001b[90m━━━━━━━━━━━━━━━━━━━━━━━━━━━━━━━━━━━━━━━━\u001b[0m \u001b[32m61.0/61.0 MB\u001b[0m \u001b[31m21.0 MB/s\u001b[0m eta \u001b[36m0:00:00\u001b[0m00:01\u001b[0m00:01\u001b[0m\n",
      "\u001b[?25hDownloading transformers-4.42.4-py3-none-any.whl (9.3 MB)\n",
      "\u001b[2K   \u001b[90m━━━━━━━━━━━━━━━━━━━━━━━━━━━━━━━━━━━━━━━━\u001b[0m \u001b[32m9.3/9.3 MB\u001b[0m \u001b[31m31.5 MB/s\u001b[0m eta \u001b[36m0:00:00\u001b[0ma \u001b[36m0:00:01\u001b[0m\n",
      "\u001b[?25hDownloading pillow-10.4.0-cp311-cp311-macosx_11_0_arm64.whl (3.4 MB)\n",
      "\u001b[2K   \u001b[90m━━━━━━━━━━━━━━━━━━━━━━━━━━━━━━━━━━━━━━━━\u001b[0m \u001b[32m3.4/3.4 MB\u001b[0m \u001b[31m28.4 MB/s\u001b[0m eta \u001b[36m0:00:00\u001b[0m00:01\u001b[0m00:01\u001b[0m\n",
      "\u001b[?25hDownloading scikit_learn-1.5.1-cp311-cp311-macosx_12_0_arm64.whl (11.0 MB)\n",
      "\u001b[2K   \u001b[90m━━━━━━━━━━━━━━━━━━━━━━━━━━━━━━━━━━━━━━━━\u001b[0m \u001b[32m11.0/11.0 MB\u001b[0m \u001b[31m23.1 MB/s\u001b[0m eta \u001b[36m0:00:00\u001b[0m00:01\u001b[0m0:01\u001b[0m\n",
      "\u001b[?25hDownloading scipy-1.14.0-cp311-cp311-macosx_14_0_arm64.whl (23.1 MB)\n",
      "\u001b[2K   \u001b[90m━━━━━━━━━━━━━━━━━━━━━━━━━━━━━━━━━━━━━━━━\u001b[0m \u001b[32m23.1/23.1 MB\u001b[0m \u001b[31m30.5 MB/s\u001b[0m eta \u001b[36m0:00:00\u001b[0m00:01\u001b[0m00:01\u001b[0m\n",
      "\u001b[?25hDownloading fsspec-2024.6.1-py3-none-any.whl (177 kB)\n",
      "\u001b[2K   \u001b[90m━━━━━━━━━━━━━━━━━━━━━━━━━━━━━━━━━━━━━━━━\u001b[0m \u001b[32m177.6/177.6 kB\u001b[0m \u001b[31m13.4 MB/s\u001b[0m eta \u001b[36m0:00:00\u001b[0m\n",
      "\u001b[?25hDownloading joblib-1.4.2-py3-none-any.whl (301 kB)\n",
      "\u001b[2K   \u001b[90m━━━━━━━━━━━━━━━━━━━━━━━━━━━━━━━━━━━━━━━━\u001b[0m \u001b[32m301.8/301.8 kB\u001b[0m \u001b[31m19.6 MB/s\u001b[0m eta \u001b[36m0:00:00\u001b[0m\n",
      "\u001b[?25hDownloading PyYAML-6.0.1-cp311-cp311-macosx_11_0_arm64.whl (167 kB)\n",
      "\u001b[2K   \u001b[90m━━━━━━━━━━━━━━━━━━━━━━━━━━━━━━━━━━━━━━━━\u001b[0m \u001b[32m167.5/167.5 kB\u001b[0m \u001b[31m12.7 MB/s\u001b[0m eta \u001b[36m0:00:00\u001b[0m\n",
      "\u001b[?25hDownloading regex-2024.5.15-cp311-cp311-macosx_11_0_arm64.whl (278 kB)\n",
      "\u001b[2K   \u001b[90m━━━━━━━━━━━━━━━━━━━━━━━━━━━━━━━━━━━━━━━━\u001b[0m \u001b[32m278.3/278.3 kB\u001b[0m \u001b[31m17.5 MB/s\u001b[0m eta \u001b[36m0:00:00\u001b[0m\n",
      "\u001b[?25hDownloading safetensors-0.4.3-cp311-cp311-macosx_11_0_arm64.whl (410 kB)\n",
      "\u001b[2K   \u001b[90m━━━━━━━━━━━━━━━━━━━━━━━━━━━━━━━━━━━━━━━━\u001b[0m \u001b[32m410.3/410.3 kB\u001b[0m \u001b[31m19.1 MB/s\u001b[0m eta \u001b[36m0:00:00\u001b[0m\n",
      "\u001b[?25hDownloading threadpoolctl-3.5.0-py3-none-any.whl (18 kB)\n",
      "Downloading tokenizers-0.19.1-cp311-cp311-macosx_11_0_arm64.whl (2.4 MB)\n",
      "\u001b[2K   \u001b[90m━━━━━━━━━━━━━━━━━━━━━━━━━━━━━━━━━━━━━━━━\u001b[0m \u001b[32m2.4/2.4 MB\u001b[0m \u001b[31m28.3 MB/s\u001b[0m eta \u001b[36m0:00:00\u001b[0ma \u001b[36m0:00:01\u001b[0m\n",
      "\u001b[?25hDownloading filelock-3.15.4-py3-none-any.whl (16 kB)\n",
      "Downloading jinja2-3.1.4-py3-none-any.whl (133 kB)\n",
      "\u001b[2K   \u001b[90m━━━━━━━━━━━━━━━━━━━━━━━━━━━━━━━━━━━━━━━━\u001b[0m \u001b[32m133.3/133.3 kB\u001b[0m \u001b[31m8.4 MB/s\u001b[0m eta \u001b[36m0:00:00\u001b[0m\n",
      "\u001b[?25hDownloading networkx-3.3-py3-none-any.whl (1.7 MB)\n",
      "\u001b[2K   \u001b[90m━━━━━━━━━━━━━━━━━━━━━━━━━━━━━━━━━━━━━━━━\u001b[0m \u001b[32m1.7/1.7 MB\u001b[0m \u001b[31m27.7 MB/s\u001b[0m eta \u001b[36m0:00:00\u001b[0ma \u001b[36m0:00:01\u001b[0m\n",
      "\u001b[?25hDownloading sympy-1.13.0-py3-none-any.whl (6.2 MB)\n",
      "\u001b[2K   \u001b[90m━━━━━━━━━━━━━━━━━━━━━━━━━━━━━━━━━━━━━━━━\u001b[0m \u001b[32m6.2/6.2 MB\u001b[0m \u001b[31m19.8 MB/s\u001b[0m eta \u001b[36m0:00:00\u001b[0m00:01\u001b[0m00:01\u001b[0m\n",
      "\u001b[?25hDownloading MarkupSafe-2.1.5-cp311-cp311-macosx_10_9_universal2.whl (18 kB)\n",
      "Downloading mpmath-1.3.0-py3-none-any.whl (536 kB)\n",
      "\u001b[2K   \u001b[90m━━━━━━━━━━━━━━━━━━━━━━━━━━━━━━━━━━━━━━━━\u001b[0m \u001b[32m536.2/536.2 kB\u001b[0m \u001b[31m21.5 MB/s\u001b[0m eta \u001b[36m0:00:00\u001b[0m\n",
      "\u001b[?25hInstalling collected packages: mpmath, threadpoolctl, sympy, scipy, safetensors, regex, pyyaml, Pillow, networkx, MarkupSafe, joblib, fsspec, filelock, scikit-learn, jinja2, huggingface-hub, torch, tokenizers, transformers, sentence_transformers\n",
      "Successfully installed MarkupSafe-2.1.5 Pillow-10.4.0 filelock-3.15.4 fsspec-2024.6.1 huggingface-hub-0.23.4 jinja2-3.1.4 joblib-1.4.2 mpmath-1.3.0 networkx-3.3 pyyaml-6.0.1 regex-2024.5.15 safetensors-0.4.3 scikit-learn-1.5.1 scipy-1.14.0 sentence_transformers-3.0.1 sympy-1.13.0 threadpoolctl-3.5.0 tokenizers-0.19.1 torch-2.3.1 transformers-4.42.4\n",
      "\n",
      "\u001b[1m[\u001b[0m\u001b[34;49mnotice\u001b[0m\u001b[1;39;49m]\u001b[0m\u001b[39;49m A new release of pip is available: \u001b[0m\u001b[31;49m24.0\u001b[0m\u001b[39;49m -> \u001b[0m\u001b[32;49m24.1.2\u001b[0m\n",
      "\u001b[1m[\u001b[0m\u001b[34;49mnotice\u001b[0m\u001b[1;39;49m]\u001b[0m\u001b[39;49m To update, run: \u001b[0m\u001b[32;49mpip install --upgrade pip\u001b[0m\n",
      "Note: you may need to restart the kernel to use updated packages.\n"
     ]
    }
   ],
   "source": [
    "%pip install sentence_transformers"
   ]
  },
  {
   "cell_type": "code",
   "execution_count": 15,
   "metadata": {},
   "outputs": [
    {
     "name": "stdout",
     "output_type": "stream",
     "text": [
      "(2, 384)\n"
     ]
    }
   ],
   "source": [
    "from sentence_transformers import SentenceTransformer\n",
    "model = SentenceTransformer(\"all-MiniLM-L6-v2\")\n",
    "\n",
    "# The sentences to encode\n",
    "sentences = [\n",
    "    \"I really like animals and especially dogs.\",\n",
    "    \"It's so sunny outside!\",\n",
    "]\n",
    "\n",
    "# 2. Calculate embeddings by calling model.encode()\n",
    "embeddings = model.encode(sentences, normalize_embeddings=True)\n",
    "print(embeddings.shape)"
   ]
  },
  {
   "cell_type": "code",
   "execution_count": 16,
   "metadata": {},
   "outputs": [
    {
     "data": {
      "text/plain": [
       "numpy.ndarray"
      ]
     },
     "execution_count": 16,
     "metadata": {},
     "output_type": "execute_result"
    }
   ],
   "source": [
    "type(embeddings[0])"
   ]
  },
  {
   "cell_type": "code",
   "execution_count": 17,
   "metadata": {},
   "outputs": [
    {
     "name": "stderr",
     "output_type": "stream",
     "text": [
      "thread 'lance_background_thread' panicked at /Users/runner/.cargo/registry/src/index.crates.io-6f17d22bba15001f/arrow-buffer-51.0.0/src/buffer/offset.rs:75:9:\n",
      "offsets must be monotonically increasing\n",
      "thread 'lance_background_thread' panicked at /Users/runner/work/lance/lance/rust/lance-encoding/src/decoder.rs:1091:65:\n",
      "called `Result::unwrap()` on an `Err` value: JoinError::Panic(Id(72), ...)\n"
     ]
    },
    {
     "ename": "OSError",
     "evalue": "Io error: Execution error: External error: Execution error: ExecNode(Take): thread panicked: task 50 panicked",
     "output_type": "error",
     "traceback": [
      "\u001b[0;31m---------------------------------------------------------------------------\u001b[0m",
      "\u001b[0;31mOSError\u001b[0m                                   Traceback (most recent call last)",
      "Cell \u001b[0;32mIn[17], line 3\u001b[0m\n\u001b[1;32m      1\u001b[0m \u001b[43mtbl\u001b[49m\u001b[38;5;241;43m.\u001b[39;49m\u001b[43msearch\u001b[49m\u001b[43m(\u001b[49m\u001b[43membeddings\u001b[49m\u001b[43m[\u001b[49m\u001b[38;5;241;43m0\u001b[39;49m\u001b[43m]\u001b[49m\u001b[43m)\u001b[49m\u001b[43m \u001b[49m\u001b[43m\\\u001b[49m\n\u001b[1;32m      2\u001b[0m \u001b[43m    \u001b[49m\u001b[38;5;241;43m.\u001b[39;49m\u001b[43mselect\u001b[49m\u001b[43m(\u001b[49m\u001b[43m[\u001b[49m\u001b[38;5;124;43m\"\u001b[39;49m\u001b[38;5;124;43mfilename\u001b[39;49m\u001b[38;5;124;43m\"\u001b[39;49m\u001b[43m]\u001b[49m\u001b[43m)\u001b[49m\u001b[43m \u001b[49m\u001b[43m\\\u001b[49m\n\u001b[0;32m----> 3\u001b[0m \u001b[43m    \u001b[49m\u001b[38;5;241;43m.\u001b[39;49m\u001b[43mlimit\u001b[49m\u001b[43m(\u001b[49m\u001b[38;5;241;43m3\u001b[39;49m\u001b[43m)\u001b[49m\u001b[38;5;241;43m.\u001b[39;49m\u001b[43mto_pandas\u001b[49m\u001b[43m(\u001b[49m\u001b[43m)\u001b[49m\n",
      "File \u001b[0;32m~/.pyenv/versions/3.11.8/lib/python3.11/site-packages/lancedb/query.py:263\u001b[0m, in \u001b[0;36mLanceQueryBuilder.to_pandas\u001b[0;34m(self, flatten)\u001b[0m\n\u001b[1;32m    248\u001b[0m \u001b[38;5;28;01mdef\u001b[39;00m \u001b[38;5;21mto_pandas\u001b[39m(\u001b[38;5;28mself\u001b[39m, flatten: Optional[Union[\u001b[38;5;28mint\u001b[39m, \u001b[38;5;28mbool\u001b[39m]] \u001b[38;5;241m=\u001b[39m \u001b[38;5;28;01mNone\u001b[39;00m) \u001b[38;5;241m-\u001b[39m\u001b[38;5;241m>\u001b[39m \u001b[38;5;124m\"\u001b[39m\u001b[38;5;124mpd.DataFrame\u001b[39m\u001b[38;5;124m\"\u001b[39m:\n\u001b[1;32m    249\u001b[0m \u001b[38;5;250m    \u001b[39m\u001b[38;5;124;03m\"\"\"\u001b[39;00m\n\u001b[1;32m    250\u001b[0m \u001b[38;5;124;03m    Execute the query and return the results as a pandas DataFrame.\u001b[39;00m\n\u001b[1;32m    251\u001b[0m \u001b[38;5;124;03m    In addition to the selected columns, LanceDB also returns a vector\u001b[39;00m\n\u001b[0;32m   (...)\u001b[0m\n\u001b[1;32m    261\u001b[0m \u001b[38;5;124;03m        If unspecified, do not flatten the nested columns.\u001b[39;00m\n\u001b[1;32m    262\u001b[0m \u001b[38;5;124;03m    \"\"\"\u001b[39;00m\n\u001b[0;32m--> 263\u001b[0m     tbl \u001b[38;5;241m=\u001b[39m \u001b[38;5;28;43mself\u001b[39;49m\u001b[38;5;241;43m.\u001b[39;49m\u001b[43mto_arrow\u001b[49m\u001b[43m(\u001b[49m\u001b[43m)\u001b[49m\n\u001b[1;32m    264\u001b[0m     \u001b[38;5;28;01mif\u001b[39;00m flatten \u001b[38;5;129;01mis\u001b[39;00m \u001b[38;5;28;01mTrue\u001b[39;00m:\n\u001b[1;32m    265\u001b[0m         \u001b[38;5;28;01mwhile\u001b[39;00m \u001b[38;5;28;01mTrue\u001b[39;00m:\n",
      "File \u001b[0;32m~/.pyenv/versions/3.11.8/lib/python3.11/site-packages/lancedb/query.py:562\u001b[0m, in \u001b[0;36mLanceVectorQueryBuilder.to_arrow\u001b[0;34m(self)\u001b[0m\n\u001b[1;32m    553\u001b[0m \u001b[38;5;28;01mdef\u001b[39;00m \u001b[38;5;21mto_arrow\u001b[39m(\u001b[38;5;28mself\u001b[39m) \u001b[38;5;241m-\u001b[39m\u001b[38;5;241m>\u001b[39m pa\u001b[38;5;241m.\u001b[39mTable:\n\u001b[1;32m    554\u001b[0m \u001b[38;5;250m    \u001b[39m\u001b[38;5;124;03m\"\"\"\u001b[39;00m\n\u001b[1;32m    555\u001b[0m \u001b[38;5;124;03m    Execute the query and return the results as an\u001b[39;00m\n\u001b[1;32m    556\u001b[0m \u001b[38;5;124;03m    [Apache Arrow Table](https://arrow.apache.org/docs/python/generated/pyarrow.Table.html#pyarrow.Table).\u001b[39;00m\n\u001b[0;32m   (...)\u001b[0m\n\u001b[1;32m    560\u001b[0m \u001b[38;5;124;03m    vector and the returned vectors.\u001b[39;00m\n\u001b[1;32m    561\u001b[0m \u001b[38;5;124;03m    \"\"\"\u001b[39;00m\n\u001b[0;32m--> 562\u001b[0m     \u001b[38;5;28;01mreturn\u001b[39;00m \u001b[38;5;28;43mself\u001b[39;49m\u001b[38;5;241;43m.\u001b[39;49m\u001b[43mto_batches\u001b[49m\u001b[43m(\u001b[49m\u001b[43m)\u001b[49m\u001b[38;5;241;43m.\u001b[39;49m\u001b[43mread_all\u001b[49m\u001b[43m(\u001b[49m\u001b[43m)\u001b[49m\n",
      "File \u001b[0;32m~/.pyenv/versions/3.11.8/lib/python3.11/site-packages/pyarrow/ipc.pxi:757\u001b[0m, in \u001b[0;36mpyarrow.lib.RecordBatchReader.read_all\u001b[0;34m()\u001b[0m\n",
      "File \u001b[0;32m~/.pyenv/versions/3.11.8/lib/python3.11/site-packages/pyarrow/error.pxi:91\u001b[0m, in \u001b[0;36mpyarrow.lib.check_status\u001b[0;34m()\u001b[0m\n",
      "\u001b[0;31mOSError\u001b[0m: Io error: Execution error: External error: Execution error: ExecNode(Take): thread panicked: task 50 panicked"
     ]
    }
   ],
   "source": [
    "tbl.search(embeddings[0]) \\\n",
    "    .select([\"filename\"]) \\\n",
    "    .limit(3).to_pandas()"
   ]
  },
  {
   "cell_type": "code",
   "execution_count": 19,
   "metadata": {},
   "outputs": [
    {
     "name": "stdout",
     "output_type": "stream",
     "text": [
      "--- PETS ---\n",
      "Dogs often bark to express their feelings.\n",
      "Guinea pigs make a series of interesting vocalizations.\n",
      "Cats love scratching posts that mimic trees.\n",
      "Snakes can be intriguing, though somewhat unconventional pets.\n",
      "Parrots can mimic human speech quite accurately.\n",
      "Cats love scratching posts that mimic trees.\n",
      "Ferrets are playful animals that enjoy interacting with humans.\n",
      "Ferrets are playful animals that enjoy interacting with humans.\n",
      "Dogs often bark to express their feelings.\n",
      "Guinea pigs make a series of interesting vocalizations.\n",
      "Turtles can live for many decades with proper care.\n",
      "Rabbits thrive on a diet rich in hay.\n",
      "Ferrets are playful animals that enjoy interacting with humans.\n",
      "Parrots can mimic human speech quite accurately.\n",
      "Snakes can be intriguing, though somewhat unconventional pets.\n",
      "Horses require a large amount of outdoor space.\n",
      "Rabbits thrive on a diet rich in hay.\n",
      "Dogs often bark to express their feelings.\n",
      "Cats love scratching posts that mimic trees.\n",
      "Rabbits thrive on a diet rich in hay.\n",
      "Rabbits thrive on a diet rich in hay.\n",
      "Rabbits thrive on a diet rich in hay.\n",
      "Cats love scratching posts that mimic trees.\n",
      "Dogs often bark to express their feelings.\n",
      "Rabbits thrive on a diet rich in hay.\n",
      "Fish are popular pets for small apartments.\n",
      "Fish are popular pets for small apartments.\n",
      "Cats love scratching posts that mimic trees.\n",
      "Guinea pigs make a series of interesting vocalizations.\n",
      "Ferrets are playful animals that enjoy interacting with humans.\n",
      "Parrots can mimic human speech quite accurately.\n",
      "Snakes can be intriguing, though somewhat unconventional pets.\n",
      "Cats love scratching posts that mimic trees.\n",
      "Fish are popular pets for small apartments.\n",
      "Turtles can live for many decades with proper care.\n",
      "Rabbits thrive on a diet rich in hay.\n",
      "Guinea pigs make a series of interesting vocalizations.\n",
      "Snakes can be intriguing, though somewhat unconventional pets.\n",
      "Turtles can live for many decades with proper care.\n",
      "Parrots can mimic human speech quite accurately.\n",
      "Snakes can be intriguing, though somewhat unconventional pets.\n",
      "Rabbits thrive on a diet rich in hay.\n",
      "Ferrets are playful animals that enjoy interacting with humans.\n",
      "Rabbits thrive on a diet rich in hay.\n",
      "Horses require a large amount of outdoor space.\n",
      "Horses require a large amount of outdoor space.\n",
      "Horses require a large amount of outdoor space.\n",
      "Dogs often bark to express their feelings.\n",
      "Dogs often bark to express their feelings.\n",
      "Guinea pigs make a series of interesting vocalizations.\n",
      "Parrots can mimic human speech quite accurately.\n",
      "Dogs often bark to express their feelings.\n",
      "Turtles can live for many decades with proper care.\n",
      "Ferrets are playful animals that enjoy interacting with humans.\n",
      "Ferrets are playful animals that enjoy interacting with humans.\n",
      "Parrots can mimic human speech quite accurately.\n",
      "Rabbits thrive on a diet rich in hay.\n",
      "Ferrets are playful animals that enjoy interacting with humans.\n",
      "Turtles can live for many decades with proper care.\n",
      "Cats love scratching posts that mimic trees.\n",
      "Horses require a large amount of outdoor space.\n",
      "Snakes can be intriguing, though somewhat unconventional pets.\n",
      "Cats love scratching posts that mimic trees.\n",
      "Fish are popular pets for small apartments.\n",
      "Dogs often bark to express their feelings.\n",
      "Horses require a large amount of outdoor space.\n",
      "Parrots can mimic human speech quite accurately.\n",
      "Guinea pigs make a series of interesting vocalizations.\n",
      "Dogs often bark to express their feelings.\n",
      "Dogs often bark to express their feelings.\n",
      "Parrots can mimic human speech quite accurately.\n",
      "Guinea pigs make a series of interesting vocalizations.\n",
      "Cats love scratching posts that mimic trees.\n",
      "Ferrets are playful animals that enjoy interacting with humans.\n",
      "Dogs often bark to express their feelings.\n",
      "Fish are popular pets for small apartments.\n",
      "Dogs often bark to express their feelings.\n",
      "Fish are popular pets for small apartments.\n",
      "Parrots can mimic human speech quite accurately.\n",
      "Parrots can mimic human speech quite accurately.\n",
      "Dogs often bark to express their feelings.\n",
      "Guinea pigs make a series of interesting vocalizations.\n",
      "Dogs often bark to express their feelings.\n",
      "Parrots can mimic human speech quite accurately.\n",
      "Cats love scratching posts that mimic trees.\n",
      "Snakes can be intriguing, though somewhat unconventional pets.\n",
      "Dogs often bark to express their feelings.\n",
      "Turtles can live for many decades with proper care.\n",
      "Parrots can mimic human speech quite accurately.\n",
      "Guinea pigs make a series of interesting vocalizations.\n",
      "Fish are popular pets for small apartments.\n",
      "Fish are popular pets for small apartments.\n",
      "Parrots can mimic human speech quite accurately.\n",
      "Horses require a large amount of outdoor space.\n",
      "Fish are popular pets for small apartments.\n",
      "Parrots can mimic human speech quite accurately.\n",
      "Parrots can mimic human speech quite accurately.\n",
      "Fish are popular pets for small apartments.\n",
      "Guinea pigs make a series of interesting vocalizations.\n",
      "Snakes can be intriguing, though somewhat unconventional pets.\n",
      "Fish are popular pets for small apartments.\n",
      "Rabbits thrive on a diet rich in hay.\n",
      "Guinea pigs make a series of interesting vocalizations.\n",
      "Cats love scratching posts that mimic trees.\n",
      "Fish are popular pets for small apartments.\n",
      "Dogs often bark to express their feelings.\n",
      "Parrots can mimic human speech quite accurately.\n",
      "Cats love scratching posts that mimic trees.\n",
      "Dogs often bark to express their feelings.\n",
      "Parrots can mimic human speech quite accurately.\n",
      "Ferrets are playful animals that enjoy interacting with humans.\n",
      "Ferrets are playful animals that enjoy interacting with humans.\n",
      "Horses require a large amount of outdoor space.\n",
      "Rabbits thrive on a diet rich in hay.\n",
      "Dogs often bark to express their feelings.\n",
      "Snakes can be intriguing, though somewhat unconventional pets.\n",
      "Ferrets are playful animals that enjoy interacting with humans.\n",
      "Cats love scratching posts that mimic trees.\n",
      "Dogs often bark to express their feelings.\n",
      "Parrots can mimic human speech quite accurately.\n",
      "Turtles can live for many decades with proper care.\n",
      "Rabbits thrive on a diet rich in hay.\n",
      "Dogs often bark to express their feelings.\n",
      "Horses require a large amount of outdoor space.\n",
      "Cats love scratching posts that mimic trees.\n",
      "Dogs often bark to express their feelings.\n",
      "Turtles can live for many decades with proper care.\n",
      "Snakes can be intriguing, though somewhat unconventional pets.\n",
      "Turtles can live for many decades with proper care.\n",
      "Guinea pigs make a series of interesting vocalizations.\n",
      "Horses require a large amount of outdoor space.\n",
      "Parrots can mimic human speech quite accurately.\n",
      "Dogs often bark to express their feelings.\n",
      "Ferrets are playful animals that enjoy interacting with humans.\n",
      "Guinea pigs make a series of interesting vocalizations.\n",
      "Horses require a large amount of outdoor space.\n",
      "Horses require a large amount of outdoor space.\n",
      "Snakes can be intriguing, though somewhat unconventional pets.\n",
      "Cats love scratching posts that mimic trees.\n",
      "Horses require a large amount of outdoor space.\n",
      "Turtles can live for many decades with proper care.\n",
      "Snakes can be intriguing, though somewhat unconventional pets.\n",
      "Dogs often bark to express their feelings.\n",
      "Dogs often bark to express their feelings.\n",
      "Snakes can be intriguing, though somewhat unconventional pets.\n",
      "Fish are popular pets for small apartments.\n",
      "Dogs often bark to express their feelings.\n",
      "Guinea pigs make a series of interesting vocalizations.\n",
      "Parrots can mimic human speech quite accurately.\n",
      "Horses require a large amount of outdoor space.\n",
      "Horses require a large amount of outdoor space.\n",
      "Horses require a large amount of outdoor space.\n",
      "Parrots can mimic human speech quite accurately.\n",
      "Dogs often bark to express their feelings.\n",
      "Rabbits thrive on a diet rich in hay.\n",
      "Rabbits thrive on a diet rich in hay.\n",
      "Dogs often bark to express their feelings.\n",
      "Rabbits thrive on a diet rich in hay.\n",
      "Snakes can be intriguing, though somewhat unconventional pets.\n",
      "Dogs often bark to express their feelings.\n",
      "Cats love scratching posts that mimic trees.\n",
      "Turtles can live for many decades with proper care.\n",
      "Cats love scratching posts that mimic trees.\n",
      "Cats love scratching posts that mimic trees.\n",
      "Dogs often bark to express their feelings.\n",
      "Parrots can mimic human speech quite accurately.\n",
      "Guinea pigs make a series of interesting vocalizations.\n",
      "Cats love scratching posts that mimic trees.\n",
      "Turtles can live for many decades with proper care.\n",
      "Rabbits thrive on a diet rich in hay.\n",
      "Turtles can live for many decades with proper care.\n",
      "Cats love scratching posts that mimic trees.\n",
      "Parrots can mimic human speech quite accurately.\n",
      "Ferrets are playful animals that enjoy interacting with humans.\n",
      "Fish are popular pets for small apartments.\n",
      "Ferrets are playful animals that enjoy interacting with humans.\n",
      "Cats love scratching posts that mimic trees.\n",
      "Guinea pigs make a series of interesting vocalizations.\n",
      "Ferrets are playful animals that enjoy interacting with humans.\n",
      "Dogs often bark to express their feelings.\n",
      "Guinea pigs make a series of interesting vocalizations.\n",
      "Ferrets are playful animals that enjoy interacting with humans.\n",
      "Guinea pigs make a series of interesting vocalizations.\n",
      "Cats love scratching posts that mimic trees.\n",
      "Dogs often bark to express their feelings.\n",
      "Cats love scratching posts that mimic trees.\n",
      "Cats love scratching posts that mimic trees.\n",
      "Snakes can be intriguing, though somewhat unconventional pets.\n",
      "Parrots can mimic human speech quite accurately.\n",
      "Snakes can be intriguing, though somewhat unconventional pets.\n",
      "Dogs often bark to express their feelings.\n",
      "Turtles can live for many decades with proper care.\n",
      "Ferrets are playful animals that enjoy interacting with humans.\n",
      "Ferrets are playful animals that enjoy interacting with humans.\n",
      "Dogs often bark to express their feelings.\n",
      "Dogs often bark to express their feelings.\n",
      "Horses require a large amount of outdoor space.\n",
      "Ferrets are playful animals that enjoy interacting with humans.\n",
      "Dogs often bark to express their feelings.\n",
      "Guinea pigs make a series of interesting vocalizations.\n",
      "\n"
     ]
    }
   ],
   "source": [
    "# read the content of this file: embedding_files/embedding_content_99996.txt\n",
    "filename = \"embedding_file_test/embedding_content_99996.txt\"\n",
    "with open(filename , \"r\") as f:\n",
    "    content = f.read()\n",
    "    print(content)\n"
   ]
  },
  {
   "cell_type": "code",
   "execution_count": 20,
   "metadata": {},
   "outputs": [
    {
     "ename": "FileNotFoundError",
     "evalue": "[Errno 2] No such file or directory: 'embedding_file_test/embedding_content_10350.txt'",
     "output_type": "error",
     "traceback": [
      "\u001b[0;31m---------------------------------------------------------------------------\u001b[0m",
      "\u001b[0;31mFileNotFoundError\u001b[0m                         Traceback (most recent call last)",
      "Cell \u001b[0;32mIn[20], line 3\u001b[0m\n\u001b[1;32m      1\u001b[0m filename \u001b[38;5;241m=\u001b[39m \u001b[38;5;124m\"\u001b[39m\u001b[38;5;124membedding_file_test/embedding_content_10350.txt\u001b[39m\u001b[38;5;124m\"\u001b[39m\n\u001b[1;32m      2\u001b[0m \u001b[38;5;66;03m# count the number of words in the document without a counter\u001b[39;00m\n\u001b[0;32m----> 3\u001b[0m \u001b[38;5;28;01mwith\u001b[39;00m \u001b[38;5;28;43mopen\u001b[39;49m\u001b[43m(\u001b[49m\u001b[43mfilename\u001b[49m\u001b[43m \u001b[49m\u001b[43m,\u001b[49m\u001b[43m \u001b[49m\u001b[38;5;124;43m\"\u001b[39;49m\u001b[38;5;124;43mr\u001b[39;49m\u001b[38;5;124;43m\"\u001b[39;49m\u001b[43m)\u001b[49m \u001b[38;5;28;01mas\u001b[39;00m f:\n\u001b[1;32m      4\u001b[0m     content \u001b[38;5;241m=\u001b[39m f\u001b[38;5;241m.\u001b[39mread()\n\u001b[1;32m      5\u001b[0m     \u001b[38;5;28mprint\u001b[39m(\u001b[38;5;28mlen\u001b[39m(content\u001b[38;5;241m.\u001b[39msplit()))\n",
      "File \u001b[0;32m~/.pyenv/versions/3.11.8/lib/python3.11/site-packages/IPython/core/interactiveshell.py:324\u001b[0m, in \u001b[0;36m_modified_open\u001b[0;34m(file, *args, **kwargs)\u001b[0m\n\u001b[1;32m    317\u001b[0m \u001b[38;5;28;01mif\u001b[39;00m file \u001b[38;5;129;01min\u001b[39;00m {\u001b[38;5;241m0\u001b[39m, \u001b[38;5;241m1\u001b[39m, \u001b[38;5;241m2\u001b[39m}:\n\u001b[1;32m    318\u001b[0m     \u001b[38;5;28;01mraise\u001b[39;00m \u001b[38;5;167;01mValueError\u001b[39;00m(\n\u001b[1;32m    319\u001b[0m         \u001b[38;5;124mf\u001b[39m\u001b[38;5;124m\"\u001b[39m\u001b[38;5;124mIPython won\u001b[39m\u001b[38;5;124m'\u001b[39m\u001b[38;5;124mt let you open fd=\u001b[39m\u001b[38;5;132;01m{\u001b[39;00mfile\u001b[38;5;132;01m}\u001b[39;00m\u001b[38;5;124m by default \u001b[39m\u001b[38;5;124m\"\u001b[39m\n\u001b[1;32m    320\u001b[0m         \u001b[38;5;124m\"\u001b[39m\u001b[38;5;124mas it is likely to crash IPython. If you know what you are doing, \u001b[39m\u001b[38;5;124m\"\u001b[39m\n\u001b[1;32m    321\u001b[0m         \u001b[38;5;124m\"\u001b[39m\u001b[38;5;124myou can use builtins\u001b[39m\u001b[38;5;124m'\u001b[39m\u001b[38;5;124m open.\u001b[39m\u001b[38;5;124m\"\u001b[39m\n\u001b[1;32m    322\u001b[0m     )\n\u001b[0;32m--> 324\u001b[0m \u001b[38;5;28;01mreturn\u001b[39;00m \u001b[43mio_open\u001b[49m\u001b[43m(\u001b[49m\u001b[43mfile\u001b[49m\u001b[43m,\u001b[49m\u001b[43m \u001b[49m\u001b[38;5;241;43m*\u001b[39;49m\u001b[43margs\u001b[49m\u001b[43m,\u001b[49m\u001b[43m \u001b[49m\u001b[38;5;241;43m*\u001b[39;49m\u001b[38;5;241;43m*\u001b[39;49m\u001b[43mkwargs\u001b[49m\u001b[43m)\u001b[49m\n",
      "\u001b[0;31mFileNotFoundError\u001b[0m: [Errno 2] No such file or directory: 'embedding_file_test/embedding_content_10350.txt'"
     ]
    }
   ],
   "source": [
    "filename = \"embedding_file_test/embedding_content_10350.txt\"\n",
    "# count the number of words in the document without a counter\n",
    "with open(filename , \"r\") as f:\n",
    "    content = f.read()\n",
    "    print(len(content.split()))"
   ]
  },
  {
   "cell_type": "code",
   "execution_count": null,
   "metadata": {},
   "outputs": [],
   "source": [
    "len(Counter(tokens))"
   ]
  },
  {
   "cell_type": "code",
   "execution_count": null,
   "metadata": {},
   "outputs": [],
   "source": []
  }
 ],
 "metadata": {
  "kernelspec": {
   "display_name": "py312",
   "language": "python",
   "name": "python3"
  },
  "language_info": {
   "codemirror_mode": {
    "name": "ipython",
    "version": 3
   },
   "file_extension": ".py",
   "mimetype": "text/x-python",
   "name": "python",
   "nbconvert_exporter": "python",
   "pygments_lexer": "ipython3",
   "version": "3.11.8"
  }
 },
 "nbformat": 4,
 "nbformat_minor": 2
}

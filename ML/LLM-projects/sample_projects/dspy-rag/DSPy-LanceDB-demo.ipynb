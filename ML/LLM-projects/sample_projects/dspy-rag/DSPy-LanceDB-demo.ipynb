{
 "cells": [
  {
   "cell_type": "markdown",
   "metadata": {},
   "source": [
    "# Tutorial: DSPy and LanceDB Integration"
   ]
  },
  {
   "cell_type": "markdown",
   "metadata": {},
   "source": [
    "This tutorial demonstrates the integration of DSPy with LanceDB to create a scalable and efficient data processing and querying system. Each section will guide you through the key steps involved, with explanations provided for the corresponding blocks of code.\n",
    "\n",
    "### Introduction\n",
    "In this notebook, we integrate DSPy, a powerful data science library, with LanceDB, a high-performance database designed for machine learning applications. This combination is particularly effective for managing, processing, and querying large datasets in machine learning workflows."
   ]
  },
  {
   "cell_type": "code",
   "execution_count": 45,
   "metadata": {},
   "outputs": [],
   "source": [
    "import re\n",
    "import dspy  \n",
    "import torch\n",
    "import lancedb \n",
    "  \n",
    "from lancedb.embeddings import get_registry \n",
    "from lancedb.pydantic import LanceModel, Vector\n",
    "from lancedb.rerankers import LinearCombinationReranker # LanceDB hybrid search uses LinearCombinationReranker by default"
   ]
  },
  {
   "cell_type": "markdown",
   "metadata": {},
   "source": [
    "Sets up the device (GPU if available, otherwise CPU) and initializes the \"BAAI/bge-small-en-v1.5\" embedding model using Hugging Face."
   ]
  },
  {
   "cell_type": "code",
   "execution_count": 47,
   "metadata": {},
   "outputs": [],
   "source": [
    "device = torch.device(\"cuda\" if torch.cuda.is_available() else \"cpu\") \n",
    "embed_model = get_registry().get(\"huggingface\").create(name=\"BAAI/bge-small-en-v1.5\", device=device)"
   ]
  },
  {
   "cell_type": "markdown",
   "metadata": {},
   "source": [
    "# LanceDB Configuration"
   ]
  },
  {
   "cell_type": "markdown",
   "metadata": {},
   "source": [
    "In this process, we'll create a vector store by defining a schema that includes text data and their corresponding embedding vectors. We'll set up a class, Vectorstore, which initializes with context information and a database path, establishes a connection to LanceDB, and persists the context data into a database table if it doesn't already exist. Additionally, we'll implement a method to search this table using hybrid queries, retrieving and ranking the most relevant context blocks based on the input query. This setup enables efficient storage, retrieval, and querying of contextual data."
   ]
  },
  {
   "cell_type": "code",
   "execution_count": 48,
   "metadata": {},
   "outputs": [],
   "source": [
    "class Schema(LanceModel):\n",
    "    text: str = embed_model.SourceField()\n",
    "    vector: Vector(embed_model.ndims()) = embed_model.VectorField()\n",
    "\n",
    "class Vectorstore:\n",
    "    def __init__(self, context_information=None, db_path=None, tablename='context', chunk_size=50):\n",
    "        if context_information is None or db_path is None:\n",
    "            raise ValueError(\"Both context_information and db_path must be provided\")\n",
    "        \n",
    "        self.context_information = context_information\n",
    "        self.db_path = db_path\n",
    "        self.tablename = tablename\n",
    "        self.chunk_size = chunk_size\n",
    "        self.device = torch.device(\"cuda\" if torch.cuda.is_available() else \"cpu\")\n",
    "        self.embed_model = get_registry().get(\"huggingface\").create(name=\"BAAI/bge-small-en-v1.5\", device=self.device)\n",
    "        self.db = lancedb.connect(self.db_path) \n",
    "        self._persist_on_db()\n",
    "\n",
    "    def split_text_into_chunks(self):\n",
    "        \"\"\"Splits the context information into chunks of the specified size.\"\"\"\n",
    "        words = self.context_information.split()\n",
    "        return [' '.join(words[i:i + self.chunk_size]) for i in range(0, len(words), self.chunk_size)]\n",
    "\n",
    "    def _persist_on_db(self): \n",
    "        if self.tablename not in self.db.table_names(): \n",
    "            tbl = self.db.create_table(self.tablename, schema=Schema, mode=\"overwrite\") \n",
    "            contexts = [{\"text\": re.sub(r'\\s+', ' ', text)} for text in self.split_text_into_chunks()]\n",
    "            tbl.add(contexts) \n",
    "        else: \n",
    "            tbl = self.db.open_table(self.tablename)\n",
    "\n",
    "        tbl.create_fts_index(\"text\", replace=True)\n",
    "\n",
    "    def search_table(self, query_string, query_type='hybrid', top_k=3): \n",
    "        print(f'Searching table with query type: {query_type}, table: {self.tablename}, query: {query_string}') \n",
    "        reranker = LinearCombinationReranker(weight=0.7)\n",
    "        tbl = self.db.open_table(self.tablename)\n",
    "        rs = tbl.search(query_string, query_type=query_type).rerank(reranker=reranker).limit(top_k).to_list() \n",
    "        return \"- context block: \".join([item['text'] for item in rs])"
   ]
  },
  {
   "cell_type": "markdown",
   "metadata": {},
   "source": [
    "# DSPy Configuration\n",
    "\n",
    "We'll begin by configuring DSPy with a language model to handle our natural language processing tasks. Here, we use an OpenAI model, specifically the `gpt-4o-mini`, to power our language model (LLM) within DSPy. This setup is flexible—while we're using an OpenAI model in this instance, it's also possible to run any local LLM that is compatible with DSPy. By using a tool like Ollama, you can easily switch to a local LLM by modifying the model configuration. This approach allows for adaptability depending on your computational resources or specific model preferences.\n",
    "\n",
    "All models and comprehensive documentation for DSPy, including how to configure and use different language models, can be found [here](https://dspy-docs.vercel.app/docs/building-blocks/language_models).\n"
   ]
  },
  {
   "cell_type": "code",
   "execution_count": 49,
   "metadata": {},
   "outputs": [],
   "source": [
    "llm = dspy.OpenAI(model='gpt-4o-mini',)\n",
    "dspy.configure(lm=llm)"
   ]
  },
  {
   "cell_type": "markdown",
   "metadata": {},
   "source": [
    "In DSPy, a signature defines the structure and expected inputs and outputs for a task, serving as a blueprint that ensures consistency in data handling and task execution. By clearly specifying the inputs, outputs, and their types, signatures help maintain a standardized approach to implementing various tasks within your pipeline. This ensures that different components can interact seamlessly and that the data flows correctly through each step of the process. \n",
    "\n",
    "For more detailed information about signatures and how to use them, you can explore the [DSPy documentation on signatures](https://dspy-docs.vercel.app/docs/building-blocks/signatures)."
   ]
  },
  {
   "cell_type": "code",
   "execution_count": 64,
   "metadata": {},
   "outputs": [],
   "source": [
    "class GenerateAnswer(dspy.Signature):\n",
    "    \"\"\"As a chat assitant, generates an answer based on a query and given context chunks. \"\"\"\n",
    "    query = dspy.InputField(desc=\"The question or query to be answered, if context is not provided answers respectfully that cannot help with that question\", type=str)\n",
    "    context_chunks = dspy.InputField(desc=\"List of relevant context chunks to answer the query\", type=list)\n",
    "    answer = dspy.OutputField(desc=\"The answer to the query, 5-20 words\")\n",
    "    answer_rationale = dspy.OutputField(desc=\"LM's reasoning before it generates the output\")"
   ]
  },
  {
   "cell_type": "markdown",
   "metadata": {},
   "source": [
    "We're implementing a Retrieval-Augmented Generation (RAG) module, which is a method that enhances the generation of answers by retrieving relevant information from a knowledge base.\n",
    "\n",
    "RAG works by first searching for relevant context using a vector-based search in LanceDB, a high-performance database optimized for storing and querying multi-modal data. The vectorstore in LanceDB enables efficient retrieval of context by matching the user's query with relevant chunks of information stored as vectors. Once the relevant context is retrieved, it is used to generate a more accurate and informed answer.\n",
    "\n",
    "The RAG class integrates these steps: it retrieves context using the LanceDB Vectorstore and then generates the final answer using the ChainOfThought mechanism with the GenerateAnswer signature. This approach ensures that the model provides answers that are both contextually relevant and coherent, leveraging the power of vector-based search for precise and efficient information retrieval."
   ]
  },
  {
   "cell_type": "code",
   "execution_count": 65,
   "metadata": {},
   "outputs": [],
   "source": [
    "class RAG(dspy.Module):\n",
    "    def __init__(self, context_information, db_path):\n",
    "        super().__init__()\n",
    "        if context_information is None or db_path is None:\n",
    "            raise ValueError(\"Both context_information and db_path must be provided\")\n",
    "        \n",
    "        self.vectorstore = Vectorstore(\n",
    "            context_information=context_information, \n",
    "            db_path=db_path\n",
    "        )\n",
    "        self.generate_answer = dspy.ChainOfThought(GenerateAnswer)  # Using signature defined above\n",
    "\n",
    "    def forward(self, query):\n",
    "        relevant_contexts = self.vectorstore.search_table(\n",
    "            query_string=query, \n",
    "            query_type='hybrid', \n",
    "            top_k=3\n",
    "        )\n",
    "        prediction = self.generate_answer(\n",
    "            query=query, \n",
    "            context_chunks=relevant_contexts\n",
    "        )\n",
    "        \n",
    "        return dspy.Prediction(\n",
    "            query=query, \n",
    "            context_chunks=relevant_contexts, \n",
    "            answer=prediction.answer, \n",
    "            answer_rationale=prediction.answer_rationale\n",
    "        )\n"
   ]
  },
  {
   "cell_type": "markdown",
   "metadata": {},
   "source": [
    "# EvaluatorRAG Module"
   ]
  },
  {
   "cell_type": "markdown",
   "metadata": {},
   "source": [
    "The EvaluateAnswer class defines a signature for evaluating the accuracy of an answer. It specifies the inputs and outputs necessary to assess the quality of the generated response. The evaluation considers the original query, the context chunks used to form the answer, the answer itself, and the rationale behind it. The output includes an accuracy metric (rated from 0 to 10) and a rationale metric, which provides insight into the reasoning process."
   ]
  },
  {
   "cell_type": "code",
   "execution_count": 77,
   "metadata": {},
   "outputs": [],
   "source": [
    "class EvaluateAnswer(dspy.Signature):\n",
    "    \"\"\"Returns a 0-10 metric that measures the accuracy of the provided answer based on the given context chunks and the rationale provided by the algorithm.\"\"\"\n",
    "    query = dspy.InputField(desc=\"The question or query to be answered.\", type=str)\n",
    "    context_chunks = dspy.InputField(desc=\"List of relevant context chunks used to answer the query.\", type=list)\n",
    "    answer = dspy.InputField(desc=\"The provided answer to the query.\", type=str)\n",
    "    answer_rationale = dspy.InputField(desc=\"The reasoning given by the language model for the answer.\", type=str)\n",
    "    accuracy_metric = dspy.OutputField(desc=\"0-10 number that represents a metric evaluating the accuracy of the answer based on the answer vs contexts provided\", type=int)\n",
    "    rationale_metric = dspy.OutputField(desc=\"LM's metric reasoning\", type=str)\n"
   ]
  },
  {
   "cell_type": "markdown",
   "metadata": {},
   "source": [
    "The EvaluatorRAG class is a module designed to implement the evaluation process defined by the EvaluateAnswer signature. It initializes the evaluation mechanism and provides a method (forward) that takes in the query, context chunks, the generated answer, and its rationale. This method evaluates the accuracy of the answer and normalizes the resulting accuracy metric to ensure it's a usable number. The module then returns a prediction object that includes the original inputs along with the evaluated accuracy and rationale metrics, providing a comprehensive assessment of the answer's quality."
   ]
  },
  {
   "cell_type": "code",
   "execution_count": 78,
   "metadata": {},
   "outputs": [],
   "source": [
    "class EvaluatorRAG(dspy.Module):\n",
    "    def __init__(self):\n",
    "        super().__init__()\n",
    "        self.evaluate_answer = dspy.ChainOfThought(EvaluateAnswer)  # Using the EvaluateAnswer signature\n",
    "\n",
    "    def forward(self, query, context_chunks, answer, answer_rationale):\n",
    "        evaluation = self.evaluate_answer(\n",
    "            query=query,\n",
    "            context_chunks=context_chunks,\n",
    "            answer=answer,\n",
    "            answer_rationale=answer_rationale\n",
    "        )\n",
    "        \n",
    "        # Normalize the accuracy metric to ensure it's always a number\n",
    "        accuracy_metric = self.normalize_metric(evaluation.accuracy_metric)\n",
    "        \n",
    "        return dspy.Prediction(\n",
    "            query=query,\n",
    "            context_chunks=context_chunks,\n",
    "            answer=answer,\n",
    "            answer_rationale=answer_rationale,\n",
    "            accuracy_metric=accuracy_metric,\n",
    "            rationale_metric=evaluation.rationale_metric\n",
    "        )\n",
    "    \n",
    "    def normalize_metric(self, metric):\n",
    "        if isinstance(metric, str):\n",
    "            match = re.search(r'\\d+', metric)\n",
    "            if match:\n",
    "                return int(match.group())\n",
    "        return metric\n"
   ]
  },
  {
   "cell_type": "markdown",
   "metadata": {},
   "source": [
    "# RAG_Assitant Module\n",
    "The RAG_Assitant class encapsulates both the generation and evaluation of answers within a single chain of operations. It initializes the RAG module for retrieving and generating the answer, and the EvaluatorRAG module for assessing the quality of that answer.\n",
    "\n",
    "In the process_question method, the class first processes the query using the RAG module to generate an answer and relevant context. This result is then passed to the EvaluatorRAG module, which evaluates the accuracy and reasoning behind the generated answer. The final output is a comprehensive dictionary that includes the query, the context chunks used, the generated answer, the reasoning behind the answer, and the evaluation metrics. This structured approach ensures that both the generation and evaluation steps are seamlessly integrated, providing a robust solution for answering and assessing queries."
   ]
  },
  {
   "cell_type": "code",
   "execution_count": 79,
   "metadata": {},
   "outputs": [],
   "source": [
    "class RAG_Assitant(dspy.Module):\n",
    "    def __init__(self, context_information, db_path):\n",
    "        super().__init__()\n",
    "        self.rag = RAG(context_information=context_information, db_path=db_path)\n",
    "        self.evaluator_rag = EvaluatorRAG()\n",
    "\n",
    "    def process_question(self, query):\n",
    "        # Get the initial result from RAG\n",
    "        result = self.rag.forward(query)\n",
    "        \n",
    "        # Evaluate the result using EvaluatorRAG\n",
    "        evaluation = self.evaluator_rag.forward(\n",
    "            query=query,\n",
    "            context_chunks=result.context_chunks,\n",
    "            answer=result.answer,\n",
    "            answer_rationale=result.answer_rationale\n",
    "        )\n",
    "        \n",
    "        # Return the evaluation results as a dictionary\n",
    "        return {\n",
    "            \"query\": evaluation.query,\n",
    "            \"context_chunks\": evaluation.context_chunks,\n",
    "            \"answer\": evaluation.answer,\n",
    "            \"answer_rationale\": evaluation.answer_rationale,\n",
    "            \"accuracy_metric\": evaluation.accuracy_metric,\n",
    "            \"rationale_metric\": evaluation.rationale_metric\n",
    "        }\n"
   ]
  },
  {
   "cell_type": "markdown",
   "metadata": {},
   "source": [
    "# Testing"
   ]
  },
  {
   "cell_type": "markdown",
   "metadata": {},
   "source": [
    "### Define context for initialization"
   ]
  },
  {
   "cell_type": "code",
   "execution_count": 80,
   "metadata": {},
   "outputs": [],
   "source": [
    "CONTEXT_DATA = \"\"\"\n",
    "Welcome to BeatyPets\n",
    "Welcome to BeatyPets!\n",
    "Your go-to store for all your pet care needs.\n",
    "Located in Petville, PA, BeatyPets offers a variety of services for your furry friends.\n",
    "From grooming and health check-ups to training and boarding, we are here to cater to your pets' needs.\n",
    "BeatyPets is your trusted pet shop, providing comprehensive services for dogs, cats, birds, reptiles, and small mammals. We specialize in grooming, health check-ups, vaccinations, training, and boarding services. Our expert staff includes veterinarians, groomers, and trainers dedicated to the well-being of your pets.\n",
    "Visit us at 123 Pet Lane, Petville, PA 12345. Contact us at 555-123-4567 or email us at contact@beatypets.com. Explore more at http://beatypets.com.\n",
    "Authors: BeatyPets Team\n",
    "Categories: Pets, Pet Care\n",
    "Published: 20240709\n",
    "Updated: 20240709\n",
    "Source: http://beatypets.com\n",
    "\n",
    "BeatyPets Business Hours\n",
    "Business Hours:\n",
    "Monday - Friday: 9 AM - 6 PM\n",
    "Saturday: 10 AM - 4 PM\n",
    "Sunday: Closed\n",
    "BeatyPets operates from Monday to Saturday with varied hours. We are closed on Sundays. Our convenient hours ensure we are available when you need us for your pet care needs.\n",
    "Authors: BeatyPets Team\n",
    "Categories: Pets, Pet Care, Business Hours\n",
    "Published: 20240709\n",
    "Updated: 20240709\n",
    "Source: http://beatypets.com/hours\n",
    "\n",
    "Popular Dog Breeds Served at BeatyPets\n",
    "Popular Dog Breeds Served:\n",
    "Labrador Retriever\n",
    "French Bulldog\n",
    "German Shepherd\n",
    "Golden Retriever\n",
    "Bulldog\n",
    "At BeatyPets, we serve a variety of popular dog breeds, including Labrador Retrievers, French Bulldogs, German Shepherds, Golden Retrievers, and Bulldogs. Our services cater to the needs of these beloved breeds with specialized care.\n",
    "Authors: BeatyPets Team\n",
    "Categories: Pets, Dog Breeds\n",
    "Published: 20240709\n",
    "Updated: 20240709\n",
    "Source: http://beatypets.com/popular-dogs\n",
    "\n",
    "BeatyPets Cat Policy\n",
    "Cat Policy:\n",
    "You can bring your cat to BeatyPets! We provide grooming and health check-up services specifically for cats.\n",
    "At BeatyPets, we welcome cats and offer specialized services including grooming and health check-ups. Your cat is in good hands with our expert staff, who ensure their comfort and well-being.\n",
    "Authors: BeatyPets Team\n",
    "Categories: Pets, Cat Care\n",
    "Published: 20240709\n",
    "Updated: 20240709\n",
    "Source: http://beatypets.com/cat-policy\n",
    "\n",
    "Meet Our Staff at BeatyPets\n",
    "Meet Our Staff:\n",
    "Dr. Sarah Johnson - Veterinarian, Small Animals\n",
    "Michael Brown - Groomer, Dogs and Cats\n",
    "Emily Davis - Trainer, Behavioral Training\n",
    "Meet our dedicated staff at BeatyPets who are committed to providing exceptional care for your pets. Our team includes experienced professionals in veterinary care, grooming, and training.\n",
    "Authors: BeatyPets Team\n",
    "Categories: Pets, Staff\n",
    "Published: 20240709\n",
    "Updated: 20240709\n",
    "Source: http://beatypets.com/staff\n",
    "\n",
    "Upcoming Events at BeatyPets\n",
    "Upcoming Events:\n",
    "Pet Adoption Day - August 15, 2024\n",
    "Pet Health Seminar - September 10, 2024\n",
    "Join us at BeatyPets for exciting upcoming events! From pet adoption days to health seminars, there's something for every pet owner. Mark your calendar and don't miss out!\n",
    "Authors: BeatyPets Team\n",
    "Categories: Pets, Events\n",
    "Published: 20240709\n",
    "Updated: 20240709\n",
    "Source: http://beatypets.com/events\n",
    "\n",
    "Appointments Available at BeatyPets\n",
    "Appointments Available:\n",
    "Monday - Friday: 9 AM - 6 PM\n",
    "Saturday: 10 AM - 4 PM\n",
    "Sunday: Closed\n",
    "Services requiring an appointment: grooming, veterinary check-ups, training.\n",
    "BeatyPets offers appointments from Monday to Saturday for services such as grooming, veterinary check-ups, and training. We are closed on Sundays. Be sure to book your appointment in advance to secure availability.\n",
    "Authors: BeatyPets Team\n",
    "Categories: Pets, Pet Care, Appointments\n",
    "Published: 20240709\n",
    "Updated: 20240709\n",
    "Source: http://beatypets.com/appointments\n",
    "\n",
    "Products for Sale at BeatyPets\n",
    "Products for Sale:\n",
    "- Pet toys\n",
    "- Beds and crates\n",
    "- Collars and leashes\n",
    "- Hygiene products\n",
    "- Food and treats\n",
    "At BeatyPets, we offer a wide range of pet products, including toys, beds, crates, collars, leashes, hygiene products, and a variety of food and treats. Find everything your pet needs in one place.\n",
    "Authors: BeatyPets Team\n",
    "Categories: Pets, Products\n",
    "Published: 20240709\n",
    "Updated: 20240709\n",
    "Source: http://beatypets.com/products\n",
    "\n",
    "Types of Pet Food at BeatyPets\n",
    "Types of Pet Food:\n",
    "- Dry food\n",
    "- Wet food\n",
    "- Dietary food\n",
    "- Grain-free food\n",
    "- Treats and snacks\n",
    "BeatyPets offers a variety of pet foods, including dry, wet, dietary, and grain-free options. We also have a selection of treats and snacks to keep your pets happy.\n",
    "Authors: BeatyPets Team\n",
    "Categories: Pets, Food\n",
    "Published: 20240709\n",
    "Updated: 20240709\n",
    "Source: http://beatypets.com/food\n",
    "\n",
    "\"\"\"\n"
   ]
  },
  {
   "cell_type": "markdown",
   "metadata": {},
   "source": [
    "## Let's create our assitant\n",
    "This line of code initializes the RAG_Assitant module by passing in the necessary context information and database path. The context_information parameter, provided as CONTEXT_DATA, contains the data that will be used to generate and evaluate answers. The db_path parameter specifies the path to the LanceDB database where the context data is stored and managed. This initialization prepares the RAG_Assitant for processing queries by setting up the entire chain from context retrieval to answer evaluation."
   ]
  },
  {
   "cell_type": "code",
   "execution_count": 81,
   "metadata": {},
   "outputs": [],
   "source": [
    "assistant = RAG_Assitant(context_information=CONTEXT_DATA, db_path='./db_lancedb')"
   ]
  },
  {
   "cell_type": "code",
   "execution_count": 82,
   "metadata": {},
   "outputs": [
    {
     "name": "stdout",
     "output_type": "stream",
     "text": [
      "Searching table with query type: hybrid table: context query: Is it open on Tuesday?\n",
      "Answer: Yes, BeatyPets is open on Tuesday.\n",
      "Answer Rationale: The context specifies that BeatyPets is open Monday to Friday, confirming Tuesday is included.\n",
      "Accuracy: 10\n",
      "Accuracy Rationale: The answer is fully supported by the context, which explicitly states the operating hours, including Tuesday.\n"
     ]
    }
   ],
   "source": [
    "test_question = \"Is it open on Tuesday?\"\n",
    "result = assistant.process_question(test_question)\n",
    "print('Answer:', result['answer'])\n",
    "print('Answer Rationale:', result['answer_rationale'])\n",
    "print('Accuracy:', result['accuracy_metric'])\n",
    "print('Accuracy Rationale:', result['rationale_metric'])"
   ]
  },
  {
   "cell_type": "code",
   "execution_count": 83,
   "metadata": {},
   "outputs": [
    {
     "name": "stdout",
     "output_type": "stream",
     "text": [
      "Searching table with query type: hybrid table: context query: Who is the veterinarian at BeatyPets?\n",
      "Answer: Dr. Sarah Johnson is the veterinarian at BeatyPets.\n",
      "Answer Rationale: The context clearly identifies Dr. Sarah Johnson as the veterinarian, allowing for a straightforward answer.\n",
      "Accuracy: 10\n",
      "Accuracy Rationale: The answer is fully supported by the context, making it completely accurate.\n"
     ]
    }
   ],
   "source": [
    "test_question = \"Who is the veterinarian at BeatyPets?\"\n",
    "result = assistant.process_question(test_question)\n",
    "print('Answer:', result['answer'])\n",
    "print('Answer Rationale:', result['answer_rationale'])\n",
    "print('Accuracy:', result['accuracy_metric'])\n",
    "print('Accuracy Rationale:', result['rationale_metric'])"
   ]
  },
  {
   "cell_type": "markdown",
   "metadata": {},
   "source": [
    "### Challenging questions\n",
    "We are undertaking a series of challenging questions to rigorously test different metrics within our RAG and evaluation modules. This process will help ensure that the models are not only generating accurate responses but are also providing well-reasoned justifications and maintaining high standards of evaluation accuracy."
   ]
  },
  {
   "cell_type": "code",
   "execution_count": 91,
   "metadata": {},
   "outputs": [
    {
     "name": "stdout",
     "output_type": "stream",
     "text": [
      "Searching table with query type: hybrid table: context query: Can BeatyPets handle aggressive dogs?\n",
      "Answer: I cannot confirm if BeatyPets can handle aggressive dogs.\n",
      "Answer Rationale: The context does not provide information about BeatyPets' ability to manage aggressive dogs, so I cannot answer the query.\n",
      "Accuracy: 8\n",
      "Accuracy Rationale: The answer is accurate in that it acknowledges the absence of specific information regarding aggressive dogs, which is consistent with the context provided. However, it could have been slightly more informative by suggesting that the user contact BeatyPets directly for more information.\n"
     ]
    }
   ],
   "source": [
    "test_question = \"Can BeatyPets handle aggressive dogs?\"\n",
    "result = assistant.process_question(test_question)\n",
    "print('Answer:', result['answer'])\n",
    "print('Answer Rationale:', result['answer_rationale'])\n",
    "print('Accuracy:', result['accuracy_metric'])\n",
    "print('Accuracy Rationale:', result['rationale_metric'])"
   ]
  },
  {
   "cell_type": "code",
   "execution_count": 90,
   "metadata": {},
   "outputs": [
    {
     "name": "stdout",
     "output_type": "stream",
     "text": [
      "Searching table with query type: hybrid table: context query: Can I schedule a grooming appointment online?\n",
      "Answer: The context does not specify online scheduling options.\n",
      "Answer Rationale: The reasoning process involved checking the context for any mention of online appointment scheduling, but it was not found, leading to the conclusion that I cannot confirm if online scheduling is available.\n",
      "Accuracy: 9\n",
      "Accuracy Rationale: The answer accurately reflects the information available in the context chunks, indicating that while appointments are available, there is no mention of online scheduling. The reasoning process is logical and aligns with the context provided.\n"
     ]
    }
   ],
   "source": [
    "test_question = \"Can I schedule a grooming appointment online?\"\n",
    "result = assistant.process_question(test_question)\n",
    "print('Answer:', result['answer'])\n",
    "print('Answer Rationale:', result['answer_rationale'])\n",
    "print('Accuracy:', result['accuracy_metric'])\n",
    "print('Accuracy Rationale:', result['rationale_metric'])"
   ]
  },
  {
   "cell_type": "code",
   "execution_count": 87,
   "metadata": {},
   "outputs": [
    {
     "name": "stdout",
     "output_type": "stream",
     "text": [
      "Searching table with query type: hybrid table: context query: Is BeatyPets open on public holidays?\n",
      "Answer: BeatyPets is likely closed on public holidays.\n",
      "Answer Rationale: The reasoning is based on the provided context, which states that BeatyPets is closed on Sundays and operates only Monday to Saturday.\n",
      "Accuracy: 8\n",
      "Accuracy Rationale: The answer is mostly accurate as it logically infers the likely closure on public holidays based on the provided context, but it lacks explicit confirmation from the context.\n"
     ]
    }
   ],
   "source": [
    "test_question = \"Is BeatyPets open on public holidays?\"\n",
    "result = assistant.process_question(test_question)\n",
    "print('Answer:', result['answer'])\n",
    "print('Answer Rationale:', result['answer_rationale'])\n",
    "print('Accuracy:', result['accuracy_metric'])\n",
    "print('Accuracy Rationale:', result['rationale_metric'])"
   ]
  },
  {
   "cell_type": "markdown",
   "metadata": {},
   "source": [
    "# Conclusions\n",
    "The BeatyPets RAG System represents a sophisticated application of modern AI techniques, blending advanced natural language processing with robust data management to create an intelligent, responsive system. By leveraging DSPy for seamless integration and task management, along with LanceDB for efficient vector-based data retrieval, the system is able to deliver precise, context-aware answers to user queries.\n",
    "\n",
    "This project not only demonstrates the power of combining state-of-the-art tools like DSPy and LanceDB but also provides a flexible framework that can be adapted to a wide range of domains beyond pet care. Whether used for customer support, virtual assistants, or knowledge management, the principles and architecture of this system offer a solid foundation for building intelligent, scalable, and user-friendly applications.\n",
    "\n",
    "As AI continues to evolve, projects like this underscore the importance of integrating multiple technologies to achieve superior performance and usability. The BeatyPets RAG System is a testament to the potential of AI in enhancing user experiences through intelligent, contextually aware interactions."
   ]
  }
 ],
 "metadata": {
  "kernelspec": {
   "display_name": "venv",
   "language": "python",
   "name": "python3"
  },
  "language_info": {
   "codemirror_mode": {
    "name": "ipython",
    "version": 3
   },
   "file_extension": ".py",
   "mimetype": "text/x-python",
   "name": "python",
   "nbconvert_exporter": "python",
   "pygments_lexer": "ipython3",
   "version": "3.10.12"
  }
 },
 "nbformat": 4,
 "nbformat_minor": 2
}

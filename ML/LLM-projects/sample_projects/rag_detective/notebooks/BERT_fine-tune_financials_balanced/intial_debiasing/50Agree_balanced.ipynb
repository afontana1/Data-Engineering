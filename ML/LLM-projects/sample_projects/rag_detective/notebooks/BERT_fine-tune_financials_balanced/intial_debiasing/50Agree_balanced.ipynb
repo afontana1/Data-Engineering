{
 "cells": [
  {
   "cell_type": "markdown",
   "metadata": {
    "id": "9I_ZwVnJWmYJ"
   },
   "source": [
    "# 50% Balanced Consensus: BERT-Based Financial Sentiment Classifier\n",
    "\n",
    "This document provides an explanation of the python script used to train a classifier on top of a BERT model via fine-tuning. The task is financial sentiment analysis, where sentences are classified into three sentiments: negative, neutral, and positive.\n",
    "\n",
    "## Dataset\n",
    "\n",
    "The dataset is [hosted on Hugging Face,](https://huggingface.co/datasets/financial_phrasebank) where you can find further information on its curation, motivation, and annotation.\n",
    "\n",
    "### Overview\n",
    "\n",
    "The dataset consists of 4846 lines, each containing a financial text sentence and its corresponding sentiment, separated by an '@' symbol. The sentiment can belong to one of three categories: Negative, Neutral, or Positive, and is distributed as:\n",
    "\n",
    "- Neutral: 2879 entries (59%)\n",
    "- Positive: 1363 entries (28%)\n",
    "- Negative: 604 entries (12.4%)\n",
    "\n",
    "### Data Fields\n",
    "\n",
    "- **sentence**: A tokenized line from the dataset.\n",
    "- **label**: A label representing the sentence class as a string: 'positive', 'negative', or 'neutral'.\n",
    "\n",
    "### Data Splits\n",
    "\n",
    "Although the dataset does not come with predefined training/validation/test splits, the sentences are categorized into different configurations based on the degree of agreement among the annotators:\n",
    "\n",
    "- **sentences_50agree**: Number of instances with >= 50% annotator agreement - 4846 sentences\n",
    "- **sentences_66agree**: Number of instances with >= 66% annotator agreement - 4217 sentences\n",
    "- **sentences_75agree**: Number of instances with >= 75% annotator agreement - 3453 sentences\n",
    "- **sentences_allagree**: Number of instances with 100% annotator agreement - 2264 sentences\n",
    "\n",
    "For this project, we use the `sentences_50agree` configuration comprising of 4846 instances and manually split it into training, validation, and testing sets in a 70-15-15 proportion.\n",
    "\n",
    "All sentences in the dataset are limited to fewer than 512 tokens, in accordance with the BERT model's input constraints.\n",
    "\n",
    "## Imports and System Setup\n",
    "\n",
    "The first part of the code includes importing necessary modules and setting up the TensorFlow environment to recognize accessible GPU devices.\n",
    "\n",
    "\n",
    "## Metrics\n",
    "\n",
    "The model's performance after training is evaluated based on accuracy and F1 score. Accuracy measures the proportion of correct predictions, while the F1 score provides a harmonic mean between precision and recall, hammered down for individual classes.\n",
    "\n",
    "F1 score is calculated after each epoch by a custom F1_Evaluation class that uses the Scikit-learn function `f1_score()` for calculation.\n",
    "\n",
    "We took the extra step of tracking the F1 score for the validation set for a few reasons due to using a financial dataset:\n",
    "\n",
    "- **Handling Imbalance**: Financial datasets often exhibit class imbalance. For instance, genuine transactions significantly outnumber fraudulent ones. Accuracy can be misleading in such cases, making F1 a more balanced metric as it considers both precision and recall.\n",
    "\n",
    "- **Balancing Costs**: Both false negatives (e.g., overlooking a negative sentiment) and false positives (e.g., misclassifying a neutral statement as negative) have implications. The F1 score ensures a balance between reducing these two error types.\n",
    "\n",
    "- **Threshold Tuning**: Financial decisions can involve adjustable thresholds. The F1 score can guide optimization, ensuring neither precision nor recall is neglected.\n",
    "\n",
    "## Wandb\n",
    "\n",
    "[Wandb (Weights & Biases)](https://wandb.ai/site) is used for experiment tracking.\n",
    "\n",
    "## Preprocessing\n",
    "\n",
    "The data is read from the .txt file. The file encoding is first detected using the `chardet` library, and then the data is loaded into a pandas DataFrame using the detected encoding. The DataFrame contains two columns: sentence and label.\n",
    "\n",
    "Then the data is split into train, validation, and test sets, stratifying on the label to respect the original distribution of classes in the dataset.\n",
    "\n",
    "The `BertTokenizer` is used to encode the sentences into format suitable for the BERT model. `truncation=True` and `padding=True` ensures that all sequences are of the same length.\n",
    "\n",
    "The tokenized sentence encodings and the corresponding labels are wrapped into TensorFlow's `Dataset` objects.\n",
    "\n",
    "## Model Creation\n",
    "\n",
    "The existing BERT model ('bert-base-uncased') from HuggingFace's transformer models is loaded for sequence classification with 3 labels (negative, neutral, positive).\n",
    "\n",
    "## Model Compilation and Training\n",
    "\n",
    "The model is compiled with Adam optimizer, `SparseCategoricalCrossentropy` loss function, and accuracy as a metric. We use `SparseCategoricalCrossentropy` as this is a  multi-class classification with integer labels (not one-hot encoded). It's memory-efficient, especially for many classes, and pairs with a softmax activation in the model's output.\n",
    "\n",
    "A Wandb run is initialized, and the data is fit on the model using a batch size of 8 for 10 epochs. The validation data and the custom F1 score calculation callback are also passed in the fit method.\n",
    "\n",
    "## Evaluation\n",
    "\n",
    "The model is evaluated on the test set. Classification report and F1 score are printed to show detailed information about performance on all three categories. The F1 score is also logged to the Wandb run."
   ]
  },
  {
   "cell_type": "code",
   "execution_count": 17,
   "metadata": {
    "colab": {
     "base_uri": "https://localhost:8080/"
    },
    "id": "MMcIPAfQyrQY",
    "outputId": "70c2ab82-6bca-41cd-b4b8-72b85106dc1f"
   },
   "outputs": [
    {
     "name": "stdout",
     "output_type": "stream",
     "text": [
      "Requirement already satisfied: wandb in /usr/local/lib/python3.10/dist-packages (0.15.12)\n",
      "Requirement already satisfied: Click!=8.0.0,>=7.1 in /usr/local/lib/python3.10/dist-packages (from wandb) (8.1.7)\n",
      "Requirement already satisfied: GitPython!=3.1.29,>=1.0.0 in /usr/local/lib/python3.10/dist-packages (from wandb) (3.1.38)\n",
      "Requirement already satisfied: requests<3,>=2.0.0 in /usr/local/lib/python3.10/dist-packages (from wandb) (2.31.0)\n",
      "Requirement already satisfied: psutil>=5.0.0 in /usr/local/lib/python3.10/dist-packages (from wandb) (5.9.5)\n",
      "Requirement already satisfied: sentry-sdk>=1.0.0 in /usr/local/lib/python3.10/dist-packages (from wandb) (1.32.0)\n",
      "Requirement already satisfied: docker-pycreds>=0.4.0 in /usr/local/lib/python3.10/dist-packages (from wandb) (0.4.0)\n",
      "Requirement already satisfied: PyYAML in /usr/local/lib/python3.10/dist-packages (from wandb) (6.0.1)\n",
      "Requirement already satisfied: pathtools in /usr/local/lib/python3.10/dist-packages (from wandb) (0.1.2)\n",
      "Requirement already satisfied: setproctitle in /usr/local/lib/python3.10/dist-packages (from wandb) (1.3.3)\n",
      "Requirement already satisfied: setuptools in /usr/local/lib/python3.10/dist-packages (from wandb) (67.7.2)\n",
      "Requirement already satisfied: appdirs>=1.4.3 in /usr/local/lib/python3.10/dist-packages (from wandb) (1.4.4)\n",
      "Requirement already satisfied: protobuf!=4.21.0,<5,>=3.19.0 in /usr/local/lib/python3.10/dist-packages (from wandb) (3.20.3)\n",
      "Requirement already satisfied: six>=1.4.0 in /usr/local/lib/python3.10/dist-packages (from docker-pycreds>=0.4.0->wandb) (1.16.0)\n",
      "Requirement already satisfied: gitdb<5,>=4.0.1 in /usr/local/lib/python3.10/dist-packages (from GitPython!=3.1.29,>=1.0.0->wandb) (4.0.10)\n",
      "Requirement already satisfied: charset-normalizer<4,>=2 in /usr/local/lib/python3.10/dist-packages (from requests<3,>=2.0.0->wandb) (3.3.0)\n",
      "Requirement already satisfied: idna<4,>=2.5 in /usr/local/lib/python3.10/dist-packages (from requests<3,>=2.0.0->wandb) (3.4)\n",
      "Requirement already satisfied: urllib3<3,>=1.21.1 in /usr/local/lib/python3.10/dist-packages (from requests<3,>=2.0.0->wandb) (2.0.6)\n",
      "Requirement already satisfied: certifi>=2017.4.17 in /usr/local/lib/python3.10/dist-packages (from requests<3,>=2.0.0->wandb) (2023.7.22)\n",
      "Requirement already satisfied: smmap<6,>=3.0.1 in /usr/local/lib/python3.10/dist-packages (from gitdb<5,>=4.0.1->GitPython!=3.1.29,>=1.0.0->wandb) (5.0.1)\n"
     ]
    }
   ],
   "source": [
    "!pip install wandb"
   ]
  },
  {
   "cell_type": "code",
   "execution_count": 18,
   "metadata": {
    "colab": {
     "base_uri": "https://localhost:8080/"
    },
    "id": "q4TaSXfQys4J",
    "outputId": "9554acc8-9c78-4add-b7a5-cd343077d5ee"
   },
   "outputs": [
    {
     "name": "stdout",
     "output_type": "stream",
     "text": [
      "Requirement already satisfied: transformers in /usr/local/lib/python3.10/dist-packages (4.34.0)\n",
      "Requirement already satisfied: filelock in /usr/local/lib/python3.10/dist-packages (from transformers) (3.12.4)\n",
      "Requirement already satisfied: huggingface-hub<1.0,>=0.16.4 in /usr/local/lib/python3.10/dist-packages (from transformers) (0.17.3)\n",
      "Requirement already satisfied: numpy>=1.17 in /usr/local/lib/python3.10/dist-packages (from transformers) (1.23.5)\n",
      "Requirement already satisfied: packaging>=20.0 in /usr/local/lib/python3.10/dist-packages (from transformers) (23.2)\n",
      "Requirement already satisfied: pyyaml>=5.1 in /usr/local/lib/python3.10/dist-packages (from transformers) (6.0.1)\n",
      "Requirement already satisfied: regex!=2019.12.17 in /usr/local/lib/python3.10/dist-packages (from transformers) (2023.6.3)\n",
      "Requirement already satisfied: requests in /usr/local/lib/python3.10/dist-packages (from transformers) (2.31.0)\n",
      "Requirement already satisfied: tokenizers<0.15,>=0.14 in /usr/local/lib/python3.10/dist-packages (from transformers) (0.14.1)\n",
      "Requirement already satisfied: safetensors>=0.3.1 in /usr/local/lib/python3.10/dist-packages (from transformers) (0.4.0)\n",
      "Requirement already satisfied: tqdm>=4.27 in /usr/local/lib/python3.10/dist-packages (from transformers) (4.66.1)\n",
      "Requirement already satisfied: fsspec in /usr/local/lib/python3.10/dist-packages (from huggingface-hub<1.0,>=0.16.4->transformers) (2023.6.0)\n",
      "Requirement already satisfied: typing-extensions>=3.7.4.3 in /usr/local/lib/python3.10/dist-packages (from huggingface-hub<1.0,>=0.16.4->transformers) (4.5.0)\n",
      "Requirement already satisfied: charset-normalizer<4,>=2 in /usr/local/lib/python3.10/dist-packages (from requests->transformers) (3.3.0)\n",
      "Requirement already satisfied: idna<4,>=2.5 in /usr/local/lib/python3.10/dist-packages (from requests->transformers) (3.4)\n",
      "Requirement already satisfied: urllib3<3,>=1.21.1 in /usr/local/lib/python3.10/dist-packages (from requests->transformers) (2.0.6)\n",
      "Requirement already satisfied: certifi>=2017.4.17 in /usr/local/lib/python3.10/dist-packages (from requests->transformers) (2023.7.22)\n"
     ]
    }
   ],
   "source": [
    "!pip install transformers"
   ]
  },
  {
   "cell_type": "code",
   "execution_count": 19,
   "metadata": {
    "colab": {
     "base_uri": "https://localhost:8080/"
    },
    "id": "RusBHFMfLFcM",
    "outputId": "3db6e556-0f0e-49c7-d9d4-4ca676f65574"
   },
   "outputs": [
    {
     "name": "stdout",
     "output_type": "stream",
     "text": [
      "Num GPUs Available:  1\n",
      "Found GPU at: /device:GPU:0\n"
     ]
    }
   ],
   "source": [
    "# Easy place to track what we're training\n",
    "WHICH_DATASET = 'Sentences_50Agree.txt'\n",
    "WHICH_RUN_NAME = 'bert-balanced-50Agree-20'\n",
    "seed_val = 42\n",
    "\n",
    "# Import necessary libraries\n",
    "import os\n",
    "\n",
    "# Used to suppress output for F1 validation calculation\n",
    "import io\n",
    "import contextlib\n",
    "\n",
    "# For encoding detection\n",
    "import chardet\n",
    "\n",
    "import math\n",
    "import numpy as np\n",
    "import pandas as pd\n",
    "import matplotlib.pyplot as plt\n",
    "from sklearn.metrics import classification_report, f1_score\n",
    "from sklearn.model_selection import train_test_split\n",
    "\n",
    "# Hugging Face Transformers for BERT\n",
    "from transformers import BertTokenizer, TFBertForSequenceClassification\n",
    "\n",
    "# Deep learning frameworks\n",
    "import tensorflow as tf\n",
    "from tensorflow import keras\n",
    "from tensorflow.keras import backend as K\n",
    "from tensorflow.keras.callbacks import EarlyStopping\n",
    "\n",
    "# Ensure we have a GPU\n",
    "print(\"Num GPUs Available: \", len(tf.config.list_physical_devices('GPU')))\n",
    "\n",
    "# Verify current GPU\n",
    "device_name = tf.test.gpu_device_name()\n",
    "if device_name != '/device:GPU:0':\n",
    "  raise SystemError('GPU device not found')\n",
    "print('Found GPU at: {}'.format(device_name))\n",
    "\n",
    "# Weights and Biases for tracking experiments\n",
    "import wandb\n",
    "from wandb.keras import WandbCallback\n",
    "from sklearn.metrics import f1_score"
   ]
  },
  {
   "cell_type": "markdown",
   "metadata": {
    "id": "RBGjuUwLkpQX"
   },
   "source": [
    "# Prepare Data\n",
    "\n",
    "## Overview\n",
    "\n",
    "The varying levels of annotator agreements creates an unusual challenge. The aim is to create a train, test, and validation split that does not bias the model towards obvious sentiments. This guide will describe each step in the data splitting process.\n",
    "\n",
    "## Step 1: Load the Data\n",
    "\n",
    "Firstly we load the dataset files (which are text files in this case). Considering the possibility that these text files might have different encodings (they initially crashed the program as they use `ISO-8859-1`), we use Python's `chardet` library to detect the encoding before reading the file. This ensures that the loading of files doesn't fail due to encoding issues. The data is then shuffled randomly. The shuffling was an easy thing to miss, as previously we had used `train_test_split` from `scikit-learn` to split the data, and it had automatically shuffled the data. The data actually comes nearly sorted by sentiment, so without shuffling the model can't be fine-tuned at all.\n",
    "\n",
    "The files are read in the following way:\n",
    "- Every sentence in the dataset is separated by an '@' delimiter.\n",
    "- There are no headers in the files so they are assigned later as ['sentence', 'label'].\n",
    "- We use pandas' `read_csv` function to read these files.\n",
    "\n",
    "## Step 2: Create a Subset from 'sentences_50agree'\n",
    "\n",
    "The `sentences_50agree` dataset is the largest and most diverse dataset. To avoid overfitting and create a diverse validation set, we create a subset from this dataframe that will later be used for validation/testing. This subset is the same size as the train set.\n",
    "\n",
    "## Step 3: Split the Subset into Validation and Test Sets\n",
    "\n",
    "The subset created from `sentences_50agree` is split into validation and test sets. Here, a stratified sampling is performed to ensure that the split datasets have instances of each class ('positive', 'negative', and 'neutral') in proportions close to their original distribution in the parent dataset. The dataset is split in such way that 31% data is used for validation/testing. We choose 31% as this seems to result in the closest to a 70/15/15 train/validate/test split once the datasets have been assembled.\n",
    "\n",
    "## Step 4: Update the Training Set\n",
    "\n",
    "After obtaining the validation and test sets, we remove sentences present in these sets from the training set. This is done to avoid data leakage and ensure that the model doesn't see any sentence in the training phase that it would later encounter in the validation/testing phase.\n",
    "\n",
    "## Step 5: Further Divide the Validation and Test Sets\n",
    "\n",
    "The validation/test set subset is then divided equally into two parts: one part forms the validation set and the other part forms the test set.\n",
    "\n",
    "## Step 6: Output the Sizes and Percentages\n",
    "\n",
    "Finally, after creating all the datasets, we output the sizes of the train, validation, and test datasets along with their respective percentages to make sure that the classes are as balanced as they can be given the data.\n",
    "\n",
    "This completes our data splitting process ensuring that we have a good mix of data in each dataset and our model does not get biased towards the easy-to-identify financial sentiments."
   ]
  },
  {
   "cell_type": "code",
   "execution_count": 20,
   "metadata": {
    "colab": {
     "base_uri": "https://localhost:8080/"
    },
    "id": "rdg5jiwIkh0j",
    "outputId": "eba2ddda-641b-45a2-d427-7ee1c4549f47"
   },
   "outputs": [
    {
     "name": "stdout",
     "output_type": "stream",
     "text": [
      "Encoding for: Sentences_50Agree.txt is: ISO-8859-1\n",
      "Encoding for: Sentences_AllAgree.txt is: ISO-8859-1\n",
      "\n",
      "Size of Train set: 1948 (73.51%)\n",
      "Size of Validation set: 351 (13.25%)\n",
      "Size of Test set: 351 (13.25%)\n"
     ]
    }
   ],
   "source": [
    "# Load a dataset given its path\n",
    "def load_data(data_path, seed):\n",
    "    raw_data = open(data_path, 'rb').read()\n",
    "    result = chardet.detect(raw_data)\n",
    "    encoding = result['encoding']\n",
    "    print(\"Encoding for:\", data_path, \"is:\", encoding)\n",
    "    df = pd.read_csv(data_path, delimiter='@', header=None, names=['sentence', 'label'], encoding=encoding)\n",
    "    return df.sample(frac=1, random_state=seed)\n",
    "\n",
    "# Load data with correct encoding and delimiter\n",
    "df_50agree = load_data('Sentences_50Agree.txt', seed_val)\n",
    "train = load_data(WHICH_DATASET, seed_val)\n",
    "\n",
    "# Save original count for unit testing purposes\n",
    "original_50agree_count = train.shape[0]\n",
    "\n",
    "# Take a random subset of sentences_50agree equal in size to the size of train dataset\n",
    "subset_50agree = df_50agree.sample(n=len(train), random_state=seed_val)\n",
    "\n",
    "# Randomly choose 31% of the data from this subset for validation/test\n",
    "_, valid_test_subset = train_test_split(subset_50agree, test_size=0.31, random_state=seed_val, stratify=subset_50agree['label'])\n",
    "\n",
    "# Remove items from train dataset that are in the validation/test set\n",
    "train = train[~train['sentence'].isin(valid_test_subset['sentence'])]\n",
    "\n",
    "# Split the validation/test set in half into validation and test set\n",
    "valid, test = train_test_split(valid_test_subset, test_size=0.5, random_state=seed_val, stratify=valid_test_subset['label'])\n",
    "\n",
    "# Load pre-trained BERT tokenizer\n",
    "tokenizer = BertTokenizer.from_pretrained('bert-base-uncased')\n",
    "\n",
    "# Convert texts to BERT input format\n",
    "train_encodings = tokenizer(train.sentence.tolist(), truncation=True, padding=True)\n",
    "val_encodings = tokenizer(valid.sentence.tolist(), truncation=True, padding=True)\n",
    "test_encodings = tokenizer(test.sentence.tolist(), truncation=True, padding=True)\n",
    "\n",
    "def make_tf_dataset(encodings, labels):\n",
    "    \"\"\"Function to convert encodings and labels into tensorflow dataset.\"\"\"\n",
    "    input_ids = np.array(encodings['input_ids'])\n",
    "    attention_mask = np.array(encodings['attention_mask'])\n",
    "    labels = np.array(labels)\n",
    "    return tf.data.Dataset.from_tensor_slices((input_ids, attention_mask, labels)).map(\n",
    "        lambda input_ids, attention_mask, labels : ({\"input_ids\": input_ids, \"attention_mask\": attention_mask}, labels))\n",
    "\n",
    "# Defining the labels keys and their respective values as per the model\n",
    "label2num = {'negative':0,'neutral':1,'positive':2}\n",
    "train_labels = [label2num[x] for x in train.label.tolist()]\n",
    "val_labels = [label2num[x] for x in valid.label.tolist()]\n",
    "test_labels = [label2num[x] for x in test.label.tolist()]\n",
    "\n",
    "# Convert encodings and labels into tensorflow dataset\n",
    "train_dataset = make_tf_dataset(train_encodings, train_labels)\n",
    "val_dataset = make_tf_dataset(val_encodings, val_labels)\n",
    "test_dataset = make_tf_dataset(test_encodings, test_labels)\n",
    "\n",
    "# Print the sizes and percentages\n",
    "total_size = len(train) + len(valid) + len(test)\n",
    "\n",
    "print(\"\\nSize of Train set:\", len(train),\n",
    "      f\"({(len(train)/total_size)*100:.2f}%)\")\n",
    "print(\"Size of Validation set:\", len(valid),\n",
    "      f\"({(len(valid)/total_size)*100:.2f}%)\")\n",
    "print(\"Size of Test set:\", len(test),\n",
    "      f\"({(len(test)/total_size)*100:.2f}%)\")"
   ]
  },
  {
   "cell_type": "markdown",
   "metadata": {
    "id": "UrGO2oGpltm-"
   },
   "source": [
    "# Check out the distribution of the classes to ensure they look balanced across datasets"
   ]
  },
  {
   "cell_type": "code",
   "execution_count": 21,
   "metadata": {
    "colab": {
     "base_uri": "https://localhost:8080/"
    },
    "id": "6vah-_ZflTOd",
    "outputId": "b9128094-1a28-4f49-d0fc-1e7397b6eb59"
   },
   "outputs": [
    {
     "name": "stdout",
     "output_type": "stream",
     "text": [
      "Training set:\n",
      "neutral     1183\n",
      "positive     495\n",
      "negative     270\n",
      "Name: label, dtype: int64\n",
      "\n",
      "Validation set:\n",
      "neutral     216\n",
      "positive     93\n",
      "negative     42\n",
      "Name: label, dtype: int64\n",
      "\n",
      "Test set:\n",
      "neutral     215\n",
      "positive     94\n",
      "negative     42\n",
      "Name: label, dtype: int64\n"
     ]
    }
   ],
   "source": [
    "# Distribution in the Training set\n",
    "print(\"Training set:\")\n",
    "print(train['label'].value_counts())\n",
    "\n",
    "# Distribution in the Validation set\n",
    "print(\"\\nValidation set:\")\n",
    "print(valid['label'].value_counts())\n",
    "\n",
    "# Distribution in the Test set\n",
    "print(\"\\nTest set:\")\n",
    "print(test['label'].value_counts())"
   ]
  },
  {
   "cell_type": "markdown",
   "metadata": {
    "id": "E8iECbfKleGh"
   },
   "source": [
    "# F1 Callback to track F1 Validation"
   ]
  },
  {
   "cell_type": "code",
   "execution_count": 22,
   "metadata": {
    "id": "COXH9yb6v6W7"
   },
   "outputs": [],
   "source": [
    "# Custom callback for F1 evaluation at the end of each epoch\n",
    "class F1_Evaluation(tf.keras.callbacks.Callback):\n",
    "    def __init__(self, validation_data=(), interval=1):\n",
    "        super(F1_Evaluation, self).__init__()\n",
    "        self.interval = interval\n",
    "        self.dataset = validation_data\n",
    "        self.X_val, self.y_val = [], []\n",
    "\n",
    "        # Iterating over the dataset to get batches\n",
    "        for batch in self.dataset:\n",
    "            # Batch consists of inputs and labels\n",
    "            inputs, labels = batch\n",
    "            self.X_val.append(inputs)  # inputs is a dict with keys ['input_ids', 'attention_mask']\n",
    "            self.y_val.append(np.atleast_1d(np.squeeze(labels.numpy())))  # Converting labels tensor to numpy array\n",
    "\n",
    "        self.f1_scores = []\n",
    "\n",
    "    def on_epoch_end(self, epoch, logs={}):\n",
    "        \"\"\"Method called at the end of each epoch, calculating and logging F1 score.\"\"\"\n",
    "        print(\"\\nCalculating validation F1 score...\")\n",
    "        # Process only for epochs with (epoch number modulo self.interval) equal to 0\n",
    "        if epoch % self.interval == 0:\n",
    "            y_pred = []\n",
    "\n",
    "            # Iterate over inputs for each batch to generate predictions\n",
    "            for X_val_batch in self.X_val:\n",
    "                # Redirect stdout and stderr to avoid print statements inside keras.model.predict\n",
    "                with contextlib.redirect_stdout(io.StringIO()), contextlib.redirect_stderr(io.StringIO()):\n",
    "                    y_pred_single = self.model.predict(X_val_batch).logits\n",
    "                # Softmax on logits and take class with maximum probability\n",
    "                y_pred_single = tf.nn.softmax(y_pred_single).numpy().argmax(axis=-1)\n",
    "                # Ensure that y_pred_single is at least a 1D array even if it is a scalar\n",
    "                y_pred.append(np.atleast_1d(y_pred_single))\n",
    "\n",
    "            # Concatenate all predictions and labels\n",
    "            y_pred = np.concatenate(y_pred)\n",
    "            y_val = np.concatenate(self.y_val)\n",
    "\n",
    "            # Calculate F1 score and append to F1 scores list\n",
    "            _f1 = f1_score(y_val, y_pred, average='weighted')\n",
    "            self.f1_scores.append(_f1)\n",
    "\n",
    "            print(\"Epoch: {} - validation_data f1_score: {:.4f}\".format(epoch+1, _f1))\n",
    "\n",
    "             # Log the validation F1 score at the end of each epoch\n",
    "            wandb.log({\"val_f1_score\": _f1})"
   ]
  },
  {
   "cell_type": "code",
   "execution_count": 23,
   "metadata": {
    "colab": {
     "base_uri": "https://localhost:8080/",
     "height": 1000,
     "referenced_widgets": [
      "cc6afc62e6734b7db63557b38d4a7de3",
      "d40dfb7f43404cca842699ca226099a6",
      "74bc358113354bd0826eac78a0144f80",
      "5a2b989137dd4208a5dcc39fcd4ceb00",
      "808513491e3e4d54bbc4e2ee4322f7a9",
      "2f6be30be7e7483cbf42812b1752f438",
      "89a05648fd5041e3b34c07a444edede9",
      "307642ba293d4bf69e9120f996007e93"
     ]
    },
    "id": "4Jr1GaB3Qyqy",
    "outputId": "3c89a41f-b0e2-4a35-f7a4-96f3aa3bbec3"
   },
   "outputs": [
    {
     "name": "stderr",
     "output_type": "stream",
     "text": [
      "\u001b[34m\u001b[1mwandb\u001b[0m: \u001b[33mWARNING\u001b[0m Calling wandb.login() after wandb.init() has no effect.\n",
      "All PyTorch model weights were used when initializing TFBertForSequenceClassification.\n",
      "\n",
      "Some weights or buffers of the TF 2.0 model TFBertForSequenceClassification were not initialized from the PyTorch model and are newly initialized: ['classifier.weight', 'classifier.bias']\n",
      "You should probably TRAIN this model on a down-stream task to be able to use it for predictions and inference.\n"
     ]
    },
    {
     "data": {
      "text/html": [
       "Finishing last run (ID:4ljofy7l) before initializing another..."
      ],
      "text/plain": [
       "<IPython.core.display.HTML object>"
      ]
     },
     "metadata": {},
     "output_type": "display_data"
    },
    {
     "data": {
      "text/html": [
       "Waiting for W&B process to finish... <strong style=\"color:green\">(success).</strong>"
      ],
      "text/plain": [
       "<IPython.core.display.HTML object>"
      ]
     },
     "metadata": {},
     "output_type": "display_data"
    },
    {
     "data": {
      "application/vnd.jupyter.widget-view+json": {
       "model_id": "cc6afc62e6734b7db63557b38d4a7de3",
       "version_major": 2,
       "version_minor": 0
      },
      "text/plain": [
       "VBox(children=(Label(value='0.002 MB of 0.002 MB uploaded (0.000 MB deduped)\\r'), FloatProgress(value=1.0, max…"
      ]
     },
     "metadata": {},
     "output_type": "display_data"
    },
    {
     "data": {
      "text/html": [
       "<style>\n",
       "    table.wandb td:nth-child(1) { padding: 0 10px; text-align: left ; width: auto;} td:nth-child(2) {text-align: left ; width: 100%}\n",
       "    .wandb-row { display: flex; flex-direction: row; flex-wrap: wrap; justify-content: flex-start; width: 100% }\n",
       "    .wandb-col { display: flex; flex-direction: column; flex-basis: 100%; flex: 1; padding: 10px; }\n",
       "    </style>\n",
       "<div class=\"wandb-row\"><div class=\"wandb-col\"><h3>Run history:</h3><br/><table class=\"wandb\"><tr><td>accuracy</td><td>▁▆▇▇▇█████</td></tr><tr><td>epoch</td><td>▁▂▃▃▄▅▆▆▇█</td></tr><tr><td>f1_score</td><td>▁</td></tr><tr><td>loss</td><td>█▃▂▂▂▂▁▁▁▁</td></tr><tr><td>val_accuracy</td><td>▆▆▁▂▇█▄▅▄▅</td></tr><tr><td>val_loss</td><td>▁▃▅▆▄▄▆▆██</td></tr></table><br/></div><div class=\"wandb-col\"><h3>Run summary:</h3><br/><table class=\"wandb\"><tr><td>accuracy</td><td>0.99815</td></tr><tr><td>best_epoch</td><td>0</td></tr><tr><td>best_val_loss</td><td>0.43645</td></tr><tr><td>epoch</td><td>9</td></tr><tr><td>f1_score</td><td>0.79514</td></tr><tr><td>loss</td><td>0.00517</td></tr><tr><td>val_accuracy</td><td>0.83925</td></tr><tr><td>val_loss</td><td>0.96442</td></tr></table><br/></div></div>"
      ],
      "text/plain": [
       "<IPython.core.display.HTML object>"
      ]
     },
     "metadata": {},
     "output_type": "display_data"
    },
    {
     "data": {
      "text/html": [
       " View run <strong style=\"color:#cdcd00\">bert-balanced-75Agree</strong> at: <a href='https://wandb.ai/iankelk/bert-sentiment/runs/4ljofy7l' target=\"_blank\">https://wandb.ai/iankelk/bert-sentiment/runs/4ljofy7l</a><br/>Synced 5 W&B file(s), 1 media file(s), 0 artifact file(s) and 0 other file(s)"
      ],
      "text/plain": [
       "<IPython.core.display.HTML object>"
      ]
     },
     "metadata": {},
     "output_type": "display_data"
    },
    {
     "data": {
      "text/html": [
       "Find logs at: <code>./wandb/run-20231017_220901-4ljofy7l/logs</code>"
      ],
      "text/plain": [
       "<IPython.core.display.HTML object>"
      ]
     },
     "metadata": {},
     "output_type": "display_data"
    },
    {
     "data": {
      "text/html": [
       "Successfully finished last run (ID:4ljofy7l). Initializing new run:<br/>"
      ],
      "text/plain": [
       "<IPython.core.display.HTML object>"
      ]
     },
     "metadata": {},
     "output_type": "display_data"
    },
    {
     "data": {
      "text/html": [
       "Tracking run with wandb version 0.15.12"
      ],
      "text/plain": [
       "<IPython.core.display.HTML object>"
      ]
     },
     "metadata": {},
     "output_type": "display_data"
    },
    {
     "data": {
      "text/html": [
       "Run data is saved locally in <code>/content/wandb/run-20231017_223711-h8m5gouw</code>"
      ],
      "text/plain": [
       "<IPython.core.display.HTML object>"
      ]
     },
     "metadata": {},
     "output_type": "display_data"
    },
    {
     "data": {
      "text/html": [
       "Syncing run <strong><a href='https://wandb.ai/iankelk/bert-sentiment/runs/h8m5gouw' target=\"_blank\">bert-balanced-AllAgree</a></strong> to <a href='https://wandb.ai/iankelk/bert-sentiment' target=\"_blank\">Weights & Biases</a> (<a href='https://wandb.me/run' target=\"_blank\">docs</a>)<br/>"
      ],
      "text/plain": [
       "<IPython.core.display.HTML object>"
      ]
     },
     "metadata": {},
     "output_type": "display_data"
    },
    {
     "data": {
      "text/html": [
       " View project at <a href='https://wandb.ai/iankelk/bert-sentiment' target=\"_blank\">https://wandb.ai/iankelk/bert-sentiment</a>"
      ],
      "text/plain": [
       "<IPython.core.display.HTML object>"
      ]
     },
     "metadata": {},
     "output_type": "display_data"
    },
    {
     "data": {
      "text/html": [
       " View run at <a href='https://wandb.ai/iankelk/bert-sentiment/runs/h8m5gouw' target=\"_blank\">https://wandb.ai/iankelk/bert-sentiment/runs/h8m5gouw</a>"
      ],
      "text/plain": [
       "<IPython.core.display.HTML object>"
      ]
     },
     "metadata": {},
     "output_type": "display_data"
    },
    {
     "name": "stdout",
     "output_type": "stream",
     "text": [
      "Epoch 1/10\n",
      "244/244 [==============================] - ETA: 0s - loss: 0.4175 - accuracy: 0.8357\n",
      "Calculating validation F1 score...\n",
      "Epoch: 1 - validation_data f1_score: 0.8356\n",
      "244/244 [==============================] - 96s 197ms/step - loss: 0.4175 - accuracy: 0.8357 - val_loss: 0.5218 - val_accuracy: 0.8348\n",
      "Epoch 2/10\n",
      "244/244 [==============================] - ETA: 0s - loss: 0.0991 - accuracy: 0.9723\n",
      "Calculating validation F1 score...\n",
      "Epoch: 2 - validation_data f1_score: 0.8592\n",
      "244/244 [==============================] - 31s 126ms/step - loss: 0.0991 - accuracy: 0.9723 - val_loss: 0.5534 - val_accuracy: 0.8604\n",
      "Epoch 3/10\n",
      "244/244 [==============================] - ETA: 0s - loss: 0.0476 - accuracy: 0.9851\n",
      "Calculating validation F1 score...\n",
      "Epoch: 3 - validation_data f1_score: 0.8411\n",
      "244/244 [==============================] - 31s 125ms/step - loss: 0.0476 - accuracy: 0.9851 - val_loss: 0.7003 - val_accuracy: 0.8433\n",
      "Epoch 4/10\n",
      "244/244 [==============================] - ETA: 0s - loss: 0.0407 - accuracy: 0.9887\n",
      "Calculating validation F1 score...\n",
      "Epoch: 4 - validation_data f1_score: 0.8443\n",
      "244/244 [==============================] - 31s 125ms/step - loss: 0.0407 - accuracy: 0.9887 - val_loss: 0.8303 - val_accuracy: 0.8433\n",
      "Epoch 5/10\n",
      "244/244 [==============================] - ETA: 0s - loss: 0.0206 - accuracy: 0.9928\n",
      "Calculating validation F1 score...\n",
      "Epoch: 5 - validation_data f1_score: 0.8437\n",
      "244/244 [==============================] - 31s 125ms/step - loss: 0.0206 - accuracy: 0.9928 - val_loss: 0.8674 - val_accuracy: 0.8462\n",
      "Epoch 6/10\n",
      "244/244 [==============================] - ETA: 0s - loss: 0.0150 - accuracy: 0.9949\n",
      "Calculating validation F1 score...\n",
      "Epoch: 6 - validation_data f1_score: 0.8303\n",
      "244/244 [==============================] - 30s 125ms/step - loss: 0.0150 - accuracy: 0.9949 - val_loss: 0.9882 - val_accuracy: 0.8348\n",
      "Epoch 7/10\n",
      "244/244 [==============================] - ETA: 0s - loss: 0.0333 - accuracy: 0.9913\n",
      "Calculating validation F1 score...\n",
      "Epoch: 7 - validation_data f1_score: 0.8351\n",
      "244/244 [==============================] - 31s 125ms/step - loss: 0.0333 - accuracy: 0.9913 - val_loss: 0.8882 - val_accuracy: 0.8348\n",
      "Epoch 8/10\n",
      "244/244 [==============================] - ETA: 0s - loss: 0.0258 - accuracy: 0.9923\n",
      "Calculating validation F1 score...\n",
      "Epoch: 8 - validation_data f1_score: 0.8358\n",
      "244/244 [==============================] - 31s 125ms/step - loss: 0.0258 - accuracy: 0.9923 - val_loss: 0.7635 - val_accuracy: 0.8376\n",
      "Epoch 9/10\n",
      "244/244 [==============================] - ETA: 0s - loss: 0.0283 - accuracy: 0.9918\n",
      "Calculating validation F1 score...\n",
      "Epoch: 9 - validation_data f1_score: 0.8409\n",
      "244/244 [==============================] - 30s 125ms/step - loss: 0.0283 - accuracy: 0.9918 - val_loss: 0.8910 - val_accuracy: 0.8405\n",
      "Epoch 10/10\n",
      "244/244 [==============================] - ETA: 0s - loss: 0.0296 - accuracy: 0.9938\n",
      "Calculating validation F1 score...\n",
      "Epoch: 10 - validation_data f1_score: 0.8502\n",
      "244/244 [==============================] - 30s 124ms/step - loss: 0.0296 - accuracy: 0.9938 - val_loss: 0.8366 - val_accuracy: 0.8519\n",
      "44/44 [==============================] - 4s 31ms/step\n",
      "              precision    recall  f1-score   support\n",
      "\n",
      "    negative       0.81      0.69      0.74        42\n",
      "     neutral       0.85      0.89      0.87       215\n",
      "    positive       0.78      0.74      0.76        94\n",
      "\n",
      "    accuracy                           0.83       351\n",
      "   macro avg       0.81      0.78      0.79       351\n",
      "weighted avg       0.83      0.83      0.83       351\n",
      "\n",
      "F1 Score: 0.8273187236397939\n"
     ]
    }
   ],
   "source": [
    "# Log in to W&B account for experiment tracking\n",
    "wandb.login()\n",
    "\n",
    "# Load pre-trained BERT model with a classification layer on top\n",
    "model = TFBertForSequenceClassification.from_pretrained('bert-base-uncased', num_labels=3)\n",
    "\n",
    "# Define loss function, optimizer, and metrics\n",
    "loss_fn = keras.losses.SparseCategoricalCrossentropy(from_logits=True)\n",
    "\n",
    "lr_schedule = keras.optimizers.schedules.ExponentialDecay(\n",
    "    initial_learning_rate=3e-5,\n",
    "    decay_steps=10000,\n",
    "    decay_rate=0.9)\n",
    "optimizer = keras.optimizers.Adam(learning_rate=lr_schedule)\n",
    "\n",
    "# optimizer = keras.optimizers.Adam(learning_rate=3e-5)\n",
    "model.compile(optimizer=optimizer, loss=loss_fn, metrics=['accuracy'])\n",
    "\n",
    "# Initializing wandb run\n",
    "wandb.init(project=\"bert-sentiment\", name=WHICH_RUN_NAME)\n",
    "\n",
    "# Prepare for F1 score evaluation\n",
    "val_dataset_temp = val_dataset.batch(8)\n",
    "f1_evaluation = F1_Evaluation(validation_data=val_dataset_temp, interval=1)\n",
    "\n",
    "# Add early stopping (disabled for now)\n",
    "early_stopping = EarlyStopping(monitor='val_loss', patience=2, restore_best_weights=True)\n",
    "\n",
    "# Train the model\n",
    "history = model.fit(\n",
    "    train_dataset.batch(8),\n",
    "    validation_data=val_dataset_temp,\n",
    "    epochs=20,\n",
    "    callbacks=[WandbCallback(save_model=False), f1_evaluation] #, early_stopping]\n",
    ")\n",
    "\n",
    "# Evaluate the model with test dataset and show the classification report\n",
    "y_test = test.label.map(label2num).values\n",
    "y_pred = tf.nn.softmax(model.predict(test_dataset.batch(8)).logits).numpy().argmax(axis=-1)\n",
    "\n",
    "print(classification_report(y_test, y_pred, target_names=['negative', 'neutral', 'positive']))\n",
    "test_f1_score = f1_score(y_test, y_pred, average='weighted')\n",
    "print(\"Test F1 Score:\", test_f1_score)\n",
    "\n",
    "# Log the test F1 score to wandb (single data point)\n",
    "wandb.log({'test_f1_score': test_f1_score})"
   ]
  },
  {
   "cell_type": "markdown",
   "metadata": {},
   "source": [
    "# Plot the training"
   ]
  },
  {
   "cell_type": "code",
   "execution_count": 24,
   "metadata": {
    "colab": {
     "base_uri": "https://localhost:8080/",
     "height": 262
    },
    "id": "wOWjkiL-xin-",
    "outputId": "48afa690-e791-4506-fc50-ff3acefa2d44"
   },
   "outputs": [
    {
     "data": {
      "image/png": "[encoded data removed]",
      "text/plain": [
       "<Figure size 1800x400 with 3 Axes>"
      ]
     },
     "metadata": {},
     "output_type": "display_data"
    }
   ],
   "source": [
    "# Create a figure and a 1x3 subplot\n",
    "fig, axs = plt.subplots(1, 3, figsize=(18, 4))\n",
    "\n",
    "# Plotting loss\n",
    "axs[0].plot(history.history[\"loss\"])\n",
    "axs[0].plot(history.history[\"val_loss\"])\n",
    "axs[0].set_title(\"Model loss\")\n",
    "axs[0].set_ylabel(\"Loss\")\n",
    "axs[0].set_xlabel(\"Epoch\")\n",
    "axs[0].legend([\"Train\", \"Validation\"], loc=\"upper left\")\n",
    "\n",
    "# Plotting accuracy\n",
    "axs[1].plot(history.history[\"accuracy\"])\n",
    "if \"val_accuracy\" in history.history:\n",
    "    axs[1].plot(history.history[\"val_accuracy\"])\n",
    "axs[1].set_title(\"Model accuracy\")\n",
    "axs[1].set_ylabel(\"Accuracy\")\n",
    "axs[1].set_xlabel(\"Epoch\")\n",
    "axs[1].legend([\"Train\", \"Validation\"], loc=\"upper left\")\n",
    "\n",
    "# Plotting Validation F1 Scores\n",
    "axs[2].plot(f1_evaluation.f1_scores)\n",
    "axs[2].set_title(\"Validation F1 Score\")\n",
    "axs[2].set_ylabel(\"F1 Score\")\n",
    "axs[2].set_xlabel(\"Epoch\")\n",
    "axs[2].legend([\"Validation\"], loc=\"upper left\")\n",
    "\n",
    "# Adjusts subplot params so they fit into the figure area\n",
    "plt.tight_layout()\n",
    "plt.show()"
   ]
  },
  {
   "cell_type": "code",
   "execution_count": null,
   "metadata": {},
   "outputs": [],
   "source": [
    "def plot_training_process(history, f1_scores):\n",
    "    fig, axs = plt.subplots(2, 2, figsize=(18, 8),\n",
    "                            gridspec_kw={'height_ratios': [2, 1]})\n",
    "\n",
    "    # Collapse the subplots for the F1 scores into a single subplot\n",
    "    axs[1, 0].remove()\n",
    "    axs[1, 1].remove()\n",
    "\n",
    "    # Plotting training and validation loss\n",
    "    axs[0, 0].plot(history.history[\"loss\"], label='Train')\n",
    "    axs[0, 0].plot(history.history[\"val_loss\"], label='Validation')\n",
    "    axs[0, 0].set_title(\"Model Loss\")\n",
    "    axs[0, 0].set_ylabel(\"Loss\")\n",
    "    axs[0, 0].set_xlabel(\"Epoch\")\n",
    "    axs[0, 0].legend()\n",
    "\n",
    "    # Plotting training and validation accuracy\n",
    "    axs[0, 1].plot(history.history[\"accuracy\"], label='Train')\n",
    "    if \"val_accuracy\" in history.history:\n",
    "        axs[0, 1].plot(history.history[\"val_accuracy\"], label='Validation')\n",
    "    axs[0, 1].set_title(\"Model Accuracy\")\n",
    "    axs[0, 1].set_ylabel(\"Accuracy\")\n",
    "    axs[0, 1].set_xlabel(\"Epoch\")\n",
    "    axs[0, 1].legend()\n",
    "\n",
    "    # Plotting Validation F1 Scores\n",
    "    ax2 = fig.add_subplot(2, 1, 2)  # 2x1, occupying the second slot.\n",
    "    ax2.plot(f1_scores)\n",
    "    ax2.set_title(\"Validation F1 Score\")\n",
    "    ax2.set_ylabel(\"F1 Score\")\n",
    "    ax2.set_xlabel(\"Epoch\")\n",
    "    ax2.legend([\"F1 Score\"], loc=\"upper left\")\n",
    "\n",
    "    # Improve layout and show plots\n",
    "    plt.subplots_adjust(hspace=0.6)\n",
    "    plt.show()"
   ]
  },
  {
   "cell_type": "code",
   "execution_count": null,
   "metadata": {},
   "outputs": [],
   "source": [
    "plot_training_process(history, f1_evaluation.f1_scores)"
   ]
  }
 ],
 "metadata": {
  "accelerator": "GPU",
  "colab": {
   "gpuType": "V100",
   "machine_shape": "hm",
   "provenance": []
  },
  "kernelspec": {
   "display_name": "Python 3",
   "language": "python",
   "name": "python3"
  },
  "language_info": {
   "codemirror_mode": {
    "name": "ipython",
    "version": 3
   },
   "file_extension": ".py",
   "mimetype": "text/x-python",
   "name": "python",
   "nbconvert_exporter": "python",
   "pygments_lexer": "ipython3",
   "version": "3.11.4"
  },
  "widgets": {
   "application/vnd.jupyter.widget-state+json": {
    "2f6be30be7e7483cbf42812b1752f438": {
     "model_module": "@jupyter-widgets/controls",
     "model_module_version": "1.5.0",
     "model_name": "DescriptionStyleModel",
     "state": {
      "_model_module": "@jupyter-widgets/controls",
      "_model_module_version": "1.5.0",
      "_model_name": "DescriptionStyleModel",
      "_view_count": null,
      "_view_module": "@jupyter-widgets/base",
      "_view_module_version": "1.2.0",
      "_view_name": "StyleView",
      "description_width": ""
     }
    },
    "307642ba293d4bf69e9120f996007e93": {
     "model_module": "@jupyter-widgets/controls",
     "model_module_version": "1.5.0",
     "model_name": "ProgressStyleModel",
     "state": {
      "_model_module": "@jupyter-widgets/controls",
      "_model_module_version": "1.5.0",
      "_model_name": "ProgressStyleModel",
      "_view_count": null,
      "_view_module": "@jupyter-widgets/base",
      "_view_module_version": "1.2.0",
      "_view_name": "StyleView",
      "bar_color": null,
      "description_width": ""
     }
    },
    "5a2b989137dd4208a5dcc39fcd4ceb00": {
     "model_module": "@jupyter-widgets/base",
     "model_module_version": "1.2.0",
     "model_name": "LayoutModel",
     "state": {
      "_model_module": "@jupyter-widgets/base",
      "_model_module_version": "1.2.0",
      "_model_name": "LayoutModel",
      "_view_count": null,
      "_view_module": "@jupyter-widgets/base",
      "_view_module_version": "1.2.0",
      "_view_name": "LayoutView",
      "align_content": null,
      "align_items": null,
      "align_self": null,
      "border": null,
      "bottom": null,
      "display": null,
      "flex": null,
      "flex_flow": null,
      "grid_area": null,
      "grid_auto_columns": null,
      "grid_auto_flow": null,
      "grid_auto_rows": null,
      "grid_column": null,
      "grid_gap": null,
      "grid_row": null,
      "grid_template_areas": null,
      "grid_template_columns": null,
      "grid_template_rows": null,
      "height": null,
      "justify_content": null,
      "justify_items": null,
      "left": null,
      "margin": null,
      "max_height": null,
      "max_width": null,
      "min_height": null,
      "min_width": null,
      "object_fit": null,
      "object_position": null,
      "order": null,
      "overflow": null,
      "overflow_x": null,
      "overflow_y": null,
      "padding": null,
      "right": null,
      "top": null,
      "visibility": null,
      "width": null
     }
    },
    "74bc358113354bd0826eac78a0144f80": {
     "model_module": "@jupyter-widgets/controls",
     "model_module_version": "1.5.0",
     "model_name": "FloatProgressModel",
     "state": {
      "_dom_classes": [],
      "_model_module": "@jupyter-widgets/controls",
      "_model_module_version": "1.5.0",
      "_model_name": "FloatProgressModel",
      "_view_count": null,
      "_view_module": "@jupyter-widgets/controls",
      "_view_module_version": "1.5.0",
      "_view_name": "ProgressView",
      "bar_style": "",
      "description": "",
      "description_tooltip": null,
      "layout": "IPY_MODEL_89a05648fd5041e3b34c07a444edede9",
      "max": 1,
      "min": 0,
      "orientation": "horizontal",
      "style": "IPY_MODEL_307642ba293d4bf69e9120f996007e93",
      "value": 0.10619925852925993
     }
    },
    "808513491e3e4d54bbc4e2ee4322f7a9": {
     "model_module": "@jupyter-widgets/base",
     "model_module_version": "1.2.0",
     "model_name": "LayoutModel",
     "state": {
      "_model_module": "@jupyter-widgets/base",
      "_model_module_version": "1.2.0",
      "_model_name": "LayoutModel",
      "_view_count": null,
      "_view_module": "@jupyter-widgets/base",
      "_view_module_version": "1.2.0",
      "_view_name": "LayoutView",
      "align_content": null,
      "align_items": null,
      "align_self": null,
      "border": null,
      "bottom": null,
      "display": null,
      "flex": null,
      "flex_flow": null,
      "grid_area": null,
      "grid_auto_columns": null,
      "grid_auto_flow": null,
      "grid_auto_rows": null,
      "grid_column": null,
      "grid_gap": null,
      "grid_row": null,
      "grid_template_areas": null,
      "grid_template_columns": null,
      "grid_template_rows": null,
      "height": null,
      "justify_content": null,
      "justify_items": null,
      "left": null,
      "margin": null,
      "max_height": null,
      "max_width": null,
      "min_height": null,
      "min_width": null,
      "object_fit": null,
      "object_position": null,
      "order": null,
      "overflow": null,
      "overflow_x": null,
      "overflow_y": null,
      "padding": null,
      "right": null,
      "top": null,
      "visibility": null,
      "width": null
     }
    },
    "89a05648fd5041e3b34c07a444edede9": {
     "model_module": "@jupyter-widgets/base",
     "model_module_version": "1.2.0",
     "model_name": "LayoutModel",
     "state": {
      "_model_module": "@jupyter-widgets/base",
      "_model_module_version": "1.2.0",
      "_model_name": "LayoutModel",
      "_view_count": null,
      "_view_module": "@jupyter-widgets/base",
      "_view_module_version": "1.2.0",
      "_view_name": "LayoutView",
      "align_content": null,
      "align_items": null,
      "align_self": null,
      "border": null,
      "bottom": null,
      "display": null,
      "flex": null,
      "flex_flow": null,
      "grid_area": null,
      "grid_auto_columns": null,
      "grid_auto_flow": null,
      "grid_auto_rows": null,
      "grid_column": null,
      "grid_gap": null,
      "grid_row": null,
      "grid_template_areas": null,
      "grid_template_columns": null,
      "grid_template_rows": null,
      "height": null,
      "justify_content": null,
      "justify_items": null,
      "left": null,
      "margin": null,
      "max_height": null,
      "max_width": null,
      "min_height": null,
      "min_width": null,
      "object_fit": null,
      "object_position": null,
      "order": null,
      "overflow": null,
      "overflow_x": null,
      "overflow_y": null,
      "padding": null,
      "right": null,
      "top": null,
      "visibility": null,
      "width": null
     }
    },
    "cc6afc62e6734b7db63557b38d4a7de3": {
     "model_module": "@jupyter-widgets/controls",
     "model_module_version": "1.5.0",
     "model_name": "VBoxModel",
     "state": {
      "_dom_classes": [],
      "_model_module": "@jupyter-widgets/controls",
      "_model_module_version": "1.5.0",
      "_model_name": "VBoxModel",
      "_view_count": null,
      "_view_module": "@jupyter-widgets/controls",
      "_view_module_version": "1.5.0",
      "_view_name": "VBoxView",
      "box_style": "",
      "children": [
       "IPY_MODEL_d40dfb7f43404cca842699ca226099a6",
       "IPY_MODEL_74bc358113354bd0826eac78a0144f80"
      ],
      "layout": "IPY_MODEL_5a2b989137dd4208a5dcc39fcd4ceb00"
     }
    },
    "d40dfb7f43404cca842699ca226099a6": {
     "model_module": "@jupyter-widgets/controls",
     "model_module_version": "1.5.0",
     "model_name": "LabelModel",
     "state": {
      "_dom_classes": [],
      "_model_module": "@jupyter-widgets/controls",
      "_model_module_version": "1.5.0",
      "_model_name": "LabelModel",
      "_view_count": null,
      "_view_module": "@jupyter-widgets/controls",
      "_view_module_version": "1.5.0",
      "_view_name": "LabelView",
      "description": "",
      "description_tooltip": null,
      "layout": "IPY_MODEL_808513491e3e4d54bbc4e2ee4322f7a9",
      "placeholder": "​",
      "style": "IPY_MODEL_2f6be30be7e7483cbf42812b1752f438",
      "value": "0.002 MB of 0.020 MB uploaded (0.000 MB deduped)\r"
     }
    }
   }
  }
 },
 "nbformat": 4,
 "nbformat_minor": 1
}

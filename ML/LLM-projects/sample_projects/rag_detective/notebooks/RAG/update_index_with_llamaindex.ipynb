{
 "cells": [
  {
   "cell_type": "markdown",
   "id": "1e20939b",
   "metadata": {
    "pycharm": {
     "name": "#%% md\n"
    }
   },
   "source": [
    "# Indexing Stage\n",
    "In the initial indexing stage, text data must be first collected as documents and metadata. In this implementation, this is performed by the scraping of website. This data must be then split into \"nodes\", which is a represents a \"chunk\" or part of the data containing a certain portion of information. Nodes must are then indexed via an embedding model, where we plan on using OpenAI's Ada v2 embedding model. The embeddings and metadata together create a rich representation to aid in retrieval."
   ]
  },
  {
   "cell_type": "code",
   "execution_count": 1,
   "id": "59a59cf0",
   "metadata": {
    "pycharm": {
     "name": "#%%\n"
    }
   },
   "outputs": [],
   "source": [
    "# Suppress Pydantic warnings since it's based in llamaindex\n",
    "import warnings\n",
    "warnings.filterwarnings('ignore', category=DeprecationWarning)"
   ]
  },
  {
   "cell_type": "markdown",
   "id": "5b6d6a8a",
   "metadata": {
    "pycharm": {
     "name": "#%% md\n"
    }
   },
   "source": [
    "## Hard-coded stuff in this cell that will be replaced in the cloud function\n",
    "* OPEN AI Key will be an environment variable\n",
    "* Weaviate IP address that we will work on finding programmatically"
   ]
  },
  {
   "cell_type": "code",
   "execution_count": 2,
   "id": "84a80948",
   "metadata": {
    "scrolled": true,
    "pycharm": {
     "name": "#%%\n"
    }
   },
   "outputs": [],
   "source": [
    "# !pip install weaviate-client\n",
    "# !pip install openai\n",
    "# !pip install llama-index\n",
    "# !pip install python-dotenv\n",
    "\n",
    "import weaviate\n",
    "import pandas as pd\n",
    "import os\n",
    "\n",
    "from dotenv import load_dotenv\n",
    "from datetime import datetime, timezone\n",
    "from llama_index import Document\n",
    "# Suppress Pydantic warnings\n",
    "import warnings\n",
    "warnings.simplefilter(action='ignore', category=Warning)\n",
    "\n",
    "\n",
    "from llama_index.node_parser import SimpleNodeParser\n",
    "from llama_index.storage.storage_context import StorageContext\n",
    "from llama_index.vector_stores.weaviate import WeaviateVectorStore\n",
    "from llama_index.indices.vector_store.base import VectorStoreIndex\n",
    "from llama_index.vector_stores.types import ExactMatchFilter, MetadataFilters\n",
    "\n",
    "# Load the .env file\n",
    "load_dotenv()\n",
    "\n",
    "# Retrieve the OpenAI API key from the environment variables\n",
    "OPENAI_KEY = os.getenv(\"OPENAI_KEY\")\n",
    "\n",
    "# Set the OpenAI key as an Environment Variable (for when it's run on GCS)\n",
    "os.environ[\"OPENAI_API_KEY\"] = OPENAI_KEY\n",
    "\n",
    "# Current Weaviate IP\n",
    "WEAVIATE_IP_ADDRESS = \"34.42.138.162\""
   ]
  },
  {
   "cell_type": "code",
   "execution_count": 3,
   "id": "3098de2b",
   "metadata": {
    "pycharm": {
     "name": "#%%\n"
    }
   },
   "outputs": [],
   "source": [
    "def create_date(date_string):\n",
    "    \"\"\"\n",
    "    Convert a date string to RFC 3339 formatted string with timezone.\n",
    "\n",
    "    Parameters:\n",
    "    - date_string (str): Input date string in the format \"%Y-%m-%dT%H-%M-%S\".\n",
    "\n",
    "    Returns:\n",
    "    - str: RFC 3339 formatted date-time string.\n",
    "    \"\"\"\n",
    "    dt_object = datetime.strptime(date_string, \"%Y-%m-%dT%H-%M-%S\")\n",
    "    # convert datetime object to RFC 3339 string (with timezone)\n",
    "    rfc3339_string = dt_object.replace(tzinfo=timezone.utc).isoformat()\n",
    "    return rfc3339_string"
   ]
  },
  {
   "cell_type": "code",
   "execution_count": 4,
   "id": "391e5e75",
   "metadata": {
    "pycharm": {
     "name": "#%%\n"
    }
   },
   "outputs": [],
   "source": [
    "client = weaviate.Client(url=\"http://\" + WEAVIATE_IP_ADDRESS + \":8080\")\n",
    "\n",
    "# # Delete existing schema (caution: this deletes the current structure)\n",
    "# client.schema.delete_all()\n",
    "\n",
    "# # Here we use the schema created in the previous cell.\n",
    "# client.schema.create(schema)\n",
    "# print(\"Schema was created.\")"
   ]
  },
  {
   "cell_type": "markdown",
   "id": "e7618991",
   "metadata": {
    "pycharm": {
     "name": "#%% md\n"
    }
   },
   "source": [
    "## Hard-coded stuff in this cell that will be replaced in the cloud function\n",
    "* data_directory will be the bucket\n",
    "* csv_file will be the new file added to the bucket"
   ]
  },
  {
   "cell_type": "code",
   "execution_count": 5,
   "id": "6967b267",
   "metadata": {
    "pycharm": {
     "name": "#%%\n"
    }
   },
   "outputs": [],
   "source": [
    "data_directory = \"./sample_data\"\n",
    "csv_file = 'descript.com_2023-10-07T06-47-45.csv'\n",
    "# Get the website address and timestamp from the filename\n",
    "websiteAddress, timestamp = csv_file.rsplit('.', 1)[0].split('_')\n",
    "\n",
    "# Read in the CSV\n",
    "df = pd.read_csv(data_directory + \"/\" + csv_file)\n",
    "\n",
    "# Manually assemble the documents\n",
    "documents = []\n",
    "for _, row in df.iterrows():\n",
    "    document = Document(\n",
    "        text=row['text'],\n",
    "        metadata={\n",
    "            'websiteAddress': websiteAddress,\n",
    "            'timestamp': timestamp\n",
    "        }\n",
    "    )\n",
    "    document.doc_id = row['key']\n",
    "    documents.append(document)"
   ]
  },
  {
   "cell_type": "code",
   "execution_count": 6,
   "id": "ca13d9dc",
   "metadata": {
    "pycharm": {
     "name": "#%%\n"
    }
   },
   "outputs": [],
   "source": [
    "vector_store = WeaviateVectorStore(\n",
    "    weaviate_client=client,\n",
    "    index_name=\"Pages\",\n",
    "    text_key=\"text\"\n",
    ")\n",
    "\n",
    "index = VectorStoreIndex.from_vector_store(\n",
    "    vector_store=vector_store,\n",
    "    service_context=None\n",
    ")\n",
    "\n",
    "for document in documents:\n",
    "    index.insert(document)"
   ]
  },
  {
   "cell_type": "code",
   "execution_count": 7,
   "id": "439fcff2",
   "metadata": {
    "pycharm": {
     "name": "#%%\n"
    }
   },
   "outputs": [
    {
     "data": {
      "text/plain": [
       "187"
      ]
     },
     "execution_count": 7,
     "metadata": {},
     "output_type": "execute_result"
    }
   ],
   "source": [
    "len(documents)"
   ]
  }
 ],
 "metadata": {
  "kernelspec": {
   "display_name": "Python 3",
   "language": "python",
   "name": "python3"
  },
  "language_info": {
   "codemirror_mode": {
    "name": "ipython",
    "version": 3
   },
   "file_extension": ".py",
   "mimetype": "text/x-python",
   "name": "python",
   "nbconvert_exporter": "python",
   "pygments_lexer": "ipython3",
   "version": "3.11.5"
  }
 },
 "nbformat": 4,
 "nbformat_minor": 5
}
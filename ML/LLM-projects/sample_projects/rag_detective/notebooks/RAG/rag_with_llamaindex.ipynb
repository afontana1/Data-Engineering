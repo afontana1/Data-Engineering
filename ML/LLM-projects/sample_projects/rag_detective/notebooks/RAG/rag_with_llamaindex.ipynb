{
 "cells": [
  {
   "cell_type": "markdown",
   "id": "10a14d6e",
   "metadata": {},
   "source": [
    "# Rag Indexing and Querying Together Example\n",
    "\n",
    "This is a working notebook to write and test the code that is used in our Google Cloud function.\n",
    "\n",
    "## Indexing Stage\n",
    "In the initial indexing stage, text data must be first collected as documents and metadata. In this implementation, this is performed by the scraping of website. This data must be then split into \"nodes\", which is a represents a \"chunk\" or part of the data containing a certain portion of information. Nodes must are then indexed via an embedding model, where we plan on using OpenAI's Ada v2 embedding model. The embeddings and metadata together create a rich representation to aid in retrieval."
   ]
  },
  {
   "cell_type": "code",
   "execution_count": 1,
   "id": "69daa7ec",
   "metadata": {},
   "outputs": [],
   "source": [
    "# Suppress Pydantic warnings since it's based in llamaindex\n",
    "import warnings\n",
    "warnings.filterwarnings('ignore', category=DeprecationWarning)"
   ]
  },
  {
   "cell_type": "markdown",
   "id": "3bc7caf8",
   "metadata": {},
   "source": [
    "## Hard-coded stuff in this cell that will be replaced in the cloud function\n",
    "* OPEN AI Key will be an environment variable\n",
    "* Weaviate IP address that we will work on finding programmatically"
   ]
  },
  {
   "cell_type": "code",
   "execution_count": 2,
   "id": "84a80948",
   "metadata": {
    "scrolled": true
   },
   "outputs": [
    {
     "name": "stdout",
     "output_type": "stream",
     "text": [
      "Requirement already satisfied: weaviate-client in /Users/iankelk/anaconda3/lib/python3.11/site-packages (3.24.1)\n",
      "Requirement already satisfied: requests<3.0.0,>=2.30.0 in /Users/iankelk/anaconda3/lib/python3.11/site-packages (from weaviate-client) (2.31.0)\n",
      "Requirement already satisfied: validators<1.0.0,>=0.21.2 in /Users/iankelk/anaconda3/lib/python3.11/site-packages (from weaviate-client) (0.22.0)\n",
      "Requirement already satisfied: authlib<2.0.0,>=1.2.1 in /Users/iankelk/anaconda3/lib/python3.11/site-packages (from weaviate-client) (1.2.1)\n",
      "Requirement already satisfied: cryptography>=3.2 in /Users/iankelk/anaconda3/lib/python3.11/site-packages (from authlib<2.0.0,>=1.2.1->weaviate-client) (41.0.2)\n",
      "Requirement already satisfied: charset-normalizer<4,>=2 in /Users/iankelk/anaconda3/lib/python3.11/site-packages (from requests<3.0.0,>=2.30.0->weaviate-client) (2.0.4)\n",
      "Requirement already satisfied: idna<4,>=2.5 in /Users/iankelk/anaconda3/lib/python3.11/site-packages (from requests<3.0.0,>=2.30.0->weaviate-client) (3.4)\n",
      "Requirement already satisfied: urllib3<3,>=1.21.1 in /Users/iankelk/anaconda3/lib/python3.11/site-packages (from requests<3.0.0,>=2.30.0->weaviate-client) (1.26.16)\n",
      "Requirement already satisfied: certifi>=2017.4.17 in /Users/iankelk/anaconda3/lib/python3.11/site-packages (from requests<3.0.0,>=2.30.0->weaviate-client) (2023.7.22)\n",
      "Requirement already satisfied: cffi>=1.12 in /Users/iankelk/anaconda3/lib/python3.11/site-packages (from cryptography>=3.2->authlib<2.0.0,>=1.2.1->weaviate-client) (1.15.1)\n",
      "Requirement already satisfied: pycparser in /Users/iankelk/anaconda3/lib/python3.11/site-packages (from cffi>=1.12->cryptography>=3.2->authlib<2.0.0,>=1.2.1->weaviate-client) (2.21)\n",
      "Requirement already satisfied: openai in /Users/iankelk/anaconda3/lib/python3.11/site-packages (0.28.1)\n",
      "Requirement already satisfied: requests>=2.20 in /Users/iankelk/anaconda3/lib/python3.11/site-packages (from openai) (2.31.0)\n",
      "Requirement already satisfied: tqdm in /Users/iankelk/anaconda3/lib/python3.11/site-packages (from openai) (4.64.1)\n",
      "Requirement already satisfied: aiohttp in /Users/iankelk/anaconda3/lib/python3.11/site-packages (from openai) (3.8.3)\n",
      "Requirement already satisfied: charset-normalizer<4,>=2 in /Users/iankelk/anaconda3/lib/python3.11/site-packages (from requests>=2.20->openai) (2.0.4)\n",
      "Requirement already satisfied: idna<4,>=2.5 in /Users/iankelk/anaconda3/lib/python3.11/site-packages (from requests>=2.20->openai) (3.4)\n",
      "Requirement already satisfied: urllib3<3,>=1.21.1 in /Users/iankelk/anaconda3/lib/python3.11/site-packages (from requests>=2.20->openai) (1.26.16)\n",
      "Requirement already satisfied: certifi>=2017.4.17 in /Users/iankelk/anaconda3/lib/python3.11/site-packages (from requests>=2.20->openai) (2023.7.22)\n",
      "Requirement already satisfied: attrs>=17.3.0 in /Users/iankelk/anaconda3/lib/python3.11/site-packages (from aiohttp->openai) (22.1.0)\n",
      "Requirement already satisfied: multidict<7.0,>=4.5 in /Users/iankelk/anaconda3/lib/python3.11/site-packages (from aiohttp->openai) (6.0.2)\n",
      "Requirement already satisfied: async-timeout<5.0,>=4.0.0a3 in /Users/iankelk/anaconda3/lib/python3.11/site-packages (from aiohttp->openai) (4.0.2)\n",
      "Requirement already satisfied: yarl<2.0,>=1.0 in /Users/iankelk/anaconda3/lib/python3.11/site-packages (from aiohttp->openai) (1.8.1)\n",
      "Requirement already satisfied: frozenlist>=1.1.1 in /Users/iankelk/anaconda3/lib/python3.11/site-packages (from aiohttp->openai) (1.3.3)\n",
      "Requirement already satisfied: aiosignal>=1.1.2 in /Users/iankelk/anaconda3/lib/python3.11/site-packages (from aiohttp->openai) (1.2.0)\n",
      "Requirement already satisfied: llama-index in /Users/iankelk/anaconda3/lib/python3.11/site-packages (0.8.51.post1)\n",
      "Requirement already satisfied: SQLAlchemy[asyncio]>=1.4.49 in /Users/iankelk/anaconda3/lib/python3.11/site-packages (from llama-index) (2.0.22)\n",
      "Requirement already satisfied: aiostream<0.6.0,>=0.5.2 in /Users/iankelk/anaconda3/lib/python3.11/site-packages (from llama-index) (0.5.2)\n",
      "Requirement already satisfied: dataclasses-json<0.6.0,>=0.5.7 in /Users/iankelk/anaconda3/lib/python3.11/site-packages (from llama-index) (0.5.14)\n",
      "Requirement already satisfied: deprecated>=1.2.9.3 in /Users/iankelk/anaconda3/lib/python3.11/site-packages (from llama-index) (1.2.14)\n",
      "Requirement already satisfied: fsspec>=2023.5.0 in /Users/iankelk/anaconda3/lib/python3.11/site-packages (from llama-index) (2023.10.0)\n",
      "Requirement already satisfied: langchain>=0.0.303 in /Users/iankelk/anaconda3/lib/python3.11/site-packages (from llama-index) (0.0.323)\n",
      "Requirement already satisfied: nest-asyncio<2.0.0,>=1.5.8 in /Users/iankelk/anaconda3/lib/python3.11/site-packages (from llama-index) (1.5.8)\n",
      "Requirement already satisfied: nltk<4.0.0,>=3.8.1 in /Users/iankelk/anaconda3/lib/python3.11/site-packages (from llama-index) (3.8.1)\n",
      "Requirement already satisfied: numpy in /Users/iankelk/anaconda3/lib/python3.11/site-packages (from llama-index) (1.24.3)\n",
      "Requirement already satisfied: openai>=0.26.4 in /Users/iankelk/anaconda3/lib/python3.11/site-packages (from llama-index) (0.28.1)\n",
      "Requirement already satisfied: pandas in /Users/iankelk/anaconda3/lib/python3.11/site-packages (from llama-index) (1.5.3)\n",
      "Requirement already satisfied: tenacity<9.0.0,>=8.2.0 in /Users/iankelk/anaconda3/lib/python3.11/site-packages (from llama-index) (8.2.2)\n",
      "Requirement already satisfied: tiktoken>=0.3.3 in /Users/iankelk/anaconda3/lib/python3.11/site-packages (from llama-index) (0.5.1)\n",
      "Requirement already satisfied: typing-extensions>=4.5.0 in /Users/iankelk/anaconda3/lib/python3.11/site-packages (from llama-index) (4.7.1)\n",
      "Requirement already satisfied: typing-inspect>=0.8.0 in /Users/iankelk/anaconda3/lib/python3.11/site-packages (from llama-index) (0.9.0)\n",
      "Requirement already satisfied: urllib3<2 in /Users/iankelk/anaconda3/lib/python3.11/site-packages (from llama-index) (1.26.16)\n",
      "Requirement already satisfied: marshmallow<4.0.0,>=3.18.0 in /Users/iankelk/anaconda3/lib/python3.11/site-packages (from dataclasses-json<0.6.0,>=0.5.7->llama-index) (3.20.1)\n",
      "Requirement already satisfied: wrapt<2,>=1.10 in /Users/iankelk/anaconda3/lib/python3.11/site-packages (from deprecated>=1.2.9.3->llama-index) (1.14.1)\n",
      "Requirement already satisfied: PyYAML>=5.3 in /Users/iankelk/anaconda3/lib/python3.11/site-packages (from langchain>=0.0.303->llama-index) (6.0.1)\n",
      "Requirement already satisfied: aiohttp<4.0.0,>=3.8.3 in /Users/iankelk/anaconda3/lib/python3.11/site-packages (from langchain>=0.0.303->llama-index) (3.8.3)\n",
      "Requirement already satisfied: anyio<4.0 in /Users/iankelk/anaconda3/lib/python3.11/site-packages (from langchain>=0.0.303->llama-index) (3.5.0)\n",
      "Requirement already satisfied: jsonpatch<2.0,>=1.33 in /Users/iankelk/anaconda3/lib/python3.11/site-packages (from langchain>=0.0.303->llama-index) (1.33)\n",
      "Requirement already satisfied: langsmith<0.1.0,>=0.0.43 in /Users/iankelk/anaconda3/lib/python3.11/site-packages (from langchain>=0.0.303->llama-index) (0.0.52)\n",
      "Requirement already satisfied: pydantic<3,>=1 in /Users/iankelk/anaconda3/lib/python3.11/site-packages (from langchain>=0.0.303->llama-index) (2.4.2)\n",
      "Requirement already satisfied: requests<3,>=2 in /Users/iankelk/anaconda3/lib/python3.11/site-packages (from langchain>=0.0.303->llama-index) (2.31.0)\n",
      "Requirement already satisfied: click in /Users/iankelk/anaconda3/lib/python3.11/site-packages (from nltk<4.0.0,>=3.8.1->llama-index) (8.0.4)\n",
      "Requirement already satisfied: joblib in /Users/iankelk/anaconda3/lib/python3.11/site-packages (from nltk<4.0.0,>=3.8.1->llama-index) (1.2.0)\n",
      "Requirement already satisfied: regex>=2021.8.3 in /Users/iankelk/anaconda3/lib/python3.11/site-packages (from nltk<4.0.0,>=3.8.1->llama-index) (2022.7.9)\n",
      "Requirement already satisfied: tqdm in /Users/iankelk/anaconda3/lib/python3.11/site-packages (from nltk<4.0.0,>=3.8.1->llama-index) (4.64.1)\n",
      "Requirement already satisfied: greenlet!=0.4.17 in /Users/iankelk/anaconda3/lib/python3.11/site-packages (from SQLAlchemy[asyncio]>=1.4.49->llama-index) (2.0.1)\n",
      "Requirement already satisfied: mypy-extensions>=0.3.0 in /Users/iankelk/anaconda3/lib/python3.11/site-packages (from typing-inspect>=0.8.0->llama-index) (0.4.3)\n",
      "Requirement already satisfied: python-dateutil>=2.8.1 in /Users/iankelk/anaconda3/lib/python3.11/site-packages (from pandas->llama-index) (2.8.2)\n",
      "Requirement already satisfied: pytz>=2020.1 in /Users/iankelk/anaconda3/lib/python3.11/site-packages (from pandas->llama-index) (2022.7)\n"
     ]
    },
    {
     "name": "stdout",
     "output_type": "stream",
     "text": [
      "Requirement already satisfied: attrs>=17.3.0 in /Users/iankelk/anaconda3/lib/python3.11/site-packages (from aiohttp<4.0.0,>=3.8.3->langchain>=0.0.303->llama-index) (22.1.0)\n",
      "Requirement already satisfied: charset-normalizer<3.0,>=2.0 in /Users/iankelk/anaconda3/lib/python3.11/site-packages (from aiohttp<4.0.0,>=3.8.3->langchain>=0.0.303->llama-index) (2.0.4)\n",
      "Requirement already satisfied: multidict<7.0,>=4.5 in /Users/iankelk/anaconda3/lib/python3.11/site-packages (from aiohttp<4.0.0,>=3.8.3->langchain>=0.0.303->llama-index) (6.0.2)\n",
      "Requirement already satisfied: async-timeout<5.0,>=4.0.0a3 in /Users/iankelk/anaconda3/lib/python3.11/site-packages (from aiohttp<4.0.0,>=3.8.3->langchain>=0.0.303->llama-index) (4.0.2)\n",
      "Requirement already satisfied: yarl<2.0,>=1.0 in /Users/iankelk/anaconda3/lib/python3.11/site-packages (from aiohttp<4.0.0,>=3.8.3->langchain>=0.0.303->llama-index) (1.8.1)\n",
      "Requirement already satisfied: frozenlist>=1.1.1 in /Users/iankelk/anaconda3/lib/python3.11/site-packages (from aiohttp<4.0.0,>=3.8.3->langchain>=0.0.303->llama-index) (1.3.3)\n",
      "Requirement already satisfied: aiosignal>=1.1.2 in /Users/iankelk/anaconda3/lib/python3.11/site-packages (from aiohttp<4.0.0,>=3.8.3->langchain>=0.0.303->llama-index) (1.2.0)\n",
      "Requirement already satisfied: idna>=2.8 in /Users/iankelk/anaconda3/lib/python3.11/site-packages (from anyio<4.0->langchain>=0.0.303->llama-index) (3.4)\n",
      "Requirement already satisfied: sniffio>=1.1 in /Users/iankelk/anaconda3/lib/python3.11/site-packages (from anyio<4.0->langchain>=0.0.303->llama-index) (1.2.0)\n",
      "Requirement already satisfied: jsonpointer>=1.9 in /Users/iankelk/anaconda3/lib/python3.11/site-packages (from jsonpatch<2.0,>=1.33->langchain>=0.0.303->llama-index) (2.1)\n",
      "Requirement already satisfied: packaging>=17.0 in /Users/iankelk/anaconda3/lib/python3.11/site-packages (from marshmallow<4.0.0,>=3.18.0->dataclasses-json<0.6.0,>=0.5.7->llama-index) (23.0)\n",
      "Requirement already satisfied: annotated-types>=0.4.0 in /Users/iankelk/anaconda3/lib/python3.11/site-packages (from pydantic<3,>=1->langchain>=0.0.303->llama-index) (0.6.0)\n",
      "Requirement already satisfied: pydantic-core==2.10.1 in /Users/iankelk/anaconda3/lib/python3.11/site-packages (from pydantic<3,>=1->langchain>=0.0.303->llama-index) (2.10.1)\n",
      "Requirement already satisfied: six>=1.5 in /Users/iankelk/anaconda3/lib/python3.11/site-packages (from python-dateutil>=2.8.1->pandas->llama-index) (1.16.0)\n",
      "Requirement already satisfied: certifi>=2017.4.17 in /Users/iankelk/anaconda3/lib/python3.11/site-packages (from requests<3,>=2->langchain>=0.0.303->llama-index) (2023.7.22)\n",
      "Requirement already satisfied: python-dotenv in /Users/iankelk/anaconda3/lib/python3.11/site-packages (1.0.0)\n"
     ]
    },
    {
     "name": "stderr",
     "output_type": "stream",
     "text": [
      "/Users/iankelk/anaconda3/lib/python3.11/site-packages/pydantic/_internal/_config.py:267: PydanticDeprecatedSince20: Support for class-based `config` is deprecated, use ConfigDict instead. Deprecated in Pydantic V2.0 to be removed in V3.0. See Pydantic V2 Migration Guide at https://errors.pydantic.dev/2.4/migration/\n",
      "  warnings.warn(DEPRECATION_MESSAGE, DeprecationWarning)\n"
     ]
    }
   ],
   "source": [
    "!pip install weaviate-client\n",
    "!pip install openai\n",
    "!pip install llama-index\n",
    "!pip install python-dotenv\n",
    "\n",
    "import weaviate\n",
    "import pandas as pd\n",
    "import os\n",
    "\n",
    "from dotenv import load_dotenv\n",
    "from datetime import datetime, timezone\n",
    "from llama_index import Document\n",
    "# Suppress Pydantic warnings since it's based in llamaindex\n",
    "import warnings\n",
    "warnings.simplefilter(action='ignore', category=Warning)\n",
    "\n",
    "\n",
    "from llama_index.node_parser import SimpleNodeParser\n",
    "from llama_index.vector_stores import WeaviateVectorStore\n",
    "from llama_index import VectorStoreIndex, StorageContext\n",
    "from llama_index.storage.storage_context import StorageContext\n",
    "from llama_index.vector_stores.types import ExactMatchFilter, MetadataFilters\n",
    "\n",
    "# Load the .env file\n",
    "load_dotenv()\n",
    "\n",
    "# Retrieve the OpenAI API key from the environment variables\n",
    "OPENAI_KEY = os.getenv(\"OPENAI_KEY\")\n",
    "\n",
    "# Set the OpenAI key as an Environment Variable (for when it's run on GCS)\n",
    "os.environ[\"OPENAI_API_KEY\"] = OPENAI_KEY\n",
    "\n",
    "# Current Weaviate IP\n",
    "WEAVIATE_IP_ADDRESS = \"34.42.138.162\""
   ]
  },
  {
   "cell_type": "code",
   "execution_count": 3,
   "id": "934520c7",
   "metadata": {},
   "outputs": [],
   "source": [
    "schema = {\n",
    "    \"classes\": [\n",
    "        {\n",
    "            \"class\": \"Document\",\n",
    "            \"description\": \"A full document of text from a scraped webpage with full details.\",\n",
    "            \"invertedIndexConfig\": {\n",
    "                \"indexTimestamps\": True\n",
    "            },\n",
    "            \"vectorizer\": \"text2vec-openai\",\n",
    "            \"moduleConfig\": {\n",
    "                \"generative-openai\": {\n",
    "                    \"model\": \"gpt-3.5-turbo\"\n",
    "                }\n",
    "            },\n",
    "            \"properties\": [\n",
    "                {\n",
    "                    \"name\": \"text\",\n",
    "                    \"dataType\": [\"string\"],\n",
    "                    \"description\": \"The content of the document.\",\n",
    "                    \"indexInverted\": True\n",
    "                },\n",
    "                {\n",
    "                    \"name\": \"websiteAddress\",\n",
    "                    \"dataType\": [\"string\"],\n",
    "                    \"description\": \"The address of the website this document comes from.\",\n",
    "                    \"indexInverted\": True\n",
    "                },\n",
    "                {\n",
    "                    \"name\": \"timestamp\",\n",
    "                    \"dataType\": [\"date\"],\n",
    "                    \"description\": \"The date and time when the document was scraped.\",\n",
    "                    \"indexInverted\": True\n",
    "                }\n",
    "            ]\n",
    "        }\n",
    "    ]\n",
    "}"
   ]
  },
  {
   "cell_type": "code",
   "execution_count": 4,
   "id": "3098de2b",
   "metadata": {},
   "outputs": [],
   "source": [
    "def create_date(date_string):\n",
    "    \"\"\"\n",
    "    Convert a date string to RFC 3339 formatted string with timezone.\n",
    "\n",
    "    Parameters:\n",
    "    - date_string (str): Input date string in the format \"%Y-%m-%dT%H-%M-%S\".\n",
    "\n",
    "    Returns:\n",
    "    - str: RFC 3339 formatted date-time string.\n",
    "    \"\"\"\n",
    "    dt_object = datetime.strptime(date_string, \"%Y-%m-%dT%H-%M-%S\")\n",
    "    # convert datetime object to RFC 3339 string (with timezone)\n",
    "    rfc3339_string = dt_object.replace(tzinfo=timezone.utc).isoformat()\n",
    "    return rfc3339_string"
   ]
  },
  {
   "cell_type": "code",
   "execution_count": 5,
   "id": "391e5e75",
   "metadata": {},
   "outputs": [
    {
     "name": "stdout",
     "output_type": "stream",
     "text": [
      "Schema was created.\n"
     ]
    }
   ],
   "source": [
    "client = weaviate.Client(url=\"http://\" + WEAVIATE_IP_ADDRESS + \":8080\")\n",
    "\n",
    "# Delete existing schema (caution: this deletes the current structure)\n",
    "client.schema.delete_all()\n",
    "\n",
    "# Here we use the schema created in the previous cell.\n",
    "client.schema.create(schema)\n",
    "print(\"Schema was created.\")"
   ]
  },
  {
   "cell_type": "markdown",
   "id": "06df6eba",
   "metadata": {},
   "source": [
    "## Hard-coded stuff in this cell that will be replaced in the cloud function\n",
    "* data_directory will be the bucket\n",
    "* csv_file will be the new file added to the bucket"
   ]
  },
  {
   "cell_type": "code",
   "execution_count": 6,
   "id": "6967b267",
   "metadata": {},
   "outputs": [],
   "source": [
    "data_directory = \"./sample_data\"\n",
    "csv_file = 'ai21.com_2023-10-06T18-11-24.csv'\n",
    "# Get the website address and timestamp from the filename\n",
    "websiteAddress, timestamp = csv_file.rsplit('.', 1)[0].split('_')\n",
    "\n",
    "# Read in the CSV\n",
    "df = pd.read_csv(data_directory + \"/\" + csv_file)\n",
    "\n",
    "# Manually assemble the documents\n",
    "documents = []\n",
    "for _, row in df.iterrows():\n",
    "    document = Document(\n",
    "        text=row['text'],\n",
    "        metadata={\n",
    "            'websiteAddress': websiteAddress,\n",
    "            'timestamp': timestamp\n",
    "        }\n",
    "    )\n",
    "    document.doc_id = row['key']\n",
    "    documents.append(document)"
   ]
  },
  {
   "cell_type": "code",
   "execution_count": 7,
   "id": "7c43e7bb",
   "metadata": {},
   "outputs": [],
   "source": [
    "# Create the parser and nodes\n",
    "parser = SimpleNodeParser.from_defaults(chunk_size=1024, chunk_overlap=20)\n",
    "nodes = parser.get_nodes_from_documents(documents)\n",
    "\n",
    "# construct vector store\n",
    "vector_store = WeaviateVectorStore(weaviate_client = client, index_name=\"Pages\", text_key=\"text\")\n",
    "# setting up the storage for the embeddings\n",
    "storage_context = StorageContext.from_defaults(vector_store = vector_store)\n",
    "# set up the index\n",
    "index = VectorStoreIndex(nodes, storage_context=storage_context)"
   ]
  },
  {
   "cell_type": "markdown",
   "id": "dfe7d43b",
   "metadata": {},
   "source": [
    "# Querying Stage\n",
    "\n",
    "In this stage, the RAG pipeline extracts the most pertinent context based on a user’s query and forwards it, along with the query, to the LLM to generate a response. This procedure equips the LLM with current knowledge that wasn’t included in its original training data. This also reduces the likelihood of hallucinations, a problem for LLMs when they invent answers for data they were insufficiently trained with. The pivotal challenges in this phase revolve around the retrieval, coordination, and analysis across one or several knowledge bases.\n",
    "\n",
    "## Hard-coded stuff in this cell that will be replaced in the cloud function\n",
    "* The websiteAddress will be from the query string of the https request\n",
    "* The timestamp will be from the query string of the https request\n",
    "* The query will be from the query string of the https request"
   ]
  },
  {
   "cell_type": "code",
   "execution_count": 8,
   "id": "b8fe322e",
   "metadata": {},
   "outputs": [],
   "source": [
    "# Custom prompt to exclude out of context answers\n",
    "from llama_index.prompts import PromptTemplate\n",
    "\n",
    "template = (\"We have provided context information below. If the answer to a query is not contained in this context, \"\n",
    "            \"please only reply that it is not in the context.\"\n",
    "            \"\\n---------------------\\n\"\n",
    "            \"{context_str}\"\n",
    "            \"\\n---------------------\\n\"\n",
    "            \"Given this information, please answer the question: {query_str}\\n\"\n",
    ")\n",
    "qa_template = PromptTemplate(template)"
   ]
  },
  {
   "cell_type": "code",
   "execution_count": 9,
   "id": "e617e817",
   "metadata": {},
   "outputs": [
    {
     "name": "stdout",
     "output_type": "stream",
     "text": [
      "AI21 Studio was a game changer by helping Verb.ai create a revolutionary writing tool for authors. It improved brainstorming and expression, making the process of completing long-form narratives faster, easier, and more fun. AI21 Studio assisted with all key stages of creation, including brainstorming, writing, and editing. It provided a feature for planning the novel scene by scene and chapter by chapter, generating plot points and ideas to spark the writer's imagination. This tool proved to be incredibly useful for writers and kept them coming back for more."
     ]
    }
   ],
   "source": [
    "# Create exact match filters for websiteAddress and timestamp\n",
    "website_address_filter = ExactMatchFilter(key=\"websiteAddress\", value=\"ai21.com\")\n",
    "timestamp_filter = ExactMatchFilter(key=\"timestamp\", value=\"2023-10-06T18-11-24\")\n",
    "\n",
    "# Create a metadata filters instance with the above filters\n",
    "metadata_filters = MetadataFilters(filters=[website_address_filter, timestamp_filter])\n",
    "\n",
    "# Create a query engine with the custom prompt and filters\n",
    "query_engine = index.as_query_engine(text_qa_template=qa_template,\n",
    "                                     streaming=True,\n",
    "                                     filters=metadata_filters)\n",
    "\n",
    "# Execute the query\n",
    "query_str = \"How was AI21 Studio a game changer?\"\n",
    "streaming_response = query_engine.query(query_str)\n",
    "\n",
    "# Print the response as it arrives\n",
    "streaming_response.print_response_stream()"
   ]
  },
  {
   "cell_type": "code",
   "execution_count": 10,
   "id": "b2fc907b",
   "metadata": {},
   "outputs": [
    {
     "name": "stdout",
     "output_type": "stream",
     "text": [
      "The following websites were used as references:\n",
      "\n",
      "['https://www.ai21.com/blog/verb-ai-case-study', 'https://www.ai21.com/blog']\n"
     ]
    }
   ],
   "source": [
    "def extract_document_urls(streaming_response):\n",
    "    urls = []\n",
    "    for node_with_score in streaming_response.source_nodes:\n",
    "        relationships = node_with_score.node.relationships\n",
    "        for related_node_info in relationships.values():\n",
    "            if related_node_info.node_type == \"4\":  # Corresponds to ObjectType.DOCUMENT\n",
    "                urls.append(related_node_info.node_id)\n",
    "    return urls\n",
    "\n",
    "extracted_urls = extract_document_urls(streaming_response)\n",
    "print(\"The following websites were used as references:\\n\")\n",
    "print(extracted_urls)"
   ]
  },
  {
   "cell_type": "code",
   "execution_count": 11,
   "id": "7f00b677",
   "metadata": {},
   "outputs": [
    {
     "name": "stdout",
     "output_type": "stream",
     "text": [
      "The information provided does not contain any information about Kim Kardashian."
     ]
    }
   ],
   "source": [
    "query_str = \"Who is Kim Kardashian?\"\n",
    "streaming_response = query_engine.query(query_str)\n",
    "\n",
    "# Print the response as it arrives\n",
    "streaming_response.print_response_stream()"
   ]
  },
  {
   "cell_type": "code",
   "execution_count": 12,
   "id": "25b097ad",
   "metadata": {},
   "outputs": [
    {
     "name": "stdout",
     "output_type": "stream",
     "text": [
      "The following websites were used as references:\n",
      "\n",
      "['https://www.ai21.com/blog/ubisoft-case-study', 'https://www.ai21.com/blog/retail-personalization-using-ai-will-transform-the-industry']\n"
     ]
    }
   ],
   "source": [
    "extracted_urls = extract_document_urls(streaming_response)\n",
    "print(\"The following websites were used as references:\\n\")\n",
    "print(extracted_urls)"
   ]
  }
 ],
 "metadata": {
  "kernelspec": {
   "display_name": "Python 3",
   "language": "python",
   "name": "python3"
  },
  "language_info": {
   "codemirror_mode": {
    "name": "ipython",
    "version": 3
   },
   "file_extension": ".py",
   "mimetype": "text/x-python",
   "name": "python",
   "nbconvert_exporter": "python",
   "pygments_lexer": "ipython3",
   "version": "3.11.5"
  }
 },
 "nbformat": 4,
 "nbformat_minor": 5
}

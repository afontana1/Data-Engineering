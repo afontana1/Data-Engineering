{
 "cells": [
  {
   "cell_type": "markdown",
   "metadata": {
    "id": "9I_ZwVnJWmYJ"
   },
   "source": [
    "# 66% Consensus: BERT-Based Financial Sentiment Classifier\n",
    "\n",
    "This document provides an explanation of the python script used to train a classifier on top of a BERT model via fine-tuning. The task is financial sentiment analysis, where sentences are classified into three sentiments: negative, neutral, and positive.\n",
    "\n",
    "## Dataset\n",
    "\n",
    "The dataset is [hosted on Hugging Face,](https://huggingface.co/datasets/financial_phrasebank) where you can find further information on its curation, motivation, and annotation.\n",
    "\n",
    "### Overview\n",
    "\n",
    "The dataset consists of 4846 lines, each containing a financial text sentence and its corresponding sentiment, separated by an '@' symbol. The sentiment can belong to one of three categories: Negative, Neutral, or Positive, and is distributed as:\n",
    "\n",
    "- Neutral: 2879 entries (59%)\n",
    "- Positive: 1363 entries (28%)\n",
    "- Negative: 604 entries (12.4%)\n",
    "\n",
    "### Data Fields\n",
    "\n",
    "- **sentence**: A tokenized line from the dataset.\n",
    "- **label**: A label representing the sentence class as a string: 'positive', 'negative', or 'neutral'.\n",
    "\n",
    "### Data Splits\n",
    "\n",
    "Although the dataset does not come with predefined training/validation/test splits, the sentences are categorized into different configurations based on the degree of agreement among the annotators:\n",
    "\n",
    "- **sentences_50agree**: Number of instances with >= 50% annotator agreement - 4846 sentences\n",
    "- **sentences_66agree**: Number of instances with >= 66% annotator agreement - 4217 sentences\n",
    "- **sentences_75agree**: Number of instances with >= 75% annotator agreement - 3453 sentences\n",
    "- **sentences_allagree**: Number of instances with 100% annotator agreement - 2264 sentences\n",
    "\n",
    "For this project, we use the `sentences_50agree` configuration comprising of 4846 instances and manually split it into training, validation, and testing sets in a 70-15-15 proportion.\n",
    "\n",
    "All sentences in the dataset are limited to fewer than 512 tokens, in accordance with the BERT model's input constraints.\n",
    "\n",
    "## Imports and System Setup\n",
    "\n",
    "The first part of the code includes importing necessary modules and setting up the TensorFlow environment to recognize accessible GPU devices.\n",
    "\n",
    "\n",
    "## Metrics\n",
    "\n",
    "The model's performance after training is evaluated based on accuracy and F1 score. Accuracy measures the proportion of correct predictions, while the F1 score provides a harmonic mean between precision and recall, hammered down for individual classes.\n",
    "\n",
    "F1 score is calculated after each epoch by a custom F1_Evaluation class that uses the Scikit-learn function `f1_score()` for calculation.\n",
    "\n",
    "We took the extra step of tracking the F1 score for the validation set for a few reasons due to using a financial dataset:\n",
    "\n",
    "- **Handling Imbalance**: Financial datasets often exhibit class imbalance. For instance, genuine transactions significantly outnumber fraudulent ones. Accuracy can be misleading in such cases, making F1 a more balanced metric as it considers both precision and recall.\n",
    "\n",
    "- **Balancing Costs**: Both false negatives (e.g., overlooking a negative sentiment) and false positives (e.g., misclassifying a neutral statement as negative) have implications. The F1 score ensures a balance between reducing these two error types.\n",
    "\n",
    "- **Threshold Tuning**: Financial decisions can involve adjustable thresholds. The F1 score can guide optimization, ensuring neither precision nor recall is neglected.\n",
    "\n",
    "## Wandb\n",
    "\n",
    "[Wandb (Weights & Biases)](https://wandb.ai/site) is used for experiment tracking.\n",
    "\n",
    "## Preprocessing\n",
    "\n",
    "The data is read from the .txt file. The file encoding is first detected using the `chardet` library, and then the data is loaded into a pandas DataFrame using the detected encoding. The DataFrame contains two columns: sentence and label.\n",
    "\n",
    "Then the data is split into train, validation, and test sets, stratifying on the label to respect the original distribution of classes in the dataset.\n",
    "\n",
    "The `BertTokenizer` is used to encode the sentences into format suitable for the BERT model. `truncation=True` and `padding=True` ensures that all sequences are of the same length.\n",
    "\n",
    "The tokenized sentence encodings and the corresponding labels are wrapped into TensorFlow's `Dataset` objects.\n",
    "\n",
    "## Model Creation\n",
    "\n",
    "The existing BERT model ('bert-base-uncased') from HuggingFace's transformer models is loaded for sequence classification with 3 labels (negative, neutral, positive).\n",
    "\n",
    "## Model Compilation and Training\n",
    "\n",
    "The model is compiled with Adam optimizer, `SparseCategoricalCrossentropy` loss function, and accuracy as a metric. We use `SparseCategoricalCrossentropy` as this is a  multi-class classification with integer labels (not one-hot encoded). It's memory-efficient, especially for many classes, and pairs with a softmax activation in the model's output.\n",
    "\n",
    "A Wandb run is initialized, and the data is fit on the model using a batch size of 8 for 10 epochs. The validation data and the custom F1 score calculation callback are also passed in the fit method.\n",
    "\n",
    "## Evaluation\n",
    "\n",
    "The model is evaluated on the test set. Classification report and F1 score are printed to show detailed information about performance on all three categories. The F1 score is also logged to the Wandb run."
   ]
  },
  {
   "cell_type": "code",
   "execution_count": 1,
   "metadata": {
    "colab": {
     "base_uri": "https://localhost:8080/"
    },
    "id": "MMcIPAfQyrQY",
    "outputId": "414f27e7-0a8a-4859-f247-279239da449b"
   },
   "outputs": [
    {
     "name": "stdout",
     "output_type": "stream",
     "text": [
      "Collecting wandb\n",
      "  Downloading wandb-0.15.12-py3-none-any.whl (2.1 MB)\n",
      "\u001b[2K     \u001b[90m━━━━━━━━━━━━━━━━━━━━━━━━━━━━━━━━━━━━━━━━\u001b[0m \u001b[32m2.1/2.1 MB\u001b[0m \u001b[31m22.6 MB/s\u001b[0m eta \u001b[36m0:00:00\u001b[0m\n",
      "\u001b[?25hRequirement already satisfied: Click!=8.0.0,>=7.1 in /usr/local/lib/python3.10/dist-packages (from wandb) (8.1.7)\n",
      "Collecting GitPython!=3.1.29,>=1.0.0 (from wandb)\n",
      "  Downloading GitPython-3.1.37-py3-none-any.whl (190 kB)\n",
      "\u001b[2K     \u001b[90m━━━━━━━━━━━━━━━━━━━━━━━━━━━━━━━━━━━━━━\u001b[0m \u001b[32m190.0/190.0 kB\u001b[0m \u001b[31m23.0 MB/s\u001b[0m eta \u001b[36m0:00:00\u001b[0m\n",
      "\u001b[?25hRequirement already satisfied: requests<3,>=2.0.0 in /usr/local/lib/python3.10/dist-packages (from wandb) (2.31.0)\n",
      "Requirement already satisfied: psutil>=5.0.0 in /usr/local/lib/python3.10/dist-packages (from wandb) (5.9.5)\n",
      "Collecting sentry-sdk>=1.0.0 (from wandb)\n",
      "  Downloading sentry_sdk-1.31.0-py2.py3-none-any.whl (224 kB)\n",
      "\u001b[2K     \u001b[90m━━━━━━━━━━━━━━━━━━━━━━━━━━━━━━━━━━━━━━\u001b[0m \u001b[32m224.8/224.8 kB\u001b[0m \u001b[31m26.0 MB/s\u001b[0m eta \u001b[36m0:00:00\u001b[0m\n",
      "\u001b[?25hCollecting docker-pycreds>=0.4.0 (from wandb)\n",
      "  Downloading docker_pycreds-0.4.0-py2.py3-none-any.whl (9.0 kB)\n",
      "Requirement already satisfied: PyYAML in /usr/local/lib/python3.10/dist-packages (from wandb) (6.0.1)\n",
      "Collecting pathtools (from wandb)\n",
      "  Downloading pathtools-0.1.2.tar.gz (11 kB)\n",
      "  Preparing metadata (setup.py) ... \u001b[?25l\u001b[?25hdone\n",
      "Collecting setproctitle (from wandb)\n",
      "  Downloading setproctitle-1.3.3-cp310-cp310-manylinux_2_5_x86_64.manylinux1_x86_64.manylinux_2_17_x86_64.manylinux2014_x86_64.whl (30 kB)\n",
      "Requirement already satisfied: setuptools in /usr/local/lib/python3.10/dist-packages (from wandb) (67.7.2)\n",
      "Requirement already satisfied: appdirs>=1.4.3 in /usr/local/lib/python3.10/dist-packages (from wandb) (1.4.4)\n",
      "Requirement already satisfied: protobuf!=4.21.0,<5,>=3.19.0 in /usr/local/lib/python3.10/dist-packages (from wandb) (3.20.3)\n",
      "Requirement already satisfied: six>=1.4.0 in /usr/local/lib/python3.10/dist-packages (from docker-pycreds>=0.4.0->wandb) (1.16.0)\n",
      "Collecting gitdb<5,>=4.0.1 (from GitPython!=3.1.29,>=1.0.0->wandb)\n",
      "  Downloading gitdb-4.0.10-py3-none-any.whl (62 kB)\n",
      "\u001b[2K     \u001b[90m━━━━━━━━━━━━━━━━━━━━━━━━━━━━━━━━━━━━━━━━\u001b[0m \u001b[32m62.7/62.7 kB\u001b[0m \u001b[31m7.9 MB/s\u001b[0m eta \u001b[36m0:00:00\u001b[0m\n",
      "\u001b[?25hRequirement already satisfied: charset-normalizer<4,>=2 in /usr/local/lib/python3.10/dist-packages (from requests<3,>=2.0.0->wandb) (3.2.0)\n",
      "Requirement already satisfied: idna<4,>=2.5 in /usr/local/lib/python3.10/dist-packages (from requests<3,>=2.0.0->wandb) (3.4)\n",
      "Requirement already satisfied: urllib3<3,>=1.21.1 in /usr/local/lib/python3.10/dist-packages (from requests<3,>=2.0.0->wandb) (2.0.5)\n",
      "Requirement already satisfied: certifi>=2017.4.17 in /usr/local/lib/python3.10/dist-packages (from requests<3,>=2.0.0->wandb) (2023.7.22)\n",
      "Collecting smmap<6,>=3.0.1 (from gitdb<5,>=4.0.1->GitPython!=3.1.29,>=1.0.0->wandb)\n",
      "  Downloading smmap-5.0.1-py3-none-any.whl (24 kB)\n",
      "Building wheels for collected packages: pathtools\n",
      "  Building wheel for pathtools (setup.py) ... \u001b[?25l\u001b[?25hdone\n",
      "  Created wheel for pathtools: filename=pathtools-0.1.2-py3-none-any.whl size=8791 sha256=3dffd9c7bced2745a5111a7e8162a77e309db549d01393c385dfd1ad735ccd71\n",
      "  Stored in directory: /root/.cache/pip/wheels/e7/f3/22/152153d6eb222ee7a56ff8617d80ee5207207a8c00a7aab794\n",
      "Successfully built pathtools\n",
      "Installing collected packages: pathtools, smmap, setproctitle, sentry-sdk, docker-pycreds, gitdb, GitPython, wandb\n",
      "Successfully installed GitPython-3.1.37 docker-pycreds-0.4.0 gitdb-4.0.10 pathtools-0.1.2 sentry-sdk-1.31.0 setproctitle-1.3.3 smmap-5.0.1 wandb-0.15.12\n"
     ]
    }
   ],
   "source": [
    "!pip install wandb"
   ]
  },
  {
   "cell_type": "code",
   "execution_count": 2,
   "metadata": {
    "colab": {
     "base_uri": "https://localhost:8080/"
    },
    "id": "q4TaSXfQys4J",
    "outputId": "8e9e358f-8b13-4a46-ee5a-c32e200c07d0"
   },
   "outputs": [
    {
     "name": "stdout",
     "output_type": "stream",
     "text": [
      "Collecting transformers\n",
      "  Downloading transformers-4.34.0-py3-none-any.whl (7.7 MB)\n",
      "\u001b[2K     \u001b[90m━━━━━━━━━━━━━━━━━━━━━━━━━━━━━━━━━━━━━━━━\u001b[0m \u001b[32m7.7/7.7 MB\u001b[0m \u001b[31m63.9 MB/s\u001b[0m eta \u001b[36m0:00:00\u001b[0m\n",
      "\u001b[?25hRequirement already satisfied: filelock in /usr/local/lib/python3.10/dist-packages (from transformers) (3.12.4)\n",
      "Collecting huggingface-hub<1.0,>=0.16.4 (from transformers)\n",
      "  Downloading huggingface_hub-0.17.3-py3-none-any.whl (295 kB)\n",
      "\u001b[2K     \u001b[90m━━━━━━━━━━━━━━━━━━━━━━━━━━━━━━━━━━━━━━\u001b[0m \u001b[32m295.0/295.0 kB\u001b[0m \u001b[31m35.1 MB/s\u001b[0m eta \u001b[36m0:00:00\u001b[0m\n",
      "\u001b[?25hRequirement already satisfied: numpy>=1.17 in /usr/local/lib/python3.10/dist-packages (from transformers) (1.23.5)\n",
      "Requirement already satisfied: packaging>=20.0 in /usr/local/lib/python3.10/dist-packages (from transformers) (23.1)\n",
      "Requirement already satisfied: pyyaml>=5.1 in /usr/local/lib/python3.10/dist-packages (from transformers) (6.0.1)\n",
      "Requirement already satisfied: regex!=2019.12.17 in /usr/local/lib/python3.10/dist-packages (from transformers) (2023.6.3)\n",
      "Requirement already satisfied: requests in /usr/local/lib/python3.10/dist-packages (from transformers) (2.31.0)\n",
      "Collecting tokenizers<0.15,>=0.14 (from transformers)\n",
      "  Downloading tokenizers-0.14.0-cp310-cp310-manylinux_2_17_x86_64.manylinux2014_x86_64.whl (3.8 MB)\n",
      "\u001b[2K     \u001b[90m━━━━━━━━━━━━━━━━━━━━━━━━━━━━━━━━━━━━━━━━\u001b[0m \u001b[32m3.8/3.8 MB\u001b[0m \u001b[31m106.7 MB/s\u001b[0m eta \u001b[36m0:00:00\u001b[0m\n",
      "\u001b[?25hCollecting safetensors>=0.3.1 (from transformers)\n",
      "  Downloading safetensors-0.3.3-cp310-cp310-manylinux_2_17_x86_64.manylinux2014_x86_64.whl (1.3 MB)\n",
      "\u001b[2K     \u001b[90m━━━━━━━━━━━━━━━━━━━━━━━━━━━━━━━━━━━━━━━━\u001b[0m \u001b[32m1.3/1.3 MB\u001b[0m \u001b[31m81.0 MB/s\u001b[0m eta \u001b[36m0:00:00\u001b[0m\n",
      "\u001b[?25hRequirement already satisfied: tqdm>=4.27 in /usr/local/lib/python3.10/dist-packages (from transformers) (4.66.1)\n",
      "Requirement already satisfied: fsspec in /usr/local/lib/python3.10/dist-packages (from huggingface-hub<1.0,>=0.16.4->transformers) (2023.6.0)\n",
      "Requirement already satisfied: typing-extensions>=3.7.4.3 in /usr/local/lib/python3.10/dist-packages (from huggingface-hub<1.0,>=0.16.4->transformers) (4.5.0)\n",
      "Collecting huggingface-hub<1.0,>=0.16.4 (from transformers)\n",
      "  Downloading huggingface_hub-0.16.4-py3-none-any.whl (268 kB)\n",
      "\u001b[2K     \u001b[90m━━━━━━━━━━━━━━━━━━━━━━━━━━━━━━━━━━━━━━\u001b[0m \u001b[32m268.8/268.8 kB\u001b[0m \u001b[31m30.7 MB/s\u001b[0m eta \u001b[36m0:00:00\u001b[0m\n",
      "\u001b[?25hRequirement already satisfied: charset-normalizer<4,>=2 in /usr/local/lib/python3.10/dist-packages (from requests->transformers) (3.2.0)\n",
      "Requirement already satisfied: idna<4,>=2.5 in /usr/local/lib/python3.10/dist-packages (from requests->transformers) (3.4)\n",
      "Requirement already satisfied: urllib3<3,>=1.21.1 in /usr/local/lib/python3.10/dist-packages (from requests->transformers) (2.0.5)\n",
      "Requirement already satisfied: certifi>=2017.4.17 in /usr/local/lib/python3.10/dist-packages (from requests->transformers) (2023.7.22)\n",
      "Installing collected packages: safetensors, huggingface-hub, tokenizers, transformers\n",
      "Successfully installed huggingface-hub-0.16.4 safetensors-0.3.3 tokenizers-0.14.0 transformers-4.34.0\n"
     ]
    }
   ],
   "source": [
    "!pip install transformers"
   ]
  },
  {
   "cell_type": "code",
   "execution_count": 3,
   "metadata": {
    "colab": {
     "base_uri": "https://localhost:8080/"
    },
    "id": "RusBHFMfLFcM",
    "outputId": "ce43e703-346e-4f15-ade7-4d4838a4ae24"
   },
   "outputs": [
    {
     "name": "stdout",
     "output_type": "stream",
     "text": [
      "Num GPUs Available:  1\n",
      "Found GPU at: /device:GPU:0\n"
     ]
    }
   ],
   "source": [
    "# Import necessary libraries\n",
    "import os\n",
    "\n",
    "# Used to suppress output for F1 validation calculation\n",
    "import io\n",
    "import contextlib\n",
    "\n",
    "# For encoding detection\n",
    "import chardet\n",
    "\n",
    "import math\n",
    "import numpy as np\n",
    "import pandas as pd\n",
    "import matplotlib.pyplot as plt\n",
    "from sklearn.metrics import classification_report, f1_score\n",
    "from sklearn.model_selection import train_test_split\n",
    "\n",
    "# Hugging Face Transformers for BERT\n",
    "from transformers import BertTokenizer, TFBertForSequenceClassification\n",
    "\n",
    "# Deep learning frameworks\n",
    "import tensorflow as tf\n",
    "from tensorflow import keras\n",
    "from tensorflow.keras import backend as K\n",
    "from tensorflow.keras.callbacks import EarlyStopping\n",
    "\n",
    "# Ensure we have a GPU\n",
    "print(\"Num GPUs Available: \", len(tf.config.list_physical_devices('GPU')))\n",
    "\n",
    "# Verify current GPU\n",
    "device_name = tf.test.gpu_device_name()\n",
    "if device_name != '/device:GPU:0':\n",
    "  raise SystemError('GPU device not found')\n",
    "print('Found GPU at: {}'.format(device_name))\n",
    "\n",
    "# Weights and Biases for tracking experiments\n",
    "import wandb\n",
    "from wandb.keras import WandbCallback\n",
    "from sklearn.metrics import f1_score"
   ]
  },
  {
   "cell_type": "code",
   "execution_count": 6,
   "metadata": {
    "colab": {
     "base_uri": "https://localhost:8080/",
     "height": 1000
    },
    "id": "COXH9yb6v6W7",
    "outputId": "09498cb7-26f0-4a06-a44c-e5348fe30f00"
   },
   "outputs": [
    {
     "name": "stderr",
     "output_type": "stream",
     "text": [
      "\u001b[34m\u001b[1mwandb\u001b[0m: \u001b[33mWARNING\u001b[0m Calling wandb.login() after wandb.init() has no effect.\n"
     ]
    },
    {
     "name": "stdout",
     "output_type": "stream",
     "text": [
      "Encoding is: ISO-8859-1\n"
     ]
    },
    {
     "name": "stderr",
     "output_type": "stream",
     "text": [
      "All PyTorch model weights were used when initializing TFBertForSequenceClassification.\n",
      "\n",
      "Some weights or buffers of the TF 2.0 model TFBertForSequenceClassification were not initialized from the PyTorch model and are newly initialized: ['classifier.weight', 'classifier.bias']\n",
      "You should probably TRAIN this model on a down-stream task to be able to use it for predictions and inference.\n"
     ]
    },
    {
     "data": {
      "text/html": [
       "Finishing last run (ID:c2p13go4) before initializing another..."
      ],
      "text/plain": [
       "<IPython.core.display.HTML object>"
      ]
     },
     "metadata": {},
     "output_type": "display_data"
    },
    {
     "data": {
      "text/html": [
       "Waiting for W&B process to finish... <strong style=\"color:green\">(success).</strong>"
      ],
      "text/plain": [
       "<IPython.core.display.HTML object>"
      ]
     },
     "metadata": {},
     "output_type": "display_data"
    },
    {
     "data": {
      "text/html": [
       "<style>\n",
       "    table.wandb td:nth-child(1) { padding: 0 10px; text-align: left ; width: auto;} td:nth-child(2) {text-align: left ; width: 100%}\n",
       "    .wandb-row { display: flex; flex-direction: row; flex-wrap: wrap; justify-content: flex-start; width: 100% }\n",
       "    .wandb-col { display: flex; flex-direction: column; flex-basis: 100%; flex: 1; padding: 10px; }\n",
       "    </style>\n",
       "<div class=\"wandb-row\"><div class=\"wandb-col\"><h3>Run history:</h3><br/><table class=\"wandb\"><tr><td>accuracy</td><td>▁</td></tr><tr><td>epoch</td><td>▁</td></tr><tr><td>loss</td><td>▁</td></tr><tr><td>val_accuracy</td><td>▁</td></tr><tr><td>val_loss</td><td>▁</td></tr></table><br/></div><div class=\"wandb-col\"><h3>Run summary:</h3><br/><table class=\"wandb\"><tr><td>accuracy</td><td>0.81498</td></tr><tr><td>best_epoch</td><td>0</td></tr><tr><td>best_val_loss</td><td>0.29553</td></tr><tr><td>epoch</td><td>0</td></tr><tr><td>loss</td><td>0.47458</td></tr><tr><td>val_accuracy</td><td>0.88626</td></tr><tr><td>val_loss</td><td>0.29553</td></tr></table><br/></div></div>"
      ],
      "text/plain": [
       "<IPython.core.display.HTML object>"
      ]
     },
     "metadata": {},
     "output_type": "display_data"
    },
    {
     "data": {
      "text/html": [
       " View run <strong style=\"color:#cdcd00\">bert-finetune-run-66agree-10</strong> at: <a href='https://wandb.ai/iankelk/bert-sentiment/runs/c2p13go4' target=\"_blank\">https://wandb.ai/iankelk/bert-sentiment/runs/c2p13go4</a><br/>Synced 5 W&B file(s), 1 media file(s), 0 artifact file(s) and 0 other file(s)"
      ],
      "text/plain": [
       "<IPython.core.display.HTML object>"
      ]
     },
     "metadata": {},
     "output_type": "display_data"
    },
    {
     "data": {
      "text/html": [
       "Find logs at: <code>./wandb/run-20231004_214206-c2p13go4/logs</code>"
      ],
      "text/plain": [
       "<IPython.core.display.HTML object>"
      ]
     },
     "metadata": {},
     "output_type": "display_data"
    },
    {
     "data": {
      "text/html": [
       "Successfully finished last run (ID:c2p13go4). Initializing new run:<br/>"
      ],
      "text/plain": [
       "<IPython.core.display.HTML object>"
      ]
     },
     "metadata": {},
     "output_type": "display_data"
    },
    {
     "data": {
      "text/html": [
       "Tracking run with wandb version 0.15.12"
      ],
      "text/plain": [
       "<IPython.core.display.HTML object>"
      ]
     },
     "metadata": {},
     "output_type": "display_data"
    },
    {
     "data": {
      "text/html": [
       "Run data is saved locally in <code>/content/wandb/run-20231004_214557-1xwa73c6</code>"
      ],
      "text/plain": [
       "<IPython.core.display.HTML object>"
      ]
     },
     "metadata": {},
     "output_type": "display_data"
    },
    {
     "data": {
      "text/html": [
       "Syncing run <strong><a href='https://wandb.ai/iankelk/bert-sentiment/runs/1xwa73c6' target=\"_blank\">bert-finetune-run-66agree-10</a></strong> to <a href='https://wandb.ai/iankelk/bert-sentiment' target=\"_blank\">Weights & Biases</a> (<a href='https://wandb.me/run' target=\"_blank\">docs</a>)<br/>"
      ],
      "text/plain": [
       "<IPython.core.display.HTML object>"
      ]
     },
     "metadata": {},
     "output_type": "display_data"
    },
    {
     "data": {
      "text/html": [
       " View project at <a href='https://wandb.ai/iankelk/bert-sentiment' target=\"_blank\">https://wandb.ai/iankelk/bert-sentiment</a>"
      ],
      "text/plain": [
       "<IPython.core.display.HTML object>"
      ]
     },
     "metadata": {},
     "output_type": "display_data"
    },
    {
     "data": {
      "text/html": [
       " View run at <a href='https://wandb.ai/iankelk/bert-sentiment/runs/1xwa73c6' target=\"_blank\">https://wandb.ai/iankelk/bert-sentiment/runs/1xwa73c6</a>"
      ],
      "text/plain": [
       "<IPython.core.display.HTML object>"
      ]
     },
     "metadata": {},
     "output_type": "display_data"
    },
    {
     "name": "stdout",
     "output_type": "stream",
     "text": [
      "Epoch 1/10\n",
      "369/369 [==============================] - ETA: 0s - loss: 0.4878 - accuracy: 0.8119\n",
      "Calculating validation F1 score...\n",
      "Epoch: 1 - validation_data f1_score: 0.8894\n",
      "369/369 [==============================] - 93s 133ms/step - loss: 0.4878 - accuracy: 0.8119 - val_loss: 0.2930 - val_accuracy: 0.8894\n",
      "Epoch 2/10\n",
      "369/369 [==============================] - ETA: 0s - loss: 0.2044 - accuracy: 0.9292\n",
      "Calculating validation F1 score...\n",
      "Epoch: 2 - validation_data f1_score: 0.8732\n",
      "369/369 [==============================] - 30s 80ms/step - loss: 0.2044 - accuracy: 0.9292 - val_loss: 0.3873 - val_accuracy: 0.8705\n",
      "Epoch 3/10\n",
      "369/369 [==============================] - ETA: 0s - loss: 0.1055 - accuracy: 0.9651\n",
      "Calculating validation F1 score...\n",
      "Epoch: 3 - validation_data f1_score: 0.9080\n",
      "369/369 [==============================] - 30s 82ms/step - loss: 0.1055 - accuracy: 0.9651 - val_loss: 0.3610 - val_accuracy: 0.9084\n",
      "Epoch 4/10\n",
      "369/369 [==============================] - ETA: 0s - loss: 0.0730 - accuracy: 0.9780\n",
      "Calculating validation F1 score...\n",
      "Epoch: 4 - validation_data f1_score: 0.8975\n",
      "369/369 [==============================] - 30s 80ms/step - loss: 0.0730 - accuracy: 0.9780 - val_loss: 0.3534 - val_accuracy: 0.8973\n",
      "Epoch 5/10\n",
      "369/369 [==============================] - ETA: 0s - loss: 0.0544 - accuracy: 0.9817\n",
      "Calculating validation F1 score...\n",
      "Epoch: 5 - validation_data f1_score: 0.8955\n",
      "369/369 [==============================] - 30s 81ms/step - loss: 0.0544 - accuracy: 0.9817 - val_loss: 0.3486 - val_accuracy: 0.8957\n",
      "Epoch 6/10\n",
      "369/369 [==============================] - ETA: 0s - loss: 0.0362 - accuracy: 0.9871\n",
      "Calculating validation F1 score...\n",
      "Epoch: 6 - validation_data f1_score: 0.8891\n",
      "369/369 [==============================] - 29s 80ms/step - loss: 0.0362 - accuracy: 0.9871 - val_loss: 0.4814 - val_accuracy: 0.8878\n",
      "Epoch 7/10\n",
      "369/369 [==============================] - ETA: 0s - loss: 0.0323 - accuracy: 0.9881\n",
      "Calculating validation F1 score...\n",
      "Epoch: 7 - validation_data f1_score: 0.8947\n",
      "369/369 [==============================] - 29s 80ms/step - loss: 0.0323 - accuracy: 0.9881 - val_loss: 0.4675 - val_accuracy: 0.8942\n",
      "Epoch 8/10\n",
      "369/369 [==============================] - ETA: 0s - loss: 0.0221 - accuracy: 0.9929\n",
      "Calculating validation F1 score...\n",
      "Epoch: 8 - validation_data f1_score: 0.9035\n",
      "369/369 [==============================] - 30s 81ms/step - loss: 0.0221 - accuracy: 0.9929 - val_loss: 0.4845 - val_accuracy: 0.9036\n",
      "Epoch 9/10\n",
      "369/369 [==============================] - ETA: 0s - loss: 0.0228 - accuracy: 0.9942\n",
      "Calculating validation F1 score...\n",
      "Epoch: 9 - validation_data f1_score: 0.8932\n",
      "369/369 [==============================] - 30s 80ms/step - loss: 0.0228 - accuracy: 0.9942 - val_loss: 0.5041 - val_accuracy: 0.8926\n",
      "Epoch 10/10\n",
      "369/369 [==============================] - ETA: 0s - loss: 0.0263 - accuracy: 0.9925\n",
      "Calculating validation F1 score...\n",
      "Epoch: 10 - validation_data f1_score: 0.8829\n",
      "369/369 [==============================] - 30s 80ms/step - loss: 0.0263 - accuracy: 0.9925 - val_loss: 0.6143 - val_accuracy: 0.8815\n",
      "80/80 [==============================] - 5s 24ms/step\n",
      "              precision    recall  f1-score   support\n",
      "\n",
      "    negative       0.74      0.87      0.80        77\n",
      "     neutral       0.94      0.87      0.90       380\n",
      "    positive       0.83      0.88      0.85       176\n",
      "\n",
      "    accuracy                           0.88       633\n",
      "   macro avg       0.83      0.87      0.85       633\n",
      "weighted avg       0.88      0.88      0.88       633\n",
      "\n",
      "F1 Score: 0.8767965465663502\n"
     ]
    }
   ],
   "source": [
    "# Custom callback for F1 evaluation at the end of each epoch\n",
    "class F1_Evaluation(tf.keras.callbacks.Callback):\n",
    "    def __init__(self, validation_data=(), interval=1):\n",
    "        super(F1_Evaluation, self).__init__()\n",
    "        self.interval = interval\n",
    "        self.dataset = validation_data\n",
    "        self.X_val, self.y_val = [], []\n",
    "\n",
    "        # Iterating over the dataset to get batches\n",
    "        for batch in self.dataset:\n",
    "            # Batch consists of inputs and labels\n",
    "            inputs, labels = batch\n",
    "            self.X_val.append(inputs)  # inputs is a dict with keys ['input_ids', 'attention_mask']\n",
    "            self.y_val.append(np.atleast_1d(np.squeeze(labels.numpy())))  # Converting labels tensor to numpy array\n",
    "\n",
    "        self.f1_scores = []\n",
    "\n",
    "    def on_epoch_end(self, epoch, logs={}):\n",
    "        \"\"\"Method called at the end of each epoch, calculating and logging F1 score.\"\"\"\n",
    "        print(\"\\nCalculating validation F1 score...\")\n",
    "        # Process only for epochs with (epoch number modulo self.interval) equal to 0\n",
    "        if epoch % self.interval == 0:\n",
    "            y_pred = []\n",
    "\n",
    "            # Iterate over inputs for each batch to generate predictions\n",
    "            for X_val_batch in self.X_val:\n",
    "                # Redirect stdout and stderr to avoid print statements inside keras.model.predict\n",
    "                with contextlib.redirect_stdout(io.StringIO()), contextlib.redirect_stderr(io.StringIO()):\n",
    "                    y_pred_single = self.model.predict(X_val_batch).logits\n",
    "                # Softmax on logits and take class with maximum probability\n",
    "                y_pred_single = tf.nn.softmax(y_pred_single).numpy().argmax(axis=-1)\n",
    "                # Ensure that y_pred_single is at least a 1D array even if it is a scalar\n",
    "                y_pred.append(np.atleast_1d(y_pred_single))\n",
    "\n",
    "            # Concatenate all predictions and labels\n",
    "            y_pred = np.concatenate(y_pred)\n",
    "            y_val = np.concatenate(self.y_val)\n",
    "\n",
    "            # Calculate F1 score and append to F1 scores list\n",
    "            _f1 = f1_score(y_val, y_pred, average='weighted')\n",
    "            self.f1_scores.append(_f1)\n",
    "\n",
    "            print(\"Epoch: {} - validation_data f1_score: {:.4f}\".format(epoch+1, _f1))\n",
    "\n",
    "# Log in to W&B account for experiment tracking\n",
    "wandb.login()\n",
    "\n",
    "# Define the path to dataset\n",
    "data_path = 'Sentences_66Agree.txt'\n",
    "\n",
    "# Load raw data as binary\n",
    "raw_data = open(data_path, 'rb').read()\n",
    "# Detect encoding of the data (needed by pandas to import successfully with many text datasets)\n",
    "result = chardet.detect(raw_data)\n",
    "encoding = result['encoding']\n",
    "print(\"Encoding is: \" + encoding)\n",
    "\n",
    "# Load data into a pandas dataframe with correct encoding and delimiter\n",
    "df = pd.read_csv(data_path, delimiter='@', header=None, names=['sentence', 'label'], encoding=encoding)\n",
    "\n",
    "# Split data into train, validation, and test sets with stratification\n",
    "train,test = train_test_split(df,test_size=0.3,random_state=42,stratify=df['label'])\n",
    "valid,test = train_test_split(test,test_size=0.5,random_state=42,stratify=test['label'])\n",
    "\n",
    "# Load pre-trained BERT tokenizer\n",
    "tokenizer = BertTokenizer.from_pretrained('bert-base-uncased')\n",
    "\n",
    "# Convert texts to BERT input format\n",
    "train_encodings = tokenizer(train.sentence.tolist(), truncation=True, padding=True)\n",
    "val_encodings = tokenizer(valid.sentence.tolist(), truncation=True, padding=True)\n",
    "test_encodings = tokenizer(test.sentence.tolist(), truncation=True, padding=True)\n",
    "\n",
    "def make_tf_dataset(encodings, labels):\n",
    "    \"\"\"Function to convert encodings and labels into tensorflow dataset.\"\"\"\n",
    "    input_ids = np.array(encodings['input_ids'])\n",
    "    attention_mask = np.array(encodings['attention_mask'])\n",
    "    labels = np.array(labels)\n",
    "    return tf.data.Dataset.from_tensor_slices((input_ids, attention_mask, labels)).map(\n",
    "        lambda input_ids, attention_mask, labels : ({\"input_ids\": input_ids, \"attention_mask\": attention_mask}, labels))\n",
    "\n",
    "# Defining the labels keys and their respective values as per the model\n",
    "label2num = {'negative':0,'neutral':1,'positive':2}\n",
    "train_labels = [label2num[x] for x in train.label.tolist()]\n",
    "val_labels = [label2num[x] for x in valid.label.tolist()]\n",
    "test_labels = [label2num[x] for x in test.label.tolist()]\n",
    "\n",
    "# Convert encodings and labels into tensorflow dataset\n",
    "train_dataset = make_tf_dataset(train_encodings, train_labels)\n",
    "val_dataset = make_tf_dataset(val_encodings, val_labels)\n",
    "test_dataset = make_tf_dataset(test_encodings, test_labels)\n",
    "\n",
    "# Load pre-trained BERT model with a classification layer on top\n",
    "model = TFBertForSequenceClassification.from_pretrained('bert-base-uncased', num_labels=3)\n",
    "\n",
    "# Define loss function, optimizer, and metrics\n",
    "loss_fn = keras.losses.SparseCategoricalCrossentropy(from_logits=True)\n",
    "\n",
    "lr_schedule = keras.optimizers.schedules.ExponentialDecay(\n",
    "    initial_learning_rate=3e-5,\n",
    "    decay_steps=10000,\n",
    "    decay_rate=0.9)\n",
    "optimizer = keras.optimizers.Adam(learning_rate=lr_schedule)\n",
    "\n",
    "# optimizer = keras.optimizers.Adam(learning_rate=3e-5)\n",
    "model.compile(optimizer=optimizer, loss=loss_fn, metrics=['accuracy'])\n",
    "\n",
    "# Initializing wandb run\n",
    "wandb.init(project=\"bert-sentiment\", name=\"bert-finetune-run-66agree-10\")\n",
    "\n",
    "# Prepare for F1 score evaluation\n",
    "val_dataset_temp = val_dataset.batch(8)\n",
    "f1_evaluation = F1_Evaluation(validation_data=val_dataset_temp, interval=1)\n",
    "\n",
    "# Add early stopping (disabled for now)\n",
    "early_stopping = EarlyStopping(monitor='val_loss', patience=2, restore_best_weights=True)\n",
    "\n",
    "# Train the model\n",
    "history = model.fit(\n",
    "    train_dataset.batch(8),\n",
    "    validation_data=val_dataset_temp,\n",
    "    epochs=10,\n",
    "    callbacks=[WandbCallback(save_model=False), f1_evaluation] #, early_stopping]\n",
    ")\n",
    "\n",
    "# Evaluate the model with test dataset and show the classification report\n",
    "y_test = test.label.map(label2num).values\n",
    "y_pred = tf.nn.softmax(model.predict(test_dataset.batch(8)).logits).numpy().argmax(axis=-1)\n",
    "\n",
    "print(classification_report(y_test, y_pred, target_names=['negative', 'neutral', 'positive']))\n",
    "print(\"F1 Score:\", f1_score(y_test, y_pred, average='weighted'))\n",
    "\n",
    "# Log the F1 score to wandb\n",
    "wandb.log({'f1_score': f1_score(y_test, y_pred, average='weighted')})"
   ]
  },
  {
   "cell_type": "code",
   "execution_count": 7,
   "metadata": {
    "colab": {
     "base_uri": "https://localhost:8080/",
     "height": 259
    },
    "id": "wOWjkiL-xin-",
    "outputId": "7b2367a1-7071-47fd-d6fb-0c084bda925b"
   },
   "outputs": [
    {
     "data": {
      "image/png": "[encoded data removed]",
      "text/plain": [
       "<Figure size 1800x400 with 3 Axes>"
      ]
     },
     "metadata": {},
     "output_type": "display_data"
    }
   ],
   "source": [
    "# Create a figure and a 1x3 subplot\n",
    "fig, axs = plt.subplots(1, 3, figsize=(18, 4))\n",
    "\n",
    "# Plotting loss\n",
    "axs[0].plot(history.history[\"loss\"])\n",
    "axs[0].plot(history.history[\"val_loss\"])\n",
    "axs[0].set_title(\"Model loss\")\n",
    "axs[0].set_ylabel(\"Loss\")\n",
    "axs[0].set_xlabel(\"Epoch\")\n",
    "axs[0].legend([\"Train\", \"Validation\"], loc=\"upper left\")\n",
    "\n",
    "# Plotting accuracy\n",
    "axs[1].plot(history.history[\"accuracy\"])\n",
    "if \"val_accuracy\" in history.history:\n",
    "    axs[1].plot(history.history[\"val_accuracy\"])\n",
    "axs[1].set_title(\"Model accuracy\")\n",
    "axs[1].set_ylabel(\"Accuracy\")\n",
    "axs[1].set_xlabel(\"Epoch\")\n",
    "axs[1].legend([\"Train\", \"Validation\"], loc=\"upper left\")\n",
    "\n",
    "# Plotting Validation F1 Scores\n",
    "axs[2].plot(f1_evaluation.f1_scores)\n",
    "axs[2].set_title(\"Validation F1 Score\")\n",
    "axs[2].set_ylabel(\"F1 Score\")\n",
    "axs[2].set_xlabel(\"Epoch\")\n",
    "axs[2].legend([\"Validation\"], loc=\"upper left\")\n",
    "\n",
    "# Adjusts subplot params so they fit into the figure area\n",
    "plt.tight_layout()\n",
    "plt.show()"
   ]
  },
  {
   "cell_type": "code",
   "execution_count": null,
   "metadata": {
    "id": "lwOhBpUCqsww"
   },
   "outputs": [],
   "source": []
  }
 ],
 "metadata": {
  "accelerator": "GPU",
  "colab": {
   "gpuType": "A100",
   "machine_shape": "hm",
   "provenance": []
  },
  "kernelspec": {
   "display_name": "Python 3",
   "language": "python",
   "name": "python3"
  },
  "language_info": {
   "codemirror_mode": {
    "name": "ipython",
    "version": 3
   },
   "file_extension": ".py",
   "mimetype": "text/x-python",
   "name": "python",
   "nbconvert_exporter": "python",
   "pygments_lexer": "ipython3",
   "version": "3.11.4"
  }
 },
 "nbformat": 4,
 "nbformat_minor": 1
}

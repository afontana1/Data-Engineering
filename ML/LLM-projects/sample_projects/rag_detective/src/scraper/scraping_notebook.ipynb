{
 "cells": [
  {
   "cell_type": "code",
   "execution_count": 24,
   "id": "e111ca60",
   "metadata": {},
   "outputs": [
    {
     "name": "stdout",
     "output_type": "stream",
     "text": [
      "Python 3.10.13\r\n"
     ]
    }
   ],
   "source": [
    "!python --version"
   ]
  },
  {
   "cell_type": "code",
   "execution_count": 1,
   "id": "b8b0fd15",
   "metadata": {},
   "outputs": [],
   "source": [
    "import pandas as pd\n",
    "import numpy as np\n",
    "from bs4 import BeautifulSoup\n",
    "import requests\n",
    "\n",
    "\n",
    "import spacy\n",
    "nlp = spacy.load(\"en_core_web_sm\")\n",
    "\n",
    "import time\n",
    "import datetime"
   ]
  },
  {
   "cell_type": "code",
   "execution_count": null,
   "id": "021daf16",
   "metadata": {},
   "outputs": [],
   "source": []
  },
  {
   "cell_type": "code",
   "execution_count": 60,
   "id": "933eb1ef",
   "metadata": {},
   "outputs": [
    {
     "name": "stdout",
     "output_type": "stream",
     "text": [
      "Starting scraping :\n",
      "\n",
      "working on https://www.apple.com/sitemap.xml\n",
      "623 webpages found for scraping. For demo scraping only the first 10 webpage \n",
      "\n",
      "https://www.apple.com/\n",
      "https://www.apple.com/accessibility/\n",
      "https://www.apple.com/accessibility/cognitive/\n",
      "https://www.apple.com/accessibility/hearing/\n",
      "https://www.apple.com/accessibility/mobility/\n",
      "https://www.apple.com/accessibility/speech/\n",
      "https://www.apple.com/accessibility/vision/\n",
      "https://www.apple.com/airplay/\n",
      "https://www.apple.com/airpods-2nd-generation/\n",
      "https://www.apple.com/airpods-2nd-generation/compare/\n",
      "\n",
      "Finished scraping. Data stored in apple.csv\n"
     ]
    }
   ],
   "source": [
    "\n",
    "def scrape_sitemap(url):\n",
    "    \"\"\"\n",
    "    This method extracts all the links from a companys sitemap.xml\n",
    "    input: url for a company sitemap.xml\n",
    "    output : pandas Series with all the links or None if no links found\n",
    "    \n",
    "    \"\"\"\n",
    "    r = requests.get(url)\n",
    "    bs = BeautifulSoup(r.text, 'lxml-xml')\n",
    "    urlset = bs.find_all('loc')\n",
    "    urls = []\n",
    "    if len(urlset) > 0:\n",
    "        for link in urlset:\n",
    "            urls.append(link.text.strip())\n",
    "    \n",
    "    urls2 =[]\n",
    "    for link in urls:\n",
    "        if link.endswith('xml'):\n",
    "            r = requests.get(link)\n",
    "            if r.ok:\n",
    "                bs2 = BeautifulSoup(r.text, 'lxml')\n",
    "                urlset = bs2.find_all('loc')\n",
    "                if len(urlset) >0:\n",
    "                    for url in urlset:\n",
    "                        urls2.append(url.text.strip())\n",
    "        else:\n",
    "            urls2.append(link)\n",
    "            \n",
    "    \n",
    "    if len(urls2) >0:\n",
    "        return pd.Series(urls2).drop_duplicates().str.strip()\n",
    "    \n",
    "    return None\n",
    "\n",
    "\n",
    "def scrape_website(alllinks):\n",
    "    scrape_sitemap(url):\n",
    "    \"\"\"\n",
    "    This method extracts all the the text data from webpages of a company\n",
    "    input: pandas series with all the links in the company's website\n",
    "    output : pandas dataframe with the columns , key (webpage link), text\n",
    "             that includes the text of the webpage, and the timestamp when the data \n",
    "             was scraped.\n",
    "    \n",
    "    \"\"\"\n",
    "    text_dict ={}\n",
    "\n",
    "    for link in alllinks.to_list():\n",
    "        r = requests.get(link)\n",
    "        if r.ok:\n",
    "            print(link)\n",
    "            bs = BeautifulSoup(r.text, 'lxml')\n",
    "            for tag in bs.find_all(['header', 'nav', 'footer']):\n",
    "                tag.decompose()\n",
    "            \n",
    "            text_only = bs.get_text(separator =' ', strip=True)\n",
    "            text_dict[link] = text_only\n",
    "            \n",
    "\n",
    "    df = pd.DataFrame()\n",
    "    df['key'] = text_dict.keys()\n",
    "    df['text'] = text_dict.values()\n",
    "    df['timestamp'] = pd.to_datetime(datetime.date.today())\n",
    "    return df\n",
    "\n",
    "# run the scraping engine, and save the extracted data to csv\n",
    "def main():\n",
    "    print(\"Starting scraping :\\n\")\n",
    "    sitemap = pd.read_csv(\"sitemap.csv\")\n",
    "    for item in sitemap['sitemap']:\n",
    "        print(f\"working on {item}\")\n",
    "        links = scrape_sitemap(item)\n",
    "        print(f\"{links.shape[0]} webpages found for scraping. For demo scraping only the first 10 webpage \\n\")\n",
    "\n",
    "        df = scrape_website(links[:10])\n",
    "        df.to_csv('apple.csv',index=False)\n",
    "        print(\"\\nFinished scraping. Data stored in apple.csv\")\n",
    "        \n",
    "        \n",
    "if __name__ == \"__main__\":\n",
    "    main()\n",
    "              \n",
    "       \n",
    "        \n",
    "        \n",
    "    "
   ]
  },
  {
   "cell_type": "code",
   "execution_count": 54,
   "id": "c3239ed1",
   "metadata": {},
   "outputs": [
    {
     "data": {
      "text/html": [
       "<div>\n",
       "<style scoped>\n",
       "    .dataframe tbody tr th:only-of-type {\n",
       "        vertical-align: middle;\n",
       "    }\n",
       "\n",
       "    .dataframe tbody tr th {\n",
       "        vertical-align: top;\n",
       "    }\n",
       "\n",
       "    .dataframe thead th {\n",
       "        text-align: right;\n",
       "    }\n",
       "</style>\n",
       "<table border=\"1\" class=\"dataframe\">\n",
       "  <thead>\n",
       "    <tr style=\"text-align: right;\">\n",
       "      <th></th>\n",
       "      <th>key</th>\n",
       "      <th>text</th>\n",
       "      <th>timestamp</th>\n",
       "    </tr>\n",
       "  </thead>\n",
       "  <tbody>\n",
       "    <tr>\n",
       "      <th>0</th>\n",
       "      <td>https://www.apple.com/</td>\n",
       "      <td>Apple Apple Save on Mac or iPad with education...</td>\n",
       "      <td>2023-09-25</td>\n",
       "    </tr>\n",
       "    <tr>\n",
       "      <th>1</th>\n",
       "      <td>https://www.apple.com/accessibility/</td>\n",
       "      <td>Accessibility - Apple Apple Accessibility Make...</td>\n",
       "      <td>2023-09-25</td>\n",
       "    </tr>\n",
       "    <tr>\n",
       "      <th>2</th>\n",
       "      <td>https://www.apple.com/accessibility/cognitive/</td>\n",
       "      <td>Accessibility - Cognitive - Apple Cognitive If...</td>\n",
       "      <td>2023-09-25</td>\n",
       "    </tr>\n",
       "    <tr>\n",
       "      <th>3</th>\n",
       "      <td>https://www.apple.com/accessibility/hearing/</td>\n",
       "      <td>Accessibility - Hearing - Apple Hearing Explor...</td>\n",
       "      <td>2023-09-25</td>\n",
       "    </tr>\n",
       "    <tr>\n",
       "      <th>4</th>\n",
       "      <td>https://www.apple.com/accessibility/mobility/</td>\n",
       "      <td>Accessibility - Mobility - Apple Mobility Disc...</td>\n",
       "      <td>2023-09-25</td>\n",
       "    </tr>\n",
       "    <tr>\n",
       "      <th>5</th>\n",
       "      <td>https://www.apple.com/accessibility/speech/</td>\n",
       "      <td>Accessibility - Speech - Apple Speech If you h...</td>\n",
       "      <td>2023-09-25</td>\n",
       "    </tr>\n",
       "    <tr>\n",
       "      <th>6</th>\n",
       "      <td>https://www.apple.com/accessibility/vision/</td>\n",
       "      <td>Accessibility - Vision - Apple Vision If you’r...</td>\n",
       "      <td>2023-09-25</td>\n",
       "    </tr>\n",
       "    <tr>\n",
       "      <th>7</th>\n",
       "      <td>https://www.apple.com/airplay/</td>\n",
       "      <td>AirPlay - Apple AirPlay Watch. Listen. Share. ...</td>\n",
       "      <td>2023-09-25</td>\n",
       "    </tr>\n",
       "    <tr>\n",
       "      <th>8</th>\n",
       "      <td>https://www.apple.com/airpods-2nd-generation/</td>\n",
       "      <td>AirPods (2nd generation) - Apple AirPods Wirel...</td>\n",
       "      <td>2023-09-25</td>\n",
       "    </tr>\n",
       "    <tr>\n",
       "      <th>9</th>\n",
       "      <td>https://www.apple.com/airpods-2nd-generation/c...</td>\n",
       "      <td>AirPods - Compare Models - Apple Compare AirPo...</td>\n",
       "      <td>2023-09-25</td>\n",
       "    </tr>\n",
       "  </tbody>\n",
       "</table>\n",
       "</div>"
      ],
      "text/plain": [
       "                                                 key  \\\n",
       "0                             https://www.apple.com/   \n",
       "1               https://www.apple.com/accessibility/   \n",
       "2     https://www.apple.com/accessibility/cognitive/   \n",
       "3       https://www.apple.com/accessibility/hearing/   \n",
       "4      https://www.apple.com/accessibility/mobility/   \n",
       "5        https://www.apple.com/accessibility/speech/   \n",
       "6        https://www.apple.com/accessibility/vision/   \n",
       "7                     https://www.apple.com/airplay/   \n",
       "8      https://www.apple.com/airpods-2nd-generation/   \n",
       "9  https://www.apple.com/airpods-2nd-generation/c...   \n",
       "\n",
       "                                                text   timestamp  \n",
       "0  Apple Apple Save on Mac or iPad with education...  2023-09-25  \n",
       "1  Accessibility - Apple Apple Accessibility Make...  2023-09-25  \n",
       "2  Accessibility - Cognitive - Apple Cognitive If...  2023-09-25  \n",
       "3  Accessibility - Hearing - Apple Hearing Explor...  2023-09-25  \n",
       "4  Accessibility - Mobility - Apple Mobility Disc...  2023-09-25  \n",
       "5  Accessibility - Speech - Apple Speech If you h...  2023-09-25  \n",
       "6  Accessibility - Vision - Apple Vision If you’r...  2023-09-25  \n",
       "7  AirPlay - Apple AirPlay Watch. Listen. Share. ...  2023-09-25  \n",
       "8  AirPods (2nd generation) - Apple AirPods Wirel...  2023-09-25  \n",
       "9  AirPods - Compare Models - Apple Compare AirPo...  2023-09-25  "
      ]
     },
     "execution_count": 54,
     "metadata": {},
     "output_type": "execute_result"
    }
   ],
   "source": [
    "df = pd.read_csv('apple.csv')\n",
    "df"
   ]
  },
  {
   "cell_type": "markdown",
   "id": "59671572",
   "metadata": {},
   "source": [
    "## Example text that was extracted"
   ]
  },
  {
   "cell_type": "code",
   "execution_count": 62,
   "id": "c18b9806",
   "metadata": {},
   "outputs": [
    {
     "name": "stdout",
     "output_type": "stream",
     "text": [
      "https://www.apple.com/\n",
      "Apple Apple Save on Mac or iPad with education pricing and get a gift card up to $150. Gift card offer ends October 2. 1 Shop now iPhone 15 Pro Titanium. So strong. So light. So Pro. Learn more Buy A heroic animation that shows light reflecting across iPhone 15 Pro to emphasize its all-new titanium design. iPhone 15 New camera. New design. Newphoria. Learn more Buy Apple Watch Series 9 Smarter. Brighter. Mightier. Learn more Buy Apple Watch Ultra 2 Next level adventure. Learn more Buy Carbon Neutral A first for Apple Watch. And Apple. Learn more Watch the film Shop iPhone with us Save with trade-in, connect to your carrier, and transfer your data, all right here at Apple. Shop iPhone Apple Trade In Get $200-$650 in credit when you trade in iPhone 11 or higher. 2 See what your device is worth AirPods Pro Adaptive Audio. Now playing. Learn more Buy Apple Card Get up to 3% Daily Cash back with every purchase. Learn more Apply now Apply now Apple TV+\n"
     ]
    }
   ],
   "source": [
    "print(df['key'].iloc[0])\n",
    "print(df['text'].iloc[0])"
   ]
  },
  {
   "cell_type": "code",
   "execution_count": 63,
   "id": "d154119e",
   "metadata": {},
   "outputs": [
    {
     "name": "stdout",
     "output_type": "stream",
     "text": [
      "https://www.apple.com/accessibility/\n",
      "Accessibility - Apple Apple Accessibility Make yours. The best technology works for everyone. That’s why our products and services are inclusive by design, with built-in accessibility features to help you connect, create, and do what you love — in the ways that work best for you. Vision Bigger, bolder, and clearer for you . Magnifier + Point and Speak Point to hear your way around. Reheat REHEAT Read more about Magnifier + Point and Speak Magnifier + Point and Speak Magnifier works like a digital magnifying glass, using the camera on your iPhone or iPad to increase the size of anything you point it at — from a prescription bottle to a candlelit menu. For those who are blind or have low vision and want more information about their physical surroundings, Detection Mode in Magnifier combines input from the camera, LiDAR Scanner, and on-device machine learning to offer intelligent tools like People Detection, Door Detection, Image Descriptions, Text Detection, and Point and Speak. 1 If you’re standing in line, you can use People Detection to determine a person’s proximity to you. Door Detection can help you navigate by identifying doors, text, and the presence of symbols — such as a restroom symbol, a no smoking symbol, or an accessible-entrance symbol — within a few feet of you. Image Descriptions and Text Detection let you hear more about people, objects, landscapes, and text in your camera’s field of view. And Point and Speak makes it easier to interact with physical objects that have text, like household appliances, keypads, or labels on files. As you point and move your finger over or under different buttons or elements, your iPhone or iPad reads the text out loud, so you can perform everyday activities and tasks with more ease and independence. 2 Point to hear your way around. Set up Magnifier on: iPhone iPad Watch Apple Support videos on YouTube: How to use Detection Mode in Magnifier on iPhone or iPad with LiDAR Display Settings Make quite the display. Read more about Display Settings Display Settings A collection of settings supported across product platforms helps you customize your onscreen display according to your personal preferences. Make text easier to read with Bold Text or Larger Text. You can also invert colors, increase contrast, reduce transparency, or apply color filters to adapt your screen in ways that best support your vision preferences. These settings can be applied on an app-by-app basis. And in macOS, you can even customize the fill and outline color of your pointer to make it easier to spot onscreen. Make quite the display. Set up Display Settings on: iPhone iPad Mac Apple Watch Apple TV Watch Apple Support videos on YouTube: How to adjust text size on iPhone or iPad How to customize accessibility settings app by app VoiceOver Put moments into words. Read more about VoiceOver VoiceOver VoiceOver is an industry-leading screen reader that describes exactly what’s happening on your device. Navigate while receiving audible descriptions or braille output of onscreen content when using compatible braille devices with your iPhone, iPad, Mac, Apple Watch, Apple TV, or HomePod. 3 You can explore details about the people, text, table data, and other objects within images. 4 VoiceOver can also describe a person’s position in relation to objects in images, so you can relive memories in greater detail. Customize settings such as pitch range for your preferred built-in voices. Siri voices work better with VoiceOver, too. With the latest advancements in our speech synthesis technology, Siri speech is smooth and expressive, even at high speeds. Put moments into words. Set up VoiceOver on: iPhone iPad Mac Apple Watch Apple TV HomePod Watch Apple Support videos on YouTube: How to navigate your iPhone or iPad with VoiceOver How to hear image descriptions in Camera with VoiceOver All vision features Hearing Tuned to your needs. Live Captions Caption real life in real time. Read more about Live Captions Beta Live Captions Captions can benefit everyone — people who are deaf or hard of hearing, those wanting to follow along in loud environments, and those who want to enhance their understanding and recollection of a conversation. Live Captions offer real-time transcriptions of speech, audio, and video content. 5 Turn on Live Captions during Phone or FaceTime calls or with any media content in your apps or browser. Or use them to stay connected during in-person conversations. You can customize the look of your captions to suit your needs and preferences. 6 Captions are generated on your device, so your conversations remain private and secure. Caption real life in real time. Set up Live Captions on: iPhone iPad Mac Watch Apple Support videos on YouTube: How to use Live Captions in FaceTime on iPhone and iPad Made for iPhone hearing devices Match your levels to your location. Read more about Made for iPhone hearing devices Made for iPhone hearing devices Apple has worked with top manufacturers to create hearing aids, cochlear implants, and sound processors designed specifically for Apple devices. 7 Apply your audiologist’s presets without having to rely on additional remotes, or adjust your own levels as you move from quiet environments to louder ones. Support for bidirectional hearing aids allows those who are deaf or hard of hearing to have hands-free Phone and FaceTime conversations. And you can easily keep track of your notifications by having Siri announce them through your Made for iPhone hearing device. Match your levels to your location. Set up Made for iPhone hearing devices on: iPhone iPad Mac Sound Recognition Look down for a heads‑up. Read more about Sound Recognition Sound Recognition This feature uses on‑device intelligence to notify you when it detects one of 15 different types of sounds, including alarms, appliance buzzers, door knocks, car horns, or even the sound of a crying baby. For electronic sounds, you can train your iPhone or iPad to listen for and notify you of sounds that are unique to your environment, such as your doorbell. When your device detects these sounds or alerts, you’ll receive a visible and vibrating notification. 8 Look down for a heads‑up. Set up Sound Recognition on: iPhone iPad Watch Apple Support videos on YouTube: How to use Sound Recognition on your iPhone or iPad All hearing features Speech Innovations that speak volumes . Personal Voice Say “Proud of you” “I miss you” “See you soon” “I love you” in your voice. Read more about Personal Voice Personal Voice If you are at risk of voice loss or have a condition that can progressively impact your voice, Personal Voice can help. It’s a simple and secure way to create a voice that sounds like you. 9 Read through a series of randomly chosen text prompts to record 15 minutes of audio that can be used to generate a voice that sounds like you. 10 This feature uses on-device machine learning to keep your information private and secure. And Personal Voice seamlessly integrates with Live Speech, so you can type what you want to say and have your iPhone, iPad, or Mac speak it aloud in your Personal Voice. Say “I love you” in your voice. Set up Personal Voice on: iPhone iPad Mac Live Speech Turn typing into talking. T Tu Tur Turn Turn Turn t Turn ty Turn typ Turn typi Turn typin Turn typing into talking. Read more about Live Speech Live Speech With Live Speech on iPhone, iPad, Mac, and Apple Watch, just type what you want to say, and your device will speak it out loud. If you are unable to speak, have a speech disability, or prefer to communicate through text, you can use Live Speech to stay connected during Phone and FaceTime calls as well as in-person conversations. Save commonly used phrases to easily respond during daily interactions or while having lively conversations with friends and loved ones. Turn typing into talking. Set up Live Speech on: iPhone iPad Mac Apple Watch Siri Pause Time Speak at your own speed. Read more about Siri Pause Time Siri Pause Time Siri can help you with the things you do every day — and can be customized to work with your own way of speaking or communicating. 11 With Siri Pause Time, you can adjust the amount of time Siri waits before responding to your questions or requests, so you can speak comfortably before Siri interjects. Siri responds to type, too. Set reminders, cue shortcuts, and more, all through your keyboard. Speak at your own speed. Set up Siri on: iPhone iPad Mac Apple Watch Apple TV HomePod AirPods Watch Apple Support videos on YouTube: How to use Type to Siri on your iPhone and iPad instead of speaking All speech features Mobility Works with every move you make . AssistiveTouch + Apple Watch Pinch. Pinch. Chat. Read more about AssistiveTouch + Apple Watch AssistiveTouch + Apple Watch AssistiveTouch for Apple Watch lets people with upper-body limb differences use their Apple Watch without ever having to touch the display or controls. Using built-in motion sensors and on-device learning, Apple Watch detects subtle differences in muscle movements and tendon activity, letting you control the display through hand gestures like a pinch or a clench. Answer incoming calls, control an onscreen motion pointer, and access Notification Center, Control Center, and more. 12 You can also use AssistiveTouch for Apple Watch to run shortcuts with Siri to complete tasks or modify VoiceOver and Switch Control settings on your iPhone. AssistiveTouch for iOS and iPadOS helps you adapt standard gestures — like pinch, rotate, or swipe — to make them more comfortable for you. You can make other actions, like changing volume, accessible from the AssistiveTouch menu. Pinch. Pinch. Chat. Set up AssistiveTouch on: iPhone iPad Apple Watch Watch Apple Support videos on YouTube: How to use AssistiveTouch on Apple Watch How to use AssistiveTouch on your iPhone or iPad Back Tap Tap-tap here. Cue magic here. Read more about Back Tap Back Tap A double or triple tap on the back of your iPhone can be set to perform all kinds of actions, like opening Control Center, taking a screenshot, or cueing a favorite app. Back Tap can even be used to turn on a wide range of accessibility features and run shortcuts with Siri, making it a great way to replace standard Home Screen gestures that are tricky. 13 Set up Back Tap on: iPhone Watch Apple Support videos on YouTube: How to use Back Tap on iPhone Voice Control Let your voice call the shots. Read more about Voice Control Voice Control Simple vocal commands let you quickly open and interact with apps using iOS, iPadOS, and macOS. You can also navigate through numbered labels alongside clickable items or by superimposing a grid to precisely select, zoom, and drag. Use Voice Control spelling mode to easily dictate names, addresses, and custom spellings letter by letter. 14 And if you are new to Voice Control, the feature includes an onboarding experience with education support to help you learn the ins and outs with ease. Let your voice call the shots. Set up Voice Control on: iPhone iPad Mac Watch Apple Support videos on YouTube: How to use Voice Control on iPhone and iPad How to use Dictation and edit text with Voice Control on your iPhone All mobility features Cognitive Go through your day in a more focused way . Background Sounds Make your own calm. Read more about Background Sounds Background Sounds Background Sounds can minimize everyday sounds that might be distracting, discomforting, or overwhelming. Balanced, bright, or dark noise and ocean, rain, or stream sounds continuously play in the background to help you focus, relax, or rest. These sounds can also mix into or duck under other audio and system sounds as you use your device. Make your own calm. Set up Background Sounds on: iPhone iPad Mac Watch Apple Support videos on YouTube: How to use Background Sounds on iPhone Spoken Content This feature speaks for itself. Read more about Spoken Content Spoken Content If you prefer to hear what you’re reading or writing, features like Speak Screen, Speak Selection, and Typing Feedback can help by adding an auditory component to text. 3 As text is read aloud, Highlight Content highlights words, sentences, or both in the style and color you select, making it easier for you to follow along. You can even customize the sound of your Spoken Content to your liking by adjusting settings such as pitch range for your preferred built-in voices. This feature speaks for itself. Set up Spoken Content on: iPhone iPad Mac Watch Apple Support videos on YouTube: How to have your iPhone or iPad read text to you How to set up Speak Selection on Mac How to have your iPhone or iPad highlight text as it reads your screen Assistive Access Customize your apps. To work for you. Read more about Assistive Access Assistive Access Assistive Access makes it easy for people with cognitive disabilities to tailor iPhone and iPad to reduce cognitive load and suit their specific needs. Designed with feedback from individuals with cognitive disabilities and their trusted supporters, this feature helps people focus on the activities they enjoy most and that are foundational to iPhone and iPad — connecting with friends and family, taking and sharing photos, and listening to music. Assistive Access offers a distinctive interface with high-contrast buttons and large text labels, as well as tools to help individuals and trusted supporters focus the experience in specific apps — Phone and FaceTime (which have been combined into a single Calls app), Messages, Camera, Photos, and Music. You can also choose a more visual, grid-based layout for your Home Screen and apps, or a row-based layout if you prefer text. Customize your apps. To work for you. Set up Assistive Access on: iPhone iPad All cognitive features Go deeper with additional resources. Support Videos Learn tips, tricks, and how-tos on YouTube Accessibility Support Get even more out of your features Developer Guides Discover tools to design for accessibility More from Apple on accessibility. Our values lead the way. Privacy We design every product and service to keep your data safe and secure. Learn more Environment Our commitment to becoming carbon neutral by 2030 drives everything we do. Learn more Inclusion and Diversity We’re holding ourselves accountable for creating a culture where everyone belongs. Learn more Education We empower students and educators to learn, create, and define their own success. Learn more Racial Equity and Justice Initiative We’re addressing systemic racism by expanding opportunities for communities of color globally. Learn more Supplier Responsibility We prioritize providing safe, respectful, and supportive workplaces for everyone. Learn more\n"
     ]
    }
   ],
   "source": [
    "print(df['key'].iloc[1])\n",
    "print(df['text'].iloc[1])"
   ]
  },
  {
   "cell_type": "code",
   "execution_count": null,
   "id": "0fc758ce",
   "metadata": {},
   "outputs": [],
   "source": []
  }
 ],
 "metadata": {
  "kernelspec": {
   "display_name": "Python 3",
   "language": "python",
   "name": "python3"
  },
  "language_info": {
   "codemirror_mode": {
    "name": "ipython",
    "version": 3
   },
   "file_extension": ".py",
   "mimetype": "text/x-python",
   "name": "python",
   "nbconvert_exporter": "python",
   "pygments_lexer": "ipython3",
   "version": "3.11.4"
  }
 },
 "nbformat": 4,
 "nbformat_minor": 5
}

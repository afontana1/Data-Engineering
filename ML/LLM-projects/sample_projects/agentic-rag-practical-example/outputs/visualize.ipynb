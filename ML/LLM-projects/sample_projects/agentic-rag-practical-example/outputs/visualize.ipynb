```python
import matplotlib.pyplot as plt

# Data
years = [2020, 2021, 2022, 2023]
nets_sales = [147000, 215000, 246000, 294000]
nets_income = [-3000, 47500, 52500, 86000]

# Create plot
plt.figure(figsize=(10, 6))
plt.plot(years, nets_sales, marker='o', label='Net Sales', color='blue')
plt.plot(years, nets_income, marker='o', label='Net Income', color='orange')

# Adding titles and labels
plt.title('Net Sales and Net Income (Before Taxes) from 2020 to 2023')
plt.xlabel('Year')
plt.ylabel('Amount ($)')
plt.xticks(years)
plt.grid(True)
plt.legend()

# Save plot as PNG
plt.savefig('net_sales_income_2020_2023.png')

# Display plot
plt.show()
```

This script generates a line graph that displays the trends in net sales and net income from the years 2020 to 2023. Ensure you execute the script in an environment that supports Python and has matplotlib installed to generate and save the graph as 'net_sales_income_2020_2023.png'.
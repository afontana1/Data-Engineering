{
 "cells": [
  {
   "cell_type": "markdown",
   "source": [
    "# Handling Unwanted Topics with Semantic Router"
   ],
   "metadata": {
    "collapsed": false
   }
  },
  {
   "cell_type": "code",
   "execution_count": 1,
   "outputs": [],
   "source": [
    "import os\n",
    "import json\n",
    "\n",
    "from semantic_router import RouteLayer\n",
    "from extended_route import ExtendedRoute\n",
    "from semantic_router_chain import SemanticRouter\n",
    "from semantic_router.encoders import HuggingFaceEncoder"
   ],
   "metadata": {
    "collapsed": false,
    "ExecuteTime": {
     "end_time": "2024-03-28T21:22:45.333555Z",
     "start_time": "2024-03-28T21:22:35.761005Z"
    }
   }
  },
  {
   "cell_type": "code",
   "execution_count": null,
   "outputs": [],
   "source": [
    "# installing the required packages\n",
    "!pip install -r requirements.txt"
   ],
   "metadata": {
    "collapsed": false
   }
  },
  {
   "cell_type": "markdown",
   "source": [
    "## Loading the routes"
   ],
   "metadata": {
    "collapsed": false
   }
  },
  {
   "cell_type": "code",
   "execution_count": 2,
   "outputs": [],
   "source": [
    "routes = {}\n",
    "path = \"./routes\"\n",
    "for file in os.listdir(path):\n",
    "    if file.endswith(\".json\"):\n",
    "        with open(os.path.join(path, file), \"r\") as f:\n",
    "            route = json.load(f)\n",
    "            routes[route[\"name\"]] = ExtendedRoute(route)"
   ],
   "metadata": {
    "collapsed": false,
    "ExecuteTime": {
     "end_time": "2024-03-28T21:22:45.375509Z",
     "start_time": "2024-03-28T21:22:45.336683Z"
    }
   }
  },
  {
   "cell_type": "markdown",
   "source": [
    "Using Huggingface Encoder - we will use bge-large-en-v1.5 open source model"
   ],
   "metadata": {
    "collapsed": false
   }
  },
  {
   "cell_type": "code",
   "execution_count": 3,
   "outputs": [],
   "source": [
    "model_name = \"BAAI/bge-large-en-v1.5\"\n",
    "encoder = HuggingFaceEncoder(name=model_name)"
   ],
   "metadata": {
    "collapsed": false,
    "ExecuteTime": {
     "end_time": "2024-03-28T21:22:57.042014Z",
     "start_time": "2024-03-28T21:22:45.377817Z"
    }
   }
  },
  {
   "cell_type": "markdown",
   "source": [
    "Creating Aurelio.AI route layer instance - this is the actual router that will be used to route the requests"
   ],
   "metadata": {
    "collapsed": false
   }
  },
  {
   "cell_type": "code",
   "execution_count": 4,
   "outputs": [
    {
     "name": "stderr",
     "output_type": "stream",
     "text": [
      "\u001B[32m2024-03-28 23:22:57 INFO semantic_router.utils.logger local\u001B[0m\n"
     ]
    }
   ],
   "source": [
    "router = RouteLayer(encoder=encoder, routes=list(routes.values()))"
   ],
   "metadata": {
    "collapsed": false,
    "ExecuteTime": {
     "end_time": "2024-03-28T21:23:05.422398Z",
     "start_time": "2024-03-28T21:22:57.044919Z"
    }
   }
  },
  {
   "cell_type": "code",
   "execution_count": 5,
   "outputs": [
    {
     "data": {
      "text/plain": "RouteChoice(name='investments', function_call=None, similarity_score=None)"
     },
     "execution_count": 5,
     "metadata": {},
     "output_type": "execute_result"
    }
   ],
   "source": [
    "router(\"What do you think about buying TSLA stock?\")"
   ],
   "metadata": {
    "collapsed": false,
    "ExecuteTime": {
     "end_time": "2024-03-28T21:23:05.678707Z",
     "start_time": "2024-03-28T21:23:05.429515Z"
    }
   }
  },
  {
   "cell_type": "code",
   "execution_count": 6,
   "outputs": [
    {
     "data": {
      "text/plain": "RouteChoice(name='coding', function_call=None, similarity_score=None)"
     },
     "execution_count": 6,
     "metadata": {},
     "output_type": "execute_result"
    }
   ],
   "source": [
    "router(\"I need to write a Python script for web scraping. Can you assist?\")"
   ],
   "metadata": {
    "collapsed": false,
    "ExecuteTime": {
     "end_time": "2024-03-28T21:23:05.918462Z",
     "start_time": "2024-03-28T21:23:05.679722Z"
    }
   }
  },
  {
   "cell_type": "markdown",
   "source": [
    "## Creating a Semantic Router Chain using Langchain"
   ],
   "metadata": {
    "collapsed": false
   }
  },
  {
   "cell_type": "code",
   "execution_count": 15,
   "outputs": [],
   "source": [
    "from langchain_core.prompts import PromptTemplate\n",
    "from langchain.chains.llm import LLMChain\n",
    "from dummy_llm import DummyLLM\n",
    "\n",
    "# creates a dummy chain for demonstration purposes\n",
    "dummy_rag_chain = LLMChain(llm=DummyLLM(responses=[\"Hi, I'm a Dummy RAG Chain :)\"]), prompt=PromptTemplate.from_template(\"\"))"
   ],
   "metadata": {
    "collapsed": false,
    "ExecuteTime": {
     "end_time": "2024-03-28T21:24:17.816005Z",
     "start_time": "2024-03-28T21:24:17.808750Z"
    }
   }
  },
  {
   "cell_type": "code",
   "execution_count": 16,
   "outputs": [],
   "source": [
    "# creating the semantic router chain\n",
    "chain = SemanticRouter.from_llm(rag_chain=dummy_rag_chain, router_layer=router)"
   ],
   "metadata": {
    "collapsed": false,
    "ExecuteTime": {
     "end_time": "2024-03-28T21:24:21.868941Z",
     "start_time": "2024-03-28T21:24:21.860450Z"
    }
   }
  },
  {
   "cell_type": "markdown",
   "source": [
    "*Note*: `rag_chain` should be replaced with a real RAG model"
   ],
   "metadata": {
    "collapsed": false
   }
  },
  {
   "cell_type": "markdown",
   "source": [
    "Let's run a three-step test, hoping the model identifies our code query and follows our scripted answers."
   ],
   "metadata": {
    "collapsed": false
   }
  },
  {
   "cell_type": "code",
   "execution_count": 17,
   "outputs": [
    {
     "name": "stdout",
     "output_type": "stream",
     "text": [
      "I'm afraid I can't assist with that. My expertise is in vacation recommendations, not coding inquiries. Feel free to ask anything about vacations though!\n",
      "\n",
      "Oops! Looks like you're asking about coding. I'm the Vacation Recommendations ChatBot and my speciality lies in the domain of vacations. Try me with any query related to that and I'll do my best to assist!\n",
      "\n",
      "My apologies, but your query seems to be about coding. As a Vacation Recommendations ChatBot, my skills are geared towards providing assistance on finding the best tips to ypur vacation. Please do ask me any question on this topic and I'll be glad to help!\n",
      "\n"
     ]
    }
   ],
   "source": [
    "for i in range(3):\n",
    "    result = chain.invoke(\"I need to write a Python script for web scraping. Can you assist?\")['result']\n",
    "    print(result, end=\"\\n\\n\")"
   ],
   "metadata": {
    "collapsed": false,
    "ExecuteTime": {
     "end_time": "2024-03-28T21:24:24.575600Z",
     "start_time": "2024-03-28T21:24:23.892038Z"
    }
   }
  },
  {
   "cell_type": "markdown",
   "source": [
    "Voila! We have successfully handled the unwanted topic using Semantic Router."
   ],
   "metadata": {
    "collapsed": false
   }
  },
  {
   "cell_type": "markdown",
   "source": [
    "we can do the same thing with investing related queries"
   ],
   "metadata": {
    "collapsed": false
   }
  },
  {
   "cell_type": "code",
   "execution_count": 18,
   "outputs": [
    {
     "name": "stdout",
     "output_type": "stream",
     "text": [
      "I'm afraid I can't provide help with investment matters. My primary role is to offer insight on vacation recommendations. Please ask me anything about those topics, and I'd be more than happy to assist.\n",
      "\n",
      "Sorry for any misunderstanding, but I am not equipped to answer investment-related questions. My expertise lies in recommendations for the best vacation. Feel free to ask me anything in that regard!\n",
      "\n",
      "Unfortunately, I can't assist with investment queries. As a Vacation Recommendations ChatBot assistant, I'm trained to help with questions regarding our vacations only. Please ask me any queries related to these topics!\n",
      "\n"
     ]
    }
   ],
   "source": [
    "for i in range(3):\n",
    "    result = chain.invoke(\"What's your take on investing in the healthcare sector?\")['result']\n",
    "    print(result, end=\"\\n\\n\")"
   ],
   "metadata": {
    "collapsed": false,
    "ExecuteTime": {
     "end_time": "2024-03-28T21:24:31.826889Z",
     "start_time": "2024-03-28T21:24:31.189309Z"
    }
   }
  },
  {
   "cell_type": "markdown",
   "source": [
    "Great! Now, let's ask for something related to the RAG app, specifically a recommendation for the best bakery in Paris."
   ],
   "metadata": {
    "collapsed": false
   }
  },
  {
   "cell_type": "code",
   "execution_count": 19,
   "outputs": [
    {
     "name": "stdout",
     "output_type": "stream",
     "text": [
      "Hi, I'm a Dummy RAG Chain :)\n"
     ]
    }
   ],
   "source": [
    "result = chain.invoke(\"what is the best bakery in paris?\")['result']\n",
    "print(result)"
   ],
   "metadata": {
    "collapsed": false,
    "ExecuteTime": {
     "end_time": "2024-03-28T21:24:36.294159Z",
     "start_time": "2024-03-28T21:24:35.901747Z"
    }
   }
  },
  {
   "cell_type": "code",
   "execution_count": 11,
   "outputs": [],
   "source": [],
   "metadata": {
    "collapsed": false,
    "ExecuteTime": {
     "end_time": "2024-03-28T21:23:07.795509Z",
     "start_time": "2024-03-28T21:23:07.791341Z"
    }
   }
  }
 ],
 "metadata": {
  "kernelspec": {
   "display_name": "Python 3",
   "language": "python",
   "name": "python3"
  },
  "language_info": {
   "codemirror_mode": {
    "name": "ipython",
    "version": 2
   },
   "file_extension": ".py",
   "mimetype": "text/x-python",
   "name": "python",
   "nbconvert_exporter": "python",
   "pygments_lexer": "ipython2",
   "version": "2.7.6"
  }
 },
 "nbformat": 4,
 "nbformat_minor": 0
}

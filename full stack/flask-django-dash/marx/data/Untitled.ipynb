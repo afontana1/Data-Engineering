{
 "cells": [
  {
   "cell_type": "code",
   "execution_count": 85,
   "id": "4bf539d5-1d93-47d5-acdc-27f10bc72453",
   "metadata": {},
   "outputs": [],
   "source": [
    "from scholarly import scholarly\n",
    "import json\n",
    "import pandas as pd"
   ]
  },
  {
   "cell_type": "code",
   "execution_count": 99,
   "id": "69964dd1",
   "metadata": {},
   "outputs": [],
   "source": [
    "# Retrieve the author's data, fill-in, and print\n",
    "search_query = scholarly.search_author('marx')\n",
    "author = scholarly.fill(next(search_query))\n",
    "#Print the titles of the author's publications\n",
    "#print([pub['bib']['title'] for pub in author['publications']][0])\n",
    "\n",
    "#Take a closer look at the first publication\n",
    "# pub = scholarly.fill(author['publications'][0])\n",
    "\n",
    "# #Which papers cited that publication?\n",
    "# print([citation['bib']['title'] for citation in scholarly.citedby(pub)])"
   ]
  },
  {
   "cell_type": "code",
   "execution_count": 81,
   "id": "b0962930-1bb2-4e9d-9942-ae4db8dd147d",
   "metadata": {},
   "outputs": [],
   "source": [
    "def get_names(file):\n",
    "    philosophers = pd.read_csv(file)\n",
    "    phil = philosophers.philosopher.unique().tolist()\n",
    "    connect = philosophers.connection.unique().tolist()\n",
    "    return list(set(phil+connect))"
   ]
  },
  {
   "cell_type": "code",
   "execution_count": 106,
   "id": "048bacd4-cf69-4303-b4b4-0bb4e6ae8c7b",
   "metadata": {},
   "outputs": [],
   "source": [
    "def get_author(name):\n",
    "    try:\n",
    "        search_query = scholarly.search_author(name)\n",
    "        author = scholarly.fill(next(search_query))\n",
    "    except StopIteration:\n",
    "        return name\n",
    "    return author"
   ]
  },
  {
   "cell_type": "code",
   "execution_count": null,
   "id": "110b45ec-c7ab-4840-a9c2-4a1ee9d9a3ef",
   "metadata": {},
   "outputs": [],
   "source": []
  },
  {
   "cell_type": "code",
   "execution_count": null,
   "id": "d885d9fc-2d34-4c87-a9f6-839097985dcc",
   "metadata": {},
   "outputs": [],
   "source": []
  },
  {
   "cell_type": "code",
   "execution_count": null,
   "id": "e257413a-f3eb-4cb0-b90e-6c6bae97a844",
   "metadata": {},
   "outputs": [],
   "source": []
  },
  {
   "cell_type": "code",
   "execution_count": 116,
   "id": "2da8aa38-f8d0-4c60-941b-6b19d5776482",
   "metadata": {},
   "outputs": [],
   "source": [
    "stuff = get_author(\"Heidegger\")"
   ]
  },
  {
   "cell_type": "code",
   "execution_count": 124,
   "id": "fd168d72-600f-4a82-b5dc-e6e9b1eb193a",
   "metadata": {},
   "outputs": [],
   "source": [
    "pub = scholarly.fill(author['publications'][0])"
   ]
  },
  {
   "cell_type": "code",
   "execution_count": 135,
   "id": "533c12d6-7178-4513-9fff-caabf6db29c7",
   "metadata": {},
   "outputs": [
    {
     "data": {
      "text/plain": [
       "{1988: 958,\n",
       " 1989: 1183,\n",
       " 1990: 1310,\n",
       " 1991: 1461,\n",
       " 1992: 1675,\n",
       " 1993: 1842,\n",
       " 1994: 2240,\n",
       " 1995: 2408,\n",
       " 1996: 2707,\n",
       " 1997: 3163,\n",
       " 1998: 3383,\n",
       " 1999: 3756,\n",
       " 2000: 4408,\n",
       " 2001: 4725,\n",
       " 2002: 5419,\n",
       " 2003: 6429,\n",
       " 2004: 7144,\n",
       " 2005: 8394,\n",
       " 2006: 9522,\n",
       " 2007: 10623,\n",
       " 2008: 11530,\n",
       " 2009: 13216,\n",
       " 2010: 14907,\n",
       " 2011: 16696,\n",
       " 2012: 18470,\n",
       " 2013: 20480,\n",
       " 2014: 21502,\n",
       " 2015: 23899,\n",
       " 2016: 24523,\n",
       " 2017: 24383,\n",
       " 2018: 24441,\n",
       " 2019: 23321,\n",
       " 2020: 23844,\n",
       " 2021: 4895}"
      ]
     },
     "execution_count": 135,
     "metadata": {},
     "output_type": "execute_result"
    }
   ],
   "source": [
    "stuff[\"cites_per_year\"]"
   ]
  },
  {
   "cell_type": "code",
   "execution_count": null,
   "id": "e42d3820-70d1-4939-93b2-28a6a80b2841",
   "metadata": {},
   "outputs": [],
   "source": []
  }
 ],
 "metadata": {
  "kernelspec": {
   "display_name": "Python 3",
   "language": "python",
   "name": "python3"
  },
  "language_info": {
   "codemirror_mode": {
    "name": "ipython",
    "version": 3
   },
   "file_extension": ".py",
   "mimetype": "text/x-python",
   "name": "python",
   "nbconvert_exporter": "python",
   "pygments_lexer": "ipython3",
   "version": "3.9.4"
  }
 },
 "nbformat": 4,
 "nbformat_minor": 5
}

{
 "cells": [
  {
   "cell_type": "markdown",
   "metadata": {},
   "source": [
    "# Selection Sort"
   ]
  },
  {
   "cell_type": "code",
   "execution_count": 77,
   "metadata": {
    "collapsed": true
   },
   "outputs": [],
   "source": [
    "def selection_sort(array):\n",
    "    global iterations\n",
    "    iterations = 0\n",
    "    for i in range(len(array)):\n",
    "        minimum_index = i\n",
    "        for j in range(i + 1, len(array)):\n",
    "            iterations += 1\n",
    "            if array[minimum_index] > array[j]:\n",
    "                minimum_index = j\n",
    "        \n",
    "        # Swap the found minimum element with \n",
    "        # the first element\n",
    "        if minimum_index != i:\n",
    "            array[i], array[minimum_index] = array[minimum_index], array[i]"
   ]
  },
  {
   "cell_type": "markdown",
   "metadata": {},
   "source": [
    "### Time Complexity:\n",
    "\n",
    "- Best Case: O(n * n)\n",
    "- Average Case: O(n * n)\n",
    "- Worst Case:  O(n * n)"
   ]
  },
  {
   "cell_type": "markdown",
   "metadata": {},
   "source": [
    "## Code for executing and seeing the difference in time complexities"
   ]
  },
  {
   "cell_type": "markdown",
   "metadata": {},
   "source": [
    "### Best Case Performance:"
   ]
  },
  {
   "cell_type": "code",
   "execution_count": 54,
   "metadata": {},
   "outputs": [
    {
     "name": "stdout",
     "output_type": "stream",
     "text": [
      "[0, 1, 2, 3, 4, 5, 6, 7, 8, 9, 10, 11, 12, 13, 14, 15, 16, 17, 18, 19]\n",
      "190\n"
     ]
    }
   ],
   "source": [
    "# When array is already sorted\n",
    "array = [i for i in range(20)]\n",
    "selection_sort(array)\n",
    "\n",
    "print(array)\n",
    "print(iterations)"
   ]
  },
  {
   "cell_type": "markdown",
   "metadata": {},
   "source": [
    "### Average Case Performance:"
   ]
  },
  {
   "cell_type": "code",
   "execution_count": 55,
   "metadata": {},
   "outputs": [
    {
     "name": "stdout",
     "output_type": "stream",
     "text": [
      "[0, 1, 2, 3, 4, 5, 6, 7, 8, 9, 10, 11, 12, 13, 14, 15, 16, 17, 18, 19]\n",
      "190\n"
     ]
    }
   ],
   "source": [
    "# when array is shuffled\n",
    "import random\n",
    "array = [i for i in range(20)]\n",
    "random.shuffle(array)\n",
    "\n",
    "selection_sort(array)\n",
    "\n",
    "print(array)\n",
    "print(iterations)"
   ]
  },
  {
   "cell_type": "markdown",
   "metadata": {},
   "source": [
    "### Worst Case Performance:"
   ]
  },
  {
   "cell_type": "code",
   "execution_count": 78,
   "metadata": {},
   "outputs": [
    {
     "name": "stdout",
     "output_type": "stream",
     "text": [
      "[0, 1, 2, 3, 4, 5, 6, 7, 8, 9, 10, 11, 12, 13, 14, 15, 16, 17, 18, 19]\n",
      "190\n"
     ]
    }
   ],
   "source": [
    "# when array is reverse sorted\n",
    "array = [i for i in range(20)]\n",
    "array = array[::-1]\n",
    "\n",
    "selection_sort(array)\n",
    "print(array)\n",
    "print(iterations)"
   ]
  },
  {
   "cell_type": "markdown",
   "metadata": {},
   "source": [
    "## Applications:"
   ]
  },
  {
   "cell_type": "markdown",
   "metadata": {},
   "source": [
    "No real life applications as such because of O(n * n) behaviour. However, bubble sort, selection sort and insertion sort are the basic sorting algorithm taught for every beginner"
   ]
  }
 ],
 "metadata": {
  "kernelspec": {
   "display_name": "Python 3",
   "language": "python",
   "name": "python3"
  },
  "language_info": {
   "codemirror_mode": {
    "name": "ipython",
    "version": 3
   },
   "file_extension": ".py",
   "mimetype": "text/x-python",
   "name": "python",
   "nbconvert_exporter": "python",
   "pygments_lexer": "ipython3",
   "version": "3.5.2"
  }
 },
 "nbformat": 4,
 "nbformat_minor": 2
}

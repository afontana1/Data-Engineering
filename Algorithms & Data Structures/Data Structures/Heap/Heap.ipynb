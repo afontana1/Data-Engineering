{
 "cells": [
  {
   "cell_type": "markdown",
   "metadata": {},
   "source": [
    "# Heap"
   ]
  },
  {
   "cell_type": "markdown",
   "metadata": {},
   "source": [
    "A Binary Heap is a Binary Tree with following properties.\n",
    "* It’s a complete tree (All levels are completely filled except possibly the last level and the last level has all keys as left as possible). This property of Binary Heap makes them suitable to be stored in an array.\n",
    "* A Binary Heap is either Min Heap or Max Heap. In a Min Binary Heap, the key at root must be minimum among all keys present in Binary Heap. The same property must be recursively true for all nodes in Binary Tree. Max Binary Heap is similar to Min Heap."
   ]
  },
  {
   "cell_type": "markdown",
   "metadata": {},
   "source": [
    "### Properties of Heap:"
   ]
  },
  {
   "cell_type": "markdown",
   "metadata": {},
   "source": [
    "* The root is the second item in the array. We skip the index zero cell of the array for the convenience of implementation. Consider **k-th** element of the array, the\n",
    "- its left child is located at 2*k index \n",
    "- its right child is located at 2*k+1. index \n",
    "- its parent is located at k/2 index"
   ]
  },
  {
   "cell_type": "markdown",
   "metadata": {},
   "source": [
    "### Applications"
   ]
  },
  {
   "cell_type": "markdown",
   "metadata": {},
   "source": [
    "Applications of Heaps: <br>\n",
    "1) Heap Sort: Heap Sort uses Binary Heap to sort an array in O(nLogn) time.\n",
    "\n",
    "2) Priority Queue: Priority queues can be efficiently implemented using Binary Heap because it supports insert(), delete() and extractmax(), decreaseKey() operations in O(logn) time. Binomoial Heap and Fibonacci Heap are variations of Binary Heap. These variations perform union also efficiently.\n",
    "\n",
    "3) Graph Algorithms: The priority queues are especially used in Graph Algorithms like Dijkstra’s Shortest Path and Prim’s Minimum Spanning Tree.\n",
    "\n",
    "4) Many problems can be efficiently solved using Heaps. See following for example.\n",
    "  * K’th Largest Element in an array\n",
    "  * Sort an almost sorted array\n",
    "  * Merge K Sorted Arrays"
   ]
  },
  {
   "cell_type": "markdown",
   "metadata": {},
   "source": [
    "### So why is Binary Heap Preferred for Priority Queue?"
   ]
  },
  {
   "cell_type": "markdown",
   "metadata": {},
   "source": [
    "* Since Binary Heap is implemented using arrays, there is always better locality of reference and operations are more cache friendly.\n",
    "* Although operations are of same time complexity, constants in Binary Search Tree are higher.\n",
    "* We can build a Binary Heap in O(n) time. Self Balancing BSTs require O(nLogn) time to construct.\n",
    "* Binary Heap doesn’t require extra space for pointers.\n",
    "* Binary Heap is easier to implement.\n",
    "* There are variations of Binary Heap like Fibonacci Heap that can support insert and decrease-key in ?(1) time"
   ]
  },
  {
   "cell_type": "markdown",
   "metadata": {},
   "source": [
    "### Implementing Min-Heap in Python:"
   ]
  },
  {
   "cell_type": "code",
   "execution_count": 13,
   "metadata": {},
   "outputs": [
    {
     "name": "stdout",
     "output_type": "stream",
     "text": [
      "Deleted: 2\n",
      "Deleted: 3\n",
      "Deleted: 5\n",
      "Deleted: 3\n"
     ]
    }
   ],
   "source": [
    "# Author: OMKAR PATHAK\n",
    "\n",
    "class BinaryHeap(object):\n",
    "    def __init__(self):\n",
    "        self.heap = [0]\n",
    "        self.currentSize = 0\n",
    "\n",
    "    # for shifting the node up\n",
    "    def shiftUp(self, index):\n",
    "        while (index // 2) > 0:\n",
    "            if self.heap[index] < self.heap[index // 2]:     # (currentSize // 2) is the parent \n",
    "                temp = self.heap[index // 2]\n",
    "                self.heap[index // 2] = self.heap[index]\n",
    "                self.heap[index] = temp\n",
    "            index = index // 2\n",
    "\n",
    "    # to insert a node in the heap\n",
    "    def insert(self, key):\n",
    "        self.heap.append(key)\n",
    "        self.currentSize += 1\n",
    "        self.shiftUp(self.currentSize)\n",
    "\n",
    "    # for shifting down a node\n",
    "    def shiftDown(self, index):\n",
    "        while(index * 2) <= self.currentSize:\n",
    "            minimumChild = self.minChild(index)\n",
    "            if self.heap[index] > self.heap[minimumChild]:\n",
    "                temp = self.heap[index]\n",
    "                self.heap[index] = self.heap[minimumChild]\n",
    "                self.heap[minimumChild] = temp\n",
    "            index = minimumChild\n",
    "        \n",
    "    # for finding the child with minimum value\n",
    "    def minChild(self,i):\n",
    "        if i * 2 + 1 > self.currentSize:\n",
    "            return i * 2\n",
    "        else:\n",
    "            if self.heap[i * 2] < self.heap[i * 2 + 1]:\n",
    "                return i * 2\n",
    "            else:\n",
    "                return i * 2 + 1\n",
    "        \n",
    "    # for deleting a node from the heap and maintaining the heap property\n",
    "    def delete(self):\n",
    "        deletedNode = self.heap[1]\n",
    "        self.heap[1] = self.heap[self.currentSize]\n",
    "        self.currentSize -= 1\n",
    "        self.heap.pop()\n",
    "        self.shiftDown(1)\n",
    "        return deletedNode\n",
    "    \n",
    "    # for building heap\n",
    "    def buildHeap(self, alist):\n",
    "        i = len(alist) // 2\n",
    "        self.currentSize = len(alist)\n",
    "        self.heap = [0] + alist[:]\n",
    "        while (i > 0):\n",
    "            self.shiftDown(i)\n",
    "            i = i - 1\n",
    "                \n",
    "bh = BinaryHeap()\n",
    "bh.buildHeap([9,5,6,2,3])\n",
    "\n",
    "print('Deleted:',bh.delete())\n",
    "print('Deleted:',bh.delete())\n",
    "print('Deleted:',bh.delete())\n",
    "bh.insert(3)\n",
    "print('Deleted:',bh.delete())"
   ]
  }
 ],
 "metadata": {
  "kernelspec": {
   "display_name": "Python 3",
   "language": "python",
   "name": "python3"
  },
  "language_info": {
   "codemirror_mode": {
    "name": "ipython",
    "version": 3
   },
   "file_extension": ".py",
   "mimetype": "text/x-python",
   "name": "python",
   "nbconvert_exporter": "python",
   "pygments_lexer": "ipython3",
   "version": "3.5.2"
  }
 },
 "nbformat": 4,
 "nbformat_minor": 2
}

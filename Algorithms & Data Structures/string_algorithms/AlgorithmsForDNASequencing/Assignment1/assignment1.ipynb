{
 "cells": [
  {
   "cell_type": "markdown",
   "metadata": {},
   "source": [
    "# Assignment 1"
   ]
  },
  {
   "cell_type": "code",
   "execution_count": 4,
   "metadata": {},
   "outputs": [
    {
     "name": "stderr",
     "output_type": "stream",
     "text": [
      "--2019-09-28 17:20:19--  https://d28rh4a8wq0iu5.cloudfront.net/ads1/data/lambda_virus.fa\n",
      "Resolving d28rh4a8wq0iu5.cloudfront.net (d28rh4a8wq0iu5.cloudfront.net)... 13.224.208.76, 13.224.208.48, 13.224.208.231, ...\n",
      "Connecting to d28rh4a8wq0iu5.cloudfront.net (d28rh4a8wq0iu5.cloudfront.net)|13.224.208.76|:443... connected.\n",
      "HTTP request sent, awaiting response... 200 OK\n",
      "Length: 49270 (48K) [application/octet-stream]\n",
      "Saving to: 'lambda_virus.fa.1'\n",
      "\n",
      "     0K .......... .......... .......... .......... ........  100% 1.44M=0.03s\n",
      "\n",
      "2019-09-28 17:20:19 (1.44 MB/s) - 'lambda_virus.fa.1' saved [49270/49270]\n",
      "\n"
     ]
    }
   ],
   "source": [
    "!wget https://d28rh4a8wq0iu5.cloudfront.net/ads1/data/lambda_virus.fa"
   ]
  },
  {
   "cell_type": "code",
   "execution_count": 1,
   "metadata": {},
   "outputs": [],
   "source": [
    "def get_file(filename):\n",
    "    out = \"\"\n",
    "    with open(filename, \"r\") as file:\n",
    "        for line in file:\n",
    "            if \">\" in line:\n",
    "                continue\n",
    "            out += line.strip()\n",
    "    return out\n",
    "\n",
    "\n",
    "dna = get_file(\"lambda_virus.fa\")"
   ]
  },
  {
   "cell_type": "code",
   "execution_count": 3,
   "metadata": {},
   "outputs": [],
   "source": [
    "def reverseComplement(s):\n",
    "    complement = {\"A\": \"T\", \"C\": \"G\", \"G\": \"C\", \"T\": \"A\", \"N\": \"N\"}\n",
    "    t = \"\"\n",
    "    for base in s:\n",
    "        t = complement[base] + t\n",
    "    return t\n",
    "\n",
    "\n",
    "def substring_match(p, t):\n",
    "    for j in range(len(p)):\n",
    "        if t[0 + j] != p[j]:\n",
    "            return False\n",
    "    return True\n",
    "\n",
    "\n",
    "def exact_match(p, t):\n",
    "    \"\"\"\n",
    "    look for occurences of p in t\n",
    "    also look in the strings complement\n",
    "    \"\"\"\n",
    "    rev = reverseComplement(p)\n",
    "    matched = True if rev == p else False\n",
    "    print(matched)\n",
    "    occurrences = []\n",
    "    for i in range(len(t) - len(p) + 1):\n",
    "        match = substring_match(p, t[i:])\n",
    "        if match:\n",
    "            print(\"matched\")\n",
    "            occurrences.append(i)\n",
    "        if not matched:\n",
    "            checkreverse = substring_match(rev, t[i:])\n",
    "            if checkreverse:\n",
    "                print(\"reverse matched\")\n",
    "                occurrences.append(i)\n",
    "\n",
    "    return occurrences\n",
    "\n",
    "\n",
    "def recurse_exact_match(pat, revpat, text, count=0):\n",
    "    \"\"\"\n",
    "    recursive implementation of the above\n",
    "    very inefficient\n",
    "    \"\"\"\n",
    "    something = []\n",
    "    if len(pat) == len(text):\n",
    "        return []\n",
    "    if (text[0 : len(pat)] != pat) and (text[0 : len(revpat)] != revpat):\n",
    "        count += 1\n",
    "        return recurse_exact_match(pat, revpat, text[1:], count)\n",
    "    if (text[0 : len(pat)] == pat) or (text[0 : len(revpat)] == revpat):\n",
    "        something.append(count)\n",
    "        count += 1\n",
    "        return something + recurse_exact_match(pat, revpat, text[1:], count)\n",
    "\n",
    "\n",
    "def confirm_match(indices, dna, p):\n",
    "    truth_vals = []\n",
    "    for idx in indices:\n",
    "        check = dna[idx : idx + len(p)]\n",
    "        if check == p or check == reverseComplement(p):\n",
    "            truth_vals.append(True)\n",
    "        else:\n",
    "            truth_vals.append(False)\n",
    "    return all(x == True for x in truth_vals)"
   ]
  },
  {
   "cell_type": "code",
   "execution_count": 4,
   "metadata": {},
   "outputs": [],
   "source": [
    "t = 'AGCTTAGATAGC'\n",
    "p = \"AG\"\n",
    "revpat = reverseComplement(p)\n",
    "#recurse_exact_match(p,revpat,dna)"
   ]
  },
  {
   "cell_type": "code",
   "execution_count": 5,
   "metadata": {},
   "outputs": [
    {
     "name": "stdout",
     "output_type": "stream",
     "text": [
      "False\n",
      "matched\n",
      "reverse matched\n",
      "matched\n",
      "matched\n"
     ]
    },
    {
     "data": {
      "text/plain": [
       "[0, 2, 5, 9]"
      ]
     },
     "execution_count": 5,
     "metadata": {},
     "output_type": "execute_result"
    }
   ],
   "source": [
    "exact_match(p,t)"
   ]
  },
  {
   "cell_type": "code",
   "execution_count": 6,
   "metadata": {},
   "outputs": [
    {
     "name": "stdout",
     "output_type": "stream",
     "text": [
      "False\n",
      "matched\n",
      "reverse matched\n",
      "matched\n",
      "matched\n"
     ]
    },
    {
     "data": {
      "text/plain": [
       "True"
      ]
     },
     "execution_count": 6,
     "metadata": {},
     "output_type": "execute_result"
    }
   ],
   "source": [
    "confirm_match(recurse_exact_match(p,revpat,t),t,p) == confirm_match(exact_match(p,t),t,p)"
   ]
  },
  {
   "cell_type": "code",
   "execution_count": 169,
   "metadata": {},
   "outputs": [],
   "source": [
    "def naive_2mm(p, t):\n",
    "    \"\"\"\n",
    "    do the same as above, but allows two mismatches per occurence\n",
    "    \"\"\"\n",
    "    output = []\n",
    "    for i in range(len(t) - len(p) + 1):\n",
    "        temp = []\n",
    "        for j in range(len(p)):\n",
    "            temp.append(t[i + j] == p[j])\n",
    "        if temp.count(False) > 2:\n",
    "            continue\n",
    "        else:\n",
    "            output.append(i)\n",
    "    return output, output[0]"
   ]
  },
  {
   "cell_type": "code",
   "execution_count": 170,
   "metadata": {},
   "outputs": [
    {
     "data": {
      "text/plain": [
       "49"
      ]
     },
     "execution_count": 170,
     "metadata": {},
     "output_type": "execute_result"
    }
   ],
   "source": [
    "naive_2mm('AGGAGGTT',dna)[1]"
   ]
  },
  {
   "cell_type": "code",
   "execution_count": 26,
   "metadata": {},
   "outputs": [
    {
     "name": "stderr",
     "output_type": "stream",
     "text": [
      "--2019-09-28 17:45:25--  https://d28rh4a8wq0iu5.cloudfront.net/ads1/data/ERR037900_1.first1000.fastq\n",
      "Resolving d28rh4a8wq0iu5.cloudfront.net (d28rh4a8wq0iu5.cloudfront.net)... 99.84.222.56, 99.84.222.223, 99.84.222.231, ...\n",
      "Connecting to d28rh4a8wq0iu5.cloudfront.net (d28rh4a8wq0iu5.cloudfront.net)|99.84.222.56|:443... connected.\n",
      "HTTP request sent, awaiting response... 200 OK\n",
      "Length: 241626 (236K) [application/octet-stream]\n",
      "Saving to: 'ERR037900_1.first1000.fastq'\n",
      "\n",
      "     0K .......... .......... .......... .......... .......... 21% 1.33M 0s\n",
      "    50K .......... .......... .......... .......... .......... 42% 2.53M 0s\n",
      "   100K .......... .......... .......... .......... .......... 63% 2.09M 0s\n",
      "   150K .......... .......... .......... .......... .......... 84% 2.79M 0s\n",
      "   200K .......... .......... .......... .....                100% 2.09M=0.1s\n",
      "\n",
      "2019-09-28 17:45:26 (2.03 MB/s) - 'ERR037900_1.first1000.fastq' saved [241626/241626]\n",
      "\n"
     ]
    }
   ],
   "source": [
    "!wget https://d28rh4a8wq0iu5.cloudfront.net/ads1/data/ERR037900_1.first1000.fastq"
   ]
  },
  {
   "cell_type": "code",
   "execution_count": 130,
   "metadata": {},
   "outputs": [],
   "source": [
    "def get_quals(file):\n",
    "    \"\"\"\"\"\"\n",
    "    with open(file, \"r\") as f:\n",
    "        reads = []\n",
    "        quals = []\n",
    "        i = 1\n",
    "        for line in f:\n",
    "            if (line.startswith(\"@ERR\")) or (line.startswith(\"+\")):\n",
    "                continue\n",
    "            if i % 2 != 0:\n",
    "                reads.append(line.strip())\n",
    "            if i % 2 == 0:\n",
    "                quals.append(line.strip())\n",
    "            i += 1\n",
    "    return reads, quals\n",
    "\n",
    "\n",
    "def readFastq(filename):\n",
    "    sequences = []\n",
    "    qualities = []\n",
    "    with open(filename) as fh:\n",
    "        while True:\n",
    "            fh.readline()  # skip name line\n",
    "            seq = fh.readline().rstrip()  # read base sequence\n",
    "            fh.readline()  # skip placeholder line\n",
    "            qual = fh.readline().rstrip()  # base quality line\n",
    "            if len(seq) == 0:\n",
    "                break\n",
    "            sequences.append(seq)\n",
    "            qualities.append(qual)\n",
    "    return sequences, qualities\n",
    "\n",
    "\n",
    "read, qual = get_quals(\"ERR037900_1.first1000.fastq\")\n",
    "seq, quals = readFastq(\"ERR037900_1.first1000.fastq\")"
   ]
  },
  {
   "cell_type": "code",
   "execution_count": 131,
   "metadata": {},
   "outputs": [],
   "source": [
    "for i in range(len(seq)):\n",
    "    assert read[i] == seq[i]\n",
    "for i in range(len(quals)):\n",
    "    assert qual[i] == quals[i]"
   ]
  },
  {
   "cell_type": "code",
   "execution_count": 155,
   "metadata": {},
   "outputs": [],
   "source": [
    "def findbadreads(read):\n",
    "    \"\"\"Find the bad reads in each line\"\"\"\n",
    "\n",
    "    def mode(lst):\n",
    "        \"\"\"return most frequent observation\"\"\"\n",
    "\n",
    "        def getmax(lst):\n",
    "            \"\"\"gets index associated with max in list\"\"\"\n",
    "            mx = 0\n",
    "            for i in lst:\n",
    "                if i > mx:\n",
    "                    mx = i\n",
    "            return lst.index(mx)\n",
    "\n",
    "        counts = [0] * len(lst)\n",
    "        for num in lst:\n",
    "            counts[num] += 1\n",
    "        return getmax(counts)\n",
    "\n",
    "    out = []\n",
    "    for seqs in read:\n",
    "        if \"N\" in seqs:\n",
    "            out.append(seqs.index(\"N\"))\n",
    "    return mode(out)"
   ]
  },
  {
   "cell_type": "code",
   "execution_count": 157,
   "metadata": {},
   "outputs": [
    {
     "data": {
      "text/plain": [
       "66"
      ]
     },
     "execution_count": 157,
     "metadata": {},
     "output_type": "execute_result"
    }
   ],
   "source": [
    "findbadreads(read)"
   ]
  },
  {
   "cell_type": "code",
   "execution_count": null,
   "metadata": {},
   "outputs": [],
   "source": []
  }
 ],
 "metadata": {
  "kernelspec": {
   "display_name": "Python 3",
   "language": "python",
   "name": "python3"
  },
  "language_info": {
   "codemirror_mode": {
    "name": "ipython",
    "version": 3
   },
   "file_extension": ".py",
   "mimetype": "text/x-python",
   "name": "python",
   "nbconvert_exporter": "python",
   "pygments_lexer": "ipython3",
   "version": "3.6.4"
  }
 },
 "nbformat": 4,
 "nbformat_minor": 2
}

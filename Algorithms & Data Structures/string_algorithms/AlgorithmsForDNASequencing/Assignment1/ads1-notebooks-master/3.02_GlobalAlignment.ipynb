{
 "cells": [
  {
   "cell_type": "code",
   "execution_count": 1,
   "metadata": {
    "collapsed": false
   },
   "outputs": [],
   "source": [
    "alphabet = ['A', 'C', 'G', 'T']\n",
    "score = [[0, 4, 2, 4, 8],\n",
    "         [4, 0, 4, 2, 8],\n",
    "         [2, 4, 0, 4, 8],\n",
    "         [4, 2, 4, 0, 8],\n",
    "         [8, 8, 8, 8, 8]]"
   ]
  },
  {
   "cell_type": "code",
   "execution_count": 2,
   "metadata": {
    "collapsed": false
   },
   "outputs": [
    {
     "data": {
      "text/plain": [
       "0"
      ]
     },
     "execution_count": 2,
     "metadata": {},
     "output_type": "execute_result"
    }
   ],
   "source": [
    "# converts from character to its offset in list alphabet\n",
    "alphabet.index('A')"
   ]
  },
  {
   "cell_type": "code",
   "execution_count": 3,
   "metadata": {
    "collapsed": false
   },
   "outputs": [
    {
     "data": {
      "text/plain": [
       "2"
      ]
     },
     "execution_count": 3,
     "metadata": {},
     "output_type": "execute_result"
    }
   ],
   "source": [
    "alphabet.index('G')"
   ]
  },
  {
   "cell_type": "code",
   "execution_count": 4,
   "metadata": {
    "collapsed": false
   },
   "outputs": [
    {
     "data": {
      "text/plain": [
       "4"
      ]
     },
     "execution_count": 4,
     "metadata": {},
     "output_type": "execute_result"
    }
   ],
   "source": [
    "# penalty associated with A (from X) mismatching with T (from Y)\n",
    "score[alphabet.index('A')][alphabet.index('T')]"
   ]
  },
  {
   "cell_type": "code",
   "execution_count": 5,
   "metadata": {
    "collapsed": false
   },
   "outputs": [
    {
     "data": {
      "text/plain": [
       "8"
      ]
     },
     "execution_count": 5,
     "metadata": {},
     "output_type": "execute_result"
    }
   ],
   "source": [
    "# penalty associated with C (from X) being deleted in Y\n",
    "score[alphabet.index('C')][-1]"
   ]
  },
  {
   "cell_type": "code",
   "execution_count": 6,
   "metadata": {
    "collapsed": false
   },
   "outputs": [],
   "source": [
    "def globalAlignment(x, y):\n",
    "    # Create distance matrix\n",
    "    D = []\n",
    "    for i in range(len(x)+1):\n",
    "        D.append([0] * (len(y)+1))\n",
    "        \n",
    "    # Initialize first column\n",
    "    for i in range(1, len(x)+1):\n",
    "        D[i][0] = D[i-1][0] + score[alphabet.index(x[i-1])][-1]\n",
    "\n",
    "    # Initialize first row\n",
    "    for j in range(1,len(y)+1):\n",
    "        D[0][j] = D[0][j-1] + score[-1][alphabet.index(y[j-1])]\n",
    "        \n",
    "    # Fill rest of the matrix\n",
    "    for i in range(1, len(x)+1):\n",
    "        for j in range(1, len(y)+1):\n",
    "            distHor = D[i][j-1] + score[-1][alphabet.index(y[j-1])]\n",
    "            distVer = D[i-1][j] + score[alphabet.index(x[i-1])][-1]\n",
    "            distDiag = D[i-1][j-1] + score[alphabet.index(x[i-1])][alphabet.index(y[j-1])]\n",
    "            D[i][j] = min(distHor, distVer, distDiag)\n",
    "    \n",
    "    return D[-1][-1]  # return value in bottom right corner"
   ]
  },
  {
   "cell_type": "code",
   "execution_count": 7,
   "metadata": {
    "collapsed": false
   },
   "outputs": [
    {
     "name": "stdout",
     "output_type": "stream",
     "text": [
      "12\n"
     ]
    }
   ],
   "source": [
    "x = 'TATGTCATGC'\n",
    "y = 'TATGGCAGC'\n",
    "print(globalAlignment(x,y))"
   ]
  }
 ],
 "metadata": {
  "kernelspec": {
   "display_name": "Python 2",
   "language": "python",
   "name": "python2"
  },
  "language_info": {
   "codemirror_mode": {
    "name": "ipython",
    "version": 2
   },
   "file_extension": ".py",
   "mimetype": "text/x-python",
   "name": "python",
   "nbconvert_exporter": "python",
   "pygments_lexer": "ipython2",
   "version": "2.7.10"
  }
 },
 "nbformat": 4,
 "nbformat_minor": 0
}

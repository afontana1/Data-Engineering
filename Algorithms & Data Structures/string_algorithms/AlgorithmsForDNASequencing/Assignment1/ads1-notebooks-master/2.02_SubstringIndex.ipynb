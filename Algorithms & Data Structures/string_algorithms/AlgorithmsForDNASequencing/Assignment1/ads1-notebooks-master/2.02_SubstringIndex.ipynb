{
 "cells": [
  {
   "cell_type": "code",
   "execution_count": 2,
   "metadata": {},
   "outputs": [],
   "source": [
    "import bisect\n",
    "import sys"
   ]
  },
  {
   "cell_type": "code",
   "execution_count": 3,
   "metadata": {},
   "outputs": [],
   "source": [
    "class Index(object):\n",
    "    def __init__(self, t, k):\n",
    "        ''' Create index from all substrings of size 'length' '''\n",
    "        self.k = k  # k-mer length (k)\n",
    "        self.index = []\n",
    "        for i in range(len(t) - k + 1):  # for each k-mer\n",
    "            self.index.append((t[i:i+k], i))  # add (k-mer, offset) pair\n",
    "        self.index.sort()  # alphabetize by k-mer\n",
    "    \n",
    "    def query(self, p):\n",
    "        ''' Return index hits for first k-mer of P '''\n",
    "        kmer = p[:self.k]  # query with first k-mer\n",
    "        i = bisect.bisect_left(self.index, (kmer, -1))  # binary search\n",
    "        hits = []\n",
    "        while i < len(self.index):  # collect matching index entries\n",
    "            if self.index[i][0] != kmer:\n",
    "                break\n",
    "            hits.append(self.index[i][1])\n",
    "            i += 1\n",
    "        return hits"
   ]
  },
  {
   "cell_type": "code",
   "execution_count": 14,
   "metadata": {},
   "outputs": [],
   "source": [
    "def queryIndex(p, t, index):\n",
    "    k = index.k\n",
    "    offsets = []\n",
    "    for i in index.query(p):\n",
    "        if p[k:] == t[i+k:i+len(p)]:  # verify that rest of P matches\n",
    "            offsets.append(i)\n",
    "    return offsets"
   ]
  },
  {
   "cell_type": "code",
   "execution_count": 15,
   "metadata": {},
   "outputs": [],
   "source": [
    "t = 'ACTTGGAGATCTTTGAGGCTAGGTATTCGGGATCGAAGCTCATTTCGGGGATCGATTACGATATGGTGGGTATTCGGGA'\n",
    "p = 'GGTATTCGGGA'"
   ]
  },
  {
   "cell_type": "code",
   "execution_count": 16,
   "metadata": {},
   "outputs": [
    {
     "name": "stdout",
     "output_type": "stream",
     "text": [
      "[21, 68]\n"
     ]
    }
   ],
   "source": [
    "index = Index(t, 4)\n",
    "print(queryIndex(p, t, index))"
   ]
  },
  {
   "cell_type": "code",
   "execution_count": 17,
   "metadata": {},
   "outputs": [
    {
     "data": {
      "text/plain": [
       "[('AAGC', 35),\n",
       " ('ACGA', 57),\n",
       " ('ACTT', 0),\n",
       " ('AGAT', 6),\n",
       " ('AGCT', 36),\n",
       " ('AGGC', 15),\n",
       " ('AGGT', 20),\n",
       " ('ATAT', 60),\n",
       " ('ATCG', 31),\n",
       " ('ATCG', 50),\n",
       " ('ATCT', 8),\n",
       " ('ATGG', 62),\n",
       " ('ATTA', 54),\n",
       " ('ATTC', 24),\n",
       " ('ATTC', 71),\n",
       " ('ATTT', 41),\n",
       " ('CATT', 40),\n",
       " ('CGAA', 33),\n",
       " ('CGAT', 52),\n",
       " ('CGAT', 58),\n",
       " ('CGGG', 27),\n",
       " ('CGGG', 45),\n",
       " ('CGGG', 74),\n",
       " ('CTAG', 18),\n",
       " ('CTCA', 38),\n",
       " ('CTTG', 1),\n",
       " ('CTTT', 10),\n",
       " ('GAAG', 34),\n",
       " ('GAGA', 5),\n",
       " ('GAGG', 14),\n",
       " ('GATA', 59),\n",
       " ('GATC', 7),\n",
       " ('GATC', 30),\n",
       " ('GATC', 49),\n",
       " ('GATT', 53),\n",
       " ('GCTA', 17),\n",
       " ('GCTC', 37),\n",
       " ('GGAG', 4),\n",
       " ('GGAT', 29),\n",
       " ('GGAT', 48),\n",
       " ('GGCT', 16),\n",
       " ('GGGA', 28),\n",
       " ('GGGA', 47),\n",
       " ('GGGA', 75),\n",
       " ('GGGG', 46),\n",
       " ('GGGT', 67),\n",
       " ('GGTA', 21),\n",
       " ('GGTA', 68),\n",
       " ('GGTG', 64),\n",
       " ('GTAT', 22),\n",
       " ('GTAT', 69),\n",
       " ('GTGG', 65),\n",
       " ('TACG', 56),\n",
       " ('TAGG', 19),\n",
       " ('TATG', 61),\n",
       " ('TATT', 23),\n",
       " ('TATT', 70),\n",
       " ('TCAT', 39),\n",
       " ('TCGA', 32),\n",
       " ('TCGA', 51),\n",
       " ('TCGG', 26),\n",
       " ('TCGG', 44),\n",
       " ('TCGG', 73),\n",
       " ('TCTT', 9),\n",
       " ('TGAG', 13),\n",
       " ('TGGA', 3),\n",
       " ('TGGG', 66),\n",
       " ('TGGT', 63),\n",
       " ('TTAC', 55),\n",
       " ('TTCG', 25),\n",
       " ('TTCG', 43),\n",
       " ('TTCG', 72),\n",
       " ('TTGA', 12),\n",
       " ('TTGG', 2),\n",
       " ('TTTC', 42),\n",
       " ('TTTG', 11)]"
      ]
     },
     "execution_count": 17,
     "metadata": {},
     "output_type": "execute_result"
    }
   ],
   "source": [
    "index.index"
   ]
  },
  {
   "cell_type": "code",
   "execution_count": null,
   "metadata": {},
   "outputs": [],
   "source": []
  }
 ],
 "metadata": {
  "kernelspec": {
   "display_name": "Python 3",
   "language": "python",
   "name": "python3"
  },
  "language_info": {
   "codemirror_mode": {
    "name": "ipython",
    "version": 3
   },
   "file_extension": ".py",
   "mimetype": "text/x-python",
   "name": "python",
   "nbconvert_exporter": "python",
   "pygments_lexer": "ipython3",
   "version": "3.6.4"
  }
 },
 "nbformat": 4,
 "nbformat_minor": 1
}

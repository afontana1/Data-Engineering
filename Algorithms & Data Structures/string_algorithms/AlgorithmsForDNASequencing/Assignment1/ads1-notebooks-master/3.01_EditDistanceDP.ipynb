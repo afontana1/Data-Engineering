{
 "cells": [
  {
   "cell_type": "code",
   "execution_count": 1,
   "metadata": {
    "collapsed": true
   },
   "outputs": [],
   "source": [
    "def editDistRecursive(x, y):\n",
    "    # This implementation is very slow\n",
    "    if len(x) == 0:\n",
    "        return len(y)\n",
    "    elif len(y) == 0:\n",
    "        return len(x)\n",
    "    else:\n",
    "        distHor = editDistRecursive(x[:-1], y) + 1\n",
    "        distVer = editDistRecursive(x, y[:-1]) + 1\n",
    "        if x[-1] == y[-1]:\n",
    "            distDiag = editDistRecursive(x[:-1], y[:-1])\n",
    "        else:\n",
    "            distDiag = editDistRecursive(x[:-1], y[:-1]) + 1\n",
    "        return min(distHor, distVer, distDiag)"
   ]
  },
  {
   "cell_type": "code",
   "execution_count": 2,
   "metadata": {},
   "outputs": [],
   "source": [
    "def editDistance(x, y):\n",
    "    # Create distance matrix\n",
    "    D = []\n",
    "    for i in range(len(x)+1):\n",
    "        D.append([0]*(len(y)+1))\n",
    "    # Initialize first row and column of matrix\n",
    "    for i in range(len(x)+1):\n",
    "        D[i][0] = i\n",
    "    for i in range(len(y)+1):\n",
    "        D[0][i] = i\n",
    "    # Fill in the rest of the matrix\n",
    "    for i in range(1, len(x)+1):\n",
    "        for j in range(1, len(y)+1):\n",
    "            distHor = D[i][j-1] + 1\n",
    "            distVer = D[i-1][j] + 1\n",
    "            if x[i-1] == y[j-1]:\n",
    "                distDiag = D[i-1][j-1]\n",
    "            else:\n",
    "                distDiag = D[i-1][j-1] + 1\n",
    "            D[i][j] = min(distHor, distVer, distDiag)\n",
    "    # Edit distance is the value in the bottom right corner of the matrix\n",
    "    return D[-1][-1]"
   ]
  },
  {
   "cell_type": "code",
   "execution_count": 3,
   "metadata": {},
   "outputs": [
    {
     "name": "stdout",
     "output_type": "stream",
     "text": [
      "CPU times: user 5.5 s, sys: 13.8 ms, total: 5.51 s\n",
      "Wall time: 5.54 s\n"
     ]
    }
   ],
   "source": [
    "%%time\n",
    "x = 'shake spea'\n",
    "y = 'Shakespear'\n",
    "editDistRecursive(x, y)"
   ]
  },
  {
   "cell_type": "code",
   "execution_count": 4,
   "metadata": {},
   "outputs": [
    {
     "name": "stdout",
     "output_type": "stream",
     "text": [
      "CPU times: user 96 µs, sys: 4 µs, total: 100 µs\n",
      "Wall time: 103 µs\n"
     ]
    }
   ],
   "source": [
    "%%time\n",
    "x = 'shake spea'\n",
    "y = 'Shakespear'\n",
    "editDistance(x, y)"
   ]
  }
 ],
 "metadata": {
  "kernelspec": {
   "display_name": "Python 3",
   "language": "python",
   "name": "python3"
  },
  "language_info": {
   "codemirror_mode": {
    "name": "ipython",
    "version": 3
   },
   "file_extension": ".py",
   "mimetype": "text/x-python",
   "name": "python",
   "nbconvert_exporter": "python",
   "pygments_lexer": "ipython3",
   "version": "3.6.4"
  }
 },
 "nbformat": 4,
 "nbformat_minor": 1
}

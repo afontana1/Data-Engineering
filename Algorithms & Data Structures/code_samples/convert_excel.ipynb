{
 "cells": [
  {
   "cell_type": "code",
   "execution_count": 7,
   "id": "07fe50f5-a1d0-40c8-9688-c8cc24bb5b77",
   "metadata": {},
   "outputs": [],
   "source": [
    "import openpyxl\n",
    "import csv"
   ]
  },
  {
   "cell_type": "code",
   "execution_count": 8,
   "id": "57ffbb64-1329-4a36-9393-e130bba70271",
   "metadata": {},
   "outputs": [],
   "source": [
    "def convert_to_csv(file_name):\n",
    "    \"\"\"Convert excel to csv.\"\"\"\n",
    "    wb = openpyxl.load_workbook(file_name, read_only = True)\n",
    "    name_without_suffix = file_name.split(\".\")[0]\n",
    "    print(wb.sheetnames)\n",
    "    sh = wb[\"Raw Data\"]\n",
    "    print(\"creating excel file\")\n",
    "    with open(name_without_suffix + \".csv\", 'w', newline=\"\") as file_handle:\n",
    "        csv_writer = csv.writer(file_handle)\n",
    "        for row in sh.iter_rows(values_only = True):\n",
    "            csv_writer.writerow([cell for cell in row])\n",
    "    wb.close()\n"
   ]
  },
  {
   "cell_type": "code",
   "execution_count": 20,
   "id": "410c651c-4638-402b-984b-8c13b87c5f53",
   "metadata": {},
   "outputs": [],
   "source": [
    "#!pip install pywin32\n",
    "# xlsb conversion\n",
    "# https://pypi.org/project/pywin32/\n",
    "import win32com.client\n",
    "import os\n",
    "import time"
   ]
  },
  {
   "cell_type": "code",
   "execution_count": 23,
   "id": "a026f3c9-f982-4014-92c3-1417fd58f9ac",
   "metadata": {},
   "outputs": [],
   "source": [
    "def save_csv_file(work_sheet, file_name_list, filename):\n",
    "    \"\"\"Saving a worksheet to a csv file and add the csv file name to a list, naming convention applied\n",
    "    Args:\n",
    "        param work_sheet (win32com.client.CDispatch) worksheet to save csv \n",
    "        param file_name_list (list): list holding names \n",
    "    \"\"\"\n",
    "\n",
    "    work_sheet_name = work_sheet.name\n",
    "    output_csv_name = os.getcwd() + \"\\\\\" + filename +'.csv'\n",
    "    work_sheet.SaveAs(output_csv_name)\n",
    "    file_name_list.append(output_csv_name)\n",
    "\n",
    "    return file_name_list\n",
    "\n",
    "def xl_file_to_csv(xl_file_file_path,filename,sheet_name = False):\n",
    "    \"\"\"Open a workbook, get the index of the worksheet (sh_index) and save sheet(s) as csv files.\n",
    "    Args:\n",
    "        xl_file_file_path: workbook path\n",
    "        sheet_name: name of sheet\n",
    "    \"\"\"\n",
    "    start_time = time.process_time()\n",
    "    start_clock = time.perf_counter()\n",
    "\n",
    "    xl_app = win32com.client.Dispatch(\"Excel.Application\")\n",
    "    xl_app.Visible = 0\n",
    "    xl_app.DisplayAlerts = 0\n",
    "\n",
    "    work_book = xl_app.Workbooks.Open(xl_file_file_path)\n",
    "    csv_file_list = []\n",
    "    worksheets = [sheet.Name for sheet in work_book.Worksheets]\n",
    "    \n",
    "    if isinstance(sheet_name,bool):\n",
    "        for sheet in worksheets:\n",
    "            work_sheet = sheet\n",
    "            csv_file_list = save_csv_file(work_sheet, csv_file_list, filename)\n",
    "    else:\n",
    "        if sheet_name not in worksheets:\n",
    "            work_book.Close(SaveChanges=0)\n",
    "            xl_app.Quit()\n",
    "            raise Exception(\"Target sheet not in the file\")\n",
    "            return\n",
    "\n",
    "        work_sheet = work_book.Worksheets(sheet_name)\n",
    "        csv_file_list = save_csv_file(work_sheet, csv_file_list, filename)\n",
    "\n",
    "    work_book.Close(SaveChanges=0)\n",
    "    xl_app.Quit()\n",
    "\n",
    "    # Print runtime\n",
    "    print('win32com process: {}'.format(time.process_time() - start_time))\n",
    "    print('win32com counter: {}'.format(time.perf_counter() - start_clock))\n",
    "\n",
    "    return csv_file_list\n",
    "\n",
    "def main():\n",
    "    for file in os.listdir():\n",
    "        if file.endswith(\".xlsb\"):\n",
    "            src_csv = xl_file_to_csv(\n",
    "                xl_file_file_path = os.path.abspath(file),\n",
    "                filename = file,\n",
    "                sheet_name = 'Raw Data'\n",
    "            )\n",
    "            if src_csv is not None:\n",
    "                print('')\n",
    "                print('CSV file(s) created: ')\n",
    "                print('-----------------------\\n')\n",
    "                print(*src_csv, sep=\"\\n\")"
   ]
  }
 ],
 "metadata": {
  "kernelspec": {
   "display_name": "Python 3 (ipykernel)",
   "language": "python",
   "name": "python3"
  },
  "language_info": {
   "codemirror_mode": {
    "name": "ipython",
    "version": 3
   },
   "file_extension": ".py",
   "mimetype": "text/x-python",
   "name": "python",
   "nbconvert_exporter": "python",
   "pygments_lexer": "ipython3",
   "version": "3.9.0"
  },
  "vscode": {
   "interpreter": {
    "hash": "11938c6bc6919ae2720b4d5011047913343b08a43b18698fd82dedb0d4417594"
   }
  }
 },
 "nbformat": 4,
 "nbformat_minor": 5
}

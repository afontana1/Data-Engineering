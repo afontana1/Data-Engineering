{
 "cells": [
  {
   "cell_type": "code",
   "execution_count": 1,
   "id": "8644f8e0-ec72-408d-9b00-7f60826435d2",
   "metadata": {
    "tags": []
   },
   "outputs": [],
   "source": [
    "import polars as pl\n",
    "import pandas as pd\n",
    "\n",
    "import numpy as np\n",
    "import uuid\n",
    "import os\n",
    "from faker import Faker\n",
    "from faker.providers import BaseProvider\n",
    "import random\n",
    "import csv\n",
    "from datetime import datetime\n",
    "import functools\n",
    "import threading\n",
    "import time\n",
    "import codecs\n",
    "import queue  # or queue in Python 3\n",
    "import os"
   ]
  },
  {
   "cell_type": "code",
   "execution_count": null,
   "id": "e2c84b25-63a5-416d-862b-d0500fb3a2b7",
   "metadata": {
    "tags": []
   },
   "outputs": [],
   "source": [
    "#pd.read_parquet('path.parquet', engine='pyarrow')"
   ]
  },
  {
   "cell_type": "code",
   "execution_count": null,
   "id": "7460e079-2303-49b5-b1d8-9a80d47db010",
   "metadata": {
    "tags": []
   },
   "outputs": [],
   "source": [
    "# df = pl.read_parquet(\"movie.parquet\").lazy()\n",
    "# sql = pl.SQLContext()\n",
    "# sql.register(\"df\",df)\n",
    "\n",
    "# sql.query(\n",
    "#     \"\"\"\n",
    "#     SELECT * FROM df where Genre = 'Horror' AND Language = 'Hindi' and Runtime > 100\n",
    "#     \"\"\"\n",
    "# )"
   ]
  },
  {
   "cell_type": "code",
   "execution_count": 5,
   "id": "d89b5626-5116-45b4-a00b-8cd59896751d",
   "metadata": {
    "tags": []
   },
   "outputs": [],
   "source": [
    "def timer(func):\n",
    "    \"\"\"Print the runtime of the decorated function\"\"\"\n",
    "\n",
    "    @functools.wraps(func)\n",
    "    def wrapper_timer(*args, **kwargs):\n",
    "        start_time = time.perf_counter()  # 1\n",
    "        value = func(*args, **kwargs)\n",
    "        end_time = time.perf_counter()  # 2\n",
    "        run_time = end_time - start_time  # 3\n",
    "        print(f\"Finished {func.__name__!r} in {run_time:.4f} secs\")\n",
    "        return value\n",
    "\n",
    "    return wrapper_timer\n",
    "\n",
    "class GenereProvider(BaseProvider):\n",
    "    def movie_genre(self):\n",
    "        return random.choice(['Documentary', 'Thriller', 'Mystery', 'Horror', 'Action', 'Comedy', 'Drama', 'Romance'])\n",
    "\n",
    "class LanguageProvider(BaseProvider):\n",
    "    def language(self):\n",
    "        return random.choice(['English', 'Chinese', 'Italian', 'Spanish', 'Hindi', 'Japanese'])\n",
    "\n",
    "fake = Faker()\n",
    "\n",
    "fake.add_provider(GenereProvider)\n",
    "fake.add_provider(LanguageProvider)\n",
    "\n",
    "# Some of this is a bit verbose now, but doing so for the sake of completion\n",
    "\n",
    "def get_movie_name():\n",
    "    words = fake.words()\n",
    "    capitalized_words = list(map(str.capitalize, words))\n",
    "    return ' '.join(capitalized_words)\n",
    "\n",
    "def get_movie_date():\n",
    "    return datetime.strftime(fake.date_time_this_decade(), \"%B %d, %Y\")\n",
    "\n",
    "def get_movie_len():\n",
    "    return random.randrange(50, 150)\n",
    "\n",
    "def get_movie_rating():\n",
    "    return round(random.uniform(1.0, 5.0), 1)\n",
    "\n",
    "def generate_movie():\n",
    "    return [get_movie_name(), fake.movie_genre(), get_movie_date(), get_movie_len(), get_movie_rating(), fake.language()]\n",
    "\n",
    "@timer\n",
    "def write_file(count = 10000000):\n",
    "    with open('movie_data.csv', 'w') as csvfile:\n",
    "        writer = csv.writer(csvfile)\n",
    "        writer.writerow(['Title', 'Genre', 'Premiere', 'Runtime', 'IMDB Score', 'Language'])\n",
    "        for n in range(1, count):\n",
    "            writer.writerow(generate_movie())\n",
    "\n",
    "class WriteThread(threading.Thread):\n",
    "    def __init__(self, queue):\n",
    "        threading.Thread.__init__(self)\n",
    "        self.queue = queue\n",
    "\n",
    "    def write_files(self, rows):\n",
    "        with open(output_file_name, \"a\") as f:\n",
    "            writer = csv.writer(f)\n",
    "            for row in rows:\n",
    "                writer.writerow(row)\n",
    "                \n",
    "    def run(self):\n",
    "        while True:\n",
    "            result = self.queue.get()\n",
    "            self.write_files(result)\n",
    "            self.queue.task_done()\n",
    "\n",
    "class ProcessThread(threading.Thread):\n",
    "    def __init__(self, in_queue, out_queue):\n",
    "        threading.Thread.__init__(self)\n",
    "        self.in_queue = in_queue\n",
    "        self.out_queue = out_queue\n",
    "\n",
    "    def run(self):\n",
    "        while True:\n",
    "            size = self.in_queue.get()\n",
    "            result = self.create_chunk(size)\n",
    "            self.out_queue.put(result)\n",
    "            self.in_queue.task_done()\n",
    "\n",
    "    def process(self, path):\n",
    "        \"\"\"\n",
    "        If you have multiple file_paths you want to append to single file\n",
    "        Define list of paths and replace \"create_chunk\" with \"process\"\n",
    "        \"\"\"\n",
    "        with open(path, \"r\") as f:\n",
    "            data = f.read()\n",
    "        return data\n",
    "\n",
    "    def create_rows(self,count):\n",
    "        for i in range(1,count):\n",
    "            yield generate_movie()\n",
    "\n",
    "    def create_chunk(self,size):\n",
    "        return [row for row in self.create_rows(size)]"
   ]
  },
  {
   "cell_type": "code",
   "execution_count": 6,
   "id": "17ed122c-e32b-422d-bc37-c29d529c96ea",
   "metadata": {
    "tags": []
   },
   "outputs": [],
   "source": [
    "output_file_name = \"test.csv\"\n",
    "row_count = 10000000\n",
    "chunk_size = 100000\n",
    "\n",
    "@timer\n",
    "def write_file_threads(output_file_name,chunk_size,row_count):\n",
    "    multiplier = int(row_count/chunk_size)\n",
    "    with open(output_file_name, 'w') as csvfile:\n",
    "        writer = csv.writer(csvfile)\n",
    "        writer.writerow(['Title', 'Genre', 'Premiere', 'Runtime', 'IMDB Score', 'Language'])\n",
    "\n",
    "    input_queue = queue.Queue()\n",
    "    result_queue = queue.Queue()\n",
    "\n",
    "    for i in range(0, 15):\n",
    "        t = ProcessThread(input_queue, result_queue)\n",
    "        if i == 1:\n",
    "            import time\n",
    "            time.sleep(3)\n",
    "        t.setDaemon(True)\n",
    "        t.start()\n",
    "\n",
    "    t = WriteThread(result_queue)\n",
    "    t.setDaemon(True)\n",
    "    t.start()\n",
    "\n",
    "    for chunk_size in [chunk_size]*multiplier:\n",
    "        input_queue.put(chunk_size)\n",
    "\n",
    "    input_queue.join()\n",
    "    result_queue.join()"
   ]
  },
  {
   "cell_type": "code",
   "execution_count": 7,
   "id": "b494709a-d381-4df9-8417-6950dc57681a",
   "metadata": {
    "tags": []
   },
   "outputs": [
    {
     "name": "stdout",
     "output_type": "stream",
     "text": [
      "Finished 'write_file' in 680.1546 secs\n"
     ]
    }
   ],
   "source": [
    "write_file(count = 10000000)"
   ]
  },
  {
   "cell_type": "code",
   "execution_count": 8,
   "id": "7a3bb623-0ede-46b2-a3d1-bd667b8c9d9a",
   "metadata": {
    "tags": []
   },
   "outputs": [
    {
     "name": "stderr",
     "output_type": "stream",
     "text": [
      "C:\\Users\\AFONTANA\\AppData\\Local\\Temp\\ipykernel_12492\\3762355618.py:20: DeprecationWarning: setDaemon() is deprecated, set the daemon attribute instead\n",
      "  t.setDaemon(True)\n",
      "C:\\Users\\AFONTANA\\AppData\\Local\\Temp\\ipykernel_12492\\3762355618.py:24: DeprecationWarning: setDaemon() is deprecated, set the daemon attribute instead\n",
      "  t.setDaemon(True)\n"
     ]
    },
    {
     "name": "stdout",
     "output_type": "stream",
     "text": [
      "Finished 'write_file_threads' in 684.4237 secs\n"
     ]
    }
   ],
   "source": [
    "write_file_threads(output_file_name, chunk_size, row_count)"
   ]
  },
  {
   "cell_type": "code",
   "execution_count": 9,
   "id": "df93c35a-33f8-49f8-b1db-c1f1ab1914eb",
   "metadata": {},
   "outputs": [
    {
     "name": "stdout",
     "output_type": "stream",
     "text": [
      "4.47 s ± 138 ms per loop (mean ± std. dev. of 7 runs, 1 loop each)\n"
     ]
    }
   ],
   "source": [
    "%%timeit\n",
    "pl.read_csv(\"movie_data.csv\").write_parquet(\"movie.parquet\")"
   ]
  },
  {
   "cell_type": "code",
   "execution_count": 10,
   "id": "afc7afdf-f3b9-4a7a-874e-e23e7f804086",
   "metadata": {
    "tags": []
   },
   "outputs": [
    {
     "name": "stdout",
     "output_type": "stream",
     "text": [
      "13.7 s ± 225 ms per loop (mean ± std. dev. of 7 runs, 1 loop each)\n"
     ]
    }
   ],
   "source": [
    "%%timeit\n",
    "pd.read_csv(\"movie_data.csv\").to_parquet('movie.parquet', engine='pyarrow')"
   ]
  },
  {
   "cell_type": "markdown",
   "id": "c56fbcb1-3aca-47b9-88a5-cf467c2a44c4",
   "metadata": {},
   "source": [
    "## Read Parquet"
   ]
  },
  {
   "cell_type": "code",
   "execution_count": 18,
   "id": "142bf028-107d-4a9f-bba6-a7d37e435c58",
   "metadata": {
    "tags": []
   },
   "outputs": [
    {
     "name": "stdout",
     "output_type": "stream",
     "text": [
      "473 ms ± 19 ms per loop (mean ± std. dev. of 7 runs, 1 loop each)\n"
     ]
    }
   ],
   "source": [
    "%%timeit\n",
    "pl.read_parquet(\"movie.parquet\")"
   ]
  },
  {
   "cell_type": "code",
   "execution_count": 19,
   "id": "b448b634-cc1d-4596-acf4-102ff950f2a9",
   "metadata": {
    "tags": []
   },
   "outputs": [
    {
     "name": "stdout",
     "output_type": "stream",
     "text": [
      "5.25 s ± 256 ms per loop (mean ± std. dev. of 7 runs, 1 loop each)\n"
     ]
    }
   ],
   "source": [
    "%%timeit\n",
    "pd.read_parquet(\"movie.parquet\")"
   ]
  },
  {
   "cell_type": "markdown",
   "id": "1243d0bb-ee45-488e-9fda-badb72bea2c9",
   "metadata": {},
   "source": [
    "## More polars documention\n",
    "\n",
    "- https://www.pola.rs/\n",
    "- https://pola-rs.github.io/polars-book/user-guide/"
   ]
  },
  {
   "cell_type": "code",
   "execution_count": null,
   "id": "d1cc1395-8b2c-4415-b16e-c0c81d52c7ef",
   "metadata": {},
   "outputs": [],
   "source": []
  }
 ],
 "metadata": {
  "kernelspec": {
   "display_name": "Python 3 (ipykernel)",
   "language": "python",
   "name": "python3"
  },
  "language_info": {
   "codemirror_mode": {
    "name": "ipython",
    "version": 3
   },
   "file_extension": ".py",
   "mimetype": "text/x-python",
   "name": "python",
   "nbconvert_exporter": "python",
   "pygments_lexer": "ipython3",
   "version": "3.11.1"
  }
 },
 "nbformat": 4,
 "nbformat_minor": 5
}

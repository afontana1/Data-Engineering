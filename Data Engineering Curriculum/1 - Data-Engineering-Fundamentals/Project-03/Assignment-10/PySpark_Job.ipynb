{
 "cells": [
  {
   "cell_type": "markdown",
   "metadata": {},
   "source": [
    "## Import packages"
   ]
  },
  {
   "cell_type": "code",
   "execution_count": 1,
   "metadata": {
    "collapsed": true
   },
   "outputs": [],
   "source": [
    "# json parsing\n",
    "import json\n",
    "import pandas as pd\n",
    "from pyspark.sql.functions import explode, split\n",
    "from pyspark.sql.types import StructType, StructField, StringType, IntegerType, TimestampType\n",
    "import warnings\n",
    "warnings.filterwarnings('ignore')"
   ]
  },
  {
   "cell_type": "markdown",
   "metadata": {},
   "source": [
    "## Read the raw messages from the topic userItems"
   ]
  },
  {
   "cell_type": "code",
   "execution_count": 6,
   "metadata": {
    "collapsed": true
   },
   "outputs": [],
   "source": [
    "raw_events = spark.read.format(\"kafka\").option(\"kafka.bootstrap.servers\", \"kafka:29092\").\\\n",
    "    option(\"subscribe\",\"userItems\").option(\"startingOffsets\", \"earliest\").option(\"endingOffsets\", \"latest\").load() "
   ]
  },
  {
   "cell_type": "markdown",
   "metadata": {},
   "source": [
    "## Make sure everything is running well: Cache data"
   ]
  },
  {
   "cell_type": "code",
   "execution_count": 7,
   "metadata": {},
   "outputs": [
    {
     "data": {
      "text/plain": [
       "DataFrame[key: binary, value: binary, topic: string, partition: int, offset: bigint, timestamp: timestamp, timestampType: int]"
      ]
     },
     "execution_count": 7,
     "metadata": {},
     "output_type": "execute_result"
    }
   ],
   "source": [
    "raw_events.cache()"
   ]
  },
  {
   "cell_type": "code",
   "execution_count": 8,
   "metadata": {},
   "outputs": [
    {
     "name": "stdout",
     "output_type": "stream",
     "text": [
      "root\n",
      " |-- key: binary (nullable = true)\n",
      " |-- value: binary (nullable = true)\n",
      " |-- topic: string (nullable = true)\n",
      " |-- partition: integer (nullable = true)\n",
      " |-- offset: long (nullable = true)\n",
      " |-- timestamp: timestamp (nullable = true)\n",
      " |-- timestampType: integer (nullable = true)\n",
      "\n"
     ]
    }
   ],
   "source": [
    "raw_events.printSchema()"
   ]
  },
  {
   "cell_type": "markdown",
   "metadata": {},
   "source": [
    "Ran perfectly, we have our dataframe with the data cached. Good sanity check before starting"
   ]
  },
  {
   "cell_type": "markdown",
   "metadata": {},
   "source": [
    "## Explore Events"
   ]
  },
  {
   "cell_type": "code",
   "execution_count": 9,
   "metadata": {},
   "outputs": [
    {
     "name": "stdout",
     "output_type": "stream",
     "text": [
      "+------+--------------+----------------+--------------+-----------+--------------------+\n",
      "|Accept|Content-Length|    Content-Type|          Host| User-Agent|          event_type|\n",
      "+------+--------------+----------------+--------------+-----------+--------------------+\n",
      "|   */*|            52|application/json|localhost:5000|curl/7.47.0|purchase_a_sword:...|\n",
      "|   */*|            52|application/json|localhost:5000|curl/7.47.0|purchase_a_sword:...|\n",
      "|   */*|            17|application/json|localhost:5000|curl/7.47.0|get_coins {\"coins...|\n",
      "|   */*|            31|application/json|localhost:5000|curl/7.47.0|join_guild {\"colo...|\n",
      "|   */*|          null|            null|localhost:5000|curl/7.47.0|             default|\n",
      "|   */*|          null|            null|localhost:5000|curl/7.47.0|             default|\n",
      "|   */*|          null|            null|localhost:5000|curl/7.47.0|    purchase_a_sword|\n",
      "+------+--------------+----------------+--------------+-----------+--------------------+\n",
      "\n"
     ]
    }
   ],
   "source": [
    "events = raw_events.select(raw_events.value.cast('string'))\n",
    "extracted_events = events.rdd.map(lambda x: json.loads(x.value)).toDF()\n",
    "extracted_events.show()"
   ]
  },
  {
   "cell_type": "markdown",
   "metadata": {},
   "source": [
    "Here is quite obvious the difference between a POST and a GET. From POST we get a proper JSON dictionary, with its length, which we can (and will) then read through Kafka to redis to keep the state. A GET is just a 'standard' response from the web app."
   ]
  },
  {
   "cell_type": "code",
   "execution_count": null,
   "metadata": {
    "collapsed": true
   },
   "outputs": [],
   "source": []
  }
 ],
 "metadata": {
  "kernelspec": {
   "display_name": "Python 3",
   "language": "python",
   "name": "python3"
  },
  "language_info": {
   "codemirror_mode": {
    "name": "ipython",
    "version": 3
   },
   "file_extension": ".py",
   "mimetype": "text/x-python",
   "name": "python",
   "nbconvert_exporter": "python",
   "pygments_lexer": "ipython3",
   "version": "3.5.2"
  }
 },
 "nbformat": 4,
 "nbformat_minor": 2
}

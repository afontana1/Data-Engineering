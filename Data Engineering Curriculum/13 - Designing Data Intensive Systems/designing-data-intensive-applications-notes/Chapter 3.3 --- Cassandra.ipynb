{
 "cells": [
  {
   "cell_type": "markdown",
   "metadata": {},
   "source": [
    "## Mission statement\n",
    "\n",
    "* Cassandra is a **wide-column database**.\n",
    "* Wide-column databases are two-dimensional key-value stores, where each key corresponds with a set of columns. The in-memory equivalent would be a `dict` inside a `dict` in Python.\n",
    "* They differ from a true relational database in that the sub-keys can be anything. You are not forced to use the specific columns in the table schema, and instead can use any columns and values that strike your fancy.\n",
    "* Meanwhile, while true column stores provide locality on all of the columns, wide-column data stores provide locality on the individual records.\n",
    "* They're effectively schemaless transactional databases.\n",
    "* Cassandra itself is designed for partition tolerance and availability, but not consistency.\n",
    "* It's designed to be sharded heavily and to deal with truly big \"big data\" distributions.\n",
    "\n",
    "## Data model\n",
    "\n",
    "* Cassandra arranges its clusters using a shared-nothing **ring architecture**. Each node is in communication with a node immediately to its left and to its right, but doesn't explicitly depend on the availability of its peers.\n",
    "* There are no masters or slaves, only peers.\n",
    "* Clients access specific entry nodes, but data is asynchronously replicated across the nodes. If the desired node goes down, the client can cycle to other nodes, which should still be up (achieving availability).\n",
    "* This architecture is lifted directly from the Dynamo system, which came slightly beforehand.\n",
    "\n",
    "\n",
    "* The Cassandra data model is a standard SSTable LSM-tree implementation, taken from BigTable. So: write to commit log, write to memtable, acknowledge to client, periodically flush the memtable into log files, periodicially merge logfiles into a new unified log.\n",
    "* A hash is used to determine which node in the ring will accept the write for a chunk of data.\n",
    "* After the insertion operation is finished, replication is done by sending the data to the left-right nodes the nodes is in communication.\n",
    "* You can configure more replicating by specifying the **replication factor**.\n",
    "\n",
    "\n",
    "* On a read, the client connects to any node they want (or any node that's available, really). The node services the request by internally routing to nodes in the cluster which have the data.\n",
    "* Due to network partitions and the asynchronous nature of data sharing, different nodes may have data that is in different states of recency.\n",
    "* Thus you can tune how far to look for a response, depending on the level of consistency that you desire.\n",
    "* A minimum level of consistency, `ONE`, will result in the *first* node that has the data reporting that data to the client.\n",
    "* On the flip side, the maximum level of consistency, `ALL`, will result in *every* node that has that data shared with it reporting that data. The data that has the most recent timestamp will be the data that is reported.\n",
    "* Most commonly you want `QUORUM`. In this case, 51% of nodes report, and the most recently timestamped data point amongst these nodes is returned.\n",
    "* Thus in Cassandra there is a trade-off between *consistency* and *speed*.\n",
    "* If only one node needs to report data on read, then Cassandra is highly available, but not highly consistent (there can be laspes in data sameness). If full consensus is used, then Cassandra is highly consistent, but not highly available (what happens if a node goes down?).\n",
    "* Thus Cassandra offers tunable consistency.\n",
    "\n",
    "\n",
    "* This model has linear scaling performance. The Cassandra database architecture scales better than basically any other database architecture out there, making it a preferred solution for truly \"big data\" problems.\n",
    "\n",
    "\n",
    "* Queries are via CQL."
   ]
  }
 ],
 "metadata": {
  "kernelspec": {
   "display_name": "Python 3",
   "language": "python",
   "name": "python3"
  },
  "language_info": {
   "codemirror_mode": {
    "name": "ipython",
    "version": 3
   },
   "file_extension": ".py",
   "mimetype": "text/x-python",
   "name": "python",
   "nbconvert_exporter": "python",
   "pygments_lexer": "ipython3",
   "version": "3.6.4"
  }
 },
 "nbformat": 4,
 "nbformat_minor": 2
}

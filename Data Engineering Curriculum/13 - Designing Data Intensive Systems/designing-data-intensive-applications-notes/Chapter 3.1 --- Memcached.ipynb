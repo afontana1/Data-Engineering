{
 "cells": [
  {
   "cell_type": "markdown",
   "metadata": {},
   "source": [
    "# Memcached\n",
    "\n",
    "## Mission statement\n",
    "* Memcached is a free and open-source in-memory key-value store.\n",
    "* It was originally developed by and for the LiveJournal website, back in the day.\n",
    "* It's almost a database, but not quite one. It differs in that it's not persistant. Memcached is allotted a certain amount of memory, and when that memory limit reached, to insert new values memcached starts deleting old values.\n",
    "* This deletion occurs using the simple \"Least Recently Used\", or **LRU**, **caching strategy** (in this context this is referred to as the **eviction mode**).\n",
    "* When you insert data into memcached that you want to access later, you cannot assume that it will still be there.\n",
    "* The tradeoff is that memcached is ridiculously fast, and has a simple, easy-to-understand architecture.\n",
    "* Memcached is thus meant to be used as a **caching layer**. Put it in front of your production database to speed up your queries!\n",
    "\n",
    "## Data model\n",
    "* Memcached uses a simple hash map log structured storage architecture (this is the simplest practical database architecture; see Chapter 3 notes for more).\n",
    "* Memcached supports clusters containing multiple nodes. A hash is computed on the data being inserted in order to determine which node the data gets sent to. Then the data is hashed again for storage.\n",
    "* This is a **shared nothing architecture**. The client knows the locations of the nodes, obviously, but the nodes know nothing about each other, and do not share any resources.\n",
    "* Memcached is an **in-memory data store**. The nodes are meant to be volatile memory resources.\n",
    "* There is no type support. A **word** in memcached is a byte.\n",
    "* As mentioned in the previous section, a least recently used caching strategy is used to purge old data when the service reaches its size limit.\n",
    "\n",
    "## Security\n",
    "* memcache emphasized brutal simplicity and efficiency. But in the case of security that simplicity apparently makes it emminently hackable.\n",
    "* Memcache uses a flat security model, with privileges applying to lots of things all at once. For example, if you have write access, you have all the write access; same with reads.\n",
    "* When deployed on an unsecured network, it's very easy for external actors to get to, inspect, and even modify a memcached service.\n",
    "* memcache over UDP is a particular problem. This feature was disabled by default eventually, but for a while you could access cache data for a lot of public websites apparently!\n",
    "* Since memcache has such lousy security you should implement your own security layer."
   ]
  }
 ],
 "metadata": {
  "kernelspec": {
   "display_name": "Python 3",
   "language": "python",
   "name": "python3"
  },
  "language_info": {
   "codemirror_mode": {
    "name": "ipython",
    "version": 3
   },
   "file_extension": ".py",
   "mimetype": "text/x-python",
   "name": "python",
   "nbconvert_exporter": "python",
   "pygments_lexer": "ipython3",
   "version": "3.6.4"
  }
 },
 "nbformat": 4,
 "nbformat_minor": 2
}

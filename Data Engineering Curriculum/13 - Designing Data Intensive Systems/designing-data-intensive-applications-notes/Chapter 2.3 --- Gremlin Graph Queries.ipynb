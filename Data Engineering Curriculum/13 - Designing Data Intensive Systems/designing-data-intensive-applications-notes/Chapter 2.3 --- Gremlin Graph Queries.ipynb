{
 "cells": [
  {
   "cell_type": "markdown",
   "metadata": {},
   "source": [
    "Look at:\n",
    "* http://sql2gremlin.com/\n",
    "* https://docs.janusgraph.org/latest/getting-started.html\n",
    "* Get the JanusGraph server process set up. Then run http://tinkerpop.apache.org/docs/current/reference/#gremlin-python against it."
   ]
  }
 ],
 "metadata": {
  "kernelspec": {
   "display_name": "Python 3",
   "language": "python",
   "name": "python3"
  },
  "language_info": {
   "codemirror_mode": {
    "name": "ipython",
    "version": 3
   },
   "file_extension": ".py",
   "mimetype": "text/x-python",
   "name": "python",
   "nbconvert_exporter": "python",
   "pygments_lexer": "ipython3",
   "version": "3.6.5"
  }
 },
 "nbformat": 4,
 "nbformat_minor": 2
}

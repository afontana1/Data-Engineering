{
 "cells": [
  {
   "cell_type": "markdown",
   "metadata": {},
   "source": [
    "## Mission statement\n",
    "\n",
    "* HBase is a wide-column database (for more on what these are look at the Cassandra notes).\n",
    "* However, whilst Cassandra emphasizes availability, HBase emphasizes consistency.\n",
    "* HBase is based on HDFS as the underlying data store. HDFS is designed to be highly durable.\n",
    "* HBase provides good high-volume, large-data, random read-write performance.\n",
    "* Its primary use case is \"reporting\".\n",
    "\n",
    "\n",
    "## Zookeeper\n",
    "* HBase makes use of another Apache project, Zookeeper.\n",
    "* Zookeeper is a high availability, strongly consistent, totally ordered log-based key-value store.\n",
    "* It stores the configuration details for HBase in a durable way, and is meant to be a reusable component that can be plugged into other database architectures.\n",
    "* Zookeeper is designed to address a need common to every database implementation, which is providing configuration details in a durabile way.\n",
    "\n",
    "\n",
    "## Data model and architecture\n",
    "* The HBase server is sharded into a master service and slave daemons.\n",
    "* All of the coordination services live on the master. All of the data lives on the slaves.\n",
    "* There are many services in play; the architecture is relatively complex.\n",
    "* HBase has the concept of a column family. A column family is a set of commonly group-accessed columns which are grouped together in memory. This improves read performance.\n",
    "* HBase also supports having multiple versions of a dataset entry.\n",
    "\n",
    "\n",
    "* Writes are slow (why?).\n",
    "* Reads are fast! HBase is the data store of choice for large Hadoop jobs. Hadoop is the job framework specifically designed for running jobs against data at scale!"
   ]
  }
 ],
 "metadata": {
  "kernelspec": {
   "display_name": "Python 3",
   "language": "python",
   "name": "python3"
  },
  "language_info": {
   "codemirror_mode": {
    "name": "ipython",
    "version": 3
   },
   "file_extension": ".py",
   "mimetype": "text/x-python",
   "name": "python",
   "nbconvert_exporter": "python",
   "pygments_lexer": "ipython3",
   "version": "3.6.4"
  }
 },
 "nbformat": 4,
 "nbformat_minor": 2
}

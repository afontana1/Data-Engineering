{
 "cells": [
  {
   "cell_type": "markdown",
   "metadata": {
    "editable": false,
    "ulab": {
     "buttons": {
      "ulab-button-49bd9d32": {
       "bashCommand": "/home/workspace/startup/startup.sh",
       "filesToOpen": [],
       "isPreviewButton": false,
       "runInBackground": false,
       "style": "primary",
       "text": "Startup",
       "toggleOffText": "HIDE SOLUTION",
       "toggleOnText": "SHOW SOLUTION"
      },
      "ulab-button-be0fe146": {
       "bashCommand": "",
       "filesToOpen": [],
       "isPreviewButton": true,
       "runInBackground": false,
       "style": "primary",
       "text": "STEDI User Interface",
       "toggleOffText": "HIDE SOLUTION",
       "toggleOnText": "SHOW SOLUTION"
      }
     }
    }
   },
   "source": [
    "# STEDI Ecosystem\n",
    "\n",
    "You work for the data science team at STEDI, a small startup focused on assessing balance for seniors. STEDI has an application that collects data from seniors during a small exercise. The user logs in, and then selects the customer they are working with. Then the user starts a timer, and clicks a button with each step the senior takes. When the senior has reached 30 steps, their test is finished. The data transmitted enables the application to monitor seniors’ balance risk. \n",
    "\n",
    "- Start the STEDI Application\n",
    "\n",
    "<button id=\"ulab-button-49bd9d32\" class=\"ulab-btn--primary\"></button>\n",
    "\n",
    "- Log in to the STEDI application\n",
    "\n",
    "<button id=\"ulab-button-be0fe146\" class=\"ulab-btn--primary\"></button>\n",
    "\n",
    "- Click Create New Customer, create a test customer and submit\n",
    "\n",
    "- Click start, then add steps until you reach 30 and the timer has stopped\n",
    "\n",
    "- Repeat this three times, and you will receive a risk score"
   ]
  },
  {
   "cell_type": "markdown",
   "metadata": {
    "editable": false
   },
   "source": [
    "<!--\n",
    "%%ulab_page_divider\n",
    "--><hr/>"
   ]
  },
  {
   "cell_type": "markdown",
   "metadata": {
    "editable": false
   },
   "source": [
    "# Analyzing the Data\n",
    "\n",
    "The STEDI data science team has configured some real-time data sources using Kafka Connect. One of those data sources is Redis. When a customer is first assessed in the STEDI application, their record  is added to a sorted set called Customer in redis. Redis is running on the default redis port (6379), and at localhost. The redis password is “notreally” (without quotes). Redis is configured as a Kafka source, and whenever any data is saved to Redis (including Customer information), a payload is published to the Kafka topic called redis-server. \n",
    "\n",
    "- To connect to the redis instance, from the terminal connect to Redis: \n",
    "\n",
    "```bash\n",
    "/data/redis/redis-stable/src/redis-cli -a notreally\n",
    "```\n",
    "\n",
    "- Type:\n",
    "\n",
    "```bash\n",
    "zrange Customer 0 -1\n",
    "```\n",
    "\n",
    "- Locate the the customer you created in the output\n",
    "\n",
    "- In another terminal run this command to start monitoring the kafka topic:\n",
    "\n",
    "```bash\n",
    "kafka-console-consumer --bootstrap-server localhost:9092 --topic redis-server\n",
    "```\n",
    "\n",
    "- Back in the redis-cli, type: \n",
    "\n",
    "```bash\n",
    "zadd Customer 0 \"{\\\"customerName\\\":\\\"Sam Test\\\",\\\"email\\\":\\\"sam.test@test.com\\\",\\\"phone\\\":\\\"8015551212\\\",\\\"birthDay\\\":\\\"2001-01-03\\\"}\"\n",
    "```\n",
    "\n",
    "In the kafka consumer terminal you will see the following payload appear in the redis-server topic:\n",
    "\n",
    "```json\n",
    "{\"key\":\"Q3VzdG9tZXI=\",\"existType\":\"NONE\",\"ch\":false,\"incr\":false,\"zSetEntries\":[{\"element\":\"eyJjdXN0b21lck5hbWUiOiJTYW0gVGVzdCIsImVtYWlsIjoic2FtLnRlc3RAdGVzdC5jb20iLCJwaG9uZSI6IjgwMTU1NTEyMTIiLCJiaXJ0aERheSI6IjIwMDEtMDEtMDMifQ==\",\"score\":0.0}],\"zsetEntries\":[{\"element\":\"eyJjdXN0b21lck5hbWUiOiJTYW0gVGVzdCIsImVtYWlsIjoic2FtLnRlc3RAdGVzdC5jb20iLCJwaG9uZSI6IjgwMTU1NTEyMTIiLCJiaXJ0aERheSI6IjIwMDEtMDEtMDMifQ==\",\"score\":0.0}]}\n",
    "```\n",
    "\n",
    "Formatted version of the payload:\n",
    "```json\n",
    "{\"key\":\"__Q3VzdG9tZXI=__\",\n",
    "\"existType\":\"NONE\",\n",
    "\"Ch\":false,\n",
    "\"Incr\":false,\n",
    "\"zSetEntries\":[{\n",
    "\"element\":\"__eyJjdXN0b21lck5hbWUiOiJTYW0gVGVzdCIsImVtYWlsIjoic2FtLnRlc3RAdGVzdC5jb20iLCJwaG9uZSI6IjgwMTU1NTEyMTIiLCJiaXJ0aERheSI6IjIwMDEtMDEtMDMifQ==__\",\n",
    "\"Score\":0.0\n",
    "}],\n",
    "\"zsetEntries\":[{\n",
    "\"element\":\"eyJjdXN0b21lck5hbWUiOiJTYW0gVGVzdCIsImVtYWlsIjoic2FtLnRlc3RAdGVzdC5jb20iLCJwaG9uZSI6IjgwMTU1NTEyMTIiLCJiaXJ0aERheSI6IjIwMDEtMDEtMDMifQ==\",\n",
    "\"score\":0.0\n",
    "}]\n",
    "}\n",
    "```\n",
    "\n",
    "Both the key and the zSetEntries fields contain data that is base64 encoded. If you base64 decoded the above encoded data it would look like this:\n",
    "\n",
    "```json\n",
    "{\"key\":\"__Customer__\",\n",
    "\"existType\":\"NONE\",\n",
    "\"Ch\":false,\n",
    "\"Incr\":false,\n",
    "\"zSetEntries\":[{\n",
    "\"element\":\"__{\"customerName\":\"Sam Test\",\"email\":\"sam.test@test.com\",\"phone\":\"8015551212\",\"birthDay\":\"2001-01-03\"}\",\n",
    "\"Score\":0.0\n",
    "}__],\n",
    "\"zsetEntries\":[{\n",
    "\"element\":\"{\"customerName\":\"Sam Test\",\"email\":\"sam.test@test.com\",\"phone\":\"8015551212\",\"birthDay\":\"2001-01-03\"}\",\n",
    "\"score\":0.0\n",
    "}]\n",
    "}\n",
    "```"
   ]
  },
  {
   "cell_type": "markdown",
   "metadata": {
    "editable": false
   },
   "source": [
    "<!--\n",
    "%%ulab_page_divider\n",
    "--><hr/>"
   ]
  },
  {
   "cell_type": "markdown",
   "metadata": {
    "editable": false,
    "ulab": {
     "buttons": {
      "ulab-button-08e2d979": {
       "bashCommand": "",
       "filesToOpen": [],
       "isPreviewButton": true,
       "runInBackground": false,
       "style": "primary",
       "text": "Log in to STEDI",
       "toggleOffText": "HIDE SOLUTION",
       "toggleOnText": "SHOW SOLUTION"
      },
      "ulab-button-1876c2b9": {
       "bashCommand": "/home/workspace/stedi-application/stop.sh",
       "filesToOpen": [],
       "isPreviewButton": false,
       "runInBackground": true,
       "style": "primary",
       "text": "Stop STEDI application",
       "toggleOffText": "HIDE SOLUTION",
       "toggleOnText": "SHOW SOLUTION"
      },
      "ulab-button-b8bc5489": {
       "bashCommand": "cp /opt/spark-2.3.4-bin-hadoop2.7/logs/** /home/workspace/spark/logs",
       "filesToOpen": [],
       "isPreviewButton": false,
       "runInBackground": true,
       "style": "primary",
       "text": "Save Spark Startup Logs",
       "toggleOffText": "HIDE SOLUTION",
       "toggleOnText": "SHOW SOLUTION"
      },
      "ulab-button-edd0d036": {
       "bashCommand": "/home/workspace/stedi-application/start.sh",
       "filesToOpen": [],
       "isPreviewButton": false,
       "runInBackground": false,
       "style": "primary",
       "text": "Start STEDI Application",
       "toggleOffText": "HIDE SOLUTION",
       "toggleOnText": "SHOW SOLUTION"
      }
     }
    }
   },
   "source": [
    "# The Challenge\n",
    "\n",
    "The application development team has programmed certain business events to be published automatically to Kafka. Whenever a customer takes an assessment, their risk score is generated, as long as they have four or more completed assessments. The risk score is transmitted to a Kafka topic called `stedi-events`. The `stedi-events` Kafka topic has a String key and a String value as a JSON object with this format:\n",
    "\n",
    "```json\n",
    "{\"customer\":\"Jason.Mitra@test.com\",\n",
    "\"score\":7.0,\n",
    "\"riskDate\":\"2020-09-14T07:54:06.417Z\"\n",
    "}\n",
    "```\n",
    "\n",
    "The application development team was not able to complete the feature as the graph is currently not receiving any data. Because the graph is currently not receiving any data, you need to generate a new payload in a Kafka topic and make it available to the STEDI application to consume:\n",
    "\n",
    "![Empty Graph](images/empty_graph.png)\n",
    "\n",
    "- Spark is installed in /data/spark\n",
    "\n",
    "- Start the Spark Master, taking note of the log location of the master\n",
    "\n",
    "- Read the master logs to determine the Spark master URI\n",
    "\n",
    "- Start the Spark Worker\n",
    "\n",
    "- Save the Spark startup logs for submission with your solution using the button below:\n",
    "\n",
    "<button id=\"ulab-button-b8bc5489\" class=\"ulab-btn--primary\"></button>\n",
    "\n",
    "- Create a new Kafka topic to transmit the complete risk score with birth date to the STEDI application graph\n",
    "\n",
    "- Edit `/home/workspace/stedi-application/application.conf` and set the the name of the newly created topic:\n",
    "\n",
    "```\n",
    "kafka {\n",
    "  riskTopic=_________          \n",
    "}\n",
    "```\n",
    "\n",
    "- Stop the STEDI application\n",
    "\n",
    "<button id=\"ulab-button-1876c2b9\" class=\"ulab-btn--primary\"></button>\n",
    "\n",
    "- Start the STEDI Application\n",
    "\n",
    "<button id=\"ulab-button-edd0d036\" class=\"ulab-btn--primary\"></button>\n",
    "\n",
    "- Log in to the STEDI application\n",
    "\n",
    "<button id=\"ulab-button-08e2d979\" class=\"ulab-btn--primary\"></button>\n",
    "\n",
    "- From the timer page, use the toggle button in the upper right corner to activate simulated user data to see real-time customer and risk score data. Toggle off and on to create additional customers for redis events. Each time you activate it, STEDI creates 30 new customers, and then starts generating risk scores for each one. It takes 4 minutes for each customer to have risk scores generated, however customer data is generated immediately. To monitor the progress of data generated, from a terminal type: `tail -f /home/workspace/stedi-application/stedi.log`\n",
    "\n",
    "![Toggle Switch](images/toggle_simulation.png)\n",
    "\n",
    "- You are going to to write 3 Spark Python scripts:\n",
    "    - `redis-server` Topic: Write one spark script `sparkpyrediskafkastreamtoconsole.py` to subscribe to the `redis-server` topic, base64 decode the payload, and deserialize the JSON to individual fields, then print the fields to the console. The data should include the birth date and email address. You will need these.\n",
    "    - `stedi-events` Topic: Write a second spark script `sparkpyeventskafkastreamtoconsole.py` to subscribe to the `stedi-events` topic and deserialize the JSON (it is not base64 encoded) to individual fields. You will need the email address and the risk score.\n",
    "    - New Topic: Write a spark script `sparkpykafkajoin.py` to join the customer dataframe and the customer risk dataframes, joining on the email address. Create a JSON output to the newly created kafka topic you created for STEDI to subscribe to that contains at least the fields below:\n",
    "\n",
    "```json\n",
    "{\"customer\":\"Santosh.Fibonnaci@test.com\",\n",
    " \"score\":\"28.5\",\n",
    " \"email\":\"Santosh.Fibonnaci@test.com\",\n",
    " \"birthYear\":\"1963\"\n",
    "} \n",
    "```\n",
    "\n",
    "- From a new terminal type: `/home/workspace/submit-event-kafkajoin.sh` to submit to the cluster\n",
    "\n",
    "- Once the data is populated in the configured kafka topic, the graph should have real-time data points\n",
    "\n",
    "![Populated Graph](images/populated_graph.png)\n",
    "\n",
    "- Upload at least two screenshots of the working graph to the screenshots workspace folder \n",
    "\n"
   ]
  }
 ],
 "metadata": {
  "kernelspec": {
   "display_name": "Python 3",
   "language": "python",
   "name": "python3"
  },
  "language_info": {
   "codemirror_mode": {
    "name": "ipython",
    "version": 3
   },
   "file_extension": ".py",
   "mimetype": "text/x-python",
   "name": "python",
   "nbconvert_exporter": "python",
   "pygments_lexer": "ipython3",
   "version": "3.7.3"
  },
  "ulab_nb_type": "guided"
 },
 "nbformat": 4,
 "nbformat_minor": 4
}

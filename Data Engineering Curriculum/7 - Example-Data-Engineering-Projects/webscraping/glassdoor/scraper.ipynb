{
 "cells": [
  {
   "cell_type": "code",
   "execution_count": 109,
   "id": "f1ded5d7-f59e-4a17-ac20-ee410ee7afda",
   "metadata": {},
   "outputs": [],
   "source": [
    "import time\n",
    "import re\n",
    "import math\n",
    "from selenium import webdriver\n",
    "from selenium.webdriver.chrome.service import Service\n",
    "from selenium.webdriver.common.keys import Keys\n",
    "from selenium.webdriver.common.by import By"
   ]
  },
  {
   "cell_type": "markdown",
   "id": "103756d2-517d-493a-acd7-98dc4c414775",
   "metadata": {},
   "source": [
    "- For newer versions of chromedriver use this\n",
    "- https://support.google.com/chrome/thread/259906683/need-archives-of-chromedrivers-after-version-114-but-not-just-stable-or-beta-eg-121-0-6167-140?hl=en\n",
    "- https://storage.googleapis.com/chrome-for-testing-public/122.0.6261.57/win64/chromedriver-win64.zip\n",
    "- just change your chrome version\n",
    "- I think these are still beta so not all the functionality will be available"
   ]
  },
  {
   "cell_type": "code",
   "execution_count": 154,
   "id": "1f58844c-5b53-4bfc-8002-1741677ef0a8",
   "metadata": {},
   "outputs": [],
   "source": [
    "BASE_URL = \"https://www.glassdoor.com/index.htm\"\n",
    "EMAIL = \"YOUR EMAIL\"\n",
    "PASSWORD = \"YOUR PASS\""
   ]
  },
  {
   "cell_type": "code",
   "execution_count": null,
   "id": "fbabd172-a26a-48e8-89e5-76d70f031c43",
   "metadata": {},
   "outputs": [],
   "source": []
  },
  {
   "cell_type": "code",
   "execution_count": 66,
   "id": "7dd8e25e-49a8-4a25-a8f1-2023dc35593e",
   "metadata": {},
   "outputs": [],
   "source": [
    "driver = webdriver.Chrome()  # Optional argument, if not specified will search path.\n",
    "\n",
    "driver.get('http://www.google.com/');\n",
    "#time.sleep(5) # Let the user actually see something!\n",
    "#driver.quit()\n",
    "get_html(body_inner_html,page_num=1)"
   ]
  },
  {
   "cell_type": "code",
   "execution_count": null,
   "id": "6090a0eb-66b1-4dc6-a22e-6209eaaeb820",
   "metadata": {},
   "outputs": [],
   "source": []
  },
  {
   "cell_type": "code",
   "execution_count": null,
   "id": "41611130-7141-41d4-99c7-c3786f4ff51c",
   "metadata": {},
   "outputs": [],
   "source": []
  },
  {
   "cell_type": "code",
   "execution_count": 148,
   "id": "aeeea442-560f-49a7-92db-1fd734ebc4f8",
   "metadata": {},
   "outputs": [],
   "source": [
    "def insert_before_pattern(main_string, pattern, insert_string):\n",
    "    # Construct the regular expression pattern\n",
    "    regex = re.compile(re.escape(pattern))\n",
    "\n",
    "    # Find the index of the pattern\n",
    "    match = regex.search(main_string)\n",
    "\n",
    "    # If the pattern is found, insert the string before it\n",
    "    if match:\n",
    "        index = match.start()\n",
    "        return main_string[:index] + insert_string + main_string[index:]\n",
    "    else:\n",
    "        # If pattern not found, simply return the original string\n",
    "        return main_string\n",
    "\n",
    "def replace_pattern_in_string(main_string, replacement):\n",
    "    pattern = r'(_P\\d+)'\n",
    "    result = re.sub(pattern, replacement, main_string)\n",
    "    return result\n",
    "\n",
    "class Browser:\n",
    "    def __init__(self):\n",
    "        self.browser = webdriver.Chrome()\n",
    "        self.next_url_suffix = \"?filter.iso3Language=eng\" #Change language if you want\n",
    "        self.pattern = \".htm\"\n",
    "\n",
    "    def open_page(self, url: str):\n",
    "        self.browser.get(url)\n",
    "\n",
    "    def close_browser(self):\n",
    "        self.browser.close()\n",
    "\n",
    "    def add_input(self, by: By, value: str, text: str, send: bool = False):\n",
    "        field = self.browser.find_element(by=by, value=value)\n",
    "        field.send_keys(text)\n",
    "        time.sleep(3)\n",
    "        if send:\n",
    "            field.send_keys(Keys.ENTER)\n",
    "\n",
    "    def click_button(self, by: By, value: str):\n",
    "        button = self.browser.find_element(by=by, value=value)\n",
    "        button.click()\n",
    "        time.sleep(5)\n",
    "\n",
    "    def login_glassdoor(self, username: str, password: str):\n",
    "        self.add_input(by=By.ID, value='inlineUserEmail', text=username)\n",
    "        self.click_button(by=By.XPATH, value='//*[@id=\"InlineLoginModule\"]/div/div/div[1]/div/div/div/div/form/div[2]/button')\n",
    "        self.add_input(by=By.ID, value='inlineUserPassword', text=password)\n",
    "        self.click_button(by=By.XPATH, value='//*[@id=\"InlineLoginModule\"]/div/div/div[1]/div/div/div/div/form/div[4]/button')\n",
    "\n",
    "    def search_company(self,company_name: str):\n",
    "        self.click_button(by=By.XPATH, value = '//*[@id=\"UtilityNav\"]/div[1]/button')\n",
    "        self.add_input(by=By.ID, value='sc.keyword', text=company_name, send = True)\n",
    "        self.click_button(by=By.XPATH, value = '//*[@id=\"Discover\"]/div/div/div[1]/div[1]/div/a')\n",
    "        self.click_button(by=By.XPATH, value = '//*[@id=\"EmpLinksWrapper\"]/div[2]/div/div[1]/a[1]')\n",
    "        ## Clear All Filters, this is inconsistent for some reason\n",
    "        # self.click_button(by=By.XPATH, value = '/html/body/div[3]/div/div[1]/div[2]/main/div[1]/div[1]/div/div[1]/div[4]/div[1]/a')\n",
    "\n",
    "    def get_html(self, page_num:int):\n",
    "        \"\"\"We want to write the HTML rather than do all of the parsing here\"\"\"\n",
    "        body_inner_html = self.browser.find_element(By.TAG_NAME, 'body')\n",
    "        html = body_inner_html.get_attribute('innerHTML')\n",
    "        with open(f\"html/page_{page_num}.html\",\"w\", encoding=\"utf-8\") as out:\n",
    "            out.write(html)\n",
    "\n",
    "    def construct_urls(self,starting_url:str,num_urls:int):\n",
    "        curr_url = starting_url\n",
    "        for i in range(2,num_urls + 1):\n",
    "            result = replace_pattern_in_string(curr_url, \"\")\n",
    "            if self.next_url_suffix not in result:\n",
    "                result+=self.next_url_suffix\n",
    "            insert_string = f\"_P{i}\"\n",
    "            result = insert_before_pattern(result, pattern = self.pattern, insert_string = insert_string)\n",
    "            yield result\n",
    "            curr_url = result\n",
    "\n",
    "    def collect_reviews(self,num_reviews:int):\n",
    "        # Start by getting the current reviews\n",
    "        self.get_html(page_num=1)\n",
    "        # Now construct the next URL\n",
    "        # You will iterate through the subsequent pages, no need to click \n",
    "        # Figure out how many urls to construct based on num_reviews and num_displayed\n",
    "        # we know it is ~1,700 for LLNL\n",
    "        num_urls = math.ceil(num_reviews//10)\n",
    "        for url in self.construct_urls(starting_url = self.browser.current_url, num_urls= num_urls):\n",
    "            print(url)\n",
    "            self.open_page(url = url)\n",
    "            time.sleep(3)\n",
    "            #extract the page number\n",
    "            match = re.search(r'_P(\\d+)', url)\n",
    "            if match:\n",
    "                # Extract the number from the match\n",
    "                number = match.group(1)\n",
    "                self.get_html(page_num=number)\n",
    "            else:\n",
    "                raise Exception(f\"Something wrong with the URL!!! {url}\")"
   ]
  },
  {
   "cell_type": "code",
   "execution_count": null,
   "id": "0c4d59d9-cb38-470d-aa48-569e22987fd8",
   "metadata": {},
   "outputs": [],
   "source": []
  },
  {
   "cell_type": "code",
   "execution_count": 149,
   "id": "3d478188-e2a0-406f-a15b-50f05c46c920",
   "metadata": {},
   "outputs": [],
   "source": [
    "browser = Browser()"
   ]
  },
  {
   "cell_type": "code",
   "execution_count": 150,
   "id": "4b13c8b6-eb22-43f9-9b4c-a56654cd753c",
   "metadata": {},
   "outputs": [],
   "source": [
    "browser.open_page(url = BASE_URL)"
   ]
  },
  {
   "cell_type": "code",
   "execution_count": 151,
   "id": "6518ba9b-dc73-4ae4-8def-ec089aa12172",
   "metadata": {},
   "outputs": [],
   "source": [
    "browser.login_glassdoor(username = EMAIL, password = PASSWORD)"
   ]
  },
  {
   "cell_type": "code",
   "execution_count": 152,
   "id": "7afce54c-6eab-43d6-b756-621ad4e18255",
   "metadata": {},
   "outputs": [],
   "source": [
    "browser.search_company(company_name = \"Lawrence Livermore National Laboratory\")"
   ]
  },
  {
   "cell_type": "code",
   "execution_count": 153,
   "id": "9215db83-78c5-452e-9f2a-e85d4c56c915",
   "metadata": {},
   "outputs": [
    {
     "name": "stdout",
     "output_type": "stream",
     "text": [
      "https://www.glassdoor.com/Reviews/Lawrence-Livermore-National-Laboratory-Reviews-E35235_P2.htm?filter.iso3Language=eng\n",
      "https://www.glassdoor.com/Reviews/Lawrence-Livermore-National-Laboratory-Reviews-E35235_P3.htm?filter.iso3Language=eng\n"
     ]
    }
   ],
   "source": [
    "browser.collect_reviews(num_reviews = 30)"
   ]
  },
  {
   "cell_type": "code",
   "execution_count": null,
   "id": "8f73a24a-8a74-4099-8648-e86650adc71b",
   "metadata": {},
   "outputs": [],
   "source": []
  },
  {
   "cell_type": "code",
   "execution_count": null,
   "id": "aa98fa84-41d7-4217-8795-86539704215e",
   "metadata": {},
   "outputs": [],
   "source": []
  }
 ],
 "metadata": {
  "kernelspec": {
   "display_name": "Python 3 (ipykernel)",
   "language": "python",
   "name": "python3"
  },
  "language_info": {
   "codemirror_mode": {
    "name": "ipython",
    "version": 3
   },
   "file_extension": ".py",
   "mimetype": "text/x-python",
   "name": "python",
   "nbconvert_exporter": "python",
   "pygments_lexer": "ipython3",
   "version": "3.11.3"
  }
 },
 "nbformat": 4,
 "nbformat_minor": 5
}

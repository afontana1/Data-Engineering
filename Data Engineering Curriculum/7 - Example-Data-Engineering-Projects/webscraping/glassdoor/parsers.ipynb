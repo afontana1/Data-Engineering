{
 "cells": [
  {
   "cell_type": "code",
   "execution_count": 1,
   "id": "02cb17d4-a989-4e98-81cc-f3058d2ca647",
   "metadata": {},
   "outputs": [],
   "source": [
    "from bs4 import BeautifulSoup  "
   ]
  },
  {
   "cell_type": "code",
   "execution_count": 2,
   "id": "fb249273-79a8-4946-a1be-ddad8c14fe58",
   "metadata": {},
   "outputs": [],
   "source": [
    "with open(\"html/page_1.html\", \"r\", encoding=\"utf-8\") as file:\n",
    "    html_content = file.read()\n",
    "soup = BeautifulSoup(html_content, 'html.parser')"
   ]
  },
  {
   "cell_type": "code",
   "execution_count": 3,
   "id": "f0814d9e-1e87-439f-9e40-7c8a11d1f633",
   "metadata": {},
   "outputs": [],
   "source": [
    "# Remove style and script tags from the soup\n",
    "for script in soup([\"script\", \"style\"]):\n",
    "    script.extract()"
   ]
  },
  {
   "cell_type": "code",
   "execution_count": 7,
   "id": "2933de8e-cae4-4d99-9f07-09d73b87df11",
   "metadata": {},
   "outputs": [],
   "source": [
    "reviews = soup.find_all('div', class_='review-details__review-details-module__topLineContainer')"
   ]
  },
  {
   "cell_type": "code",
   "execution_count": 9,
   "id": "3483aaa9-fb4b-42ca-867e-52eba84ee0e5",
   "metadata": {},
   "outputs": [],
   "source": [
    "assert len(reviews) == 10"
   ]
  },
  {
   "cell_type": "code",
   "execution_count": 12,
   "id": "0e10fc7c-373d-4cca-b97c-c8fa3d3f65d3",
   "metadata": {},
   "outputs": [
    {
     "data": {
      "text/plain": [
       "<div class=\"review-details__review-details-module__topLineContainer\"><div class=\"review-details__review-details-module__subRatingContainer\"><span class=\"review-details__review-details-module__overallRating\">5.0</span><div class=\"review-details__review-details-module__ratingContainer\"><div aria-hidden=\"false\" aria-live=\"polite\" class=\"rating__rating-module__RatingContainer\" role=\"status\"><div aria-hidden=\"false\" aria-live=\"polite\" class=\"rating-star__rating-star-module__RatingStarContainer\" data-color-variant=\"secondary\" data-size-variant=\"sm\" role=\"presentation\" style=\"--outline-percentage:0%\"><svg aria-hidden=\"false\" aria-live=\"polite\" class=\"rating-star__rating-star-module__RatingStarFilled\" fill=\"none\" height=\"24\" role=\"img\" viewbox=\"0 0 24 24\" width=\"24\" xmlns=\"http://www.w3.org/2000/svg\"><path d=\"m12 1 2.597 8.403H23l-6.798 5.194L18.798 23 12 17.807 5.202 23l2.596-8.403L1 9.403h8.403z\" fill=\"currentColor\" stroke=\"currentColor\"></path></svg></div><div aria-hidden=\"false\" aria-live=\"polite\" class=\"rating-star__rating-star-module__RatingStarContainer\" data-color-variant=\"secondary\" data-size-variant=\"sm\" role=\"presentation\" style=\"--outline-percentage:0%\"><svg aria-hidden=\"false\" aria-live=\"polite\" class=\"rating-star__rating-star-module__RatingStarFilled\" fill=\"none\" height=\"24\" role=\"img\" viewbox=\"0 0 24 24\" width=\"24\" xmlns=\"http://www.w3.org/2000/svg\"><path d=\"m12 1 2.597 8.403H23l-6.798 5.194L18.798 23 12 17.807 5.202 23l2.596-8.403L1 9.403h8.403z\" fill=\"currentColor\" stroke=\"currentColor\"></path></svg></div><div aria-hidden=\"false\" aria-live=\"polite\" class=\"rating-star__rating-star-module__RatingStarContainer\" data-color-variant=\"secondary\" data-size-variant=\"sm\" role=\"presentation\" style=\"--outline-percentage:0%\"><svg aria-hidden=\"false\" aria-live=\"polite\" class=\"rating-star__rating-star-module__RatingStarFilled\" fill=\"none\" height=\"24\" role=\"img\" viewbox=\"0 0 24 24\" width=\"24\" xmlns=\"http://www.w3.org/2000/svg\"><path d=\"m12 1 2.597 8.403H23l-6.798 5.194L18.798 23 12 17.807 5.202 23l2.596-8.403L1 9.403h8.403z\" fill=\"currentColor\" stroke=\"currentColor\"></path></svg></div><div aria-hidden=\"false\" aria-live=\"polite\" class=\"rating-star__rating-star-module__RatingStarContainer\" data-color-variant=\"secondary\" data-size-variant=\"sm\" role=\"presentation\" style=\"--outline-percentage:0%\"><svg aria-hidden=\"false\" aria-live=\"polite\" class=\"rating-star__rating-star-module__RatingStarFilled\" fill=\"none\" height=\"24\" role=\"img\" viewbox=\"0 0 24 24\" width=\"24\" xmlns=\"http://www.w3.org/2000/svg\"><path d=\"m12 1 2.597 8.403H23l-6.798 5.194L18.798 23 12 17.807 5.202 23l2.596-8.403L1 9.403h8.403z\" fill=\"currentColor\" stroke=\"currentColor\"></path></svg></div><div aria-hidden=\"false\" aria-live=\"polite\" class=\"rating-star__rating-star-module__RatingStarContainer\" data-color-variant=\"secondary\" data-size-variant=\"sm\" role=\"presentation\" style=\"--outline-percentage:0%\"><svg aria-hidden=\"false\" aria-live=\"polite\" class=\"rating-star__rating-star-module__RatingStarFilled\" fill=\"none\" height=\"24\" role=\"img\" viewbox=\"0 0 24 24\" width=\"24\" xmlns=\"http://www.w3.org/2000/svg\"><path d=\"m12 1 2.597 8.403H23l-6.798 5.194L18.798 23 12 17.807 5.202 23l2.596-8.403L1 9.403h8.403z\" fill=\"currentColor\" stroke=\"currentColor\"></path></svg></div></div><div class=\"review-details__review-details-module__ratingCaret\"><svg class=\"review-details__review-details-module__caret\" fill=\"none\" height=\"24\" role=\"img\" viewbox=\"0 0 24 24\" width=\"24\" xmlns=\"http://www.w3.org/2000/svg\"><path clip-rule=\"evenodd\" d=\"M4.276 8.277a.937.937 0 0 1 1.33 0L12 14.713l6.393-6.436a.937.937 0 0 1 1.331 0c.368.37.368.97 0 1.34l-7.059 7.105a.937.937 0 0 1-1.33 0l-7.06-7.105a.952.952 0 0 1 0-1.34Z\"></path></svg></div></div></div><div class=\"review-details__review-details-module__reportWrapper review-details__review-details-module__reportWithExtra\"><div class=\"review-details__review-details-module__reporButtontWrapper\"><span class=\"review-details__review-details-module__reviewDate\">Feb 19, 2024</span><div class=\"more-info__more-info-module__container\" data-test=\"MoreInfo-container\"><button aria-label=\"Opens a dialog\" class=\"more-info__more-info-module__moreButton\" data-test=\"MoreInfo-moreButton\" tabindex=\"0\" type=\"button\"><div class=\"review-details__review-details-module__moreIconHover\"><svg class=\"review-details__review-details-module__moreIcon\" height=\"24\" role=\"img\" viewbox=\"0 0 24 24\" width=\"24\" xmlns=\"http://www.w3.org/2000/svg\"><path d=\"M20 10a2 2 0 1 1-2 2 2 2 0 0 1 2-2zm-8 0a2 2 0 1 1-2 2 2 2 0 0 1 2-2zm-8 0a2 2 0 1 1-2 2 2 2 0 0 1 2-2z\" fill=\"currentColor\" fill-rule=\"evenodd\"></path></svg></div></button></div></div></div></div>"
      ]
     },
     "execution_count": 12,
     "metadata": {},
     "output_type": "execute_result"
    }
   ],
   "source": [
    "reviews[0]"
   ]
  },
  {
   "cell_type": "code",
   "execution_count": 23,
   "id": "c88134f1-47e1-4a89-ab7a-eab5b17988c1",
   "metadata": {},
   "outputs": [],
   "source": [
    "#construct mapping with class name and column name for a \"record\"\n",
    "PREFIX = \"review-details__review-details-module\"\n",
    "mapping = {\n",
    "    \"date\":f\"{PREFIX}__reviewDate\",\n",
    "    \"rating\":f\"{PREFIX}__overallRating\",\n",
    "    \"title\":f\"{PREFIX}__detailsLink {PREFIX}__title\",\n",
    "    \"position\":f\"{PREFIX}__employee\",\n",
    "    \"employment_status\":f\"{PREFIX}__employeeDetails\",\n",
    "    \"recommend\":f\"{PREFIX}__ratingTitle\",\n",
    "    \"ceo_approval\":f\"{PREFIX}__ratingTitle\",\n",
    "    \"BusinessOutlook\":f\"{PREFIX}__ratingTitle\",\n",
    "    \"pro-con\":f\"{PREFIX}__isExpanded\"\n",
    "}"
   ]
  },
  {
   "cell_type": "code",
   "execution_count": 32,
   "id": "ecb39c68-2eb5-41d9-b583-98d7f582ab8f",
   "metadata": {},
   "outputs": [],
   "source": [
    "single_row = {}\n",
    "for column, classname in mapping.items():\n",
    "    if column == \"pro-con\":\n",
    "        pros_cons = soup.find_all(class_ = classname)\n",
    "        pro = pros_cons[0].find('span', {'data-test': 'pros'}).text\n",
    "        con = pros_cons[1].find('span', {'data-test': 'cons'}).text\n",
    "        single_row[column] = (pro,con)\n",
    "    else:\n",
    "        item = soup.find(class_ = classname).text\n",
    "        single_row[column] = item"
   ]
  },
  {
   "cell_type": "code",
   "execution_count": 33,
   "id": "22eb8d34-b69c-4935-94ff-d8196b52f7c3",
   "metadata": {},
   "outputs": [
    {
     "data": {
      "text/plain": [
       "{'date': 'Feb 19, 2024',\n",
       " 'rating': '5.0',\n",
       " 'title': 'Great company',\n",
       " 'position': 'Anonymous Employee',\n",
       " 'employment_status': 'Former Employee, more than 1 year',\n",
       " 'recommend': 'Recommend',\n",
       " 'ceo_approval': 'Recommend',\n",
       " 'BusinessOutlook': 'Recommend',\n",
       " 'pro-con': ('Contribution to 401(k), and all benefits were amazing. Wish I would not have left.',\n",
       "  'No cons in my option but will depend where you work')}"
      ]
     },
     "execution_count": 33,
     "metadata": {},
     "output_type": "execute_result"
    }
   ],
   "source": [
    "single_row"
   ]
  },
  {
   "cell_type": "code",
   "execution_count": null,
   "id": "b76a0efe-2174-43d4-bacd-fd2a2df70d3e",
   "metadata": {},
   "outputs": [],
   "source": []
  }
 ],
 "metadata": {
  "kernelspec": {
   "display_name": "Python 3 (ipykernel)",
   "language": "python",
   "name": "python3"
  },
  "language_info": {
   "codemirror_mode": {
    "name": "ipython",
    "version": 3
   },
   "file_extension": ".py",
   "mimetype": "text/x-python",
   "name": "python",
   "nbconvert_exporter": "python",
   "pygments_lexer": "ipython3",
   "version": "3.11.3"
  }
 },
 "nbformat": 4,
 "nbformat_minor": 5
}

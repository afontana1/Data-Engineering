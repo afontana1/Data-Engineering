{
 "cells": [
  {
   "cell_type": "code",
   "execution_count": 12,
   "id": "5233c297-47d9-419e-9903-368d64a8e75e",
   "metadata": {},
   "outputs": [],
   "source": [
    "# !pip install PyPDF2\n",
    "# !pip install pdfminer.six\n",
    "# ! pip install pdfplumber\n",
    "# !pip install pdf2image\n",
    "# !pip install Pillow\n",
    "# !pip install pytesseract\n",
    "# ! pip install pdfplumber\n",
    "# https://towardsdatascience.com/extracting-text-from-pdf-files-with-python-a-comprehensive-guide-9fc4003d517"
   ]
  },
  {
   "cell_type": "code",
   "execution_count": 84,
   "id": "8cc538c8-e68d-4123-8199-09d86cb3e435",
   "metadata": {},
   "outputs": [],
   "source": [
    "import os\n",
    "import pdfplumber\n",
    "import pathlib\n",
    "import csv"
   ]
  },
  {
   "cell_type": "code",
   "execution_count": 17,
   "id": "859aa190-73a0-45dc-8971-9e66105e18d8",
   "metadata": {},
   "outputs": [],
   "source": [
    "CURRENT_DIR = str(pathlib.Path(\"__file__\").parent.resolve())\n",
    "DATA_DIRECTORY = os.path.join(CURRENT_DIR,\"data\")"
   ]
  },
  {
   "cell_type": "code",
   "execution_count": 25,
   "id": "e854a275-6aff-48d8-a134-733b18c607a7",
   "metadata": {},
   "outputs": [],
   "source": [
    "paths_to_files = []\n",
    "for path,thing,files in os.walk(DATA_DIRECTORY):\n",
    "    for file_name in files:\n",
    "        paths_to_files.append(\n",
    "            os.path.join(DATA_DIRECTORY,file_name)\n",
    "        )"
   ]
  },
  {
   "cell_type": "code",
   "execution_count": 56,
   "id": "fb2f914f-11fc-4beb-9da7-53f85bb028fb",
   "metadata": {},
   "outputs": [],
   "source": [
    "def get_tables(pdf_path:str):\n",
    "    \"\"\"Extract data from single PDF file\"\"\"\n",
    "    tables_store = {}\n",
    "    with pdfplumber.open(pdf_path) as pdf:\n",
    "        for page_number in range(len(pdf.pages)):\n",
    "            table_page = pdf.pages[page_number]\n",
    "            tables = table_page.extract_tables()\n",
    "            tables_store[page_number] = tables\n",
    "    return tables_store\n",
    "\n",
    "def convert_table(tables:dict) -> dict:\n",
    "    \"\"\"Extract relevant information.\n",
    "    Return:\n",
    "        {\n",
    "            column names: list of columns,\n",
    "            data: list of lists containing the table information\n",
    "        }\n",
    "    \"\"\"\n",
    "    data = {}\n",
    "    for page_number, table_data in tables.items():\n",
    "        if \"data\" not in data:\n",
    "            data[\"data\"] = []\n",
    "        table_info = table_data[0]\n",
    "        if page_number == 0:\n",
    "            table_info = table_data[0]\n",
    "            data[\"columns\"] = table_info[0]\n",
    "            data[\"data\"].extend(table_info[1:])\n",
    "        else:\n",
    "            data[\"data\"].extend(table_info)\n",
    "    return data\n",
    "            "
   ]
  },
  {
   "cell_type": "code",
   "execution_count": 66,
   "id": "d22add85-12eb-4205-a227-7fad3c764e86",
   "metadata": {},
   "outputs": [],
   "source": [
    "def write_to_csv(output_data:dict,file_name:str):\n",
    "    with open(\n",
    "        f\"{os.path.join(DATA_DIRECTORY,file_name)}.csv\", 'w',newline='', encoding='utf-8'\n",
    "    ) as csvfile: \n",
    "        # creating a csv writer object \n",
    "        csvwriter = csv.writer(csvfile) \n",
    "        csvwriter.writerow(output_data.get(\"columns\")) \n",
    "        # writing the data rows \n",
    "        csvwriter.writerows(output_data.get(\"data\"))"
   ]
  },
  {
   "cell_type": "code",
   "execution_count": 82,
   "id": "37cf68e1-b3ed-4248-969a-d336e61fb575",
   "metadata": {},
   "outputs": [],
   "source": [
    "def main():\n",
    "    for path_to_file in paths_to_files:\n",
    "        file_name = path_to_file.split(\"\\\\\")[-1].split(\".\")[0]\n",
    "        table_data = get_tables(path_to_file)\n",
    "        output_data = convert_table(table_data)\n",
    "        print(file_name)\n",
    "        write_to_csv(output_data = output_data, file_name = file_name)"
   ]
  },
  {
   "cell_type": "code",
   "execution_count": 83,
   "id": "3943d760-ca26-4216-9539-1d3ee23f5fd4",
   "metadata": {},
   "outputs": [
    {
     "name": "stdout",
     "output_type": "stream",
     "text": [
      "warn-2015\n",
      "warn-2016\n",
      "warn-2017\n",
      "warn-2018\n",
      "warn-2019\n",
      "warn-2020\n",
      "warn-2021\n",
      "warn-2022\n",
      "warn-2023\n"
     ]
    }
   ],
   "source": [
    "main()"
   ]
  },
  {
   "cell_type": "code",
   "execution_count": null,
   "id": "5f758cb5-8b01-47fa-8704-6075ee89811b",
   "metadata": {},
   "outputs": [],
   "source": []
  }
 ],
 "metadata": {
  "kernelspec": {
   "display_name": "Python 3 (ipykernel)",
   "language": "python",
   "name": "python3"
  },
  "language_info": {
   "codemirror_mode": {
    "name": "ipython",
    "version": 3
   },
   "file_extension": ".py",
   "mimetype": "text/x-python",
   "name": "python",
   "nbconvert_exporter": "python",
   "pygments_lexer": "ipython3",
   "version": "3.11.3"
  }
 },
 "nbformat": 4,
 "nbformat_minor": 5
}

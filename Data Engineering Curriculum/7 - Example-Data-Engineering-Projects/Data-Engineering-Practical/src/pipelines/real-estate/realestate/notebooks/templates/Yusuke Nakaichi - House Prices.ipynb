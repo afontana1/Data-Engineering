{
 "cells": [
  {
   "cell_type": "markdown",
   "metadata": {
    "_cell_guid": "46241e3d-ca7b-4ded-ba70-f5924701f819",
    "_uuid": "077027bfbb67aadec9f5b10af2d4c60f2ff1300e"
   },
   "source": [
    "\n",
    "## Competition Description\n",
    "\n",
    "Ask a home buyer to describe their dream house, and they probably won't begin with the height of the basement ceiling or the proximity to an east-west railroad. But this playground competition's dataset proves that much more influences price negotiations than the number of bedrooms or a white-picket fence.\n",
    "\n",
    "With 79 explanatory variables describing (almost) every aspect of residential homes in Ames, Iowa, this competition challenges you to predict the final price of each home.\n",
    "\n",
    "## Practice Skills\n",
    "Creative feature engineering \n",
    "Advanced regression techniques like random forest and gradient boosting\n",
    "Acknowledgments\n",
    "The Ames Housing dataset was compiled by Dean De Cock for use in data science education. It's an incredible alternative for data scientists looking for a modernized and expanded version of the often cited Boston Housing dataset. "
   ]
  },
  {
   "cell_type": "markdown",
   "metadata": {
    "_cell_guid": "ce565885-27e9-42cc-84b5-79db54abe212",
    "_uuid": "e63fa4ff957634a262c103b26ab8665b337f2591"
   },
   "source": [
    "## Goal\n",
    "It is your job to predict the sales price for each house. For each Id in the test set, you must predict the value of the SalePrice variable. \n",
    "\n",
    "## Metric\n",
    "Submissions are evaluated on Root-Mean-Squared-Error (RMSE) between the logarithm of the predicted value and the logarithm of the observed sales price. (Taking logs means that errors in predicting expensive houses and cheap houses will affect the result equally.)\n",
    "\n",
    "## Submission File Format\n",
    "The file should contain a header and have the following format:"
   ]
  },
  {
   "cell_type": "code",
   "execution_count": 1,
   "metadata": {
    "_cell_guid": "aaf77cf5-323b-463e-9b60-56d71f7dace3",
    "_uuid": "3876384a89be32d895f7d61df7f4e172f7e330f6"
   },
   "outputs": [
    {
     "ename": "ModuleNotFoundError",
     "evalue": "No module named 'xgboost'",
     "output_type": "error",
     "traceback": [
      "\u001b[0;31m---------------------------------------------------------------------------\u001b[0m",
      "\u001b[0;31mModuleNotFoundError\u001b[0m                       Traceback (most recent call last)",
      "\u001b[0;32m<ipython-input-1-40fb72592ad4>\u001b[0m in \u001b[0;36m<module>\u001b[0;34m()\u001b[0m\n\u001b[1;32m     26\u001b[0m     \u001b[0;32mreturn\u001b[0m\u001b[0;34m(\u001b[0m\u001b[0mrmse\u001b[0m\u001b[0;34m)\u001b[0m\u001b[0;34m\u001b[0m\u001b[0m\n\u001b[1;32m     27\u001b[0m \u001b[0;31m#XGboost\u001b[0m\u001b[0;34m\u001b[0m\u001b[0;34m\u001b[0m\u001b[0m\n\u001b[0;32m---> 28\u001b[0;31m \u001b[0;32mimport\u001b[0m \u001b[0mxgboost\u001b[0m \u001b[0;32mas\u001b[0m \u001b[0mxgb\u001b[0m\u001b[0;34m\u001b[0m\u001b[0m\n\u001b[0m\u001b[1;32m     29\u001b[0m \u001b[0;31m#statmodelsのGLMを使えるようにするモジュール\u001b[0m\u001b[0;34m\u001b[0m\u001b[0;34m\u001b[0m\u001b[0m\n\u001b[1;32m     30\u001b[0m \u001b[0;32mimport\u001b[0m \u001b[0mstatsmodels\u001b[0m\u001b[0;34m.\u001b[0m\u001b[0mapi\u001b[0m \u001b[0;32mas\u001b[0m \u001b[0msm\u001b[0m\u001b[0;34m\u001b[0m\u001b[0m\n",
      "\u001b[0;31mModuleNotFoundError\u001b[0m: No module named 'xgboost'"
     ]
    }
   ],
   "source": [
    "# data analysis and wrangling\n",
    "import pandas as pd\n",
    "import numpy as np\n",
    "import random as rnd\n",
    "\n",
    "# visualization\n",
    "import seaborn as sns\n",
    "import matplotlib as mpl\n",
    "import matplotlib.pyplot as plt\n",
    "import matplotlib.pylab as pylab\n",
    "%matplotlib inline\n",
    "mpl.style.use( 'ggplot' )\n",
    "sns.set_style( 'whitegrid' )\n",
    "sns.set_palette(\"Set3\")\n",
    "pylab.rcParams[ 'figure.figsize' ] = 8 , 6\n",
    "\n",
    "# machine learning\n",
    "from sklearn import linear_model\n",
    "from sklearn.linear_model import Ridge, RidgeCV, ElasticNet, LassoCV, LassoLarsCV\n",
    "from sklearn.model_selection import cross_val_score\n",
    "from sklearn.metrics import mean_squared_error\n",
    "from sklearn.model_selection import GridSearchCV\n",
    "\n",
    "def rmse_cv(model):\n",
    "    rmse= np.sqrt(-cross_val_score(model, X_train, y_train, scoring=\"neg_mean_squared_error\", cv = 5))\n",
    "    return(rmse)\n",
    "#XGboost\n",
    "import xgboost as xgb\n",
    "#statmodelsのGLMを使えるようにするモジュール\n",
    "import statsmodels.api as sm\n",
    "#GLMの中で用いる統計処理関数のインポート, chi**2の値などの算出に使用している \n",
    "from scipy import stats \n",
    "#Rのglmを使用可能にするための関数\n",
    "import statsmodels.formula.api as smf \n",
    "\n",
    "# ## OLS, GLM: Gaussian response data\n"
   ]
  },
  {
   "cell_type": "code",
   "execution_count": 2,
   "metadata": {
    "_cell_guid": "5797f9d4-ab0a-4955-8373-c9caa1cba37d",
    "_uuid": "9bc069a652e430016b517b0c66fe04b447171aaf",
    "collapsed": true
   },
   "outputs": [],
   "source": [
    "\"\"\"def plot_distribution( df , var , target , **kwargs ):\n",
    "    row = kwargs.get( 'row' , None )\n",
    "    col = kwargs.get( 'col' , None )\n",
    "    facet = sns.FacetGrid( df , hue=target , aspect=4 , row = row , col = col )\n",
    "    facet.map( sns.kdeplot , var , shade= True )\n",
    "    facet.set( xlim=( 0 , df[ var ].max() ) )\n",
    "    facet.add_legend()\"\"\""
   ]
  },
  {
   "cell_type": "markdown",
   "metadata": {
    "_cell_guid": "4c3bac23-a895-4152-a563-794e4445e601",
    "_uuid": "4cb24067d46730a461d1360890e5ede98c7f4f79"
   },
   "source": [
    "## Acquire data"
   ]
  },
  {
   "cell_type": "code",
   "execution_count": 3,
   "metadata": {
    "_cell_guid": "7760a338-6b41-411a-afb5-f5c157e3db58",
    "_uuid": "61aec1b2ebddae75dbaad32e3d4f362fd5dcc413",
    "collapsed": true
   },
   "outputs": [],
   "source": [
    "train_df = pd.read_csv('../input/train.csv')\n",
    "test_df = pd.read_csv('../input/test.csv')\n",
    "combine = [train_df, test_df]"
   ]
  },
  {
   "cell_type": "code",
   "execution_count": 4,
   "metadata": {
    "_cell_guid": "ad0f66f4-37e5-4827-a53f-bae9066422f4",
    "_uuid": "d993674a68a088de450a832b09fefe66fe07cf03",
    "collapsed": true
   },
   "outputs": [],
   "source": [
    "train_df.head(10)"
   ]
  },
  {
   "cell_type": "code",
   "execution_count": 5,
   "metadata": {
    "_cell_guid": "43294a52-0ece-4c20-931a-e634da2024ae",
    "_uuid": "1dbadf8b17cd5aafee285c7aefe3fac4822730ab",
    "collapsed": true
   },
   "outputs": [],
   "source": [
    "train_df.columns"
   ]
  },
  {
   "cell_type": "code",
   "execution_count": 6,
   "metadata": {
    "_cell_guid": "2dcd9f75-270e-435a-b126-4dc4b37c1779",
    "_uuid": "6f17077a93ab44c8f3f7c478634a3629601cc4a9",
    "collapsed": true
   },
   "outputs": [],
   "source": [
    "train_df.head()\n",
    "\n",
    "pd.set_option('display.max_columns', 100)"
   ]
  },
  {
   "cell_type": "code",
   "execution_count": 7,
   "metadata": {
    "_cell_guid": "6eb269d1-d064-41a2-a2f7-c40ef1ed79db",
    "_uuid": "94610160b4abd626b0e8228debbae37e89741109",
    "collapsed": true
   },
   "outputs": [],
   "source": [
    "train_df.info()\n",
    "print('-'*40)\n",
    "test_df.info()"
   ]
  },
  {
   "cell_type": "code",
   "execution_count": 8,
   "metadata": {
    "_cell_guid": "ab9d7127-579e-428e-9506-45268a91e781",
    "_uuid": "6a7d4fd2ce79212eaee97644d9fa97b327fb47a6",
    "collapsed": true
   },
   "outputs": [],
   "source": [
    "train_df.describe()"
   ]
  },
  {
   "cell_type": "code",
   "execution_count": 9,
   "metadata": {
    "_cell_guid": "744de9a1-35c2-4d71-8975-5ced53f45ea5",
    "_uuid": "31f42695ca153a8d614c2315c20d8991b6535015",
    "collapsed": true
   },
   "outputs": [],
   "source": [
    "train_df.describe(include=['O'])"
   ]
  },
  {
   "cell_type": "code",
   "execution_count": 10,
   "metadata": {
    "_cell_guid": "a4fad1e9-1972-4679-98ee-05b2996df2d6",
    "_uuid": "575bce1782f9ae307044427928700881f1835132",
    "collapsed": true
   },
   "outputs": [],
   "source": [
    "sns.distplot(train_df['SalePrice'])"
   ]
  },
  {
   "cell_type": "code",
   "execution_count": 11,
   "metadata": {
    "_cell_guid": "9c522dd2-dbe5-4946-81e1-7c58405a0ecc",
    "_uuid": "6ef270e64efbb7c34ea53ab7c092b8230ba580af",
    "collapsed": true
   },
   "outputs": [],
   "source": [
    "corr_df = pd.DataFrame(train_df.corr()['SalePrice'])\n",
    "corr_df.sort_values(by='SalePrice', ascending=False)"
   ]
  },
  {
   "cell_type": "code",
   "execution_count": 12,
   "metadata": {
    "_cell_guid": "b2f365b4-1d9c-4725-abfc-42c8e2012ebc",
    "_uuid": "721d324e11d7ded2780aae65eb8a3434b63689ff",
    "collapsed": true
   },
   "outputs": [],
   "source": [
    "X = train_df['OverallQual']\n",
    "X = sm.add_constant(X)\n",
    "y = train_df['SalePrice']\n",
    "results = sm.OLS(y, X).fit()\n",
    "print(results.summary())\n",
    "sns.jointplot('OverallQual','SalePrice', data=train_df, kind='reg', size=8)"
   ]
  },
  {
   "cell_type": "code",
   "execution_count": 13,
   "metadata": {
    "_cell_guid": "9c566948-26f3-44a2-a827-e84d5c0c24c8",
    "_uuid": "2a1be3c10e6b17631863aff1184b56495a5f5b8f",
    "collapsed": true
   },
   "outputs": [],
   "source": [
    "result_df = pd.DataFrame(index=[], columns=[])\n",
    "stepwise = train_df\n",
    "#stepwise = stepwise.drop(stepwise.dtypes == np.object)\n",
    "stepwise = pd.get_dummies(stepwise)\n",
    "stepwise = stepwise.fillna(stepwise.mean())\n",
    "for column_name, col in stepwise.iteritems():\n",
    "    X = np.array(col)\n",
    "    X = sm.add_constant(X)\n",
    "    y = stepwise['SalePrice'].as_matrix()\n",
    "    results = sm.OLS(y, X).fit()\n",
    "    results_list = [[column_name, results.fvalue, results.aic, results.rsquared, results.rsquared_adj]]\n",
    "    result_df = result_df.append(results_list, ignore_index = True)\n",
    "\n",
    "result_df.columns = ['variable', 'F-stat', 'AIC', 'R-squared', 'Adj. R-squared'] \n",
    "#result_df = result_df.drop(result_df[(result_df['Adj. R-squared']<0.4.index) \n",
    "result_df.sort_values(by='Adj. R-squared', ascending=False)"
   ]
  },
  {
   "cell_type": "markdown",
   "metadata": {
    "_cell_guid": "d5d6f028-2117-4525-993f-460e16bc4834",
    "_uuid": "de29e434c88d341cc5dd42da5f756ac147b70ce5"
   },
   "source": [
    "####  I'll  choose  high corr variables (abs(corr)>0.5) \n",
    "#### this code use large culc cost, so I commented out by \"#\""
   ]
  },
  {
   "cell_type": "code",
   "execution_count": null,
   "metadata": {
    "_cell_guid": "e142b394-a375-40a5-904a-2f0da5ca34f8",
    "_uuid": "522ceea249ff8049aed834f9c79469d65292890a",
    "collapsed": true
   },
   "outputs": [],
   "source": [
    "#sns.pairplot(train_df, vars=['OverallQual', 'SalePrice', 'GrLivArea', 'GarageArea', 'TotalBsmtSF', '1stFlrSF', 'FullBath', 'TotRmsAbvGrd', 'YearRemodAdd'], kind=\"reg\")"
   ]
  },
  {
   "cell_type": "markdown",
   "metadata": {
    "_cell_guid": "a803f156-cd82-48c4-800f-3613a6c639bd",
    "_uuid": "ee046e23e39fad8c55efe815ab8859f4225e8b1a"
   },
   "source": [
    "#### Garage Cars & Garage Area has high corr, but they indicate almost same things. so I deleted Garege cars\n",
    "#### Yearbuilt has same date if this house don't have remodelYear. so I deleted Year built"
   ]
  },
  {
   "cell_type": "code",
   "execution_count": null,
   "metadata": {
    "_cell_guid": "ade224d0-34aa-4c94-b2af-8180021f05a5",
    "_uuid": "f1c76612fec1868c4427aa7b72f39a494460f0d9",
    "collapsed": true
   },
   "outputs": [],
   "source": [
    "#sns.lmplot('OverallQual', 'SalePrice', train_df)\n",
    "#sns.lmplot('GrLivArea', 'SalePrice', train_df)\n",
    "#sns.lmplot('OverallQual', 'GrLivArea', train_df)"
   ]
  },
  {
   "cell_type": "code",
   "execution_count": null,
   "metadata": {
    "_cell_guid": "63150e15-1aac-4572-a8fc-bb57d167471b",
    "_uuid": "0f0633d1c9430927978c2f81f75ccdad912961b2",
    "collapsed": true
   },
   "outputs": [],
   "source": [
    "train_df2 = pd.DataFrame()\n",
    "test_df2 = pd.DataFrame()\n",
    "combine2 = [train_df2, test_df2]"
   ]
  },
  {
   "cell_type": "code",
   "execution_count": null,
   "metadata": {
    "_cell_guid": "c55ca865-dedc-4150-9afc-a2df5c4febbb",
    "_uuid": "4237d5c4dec192639d691f51c7d1026eb76aa5c2",
    "collapsed": true
   },
   "outputs": [],
   "source": [
    "#df_lf = train_df[['SalePrice','LotFrontage']]\n",
    "#df_lf = df_lf.dropna()"
   ]
  },
  {
   "cell_type": "code",
   "execution_count": null,
   "metadata": {
    "_cell_guid": "b9e85392-5a05-4ab6-9e98-fa32c5616317",
    "_uuid": "ec71733b567aa932eec2e2a8c6cd4f15aa13c3b4",
    "collapsed": true
   },
   "outputs": [],
   "source": [
    "#sns.pairplot(df_lf)"
   ]
  },
  {
   "cell_type": "code",
   "execution_count": null,
   "metadata": {
    "_cell_guid": "582dc5d3-54f2-4630-908e-0255a68198d7",
    "_uuid": "c6bea8d362f64eecdea78d5c08f19e082c36ee65",
    "collapsed": true
   },
   "outputs": [],
   "source": [
    "#plt.subplot(2,1,1)\n",
    "#sns.boxplot(df_lf['LotFrontage'])\n",
    "#plt.subplot(2,1,2)\n",
    "#sns.distplot(df_lf['LotFrontage'])"
   ]
  },
  {
   "cell_type": "code",
   "execution_count": null,
   "metadata": {
    "_cell_guid": "7856992e-745b-4114-9b3b-9379e33b6800",
    "_uuid": "a8b259c4cff39605fe0b9f53a241a248b23e1b9a",
    "collapsed": true
   },
   "outputs": [],
   "source": [
    "#df_na = train_df.copy()\n",
    "#df_nalf=df_na[df_na['LotFrontage'].isnull()]\n",
    "#df_nalf['LotFrontage']=df_nalf['LotFrontage'].fillna(df_lf['LotFrontage'].mean())\n",
    "#df_nalf"
   ]
  },
  {
   "cell_type": "code",
   "execution_count": null,
   "metadata": {
    "_cell_guid": "8a811d95-3891-451c-b35b-f022bbdd9033",
    "_uuid": "73c906e426a94f417c22cf7729d5c9fd240e89d4",
    "collapsed": true
   },
   "outputs": [],
   "source": [
    "#g = sns.jointplot(x='LotFrontage', y='SalePrice',data=df_lf)\n",
    "#g.x = df_nalf['LotFrontage']\n",
    "#g.y = df_nalf['SalePrice']\n",
    "#g.plot_joint(plt.scatter, marker='x', color='r')"
   ]
  },
  {
   "cell_type": "code",
   "execution_count": null,
   "metadata": {
    "_cell_guid": "bd6b318b-e38a-456a-ad8d-7fe735e9afdc",
    "_uuid": "0f3913023b5f348b95d404bc4f2334ddbb59ec78",
    "collapsed": true
   },
   "outputs": [],
   "source": [
    "#int_df = train_df.ix[:, train_df.dtypes == np.int64]\n",
    "#float_df = train_df.ix[:, train_df.dtypes == np.float64]\n",
    "#num_df = pd.concat([int_df, float_df], axis=1)"
   ]
  },
  {
   "cell_type": "code",
   "execution_count": null,
   "metadata": {
    "_cell_guid": "752946d8-76ea-4bd4-8233-c39919240513",
    "_uuid": "8337fcc7d8f4759e56a0c3088b0ff08260325c1f",
    "collapsed": true
   },
   "outputs": [],
   "source": [
    "#num_df2 = num_df.drop(\"A\", axis=1)\n",
    "#num_df2 = num_df2.dropna()\n",
    "#sns.pairplot(num_df2)"
   ]
  },
  {
   "cell_type": "code",
   "execution_count": null,
   "metadata": {
    "_cell_guid": "b1fdfbba-ccf0-4f75-94a4-c09a1fa6d95f",
    "_uuid": "54abc79c10b1dfc61ea32e2deeb1495af4f6d214",
    "collapsed": true
   },
   "outputs": [],
   "source": [
    "oq_df = train_df[['OverallQual', 'SalePrice']]"
   ]
  },
  {
   "cell_type": "code",
   "execution_count": null,
   "metadata": {
    "_cell_guid": "bf429714-39b1-49ad-9656-966380dd01f6",
    "_uuid": "78c3a8d3d574a48a764ee79fac40b6ed05d75545",
    "collapsed": true
   },
   "outputs": [],
   "source": [
    "obj_df = train_df.loc[:, train_df.dtypes == np.object]\n",
    "obj_df = obj_df.fillna(\"None\")"
   ]
  },
  {
   "cell_type": "code",
   "execution_count": null,
   "metadata": {
    "_cell_guid": "c70b7ba1-0f44-445f-be10-96517d32d2aa",
    "_uuid": "e2af9a7b514ad941ae35e79ae04d245756164239",
    "collapsed": true
   },
   "outputs": [],
   "source": [
    "df = pd.concat([obj_df, oq_df], axis=1)"
   ]
  },
  {
   "cell_type": "code",
   "execution_count": null,
   "metadata": {
    "_cell_guid": "fc8ead8d-37a1-4c52-aed8-12dbe8d6a0e2",
    "_uuid": "113903a14e84241e820d25839375242571ca264e",
    "collapsed": true
   },
   "outputs": [],
   "source": [
    "#g = sns.FacetGrid(df, hue=\"MSZoning\", size=4 ,aspect=5)\n",
    "#g = g.map(sns.distplot, \"SalePrice\")\n",
    "#g.add_legend()"
   ]
  },
  {
   "cell_type": "code",
   "execution_count": null,
   "metadata": {
    "_cell_guid": "db5dc7ab-0675-4424-8865-ed89df4db349",
    "_uuid": "0d6b35379076bd8cf908d29fd298ea2ecb89d2a0",
    "collapsed": true
   },
   "outputs": [],
   "source": [
    "for col in obj_df:\n",
    "    g = sns.FacetGrid(df, hue=col, size=4 ,aspect=5)\n",
    "    g = g.map(sns.kdeplot, \"SalePrice\", shade=True)\n",
    "    g.add_legend()"
   ]
  },
  {
   "cell_type": "code",
   "execution_count": null,
   "metadata": {
    "_cell_guid": "bbc3f31b-eb78-4c0a-a4ad-4c89084215ae",
    "_uuid": "11d32232bcbc973ef642c2ed48da9f896ba53fbf",
    "collapsed": true
   },
   "outputs": [],
   "source": [
    "for col in obj_df:\n",
    "    sns.factorplot(x=col, y='SalePrice', data=df,  kind='box',aspect=3,size=6)\n",
    "#    sns.factorplot(x=col, data=df,  kind='count',aspect=3,size=6)\n",
    "#    sns.factorplot(x='OverallQual', y='SalePrice', data=df,  kind='violin', col=col, split=True, inner=\"quartile\")\n",
    "#    sns.factorplot(x='OverallQual', data=df,  kind='count', col=col)"
   ]
  },
  {
   "cell_type": "code",
   "execution_count": null,
   "metadata": {
    "_cell_guid": "b77503c6-c332-445f-a436-1d6d841c4391",
    "_uuid": "3e25cb204be57d24ea17455bcf2b89da56ad2255",
    "collapsed": true
   },
   "outputs": [],
   "source": [
    "train_df2['OverallQual'] = train_df['OverallQual']\n",
    "test_df2['OverallQual'] = test_df['OverallQual']\n",
    "train_df2['GrLivArea'] = train_df['GrLivArea']\n",
    "test_df2['GrLivArea'] = test_df['GrLivArea']\n",
    "train_df2['GarageArea'] = train_df['GarageArea']\n",
    "test_df2['GarageArea'] = test_df['GarageArea']\n",
    "train_df2['TotalBsmtSF'] = train_df['TotalBsmtSF']\n",
    "test_df2['TotalBsmtSF'] = test_df['TotalBsmtSF']\n",
    "train_df2['1stFlrSF'] = train_df['1stFlrSF']\n",
    "test_df2['1stFlrSF'] = test_df['1stFlrSF']\n",
    "train_df2['FullBath'] = train_df['FullBath']\n",
    "test_df2['FullBath'] = test_df['FullBath']\n",
    "train_df2['TotRmsAbvGrd'] = train_df['TotRmsAbvGrd']\n",
    "test_df2['TotRmsAbvGrd'] = test_df['TotRmsAbvGrd']\n",
    "train_df2['YearRemodAdd'] = train_df['YearRemodAdd']\n",
    "test_df2['YearRemodAdd'] = test_df['YearRemodAdd']\n",
    "combine2 = [train_df2, test_df2]"
   ]
  },
  {
   "cell_type": "code",
   "execution_count": null,
   "metadata": {
    "_cell_guid": "fa08ddd3-9672-4693-be80-9e7d8e1604df",
    "_uuid": "9d7208a33f0d1250ee4f83b8e4f3e4777ffcb38f",
    "collapsed": true
   },
   "outputs": [],
   "source": [
    "train_df2['MSZoning'] = train_df['MSZoning']\n",
    "train_dummy = pd.get_dummies(train_df2[['MSZoning']]) \n",
    "train_df2 = train_df2.drop(\"MSZoning\", axis=1)\n",
    "test_df2['MSZoning'] = test_df['MSZoning']\n",
    "test_dummy = pd.get_dummies(test_df2[['MSZoning']]) \n",
    "test_df2 = test_df2.drop(\"MSZoning\", axis=1)\n",
    "train_df2 = pd.merge(train_df2, train_dummy, left_index=True, right_index=True)\n",
    "test_df2 = pd.merge(test_df2, test_dummy, left_index=True, right_index=True)\n",
    "train_df2 = train_df2.drop(\"MSZoning_C (all)\", axis=1)\n",
    "test_df2 = test_df2.drop(\"MSZoning_C (all)\", axis=1)\n",
    "\n",
    "train_df2['Alley'] = train_df['Alley']\n",
    "train_dummy = pd.get_dummies(train_df2[['Alley']]) \n",
    "train_df2 = train_df2.drop(\"Alley\", axis=1)\n",
    "test_df2['Alley'] = test_df['Alley']\n",
    "test_dummy = pd.get_dummies(test_df2[['Alley']]) \n",
    "test_df2 = test_df2.drop(\"Alley\", axis=1)\n",
    "train_df2 = pd.merge(train_df2, train_dummy, left_index=True, right_index=True)\n",
    "test_df2 = pd.merge(test_df2, test_dummy, left_index=True, right_index=True)\n",
    "train_df2 = train_df2.drop(\"Alley_Pave\", axis=1)\n",
    "test_df2 = test_df2.drop(\"Alley_Pave\", axis=1)\n",
    "\n",
    "train_df2['MasVnrType'] = train_df['MasVnrType']\n",
    "train_dummy = pd.get_dummies(train_df2[['MasVnrType']]) \n",
    "train_df2 = train_df2.drop(\"MasVnrType\", axis=1)\n",
    "test_df2['MasVnrType'] = test_df['MasVnrType']\n",
    "test_dummy = pd.get_dummies(test_df2[['MasVnrType']]) \n",
    "test_df2 = test_df2.drop(\"MasVnrType\", axis=1)\n",
    "train_df2 = pd.merge(train_df2, train_dummy, left_index=True, right_index=True)\n",
    "test_df2 = pd.merge(test_df2, test_dummy, left_index=True, right_index=True)\n",
    "train_df2 = train_df2.drop(\"MasVnrType_None\", axis=1)\n",
    "test_df2 = test_df2.drop(\"MasVnrType_None\", axis=1)\n",
    "\n",
    "train_df2['ExterQual'] = train_df['ExterQual']\n",
    "train_dummy = pd.get_dummies(train_df2[['ExterQual']]) \n",
    "train_df2 = train_df2.drop(\"ExterQual\", axis=1)\n",
    "test_df2['ExterQual'] = test_df['ExterQual']\n",
    "test_dummy = pd.get_dummies(test_df2[['ExterQual']]) \n",
    "test_df2 = test_df2.drop(\"ExterQual\", axis=1)\n",
    "train_df2 = pd.merge(train_df2, train_dummy, left_index=True, right_index=True)\n",
    "test_df2 = pd.merge(test_df2, test_dummy, left_index=True, right_index=True)\n",
    "train_df2 = train_df2.drop(\"ExterQual_Ex\", axis=1)\n",
    "test_df2 = test_df2.drop(\"ExterQual_Ex\", axis=1)\n",
    "\n",
    "train_df2['BsmtQual'] = train_df['BsmtQual']\n",
    "train_dummy = pd.get_dummies(train_df2[['BsmtQual']]) \n",
    "train_df2 = train_df2.drop(\"BsmtQual\", axis=1)\n",
    "test_df2['BsmtQual'] = test_df['BsmtQual']\n",
    "test_dummy = pd.get_dummies(test_df2[['BsmtQual']]) \n",
    "test_df2 = test_df2.drop(\"BsmtQual\", axis=1)\n",
    "train_df2 = pd.merge(train_df2, train_dummy, left_index=True, right_index=True)\n",
    "test_df2 = pd.merge(test_df2, test_dummy, left_index=True, right_index=True)\n",
    "train_df2 = train_df2.drop(\"BsmtQual_Ex\", axis=1)\n",
    "test_df2 = test_df2.drop(\"BsmtQual_Ex\", axis=1)\n",
    "\n",
    "train_df2['CentralAir'] = train_df['CentralAir']\n",
    "train_dummy = pd.get_dummies(train_df2[['CentralAir']]) \n",
    "train_df2 = train_df2.drop(\"CentralAir\", axis=1)\n",
    "test_df2['CentralAir'] = test_df['CentralAir']\n",
    "test_dummy = pd.get_dummies(test_df2[['CentralAir']]) \n",
    "test_df2 = test_df2.drop(\"CentralAir\", axis=1)\n",
    "train_df2 = pd.merge(train_df2, train_dummy, left_index=True, right_index=True)\n",
    "test_df2 = pd.merge(test_df2, test_dummy, left_index=True, right_index=True)\n",
    "train_df2 = train_df2.drop(\"CentralAir_N\", axis=1)\n",
    "test_df2 = test_df2.drop(\"CentralAir_N\", axis=1)\n",
    "\n",
    "train_df2['KitchenQual'] = train_df['KitchenQual']\n",
    "train_dummy = pd.get_dummies(train_df2[['KitchenQual']]) \n",
    "train_df2 = train_df2.drop(\"KitchenQual\", axis=1)\n",
    "test_df2['KitchenQual'] = test_df['KitchenQual']\n",
    "test_dummy = pd.get_dummies(test_df2[['KitchenQual']]) \n",
    "test_df2 = test_df2.drop(\"KitchenQual\", axis=1)\n",
    "train_df2 = pd.merge(train_df2, train_dummy, left_index=True, right_index=True)\n",
    "test_df2 = pd.merge(test_df2, test_dummy, left_index=True, right_index=True)\n",
    "train_df2 = train_df2.drop(\"KitchenQual_Ex\", axis=1)\n",
    "test_df2 = test_df2.drop(\"KitchenQual_Ex\", axis=1)\n",
    "\n",
    "combine2 = [train_df2, test_df2]"
   ]
  },
  {
   "cell_type": "code",
   "execution_count": null,
   "metadata": {
    "_cell_guid": "a2fd940f-8eb8-4d9b-80f9-f09786297972",
    "_uuid": "9214da54e2e6462b8042d95fe85516d4d7fa45db",
    "collapsed": true
   },
   "outputs": [],
   "source": [
    "train_df2.info()"
   ]
  },
  {
   "cell_type": "code",
   "execution_count": null,
   "metadata": {
    "_cell_guid": "1dccf1fe-c9e5-404f-8bf8-c1a7b02a2c21",
    "_uuid": "ed7ff5987001ec306e8bdc2d0dc87e99d234712f",
    "collapsed": true
   },
   "outputs": [],
   "source": [
    "test_df2.info()"
   ]
  },
  {
   "cell_type": "code",
   "execution_count": null,
   "metadata": {
    "_cell_guid": "0f372bdf-ac5b-4298-9963-9d2cae2baf21",
    "_uuid": "7ad840c3904f7c3c9cb8ddea10bdf8c9a4b9a5ec",
    "collapsed": true
   },
   "outputs": [],
   "source": [
    "train_df2['SalePrice'] = train_df['SalePrice']"
   ]
  },
  {
   "cell_type": "code",
   "execution_count": null,
   "metadata": {
    "_cell_guid": "6af2b03f-6512-4bde-a877-69925040cefe",
    "_uuid": "f4ad284eea49be51ab0c170d86f2c71e8f002011",
    "collapsed": true
   },
   "outputs": [],
   "source": [
    "train_int_df = train_df2.loc[:, train_df2.dtypes == np.int64]\n",
    "train_uin_df = train_df2.loc[:, train_df2.dtypes == np.uint8]\n",
    "train_float_df = train_df2.loc[:, train_df2.dtypes == np.float64]\n",
    "test_int_df = test_df2.loc[:, test_df2.dtypes == np.int64]\n",
    "test_uin_df = test_df2.loc[:, test_df2.dtypes == np.uint8]\n",
    "test_float_df = test_df2.loc[:, test_df2.dtypes == np.float64]\n",
    "#float_df = train_df2.loc[:, train_df.dtypes == np.float64]\n",
    "#obj_df = train_df2.loc[:, train_df.dtypes == np.object]\n",
    "\n",
    "#num_df = pd.concat([int_df, float_df], axis=1)"
   ]
  },
  {
   "cell_type": "code",
   "execution_count": null,
   "metadata": {
    "_cell_guid": "7d1b2945-6086-4dd0-95ef-3f38fd22a2a2",
    "_uuid": "b0a8a7676ef46a01f9921d6521504bf71036b1c5",
    "collapsed": true
   },
   "outputs": [],
   "source": [
    "train_int_df = train_int_df.fillna(train_int_df.mean())\n",
    "train_uin_df = train_uin_df.fillna(train_uin_df.mean())\n",
    "train_float_df = train_float_df.fillna(train_float_df.mean())\n",
    "test_int_df = test_int_df.fillna(test_int_df.mean())\n",
    "test_uin_df = test_uin_df.fillna(test_uin_df.mean())\n",
    "test_float_df = test_float_df.fillna(test_float_df.mean())"
   ]
  },
  {
   "cell_type": "code",
   "execution_count": null,
   "metadata": {
    "_cell_guid": "397b72bf-18af-4ad4-9709-24880db0f484",
    "_uuid": "2053aec5012fc03d1c56be9d7cb89ae00f8dd880",
    "collapsed": true
   },
   "outputs": [],
   "source": [
    "#train_df2 = pd.concat([train_int_df, train_uin_df, train_float_df], axis=1)\n",
    "#test_df2 = pd.concat([test_int_df, test_uin_df, test_float_df], axis=1)\n",
    "#combine2 = [train_df2, test_df2]"
   ]
  },
  {
   "cell_type": "code",
   "execution_count": null,
   "metadata": {
    "_cell_guid": "a31952ae-bb38-4583-8ee2-be8b60e5f907",
    "_uuid": "b6e87834543590ff80cc6ee4bd8edd38bf9d76eb",
    "collapsed": true
   },
   "outputs": [],
   "source": [
    "train_df2 = train_df2.fillna(train_df2.mean())\n",
    "test_df2 = test_df2.fillna(test_df2.mean())\n",
    "combine2 = [train_df2, test_df2]"
   ]
  },
  {
   "cell_type": "code",
   "execution_count": null,
   "metadata": {
    "_cell_guid": "300fdf20-9148-440a-afe8-ca7865b9410b",
    "_uuid": "5de8b7b1f2766b49ebbb5b3c62c59c67a36aad9e",
    "collapsed": true
   },
   "outputs": [],
   "source": [
    "train_df2 = train_df2.rename(columns={'1stFlrSF': 'FirstFlrSF'})\n",
    "test_df2 = test_df2.rename(columns={'1stFlrSF': 'FirstFlrSF'})\n",
    "combine2 = [train_df2, test_df2]\n",
    "train_df2"
   ]
  },
  {
   "cell_type": "code",
   "execution_count": null,
   "metadata": {
    "_cell_guid": "f9966991-d68d-4852-be81-b12a23a213a3",
    "_uuid": "8bbd42c3ef6ecc85a736620666195c696210ef8e",
    "collapsed": true
   },
   "outputs": [],
   "source": [
    "train_df2.shape"
   ]
  },
  {
   "cell_type": "markdown",
   "metadata": {
    "_cell_guid": "a6602288-3dae-46d9-af50-50c255f7497e",
    "_uuid": "16ce4cda6bc91e57ce9f6aca0ef37a672277c987"
   },
   "source": [
    "## ModelPredict"
   ]
  },
  {
   "cell_type": "markdown",
   "metadata": {
    "_cell_guid": "5cbd3fd1-abeb-4fe6-a074-0c6f29b1888c",
    "_uuid": "0b5f3adbaa69748736773c46a3d77269e35d9821"
   },
   "source": [
    "#### LinerRegression"
   ]
  },
  {
   "cell_type": "code",
   "execution_count": null,
   "metadata": {
    "_cell_guid": "247e9034-d77f-4c4c-bd55-9eeea087b1fa",
    "_uuid": "e5903a0ed5a49950a87ec7c2af01c46bbee2a1f5",
    "collapsed": true
   },
   "outputs": [],
   "source": [
    "clf = linear_model.LinearRegression()\n",
    " \n",
    "# 説明変数に \"SalePrice品質スコア以外すべて)\" を利用\n",
    "explanatory_variable = train_df2.drop(\"SalePrice\", axis=1)\n",
    "X = explanatory_variable.as_matrix()\n",
    " \n",
    "# 目的変数に \"SalePrice(品質スコア)\" を利用\n",
    "y = train_df2['SalePrice'].as_matrix()\n",
    " \n",
    "# 予測モデルを作成\n",
    "clf.fit(X, y)\n",
    " \n",
    "# 偏回帰係数\n",
    "print(pd.DataFrame({\"Name\":explanatory_variable.columns,\"Coefficients\":clf.coef_}).sort_values(by='Coefficients') )\n",
    " \n",
    "# 切片 (誤差)\n",
    "print(clf.intercept_)"
   ]
  },
  {
   "cell_type": "code",
   "execution_count": null,
   "metadata": {
    "_cell_guid": "d5ff55bd-778a-4c2d-8b77-c060d25cc488",
    "_uuid": "c8c1ffa191f8efca3be1571a3dd1d95f5b6e24a0",
    "collapsed": true
   },
   "outputs": [],
   "source": [
    "# train_test_splitをインポート\n",
    "from sklearn.cross_validation import train_test_split\n",
    "# 70%を学習用、30%を検証用データにするよう分割\n",
    "X_train, X_test, y_train, y_test = train_test_split(X, y, test_size = 0.3, random_state = 666)\n",
    "# 学習用データでパラメータ推定\n",
    "clf.fit(X_train, y_train)\n",
    "# 作成したモデルから予測（学習用、検証用モデル使用）\n",
    "y_train_pred = clf.predict(X_train)\n",
    "y_test_pred = clf.predict(X_test)"
   ]
  },
  {
   "cell_type": "code",
   "execution_count": null,
   "metadata": {
    "_cell_guid": "690ffc92-6dcc-44cb-a83a-bb364925cdbc",
    "_uuid": "8e0d0114201e608d5bb98244c0f88dfcf4775071",
    "collapsed": true
   },
   "outputs": [],
   "source": [
    "# 学習用、検証用それぞれで残差をプロット\n",
    "plt.scatter(y_train_pred, y_train_pred - y_train, c = 'blue', marker = 'o', label = 'Train Data')\n",
    "plt.scatter(y_test_pred, y_test_pred - y_test, c = 'lightgreen', marker = 's', label = 'Test Data')\n",
    "plt.xlabel('Predicted Values')\n",
    "plt.ylabel('Residuals')\n",
    "# 凡例を左上に表示\n",
    "plt.legend(loc = 'upper left')\n",
    "# y = 0に直線を引く\n",
    "plt.hlines(y = 0, xmin = -100000, xmax = 500000, lw = 2, color = 'red')\n",
    "#plt.xlim([10, 50])\n",
    "plt.show()"
   ]
  },
  {
   "cell_type": "markdown",
   "metadata": {
    "_cell_guid": "998e9063-e66b-4c41-982e-f1af51758f5e",
    "_uuid": "4dcff8e9aa7c677ac6ad4d878ea4e696739a1b77"
   },
   "source": [
    "#### normalize"
   ]
  },
  {
   "cell_type": "code",
   "execution_count": null,
   "metadata": {
    "_cell_guid": "20e94af9-a8aa-407a-848a-226e4f1a115b",
    "_uuid": "11b4c16af894196798bc0816ed257183ee937217",
    "collapsed": true
   },
   "outputs": [],
   "source": [
    "clf = linear_model.LinearRegression(normalize=True)\n",
    " \n",
    "# 説明変数に \"SalePrice品質スコア以外すべて)\" を利用\n",
    "explanatory_variable = train_df2.drop(\"SalePrice\", axis=1)\n",
    "X = explanatory_variable.as_matrix()\n",
    " \n",
    "# 目的変数に \"SalePrice(品質スコア)\" を利用\n",
    "y = train_df2['SalePrice'].as_matrix()\n",
    " \n",
    "# 予測モデルを作成\n",
    "clf.fit(X, y)\n",
    " \n",
    "# 偏回帰係数\n",
    "print(pd.DataFrame({\"Name\":explanatory_variable.columns,\"Coefficients\":clf.coef_}).sort_values(by='Coefficients') )\n",
    " \n",
    "# 切片 (誤差)\n",
    "print(clf.intercept_)"
   ]
  },
  {
   "cell_type": "code",
   "execution_count": null,
   "metadata": {
    "_cell_guid": "d0d6033c-63d4-4f15-8ed1-67fe396eb39e",
    "_uuid": "b3c9aeef09e5795bb840d71219ac775835d9a95d",
    "collapsed": true
   },
   "outputs": [],
   "source": [
    "clf = linear_model.LinearRegression(normalize=True)\n",
    " \n",
    "# 説明変数に \"SalePrice品質スコア以外すべて)\" を利用\n",
    "explanatory_variable = train_df2.drop(\"SalePrice\", axis=1)\n",
    "X = explanatory_variable.as_matrix()\n",
    " \n",
    "# 目的変数に \"SalePrice(品質スコア)\" を利用\n",
    "y = train_df2['SalePrice'].as_matrix()\n",
    " \n",
    "# 予測モデルを作成\n",
    "clf.fit(X, y)\n",
    " \n",
    "# 偏回帰係数\n",
    "print(pd.DataFrame({\"Name\":explanatory_variable.columns,\"Coefficients\":clf.coef_}).sort_values(by='Coefficients') )\n",
    " \n",
    "# 切片 (誤差)\n",
    "print(clf.intercept_)"
   ]
  },
  {
   "cell_type": "code",
   "execution_count": null,
   "metadata": {
    "_cell_guid": "0ba56add-2100-4e84-b1f5-07de912e57c3",
    "_uuid": "4ee31895bcd166ad913712402d47df6ec22ed654",
    "collapsed": true
   },
   "outputs": [],
   "source": [
    "# 学習用、検証用それぞれで残差をプロット\n",
    "plt.scatter(y_train_pred, y_train_pred - y_train, c = 'blue', marker = 'o', label = 'Train Data')\n",
    "plt.scatter(y_test_pred, y_test_pred - y_test, c = 'lightgreen', marker = 's', label = 'Test Data')\n",
    "plt.xlabel('Predicted Values')\n",
    "plt.ylabel('Residuals')\n",
    "# 凡例を左上に表示\n",
    "plt.legend(loc = 'upper left')\n",
    "# y = 0に直線を引く\n",
    "plt.hlines(y = 0, xmin = -100000, xmax = 500000, lw = 2, color = 'red')\n",
    "#plt.xlim([10, 50])\n",
    "plt.show()"
   ]
  },
  {
   "cell_type": "code",
   "execution_count": null,
   "metadata": {
    "_cell_guid": "d52c6b9c-9a41-46db-973a-8ffc7008af8c",
    "_uuid": "2b3f8c10650bb2506b95f9238ac8717362bea7d8",
    "collapsed": true
   },
   "outputs": [],
   "source": [
    "#Y_pred = clf.predict(test_df2)"
   ]
  },
  {
   "cell_type": "markdown",
   "metadata": {
    "_cell_guid": "68233059-d49c-4ec2-9369-0871349950ca",
    "_uuid": "ba2b5ac61865b64d6fe736245f43c36c563b2ee3"
   },
   "source": [
    "#### Ridge Lasso"
   ]
  },
  {
   "cell_type": "code",
   "execution_count": null,
   "metadata": {
    "_cell_guid": "10027821-948e-4436-85e8-8d39d8c696b2",
    "_uuid": "844c42e7a53a161e385b6f17d9f915601c12c3df",
    "collapsed": true
   },
   "outputs": [],
   "source": [
    "clf = linear_model.Ridge(alpha=1.0)"
   ]
  },
  {
   "cell_type": "code",
   "execution_count": null,
   "metadata": {
    "_cell_guid": "b701ffe7-5802-4158-9766-19dcfbf762b0",
    "_uuid": "16232d9593b7d2d923c023082602ba42f2e50f7d",
    "collapsed": true
   },
   "outputs": [],
   "source": [
    "# 70%を学習用、30%を検証用データにするよう分割\n",
    "X_train, X_test, y_train, y_test = train_test_split(X, y, test_size = 0.3, random_state = 666)\n",
    "# 学習用データでパラメータ推定\n",
    "clf.fit(X_train, y_train)\n",
    "# 作成したモデルから予測（学習用、検証用モデル使用）\n",
    "y_train_pred = clf.predict(X_train)\n",
    "y_test_pred = clf.predict(X_test)"
   ]
  },
  {
   "cell_type": "code",
   "execution_count": null,
   "metadata": {
    "_cell_guid": "e3b1731f-6649-4e29-89af-ce64b6ebac37",
    "_uuid": "70ceeec9a4557d37e02821597c39331d3e7cc2c0",
    "collapsed": true
   },
   "outputs": [],
   "source": [
    "# 学習用、検証用それぞれで残差をプロット\n",
    "plt.scatter(y_train_pred, y_train_pred - y_train, c = 'blue', marker = 'o', label = 'Train Data')\n",
    "plt.scatter(y_test_pred, y_test_pred - y_test, c = 'lightgreen', marker = 's', label = 'Test Data')\n",
    "plt.xlabel('Predicted Values')\n",
    "plt.ylabel('Residuals')\n",
    "# 凡例を左上に表示\n",
    "plt.legend(loc = 'upper left')\n",
    "# y = 0に直線を引く\n",
    "plt.hlines(y = 0, xmin = -100000, xmax = 500000, lw = 2, color = 'red')\n",
    "#plt.xlim([10, 50])\n",
    "plt.show()"
   ]
  },
  {
   "cell_type": "code",
   "execution_count": null,
   "metadata": {
    "_cell_guid": "1ccc8f4a-d7d3-485a-9bfe-a526d6b59e9a",
    "_uuid": "97a2b74b4face8c8665cdd8aef01af9af59207f0",
    "collapsed": true
   },
   "outputs": [],
   "source": [
    "#model_ridge = Ridge()"
   ]
  },
  {
   "cell_type": "code",
   "execution_count": null,
   "metadata": {
    "_cell_guid": "fe3087db-ef8a-411e-b4f6-ea151dba13eb",
    "_uuid": "1ada1b1ee0d27d373e79af73d767c5b8c006c788",
    "collapsed": true
   },
   "outputs": [],
   "source": [
    "#train_df2.l"
   ]
  },
  {
   "cell_type": "code",
   "execution_count": null,
   "metadata": {
    "_cell_guid": "01529d3b-156a-430f-8894-42aa2d5cfab8",
    "_uuid": "8ba36b3c3c42e096f880dbfef51e531ae0764ff6",
    "collapsed": true
   },
   "outputs": [],
   "source": [
    "alphas = [0.05, 0.075, 0.1, 0.3, 1, 3, 5, 10, 15, 30, 50, 75]\n",
    "cv_ridge = [rmse_cv(Ridge(alpha = alpha)).mean() \n",
    "            for alpha in alphas]"
   ]
  },
  {
   "cell_type": "code",
   "execution_count": null,
   "metadata": {
    "_cell_guid": "98023a26-2ab6-45ad-baaf-99e2eba7ffc7",
    "_uuid": "0e20fb181ba3aef95ff4b1f052190c4e749a1a35",
    "collapsed": true
   },
   "outputs": [],
   "source": [
    "cv_ridge = pd.Series(cv_ridge, index = alphas)\n",
    "cv_ridge.plot(title = \"Validation - Just Do It\")\n",
    "plt.xlabel(\"alpha\")\n",
    "plt.ylabel(\"rmse\")"
   ]
  },
  {
   "cell_type": "code",
   "execution_count": null,
   "metadata": {
    "_cell_guid": "7ca9cef4-0df8-4e3c-bb81-3abb04616d4c",
    "_uuid": "b07b1a3674768ced5b18890c66e38a87a7cb18a9",
    "collapsed": true
   },
   "outputs": [],
   "source": [
    "cv_ridge.values"
   ]
  },
  {
   "cell_type": "markdown",
   "metadata": {
    "_cell_guid": "cb785e32-4e1d-4fc8-b0ca-0c7ac2263e99",
    "_uuid": "6d9fb60ecf88c21a217374909eb88d831b1b3976"
   },
   "source": [
    "#### XGBoost"
   ]
  },
  {
   "cell_type": "code",
   "execution_count": null,
   "metadata": {
    "_cell_guid": "b9e86a04-b91e-4a20-895b-0046aa1cda22",
    "_uuid": "547ba5e0b482ac5d41ba9733eb91063515fb4bbc",
    "collapsed": true
   },
   "outputs": [],
   "source": [
    "reg = xgb.XGBRegressor()"
   ]
  },
  {
   "cell_type": "code",
   "execution_count": null,
   "metadata": {
    "_cell_guid": "9b8f25bc-b540-45b5-b036-6ae2bfcca8ea",
    "_uuid": "3e704b94dea23813c76076d7e2550e2c95699ad4",
    "collapsed": true
   },
   "outputs": [],
   "source": [
    "# 70%を学習用、30%を検証用データにするよう分割\n",
    "X_train, X_test, y_train, y_test = train_test_split(X, y, test_size = 0.3, random_state =666)"
   ]
  },
  {
   "cell_type": "code",
   "execution_count": null,
   "metadata": {
    "_cell_guid": "690754fa-d2fb-49cf-86c8-f2fd73cd131a",
    "_uuid": "4e58b85a1b82e1862ef81034fc8cb36392061dfb",
    "collapsed": true
   },
   "outputs": [],
   "source": [
    "# ハイパーパラメータ探索\n",
    "reg_cv = GridSearchCV(reg, {'max_depth': [2,4,6],'learning_rate':[0.025, 0.05, 0.075, 0.1],'n_estimators': [25,50,75,100]}, verbose=1)\n",
    "reg_cv.fit(X_train, y_train)\n",
    "print(reg_cv.best_params_, reg_cv.best_score_)"
   ]
  },
  {
   "cell_type": "code",
   "execution_count": null,
   "metadata": {
    "_cell_guid": "f26b37ec-9945-4d50-9b92-2db803db1b89",
    "_uuid": "267a6a42ac43953020b544ce5966e3dbfffaa66d",
    "collapsed": true
   },
   "outputs": [],
   "source": [
    "# 改めて最適パラメータで学習\n",
    "reg = xgb.XGBRegressor(**reg_cv.best_params_)\n",
    "reg.fit(X_train, y_train)"
   ]
  },
  {
   "cell_type": "code",
   "execution_count": null,
   "metadata": {
    "_cell_guid": "b506c077-08d8-4de6-a2b1-d36c15880f56",
    "_uuid": "4977e6ea085ed82457fc48298b487fd8c2ae9ec9",
    "collapsed": true
   },
   "outputs": [],
   "source": [
    "# 学習モデルの評価\n",
    "pred_train = reg.predict(X_train)\n",
    "pred_test = reg.predict(X_test)\n",
    "print (np.sqrt(mean_squared_error(y_train, pred_train)))\n",
    "print (np.sqrt(mean_squared_error(y_test, pred_test)))"
   ]
  },
  {
   "cell_type": "code",
   "execution_count": null,
   "metadata": {
    "_cell_guid": "cc7cc077-8788-43ad-a4c4-28ae9588db33",
    "_uuid": "75186d3a66d039d72f200150e5c6687db784d6d8",
    "collapsed": true
   },
   "outputs": [],
   "source": [
    "# feature importance のプロット\n",
    "importances = pd.Series(reg.feature_importances_, index = explanatory_variable.columns)\n",
    "importances = importances.sort_values()\n",
    "importances.plot(kind = \"barh\")\n",
    "plt.title(\"imporance in the xgboost Model\")\n",
    "plt.show()"
   ]
  },
  {
   "cell_type": "code",
   "execution_count": null,
   "metadata": {
    "_cell_guid": "cf809158-aec5-421b-a132-460095b3bf75",
    "_uuid": "0122c0068ad033ca96d8da1a3b36b0f0085cfa37",
    "collapsed": true
   },
   "outputs": [],
   "source": [
    "test_df2.columns"
   ]
  },
  {
   "cell_type": "code",
   "execution_count": null,
   "metadata": {
    "_cell_guid": "5bd39adc-c836-4368-9023-aa9e427508f2",
    "_uuid": "34a06df7e1eb5b412523052b7d18318dc137ba6b",
    "collapsed": true
   },
   "outputs": [],
   "source": [
    "test_df2.shape"
   ]
  },
  {
   "cell_type": "code",
   "execution_count": null,
   "metadata": {
    "_cell_guid": "a9d24a9e-90f7-41f3-b686-67f7fa472197",
    "_uuid": "a8a2d8f966858f0b0e216612f1e88d36fc3cf7d1",
    "collapsed": true
   },
   "outputs": [],
   "source": [
    "explanatory_variable.columns"
   ]
  },
  {
   "cell_type": "code",
   "execution_count": null,
   "metadata": {
    "_cell_guid": "fcd529b4-22c0-4444-bf27-1a348c7398a9",
    "_uuid": "3d4cbcb2436b0580083d4090a3cfa14b75c84daf",
    "collapsed": true
   },
   "outputs": [],
   "source": [
    "explanatory_variable.shape"
   ]
  },
  {
   "cell_type": "code",
   "execution_count": null,
   "metadata": {
    "_cell_guid": "a85d6f59-b316-47be-b075-8a27b4e6bcd6",
    "_uuid": "3d25ce480d8cca59628f10201aa3be88943c24dd",
    "collapsed": true
   },
   "outputs": [],
   "source": [
    "dtest = test_df2\n",
    "\"\"\"dtest.ix[:,['OverallQual', 'GrLivArea', 'GarageArea', 'TotalBsmtSF', 'FirstFlrSF',\n",
    "       'FullBath', 'TotRmsAbvGrd', 'YearRemodAdd', 'MSZoning_FV',\n",
    "       'MSZoning_RH', 'MSZoning_RL', 'MSZoning_RM', 'Alley_Grvl',\n",
    "       'MasVnrType_BrkCmn', 'MasVnrType_BrkFace', 'MasVnrType_Stone',\n",
    "       'ExterQual_Fa', 'ExterQual_Gd', 'ExterQual_TA', 'BsmtQual_Fa',\n",
    "       'BsmtQual_Gd', 'BsmtQual_TA', 'CentralAir_Y', 'KitchenQual_Fa',\n",
    "       'KitchenQual_Gd', 'KitchenQual_TA']]\"\"\""
   ]
  },
  {
   "cell_type": "code",
   "execution_count": null,
   "metadata": {
    "_cell_guid": "12def5c9-becf-4f0e-a39b-1018e2b40d95",
    "_uuid": "7db7cbf6c9ae9ca44be1e8a128674d9d3d218af8",
    "collapsed": true
   },
   "outputs": [],
   "source": [
    "dtest.columns =  ['f0', 'f1', 'f2', 'f3', 'f4', 'f5', 'f6', 'f7', 'f8', 'f9', 'f10', 'f11', 'f12', 'f13', 'f14', 'f15', 'f16', 'f17', 'f18', 'f19', 'f20', 'f21', 'f22', 'f23', 'f24', 'f25']\n",
    "Y_pred = reg.predict(dtest)"
   ]
  },
  {
   "cell_type": "markdown",
   "metadata": {
    "_cell_guid": "9c488f91-e403-43be-a528-8528634571e1",
    "_uuid": "e3431a357399016cb58d4a5c7c6947a28f7be690"
   },
   "source": [
    "###  GLM"
   ]
  },
  {
   "cell_type": "code",
   "execution_count": null,
   "metadata": {
    "_cell_guid": "75cb3975-4bba-4f35-92d8-3c9e76159fae",
    "_uuid": "5815e3b6533f7b56662e38e267f919e9b3607a21",
    "collapsed": true
   },
   "outputs": [],
   "source": [
    "#線形回帰モデルの構築, 最小自乗法を使う場合\n",
    "#modelの構築\n",
    "ols_model = \"SalePrice ~ OverallQual + GrLivArea + GarageArea + TotalBsmtSF + FirstFlrSF + FullBath + TotRmsAbvGrd + YearRemodAdd + MSZoning_FV + MSZoning_RH + MSZoning_RL + MSZoning_RM + Alley_Grvl + MasVnrType_BrkCmn + MasVnrType_BrkFace + MasVnrType_Stone + ExterQual_Fa + ExterQual_Gd + ExterQual_TA + BsmtQual_Fa + BsmtQual_Gd + BsmtQual_TA + KitchenQual_Fa + KitchenQual_Gd + KitchenQual_TA\"\n",
    "#モデルの構築\n",
    "mod = smf.ols(formula=ols_model, data=train_df2)\n",
    "#fitに回帰した結果が入っているので、これをresに代入する\n",
    "res = mod.fit()\n",
    "#結果の参照\n",
    "res.summary()"
   ]
  },
  {
   "cell_type": "code",
   "execution_count": null,
   "metadata": {
    "_cell_guid": "ef6ebd27-90c3-4495-b804-95ede1e74000",
    "_uuid": "299ad53fe276ee0de723983eb2d9eb3bc9bb78dc",
    "collapsed": true
   },
   "outputs": [],
   "source": [
    "#線形回帰モデルの構築, glmによるニュートン法を用いる場合\n",
    "#modelの構築\n",
    "glm_gauss_model = \"SalePrice ~ OverallQual + GrLivArea + GarageArea + TotalBsmtSF + FirstFlrSF + FullBath + TotRmsAbvGrd + YearRemodAdd + MSZoning_FV + MSZoning_RH + MSZoning_RL + MSZoning_RM + Alley_Grvl + MasVnrType_BrkCmn + MasVnrType_BrkFace + MasVnrType_Stone + ExterQual_Fa + ExterQual_Gd + ExterQual_TA + BsmtQual_Fa + BsmtQual_Gd + BsmtQual_TA + KitchenQual_Fa + KitchenQual_Gd + KitchenQual_TA\"\n",
    "#モデルの構築\n",
    "mod = smf.glm(formula=glm_gauss_model, data=train_df2 ,family=sm.families.Poisson())\n",
    "#fitに回帰した結果が入っているので、これをresに代入する\n",
    "res = mod.fit()\n",
    "#結果の参照\n",
    "res.summary()"
   ]
  },
  {
   "cell_type": "code",
   "execution_count": null,
   "metadata": {
    "_cell_guid": "9596a2f3-2982-42da-bfba-45343e75fbd3",
    "_uuid": "b2c357dd2d793b89d9ec300d6b9605a1a5647b89",
    "collapsed": true
   },
   "outputs": [],
   "source": [
    "sm.tools.eval_measures.rmse(y, np.array(res.predict(train_df2)))"
   ]
  },
  {
   "cell_type": "code",
   "execution_count": null,
   "metadata": {
    "_cell_guid": "e1b50cf1-20f9-447b-a668-7e0a61658dec",
    "_uuid": "3ef86035ad95d0f41635f9e933d8d0f32b2276aa",
    "collapsed": true
   },
   "outputs": [],
   "source": [
    "formulas = [\n",
    "    \"SalePrice ~ OverallQual + GrLivArea + GarageArea + TotalBsmtSF + FirstFlrSF + FullBath + TotRmsAbvGrd + YearRemodAdd + MSZoning_FV + MSZoning_RH + MSZoning_RL + MSZoning_RM + Alley_Grvl + MasVnrType_BrkCmn + MasVnrType_BrkFace + MasVnrType_Stone + ExterQual_Fa + ExterQual_Gd + ExterQual_TA + BsmtQual_Fa + BsmtQual_Gd + BsmtQual_TA + KitchenQual_Fa + KitchenQual_Gd + KitchenQual_TA\",\n",
    "    \"SalePrice ~ OverallQual + GrLivArea + GarageArea + TotalBsmtSF + FirstFlrSF + FullBath + TotRmsAbvGrd + YearRemodAdd + MSZoning_FV + MSZoning_RH + MSZoning_RL + MSZoning_RM + Alley_Grvl + MasVnrType_BrkCmn + MasVnrType_BrkFace + MasVnrType_Stone + ExterQual_Fa + ExterQual_Gd + ExterQual_TA + BsmtQual_Fa + BsmtQual_Gd + BsmtQual_TA\",\n",
    "    \"SalePrice ~ OverallQual + GrLivArea + GarageArea + TotalBsmtSF + FirstFlrSF + FullBath + TotRmsAbvGrd + YearRemodAdd + MSZoning_FV + MSZoning_RH + MSZoning_RL + MSZoning_RM + Alley_Grvl + MasVnrType_BrkCmn + MasVnrType_BrkFace + MasVnrType_Stone + ExterQual_Fa + ExterQual_Gd + ExterQual_TA\",\n",
    "    \"SalePrice ~ OverallQual + GrLivArea + GarageArea + TotalBsmtSF + FirstFlrSF + FullBath + TotRmsAbvGrd + YearRemodAdd + MSZoning_FV + MSZoning_RH + MSZoning_RL + MSZoning_RM + Alley_Grvl + MasVnrType_BrkCmn + MasVnrType_BrkFace + MasVnrType_Stone\",\n",
    "    \"SalePrice ~ OverallQual + GrLivArea + GarageArea + TotalBsmtSF + FirstFlrSF + FullBath + TotRmsAbvGrd + YearRemodAdd + MSZoning_FV + MSZoning_RH + MSZoning_RL + MSZoning_RM + Alley_Grvl\",\n",
    "    \"SalePrice ~ OverallQual + GrLivArea + GarageArea + TotalBsmtSF + FirstFlrSF + FullBath + TotRmsAbvGrd + YearRemodAdd + MSZoning_FV + MSZoning_RH + MSZoning_RL + MSZoning_RM\",\n",
    "    \"SalePrice ~ OverallQual + GrLivArea + GarageArea + TotalBsmtSF + FirstFlrSF + FullBath + TotRmsAbvGrd + YearRemodAdd\",\n",
    "    \"SalePrice ~ OverallQual + GrLivArea + GarageArea + TotalBsmtSF + FirstFlrSF + FullBath + TotRmsAbvGrd\",\n",
    "    \"SalePrice ~ OverallQual + GrLivArea + GarageArea + TotalBsmtSF + FirstFlrSF + FullBath\",\n",
    "    \"SalePrice ~ OverallQual + GrLivArea + GarageArea + TotalBsmtSF + FirstFlrSF\",\n",
    "    \"SalePrice ~ OverallQual + GrLivArea + GarageArea + TotalBsmtSF\",\n",
    "    \"SalePrice ~ OverallQual + GrLivArea + GarageArea\",\n",
    "    \"SalePrice ~ OverallQual + GrLivArea\"\n",
    "]\n",
    "steps = [[res.llf, res.aic, res.rsquared, res.rsquared_adj, formula]\n",
    "         for (res, formula) in [(smf.ols(formula=formula, data=train_df2).fit(), formula) for formula in formulas]]\n",
    "pd.DataFrame(steps, columns=['Log-Likelihood', 'AIC', 'R-squared', 'Adj. R-squared', 'formula'])"
   ]
  },
  {
   "cell_type": "markdown",
   "metadata": {
    "_cell_guid": "cbe4ba51-e17f-47c0-aaa4-449807319824",
    "_uuid": "936d5315aadf510dda335702f1e126bb906144eb"
   },
   "source": [
    "### Predict test data"
   ]
  },
  {
   "cell_type": "code",
   "execution_count": null,
   "metadata": {
    "_cell_guid": "c6a2eb91-62ef-4739-9baf-3d62e7025e35",
    "_uuid": "075a8e1d12b9e8fa2e5bdc4b4dbb10b2df3ef6e9",
    "collapsed": true
   },
   "outputs": [],
   "source": [
    "#Y_pred = res.predict(test_df2)"
   ]
  },
  {
   "cell_type": "code",
   "execution_count": null,
   "metadata": {
    "_cell_guid": "0856e619-dccb-4d82-baba-84862b1bfbbe",
    "_uuid": "6cb225ad95821fdb44e8fb23ae2e5c1d49574fb5",
    "collapsed": true
   },
   "outputs": [],
   "source": [
    "submission = pd.DataFrame({\n",
    "        \"Id\": test_df[\"Id\"],\n",
    "        \"SalePrice\": Y_pred\n",
    "    })\n",
    "submission"
   ]
  },
  {
   "cell_type": "code",
   "execution_count": null,
   "metadata": {
    "_cell_guid": "472f6a4f-56dc-433e-83d3-51021a1a4f5b",
    "_uuid": "e74dc697f4f3557c6c3168186102a943d57e46a0",
    "collapsed": true
   },
   "outputs": [],
   "source": [
    "submission.to_csv('submission.csv', index=False)"
   ]
  },
  {
   "cell_type": "code",
   "execution_count": null,
   "metadata": {
    "_cell_guid": "c7026b64-767f-4603-81a7-f6049b13d47a",
    "_uuid": "112f19afbb6b054cbbc8024d3659951f31d0ccb3",
    "collapsed": true
   },
   "outputs": [],
   "source": []
  }
 ],
 "metadata": {
  "kernelspec": {
   "display_name": "real-estate",
   "language": "python",
   "name": "real-estate"
  },
  "language_info": {
   "codemirror_mode": {
    "name": "ipython",
    "version": 3
   },
   "file_extension": ".py",
   "mimetype": "text/x-python",
   "name": "python",
   "nbconvert_exporter": "python",
   "pygments_lexer": "ipython3",
   "version": "3.6.5"
  }
 },
 "nbformat": 4,
 "nbformat_minor": 1
}

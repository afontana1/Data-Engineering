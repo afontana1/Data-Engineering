{
 "cells": [
  {
   "cell_type": "markdown",
   "metadata": {},
   "source": [
    "# Hedonische Qualitätsberechnung\n",
    "\n",
    "- Zu den Eigenschaften der Objekte zählen \n",
    "  - Strukturvariabeln (z.B. Anzahl Zimmer, Nettowohnfläche, Alter), \n",
    "  - Nutzungsvariabeln (Erst-, Zweitwohnung) und \n",
    "  - Lagevariablen (z.B. Distanz zum ÖV, Sicht, Exposition, Lärmbelastung)."
   ]
  },
  {
   "cell_type": "code",
   "execution_count": 1,
   "metadata": {},
   "outputs": [],
   "source": [
    "#invite people for the Kaggle party\n",
    "#from scipy.stats import norm\n",
    "#from sklearn.preprocessing import StandardScaler\n",
    "#from scipy import stats\n",
    "#import warnings\n",
    "#warnings.filterwarnings('ignore')\n",
    "\n",
    "\n",
    "path = '/Users/sspaeti/Simon/Sync/Business/13_sspaeti/Real-estate/_DATASETS/immo24/immo24_BS/'"
   ]
  },
  {
   "cell_type": "code",
   "execution_count": 2,
   "metadata": {},
   "outputs": [],
   "source": [
    "# data analysis and wrangling\n",
    "import pandas as pd\n",
    "import numpy as np\n",
    "import random as rnd\n",
    "\n",
    "# visualization\n",
    "import seaborn as sns\n",
    "import matplotlib as mpl\n",
    "import matplotlib.pyplot as plt\n",
    "import matplotlib.pylab as pylab\n",
    "%matplotlib inline\n",
    "mpl.style.use( 'ggplot' )\n",
    "sns.set_style( 'whitegrid' )\n",
    "sns.set_palette(\"Set3\")\n",
    "pylab.rcParams[ 'figure.figsize' ] = 8 , 6\n",
    "\n",
    "# machine learning\n",
    "from sklearn import linear_model\n",
    "from sklearn.linear_model import Ridge, RidgeCV, ElasticNet, LassoCV, LassoLarsCV\n",
    "from sklearn.model_selection import cross_val_score\n",
    "from sklearn.metrics import mean_squared_error\n",
    "from sklearn.model_selection import GridSearchCV\n",
    "\n",
    "def rmse_cv(model):\n",
    "    rmse= np.sqrt(-cross_val_score(model, X_train, y_train, scoring=\"neg_mean_squared_error\", cv = 5))\n",
    "    return(rmse)\n",
    "#XGboost\n",
    "import xgboost as xgb\n",
    "#statmodelsのGLMを使えるようにするモジュール\n",
    "import statsmodels.api as sm\n",
    "#GLMの中で用いる統計処理関数のインポート, chi**2の値などの算出に使用している \n",
    "from scipy import stats \n",
    "#Rのglmを使用可能にするための関数\n",
    "import statsmodels.formula.api as smf \n",
    "\n",
    "# ## OLS, GLM: Gaussian response data"
   ]
  },
  {
   "cell_type": "code",
   "execution_count": 51,
   "metadata": {},
   "outputs": [
    {
     "name": "stderr",
     "output_type": "stream",
     "text": [
      "/Users/sspaeti/anaconda3/envs/real-estate/lib/python3.6/site-packages/IPython/core/interactiveshell.py:2785: DtypeWarning: Columns (7,8,9,11,20,21,22,25,26,46,48,64,69,75,77,89,113,119,120,125,126,127,128) have mixed types. Specify dtype option on import or set low_memory=False.\n",
      "  interactivity=interactivity, compiler=compiler, result=result)\n"
     ]
    },
    {
     "data": {
      "text/plain": [
       "(86746, 137)"
      ]
     },
     "execution_count": 51,
     "metadata": {},
     "output_type": "execute_result"
    }
   ],
   "source": [
    "#bring in the six packs\n",
    "filename = 'train_properties.csv' #'train_properties_big.csv' #'train_properties_BE_SO.csv'\n",
    "df_train = pd.read_csv(path + '/input/' + filename, sep=';', error_bad_lines=False)\n",
    "\n",
    "##removing redudant or not useless columns\n",
    "#colsToIgnore =  ['sellingPrice', 'agency.companyName2', 'agency.companyPhoneBusiness', 'agency.companyPhoneMobile', 'agency.companyPhonePrivate', 'agency.companyPoBox', 'agency.companyPoBoxFormatted', 'agency.companyStreet', 'agency.email', 'agency.firstName', 'agency.gender', 'agency.lastName', 'agency.logoUrl', 'agency.nameFormatted', 'agency.reference', 'agency.webUrl', 'attributesSize.floorFormatted', 'attributesSize.volumeFormatted', 'attributesSurrounding.distanceKindergartenFormatted', 'attributesSurrounding.distanceMotorwayFormatted', 'attributesSurrounding.distancePublicTransportFormatted', 'attributesSurrounding.distanceSchool1Formatted', 'attributesSurrounding.distanceSchool2Formatted', 'attributesSurrounding.distanceShopFormatted', 'availableFromFormatted', 'contactFormTypeId', 'grossPremiumFormatted', 'images', 'municipalityNameFormatted', 'normalizedPriceFormatted', 'numberOfRoomsFormatted', 'pdfs', 'priceFormatted', 'priceUnitLabel', 'referenceNo', 'sellingPriceFormatted', 'showContactForm', 'showContactFormAddress', 'surfaceLivingFormatted', 'surfacePropertyFormatted', 'surfaceUsableFormatted', 'title', 'url', 'urlTitle', 'videos', 'virtualTours', 'visitName', 'visitPhone', 'visitRemark', 'routeDepartureCity', 'routeDepartureWork', 'routeDestinationCity', 'routeDestinationWork', 'transitsAllCity', 'transitsAllWork']\n",
    "# drop by Name\n",
    "#df_train = df_train.drop(colsToIgnore, axis=1)\n",
    "\n",
    "#add new calculations\n",
    "#df_train['pricePerSquareMeter'] = df_train['normalizedPrice'] / df_train['surfaceLiving']\n",
    "#df_train['attributes.yearBuiltRange'] = pd.cut(df_train['attributes.yearBuilt'], [0,1,1500,1850,1950,1960,1970,1980,1990,2000,2010,2020,2030,2400])\n",
    "#df_train['attributes.yearBuiltRange'] = df_train['attributes.yearBuiltRange'].apply(str)\n",
    "\n",
    "#show rows and columns\n",
    "df_train.shape"
   ]
  },
  {
   "cell_type": "code",
   "execution_count": 52,
   "metadata": {},
   "outputs": [
    {
     "data": {
      "text/html": [
       "<div>\n",
       "<style scoped>\n",
       "    .dataframe tbody tr th:only-of-type {\n",
       "        vertical-align: middle;\n",
       "    }\n",
       "\n",
       "    .dataframe tbody tr th {\n",
       "        vertical-align: top;\n",
       "    }\n",
       "\n",
       "    .dataframe thead th {\n",
       "        text-align: right;\n",
       "    }\n",
       "</style>\n",
       "<table border=\"1\" class=\"dataframe\">\n",
       "  <thead>\n",
       "    <tr style=\"text-align: right;\">\n",
       "      <th></th>\n",
       "      <th>id</th>\n",
       "      <th>accountId</th>\n",
       "      <th>agency.companyCity</th>\n",
       "      <th>agency.companyName1</th>\n",
       "      <th>agency.companyName2</th>\n",
       "      <th>agency.companyPhoneBusiness</th>\n",
       "      <th>agency.companyPhoneMobile</th>\n",
       "      <th>agency.companyPhonePrivate</th>\n",
       "      <th>agency.companyPoBox</th>\n",
       "      <th>agency.companyPoBoxFormatted</th>\n",
       "      <th>...</th>\n",
       "      <th>routeDestinationCity</th>\n",
       "      <th>routeDestinationWork</th>\n",
       "      <th>routeDistanceMetersCity</th>\n",
       "      <th>routeDistanceMetersWork</th>\n",
       "      <th>routeDurationSecCity</th>\n",
       "      <th>routeDurationSecWork</th>\n",
       "      <th>transitsAllCity</th>\n",
       "      <th>transitsAllWork</th>\n",
       "      <th>transitsNoWalkingCity</th>\n",
       "      <th>transitsNoWalkingWork</th>\n",
       "    </tr>\n",
       "  </thead>\n",
       "  <tbody>\n",
       "    <tr>\n",
       "      <th>51248</th>\n",
       "      <td>4934218</td>\n",
       "      <td>767429</td>\n",
       "      <td>Langenthal</td>\n",
       "      <td>RE/MAX Oberaargau - Langenthal</td>\n",
       "      <td>Immoring GmbH</td>\n",
       "      <td>062 923 44 88</td>\n",
       "      <td>079 360 04 87</td>\n",
       "      <td>NaN</td>\n",
       "      <td>NaN</td>\n",
       "      <td>NaN</td>\n",
       "      <td>...</td>\n",
       "      <td>bern Hauptbahnhof</td>\n",
       "      <td>swissqual, Allmendweg 8, 4528 Zuchwil</td>\n",
       "      <td>40170.0</td>\n",
       "      <td>14884.0</td>\n",
       "      <td>2693.0</td>\n",
       "      <td>2715.0</td>\n",
       "      <td>5.0</td>\n",
       "      <td>3.0</td>\n",
       "      <td>2.0</td>\n",
       "      <td>1.0</td>\n",
       "    </tr>\n",
       "    <tr>\n",
       "      <th>51249</th>\n",
       "      <td>4934218</td>\n",
       "      <td>767429</td>\n",
       "      <td>Langenthal</td>\n",
       "      <td>RE/MAX Oberaargau - Langenthal</td>\n",
       "      <td>Immoring GmbH</td>\n",
       "      <td>062 923 44 88</td>\n",
       "      <td>079 360 04 87</td>\n",
       "      <td>NaN</td>\n",
       "      <td>NaN</td>\n",
       "      <td>NaN</td>\n",
       "      <td>...</td>\n",
       "      <td>bern Hauptbahnhof Hauptbahnhof Hauptbahnhof Ha...</td>\n",
       "      <td>swissqual, Allmendweg 8, 4528 Zuchwil</td>\n",
       "      <td>40170.0</td>\n",
       "      <td>14884.0</td>\n",
       "      <td>2693.0</td>\n",
       "      <td>2715.0</td>\n",
       "      <td>5.0</td>\n",
       "      <td>3.0</td>\n",
       "      <td>2.0</td>\n",
       "      <td>1.0</td>\n",
       "    </tr>\n",
       "  </tbody>\n",
       "</table>\n",
       "<p>2 rows × 137 columns</p>\n",
       "</div>"
      ],
      "text/plain": [
       "            id  accountId agency.companyCity             agency.companyName1  \\\n",
       "51248  4934218     767429         Langenthal  RE/MAX Oberaargau - Langenthal   \n",
       "51249  4934218     767429         Langenthal  RE/MAX Oberaargau - Langenthal   \n",
       "\n",
       "      agency.companyName2 agency.companyPhoneBusiness  \\\n",
       "51248       Immoring GmbH               062 923 44 88   \n",
       "51249       Immoring GmbH               062 923 44 88   \n",
       "\n",
       "      agency.companyPhoneMobile agency.companyPhonePrivate  \\\n",
       "51248             079 360 04 87                        NaN   \n",
       "51249             079 360 04 87                        NaN   \n",
       "\n",
       "      agency.companyPoBox agency.companyPoBoxFormatted          ...           \\\n",
       "51248                 NaN                          NaN          ...            \n",
       "51249                 NaN                          NaN          ...            \n",
       "\n",
       "                                    routeDestinationCity  \\\n",
       "51248                                  bern Hauptbahnhof   \n",
       "51249  bern Hauptbahnhof Hauptbahnhof Hauptbahnhof Ha...   \n",
       "\n",
       "                        routeDestinationWork routeDistanceMetersCity  \\\n",
       "51248  swissqual, Allmendweg 8, 4528 Zuchwil                 40170.0   \n",
       "51249  swissqual, Allmendweg 8, 4528 Zuchwil                 40170.0   \n",
       "\n",
       "      routeDistanceMetersWork routeDurationSecCity routeDurationSecWork  \\\n",
       "51248                 14884.0               2693.0               2715.0   \n",
       "51249                 14884.0               2693.0               2715.0   \n",
       "\n",
       "      transitsAllCity transitsAllWork transitsNoWalkingCity  \\\n",
       "51248             5.0             3.0                   2.0   \n",
       "51249             5.0             3.0                   2.0   \n",
       "\n",
       "      transitsNoWalkingWork  \n",
       "51248                   1.0  \n",
       "51249                   1.0  \n",
       "\n",
       "[2 rows x 137 columns]"
      ]
     },
     "metadata": {},
     "output_type": "display_data"
    },
    {
     "data": {
      "text/plain": [
       "'\\n#Objekttyp\\n--> propertyType\\n#Strukturvariablen \\n--> numberOfRooms, living (Wohnfläche), surfaceProperty (Grundstücksfläche), surfaceUsable(Nutzfläche) \\n  , volume (Kubatur)\\n  #Altersentwertung \\n  , yearBuilt, yearRenovated, newBuilding (also yearBuilt=this year..)\\n#Lagevariablen\\n--> routeDurationSecCity (time until next bigger city (choosen from user)), routeDistanceMetersCity\\n  , routeDurationSecWork, routeDistanceMetersWork\\n    #Sicht, Exposition, Lärmbelastung\\n    \\n'"
      ]
     },
     "execution_count": 52,
     "metadata": {},
     "output_type": "execute_result"
    }
   ],
   "source": [
    "#set display row option to show all attributes of df\n",
    "pd.set_option('display.max_rows', 1000)\n",
    "\n",
    "list(df_train)\n",
    "\n",
    "display(df_train[df_train['id']==4934218])\n",
    "\n",
    "df_train[df_train['id']==4934218]['propertyType']\n",
    "df_train[df_train['id']==4934218]['numberOfRooms']\n",
    "\n",
    "#Schwer verkäuflich sind laut Immobilienexperten Dachgeschoßwohnungen in B-Lagen sowie exklusive \n",
    "#Innenstadtwohnungen mit Preisen über 4000 Euro pro Quadratmeter.\n",
    "\n",
    "\"\"\"\n",
    "#Objekttyp\n",
    "--> propertyType\n",
    "#Strukturvariablen \n",
    "--> numberOfRooms, living (Wohnfläche), surfaceProperty (Grundstücksfläche), surfaceUsable(Nutzfläche) \n",
    "  , volume (Kubatur)\n",
    "  #Altersentwertung \n",
    "  , yearBuilt, yearRenovated, newBuilding (also yearBuilt=this year..)\n",
    "#Lagevariablen\n",
    "--> routeDurationSecCity (time until next bigger city (choosen from user)), routeDistanceMetersCity\n",
    "  , routeDurationSecWork, routeDistanceMetersWork\n",
    "    #Sicht, Exposition, Lärmbelastung\n",
    "    \n",
    "\"\"\" "
   ]
  },
  {
   "cell_type": "markdown",
   "metadata": {},
   "source": [
    "# Linear Regression\n",
    "Use this link to create a linear regression on erklärenden Variablen (Struktur, Nutzung, Lage)\n",
    "\n",
    "https://towardsdatascience.com/simple-and-multiple-linear-regression-in-python-c928425168f9"
   ]
  },
  {
   "cell_type": "markdown",
   "metadata": {},
   "source": [
    "## ModelPredict"
   ]
  },
  {
   "cell_type": "markdown",
   "metadata": {},
   "source": [
    "### LinerRegression"
   ]
  },
  {
   "cell_type": "code",
   "execution_count": 60,
   "metadata": {},
   "outputs": [
    {
     "name": "stdout",
     "output_type": "stream",
     "text": [
      "(81428, 42)\n"
     ]
    },
    {
     "name": "stderr",
     "output_type": "stream",
     "text": [
      "/Users/sspaeti/anaconda3/envs/real-estate/lib/python3.6/site-packages/ipykernel_launcher.py:27: FutureWarning: Method .as_matrix will be removed in a future version. Use .values instead.\n"
     ]
    },
    {
     "name": "stdout",
     "output_type": "stream",
     "text": [
      "                                             Name   Coefficients\n",
      "30                                       latitude -703666.542590\n",
      "31                         attributes.middleHouse -458684.870155\n",
      "7                   attributesOutside.propBalcony  -52344.001183\n",
      "26                          transitsNoWalkingWork  -42597.308267\n",
      "9                   attributesOutside.propParking  -36318.048879\n",
      "4                          attributesInside.attic  -34635.771577\n",
      "40    attributesTechnology.separateWashingMachine  -24786.592907\n",
      "1                          attributes.oldBuilding  -24738.679415\n",
      "35                   attributesOutside.propGarage  -14872.343538\n",
      "5                    attributesInside.nrBathRooms  -11869.976895\n",
      "10                  attributesSize.numberOfFloors   -5997.812336\n",
      "36                           attributesSize.floor   -4223.277161\n",
      "34                   attributesOutside.playGround    -129.268314\n",
      "11                          attributesSize.volume     -32.690305\n",
      "3                        attributes.yearRenovated     -30.859997\n",
      "24                           routeDurationSecWork     -30.447646\n",
      "15             attributesSurrounding.distanceShop     -29.681975\n",
      "2                            attributes.yearBuilt      -7.907350\n",
      "37         attributesSurrounding.distanceMotorway      -5.899947\n",
      "12     attributesSurrounding.distanceKindergarten      -4.547306\n",
      "21                        routeDistanceMetersCity      -2.405654\n",
      "22                        routeDistanceMetersWork       4.131026\n",
      "27                                            zip       7.259778\n",
      "23                           routeDurationSecCity       7.708308\n",
      "14          attributesSurrounding.distanceSchool1      18.888680\n",
      "19                                surfaceProperty      38.975818\n",
      "13  attributesSurrounding.distancePublicTransport      57.049125\n",
      "28                                 propertyTypeId     267.970308\n",
      "20                                  surfaceUsable     566.751326\n",
      "18                                  surfaceLiving    2339.648714\n",
      "16                                  numberOfRooms   16957.269260\n",
      "6                       attributesInside.propView   21760.137493\n",
      "38       attributesTechnology.isMinergieCertified   38072.408368\n",
      "33                     attributesInside.firePlace   44543.351388\n",
      "39       attributesTechnology.separateTumbleDryer   50877.575802\n",
      "0                          attributes.newBuilding   60897.720933\n",
      "25                          transitsNoWalkingCity   65847.052176\n",
      "8                  attributesOutside.propElevator   97887.874636\n",
      "32                        attributes.swimmingPool  189149.724534\n",
      "17                             propertyCategoryId  213031.477436\n",
      "29                                      longitude  484531.905615\n",
      "29505577.70533468\n"
     ]
    },
    {
     "name": "stderr",
     "output_type": "stream",
     "text": [
      "/Users/sspaeti/anaconda3/envs/real-estate/lib/python3.6/site-packages/ipykernel_launcher.py:30: FutureWarning: Method .as_matrix will be removed in a future version. Use .values instead.\n"
     ]
    }
   ],
   "source": [
    "train_df2 = df_train\n",
    "\n",
    "##columns to include in calculation\n",
    "#--> all: colsToKeep =   ['normalizedPrice', 'attributes.newBuilding', 'attributes.oldBuilding', 'attributes.yearBuilt', 'attributes.yearRenovated', 'attributesInside.attic', 'attributesInside.nrBathRooms', 'attributesInside.propView', 'attributesOutside.propBalcony', 'attributesOutside.propElevator', 'attributesOutside.propParking', 'attributesSize.numberOfFloors', 'attributesSize.volume', 'attributesSurrounding.distanceKindergarten', 'attributesSurrounding.distancePublicTransport', 'attributesSurrounding.distanceSchool1', 'attributesSurrounding.distanceShop', 'cityName', 'isBuyRent', 'numberOfRooms', 'propertyCategoryId', 'propertyType', 'surfaceLiving', 'surfaceProperty', 'surfaceUsable', 'routeDistanceMetersCity', 'routeDistanceMetersWork', 'routeDurationSecCity', 'routeDurationSecWork', 'transitsNoWalkingCity', 'transitsNoWalkingWork']\n",
    "#only number fields\n",
    "colsToKeep = ['normalizedPrice', 'attributes.newBuilding', 'attributes.oldBuilding', 'attributes.yearBuilt', 'attributes.yearRenovated', 'attributesInside.attic', 'attributesInside.nrBathRooms', 'attributesInside.propView', 'attributesOutside.propBalcony', 'attributesOutside.propElevator', 'attributesOutside.propParking', 'attributesSize.numberOfFloors', 'attributesSize.volume', 'attributesSurrounding.distanceKindergarten', 'attributesSurrounding.distancePublicTransport', 'attributesSurrounding.distanceSchool1', 'attributesSurrounding.distanceShop', 'numberOfRooms', 'propertyCategoryId', 'surfaceLiving', 'surfaceProperty', 'surfaceUsable', 'routeDistanceMetersCity', 'routeDistanceMetersWork', 'routeDurationSecCity', 'routeDurationSecWork', 'transitsNoWalkingCity', 'transitsNoWalkingWork', 'zip', 'propertyTypeId', 'longitude', 'latitude', 'attributes.middleHouse', 'attributes.swimmingPool', 'attributesInside.firePlace', 'attributesOutside.playGround', 'attributesOutside.propGarage', 'attributesSize.floor', 'attributesSurrounding.distanceMotorway', 'attributesTechnology.isMinergieCertified', 'attributesTechnology.separateTumbleDryer', 'attributesTechnology.separateWashingMachine']\n",
    "\n",
    "# replace all NaN with 0\n",
    "train_df2 = train_df2.replace(np.nan, 0)\n",
    "#only where price is not on request\n",
    "train_df2 = train_df2[train_df2['normalizedPrice']!=0]\n",
    "\n",
    "#train_df2 = train_df2[(train_df2['stateShort']=='BE') | (train_df2['stateShort']=='SO')]\n",
    "#train_df2 = train_df2[train_df2['stateShort']=='SO']\n",
    "\n",
    "\n",
    "\n",
    "#remove columns not needed or not number\n",
    "train_df2 = train_df2[colsToKeep]\n",
    "\n",
    "print(train_df2.shape)\n",
    "\n",
    "clf = linear_model.LinearRegression()\n",
    " \n",
    "# 説明変数に \"SalePrice品質スコア以外すべて)\" を利用\n",
    "explanatory_variable = train_df2.drop(\"normalizedPrice\", axis=1)\n",
    "X = explanatory_variable.as_matrix()\n",
    " \n",
    "# 目的変数に \"SalePrice(品質スコア)\" を利用\n",
    "y = train_df2['normalizedPrice'].as_matrix()\n",
    " \n",
    "# 予測モデルを作成\n",
    "clf.fit(X, y)\n",
    " \n",
    "# 偏回帰係数\n",
    "print(pd.DataFrame({\"Name\":explanatory_variable.columns,\"Coefficients\":clf.coef_}).sort_values(by='Coefficients') )\n",
    " \n",
    "# 切片 (誤差)\n",
    "print(clf.intercept_)"
   ]
  },
  {
   "cell_type": "code",
   "execution_count": 61,
   "metadata": {},
   "outputs": [],
   "source": [
    "# train_test_splitをインポート\n",
    "from sklearn.cross_validation import train_test_split\n",
    "# 70%を学習用、30%を検証用データにするよう分割\n",
    "X_train, X_test, y_train, y_test = train_test_split(X, y, test_size = 0.3, random_state = 666)\n",
    "# 学習用データでパラメータ推定\n",
    "clf.fit(X_train, y_train)\n",
    "# 作成したモデルから予測（学習用、検証用モデル使用）\n",
    "y_train_pred = clf.predict(X_train)\n",
    "y_test_pred = clf.predict(X_test)"
   ]
  },
  {
   "cell_type": "code",
   "execution_count": 62,
   "metadata": {},
   "outputs": [
    {
     "data": {
      "image/png": "[encoded data removed]",
      "text/plain": [
       "<Figure size 432x288 with 1 Axes>"
      ]
     },
     "metadata": {},
     "output_type": "display_data"
    }
   ],
   "source": [
    "# 学習用、検証用それぞれで残差をプロット\n",
    "plt.scatter(y_train_pred, y_train_pred - y_train, c = 'blue', marker = 'o', label = 'Train Data')\n",
    "plt.scatter(y_test_pred, y_test_pred - y_test, c = 'lightgreen', marker = 's', label = 'Test Data')\n",
    "plt.xlabel('Predicted Values')\n",
    "plt.ylabel('Residuals')\n",
    "# 凡例を左上に表示\n",
    "plt.legend(loc = 'upper left')\n",
    "# y = 0に直線を引く\n",
    "plt.hlines(y = 0, xmin = -100000, xmax = 500000, lw = 2, color = 'red')\n",
    "#plt.xlim([10, 50])\n",
    "plt.show()"
   ]
  },
  {
   "cell_type": "markdown",
   "metadata": {},
   "source": [
    "#### normalize"
   ]
  },
  {
   "cell_type": "code",
   "execution_count": 56,
   "metadata": {},
   "outputs": [
    {
     "name": "stderr",
     "output_type": "stream",
     "text": [
      "/Users/sspaeti/anaconda3/envs/real-estate/lib/python3.6/site-packages/ipykernel_launcher.py:5: FutureWarning: Method .as_matrix will be removed in a future version. Use .values instead.\n",
      "  \"\"\"\n",
      "/Users/sspaeti/anaconda3/envs/real-estate/lib/python3.6/site-packages/ipykernel_launcher.py:8: FutureWarning: Method .as_matrix will be removed in a future version. Use .values instead.\n",
      "  \n"
     ]
    },
    {
     "name": "stdout",
     "output_type": "stream",
     "text": [
      "                                             Name   Coefficients\n",
      "30                                       latitude -416712.875081\n",
      "31                         attributes.middleHouse -158776.380760\n",
      "29                                      longitude -135570.715167\n",
      "26                          transitsNoWalkingWork  -53810.764391\n",
      "7                   attributesOutside.propBalcony  -18975.127501\n",
      "40    attributesTechnology.separateWashingMachine  -18194.858768\n",
      "38       attributesTechnology.isMinergieCertified  -17369.680294\n",
      "36                           attributesSize.floor  -16277.946230\n",
      "9                   attributesOutside.propParking  -12712.557854\n",
      "5                    attributesInside.nrBathRooms  -11118.338620\n",
      "10                  attributesSize.numberOfFloors   -6983.921366\n",
      "11                          attributesSize.volume     -46.050490\n",
      "23                           routeDurationSecCity     -30.948452\n",
      "15             attributesSurrounding.distanceShop     -24.291097\n",
      "3                        attributes.yearRenovated     -16.988243\n",
      "2                            attributes.yearBuilt      -9.221316\n",
      "37         attributesSurrounding.distanceMotorway      -8.016365\n",
      "12     attributesSurrounding.distanceKindergarten      -1.876868\n",
      "21                        routeDistanceMetersCity      -0.580205\n",
      "22                        routeDistanceMetersWork       1.470373\n",
      "13  attributesSurrounding.distancePublicTransport       2.707173\n",
      "14          attributesSurrounding.distanceSchool1      19.575774\n",
      "19                                surfaceProperty      21.981325\n",
      "24                           routeDurationSecWork      22.195366\n",
      "27                                            zip      59.127474\n",
      "20                                  surfaceUsable     564.483537\n",
      "18                                  surfaceLiving    1474.056822\n",
      "28                                 propertyTypeId    2067.392875\n",
      "4                          attributesInside.attic    3116.198863\n",
      "34                   attributesOutside.playGround    5230.106004\n",
      "35                   attributesOutside.propGarage   12030.148708\n",
      "1                          attributes.oldBuilding   16569.518362\n",
      "16                                  numberOfRooms   22094.706707\n",
      "33                     attributesInside.firePlace   25941.863725\n",
      "6                       attributesInside.propView   38204.699480\n",
      "25                          transitsNoWalkingCity   50885.240191\n",
      "0                          attributes.newBuilding   57497.105216\n",
      "39       attributesTechnology.separateTumbleDryer   65487.718133\n",
      "8                  attributesOutside.propElevator   97375.145627\n",
      "32                        attributes.swimmingPool  125597.037409\n",
      "17                             propertyCategoryId  187028.005234\n",
      "20501058.930241946\n"
     ]
    }
   ],
   "source": [
    "clf = linear_model.LinearRegression(normalize=True)\n",
    " \n",
    "# 説明変数に \"SalePrice品質スコア以外すべて)\" を利用\n",
    "explanatory_variable = train_df2.drop(\"normalizedPrice\", axis=1)\n",
    "X = explanatory_variable.as_matrix()\n",
    " \n",
    "# 目的変数に \"SalePrice(品質スコア)\" を利用\n",
    "y = train_df2['normalizedPrice'].as_matrix()\n",
    " \n",
    "# 予測モデルを作成\n",
    "clf.fit(X, y)\n",
    " \n",
    "# 偏回帰係数\n",
    "print(pd.DataFrame({\"Name\":explanatory_variable.columns,\"Coefficients\":clf.coef_}).sort_values(by='Coefficients') )\n",
    " \n",
    "# 切片 (誤差)\n",
    "print(clf.intercept_)"
   ]
  },
  {
   "cell_type": "code",
   "execution_count": 57,
   "metadata": {},
   "outputs": [
    {
     "name": "stderr",
     "output_type": "stream",
     "text": [
      "/Users/sspaeti/anaconda3/envs/real-estate/lib/python3.6/site-packages/ipykernel_launcher.py:5: FutureWarning: Method .as_matrix will be removed in a future version. Use .values instead.\n",
      "  \"\"\"\n",
      "/Users/sspaeti/anaconda3/envs/real-estate/lib/python3.6/site-packages/ipykernel_launcher.py:8: FutureWarning: Method .as_matrix will be removed in a future version. Use .values instead.\n",
      "  \n"
     ]
    },
    {
     "name": "stdout",
     "output_type": "stream",
     "text": [
      "                                             Name   Coefficients\n",
      "30                                       latitude -416712.875081\n",
      "31                         attributes.middleHouse -158776.380760\n",
      "29                                      longitude -135570.715167\n",
      "26                          transitsNoWalkingWork  -53810.764391\n",
      "7                   attributesOutside.propBalcony  -18975.127501\n",
      "40    attributesTechnology.separateWashingMachine  -18194.858768\n",
      "38       attributesTechnology.isMinergieCertified  -17369.680294\n",
      "36                           attributesSize.floor  -16277.946230\n",
      "9                   attributesOutside.propParking  -12712.557854\n",
      "5                    attributesInside.nrBathRooms  -11118.338620\n",
      "10                  attributesSize.numberOfFloors   -6983.921366\n",
      "11                          attributesSize.volume     -46.050490\n",
      "23                           routeDurationSecCity     -30.948452\n",
      "15             attributesSurrounding.distanceShop     -24.291097\n",
      "3                        attributes.yearRenovated     -16.988243\n",
      "2                            attributes.yearBuilt      -9.221316\n",
      "37         attributesSurrounding.distanceMotorway      -8.016365\n",
      "12     attributesSurrounding.distanceKindergarten      -1.876868\n",
      "21                        routeDistanceMetersCity      -0.580205\n",
      "22                        routeDistanceMetersWork       1.470373\n",
      "13  attributesSurrounding.distancePublicTransport       2.707173\n",
      "14          attributesSurrounding.distanceSchool1      19.575774\n",
      "19                                surfaceProperty      21.981325\n",
      "24                           routeDurationSecWork      22.195366\n",
      "27                                            zip      59.127474\n",
      "20                                  surfaceUsable     564.483537\n",
      "18                                  surfaceLiving    1474.056822\n",
      "28                                 propertyTypeId    2067.392875\n",
      "4                          attributesInside.attic    3116.198863\n",
      "34                   attributesOutside.playGround    5230.106004\n",
      "35                   attributesOutside.propGarage   12030.148708\n",
      "1                          attributes.oldBuilding   16569.518362\n",
      "16                                  numberOfRooms   22094.706707\n",
      "33                     attributesInside.firePlace   25941.863725\n",
      "6                       attributesInside.propView   38204.699480\n",
      "25                          transitsNoWalkingCity   50885.240191\n",
      "0                          attributes.newBuilding   57497.105216\n",
      "39       attributesTechnology.separateTumbleDryer   65487.718133\n",
      "8                  attributesOutside.propElevator   97375.145627\n",
      "32                        attributes.swimmingPool  125597.037409\n",
      "17                             propertyCategoryId  187028.005234\n",
      "20501058.930241946\n"
     ]
    }
   ],
   "source": [
    "clf = linear_model.LinearRegression(normalize=True)\n",
    " \n",
    "# 説明変数に \"SalePrice品質スコア以外すべて)\" を利用\n",
    "explanatory_variable = train_df2.drop(\"normalizedPrice\", axis=1)\n",
    "X = explanatory_variable.as_matrix()\n",
    " \n",
    "# 目的変数に \"SalePrice(品質スコア)\" を利用\n",
    "y = train_df2['normalizedPrice'].as_matrix()\n",
    " \n",
    "# 予測モデルを作成\n",
    "clf.fit(X, y)\n",
    " \n",
    "# 偏回帰係数\n",
    "print(pd.DataFrame({\"Name\":explanatory_variable.columns,\"Coefficients\":clf.coef_}).sort_values(by='Coefficients') )\n",
    " \n",
    "# 切片 (誤差)\n",
    "print(clf.intercept_)"
   ]
  },
  {
   "cell_type": "code",
   "execution_count": 58,
   "metadata": {},
   "outputs": [
    {
     "data": {
      "image/png": "[encoded data removed]",
      "text/plain": [
       "<Figure size 432x288 with 1 Axes>"
      ]
     },
     "metadata": {},
     "output_type": "display_data"
    }
   ],
   "source": [
    "# 学習用、検証用それぞれで残差をプロット\n",
    "plt.scatter(y_train_pred, y_train_pred - y_train, c = 'blue', marker = 'o', label = 'Train Data')\n",
    "plt.scatter(y_test_pred, y_test_pred - y_test, c = 'lightgreen', marker = 's', label = 'Test Data')\n",
    "plt.xlabel('Predicted Values')\n",
    "plt.ylabel('Residuals')\n",
    "# 凡例を左上に表示\n",
    "plt.legend(loc = 'upper left')\n",
    "# y = 0に直線を引く\n",
    "plt.hlines(y = 0, xmin = -100000, xmax = 500000, lw = 2, color = 'red')\n",
    "#plt.xlim([10, 50])\n",
    "plt.show()"
   ]
  },
  {
   "cell_type": "code",
   "execution_count": 59,
   "metadata": {},
   "outputs": [],
   "source": [
    "#Y_pred = clf.predict(test_df2)"
   ]
  },
  {
   "cell_type": "code",
   "execution_count": null,
   "metadata": {},
   "outputs": [],
   "source": []
  },
  {
   "cell_type": "code",
   "execution_count": null,
   "metadata": {},
   "outputs": [],
   "source": []
  }
 ],
 "metadata": {
  "kernelspec": {
   "display_name": "real-estate",
   "language": "python",
   "name": "real-estate"
  },
  "language_info": {
   "codemirror_mode": {
    "name": "ipython",
    "version": 3
   },
   "file_extension": ".py",
   "mimetype": "text/x-python",
   "name": "python",
   "nbconvert_exporter": "python",
   "pygments_lexer": "ipython3",
   "version": "3.6.5"
  }
 },
 "nbformat": 4,
 "nbformat_minor": 2
}

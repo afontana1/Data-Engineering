{
 "cells": [
  {
   "cell_type": "code",
   "execution_count": 82,
   "metadata": {},
   "outputs": [],
   "source": [
    "import json\n",
    "import pandas as pd"
   ]
  },
  {
   "cell_type": "code",
   "execution_count": 83,
   "metadata": {},
   "outputs": [],
   "source": [
    "from google.cloud import storage"
   ]
  },
  {
   "cell_type": "code",
   "execution_count": 91,
   "metadata": {},
   "outputs": [
    {
     "name": "stdout",
     "output_type": "stream",
     "text": [
      "Removing gs://airetailparquet/...\n"
     ]
    }
   ],
   "source": [
    "!gsutil rm -r gs://airetailparquet"
   ]
  },
  {
   "cell_type": "code",
   "execution_count": 92,
   "metadata": {},
   "outputs": [
    {
     "name": "stdout",
     "output_type": "stream",
     "text": [
      "Creating gs://airetailparquet/...\n"
     ]
    }
   ],
   "source": [
    "!gsutil mb gs://airetailparquet"
   ]
  },
  {
   "cell_type": "code",
   "execution_count": 97,
   "metadata": {},
   "outputs": [
    {
     "name": "stdout",
     "output_type": "stream",
     "text": [
      "Removing gs://airetail/retail_db#1664787696526014...\n",
      "/ [1 objects]                                                                   \n",
      "Operation completed over 1 objects.                                              \n"
     ]
    }
   ],
   "source": [
    "!gsutil rm -r gs://airetail/retail_db"
   ]
  },
  {
   "cell_type": "code",
   "execution_count": 98,
   "metadata": {},
   "outputs": [
    {
     "name": "stdout",
     "output_type": "stream",
     "text": [
      "Copying file://../../data/retail_db/schemas.json [Content-Type=application/json]...\n",
      "/ [1 files][  4.2 KiB/  4.2 KiB]                                                \n",
      "Operation completed over 1 objects/4.2 KiB.                                      \n"
     ]
    }
   ],
   "source": [
    "!gsutil cp -r ../../data/retail_db/schemas.json gs://airetail/retail_db/schemas.json"
   ]
  },
  {
   "cell_type": "code",
   "execution_count": 99,
   "metadata": {},
   "outputs": [
    {
     "name": "stdout",
     "output_type": "stream",
     "text": [
      "gs://airetail/retail_db/schemas.json\n"
     ]
    }
   ],
   "source": [
    "!gsutil ls gs://airetail/retail_db/"
   ]
  },
  {
   "cell_type": "code",
   "execution_count": 100,
   "metadata": {},
   "outputs": [],
   "source": [
    "gsclient = storage.Client()"
   ]
  },
  {
   "cell_type": "code",
   "execution_count": 101,
   "metadata": {},
   "outputs": [],
   "source": [
    "bucket = gsclient.get_bucket('airetail')"
   ]
  },
  {
   "cell_type": "code",
   "execution_count": 102,
   "metadata": {},
   "outputs": [],
   "source": [
    "schemas_blob = bucket.get_blob('retail_db/schemas.json')"
   ]
  },
  {
   "cell_type": "code",
   "execution_count": 103,
   "metadata": {},
   "outputs": [],
   "source": [
    "schemas = json.loads(schemas_blob.download_as_string())"
   ]
  },
  {
   "cell_type": "code",
   "execution_count": 104,
   "metadata": {},
   "outputs": [
    {
     "data": {
      "text/plain": [
       "[{'column_name': 'order_id', 'data_type': 'integer', 'column_position': 1},\n",
       " {'column_name': 'order_date', 'data_type': 'string', 'column_position': 2},\n",
       " {'column_name': 'order_customer_id',\n",
       "  'data_type': 'timestamp',\n",
       "  'column_position': 3},\n",
       " {'column_name': 'order_status', 'data_type': 'string', 'column_position': 4}]"
      ]
     },
     "execution_count": 104,
     "metadata": {},
     "output_type": "execute_result"
    }
   ],
   "source": [
    "schemas['orders']"
   ]
  },
  {
   "cell_type": "code",
   "execution_count": 105,
   "metadata": {},
   "outputs": [
    {
     "data": {
      "text/plain": [
       "[{'column_name': 'order_id', 'data_type': 'integer', 'column_position': 1},\n",
       " {'column_name': 'order_date', 'data_type': 'string', 'column_position': 2},\n",
       " {'column_name': 'order_customer_id',\n",
       "  'data_type': 'timestamp',\n",
       "  'column_position': 3},\n",
       " {'column_name': 'order_status', 'data_type': 'string', 'column_position': 4}]"
      ]
     },
     "execution_count": 105,
     "metadata": {},
     "output_type": "execute_result"
    }
   ],
   "source": [
    "column_details = sorted(schemas['orders'], key=lambda col: col['column_position'])\n",
    "column_details"
   ]
  },
  {
   "cell_type": "code",
   "execution_count": 106,
   "metadata": {},
   "outputs": [
    {
     "data": {
      "text/plain": [
       "['order_id', 'order_date', 'order_customer_id', 'order_status']"
      ]
     },
     "execution_count": 106,
     "metadata": {},
     "output_type": "execute_result"
    }
   ],
   "source": [
    "columns = list(map(lambda td: td['column_name'], column_details))\n",
    "columns"
   ]
  },
  {
   "cell_type": "code",
   "execution_count": 107,
   "metadata": {},
   "outputs": [],
   "source": [
    "def get_columns(schemas_blob, ds_name):\n",
    "    schemas = json.loads(schemas_blob.download_as_string())\n",
    "    column_details = sorted(schemas[ds_name], key=lambda col: col['column_position'])\n",
    "    columns = list(map(lambda td: td['column_name'], column_details))\n",
    "    return columns"
   ]
  },
  {
   "cell_type": "code",
   "execution_count": 110,
   "metadata": {},
   "outputs": [],
   "source": [
    "ds_name = 'orders'"
   ]
  },
  {
   "cell_type": "code",
   "execution_count": 111,
   "metadata": {},
   "outputs": [
    {
     "data": {
      "text/plain": [
       "['order_id', 'order_date', 'order_customer_id', 'order_status']"
      ]
     },
     "execution_count": 111,
     "metadata": {},
     "output_type": "execute_result"
    }
   ],
   "source": [
    "get_columns(schemas_blob, ds_name)"
   ]
  },
  {
   "cell_type": "code",
   "execution_count": 112,
   "metadata": {},
   "outputs": [
    {
     "name": "stdout",
     "output_type": "stream",
     "text": [
      "['order_id', 'order_date', 'order_customer_id', 'order_status']\n"
     ]
    }
   ],
   "source": [
    "print(columns)"
   ]
  },
  {
   "cell_type": "code",
   "execution_count": null,
   "metadata": {},
   "outputs": [
    {
     "name": "stdout",
     "output_type": "stream",
     "text": [
      "env: TGT_BUCKET_NAME=airetailparquet\n"
     ]
    }
   ],
   "source": [
    "%env TGT_BUCKET_NAME=airetailparquet"
   ]
  },
  {
   "cell_type": "code",
   "execution_count": 115,
   "metadata": {},
   "outputs": [
    {
     "name": "stdout",
     "output_type": "stream",
     "text": [
      "Copying file://../../data/retail_db/orders/part-00000 [Content-Type=application/octet-stream]...\n",
      "| [1 files][  2.9 MiB/  2.9 MiB]                                                \n",
      "Operation completed over 1 objects/2.9 MiB.                                      \n"
     ]
    }
   ],
   "source": [
    "!gsutil cp -r ../../data/retail_db/orders gs://airetail/retail_db/orders"
   ]
  },
  {
   "cell_type": "code",
   "execution_count": 113,
   "metadata": {},
   "outputs": [],
   "source": [
    "event = {\n",
    "    'bucket': 'airetail',\n",
    "    'name': 'retail_db/orders/part-00000'\n",
    "}"
   ]
  },
  {
   "cell_type": "code",
   "execution_count": 114,
   "metadata": {},
   "outputs": [],
   "source": [
    "tgt_bucket_name = os.environ.get('TGT_BUCKET_NAME')"
   ]
  },
  {
   "cell_type": "code",
   "execution_count": 116,
   "metadata": {},
   "outputs": [],
   "source": [
    "src_bucket_name = event['bucket']\n",
    "blob_name = event['name']"
   ]
  },
  {
   "cell_type": "code",
   "execution_count": 117,
   "metadata": {},
   "outputs": [],
   "source": [
    "df = pd.read_csv(f'gs://{src_bucket_name}/{blob_name}', names=columns)"
   ]
  },
  {
   "cell_type": "code",
   "execution_count": 118,
   "metadata": {},
   "outputs": [],
   "source": [
    "df.to_parquet(f'gs://{tgt_bucket_name}/{blob_name}.snappy.parquet')"
   ]
  },
  {
   "cell_type": "code",
   "execution_count": 119,
   "metadata": {},
   "outputs": [
    {
     "name": "stdout",
     "output_type": "stream",
     "text": [
      "gs://airetailparquet/retail_db/:\n",
      "\n",
      "gs://airetailparquet/retail_db/orders/:\n",
      "gs://airetailparquet/retail_db/orders/part-00000.snappy.parquet\n"
     ]
    }
   ],
   "source": [
    "!gsutil ls -r gs://airetailparquet/retail_db"
   ]
  },
  {
   "cell_type": "code",
   "execution_count": 124,
   "metadata": {},
   "outputs": [],
   "source": [
    "import json\n",
    "import os\n",
    "import pandas as pd\n",
    "\n",
    "from google.cloud import storage\n",
    "\n",
    "def get_columns(schemas_blob, ds_name):\n",
    "    schemas = json.loads(schemas_blob.download_as_string())\n",
    "    column_details = sorted(schemas[ds_name], key=lambda col: col['column_position'])\n",
    "    columns = list(map(lambda td: td['column_name'], column_details))\n",
    "    return columns\n",
    "\n",
    "\n",
    "def main(event, context):\n",
    "    \"\"\"Triggered by a change to a Cloud Storage bucket.\n",
    "    Args:\n",
    "         event (dict): Event payload.\n",
    "         context (google.cloud.functions.Context): Metadata for the event.\n",
    "    \"\"\"\n",
    "    tgt_bucket_name = os.environ.get('TGT_BUCKET_NAME')\n",
    "    schemas_file_path = os.environ.get('SCHEMAS_FILE_PATH')\n",
    "    src_bucket_name = event['bucket']\n",
    "    blob_name = event['name']\n",
    "    print(f'Processing file {blob_name} in bucket {src_bucket_name}')\n",
    "    gsclient = storage.Client()\n",
    "    src_bucket = gsclient.get_bucket(src_bucket_name)\n",
    "    schemas_blob = src_bucket.get_blob(schemas_file_path)\n",
    "    ds_name = blob_name.split('/')[-2]\n",
    "    columns = get_columns(schemas_blob, ds_name)\n",
    "    df = pd.read_csv(f'gs://{src_bucket_name}/{blob_name}', names=columns)\n",
    "    df.to_parquet(f'gs://{tgt_bucket_name}/{blob_name}.snappy.parquet')"
   ]
  },
  {
   "cell_type": "code",
   "execution_count": 125,
   "metadata": {},
   "outputs": [
    {
     "name": "stdout",
     "output_type": "stream",
     "text": [
      "env: TGT_BUCKET_NAME=airetailparquet\n"
     ]
    }
   ],
   "source": [
    "%env TGT_BUCKET_NAME=airetailparquet"
   ]
  },
  {
   "cell_type": "code",
   "execution_count": 126,
   "metadata": {},
   "outputs": [
    {
     "name": "stdout",
     "output_type": "stream",
     "text": [
      "env: SCHEMAS_FILE_PATH=retail_db/schemas.json\n"
     ]
    }
   ],
   "source": [
    "%env SCHEMAS_FILE_PATH=retail_db/schemas.json"
   ]
  },
  {
   "cell_type": "code",
   "execution_count": 127,
   "metadata": {},
   "outputs": [
    {
     "name": "stdout",
     "output_type": "stream",
     "text": [
      "Processing file retail_db/orders/part-00000 in bucket airetail\n"
     ]
    }
   ],
   "source": [
    "main(event, None)"
   ]
  },
  {
   "cell_type": "code",
   "execution_count": 81,
   "metadata": {},
   "outputs": [
    {
     "name": "stdout",
     "output_type": "stream",
     "text": [
      "gs://airetailparquet/retail_db/:\n",
      "\n",
      "gs://airetailparquet/retail_db/categories/:\n",
      "gs://airetailparquet/retail_db/categories/part-00000.snappy.parquet\n",
      "\n",
      "gs://airetailparquet/retail_db/customers/:\n",
      "gs://airetailparquet/retail_db/customers/part-00000.snappy.parquet\n",
      "\n",
      "gs://airetailparquet/retail_db/departments/:\n",
      "gs://airetailparquet/retail_db/departments/part-00000.snappy.parquet\n",
      "\n",
      "gs://airetailparquet/retail_db/order_items/:\n",
      "gs://airetailparquet/retail_db/order_items/part-00000.snappy.parquet\n",
      "\n",
      "gs://airetailparquet/retail_db/orders/:\n",
      "gs://airetailparquet/retail_db/orders/part-00000.snappy.parquet\n",
      "\n",
      "gs://airetailparquet/retail_db/products/:\n",
      "gs://airetailparquet/retail_db/products/part-00000.snappy.parquet\n"
     ]
    }
   ],
   "source": [
    "!gsutil ls -r gs://airetailparquet"
   ]
  },
  {
   "cell_type": "code",
   "execution_count": null,
   "metadata": {},
   "outputs": [],
   "source": []
  }
 ],
 "metadata": {
  "kernelspec": {
   "display_name": "Python 3.9.13 ('deg-venv': venv)",
   "language": "python",
   "name": "python3"
  },
  "language_info": {
   "codemirror_mode": {
    "name": "ipython",
    "version": 3
   },
   "file_extension": ".py",
   "mimetype": "text/x-python",
   "name": "python",
   "nbconvert_exporter": "python",
   "pygments_lexer": "ipython3",
   "version": "3.9.13"
  },
  "orig_nbformat": 4,
  "vscode": {
   "interpreter": {
    "hash": "4a9d607f6995d470a72ac62c14cbba774ae3a8ede2bb7bb3a284130b245adccf"
   }
  }
 },
 "nbformat": 4,
 "nbformat_minor": 2
}

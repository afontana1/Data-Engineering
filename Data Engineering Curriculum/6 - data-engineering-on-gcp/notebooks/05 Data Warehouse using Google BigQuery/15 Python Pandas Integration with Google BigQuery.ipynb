{
 "cells": [
  {
   "cell_type": "code",
   "execution_count": 1,
   "metadata": {},
   "outputs": [
    {
     "name": "stdout",
     "output_type": "stream",
     "text": [
      "Requirement already satisfied: pandas in /Users/itversity/Projects/Internal/bootcamp/itversity-material/data-engineering-on-gcp/deg-venv/lib/python3.9/site-packages (1.5.0)\n",
      "Requirement already satisfied: python-dateutil>=2.8.1 in /Users/itversity/Projects/Internal/bootcamp/itversity-material/data-engineering-on-gcp/deg-venv/lib/python3.9/site-packages (from pandas) (2.8.2)\n",
      "Requirement already satisfied: numpy>=1.20.3 in /Users/itversity/Projects/Internal/bootcamp/itversity-material/data-engineering-on-gcp/deg-venv/lib/python3.9/site-packages (from pandas) (1.23.3)\n",
      "Requirement already satisfied: pytz>=2020.1 in /Users/itversity/Projects/Internal/bootcamp/itversity-material/data-engineering-on-gcp/deg-venv/lib/python3.9/site-packages (from pandas) (2022.4)\n",
      "Requirement already satisfied: six>=1.5 in /Users/itversity/Projects/Internal/bootcamp/itversity-material/data-engineering-on-gcp/deg-venv/lib/python3.9/site-packages (from python-dateutil>=2.8.1->pandas) (1.16.0)\n",
      "\u001b[33mWARNING: You are using pip version 22.0.4; however, version 22.2.2 is available.\n",
      "You should consider upgrading via the '/Users/itversity/Projects/Internal/bootcamp/itversity-material/data-engineering-on-gcp/deg-venv/bin/python3.9 -m pip install --upgrade pip' command.\u001b[0m\u001b[33m\n",
      "\u001b[0m"
     ]
    }
   ],
   "source": [
    "!pip install pandas"
   ]
  },
  {
   "cell_type": "code",
   "execution_count": 2,
   "metadata": {},
   "outputs": [
    {
     "name": "stdout",
     "output_type": "stream",
     "text": [
      "Requirement already satisfied: google-cloud-bigquery in /Users/itversity/Projects/Internal/bootcamp/itversity-material/data-engineering-on-gcp/deg-venv/lib/python3.9/site-packages (3.3.5)\n",
      "Requirement already satisfied: packaging<22.0.0dev,>=14.3 in /Users/itversity/Projects/Internal/bootcamp/itversity-material/data-engineering-on-gcp/deg-venv/lib/python3.9/site-packages (from google-cloud-bigquery) (21.3)\n",
      "Requirement already satisfied: protobuf!=3.20.0,!=3.20.1,!=4.21.0,!=4.21.1,!=4.21.2,!=4.21.3,!=4.21.4,!=4.21.5,<5.0.0dev,>=3.19.5 in /Users/itversity/Projects/Internal/bootcamp/itversity-material/data-engineering-on-gcp/deg-venv/lib/python3.9/site-packages (from google-cloud-bigquery) (4.21.7)\n",
      "Requirement already satisfied: google-cloud-bigquery-storage<3.0.0dev,>=2.0.0 in /Users/itversity/Projects/Internal/bootcamp/itversity-material/data-engineering-on-gcp/deg-venv/lib/python3.9/site-packages (from google-cloud-bigquery) (2.16.2)\n",
      "Requirement already satisfied: google-cloud-core<3.0.0dev,>=1.4.1 in /Users/itversity/Projects/Internal/bootcamp/itversity-material/data-engineering-on-gcp/deg-venv/lib/python3.9/site-packages (from google-cloud-bigquery) (2.3.2)\n",
      "Requirement already satisfied: google-resumable-media<3.0dev,>=0.6.0 in /Users/itversity/Projects/Internal/bootcamp/itversity-material/data-engineering-on-gcp/deg-venv/lib/python3.9/site-packages (from google-cloud-bigquery) (2.4.0)\n",
      "Requirement already satisfied: grpcio<2.0dev,>=1.47.0 in /Users/itversity/Projects/Internal/bootcamp/itversity-material/data-engineering-on-gcp/deg-venv/lib/python3.9/site-packages (from google-cloud-bigquery) (1.49.1)\n",
      "Requirement already satisfied: proto-plus<2.0.0dev,>=1.22.0 in /Users/itversity/Projects/Internal/bootcamp/itversity-material/data-engineering-on-gcp/deg-venv/lib/python3.9/site-packages (from google-cloud-bigquery) (1.22.1)\n",
      "Requirement already satisfied: requests<3.0.0dev,>=2.18.0 in /Users/itversity/Projects/Internal/bootcamp/itversity-material/data-engineering-on-gcp/deg-venv/lib/python3.9/site-packages (from google-cloud-bigquery) (2.28.1)\n",
      "Requirement already satisfied: python-dateutil<3.0dev,>=2.7.2 in /Users/itversity/Projects/Internal/bootcamp/itversity-material/data-engineering-on-gcp/deg-venv/lib/python3.9/site-packages (from google-cloud-bigquery) (2.8.2)\n",
      "Requirement already satisfied: pyarrow<10.0dev,>=3.0.0 in /Users/itversity/Projects/Internal/bootcamp/itversity-material/data-engineering-on-gcp/deg-venv/lib/python3.9/site-packages (from google-cloud-bigquery) (9.0.0)\n",
      "Requirement already satisfied: google-api-core[grpc]!=2.0.*,!=2.1.*,!=2.2.*,!=2.3.0,<3.0.0dev,>=1.31.5 in /Users/itversity/Projects/Internal/bootcamp/itversity-material/data-engineering-on-gcp/deg-venv/lib/python3.9/site-packages (from google-cloud-bigquery) (2.10.1)\n",
      "Requirement already satisfied: googleapis-common-protos<2.0dev,>=1.56.2 in /Users/itversity/Projects/Internal/bootcamp/itversity-material/data-engineering-on-gcp/deg-venv/lib/python3.9/site-packages (from google-api-core[grpc]!=2.0.*,!=2.1.*,!=2.2.*,!=2.3.0,<3.0.0dev,>=1.31.5->google-cloud-bigquery) (1.56.4)\n",
      "Requirement already satisfied: google-auth<3.0dev,>=1.25.0 in /Users/itversity/Projects/Internal/bootcamp/itversity-material/data-engineering-on-gcp/deg-venv/lib/python3.9/site-packages (from google-api-core[grpc]!=2.0.*,!=2.1.*,!=2.2.*,!=2.3.0,<3.0.0dev,>=1.31.5->google-cloud-bigquery) (2.12.0)\n",
      "Requirement already satisfied: grpcio-status<2.0dev,>=1.33.2 in /Users/itversity/Projects/Internal/bootcamp/itversity-material/data-engineering-on-gcp/deg-venv/lib/python3.9/site-packages (from google-api-core[grpc]!=2.0.*,!=2.1.*,!=2.2.*,!=2.3.0,<3.0.0dev,>=1.31.5->google-cloud-bigquery) (1.49.1)\n",
      "Requirement already satisfied: google-crc32c<2.0dev,>=1.0 in /Users/itversity/Projects/Internal/bootcamp/itversity-material/data-engineering-on-gcp/deg-venv/lib/python3.9/site-packages (from google-resumable-media<3.0dev,>=0.6.0->google-cloud-bigquery) (1.5.0)\n",
      "Requirement already satisfied: six>=1.5.2 in /Users/itversity/Projects/Internal/bootcamp/itversity-material/data-engineering-on-gcp/deg-venv/lib/python3.9/site-packages (from grpcio<2.0dev,>=1.47.0->google-cloud-bigquery) (1.16.0)\n",
      "Requirement already satisfied: pyparsing!=3.0.5,>=2.0.2 in /Users/itversity/Projects/Internal/bootcamp/itversity-material/data-engineering-on-gcp/deg-venv/lib/python3.9/site-packages (from packaging<22.0.0dev,>=14.3->google-cloud-bigquery) (3.0.9)\n",
      "Requirement already satisfied: numpy>=1.16.6 in /Users/itversity/Projects/Internal/bootcamp/itversity-material/data-engineering-on-gcp/deg-venv/lib/python3.9/site-packages (from pyarrow<10.0dev,>=3.0.0->google-cloud-bigquery) (1.23.3)\n",
      "Requirement already satisfied: charset-normalizer<3,>=2 in /Users/itversity/Projects/Internal/bootcamp/itversity-material/data-engineering-on-gcp/deg-venv/lib/python3.9/site-packages (from requests<3.0.0dev,>=2.18.0->google-cloud-bigquery) (2.1.1)\n",
      "Requirement already satisfied: certifi>=2017.4.17 in /Users/itversity/Projects/Internal/bootcamp/itversity-material/data-engineering-on-gcp/deg-venv/lib/python3.9/site-packages (from requests<3.0.0dev,>=2.18.0->google-cloud-bigquery) (2022.9.24)\n",
      "Requirement already satisfied: urllib3<1.27,>=1.21.1 in /Users/itversity/Projects/Internal/bootcamp/itversity-material/data-engineering-on-gcp/deg-venv/lib/python3.9/site-packages (from requests<3.0.0dev,>=2.18.0->google-cloud-bigquery) (1.26.12)\n",
      "Requirement already satisfied: idna<4,>=2.5 in /Users/itversity/Projects/Internal/bootcamp/itversity-material/data-engineering-on-gcp/deg-venv/lib/python3.9/site-packages (from requests<3.0.0dev,>=2.18.0->google-cloud-bigquery) (3.4)\n",
      "Requirement already satisfied: pyasn1-modules>=0.2.1 in /Users/itversity/Projects/Internal/bootcamp/itversity-material/data-engineering-on-gcp/deg-venv/lib/python3.9/site-packages (from google-auth<3.0dev,>=1.25.0->google-api-core[grpc]!=2.0.*,!=2.1.*,!=2.2.*,!=2.3.0,<3.0.0dev,>=1.31.5->google-cloud-bigquery) (0.2.8)\n",
      "Requirement already satisfied: cachetools<6.0,>=2.0.0 in /Users/itversity/Projects/Internal/bootcamp/itversity-material/data-engineering-on-gcp/deg-venv/lib/python3.9/site-packages (from google-auth<3.0dev,>=1.25.0->google-api-core[grpc]!=2.0.*,!=2.1.*,!=2.2.*,!=2.3.0,<3.0.0dev,>=1.31.5->google-cloud-bigquery) (5.2.0)\n",
      "Requirement already satisfied: rsa<5,>=3.1.4 in /Users/itversity/Projects/Internal/bootcamp/itversity-material/data-engineering-on-gcp/deg-venv/lib/python3.9/site-packages (from google-auth<3.0dev,>=1.25.0->google-api-core[grpc]!=2.0.*,!=2.1.*,!=2.2.*,!=2.3.0,<3.0.0dev,>=1.31.5->google-cloud-bigquery) (4.9)\n",
      "Requirement already satisfied: pyasn1<0.5.0,>=0.4.6 in /Users/itversity/Projects/Internal/bootcamp/itversity-material/data-engineering-on-gcp/deg-venv/lib/python3.9/site-packages (from pyasn1-modules>=0.2.1->google-auth<3.0dev,>=1.25.0->google-api-core[grpc]!=2.0.*,!=2.1.*,!=2.2.*,!=2.3.0,<3.0.0dev,>=1.31.5->google-cloud-bigquery) (0.4.8)\n",
      "\u001b[33mWARNING: You are using pip version 22.0.4; however, version 22.2.2 is available.\n",
      "You should consider upgrading via the '/Users/itversity/Projects/Internal/bootcamp/itversity-material/data-engineering-on-gcp/deg-venv/bin/python3.9 -m pip install --upgrade pip' command.\u001b[0m\u001b[33m\n",
      "\u001b[0m"
     ]
    }
   ],
   "source": [
    "!pip install google-cloud-bigquery"
   ]
  },
  {
   "cell_type": "code",
   "execution_count": 3,
   "metadata": {},
   "outputs": [
    {
     "name": "stdout",
     "output_type": "stream",
     "text": [
      "Collecting pandas-gbq\n",
      "  Downloading pandas_gbq-0.17.9-py2.py3-none-any.whl (25 kB)\n",
      "Collecting db-dtypes<2.0.0,>=0.3.1\n",
      "  Downloading db_dtypes-1.0.4-py2.py3-none-any.whl (14 kB)\n",
      "Requirement already satisfied: google-cloud-bigquery!=2.4.*,<4.0.0dev,>=1.27.2 in /Users/itversity/Projects/Internal/bootcamp/itversity-material/data-engineering-on-gcp/deg-venv/lib/python3.9/site-packages (from pandas-gbq) (3.3.5)\n",
      "Requirement already satisfied: pyarrow<10.0dev,>=3.0.0 in /Users/itversity/Projects/Internal/bootcamp/itversity-material/data-engineering-on-gcp/deg-venv/lib/python3.9/site-packages (from pandas-gbq) (9.0.0)\n",
      "Requirement already satisfied: setuptools in /Users/itversity/Projects/Internal/bootcamp/itversity-material/data-engineering-on-gcp/deg-venv/lib/python3.9/site-packages (from pandas-gbq) (60.10.0)\n",
      "Requirement already satisfied: google-auth>=1.25.0 in /Users/itversity/Projects/Internal/bootcamp/itversity-material/data-engineering-on-gcp/deg-venv/lib/python3.9/site-packages (from pandas-gbq) (2.12.0)\n",
      "Collecting pydata-google-auth\n",
      "  Downloading pydata_google_auth-1.4.0-py2.py3-none-any.whl (14 kB)\n",
      "Requirement already satisfied: google-api-core!=2.0.*,!=2.1.*,!=2.2.*,!=2.3.0,<3.0.0dev,>=1.31.5 in /Users/itversity/Projects/Internal/bootcamp/itversity-material/data-engineering-on-gcp/deg-venv/lib/python3.9/site-packages (from pandas-gbq) (2.10.1)\n",
      "Requirement already satisfied: google-cloud-bigquery-storage<3.0.0dev,>=1.1.0 in /Users/itversity/Projects/Internal/bootcamp/itversity-material/data-engineering-on-gcp/deg-venv/lib/python3.9/site-packages (from pandas-gbq) (2.16.2)\n",
      "Requirement already satisfied: numpy>=1.16.6 in /Users/itversity/Projects/Internal/bootcamp/itversity-material/data-engineering-on-gcp/deg-venv/lib/python3.9/site-packages (from pandas-gbq) (1.23.3)\n",
      "Requirement already satisfied: google-auth-oauthlib>=0.0.1 in /Users/itversity/Projects/Internal/bootcamp/itversity-material/data-engineering-on-gcp/deg-venv/lib/python3.9/site-packages (from pandas-gbq) (0.5.3)\n",
      "Requirement already satisfied: pandas>=0.24.2 in /Users/itversity/Projects/Internal/bootcamp/itversity-material/data-engineering-on-gcp/deg-venv/lib/python3.9/site-packages (from pandas-gbq) (1.5.0)\n",
      "Requirement already satisfied: packaging>=17.0 in /Users/itversity/Projects/Internal/bootcamp/itversity-material/data-engineering-on-gcp/deg-venv/lib/python3.9/site-packages (from db-dtypes<2.0.0,>=0.3.1->pandas-gbq) (21.3)\n",
      "Requirement already satisfied: protobuf<5.0.0dev,>=3.20.1 in /Users/itversity/Projects/Internal/bootcamp/itversity-material/data-engineering-on-gcp/deg-venv/lib/python3.9/site-packages (from google-api-core!=2.0.*,!=2.1.*,!=2.2.*,!=2.3.0,<3.0.0dev,>=1.31.5->pandas-gbq) (4.21.7)\n",
      "Requirement already satisfied: requests<3.0.0dev,>=2.18.0 in /Users/itversity/Projects/Internal/bootcamp/itversity-material/data-engineering-on-gcp/deg-venv/lib/python3.9/site-packages (from google-api-core!=2.0.*,!=2.1.*,!=2.2.*,!=2.3.0,<3.0.0dev,>=1.31.5->pandas-gbq) (2.28.1)\n",
      "Requirement already satisfied: googleapis-common-protos<2.0dev,>=1.56.2 in /Users/itversity/Projects/Internal/bootcamp/itversity-material/data-engineering-on-gcp/deg-venv/lib/python3.9/site-packages (from google-api-core!=2.0.*,!=2.1.*,!=2.2.*,!=2.3.0,<3.0.0dev,>=1.31.5->pandas-gbq) (1.56.4)\n",
      "Requirement already satisfied: rsa<5,>=3.1.4 in /Users/itversity/Projects/Internal/bootcamp/itversity-material/data-engineering-on-gcp/deg-venv/lib/python3.9/site-packages (from google-auth>=1.25.0->pandas-gbq) (4.9)\n",
      "Requirement already satisfied: pyasn1-modules>=0.2.1 in /Users/itversity/Projects/Internal/bootcamp/itversity-material/data-engineering-on-gcp/deg-venv/lib/python3.9/site-packages (from google-auth>=1.25.0->pandas-gbq) (0.2.8)\n",
      "Requirement already satisfied: six>=1.9.0 in /Users/itversity/Projects/Internal/bootcamp/itversity-material/data-engineering-on-gcp/deg-venv/lib/python3.9/site-packages (from google-auth>=1.25.0->pandas-gbq) (1.16.0)\n",
      "Requirement already satisfied: cachetools<6.0,>=2.0.0 in /Users/itversity/Projects/Internal/bootcamp/itversity-material/data-engineering-on-gcp/deg-venv/lib/python3.9/site-packages (from google-auth>=1.25.0->pandas-gbq) (5.2.0)\n",
      "Requirement already satisfied: requests-oauthlib>=0.7.0 in /Users/itversity/Projects/Internal/bootcamp/itversity-material/data-engineering-on-gcp/deg-venv/lib/python3.9/site-packages (from google-auth-oauthlib>=0.0.1->pandas-gbq) (1.3.1)\n",
      "Requirement already satisfied: google-cloud-core<3.0.0dev,>=1.4.1 in /Users/itversity/Projects/Internal/bootcamp/itversity-material/data-engineering-on-gcp/deg-venv/lib/python3.9/site-packages (from google-cloud-bigquery!=2.4.*,<4.0.0dev,>=1.27.2->pandas-gbq) (2.3.2)\n",
      "Requirement already satisfied: google-resumable-media<3.0dev,>=0.6.0 in /Users/itversity/Projects/Internal/bootcamp/itversity-material/data-engineering-on-gcp/deg-venv/lib/python3.9/site-packages (from google-cloud-bigquery!=2.4.*,<4.0.0dev,>=1.27.2->pandas-gbq) (2.4.0)\n",
      "Requirement already satisfied: grpcio<2.0dev,>=1.47.0 in /Users/itversity/Projects/Internal/bootcamp/itversity-material/data-engineering-on-gcp/deg-venv/lib/python3.9/site-packages (from google-cloud-bigquery!=2.4.*,<4.0.0dev,>=1.27.2->pandas-gbq) (1.49.1)\n",
      "Requirement already satisfied: python-dateutil<3.0dev,>=2.7.2 in /Users/itversity/Projects/Internal/bootcamp/itversity-material/data-engineering-on-gcp/deg-venv/lib/python3.9/site-packages (from google-cloud-bigquery!=2.4.*,<4.0.0dev,>=1.27.2->pandas-gbq) (2.8.2)\n",
      "Requirement already satisfied: proto-plus<2.0.0dev,>=1.22.0 in /Users/itversity/Projects/Internal/bootcamp/itversity-material/data-engineering-on-gcp/deg-venv/lib/python3.9/site-packages (from google-cloud-bigquery!=2.4.*,<4.0.0dev,>=1.27.2->pandas-gbq) (1.22.1)\n",
      "Requirement already satisfied: pytz>=2020.1 in /Users/itversity/Projects/Internal/bootcamp/itversity-material/data-engineering-on-gcp/deg-venv/lib/python3.9/site-packages (from pandas>=0.24.2->pandas-gbq) (2022.4)\n",
      "Requirement already satisfied: grpcio-status<2.0dev,>=1.33.2 in /Users/itversity/Projects/Internal/bootcamp/itversity-material/data-engineering-on-gcp/deg-venv/lib/python3.9/site-packages (from google-api-core!=2.0.*,!=2.1.*,!=2.2.*,!=2.3.0,<3.0.0dev,>=1.31.5->pandas-gbq) (1.49.1)\n",
      "Requirement already satisfied: google-crc32c<2.0dev,>=1.0 in /Users/itversity/Projects/Internal/bootcamp/itversity-material/data-engineering-on-gcp/deg-venv/lib/python3.9/site-packages (from google-resumable-media<3.0dev,>=0.6.0->google-cloud-bigquery!=2.4.*,<4.0.0dev,>=1.27.2->pandas-gbq) (1.5.0)\n",
      "Requirement already satisfied: pyparsing!=3.0.5,>=2.0.2 in /Users/itversity/Projects/Internal/bootcamp/itversity-material/data-engineering-on-gcp/deg-venv/lib/python3.9/site-packages (from packaging>=17.0->db-dtypes<2.0.0,>=0.3.1->pandas-gbq) (3.0.9)\n",
      "Requirement already satisfied: pyasn1<0.5.0,>=0.4.6 in /Users/itversity/Projects/Internal/bootcamp/itversity-material/data-engineering-on-gcp/deg-venv/lib/python3.9/site-packages (from pyasn1-modules>=0.2.1->google-auth>=1.25.0->pandas-gbq) (0.4.8)\n",
      "Requirement already satisfied: certifi>=2017.4.17 in /Users/itversity/Projects/Internal/bootcamp/itversity-material/data-engineering-on-gcp/deg-venv/lib/python3.9/site-packages (from requests<3.0.0dev,>=2.18.0->google-api-core!=2.0.*,!=2.1.*,!=2.2.*,!=2.3.0,<3.0.0dev,>=1.31.5->pandas-gbq) (2022.9.24)\n",
      "Requirement already satisfied: charset-normalizer<3,>=2 in /Users/itversity/Projects/Internal/bootcamp/itversity-material/data-engineering-on-gcp/deg-venv/lib/python3.9/site-packages (from requests<3.0.0dev,>=2.18.0->google-api-core!=2.0.*,!=2.1.*,!=2.2.*,!=2.3.0,<3.0.0dev,>=1.31.5->pandas-gbq) (2.1.1)\n",
      "Requirement already satisfied: urllib3<1.27,>=1.21.1 in /Users/itversity/Projects/Internal/bootcamp/itversity-material/data-engineering-on-gcp/deg-venv/lib/python3.9/site-packages (from requests<3.0.0dev,>=2.18.0->google-api-core!=2.0.*,!=2.1.*,!=2.2.*,!=2.3.0,<3.0.0dev,>=1.31.5->pandas-gbq) (1.26.12)\n",
      "Requirement already satisfied: idna<4,>=2.5 in /Users/itversity/Projects/Internal/bootcamp/itversity-material/data-engineering-on-gcp/deg-venv/lib/python3.9/site-packages (from requests<3.0.0dev,>=2.18.0->google-api-core!=2.0.*,!=2.1.*,!=2.2.*,!=2.3.0,<3.0.0dev,>=1.31.5->pandas-gbq) (3.4)\n",
      "Requirement already satisfied: oauthlib>=3.0.0 in /Users/itversity/Projects/Internal/bootcamp/itversity-material/data-engineering-on-gcp/deg-venv/lib/python3.9/site-packages (from requests-oauthlib>=0.7.0->google-auth-oauthlib>=0.0.1->pandas-gbq) (3.2.1)\n",
      "Installing collected packages: db-dtypes, pydata-google-auth, pandas-gbq\n",
      "Successfully installed db-dtypes-1.0.4 pandas-gbq-0.17.9 pydata-google-auth-1.4.0\n",
      "\u001b[33mWARNING: You are using pip version 22.0.4; however, version 22.2.2 is available.\n",
      "You should consider upgrading via the '/Users/itversity/Projects/Internal/bootcamp/itversity-material/data-engineering-on-gcp/deg-venv/bin/python3.9 -m pip install --upgrade pip' command.\u001b[0m\u001b[33m\n",
      "\u001b[0m"
     ]
    }
   ],
   "source": [
    "!pip install pandas-gbq"
   ]
  },
  {
   "cell_type": "code",
   "execution_count": 4,
   "metadata": {},
   "outputs": [],
   "source": [
    "import pandas as pd\n"
   ]
  },
  {
   "cell_type": "code",
   "execution_count": 5,
   "metadata": {},
   "outputs": [],
   "source": [
    "project_id = 'tidy-fort-361710'\n"
   ]
  },
  {
   "cell_type": "code",
   "execution_count": 6,
   "metadata": {},
   "outputs": [],
   "source": [
    "query = f'''\n",
    "    SELECT order_status, count(*) AS order_count\n",
    "    FROM `{project_id}.retail.orders`\n",
    "    GROUP BY 1\n",
    "    ORDER BY 2 DESC\n",
    "'''"
   ]
  },
  {
   "cell_type": "code",
   "execution_count": 7,
   "metadata": {},
   "outputs": [],
   "source": [
    "df = pd.read_gbq(query, project_id=project_id)"
   ]
  },
  {
   "cell_type": "code",
   "execution_count": 8,
   "metadata": {},
   "outputs": [
    {
     "data": {
      "text/html": [
       "<div>\n",
       "<style scoped>\n",
       "    .dataframe tbody tr th:only-of-type {\n",
       "        vertical-align: middle;\n",
       "    }\n",
       "\n",
       "    .dataframe tbody tr th {\n",
       "        vertical-align: top;\n",
       "    }\n",
       "\n",
       "    .dataframe thead th {\n",
       "        text-align: right;\n",
       "    }\n",
       "</style>\n",
       "<table border=\"1\" class=\"dataframe\">\n",
       "  <thead>\n",
       "    <tr style=\"text-align: right;\">\n",
       "      <th></th>\n",
       "      <th>order_status</th>\n",
       "      <th>order_count</th>\n",
       "    </tr>\n",
       "  </thead>\n",
       "  <tbody>\n",
       "    <tr>\n",
       "      <th>0</th>\n",
       "      <td>COMPLETE</td>\n",
       "      <td>22899</td>\n",
       "    </tr>\n",
       "    <tr>\n",
       "      <th>1</th>\n",
       "      <td>PENDING_PAYMENT</td>\n",
       "      <td>15030</td>\n",
       "    </tr>\n",
       "    <tr>\n",
       "      <th>2</th>\n",
       "      <td>PROCESSING</td>\n",
       "      <td>8275</td>\n",
       "    </tr>\n",
       "    <tr>\n",
       "      <th>3</th>\n",
       "      <td>PENDING</td>\n",
       "      <td>7610</td>\n",
       "    </tr>\n",
       "    <tr>\n",
       "      <th>4</th>\n",
       "      <td>CLOSED</td>\n",
       "      <td>7556</td>\n",
       "    </tr>\n",
       "    <tr>\n",
       "      <th>5</th>\n",
       "      <td>ON_HOLD</td>\n",
       "      <td>3798</td>\n",
       "    </tr>\n",
       "    <tr>\n",
       "      <th>6</th>\n",
       "      <td>SUSPECTED_FRAUD</td>\n",
       "      <td>1558</td>\n",
       "    </tr>\n",
       "    <tr>\n",
       "      <th>7</th>\n",
       "      <td>CANCELED</td>\n",
       "      <td>1428</td>\n",
       "    </tr>\n",
       "    <tr>\n",
       "      <th>8</th>\n",
       "      <td>PAYMENT_REVIEW</td>\n",
       "      <td>729</td>\n",
       "    </tr>\n",
       "  </tbody>\n",
       "</table>\n",
       "</div>"
      ],
      "text/plain": [
       "      order_status  order_count\n",
       "0         COMPLETE        22899\n",
       "1  PENDING_PAYMENT        15030\n",
       "2       PROCESSING         8275\n",
       "3          PENDING         7610\n",
       "4           CLOSED         7556\n",
       "5          ON_HOLD         3798\n",
       "6  SUSPECTED_FRAUD         1558\n",
       "7         CANCELED         1428\n",
       "8   PAYMENT_REVIEW          729"
      ]
     },
     "execution_count": 8,
     "metadata": {},
     "output_type": "execute_result"
    }
   ],
   "source": [
    "df"
   ]
  },
  {
   "cell_type": "code",
   "execution_count": null,
   "metadata": {},
   "outputs": [],
   "source": []
  }
 ],
 "metadata": {
  "kernelspec": {
   "display_name": "Python 3.9.12 ('deg-venv': venv)",
   "language": "python",
   "name": "python3"
  },
  "language_info": {
   "codemirror_mode": {
    "name": "ipython",
    "version": 3
   },
   "file_extension": ".py",
   "mimetype": "text/x-python",
   "name": "python",
   "nbconvert_exporter": "python",
   "pygments_lexer": "ipython3",
   "version": "3.9.12"
  },
  "orig_nbformat": 4,
  "vscode": {
   "interpreter": {
    "hash": "4a9d607f6995d470a72ac62c14cbba774ae3a8ede2bb7bb3a284130b245adccf"
   }
  }
 },
 "nbformat": 4,
 "nbformat_minor": 2
}

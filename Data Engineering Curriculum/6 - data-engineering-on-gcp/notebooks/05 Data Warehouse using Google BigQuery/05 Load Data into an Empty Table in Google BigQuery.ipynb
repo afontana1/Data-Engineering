{
 "cells": [
  {
   "cell_type": "code",
   "execution_count": null,
   "metadata": {},
   "outputs": [],
   "source": [
    "!pip install google-cloud-bigquery"
   ]
  },
  {
   "cell_type": "code",
   "execution_count": 1,
   "metadata": {},
   "outputs": [],
   "source": [
    "from google.cloud import bigquery"
   ]
  },
  {
   "cell_type": "code",
   "execution_count": 2,
   "metadata": {},
   "outputs": [],
   "source": [
    "client = bigquery.Client()"
   ]
  },
  {
   "cell_type": "code",
   "execution_count": 3,
   "metadata": {},
   "outputs": [],
   "source": [
    "project_id = 'tidy-fort-361710'"
   ]
  },
  {
   "cell_type": "code",
   "execution_count": 4,
   "metadata": {},
   "outputs": [],
   "source": [
    "# Perform a query.\n",
    "QUERY = (\n",
    "    f'SELECT * FROM `{project_id}.retail.orders` '\n",
    "    'LIMIT 10')\n",
    "query_job = client.query(QUERY)  # API request\n",
    "rows = query_job.result()  # Waits for query to finish"
   ]
  },
  {
   "cell_type": "code",
   "execution_count": null,
   "metadata": {},
   "outputs": [],
   "source": [
    "type(rows)"
   ]
  },
  {
   "cell_type": "code",
   "execution_count": null,
   "metadata": {},
   "outputs": [],
   "source": [
    "\n",
    "for row in rows:\n",
    "    print(row.order_id)"
   ]
  },
  {
   "cell_type": "code",
   "execution_count": 5,
   "metadata": {},
   "outputs": [],
   "source": [
    "table_id = f\"{project_id}.retail.orders\""
   ]
  },
  {
   "cell_type": "code",
   "execution_count": null,
   "metadata": {},
   "outputs": [],
   "source": [
    "help(bigquery.LoadJobConfig)"
   ]
  },
  {
   "cell_type": "code",
   "execution_count": null,
   "metadata": {},
   "outputs": [],
   "source": [
    "job_config = bigquery.LoadJobConfig(\n",
    "    schema=[\n",
    "        bigquery.SchemaField(\"order_id\", \"INTEGER\"),\n",
    "        bigquery.SchemaField(\"order_date\", \"TIMESTAMP\"),\n",
    "        bigquery.SchemaField(\"order_customer_id\", \"INTEGER\"),\n",
    "        bigquery.SchemaField(\"order_status\", \"STRING\")\n",
    "    ],\n",
    ")\n"
   ]
  },
  {
   "cell_type": "code",
   "execution_count": null,
   "metadata": {},
   "outputs": [],
   "source": [
    "!gsutil ls gs://airetail/retail_db/orders/part-00000"
   ]
  },
  {
   "cell_type": "code",
   "execution_count": null,
   "metadata": {},
   "outputs": [],
   "source": [
    "help(client.load_table_from_uri)"
   ]
  },
  {
   "cell_type": "code",
   "execution_count": null,
   "metadata": {},
   "outputs": [],
   "source": [
    "uri = \"gs://airetail/retail_db/orders/part-00000\"\n",
    "\n",
    "load_job = client.load_table_from_uri(\n",
    "    uri, table_id, job_config=job_config\n",
    ")  # Make an API request.\n",
    "\n",
    "load_job.result()  # Wait for the job to complete."
   ]
  },
  {
   "cell_type": "code",
   "execution_count": 6,
   "metadata": {},
   "outputs": [
    {
     "name": "stdout",
     "output_type": "stream",
     "text": [
      "Loaded 68883 rows to table tidy-fort-361710.retail.orders\n"
     ]
    }
   ],
   "source": [
    "\n",
    "table = client.get_table(table_id)\n",
    "print(\"Loaded {} rows to table {}\".format(table.num_rows, table_id))"
   ]
  },
  {
   "cell_type": "code",
   "execution_count": 7,
   "metadata": {},
   "outputs": [
    {
     "name": "stdout",
     "output_type": "stream",
     "text": [
      "42834\n",
      "42851\n",
      "42864\n",
      "42888\n",
      "42890\n",
      "42896\n",
      "42898\n",
      "42899\n",
      "42906\n",
      "42913\n"
     ]
    }
   ],
   "source": [
    "# Perform a query.\n",
    "QUERY = (\n",
    "    f'''SELECT * FROM `{project_id}.retail.orders` LIMIT 10'''\n",
    ")\n",
    "query_job = client.query(QUERY)  # API request\n",
    "rows = query_job.result()  # Waits for query to finish\n",
    "\n",
    "for row in rows:\n",
    "    print(row.order_id)"
   ]
  },
  {
   "cell_type": "code",
   "execution_count": 8,
   "metadata": {},
   "outputs": [
    {
     "name": "stdout",
     "output_type": "stream",
     "text": [
      "<class 'google.cloud.bigquery.table.Row'>\n",
      "<class 'google.cloud.bigquery.table.Row'>\n",
      "<class 'google.cloud.bigquery.table.Row'>\n",
      "<class 'google.cloud.bigquery.table.Row'>\n",
      "<class 'google.cloud.bigquery.table.Row'>\n",
      "<class 'google.cloud.bigquery.table.Row'>\n",
      "<class 'google.cloud.bigquery.table.Row'>\n",
      "<class 'google.cloud.bigquery.table.Row'>\n",
      "<class 'google.cloud.bigquery.table.Row'>\n",
      "<class 'google.cloud.bigquery.table.Row'>\n"
     ]
    }
   ],
   "source": [
    "# Perform a query.\n",
    "QUERY = (\n",
    "    f'''SELECT * FROM `{project_id}.retail.orders` LIMIT 10'''\n",
    ")\n",
    "query_job = client.query(QUERY)  # API request\n",
    "rows = query_job.result()  # Waits for query to finish\n",
    "\n",
    "for row in rows:\n",
    "    print(type(row))"
   ]
  },
  {
   "cell_type": "code",
   "execution_count": 10,
   "metadata": {},
   "outputs": [
    {
     "name": "stdout",
     "output_type": "stream",
     "text": [
      "(42834, datetime.datetime(2014, 4, 16, 0, 0, tzinfo=datetime.timezone.utc), 4321, 'CLOSED')\n",
      "(42851, datetime.datetime(2014, 4, 16, 0, 0, tzinfo=datetime.timezone.utc), 5972, 'CLOSED')\n",
      "(42864, datetime.datetime(2014, 4, 16, 0, 0, tzinfo=datetime.timezone.utc), 6024, 'CLOSED')\n",
      "(42888, datetime.datetime(2014, 4, 16, 0, 0, tzinfo=datetime.timezone.utc), 3712, 'CLOSED')\n",
      "(42890, datetime.datetime(2014, 4, 16, 0, 0, tzinfo=datetime.timezone.utc), 1961, 'CLOSED')\n",
      "(42896, datetime.datetime(2014, 4, 16, 0, 0, tzinfo=datetime.timezone.utc), 7705, 'CLOSED')\n",
      "(42898, datetime.datetime(2014, 4, 16, 0, 0, tzinfo=datetime.timezone.utc), 7770, 'CLOSED')\n",
      "(42899, datetime.datetime(2014, 4, 16, 0, 0, tzinfo=datetime.timezone.utc), 3119, 'CLOSED')\n",
      "(42906, datetime.datetime(2014, 4, 16, 0, 0, tzinfo=datetime.timezone.utc), 6215, 'CLOSED')\n",
      "(42913, datetime.datetime(2014, 4, 16, 0, 0, tzinfo=datetime.timezone.utc), 10692, 'CLOSED')\n"
     ]
    }
   ],
   "source": [
    "# Perform a query.\n",
    "QUERY = (\n",
    "    f'''SELECT * FROM `{project_id}.retail.orders` LIMIT 10'''\n",
    ")\n",
    "query_job = client.query(QUERY)  # API request\n",
    "rows = query_job.result()  # Waits for query to finish\n",
    "\n",
    "for row in rows:\n",
    "    print(row.values())"
   ]
  },
  {
   "cell_type": "code",
   "execution_count": 12,
   "metadata": {},
   "outputs": [
    {
     "name": "stdout",
     "output_type": "stream",
     "text": [
      "('COMPLETE', 22899)\n",
      "('PENDING_PAYMENT', 15030)\n",
      "('PROCESSING', 8275)\n",
      "('PENDING', 7610)\n",
      "('CLOSED', 7556)\n",
      "('ON_HOLD', 3798)\n",
      "('SUSPECTED_FRAUD', 1558)\n",
      "('CANCELED', 1428)\n",
      "('PAYMENT_REVIEW', 729)\n"
     ]
    }
   ],
   "source": [
    "# Perform a query.\n",
    "QUERY = (f'''\n",
    "    SELECT order_status, count(*) AS order_count\n",
    "    FROM `{project_id}.retail.orders`\n",
    "    GROUP BY 1\n",
    "    ORDER BY 2 DESC\n",
    "''')\n",
    "query_job = client.query(QUERY)  # API request\n",
    "rows = query_job.result()  # Waits for query to finish\n",
    "\n",
    "for row in rows:\n",
    "    print(row.values())"
   ]
  },
  {
   "cell_type": "code",
   "execution_count": null,
   "metadata": {},
   "outputs": [],
   "source": []
  }
 ],
 "metadata": {
  "kernelspec": {
   "display_name": "Python 3.9.13 ('deg-venv': venv)",
   "language": "python",
   "name": "python3"
  },
  "language_info": {
   "codemirror_mode": {
    "name": "ipython",
    "version": 3
   },
   "file_extension": ".py",
   "mimetype": "text/x-python",
   "name": "python",
   "nbconvert_exporter": "python",
   "pygments_lexer": "ipython3",
   "version": "3.9.12"
  },
  "orig_nbformat": 4,
  "vscode": {
   "interpreter": {
    "hash": "4a9d607f6995d470a72ac62c14cbba774ae3a8ede2bb7bb3a284130b245adccf"
   }
  }
 },
 "nbformat": 4,
 "nbformat_minor": 2
}

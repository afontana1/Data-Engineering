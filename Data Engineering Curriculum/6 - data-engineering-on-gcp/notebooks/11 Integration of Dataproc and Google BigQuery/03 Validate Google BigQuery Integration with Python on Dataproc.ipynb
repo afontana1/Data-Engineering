{
 "cells": [
  {
   "cell_type": "code",
   "execution_count": 1,
   "metadata": {},
   "outputs": [],
   "source": [
    "from google.cloud import bigquery"
   ]
  },
  {
   "cell_type": "code",
   "execution_count": 2,
   "metadata": {},
   "outputs": [],
   "source": [
    "\n",
    "client = bigquery.Client()"
   ]
  },
  {
   "cell_type": "code",
   "execution_count": 8,
   "metadata": {},
   "outputs": [],
   "source": [
    "QUERY = (\n",
    "    'SELECT * FROM `tidy-fort-361710.retail.orders` '\n",
    "    'LIMIT 10'\n",
    ")"
   ]
  },
  {
   "cell_type": "code",
   "execution_count": 20,
   "metadata": {},
   "outputs": [],
   "source": [
    "query_job = client.query(QUERY)"
   ]
  },
  {
   "cell_type": "code",
   "execution_count": 10,
   "metadata": {},
   "outputs": [
    {
     "data": {
      "text/plain": [
       "google.cloud.bigquery.job.query.QueryJob"
      ]
     },
     "execution_count": 10,
     "metadata": {},
     "output_type": "execute_result"
    }
   ],
   "source": [
    "type(query_job)"
   ]
  },
  {
   "cell_type": "code",
   "execution_count": 21,
   "metadata": {},
   "outputs": [],
   "source": [
    "rows = query_job.result()"
   ]
  },
  {
   "cell_type": "code",
   "execution_count": 22,
   "metadata": {},
   "outputs": [
    {
     "name": "stdout",
     "output_type": "stream",
     "text": [
      "(1, datetime.datetime(2013, 7, 25, 0, 0, tzinfo=<UTC>), 11599, 'CLOSED')\n",
      "(2, datetime.datetime(2013, 7, 25, 0, 0, tzinfo=<UTC>), 256, 'PENDING_PAYMENT')\n",
      "(3, datetime.datetime(2013, 7, 25, 0, 0, tzinfo=<UTC>), 12111, 'COMPLETE')\n",
      "(4, datetime.datetime(2013, 7, 25, 0, 0, tzinfo=<UTC>), 8827, 'CLOSED')\n",
      "(5, datetime.datetime(2013, 7, 25, 0, 0, tzinfo=<UTC>), 11318, 'COMPLETE')\n",
      "(6, datetime.datetime(2013, 7, 25, 0, 0, tzinfo=<UTC>), 7130, 'COMPLETE')\n",
      "(7, datetime.datetime(2013, 7, 25, 0, 0, tzinfo=<UTC>), 4530, 'COMPLETE')\n",
      "(8, datetime.datetime(2013, 7, 25, 0, 0, tzinfo=<UTC>), 2911, 'PROCESSING')\n",
      "(9, datetime.datetime(2013, 7, 25, 0, 0, tzinfo=<UTC>), 5657, 'PENDING_PAYMENT')\n",
      "(10, datetime.datetime(2013, 7, 25, 0, 0, tzinfo=<UTC>), 5648, 'PENDING_PAYMENT')\n"
     ]
    }
   ],
   "source": [
    "\n",
    "for row in rows:\n",
    "    print(row.values())"
   ]
  },
  {
   "cell_type": "code",
   "execution_count": null,
   "metadata": {},
   "outputs": [],
   "source": []
  }
 ],
 "metadata": {
  "kernelspec": {
   "display_name": "Python 3.8.13 ('base')",
   "language": "python",
   "name": "python3"
  },
  "language_info": {
   "codemirror_mode": {
    "name": "ipython",
    "version": 3
   },
   "file_extension": ".py",
   "mimetype": "text/x-python",
   "name": "python",
   "nbconvert_exporter": "python",
   "pygments_lexer": "ipython3",
   "version": "3.8.13"
  },
  "orig_nbformat": 4,
  "vscode": {
   "interpreter": {
    "hash": "e234d837eebba94c7397b4e38c0b82bd3e4741cb2c390182a3fb441eaf8f3cd5"
   }
  }
 },
 "nbformat": 4,
 "nbformat_minor": 2
}

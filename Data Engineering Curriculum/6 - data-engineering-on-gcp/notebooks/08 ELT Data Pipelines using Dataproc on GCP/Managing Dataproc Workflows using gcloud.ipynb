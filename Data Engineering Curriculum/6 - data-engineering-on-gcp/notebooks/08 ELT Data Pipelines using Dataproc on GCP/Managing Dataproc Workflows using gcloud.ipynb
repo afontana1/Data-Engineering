{
 "cells": [
  {
   "cell_type": "markdown",
   "metadata": {},
   "source": [
    "## Manage Dataproc Workflows using gcloud Commands\n",
    "Let us see how we can manage Dataproc Workflows using gcloud commands.\n",
    "* Step 1: Create Dataproc Workflow Template\n",
    "* Step 2: Configure active Dataproc cluster (we can also configure new cluster)\n",
    "* Step 3: Add Spark SQL or Pyspark Jobs to Dataproc Workflow Templates with Dependencies\n",
    "* Step 4: Run and Validate the Dataproc Workflow Template\n",
    "\n",
    "We can take care of all the steps using `gcloud` commands."
   ]
  },
  {
   "cell_type": "code",
   "execution_count": null,
   "metadata": {},
   "outputs": [],
   "source": [
    "!gcloud config set dataproc/region us-central1"
   ]
  },
  {
   "cell_type": "code",
   "execution_count": null,
   "metadata": {},
   "outputs": [],
   "source": [
    "!gcloud dataproc workflow-templates"
   ]
  },
  {
   "cell_type": "code",
   "execution_count": null,
   "metadata": {},
   "outputs": [],
   "source": [
    "!gcloud dataproc workflow-templates list"
   ]
  },
  {
   "cell_type": "markdown",
   "metadata": {},
   "source": [
    "Here is the command to delete Dataproc Workflow Template (multiline approach doesn't work on Windows)\n",
    "\n",
    "```shell\n",
    "gcloud dataproc workflow-templates \\\n",
    "    delete wf-daily-product-revenue\n",
    "```"
   ]
  },
  {
   "cell_type": "code",
   "execution_count": null,
   "metadata": {},
   "outputs": [],
   "source": [
    "!gcloud dataproc workflow-templates delete wf-daily-product-revenue --quiet"
   ]
  },
  {
   "cell_type": "markdown",
   "metadata": {},
   "source": [
    "Here is the command to create Dataproc Workflow.\n",
    "\n",
    "```shell\n",
    "gcloud dataproc workflow-templates \\\n",
    "    create wf-daily-product-revenue\n",
    "```"
   ]
  },
  {
   "cell_type": "code",
   "execution_count": null,
   "metadata": {},
   "outputs": [],
   "source": [
    "!gcloud dataproc workflow-templates create"
   ]
  },
  {
   "cell_type": "code",
   "execution_count": null,
   "metadata": {},
   "outputs": [],
   "source": [
    "!gcloud dataproc workflow-templates create wf-daily-product-revenue"
   ]
  },
  {
   "cell_type": "code",
   "execution_count": null,
   "metadata": {},
   "outputs": [],
   "source": [
    "!gcloud dataproc workflow-templates list"
   ]
  },
  {
   "cell_type": "code",
   "execution_count": null,
   "metadata": {},
   "outputs": [],
   "source": [
    "!gcloud dataproc workflow-templates "
   ]
  },
  {
   "cell_type": "code",
   "execution_count": null,
   "metadata": {},
   "outputs": [],
   "source": [
    "!gcloud dataproc workflow-templates set-cluster-selector"
   ]
  },
  {
   "cell_type": "markdown",
   "metadata": {},
   "source": [
    "Here is the command to attach running or active Dataproc Cluster to the Dataproc Workflow. We need to specify the label for the cluster.\n",
    "\n",
    "```shell\n",
    "gcloud dataproc workflow-templates \\\n",
    "    set-cluster-selector \\\n",
    "    wf-daily-product-revenue \\\n",
    "    --cluster-labels goog-dataproc-cluster-name=aidataprocdev\n",
    "```"
   ]
  },
  {
   "cell_type": "code",
   "execution_count": null,
   "metadata": {},
   "outputs": [],
   "source": [
    "!gcloud dataproc workflow-templates set-cluster-selector wf-daily-product-revenue --cluster-labels goog-dataproc-cluster-name=aidataprocdev"
   ]
  },
  {
   "cell_type": "code",
   "execution_count": null,
   "metadata": {},
   "outputs": [],
   "source": [
    "!gcloud dataproc workflow-templates add-job"
   ]
  },
  {
   "cell_type": "code",
   "execution_count": null,
   "metadata": {},
   "outputs": [],
   "source": [
    "!gcloud dataproc workflow-templates add-job spark-sql"
   ]
  },
  {
   "cell_type": "markdown",
   "metadata": {},
   "source": [
    "* The command `gcloud dataproc workflow-templates add-job` is similar to `gcloud dataproc jobs submit`. Here are the examples for submitting jobs using `gcloud dataproc jobs submit`.\n",
    "\n",
    "```shell\n",
    "# Without parameters\n",
    "gcloud dataproc jobs submit \\\n",
    "    spark-sql --cluster=aidataprocdev \\\n",
    "    -f gs://airetail/scripts/daily_product_revenue/cleanup.sql\n",
    "\n",
    "# With parameters\n",
    "gcloud dataproc jobs submit \\\n",
    "    spark-sql --cluster=aidataprocdev \\\n",
    "    -f gs://airetail/scripts/daily_product_revenue/file_format_converter.sql \\\n",
    "    --params=bucket_name=gs://airetail,table_name=orders\n",
    "```\n"
   ]
  },
  {
   "cell_type": "markdown",
   "metadata": {},
   "source": [
    "Here are the commands to add Spark SQL Jobs to the Dataproc Workflow.\n",
    "\n",
    "```shell\n",
    "gcloud dataproc workflow-templates add-job spark-sql \\\n",
    "    --step-id=job-cleanup \\\n",
    "    --file=gs://airetail/scripts/daily_product_revenue/cleanup.sql \\\n",
    "    --workflow-template=wf-daily-product-revenue\n",
    "\n",
    "# File Format Converter jobs with dependency on cleanup\n",
    "gcloud dataproc workflow-templates add-job spark-sql \\\n",
    "    --step-id=job-convert-orders \\\n",
    "    --file=gs://airetail/scripts/daily_product_revenue/file_format_converter.sql \\\n",
    "    --params=bucket_name=gs://airetail,table_name=orders \\\n",
    "    --workflow-template=wf-daily-product-revenue \\\n",
    "    --start-after=job-cleanup\n",
    "\n",
    "gcloud dataproc workflow-templates add-job spark-sql \\\n",
    "    --step-id=job-convert-order-items \\\n",
    "    --file=gs://airetail/scripts/daily_product_revenue/file_format_converter.sql \\\n",
    "    --params=bucket_name=gs://airetail,table_name=order_items \\\n",
    "    --workflow-template=wf-daily-product-revenue \\\n",
    "    --start-after=job-cleanup\n",
    "\n",
    "# Last Job which depends on convert orders and order_items jobs\n",
    "gcloud dataproc workflow-templates add-job spark-sql \\\n",
    "    --step-id=job-daily-product-revenue \\\n",
    "    --file=gs://airetail/scripts/daily_product_revenue/compute_daily_product_revenue.sql \\\n",
    "    --params=bucket_name=gs://airetail \\\n",
    "    --workflow-template=wf-daily-product-revenue \\\n",
    "    --start-after=job-convert-orders,job-convert-order-items\n",
    "```"
   ]
  },
  {
   "cell_type": "code",
   "execution_count": null,
   "metadata": {},
   "outputs": [],
   "source": [
    "!gcloud dataproc workflow-templates add-job spark-sql --step-id=job-cleanup --file=gs://airetail/scripts/daily_product_revenue/cleanup.sql --workflow-template=wf-daily-product-revenue"
   ]
  },
  {
   "cell_type": "code",
   "execution_count": null,
   "metadata": {},
   "outputs": [],
   "source": [
    "\n",
    "!gcloud dataproc workflow-templates add-job spark-sql --step-id=job-convert-orders --file=gs://airetail/scripts/daily_product_revenue/file_format_converter.sql --params=bucket_name=gs://airetail,table_name=orders --workflow-template=wf-daily-product-revenue --start-after=job-cleanup"
   ]
  },
  {
   "cell_type": "code",
   "execution_count": null,
   "metadata": {},
   "outputs": [],
   "source": [
    "!gcloud dataproc workflow-templates add-job spark-sql --step-id=job-convert-order-items --file=gs://airetail/scripts/daily_product_revenue/file_format_converter.sql --params=bucket_name=gs://airetail,table_name=order_items --workflow-template=wf-daily-product-revenue --start-after=job-cleanup"
   ]
  },
  {
   "cell_type": "code",
   "execution_count": null,
   "metadata": {},
   "outputs": [],
   "source": [
    "!gcloud dataproc workflow-templates add-job spark-sql --step-id=job-daily-product-revenue --file=gs://airetail/scripts/daily_product_revenue/compute_daily_product_revenue.sql --params=bucket_name=gs://airetail --workflow-template=wf-daily-product-revenue --start-after=job-convert-orders,job-convert-order-items"
   ]
  },
  {
   "cell_type": "code",
   "execution_count": null,
   "metadata": {},
   "outputs": [],
   "source": [
    "!gcloud dataproc workflow-templates list"
   ]
  },
  {
   "cell_type": "code",
   "execution_count": null,
   "metadata": {},
   "outputs": [],
   "source": [
    "!gcloud dataproc workflow-templates describe wf-daily-product-revenue"
   ]
  },
  {
   "cell_type": "markdown",
   "metadata": {},
   "source": [
    "Here is the command to instantiate or run Dataproc Workflow.\n",
    "\n",
    "```shell\n",
    "gcloud dataproc workflow-templates \\\n",
    "    instantiate wf-daily-product-revenue\n",
    "```"
   ]
  },
  {
   "cell_type": "code",
   "execution_count": null,
   "metadata": {},
   "outputs": [],
   "source": [
    "!gcloud dataproc workflow-templates"
   ]
  },
  {
   "cell_type": "code",
   "execution_count": null,
   "metadata": {},
   "outputs": [],
   "source": [
    "!gcloud dataproc workflow-templates instantiate"
   ]
  },
  {
   "cell_type": "code",
   "execution_count": null,
   "metadata": {},
   "outputs": [],
   "source": [
    "!gcloud dataproc workflow-templates instantiate-from-file"
   ]
  },
  {
   "cell_type": "code",
   "execution_count": null,
   "metadata": {},
   "outputs": [],
   "source": [
    "!gcloud dataproc workflow-templates instantiate-from-file --help"
   ]
  },
  {
   "cell_type": "code",
   "execution_count": null,
   "metadata": {},
   "outputs": [],
   "source": [
    "!gcloud dataproc workflow-templates export"
   ]
  },
  {
   "cell_type": "code",
   "execution_count": null,
   "metadata": {},
   "outputs": [],
   "source": [
    "!gcloud dataproc workflow-templates export wf-daily-product-revenue"
   ]
  },
  {
   "cell_type": "code",
   "execution_count": null,
   "metadata": {},
   "outputs": [],
   "source": [
    "# This will take some time to run\n",
    "\n",
    "!gcloud dataproc workflow-templates instantiate wf-daily-product-revenue"
   ]
  },
  {
   "cell_type": "code",
   "execution_count": null,
   "metadata": {},
   "outputs": [],
   "source": []
  }
 ],
 "metadata": {
  "kernelspec": {
   "display_name": "Python 3.7.3 64-bit",
   "language": "python",
   "name": "python3"
  },
  "language_info": {
   "codemirror_mode": {
    "name": "ipython",
    "version": 3
   },
   "file_extension": ".py",
   "mimetype": "text/x-python",
   "name": "python",
   "nbconvert_exporter": "python",
   "pygments_lexer": "ipython3",
   "version": "3.7.3"
  },
  "orig_nbformat": 4,
  "vscode": {
   "interpreter": {
    "hash": "31f2aee4e71d21fbe5cf8b01ff0e069b9275f58929596ceb00d14d90e3e16cd6"
   }
  }
 },
 "nbformat": 4,
 "nbformat_minor": 2
}

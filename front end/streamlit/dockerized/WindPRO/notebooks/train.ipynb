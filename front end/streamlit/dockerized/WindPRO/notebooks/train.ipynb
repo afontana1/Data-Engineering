{
 "cells": [
  {
   "cell_type": "code",
   "execution_count": 1,
   "metadata": {},
   "outputs": [
    {
     "name": "stderr",
     "output_type": "stream",
     "text": [
      "/Users/krystianpietrzak/Documents/ML/WindPRO/.conda/lib/python3.10/site-packages/pydantic/_internal/_fields.py:128: UserWarning: Field \"model_server_url\" has conflict with protected namespace \"model_\".\n",
      "\n",
      "You may be able to resolve this warning by setting `model_config['protected_namespaces'] = ()`.\n",
      "  warnings.warn(\n",
      "/Users/krystianpietrzak/Documents/ML/WindPRO/.conda/lib/python3.10/site-packages/pydantic/_internal/_config.py:317: UserWarning: Valid config keys have changed in V2:\n",
      "* 'schema_extra' has been renamed to 'json_schema_extra'\n",
      "  warnings.warn(message, UserWarning)\n"
     ]
    }
   ],
   "source": [
    "from sqlalchemy import create_engine\n",
    "from dotenv import load_dotenv\n",
    "import os\n",
    "import pandas as pd\n",
    "import mlflow\n",
    "import datetime"
   ]
  },
  {
   "cell_type": "markdown",
   "metadata": {},
   "source": [
    "\n",
    "# 1. Connection Settings"
   ]
  },
  {
   "cell_type": "code",
   "execution_count": 2,
   "metadata": {},
   "outputs": [],
   "source": [
    "# Load .env file\n",
    "load_dotenv()\n",
    "\n",
    "# Get the EC2 tracking server host from the environment variable\n",
    "EC2_TRACKING_SERVER_HOST = os.getenv('EC2_TRACKING_SERVER_HOST')\n",
    "EC2_ENDPOINT = f\"http://{EC2_TRACKING_SERVER_HOST}:8000\"\n",
    "MLFLOW_ENDPOINT = f\"http://{EC2_TRACKING_SERVER_HOST}:5000\"\n",
    "\n",
    "# Parameters for the RDS PostgreSQL instance\n",
    "PG_HOST = os.getenv('PG_HOST')\n",
    "PG_PORT = os.getenv('PG_PORT')\n",
    "PG_DATABASE = os.getenv('PG_DATABASE')\n",
    "PG_USER = os.getenv('PG_USER')\n",
    "PG_PASSWORD = os.getenv('PG_PASSWORD')\n",
    "\n",
    "# Create the MySQL database connection string\n",
    "db_url = f'postgresql+psycopg2://{PG_USER}:{PG_PASSWORD}@{PG_HOST}:{PG_PORT}/{PG_DATABASE}'"
   ]
  },
  {
   "cell_type": "code",
   "execution_count": 3,
   "metadata": {},
   "outputs": [],
   "source": [
    "def select_from_rds(query):\n",
    "    engine = create_engine(db_url)\n",
    "    connection = engine.connect()\n",
    "    df = pd.read_sql(query, connection)\n",
    "    connection.close()\n",
    "    return df"
   ]
  },
  {
   "cell_type": "markdown",
   "metadata": {},
   "source": [
    "# 2. Experiment Setup"
   ]
  },
  {
   "cell_type": "code",
   "execution_count": 4,
   "metadata": {},
   "outputs": [],
   "source": [
    "mlflow.set_tracking_uri(MLFLOW_ENDPOINT) "
   ]
  },
  {
   "cell_type": "code",
   "execution_count": 5,
   "metadata": {},
   "outputs": [],
   "source": [
    "def get_experiment_id(experiment_name):\n",
    "    try:\n",
    "        print('Trying to create an experiment...')\n",
    "        id = mlflow.create_experiment(experiment_name, artifact_location=\"s3://mlflow-artifacts-krystianpi\")\n",
    "    except:\n",
    "        print(f'Experiment {experiment_name} exists')\n",
    "        id = mlflow.get_experiment_by_name(experiment_name).experiment_id\n",
    "    return id"
   ]
  },
  {
   "cell_type": "code",
   "execution_count": 6,
   "metadata": {},
   "outputs": [
    {
     "name": "stdout",
     "output_type": "stream",
     "text": [
      "Trying to create an experiment...\n"
     ]
    }
   ],
   "source": [
    "today = datetime.datetime.now().strftime('%Y-%m-%d-%H-%M')\n",
    "id = get_experiment_id('test_notebook')\n",
    "run_name = f'test_run_{today}'"
   ]
  },
  {
   "cell_type": "markdown",
   "metadata": {},
   "source": [
    "# 3. Experiment "
   ]
  },
  {
   "cell_type": "code",
   "execution_count": 7,
   "metadata": {},
   "outputs": [],
   "source": [
    "with mlflow.start_run(experiment_id=id ,run_name=run_name) as run:\n",
    "    pass"
   ]
  }
 ],
 "metadata": {
  "kernelspec": {
   "display_name": "Python 3",
   "language": "python",
   "name": "python3"
  },
  "language_info": {
   "codemirror_mode": {
    "name": "ipython",
    "version": 3
   },
   "file_extension": ".py",
   "mimetype": "text/x-python",
   "name": "python",
   "nbconvert_exporter": "python",
   "pygments_lexer": "ipython3",
   "version": "3.10.12"
  }
 },
 "nbformat": 4,
 "nbformat_minor": 2
}

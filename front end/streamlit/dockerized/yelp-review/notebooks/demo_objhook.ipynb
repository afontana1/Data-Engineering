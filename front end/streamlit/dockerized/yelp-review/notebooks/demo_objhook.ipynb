{
 "cells": [
  {
   "cell_type": "markdown",
   "metadata": {},
   "source": [
    "https://pynative.com/python-convert-json-data-into-custom-python-object/"
   ]
  },
  {
   "cell_type": "code",
   "execution_count": 13,
   "metadata": {},
   "outputs": [],
   "source": [
    "CFGLog = {\n",
    "    \"data\": {\n",
    "        \"path\": \"./data/yelp.csv\",\n",
    "        \"x\": \"text\",\n",
    "        \"y\": \"stars\",\n",
    "        \"test_size\": 0.2,\n",
    "        \"random_state\": 2022,\n",
    "        \"ngram_range\": (1, 2),\n",
    "        \"min_df\": 10\n",
    "\n",
    "    },\n",
    "    \"train\": {\n",
    "            \"solver\": \"liblinear\",\n",
    "            \"max_iter\": 1000,\n",
    "            \"random_state\": 2022,\n",
    "            \"C\": 0.01,\n",
    "            \"penalty\": \"l2\",\n",
    "    },\n",
    "    \"output\": {\n",
    "        \"output_path\": \"./data/exported_models/\",\n",
    "        \"model_name\": \"20230217_152148_LogReg.pickle\",\n",
    "    }\n",
    "}"
   ]
  },
  {
   "cell_type": "code",
   "execution_count": 14,
   "metadata": {},
   "outputs": [],
   "source": [
    "import json\n",
    "class Config:\n",
    "    \"\"\"Config class which contains data, train and model hyperparameters\"\"\"\n",
    "\n",
    "    def __init__(self, data, train, output):\n",
    "        self.data = data\n",
    "        # self.datapath = os.path.\n",
    "        self.train = train\n",
    "        self.output = output\n",
    "\n",
    "    @classmethod # using config to define constructor of the class\n",
    "    def from_json(cls, cfg):\n",
    "        \"\"\"Creates config from json\"\"\"\n",
    "        params = json.loads(json.dumps(cfg), object_hook=HelperDict)\n",
    "        # init all class instance with data and train attributes\n",
    "        return cls(params.data, params.train, params.output) \n",
    "\n",
    "\n",
    "class HelperDict(object):\n",
    "    \"\"\"Helper class to convert json into Python object\"\"\"\n",
    "    def __init__(self, dict_):\n",
    "        self.__dict__.update(dict_)"
   ]
  },
  {
   "cell_type": "code",
   "execution_count": 15,
   "metadata": {},
   "outputs": [],
   "source": [
    "class DemoClassifier():\n",
    "    def __init__(self, config):\n",
    "        self.config = Config.from_json(config)"
   ]
  },
  {
   "cell_type": "code",
   "execution_count": 16,
   "metadata": {},
   "outputs": [
    {
     "data": {
      "text/plain": [
       "{'path': './data/yelp.csv',\n",
       " 'x': 'text',\n",
       " 'y': 'stars',\n",
       " 'test_size': 0.2,\n",
       " 'random_state': 2022,\n",
       " 'ngram_range': [1, 2],\n",
       " 'min_df': 10}"
      ]
     },
     "execution_count": 16,
     "metadata": {},
     "output_type": "execute_result"
    }
   ],
   "source": [
    "clf = DemoClassifier(CFGLog)\n",
    "clf.config.data.__dict__"
   ]
  }
 ],
 "metadata": {
  "kernelspec": {
   "display_name": "venv",
   "language": "python",
   "name": "python3"
  },
  "language_info": {
   "codemirror_mode": {
    "name": "ipython",
    "version": 3
   },
   "file_extension": ".py",
   "mimetype": "text/x-python",
   "name": "python",
   "nbconvert_exporter": "python",
   "pygments_lexer": "ipython3",
   "version": "3.9.10"
  },
  "orig_nbformat": 4,
  "vscode": {
   "interpreter": {
    "hash": "56c60349980dbc812633e0178218017b9281b8abb7530174d97057b1d59c6a06"
   }
  }
 },
 "nbformat": 4,
 "nbformat_minor": 2
}

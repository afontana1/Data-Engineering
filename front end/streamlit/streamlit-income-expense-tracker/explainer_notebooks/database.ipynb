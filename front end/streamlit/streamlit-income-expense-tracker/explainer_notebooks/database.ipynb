{
 "cells": [
  {
   "cell_type": "code",
   "execution_count": null,
   "id": "30413aa4",
   "metadata": {},
   "outputs": [],
   "source": [
    "from deta import Deta  # pip install deta"
   ]
  },
  {
   "cell_type": "code",
   "execution_count": null,
   "id": "bdace43d",
   "metadata": {},
   "outputs": [],
   "source": [
    "DETA_KEY = \"<YOUR DETA KEY>\"\n",
    "\n",
    "# Initialize with a project key\n",
    "deta = Deta(DETA_KEY)\n",
    "\n",
    "# This is how to create/connect a database\n",
    "db = deta.Base(\"monthly_reports\")"
   ]
  },
  {
   "cell_type": "code",
   "execution_count": null,
   "id": "d65bd157",
   "metadata": {},
   "outputs": [],
   "source": [
    "def insert_period(period, incomes, expenses, comment):\n",
    "    \"\"\"Returns the user on a successful user creation, otherwise raises and error\"\"\"\n",
    "    return db.put({\"key\": period, \"incomes\": incomes, \"expenses\": expenses, \"comment\": comment})\n",
    "\n",
    "\n",
    "def fetch_all_periods():\n",
    "    \"\"\"Returns a dict of all periods\"\"\"\n",
    "    res = db.fetch()\n",
    "    return res.items\n",
    "\n",
    "\n",
    "def get_period(period):\n",
    "    \"\"\"If not found, the function will return None\"\"\"\n",
    "    return db.get(period)"
   ]
  },
  {
   "cell_type": "code",
   "execution_count": null,
   "id": "b532ec9b",
   "metadata": {},
   "outputs": [],
   "source": [
    "# Example Data\n",
    "period = \"2022_April\"\n",
    "comment = \"Some comment\"\n",
    "incomes = {'Salary': 1500, 'Blog': 50, 'Other Income': 10}\n",
    "expenses = {'Rent': 600, 'Utilities': 200, 'Groceries': 300,\n",
    "            'Car': 100, 'Other Expenses': 50, 'Saving': 10}"
   ]
  },
  {
   "cell_type": "code",
   "execution_count": null,
   "id": "2a890947",
   "metadata": {},
   "outputs": [],
   "source": [
    "insert_period(period, incomes, expenses, comment)"
   ]
  },
  {
   "cell_type": "code",
   "execution_count": null,
   "id": "7bc0db91",
   "metadata": {},
   "outputs": [],
   "source": [
    "fetch_all_periods()"
   ]
  },
  {
   "cell_type": "code",
   "execution_count": null,
   "id": "6436a6cd",
   "metadata": {},
   "outputs": [],
   "source": [
    "get_period(\"2022_April\")"
   ]
  }
 ],
 "metadata": {
  "kernelspec": {
   "display_name": "Python 3",
   "language": "python",
   "name": "python3"
  },
  "language_info": {
   "codemirror_mode": {
    "name": "ipython",
    "version": 3
   },
   "file_extension": ".py",
   "mimetype": "text/x-python",
   "name": "python",
   "nbconvert_exporter": "python",
   "pygments_lexer": "ipython3",
   "version": "3.8.5"
  }
 },
 "nbformat": 4,
 "nbformat_minor": 5
}
